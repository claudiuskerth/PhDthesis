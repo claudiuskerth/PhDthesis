{
 "cells": [
  {
   "cell_type": "markdown",
   "metadata": {},
   "source": [
    "List files in current working directory:"
   ]
  },
  {
   "cell_type": "code",
   "execution_count": 1,
   "metadata": {
    "collapsed": false
   },
   "outputs": [],
   "source": [
    "import os"
   ]
  },
  {
   "cell_type": "code",
   "execution_count": 3,
   "metadata": {
    "collapsed": false
   },
   "outputs": [
    {
     "name": "stdout",
     "output_type": "stream",
     "text": [
      "a.bamlist\t\t ery_30-3.sorted.bam\t   par_34-15.bam\r\n",
      "ALL.bamlist\t\t ery_30-4.bam\t\t   par_34-15.sorted.bam\r\n",
      "Big_Data.ipynb\t\t ery_30-4.sorted.bam\t   par_34-16.bam\r\n",
      "ery_30-10.bam\t\t ery_30-5.bam\t\t   par_34-16.sorted.bam\r\n",
      "ery_30-10.sorted.bam\t ery_30-5.sorted.bam\t   par_34-17.bam\r\n",
      "ery_30-11.bam\t\t ery_30-6.bam\t\t   par_34-17.sorted.bam\r\n",
      "ery_30-11.sorted.bam\t ery_30-6.sorted.bam\t   par_34-18.bam\r\n",
      "ery_30-12.bam\t\t ery_30-7.bam\t\t   par_34-18.sorted.bam\r\n",
      "ery_30-12.sorted.bam\t ery_30-7.sorted.bam\t   par_34-1.bam\r\n",
      "ery_30-13.bam\t\t ery_30-8.bam\t\t   par_34-1.sorted.bam\r\n",
      "ery_30-13.sorted.bam\t ery_30-8.sorted.bam\t   par_34-2.bam\r\n",
      "ery_30-14.bam\t\t ery_30-9.bam\t\t   par_34-2.sorted.bam\r\n",
      "ery_30-14.sorted.bam\t ery_30-9.sorted.bam\t   par_34-3.bam\r\n",
      "ery_30-15.bam\t\t ery_mpileup.log\t   par_34-3.sorted.bam\r\n",
      "ery_30-15.sorted.bam\t exclude_contigs.SEposgt2  par_34-4.bam\r\n",
      "ery_30-15.sorted.cov.gz  nohup.out\t\t   par_34-4.sorted.bam\r\n",
      "ery_30-16.bam\t\t par_34-10.bam\t\t   par_34-5.bam\r\n",
      "ery_30-16.sorted.bam\t par_34-10.sorted.bam\t   par_34-5.sorted.bam\r\n",
      "ery_30-17.bam\t\t par_34-11.bam\t\t   par_34-6.bam\r\n",
      "ery_30-17.sorted.bam\t par_34-11.sorted.bam\t   par_34-6.sorted.bam\r\n",
      "ery_30-18.bam\t\t par_34-12.bam\t\t   par_34-7.bam\r\n",
      "ery_30-18.sorted.bam\t par_34-12.sorted.bam\t   par_34-7.sorted.bam\r\n",
      "ery_30-1.bam\t\t par_34-13.bam\t\t   par_34-8.bam\r\n",
      "ery_30-1.sorted.bam\t par_34-13.sorted.bam\t   par_34-8.sorted.bam\r\n",
      "ery_30-2.bam\t\t par_34-14.bam\t\t   par_34-9.bam\r\n",
      "ery_30-2.sorted.bam\t par_34-14.sorted.bam\t   par_34-9.sorted.bam\r\n",
      "ery_30-3.bam\t\t par_34-14.sorted.cov.gz\r\n"
     ]
    }
   ],
   "source": [
    "!ls"
   ]
  },
  {
   "cell_type": "markdown",
   "metadata": {},
   "source": [
    "If a `ery_30-15.sorted.cov` does not exist yet, create one using `bamtools coverage`:"
   ]
  },
  {
   "cell_type": "code",
   "execution_count": 11,
   "metadata": {
    "collapsed": false
   },
   "outputs": [
    {
     "name": "stdout",
     "output_type": "stream",
     "text": [
      "file already exists\n"
     ]
    }
   ],
   "source": [
    "if not os.path.exists(\"ery_30-15.sorted.cov.gz\"):\n",
    "    try:\n",
    "        # 'call' is from the subprocess module\n",
    "        retcode = os.system(\"bamtools coverage -in ery_30-15.sorted.bam | gzip > ery_30-15.sorted.cov.gz\")\n",
    "        if retcode < 0:\n",
    "            print \"Child was terminated by signal\", -retcode\n",
    "        else:\n",
    "            print \"Child returned\", retcode\n",
    "    except OSError as e:\n",
    "        print \"Execution failed\", e\n",
    "else:\n",
    "    print \"file already exists\""
   ]
  },
  {
   "cell_type": "markdown",
   "metadata": {},
   "source": [
    "Let's have a quick look at the new coverage file:"
   ]
  },
  {
   "cell_type": "code",
   "execution_count": 12,
   "metadata": {
    "collapsed": false
   },
   "outputs": [
    {
     "name": "stdout",
     "output_type": "stream",
     "text": [
      "Contig_29981\t1\t349\r\n",
      "Contig_29981\t2\t349\r\n",
      "Contig_29981\t3\t349\r\n",
      "Contig_29981\t4\t349\r\n",
      "Contig_29981\t5\t349\r\n",
      "Contig_29981\t6\t349\r\n",
      "Contig_29981\t7\t349\r\n",
      "Contig_29981\t8\t349\r\n",
      "Contig_29981\t9\t349\r\n",
      "Contig_29981\t10\t349\r\n",
      "\r\n",
      "gzip: stdout: Broken pipe\r\n"
     ]
    }
   ],
   "source": [
    "!gzip -dc ery_30-15.sorted.cov.gz | head"
   ]
  },
  {
   "cell_type": "markdown",
   "metadata": {},
   "source": [
    "The file has three columns: contig ID TAB position TAB coverage. The position should be 0-based, since I have padded the contigs with an \"N\" at beginning and end, so that the lowest mapping position should be 2 with 1-based coordinates."
   ]
  },
  {
   "cell_type": "markdown",
   "metadata": {},
   "source": [
    "Let's tally the coverage:"
   ]
  },
  {
   "cell_type": "code",
   "execution_count": 16,
   "metadata": {
    "collapsed": false
   },
   "outputs": [
    {
     "name": "stdout",
     "output_type": "stream",
     "text": [
      "349\n",
      "349\n",
      "349\n",
      "349\n",
      "349\n",
      "349\n",
      "349\n",
      "349\n",
      "349\n",
      "349\n"
     ]
    }
   ],
   "source": [
    "with os.popen(\"gzip -dc ery_30-15.sorted.cov.gz | cut -f 3\", \"r\") as cov:\n",
    "    for _ in xrange(10):\n",
    "        print cov.readline().rstrip()"
   ]
  },
  {
   "cell_type": "code",
   "execution_count": 65,
   "metadata": {
    "collapsed": false
   },
   "outputs": [],
   "source": [
    "CovCountDict = {}\n",
    "with os.popen(\"gzip -dc ery_30-15.sorted.cov.gz | cut -f 3\", \"r\") as cov:\n",
    "    for c in cov:\n",
    "        c = int(c.rstrip())\n",
    "        try:\n",
    "            CovCountDict[c] += 1\n",
    "        except KeyError:\n",
    "            CovCountDict[c] = 1"
   ]
  },
  {
   "cell_type": "code",
   "execution_count": 71,
   "metadata": {
    "collapsed": false
   },
   "outputs": [
    {
     "data": {
      "text/plain": [
       "[(0, 7398174),\n",
       " (1, 2829384),\n",
       " (2, 2102379),\n",
       " (3, 1737193),\n",
       " (4, 1449721),\n",
       " (5, 1215765),\n",
       " (6, 1012149),\n",
       " (7, 832564),\n",
       " (8, 706481),\n",
       " (9, 579169),\n",
       " (10, 470103),\n",
       " (11, 388198),\n",
       " (12, 321944),\n",
       " (13, 263423),\n",
       " (14, 219163),\n",
       " (15, 181047),\n",
       " (16, 153764),\n",
       " (17, 125069),\n",
       " (18, 112219),\n",
       " (19, 98572),\n",
       " (20, 84427),\n",
       " (21, 73044),\n",
       " (22, 63984),\n",
       " (23, 58634),\n",
       " (24, 49832),\n",
       " (25, 44177),\n",
       " (26, 38411),\n",
       " (27, 35327),\n",
       " (28, 29849),\n",
       " (29, 27619),\n",
       " (30, 25231),\n",
       " (31, 22986),\n",
       " (32, 20835),\n",
       " (33, 19784),\n",
       " (34, 17969),\n",
       " (35, 16187),\n",
       " (36, 15126),\n",
       " (37, 13872),\n",
       " (38, 13569),\n",
       " (39, 11730),\n",
       " (40, 11411),\n",
       " (41, 10189),\n",
       " (42, 10235),\n",
       " (43, 10397),\n",
       " (44, 9079),\n",
       " (45, 8006),\n",
       " (46, 8412),\n",
       " (47, 8199),\n",
       " (48, 6755),\n",
       " (49, 6818),\n",
       " (50, 6778),\n",
       " (51, 6541),\n",
       " (52, 6061),\n",
       " (53, 5584),\n",
       " (54, 5880),\n",
       " (55, 5044),\n",
       " (56, 5101),\n",
       " (57, 4946),\n",
       " (58, 4516),\n",
       " (59, 4401),\n",
       " (60, 4559),\n",
       " (61, 4367),\n",
       " (62, 4252),\n",
       " (63, 4491),\n",
       " (64, 3553),\n",
       " (65, 3714),\n",
       " (66, 3752),\n",
       " (67, 3634),\n",
       " (68, 3533),\n",
       " (69, 3180),\n",
       " (70, 3252),\n",
       " (71, 3264),\n",
       " (72, 2946),\n",
       " (73, 2902),\n",
       " (74, 2714),\n",
       " (75, 2618),\n",
       " (76, 2986),\n",
       " (77, 2156),\n",
       " (78, 2808),\n",
       " (79, 2300),\n",
       " (80, 2364),\n",
       " (81, 2574),\n",
       " (82, 2415),\n",
       " (83, 2430),\n",
       " (84, 2441),\n",
       " (85, 2281),\n",
       " (86, 2240),\n",
       " (87, 2164),\n",
       " (88, 2055),\n",
       " (89, 1931),\n",
       " (90, 2115),\n",
       " (91, 1855),\n",
       " (92, 1506),\n",
       " (93, 1504),\n",
       " (94, 1812),\n",
       " (95, 1915),\n",
       " (96, 2049),\n",
       " (97, 1558),\n",
       " (98, 1969),\n",
       " (99, 1446)]"
      ]
     },
     "execution_count": 71,
     "metadata": {},
     "output_type": "execute_result"
    }
   ],
   "source": [
    "# sort key-value pairs by key (coverage) and show the first 100: \n",
    "cov_sorted = sorted(CovCountDict.items(), key=lambda e: e[0])\n",
    "cov_sorted[:100]"
   ]
  },
  {
   "cell_type": "code",
   "execution_count": 48,
   "metadata": {
    "collapsed": true
   },
   "outputs": [],
   "source": [
    "import pylab\n",
    "%matplotlib inline"
   ]
  },
  {
   "cell_type": "code",
   "execution_count": 72,
   "metadata": {
    "collapsed": false
   },
   "outputs": [
    {
     "data": {
      "text/plain": [
       "<matplotlib.text.Text at 0x7f8647dba590>"
      ]
     },
     "execution_count": 72,
     "metadata": {},
     "output_type": "execute_result"
    },
    {
     "data": {
      "image/png": "[encoded data removed]",
      "text/plain": [
       "<matplotlib.figure.Figure at 0x7f8648287310>"
      ]
     },
     "metadata": {},
     "output_type": "display_data"
    }
   ],
   "source": [
    "pylab.plot([i[0] for i in cov_sorted][:50], [i[1] for i in cov_sorted][:50])\n",
    "pylab.title(\"Coverage distribution\")\n",
    "pylab.xlabel(\"coverage\")\n",
    "pylab.ylabel(\"count\")"
   ]
  },
  {
   "cell_type": "code",
   "execution_count": 78,
   "metadata": {
    "collapsed": false
   },
   "outputs": [
    {
     "data": {
      "image/png": "[encoded data removed]",
      "text/plain": [
       "<matplotlib.figure.Figure at 0x7f864780c0d0>"
      ]
     },
     "metadata": {},
     "output_type": "display_data"
    }
   ],
   "source": [
    "coverage = [i[0] for i in cov_sorted]\n",
    "counts = [i[1] for i in cov_sorted]\n",
    "pylab.hist(coverage, weights=counts, bins=50, range=(0,50), normed=True, cumulative=True, histtype=\"step\")\n",
    "pylab.title(\"Coverage distribution\")\n",
    "pylab.xlabel(\"coverage\")\n",
    "pylab.ylabel(\"count\")\n",
    "pylab.grid()"
   ]
  },
  {
   "cell_type": "code",
   "execution_count": 61,
   "metadata": {
    "collapsed": false
   },
   "outputs": [
    {
     "data": {
      "text/plain": [
       "1545"
      ]
     },
     "execution_count": 61,
     "metadata": {},
     "output_type": "execute_result"
    }
   ],
   "source": [
    "len(count.keys())"
   ]
  },
  {
   "cell_type": "code",
   "execution_count": null,
   "metadata": {
    "collapsed": true
   },
   "outputs": [],
   "source": []
  }
 ],
 "metadata": {
  "anaconda-cloud": {},
  "kernelspec": {
   "display_name": "Python [default]",
   "language": "python",
   "name": "python2"
  },
  "language_info": {
   "codemirror_mode": {
    "name": "ipython",
    "version": 2
   },
   "file_extension": ".py",
   "mimetype": "text/x-python",
   "name": "python",
   "nbconvert_exporter": "python",
   "pygments_lexer": "ipython2",
   "version": "2.7.12"
  }
 },
 "nbformat": 4,
 "nbformat_minor": 0
}
