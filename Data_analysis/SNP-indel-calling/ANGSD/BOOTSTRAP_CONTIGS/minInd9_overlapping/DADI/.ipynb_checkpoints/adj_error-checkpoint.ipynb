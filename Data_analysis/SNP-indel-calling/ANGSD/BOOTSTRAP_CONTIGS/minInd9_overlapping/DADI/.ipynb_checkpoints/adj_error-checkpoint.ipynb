{
 "cells": [
  {
   "cell_type": "markdown",
   "metadata": {
    "toc": "true"
   },
   "source": [
    "# Table of Contents\n",
    " <p><div class=\"lev1 toc-item\"><a href=\"#Preparation\" data-toc-modified-id=\"Preparation-1\"><span class=\"toc-item-num\">1&nbsp;&nbsp;</span>Preparation</a></div><div class=\"lev1 toc-item\"><a href=\"#Model-definition\" data-toc-modified-id=\"Model-definition-2\"><span class=\"toc-item-num\">2&nbsp;&nbsp;</span>Model definition</a></div><div class=\"lev1 toc-item\"><a href=\"#LRT\" data-toc-modified-id=\"LRT-3\"><span class=\"toc-item-num\">3&nbsp;&nbsp;</span>LRT</a></div><div class=\"lev2 toc-item\"><a href=\"#get-optimal-parameter-values\" data-toc-modified-id=\"get-optimal-parameter-values-31\"><span class=\"toc-item-num\">3.1&nbsp;&nbsp;</span>get optimal parameter values</a></div><div class=\"lev2 toc-item\"><a href=\"#get-bootstrap-replicates\" data-toc-modified-id=\"get-bootstrap-replicates-32\"><span class=\"toc-item-num\">3.2&nbsp;&nbsp;</span>get bootstrap replicates</a></div><div class=\"lev2 toc-item\"><a href=\"#calculate-adjustment-for-D\" data-toc-modified-id=\"calculate-adjustment-for-D-33\"><span class=\"toc-item-num\">3.3&nbsp;&nbsp;</span>calculate adjustment for D</a></div>"
   ]
  },
  {
   "cell_type": "markdown",
   "metadata": {},
   "source": [
    "# Preparation"
   ]
  },
  {
   "cell_type": "code",
   "execution_count": 7,
   "metadata": {
    "collapsed": false
   },
   "outputs": [
    {
     "data": {
      "text/plain": [
       "[0, 1, 2, 3, 4, 5, 6, 7, 8, 9, 10, 11]"
      ]
     },
     "execution_count": 7,
     "metadata": {},
     "output_type": "execute_result"
    }
   ],
   "source": [
    "from ipyparallel import Client\n",
    "\n",
    "cl = Client()\n",
    "\n",
    "cl.ids"
   ]
  },
  {
   "cell_type": "code",
   "execution_count": 9,
   "metadata": {
    "collapsed": false
   },
   "outputs": [],
   "source": [
    "%%px --local\n",
    "\n",
    "# run whole cell on all engines a well as in the local IPython session\n",
    "\n",
    "import numpy as np\n",
    "\n",
    "import sys\n",
    "\n",
    "sys.path.insert(0, '/home/claudius/Downloads/dadi')\n",
    "\n",
    "import dadi"
   ]
  },
  {
   "cell_type": "code",
   "execution_count": 13,
   "metadata": {
    "collapsed": true
   },
   "outputs": [],
   "source": [
    "from glob import glob\n",
    "import dill\n",
    "import pandas as pd\n",
    "# turn on floating point division by default, old behaviour via '//'\n",
    "from __future__ import division\n",
    "from itertools import repeat"
   ]
  },
  {
   "cell_type": "code",
   "execution_count": 12,
   "metadata": {
    "collapsed": true
   },
   "outputs": [],
   "source": [
    "def flatten(array):\n",
    "    import numpy as np\n",
    "    res  = []\n",
    "    for el in array:\n",
    "        if isinstance(el, (list, tuple, np.ndarray)):\n",
    "            res.extend(flatten(el))\n",
    "            continue\n",
    "        res.append(el)\n",
    "    return list(res)"
   ]
  },
  {
   "cell_type": "code",
   "execution_count": 14,
   "metadata": {
    "collapsed": true
   },
   "outputs": [],
   "source": [
    "%matplotlib inline\n",
    "\n",
    "import pylab\n",
    "\n",
    "pylab.rcParams['figure.figsize'] = [10, 8]\n",
    "pylab.rcParams['font.size'] = 12"
   ]
  },
  {
   "cell_type": "code",
   "execution_count": 15,
   "metadata": {
    "collapsed": true
   },
   "outputs": [],
   "source": [
    "%%px --local\n",
    "\n",
    "# load spectrum\n",
    "\n",
    "sfs2d = dadi.Spectrum.from_file(\"EryPar.unfolded.sfs.dadi\")\n",
    "\n",
    "sfs2d = sfs2d.transpose()\n",
    "\n",
    "sfs2d.pop_ids = ['ery', 'par']\n",
    "\n",
    "sfs2d = sfs2d.fold()"
   ]
  },
  {
   "cell_type": "code",
   "execution_count": 31,
   "metadata": {
    "collapsed": true
   },
   "outputs": [],
   "source": [
    "ns = sfs2d.sample_sizes # both populations have the same sample size\n",
    "# setting the smallest grid size slightly larger than the largest population sample size (36)\n",
    "pts_l = [40, 50, 60]"
   ]
  },
  {
   "cell_type": "code",
   "execution_count": 16,
   "metadata": {
    "collapsed": false
   },
   "outputs": [
    {
     "data": {
      "image/png": "[encoded data removed]",
      "text/plain": [
       "<matplotlib.figure.Figure at 0x7fea91746510>"
      ]
     },
     "metadata": {},
     "output_type": "display_data"
    }
   ],
   "source": [
    "dadi.Plotting.plot_single_2d_sfs(sfs2d, vmin=1, cmap='jet')\n",
    "pylab.savefig(\"2DSFS_folded.png\")"
   ]
  },
  {
   "cell_type": "code",
   "execution_count": 17,
   "metadata": {
    "collapsed": false
   },
   "outputs": [
    {
     "data": {
      "text/plain": [
       "74058.258862000002"
      ]
     },
     "execution_count": 17,
     "metadata": {},
     "output_type": "execute_result"
    }
   ],
   "source": [
    "# get number of segregating sites from SFS\n",
    "\n",
    "sfs2d.S()"
   ]
  },
  {
   "cell_type": "markdown",
   "metadata": {},
   "source": [
    "# Model definition"
   ]
  },
  {
   "cell_type": "code",
   "execution_count": 20,
   "metadata": {
    "collapsed": true
   },
   "outputs": [],
   "source": [
    "def split_asym_mig_2epoch(params, ns, pts):\n",
    "    \"\"\"\n",
    "    params = (nu1_1,nu2_1,T1,nu1_2,nu2_2,T2,m1,m2)\n",
    "    ns = (n1,n2)\n",
    "\n",
    "    Split into two populations of specified size, with potentially asymmetric migration.\n",
    "    The split coincides with a stepwise size change in the daughter populations. Then,\n",
    "    have a second stepwise size change at some point in time after the split. This is\n",
    "    enforced to happen at the same time for both populations. Migration is assumed to\n",
    "    be the same during both epochs.\n",
    "\n",
    "    nu1_1: pop size ratio of pop 1 after split (with respect to Na)\n",
    "    nu2_1: pop size ratio of pop 2 after split (with respect to Na)\n",
    "    T1: Time from split to second size change (in units of 2*Na generations)\n",
    "    nu1_2: pop size ratio of pop 1 after second size change (with respect to Na)\n",
    "    nu2_2: pop size ratio of pop 2 after second size change (with respect to Na)\n",
    "    T2: time in past of second size change (in units of 2*Na generations)\n",
    "    m1: Migration rate from ery into par (in units of 2*Na ind per generation)\n",
    "    m2: Migration rate from par into ery (in units of 2*Na ind per generation)\n",
    "    n1,n2: Sample sizes of resulting Spectrum\n",
    "    pts: Number of grid points to use in integration.\n",
    "    \"\"\"\n",
    "    nu1_1,nu2_1,T1,nu1_2,nu2_2,T2,m1,m2 = params\n",
    "\n",
    "    xx = dadi.Numerics.default_grid(pts)\n",
    "\n",
    "    phi = dadi.PhiManip.phi_1D(xx)\n",
    "    \n",
    "    # split\n",
    "    phi = dadi.PhiManip.phi_1D_to_2D(xx, phi) \n",
    "    \n",
    "    # divergence with potentially asymmetric migration for time T1\n",
    "    phi = dadi.Integration.two_pops(phi, xx, T1, nu1_1, nu2_1, m12=m2, m21=m1)\n",
    "    \n",
    "    # divergence with potentially asymmetric migration and different pop size for time T2\n",
    "    phi = dadi.Integration.two_pops(phi, xx, T2, nu1_2, nu2_2, m12=m2, m21=m1)\n",
    "\n",
    "    fs = dadi.Spectrum.from_phi(phi, ns, (xx,xx))\n",
    "    return fs"
   ]
  },
  {
   "cell_type": "code",
   "execution_count": 21,
   "metadata": {
    "collapsed": false
   },
   "outputs": [
    {
     "data": {
      "text/plain": [
       "<AsyncResult: _push>"
      ]
     },
     "execution_count": 21,
     "metadata": {},
     "output_type": "execute_result"
    }
   ],
   "source": [
    "cl[:].push(dict(split_asym_mig_2epoch=split_asym_mig_2epoch))"
   ]
  },
  {
   "cell_type": "code",
   "execution_count": 22,
   "metadata": {
    "collapsed": true
   },
   "outputs": [],
   "source": [
    "%%px --local\n",
    "\n",
    "func_ex = dadi.Numerics.make_extrap_log_func(split_asym_mig_2epoch)"
   ]
  },
  {
   "cell_type": "markdown",
   "metadata": {},
   "source": [
    "# LRT"
   ]
  },
  {
   "cell_type": "markdown",
   "metadata": {},
   "source": [
    "## get optimal parameter values"
   ]
  },
  {
   "cell_type": "code",
   "execution_count": 26,
   "metadata": {
    "collapsed": true
   },
   "outputs": [],
   "source": [
    "ar_split_asym_mig_2epoch = []\n",
    "\n",
    "for filename in glob(\"OUT_2D_models/split_asym_mig_2epoch_[0-9]*dill\"):\n",
    "    ar_split_asym_mig_2epoch.append(dill.load(open(filename)))"
   ]
  },
  {
   "cell_type": "code",
   "execution_count": 27,
   "metadata": {
    "collapsed": false
   },
   "outputs": [
    {
     "data": {
      "text/html": [
       "<div>\n",
       "<table border=\"1\" class=\"dataframe\">\n",
       "  <thead>\n",
       "    <tr style=\"text-align: right;\">\n",
       "      <th></th>\n",
       "      <th>Nery_1_opt</th>\n",
       "      <th>Npar_1_opt</th>\n",
       "      <th>T1_opt</th>\n",
       "      <th>Nery_2_opt</th>\n",
       "      <th>Npar_2_opt</th>\n",
       "      <th>T2_opt</th>\n",
       "      <th>m1_opt</th>\n",
       "      <th>m2_opt</th>\n",
       "      <th>-logL</th>\n",
       "    </tr>\n",
       "  </thead>\n",
       "  <tbody>\n",
       "    <tr>\n",
       "      <th>54</th>\n",
       "      <td>1.180322</td>\n",
       "      <td>4.224369</td>\n",
       "      <td>1.305451</td>\n",
       "      <td>0.001521</td>\n",
       "      <td>0.000204</td>\n",
       "      <td>0.000004</td>\n",
       "      <td>0.073085</td>\n",
       "      <td>0.446359</td>\n",
       "      <td>20982.526833</td>\n",
       "    </tr>\n",
       "    <tr>\n",
       "      <th>5</th>\n",
       "      <td>1.180378</td>\n",
       "      <td>4.205816</td>\n",
       "      <td>1.312479</td>\n",
       "      <td>0.002233</td>\n",
       "      <td>0.000290</td>\n",
       "      <td>0.000006</td>\n",
       "      <td>0.073855</td>\n",
       "      <td>0.447633</td>\n",
       "      <td>20982.532393</td>\n",
       "    </tr>\n",
       "    <tr>\n",
       "      <th>56</th>\n",
       "      <td>1.175075</td>\n",
       "      <td>4.203757</td>\n",
       "      <td>1.300775</td>\n",
       "      <td>0.000930</td>\n",
       "      <td>0.000109</td>\n",
       "      <td>0.000002</td>\n",
       "      <td>0.075546</td>\n",
       "      <td>0.447390</td>\n",
       "      <td>20982.723846</td>\n",
       "    </tr>\n",
       "    <tr>\n",
       "      <th>83</th>\n",
       "      <td>1.169501</td>\n",
       "      <td>4.202159</td>\n",
       "      <td>1.297666</td>\n",
       "      <td>0.005561</td>\n",
       "      <td>0.000677</td>\n",
       "      <td>0.000015</td>\n",
       "      <td>0.074289</td>\n",
       "      <td>0.448665</td>\n",
       "      <td>20982.790328</td>\n",
       "    </tr>\n",
       "    <tr>\n",
       "      <th>74</th>\n",
       "      <td>1.172117</td>\n",
       "      <td>4.242323</td>\n",
       "      <td>1.303625</td>\n",
       "      <td>0.000735</td>\n",
       "      <td>0.000104</td>\n",
       "      <td>0.000002</td>\n",
       "      <td>0.073029</td>\n",
       "      <td>0.452092</td>\n",
       "      <td>20982.871519</td>\n",
       "    </tr>\n",
       "    <tr>\n",
       "      <th>10</th>\n",
       "      <td>1.183049</td>\n",
       "      <td>4.210313</td>\n",
       "      <td>1.318657</td>\n",
       "      <td>0.007550</td>\n",
       "      <td>0.000996</td>\n",
       "      <td>0.000021</td>\n",
       "      <td>0.074353</td>\n",
       "      <td>0.447146</td>\n",
       "      <td>20982.980916</td>\n",
       "    </tr>\n",
       "    <tr>\n",
       "      <th>82</th>\n",
       "      <td>1.165580</td>\n",
       "      <td>4.173705</td>\n",
       "      <td>1.292696</td>\n",
       "      <td>0.001082</td>\n",
       "      <td>0.000126</td>\n",
       "      <td>0.000003</td>\n",
       "      <td>0.074776</td>\n",
       "      <td>0.447536</td>\n",
       "      <td>20983.246448</td>\n",
       "    </tr>\n",
       "    <tr>\n",
       "      <th>44</th>\n",
       "      <td>1.165255</td>\n",
       "      <td>4.254676</td>\n",
       "      <td>1.290567</td>\n",
       "      <td>0.007847</td>\n",
       "      <td>0.000908</td>\n",
       "      <td>0.000020</td>\n",
       "      <td>0.073576</td>\n",
       "      <td>0.453979</td>\n",
       "      <td>20983.477970</td>\n",
       "    </tr>\n",
       "    <tr>\n",
       "      <th>4</th>\n",
       "      <td>1.168138</td>\n",
       "      <td>4.208114</td>\n",
       "      <td>1.296292</td>\n",
       "      <td>0.027746</td>\n",
       "      <td>0.002976</td>\n",
       "      <td>0.000063</td>\n",
       "      <td>0.074726</td>\n",
       "      <td>0.450898</td>\n",
       "      <td>20983.571595</td>\n",
       "    </tr>\n",
       "    <tr>\n",
       "      <th>64</th>\n",
       "      <td>1.166949</td>\n",
       "      <td>4.188640</td>\n",
       "      <td>1.292719</td>\n",
       "      <td>0.004425</td>\n",
       "      <td>0.000392</td>\n",
       "      <td>0.000008</td>\n",
       "      <td>0.074622</td>\n",
       "      <td>0.448445</td>\n",
       "      <td>20983.699495</td>\n",
       "    </tr>\n",
       "  </tbody>\n",
       "</table>\n",
       "</div>"
      ],
      "text/plain": [
       "    Nery_1_opt  Npar_1_opt    T1_opt  Nery_2_opt  Npar_2_opt    T2_opt  \\\n",
       "54    1.180322    4.224369  1.305451    0.001521    0.000204  0.000004   \n",
       "5     1.180378    4.205816  1.312479    0.002233    0.000290  0.000006   \n",
       "56    1.175075    4.203757  1.300775    0.000930    0.000109  0.000002   \n",
       "83    1.169501    4.202159  1.297666    0.005561    0.000677  0.000015   \n",
       "74    1.172117    4.242323  1.303625    0.000735    0.000104  0.000002   \n",
       "10    1.183049    4.210313  1.318657    0.007550    0.000996  0.000021   \n",
       "82    1.165580    4.173705  1.292696    0.001082    0.000126  0.000003   \n",
       "44    1.165255    4.254676  1.290567    0.007847    0.000908  0.000020   \n",
       "4     1.168138    4.208114  1.296292    0.027746    0.002976  0.000063   \n",
       "64    1.166949    4.188640  1.292719    0.004425    0.000392  0.000008   \n",
       "\n",
       "      m1_opt    m2_opt         -logL  \n",
       "54  0.073085  0.446359  20982.526833  \n",
       "5   0.073855  0.447633  20982.532393  \n",
       "56  0.075546  0.447390  20982.723846  \n",
       "83  0.074289  0.448665  20982.790328  \n",
       "74  0.073029  0.452092  20982.871519  \n",
       "10  0.074353  0.447146  20982.980916  \n",
       "82  0.074776  0.447536  20983.246448  \n",
       "44  0.073576  0.453979  20983.477970  \n",
       "4   0.074726  0.450898  20983.571595  \n",
       "64  0.074622  0.448445  20983.699495  "
      ]
     },
     "execution_count": 27,
     "metadata": {},
     "output_type": "execute_result"
    }
   ],
   "source": [
    "l = 2*8+1\n",
    "\n",
    "returned = [flatten(out)[:l] for out in ar_split_asym_mig_2epoch]\n",
    "\n",
    "df = pd.DataFrame(data=returned, \\\n",
    "                 columns=['ery_1_0','par_1_0','T1_0','ery_2_0','par_2_0','T2_0','m1_0','m2_0', 'Nery_1_opt','Npar_1_opt','T1_opt','Nery_2_opt','Npar_2_opt','T2_opt','m1_opt','m2_opt','-logL'])\n",
    "\n",
    "df.sort_values(by='-logL', ascending=True).iloc[:10,8:17]"
   ]
  },
  {
   "cell_type": "code",
   "execution_count": 28,
   "metadata": {
    "collapsed": false
   },
   "outputs": [
    {
     "data": {
      "text/plain": [
       "array([  1.18032249e+00,   4.22436943e+00,   1.30545083e+00,\n",
       "         1.52089601e-03,   2.04056174e-04,   4.35483086e-06,\n",
       "         7.30850573e-02,   4.46359343e-01])"
      ]
     },
     "execution_count": 28,
     "metadata": {},
     "output_type": "execute_result"
    }
   ],
   "source": [
    "# optimal parameter values for complex model\n",
    "\n",
    "popt_c = np.array(df.sort_values(by='-logL', ascending=True).iloc[0, 8:16]) # take the 8th best parameter combination\n",
    "popt_c"
   ]
  },
  {
   "cell_type": "markdown",
   "metadata": {},
   "source": [
    "This two-epoch model can be reduced to one-epoch model by either setting $Nery_2 = Nery_1$ and $Npar_2 = Npar_1$ or by setting $T_2 = 0$."
   ]
  },
  {
   "cell_type": "code",
   "execution_count": 29,
   "metadata": {
    "collapsed": true
   },
   "outputs": [],
   "source": [
    "# optimal paramter values for simple model (1 epoch)\n",
    "# note: Nery_2=Nery_1, Npar_2=Npar_1 and T2=0\n",
    "\n",
    "popt_s = [1.24966921,  3.19164623,  1.42043464,  1.24966921,  3.19164623, 0.0, 0.08489757,  0.39827944]"
   ]
  },
  {
   "cell_type": "markdown",
   "metadata": {},
   "source": [
    "## get bootstrap replicates"
   ]
  },
  {
   "cell_type": "code",
   "execution_count": 32,
   "metadata": {
    "collapsed": true
   },
   "outputs": [],
   "source": [
    "# load bootstrapped 2D SFS\n",
    "\n",
    "all_boot = [dadi.Spectrum.from_file(\"../SFS/bootstrap/2DSFS/{0:03d}.unfolded.2dsfs.dadi\".format(i)).fold() for i in range(200)]"
   ]
  },
  {
   "cell_type": "markdown",
   "metadata": {},
   "source": [
    "## calculate adjustment for D"
   ]
  },
  {
   "cell_type": "code",
   "execution_count": 33,
   "metadata": {
    "collapsed": false
   },
   "outputs": [
    {
     "name": "stdout",
     "output_type": "stream",
     "text": [
      "If you use the Godambe methods in your published research, please cite Coffman et al. (2016) in addition to the main dadi paper Gutenkunst et al. (2009).\n",
      "AJ Coffman, P Hsieh, S Gravel, RN Gutenkunst \"Computationally efficient composite likelihood statistics for demographic inference\" Molecular Biology and Evolution 33:591-593 (2016)\n"
     ]
    },
    {
     "data": {
      "text/plain": [
       "0.52858698009640059"
      ]
     },
     "execution_count": 33,
     "metadata": {},
     "output_type": "execute_result"
    }
   ],
   "source": [
    "# calculate adjustment for D evaluating at the *simple* model parameterisation\n",
    "# specifying only T2 as fixed\n",
    "\n",
    "adj_s = dadi.Godambe.LRT_adjust(func_ex, pts_l, all_boot, popt_s, sfs2d, nested_indices=[5], multinom=True)\n",
    "adj_s"
   ]
  },
  {
   "cell_type": "code",
   "execution_count": 34,
   "metadata": {
    "collapsed": false
   },
   "outputs": [
    {
     "data": {
      "text/plain": [
       "-1.6188570268322292e-06"
      ]
     },
     "execution_count": 34,
     "metadata": {},
     "output_type": "execute_result"
    }
   ],
   "source": [
    "# calculate adjustment for D evaluating at the *complex* model parameterisation\n",
    "# specifying only T2 as fixed\n",
    "\n",
    "adj_c = dadi.Godambe.LRT_adjust(func_ex, pts_l, all_boot, popt_c, sfs2d, nested_indices=[5], multinom=True)\n",
    "adj_c"
   ]
  },
  {
   "cell_type": "markdown",
   "metadata": {},
   "source": [
    "From Coffman2016, suppl. mat.:\n",
    "\n",
    "> The two-epoch model can be marginalized down to the SNM model for an LRT by either setting η = 1 or T = 0. We found that the LRT adjustment performed well when _treating both parameters as nested_, so μ(θ) was evaluated with T = 0 and η = 1."
   ]
  },
  {
   "cell_type": "code",
   "execution_count": 35,
   "metadata": {
    "collapsed": false
   },
   "outputs": [
    {
     "ename": "LinAlgError",
     "evalue": "Singular matrix",
     "output_type": "error",
     "traceback": [
      "\u001b[1;31m---------------------------------------------------------------------------\u001b[0m",
      "\u001b[1;31mLinAlgError\u001b[0m                               Traceback (most recent call last)",
      "\u001b[1;32m<ipython-input-35-552414e5e8db>\u001b[0m in \u001b[0;36m<module>\u001b[1;34m()\u001b[0m\n\u001b[0;32m      1\u001b[0m \u001b[1;31m# calculate adjustment for D evaluating at the *simple* model parameterisation\u001b[0m\u001b[1;33m\u001b[0m\u001b[1;33m\u001b[0m\u001b[0m\n\u001b[0;32m      2\u001b[0m \u001b[1;33m\u001b[0m\u001b[0m\n\u001b[1;32m----> 3\u001b[1;33m \u001b[0madj_s\u001b[0m \u001b[1;33m=\u001b[0m \u001b[0mdadi\u001b[0m\u001b[1;33m.\u001b[0m\u001b[0mGodambe\u001b[0m\u001b[1;33m.\u001b[0m\u001b[0mLRT_adjust\u001b[0m\u001b[1;33m(\u001b[0m\u001b[0mfunc_ex\u001b[0m\u001b[1;33m,\u001b[0m \u001b[0mpts_l\u001b[0m\u001b[1;33m,\u001b[0m \u001b[0mall_boot\u001b[0m\u001b[1;33m,\u001b[0m \u001b[0mpopt_s\u001b[0m\u001b[1;33m,\u001b[0m \u001b[0msfs2d\u001b[0m\u001b[1;33m,\u001b[0m \u001b[0mnested_indices\u001b[0m\u001b[1;33m=\u001b[0m\u001b[1;33m[\u001b[0m\u001b[1;36m3\u001b[0m\u001b[1;33m,\u001b[0m\u001b[1;36m4\u001b[0m\u001b[1;33m,\u001b[0m\u001b[1;36m5\u001b[0m\u001b[1;33m]\u001b[0m\u001b[1;33m,\u001b[0m \u001b[0mmultinom\u001b[0m\u001b[1;33m=\u001b[0m\u001b[0mTrue\u001b[0m\u001b[1;33m)\u001b[0m\u001b[1;33m\u001b[0m\u001b[0m\n\u001b[0m\u001b[0;32m      4\u001b[0m \u001b[0madj_s\u001b[0m\u001b[1;33m\u001b[0m\u001b[0m\n",
      "\u001b[1;32m/home/claudius/Downloads/dadi/dadi/Godambe.pyc\u001b[0m in \u001b[0;36mcitation_func\u001b[1;34m(*args, **kwargs)\u001b[0m\n\u001b[0;32m     15\u001b[0m AJ Coffman, P Hsieh, S Gravel, RN Gutenkunst \"Computationally efficient composite likelihood statistics for demographic inference\" Molecular Biology and Evolution 33:591-593 (2016)\"\"\")\n\u001b[0;32m     16\u001b[0m             \u001b[0mprinted_citation\u001b[0m \u001b[1;33m=\u001b[0m \u001b[0mTrue\u001b[0m\u001b[1;33m\u001b[0m\u001b[0m\n\u001b[1;32m---> 17\u001b[1;33m         \u001b[1;32mreturn\u001b[0m \u001b[0mfunc\u001b[0m\u001b[1;33m(\u001b[0m\u001b[1;33m*\u001b[0m\u001b[0margs\u001b[0m\u001b[1;33m,\u001b[0m \u001b[1;33m**\u001b[0m\u001b[0mkwargs\u001b[0m\u001b[1;33m)\u001b[0m\u001b[1;33m\u001b[0m\u001b[0m\n\u001b[0m\u001b[0;32m     18\u001b[0m     \u001b[1;32mreturn\u001b[0m \u001b[0mcitation_func\u001b[0m\u001b[1;33m\u001b[0m\u001b[0m\n\u001b[0;32m     19\u001b[0m \u001b[1;33m\u001b[0m\u001b[0m\n",
      "\u001b[1;32m/home/claudius/Downloads/dadi/dadi/Godambe.pyc\u001b[0m in \u001b[0;36mLRT_adjust\u001b[1;34m(func_ex, grid_pts, all_boot, p0, data, nested_indices, multinom, eps)\u001b[0m\n\u001b[0;32m    368\u001b[0m     \u001b[0mp_nested\u001b[0m \u001b[1;33m=\u001b[0m \u001b[0mnumpy\u001b[0m\u001b[1;33m.\u001b[0m\u001b[0masarray\u001b[0m\u001b[1;33m(\u001b[0m\u001b[0mp0\u001b[0m\u001b[1;33m)\u001b[0m\u001b[1;33m[\u001b[0m\u001b[0mnested_indices\u001b[0m\u001b[1;33m]\u001b[0m\u001b[1;33m\u001b[0m\u001b[0m\n\u001b[0;32m    369\u001b[0m     GIM, H, J, cU = get_godambe(diff_func, grid_pts, all_boot, p_nested, data, \n\u001b[1;32m--> 370\u001b[1;33m                                 eps, log=False)\n\u001b[0m\u001b[0;32m    371\u001b[0m \u001b[1;33m\u001b[0m\u001b[0m\n\u001b[0;32m    372\u001b[0m     \u001b[0madjust\u001b[0m \u001b[1;33m=\u001b[0m \u001b[0mlen\u001b[0m\u001b[1;33m(\u001b[0m\u001b[0mnested_indices\u001b[0m\u001b[1;33m)\u001b[0m\u001b[1;33m/\u001b[0m\u001b[0mnumpy\u001b[0m\u001b[1;33m.\u001b[0m\u001b[0mtrace\u001b[0m\u001b[1;33m(\u001b[0m\u001b[0mnumpy\u001b[0m\u001b[1;33m.\u001b[0m\u001b[0mdot\u001b[0m\u001b[1;33m(\u001b[0m\u001b[0mJ\u001b[0m\u001b[1;33m,\u001b[0m \u001b[0mnumpy\u001b[0m\u001b[1;33m.\u001b[0m\u001b[0mlinalg\u001b[0m\u001b[1;33m.\u001b[0m\u001b[0minv\u001b[0m\u001b[1;33m(\u001b[0m\u001b[0mH\u001b[0m\u001b[1;33m)\u001b[0m\u001b[1;33m)\u001b[0m\u001b[1;33m)\u001b[0m\u001b[1;33m\u001b[0m\u001b[0m\n",
      "\u001b[1;32m/home/claudius/Downloads/dadi/dadi/Godambe.pyc\u001b[0m in \u001b[0;36mcitation_func\u001b[1;34m(*args, **kwargs)\u001b[0m\n\u001b[0;32m     15\u001b[0m AJ Coffman, P Hsieh, S Gravel, RN Gutenkunst \"Computationally efficient composite likelihood statistics for demographic inference\" Molecular Biology and Evolution 33:591-593 (2016)\"\"\")\n\u001b[0;32m     16\u001b[0m             \u001b[0mprinted_citation\u001b[0m \u001b[1;33m=\u001b[0m \u001b[0mTrue\u001b[0m\u001b[1;33m\u001b[0m\u001b[0m\n\u001b[1;32m---> 17\u001b[1;33m         \u001b[1;32mreturn\u001b[0m \u001b[0mfunc\u001b[0m\u001b[1;33m(\u001b[0m\u001b[1;33m*\u001b[0m\u001b[0margs\u001b[0m\u001b[1;33m,\u001b[0m \u001b[1;33m**\u001b[0m\u001b[0mkwargs\u001b[0m\u001b[1;33m)\u001b[0m\u001b[1;33m\u001b[0m\u001b[0m\n\u001b[0m\u001b[0;32m     18\u001b[0m     \u001b[1;32mreturn\u001b[0m \u001b[0mcitation_func\u001b[0m\u001b[1;33m\u001b[0m\u001b[0m\n\u001b[0;32m     19\u001b[0m \u001b[1;33m\u001b[0m\u001b[0m\n",
      "\u001b[1;32m/home/claudius/Downloads/dadi/dadi/Godambe.pyc\u001b[0m in \u001b[0;36mget_godambe\u001b[1;34m(func_ex, grid_pts, all_boot, p0, data, eps, log, just_hess)\u001b[0m\n\u001b[0;32m    239\u001b[0m \u001b[1;33m\u001b[0m\u001b[0m\n\u001b[0;32m    240\u001b[0m     \u001b[1;31m# G = H*J^-1*H\u001b[0m\u001b[1;33m\u001b[0m\u001b[1;33m\u001b[0m\u001b[0m\n\u001b[1;32m--> 241\u001b[1;33m     \u001b[0mJ_inv\u001b[0m \u001b[1;33m=\u001b[0m \u001b[0mnumpy\u001b[0m\u001b[1;33m.\u001b[0m\u001b[0mlinalg\u001b[0m\u001b[1;33m.\u001b[0m\u001b[0minv\u001b[0m\u001b[1;33m(\u001b[0m\u001b[0mJ\u001b[0m\u001b[1;33m)\u001b[0m\u001b[1;33m\u001b[0m\u001b[0m\n\u001b[0m\u001b[0;32m    242\u001b[0m     \u001b[0mgodambe\u001b[0m \u001b[1;33m=\u001b[0m \u001b[0mnumpy\u001b[0m\u001b[1;33m.\u001b[0m\u001b[0mdot\u001b[0m\u001b[1;33m(\u001b[0m\u001b[0mnumpy\u001b[0m\u001b[1;33m.\u001b[0m\u001b[0mdot\u001b[0m\u001b[1;33m(\u001b[0m\u001b[0mhess\u001b[0m\u001b[1;33m,\u001b[0m \u001b[0mJ_inv\u001b[0m\u001b[1;33m)\u001b[0m\u001b[1;33m,\u001b[0m \u001b[0mhess\u001b[0m\u001b[1;33m)\u001b[0m\u001b[1;33m\u001b[0m\u001b[0m\n\u001b[0;32m    243\u001b[0m     \u001b[1;32mreturn\u001b[0m \u001b[0mgodambe\u001b[0m\u001b[1;33m,\u001b[0m \u001b[0mhess\u001b[0m\u001b[1;33m,\u001b[0m \u001b[0mJ\u001b[0m\u001b[1;33m,\u001b[0m \u001b[0mcU\u001b[0m\u001b[1;33m\u001b[0m\u001b[0m\n",
      "\u001b[1;32m/usr/local/anaconda2/lib/python2.7/site-packages/numpy/linalg/linalg.pyc\u001b[0m in \u001b[0;36minv\u001b[1;34m(a)\u001b[0m\n\u001b[0;32m    524\u001b[0m     \u001b[0msignature\u001b[0m \u001b[1;33m=\u001b[0m \u001b[1;34m'D->D'\u001b[0m \u001b[1;32mif\u001b[0m \u001b[0misComplexType\u001b[0m\u001b[1;33m(\u001b[0m\u001b[0mt\u001b[0m\u001b[1;33m)\u001b[0m \u001b[1;32melse\u001b[0m \u001b[1;34m'd->d'\u001b[0m\u001b[1;33m\u001b[0m\u001b[0m\n\u001b[0;32m    525\u001b[0m     \u001b[0mextobj\u001b[0m \u001b[1;33m=\u001b[0m \u001b[0mget_linalg_error_extobj\u001b[0m\u001b[1;33m(\u001b[0m\u001b[0m_raise_linalgerror_singular\u001b[0m\u001b[1;33m)\u001b[0m\u001b[1;33m\u001b[0m\u001b[0m\n\u001b[1;32m--> 526\u001b[1;33m     \u001b[0mainv\u001b[0m \u001b[1;33m=\u001b[0m \u001b[0m_umath_linalg\u001b[0m\u001b[1;33m.\u001b[0m\u001b[0minv\u001b[0m\u001b[1;33m(\u001b[0m\u001b[0ma\u001b[0m\u001b[1;33m,\u001b[0m \u001b[0msignature\u001b[0m\u001b[1;33m=\u001b[0m\u001b[0msignature\u001b[0m\u001b[1;33m,\u001b[0m \u001b[0mextobj\u001b[0m\u001b[1;33m=\u001b[0m\u001b[0mextobj\u001b[0m\u001b[1;33m)\u001b[0m\u001b[1;33m\u001b[0m\u001b[0m\n\u001b[0m\u001b[0;32m    527\u001b[0m     \u001b[1;32mreturn\u001b[0m \u001b[0mwrap\u001b[0m\u001b[1;33m(\u001b[0m\u001b[0mainv\u001b[0m\u001b[1;33m.\u001b[0m\u001b[0mastype\u001b[0m\u001b[1;33m(\u001b[0m\u001b[0mresult_t\u001b[0m\u001b[1;33m,\u001b[0m \u001b[0mcopy\u001b[0m\u001b[1;33m=\u001b[0m\u001b[0mFalse\u001b[0m\u001b[1;33m)\u001b[0m\u001b[1;33m)\u001b[0m\u001b[1;33m\u001b[0m\u001b[0m\n\u001b[0;32m    528\u001b[0m \u001b[1;33m\u001b[0m\u001b[0m\n",
      "\u001b[1;32m/usr/local/anaconda2/lib/python2.7/site-packages/numpy/linalg/linalg.pyc\u001b[0m in \u001b[0;36m_raise_linalgerror_singular\u001b[1;34m(err, flag)\u001b[0m\n\u001b[0;32m     88\u001b[0m \u001b[1;33m\u001b[0m\u001b[0m\n\u001b[0;32m     89\u001b[0m \u001b[1;32mdef\u001b[0m \u001b[0m_raise_linalgerror_singular\u001b[0m\u001b[1;33m(\u001b[0m\u001b[0merr\u001b[0m\u001b[1;33m,\u001b[0m \u001b[0mflag\u001b[0m\u001b[1;33m)\u001b[0m\u001b[1;33m:\u001b[0m\u001b[1;33m\u001b[0m\u001b[0m\n\u001b[1;32m---> 90\u001b[1;33m     \u001b[1;32mraise\u001b[0m \u001b[0mLinAlgError\u001b[0m\u001b[1;33m(\u001b[0m\u001b[1;34m\"Singular matrix\"\u001b[0m\u001b[1;33m)\u001b[0m\u001b[1;33m\u001b[0m\u001b[0m\n\u001b[0m\u001b[0;32m     91\u001b[0m \u001b[1;33m\u001b[0m\u001b[0m\n\u001b[0;32m     92\u001b[0m \u001b[1;32mdef\u001b[0m \u001b[0m_raise_linalgerror_nonposdef\u001b[0m\u001b[1;33m(\u001b[0m\u001b[0merr\u001b[0m\u001b[1;33m,\u001b[0m \u001b[0mflag\u001b[0m\u001b[1;33m)\u001b[0m\u001b[1;33m:\u001b[0m\u001b[1;33m\u001b[0m\u001b[0m\n",
      "\u001b[1;31mLinAlgError\u001b[0m: Singular matrix"
     ]
    }
   ],
   "source": [
    "# calculate adjustment for D evaluating at the *simple* model parameterisation\n",
    "# treating Nery_2, Npar_2 and T2 as nested\n",
    "\n",
    "adj_s = dadi.Godambe.LRT_adjust(func_ex, pts_l, all_boot, popt_s, sfs2d, nested_indices=[3,4,5], multinom=True)\n",
    "adj_s"
   ]
  },
  {
   "cell_type": "code",
   "execution_count": 36,
   "metadata": {
    "collapsed": false
   },
   "outputs": [
    {
     "ename": "LinAlgError",
     "evalue": "Singular matrix",
     "output_type": "error",
     "traceback": [
      "\u001b[1;31m---------------------------------------------------------------------------\u001b[0m",
      "\u001b[1;31mLinAlgError\u001b[0m                               Traceback (most recent call last)",
      "\u001b[1;32m<ipython-input-36-2c471a00b976>\u001b[0m in \u001b[0;36m<module>\u001b[1;34m()\u001b[0m\n\u001b[0;32m      1\u001b[0m \u001b[1;31m# calculate adjustment for D evaluating at the *complex* model parameterisation\u001b[0m\u001b[1;33m\u001b[0m\u001b[1;33m\u001b[0m\u001b[0m\n\u001b[0;32m      2\u001b[0m \u001b[1;33m\u001b[0m\u001b[0m\n\u001b[1;32m----> 3\u001b[1;33m \u001b[0madj_c\u001b[0m \u001b[1;33m=\u001b[0m \u001b[0mdadi\u001b[0m\u001b[1;33m.\u001b[0m\u001b[0mGodambe\u001b[0m\u001b[1;33m.\u001b[0m\u001b[0mLRT_adjust\u001b[0m\u001b[1;33m(\u001b[0m\u001b[0mfunc_ex\u001b[0m\u001b[1;33m,\u001b[0m \u001b[0mpts_l\u001b[0m\u001b[1;33m,\u001b[0m \u001b[0mall_boot\u001b[0m\u001b[1;33m,\u001b[0m \u001b[0mpopt_c\u001b[0m\u001b[1;33m,\u001b[0m \u001b[0msfs2d\u001b[0m\u001b[1;33m,\u001b[0m \u001b[0mnested_indices\u001b[0m\u001b[1;33m=\u001b[0m\u001b[1;33m[\u001b[0m\u001b[1;36m3\u001b[0m\u001b[1;33m,\u001b[0m\u001b[1;36m4\u001b[0m\u001b[1;33m,\u001b[0m\u001b[1;36m5\u001b[0m\u001b[1;33m]\u001b[0m\u001b[1;33m,\u001b[0m \u001b[0mmultinom\u001b[0m\u001b[1;33m=\u001b[0m\u001b[0mTrue\u001b[0m\u001b[1;33m)\u001b[0m\u001b[1;33m\u001b[0m\u001b[0m\n\u001b[0m\u001b[0;32m      4\u001b[0m \u001b[0madj_c\u001b[0m\u001b[1;33m\u001b[0m\u001b[0m\n",
      "\u001b[1;32m/home/claudius/Downloads/dadi/dadi/Godambe.pyc\u001b[0m in \u001b[0;36mcitation_func\u001b[1;34m(*args, **kwargs)\u001b[0m\n\u001b[0;32m     15\u001b[0m AJ Coffman, P Hsieh, S Gravel, RN Gutenkunst \"Computationally efficient composite likelihood statistics for demographic inference\" Molecular Biology and Evolution 33:591-593 (2016)\"\"\")\n\u001b[0;32m     16\u001b[0m             \u001b[0mprinted_citation\u001b[0m \u001b[1;33m=\u001b[0m \u001b[0mTrue\u001b[0m\u001b[1;33m\u001b[0m\u001b[0m\n\u001b[1;32m---> 17\u001b[1;33m         \u001b[1;32mreturn\u001b[0m \u001b[0mfunc\u001b[0m\u001b[1;33m(\u001b[0m\u001b[1;33m*\u001b[0m\u001b[0margs\u001b[0m\u001b[1;33m,\u001b[0m \u001b[1;33m**\u001b[0m\u001b[0mkwargs\u001b[0m\u001b[1;33m)\u001b[0m\u001b[1;33m\u001b[0m\u001b[0m\n\u001b[0m\u001b[0;32m     18\u001b[0m     \u001b[1;32mreturn\u001b[0m \u001b[0mcitation_func\u001b[0m\u001b[1;33m\u001b[0m\u001b[0m\n\u001b[0;32m     19\u001b[0m \u001b[1;33m\u001b[0m\u001b[0m\n",
      "\u001b[1;32m/home/claudius/Downloads/dadi/dadi/Godambe.pyc\u001b[0m in \u001b[0;36mLRT_adjust\u001b[1;34m(func_ex, grid_pts, all_boot, p0, data, nested_indices, multinom, eps)\u001b[0m\n\u001b[0;32m    368\u001b[0m     \u001b[0mp_nested\u001b[0m \u001b[1;33m=\u001b[0m \u001b[0mnumpy\u001b[0m\u001b[1;33m.\u001b[0m\u001b[0masarray\u001b[0m\u001b[1;33m(\u001b[0m\u001b[0mp0\u001b[0m\u001b[1;33m)\u001b[0m\u001b[1;33m[\u001b[0m\u001b[0mnested_indices\u001b[0m\u001b[1;33m]\u001b[0m\u001b[1;33m\u001b[0m\u001b[0m\n\u001b[0;32m    369\u001b[0m     GIM, H, J, cU = get_godambe(diff_func, grid_pts, all_boot, p_nested, data, \n\u001b[1;32m--> 370\u001b[1;33m                                 eps, log=False)\n\u001b[0m\u001b[0;32m    371\u001b[0m \u001b[1;33m\u001b[0m\u001b[0m\n\u001b[0;32m    372\u001b[0m     \u001b[0madjust\u001b[0m \u001b[1;33m=\u001b[0m \u001b[0mlen\u001b[0m\u001b[1;33m(\u001b[0m\u001b[0mnested_indices\u001b[0m\u001b[1;33m)\u001b[0m\u001b[1;33m/\u001b[0m\u001b[0mnumpy\u001b[0m\u001b[1;33m.\u001b[0m\u001b[0mtrace\u001b[0m\u001b[1;33m(\u001b[0m\u001b[0mnumpy\u001b[0m\u001b[1;33m.\u001b[0m\u001b[0mdot\u001b[0m\u001b[1;33m(\u001b[0m\u001b[0mJ\u001b[0m\u001b[1;33m,\u001b[0m \u001b[0mnumpy\u001b[0m\u001b[1;33m.\u001b[0m\u001b[0mlinalg\u001b[0m\u001b[1;33m.\u001b[0m\u001b[0minv\u001b[0m\u001b[1;33m(\u001b[0m\u001b[0mH\u001b[0m\u001b[1;33m)\u001b[0m\u001b[1;33m)\u001b[0m\u001b[1;33m)\u001b[0m\u001b[1;33m\u001b[0m\u001b[0m\n",
      "\u001b[1;32m/home/claudius/Downloads/dadi/dadi/Godambe.pyc\u001b[0m in \u001b[0;36mcitation_func\u001b[1;34m(*args, **kwargs)\u001b[0m\n\u001b[0;32m     15\u001b[0m AJ Coffman, P Hsieh, S Gravel, RN Gutenkunst \"Computationally efficient composite likelihood statistics for demographic inference\" Molecular Biology and Evolution 33:591-593 (2016)\"\"\")\n\u001b[0;32m     16\u001b[0m             \u001b[0mprinted_citation\u001b[0m \u001b[1;33m=\u001b[0m \u001b[0mTrue\u001b[0m\u001b[1;33m\u001b[0m\u001b[0m\n\u001b[1;32m---> 17\u001b[1;33m         \u001b[1;32mreturn\u001b[0m \u001b[0mfunc\u001b[0m\u001b[1;33m(\u001b[0m\u001b[1;33m*\u001b[0m\u001b[0margs\u001b[0m\u001b[1;33m,\u001b[0m \u001b[1;33m**\u001b[0m\u001b[0mkwargs\u001b[0m\u001b[1;33m)\u001b[0m\u001b[1;33m\u001b[0m\u001b[0m\n\u001b[0m\u001b[0;32m     18\u001b[0m     \u001b[1;32mreturn\u001b[0m \u001b[0mcitation_func\u001b[0m\u001b[1;33m\u001b[0m\u001b[0m\n\u001b[0;32m     19\u001b[0m \u001b[1;33m\u001b[0m\u001b[0m\n",
      "\u001b[1;32m/home/claudius/Downloads/dadi/dadi/Godambe.pyc\u001b[0m in \u001b[0;36mget_godambe\u001b[1;34m(func_ex, grid_pts, all_boot, p0, data, eps, log, just_hess)\u001b[0m\n\u001b[0;32m    239\u001b[0m \u001b[1;33m\u001b[0m\u001b[0m\n\u001b[0;32m    240\u001b[0m     \u001b[1;31m# G = H*J^-1*H\u001b[0m\u001b[1;33m\u001b[0m\u001b[1;33m\u001b[0m\u001b[0m\n\u001b[1;32m--> 241\u001b[1;33m     \u001b[0mJ_inv\u001b[0m \u001b[1;33m=\u001b[0m \u001b[0mnumpy\u001b[0m\u001b[1;33m.\u001b[0m\u001b[0mlinalg\u001b[0m\u001b[1;33m.\u001b[0m\u001b[0minv\u001b[0m\u001b[1;33m(\u001b[0m\u001b[0mJ\u001b[0m\u001b[1;33m)\u001b[0m\u001b[1;33m\u001b[0m\u001b[0m\n\u001b[0m\u001b[0;32m    242\u001b[0m     \u001b[0mgodambe\u001b[0m \u001b[1;33m=\u001b[0m \u001b[0mnumpy\u001b[0m\u001b[1;33m.\u001b[0m\u001b[0mdot\u001b[0m\u001b[1;33m(\u001b[0m\u001b[0mnumpy\u001b[0m\u001b[1;33m.\u001b[0m\u001b[0mdot\u001b[0m\u001b[1;33m(\u001b[0m\u001b[0mhess\u001b[0m\u001b[1;33m,\u001b[0m \u001b[0mJ_inv\u001b[0m\u001b[1;33m)\u001b[0m\u001b[1;33m,\u001b[0m \u001b[0mhess\u001b[0m\u001b[1;33m)\u001b[0m\u001b[1;33m\u001b[0m\u001b[0m\n\u001b[0;32m    243\u001b[0m     \u001b[1;32mreturn\u001b[0m \u001b[0mgodambe\u001b[0m\u001b[1;33m,\u001b[0m \u001b[0mhess\u001b[0m\u001b[1;33m,\u001b[0m \u001b[0mJ\u001b[0m\u001b[1;33m,\u001b[0m \u001b[0mcU\u001b[0m\u001b[1;33m\u001b[0m\u001b[0m\n",
      "\u001b[1;32m/usr/local/anaconda2/lib/python2.7/site-packages/numpy/linalg/linalg.pyc\u001b[0m in \u001b[0;36minv\u001b[1;34m(a)\u001b[0m\n\u001b[0;32m    524\u001b[0m     \u001b[0msignature\u001b[0m \u001b[1;33m=\u001b[0m \u001b[1;34m'D->D'\u001b[0m \u001b[1;32mif\u001b[0m \u001b[0misComplexType\u001b[0m\u001b[1;33m(\u001b[0m\u001b[0mt\u001b[0m\u001b[1;33m)\u001b[0m \u001b[1;32melse\u001b[0m \u001b[1;34m'd->d'\u001b[0m\u001b[1;33m\u001b[0m\u001b[0m\n\u001b[0;32m    525\u001b[0m     \u001b[0mextobj\u001b[0m \u001b[1;33m=\u001b[0m \u001b[0mget_linalg_error_extobj\u001b[0m\u001b[1;33m(\u001b[0m\u001b[0m_raise_linalgerror_singular\u001b[0m\u001b[1;33m)\u001b[0m\u001b[1;33m\u001b[0m\u001b[0m\n\u001b[1;32m--> 526\u001b[1;33m     \u001b[0mainv\u001b[0m \u001b[1;33m=\u001b[0m \u001b[0m_umath_linalg\u001b[0m\u001b[1;33m.\u001b[0m\u001b[0minv\u001b[0m\u001b[1;33m(\u001b[0m\u001b[0ma\u001b[0m\u001b[1;33m,\u001b[0m \u001b[0msignature\u001b[0m\u001b[1;33m=\u001b[0m\u001b[0msignature\u001b[0m\u001b[1;33m,\u001b[0m \u001b[0mextobj\u001b[0m\u001b[1;33m=\u001b[0m\u001b[0mextobj\u001b[0m\u001b[1;33m)\u001b[0m\u001b[1;33m\u001b[0m\u001b[0m\n\u001b[0m\u001b[0;32m    527\u001b[0m     \u001b[1;32mreturn\u001b[0m \u001b[0mwrap\u001b[0m\u001b[1;33m(\u001b[0m\u001b[0mainv\u001b[0m\u001b[1;33m.\u001b[0m\u001b[0mastype\u001b[0m\u001b[1;33m(\u001b[0m\u001b[0mresult_t\u001b[0m\u001b[1;33m,\u001b[0m \u001b[0mcopy\u001b[0m\u001b[1;33m=\u001b[0m\u001b[0mFalse\u001b[0m\u001b[1;33m)\u001b[0m\u001b[1;33m)\u001b[0m\u001b[1;33m\u001b[0m\u001b[0m\n\u001b[0;32m    528\u001b[0m \u001b[1;33m\u001b[0m\u001b[0m\n",
      "\u001b[1;32m/usr/local/anaconda2/lib/python2.7/site-packages/numpy/linalg/linalg.pyc\u001b[0m in \u001b[0;36m_raise_linalgerror_singular\u001b[1;34m(err, flag)\u001b[0m\n\u001b[0;32m     88\u001b[0m \u001b[1;33m\u001b[0m\u001b[0m\n\u001b[0;32m     89\u001b[0m \u001b[1;32mdef\u001b[0m \u001b[0m_raise_linalgerror_singular\u001b[0m\u001b[1;33m(\u001b[0m\u001b[0merr\u001b[0m\u001b[1;33m,\u001b[0m \u001b[0mflag\u001b[0m\u001b[1;33m)\u001b[0m\u001b[1;33m:\u001b[0m\u001b[1;33m\u001b[0m\u001b[0m\n\u001b[1;32m---> 90\u001b[1;33m     \u001b[1;32mraise\u001b[0m \u001b[0mLinAlgError\u001b[0m\u001b[1;33m(\u001b[0m\u001b[1;34m\"Singular matrix\"\u001b[0m\u001b[1;33m)\u001b[0m\u001b[1;33m\u001b[0m\u001b[0m\n\u001b[0m\u001b[0;32m     91\u001b[0m \u001b[1;33m\u001b[0m\u001b[0m\n\u001b[0;32m     92\u001b[0m \u001b[1;32mdef\u001b[0m \u001b[0m_raise_linalgerror_nonposdef\u001b[0m\u001b[1;33m(\u001b[0m\u001b[0merr\u001b[0m\u001b[1;33m,\u001b[0m \u001b[0mflag\u001b[0m\u001b[1;33m)\u001b[0m\u001b[1;33m:\u001b[0m\u001b[1;33m\u001b[0m\u001b[0m\n",
      "\u001b[1;31mLinAlgError\u001b[0m: Singular matrix"
     ]
    }
   ],
   "source": [
    "# calculate adjustment for D evaluating at the *complex* model parameterisation\n",
    "# treating Nery_2, Npar_2 and T2 as nested\n",
    "\n",
    "adj_c = dadi.Godambe.LRT_adjust(func_ex, pts_l, all_boot, popt_c, sfs2d, nested_indices=[3,4,5], multinom=True)\n",
    "adj_c"
   ]
  }
 ],
 "metadata": {
  "anaconda-cloud": {},
  "kernelspec": {
   "display_name": "Python [default]",
   "language": "python",
   "name": "python2"
  },
  "language_info": {
   "codemirror_mode": {
    "name": "ipython",
    "version": 2
   },
   "file_extension": ".py",
   "mimetype": "text/x-python",
   "name": "python",
   "nbconvert_exporter": "python",
   "pygments_lexer": "ipython2",
   "version": "2.7.12"
  },
  "toc": {
   "colors": {
    "hover_highlight": "#DAA520",
    "running_highlight": "#FF0000",
    "selected_highlight": "#FFD700"
   },
   "moveMenuLeft": true,
   "nav_menu": {
    "height": "123px",
    "width": "252px"
   },
   "navigate_menu": true,
   "number_sections": true,
   "sideBar": true,
   "threshold": 4,
   "toc_cell": true,
   "toc_section_display": "block",
   "toc_window_display": true
  }
 },
 "nbformat": 4,
 "nbformat_minor": 0
}
