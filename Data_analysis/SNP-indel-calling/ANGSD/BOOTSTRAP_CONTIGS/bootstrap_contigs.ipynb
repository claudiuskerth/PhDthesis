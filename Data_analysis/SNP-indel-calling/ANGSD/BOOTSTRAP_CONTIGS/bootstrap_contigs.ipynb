{
 "cells": [
  {
   "cell_type": "markdown",
   "metadata": {
    "toc": "true"
   },
   "source": [
    "# Table of Contents\n",
    " <p><div class=\"lev2 toc-item\"><a href=\"#start\" data-toc-modified-id=\"start-01\"><span class=\"toc-item-num\">0.1&nbsp;&nbsp;</span>start</a></div><div class=\"lev2 toc-item\"><a href=\"#Bootstrap-regions-file\" data-toc-modified-id=\"Bootstrap-regions-file-02\"><span class=\"toc-item-num\">0.2&nbsp;&nbsp;</span>Bootstrap regions file</a></div><div class=\"lev3 toc-item\"><a href=\"#estimate-SAF's\" data-toc-modified-id=\"estimate-SAF's-021\"><span class=\"toc-item-num\">0.2.1&nbsp;&nbsp;</span>estimate SAF's</a></div><div class=\"lev2 toc-item\"><a href=\"#Get-intersection-of-sites-between-ERY-and-PAR\" data-toc-modified-id=\"Get-intersection-of-sites-between-ERY-and-PAR-03\"><span class=\"toc-item-num\">0.3&nbsp;&nbsp;</span>Get intersection of sites between ERY and PAR</a></div><div class=\"lev2 toc-item\"><a href=\"#plot-SFS-from-only-overlapping-sites\" data-toc-modified-id=\"plot-SFS-from-only-overlapping-sites-04\"><span class=\"toc-item-num\">0.4&nbsp;&nbsp;</span>plot SFS from only overlapping sites</a></div><div class=\"lev2 toc-item\"><a href=\"#Bootstrap-regions-file-from-only-overlapping-sites\" data-toc-modified-id=\"Bootstrap-regions-file-from-only-overlapping-sites-05\"><span class=\"toc-item-num\">0.5&nbsp;&nbsp;</span>Bootstrap regions file from only overlapping sites</a></div><div class=\"lev3 toc-item\"><a href=\"#bootstrap-regions-file\" data-toc-modified-id=\"bootstrap-regions-file-051\"><span class=\"toc-item-num\">0.5.1&nbsp;&nbsp;</span>bootstrap regions file</a></div><div class=\"lev3 toc-item\"><a href=\"#estimate-SAF-files\" data-toc-modified-id=\"estimate-SAF-files-052\"><span class=\"toc-item-num\">0.5.2&nbsp;&nbsp;</span>estimate SAF files</a></div><div class=\"lev2 toc-item\"><a href=\"#Bootstrap-regions-file-from-including-non-overlapping-sites\" data-toc-modified-id=\"Bootstrap-regions-file-from-including-non-overlapping-sites-06\"><span class=\"toc-item-num\">0.6&nbsp;&nbsp;</span>Bootstrap regions file from including non-overlapping sites</a></div><div class=\"lev2 toc-item\"><a href=\"#quick-tests\" data-toc-modified-id=\"quick-tests-07\"><span class=\"toc-item-num\">0.7&nbsp;&nbsp;</span>quick tests</a></div>"
   ]
  },
  {
   "cell_type": "markdown",
   "metadata": {},
   "source": [
    ">In the bootstrap, you divide your sequence data into regions that can (ideally) be considered independent. Then you resample from those regions and generate new frequency spectra, using all the SNPs from each sampled region."
   ]
  },
  {
   "cell_type": "markdown",
   "metadata": {},
   "source": [
    ">Have you run any power tests? Running fits on simulated data from a plausible demographic history will give you insight as to whether it's even possible to reconstruct the history with the sample size you have.\n",
    "\n",
    "In principle, I could simulate data sets under a RSC model with `ms` and see whether I can infer a Ti > 0."
   ]
  },
  {
   "cell_type": "markdown",
   "metadata": {},
   "source": [
    ">When doing the non-parametric bootstrapping, you want to bootstrap over regions of the genome, not just SNPs. This is because we want our resampling to capture the correlati     ons between the SNPs caused by linkage. So instead of resampling from the SNPs, you'd resample from regions you've sequenced. For example, you could break the genome up into      1 Mb chunks and resample over those. The exact region breakdown isn't critical, as long as they are large compared to the typical scale of LD in your organism."
   ]
  },
  {
   "cell_type": "markdown",
   "metadata": {},
   "source": [
    ">We typically run several optimizations on each bootstrap data set, to help ensure we find the true best fit. (Often we run optimizations until the best-3 results are all within some delta of each other.)"
   ]
  },
  {
   "cell_type": "markdown",
   "metadata": {},
   "source": [
    ">if your bootstraps aren't normally distributed, it's better to report confidence intervals as quantiles, e.g. 2.5-97.5%. You can also try a log-transform."
   ]
  },
  {
   "cell_type": "markdown",
   "metadata": {},
   "source": [
    ">By default dadi masks entries for which it is having computational problems, and this can cause LLs too look too good.\n",
    "\n",
    "I need to look out for this. dadi should emit a warning when it does this."
   ]
  },
  {
   "cell_type": "markdown",
   "metadata": {},
   "source": [
    "## start"
   ]
  },
  {
   "cell_type": "code",
   "execution_count": 1,
   "metadata": {
    "collapsed": false
   },
   "outputs": [
    {
     "name": "stdout",
     "output_type": "stream",
     "text": [
      "-rw-rw-r-- 1 claudius 29272928 Dec 11  2016 ../ParEry.noSEgt2.nogtQ99Cov.noDUST.3.15.noTGCAGG.ANGSD_combinedNegFisFiltered.noGtQ99GlobalCov.sorted.sites\r\n",
      "-rw-rw-r-- 1 claudius 30474263 Dec 10  2016 ../ParEry.noSEgt2.nogtQ99Cov.noDUST.3.15.noTGCAGG.ANGSD_combinedNegFisFiltered.sorted.sites\r\n",
      "-rw-rw-r-- 1 claudius 30769819 Nov 25  2016 ../ParEry.noSEgt2.nogtQ99Cov.noDUST.3.15.noTGCAGG.ANGSDnegFisFiltered.sorted.sites\r\n",
      "-rw-rw-r-- 1 claudius 30818723 Nov 22  2016 ../ParEry.noSEgt2.nogtQ99Cov.noDUST.3.15.noTGCAGG.noNegFis.sorted.sites\r\n",
      "lrwxrwxrwx 1 claudius       74 Nov 16  2016 \u001b[0m\u001b[01;36m../ParEry.noSEgt2.nogtQ99Cov.noDUST.3.15.noTGCAGG.sorted.sites\u001b[0m\u001b[K -> ../BOWTIE2/BAM/ParEry.noSEgt2.nogtQ99Cov.noDUST.3.15.noTGCAGG.sorted.sites\r\n"
     ]
    }
   ],
   "source": [
    "# which *sites\n",
    "\n",
    "% ll ../*sites"
   ]
  },
  {
   "cell_type": "markdown",
   "metadata": {},
   "source": [
    "The `sites` file to use is `../ParEry.noSEgt2.nogtQ99Cov.noDUST.3.15.noTGCAGG.ANGSD_combinedNegFisFiltered.noGtQ99GlobalCov.sorted.sites`."
   ]
  },
  {
   "cell_type": "code",
   "execution_count": 1,
   "metadata": {
    "collapsed": true
   },
   "outputs": [],
   "source": [
    "from collections import defaultdict"
   ]
  },
  {
   "cell_type": "code",
   "execution_count": 2,
   "metadata": {
    "collapsed": false
   },
   "outputs": [],
   "source": [
    "# open sites file and read into dictionary\n",
    "# contigs as keys, with sites as values collected in array \n",
    "\n",
    "SITES = defaultdict(list)\n",
    "\n",
    "with open(\"../ParEry.noSEgt2.nogtQ99Cov.noDUST.3.15.noTGCAGG.ANGSD_combinedNegFisFiltered.noGtQ99GlobalCov.sorted.sites\") as sites_file:\n",
    "    for line in sites_file:\n",
    "        contig, site = line.strip().split()\n",
    "        SITES[contig].append(site)"
   ]
  },
  {
   "cell_type": "code",
   "execution_count": 3,
   "metadata": {
    "collapsed": false
   },
   "outputs": [
    {
     "name": "stdout",
     "output_type": "stream",
     "text": [
      "['8', '9', '10', '11', '12', '13', '14', '15', '16', '17', '18', '19', '20', '21', '22', '23', '24', '25', '26', '27', '28', '29', '30', '31', '32', '33', '34', '35', '36', '37', '38', '39', '40', '41', '42', '43', '44', '45', '46', '47']\n"
     ]
    }
   ],
   "source": [
    "print SITES['Contig_16']"
   ]
  },
  {
   "cell_type": "code",
   "execution_count": 4,
   "metadata": {
    "collapsed": true
   },
   "outputs": [],
   "source": [
    "import numpy as np"
   ]
  },
  {
   "cell_type": "code",
   "execution_count": 5,
   "metadata": {
    "collapsed": false
   },
   "outputs": [],
   "source": [
    "# efficient bootstrapping of keys with numpy\n",
    "# np.random.choice\n",
    "\n",
    "n_contigs = len(SITES.keys())\n",
    "\n",
    "boot_contigs = np.random.choice(SITES.keys(), size=n_contigs, replace=True)"
   ]
  },
  {
   "cell_type": "code",
   "execution_count": 6,
   "metadata": {
    "collapsed": false
   },
   "outputs": [
    {
     "data": {
      "text/plain": [
       "array(['Contig_576300', 'Contig_369988', 'Contig_30586', 'Contig_586446',\n",
       "       'Contig_331129', 'Contig_261035', 'Contig_135484', 'Contig_535945',\n",
       "       'Contig_229437', 'Contig_224327'], \n",
       "      dtype='|S13')"
      ]
     },
     "execution_count": 6,
     "metadata": {},
     "output_type": "execute_result"
    }
   ],
   "source": [
    "boot_contigs[:10]"
   ]
  },
  {
   "cell_type": "code",
   "execution_count": 7,
   "metadata": {
    "collapsed": false
   },
   "outputs": [
    {
     "name": "stdout",
     "output_type": "stream",
     "text": [
      "34343\n",
      "34343\n"
     ]
    }
   ],
   "source": [
    "print n_contigs\n",
    "print len(boot_contigs)"
   ]
  },
  {
   "cell_type": "code",
   "execution_count": 8,
   "metadata": {
    "collapsed": false
   },
   "outputs": [
    {
     "name": "stdout",
     "output_type": "stream",
     "text": [
      "21637\n"
     ]
    }
   ],
   "source": [
    "# print the number of different contigs in the bootstrap resample\n",
    "\n",
    "print len(set(boot_contigs))"
   ]
  },
  {
   "cell_type": "code",
   "execution_count": 15,
   "metadata": {
    "collapsed": false
   },
   "outputs": [
    {
     "name": "stdout",
     "output_type": "stream",
     "text": [
      "Contig_10001\n",
      "Contig_10001\n",
      "Contig_100013\n",
      "Contig_100013\n",
      "Contig_100028\n",
      "Contig_10006\n",
      "Contig_10006\n",
      "Contig_10011\n",
      "Contig_100112\n",
      "Contig_100116\n"
     ]
    }
   ],
   "source": [
    "i=0\n",
    "for contig in sorted(boot_contigs):\n",
    "    i+=1\n",
    "    if not i> 10:\n",
    "        print contig"
   ]
  },
  {
   "cell_type": "code",
   "execution_count": 23,
   "metadata": {
    "collapsed": false
   },
   "outputs": [
    {
     "name": "stdout",
     "output_type": "stream",
     "text": [
      "Contig_16\n",
      "Contig_40\n",
      "Contig_179\n",
      "Contig_181\n",
      "Contig_186\n",
      "Contig_186\n",
      "Contig_219\n",
      "Contig_241\n",
      "Contig_252\n",
      "Contig_264\n"
     ]
    }
   ],
   "source": [
    "i=0\n",
    "for contig in sorted(boot_contigs, key=lambda x: int(x.replace(\"Contig_\", \"\"))):\n",
    "    i+=1\n",
    "    if not i> 10:\n",
    "        print contig"
   ]
  },
  {
   "cell_type": "markdown",
   "metadata": {},
   "source": [
    "The `sites` file needs to be sorted on column 1 (contig ids) for indexing. [Lexicographical sorting seems to be enough](http://www.popgen.dk/angsd/index.php/Sites#Requirements), but I like to have the contigs sorted numerically by id. Therefore the fancy key function."
   ]
  },
  {
   "cell_type": "code",
   "execution_count": 30,
   "metadata": {
    "collapsed": true
   },
   "outputs": [],
   "source": [
    "# write out bootstrapped *sites file\n",
    "\n",
    "with open(\"0_boot.sites\", \"w\") as out:\n",
    "    for contig in sorted(boot_contigs, key=lambda x: int(x.replace(\"Contig_\", \"\"))):\n",
    "        for site in range(len(SITES[contig])):\n",
    "            out.write(contig + \"\\t\" + SITES[contig][site] + \"\\n\")"
   ]
  },
  {
   "cell_type": "markdown",
   "metadata": {},
   "source": [
    "Since the `sites` file is 28Mb large, I cannot create too many of them at one time without using up a lot of storage. I will therefore try to create them as they are needed for SAF calculation and then erase them again to free up storage."
   ]
  },
  {
   "cell_type": "code",
   "execution_count": 12,
   "metadata": {
    "collapsed": true
   },
   "outputs": [],
   "source": [
    "import subprocess32 as sp"
   ]
  },
  {
   "cell_type": "code",
   "execution_count": 31,
   "metadata": {
    "collapsed": false
   },
   "outputs": [
    {
     "data": {
      "text/plain": [
       "0"
      ]
     },
     "execution_count": 31,
     "metadata": {},
     "output_type": "execute_result"
    }
   ],
   "source": [
    "# index sites file\n",
    "\n",
    "sp.call(\"angsd sites index 0_boot.sites 2>/dev/null\", shell=True)"
   ]
  },
  {
   "cell_type": "code",
   "execution_count": 32,
   "metadata": {
    "collapsed": false
   },
   "outputs": [
    {
     "data": {
      "text/plain": [
       "0"
      ]
     },
     "execution_count": 32,
     "metadata": {},
     "output_type": "execute_result"
    }
   ],
   "source": [
    "# create regions file\n",
    "\n",
    "sp.call(\"cut -f 1 0_boot.sites | uniq > 0_boot.rf\", shell=True)"
   ]
  },
  {
   "cell_type": "code",
   "execution_count": 40,
   "metadata": {
    "collapsed": false
   },
   "outputs": [
    {
     "name": "stdout",
     "output_type": "stream",
     "text": [
      "angsd -bam ERY.slim.bamfile.list -ref Big_Data_ref.fa -anc Big_Data_ref.fa -out SAF/ERY/ERY.unfolded.0_boot -fold 0 -sites 0_boot.sites -rf 0_boot.rf -only_proper_pairs 0 -baq 1 -minMapQ 5 -minInd 9 -GL 1 -doSaf 1 -nThreads 1 2>/dev/null\n",
      "angsd -bam PAR.slim.bamfile.list -ref Big_Data_ref.fa -anc Big_Data_ref.fa -out SAF/PAR/PAR.unfolded.0_boot -fold 0 -sites 0_boot.sites -rf 0_boot.rf -only_proper_pairs 0 -baq 1 -minMapQ 5 -minInd 9 -GL 1 -doSaf 1 -nThreads 1 2>/dev/null\n"
     ]
    }
   ],
   "source": [
    "cmd = \"angsd -bam {0}.slim.bamfile.list -ref Big_Data_ref.fa -anc Big_Data_ref.fa -out SAF/{0}/{0}.unfolded.{1} -fold 0 \\\n",
    "-sites {1}.sites -rf {1}.rf -only_proper_pairs 0 -baq 1 -minMapQ 5 -minInd 9 -GL 1 -doSaf 1 -nThreads 1 2>/dev/null\"\n",
    "\n",
    "for POP in ['ERY', 'PAR']:\n",
    "    print cmd.format(POP, \"0_boot\")"
   ]
  },
  {
   "cell_type": "code",
   "execution_count": 41,
   "metadata": {
    "collapsed": false
   },
   "outputs": [],
   "source": [
    "# create SAF files for ERY and PAR, for several bootstraps at the same time\n",
    "\n",
    "running = []\n",
    "\n",
    "cmd = \"angsd -bam {0}.slim.bamfile.list -ref Big_Data_ref.fa -anc Big_Data_ref.fa -out SAF/{0}/{0}.unfolded.{1} -fold 0 \\\n",
    "-sites {1}.sites -rf {1}.rf -only_proper_pairs 0 -baq 1 -minMapQ 5 -minInd 9 -GL 1 -doSaf 1 -nThreads 1 2>/dev/null\"\n",
    "\n",
    "for POP in ['ERY', 'PAR']:\n",
    "    #print cmd % (POP, \"0_boot.sites\", \"0_boot.rf\")\n",
    "    p = sp.Popen(cmd.format(POP, \"0_boot\"), shell=True)\n",
    "    running.append(p)"
   ]
  },
  {
   "cell_type": "markdown",
   "metadata": {},
   "source": [
    "This only takes 6 minutes to finish."
   ]
  },
  {
   "cell_type": "code",
   "execution_count": 33,
   "metadata": {
    "collapsed": true
   },
   "outputs": [],
   "source": [
    "# estimate 2D unfolded SFS with realSFS allowing enough iterations to reach convergence, one bootstrap at a time\n",
    "\n",
    "cmd = \"realSFS -P 12 -maxIter 50000 -tole 1e-6 -m 0 SAF/ERY/ERY.unfolded.{}.saf.idx SAF/PAR/PAR.unfolded.{}.saf.idx 2>/dev/null >SFS/{}.2dsfs\""
   ]
  },
  {
   "cell_type": "code",
   "execution_count": 34,
   "metadata": {
    "collapsed": true
   },
   "outputs": [],
   "source": [
    "# clean up sites file, regions file, split regions files and SAF files"
   ]
  },
  {
   "cell_type": "code",
   "execution_count": 2,
   "metadata": {
    "collapsed": false
   },
   "outputs": [
    {
     "name": "stdout",
     "output_type": "stream",
     "text": [
      "total 16\r\n",
      "-rw-rw-r-- 1 claudius 12760 May 13 19:38 0_boot.2dsfs\r\n"
     ]
    }
   ],
   "source": [
    "% ll SFS"
   ]
  },
  {
   "cell_type": "code",
   "execution_count": 40,
   "metadata": {
    "collapsed": false
   },
   "outputs": [
    {
     "name": "stdout",
     "output_type": "stream",
     "text": [
      "error in importing Two Locus modules\n"
     ]
    }
   ],
   "source": [
    "import numpy\n",
    "\n",
    "import sys\n",
    "\n",
    "sys.path.insert(0, '/home/claudius/Downloads/dadi')\n",
    "\n",
    "import dadi"
   ]
  },
  {
   "cell_type": "code",
   "execution_count": 4,
   "metadata": {
    "collapsed": true
   },
   "outputs": [],
   "source": [
    "boot_2dsfs = dadi.Spectrum.from_file('SFS/0_boot.2dsfs.dadi')"
   ]
  },
  {
   "cell_type": "code",
   "execution_count": 5,
   "metadata": {
    "collapsed": false
   },
   "outputs": [
    {
     "data": {
      "text/plain": [
       "array([36, 36])"
      ]
     },
     "execution_count": 5,
     "metadata": {},
     "output_type": "execute_result"
    }
   ],
   "source": [
    "boot_2dsfs.sample_sizes"
   ]
  },
  {
   "cell_type": "code",
   "execution_count": 6,
   "metadata": {
    "collapsed": true
   },
   "outputs": [],
   "source": [
    "boot_2dsfs.pop_ids = ['ery', 'par']"
   ]
  },
  {
   "cell_type": "code",
   "execution_count": 7,
   "metadata": {
    "collapsed": false
   },
   "outputs": [
    {
     "data": {
      "text/plain": [
       "60573.298933000005"
      ]
     },
     "execution_count": 7,
     "metadata": {},
     "output_type": "execute_result"
    }
   ],
   "source": [
    "boot_2dsfs.S()"
   ]
  },
  {
   "cell_type": "code",
   "execution_count": 49,
   "metadata": {
    "collapsed": true
   },
   "outputs": [],
   "source": [
    "%matplotlib inline\n",
    "\n",
    "import pylab\n",
    "\n",
    "pylab.rcParams['font.size'] = 14.0\n",
    "pylab.rcParams['figure.figsize'] = [12.0, 10.0]"
   ]
  },
  {
   "cell_type": "code",
   "execution_count": 8,
   "metadata": {
    "collapsed": false
   },
   "outputs": [
    {
     "data": {
      "text/plain": [
       "<matplotlib.colorbar.Colorbar at 0x7f4f881696d0>"
      ]
     },
     "execution_count": 8,
     "metadata": {},
     "output_type": "execute_result"
    },
    {
     "data": {
      "image/png": "[encoded data removed]",
      "text/plain": [
       "<matplotlib.figure.Figure at 0x7f4f865c6ed0>"
      ]
     },
     "metadata": {},
     "output_type": "display_data"
    }
   ],
   "source": [
    "dadi.Plotting.plot_single_2d_sfs(boot_2dsfs, vmin=1, cmap=pylab.cm.jet)"
   ]
  },
  {
   "cell_type": "code",
   "execution_count": 10,
   "metadata": {
    "collapsed": false
   },
   "outputs": [
    {
     "name": "stdout",
     "output_type": "stream",
     "text": [
      "/data3/claudius/Big_Data/ANGSD/BOOTSTRAP_CONTIGS\r\n"
     ]
    }
   ],
   "source": [
    "!pwd"
   ]
  },
  {
   "cell_type": "code",
   "execution_count": 11,
   "metadata": {
    "collapsed": false
   },
   "outputs": [
    {
     "name": "stdout",
     "output_type": "stream",
     "text": [
      "total 33676\r\n",
      "lrwxrwxrwx 1 claudius       53 Feb 17 15:37 \u001b[0m\u001b[01;36mERY.FOLDED.sfs\u001b[0m -> /data3/claudius/Big_Data/ANGSD/SFS/ERY/ERY.FOLDED.sfs\r\n",
      "-rw-rw-r-- 1 claudius      499 Mar 24 14:04 ERY.FOLDED.sfs.dadi_format\r\n",
      "-rw-rw-r-- 1 claudius      499 Mar 24 14:02 ERY.FOLDED.sfs.dadi_format~\r\n",
      "lrwxrwxrwx 1 claudius       37 Feb 18 17:46 \u001b[01;36mEryPar.unfolded.2dsfs\u001b[0m -> ../../ANGSD/FST/EryPar.unfolded.2dsfs\r\n",
      "-rw-rw-r-- 1 claudius    13051 Feb 18 19:00 EryPar.unfolded.2dsfs.dadi_format\r\n",
      "-rw-rw-r-- 1 claudius    13051 Feb 18 18:31 EryPar.unfolded.2dsfs.dadi_format~\r\n",
      "drwxrwxr-x 5 claudius     4096 Feb 17 13:45 \u001b[01;34mexamples\u001b[0m/\r\n",
      "-rw-rw-r-- 1 claudius   155251 Mar 22 12:37 example_YRI_CEU.ipynb\r\n",
      "-rw-rw-r-- 1 claudius   619699 Apr 20 10:19 First_Steps_with_dadi.ipynb\r\n",
      "-rw-rw-r-- 1 claudius     1012 Mar 16 09:54 new.bib\r\n",
      "lrwxrwxrwx 1 claudius       53 Feb 17 15:37 \u001b[01;36mPAR.FOLDED.sfs\u001b[0m -> /data3/claudius/Big_Data/ANGSD/SFS/PAR/PAR.FOLDED.sfs\r\n",
      "-rw-rw-r-- 1 claudius      486 Mar 24 20:08 PAR.FOLDED.sfs.dadi_format\r\n",
      "-rw-rw-r-- 1 claudius      450 Mar 24 20:08 PAR.FOLDED.sfs.dadi_format~\r\n",
      "-rw-rw-r-- 1 claudius       18 Mar 19 11:20 seedms\r\n",
      "-rw-rw-r-- 1 claudius 33643874 Mar 19 11:20 test.msout\r\n"
     ]
    }
   ],
   "source": [
    "% ll ../../DADI/dadiExercises/"
   ]
  },
  {
   "cell_type": "code",
   "execution_count": 12,
   "metadata": {
    "collapsed": true
   },
   "outputs": [],
   "source": [
    "sfs2d = dadi.Spectrum.from_file('../../DADI/dadiExercises/EryPar.unfolded.2dsfs.dadi_format')"
   ]
  },
  {
   "cell_type": "code",
   "execution_count": 13,
   "metadata": {
    "collapsed": false
   },
   "outputs": [
    {
     "data": {
      "text/plain": [
       "array([36, 36])"
      ]
     },
     "execution_count": 13,
     "metadata": {},
     "output_type": "execute_result"
    }
   ],
   "source": [
    "sfs2d.sample_sizes"
   ]
  },
  {
   "cell_type": "code",
   "execution_count": 14,
   "metadata": {
    "collapsed": true
   },
   "outputs": [],
   "source": [
    "sfs2d.pop_ids = ['ery', 'par']"
   ]
  },
  {
   "cell_type": "code",
   "execution_count": 15,
   "metadata": {
    "collapsed": false
   },
   "outputs": [
    {
     "data": {
      "text/plain": [
       "60573.584426000001"
      ]
     },
     "execution_count": 15,
     "metadata": {},
     "output_type": "execute_result"
    }
   ],
   "source": [
    "sfs2d.S()"
   ]
  },
  {
   "cell_type": "markdown",
   "metadata": {},
   "source": [
    "**Practically the same number of SNP's as in the bootstrapped SFS! That's not a good sign.**"
   ]
  },
  {
   "cell_type": "code",
   "execution_count": 17,
   "metadata": {
    "collapsed": false
   },
   "outputs": [
    {
     "data": {
      "text/plain": [
       "0.28549300000018718"
      ]
     },
     "execution_count": 17,
     "metadata": {},
     "output_type": "execute_result"
    }
   ],
   "source": [
    "(sfs2d - boot_2dsfs).sum()"
   ]
  },
  {
   "cell_type": "markdown",
   "metadata": {
    "collapsed": true
   },
   "source": [
    "The bootstrap SFS is practically identical to the data SFS ?!"
   ]
  },
  {
   "cell_type": "markdown",
   "metadata": {
    "collapsed": true
   },
   "source": [
    "So the `sites` function to angsd or realSFS cannot be used for bootstrapping (see angsd issue [#81](https://github.com/ANGSD/angsd/issues/81))."
   ]
  },
  {
   "cell_type": "markdown",
   "metadata": {},
   "source": [
    "However, since the contigs are the independent units I want to resample over, it may be possible to use a bootstrapped regions file."
   ]
  },
  {
   "cell_type": "markdown",
   "metadata": {},
   "source": [
    "## Bootstrap regions file"
   ]
  },
  {
   "cell_type": "code",
   "execution_count": 11,
   "metadata": {
    "collapsed": true
   },
   "outputs": [],
   "source": [
    "# write out bootstrapped *rf file\n",
    "\n",
    "with open(\"0_boot_regions.rf\", \"w\") as out:\n",
    "    for contig in sorted(boot_contigs, key=lambda x: int(x.replace(\"Contig_\", \"\"))):\n",
    "            out.write(contig + \"\\n\")"
   ]
  },
  {
   "cell_type": "code",
   "execution_count": 16,
   "metadata": {
    "collapsed": false
   },
   "outputs": [
    {
     "name": "stdout",
     "output_type": "stream",
     "text": [
      "total 130496\r\n",
      "-rw-rw-r-- 1 claudius   300658 Jun 20 12:01 0_boot.contigs\r\n",
      "-rw-rw-r-- 1 claudius 17624911 Jun 20 13:42 0_boot.extract\r\n",
      "-rw-rw-r-- 1 claudius   473510 Jun 30 10:23 0_boot_regions.rf\r\n",
      "-rw-rw-r-- 1 claudius   300658 May 13 09:25 0_boot.rf\r\n",
      "-rw-rw-r-- 1 claudius 29326563 May 13 09:24 0_boot.sites\r\n",
      "-rw-rw-r-- 1 claudius    45188 May 13 09:25 0_boot.sites.bin\r\n",
      "-rw-rw-r-- 1 claudius   824026 May 13 09:25 0_boot.sites.idx\r\n",
      "-rw-rw-r-- 1 claudius    73375 Jun 15 21:41 5000_uniq_sites\r\n",
      "-rw-rw-r-- 1 claudius      199 Jun 15 21:42 5000_uniq_sites.bin\r\n",
      "-rw-rw-r-- 1 claudius     4133 Jun 15 21:42 5000_uniq_sites.idx\r\n",
      "lrwxrwxrwx 1 claudius      108 Jun 30 10:37 \u001b[0m\u001b[01;36mall.sites\u001b[0m -> ../ParEry.noSEgt2.nogtQ99Cov.noDUST.3.15.noTGCAGG.ANGSD_combinedNegFisFiltered.noGtQ99GlobalCov.sorted.sites\r\n",
      "-rw-rw-r-- 1 claudius      773 Jun 15 21:42 angsdput.arg\r\n",
      "lrwxrwxrwx 1 claudius       18 May 13 09:30 \u001b[01;36mBig_Data_ref.fa\u001b[0m -> ../Big_Data_ref.fa\r\n",
      "lrwxrwxrwx 1 claudius       22 May 13 09:30 \u001b[01;36mBig_Data_ref.fa.fai\u001b[0m -> ../Big_Data_ref.fa.fai\r\n",
      "-rw-rw-r-- 1 claudius    52726 Jun 30 10:35 bootstrap_contigs.ipynb\r\n",
      "-rw-rw-r-- 1 claudius 27705674 Jun 20 13:53 ERY.all.sites\r\n",
      "-rw-rw-r-- 1 claudius   450784 Jun 20 11:53 ERY.contigs\r\n",
      "-rw-rw-r-- 1 claudius      603 May 13 09:19 ERY.slim.bamfile.list\r\n",
      "-rw-rw-r-- 1 claudius 17624911 Jun 20 12:47 extract\r\n",
      "-rw-rw-r-- 1 claudius 19266627 May 13 20:35 log\r\n",
      "lrwxrwxrwx 1 claudius      105 Jun 30 09:45 \u001b[01;36mParEry.noSEgt2.nogtQ99Cov.noDUST.3.15.noTGCAGG.ANGSD_combinedNegFisFiltered.noGtQ99GlobalCov.sorted.rf\u001b[0m\u001b[K -> ../ParEry.noSEgt2.nogtQ99Cov.noDUST.3.15.noTGCAGG.ANGSD_combinedNegFisFiltered.noGtQ99GlobalCov.sorted.rf\r\n",
      "-rw-rw-r-- 1 claudius      603 May 13 09:20 PAR.slim.bamfile.list\r\n",
      "drwxrwxr-x 4 claudius     4096 Jun 30 09:37 \u001b[01;34mSAF\u001b[0m/\r\n",
      "drwxrwxr-x 2 claudius     4096 May 13 20:07 \u001b[01;34mSFS\u001b[0m/\r\n",
      "drwxrwxr-x 2 claudius     4096 Jun 30 10:31 \u001b[01;34mSPLIT_RF\u001b[0m/\r\n",
      "-rw-rw-r-- 1 claudius 18611061 May 14 19:28 uniq.boot.sites\r\n",
      "-rw-rw-r-- 1 claudius    45188 May 14 19:30 uniq.boot.sites.bin\r\n",
      "-rw-rw-r-- 1 claudius   824026 May 14 19:30 uniq.boot.sites.idx\r\n"
     ]
    }
   ],
   "source": [
    "% ll"
   ]
  },
  {
   "cell_type": "code",
   "execution_count": null,
   "metadata": {
    "collapsed": true
   },
   "outputs": [],
   "source": [
    "# split regions file\n",
    "\n",
    "sp.call(\"split -l 500 0_boot_regions.rf SPLIT_RF/\", shell=True)"
   ]
  },
  {
   "cell_type": "code",
   "execution_count": 14,
   "metadata": {
    "collapsed": false
   },
   "outputs": [
    {
     "name": "stdout",
     "output_type": "stream",
     "text": [
      "total 8\r\n",
      "drwxrwxr-x 2 claudius 4096 Jun 30 09:37 \u001b[0m\u001b[01;34mwith_boot.rf\u001b[0m/\r\n",
      "drwxrwxr-x 4 claudius 4096 Jun 30 09:36 \u001b[01;34mwith_boot.sites\u001b[0m/\r\n"
     ]
    }
   ],
   "source": [
    "% ll SAF"
   ]
  },
  {
   "cell_type": "markdown",
   "metadata": {},
   "source": [
    "I have run angsd with GNU parallel on the split regions files and the data for ERY, then merged the SAF files with `realSFS cat`. Printing the merged SAF file with `realSFS print` then emits the following error message:\n",
    "\n",
    ">Problem with chr: Contig_20977, key already exists, saffile needs to be sorted. (sort your -rf that you used for input)"
   ]
  },
  {
   "cell_type": "markdown",
   "metadata": {},
   "source": [
    "So it looks as though realSFS is really picky about contigs occurring more than once in the SAF file, which precludes bootstrapping."
   ]
  },
  {
   "cell_type": "markdown",
   "metadata": {
    "collapsed": true
   },
   "source": [
    "http://www.popgen.dk/angsd/index.php/RealSFS"
   ]
  },
  {
   "cell_type": "markdown",
   "metadata": {},
   "source": [
    ">./realSFS cat\n",
    "\n",
    "    -> This will cat together .saf files from angsd\n",
    "    -> regions has to be disjoint between saf files. This WONT be checked (alot) !\n",
    "    -> This has only been tested on safs for different chrs !"
   ]
  },
  {
   "cell_type": "markdown",
   "metadata": {},
   "source": [
    "I am going to try and create SAF files which do not overlap in the contigs that they contain. For that I need to split the regions file in a way that repeated contig names (they are sorted) do not end up in different split region files."
   ]
  },
  {
   "cell_type": "code",
   "execution_count": 9,
   "metadata": {
    "collapsed": true
   },
   "outputs": [],
   "source": [
    "from collections import Counter"
   ]
  },
  {
   "cell_type": "code",
   "execution_count": 10,
   "metadata": {
    "collapsed": true
   },
   "outputs": [],
   "source": [
    "# turn array of contigs into a hash with counts\n",
    "boot_contigs_dict = Counter(boot_contigs)"
   ]
  },
  {
   "cell_type": "code",
   "execution_count": 11,
   "metadata": {
    "collapsed": false
   },
   "outputs": [
    {
     "name": "stdout",
     "output_type": "stream",
     "text": [
      "Contig_43174 1\n",
      "Contig_102226 1\n",
      "Contig_172473 2\n",
      "Contig_292243 1\n",
      "Contig_283507 2\n",
      "Contig_177118 1\n",
      "Contig_2831 3\n",
      "Contig_102887 1\n",
      "Contig_8131 1\n",
      "Contig_250266 2\n",
      "Contig_281014 1\n"
     ]
    }
   ],
   "source": [
    "i=0\n",
    "for k,v in boot_contigs_dict.items():\n",
    "    print k, v\n",
    "    i+=1\n",
    "    if i > 10:\n",
    "        break"
   ]
  },
  {
   "cell_type": "code",
   "execution_count": 13,
   "metadata": {
    "collapsed": false
   },
   "outputs": [
    {
     "data": {
      "text/plain": [
       "21637"
      ]
     },
     "execution_count": 13,
     "metadata": {},
     "output_type": "execute_result"
    }
   ],
   "source": [
    "len(boot_contigs_dict.keys())"
   ]
  },
  {
   "cell_type": "code",
   "execution_count": 16,
   "metadata": {
    "collapsed": false
   },
   "outputs": [
    {
     "name": "stdout",
     "output_type": "stream",
     "text": [
      "Contig_16\n",
      "Contig_17\n",
      "Contig_46\n",
      "Contig_46\n",
      "Contig_46\n",
      "Contig_53\n",
      "Contig_99\n",
      "Contig_99\n",
      "Contig_179\n",
      "Contig_181\n",
      "Contig_181\n",
      "Contig_186\n",
      "Contig_186\n",
      "Contig_186\n",
      "Contig_195\n",
      "Contig_195\n",
      "Contig_219\n",
      "Contig_219\n",
      "Contig_241\n"
     ]
    }
   ],
   "source": [
    "i=0\n",
    "for k,v in sorted(boot_contigs_dict.items(), key=lambda x: int(x[0].replace(\"Contig_\", \"\"))):\n",
    "    for _ in range(v):\n",
    "        print k\n",
    "    i+=1\n",
    "    if i > 10:\n",
    "        break"
   ]
  },
  {
   "cell_type": "markdown",
   "metadata": {},
   "source": [
    "Now let's introduce a split about every 10 contigs."
   ]
  },
  {
   "cell_type": "code",
   "execution_count": 18,
   "metadata": {
    "collapsed": false
   },
   "outputs": [
    {
     "name": "stdout",
     "output_type": "stream",
     "text": [
      "Contig_16\n",
      "Contig_17\n",
      "Contig_46\n",
      "Contig_46\n",
      "Contig_46\n",
      "Contig_53\n",
      "Contig_99\n",
      "Contig_99\n",
      "Contig_179\n",
      "***************\n",
      "\n",
      "Contig_181\n",
      "Contig_181\n",
      "Contig_186\n",
      "Contig_186\n",
      "Contig_186\n",
      "Contig_195\n",
      "Contig_195\n",
      "Contig_219\n",
      "Contig_219\n",
      "Contig_241\n",
      "***************\n",
      "\n",
      "Contig_252\n",
      "Contig_252\n",
      "Contig_270\n",
      "Contig_270\n",
      "Contig_270\n",
      "Contig_284\n",
      "Contig_284\n",
      "Contig_284\n",
      "***************\n",
      "\n",
      "Contig_299\n",
      "Contig_299\n",
      "Contig_299\n",
      "Contig_333\n",
      "Contig_333\n",
      "Contig_366\n",
      "Contig_392\n",
      "Contig_397\n",
      "Contig_404\n",
      "Contig_431\n"
     ]
    }
   ],
   "source": [
    "i=0\n",
    "c = 0\n",
    "for k,v in sorted(boot_contigs_dict.items(), key=lambda x: int(x[0].replace(\"Contig_\", \"\"))):\n",
    "    c+=v\n",
    "    if c > 10:\n",
    "        print \"***************\\n\"\n",
    "        c=v\n",
    "    for _ in range(v):\n",
    "        print k\n",
    "    i+=1\n",
    "    if i > 20:\n",
    "        break"
   ]
  },
  {
   "cell_type": "markdown",
   "metadata": {},
   "source": [
    "This looks good. No repetitions of contigs are spread over splits."
   ]
  },
  {
   "cell_type": "code",
   "execution_count": 22,
   "metadata": {
    "collapsed": false
   },
   "outputs": [
    {
     "data": {
      "text/plain": [
       "'ABCDEFGHIJKLMNOPQRSTUVWXYZabcdefghijklmnopqrstuvwxyz'"
      ]
     },
     "execution_count": 22,
     "metadata": {},
     "output_type": "execute_result"
    }
   ],
   "source": [
    "import string\n",
    "\n",
    "string.letters"
   ]
  },
  {
   "cell_type": "code",
   "execution_count": 24,
   "metadata": {
    "collapsed": true
   },
   "outputs": [],
   "source": [
    "from itertools import product"
   ]
  },
  {
   "cell_type": "code",
   "execution_count": 37,
   "metadata": {
    "collapsed": false
   },
   "outputs": [
    {
     "name": "stdout",
     "output_type": "stream",
     "text": [
      "aa  ab  ac  ad  ae  af  ag  ah  ai  aj  ak  al  am  an  ao  ap  aq  ar  as  at  au  av  aw  ax  ay  az  ba  bb  bc  bd  be  bf  bg  bh  bi  bj  bk  bl  bm  bn  bo  bp  bq  br  bs  bt  bu  bv  bw  bx  by  bz  ca  cb  cc  cd  ce  cf  cg  ch  ci  cj  ck  cl  cm  cn  co  cp  cq  cr  cs  ct  cu  cv  cw  cx  cy  cz  da  db  dc  dd  de  df  dg  dh  di  dj  dk  dl  dm  dn  do  dp  dq  dr  ds  dt  du  dv  dw  dx  dy  dz  ea  eb  ec  ed  ee  ef  eg  eh  ei  ej  ek  el  em  en  eo  ep  eq  er  es  et  eu  ev  ew  ex  ey  ez  fa  fb  fc  fd  fe  ff  fg  fh  fi  fj  fk  fl  fm  fn  fo  fp  fq  fr  fs  ft  fu  fv  fw  fx  fy  fz  ga  gb  gc  gd  ge  gf  gg  gh  gi  gj  gk  gl  gm  gn  go  gp  gq  gr  gs  gt  gu  gv  gw  gx  gy  gz  ha  hb  hc  hd  he  hf  hg  hh  hi  hj  hk  hl  hm  hn  ho  hp  hq  hr  hs  ht  hu  hv  hw  hx  hy  hz  ia  ib  ic  id  ie  if  ig  ih  ii  ij  ik  il  im  in  io  ip  iq  ir  is  it  iu  iv  iw  ix  iy  iz  ja  jb  jc  jd  je  jf  jg  jh  ji  jj  jk  jl  jm  jn  jo  jp  jq  jr  js  jt  ju  jv  jw  jx  jy  jz  ka  kb  kc  kd  ke  kf  kg  kh  ki  kj  kk  kl  km  kn  ko  kp  kq  kr  ks  kt  ku  kv  kw  kx  ky  kz  la  lb  lc  ld  le  lf  lg  lh  li  lj  lk  ll  lm  ln  lo  lp  lq  lr  ls  lt  lu  lv  lw  lx  ly  lz  ma  mb  mc  md  me  mf  mg  mh  mi  mj  mk  ml  mm  mn  mo  mp  mq  mr  ms  mt  mu  mv  mw  mx  my  mz  na  nb  nc  nd  ne  nf  ng  nh  ni  nj  nk  nl  nm  nn  no  np  nq  nr  ns  nt  nu  nv  nw  nx  ny  nz  oa  ob  oc  od  oe  of  og  oh  oi  oj  ok  ol  om  on  oo  op  oq  or  os  ot  ou  ov  ow  ox  oy  oz  pa  pb  pc  pd  pe  pf  pg  ph  pi  pj  pk  pl  pm  pn  po  pp  pq  pr  ps  pt  pu  pv  pw  px  py  pz  qa  qb  qc  qd  qe  qf  qg  qh  qi  qj  qk  ql  qm  qn  qo  qp  qq  qr  qs  qt  qu  qv  qw  qx  qy  qz  ra  rb  rc  rd  re  rf  rg  rh  ri  rj  rk  rl  rm  rn  ro  rp  rq  rr  rs  rt  ru  rv  rw  rx  ry  rz  sa  sb  sc  sd  se  sf  sg  sh  si  sj  sk  sl  sm  sn  so  sp  sq  sr  ss  st  su  sv  sw  sx  sy  sz  ta  tb  tc  td  te  tf  tg  th  ti  tj  tk  tl  tm  tn  to  tp  tq  tr  ts  tt  tu  tv  tw  tx  ty  tz  ua  ub  uc  ud  ue  uf  ug  uh  ui  uj  uk  ul  um  un  uo  up  uq  ur  us  ut  uu  uv  uw  ux  uy  uz  va  vb  vc  vd  ve  vf  vg  vh  vi  vj  vk  vl  vm  vn  vo  vp  vq  vr  vs  vt  vu  vv  vw  vx  vy  vz  wa  wb  wc  wd  we  wf  wg  wh  wi  wj  wk  wl  wm  wn  wo  wp  wq  wr  ws  wt  wu  wv  ww  wx  wy  wz  xa  xb  xc  xd  xe  xf  xg  xh  xi  xj  xk  xl  xm  xn  xo  xp  xq  xr  xs  xt  xu  xv  xw  xx  xy  xz  ya  yb  yc  yd  ye  yf  yg  yh  yi  yj  yk  yl  ym  yn  yo  yp  yq  yr  ys  yt  yu  yv  yw  yx  yy  yz  za  zb  zc  zd  ze  zf  zg  zh  zi  zj  zk  zl  zm  zn  zo  zp  zq  zr  zs  zt  zu  zv  zw  zx  zy  zz \n"
     ]
    }
   ],
   "source": [
    "for n in product(string.lowercase, repeat=2):\n",
    "    print n[0] + n[1] + \" \","
   ]
  },
  {
   "cell_type": "code",
   "execution_count": 38,
   "metadata": {
    "collapsed": false
   },
   "outputs": [
    {
     "data": {
      "text/plain": [
       "676"
      ]
     },
     "execution_count": 38,
     "metadata": {},
     "output_type": "execute_result"
    }
   ],
   "source": [
    "len([n for n in product(string.lowercase, repeat=2)])"
   ]
  },
  {
   "cell_type": "markdown",
   "metadata": {},
   "source": [
    "That is plenty of file names to choose from."
   ]
  },
  {
   "cell_type": "code",
   "execution_count": 39,
   "metadata": {
    "collapsed": false
   },
   "outputs": [],
   "source": [
    "# write out bootstrapped *rf file\n",
    "\n",
    "import string\n",
    "\n",
    "c = 0 # initialise contig count\n",
    "\n",
    "# create iterator over filenames\n",
    "fnames = product(string.lowercase, repeat=2)\n",
    "\n",
    "# get next file name from iterator\n",
    "fn = fnames.next()\n",
    "\n",
    "# open new file for writing and get filehandle\n",
    "out = open(\"split_rf/\" + fn[0] + fn[1], \"w\")\n",
    "\n",
    "# iterate over Counter dict of bootstrapped contigs, key=contig name, value=count (rep)\n",
    "for contig,rep in sorted(boot_contigs_dict.items(), key=lambda x: int(x[0].replace(\"Contig_\", \"\"))):\n",
    "    c+=rep\n",
    "    if c > 500: # write up to 500 contigs to each split rf file\n",
    "        out.close() # close current rf file\n",
    "        fn = fnames.next() # get next file name from iterator\n",
    "        out = open(\"split_rf/\" + fn[0] + fn[1], \"w\") # open new rf file for writing\n",
    "        c = rep\n",
    "    for _ in range(rep): # write contig name to rf file as often as it occurs in the bootstrap resample\n",
    "        out.write(contig + \"\\n\")"
   ]
  },
  {
   "cell_type": "markdown",
   "metadata": {},
   "source": [
    "This seems to do the right thing."
   ]
  },
  {
   "cell_type": "code",
   "execution_count": 41,
   "metadata": {
    "collapsed": true
   },
   "outputs": [],
   "source": [
    "# read in bootstrapped spectrum\n",
    "fs_ery_boot = dadi.Spectrum.from_file(\"SAF/with_nonoverlap_boot.rf/ERY/ERY.unfolded.sfs.boot.dadi\")"
   ]
  },
  {
   "cell_type": "code",
   "execution_count": 42,
   "metadata": {
    "collapsed": false
   },
   "outputs": [
    {
     "data": {
      "text/plain": [
       "Spectrum([-- 12061.369337 8088.236441 4033.007626 4183.531849 2044.459909\n",
       " 2422.425854 1164.866685 2234.166715 958.505069 759.042515 1301.049135\n",
       " 784.395058 1510.324164 262.853288 802.700476 911.777712 147.789718\n",
       " 886.927741 302.58643 752.911035 367.541716 970.812291 1.692308 221.734213\n",
       " 478.167135 509.879753 14.328992 759.431867 434.554307 222.625349\n",
       " 801.855819 319.511115 606.56004 688.757957 937.349398 --], folded=False, pop_ids=None)"
      ]
     },
     "execution_count": 42,
     "metadata": {},
     "output_type": "execute_result"
    }
   ],
   "source": [
    "fs_ery_boot"
   ]
  },
  {
   "cell_type": "code",
   "execution_count": 46,
   "metadata": {
    "collapsed": false,
    "scrolled": true
   },
   "outputs": [
    {
     "name": "stdout",
     "output_type": "stream",
     "text": [
      "total 340\r\n",
      "-rw-rw-r-- 1 claudius    229 Dec 22  2016 ERY.FOLDED.sfs\r\n",
      "-rw-rw-r-- 1 claudius    229 Dec 22  2016 ERY.FOLDED.sfs1\r\n",
      "-rw-rw-r-- 1 claudius    229 Dec 21  2016 ERY.FOLDED.sfs2\r\n",
      "-rw-rw-r-- 1 claudius    228 Dec 21  2016 ERY.FOLDED.sfs3\r\n",
      "-rw-rw-r-- 1 claudius    228 Dec 21  2016 ERY.FOLDED.sfs4\r\n",
      "-rw-rw-r-- 1 claudius 227889 Dec 20  2016 ERY.FOLDED.sfs.boot\r\n",
      "-rw-rw-r-- 1 claudius  45397 Dec 23  2016 ERY.FOLDED.sfs.boot.exh\r\n",
      "-rw-rw-r-- 1 claudius  22870 Dec 22  2016 ERY.FOLDED.sfs.ml\r\n",
      "-rw-rw-r-- 1 claudius    421 Mar 24 12:54 ERY.unfolded.sfs\r\n",
      "-rw-rw-r-- 1 claudius    433 Jun 30 15:42 ERY.unfolded.sfs.dadi\r\n",
      "-rw-rw-r-- 1 claudius    421 Jun 30 15:41 ERY.unfolded.sfs.dadi~\r\n"
     ]
    }
   ],
   "source": [
    "% ll ../SFS/ERY/"
   ]
  },
  {
   "cell_type": "code",
   "execution_count": 47,
   "metadata": {
    "collapsed": false
   },
   "outputs": [],
   "source": [
    "# read in original spectrum\n",
    "fs_ery = dadi.Spectrum.from_file(\"../SFS/ERY/ERY.unfolded.sfs.dadi\")"
   ]
  },
  {
   "cell_type": "code",
   "execution_count": 48,
   "metadata": {
    "collapsed": false
   },
   "outputs": [
    {
     "data": {
      "text/plain": [
       "Spectrum([-- 7148.627587 6831.82843 3473.268669 3417.59199 2249.932322 1980.824357\n",
       " 1011.763357 2262.489617 557.169754 1049.858226 1159.694611 768.373223\n",
       " 1125.393799 448.462048 544.635916 1014.348661 147.731786 975.251801\n",
       " 233.415985 851.137519 12.642136 803.134099 0.128476 567.179523 446.009983\n",
       " 158.967094 484.096759 372.70562 540.860079 95.276852 808.290844 234.084809\n",
       " 614.920896 625.008059 890.804592 --], folded=False, pop_ids=None)"
      ]
     },
     "execution_count": 48,
     "metadata": {},
     "output_type": "execute_result"
    }
   ],
   "source": [
    "fs_ery"
   ]
  },
  {
   "cell_type": "code",
   "execution_count": 51,
   "metadata": {
    "collapsed": false
   },
   "outputs": [
    {
     "data": {
      "text/plain": [
       "<matplotlib.legend.Legend at 0x7fe3d67bf190>"
      ]
     },
     "execution_count": 51,
     "metadata": {},
     "output_type": "execute_result"
    },
    {
     "data": {
      "image/png": "[encoded data removed]",
      "text/plain": [
       "<matplotlib.figure.Figure at 0x7fe40ba20510>"
      ]
     },
     "metadata": {},
     "output_type": "display_data"
    }
   ],
   "source": [
    "pylab.plot(fs_ery.fold(), \"ro-\", label=\"original\")\n",
    "pylab.plot(fs_ery_boot.fold(), 'bs-', label=\"bootstrapped\")\n",
    "pylab.legend()"
   ]
  },
  {
   "cell_type": "code",
   "execution_count": 52,
   "metadata": {
    "collapsed": false
   },
   "outputs": [
    {
     "data": {
      "text/plain": [
       "43905.909479000002"
      ]
     },
     "execution_count": 52,
     "metadata": {},
     "output_type": "execute_result"
    }
   ],
   "source": [
    "# get number of segregating sites for original spectrum\n",
    "\n",
    "fs_ery.S()"
   ]
  },
  {
   "cell_type": "code",
   "execution_count": 53,
   "metadata": {
    "collapsed": false
   },
   "outputs": [
    {
     "data": {
      "text/plain": [
       "52947.729016999998"
      ]
     },
     "execution_count": 53,
     "metadata": {},
     "output_type": "execute_result"
    }
   ],
   "source": [
    "# get number of segregating sites for bootstrapped spectrum\n",
    "\n",
    "fs_ery_boot.S()"
   ]
  },
  {
   "cell_type": "code",
   "execution_count": 62,
   "metadata": {
    "collapsed": false
   },
   "outputs": [
    {
     "data": {
      "text/plain": [
       "1638467.9999999998"
      ]
     },
     "execution_count": 62,
     "metadata": {},
     "output_type": "execute_result"
    }
   ],
   "source": [
    "# get total number of sites in the original spectrum\n",
    "\n",
    "fs_ery.data.sum()"
   ]
  },
  {
   "cell_type": "code",
   "execution_count": 63,
   "metadata": {
    "collapsed": false
   },
   "outputs": [
    {
     "data": {
      "text/plain": [
       "1618903.9999969997"
      ]
     },
     "execution_count": 63,
     "metadata": {},
     "output_type": "execute_result"
    }
   ],
   "source": [
    "# get total number of sites in the bootstrapped spectrum\n",
    "\n",
    "fs_ery_boot.data.sum()"
   ]
  },
  {
   "cell_type": "markdown",
   "metadata": {},
   "source": [
    "That looks good: similar but not almost identical values."
   ]
  },
  {
   "cell_type": "markdown",
   "metadata": {},
   "source": [
    "**This really does look like a proper bootstrap!**"
   ]
  },
  {
   "cell_type": "markdown",
   "metadata": {},
   "source": [
    "I need to generate a second bootstrapped SFS to convince myself that this is actually working."
   ]
  },
  {
   "cell_type": "code",
   "execution_count": 54,
   "metadata": {
    "collapsed": false
   },
   "outputs": [
    {
     "name": "stdout",
     "output_type": "stream",
     "text": [
      "total 131900\r\n",
      "-rw-rw-r-- 1 claudius   300658 Jun 20 12:01 0_boot.contigs\r\n",
      "-rw-rw-r-- 1 claudius 17624911 Jun 20 13:42 0_boot.extract\r\n",
      "-rw-rw-r-- 1 claudius   473510 Jun 30 10:23 0_boot_regions.rf\r\n",
      "-rw-rw-r-- 1 claudius   300658 May 13 09:25 0_boot.rf\r\n",
      "-rw-rw-r-- 1 claudius 29326563 May 13 09:24 0_boot.sites\r\n",
      "-rw-rw-r-- 1 claudius    45188 May 13 09:25 0_boot.sites.bin\r\n",
      "-rw-rw-r-- 1 claudius   824026 May 13 09:25 0_boot.sites.idx\r\n",
      "-rw-rw-r-- 1 claudius    73375 Jun 15 21:41 5000_uniq_sites\r\n",
      "-rw-rw-r-- 1 claudius      199 Jun 15 21:42 5000_uniq_sites.bin\r\n",
      "-rw-rw-r-- 1 claudius     4133 Jun 15 21:42 5000_uniq_sites.idx\r\n",
      "lrwxrwxrwx 1 claudius      108 Jun 30 10:37 \u001b[0m\u001b[01;36mall.sites\u001b[0m -> ../ParEry.noSEgt2.nogtQ99Cov.noDUST.3.15.noTGCAGG.ANGSD_combinedNegFisFiltered.noGtQ99GlobalCov.sorted.sites\r\n",
      "-rw-rw-r-- 1 claudius    70791 Jun 30 10:45 all.sites.bin\r\n",
      "-rw-rw-r-- 1 claudius  1297713 Jun 30 10:45 all.sites.idx\r\n",
      "-rw-rw-r-- 1 claudius      773 Jun 15 21:42 angsdput.arg\r\n",
      "lrwxrwxrwx 1 claudius       18 May 13 09:30 \u001b[01;36mBig_Data_ref.fa\u001b[0m -> ../Big_Data_ref.fa\r\n",
      "lrwxrwxrwx 1 claudius       22 May 13 09:30 \u001b[01;36mBig_Data_ref.fa.fai\u001b[0m -> ../Big_Data_ref.fa.fai\r\n",
      "-rw-rw-r-- 1 claudius   112548 Jun 30 15:52 bootstrap_contigs.ipynb\r\n",
      "-rw-rw-r-- 1 claudius 27705674 Jun 20 13:53 ERY.all.sites\r\n",
      "-rw-rw-r-- 1 claudius   450784 Jun 20 11:53 ERY.contigs\r\n",
      "-rw-rw-r-- 1 claudius      603 May 13 09:19 ERY.slim.bamfile.list\r\n",
      "-rw-rw-r-- 1 claudius 17624911 Jun 20 12:47 extract\r\n",
      "-rw-rw-r-- 1 claudius 19266627 May 13 20:35 log\r\n",
      "lrwxrwxrwx 1 claudius      105 Jun 30 09:45 \u001b[01;36mParEry.noSEgt2.nogtQ99Cov.noDUST.3.15.noTGCAGG.ANGSD_combinedNegFisFiltered.noGtQ99GlobalCov.sorted.rf\u001b[0m\u001b[K -> ../ParEry.noSEgt2.nogtQ99Cov.noDUST.3.15.noTGCAGG.ANGSD_combinedNegFisFiltered.noGtQ99GlobalCov.sorted.rf\r\n",
      "-rw-rw-r-- 1 claudius      603 May 13 09:20 PAR.slim.bamfile.list\r\n",
      "drwxrwxr-x 5 claudius     4096 Jun 30 15:09 \u001b[01;34mSAF\u001b[0m/\r\n",
      "drwxrwxr-x 2 claudius     4096 May 13 20:07 \u001b[01;34mSFS\u001b[0m/\r\n",
      "drwxrwxr-x 2 claudius     4096 Jun 30 15:05 \u001b[01;34msplit_rf\u001b[0m/\r\n",
      "drwxrwxr-x 2 claudius     4096 Jun 30 10:31 \u001b[01;34mSPLIT_RF\u001b[0m/\r\n",
      "-rw-rw-r-- 1 claudius 18611061 May 14 19:28 uniq.boot.sites\r\n",
      "-rw-rw-r-- 1 claudius    45188 May 14 19:30 uniq.boot.sites.bin\r\n",
      "-rw-rw-r-- 1 claudius   824026 May 14 19:30 uniq.boot.sites.idx\r\n"
     ]
    }
   ],
   "source": [
    "% ll"
   ]
  },
  {
   "cell_type": "code",
   "execution_count": 55,
   "metadata": {
    "collapsed": true
   },
   "outputs": [],
   "source": [
    "# open sites file and read into dictionary\n",
    "# contigs as keys, with sites as values collected in array \n",
    "\n",
    "SITES = defaultdict(list)\n",
    "\n",
    "with open(\"all.sites\") as sites_file:\n",
    "    for line in sites_file:\n",
    "        contig, site = line.strip().split()\n",
    "        SITES[contig].append(site)"
   ]
  },
  {
   "cell_type": "code",
   "execution_count": 56,
   "metadata": {
    "collapsed": true
   },
   "outputs": [],
   "source": [
    "# efficient bootstrapping of keys with numpy\n",
    "# np.random.choice\n",
    "\n",
    "n_contigs = len(SITES.keys())\n",
    "\n",
    "boot_contigs = np.random.choice(SITES.keys(), size=n_contigs, replace=True)"
   ]
  },
  {
   "cell_type": "code",
   "execution_count": 57,
   "metadata": {
    "collapsed": true
   },
   "outputs": [],
   "source": [
    "# turn array of contigs into a hash with counts\n",
    "boot_contigs_dict = Counter(boot_contigs)"
   ]
  },
  {
   "cell_type": "code",
   "execution_count": 58,
   "metadata": {
    "collapsed": false
   },
   "outputs": [
    {
     "data": {
      "text/plain": [
       "21765"
      ]
     },
     "execution_count": 58,
     "metadata": {},
     "output_type": "execute_result"
    }
   ],
   "source": [
    "len(boot_contigs_dict)"
   ]
  },
  {
   "cell_type": "code",
   "execution_count": 59,
   "metadata": {
    "collapsed": true
   },
   "outputs": [],
   "source": [
    "# write out bootstrapped *rf file\n",
    "\n",
    "import string\n",
    "\n",
    "c = 0 # initialise contig count\n",
    "\n",
    "# create iterator over filenames\n",
    "fnames = product(string.lowercase, repeat=2)\n",
    "\n",
    "# get next file name from iterator\n",
    "fn = fnames.next()\n",
    "\n",
    "# open new file for writing and get filehandle\n",
    "out = open(\"split_rf/\" + fn[0] + fn[1], \"w\")\n",
    "\n",
    "# iterate over Counter dict of bootstrapped contigs, key=contig name, value=count (rep)\n",
    "for contig,rep in sorted(boot_contigs_dict.items(), key=lambda x: int(x[0].replace(\"Contig_\", \"\"))):\n",
    "    c+=rep\n",
    "    if c > 500: # write up to 500 contigs to each split rf file\n",
    "        out.close() # close current rf file\n",
    "        fn = fnames.next() # get next file name from iterator\n",
    "        out = open(\"split_rf/\" + fn[0] + fn[1], \"w\") # open new rf file for writing\n",
    "        c = rep\n",
    "    for _ in range(rep): # write contig name to rf file as often as it occurs in the bootstrap resample\n",
    "        out.write(contig + \"\\n\")"
   ]
  },
  {
   "cell_type": "code",
   "execution_count": 61,
   "metadata": {
    "collapsed": false
   },
   "outputs": [
    {
     "data": {
      "text/plain": [
       "5"
      ]
     },
     "execution_count": 61,
     "metadata": {},
     "output_type": "execute_result"
    }
   ],
   "source": [
    "boot_contigs_dict['Contig_10071']"
   ]
  },
  {
   "cell_type": "code",
   "execution_count": 64,
   "metadata": {
    "collapsed": true
   },
   "outputs": [],
   "source": [
    "fs_ery_boot_1 = dadi.Spectrum.from_file(\"SAF/with_nonoverlap_boot.rf/ERY/ERY.unfolded.sfs.boot_1.dadi\")"
   ]
  },
  {
   "cell_type": "code",
   "execution_count": 65,
   "metadata": {
    "collapsed": false
   },
   "outputs": [
    {
     "data": {
      "text/plain": [
       "<matplotlib.legend.Legend at 0x7fe3d673c590>"
      ]
     },
     "execution_count": 65,
     "metadata": {},
     "output_type": "execute_result"
    },
    {
     "data": {
      "image/png": "[encoded data removed]",
      "text/plain": [
       "<matplotlib.figure.Figure at 0x7fe3d65652d0>"
      ]
     },
     "metadata": {},
     "output_type": "display_data"
    }
   ],
   "source": [
    "pylab.plot(fs_ery.fold(), \"ro-\", label=\"original\")\n",
    "pylab.plot(fs_ery_boot_1.fold(), 'bs-', label=\"bootstrapped\")\n",
    "pylab.legend()"
   ]
  },
  {
   "cell_type": "code",
   "execution_count": 66,
   "metadata": {
    "collapsed": false
   },
   "outputs": [
    {
     "data": {
      "text/plain": [
       "1620889.0"
      ]
     },
     "execution_count": 66,
     "metadata": {},
     "output_type": "execute_result"
    }
   ],
   "source": [
    "fs_ery_boot_1.data.sum()"
   ]
  },
  {
   "cell_type": "markdown",
   "metadata": {},
   "source": [
    "This looks really good. I am convinced that this bootstrapping works!"
   ]
  },
  {
   "cell_type": "markdown",
   "metadata": {},
   "source": [
    "Now I need to create an programme that does this over and over again."
   ]
  },
  {
   "cell_type": "code",
   "execution_count": 2,
   "metadata": {
    "collapsed": true
   },
   "outputs": [],
   "source": [
    "import numpy as np"
   ]
  },
  {
   "cell_type": "code",
   "execution_count": 4,
   "metadata": {
    "collapsed": true
   },
   "outputs": [],
   "source": [
    "# open regions file and read into numpy array\n",
    "\n",
    "REGIONS = []\n",
    "\n",
    "with open(\"all.rf\") as regions_file:\n",
    "    for line in regions_file:\n",
    "        contig = line.strip()\n",
    "        REGIONS.append(contig)"
   ]
  },
  {
   "cell_type": "code",
   "execution_count": 5,
   "metadata": {
    "collapsed": false
   },
   "outputs": [
    {
     "data": {
      "text/plain": [
       "['Contig_16',\n",
       " 'Contig_17',\n",
       " 'Contig_40',\n",
       " 'Contig_46',\n",
       " 'Contig_53',\n",
       " 'Contig_99',\n",
       " 'Contig_179',\n",
       " 'Contig_181',\n",
       " 'Contig_186',\n",
       " 'Contig_195']"
      ]
     },
     "execution_count": 5,
     "metadata": {},
     "output_type": "execute_result"
    }
   ],
   "source": [
    "REGIONS[:10]"
   ]
  },
  {
   "cell_type": "code",
   "execution_count": 6,
   "metadata": {
    "collapsed": false
   },
   "outputs": [
    {
     "data": {
      "text/plain": [
       "34343"
      ]
     },
     "execution_count": 6,
     "metadata": {},
     "output_type": "execute_result"
    }
   ],
   "source": [
    "len(REGIONS)"
   ]
  },
  {
   "cell_type": "code",
   "execution_count": 7,
   "metadata": {
    "collapsed": true
   },
   "outputs": [],
   "source": [
    "# efficient bootstrapping of contigs with numpy\n",
    "# np.random.choice\n",
    "\n",
    "n_contigs = len(REGIONS)\n",
    "\n",
    "boot_contigs = np.random.choice(REGIONS, size=n_contigs, replace=True)"
   ]
  },
  {
   "cell_type": "code",
   "execution_count": 8,
   "metadata": {
    "collapsed": true
   },
   "outputs": [],
   "source": [
    "from collections import Counter"
   ]
  },
  {
   "cell_type": "code",
   "execution_count": 9,
   "metadata": {
    "collapsed": true
   },
   "outputs": [],
   "source": [
    "boot_contigs_dict = Counter(boot_contigs)"
   ]
  },
  {
   "cell_type": "code",
   "execution_count": 10,
   "metadata": {
    "collapsed": false
   },
   "outputs": [
    {
     "data": {
      "text/plain": [
       "21644"
      ]
     },
     "execution_count": 10,
     "metadata": {},
     "output_type": "execute_result"
    }
   ],
   "source": [
    "len(boot_contigs_dict)"
   ]
  },
  {
   "cell_type": "code",
   "execution_count": 11,
   "metadata": {
    "collapsed": false
   },
   "outputs": [
    {
     "name": "stdout",
     "output_type": "stream",
     "text": [
      "total 131956\r\n",
      "-rw-rw-r-- 1 claudius   300658 Jun 20 12:01 0_boot.contigs\r\n",
      "-rw-rw-r-- 1 claudius 17624911 Jun 20 13:42 0_boot.extract\r\n",
      "-rw-rw-r-- 1 claudius   473510 Jun 30 10:23 0_boot_regions.rf\r\n",
      "-rw-rw-r-- 1 claudius   300658 May 13 09:25 0_boot.rf\r\n",
      "-rw-rw-r-- 1 claudius 29326563 May 13 09:24 0_boot.sites\r\n",
      "-rw-rw-r-- 1 claudius    45188 May 13 09:25 0_boot.sites.bin\r\n",
      "-rw-rw-r-- 1 claudius   824026 May 13 09:25 0_boot.sites.idx\r\n",
      "-rw-rw-r-- 1 claudius    73375 Jun 15 21:41 5000_uniq_sites\r\n",
      "-rw-rw-r-- 1 claudius      199 Jun 15 21:42 5000_uniq_sites.bin\r\n",
      "-rw-rw-r-- 1 claudius     4133 Jun 15 21:42 5000_uniq_sites.idx\r\n",
      "lrwxrwxrwx 1 claudius      105 Jun 30 19:27 \u001b[0m\u001b[01;36mall.rf\u001b[0m -> ../ParEry.noSEgt2.nogtQ99Cov.noDUST.3.15.noTGCAGG.ANGSD_combinedNegFisFiltered.noGtQ99GlobalCov.sorted.rf\r\n",
      "lrwxrwxrwx 1 claudius      108 Jun 30 10:37 \u001b[01;36mall.sites\u001b[0m -> ../ParEry.noSEgt2.nogtQ99Cov.noDUST.3.15.noTGCAGG.ANGSD_combinedNegFisFiltered.noGtQ99GlobalCov.sorted.sites\r\n",
      "-rw-rw-r-- 1 claudius    70791 Jun 30 10:45 all.sites.bin\r\n",
      "-rw-rw-r-- 1 claudius  1297713 Jun 30 10:45 all.sites.idx\r\n",
      "-rw-rw-r-- 1 claudius      773 Jun 15 21:42 angsdput.arg\r\n",
      "lrwxrwxrwx 1 claudius       18 May 13 09:30 \u001b[01;36mBig_Data_ref.fa\u001b[0m -> ../Big_Data_ref.fa\r\n",
      "lrwxrwxrwx 1 claudius       22 May 13 09:30 \u001b[01;36mBig_Data_ref.fa.fai\u001b[0m -> ../Big_Data_ref.fa.fai\r\n",
      "-rw-rw-r-- 1 claudius   169271 Jun 30 19:39 bootstrap_contigs.ipynb\r\n",
      "-rw-rw-r-- 1 claudius 27705674 Jun 20 13:53 ERY.all.sites\r\n",
      "-rw-rw-r-- 1 claudius   450784 Jun 20 11:53 ERY.contigs\r\n",
      "-rw-rw-r-- 1 claudius      603 May 13 09:19 ERY.slim.bamfile.list\r\n",
      "-rw-rw-r-- 1 claudius 17624911 Jun 20 12:47 extract\r\n",
      "-rw-rw-r-- 1 claudius 19266627 May 13 20:35 log\r\n",
      "-rw-rw-r-- 1 claudius      603 May 13 09:20 PAR.slim.bamfile.list\r\n",
      "drwxrwxr-x 7 claudius     4096 Jun 30 18:48 \u001b[01;34mSAF\u001b[0m/\r\n",
      "drwxrwxr-x 4 claudius     4096 Jun 30 18:50 \u001b[01;34mSFS\u001b[0m/\r\n",
      "drwxrwxr-x 2 claudius     4096 Jun 30 18:13 \u001b[01;34msplit_rf\u001b[0m/\r\n",
      "drwxrwxr-x 2 claudius     4096 Jun 30 10:31 \u001b[01;34mSPLIT_RF\u001b[0m/\r\n",
      "-rw-rw-r-- 1 claudius 18611061 May 14 19:28 uniq.boot.sites\r\n",
      "-rw-rw-r-- 1 claudius    45188 May 14 19:30 uniq.boot.sites.bin\r\n",
      "-rw-rw-r-- 1 claudius   824026 May 14 19:30 uniq.boot.sites.idx\r\n"
     ]
    }
   ],
   "source": [
    "% ll"
   ]
  },
  {
   "cell_type": "code",
   "execution_count": 12,
   "metadata": {
    "collapsed": false
   },
   "outputs": [
    {
     "name": "stdout",
     "output_type": "stream",
     "text": [
      "total 552\r\n",
      "-rw-rw-r-- 1 claudius 5922 Jun 30 18:13 aa\r\n",
      "-rw-rw-r-- 1 claudius 6213 Jun 30 18:13 ab\r\n",
      "-rw-rw-r-- 1 claudius 6500 Jun 30 18:13 ac\r\n",
      "-rw-rw-r-- 1 claudius 6500 Jun 30 18:13 ad\r\n",
      "-rw-rw-r-- 1 claudius 6474 Jun 30 18:13 ae\r\n",
      "-rw-rw-r-- 1 claudius 6500 Jun 30 18:13 af\r\n",
      "-rw-rw-r-- 1 claudius 6487 Jun 30 18:13 ag\r\n",
      "-rw-rw-r-- 1 claudius 6500 Jun 30 18:13 ah\r\n",
      "-rw-rw-r-- 1 claudius 6474 Jun 30 18:13 ai\r\n",
      "-rw-rw-r-- 1 claudius 6500 Jun 30 18:13 aj\r\n",
      "-rw-rw-r-- 1 claudius 6500 Jun 30 18:13 ak\r\n",
      "-rw-rw-r-- 1 claudius 6487 Jun 30 18:13 al\r\n",
      "-rw-rw-r-- 1 claudius 6487 Jun 30 18:13 am\r\n",
      "-rw-rw-r-- 1 claudius 6864 Jun 30 18:13 an\r\n",
      "-rw-rw-r-- 1 claudius 6986 Jun 30 18:13 ao\r\n",
      "-rw-rw-r-- 1 claudius 7000 Jun 30 18:13 ap\r\n",
      "-rw-rw-r-- 1 claudius 7000 Jun 30 18:13 aq\r\n",
      "-rw-rw-r-- 1 claudius 7000 Jun 30 18:13 ar\r\n",
      "-rw-rw-r-- 1 claudius 6986 Jun 30 18:13 as\r\n",
      "-rw-rw-r-- 1 claudius 6972 Jun 30 18:13 at\r\n",
      "-rw-rw-r-- 1 claudius 7000 Jun 30 18:13 au\r\n",
      "-rw-rw-r-- 1 claudius 7000 Jun 30 18:13 av\r\n",
      "-rw-rw-r-- 1 claudius 7000 Jun 30 18:13 aw\r\n",
      "-rw-rw-r-- 1 claudius 7000 Jun 30 18:13 ax\r\n",
      "-rw-rw-r-- 1 claudius 7000 Jun 30 18:13 ay\r\n",
      "-rw-rw-r-- 1 claudius 7000 Jun 30 18:13 az\r\n",
      "-rw-rw-r-- 1 claudius 7000 Jun 30 18:13 ba\r\n",
      "-rw-rw-r-- 1 claudius 6986 Jun 30 18:13 bb\r\n",
      "-rw-rw-r-- 1 claudius 7000 Jun 30 18:13 bc\r\n",
      "-rw-rw-r-- 1 claudius 7000 Jun 30 18:13 bd\r\n",
      "-rw-rw-r-- 1 claudius 6986 Jun 30 18:13 be\r\n",
      "-rw-rw-r-- 1 claudius 7000 Jun 30 18:13 bf\r\n",
      "-rw-rw-r-- 1 claudius 7000 Jun 30 18:13 bg\r\n",
      "-rw-rw-r-- 1 claudius 7000 Jun 30 18:13 bh\r\n",
      "-rw-rw-r-- 1 claudius 6986 Jun 30 18:13 bi\r\n",
      "-rw-rw-r-- 1 claudius 7000 Jun 30 18:13 bj\r\n",
      "-rw-rw-r-- 1 claudius 7000 Jun 30 18:13 bk\r\n",
      "-rw-rw-r-- 1 claudius 6930 Jun 30 18:13 bl\r\n",
      "-rw-rw-r-- 1 claudius 6986 Jun 30 18:13 bm\r\n",
      "-rw-rw-r-- 1 claudius 6986 Jun 30 18:13 bn\r\n",
      "-rw-rw-r-- 1 claudius 6986 Jun 30 18:13 bo\r\n",
      "-rw-rw-r-- 1 claudius 7000 Jun 30 18:13 bp\r\n",
      "-rw-rw-r-- 1 claudius 6958 Jun 30 18:13 bq\r\n",
      "-rw-rw-r-- 1 claudius 7000 Jun 30 18:13 br\r\n",
      "-rw-rw-r-- 1 claudius 7000 Jun 30 18:13 bs\r\n",
      "-rw-rw-r-- 1 claudius 6986 Jun 30 18:13 bt\r\n",
      "-rw-rw-r-- 1 claudius 7000 Jun 30 18:13 bu\r\n",
      "-rw-rw-r-- 1 claudius 6986 Jun 30 18:13 bv\r\n",
      "-rw-rw-r-- 1 claudius 6986 Jun 30 18:13 bw\r\n",
      "-rw-rw-r-- 1 claudius 7000 Jun 30 18:13 bx\r\n",
      "-rw-rw-r-- 1 claudius 6972 Jun 30 18:13 by\r\n",
      "-rw-rw-r-- 1 claudius 7000 Jun 30 18:13 bz\r\n",
      "-rw-rw-r-- 1 claudius 7000 Jun 30 18:13 ca\r\n",
      "-rw-rw-r-- 1 claudius 7000 Jun 30 18:13 cb\r\n",
      "-rw-rw-r-- 1 claudius 7000 Jun 30 18:13 cc\r\n",
      "-rw-rw-r-- 1 claudius 6986 Jun 30 18:13 cd\r\n",
      "-rw-rw-r-- 1 claudius 7000 Jun 30 18:13 ce\r\n",
      "-rw-rw-r-- 1 claudius 6986 Jun 30 18:13 cf\r\n",
      "-rw-rw-r-- 1 claudius 6972 Jun 30 18:13 cg\r\n",
      "-rw-rw-r-- 1 claudius 6986 Jun 30 18:13 ch\r\n",
      "-rw-rw-r-- 1 claudius 6986 Jun 30 18:13 ci\r\n",
      "-rw-rw-r-- 1 claudius 6986 Jun 30 18:13 cj\r\n",
      "-rw-rw-r-- 1 claudius 7000 Jun 30 18:13 ck\r\n",
      "-rw-rw-r-- 1 claudius 7000 Jun 30 18:13 cl\r\n",
      "-rw-rw-r-- 1 claudius 7000 Jun 30 18:13 cm\r\n",
      "-rw-rw-r-- 1 claudius 7000 Jun 30 18:13 cn\r\n",
      "-rw-rw-r-- 1 claudius 7000 Jun 30 18:13 co\r\n",
      "-rw-rw-r-- 1 claudius 6986 Jun 30 18:13 cp\r\n",
      "-rw-rw-r-- 1 claudius 5334 Jun 30 19:25 cq\r\n"
     ]
    }
   ],
   "source": [
    "% ll split_rf/"
   ]
  },
  {
   "cell_type": "code",
   "execution_count": 13,
   "metadata": {
    "collapsed": true
   },
   "outputs": [],
   "source": [
    "import subprocess32 as sp"
   ]
  },
  {
   "cell_type": "code",
   "execution_count": 14,
   "metadata": {
    "collapsed": false
   },
   "outputs": [
    {
     "data": {
      "text/plain": [
       "0"
      ]
     },
     "execution_count": 14,
     "metadata": {},
     "output_type": "execute_result"
    }
   ],
   "source": [
    "# remove split regions files from previous bootstrap\n",
    "\n",
    "sp.call(\"rm -f split_rf/*\", shell=True)"
   ]
  },
  {
   "cell_type": "code",
   "execution_count": 15,
   "metadata": {
    "collapsed": false
   },
   "outputs": [
    {
     "name": "stdout",
     "output_type": "stream",
     "text": [
      "total 0\r\n"
     ]
    }
   ],
   "source": [
    "% ll split_rf/"
   ]
  },
  {
   "cell_type": "code",
   "execution_count": 16,
   "metadata": {
    "collapsed": false
   },
   "outputs": [
    {
     "name": "stdout",
     "output_type": "stream",
     "text": [
      "total 0\r\n"
     ]
    }
   ],
   "source": [
    "% ll SAF/ERY"
   ]
  },
  {
   "cell_type": "code",
   "execution_count": 17,
   "metadata": {
    "collapsed": false
   },
   "outputs": [
    {
     "data": {
      "text/plain": [
       "0"
      ]
     },
     "execution_count": 17,
     "metadata": {},
     "output_type": "execute_result"
    }
   ],
   "source": [
    "sp.call(\"rm -f SAF/ERY/*\", shell=True)\n",
    "sp.call(\"rm -f SAF/PAR/*\", shell=True)"
   ]
  },
  {
   "cell_type": "code",
   "execution_count": 19,
   "metadata": {
    "collapsed": false
   },
   "outputs": [],
   "source": [
    "# write out bootstrapped *rf files\n",
    "\n",
    "import string\n",
    "from itertools import product\n",
    "\n",
    "c = 0 # initialise contig count\n",
    "\n",
    "# create iterator over filenames\n",
    "fnames = product(string.lowercase, repeat=2)\n",
    "\n",
    "# get next file name from iterator\n",
    "fn = fnames.next()\n",
    "\n",
    "# open new file for writing and get filehandle\n",
    "out = open(\"split_rf/\" + fn[0] + fn[1], \"w\")\n",
    "\n",
    "# iterate over Counter dict of bootstrapped contigs, key=contig name, value=count (rep)\n",
    "for contig,rep in sorted(boot_contigs_dict.items(), key=lambda x: int(x[0].replace(\"Contig_\", \"\"))):\n",
    "    c+=rep\n",
    "    if c > 500: # write up to 500 contigs to each split rf file\n",
    "        out.close() # close current rf file\n",
    "        fn = fnames.next() # get next file name from iterator\n",
    "        out = open(\"split_rf/\" + fn[0] + fn[1], \"w\") # open new rf file for writing\n",
    "        c = rep\n",
    "    for _ in range(rep): # write contig name to rf file as often as it occurs in the bootstrap resample\n",
    "        out.write(contig + \"\\n\")"
   ]
  },
  {
   "cell_type": "markdown",
   "metadata": {},
   "source": [
    "### estimate SAF's"
   ]
  },
  {
   "cell_type": "code",
   "execution_count": 20,
   "metadata": {
    "collapsed": true
   },
   "outputs": [],
   "source": [
    "cmd = 'ls split_rf/* | parallel -j 12 \"angsd -bam PAR.slim.bamfile.list -ref Big_Data_ref.fa -anc Big_Data_ref.fa -out SAF/PAR/PAR.unfolded.{/} -fold 0 \\\n",
    "-sites all.sites -rf {} -only_proper_pairs 0 -baq 1 -minMapQ 5 -minInd 9 -GL 1 -doSaf 1 -nThreads 1 2>/dev/null\"'"
   ]
  },
  {
   "cell_type": "code",
   "execution_count": 21,
   "metadata": {
    "collapsed": false
   },
   "outputs": [
    {
     "data": {
      "text/plain": [
       "'ls split_rf/* | parallel -j 12 \"angsd -bam PAR.slim.bamfile.list -ref Big_Data_ref.fa -anc Big_Data_ref.fa -out SAF/PAR/PAR.unfolded.{/} -fold 0 -sites all.sites -rf {} -only_proper_pairs 0 -baq 1 -minMapQ 5 -minInd 9 -GL 1 -doSaf 1 -nThreads 1 2>/dev/null\"'"
      ]
     },
     "execution_count": 21,
     "metadata": {},
     "output_type": "execute_result"
    }
   ],
   "source": [
    "cmd"
   ]
  },
  {
   "cell_type": "code",
   "execution_count": 22,
   "metadata": {
    "collapsed": false
   },
   "outputs": [
    {
     "data": {
      "text/plain": [
       "0"
      ]
     },
     "execution_count": 22,
     "metadata": {},
     "output_type": "execute_result"
    }
   ],
   "source": [
    "sp.call(cmd, shell=True)"
   ]
  },
  {
   "cell_type": "code",
   "execution_count": 25,
   "metadata": {
    "collapsed": false
   },
   "outputs": [
    {
     "data": {
      "text/plain": [
       "'ls split_rf/* | parallel -j 12 \"angsd -bam ERY.slim.bamfile.list -ref Big_Data_ref.fa -anc Big_Data_ref.fa -out SAF/ERY/ERY.unfolded.{/} -fold 0 -sites all.sites -rf {} -only_proper_pairs 0 -baq 1 -minMapQ 5 -minInd 9 -GL 1 -doSaf 1 -nThreads 1 2>/dev/null\"'"
      ]
     },
     "execution_count": 25,
     "metadata": {},
     "output_type": "execute_result"
    }
   ],
   "source": [
    "cmd = cmd.replace(\"PAR\", \"ERY\")\n",
    "cmd"
   ]
  },
  {
   "cell_type": "code",
   "execution_count": 26,
   "metadata": {
    "collapsed": false
   },
   "outputs": [
    {
     "data": {
      "text/plain": [
       "0"
      ]
     },
     "execution_count": 26,
     "metadata": {},
     "output_type": "execute_result"
    }
   ],
   "source": [
    "sp.call(cmd, shell=True)"
   ]
  },
  {
   "cell_type": "code",
   "execution_count": 27,
   "metadata": {
    "collapsed": false
   },
   "outputs": [
    {
     "data": {
      "text/plain": [
       "'realSFS cat -outnames SAF/ERY/ERY.unfolded.merged SAF/ERY/*saf.idx 2>/dev/null'"
      ]
     },
     "execution_count": 27,
     "metadata": {},
     "output_type": "execute_result"
    }
   ],
   "source": [
    "cmd = \"realSFS cat -outnames SAF/ERY/ERY.unfolded.merged SAF/ERY/*saf.idx 2>/dev/null\"\n",
    "cmd"
   ]
  },
  {
   "cell_type": "code",
   "execution_count": 28,
   "metadata": {
    "collapsed": false
   },
   "outputs": [
    {
     "data": {
      "text/plain": [
       "0"
      ]
     },
     "execution_count": 28,
     "metadata": {},
     "output_type": "execute_result"
    }
   ],
   "source": [
    "sp.call(cmd, shell=True)"
   ]
  },
  {
   "cell_type": "code",
   "execution_count": 30,
   "metadata": {
    "collapsed": false
   },
   "outputs": [],
   "source": [
    "cmd = cmd.replace(\"ERY\", \"PAR\")"
   ]
  },
  {
   "cell_type": "code",
   "execution_count": 31,
   "metadata": {
    "collapsed": false
   },
   "outputs": [
    {
     "data": {
      "text/plain": [
       "0"
      ]
     },
     "execution_count": 31,
     "metadata": {},
     "output_type": "execute_result"
    }
   ],
   "source": [
    "sp.call(cmd, shell=True)"
   ]
  },
  {
   "cell_type": "code",
   "execution_count": 37,
   "metadata": {
    "collapsed": false
   },
   "outputs": [
    {
     "data": {
      "text/plain": [
       "'realSFS SAF/ERY/ERY.unfolded.merged.saf.idx -P 20 2>/dev/null > SFS/1D/ERY/ERY.unfolded.0001.sfs'"
      ]
     },
     "execution_count": 37,
     "metadata": {},
     "output_type": "execute_result"
    }
   ],
   "source": [
    "cmd = \"realSFS SAF/ERY/ERY.unfolded.merged.saf.idx -P 20 2>/dev/null > SFS/1D/ERY/ERY.unfolded.{0:04d}.sfs\".format(1)\n",
    "cmd"
   ]
  },
  {
   "cell_type": "code",
   "execution_count": 38,
   "metadata": {
    "collapsed": true
   },
   "outputs": [],
   "source": [
    "p = sp.Popen(cmd, shell=True)"
   ]
  },
  {
   "cell_type": "code",
   "execution_count": 40,
   "metadata": {
    "collapsed": false
   },
   "outputs": [
    {
     "data": {
      "text/plain": [
       "'realSFS SAF/PAR/PAR.unfolded.merged.saf.idx -P 20 2>/dev/null > SFS/1D/PAR/PAR.unfolded.0001.sfs'"
      ]
     },
     "execution_count": 40,
     "metadata": {},
     "output_type": "execute_result"
    }
   ],
   "source": [
    "cmd = cmd.replace(\"ERY\", \"PAR\")\n",
    "cmd"
   ]
  },
  {
   "cell_type": "code",
   "execution_count": 41,
   "metadata": {
    "collapsed": false
   },
   "outputs": [
    {
     "data": {
      "text/plain": [
       "0"
      ]
     },
     "execution_count": 41,
     "metadata": {},
     "output_type": "execute_result"
    }
   ],
   "source": [
    "p.poll()"
   ]
  },
  {
   "cell_type": "code",
   "execution_count": 42,
   "metadata": {
    "collapsed": true
   },
   "outputs": [],
   "source": [
    "p = sp.Popen(cmd, shell=True)"
   ]
  },
  {
   "cell_type": "code",
   "execution_count": 44,
   "metadata": {
    "collapsed": false
   },
   "outputs": [
    {
     "data": {
      "text/plain": [
       "0"
      ]
     },
     "execution_count": 44,
     "metadata": {},
     "output_type": "execute_result"
    }
   ],
   "source": [
    "p.poll()"
   ]
  },
  {
   "cell_type": "code",
   "execution_count": 46,
   "metadata": {
    "collapsed": false
   },
   "outputs": [
    {
     "data": {
      "text/plain": [
       "'realSFS SAF/ERY/ERY.unfolded.merged.saf.idx SAF/PAR/PAR.unfolded.merged.saf.idx -P 20 2>/dev/null > SFS/2D/EryPar.unfolded.0001.sfs2d'"
      ]
     },
     "execution_count": 46,
     "metadata": {},
     "output_type": "execute_result"
    }
   ],
   "source": [
    "cmd = \"realSFS SAF/ERY/ERY.unfolded.merged.saf.idx SAF/PAR/PAR.unfolded.merged.saf.idx -P 20 2>/dev/null > SFS/2D/EryPar.unfolded.{0:04d}.sfs2d\".format(1)\n",
    "cmd"
   ]
  },
  {
   "cell_type": "code",
   "execution_count": 48,
   "metadata": {
    "collapsed": false
   },
   "outputs": [
    {
     "name": "stdout",
     "output_type": "stream",
     "text": [
      "-rw-rw-r-- 1 claudius 913078 Jun 30 20:01 SAF/ERY/ERY.unfolded.merged.saf.idx\r\n",
      "-rw-rw-r-- 1 claudius 678328 Jun 30 20:03 SAF/PAR/PAR.unfolded.merged.saf.idx\r\n"
     ]
    }
   ],
   "source": [
    "% ll SAF/ERY/ERY.unfolded.merged.saf.idx SAF/PAR/PAR.unfolded.merged.saf.idx"
   ]
  },
  {
   "cell_type": "code",
   "execution_count": 47,
   "metadata": {
    "collapsed": false
   },
   "outputs": [
    {
     "data": {
      "text/plain": [
       "0"
      ]
     },
     "execution_count": 47,
     "metadata": {},
     "output_type": "execute_result"
    }
   ],
   "source": [
    "sp.call(cmd, shell=True)"
   ]
  },
  {
   "cell_type": "markdown",
   "metadata": {},
   "source": [
    "This stops with an error. Apparently, finding the overlap in sites between two bootstrapped SAF files is not straightforward. See ANGSD issue [#86](https://github.com/ANGSD/angsd/issues/86)."
   ]
  },
  {
   "cell_type": "markdown",
   "metadata": {},
   "source": [
    "+ read in a regions file containing all contigs\n",
    "+ bootstrap those contigs\n",
    "+ turn bootstrapped contigs array into a Counter dict\n",
    "+ clean split_rf and SAF/ERY and SAF/PAR directory\n",
    "+ write out split rf files\n",
    "+ run angsd on split rf files in parallel for ERY and for PAR\n",
    "+ concatenate split saf files for ERY and PAR\n",
    "+ estimate 1D SFS\n",
    "+ estimate 2D SFS"
   ]
  },
  {
   "cell_type": "markdown",
   "metadata": {
    "collapsed": true
   },
   "source": [
    "## Get intersection of sites between ERY and PAR"
   ]
  },
  {
   "cell_type": "markdown",
   "metadata": {},
   "source": [
    "I would like to create a `sites` file that only contains sites for which there are at least 9 individuals in _each_ population with read data. I have previously created SAF files for each population including only sites with read data from at least 9 individuals. I have extracted those sites from the SAF files. While doing that I also sorted on contig number, then on position within contig. This will be required by the following algorithm for finding the intersection between these two `sites` files."
   ]
  },
  {
   "cell_type": "code",
   "execution_count": 4,
   "metadata": {
    "collapsed": false
   },
   "outputs": [
    {
     "name": "stdout",
     "output_type": "stream",
     "text": [
      "-rw-rw-r-- 1 claudius 27705674 Aug  9 21:42 ../SAFs/ERY/ERY.sites\r\n"
     ]
    }
   ],
   "source": [
    "% ll ../SAFs/ERY/*sites"
   ]
  },
  {
   "cell_type": "code",
   "execution_count": 5,
   "metadata": {
    "collapsed": false
   },
   "outputs": [
    {
     "name": "stdout",
     "output_type": "stream",
     "text": [
      "-rw-rw-r-- 1 claudius 20530830 Aug  9 21:43 ../SAFs/PAR/PAR.sites\r\n"
     ]
    }
   ],
   "source": [
    "% ll ../SAFs/PAR/*sites"
   ]
  },
  {
   "cell_type": "code",
   "execution_count": 6,
   "metadata": {
    "collapsed": true
   },
   "outputs": [],
   "source": [
    "ery_sites = open(\"../SAFs/ERY/ERY.sites\", \"r\")\n",
    "par_sites = open(\"../SAFs/PAR/PAR.sites\", \"r\")"
   ]
  },
  {
   "cell_type": "code",
   "execution_count": 7,
   "metadata": {
    "collapsed": true
   },
   "outputs": [],
   "source": [
    "from itertools import izip"
   ]
  },
  {
   "cell_type": "code",
   "execution_count": 8,
   "metadata": {
    "collapsed": false
   },
   "outputs": [
    {
     "name": "stdout",
     "output_type": "stream",
     "text": [
      "Contig_16\t8 Contig_40\t8\n",
      "Contig_16\t9 Contig_40\t9\n",
      "Contig_16\t10 Contig_40\t10\n",
      "Contig_16\t11 Contig_40\t11\n",
      "Contig_16\t12 Contig_40\t12\n",
      "Contig_16\t13 Contig_40\t13\n",
      "Contig_16\t14 Contig_40\t14\n",
      "Contig_16\t15 Contig_40\t15\n",
      "Contig_16\t16 Contig_40\t16\n",
      "Contig_16\t17 Contig_40\t17\n",
      "Contig_16\t18 Contig_40\t18\n"
     ]
    }
   ],
   "source": [
    "i=0\n",
    "for ery,par in izip(ery_sites, par_sites):\n",
    "    i+=1\n",
    "    print ery.rstrip(), par.rstrip()\n",
    "    if i>10: break"
   ]
  },
  {
   "cell_type": "code",
   "execution_count": 12,
   "metadata": {
    "collapsed": false
   },
   "outputs": [
    {
     "name": "stdout",
     "output_type": "stream",
     "text": [
      "Contig_40\t8\n",
      "Contig_40\t9\n",
      "Contig_40\t10\n",
      "Contig_40\t11\n",
      "Contig_40\t12\n",
      "Contig_40\t13\n",
      "Contig_40\t14\n",
      "Contig_40\t15\n",
      "Contig_40\t16\n",
      "Contig_40\t17\n",
      "Contig_40\t18\n",
      "Contig_40\t19\n",
      "Contig_40\t20\n",
      "Contig_40\t21\n",
      "Contig_40\t22\n",
      "Contig_40\t23\n",
      "Contig_40\t24\n",
      "Contig_40\t25\n",
      "Contig_40\t26\n",
      "Contig_40\t27\n",
      "Contig_40\t28\n",
      "Contig_40\t29\n",
      "Contig_40\t30\n",
      "Contig_40\t31\n",
      "Contig_40\t32\n",
      "Contig_40\t33\n",
      "Contig_40\t34\n",
      "Contig_40\t35\n",
      "Contig_40\t36\n",
      "Contig_40\t37\n",
      "Contig_40\t38\n",
      "Contig_40\t39\n",
      "Contig_40\t40\n",
      "Contig_40\t41\n",
      "Contig_40\t42\n",
      "Contig_40\t43\n",
      "Contig_40\t44\n",
      "Contig_40\t45\n",
      "Contig_40\t46\n",
      "Contig_40\t47\n",
      "Contig_53\t8\n",
      "Contig_53\t9\n",
      "Contig_53\t10\n",
      "Contig_53\t11\n",
      "Contig_53\t12\n",
      "Contig_53\t13\n",
      "Contig_53\t14\n",
      "Contig_53\t15\n",
      "Contig_53\t16\n",
      "Contig_53\t17\n",
      "Contig_53\t18\n",
      "Contig_53\t19\n",
      "Contig_53\t20\n",
      "Contig_53\t21\n",
      "Contig_53\t22\n",
      "Contig_53\t23\n",
      "Contig_53\t24\n",
      "Contig_53\t25\n",
      "Contig_53\t26\n",
      "Contig_53\t27\n",
      "Contig_53\t28\n",
      "Contig_53\t29\n",
      "Contig_53\t30\n",
      "Contig_53\t31\n",
      "Contig_53\t32\n",
      "Contig_53\t33\n",
      "Contig_53\t34\n",
      "Contig_53\t35\n",
      "Contig_53\t36\n",
      "Contig_53\t37\n",
      "Contig_53\t38\n",
      "Contig_53\t39\n",
      "Contig_53\t40\n",
      "Contig_53\t41\n",
      "Contig_53\t42\n",
      "Contig_53\t43\n",
      "Contig_53\t44\n",
      "Contig_53\t45\n",
      "Contig_53\t46\n",
      "Contig_53\t47\n",
      "Contig_179\t8\n",
      "Contig_179\t9\n",
      "Contig_179\t10\n",
      "Contig_179\t11\n",
      "Contig_179\t12\n",
      "Contig_179\t13\n",
      "Contig_179\t14\n",
      "Contig_179\t15\n",
      "Contig_179\t16\n",
      "Contig_179\t17\n",
      "Contig_179\t18\n",
      "Contig_179\t19\n",
      "Contig_179\t20\n",
      "Contig_179\t21\n",
      "Contig_179\t22\n",
      "Contig_179\t23\n",
      "Contig_179\t24\n",
      "Contig_179\t25\n",
      "Contig_179\t26\n",
      "Contig_179\t27\n",
      "Contig_179\t28\n",
      "Contig_179\t29\n",
      "Contig_179\t30\n",
      "Contig_179\t31\n",
      "Contig_179\t32\n",
      "Contig_179\t33\n",
      "Contig_179\t34\n",
      "Contig_179\t35\n",
      "Contig_179\t36\n",
      "Contig_179\t37\n",
      "Contig_179\t38\n",
      "Contig_179\t39\n",
      "Contig_179\t40\n",
      "Contig_179\t41\n",
      "Contig_179\t42\n",
      "Contig_179\t43\n",
      "Contig_179\t44\n",
      "Contig_179\t45\n",
      "Contig_179\t46\n",
      "Contig_179\t47\n",
      "Contig_179\t115\n",
      "Contig_179\t116\n",
      "Contig_179\t117\n",
      "Contig_179\t118\n",
      "Contig_181\t8\n",
      "Contig_181\t9\n",
      "Contig_181\t10\n",
      "Contig_181\t12\n",
      "Contig_181\t13\n",
      "Contig_181\t14\n",
      "Contig_181\t15\n",
      "Contig_181\t16\n",
      "Contig_181\t17\n",
      "Contig_181\t18\n",
      "Contig_181\t19\n",
      "Contig_181\t20\n",
      "Contig_181\t21\n",
      "Contig_181\t22\n",
      "Contig_181\t23\n",
      "Contig_181\t24\n",
      "Contig_181\t25\n",
      "Contig_181\t26\n",
      "Contig_181\t27\n",
      "Contig_181\t28\n",
      "Contig_181\t29\n",
      "Contig_181\t30\n",
      "Contig_181\t31\n",
      "Contig_181\t32\n",
      "Contig_181\t33\n",
      "Contig_181\t34\n",
      "Contig_181\t35\n",
      "Contig_181\t36\n",
      "Contig_181\t37\n",
      "Contig_181\t38\n",
      "Contig_181\t39\n",
      "Contig_181\t40\n",
      "Contig_181\t41\n",
      "Contig_181\t42\n",
      "Contig_181\t43\n",
      "Contig_181\t44\n",
      "Contig_181\t45\n",
      "Contig_195\t8\n",
      "Contig_195\t9\n",
      "Contig_195\t10\n",
      "Contig_195\t11\n",
      "Contig_195\t12\n",
      "Contig_195\t13\n",
      "Contig_195\t14\n",
      "Contig_195\t15\n",
      "Contig_195\t16\n",
      "Contig_195\t17\n",
      "Contig_195\t18\n",
      "Contig_195\t19\n",
      "Contig_195\t20\n",
      "Contig_195\t21\n",
      "Contig_195\t22\n",
      "Contig_195\t23\n",
      "Contig_195\t24\n",
      "Contig_195\t25\n",
      "Contig_195\t26\n",
      "Contig_195\t27\n",
      "Contig_195\t28\n",
      "Contig_195\t29\n",
      "Contig_195\t30\n",
      "Contig_195\t31\n",
      "Contig_195\t32\n",
      "Contig_195\t33\n",
      "Contig_195\t34\n",
      "Contig_195\t35\n",
      "Contig_195\t36\n",
      "Contig_195\t37\n",
      "Contig_195\t38\n",
      "Contig_195\t39\n",
      "Contig_195\t40\n",
      "Contig_195\t41\n",
      "Contig_195\t42\n",
      "Contig_195\t43\n",
      "Contig_195\t44\n",
      "Contig_195\t45\n",
      "Contig_195\t46\n",
      "Contig_195\t47\n"
     ]
    }
   ],
   "source": [
    "ery_sites.seek(0)\n",
    "par_sites.seek(0)\n",
    "\n",
    "i=0\n",
    "\n",
    "ery_forward = True\n",
    "par_forward = True\n",
    "\n",
    "while 1: \n",
    "    # stop loop when reaching end of file\n",
    "    if ery_forward:\n",
    "        try:\n",
    "            ery = ery_sites.next()\n",
    "        except:\n",
    "            break \n",
    "    if par_forward:\n",
    "        try:\n",
    "            par = par_sites.next()\n",
    "        except:\n",
    "            break\n",
    "    # extract contig ID and position within contig\n",
    "    e = ery.replace(\"Contig_\", \"\").rstrip().split()\n",
    "    p = par.replace(\"Contig_\", \"\").rstrip().split()\n",
    "    # if contig ID of ery lower than of par\n",
    "    if int(e[0]) < int(p[0]): \n",
    "        ery_forward = True \n",
    "        par_forward = False\n",
    "    elif int(e[0]) > int(p[0]):\n",
    "        ery_forward = False\n",
    "        par_forward = True\n",
    "    # if position within contig of ery lower than of par\n",
    "    elif int(e[1]) < int(p[1]):\n",
    "        ery_forward = True \n",
    "        par_forward = False\n",
    "    elif int(e[1]) > int(p[1]):\n",
    "        ery_forward = False\n",
    "        par_forward = True\n",
    "    else:\n",
    "        print ery,\n",
    "        ery_forward = True\n",
    "        par_forward = True\n",
    "        i+=1\n",
    "        if i > 200: break"
   ]
  },
  {
   "cell_type": "markdown",
   "metadata": {},
   "source": [
    "That seems to work correctly."
   ]
  },
  {
   "cell_type": "code",
   "execution_count": 15,
   "metadata": {
    "collapsed": true
   },
   "outputs": [],
   "source": [
    "def printIntersection(fh_1, fh_2, out_fh):\n",
    "    ery_forward = True\n",
    "    par_forward = True\n",
    "\n",
    "    while 1: \n",
    "        # stop loop when reaching end of file\n",
    "        if ery_forward:\n",
    "            try:\n",
    "                ery = fh_1.next()\n",
    "            except:\n",
    "                break \n",
    "        if par_forward:\n",
    "            try:\n",
    "                par = fh_2.next()\n",
    "            except:\n",
    "                break\n",
    "        # extract contig ID and position within contig\n",
    "        e = ery.replace(\"Contig_\", \"\").rstrip().split()\n",
    "        p = par.replace(\"Contig_\", \"\").rstrip().split()\n",
    "        # if contig ID of ery lower than of par\n",
    "        if int(e[0]) < int(p[0]): \n",
    "            ery_forward = True \n",
    "            par_forward = False\n",
    "        elif int(e[0]) > int(p[0]):\n",
    "            ery_forward = False\n",
    "            par_forward = True\n",
    "        # if position within contig of ery lower than in par\n",
    "        elif int(e[1]) < int(p[1]):\n",
    "            ery_forward = True \n",
    "            par_forward = False\n",
    "        elif int(e[1]) > int(p[1]):\n",
    "            ery_forward = False\n",
    "            par_forward = True\n",
    "        else:\n",
    "            out_fh.write(ery)\n",
    "            ery_forward = True\n",
    "            par_forward = True"
   ]
  },
  {
   "cell_type": "code",
   "execution_count": 13,
   "metadata": {
    "collapsed": true
   },
   "outputs": [],
   "source": [
    "?int"
   ]
  },
  {
   "cell_type": "code",
   "execution_count": 16,
   "metadata": {
    "collapsed": true
   },
   "outputs": [],
   "source": [
    "ery_sites = open(\"../SAFs/ERY/ERY.sites\", \"r\")\n",
    "par_sites = open(\"../SAFs/PAR/PAR.sites\", \"r\")"
   ]
  },
  {
   "cell_type": "code",
   "execution_count": 17,
   "metadata": {
    "collapsed": true
   },
   "outputs": [],
   "source": [
    "ery_sites.seek(0)\n",
    "par_sites.seek(0)"
   ]
  },
  {
   "cell_type": "code",
   "execution_count": 18,
   "metadata": {
    "collapsed": true
   },
   "outputs": [],
   "source": [
    "out = open(\"from_SAFs_minInd9_overlapping.sites\", \"w\")"
   ]
  },
  {
   "cell_type": "code",
   "execution_count": 19,
   "metadata": {
    "collapsed": true
   },
   "outputs": [],
   "source": [
    "printIntersection(ery_sites, par_sites, out)"
   ]
  },
  {
   "cell_type": "code",
   "execution_count": 20,
   "metadata": {
    "collapsed": false
   },
   "outputs": [
    {
     "name": "stdout",
     "output_type": "stream",
     "text": [
      "total 144500\r\n",
      "-rw-rw-r-- 1 claudius   300658 Jun 20 12:01 0_boot.contigs\r\n",
      "-rw-rw-r-- 1 claudius 17624911 Jun 20 13:42 0_boot.extract\r\n",
      "-rw-rw-r-- 1 claudius   473510 Jun 30 10:23 0_boot_regions.rf\r\n",
      "-rw-rw-r-- 1 claudius   300658 May 13 09:25 0_boot.rf\r\n",
      "-rw-rw-r-- 1 claudius 29326563 May 13 09:24 0_boot.sites\r\n",
      "-rw-rw-r-- 1 claudius    45188 May 13 09:25 0_boot.sites.bin\r\n",
      "-rw-rw-r-- 1 claudius   824026 May 13 09:25 0_boot.sites.idx\r\n",
      "-rw-rw-r-- 1 claudius    73375 Jun 15 21:41 5000_uniq_sites\r\n",
      "-rw-rw-r-- 1 claudius      199 Jun 15 21:42 5000_uniq_sites.bin\r\n",
      "-rw-rw-r-- 1 claudius     4133 Jun 15 21:42 5000_uniq_sites.idx\r\n",
      "lrwxrwxrwx 1 claudius      105 Jun 30 19:27 \u001b[0m\u001b[01;36mall.rf\u001b[0m -> ../ParEry.noSEgt2.nogtQ99Cov.noDUST.3.15.noTGCAGG.ANGSD_combinedNegFisFiltered.noGtQ99GlobalCov.sorted.rf\r\n",
      "lrwxrwxrwx 1 claudius      108 Jun 30 10:37 \u001b[01;36mall.sites\u001b[0m -> ../ParEry.noSEgt2.nogtQ99Cov.noDUST.3.15.noTGCAGG.ANGSD_combinedNegFisFiltered.noGtQ99GlobalCov.sorted.sites\r\n",
      "-rw-rw-r-- 1 claudius    70791 Jun 30 10:45 all.sites.bin\r\n",
      "-rw-rw-r-- 1 claudius  1297713 Jun 30 10:45 all.sites.idx\r\n",
      "-rw-rw-r-- 1 claudius      773 Jun 15 21:42 angsdput.arg\r\n",
      "lrwxrwxrwx 1 claudius       18 May 13 09:30 \u001b[01;36mBig_Data_ref.fa\u001b[0m -> ../Big_Data_ref.fa\r\n",
      "lrwxrwxrwx 1 claudius       22 May 13 09:30 \u001b[01;36mBig_Data_ref.fa.fai\u001b[0m -> ../Big_Data_ref.fa.fai\r\n",
      "-rw-rw-r-- 1 claudius   207327 Aug 10 11:12 bootstrap_contigs.ipynb\r\n",
      "-rw-rw-r-- 1 claudius 27705674 Jun 20 13:53 ERY.all.sites\r\n",
      "-rw-rw-r-- 1 claudius   450784 Jun 20 11:53 ERY.contigs\r\n",
      "-rw-rw-r-- 1 claudius      603 May 13 09:19 ERY.slim.bamfile.list\r\n",
      "-rw-rw-r-- 1 claudius 17624911 Jun 20 12:47 extract\r\n",
      "-rw-rw-r-- 1 claudius 12808192 Aug 10 11:12 from_SAFs_minInd9_overlapping.sites\r\n",
      "-rw-rw-r-- 1 claudius 19266627 May 13 20:35 log\r\n",
      "-rw-rw-r-- 1 claudius      603 May 13 09:20 PAR.slim.bamfile.list\r\n",
      "drwxrwxr-x 7 claudius     4096 Jun 30 18:48 \u001b[01;34mSAF\u001b[0m/\r\n",
      "drwxrwxr-x 4 claudius     4096 Jun 30 18:50 \u001b[01;34mSFS\u001b[0m/\r\n",
      "drwxrwxr-x 2 claudius     4096 Jun 30 19:45 \u001b[01;34msplit_rf\u001b[0m/\r\n",
      "drwxrwxr-x 2 claudius     4096 Jun 30 10:31 \u001b[01;34mSPLIT_RF\u001b[0m/\r\n",
      "-rw-rw-r-- 1 claudius 18611061 May 14 19:28 uniq.boot.sites\r\n",
      "-rw-rw-r-- 1 claudius    45188 May 14 19:30 uniq.boot.sites.bin\r\n",
      "-rw-rw-r-- 1 claudius   824026 May 14 19:30 uniq.boot.sites.idx\r\n"
     ]
    }
   ],
   "source": [
    "% ll"
   ]
  },
  {
   "cell_type": "code",
   "execution_count": 20,
   "metadata": {
    "collapsed": false
   },
   "outputs": [
    {
     "name": "stdout",
     "output_type": "stream",
     "text": [
      "1130592 from_SAFs_minInd9_overlapping.sites\r\n"
     ]
    }
   ],
   "source": [
    "! wc -l from_SAFs_minInd9_overlapping.sites"
   ]
  },
  {
   "cell_type": "markdown",
   "metadata": {},
   "source": [
    "The unfolded 2D SFS estimated with these two SAF files and `realSFS` contains 1.13 million sites (see line 1449 in `assembly.sh`), summing over the SFS. So this seems to have worked correctly."
   ]
  },
  {
   "cell_type": "markdown",
   "metadata": {},
   "source": [
    "Another way to get to the overlapping sites is directly from the `samtools depth` file. See line 1320 in `assembly.sh` for the command line that created a depth file for the final filtered sites that I used for ANGSD analysis.  "
   ]
  },
  {
   "cell_type": "markdown",
   "metadata": {},
   "source": [
    "Counting sites with at least 9 individuals with read data in ERY and PAR in the depth file confirms that the number of overlapping sites must be around 1.13 million (see `assembly.sh`, line 2541 onwards). However, the numbers counted from the depth file are slightly higher than the number of sites in the SAF files, probably due to some additional filtering via the `angsd -dosaf` commands (see line 1426 onwards in `assembly.sh`). It really can only be the mapping quality filter. Note that the site coverages in the depth file were from reads with MQ at least 5. It could be that `-Q 5` in the `samtools depth` command means `>=5`, whereas `minMapQ 5` for ANGSD means `>5`."
   ]
  },
  {
   "cell_type": "code",
   "execution_count": 28,
   "metadata": {
    "collapsed": false
   },
   "outputs": [
    {
     "name": "stdout",
     "output_type": "stream",
     "text": [
      "total 282420\r\n",
      "-rw-rw-r-- 1 claudius      4000 Dec 11  2016 contigs_Gt999Cov\r\n",
      "-rw-r--r-- 1 claudius 263754704 Dec 11  2016 depth.table.RData\r\n",
      "-rw-rw-r-- 1 claudius         4 Dec 11  2016 global.Q99.cov\r\n",
      "-rw-rw-r-- 1 claudius      5545 Dec 11  2016 gtGlobalQ99.contigs\r\n",
      "-rw-rw-r-- 1 claudius   7977170 Dec 11  2016 \u001b[0m\u001b[01;31mParEry.noSEgt2.nogtQ99Cov.noDUST.3.15.noTGCAGG.ANGSD_combinedNegFisFiltered.noGtQ99GlobalCov.sorted.depths.gz\u001b[0m\u001b[K\r\n",
      "-rw-rw-r-- 1 claudius   8626346 Dec 11  2016 \u001b[01;31mParEry.noSEgt2.nogtQ99Cov.noDUST.3.15.noTGCAGG.ANGSD_combinedNegFisFiltered.sorted.depths.gz\u001b[0m\u001b[K\r\n",
      "-rw-rw-r-- 1 claudius      6163 Dec 11  2016 ParEry.qc.arg\r\n",
      "-rw-rw-r-- 1 claudius   4122716 Dec 11  2016 \u001b[01;31mParEry.qc.counts.gz\u001b[0m\r\n",
      "-rw-rw-r-- 1 claudius      4102 Dec 11  2016 ParEry.qc.depthGlobal\r\n",
      "-rw-rw-r-- 1 claudius     80008 Dec 11  2016 ParEry.qc.depthSample\r\n",
      "-rw-rw-r-- 1 claudius   4555828 Dec 11  2016 \u001b[01;31mParEry.qc.pos.gz\u001b[0m\r\n",
      "drwxr-xr-x 3 claudius      4096 Dec 11  2016 \u001b[01;34mQC_cache\u001b[0m/\r\n",
      "drwxr-xr-x 6 claudius      4096 Dec 11  2016 \u001b[01;34mQC_files\u001b[0m/\r\n",
      "-rw-r--r-- 1 claudius      9339 Dec 11  2016 QC.html\r\n",
      "-rw-r--r-- 1 claudius      4422 Dec 11  2016 QC.Rmd\r\n"
     ]
    }
   ],
   "source": [
    "% ll ../Quality_Control/"
   ]
  },
  {
   "cell_type": "markdown",
   "metadata": {},
   "source": [
    "It is this file: `ParEry.noSEgt2.nogtQ99Cov.noDUST.3.15.noTGCAGG.ANGSD_combinedNegFisFiltered.noGtQ99GlobalCov.sorted.depths.gz`."
   ]
  },
  {
   "cell_type": "markdown",
   "metadata": {},
   "source": [
    "The sites in this depth file have at least 15 individuals with each at least 3x coverage. The first two columns in this file are contig ID and position. The remaining 36 columns contain the coverage for each individual. I believe columns 3 to 20 belong to ERY individuals and columns 21 to 38 to PAR individuals. Is used `gawk` commands to extract those sites (see line 2544 onwards in `assembly.sh`). The number of overlapping sites counted from the depth file is 1,143,453. So slightly higher than the overlap between the two SAF files. I am therefore going to use the sites file created from the overlap between the SAF files."
   ]
  },
  {
   "cell_type": "markdown",
   "metadata": {},
   "source": [
    "## plot SFS from only overlapping sites"
   ]
  },
  {
   "cell_type": "markdown",
   "metadata": {},
   "source": [
    "I have estimated 1D SFS for ERY and PAR using this sites file containing only overlapping sites. See `assembly.sh`, line 2576 onwards, for the details."
   ]
  },
  {
   "cell_type": "code",
   "execution_count": 1,
   "metadata": {
    "collapsed": false
   },
   "outputs": [
    {
     "name": "stdout",
     "output_type": "stream",
     "text": [
      "error in importing Two Locus modules\n"
     ]
    }
   ],
   "source": [
    "import numpy as np\n",
    "\n",
    "import sys\n",
    "\n",
    "sys.path.insert(0, '/home/claudius/Downloads/dadi')\n",
    "\n",
    "import dadi"
   ]
  },
  {
   "cell_type": "code",
   "execution_count": 4,
   "metadata": {
    "collapsed": false
   },
   "outputs": [
    {
     "name": "stdout",
     "output_type": "stream",
     "text": [
      "total 8\r\n",
      "-rw-rw-r-- 1 claudius 418 Aug 10 17:19 ERY.unfolded.sfs\r\n",
      "-rw-rw-r-- 1 claudius 464 Aug 10 17:57 ERY.unfolded.sfs.dadi\r\n"
     ]
    }
   ],
   "source": [
    "% ll minInd9_overlapping/SFS/ERY"
   ]
  },
  {
   "cell_type": "code",
   "execution_count": 37,
   "metadata": {
    "collapsed": false
   },
   "outputs": [],
   "source": [
    "fs_ery = dadi.Spectrum.from_file(\"minInd9_overlapping/SFS/original/ERY/ERY.unfolded.sfs.dadi\")"
   ]
  },
  {
   "cell_type": "code",
   "execution_count": 7,
   "metadata": {
    "collapsed": false
   },
   "outputs": [],
   "source": [
    "fs_ery.pop_ids = ['ery']"
   ]
  },
  {
   "cell_type": "code",
   "execution_count": 38,
   "metadata": {
    "collapsed": true
   },
   "outputs": [],
   "source": [
    "fs_par = dadi.Spectrum.from_file(\"minInd9_overlapping/SFS/original/PAR/PAR.unfolded.sfs.dadi\")"
   ]
  },
  {
   "cell_type": "code",
   "execution_count": 9,
   "metadata": {
    "collapsed": true
   },
   "outputs": [],
   "source": [
    "fs_par.pop_ids = ['par']"
   ]
  },
  {
   "cell_type": "code",
   "execution_count": 5,
   "metadata": {
    "collapsed": true
   },
   "outputs": [],
   "source": [
    "import matplotlib.pyplot as plt"
   ]
  },
  {
   "cell_type": "code",
   "execution_count": 6,
   "metadata": {
    "collapsed": true
   },
   "outputs": [],
   "source": [
    "%matplotlib inline"
   ]
  },
  {
   "cell_type": "code",
   "execution_count": 7,
   "metadata": {
    "collapsed": true
   },
   "outputs": [],
   "source": [
    "plt.rcParams['figure.figsize'] = [6, 5]\n",
    "plt.rcParams['font.size'] = 10"
   ]
  },
  {
   "cell_type": "code",
   "execution_count": 14,
   "metadata": {
    "collapsed": false,
    "scrolled": true
   },
   "outputs": [
    {
     "data": {
      "text/plain": [
       "<matplotlib.text.Text at 0x7fcd092218d0>"
      ]
     },
     "execution_count": 14,
     "metadata": {},
     "output_type": "execute_result"
    },
    {
     "data": {
      "image/png": "[encoded data removed]",
      "text/plain": [
       "<matplotlib.figure.Figure at 0x7fcd1100d410>"
      ]
     },
     "metadata": {},
     "output_type": "display_data"
    }
   ],
   "source": [
    "\n"
   ]
  },
  {
   "cell_type": "markdown",
   "metadata": {},
   "source": [
    "I would have expected these 1D SFS to look more like the marginal spectra from the 2D spectrum (see [05_2D_models.ipynb](../../DADI/05_2D_models.ipynb)). For the estimation of these SFS's, I have run `realSFS` without the accelerated mode and specified convergence parameters that allowed it to find a unique optimum (as I observed with previous 1D SFS from also non-overlapping sites). The 2D SFS I had estimated with the accelerated algorithm (see line 1439 in `assembly.sh`). So maybe it is not fully converged."
   ]
  },
  {
   "cell_type": "code",
   "execution_count": 15,
   "metadata": {
    "collapsed": false
   },
   "outputs": [
    {
     "name": "stdout",
     "output_type": "stream",
     "text": [
      "1130775.0\n",
      "1130775.0\n"
     ]
    }
   ],
   "source": [
    "print fs_ery.data.sum()\n",
    "print fs_par.data.sum()"
   ]
  },
  {
   "cell_type": "markdown",
   "metadata": {},
   "source": [
    "This is the same number of sites as in the 2D SFS."
   ]
  },
  {
   "cell_type": "code",
   "execution_count": 16,
   "metadata": {
    "collapsed": false
   },
   "outputs": [
    {
     "data": {
      "text/plain": [
       "36850.663118999997"
      ]
     },
     "execution_count": 16,
     "metadata": {},
     "output_type": "execute_result"
    }
   ],
   "source": [
    "fs_ery.S()"
   ]
  },
  {
   "cell_type": "markdown",
   "metadata": {},
   "source": [
    "The marginal spectrum for ERY had 31,162 segregating sites."
   ]
  },
  {
   "cell_type": "code",
   "execution_count": 17,
   "metadata": {
    "collapsed": false
   },
   "outputs": [
    {
     "data": {
      "text/plain": [
       "49967.999108000011"
      ]
     },
     "execution_count": 17,
     "metadata": {},
     "output_type": "execute_result"
    }
   ],
   "source": [
    "fs_par.S()"
   ]
  },
  {
   "cell_type": "markdown",
   "metadata": {},
   "source": [
    "The marginal spectrum for PAR had 41,419 segregating sites."
   ]
  },
  {
   "cell_type": "code",
   "execution_count": 18,
   "metadata": {
    "collapsed": false
   },
   "outputs": [
    {
     "data": {
      "text/plain": [
       "0.0071484913925559659"
      ]
     },
     "execution_count": 18,
     "metadata": {},
     "output_type": "execute_result"
    }
   ],
   "source": [
    "fs_ery.pi()/fs_ery.data.sum()"
   ]
  },
  {
   "cell_type": "markdown",
   "metadata": {},
   "source": [
    "The $\\pi_{site}$ for ERY from the marginal spectrum was 0.006530."
   ]
  },
  {
   "cell_type": "code",
   "execution_count": 19,
   "metadata": {
    "collapsed": false
   },
   "outputs": [
    {
     "data": {
      "text/plain": [
       "0.0080453672472375302"
      ]
     },
     "execution_count": 19,
     "metadata": {},
     "output_type": "execute_result"
    }
   ],
   "source": [
    "fs_par.pi()/fs_par.data.sum()"
   ]
  },
  {
   "cell_type": "markdown",
   "metadata": {},
   "source": [
    "The $\\pi_{site}$ for PAR from the marginal spectrum was 0.007313."
   ]
  },
  {
   "cell_type": "markdown",
   "metadata": {},
   "source": [
    "I have estimated a 2D SFS from the SAF files created with the overlapping.sites file above (see line 2622 in assembly.sh): `from_SAFs_minInd9_overlapping.sites`. I have done an exhaustive optimisation which took almost 6 hours on all 24 virtual cores of huluvu."
   ]
  },
  {
   "cell_type": "code",
   "execution_count": 2,
   "metadata": {
    "collapsed": true
   },
   "outputs": [],
   "source": [
    "# get 2D SFS estimated from SAF files containing only overlapping sites \n",
    "\n",
    "sfs2d_unfolded = dadi.Spectrum.from_file(\"minInd9_overlapping/SFS/original/EryPar.unfolded.sfs.dadi\")"
   ]
  },
  {
   "cell_type": "code",
   "execution_count": 3,
   "metadata": {
    "collapsed": true
   },
   "outputs": [],
   "source": [
    "sfs2d_unfolded.pop_ids = ['ery', 'par']"
   ]
  },
  {
   "cell_type": "code",
   "execution_count": 8,
   "metadata": {
    "collapsed": false
   },
   "outputs": [
    {
     "data": {
      "text/plain": [
       "<matplotlib.colorbar.Colorbar at 0x7fecc85036d0>"
      ]
     },
     "execution_count": 8,
     "metadata": {},
     "output_type": "execute_result"
    },
    {
     "data": {
      "image/png": "[encoded data removed]",
      "text/plain": [
       "<matplotlib.figure.Figure at 0x7fecc9d3ee50>"
      ]
     },
     "metadata": {},
     "output_type": "display_data"
    }
   ],
   "source": [
    "dadi.Plotting.plot_single_2d_sfs(sfs2d_unfolded, vmin=1, cmap='jet')"
   ]
  },
  {
   "cell_type": "markdown",
   "metadata": {},
   "source": [
    "To estimate this 2D SFS, I (inadvertently) ran `realSFS` specifying the PAR SAF file before the ERY SAF file. So the axis labelling needs to be switched or the matrix transposed."
   ]
  },
  {
   "cell_type": "code",
   "execution_count": 9,
   "metadata": {
    "collapsed": true
   },
   "outputs": [],
   "source": [
    "sfs2d_unfolded.pop_ids = ['par', 'ery']"
   ]
  },
  {
   "cell_type": "code",
   "execution_count": 10,
   "metadata": {
    "collapsed": true
   },
   "outputs": [],
   "source": [
    "sfs2d = sfs2d_unfolded.fold()"
   ]
  },
  {
   "cell_type": "code",
   "execution_count": 11,
   "metadata": {
    "collapsed": false
   },
   "outputs": [
    {
     "data": {
      "text/plain": [
       "<matplotlib.colorbar.Colorbar at 0x7fecc1432f90>"
      ]
     },
     "execution_count": 11,
     "metadata": {},
     "output_type": "execute_result"
    },
    {
     "data": {
      "image/png": "[encoded data removed]",
      "text/plain": [
       "<matplotlib.figure.Figure at 0x7fecc98f4d10>"
      ]
     },
     "metadata": {},
     "output_type": "display_data"
    }
   ],
   "source": [
    "dadi.Plotting.plot_single_2d_sfs(sfs2d, vmin=1, cmap='jet')"
   ]
  },
  {
   "cell_type": "code",
   "execution_count": 12,
   "metadata": {
    "collapsed": true
   },
   "outputs": [],
   "source": [
    "# transpose the matrix\n",
    "\n",
    "sfs2d = dadi.Spectrum.transpose(sfs2d)"
   ]
  },
  {
   "cell_type": "code",
   "execution_count": 13,
   "metadata": {
    "collapsed": true
   },
   "outputs": [],
   "source": [
    "sfs2d.pop_ids.reverse()"
   ]
  },
  {
   "cell_type": "code",
   "execution_count": 14,
   "metadata": {
    "collapsed": false
   },
   "outputs": [
    {
     "data": {
      "text/plain": [
       "<matplotlib.colorbar.Colorbar at 0x7fecc128d8d0>"
      ]
     },
     "execution_count": 14,
     "metadata": {},
     "output_type": "execute_result"
    },
    {
     "data": {
      "image/png": "[encoded data removed]",
      "text/plain": [
       "<matplotlib.figure.Figure at 0x7fecf6532b50>"
      ]
     },
     "metadata": {},
     "output_type": "display_data"
    }
   ],
   "source": [
    "dadi.Plotting.plot_single_2d_sfs(sfs2d, vmin=1, cmap='jet')"
   ]
  },
  {
   "cell_type": "markdown",
   "metadata": {},
   "source": [
    "I think it would be good to plot the residuals between this and my previous 2D SFS, that I estimated _without_ exhaustive search and used for $F_{ST}$ estimation as well as all 2D model fitting so far."
   ]
  },
  {
   "cell_type": "markdown",
   "metadata": {},
   "source": [
    "I have previously estimated a 2D SFS from SAF files that contained all sites with at least 9 individuals with read data in the population. `realSFS` had automatically determined the intersection of sites between ERY and PAR when estimating the 2D SFS. I have estimated this previous 2D SFS _without_ exhaustive optimisation."
   ]
  },
  {
   "cell_type": "code",
   "execution_count": 15,
   "metadata": {
    "collapsed": true
   },
   "outputs": [],
   "source": [
    "# get previous 2D SFS\n",
    "\n",
    "prev_sfs2d_unfolded = dadi.Spectrum.from_file(\"../../DADI/dadiExercises/EryPar.unfolded.2dsfs.dadi_format\")"
   ]
  },
  {
   "cell_type": "code",
   "execution_count": 16,
   "metadata": {
    "collapsed": true
   },
   "outputs": [],
   "source": [
    "prev_sfs2d_unfolded.pop_ids = ['ery', 'par']"
   ]
  },
  {
   "cell_type": "code",
   "execution_count": 17,
   "metadata": {
    "collapsed": true
   },
   "outputs": [],
   "source": [
    "prev_sfs2d = prev_sfs2d_unfolded.fold()"
   ]
  },
  {
   "cell_type": "code",
   "execution_count": 61,
   "metadata": {
    "collapsed": true
   },
   "outputs": [],
   "source": [
    "# get residuals between previous and new 2D SFS\n",
    "\n",
    "resid = prev_sfs2d - sfs2d"
   ]
  },
  {
   "cell_type": "code",
   "execution_count": 62,
   "metadata": {
    "collapsed": false
   },
   "outputs": [
    {
     "data": {
      "image/png": "[encoded data removed]",
      "text/plain": [
       "<matplotlib.figure.Figure at 0x7fecbe455ed0>"
      ]
     },
     "metadata": {},
     "output_type": "display_data"
    }
   ],
   "source": [
    "# plot absolute residuals\n",
    "plt.figure(figsize=(6,5))\n",
    "dadi.Plotting.plot_2d_resid(resid)"
   ]
  },
  {
   "cell_type": "markdown",
   "metadata": {},
   "source": [
    "Apparently, there are large absolute differences in the [0, 1] and [1, 0] frequency classes as might be expected, since these have the highest expected count. The new 2D SFS (with exhaustive optimisation) has many more SNP's in those two frequency classes."
   ]
  },
  {
   "cell_type": "code",
   "execution_count": 20,
   "metadata": {
    "collapsed": false,
    "scrolled": true
   },
   "outputs": [
    {
     "data": {
      "image/png": "[encoded data removed]",
      "text/plain": [
       "<matplotlib.figure.Figure at 0x7fecc1338bd0>"
      ]
     },
     "metadata": {},
     "output_type": "display_data"
    }
   ],
   "source": [
    "# plot Poisson residuals, saturating at 20 standard deviations in the heatmap of residuals\n",
    "\n",
    "dadi.Plotting.plot_2d_comp_Poisson(data=prev_sfs2d, model=sfs2d, vmin=1, resid_range=20, title=['previous 2D SFS', 'new 2D SFS'])"
   ]
  },
  {
   "cell_type": "markdown",
   "metadata": {},
   "source": [
    "The new 2D SFS seems to have fewer middle and high frequency SNP's in PAR that are absent from ERY (lowest row) and more low frequency variants, shared and unshared (lower left corner) than the previous 2D SFS."
   ]
  },
  {
   "cell_type": "code",
   "execution_count": 59,
   "metadata": {
    "collapsed": false
   },
   "outputs": [
    {
     "data": {
      "text/plain": [
       "<matplotlib.text.Text at 0x7fecbe1988d0>"
      ]
     },
     "execution_count": 59,
     "metadata": {},
     "output_type": "execute_result"
    },
    {
     "data": {
      "image/png": "[encoded data removed]",
      "text/plain": [
       "<matplotlib.figure.Figure at 0x7fecbe69c190>"
      ]
     },
     "metadata": {},
     "output_type": "display_data"
    }
   ],
   "source": [
    "fs_ery_m = sfs2d.marginalize([1])\n",
    "fs_par_m = sfs2d.marginalize([0])\n",
    "\n",
    "max(fs_ery_m.data[1:]), max(fs_ery.fold().data[1:]), max(fs_par_m.data[1:]), max(fs_par.fold().data[1:])\n",
    "\n",
    "plt.figure(figsize=(14, 7))\n",
    "\n",
    "m = max(fs_ery_m.data[1:]), max(fs_ery.fold().data[1:]), max(fs_par_m.data[1:]), max(fs_par.fold().data[1:])\n",
    "\n",
    "plt.subplot(121)\n",
    "plt.plot(fs_ery_m, 'ro-', label='ery')\n",
    "plt.plot(fs_par_m, 'g^-', label = 'par')\n",
    "plt.ylim(0, max(m)*1.1)\n",
    "plt.grid()\n",
    "plt.legend()\n",
    "plt.xlabel('minor allele frequency')\n",
    "plt.ylabel('SNP count')\n",
    "plt.title('marginal 1D SFS')\n",
    "\n",
    "plt.subplot(122)\n",
    "plt.plot(fs_ery.fold(), 'ro-', label='ery')\n",
    "plt.plot(fs_par.fold(), 'g^-', label = 'par')\n",
    "plt.ylim(0, max(m)*1.1)\n",
    "plt.grid()\n",
    "plt.legend()\n",
    "plt.xlabel('minor allele frequency')\n",
    "plt.ylabel('SNP count')\n",
    "plt.title('1D SFS')"
   ]
  },
  {
   "cell_type": "markdown",
   "metadata": {},
   "source": [
    "The marginal 1D spectra from the 2D spectrum look very similar to the directly estimated 1D SFS's. This is as expected, since both are estimated from the same sites: those that have at least 9 individuals with read data in _both_ ERY and PAR. "
   ]
  },
  {
   "cell_type": "markdown",
   "metadata": {},
   "source": [
    "**I have now re-estimated the 2D SFS from SAF files containing also non-overlapping sites with exhaustive search parameters (see line 2629 in `assembly.sh`).**"
   ]
  },
  {
   "cell_type": "code",
   "execution_count": 21,
   "metadata": {
    "collapsed": true
   },
   "outputs": [],
   "source": [
    "# get re-stimated 2D SFS from non-fully-overlapping SAF files\n",
    "\n",
    "prev_sfs2d_unfolded_exhaust = dadi.Spectrum.from_file(\"../FST/EryPar.unfolded.exhaustive.2dsfs.dadi\")"
   ]
  },
  {
   "cell_type": "code",
   "execution_count": 22,
   "metadata": {
    "collapsed": true
   },
   "outputs": [],
   "source": [
    "prev_sfs2d_unfolded_exhaust.pop_ids = ['ery', 'par']"
   ]
  },
  {
   "cell_type": "code",
   "execution_count": 23,
   "metadata": {
    "collapsed": true
   },
   "outputs": [],
   "source": [
    "prev_sfs2d_exhaust = prev_sfs2d_unfolded_exhaust.fold()"
   ]
  },
  {
   "cell_type": "code",
   "execution_count": 63,
   "metadata": {
    "collapsed": true
   },
   "outputs": [],
   "source": [
    "# get residuals betwee non-exhaust and exhaust 2D SFS, \n",
    "# both estimated from non-fully-overlapping SAF files\n",
    "\n",
    "resid = prev_sfs2d - prev_sfs2d_exhaust"
   ]
  },
  {
   "cell_type": "code",
   "execution_count": 64,
   "metadata": {
    "collapsed": false
   },
   "outputs": [
    {
     "data": {
      "image/png": "[encoded data removed]",
      "text/plain": [
       "<matplotlib.figure.Figure at 0x7fecbe6f37d0>"
      ]
     },
     "metadata": {},
     "output_type": "display_data"
    }
   ],
   "source": [
    "# plot absolute residuals\n",
    "plt.figure(figsize=(6,5))\n",
    "dadi.Plotting.plot_2d_resid(resid)"
   ]
  },
  {
   "cell_type": "markdown",
   "metadata": {},
   "source": [
    "These are small residuals."
   ]
  },
  {
   "cell_type": "code",
   "execution_count": 65,
   "metadata": {
    "collapsed": false
   },
   "outputs": [
    {
     "data": {
      "image/png": "[encoded data removed]",
      "text/plain": [
       "<matplotlib.figure.Figure at 0x7fecbded4290>"
      ]
     },
     "metadata": {},
     "output_type": "display_data"
    }
   ],
   "source": [
    "# plot Poisson residuals, saturating at 20 standard deviations in the heatmap of residuals\n",
    "\n",
    "dadi.Plotting.plot_2d_comp_Poisson(data=prev_sfs2d, model=prev_sfs2d_exhaust, vmin=1, \\\n",
    "                                   resid_range=20, title=['non-exhaustive', 'exhaustive'])"
   ]
  },
  {
   "cell_type": "code",
   "execution_count": 66,
   "metadata": {
    "collapsed": true
   },
   "outputs": [],
   "source": [
    "fs_ery = prev_sfs2d_exhaust.marginalize([1])\n",
    "fs_par = prev_sfs2d_exhaust.marginalize([0])"
   ]
  },
  {
   "cell_type": "code",
   "execution_count": 67,
   "metadata": {
    "collapsed": false
   },
   "outputs": [
    {
     "data": {
      "text/plain": [
       "<matplotlib.text.Text at 0x7fecbdc2b4d0>"
      ]
     },
     "execution_count": 67,
     "metadata": {},
     "output_type": "execute_result"
    },
    {
     "data": {
      "image/png": "[encoded data removed]",
      "text/plain": [
       "<matplotlib.figure.Figure at 0x7fecbdfdf590>"
      ]
     },
     "metadata": {},
     "output_type": "display_data"
    }
   ],
   "source": [
    "plt.figure(figsize=(6,5))\n",
    "plt.plot(fs_ery, 'ro-', label='ery')\n",
    "plt.plot(fs_par, 'g^-', label = 'par')\n",
    "plt.grid()\n",
    "plt.legend()\n",
    "plt.xlabel('minor allele frequency')\n",
    "plt.ylabel('SNP count')\n",
    "plt.title('marginal 1D SFS')"
   ]
  },
  {
   "cell_type": "markdown",
   "metadata": {},
   "source": [
    "Unsurprisingly, the marginal spectra also look very similar to the marginal spectra taken from the 2D SFS optimised without exhaustive search. So, the difference between the spectra estimated from full SAF files and the spectra estimated from fully overlapping SAF files is not due to differences in the degree of optimisation of the SFS."
   ]
  },
  {
   "cell_type": "code",
   "execution_count": 27,
   "metadata": {
    "collapsed": false
   },
   "outputs": [
    {
     "data": {
      "text/plain": [
       "1130775.000003"
      ]
     },
     "execution_count": 27,
     "metadata": {},
     "output_type": "execute_result"
    }
   ],
   "source": [
    "# total number of sites in previous non-exhaust 2D SFS\n",
    "\n",
    "prev_sfs2d.data.sum()"
   ]
  },
  {
   "cell_type": "code",
   "execution_count": 28,
   "metadata": {
    "collapsed": false
   },
   "outputs": [
    {
     "data": {
      "text/plain": [
       "1130774.9999900004"
      ]
     },
     "execution_count": 28,
     "metadata": {},
     "output_type": "execute_result"
    }
   ],
   "source": [
    "# total number of sites in previous exhaust 2D SFS\n",
    "\n",
    "prev_sfs2d_exhaust.data.sum()"
   ]
  },
  {
   "cell_type": "code",
   "execution_count": 29,
   "metadata": {
    "collapsed": false
   },
   "outputs": [
    {
     "data": {
      "text/plain": [
       "1130774.9999909997"
      ]
     },
     "execution_count": 29,
     "metadata": {},
     "output_type": "execute_result"
    }
   ],
   "source": [
    "# notal number of sites in new exhaust 2D SFS (from fully overlapping SAF files)\n",
    "\n",
    "sfs2d.data.sum()"
   ]
  },
  {
   "cell_type": "markdown",
   "metadata": {},
   "source": [
    "All three 2D spectra contain the same number of sites, indicating that they were indeed estimated from the same sites. Then why are the 2D spectra so different if estimated with SAF files containing only overlapping sites or with SAF files containing also non-overlapping sites. This does not make sense to me."
   ]
  },
  {
   "cell_type": "markdown",
   "metadata": {},
   "source": [
    "## Bootstrap regions file from only overlapping sites"
   ]
  },
  {
   "cell_type": "markdown",
   "metadata": {},
   "source": [
    "+ read in a regions file containing all contigs\n",
    "+ bootstrap those contigs\n",
    "+ turn bootstrapped contigs array into a Counter dict\n",
    "+ clean split_rf and SAF/ERY and SAF/PAR directory\n",
    "+ write out split rf files\n",
    "+ run angsd on split rf files in parallel for ERY and for PAR\n",
    "+ concatenate split saf files for ERY and PAR\n",
    "+ estimate 1D SFS\n",
    "+ estimate 2D SFS"
   ]
  },
  {
   "cell_type": "markdown",
   "metadata": {},
   "source": [
    "The regions file is really small. So I am first going to create 200 bootstrapped regions files."
   ]
  },
  {
   "cell_type": "markdown",
   "metadata": {},
   "source": [
    "Then I will do the SAF estimation for these bootstrapped regions files. The SAF files are about 100MB large. So keeping them will require several giga bytes of storage, but I have that on /data3, where there is currently 1.7TB storage available."
   ]
  },
  {
   "cell_type": "markdown",
   "metadata": {},
   "source": [
    "Finally, I am going to estimate 1D SFS from these SAF files."
   ]
  },
  {
   "cell_type": "markdown",
   "metadata": {},
   "source": [
    "### bootstrap regions file"
   ]
  },
  {
   "cell_type": "code",
   "execution_count": 22,
   "metadata": {
    "collapsed": false
   },
   "outputs": [
    {
     "name": "stdout",
     "output_type": "stream",
     "text": [
      "-rw-rw-r-- 1 claudius 473510 Jun 30 10:23 0_boot_regions.rf\r\n",
      "-rw-rw-r-- 1 claudius 300658 May 13 09:25 0_boot.rf\r\n",
      "lrwxrwxrwx 1 claudius    105 Jun 30 19:27 \u001b[0m\u001b[01;36mall.rf\u001b[0m -> ../ParEry.noSEgt2.nogtQ99Cov.noDUST.3.15.noTGCAGG.ANGSD_combinedNegFisFiltered.noGtQ99GlobalCov.sorted.rf\r\n",
      "-rw-rw-r-- 1 claudius 313201 Aug 10 16:08 from_SAFs_minInd9_overlapping.rf\r\n",
      "\r\n",
      "split_rf:\r\n",
      "total 364\r\n",
      "-rw-rw-r-- 1 claudius 5969 Aug 10 16:18 aa\r\n",
      "-rw-rw-r-- 1 claudius 6496 Aug 10 16:18 ab\r\n",
      "-rw-rw-r-- 1 claudius 6500 Aug 10 16:18 ac\r\n",
      "-rw-rw-r-- 1 claudius 6500 Aug 10 16:18 ad\r\n",
      "-rw-rw-r-- 1 claudius 6500 Aug 10 16:18 ae\r\n",
      "-rw-rw-r-- 1 claudius 6500 Aug 10 16:18 af\r\n",
      "-rw-rw-r-- 1 claudius 6500 Aug 10 16:18 ag\r\n",
      "-rw-rw-r-- 1 claudius 6500 Aug 10 16:18 ah\r\n",
      "-rw-rw-r-- 1 claudius 6500 Aug 10 16:18 ai\r\n",
      "-rw-rw-r-- 1 claudius 6848 Aug 10 16:18 aj\r\n",
      "-rw-rw-r-- 1 claudius 7000 Aug 10 16:18 ak\r\n",
      "-rw-rw-r-- 1 claudius 7000 Aug 10 16:18 al\r\n",
      "-rw-rw-r-- 1 claudius 7000 Aug 10 16:18 am\r\n",
      "-rw-rw-r-- 1 claudius 7000 Aug 10 16:18 an\r\n",
      "-rw-rw-r-- 1 claudius 7000 Aug 10 16:18 ao\r\n",
      "-rw-rw-r-- 1 claudius 7000 Aug 10 16:18 ap\r\n",
      "-rw-rw-r-- 1 claudius 7000 Aug 10 16:18 aq\r\n",
      "-rw-rw-r-- 1 claudius 7000 Aug 10 16:18 ar\r\n",
      "-rw-rw-r-- 1 claudius 7000 Aug 10 16:18 as\r\n",
      "-rw-rw-r-- 1 claudius 7000 Aug 10 16:18 at\r\n",
      "-rw-rw-r-- 1 claudius 7000 Aug 10 16:18 au\r\n",
      "-rw-rw-r-- 1 claudius 7000 Aug 10 16:18 av\r\n",
      "-rw-rw-r-- 1 claudius 7000 Aug 10 16:18 aw\r\n",
      "-rw-rw-r-- 1 claudius 7000 Aug 10 16:18 ax\r\n",
      "-rw-rw-r-- 1 claudius 7000 Aug 10 16:18 ay\r\n",
      "-rw-rw-r-- 1 claudius 7000 Aug 10 16:18 az\r\n",
      "-rw-rw-r-- 1 claudius 7000 Aug 10 16:18 ba\r\n",
      "-rw-rw-r-- 1 claudius 7000 Aug 10 16:18 bb\r\n",
      "-rw-rw-r-- 1 claudius 7000 Aug 10 16:18 bc\r\n",
      "-rw-rw-r-- 1 claudius 7000 Aug 10 16:18 bd\r\n",
      "-rw-rw-r-- 1 claudius 7000 Aug 10 16:18 be\r\n",
      "-rw-rw-r-- 1 claudius 7000 Aug 10 16:18 bf\r\n",
      "-rw-rw-r-- 1 claudius 7000 Aug 10 16:18 bg\r\n",
      "-rw-rw-r-- 1 claudius 7000 Aug 10 16:18 bh\r\n",
      "-rw-rw-r-- 1 claudius 7000 Aug 10 16:18 bi\r\n",
      "-rw-rw-r-- 1 claudius 7000 Aug 10 16:18 bj\r\n",
      "-rw-rw-r-- 1 claudius 7000 Aug 10 16:18 bk\r\n",
      "-rw-rw-r-- 1 claudius 7000 Aug 10 16:18 bl\r\n",
      "-rw-rw-r-- 1 claudius 7000 Aug 10 16:18 bm\r\n",
      "-rw-rw-r-- 1 claudius 7000 Aug 10 16:18 bn\r\n",
      "-rw-rw-r-- 1 claudius 7000 Aug 10 16:18 bo\r\n",
      "-rw-rw-r-- 1 claudius 7000 Aug 10 16:18 bp\r\n",
      "-rw-rw-r-- 1 claudius 7000 Aug 10 16:18 bq\r\n",
      "-rw-rw-r-- 1 claudius 7000 Aug 10 16:18 br\r\n",
      "-rw-rw-r-- 1 claudius 7000 Aug 10 16:18 bs\r\n",
      "-rw-rw-r-- 1 claudius 3388 Aug 10 16:18 bt\r\n"
     ]
    }
   ],
   "source": [
    "% ll *rf"
   ]
  },
  {
   "cell_type": "code",
   "execution_count": 25,
   "metadata": {
    "collapsed": true
   },
   "outputs": [],
   "source": [
    "regions = []\n",
    "\n",
    "with open(\"from_SAFs_minInd9_overlapping.rf\", \"r\") as rf:\n",
    "    for r in rf:\n",
    "        regions.append(r.rstrip())"
   ]
  },
  {
   "cell_type": "code",
   "execution_count": 26,
   "metadata": {
    "collapsed": false
   },
   "outputs": [
    {
     "data": {
      "text/plain": [
       "['Contig_40',\n",
       " 'Contig_53',\n",
       " 'Contig_179',\n",
       " 'Contig_181',\n",
       " 'Contig_195',\n",
       " 'Contig_219',\n",
       " 'Contig_264',\n",
       " 'Contig_302',\n",
       " 'Contig_308',\n",
       " 'Contig_366']"
      ]
     },
     "execution_count": 26,
     "metadata": {},
     "output_type": "execute_result"
    }
   ],
   "source": [
    "regions[:10]"
   ]
  },
  {
   "cell_type": "code",
   "execution_count": 28,
   "metadata": {
    "collapsed": false
   },
   "outputs": [
    {
     "data": {
      "text/plain": [
       "22742"
      ]
     },
     "execution_count": 28,
     "metadata": {},
     "output_type": "execute_result"
    }
   ],
   "source": [
    "len(regions)"
   ]
  },
  {
   "cell_type": "code",
   "execution_count": 31,
   "metadata": {
    "collapsed": false
   },
   "outputs": [
    {
     "data": {
      "text/plain": [
       "22742"
      ]
     },
     "execution_count": 31,
     "metadata": {},
     "output_type": "execute_result"
    }
   ],
   "source": [
    "len(set(regions))"
   ]
  },
  {
   "cell_type": "code",
   "execution_count": 27,
   "metadata": {
    "collapsed": true
   },
   "outputs": [],
   "source": [
    "import numpy as np"
   ]
  },
  {
   "cell_type": "code",
   "execution_count": 29,
   "metadata": {
    "collapsed": true
   },
   "outputs": [],
   "source": [
    "# efficient bootstrapping of array with numpy\n",
    "# np.random.choice\n",
    "\n",
    "n_contigs = len(regions)\n",
    "\n",
    "boot_contigs = np.random.choice(regions, size=n_contigs, replace=True)"
   ]
  },
  {
   "cell_type": "code",
   "execution_count": 30,
   "metadata": {
    "collapsed": false
   },
   "outputs": [
    {
     "data": {
      "text/plain": [
       "22742"
      ]
     },
     "execution_count": 30,
     "metadata": {},
     "output_type": "execute_result"
    }
   ],
   "source": [
    "len(boot_contigs)"
   ]
  },
  {
   "cell_type": "code",
   "execution_count": 32,
   "metadata": {
    "collapsed": false
   },
   "outputs": [
    {
     "data": {
      "text/plain": [
       "14406"
      ]
     },
     "execution_count": 32,
     "metadata": {},
     "output_type": "execute_result"
    }
   ],
   "source": [
    "len(set(boot_contigs))"
   ]
  },
  {
   "cell_type": "code",
   "execution_count": 33,
   "metadata": {
    "collapsed": true
   },
   "outputs": [],
   "source": [
    "# write out bootstrapped *regions file\n",
    "\n",
    "with open(\"minInd9_overlapping/BOOT_RF/0_boot.rf\", \"w\") as out:\n",
    "    for contig in sorted(boot_contigs, key=lambda x: int(x.replace(\"Contig_\", \"\"))):\n",
    "        out.write(contig + \"\\n\")"
   ]
  },
  {
   "cell_type": "markdown",
   "metadata": {},
   "source": [
    "Now, let's redo this 199 times."
   ]
  },
  {
   "cell_type": "code",
   "execution_count": 44,
   "metadata": {
    "collapsed": true
   },
   "outputs": [],
   "source": [
    "def bootstrapContigs(regions, index):\n",
    "    \"\"\"\n",
    "    takes an array of contig ID's and an index for the bootstrap repetition\n",
    "    \"\"\"\n",
    "    import numpy as np\n",
    "    # get number of contigs to resample\n",
    "    n_contigs = len(regions)\n",
    "    # resample contigs with replacement (bootstrap)\n",
    "    boot_contigs = np.random.choice(regions, size=n_contigs, replace=True)\n",
    "    # write out bootstrapped *regions file\n",
    "    with open(\"minInd9_overlapping/BOOT_RF/{:03d}_boot.rf\".format(index), \"w\") as out:\n",
    "        for contig in sorted(boot_contigs, key=lambda x: int(x.replace(\"Contig_\", \"\"))):\n",
    "            out.write(contig + \"\\n\")"
   ]
  },
  {
   "cell_type": "code",
   "execution_count": 47,
   "metadata": {
    "collapsed": false
   },
   "outputs": [],
   "source": [
    "for index in range(1, 200):\n",
    "    bootstrapContigs(regions, index)"
   ]
  },
  {
   "cell_type": "markdown",
   "metadata": {
    "collapsed": true
   },
   "source": [
    "### estimate SAF files"
   ]
  },
  {
   "cell_type": "markdown",
   "metadata": {},
   "source": [
    "I need to read in the bootstrapped regions files again and split them for parallisation of SAF creation, but in a way that allows concatenation of split SAF files. This means repeated contigs must not be spread over split regions files. Otherwise `realSFS cat` throws an error message."
   ]
  },
  {
   "cell_type": "code",
   "execution_count": 83,
   "metadata": {
    "collapsed": true
   },
   "outputs": [],
   "source": [
    "from glob import glob"
   ]
  },
  {
   "cell_type": "code",
   "execution_count": 88,
   "metadata": {
    "collapsed": false
   },
   "outputs": [
    {
     "data": {
      "text/plain": [
       "['minInd9_overlapping/BOOT_RF/000_boot.rf',\n",
       " 'minInd9_overlapping/BOOT_RF/001_boot.rf',\n",
       " 'minInd9_overlapping/BOOT_RF/002_boot.rf',\n",
       " 'minInd9_overlapping/BOOT_RF/003_boot.rf',\n",
       " 'minInd9_overlapping/BOOT_RF/004_boot.rf',\n",
       " 'minInd9_overlapping/BOOT_RF/005_boot.rf',\n",
       " 'minInd9_overlapping/BOOT_RF/006_boot.rf',\n",
       " 'minInd9_overlapping/BOOT_RF/007_boot.rf',\n",
       " 'minInd9_overlapping/BOOT_RF/008_boot.rf',\n",
       " 'minInd9_overlapping/BOOT_RF/009_boot.rf']"
      ]
     },
     "execution_count": 88,
     "metadata": {},
     "output_type": "execute_result"
    }
   ],
   "source": [
    "sorted(glob(\"minInd9_overlapping/BOOT_RF/*\"))[:10]"
   ]
  },
  {
   "cell_type": "markdown",
   "metadata": {},
   "source": [
    "I would like to extract the bootstrap index from the regions file name."
   ]
  },
  {
   "cell_type": "code",
   "execution_count": 86,
   "metadata": {
    "collapsed": true
   },
   "outputs": [],
   "source": [
    "import re"
   ]
  },
  {
   "cell_type": "code",
   "execution_count": 87,
   "metadata": {
    "collapsed": true
   },
   "outputs": [],
   "source": [
    "p = re.compile(r'\\d+')"
   ]
  },
  {
   "cell_type": "code",
   "execution_count": 93,
   "metadata": {
    "collapsed": false
   },
   "outputs": [
    {
     "name": "stdout",
     "output_type": "stream",
     "text": [
      "000\n",
      "001\n",
      "002\n",
      "003\n",
      "004\n",
      "005\n",
      "006\n",
      "007\n",
      "008\n",
      "009\n",
      "010\n",
      "011\n",
      "012\n",
      "013\n",
      "014\n",
      "015\n",
      "016\n",
      "017\n",
      "018\n",
      "019\n"
     ]
    }
   ],
   "source": [
    "for rf in sorted(glob(\"minInd9_overlapping/BOOT_RF/*\"))[:20]:\n",
    "    #print rf\n",
    "    m = p.findall(rf)\n",
    "    print m[1]"
   ]
  },
  {
   "cell_type": "code",
   "execution_count": 95,
   "metadata": {
    "collapsed": false
   },
   "outputs": [
    {
     "name": "stdout",
     "output_type": "stream",
     "text": [
      "000\n",
      "001\n",
      "002\n",
      "003\n",
      "004\n",
      "005\n",
      "006\n",
      "007\n",
      "008\n",
      "009\n",
      "010\n",
      "011\n",
      "012\n",
      "013\n",
      "014\n",
      "015\n",
      "016\n",
      "017\n",
      "018\n",
      "019\n"
     ]
    }
   ],
   "source": [
    "# the same as above without a pre-compiled RE object\n",
    "\n",
    "for rf in sorted(glob(\"minInd9_overlapping/BOOT_RF/*\"))[:20]:\n",
    "    print re.findall(r'\\d+', rf)[-1]"
   ]
  },
  {
   "cell_type": "code",
   "execution_count": 40,
   "metadata": {
    "collapsed": true
   },
   "outputs": [],
   "source": [
    "# read in one bootstrapped regions file\n",
    "\n",
    "boot_contigs = []\n",
    "\n",
    "with open(\"minInd9_overlapping/BOOT_RF/000_boot.rf\", \"r\") as boot_rf:\n",
    "    for contig in boot_rf:\n",
    "        boot_contigs.append(contig.rstrip())"
   ]
  },
  {
   "cell_type": "code",
   "execution_count": 41,
   "metadata": {
    "collapsed": true
   },
   "outputs": [],
   "source": [
    "from collections import Counter"
   ]
  },
  {
   "cell_type": "code",
   "execution_count": 42,
   "metadata": {
    "collapsed": true
   },
   "outputs": [],
   "source": [
    "# turn array of contigs into a hash with counts\n",
    "\n",
    "boot_contigs_dict = Counter(boot_contigs)"
   ]
  },
  {
   "cell_type": "code",
   "execution_count": 44,
   "metadata": {
    "collapsed": false
   },
   "outputs": [
    {
     "name": "stdout",
     "output_type": "stream",
     "text": [
      "Contig_102226 \t1\n",
      "Contig_8139 \t2\n",
      "Contig_283507 \t1\n",
      "Contig_177118 \t1\n",
      "Contig_2831 \t5\n",
      "Contig_215094 \t1\n",
      "Contig_250266 \t1\n",
      "Contig_281014 \t3\n",
      "Contig_281016 \t1\n",
      "Contig_108902 \t1\n",
      "Contig_159695 \t2\n"
     ]
    }
   ],
   "source": [
    "i=0\n",
    "for contig,count in boot_contigs_dict.items():\n",
    "    print contig, \"\\t\", count\n",
    "    i+=1\n",
    "    if i > 10: break"
   ]
  },
  {
   "cell_type": "markdown",
   "metadata": {},
   "source": [
    "Clear the directory that takes split regions files, to receive new one:"
   ]
  },
  {
   "cell_type": "code",
   "execution_count": 46,
   "metadata": {
    "collapsed": false
   },
   "outputs": [
    {
     "name": "stdout",
     "output_type": "stream",
     "text": [
      "total 364\r\n",
      "-rw-rw-r-- 1 claudius 5969 Aug 10 16:18 aa\r\n",
      "-rw-rw-r-- 1 claudius 6496 Aug 10 16:18 ab\r\n",
      "-rw-rw-r-- 1 claudius 6500 Aug 10 16:18 ac\r\n",
      "-rw-rw-r-- 1 claudius 6500 Aug 10 16:18 ad\r\n",
      "-rw-rw-r-- 1 claudius 6500 Aug 10 16:18 ae\r\n",
      "-rw-rw-r-- 1 claudius 6500 Aug 10 16:18 af\r\n",
      "-rw-rw-r-- 1 claudius 6500 Aug 10 16:18 ag\r\n",
      "-rw-rw-r-- 1 claudius 6500 Aug 10 16:18 ah\r\n",
      "-rw-rw-r-- 1 claudius 6500 Aug 10 16:18 ai\r\n",
      "-rw-rw-r-- 1 claudius 6848 Aug 10 16:18 aj\r\n",
      "-rw-rw-r-- 1 claudius 7000 Aug 10 16:18 ak\r\n",
      "-rw-rw-r-- 1 claudius 7000 Aug 10 16:18 al\r\n",
      "-rw-rw-r-- 1 claudius 7000 Aug 10 16:18 am\r\n",
      "-rw-rw-r-- 1 claudius 7000 Aug 10 16:18 an\r\n",
      "-rw-rw-r-- 1 claudius 7000 Aug 10 16:18 ao\r\n",
      "-rw-rw-r-- 1 claudius 7000 Aug 10 16:18 ap\r\n",
      "-rw-rw-r-- 1 claudius 7000 Aug 10 16:18 aq\r\n",
      "-rw-rw-r-- 1 claudius 7000 Aug 10 16:18 ar\r\n",
      "-rw-rw-r-- 1 claudius 7000 Aug 10 16:18 as\r\n",
      "-rw-rw-r-- 1 claudius 7000 Aug 10 16:18 at\r\n",
      "-rw-rw-r-- 1 claudius 7000 Aug 10 16:18 au\r\n",
      "-rw-rw-r-- 1 claudius 7000 Aug 10 16:18 av\r\n",
      "-rw-rw-r-- 1 claudius 7000 Aug 10 16:18 aw\r\n",
      "-rw-rw-r-- 1 claudius 7000 Aug 10 16:18 ax\r\n",
      "-rw-rw-r-- 1 claudius 7000 Aug 10 16:18 ay\r\n",
      "-rw-rw-r-- 1 claudius 7000 Aug 10 16:18 az\r\n",
      "-rw-rw-r-- 1 claudius 7000 Aug 10 16:18 ba\r\n",
      "-rw-rw-r-- 1 claudius 7000 Aug 10 16:18 bb\r\n",
      "-rw-rw-r-- 1 claudius 7000 Aug 10 16:18 bc\r\n",
      "-rw-rw-r-- 1 claudius 7000 Aug 10 16:18 bd\r\n",
      "-rw-rw-r-- 1 claudius 7000 Aug 10 16:18 be\r\n",
      "-rw-rw-r-- 1 claudius 7000 Aug 10 16:18 bf\r\n",
      "-rw-rw-r-- 1 claudius 7000 Aug 10 16:18 bg\r\n",
      "-rw-rw-r-- 1 claudius 7000 Aug 10 16:18 bh\r\n",
      "-rw-rw-r-- 1 claudius 7000 Aug 10 16:18 bi\r\n",
      "-rw-rw-r-- 1 claudius 7000 Aug 10 16:18 bj\r\n",
      "-rw-rw-r-- 1 claudius 7000 Aug 10 16:18 bk\r\n",
      "-rw-rw-r-- 1 claudius 7000 Aug 10 16:18 bl\r\n",
      "-rw-rw-r-- 1 claudius 7000 Aug 10 16:18 bm\r\n",
      "-rw-rw-r-- 1 claudius 7000 Aug 10 16:18 bn\r\n",
      "-rw-rw-r-- 1 claudius 7000 Aug 10 16:18 bo\r\n",
      "-rw-rw-r-- 1 claudius 7000 Aug 10 16:18 bp\r\n",
      "-rw-rw-r-- 1 claudius 7000 Aug 10 16:18 bq\r\n",
      "-rw-rw-r-- 1 claudius 7000 Aug 10 16:18 br\r\n",
      "-rw-rw-r-- 1 claudius 7000 Aug 10 16:18 bs\r\n",
      "-rw-rw-r-- 1 claudius 3388 Aug 10 16:18 bt\r\n"
     ]
    }
   ],
   "source": [
    "% ll split_rf/"
   ]
  },
  {
   "cell_type": "code",
   "execution_count": 47,
   "metadata": {
    "collapsed": true
   },
   "outputs": [],
   "source": [
    "import subprocess32 as sp"
   ]
  },
  {
   "cell_type": "code",
   "execution_count": 48,
   "metadata": {
    "collapsed": false
   },
   "outputs": [
    {
     "data": {
      "text/plain": [
       "0"
      ]
     },
     "execution_count": 48,
     "metadata": {},
     "output_type": "execute_result"
    }
   ],
   "source": [
    "sp.call(\"rm -f split_rf/*\", shell=True)"
   ]
  },
  {
   "cell_type": "code",
   "execution_count": 49,
   "metadata": {
    "collapsed": false
   },
   "outputs": [
    {
     "name": "stdout",
     "output_type": "stream",
     "text": [
      "total 0\r\n"
     ]
    }
   ],
   "source": [
    "% ll split_rf/"
   ]
  },
  {
   "cell_type": "code",
   "execution_count": 50,
   "metadata": {
    "collapsed": true
   },
   "outputs": [],
   "source": [
    "import string\n",
    "from itertools import product\n",
    "\n",
    "# create iterator over filenames\n",
    "fnames = product(string.lowercase, repeat=2)"
   ]
  },
  {
   "cell_type": "code",
   "execution_count": 52,
   "metadata": {
    "collapsed": false
   },
   "outputs": [],
   "source": [
    "def split_regions_file(boot_contigs_dict, fnames, size):\n",
    "    \"\"\"\n",
    "    takes Counter dictionary of bootstrapped contigs\n",
    "    and an iterator over filenames to choose\n",
    "    \n",
    "    writes out split regions files with repetitions of contigs\n",
    "    NOT spread over different split regions files\n",
    "    \"\"\"\n",
    "    c = 0 # initialise contig count\n",
    "    # get next file name from iterator\n",
    "    fn = fnames.next()\n",
    "    # open new file for writing and get filehandle\n",
    "    out = open(\"split_rf/\" + fn[0] + fn[1], \"w\")\n",
    "    # iterate over Counter dict of bootstrapped contigs, key=contig name, value=count (rep)\n",
    "    for contig,rep in sorted(boot_contigs_dict.items(), key=lambda x: int(x[0].replace(\"Contig_\", \"\"))):\n",
    "        c+=rep\n",
    "        if c > size: # write up to 'size' contigs to each split rf file\n",
    "            out.close() # close current rf file\n",
    "            fn = fnames.next() # get next file name from iterator\n",
    "            out = open(\"split_rf/\" + fn[0] + fn[1], \"w\") # open new rf file for writing\n",
    "            c = rep\n",
    "        for _ in range(rep): # write contig name to rf file as often as it occurs in the bootstrap resample\n",
    "            out.write(contig + \"\\n\")"
   ]
  },
  {
   "cell_type": "code",
   "execution_count": 53,
   "metadata": {
    "collapsed": true
   },
   "outputs": [],
   "source": [
    "split_regions_file(boot_contigs_dict, fnames, 400)"
   ]
  },
  {
   "cell_type": "code",
   "execution_count": 56,
   "metadata": {
    "collapsed": false
   },
   "outputs": [
    {
     "name": "stdout",
     "output_type": "stream",
     "text": [
      "   400 split_rf/aa\r\n",
      "   400 split_rf/ab\r\n",
      "   400 split_rf/ac\r\n",
      "   400 split_rf/ad\r\n",
      "   398 split_rf/ae\r\n",
      "   400 split_rf/af\r\n",
      "   400 split_rf/ag\r\n",
      "   398 split_rf/ah\r\n",
      "   400 split_rf/ai\r\n",
      "   400 split_rf/aj\r\n",
      "   400 split_rf/ak\r\n",
      "   400 split_rf/al\r\n",
      "   400 split_rf/am\r\n",
      "   400 split_rf/an\r\n",
      "   399 split_rf/ao\r\n",
      "   400 split_rf/ap\r\n",
      "   400 split_rf/aq\r\n",
      "   399 split_rf/ar\r\n",
      "   399 split_rf/as\r\n",
      "   400 split_rf/at\r\n",
      "   400 split_rf/au\r\n",
      "   398 split_rf/av\r\n",
      "   400 split_rf/aw\r\n",
      "   399 split_rf/ax\r\n",
      "   400 split_rf/ay\r\n",
      "   398 split_rf/az\r\n",
      "   400 split_rf/ba\r\n",
      "   397 split_rf/bb\r\n",
      "   400 split_rf/bc\r\n",
      "   400 split_rf/bd\r\n",
      "   400 split_rf/be\r\n",
      "   400 split_rf/bf\r\n",
      "   400 split_rf/bg\r\n",
      "   400 split_rf/bh\r\n",
      "   399 split_rf/bi\r\n",
      "   400 split_rf/bj\r\n",
      "   400 split_rf/bk\r\n",
      "   400 split_rf/bl\r\n",
      "   400 split_rf/bm\r\n",
      "   399 split_rf/bn\r\n",
      "   400 split_rf/bo\r\n",
      "   400 split_rf/bp\r\n",
      "   400 split_rf/bq\r\n",
      "   400 split_rf/br\r\n",
      "   400 split_rf/bs\r\n",
      "   398 split_rf/bt\r\n",
      "   400 split_rf/bu\r\n",
      "   399 split_rf/bv\r\n",
      "   400 split_rf/bw\r\n",
      "   400 split_rf/bx\r\n",
      "   398 split_rf/by\r\n",
      "   400 split_rf/bz\r\n",
      "   400 split_rf/ca\r\n",
      "   400 split_rf/cb\r\n",
      "   399 split_rf/cc\r\n",
      "   399 split_rf/cd\r\n",
      "   366 split_rf/ce\r\n",
      " 22742 total\r\n"
     ]
    }
   ],
   "source": [
    "! wc -l split_rf/*"
   ]
  },
  {
   "cell_type": "markdown",
   "metadata": {},
   "source": [
    "Estimate SAF files in parallel:"
   ]
  },
  {
   "cell_type": "code",
   "execution_count": 59,
   "metadata": {
    "collapsed": true
   },
   "outputs": [],
   "source": [
    "cmd = 'ls split_rf/* | parallel -j 12 \"angsd -bam PAR.slim.bamfile.list -ref Big_Data_ref.fa \\\n",
    "-anc Big_Data_ref.fa -out minInd9_overlapping/SAF/bootstrap/PAR/{/}.unfolded -fold 0 \\\n",
    "-sites from_SAFs_minInd9_overlapping.sites -rf {} -only_proper_pairs 0 -baq 1 -minMapQ 5 -minInd 9 -GL 1 -doSaf 1 -nThreads 1 2>/dev/null\"'"
   ]
  },
  {
   "cell_type": "code",
   "execution_count": 60,
   "metadata": {
    "collapsed": false
   },
   "outputs": [
    {
     "data": {
      "text/plain": [
       "'ls split_rf/* | parallel -j 12 \"angsd -bam PAR.slim.bamfile.list -ref Big_Data_ref.fa -anc Big_Data_ref.fa -out minInd9_overlapping/SAF/bootstrap/PAR/{/}.unfolded -fold 0 -sites from_SAFs_minInd9_overlapping.sites -rf {} -only_proper_pairs 0 -baq 1 -minMapQ 5 -minInd 9 -GL 1 -doSaf 1 -nThreads 1 2>/dev/null\"'"
      ]
     },
     "execution_count": 60,
     "metadata": {},
     "output_type": "execute_result"
    }
   ],
   "source": [
    "cmd"
   ]
  },
  {
   "cell_type": "code",
   "execution_count": 61,
   "metadata": {
    "collapsed": false
   },
   "outputs": [
    {
     "data": {
      "text/plain": [
       "<subprocess32.Popen at 0x7fb8f745a2d0>"
      ]
     },
     "execution_count": 61,
     "metadata": {},
     "output_type": "execute_result"
    }
   ],
   "source": [
    "sp.Popen(cmd, shell=True)"
   ]
  },
  {
   "cell_type": "code",
   "execution_count": 62,
   "metadata": {
    "collapsed": false
   },
   "outputs": [
    {
     "name": "stdout",
     "output_type": "stream",
     "text": [
      "total 51828\r\n",
      "-rw-rw-r-- 1 claudius    7049 Aug 11 10:45 aa.unfolded.arg\r\n",
      "-rw-rw-r-- 1 claudius  929541 Aug 11 10:45 \u001b[0m\u001b[01;31maa.unfolded.saf.gz\u001b[0m\r\n",
      "-rw-rw-r-- 1 claudius   10791 Aug 11 10:45 aa.unfolded.saf.idx\r\n",
      "-rw-rw-r-- 1 claudius    2411 Aug 11 10:45 \u001b[01;31maa.unfolded.saf.pos.gz\u001b[0m\r\n",
      "-rw-rw-r-- 1 claudius    7049 Aug 11 10:45 ab.unfolded.arg\r\n",
      "-rw-rw-r-- 1 claudius  984252 Aug 11 10:45 \u001b[01;31mab.unfolded.saf.gz\u001b[0m\r\n",
      "-rw-rw-r-- 1 claudius   11220 Aug 11 10:45 ab.unfolded.saf.idx\r\n",
      "-rw-rw-r-- 1 claudius    2229 Aug 11 10:45 \u001b[01;31mab.unfolded.saf.pos.gz\u001b[0m\r\n",
      "-rw-rw-r-- 1 claudius    7047 Aug 11 10:45 ac.unfolded.arg\r\n",
      "-rw-rw-r-- 1 claudius 1120741 Aug 11 10:45 \u001b[01;31mac.unfolded.saf.gz\u001b[0m\r\n",
      "-rw-rw-r-- 1 claudius   11324 Aug 11 10:45 ac.unfolded.saf.idx\r\n",
      "-rw-rw-r-- 1 claudius    2659 Aug 11 10:45 \u001b[01;31mac.unfolded.saf.pos.gz\u001b[0m\r\n",
      "-rw-rw-r-- 1 claudius    7048 Aug 11 10:45 ad.unfolded.arg\r\n",
      "-rw-rw-r-- 1 claudius 1035864 Aug 11 10:45 \u001b[01;31mad.unfolded.saf.gz\u001b[0m\r\n",
      "-rw-rw-r-- 1 claudius   11192 Aug 11 10:45 ad.unfolded.saf.idx\r\n",
      "-rw-rw-r-- 1 claudius    2475 Aug 11 10:45 \u001b[01;31mad.unfolded.saf.pos.gz\u001b[0m\r\n",
      "-rw-rw-r-- 1 claudius    7047 Aug 11 10:45 ae.unfolded.arg\r\n",
      "-rw-rw-r-- 1 claudius  806121 Aug 11 10:45 \u001b[01;31mae.unfolded.saf.gz\u001b[0m\r\n",
      "-rw-rw-r-- 1 claudius   10444 Aug 11 10:45 ae.unfolded.saf.idx\r\n",
      "-rw-rw-r-- 1 claudius    2344 Aug 11 10:45 \u001b[01;31mae.unfolded.saf.pos.gz\u001b[0m\r\n",
      "-rw-rw-r-- 1 claudius    7049 Aug 11 10:45 af.unfolded.arg\r\n",
      "-rw-rw-r-- 1 claudius  980490 Aug 11 10:45 \u001b[01;31maf.unfolded.saf.gz\u001b[0m\r\n",
      "-rw-rw-r-- 1 claudius   11412 Aug 11 10:45 af.unfolded.saf.idx\r\n",
      "-rw-rw-r-- 1 claudius    2590 Aug 11 10:45 \u001b[01;31maf.unfolded.saf.pos.gz\u001b[0m\r\n",
      "-rw-rw-r-- 1 claudius    7049 Aug 11 10:45 ag.unfolded.arg\r\n",
      "-rw-rw-r-- 1 claudius 1149304 Aug 11 10:45 \u001b[01;31mag.unfolded.saf.gz\u001b[0m\r\n",
      "-rw-rw-r-- 1 claudius   11368 Aug 11 10:45 ag.unfolded.saf.idx\r\n",
      "-rw-rw-r-- 1 claudius    2854 Aug 11 10:45 \u001b[01;31mag.unfolded.saf.pos.gz\u001b[0m\r\n",
      "-rw-rw-r-- 1 claudius    7047 Aug 11 10:45 ah.unfolded.arg\r\n",
      "-rw-rw-r-- 1 claudius  916455 Aug 11 10:45 \u001b[01;31mah.unfolded.saf.gz\u001b[0m\r\n",
      "-rw-rw-r-- 1 claudius   11148 Aug 11 10:45 ah.unfolded.saf.idx\r\n",
      "-rw-rw-r-- 1 claudius    2352 Aug 11 10:45 \u001b[01;31mah.unfolded.saf.pos.gz\u001b[0m\r\n",
      "-rw-rw-r-- 1 claudius    7049 Aug 11 10:45 ai.unfolded.arg\r\n",
      "-rw-rw-r-- 1 claudius 1210185 Aug 11 10:45 \u001b[01;31mai.unfolded.saf.gz\u001b[0m\r\n",
      "-rw-rw-r-- 1 claudius   10928 Aug 11 10:45 ai.unfolded.saf.idx\r\n",
      "-rw-rw-r-- 1 claudius    3202 Aug 11 10:45 \u001b[01;31mai.unfolded.saf.pos.gz\u001b[0m\r\n",
      "-rw-rw-r-- 1 claudius    7048 Aug 11 10:45 aj.unfolded.arg\r\n",
      "-rw-rw-r-- 1 claudius 1120816 Aug 11 10:45 \u001b[01;31maj.unfolded.saf.gz\u001b[0m\r\n",
      "-rw-rw-r-- 1 claudius   11280 Aug 11 10:45 aj.unfolded.saf.idx\r\n",
      "-rw-rw-r-- 1 claudius    2856 Aug 11 10:45 \u001b[01;31maj.unfolded.saf.pos.gz\u001b[0m\r\n",
      "-rw-rw-r-- 1 claudius    7047 Aug 11 10:45 ak.unfolded.arg\r\n",
      "-rw-rw-r-- 1 claudius 1096487 Aug 11 10:45 \u001b[01;31mak.unfolded.saf.gz\u001b[0m\r\n",
      "-rw-rw-r-- 1 claudius   11764 Aug 11 10:45 ak.unfolded.saf.idx\r\n",
      "-rw-rw-r-- 1 claudius    2704 Aug 11 10:45 \u001b[01;31mak.unfolded.saf.pos.gz\u001b[0m\r\n",
      "-rw-rw-r-- 1 claudius    7049 Aug 11 10:45 al.unfolded.arg\r\n",
      "-rw-rw-r-- 1 claudius 1022619 Aug 11 10:45 \u001b[01;31mal.unfolded.saf.gz\u001b[0m\r\n",
      "-rw-rw-r-- 1 claudius   11154 Aug 11 10:45 al.unfolded.saf.idx\r\n",
      "-rw-rw-r-- 1 claudius    2711 Aug 11 10:45 \u001b[01;31mal.unfolded.saf.pos.gz\u001b[0m\r\n",
      "-rw-rw-r-- 1 claudius    7047 Aug 11 10:45 am.unfolded.arg\r\n",
      "-rw-rw-r-- 1 claudius 1013557 Aug 11 10:45 \u001b[01;31mam.unfolded.saf.gz\u001b[0m\r\n",
      "-rw-rw-r-- 1 claudius   11176 Aug 11 10:45 am.unfolded.saf.idx\r\n",
      "-rw-rw-r-- 1 claudius    2759 Aug 11 10:45 \u001b[01;31mam.unfolded.saf.pos.gz\u001b[0m\r\n",
      "-rw-rw-r-- 1 claudius    7049 Aug 11 10:45 an.unfolded.arg\r\n",
      "-rw-rw-r-- 1 claudius 1029659 Aug 11 10:45 \u001b[01;31man.unfolded.saf.gz\u001b[0m\r\n",
      "-rw-rw-r-- 1 claudius   11536 Aug 11 10:45 an.unfolded.saf.idx\r\n",
      "-rw-rw-r-- 1 claudius    2688 Aug 11 10:45 \u001b[01;31man.unfolded.saf.pos.gz\u001b[0m\r\n",
      "-rw-rw-r-- 1 claudius    7047 Aug 11 10:45 ao.unfolded.arg\r\n",
      "-rw-rw-r-- 1 claudius 1019151 Aug 11 10:45 \u001b[01;31mao.unfolded.saf.gz\u001b[0m\r\n",
      "-rw-rw-r-- 1 claudius   11221 Aug 11 10:45 ao.unfolded.saf.idx\r\n",
      "-rw-rw-r-- 1 claudius    2573 Aug 11 10:45 \u001b[01;31mao.unfolded.saf.pos.gz\u001b[0m\r\n",
      "-rw-rw-r-- 1 claudius    7047 Aug 11 10:45 ap.unfolded.arg\r\n",
      "-rw-rw-r-- 1 claudius  869463 Aug 11 10:45 \u001b[01;31map.unfolded.saf.gz\u001b[0m\r\n",
      "-rw-rw-r-- 1 claudius   11266 Aug 11 10:45 ap.unfolded.saf.idx\r\n",
      "-rw-rw-r-- 1 claudius    2349 Aug 11 10:45 \u001b[01;31map.unfolded.saf.pos.gz\u001b[0m\r\n",
      "-rw-rw-r-- 1 claudius    7048 Aug 11 10:45 aq.unfolded.arg\r\n",
      "-rw-rw-r-- 1 claudius  798590 Aug 11 10:45 \u001b[01;31maq.unfolded.saf.gz\u001b[0m\r\n",
      "-rw-rw-r-- 1 claudius   10996 Aug 11 10:45 aq.unfolded.saf.idx\r\n",
      "-rw-rw-r-- 1 claudius    2073 Aug 11 10:45 \u001b[01;31maq.unfolded.saf.pos.gz\u001b[0m\r\n",
      "-rw-rw-r-- 1 claudius    7047 Aug 11 10:45 ar.unfolded.arg\r\n",
      "-rw-rw-r-- 1 claudius 1067785 Aug 11 10:45 \u001b[01;31mar.unfolded.saf.gz\u001b[0m\r\n",
      "-rw-rw-r-- 1 claudius   10996 Aug 11 10:45 ar.unfolded.saf.idx\r\n",
      "-rw-rw-r-- 1 claudius    2584 Aug 11 10:45 \u001b[01;31mar.unfolded.saf.pos.gz\u001b[0m\r\n",
      "-rw-rw-r-- 1 claudius    7047 Aug 11 10:45 as.unfolded.arg\r\n",
      "-rw-rw-r-- 1 claudius  925301 Aug 11 10:45 \u001b[01;31mas.unfolded.saf.gz\u001b[0m\r\n",
      "-rw-rw-r-- 1 claudius   11176 Aug 11 10:45 as.unfolded.saf.idx\r\n",
      "-rw-rw-r-- 1 claudius    2471 Aug 11 10:45 \u001b[01;31mas.unfolded.saf.pos.gz\u001b[0m\r\n",
      "-rw-rw-r-- 1 claudius    7047 Aug 11 10:45 at.unfolded.arg\r\n",
      "-rw-rw-r-- 1 claudius  986909 Aug 11 10:45 \u001b[01;31mat.unfolded.saf.gz\u001b[0m\r\n",
      "-rw-rw-r-- 1 claudius   11671 Aug 11 10:45 at.unfolded.saf.idx\r\n",
      "-rw-rw-r-- 1 claudius    2457 Aug 11 10:45 \u001b[01;31mat.unfolded.saf.pos.gz\u001b[0m\r\n",
      "-rw-rw-r-- 1 claudius    7047 Aug 11 10:45 au.unfolded.arg\r\n",
      "-rw-rw-r-- 1 claudius  889033 Aug 11 10:45 \u001b[01;31mau.unfolded.saf.gz\u001b[0m\r\n",
      "-rw-rw-r-- 1 claudius   11176 Aug 11 10:45 au.unfolded.saf.idx\r\n",
      "-rw-rw-r-- 1 claudius    2105 Aug 11 10:45 \u001b[01;31mau.unfolded.saf.pos.gz\u001b[0m\r\n",
      "-rw-rw-r-- 1 claudius    7047 Aug 11 10:45 av.unfolded.arg\r\n",
      "-rw-rw-r-- 1 claudius  860276 Aug 11 10:45 \u001b[01;31mav.unfolded.saf.gz\u001b[0m\r\n",
      "-rw-rw-r-- 1 claudius   11671 Aug 11 10:45 av.unfolded.saf.idx\r\n",
      "-rw-rw-r-- 1 claudius    2004 Aug 11 10:45 \u001b[01;31mav.unfolded.saf.pos.gz\u001b[0m\r\n",
      "-rw-rw-r-- 1 claudius    7047 Aug 11 10:45 aw.unfolded.arg\r\n",
      "-rw-rw-r-- 1 claudius  941745 Aug 11 10:45 \u001b[01;31maw.unfolded.saf.gz\u001b[0m\r\n",
      "-rw-rw-r-- 1 claudius   11176 Aug 11 10:45 aw.unfolded.saf.idx\r\n",
      "-rw-rw-r-- 1 claudius    2356 Aug 11 10:45 \u001b[01;31maw.unfolded.saf.pos.gz\u001b[0m\r\n",
      "-rw-rw-r-- 1 claudius    7047 Aug 11 10:45 ax.unfolded.arg\r\n",
      "-rw-rw-r-- 1 claudius  800375 Aug 11 10:45 \u001b[01;31max.unfolded.saf.gz\u001b[0m\r\n",
      "-rw-rw-r-- 1 claudius   11986 Aug 11 10:45 ax.unfolded.saf.idx\r\n",
      "-rw-rw-r-- 1 claudius    2092 Aug 11 10:45 \u001b[01;31max.unfolded.saf.pos.gz\u001b[0m\r\n",
      "-rw-rw-r-- 1 claudius    7047 Aug 11 10:45 ay.unfolded.arg\r\n",
      "-rw-rw-r-- 1 claudius  965801 Aug 11 10:45 \u001b[01;31may.unfolded.saf.gz\u001b[0m\r\n",
      "-rw-rw-r-- 1 claudius   11896 Aug 11 10:45 ay.unfolded.saf.idx\r\n",
      "-rw-rw-r-- 1 claudius    2209 Aug 11 10:45 \u001b[01;31may.unfolded.saf.pos.gz\u001b[0m\r\n",
      "-rw-rw-r-- 1 claudius    7047 Aug 11 10:45 az.unfolded.arg\r\n",
      "-rw-rw-r-- 1 claudius  815711 Aug 11 10:45 \u001b[01;31maz.unfolded.saf.gz\u001b[0m\r\n",
      "-rw-rw-r-- 1 claudius   11446 Aug 11 10:45 az.unfolded.saf.idx\r\n",
      "-rw-rw-r-- 1 claudius    2014 Aug 11 10:45 \u001b[01;31maz.unfolded.saf.pos.gz\u001b[0m\r\n",
      "-rw-rw-r-- 1 claudius    7047 Aug 11 10:45 ba.unfolded.arg\r\n",
      "-rw-rw-r-- 1 claudius  793724 Aug 11 10:45 \u001b[01;31mba.unfolded.saf.gz\u001b[0m\r\n",
      "-rw-rw-r-- 1 claudius   11536 Aug 11 10:45 ba.unfolded.saf.idx\r\n",
      "-rw-rw-r-- 1 claudius    1892 Aug 11 10:45 \u001b[01;31mba.unfolded.saf.pos.gz\u001b[0m\r\n",
      "-rw-rw-r-- 1 claudius    7047 Aug 11 10:45 bb.unfolded.arg\r\n",
      "-rw-rw-r-- 1 claudius  891749 Aug 11 10:45 \u001b[01;31mbb.unfolded.saf.gz\u001b[0m\r\n",
      "-rw-rw-r-- 1 claudius   11176 Aug 11 10:45 bb.unfolded.saf.idx\r\n",
      "-rw-rw-r-- 1 claudius    2393 Aug 11 10:45 \u001b[01;31mbb.unfolded.saf.pos.gz\u001b[0m\r\n",
      "-rw-rw-r-- 1 claudius    7047 Aug 11 10:45 bc.unfolded.arg\r\n",
      "-rw-rw-r-- 1 claudius  824409 Aug 11 10:45 \u001b[01;31mbc.unfolded.saf.gz\u001b[0m\r\n",
      "-rw-rw-r-- 1 claudius   11176 Aug 11 10:45 bc.unfolded.saf.idx\r\n",
      "-rw-rw-r-- 1 claudius    1955 Aug 11 10:45 \u001b[01;31mbc.unfolded.saf.pos.gz\u001b[0m\r\n",
      "-rw-rw-r-- 1 claudius    7048 Aug 11 10:45 bd.unfolded.arg\r\n",
      "-rw-rw-r-- 1 claudius  906549 Aug 11 10:45 \u001b[01;31mbd.unfolded.saf.gz\u001b[0m\r\n",
      "-rw-rw-r-- 1 claudius   11131 Aug 11 10:45 bd.unfolded.saf.idx\r\n",
      "-rw-rw-r-- 1 claudius    1943 Aug 11 10:45 \u001b[01;31mbd.unfolded.saf.pos.gz\u001b[0m\r\n",
      "-rw-rw-r-- 1 claudius    7047 Aug 11 10:45 be.unfolded.arg\r\n",
      "-rw-rw-r-- 1 claudius  931365 Aug 11 10:45 \u001b[01;31mbe.unfolded.saf.gz\u001b[0m\r\n",
      "-rw-rw-r-- 1 claudius   11221 Aug 11 10:45 be.unfolded.saf.idx\r\n",
      "-rw-rw-r-- 1 claudius    2022 Aug 11 10:45 \u001b[01;31mbe.unfolded.saf.pos.gz\u001b[0m\r\n",
      "-rw-rw-r-- 1 claudius    7047 Aug 11 10:45 bf.unfolded.arg\r\n",
      "-rw-rw-r-- 1 claudius  842921 Aug 11 10:45 \u001b[01;31mbf.unfolded.saf.gz\u001b[0m\r\n",
      "-rw-rw-r-- 1 claudius   11491 Aug 11 10:45 bf.unfolded.saf.idx\r\n",
      "-rw-rw-r-- 1 claudius    1902 Aug 11 10:45 \u001b[01;31mbf.unfolded.saf.pos.gz\u001b[0m\r\n",
      "-rw-rw-r-- 1 claudius    7047 Aug 11 10:45 bg.unfolded.arg\r\n",
      "-rw-rw-r-- 1 claudius  815869 Aug 11 10:45 \u001b[01;31mbg.unfolded.saf.gz\u001b[0m\r\n",
      "-rw-rw-r-- 1 claudius   11491 Aug 11 10:45 bg.unfolded.saf.idx\r\n",
      "-rw-rw-r-- 1 claudius    1810 Aug 11 10:45 \u001b[01;31mbg.unfolded.saf.pos.gz\u001b[0m\r\n",
      "-rw-rw-r-- 1 claudius    7047 Aug 11 10:45 bh.unfolded.arg\r\n",
      "-rw-rw-r-- 1 claudius  922926 Aug 11 10:45 \u001b[01;31mbh.unfolded.saf.gz\u001b[0m\r\n",
      "-rw-rw-r-- 1 claudius   12121 Aug 11 10:45 bh.unfolded.saf.idx\r\n",
      "-rw-rw-r-- 1 claudius    1988 Aug 11 10:45 \u001b[01;31mbh.unfolded.saf.pos.gz\u001b[0m\r\n",
      "-rw-rw-r-- 1 claudius    7047 Aug 11 10:45 bi.unfolded.arg\r\n",
      "-rw-rw-r-- 1 claudius  784887 Aug 11 10:45 \u001b[01;31mbi.unfolded.saf.gz\u001b[0m\r\n",
      "-rw-rw-r-- 1 claudius   11041 Aug 11 10:45 bi.unfolded.saf.idx\r\n",
      "-rw-rw-r-- 1 claudius    1732 Aug 11 10:45 \u001b[01;31mbi.unfolded.saf.pos.gz\u001b[0m\r\n",
      "-rw-rw-r-- 1 claudius    7047 Aug 11 10:45 bj.unfolded.arg\r\n",
      "-rw-rw-r-- 1 claudius  799001 Aug 11 10:45 \u001b[01;31mbj.unfolded.saf.gz\u001b[0m\r\n",
      "-rw-rw-r-- 1 claudius   11896 Aug 11 10:45 bj.unfolded.saf.idx\r\n",
      "-rw-rw-r-- 1 claudius    1785 Aug 11 10:45 \u001b[01;31mbj.unfolded.saf.pos.gz\u001b[0m\r\n",
      "-rw-rw-r-- 1 claudius    7047 Aug 11 10:45 bk.unfolded.arg\r\n",
      "-rw-rw-r-- 1 claudius  838923 Aug 11 10:45 \u001b[01;31mbk.unfolded.saf.gz\u001b[0m\r\n",
      "-rw-rw-r-- 1 claudius   11041 Aug 11 10:45 bk.unfolded.saf.idx\r\n",
      "-rw-rw-r-- 1 claudius    2107 Aug 11 10:45 \u001b[01;31mbk.unfolded.saf.pos.gz\u001b[0m\r\n",
      "-rw-rw-r-- 1 claudius    7047 Aug 11 10:45 bl.unfolded.arg\r\n",
      "-rw-rw-r-- 1 claudius  809150 Aug 11 10:45 \u001b[01;31mbl.unfolded.saf.gz\u001b[0m\r\n",
      "-rw-rw-r-- 1 claudius   11266 Aug 11 10:45 bl.unfolded.saf.idx\r\n",
      "-rw-rw-r-- 1 claudius    1745 Aug 11 10:45 \u001b[01;31mbl.unfolded.saf.pos.gz\u001b[0m\r\n",
      "-rw-rw-r-- 1 claudius    7047 Aug 11 10:45 bm.unfolded.arg\r\n",
      "-rw-rw-r-- 1 claudius  770619 Aug 11 10:45 \u001b[01;31mbm.unfolded.saf.gz\u001b[0m\r\n",
      "-rw-rw-r-- 1 claudius   10681 Aug 11 10:45 bm.unfolded.saf.idx\r\n",
      "-rw-rw-r-- 1 claudius    1755 Aug 11 10:45 \u001b[01;31mbm.unfolded.saf.pos.gz\u001b[0m\r\n",
      "-rw-rw-r-- 1 claudius    7047 Aug 11 10:45 bn.unfolded.arg\r\n",
      "-rw-rw-r-- 1 claudius  784415 Aug 11 10:45 \u001b[01;31mbn.unfolded.saf.gz\u001b[0m\r\n",
      "-rw-rw-r-- 1 claudius   10681 Aug 11 10:45 bn.unfolded.saf.idx\r\n",
      "-rw-rw-r-- 1 claudius    1930 Aug 11 10:45 \u001b[01;31mbn.unfolded.saf.pos.gz\u001b[0m\r\n",
      "-rw-rw-r-- 1 claudius    7047 Aug 11 10:45 bo.unfolded.arg\r\n",
      "-rw-rw-r-- 1 claudius  762773 Aug 11 10:45 \u001b[01;31mbo.unfolded.saf.gz\u001b[0m\r\n",
      "-rw-rw-r-- 1 claudius   11581 Aug 11 10:45 bo.unfolded.saf.idx\r\n",
      "-rw-rw-r-- 1 claudius    1651 Aug 11 10:45 \u001b[01;31mbo.unfolded.saf.pos.gz\u001b[0m\r\n",
      "-rw-rw-r-- 1 claudius    7047 Aug 11 10:45 bp.unfolded.arg\r\n",
      "-rw-rw-r-- 1 claudius  857963 Aug 11 10:45 \u001b[01;31mbp.unfolded.saf.gz\u001b[0m\r\n",
      "-rw-rw-r-- 1 claudius   11896 Aug 11 10:45 bp.unfolded.saf.idx\r\n",
      "-rw-rw-r-- 1 claudius    1564 Aug 11 10:45 \u001b[01;31mbp.unfolded.saf.pos.gz\u001b[0m\r\n",
      "-rw-rw-r-- 1 claudius    7047 Aug 11 10:45 bq.unfolded.arg\r\n",
      "-rw-rw-r-- 1 claudius  843550 Aug 11 10:45 \u001b[01;31mbq.unfolded.saf.gz\u001b[0m\r\n",
      "-rw-rw-r-- 1 claudius   11491 Aug 11 10:45 bq.unfolded.saf.idx\r\n",
      "-rw-rw-r-- 1 claudius    1917 Aug 11 10:45 \u001b[01;31mbq.unfolded.saf.pos.gz\u001b[0m\r\n",
      "-rw-rw-r-- 1 claudius    7047 Aug 11 10:45 br.unfolded.arg\r\n",
      "-rw-rw-r-- 1 claudius  863745 Aug 11 10:45 \u001b[01;31mbr.unfolded.saf.gz\u001b[0m\r\n",
      "-rw-rw-r-- 1 claudius   11896 Aug 11 10:45 br.unfolded.saf.idx\r\n",
      "-rw-rw-r-- 1 claudius    1877 Aug 11 10:45 \u001b[01;31mbr.unfolded.saf.pos.gz\u001b[0m\r\n",
      "-rw-rw-r-- 1 claudius    7047 Aug 11 10:45 bs.unfolded.arg\r\n",
      "-rw-rw-r-- 1 claudius  811054 Aug 11 10:45 \u001b[01;31mbs.unfolded.saf.gz\u001b[0m\r\n",
      "-rw-rw-r-- 1 claudius   11176 Aug 11 10:45 bs.unfolded.saf.idx\r\n",
      "-rw-rw-r-- 1 claudius    1647 Aug 11 10:45 \u001b[01;31mbs.unfolded.saf.pos.gz\u001b[0m\r\n",
      "-rw-rw-r-- 1 claudius    7047 Aug 11 10:45 bt.unfolded.arg\r\n",
      "-rw-rw-r-- 1 claudius  750135 Aug 11 10:45 \u001b[01;31mbt.unfolded.saf.gz\u001b[0m\r\n",
      "-rw-rw-r-- 1 claudius   10951 Aug 11 10:45 bt.unfolded.saf.idx\r\n",
      "-rw-rw-r-- 1 claudius    1858 Aug 11 10:45 \u001b[01;31mbt.unfolded.saf.pos.gz\u001b[0m\r\n",
      "-rw-rw-r-- 1 claudius    7047 Aug 11 10:45 bu.unfolded.arg\r\n",
      "-rw-rw-r-- 1 claudius  812033 Aug 11 10:45 \u001b[01;31mbu.unfolded.saf.gz\u001b[0m\r\n",
      "-rw-rw-r-- 1 claudius   11626 Aug 11 10:45 bu.unfolded.saf.idx\r\n",
      "-rw-rw-r-- 1 claudius    1800 Aug 11 10:45 \u001b[01;31mbu.unfolded.saf.pos.gz\u001b[0m\r\n",
      "-rw-rw-r-- 1 claudius    7047 Aug 11 10:45 bv.unfolded.arg\r\n",
      "-rw-rw-r-- 1 claudius  787588 Aug 11 10:45 \u001b[01;31mbv.unfolded.saf.gz\u001b[0m\r\n",
      "-rw-rw-r-- 1 claudius   11761 Aug 11 10:45 bv.unfolded.saf.idx\r\n",
      "-rw-rw-r-- 1 claudius    1844 Aug 11 10:45 \u001b[01;31mbv.unfolded.saf.pos.gz\u001b[0m\r\n",
      "-rw-rw-r-- 1 claudius    7047 Aug 11 10:45 bw.unfolded.arg\r\n",
      "-rw-rw-r-- 1 claudius  755510 Aug 11 10:45 \u001b[01;31mbw.unfolded.saf.gz\u001b[0m\r\n",
      "-rw-rw-r-- 1 claudius   11806 Aug 11 10:45 bw.unfolded.saf.idx\r\n",
      "-rw-rw-r-- 1 claudius    1593 Aug 11 10:45 \u001b[01;31mbw.unfolded.saf.pos.gz\u001b[0m\r\n",
      "-rw-rw-r-- 1 claudius    7047 Aug 11 10:45 bx.unfolded.arg\r\n",
      "-rw-rw-r-- 1 claudius  798827 Aug 11 10:45 \u001b[01;31mbx.unfolded.saf.gz\u001b[0m\r\n",
      "-rw-rw-r-- 1 claudius   11581 Aug 11 10:45 bx.unfolded.saf.idx\r\n",
      "-rw-rw-r-- 1 claudius    1746 Aug 11 10:45 \u001b[01;31mbx.unfolded.saf.pos.gz\u001b[0m\r\n",
      "-rw-rw-r-- 1 claudius    7047 Aug 11 10:45 by.unfolded.arg\r\n",
      "-rw-rw-r-- 1 claudius  827624 Aug 11 10:45 \u001b[01;31mby.unfolded.saf.gz\u001b[0m\r\n",
      "-rw-rw-r-- 1 claudius   10996 Aug 11 10:45 by.unfolded.saf.idx\r\n",
      "-rw-rw-r-- 1 claudius    2157 Aug 11 10:45 \u001b[01;31mby.unfolded.saf.pos.gz\u001b[0m\r\n",
      "-rw-rw-r-- 1 claudius    7047 Aug 11 10:45 bz.unfolded.arg\r\n",
      "-rw-rw-r-- 1 claudius  825134 Aug 11 10:45 \u001b[01;31mbz.unfolded.saf.gz\u001b[0m\r\n",
      "-rw-rw-r-- 1 claudius   11041 Aug 11 10:45 bz.unfolded.saf.idx\r\n",
      "-rw-rw-r-- 1 claudius    1933 Aug 11 10:45 \u001b[01;31mbz.unfolded.saf.pos.gz\u001b[0m\r\n",
      "-rw-rw-r-- 1 claudius    7047 Aug 11 10:45 ca.unfolded.arg\r\n",
      "-rw-rw-r-- 1 claudius  813911 Aug 11 10:45 \u001b[01;31mca.unfolded.saf.gz\u001b[0m\r\n",
      "-rw-rw-r-- 1 claudius   11491 Aug 11 10:45 ca.unfolded.saf.idx\r\n",
      "-rw-rw-r-- 1 claudius    2041 Aug 11 10:45 \u001b[01;31mca.unfolded.saf.pos.gz\u001b[0m\r\n",
      "-rw-rw-r-- 1 claudius    7047 Aug 11 10:45 cb.unfolded.arg\r\n",
      "-rw-rw-r-- 1 claudius  971551 Aug 11 10:45 \u001b[01;31mcb.unfolded.saf.gz\u001b[0m\r\n",
      "-rw-rw-r-- 1 claudius   11581 Aug 11 10:45 cb.unfolded.saf.idx\r\n",
      "-rw-rw-r-- 1 claudius    2400 Aug 11 10:45 \u001b[01;31mcb.unfolded.saf.pos.gz\u001b[0m\r\n",
      "-rw-rw-r-- 1 claudius    7047 Aug 11 10:45 cc.unfolded.arg\r\n",
      "-rw-rw-r-- 1 claudius 1059003 Aug 11 10:45 \u001b[01;31mcc.unfolded.saf.gz\u001b[0m\r\n",
      "-rw-rw-r-- 1 claudius   11761 Aug 11 10:45 cc.unfolded.saf.idx\r\n",
      "-rw-rw-r-- 1 claudius    2626 Aug 11 10:45 \u001b[01;31mcc.unfolded.saf.pos.gz\u001b[0m\r\n",
      "-rw-rw-r-- 1 claudius    7047 Aug 11 10:45 cd.unfolded.arg\r\n",
      "-rw-rw-r-- 1 claudius 1035065 Aug 11 10:45 \u001b[01;31mcd.unfolded.saf.gz\u001b[0m\r\n",
      "-rw-rw-r-- 1 claudius   11356 Aug 11 10:45 cd.unfolded.saf.idx\r\n",
      "-rw-rw-r-- 1 claudius    2593 Aug 11 10:45 \u001b[01;31mcd.unfolded.saf.pos.gz\u001b[0m\r\n",
      "-rw-rw-r-- 1 claudius    7047 Aug 11 10:45 ce.unfolded.arg\r\n",
      "-rw-rw-r-- 1 claudius  908734 Aug 11 10:45 \u001b[01;31mce.unfolded.saf.gz\u001b[0m\r\n",
      "-rw-rw-r-- 1 claudius   10591 Aug 11 10:45 ce.unfolded.saf.idx\r\n",
      "-rw-rw-r-- 1 claudius    2306 Aug 11 10:45 \u001b[01;31mce.unfolded.saf.pos.gz\u001b[0m\r\n"
     ]
    }
   ],
   "source": [
    "% ll minInd9_overlapping/SAF/bootstrap/PAR/"
   ]
  },
  {
   "cell_type": "markdown",
   "metadata": {},
   "source": [
    "Concatenate split SAF files:"
   ]
  },
  {
   "cell_type": "code",
   "execution_count": 97,
   "metadata": {
    "collapsed": false
   },
   "outputs": [],
   "source": [
    "index = '000'"
   ]
  },
  {
   "cell_type": "code",
   "execution_count": 98,
   "metadata": {
    "collapsed": false
   },
   "outputs": [
    {
     "data": {
      "text/plain": [
       "'realSFS cat -outnames minInd9_overlapping/SAF/bootstrap/PAR/000.unfolded minInd9_overlapping/SAF/bootstrap/PAR/*saf.idx 2>/dev/null'"
      ]
     },
     "execution_count": 98,
     "metadata": {},
     "output_type": "execute_result"
    }
   ],
   "source": [
    "cmd = \"realSFS cat -outnames minInd9_overlapping/SAF/bootstrap/PAR/{}.unfolded minInd9_overlapping/SAF/bootstrap/PAR/*saf.idx 2>/dev/null\".format(index)\n",
    "cmd"
   ]
  },
  {
   "cell_type": "markdown",
   "metadata": {},
   "source": [
    "Note that I need to give the concatenated SAF file the index of the bootstrap repetition."
   ]
  },
  {
   "cell_type": "code",
   "execution_count": 71,
   "metadata": {
    "collapsed": false
   },
   "outputs": [
    {
     "data": {
      "text/plain": [
       "0"
      ]
     },
     "execution_count": 71,
     "metadata": {},
     "output_type": "execute_result"
    }
   ],
   "source": [
    "sp.call(cmd, shell=True)"
   ]
  },
  {
   "cell_type": "code",
   "execution_count": 76,
   "metadata": {
    "collapsed": false
   },
   "outputs": [
    {
     "data": {
      "text/plain": [
       "0"
      ]
     },
     "execution_count": 76,
     "metadata": {},
     "output_type": "execute_result"
    }
   ],
   "source": [
    "# concatenated SAF file begins with \"PAR\"\n",
    "# remove all split SAF files, they are not need anymore\n",
    "\n",
    "sp.call(\"rm -f minInd9_overlapping/SAF/bootstrap/PAR/[a-z]*\", shell=True)"
   ]
  },
  {
   "cell_type": "code",
   "execution_count": 80,
   "metadata": {
    "collapsed": false
   },
   "outputs": [
    {
     "name": "stdout",
     "output_type": "stream",
     "text": [
      "-rw-rw-r-- 1 claudius 51554721 Aug 11 10:58 \u001b[0m\u001b[01;31mminInd9_overlapping/SAF/bootstrap/PAR/000.unfolded.saf.gz\u001b[0m\r\n",
      "-rw-rw-r-- 1 claudius   645049 Aug 11 10:58 minInd9_overlapping/SAF/bootstrap/PAR/000.unfolded.saf.idx\r\n",
      "-rw-rw-r-- 1 claudius   108985 Aug 11 10:58 \u001b[01;31mminInd9_overlapping/SAF/bootstrap/PAR/000.unfolded.saf.pos.gz\u001b[0m\u001b[K\r\n"
     ]
    }
   ],
   "source": [
    "% ll minInd9_overlapping/SAF/bootstrap/PAR/[0-9]*"
   ]
  },
  {
   "cell_type": "code",
   "execution_count": 81,
   "metadata": {
    "collapsed": false
   },
   "outputs": [
    {
     "name": "stdout",
     "output_type": "stream",
     "text": [
      "ls: cannot access minInd9_overlapping/SAF/bootstrap/PAR/[!0-9]*: No such file or directory\r\n"
     ]
    }
   ],
   "source": [
    "% ll minInd9_overlapping/SAF/bootstrap/PAR/[!0-9]*"
   ]
  },
  {
   "cell_type": "markdown",
   "metadata": {},
   "source": [
    "I think it would be best to put the steps of creating SAF files into a separate Python script to run in the background. I have put the code into the script `estimate_SAFs.py`."
   ]
  },
  {
   "cell_type": "markdown",
   "metadata": {},
   "source": [
    "## Bootstrap regions file from including non-overlapping sites"
   ]
  },
  {
   "cell_type": "code",
   "execution_count": 3,
   "metadata": {
    "collapsed": false
   },
   "outputs": [
    {
     "name": "stdout",
     "output_type": "stream",
     "text": [
      "-rw-rw-r-- 1 claudius 473510 Jun 30 10:23 0_boot_regions.rf\r\n",
      "-rw-rw-r-- 1 claudius 300658 May 13 09:25 0_boot.rf\r\n",
      "lrwxrwxrwx 1 claudius    105 Jun 30 19:27 \u001b[0m\u001b[01;36mall.rf\u001b[0m -> ../ParEry.noSEgt2.nogtQ99Cov.noDUST.3.15.noTGCAGG.ANGSD_combinedNegFisFiltered.noGtQ99GlobalCov.sorted.rf\r\n",
      "-rw-rw-r-- 1 claudius 313201 Aug 10 16:08 from_SAFs_minInd9_overlapping.rf\r\n",
      "\r\n",
      "split_rf:\r\n",
      "total 456\r\n",
      "-rw-rw-r-- 1 claudius 4765 Aug 12 03:15 aa\r\n",
      "-rw-rw-r-- 1 claudius 5061 Aug 12 03:15 ab\r\n",
      "-rw-rw-r-- 1 claudius 5174 Aug 12 03:15 ac\r\n",
      "-rw-rw-r-- 1 claudius 5187 Aug 12 03:15 ad\r\n",
      "-rw-rw-r-- 1 claudius 5187 Aug 12 03:15 ae\r\n",
      "-rw-rw-r-- 1 claudius 5200 Aug 12 03:15 af\r\n",
      "-rw-rw-r-- 1 claudius 5200 Aug 12 03:15 ag\r\n",
      "-rw-rw-r-- 1 claudius 5174 Aug 12 03:15 ah\r\n",
      "-rw-rw-r-- 1 claudius 5200 Aug 12 03:15 ai\r\n",
      "-rw-rw-r-- 1 claudius 5174 Aug 12 03:15 aj\r\n",
      "-rw-rw-r-- 1 claudius 5200 Aug 12 03:15 ak\r\n",
      "-rw-rw-r-- 1 claudius 5304 Aug 12 03:15 al\r\n",
      "-rw-rw-r-- 1 claudius 5600 Aug 12 03:15 am\r\n",
      "-rw-rw-r-- 1 claudius 5600 Aug 12 03:15 an\r\n",
      "-rw-rw-r-- 1 claudius 5586 Aug 12 03:15 ao\r\n",
      "-rw-rw-r-- 1 claudius 5572 Aug 12 03:15 ap\r\n",
      "-rw-rw-r-- 1 claudius 5572 Aug 12 03:15 aq\r\n",
      "-rw-rw-r-- 1 claudius 5586 Aug 12 03:15 ar\r\n",
      "-rw-rw-r-- 1 claudius 5586 Aug 12 03:15 as\r\n",
      "-rw-rw-r-- 1 claudius 5600 Aug 12 03:15 at\r\n",
      "-rw-rw-r-- 1 claudius 5586 Aug 12 03:15 au\r\n",
      "-rw-rw-r-- 1 claudius 5586 Aug 12 03:15 av\r\n",
      "-rw-rw-r-- 1 claudius 5600 Aug 12 03:15 aw\r\n",
      "-rw-rw-r-- 1 claudius 5600 Aug 12 03:15 ax\r\n",
      "-rw-rw-r-- 1 claudius 5586 Aug 12 03:15 ay\r\n",
      "-rw-rw-r-- 1 claudius 5600 Aug 12 03:15 az\r\n",
      "-rw-rw-r-- 1 claudius 5586 Aug 12 03:15 ba\r\n",
      "-rw-rw-r-- 1 claudius 5600 Aug 12 03:15 bb\r\n",
      "-rw-rw-r-- 1 claudius 5600 Aug 12 03:15 bc\r\n",
      "-rw-rw-r-- 1 claudius 5600 Aug 12 03:15 bd\r\n",
      "-rw-rw-r-- 1 claudius 5600 Aug 12 03:15 be\r\n",
      "-rw-rw-r-- 1 claudius 5586 Aug 12 03:15 bf\r\n",
      "-rw-rw-r-- 1 claudius 5600 Aug 12 03:15 bg\r\n",
      "-rw-rw-r-- 1 claudius 5586 Aug 12 03:15 bh\r\n",
      "-rw-rw-r-- 1 claudius 5586 Aug 12 03:15 bi\r\n",
      "-rw-rw-r-- 1 claudius 5600 Aug 12 03:15 bj\r\n",
      "-rw-rw-r-- 1 claudius 5600 Aug 12 03:15 bk\r\n",
      "-rw-rw-r-- 1 claudius 5572 Aug 12 03:15 bl\r\n",
      "-rw-rw-r-- 1 claudius 5572 Aug 12 03:15 bm\r\n",
      "-rw-rw-r-- 1 claudius 5600 Aug 12 03:15 bn\r\n",
      "-rw-rw-r-- 1 claudius 5572 Aug 12 03:15 bo\r\n",
      "-rw-rw-r-- 1 claudius 5600 Aug 12 03:15 bp\r\n",
      "-rw-rw-r-- 1 claudius 5586 Aug 12 03:15 bq\r\n",
      "-rw-rw-r-- 1 claudius 5600 Aug 12 03:15 br\r\n",
      "-rw-rw-r-- 1 claudius 5586 Aug 12 03:15 bs\r\n",
      "-rw-rw-r-- 1 claudius 5572 Aug 12 03:15 bt\r\n",
      "-rw-rw-r-- 1 claudius 5600 Aug 12 03:15 bu\r\n",
      "-rw-rw-r-- 1 claudius 5600 Aug 12 03:15 bv\r\n",
      "-rw-rw-r-- 1 claudius 5600 Aug 12 03:15 bw\r\n",
      "-rw-rw-r-- 1 claudius 5600 Aug 12 03:15 bx\r\n",
      "-rw-rw-r-- 1 claudius 5600 Aug 12 03:15 by\r\n",
      "-rw-rw-r-- 1 claudius 5600 Aug 12 03:15 bz\r\n",
      "-rw-rw-r-- 1 claudius 5572 Aug 12 03:15 ca\r\n",
      "-rw-rw-r-- 1 claudius 5586 Aug 12 03:15 cb\r\n",
      "-rw-rw-r-- 1 claudius 5600 Aug 12 03:15 cc\r\n",
      "-rw-rw-r-- 1 claudius 5600 Aug 12 03:15 cd\r\n",
      "-rw-rw-r-- 1 claudius 5278 Aug 12 03:15 ce\r\n"
     ]
    }
   ],
   "source": [
    "% ll *rf"
   ]
  },
  {
   "cell_type": "markdown",
   "metadata": {},
   "source": [
    "I am going to bootstrap `all.rf`."
   ]
  },
  {
   "cell_type": "code",
   "execution_count": 1,
   "metadata": {
    "collapsed": true
   },
   "outputs": [],
   "source": [
    "regions = []\n",
    "\n",
    "with open(\"all.rf\", \"r\") as rf:\n",
    "    for r in rf:\n",
    "        regions.append(r.rstrip())"
   ]
  },
  {
   "cell_type": "code",
   "execution_count": 2,
   "metadata": {
    "collapsed": false
   },
   "outputs": [
    {
     "data": {
      "text/plain": [
       "34343"
      ]
     },
     "execution_count": 2,
     "metadata": {},
     "output_type": "execute_result"
    }
   ],
   "source": [
    "len(regions)"
   ]
  },
  {
   "cell_type": "code",
   "execution_count": 3,
   "metadata": {
    "collapsed": false
   },
   "outputs": [
    {
     "data": {
      "text/plain": [
       "34343"
      ]
     },
     "execution_count": 3,
     "metadata": {},
     "output_type": "execute_result"
    }
   ],
   "source": [
    "len(set(regions))"
   ]
  },
  {
   "cell_type": "code",
   "execution_count": 4,
   "metadata": {
    "collapsed": true
   },
   "outputs": [],
   "source": [
    "import numpy as np"
   ]
  },
  {
   "cell_type": "code",
   "execution_count": 5,
   "metadata": {
    "collapsed": true
   },
   "outputs": [],
   "source": [
    "# efficient bootstrapping of array with numpy\n",
    "# np.random.choice\n",
    "\n",
    "n_contigs = len(regions)\n",
    "\n",
    "boot_contigs = np.random.choice(regions, size=n_contigs, replace=True)"
   ]
  },
  {
   "cell_type": "code",
   "execution_count": 6,
   "metadata": {
    "collapsed": false
   },
   "outputs": [
    {
     "data": {
      "text/plain": [
       "34343"
      ]
     },
     "execution_count": 6,
     "metadata": {},
     "output_type": "execute_result"
    }
   ],
   "source": [
    "len(boot_contigs)"
   ]
  },
  {
   "cell_type": "code",
   "execution_count": 7,
   "metadata": {
    "collapsed": false
   },
   "outputs": [
    {
     "data": {
      "text/plain": [
       "21697"
      ]
     },
     "execution_count": 7,
     "metadata": {},
     "output_type": "execute_result"
    }
   ],
   "source": [
    "len(set(boot_contigs))"
   ]
  },
  {
   "cell_type": "code",
   "execution_count": 8,
   "metadata": {
    "collapsed": true
   },
   "outputs": [],
   "source": [
    "def bootstrapContigs(regions, index):\n",
    "    \"\"\"\n",
    "    takes an array of contig ID's and an index for the bootstrap repetition\n",
    "    \"\"\"\n",
    "    import numpy as np\n",
    "    # get number of contigs to resample\n",
    "    n_contigs = len(regions)\n",
    "    # resample contigs with replacement (bootstrap)\n",
    "    boot_contigs = np.random.choice(regions, size=n_contigs, replace=True)\n",
    "    # write out bootstrapped *regions file\n",
    "    with open(\"including_non-overlapping/BOOT_RF/{:03d}_boot.rf\".format(index), \"w\") as out:\n",
    "        for contig in sorted(boot_contigs, key=lambda x: int(x.replace(\"Contig_\", \"\"))):\n",
    "            out.write(contig + \"\\n\")"
   ]
  },
  {
   "cell_type": "code",
   "execution_count": 10,
   "metadata": {
    "collapsed": true
   },
   "outputs": [],
   "source": [
    "for index in range(0, 200):\n",
    "    bootstrapContigs(regions, index)"
   ]
  },
  {
   "cell_type": "markdown",
   "metadata": {},
   "source": [
    "## quick tests"
   ]
  },
  {
   "cell_type": "code",
   "execution_count": 19,
   "metadata": {
    "collapsed": false
   },
   "outputs": [
    {
     "data": {
      "text/plain": [
       "['ery', 'par']"
      ]
     },
     "execution_count": 19,
     "metadata": {},
     "output_type": "execute_result"
    }
   ],
   "source": [
    "a = ['par', 'ery']\n",
    "a.reverse()\n",
    "a"
   ]
  },
  {
   "cell_type": "code",
   "execution_count": 43,
   "metadata": {
    "collapsed": false
   },
   "outputs": [
    {
     "data": {
      "text/plain": [
       "'050'"
      ]
     },
     "execution_count": 43,
     "metadata": {},
     "output_type": "execute_result"
    }
   ],
   "source": [
    "\"{:03d}\".format(50)"
   ]
  },
  {
   "cell_type": "code",
   "execution_count": 7,
   "metadata": {
    "collapsed": false
   },
   "outputs": [
    {
     "name": "stdout",
     "output_type": "stream",
     "text": [
      "['16', '8']\n",
      "['40', '8']\n"
     ]
    }
   ],
   "source": [
    "ery_sites.seek(0)\n",
    "par_sites.seek(0)\n",
    "\n",
    "ery = ery_sites.next()\n",
    "par = par_sites.next()\n",
    "    \n",
    "e = ery.replace(\"Contig_\", \"\").rstrip().split()\n",
    "p = par.replace(\"Contig_\", \"\").rstrip().split()\n",
    "\n",
    "print e\n",
    "print p"
   ]
  },
  {
   "cell_type": "code",
   "execution_count": null,
   "metadata": {
    "collapsed": true
   },
   "outputs": [],
   "source": []
  },
  {
   "cell_type": "code",
   "execution_count": 25,
   "metadata": {
    "collapsed": false
   },
   "outputs": [
    {
     "name": "stdout",
     "output_type": "stream",
     "text": [
      "1\n",
      "2\n",
      "3\n",
      "4\n",
      "5\n",
      "6\n",
      "7\n",
      "8\n",
      "9\n",
      "10\n"
     ]
    }
   ],
   "source": [
    "i = 0\n",
    "while 1:\n",
    "    i+=1\n",
    "    print i\n",
    "    if i>9: break"
   ]
  },
  {
   "cell_type": "code",
   "execution_count": 29,
   "metadata": {
    "collapsed": false
   },
   "outputs": [
    {
     "data": {
      "text/plain": [
       "<iterator at 0x7f10d80d4750>"
      ]
     },
     "execution_count": 29,
     "metadata": {},
     "output_type": "execute_result"
    }
   ],
   "source": [
    "s = 'abcdefg'\n",
    "it = iter(s)\n",
    "it"
   ]
  },
  {
   "cell_type": "code",
   "execution_count": 30,
   "metadata": {
    "collapsed": false
   },
   "outputs": [
    {
     "name": "stdout",
     "output_type": "stream",
     "text": [
      "a\n",
      "b\n",
      "c\n",
      "d\n",
      "e\n",
      "f\n",
      "g\n"
     ]
    }
   ],
   "source": [
    "while 1:\n",
    "    try:\n",
    "        print it.next()\n",
    "    except:\n",
    "        break"
   ]
  },
  {
   "cell_type": "code",
   "execution_count": null,
   "metadata": {
    "collapsed": true
   },
   "outputs": [],
   "source": []
  },
  {
   "cell_type": "code",
   "execution_count": 7,
   "metadata": {
    "collapsed": true
   },
   "outputs": [],
   "source": [
    "str.replace?"
   ]
  },
  {
   "cell_type": "code",
   "execution_count": 10,
   "metadata": {
    "collapsed": false
   },
   "outputs": [],
   "source": [
    "str.strip?"
   ]
  },
  {
   "cell_type": "code",
   "execution_count": 14,
   "metadata": {
    "collapsed": false
   },
   "outputs": [
    {
     "name": "stdout",
     "output_type": "stream",
     "text": [
      "Contig_16\t8\n",
      "\n"
     ]
    }
   ],
   "source": [
    "print ery_sites.next()"
   ]
  },
  {
   "cell_type": "code",
   "execution_count": 15,
   "metadata": {
    "collapsed": false
   },
   "outputs": [
    {
     "name": "stdout",
     "output_type": "stream",
     "text": [
      "Contig_16\t9\n",
      "\n"
     ]
    }
   ],
   "source": [
    "print ery_sites.next()"
   ]
  },
  {
   "cell_type": "code",
   "execution_count": 16,
   "metadata": {
    "collapsed": true
   },
   "outputs": [],
   "source": [
    "ery_sites.seek(0)"
   ]
  },
  {
   "cell_type": "code",
   "execution_count": 17,
   "metadata": {
    "collapsed": false
   },
   "outputs": [
    {
     "name": "stdout",
     "output_type": "stream",
     "text": [
      "Contig_16\t8\n",
      "\n"
     ]
    }
   ],
   "source": [
    "print ery_sites.next()"
   ]
  },
  {
   "cell_type": "code",
   "execution_count": 18,
   "metadata": {
    "collapsed": false
   },
   "outputs": [
    {
     "data": {
      "text/plain": [
       "<iterator at 0x7f10d814ed90>"
      ]
     },
     "execution_count": 18,
     "metadata": {},
     "output_type": "execute_result"
    }
   ],
   "source": [
    "s = 'abcdefg'\n",
    "it = iter(s)\n",
    "it"
   ]
  },
  {
   "cell_type": "code",
   "execution_count": 19,
   "metadata": {
    "collapsed": false
   },
   "outputs": [
    {
     "name": "stdout",
     "output_type": "stream",
     "text": [
      "a\n"
     ]
    }
   ],
   "source": [
    "print it.next()"
   ]
  },
  {
   "cell_type": "code",
   "execution_count": 20,
   "metadata": {
    "collapsed": false
   },
   "outputs": [
    {
     "name": "stdout",
     "output_type": "stream",
     "text": [
      "b\n",
      "c\n",
      "d\n",
      "e\n",
      "f\n",
      "g\n"
     ]
    }
   ],
   "source": [
    "for l in it:\n",
    "    print l"
   ]
  },
  {
   "cell_type": "code",
   "execution_count": 28,
   "metadata": {
    "collapsed": false
   },
   "outputs": [
    {
     "ename": "TypeError",
     "evalue": "expected 0 arguments, got 1",
     "output_type": "error",
     "traceback": [
      "\u001b[1;31m---------------------------------------------------------------------------\u001b[0m",
      "\u001b[1;31mTypeError\u001b[0m                                 Traceback (most recent call last)",
      "\u001b[1;32m<ipython-input-28-0be20c8575ae>\u001b[0m in \u001b[0;36m<module>\u001b[1;34m()\u001b[0m\n\u001b[1;32m----> 1\u001b[1;33m \u001b[0mit\u001b[0m\u001b[1;33m.\u001b[0m\u001b[0mnext\u001b[0m\u001b[1;33m(\u001b[0m\u001b[1;36m1\u001b[0m\u001b[1;33m)\u001b[0m\u001b[1;33m\u001b[0m\u001b[0m\n\u001b[0m",
      "\u001b[1;31mTypeError\u001b[0m: expected 0 arguments, got 1"
     ]
    }
   ],
   "source": [
    "it"
   ]
  },
  {
   "cell_type": "code",
   "execution_count": 3,
   "metadata": {
    "collapsed": false
   },
   "outputs": [
    {
     "data": {
      "text/plain": [
       "'aabb'"
      ]
     },
     "execution_count": 3,
     "metadata": {},
     "output_type": "execute_result"
    }
   ],
   "source": [
    "arr = ['aa', 'bb']\n",
    "\"\".join(arr)"
   ]
  },
  {
   "cell_type": "code",
   "execution_count": 2,
   "metadata": {
    "collapsed": true
   },
   "outputs": [],
   "source": [
    "str.join?"
   ]
  },
  {
   "cell_type": "code",
   "execution_count": null,
   "metadata": {
    "collapsed": true
   },
   "outputs": [],
   "source": []
  }
 ],
 "metadata": {
  "anaconda-cloud": {},
  "kernelspec": {
   "display_name": "Python [default]",
   "language": "python",
   "name": "python2"
  },
  "language_info": {
   "codemirror_mode": {
    "name": "ipython",
    "version": 2
   },
   "file_extension": ".py",
   "mimetype": "text/x-python",
   "name": "python",
   "nbconvert_exporter": "python",
   "pygments_lexer": "ipython2",
   "version": "2.7.12"
  },
  "toc": {
   "colors": {
    "hover_highlight": "#DAA520",
    "running_highlight": "#FF0000",
    "selected_highlight": "#FFD700"
   },
   "moveMenuLeft": true,
   "nav_menu": {
    "height": "12px",
    "width": "252px"
   },
   "navigate_menu": true,
   "number_sections": true,
   "sideBar": true,
   "threshold": 4,
   "toc_cell": true,
   "toc_position": {
    "height": "664px",
    "left": "0px",
    "right": "1185px",
    "top": "107px",
    "width": "255px"
   },
   "toc_section_display": "block",
   "toc_window_display": true
  }
 },
 "nbformat": 4,
 "nbformat_minor": 0
}
