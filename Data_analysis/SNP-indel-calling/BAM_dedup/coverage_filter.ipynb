{
 "cells": [
  {
   "cell_type": "markdown",
   "metadata": {
    "toc": "true"
   },
   "source": [
    "# Table of Contents\n",
    " <p><div class=\"lev2 toc-item\"><a data-toc-modified-id=\"check-output-01\" href=\"#check-output\"><span class=\"toc-item-num\">0.1&nbsp;&nbsp;</span>check output</a></div><div class=\"lev2 toc-item\"><a data-toc-modified-id=\"Code-optimisation-02\" href=\"#Code-optimisation\"><span class=\"toc-item-num\">0.2&nbsp;&nbsp;</span>Code optimisation</a></div><div class=\"lev3 toc-item\"><a data-toc-modified-id=\"unoptimised-021\" href=\"#unoptimised\"><span class=\"toc-item-num\">0.2.1&nbsp;&nbsp;</span>unoptimised</a></div><div class=\"lev3 toc-item\"><a data-toc-modified-id=\"optimised-022\" href=\"#optimised\"><span class=\"toc-item-num\">0.2.2&nbsp;&nbsp;</span>optimised</a></div><div class=\"lev3 toc-item\"><a data-toc-modified-id=\"Numba-023\" href=\"#Numba\"><span class=\"toc-item-num\">0.2.3&nbsp;&nbsp;</span>Numba</a></div><div class=\"lev1 toc-item\"><a data-toc-modified-id=\"Revamp-1\" href=\"#Revamp\"><span class=\"toc-item-num\">1&nbsp;&nbsp;</span>Revamp</a></div><div class=\"lev2 toc-item\"><a data-toc-modified-id=\"Excess-coverage-filtering-11\" href=\"#Excess-coverage-filtering\"><span class=\"toc-item-num\">1.1&nbsp;&nbsp;</span>Excess coverage filtering</a></div><div class=\"lev2 toc-item\"><a data-toc-modified-id=\"Minimum-coverage-filtering-12\" href=\"#Minimum-coverage-filtering\"><span class=\"toc-item-num\">1.2&nbsp;&nbsp;</span>Minimum coverage filtering</a></div><div class=\"lev2 toc-item\"><a data-toc-modified-id=\"check-output-13\" href=\"#check-output\"><span class=\"toc-item-num\">1.3&nbsp;&nbsp;</span>check output</a></div>"
   ]
  },
  {
   "cell_type": "markdown",
   "metadata": {},
   "source": [
    "I have created a depth file with the `samtools depth` command."
   ]
  },
  {
   "cell_type": "code",
   "execution_count": 1,
   "metadata": {
    "collapsed": false
   },
   "outputs": [
    {
     "name": "stdout",
     "output_type": "stream",
     "text": [
      "total 2539240\r\n",
      "-rw-rw-r-- 1 claudius  11524483 Apr 29 14:49 Big_Data_Contigs.noSEgt2.bed\r\n",
      "-rw-rw-r-- 1 claudius  24138906 Apr 29 14:56 Big_Data_Contigs.noSEgt2.noDUST.bed\r\n",
      "-rw-rw-r-- 1 claudius  24098532 Apr 29 17:35 Big_Data_Contigs.noSEgt2.noDUST.noTGCAGG.bed\r\n",
      "lrwxrwxrwx 1 claudius        24 Apr 29 14:39 \u001b[0m\u001b[01;36mBig_Data_Contigs.SEposgt2\u001b[0m -> exclude_contigs.SEposgt2\r\n",
      "lrwxrwxrwx 1 claudius        26 Apr 29 14:32 \u001b[01;36mBig_Data_ref.fa.bed\u001b[0m -> ../BAM/Big_Data_ref.fa.bed\r\n",
      "-rw-rw-r-- 1 claudius  49174018 Apr 29 12:24 ery_30-10_dedup.bam\r\n",
      "-rw-rw-r-- 1 claudius  45669443 Apr 29 12:59 ery_30-10_dedup.sorted.bam\r\n",
      "-rw-rw-r-- 1 claudius  41549836 Apr 29 12:25 ery_30-11_dedup.bam\r\n",
      "-rw-rw-r-- 1 claudius  38823165 Apr 29 12:59 ery_30-11_dedup.sorted.bam\r\n",
      "-rw-rw-r-- 1 claudius  32949722 Apr 29 12:25 ery_30-12_dedup.bam\r\n",
      "-rw-rw-r-- 1 claudius  31074190 Apr 29 12:59 ery_30-12_dedup.sorted.bam\r\n",
      "-rw-rw-r-- 1 claudius  29451529 Apr 29 12:25 ery_30-13_dedup.bam\r\n",
      "-rw-rw-r-- 1 claudius  27837104 Apr 29 13:00 ery_30-13_dedup.sorted.bam\r\n",
      "-rw-rw-r-- 1 claudius  33141552 Apr 29 12:26 ery_30-14_dedup.bam\r\n",
      "-rw-rw-r-- 1 claudius  31222497 Apr 29 13:00 ery_30-14_dedup.sorted.bam\r\n",
      "-rw-rw-r-- 1 claudius  43561557 Apr 29 12:26 ery_30-15_dedup.bam\r\n",
      "-rw-rw-r-- 1 claudius  40622819 Apr 29 13:00 ery_30-15_dedup.sorted.bam\r\n",
      "-rw-rw-r-- 1 claudius  33541374 Apr 29 12:27 ery_30-16_dedup.bam\r\n",
      "-rw-rw-r-- 1 claudius  31617675 Apr 29 13:00 ery_30-16_dedup.sorted.bam\r\n",
      "-rw-rw-r-- 1 claudius  36294731 Apr 29 12:27 ery_30-17_dedup.bam\r\n",
      "-rw-rw-r-- 1 claudius  34116736 Apr 29 13:00 ery_30-17_dedup.sorted.bam\r\n",
      "-rw-rw-r-- 1 claudius  43855792 Apr 29 12:27 ery_30-18_dedup.bam\r\n",
      "-rw-rw-r-- 1 claudius  40878032 Apr 29 13:00 ery_30-18_dedup.sorted.bam\r\n",
      "-rw-rw-r-- 1 claudius  31628483 Apr 29 12:28 ery_30-1_dedup.bam\r\n",
      "-rw-rw-r-- 1 claudius  29830881 Apr 29 13:00 ery_30-1_dedup.sorted.bam\r\n",
      "-rw-rw-r-- 1 claudius  44323405 Apr 29 12:28 ery_30-2_dedup.bam\r\n",
      "-rw-rw-r-- 1 claudius  41364794 Apr 29 13:00 ery_30-2_dedup.sorted.bam\r\n",
      "-rw-rw-r-- 1 claudius  43827464 Apr 29 12:29 ery_30-3_dedup.bam\r\n",
      "-rw-rw-r-- 1 claudius  40839318 Apr 29 13:01 ery_30-3_dedup.sorted.bam\r\n",
      "-rw-rw-r-- 1 claudius  42034547 Apr 29 12:29 ery_30-4_dedup.bam\r\n",
      "-rw-rw-r-- 1 claudius  39211114 Apr 29 13:01 ery_30-4_dedup.sorted.bam\r\n",
      "-rw-rw-r-- 1 claudius  40413482 Apr 29 12:30 ery_30-5_dedup.bam\r\n",
      "-rw-rw-r-- 1 claudius  37836464 Apr 29 13:01 ery_30-5_dedup.sorted.bam\r\n",
      "-rw-rw-r-- 1 claudius  39660783 Apr 29 12:30 ery_30-6_dedup.bam\r\n",
      "-rw-rw-r-- 1 claudius  37101812 Apr 29 13:01 ery_30-6_dedup.sorted.bam\r\n",
      "-rw-rw-r-- 1 claudius  34069094 Apr 29 12:31 ery_30-7_dedup.bam\r\n",
      "-rw-rw-r-- 1 claudius  32036065 Apr 29 13:01 ery_30-7_dedup.sorted.bam\r\n",
      "-rw-rw-r-- 1 claudius  38831092 Apr 29 12:31 ery_30-8_dedup.bam\r\n",
      "-rw-rw-r-- 1 claudius  36437351 Apr 29 13:01 ery_30-8_dedup.sorted.bam\r\n",
      "-rw-rw-r-- 1 claudius  37089561 Apr 29 12:32 ery_30-9_dedup.bam\r\n",
      "-rw-rw-r-- 1 claudius  34822766 Apr 29 13:01 ery_30-9_dedup.sorted.bam\r\n",
      "-rw-rw-r-- 1 claudius      9909 Apr 30 08:59 excess_coverage_filter.ipynb\r\n",
      "-rw-rw-r-- 1 claudius     49988 Apr 29 13:28 exclude_contigs.SEposgt2\r\n",
      "-rw-rw-r-- 1 claudius  24696414 Apr 29 12:32 par_34-10_dedup.bam\r\n",
      "-rw-rw-r-- 1 claudius  23449500 Apr 29 13:02 par_34-10_dedup.sorted.bam\r\n",
      "-rw-rw-r-- 1 claudius  21167084 Apr 29 12:32 par_34-11_dedup.bam\r\n",
      "-rw-rw-r-- 1 claudius  20232504 Apr 29 13:02 par_34-11_dedup.sorted.bam\r\n",
      "-rw-rw-r-- 1 claudius  24514911 Apr 29 12:32 par_34-12_dedup.bam\r\n",
      "-rw-rw-r-- 1 claudius  23290138 Apr 29 13:02 par_34-12_dedup.sorted.bam\r\n",
      "-rw-rw-r-- 1 claudius  20912345 Apr 29 12:33 par_34-13_dedup.bam\r\n",
      "-rw-rw-r-- 1 claudius  19972988 Apr 29 13:02 par_34-13_dedup.sorted.bam\r\n",
      "-rw-rw-r-- 1 claudius  32083510 Apr 29 12:33 par_34-14_dedup.bam\r\n",
      "-rw-rw-r-- 1 claudius  30186950 Apr 29 13:02 par_34-14_dedup.sorted.bam\r\n",
      "-rw-rw-r-- 1 claudius  25178655 Apr 29 12:33 par_34-15_dedup.bam\r\n",
      "-rw-rw-r-- 1 claudius  23901629 Apr 29 13:02 par_34-15_dedup.sorted.bam\r\n",
      "-rw-rw-r-- 1 claudius  26465689 Apr 29 12:34 par_34-16_dedup.bam\r\n",
      "-rw-rw-r-- 1 claudius  25067071 Apr 29 13:02 par_34-16_dedup.sorted.bam\r\n",
      "-rw-rw-r-- 1 claudius  24026787 Apr 29 12:34 par_34-17_dedup.bam\r\n",
      "-rw-rw-r-- 1 claudius  22861219 Apr 29 13:02 par_34-17_dedup.sorted.bam\r\n",
      "-rw-rw-r-- 1 claudius  26161443 Apr 29 12:34 par_34-18_dedup.bam\r\n",
      "-rw-rw-r-- 1 claudius  24839536 Apr 29 13:02 par_34-18_dedup.sorted.bam\r\n",
      "-rw-rw-r-- 1 claudius  12100459 Apr 29 12:34 par_34-1_dedup.bam\r\n",
      "-rw-rw-r-- 1 claudius  11772518 Apr 29 13:02 par_34-1_dedup.sorted.bam\r\n",
      "-rw-rw-r-- 1 claudius  30423166 Apr 29 12:35 par_34-2_dedup.bam\r\n",
      "-rw-rw-r-- 1 claudius  28778112 Apr 29 13:02 par_34-2_dedup.sorted.bam\r\n",
      "-rw-rw-r-- 1 claudius  26028371 Apr 29 12:35 par_34-3_dedup.bam\r\n",
      "-rw-rw-r-- 1 claudius  24716690 Apr 29 13:02 par_34-3_dedup.sorted.bam\r\n",
      "-rw-rw-r-- 1 claudius  20161970 Apr 29 12:35 par_34-4_dedup.bam\r\n",
      "-rw-rw-r-- 1 claudius  19286134 Apr 29 13:03 par_34-4_dedup.sorted.bam\r\n",
      "-rw-rw-r-- 1 claudius  31856616 Apr 29 12:36 par_34-5_dedup.bam\r\n",
      "-rw-rw-r-- 1 claudius  29998345 Apr 29 13:03 par_34-5_dedup.sorted.bam\r\n",
      "-rw-rw-r-- 1 claudius  24908820 Apr 29 12:36 par_34-6_dedup.bam\r\n",
      "-rw-rw-r-- 1 claudius  23688291 Apr 29 13:03 par_34-6_dedup.sorted.bam\r\n",
      "-rw-rw-r-- 1 claudius  27272106 Apr 29 12:36 par_34-7_dedup.bam\r\n",
      "-rw-rw-r-- 1 claudius  25817961 Apr 29 13:03 par_34-7_dedup.sorted.bam\r\n",
      "-rw-rw-r-- 1 claudius  26867200 Apr 29 12:37 par_34-8_dedup.bam\r\n",
      "-rw-rw-r-- 1 claudius  25464806 Apr 29 13:03 par_34-8_dedup.sorted.bam\r\n",
      "-rw-rw-r-- 1 claudius  23282866 Apr 29 12:37 par_34-9_dedup.bam\r\n",
      "-rw-rw-r-- 1 claudius  22200014 Apr 29 13:03 par_34-9_dedup.sorted.bam\r\n",
      "-rw-rw-r-- 1 claudius 319803427 Apr 29 17:47 \u001b[01;31mParEry.noSEgt2.noDUST.noTGCAGG.depth.gz\u001b[0m\r\n",
      "-rwxrwxr-x 1 claudius      2118 Apr 29 14:43 \u001b[01;32msubtract.pl\u001b[0m*\r\n",
      "-rwxrwxr-x 1 claudius      2118 Apr 29 14:41 \u001b[01;32msubtract.pl~\u001b[0m*\r\n"
     ]
    }
   ],
   "source": [
    "% ll"
   ]
  },
  {
   "cell_type": "code",
   "execution_count": 3,
   "metadata": {
    "collapsed": false
   },
   "outputs": [
    {
     "name": "stdout",
     "output_type": "stream",
     "text": [
      "85488084\r\n"
     ]
    }
   ],
   "source": [
    "! zcat ParEry.noSEgt2.noDUST.noTGCAGG.depth.gz | wc -l"
   ]
  },
  {
   "cell_type": "markdown",
   "metadata": {},
   "source": [
    "The depth file contains the coverage information for 85,488,084 sites."
   ]
  },
  {
   "cell_type": "code",
   "execution_count": 4,
   "metadata": {
    "collapsed": false
   },
   "outputs": [
    {
     "name": "stdout",
     "output_type": "stream",
     "text": [
      "Contig_29981\t8\t10\t6\t6\t4\t3\t8\t2\t5\t5\t4\t10\t8\t3\t9\t6\t6\t6\t12\t4\t6\t1\t1\t7\t3\t4\t1\t7\t2\t6\t1\t4\t4\t5\t5\t3\t4\r\n",
      "Contig_29981\t9\t10\t6\t6\t4\t3\t8\t2\t5\t5\t4\t10\t8\t3\t9\t6\t6\t6\t12\t4\t6\t1\t1\t7\t3\t4\t1\t7\t2\t6\t1\t4\t4\t5\t5\t3\t4\r\n",
      "Contig_29981\t10\t10\t6\t6\t4\t3\t8\t2\t5\t5\t4\t10\t8\t3\t9\t6\t6\t6\t12\t4\t6\t1\t1\t7\t3\t4\t1\t7\t2\t6\t1\t4\t4\t5\t5\t3\t4\r\n",
      "Contig_29981\t11\t10\t6\t6\t4\t3\t8\t2\t5\t5\t4\t10\t8\t3\t9\t6\t6\t6\t12\t4\t6\t1\t1\t7\t3\t4\t1\t7\t2\t6\t1\t4\t4\t5\t5\t3\t4\r\n",
      "Contig_29981\t12\t10\t6\t6\t4\t3\t8\t2\t5\t5\t4\t10\t8\t3\t9\t6\t6\t6\t12\t4\t6\t1\t1\t7\t3\t4\t1\t7\t2\t6\t1\t4\t4\t5\t5\t3\t4\r\n",
      "Contig_29981\t13\t10\t6\t6\t4\t3\t8\t2\t5\t5\t4\t10\t8\t3\t9\t6\t6\t6\t12\t4\t6\t1\t1\t7\t3\t4\t1\t7\t2\t6\t1\t4\t4\t5\t5\t3\t4\r\n",
      "Contig_29981\t14\t10\t6\t6\t4\t3\t8\t2\t5\t5\t4\t10\t8\t3\t9\t6\t6\t6\t12\t4\t6\t1\t1\t7\t3\t4\t1\t7\t2\t6\t1\t4\t4\t5\t5\t3\t4\r\n",
      "Contig_29981\t15\t10\t6\t6\t4\t3\t8\t2\t5\t5\t4\t10\t8\t3\t9\t6\t6\t6\t12\t4\t6\t1\t1\t7\t3\t4\t1\t7\t2\t6\t1\t4\t4\t5\t5\t3\t4\r\n",
      "Contig_29981\t16\t10\t6\t6\t4\t3\t8\t2\t5\t5\t4\t10\t8\t3\t9\t6\t6\t6\t12\t4\t6\t1\t1\t7\t3\t4\t1\t7\t2\t6\t1\t4\t3\t5\t5\t3\t4\r\n",
      "Contig_29981\t17\t10\t6\t6\t4\t3\t8\t2\t5\t5\t4\t10\t8\t3\t9\t6\t6\t6\t12\t4\t6\t1\t1\t7\t3\t4\t1\t7\t2\t6\t1\t4\t4\t5\t5\t3\t4\r\n",
      "\r\n",
      "gzip: stdout: Broken pipe\r\n"
     ]
    }
   ],
   "source": [
    "! zcat ParEry.noSEgt2.noDUST.noTGCAGG.depth.gz | head"
   ]
  },
  {
   "cell_type": "markdown",
   "metadata": {},
   "source": [
    "The first column contains the contig id, the second the position in the contig (1-based coordinates). The remaining 36 columns contain the coverage information for each of the 36 individuals."
   ]
  },
  {
   "cell_type": "markdown",
   "metadata": {},
   "source": [
    "I would like to get the 99th percentile of the coverage distribution of each individual from this as well as the 99th percentile of the global coverage distribution."
   ]
  },
  {
   "cell_type": "markdown",
   "metadata": {},
   "source": [
    "During a first read through the depth file I want to compress the coverage information into dictionaries and use them to determine percentiles of the coverage distribution. Although, in terms of programming, reading in all columns of the depth file into very long lists would make it straightforward to get the percentiles, this would require a substantial amount of memory, also for the required sorting of such large lists. I therefore consider this bad programming."
   ]
  },
  {
   "cell_type": "code",
   "execution_count": 5,
   "metadata": {
    "collapsed": true
   },
   "outputs": [],
   "source": [
    "import gzip\n",
    "\n",
    "# get open file handle for gzipped depth file\n",
    "\n",
    "depth_fh = gzip.open(\"ParEry.noSEgt2.noDUST.noTGCAGG.depth.gz\")"
   ]
  },
  {
   "cell_type": "code",
   "execution_count": 6,
   "metadata": {
    "collapsed": true
   },
   "outputs": [],
   "source": [
    "from collections import defaultdict"
   ]
  },
  {
   "cell_type": "code",
   "execution_count": 7,
   "metadata": {
    "collapsed": true
   },
   "outputs": [],
   "source": [
    "# initialisze global coverage count dictionary\n",
    "global_cov_dist = defaultdict(int)"
   ]
  },
  {
   "cell_type": "code",
   "execution_count": 8,
   "metadata": {
    "collapsed": true
   },
   "outputs": [],
   "source": [
    "depth_fh.seek(0)\n",
    "\n",
    "i = 0\n",
    "for line in depth_fh:\n",
    "    i+=1\n",
    "    if i > 1000: break\n",
    "    fields = line.rstrip().split('\\t')\n",
    "    depths = fields[2:]\n",
    "    across_sample_depth = sum([int(d) for d in depths])\n",
    "    global_cov_dist[across_sample_depth] += 1"
   ]
  },
  {
   "cell_type": "markdown",
   "metadata": {},
   "source": [
    "I would like to get the coverage that lies at or just below the 99th percentile of the coverage distribution. Later I would like to discard all sites with coverage greater than this coverage."
   ]
  },
  {
   "cell_type": "code",
   "execution_count": 30,
   "metadata": {
    "collapsed": true
   },
   "outputs": [],
   "source": [
    "def compute_percentile_from_dict(my_dict, percentile):\n",
    "    \"\"\"\n",
    "    my_dict : dictionary, containing depths as keys and their counts as values\n",
    "    percentile : float in range of [0,100], percentile to compute, which must be between 0 and 100 inclusive.\n",
    "    \n",
    "    returns : key in my_dict that is less than or equal to the specified percentile of the distribution of \"keys\"\n",
    "            (i. e. values are counts) stored in my_dict\n",
    "    \"\"\"\n",
    "    assert percentile < 100 and percentile > 0, \"percentile must be a number between 0 and 100\"\n",
    "\n",
    "    # get sum of counts\n",
    "    total_cnt = sum(my_dict.values())\n",
    "    \n",
    "    perc = float() # initialise percentile of the coverage distribution\n",
    "    cum_cnt = float()\n",
    "    \n",
    "    for d in sorted(my_dict.keys(), reverse=True): # search from the upper tail of the distribution\n",
    "        cum_cnt += my_dict[d]\n",
    "        perc = cum_cnt / total_cnt * 100\n",
    "        if perc < (100 - percentile):\n",
    "            continue\n",
    "        else:\n",
    "            return d"
   ]
  },
  {
   "cell_type": "code",
   "execution_count": 29,
   "metadata": {
    "collapsed": false
   },
   "outputs": [
    {
     "name": "stdout",
     "output_type": "stream",
     "text": [
      "coverage \t count \t cumsum_cnt \t percentile\n",
      "  181 \t         34 \t    34 \t            3.40\n",
      "  180 \t          3 \t    37 \t            3.70\n",
      "  179 \t          1 \t    38 \t            3.80\n",
      "  178 \t          2 \t    40 \t            4.00\n",
      "   86 \t         35 \t    75 \t            7.50\n",
      "   85 \t          3 \t    78 \t            7.80\n",
      "   82 \t          6 \t    84 \t            8.40\n",
      "   81 \t          3 \t    87 \t            8.70\n",
      "   80 \t          1 \t    88 \t            8.80\n",
      "   79 \t          3 \t    91 \t            9.10\n",
      "   78 \t          1 \t    92 \t            9.20\n",
      "   75 \t          2 \t    94 \t            9.40\n",
      "   74 \t         37 \t   131 \t           13.10\n",
      "   73 \t          6 \t   137 \t           13.70\n",
      "   72 \t          1 \t   138 \t           13.80\n",
      "   71 \t          1 \t   139 \t           13.90\n",
      "   68 \t          7 \t   146 \t           14.60\n",
      "   67 \t          2 \t   148 \t           14.80\n",
      "   66 \t          1 \t   149 \t           14.90\n",
      "   65 \t          2 \t   151 \t           15.10\n",
      "   63 \t          1 \t   152 \t           15.20\n",
      "   62 \t          3 \t   155 \t           15.50\n",
      "   61 \t          4 \t   159 \t           15.90\n",
      "   60 \t         32 \t   191 \t           19.10\n",
      "   59 \t         49 \t   240 \t           24.00\n",
      "   58 \t          1 \t   241 \t           24.10\n",
      "   57 \t          5 \t   246 \t           24.60\n",
      "   56 \t          8 \t   254 \t           25.40\n",
      "   55 \t          5 \t   259 \t           25.90\n",
      "   54 \t          6 \t   265 \t           26.50\n",
      "   53 \t          9 \t   274 \t           27.40\n",
      "   52 \t          6 \t   280 \t           28.00\n",
      "   51 \t          7 \t   287 \t           28.70\n",
      "   50 \t          9 \t   296 \t           29.60\n",
      "   49 \t         10 \t   306 \t           30.60\n",
      "   48 \t         12 \t   318 \t           31.80\n",
      "   47 \t          9 \t   327 \t           32.70\n",
      "   46 \t         14 \t   341 \t           34.10\n",
      "   45 \t          7 \t   348 \t           34.80\n",
      "   44 \t          6 \t   354 \t           35.40\n",
      "   43 \t          3 \t   357 \t           35.70\n",
      "   42 \t          7 \t   364 \t           36.40\n",
      "   41 \t         10 \t   374 \t           37.40\n",
      "   40 \t          9 \t   383 \t           38.30\n",
      "   39 \t          4 \t   387 \t           38.70\n",
      "   38 \t         10 \t   397 \t           39.70\n",
      "   37 \t          4 \t   401 \t           40.10\n",
      "   36 \t         11 \t   412 \t           41.20\n",
      "   35 \t          4 \t   416 \t           41.60\n",
      "   34 \t          7 \t   423 \t           42.30\n",
      "   33 \t          8 \t   431 \t           43.10\n",
      "   32 \t          8 \t   439 \t           43.90\n",
      "   31 \t         17 \t   456 \t           45.60\n",
      "   30 \t         15 \t   471 \t           47.10\n",
      "   29 \t          6 \t   477 \t           47.70\n",
      "   28 \t         10 \t   487 \t           48.70\n",
      "   27 \t         10 \t   497 \t           49.70\n",
      "   26 \t          9 \t   506 \t           50.60\n",
      "   25 \t         17 \t   523 \t           52.30\n",
      "   24 \t         18 \t   541 \t           54.10\n",
      "   23 \t         15 \t   556 \t           55.60\n",
      "   22 \t          7 \t   563 \t           56.30\n",
      "   21 \t         25 \t   588 \t           58.80\n",
      "   20 \t         16 \t   604 \t           60.40\n",
      "   19 \t         22 \t   626 \t           62.60\n",
      "   18 \t         10 \t   636 \t           63.60\n",
      "   17 \t          6 \t   642 \t           64.20\n",
      "   16 \t         72 \t   714 \t           71.40\n",
      "   15 \t         13 \t   727 \t           72.70\n",
      "   14 \t         12 \t   739 \t           73.90\n",
      "   13 \t          8 \t   747 \t           74.70\n",
      "   12 \t         12 \t   759 \t           75.90\n",
      "   11 \t          7 \t   766 \t           76.60\n",
      "   10 \t         11 \t   777 \t           77.70\n",
      "    9 \t         19 \t   796 \t           79.60\n",
      "    8 \t          9 \t   805 \t           80.50\n",
      "    7 \t        103 \t   908 \t           90.80\n",
      "    6 \t         13 \t   921 \t           92.10\n",
      "    5 \t          8 \t   929 \t           92.90\n",
      "    4 \t          9 \t   938 \t           93.80\n",
      "    3 \t          8 \t   946 \t           94.60\n",
      "    2 \t         14 \t   960 \t           96.00\n",
      "    1 \t          9 \t   969 \t           96.90\n",
      "    0 \t         31 \t  1000 \t          100.00\n"
     ]
    }
   ],
   "source": [
    "print \"coverage \\t count \\t cumsum_cnt \\t percentile\"\n",
    "cumsum_cnt = int()\n",
    "total_cnt = float( sum(global_cov_dist.values()) )\n",
    "percentile = float()\n",
    "for k in sorted(global_cov_dist.keys(), reverse=True):\n",
    "    cumsum_cnt += global_cov_dist[k]\n",
    "    percentile = cumsum_cnt / total_cnt * 100\n",
    "    print \"{0:5d} \\t {1:10d} \\t {2:5d} \\t {3:>15.2f}\".format(k, global_cov_dist[k], cumsum_cnt, percentile)"
   ]
  },
  {
   "cell_type": "code",
   "execution_count": 31,
   "metadata": {
    "collapsed": false
   },
   "outputs": [
    {
     "data": {
      "text/plain": [
       "74"
      ]
     },
     "execution_count": 31,
     "metadata": {},
     "output_type": "execute_result"
    }
   ],
   "source": [
    "compute_percentile_from_dict(global_cov_dist, 90)"
   ]
  },
  {
   "cell_type": "code",
   "execution_count": 32,
   "metadata": {
    "collapsed": false
   },
   "outputs": [
    {
     "data": {
      "text/plain": [
       "181"
      ]
     },
     "execution_count": 32,
     "metadata": {},
     "output_type": "execute_result"
    }
   ],
   "source": [
    "compute_percentile_from_dict(global_cov_dist, 99)"
   ]
  },
  {
   "cell_type": "code",
   "execution_count": 33,
   "metadata": {
    "collapsed": false
   },
   "outputs": [
    {
     "data": {
      "text/plain": [
       "26"
      ]
     },
     "execution_count": 33,
     "metadata": {},
     "output_type": "execute_result"
    }
   ],
   "source": [
    "compute_percentile_from_dict(global_cov_dist, 50)"
   ]
  },
  {
   "cell_type": "markdown",
   "metadata": {},
   "source": [
    "The funciton seems to work."
   ]
  },
  {
   "cell_type": "code",
   "execution_count": 38,
   "metadata": {
    "collapsed": false
   },
   "outputs": [
    {
     "data": {
      "text/plain": [
       "26"
      ]
     },
     "execution_count": 38,
     "metadata": {},
     "output_type": "execute_result"
    }
   ],
   "source": [
    "coverage_threshold = compute_percentile_from_dict(global_cov_dist, 50)\n",
    "coverage_threshold"
   ]
  },
  {
   "cell_type": "code",
   "execution_count": 40,
   "metadata": {
    "collapsed": false
   },
   "outputs": [
    {
     "name": "stdout",
     "output_type": "stream",
     "text": [
      "181\n",
      "181\n",
      "181\n",
      "181\n",
      "181\n",
      "181\n",
      "181\n",
      "181\n",
      "180\n",
      "181\n",
      "181\n",
      "181\n",
      "179\n",
      "181\n",
      "181\n",
      "181\n",
      "181\n",
      "181\n",
      "181\n",
      "181\n",
      "181\n",
      "181\n",
      "181\n",
      "181\n",
      "181\n",
      "181\n",
      "181\n",
      "181\n",
      "178\n",
      "178\n",
      "181\n",
      "181\n",
      "181\n",
      "181\n",
      "180\n",
      "181\n",
      "181\n",
      "181\n",
      "181\n",
      "180\n",
      "7\n",
      "Contig_29981\t48\t2\t1\t0\t0\t0\t0\t0\t1\t0\t0\t0\t0\t0\t0\t0\t0\t1\t0\t0\t0\t0\t0\t0\t0\t0\t0\t0\t0\t0\t0\t0\t2\t0\t0\t0\t0\n",
      "3\n",
      "Contig_29981\t49\t2\t0\t0\t0\t0\t0\t0\t0\t0\t0\t0\t0\t0\t0\t0\t0\t0\t0\t0\t0\t0\t0\t0\t0\t0\t0\t0\t0\t0\t0\t0\t1\t0\t0\t0\t0\n",
      "4\n",
      "Contig_29981\t57\t0\t0\t0\t0\t0\t0\t0\t0\t0\t0\t0\t1\t0\t0\t1\t1\t0\t0\t0\t0\t0\t0\t0\t0\t0\t0\t0\t0\t0\t0\t0\t0\t0\t0\t0\t1\n",
      "8\n",
      "Contig_29981\t58\t0\t0\t0\t0\t0\t0\t0\t0\t0\t0\t0\t1\t0\t0\t2\t2\t0\t0\t0\t0\t0\t0\t0\t0\t0\t0\t0\t0\t2\t0\t0\t0\t0\t0\t0\t1\n",
      "10\n",
      "Contig_29981\t59\t0\t0\t0\t0\t0\t0\t0\t0\t0\t0\t0\t1\t0\t1\t2\t2\t0\t0\t0\t0\t0\t0\t1\t0\t0\t0\t0\t0\t2\t0\t0\t0\t0\t0\t0\t1\n",
      "14\n",
      "Contig_29981\t60\t0\t0\t0\t0\t0\t0\t0\t0\t0\t0\t1\t1\t0\t1\t2\t2\t0\t0\t0\t0\t0\t0\t1\t0\t0\t0\t0\t1\t2\t0\t1\t0\t1\t0\t0\t1\n",
      "15\n",
      "Contig_29981\t61\t0\t1\t0\t0\t0\t0\t0\t0\t0\t0\t1\t1\t0\t1\t2\t2\t0\t0\t0\t0\t0\t0\t1\t0\t0\t0\t0\t1\t2\t0\t1\t0\t1\t0\t0\t1\n",
      "19\n",
      "Contig_29981\t62\t0\t1\t0\t0\t0\t0\t0\t0\t0\t0\t1\t1\t0\t1\t2\t2\t0\t1\t0\t0\t0\t1\t1\t0\t1\t0\t0\t1\t2\t0\t1\t0\t1\t0\t1\t1\n",
      "25\n",
      "Contig_29981\t63\t1\t1\t0\t0\t0\t1\t0\t0\t0\t0\t1\t1\t0\t1\t2\t2\t0\t1\t0\t1\t0\t1\t2\t1\t1\t0\t0\t1\t3\t0\t1\t0\t1\t0\t1\t1\n",
      "25\n",
      "Contig_29981\t64\t1\t1\t0\t0\t0\t1\t0\t0\t0\t0\t1\t1\t0\t1\t2\t2\t0\t1\t0\t1\t0\t1\t2\t1\t1\t0\t0\t1\t3\t0\t1\t0\t1\t0\t1\t1\n",
      "27\n",
      "31\n",
      "34\n",
      "40\n",
      "42\n",
      "43\n",
      "47\n",
      "48\n",
      "49\n",
      "49\n",
      "51\n",
      "52\n",
      "52\n",
      "54\n",
      "56\n",
      "57\n",
      "59\n",
      "60\n",
      "61\n",
      "61\n",
      "63\n",
      "65\n",
      "65\n",
      "66\n",
      "67\n",
      "68\n",
      "68\n",
      "68\n",
      "72\n",
      "71\n",
      "73\n",
      "73\n",
      "74\n",
      "74\n",
      "78\n",
      "79\n",
      "80\n",
      "81\n",
      "82\n",
      "82\n",
      "82\n",
      "82\n",
      "81\n",
      "81\n",
      "79\n",
      "79\n",
      "75\n",
      "75\n",
      "73\n",
      "68\n"
     ]
    }
   ],
   "source": [
    "depth_fh.seek(0) # restart reading file from beginning\n",
    "\n",
    "i = 0\n",
    "for line in depth_fh:\n",
    "    i+=1\n",
    "    if i > 100: break\n",
    "    fields = line.rstrip().split('\\t')\n",
    "    depths = fields[2:]\n",
    "    across_sample_depth = sum([int(d) for d in depths])\n",
    "    print across_sample_depth\n",
    "    if not across_sample_depth > coverage_threshold:\n",
    "        print '\\t'.join(fields)"
   ]
  },
  {
   "cell_type": "markdown",
   "metadata": {},
   "source": [
    "So this is how I would filter for sites with depth below or equal to a certain global coverage percentile."
   ]
  },
  {
   "cell_type": "markdown",
   "metadata": {},
   "source": [
    "But I also want to filter for sites that have individual depths that are below or equal to their respective individual coverage percentiles."
   ]
  },
  {
   "cell_type": "code",
   "execution_count": 41,
   "metadata": {
    "collapsed": false
   },
   "outputs": [],
   "source": [
    "# initialisze global coverage count dictionary\n",
    "global_cov_dist = defaultdict(int)\n",
    "\n",
    "depth_fh.seek(0) # go back to beginning of file\n",
    "\n",
    "# initialise individual coverage count dictionaries\n",
    "fields = depth_fh.readline().rstrip().split('\\t')\n",
    "ind_cov_dists = dict([(i, defaultdict(int)) for i in range(0, len(fields)-2)])\n",
    "\n",
    "depth_fh.seek(0) # seek back to beginning of file\n",
    "\n",
    "i = 0\n",
    "for line in depth_fh:\n",
    "    i+=1\n",
    "    if i > 1000: break\n",
    "    fields = line.rstrip().split('\\t')\n",
    "    depths = fields[2:]\n",
    "    # get global coverage\n",
    "    across_sample_depth = sum([int(d) for d in depths])\n",
    "    # count global coverages in dictionary\n",
    "    global_cov_dist[across_sample_depth] += 1\n",
    "    # count individual coverages in dictionaries\n",
    "    for idx, d in enumerate(depths):\n",
    "        ind_cov_dists[idx][int(d)] += 1 "
   ]
  },
  {
   "cell_type": "code",
   "execution_count": 42,
   "metadata": {
    "collapsed": false
   },
   "outputs": [
    {
     "name": "stdout",
     "output_type": "stream",
     "text": [
      "showing coverage distribution for individual 0:\n",
      "0 : 345\n",
      "1 : 209\n",
      "2 : 298\n",
      "3 : 103\n",
      "4 : 5\n",
      "8 : 2\n",
      "10 : 38\n",
      "showing coverage distribution for individual 1:\n",
      "0 : 282\n",
      "1 : 466\n",
      "2 : 168\n",
      "3 : 44\n",
      "5 : 1\n",
      "6 : 39\n",
      "showing coverage distribution for individual 2:\n",
      "0 : 526\n",
      "1 : 191\n",
      "2 : 114\n",
      "3 : 83\n",
      "4 : 46\n",
      "6 : 40\n",
      "showing coverage distribution for individual 3:\n",
      "0 : 550\n",
      "1 : 208\n",
      "2 : 119\n",
      "3 : 28\n",
      "4 : 95\n",
      "showing coverage distribution for individual 4:\n",
      "0 : 547\n",
      "1 : 285\n",
      "2 : 128\n",
      "3 : 40\n",
      "showing coverage distribution for individual 5:\n",
      "0 : 240\n",
      "1 : 256\n",
      "2 : 179\n",
      "3 : 89\n",
      "4 : 89\n",
      "5 : 59\n",
      "6 : 8\n",
      "8 : 42\n",
      "9 : 38\n",
      "showing coverage distribution for individual 6:\n",
      "0 : 617\n",
      "1 : 190\n",
      "2 : 132\n",
      "3 : 61\n",
      "showing coverage distribution for individual 7:\n",
      "0 : 330\n",
      "1 : 260\n",
      "2 : 142\n",
      "3 : 70\n",
      "4 : 111\n",
      "5 : 47\n",
      "7 : 40\n",
      "showing coverage distribution for individual 8:\n",
      "0 : 239\n",
      "1 : 405\n",
      "2 : 114\n",
      "3 : 120\n",
      "4 : 5\n",
      "5 : 117\n",
      "showing coverage distribution for individual 9:\n",
      "0 : 563\n",
      "1 : 220\n",
      "2 : 132\n",
      "3 : 5\n",
      "4 : 80\n",
      "showing coverage distribution for individual 10:\n",
      "0 : 330\n",
      "1 : 338\n",
      "2 : 123\n",
      "3 : 40\n",
      "4 : 119\n",
      "5 : 10\n",
      "10 : 40\n",
      "showing coverage distribution for individual 11:\n",
      "0 : 437\n",
      "1 : 279\n",
      "2 : 182\n",
      "3 : 44\n",
      "4 : 18\n",
      "8 : 40\n",
      "showing coverage distribution for individual 12:\n",
      "0 : 515\n",
      "1 : 354\n",
      "2 : 27\n",
      "3 : 104\n",
      "showing coverage distribution for individual 13:\n",
      "0 : 312\n",
      "1 : 359\n",
      "2 : 187\n",
      "3 : 63\n",
      "4 : 29\n",
      "5 : 10\n",
      "9 : 40\n",
      "showing coverage distribution for individual 14:\n",
      "0 : 245\n",
      "1 : 453\n",
      "2 : 122\n",
      "3 : 140\n",
      "6 : 40\n",
      "showing coverage distribution for individual 15:\n",
      "0 : 467\n",
      "1 : 150\n",
      "2 : 262\n",
      "3 : 73\n",
      "4 : 8\n",
      "6 : 40\n",
      "showing coverage distribution for individual 16:\n",
      "0 : 408\n",
      "1 : 369\n",
      "2 : 172\n",
      "3 : 11\n",
      "5 : 1\n",
      "6 : 39\n",
      "showing coverage distribution for individual 17:\n",
      "0 : 498\n",
      "1 : 211\n",
      "2 : 152\n",
      "3 : 58\n",
      "4 : 10\n",
      "5 : 30\n",
      "6 : 1\n",
      "12 : 40\n",
      "showing coverage distribution for individual 18:\n",
      "0 : 531\n",
      "1 : 283\n",
      "2 : 71\n",
      "3 : 75\n",
      "4 : 40\n",
      "showing coverage distribution for individual 19:\n",
      "0 : 607\n",
      "1 : 168\n",
      "2 : 78\n",
      "3 : 107\n",
      "6 : 40\n",
      "showing coverage distribution for individual 20:\n",
      "0 : 558\n",
      "1 : 228\n",
      "2 : 75\n",
      "3 : 139\n",
      "showing coverage distribution for individual 21:\n",
      "0 : 723\n",
      "1 : 115\n",
      "2 : 162\n",
      "showing coverage distribution for individual 22:\n",
      "0 : 403\n",
      "1 : 313\n",
      "2 : 104\n",
      "3 : 10\n",
      "4 : 55\n",
      "5 : 62\n",
      "6 : 13\n",
      "7 : 40\n",
      "showing coverage distribution for individual 23:\n",
      "0 : 544\n",
      "1 : 325\n",
      "2 : 91\n",
      "3 : 40\n",
      "showing coverage distribution for individual 24:\n",
      "0 : 567\n",
      "1 : 158\n",
      "2 : 66\n",
      "3 : 150\n",
      "4 : 59\n",
      "showing coverage distribution for individual 25:\n",
      "0 : 637\n",
      "1 : 279\n",
      "2 : 84\n",
      "showing coverage distribution for individual 26:\n",
      "0 : 509\n",
      "1 : 208\n",
      "2 : 123\n",
      "3 : 83\n",
      "4 : 19\n",
      "6 : 18\n",
      "7 : 40\n",
      "showing coverage distribution for individual 27:\n",
      "0 : 677\n",
      "1 : 282\n",
      "2 : 41\n",
      "showing coverage distribution for individual 28:\n",
      "0 : 495\n",
      "1 : 240\n",
      "2 : 116\n",
      "3 : 75\n",
      "4 : 26\n",
      "5 : 8\n",
      "6 : 40\n",
      "showing coverage distribution for individual 29:\n",
      "0 : 473\n",
      "1 : 342\n",
      "2 : 51\n",
      "3 : 94\n",
      "4 : 40\n",
      "showing coverage distribution for individual 30:\n",
      "0 : 570\n",
      "1 : 216\n",
      "2 : 87\n",
      "3 : 87\n",
      "4 : 40\n",
      "showing coverage distribution for individual 31:\n",
      "0 : 591\n",
      "1 : 127\n",
      "2 : 155\n",
      "3 : 51\n",
      "4 : 76\n",
      "showing coverage distribution for individual 32:\n",
      "0 : 615\n",
      "1 : 203\n",
      "2 : 34\n",
      "3 : 108\n",
      "5 : 40\n",
      "showing coverage distribution for individual 33:\n",
      "0 : 305\n",
      "1 : 263\n",
      "2 : 192\n",
      "3 : 81\n",
      "4 : 79\n",
      "5 : 80\n",
      "showing coverage distribution for individual 34:\n",
      "0 : 554\n",
      "1 : 171\n",
      "2 : 47\n",
      "3 : 185\n",
      "4 : 43\n",
      "showing coverage distribution for individual 35:\n",
      "0 : 613\n",
      "1 : 210\n",
      "2 : 8\n",
      "3 : 107\n",
      "4 : 62\n"
     ]
    }
   ],
   "source": [
    "for ind in ind_cov_dists:\n",
    "    print \"showing coverage distribution for individual {}:\".format(ind)\n",
    "    for de, c in ind_cov_dists[ind].items():\n",
    "        print \"{0} : {1}\".format(de, c)"
   ]
  },
  {
   "cell_type": "markdown",
   "metadata": {},
   "source": [
    "The individual coverage count dictionaries seem to work."
   ]
  },
  {
   "cell_type": "markdown",
   "metadata": {},
   "source": [
    "Now, let's test whether we can get from these dictionaries global and individual coverage percentiles and use them to filter sites."
   ]
  },
  {
   "cell_type": "code",
   "execution_count": 56,
   "metadata": {
    "collapsed": false
   },
   "outputs": [
    {
     "data": {
      "text/plain": [
       "74"
      ]
     },
     "execution_count": 56,
     "metadata": {},
     "output_type": "execute_result"
    }
   ],
   "source": [
    "# set global coverage threshold to 90th percentile\n",
    "global_coverage_threshold = compute_percentile_from_dict(global_cov_dist, 90) \n",
    "global_coverage_threshold"
   ]
  },
  {
   "cell_type": "code",
   "execution_count": 55,
   "metadata": {
    "collapsed": false
   },
   "outputs": [
    {
     "name": "stdout",
     "output_type": "stream",
     "text": [
      "[3, 2, 3, 3, 2, 5, 2, 4, 5, 2, 4, 3, 3, 3, 3, 3, 2, 3, 3, 3, 3, 2, 5, 2, 3, 1, 3, 1, 3, 3, 3, 3, 3, 4, 3, 3]\n"
     ]
    }
   ],
   "source": [
    "# set indidivual coverage thresholds to 90th percentile\n",
    "ind_coverage_thresholds = [compute_percentile_from_dict(ind_cov_dists[i], 90) for i in range(36)] \n",
    "print ind_coverage_thresholds"
   ]
  },
  {
   "cell_type": "markdown",
   "metadata": {},
   "source": [
    "Now, let's read in a few lines from the depth file and filter for sites that neither have excess global nor excess individual coverage."
   ]
  },
  {
   "cell_type": "code",
   "execution_count": 65,
   "metadata": {
    "collapsed": false
   },
   "outputs": [
    {
     "name": "stdout",
     "output_type": "stream",
     "text": [
      "1: global depth 181 > 74\n",
      "2: global depth 181 > 74\n",
      "3: global depth 181 > 74\n",
      "4: global depth 181 > 74\n",
      "5: global depth 181 > 74\n",
      "6: global depth 181 > 74\n",
      "7: global depth 181 > 74\n",
      "8: global depth 181 > 74\n",
      "9: global depth 180 > 74\n",
      "10: global depth 181 > 74\n",
      "11: global depth 181 > 74\n",
      "12: global depth 181 > 74\n",
      "13: global depth 179 > 74\n",
      "14: global depth 181 > 74\n",
      "15: global depth 181 > 74\n",
      "16: global depth 181 > 74\n",
      "17: global depth 181 > 74\n",
      "18: global depth 181 > 74\n",
      "19: global depth 181 > 74\n",
      "20: global depth 181 > 74\n",
      "21: global depth 181 > 74\n",
      "22: global depth 181 > 74\n",
      "23: global depth 181 > 74\n",
      "24: global depth 181 > 74\n",
      "25: global depth 181 > 74\n",
      "26: global depth 181 > 74\n",
      "27: global depth 181 > 74\n",
      "28: global depth 181 > 74\n",
      "29: global depth 178 > 74\n",
      "30: global depth 178 > 74\n",
      "31: global depth 181 > 74\n",
      "32: global depth 181 > 74\n",
      "33: global depth 181 > 74\n",
      "34: global depth 181 > 74\n",
      "35: global depth 180 > 74\n",
      "36: global depth 181 > 74\n",
      "37: global depth 181 > 74\n",
      "38: global depth 181 > 74\n",
      "39: global depth 181 > 74\n",
      "40: global depth 180 > 74\n",
      "Contig_29981\t48\t2\t1\t0\t0\t0\t0\t0\t1\t0\t0\t0\t0\t0\t0\t0\t0\t1\t0\t0\t0\t0\t0\t0\t0\t0\t0\t0\t0\t0\t0\t0\t2\t0\t0\t0\t0\n",
      "Contig_29981\t49\t2\t0\t0\t0\t0\t0\t0\t0\t0\t0\t0\t0\t0\t0\t0\t0\t0\t0\t0\t0\t0\t0\t0\t0\t0\t0\t0\t0\t0\t0\t0\t1\t0\t0\t0\t0\n",
      "Contig_29981\t57\t0\t0\t0\t0\t0\t0\t0\t0\t0\t0\t0\t1\t0\t0\t1\t1\t0\t0\t0\t0\t0\t0\t0\t0\t0\t0\t0\t0\t0\t0\t0\t0\t0\t0\t0\t1\n",
      "Contig_29981\t58\t0\t0\t0\t0\t0\t0\t0\t0\t0\t0\t0\t1\t0\t0\t2\t2\t0\t0\t0\t0\t0\t0\t0\t0\t0\t0\t0\t0\t2\t0\t0\t0\t0\t0\t0\t1\n",
      "Contig_29981\t59\t0\t0\t0\t0\t0\t0\t0\t0\t0\t0\t0\t1\t0\t1\t2\t2\t0\t0\t0\t0\t0\t0\t1\t0\t0\t0\t0\t0\t2\t0\t0\t0\t0\t0\t0\t1\n",
      "Contig_29981\t60\t0\t0\t0\t0\t0\t0\t0\t0\t0\t0\t1\t1\t0\t1\t2\t2\t0\t0\t0\t0\t0\t0\t1\t0\t0\t0\t0\t1\t2\t0\t1\t0\t1\t0\t0\t1\n",
      "Contig_29981\t61\t0\t1\t0\t0\t0\t0\t0\t0\t0\t0\t1\t1\t0\t1\t2\t2\t0\t0\t0\t0\t0\t0\t1\t0\t0\t0\t0\t1\t2\t0\t1\t0\t1\t0\t0\t1\n",
      "Contig_29981\t62\t0\t1\t0\t0\t0\t0\t0\t0\t0\t0\t1\t1\t0\t1\t2\t2\t0\t1\t0\t0\t0\t1\t1\t0\t1\t0\t0\t1\t2\t0\t1\t0\t1\t0\t1\t1\n",
      "Contig_29981\t63\t1\t1\t0\t0\t0\t1\t0\t0\t0\t0\t1\t1\t0\t1\t2\t2\t0\t1\t0\t1\t0\t1\t2\t1\t1\t0\t0\t1\t3\t0\t1\t0\t1\t0\t1\t1\n",
      "Contig_29981\t64\t1\t1\t0\t0\t0\t1\t0\t0\t0\t0\t1\t1\t0\t1\t2\t2\t0\t1\t0\t1\t0\t1\t2\t1\t1\t0\t0\t1\t3\t0\t1\t0\t1\t0\t1\t1\n",
      "Contig_29981\t65\t1\t1\t0\t0\t0\t1\t0\t0\t0\t0\t1\t2\t0\t1\t2\t2\t0\t2\t0\t1\t0\t1\t2\t1\t1\t0\t0\t1\t3\t0\t1\t0\t1\t0\t1\t1\n",
      "Contig_29981\t66\t1\t1\t0\t0\t0\t1\t0\t0\t0\t0\t1\t2\t0\t1\t2\t2\t0\t2\t0\t1\t0\t1\t2\t1\t1\t0\t2\t1\t3\t0\t1\t0\t2\t0\t1\t2\n",
      "Contig_29981\t67\t1\t1\t1\t0\t0\t1\t0\t0\t2\t0\t1\t2\t0\t1\t2\t2\t0\t2\t0\t1\t0\t1\t2\t1\t1\t0\t2\t1\t3\t0\t1\t0\t2\t0\t1\t2\n",
      "Contig_29981\t68\t1\t1\t1\t0\t1\t1\t0\t0\t2\t1\t1\t2\t0\t2\t2\t3\t0\t2\t0\t1\t0\t1\t2\t2\t1\t0\t3\t1\t3\t0\t1\t0\t2\t0\t1\t2\n",
      "Contig_29981\t69\t1\t1\t1\t0\t1\t1\t0\t0\t2\t1\t1\t3\t0\t2\t2\t3\t0\t2\t0\t1\t0\t1\t2\t2\t1\t0\t3\t1\t3\t0\t1\t0\t2\t0\t1\t3\n",
      "Contig_29981\t70\t1\t1\t1\t0\t1\t2\t0\t0\t2\t1\t1\t3\t0\t2\t2\t3\t0\t2\t0\t1\t0\t1\t2\t2\t1\t0\t3\t1\t3\t0\t1\t0\t2\t0\t1\t3\n",
      "Contig_29981\t71\t1\t1\t1\t0\t1\t2\t0\t0\t2\t1\t1\t3\t0\t2\t2\t3\t1\t3\t0\t1\t0\t1\t3\t2\t2\t0\t3\t1\t3\t0\t1\t0\t2\t0\t1\t3\n",
      "Contig_29981\t72\t1\t1\t1\t0\t1\t2\t0\t0\t2\t1\t1\t3\t0\t3\t2\t3\t1\t3\t0\t1\t0\t1\t3\t2\t2\t0\t3\t1\t3\t0\t1\t0\t2\t0\t1\t3\n",
      "Contig_29981\t73\t1\t1\t1\t0\t1\t2\t0\t0\t2\t1\t1\t3\t0\t3\t2\t3\t1\t3\t0\t1\t0\t1\t4\t2\t2\t0\t3\t1\t3\t0\t1\t0\t2\t0\t1\t3\n",
      "Contig_29981\t74\t1\t1\t1\t0\t1\t2\t0\t0\t2\t1\t1\t3\t0\t3\t2\t3\t1\t3\t0\t1\t0\t1\t4\t2\t2\t0\t3\t1\t3\t0\t1\t0\t2\t0\t1\t3\n",
      "61: individual depth 4 > 3\n",
      "62: individual depth 4 > 3\n",
      "63: individual depth 4 > 3\n",
      "64: individual depth 4 > 3\n",
      "65: individual depth 4 > 3\n",
      "66: individual depth 4 > 3\n",
      "67: individual depth 4 > 3\n",
      "68: individual depth 4 > 3\n",
      "69: individual depth 4 > 3\n",
      "70: individual depth 4 > 3\n",
      "71: individual depth 5 > 3\n",
      "72: individual depth 5 > 3\n",
      "73: individual depth 5 > 3\n",
      "74: individual depth 5 > 3\n",
      "75: individual depth 5 > 3\n",
      "76: individual depth 4 > 3\n",
      "77: individual depth 4 > 3\n",
      "78: individual depth 4 > 3\n",
      "79: individual depth 4 > 3\n",
      "80: individual depth 4 > 3\n",
      "81: individual depth 4 > 3\n",
      "82: individual depth 4 > 3\n",
      "83: individual depth 4 > 3\n",
      "84: individual depth 4 > 3\n",
      "85: global depth 78 > 74\n",
      "86: global depth 79 > 74\n",
      "87: global depth 80 > 74\n",
      "88: global depth 81 > 74\n",
      "89: global depth 82 > 74\n",
      "90: global depth 82 > 74\n",
      "91: global depth 82 > 74\n",
      "92: global depth 82 > 74\n",
      "93: global depth 81 > 74\n",
      "94: global depth 81 > 74\n",
      "95: global depth 79 > 74\n",
      "96: global depth 79 > 74\n",
      "97: global depth 75 > 74\n",
      "98: global depth 75 > 74\n",
      "99: individual depth 4 > 3\n",
      "100: individual depth 4 > 3\n"
     ]
    }
   ],
   "source": [
    "depth_fh.seek(0) # restart reading file from beginning\n",
    "\n",
    "i = 0\n",
    "for line in depth_fh:\n",
    "    i+=1\n",
    "    if i > 100: break\n",
    "    fields = line.rstrip().split('\\t')\n",
    "    depths = fields[2:]\n",
    "    across_sample_depth = sum([int(d) for d in depths])\n",
    "    if across_sample_depth > global_coverage_threshold:\n",
    "        print \"{0}: global depth {1} > {2}\".format(i, across_sample_depth, global_coverage_threshold)\n",
    "        continue\n",
    "    excess_depth = False\n",
    "    for idx, d in enumerate(depths):\n",
    "        if int(d) > ind_coverage_thresholds[idx]:\n",
    "            print \"{0}: individual depth {1} > {2}\".format(i, d, ind_coverage_thresholds[idx])\n",
    "            excess_depth = True\n",
    "            break\n",
    "    if not excess_depth:\n",
    "        print '\\t'.join(fields)"
   ]
  },
  {
   "cell_type": "markdown",
   "metadata": {},
   "source": [
    "The filtering seems to work."
   ]
  },
  {
   "cell_type": "markdown",
   "metadata": {},
   "source": [
    "Finally, I would also like to filter for sites that have enough coverage for downstream analysis."
   ]
  },
  {
   "cell_type": "markdown",
   "metadata": {},
   "source": [
    "I think at least 1x depth for each of at least 15 individuals would be reasonable."
   ]
  },
  {
   "cell_type": "code",
   "execution_count": 68,
   "metadata": {
    "collapsed": false
   },
   "outputs": [
    {
     "name": "stdout",
     "output_type": "stream",
     "text": [
      "1: global depth 181 > 74\n",
      "2: global depth 181 > 74\n",
      "3: global depth 181 > 74\n",
      "4: global depth 181 > 74\n",
      "5: global depth 181 > 74\n",
      "6: global depth 181 > 74\n",
      "7: global depth 181 > 74\n",
      "8: global depth 181 > 74\n",
      "9: global depth 180 > 74\n",
      "10: global depth 181 > 74\n",
      "11: global depth 181 > 74\n",
      "12: global depth 181 > 74\n",
      "13: global depth 179 > 74\n",
      "14: global depth 181 > 74\n",
      "15: global depth 181 > 74\n",
      "16: global depth 181 > 74\n",
      "17: global depth 181 > 74\n",
      "18: global depth 181 > 74\n",
      "19: global depth 181 > 74\n",
      "20: global depth 181 > 74\n",
      "21: global depth 181 > 74\n",
      "22: global depth 181 > 74\n",
      "23: global depth 181 > 74\n",
      "24: global depth 181 > 74\n",
      "25: global depth 181 > 74\n",
      "26: global depth 181 > 74\n",
      "27: global depth 181 > 74\n",
      "28: global depth 181 > 74\n",
      "29: global depth 178 > 74\n",
      "30: global depth 178 > 74\n",
      "31: global depth 181 > 74\n",
      "32: global depth 181 > 74\n",
      "33: global depth 181 > 74\n",
      "34: global depth 181 > 74\n",
      "35: global depth 180 > 74\n",
      "36: global depth 181 > 74\n",
      "37: global depth 181 > 74\n",
      "38: global depth 181 > 74\n",
      "39: global depth 181 > 74\n",
      "40: global depth 180 > 74\n",
      "41: only 5 individuals with read data\n",
      "42: only 2 individuals with read data\n",
      "43: only 4 individuals with read data\n",
      "44: only 5 individuals with read data\n",
      "45: only 7 individuals with read data\n",
      "46: only 11 individuals with read data\n",
      "47: only 12 individuals with read data\n",
      "Contig_29981\t62\t0\t1\t0\t0\t0\t0\t0\t0\t0\t0\t1\t1\t0\t1\t2\t2\t0\t1\t0\t0\t0\t1\t1\t0\t1\t0\t0\t1\t2\t0\t1\t0\t1\t0\t1\t1\n",
      "Contig_29981\t63\t1\t1\t0\t0\t0\t1\t0\t0\t0\t0\t1\t1\t0\t1\t2\t2\t0\t1\t0\t1\t0\t1\t2\t1\t1\t0\t0\t1\t3\t0\t1\t0\t1\t0\t1\t1\n",
      "Contig_29981\t64\t1\t1\t0\t0\t0\t1\t0\t0\t0\t0\t1\t1\t0\t1\t2\t2\t0\t1\t0\t1\t0\t1\t2\t1\t1\t0\t0\t1\t3\t0\t1\t0\t1\t0\t1\t1\n",
      "Contig_29981\t65\t1\t1\t0\t0\t0\t1\t0\t0\t0\t0\t1\t2\t0\t1\t2\t2\t0\t2\t0\t1\t0\t1\t2\t1\t1\t0\t0\t1\t3\t0\t1\t0\t1\t0\t1\t1\n",
      "Contig_29981\t66\t1\t1\t0\t0\t0\t1\t0\t0\t0\t0\t1\t2\t0\t1\t2\t2\t0\t2\t0\t1\t0\t1\t2\t1\t1\t0\t2\t1\t3\t0\t1\t0\t2\t0\t1\t2\n",
      "Contig_29981\t67\t1\t1\t1\t0\t0\t1\t0\t0\t2\t0\t1\t2\t0\t1\t2\t2\t0\t2\t0\t1\t0\t1\t2\t1\t1\t0\t2\t1\t3\t0\t1\t0\t2\t0\t1\t2\n",
      "Contig_29981\t68\t1\t1\t1\t0\t1\t1\t0\t0\t2\t1\t1\t2\t0\t2\t2\t3\t0\t2\t0\t1\t0\t1\t2\t2\t1\t0\t3\t1\t3\t0\t1\t0\t2\t0\t1\t2\n",
      "Contig_29981\t69\t1\t1\t1\t0\t1\t1\t0\t0\t2\t1\t1\t3\t0\t2\t2\t3\t0\t2\t0\t1\t0\t1\t2\t2\t1\t0\t3\t1\t3\t0\t1\t0\t2\t0\t1\t3\n",
      "Contig_29981\t70\t1\t1\t1\t0\t1\t2\t0\t0\t2\t1\t1\t3\t0\t2\t2\t3\t0\t2\t0\t1\t0\t1\t2\t2\t1\t0\t3\t1\t3\t0\t1\t0\t2\t0\t1\t3\n",
      "Contig_29981\t71\t1\t1\t1\t0\t1\t2\t0\t0\t2\t1\t1\t3\t0\t2\t2\t3\t1\t3\t0\t1\t0\t1\t3\t2\t2\t0\t3\t1\t3\t0\t1\t0\t2\t0\t1\t3\n",
      "Contig_29981\t72\t1\t1\t1\t0\t1\t2\t0\t0\t2\t1\t1\t3\t0\t3\t2\t3\t1\t3\t0\t1\t0\t1\t3\t2\t2\t0\t3\t1\t3\t0\t1\t0\t2\t0\t1\t3\n",
      "Contig_29981\t73\t1\t1\t1\t0\t1\t2\t0\t0\t2\t1\t1\t3\t0\t3\t2\t3\t1\t3\t0\t1\t0\t1\t4\t2\t2\t0\t3\t1\t3\t0\t1\t0\t2\t0\t1\t3\n",
      "Contig_29981\t74\t1\t1\t1\t0\t1\t2\t0\t0\t2\t1\t1\t3\t0\t3\t2\t3\t1\t3\t0\t1\t0\t1\t4\t2\t2\t0\t3\t1\t3\t0\t1\t0\t2\t0\t1\t3\n",
      "61: individual depth 4 > 3\n",
      "62: individual depth 4 > 3\n",
      "63: individual depth 4 > 3\n",
      "64: individual depth 4 > 3\n",
      "65: individual depth 4 > 3\n",
      "66: individual depth 4 > 3\n",
      "67: individual depth 4 > 3\n",
      "67: only 14 individuals with read data\n",
      "68: individual depth 4 > 3\n",
      "68: only 14 individuals with read data\n",
      "69: individual depth 4 > 3\n",
      "69: only 14 individuals with read data\n",
      "70: individual depth 4 > 3\n",
      "70: only 14 individuals with read data\n",
      "71: individual depth 5 > 3\n",
      "71: only 14 individuals with read data\n",
      "72: individual depth 5 > 3\n",
      "72: only 14 individuals with read data\n",
      "73: individual depth 5 > 3\n",
      "73: only 14 individuals with read data\n",
      "74: individual depth 5 > 3\n",
      "74: only 14 individuals with read data\n",
      "75: individual depth 5 > 3\n",
      "75: only 14 individuals with read data\n",
      "76: individual depth 4 > 3\n",
      "76: only 8 individuals with read data\n",
      "77: individual depth 4 > 3\n",
      "77: only 8 individuals with read data\n",
      "78: individual depth 4 > 3\n",
      "78: only 8 individuals with read data\n",
      "79: individual depth 4 > 3\n",
      "79: only 8 individuals with read data\n",
      "80: individual depth 4 > 3\n",
      "80: only 8 individuals with read data\n",
      "81: individual depth 4 > 3\n",
      "81: only 8 individuals with read data\n",
      "82: individual depth 4 > 3\n",
      "82: only 8 individuals with read data\n",
      "83: individual depth 4 > 3\n",
      "83: only 8 individuals with read data\n",
      "84: individual depth 4 > 3\n",
      "84: only 8 individuals with read data\n",
      "85: global depth 78 > 74\n",
      "86: global depth 79 > 74\n",
      "87: global depth 80 > 74\n",
      "88: global depth 81 > 74\n",
      "89: global depth 82 > 74\n",
      "90: global depth 82 > 74\n",
      "91: global depth 82 > 74\n",
      "92: global depth 82 > 74\n",
      "93: global depth 81 > 74\n",
      "94: global depth 81 > 74\n",
      "95: global depth 79 > 74\n",
      "96: global depth 79 > 74\n",
      "97: global depth 75 > 74\n",
      "98: global depth 75 > 74\n",
      "99: individual depth 4 > 3\n",
      "99: only 12 individuals with read data\n",
      "100: individual depth 4 > 3\n",
      "100: only 13 individuals with read data\n"
     ]
    }
   ],
   "source": [
    "depth_fh.seek(0) # restart reading file from beginning\n",
    "\n",
    "i = 0\n",
    "for line in depth_fh:\n",
    "    i+=1\n",
    "    if i > 100: break\n",
    "    fields = line.rstrip().split('\\t')\n",
    "    depths = fields[2:]\n",
    "    across_sample_depth = sum([int(d) for d in depths])\n",
    "    if across_sample_depth > global_coverage_threshold:\n",
    "        print \"{0}: global depth {1} > {2}\".format(i, across_sample_depth, global_coverage_threshold)\n",
    "        continue\n",
    "    excess_depth = False\n",
    "    sufficient_depth = 0\n",
    "    for idx, d in enumerate(depths):\n",
    "        if int(d) > ind_coverage_thresholds[idx]:\n",
    "            print \"{0}: individual depth {1} > {2}\".format(i, d, ind_coverage_thresholds[idx])\n",
    "            excess_depth = True\n",
    "            break\n",
    "        elif int(d) > 0:\n",
    "            sufficient_depth += 1\n",
    "    if sufficient_depth < 15:\n",
    "        print \"{0}: only {1} individuals with read data\".format(i, sufficient_depth)\n",
    "    if not excess_depth and sufficient_depth >= 15:\n",
    "        print '\\t'.join(fields)"
   ]
  },
  {
   "cell_type": "code",
   "execution_count": 70,
   "metadata": {
    "collapsed": false
   },
   "outputs": [],
   "source": [
    "depth_fh.close()"
   ]
  },
  {
   "cell_type": "code",
   "execution_count": 71,
   "metadata": {
    "collapsed": false
   },
   "outputs": [
    {
     "name": "stdout",
     "output_type": "stream",
     "text": [
      "total 2539296\r\n",
      "-rw-rw-r-- 1 claudius  11524483 Apr 29 14:49 Big_Data_Contigs.noSEgt2.bed\r\n",
      "-rw-rw-r-- 1 claudius  24138906 Apr 29 14:56 Big_Data_Contigs.noSEgt2.noDUST.bed\r\n",
      "-rw-rw-r-- 1 claudius  24098532 Apr 29 17:35 Big_Data_Contigs.noSEgt2.noDUST.noTGCAGG.bed\r\n",
      "lrwxrwxrwx 1 claudius        24 Apr 29 14:39 \u001b[0m\u001b[01;36mBig_Data_Contigs.SEposgt2\u001b[0m -> exclude_contigs.SEposgt2\r\n",
      "lrwxrwxrwx 1 claudius        26 Apr 29 14:32 \u001b[01;36mBig_Data_ref.fa.bed\u001b[0m -> ../BAM/Big_Data_ref.fa.bed\r\n",
      "-rwxrwxr-x 1 claudius      4750 Apr 30 14:59 \u001b[01;32mcoverage_filter.py\u001b[0m*\r\n",
      "-rwxrwxr-x 1 claudius      4750 Apr 30 14:59 \u001b[01;32mcoverage_filter.py~\u001b[0m*\r\n",
      "-rw-rw-r-- 1 claudius  49174018 Apr 29 12:24 ery_30-10_dedup.bam\r\n",
      "-rw-rw-r-- 1 claudius  45669443 Apr 29 12:59 ery_30-10_dedup.sorted.bam\r\n",
      "-rw-rw-r-- 1 claudius  41549836 Apr 29 12:25 ery_30-11_dedup.bam\r\n",
      "-rw-rw-r-- 1 claudius  38823165 Apr 29 12:59 ery_30-11_dedup.sorted.bam\r\n",
      "-rw-rw-r-- 1 claudius  32949722 Apr 29 12:25 ery_30-12_dedup.bam\r\n",
      "-rw-rw-r-- 1 claudius  31074190 Apr 29 12:59 ery_30-12_dedup.sorted.bam\r\n",
      "-rw-rw-r-- 1 claudius  29451529 Apr 29 12:25 ery_30-13_dedup.bam\r\n",
      "-rw-rw-r-- 1 claudius  27837104 Apr 29 13:00 ery_30-13_dedup.sorted.bam\r\n",
      "-rw-rw-r-- 1 claudius  33141552 Apr 29 12:26 ery_30-14_dedup.bam\r\n",
      "-rw-rw-r-- 1 claudius  31222497 Apr 29 13:00 ery_30-14_dedup.sorted.bam\r\n",
      "-rw-rw-r-- 1 claudius  43561557 Apr 29 12:26 ery_30-15_dedup.bam\r\n",
      "-rw-rw-r-- 1 claudius  40622819 Apr 29 13:00 ery_30-15_dedup.sorted.bam\r\n",
      "-rw-rw-r-- 1 claudius  33541374 Apr 29 12:27 ery_30-16_dedup.bam\r\n",
      "-rw-rw-r-- 1 claudius  31617675 Apr 29 13:00 ery_30-16_dedup.sorted.bam\r\n",
      "-rw-rw-r-- 1 claudius  36294731 Apr 29 12:27 ery_30-17_dedup.bam\r\n",
      "-rw-rw-r-- 1 claudius  34116736 Apr 29 13:00 ery_30-17_dedup.sorted.bam\r\n",
      "-rw-rw-r-- 1 claudius  43855792 Apr 29 12:27 ery_30-18_dedup.bam\r\n",
      "-rw-rw-r-- 1 claudius  40878032 Apr 29 13:00 ery_30-18_dedup.sorted.bam\r\n",
      "-rw-rw-r-- 1 claudius  31628483 Apr 29 12:28 ery_30-1_dedup.bam\r\n",
      "-rw-rw-r-- 1 claudius  29830881 Apr 29 13:00 ery_30-1_dedup.sorted.bam\r\n",
      "-rw-rw-r-- 1 claudius  44323405 Apr 29 12:28 ery_30-2_dedup.bam\r\n",
      "-rw-rw-r-- 1 claudius  41364794 Apr 29 13:00 ery_30-2_dedup.sorted.bam\r\n",
      "-rw-rw-r-- 1 claudius  43827464 Apr 29 12:29 ery_30-3_dedup.bam\r\n",
      "-rw-rw-r-- 1 claudius  40839318 Apr 29 13:01 ery_30-3_dedup.sorted.bam\r\n",
      "-rw-rw-r-- 1 claudius  42034547 Apr 29 12:29 ery_30-4_dedup.bam\r\n",
      "-rw-rw-r-- 1 claudius  39211114 Apr 29 13:01 ery_30-4_dedup.sorted.bam\r\n",
      "-rw-rw-r-- 1 claudius  40413482 Apr 29 12:30 ery_30-5_dedup.bam\r\n",
      "-rw-rw-r-- 1 claudius  37836464 Apr 29 13:01 ery_30-5_dedup.sorted.bam\r\n",
      "-rw-rw-r-- 1 claudius  39660783 Apr 29 12:30 ery_30-6_dedup.bam\r\n",
      "-rw-rw-r-- 1 claudius  37101812 Apr 29 13:01 ery_30-6_dedup.sorted.bam\r\n",
      "-rw-rw-r-- 1 claudius  34069094 Apr 29 12:31 ery_30-7_dedup.bam\r\n",
      "-rw-rw-r-- 1 claudius  32036065 Apr 29 13:01 ery_30-7_dedup.sorted.bam\r\n",
      "-rw-rw-r-- 1 claudius  38831092 Apr 29 12:31 ery_30-8_dedup.bam\r\n",
      "-rw-rw-r-- 1 claudius  36437351 Apr 29 13:01 ery_30-8_dedup.sorted.bam\r\n",
      "-rw-rw-r-- 1 claudius  37089561 Apr 29 12:32 ery_30-9_dedup.bam\r\n",
      "-rw-rw-r-- 1 claudius  34822766 Apr 29 13:01 ery_30-9_dedup.sorted.bam\r\n",
      "-rw-rw-r-- 1 claudius     49730 Apr 30 14:46 excess_coverage_filter.ipynb\r\n",
      "-rw-rw-r-- 1 claudius     49988 Apr 29 13:28 exclude_contigs.SEposgt2\r\n",
      "-rw-rw-r-- 1 claudius  24696414 Apr 29 12:32 par_34-10_dedup.bam\r\n",
      "-rw-rw-r-- 1 claudius  23449500 Apr 29 13:02 par_34-10_dedup.sorted.bam\r\n",
      "-rw-rw-r-- 1 claudius  21167084 Apr 29 12:32 par_34-11_dedup.bam\r\n",
      "-rw-rw-r-- 1 claudius  20232504 Apr 29 13:02 par_34-11_dedup.sorted.bam\r\n",
      "-rw-rw-r-- 1 claudius  24514911 Apr 29 12:32 par_34-12_dedup.bam\r\n",
      "-rw-rw-r-- 1 claudius  23290138 Apr 29 13:02 par_34-12_dedup.sorted.bam\r\n",
      "-rw-rw-r-- 1 claudius  20912345 Apr 29 12:33 par_34-13_dedup.bam\r\n",
      "-rw-rw-r-- 1 claudius  19972988 Apr 29 13:02 par_34-13_dedup.sorted.bam\r\n",
      "-rw-rw-r-- 1 claudius  32083510 Apr 29 12:33 par_34-14_dedup.bam\r\n",
      "-rw-rw-r-- 1 claudius  30186950 Apr 29 13:02 par_34-14_dedup.sorted.bam\r\n",
      "-rw-rw-r-- 1 claudius  25178655 Apr 29 12:33 par_34-15_dedup.bam\r\n",
      "-rw-rw-r-- 1 claudius  23901629 Apr 29 13:02 par_34-15_dedup.sorted.bam\r\n",
      "-rw-rw-r-- 1 claudius  26465689 Apr 29 12:34 par_34-16_dedup.bam\r\n",
      "-rw-rw-r-- 1 claudius  25067071 Apr 29 13:02 par_34-16_dedup.sorted.bam\r\n",
      "-rw-rw-r-- 1 claudius  24026787 Apr 29 12:34 par_34-17_dedup.bam\r\n",
      "-rw-rw-r-- 1 claudius  22861219 Apr 29 13:02 par_34-17_dedup.sorted.bam\r\n",
      "-rw-rw-r-- 1 claudius  26161443 Apr 29 12:34 par_34-18_dedup.bam\r\n",
      "-rw-rw-r-- 1 claudius  24839536 Apr 29 13:02 par_34-18_dedup.sorted.bam\r\n",
      "-rw-rw-r-- 1 claudius  12100459 Apr 29 12:34 par_34-1_dedup.bam\r\n",
      "-rw-rw-r-- 1 claudius  11772518 Apr 29 13:02 par_34-1_dedup.sorted.bam\r\n",
      "-rw-rw-r-- 1 claudius  30423166 Apr 29 12:35 par_34-2_dedup.bam\r\n",
      "-rw-rw-r-- 1 claudius  28778112 Apr 29 13:02 par_34-2_dedup.sorted.bam\r\n",
      "-rw-rw-r-- 1 claudius  26028371 Apr 29 12:35 par_34-3_dedup.bam\r\n",
      "-rw-rw-r-- 1 claudius  24716690 Apr 29 13:02 par_34-3_dedup.sorted.bam\r\n",
      "-rw-rw-r-- 1 claudius  20161970 Apr 29 12:35 par_34-4_dedup.bam\r\n",
      "-rw-rw-r-- 1 claudius  19286134 Apr 29 13:03 par_34-4_dedup.sorted.bam\r\n",
      "-rw-rw-r-- 1 claudius  31856616 Apr 29 12:36 par_34-5_dedup.bam\r\n",
      "-rw-rw-r-- 1 claudius  29998345 Apr 29 13:03 par_34-5_dedup.sorted.bam\r\n",
      "-rw-rw-r-- 1 claudius  24908820 Apr 29 12:36 par_34-6_dedup.bam\r\n",
      "-rw-rw-r-- 1 claudius  23688291 Apr 29 13:03 par_34-6_dedup.sorted.bam\r\n",
      "-rw-rw-r-- 1 claudius  27272106 Apr 29 12:36 par_34-7_dedup.bam\r\n",
      "-rw-rw-r-- 1 claudius  25817961 Apr 29 13:03 par_34-7_dedup.sorted.bam\r\n",
      "-rw-rw-r-- 1 claudius  26867200 Apr 29 12:37 par_34-8_dedup.bam\r\n",
      "-rw-rw-r-- 1 claudius  25464806 Apr 29 13:03 par_34-8_dedup.sorted.bam\r\n",
      "-rw-rw-r-- 1 claudius  23282866 Apr 29 12:37 par_34-9_dedup.bam\r\n",
      "-rw-rw-r-- 1 claudius  22200014 Apr 29 13:03 par_34-9_dedup.sorted.bam\r\n",
      "-rw-rw-r-- 1 claudius 319803427 Apr 29 17:47 \u001b[01;31mParEry.noSEgt2.noDUST.noTGCAGG.depth.gz\u001b[0m\r\n",
      "-rwxrwxr-x 1 claudius      2118 Apr 29 14:43 \u001b[01;32msubtract.pl\u001b[0m*\r\n",
      "-rwxrwxr-x 1 claudius      2118 Apr 29 14:41 \u001b[01;32msubtract.pl~\u001b[0m*\r\n"
     ]
    }
   ],
   "source": [
    "% ll"
   ]
  },
  {
   "cell_type": "markdown",
   "metadata": {},
   "source": [
    "I have put the upper commands in a separate python file."
   ]
  },
  {
   "cell_type": "code",
   "execution_count": 74,
   "metadata": {
    "collapsed": false
   },
   "outputs": [
    {
     "name": "stdout",
     "output_type": "stream",
     "text": [
      "usage: coverage_filter.py [-h]\r\n",
      "                          [--global_coverage_percentile GLOBAL_COVERAGE_PERCENTILE]\r\n",
      "                          [--individual_coverage_percentile INDIVIDUAL_COVERAGE_PERCENTILE]\r\n",
      "                          [--minimum_coverage MINIMUM_COVERAGE]\r\n",
      "                          [--minimum_individual MINIMUM_INDIVIDUAL]\r\n",
      "                          depth_file\r\n",
      "\r\n",
      "takes output from samtools depth command and filters sites against excessive\r\n",
      "and for enough coverage; prints filtered sites to STDOUT\r\n",
      "\r\n",
      "positional arguments:\r\n",
      "  depth_file            file name for depth table from samtools depth command\r\n",
      "\r\n",
      "optional arguments:\r\n",
      "  -h, --help            show this help message and exit\r\n",
      "  --global_coverage_percentile GLOBAL_COVERAGE_PERCENTILE\r\n",
      "                        percentile of the global coverage distribution that\r\n",
      "                        the site's global coverage must not exceed (default\r\n",
      "                        99)\r\n",
      "  --individual_coverage_percentile INDIVIDUAL_COVERAGE_PERCENTILE\r\n",
      "                        percentile of the individual coverage distributions\r\n",
      "                        that the site's individual coverages must not exceed\r\n",
      "                        in any individual (default 99)\r\n",
      "  --minimum_coverage MINIMUM_COVERAGE\r\n",
      "                        minimum fold coverage that is required in at least\r\n",
      "                        --minimum_individual individuals (default 1)\r\n",
      "  --minimum_individual MINIMUM_INDIVIDUAL\r\n",
      "                        minimum number of individuals with at least\r\n",
      "                        --minimum_coverage coverage (default 15)\r\n"
     ]
    }
   ],
   "source": [
    "! ./coverage_filter.py -h"
   ]
  },
  {
   "cell_type": "markdown",
   "metadata": {
    "collapsed": true
   },
   "source": [
    "`coverage_filter.py` takes 3h 30min to filter the `samtools depth` file. I think this is quite a long time. I am going to try and speed this up a little bit."
   ]
  },
  {
   "cell_type": "markdown",
   "metadata": {},
   "source": [
    "## check output"
   ]
  },
  {
   "cell_type": "markdown",
   "metadata": {},
   "source": [
    "Read filtered sites into a pandas data frame:"
   ]
  },
  {
   "cell_type": "code",
   "execution_count": 2,
   "metadata": {
    "collapsed": false
   },
   "outputs": [
    {
     "name": "stdout",
     "output_type": "stream",
     "text": [
      "total 2548100\r\n",
      "-rw-rw-r-- 1 claudius  11524483 Apr 29 14:49 Big_Data_Contigs.noSEgt2.bed\r\n",
      "-rw-rw-r-- 1 claudius  24138906 Apr 29 14:56 Big_Data_Contigs.noSEgt2.noDUST.bed\r\n",
      "-rw-rw-r-- 1 claudius  24098532 Apr 29 17:35 Big_Data_Contigs.noSEgt2.noDUST.noTGCAGG.bed\r\n",
      "lrwxrwxrwx 1 claudius        24 Apr 29 14:39 \u001b[0m\u001b[01;36mBig_Data_Contigs.SEposgt2\u001b[0m -> exclude_contigs.SEposgt2\r\n",
      "lrwxrwxrwx 1 claudius        26 Apr 29 14:32 \u001b[01;36mBig_Data_ref.fa.bed\u001b[0m -> ../BAM/Big_Data_ref.fa.bed\r\n",
      "-rw-rw-r-- 1 claudius     94511 May  1 11:05 coverage_filter.ipynb\r\n",
      "-rwxrwxr-x 1 claudius      4566 May  1 08:11 \u001b[01;32mcoverage_filter.py\u001b[0m*\r\n",
      "-rwxrwxr-x 1 claudius      4487 May  1 08:08 \u001b[01;32mcoverage_filter.py~\u001b[0m*\r\n",
      "-rw-rw-r-- 1 claudius       785 Apr 30 20:58 coverage_filter.time\r\n",
      "-rw-rw-r-- 1 claudius  49174018 Apr 29 12:24 ery_30-10_dedup.bam\r\n",
      "-rw-rw-r-- 1 claudius  45669443 Apr 29 12:59 ery_30-10_dedup.sorted.bam\r\n",
      "-rw-rw-r-- 1 claudius  41549836 Apr 29 12:25 ery_30-11_dedup.bam\r\n",
      "-rw-rw-r-- 1 claudius  38823165 Apr 29 12:59 ery_30-11_dedup.sorted.bam\r\n",
      "-rw-rw-r-- 1 claudius  32949722 Apr 29 12:25 ery_30-12_dedup.bam\r\n",
      "-rw-rw-r-- 1 claudius  31074190 Apr 29 12:59 ery_30-12_dedup.sorted.bam\r\n",
      "-rw-rw-r-- 1 claudius  29451529 Apr 29 12:25 ery_30-13_dedup.bam\r\n",
      "-rw-rw-r-- 1 claudius  27837104 Apr 29 13:00 ery_30-13_dedup.sorted.bam\r\n",
      "-rw-rw-r-- 1 claudius  33141552 Apr 29 12:26 ery_30-14_dedup.bam\r\n",
      "-rw-rw-r-- 1 claudius  31222497 Apr 29 13:00 ery_30-14_dedup.sorted.bam\r\n",
      "-rw-rw-r-- 1 claudius  43561557 Apr 29 12:26 ery_30-15_dedup.bam\r\n",
      "-rw-rw-r-- 1 claudius  40622819 Apr 29 13:00 ery_30-15_dedup.sorted.bam\r\n",
      "-rw-rw-r-- 1 claudius  33541374 Apr 29 12:27 ery_30-16_dedup.bam\r\n",
      "-rw-rw-r-- 1 claudius  31617675 Apr 29 13:00 ery_30-16_dedup.sorted.bam\r\n",
      "-rw-rw-r-- 1 claudius  36294731 Apr 29 12:27 ery_30-17_dedup.bam\r\n",
      "-rw-rw-r-- 1 claudius  34116736 Apr 29 13:00 ery_30-17_dedup.sorted.bam\r\n",
      "-rw-rw-r-- 1 claudius  43855792 Apr 29 12:27 ery_30-18_dedup.bam\r\n",
      "-rw-rw-r-- 1 claudius  40878032 Apr 29 13:00 ery_30-18_dedup.sorted.bam\r\n",
      "-rw-rw-r-- 1 claudius  31628483 Apr 29 12:28 ery_30-1_dedup.bam\r\n",
      "-rw-rw-r-- 1 claudius  29830881 Apr 29 13:00 ery_30-1_dedup.sorted.bam\r\n",
      "-rw-rw-r-- 1 claudius  44323405 Apr 29 12:28 ery_30-2_dedup.bam\r\n",
      "-rw-rw-r-- 1 claudius  41364794 Apr 29 13:00 ery_30-2_dedup.sorted.bam\r\n",
      "-rw-rw-r-- 1 claudius  43827464 Apr 29 12:29 ery_30-3_dedup.bam\r\n",
      "-rw-rw-r-- 1 claudius  40839318 Apr 29 13:01 ery_30-3_dedup.sorted.bam\r\n",
      "-rw-rw-r-- 1 claudius  42034547 Apr 29 12:29 ery_30-4_dedup.bam\r\n",
      "-rw-rw-r-- 1 claudius  39211114 Apr 29 13:01 ery_30-4_dedup.sorted.bam\r\n",
      "-rw-rw-r-- 1 claudius  40413482 Apr 29 12:30 ery_30-5_dedup.bam\r\n",
      "-rw-rw-r-- 1 claudius  37836464 Apr 29 13:01 ery_30-5_dedup.sorted.bam\r\n",
      "-rw-rw-r-- 1 claudius  39660783 Apr 29 12:30 ery_30-6_dedup.bam\r\n",
      "-rw-rw-r-- 1 claudius  37101812 Apr 29 13:01 ery_30-6_dedup.sorted.bam\r\n",
      "-rw-rw-r-- 1 claudius  34069094 Apr 29 12:31 ery_30-7_dedup.bam\r\n",
      "-rw-rw-r-- 1 claudius  32036065 Apr 29 13:01 ery_30-7_dedup.sorted.bam\r\n",
      "-rw-rw-r-- 1 claudius  38831092 Apr 29 12:31 ery_30-8_dedup.bam\r\n",
      "-rw-rw-r-- 1 claudius  36437351 Apr 29 13:01 ery_30-8_dedup.sorted.bam\r\n",
      "-rw-rw-r-- 1 claudius  37089561 Apr 29 12:32 ery_30-9_dedup.bam\r\n",
      "-rw-rw-r-- 1 claudius  34822766 Apr 29 13:01 ery_30-9_dedup.sorted.bam\r\n",
      "-rw-rw-r-- 1 claudius     49988 Apr 29 13:28 exclude_contigs.SEposgt2\r\n",
      "-rw-rw-r-- 1 claudius  24696414 Apr 29 12:32 par_34-10_dedup.bam\r\n",
      "-rw-rw-r-- 1 claudius  23449500 Apr 29 13:02 par_34-10_dedup.sorted.bam\r\n",
      "-rw-rw-r-- 1 claudius  21167084 Apr 29 12:32 par_34-11_dedup.bam\r\n",
      "-rw-rw-r-- 1 claudius  20232504 Apr 29 13:02 par_34-11_dedup.sorted.bam\r\n",
      "-rw-rw-r-- 1 claudius  24514911 Apr 29 12:32 par_34-12_dedup.bam\r\n",
      "-rw-rw-r-- 1 claudius  23290138 Apr 29 13:02 par_34-12_dedup.sorted.bam\r\n",
      "-rw-rw-r-- 1 claudius  20912345 Apr 29 12:33 par_34-13_dedup.bam\r\n",
      "-rw-rw-r-- 1 claudius  19972988 Apr 29 13:02 par_34-13_dedup.sorted.bam\r\n",
      "-rw-rw-r-- 1 claudius  32083510 Apr 29 12:33 par_34-14_dedup.bam\r\n",
      "-rw-rw-r-- 1 claudius  30186950 Apr 29 13:02 par_34-14_dedup.sorted.bam\r\n",
      "-rw-rw-r-- 1 claudius  25178655 Apr 29 12:33 par_34-15_dedup.bam\r\n",
      "-rw-rw-r-- 1 claudius  23901629 Apr 29 13:02 par_34-15_dedup.sorted.bam\r\n",
      "-rw-rw-r-- 1 claudius  26465689 Apr 29 12:34 par_34-16_dedup.bam\r\n",
      "-rw-rw-r-- 1 claudius  25067071 Apr 29 13:02 par_34-16_dedup.sorted.bam\r\n",
      "-rw-rw-r-- 1 claudius  24026787 Apr 29 12:34 par_34-17_dedup.bam\r\n",
      "-rw-rw-r-- 1 claudius  22861219 Apr 29 13:02 par_34-17_dedup.sorted.bam\r\n",
      "-rw-rw-r-- 1 claudius  26161443 Apr 29 12:34 par_34-18_dedup.bam\r\n",
      "-rw-rw-r-- 1 claudius  24839536 Apr 29 13:02 par_34-18_dedup.sorted.bam\r\n",
      "-rw-rw-r-- 1 claudius  12100459 Apr 29 12:34 par_34-1_dedup.bam\r\n",
      "-rw-rw-r-- 1 claudius  11772518 Apr 29 13:02 par_34-1_dedup.sorted.bam\r\n",
      "-rw-rw-r-- 1 claudius  30423166 Apr 29 12:35 par_34-2_dedup.bam\r\n",
      "-rw-rw-r-- 1 claudius  28778112 Apr 29 13:02 par_34-2_dedup.sorted.bam\r\n",
      "-rw-rw-r-- 1 claudius  26028371 Apr 29 12:35 par_34-3_dedup.bam\r\n",
      "-rw-rw-r-- 1 claudius  24716690 Apr 29 13:02 par_34-3_dedup.sorted.bam\r\n",
      "-rw-rw-r-- 1 claudius  20161970 Apr 29 12:35 par_34-4_dedup.bam\r\n",
      "-rw-rw-r-- 1 claudius  19286134 Apr 29 13:03 par_34-4_dedup.sorted.bam\r\n",
      "-rw-rw-r-- 1 claudius  31856616 Apr 29 12:36 par_34-5_dedup.bam\r\n",
      "-rw-rw-r-- 1 claudius  29998345 Apr 29 13:03 par_34-5_dedup.sorted.bam\r\n",
      "-rw-rw-r-- 1 claudius  24908820 Apr 29 12:36 par_34-6_dedup.bam\r\n",
      "-rw-rw-r-- 1 claudius  23688291 Apr 29 13:03 par_34-6_dedup.sorted.bam\r\n",
      "-rw-rw-r-- 1 claudius  27272106 Apr 29 12:36 par_34-7_dedup.bam\r\n",
      "-rw-rw-r-- 1 claudius  25817961 Apr 29 13:03 par_34-7_dedup.sorted.bam\r\n",
      "-rw-rw-r-- 1 claudius  26867200 Apr 29 12:37 par_34-8_dedup.bam\r\n",
      "-rw-rw-r-- 1 claudius  25464806 Apr 29 13:03 par_34-8_dedup.sorted.bam\r\n",
      "-rw-rw-r-- 1 claudius  23282866 Apr 29 12:37 par_34-9_dedup.bam\r\n",
      "-rw-rw-r-- 1 claudius  22200014 Apr 29 13:03 par_34-9_dedup.sorted.bam\r\n",
      "-rw-rw-r-- 1 claudius   3382815 May  1 08:02 \u001b[01;31mParEry.noSEgt2.noDUST.noTGCAGG.covFiltered.gz\u001b[0m\r\n",
      "-rw-rw-r-- 1 claudius 319803427 Apr 29 17:47 \u001b[01;31mParEry.noSEgt2.noDUST.noTGCAGG.depth.gz\u001b[0m\r\n",
      "-rw-rw-r-- 1 claudius   5579582 May  1 09:04 \u001b[01;31msamtools_depth_testFile.gz\u001b[0m\r\n",
      "-rwxrwxr-x 1 claudius      2118 Apr 29 14:43 \u001b[01;32msubtract.pl\u001b[0m*\r\n",
      "-rwxrwxr-x 1 claudius      2118 Apr 29 14:41 \u001b[01;32msubtract.pl~\u001b[0m*\r\n"
     ]
    }
   ],
   "source": [
    "% ll"
   ]
  },
  {
   "cell_type": "code",
   "execution_count": 8,
   "metadata": {
    "collapsed": true
   },
   "outputs": [],
   "source": [
    "import pandas as pd"
   ]
  },
  {
   "cell_type": "code",
   "execution_count": 12,
   "metadata": {
    "collapsed": true
   },
   "outputs": [],
   "source": [
    "pd.read_table?"
   ]
  },
  {
   "cell_type": "code",
   "execution_count": 16,
   "metadata": {
    "collapsed": true
   },
   "outputs": [],
   "source": [
    "# read compressed TAB-delimited file directly into pandas data frame\n",
    "\n",
    "filtered_sites_df = pd.read_table(\"ParEry.noSEgt2.noDUST.noTGCAGG.covFiltered.gz\", header=None)"
   ]
  },
  {
   "cell_type": "code",
   "execution_count": 31,
   "metadata": {
    "collapsed": false
   },
   "outputs": [
    {
     "data": {
      "text/html": [
       "<div>\n",
       "<table border=\"1\" class=\"dataframe\">\n",
       "  <thead>\n",
       "    <tr style=\"text-align: right;\">\n",
       "      <th></th>\n",
       "      <th>0</th>\n",
       "      <th>1</th>\n",
       "      <th>2</th>\n",
       "      <th>3</th>\n",
       "      <th>4</th>\n",
       "      <th>5</th>\n",
       "      <th>6</th>\n",
       "      <th>7</th>\n",
       "      <th>8</th>\n",
       "      <th>9</th>\n",
       "      <th>...</th>\n",
       "      <th>28</th>\n",
       "      <th>29</th>\n",
       "      <th>30</th>\n",
       "      <th>31</th>\n",
       "      <th>32</th>\n",
       "      <th>33</th>\n",
       "      <th>34</th>\n",
       "      <th>35</th>\n",
       "      <th>36</th>\n",
       "      <th>37</th>\n",
       "    </tr>\n",
       "  </thead>\n",
       "  <tbody>\n",
       "    <tr>\n",
       "      <th>0</th>\n",
       "      <td>Contig_29981</td>\n",
       "      <td>62</td>\n",
       "      <td>0</td>\n",
       "      <td>1</td>\n",
       "      <td>0</td>\n",
       "      <td>0</td>\n",
       "      <td>0</td>\n",
       "      <td>0</td>\n",
       "      <td>0</td>\n",
       "      <td>0</td>\n",
       "      <td>...</td>\n",
       "      <td>0</td>\n",
       "      <td>1</td>\n",
       "      <td>2</td>\n",
       "      <td>0</td>\n",
       "      <td>1</td>\n",
       "      <td>0</td>\n",
       "      <td>1</td>\n",
       "      <td>0</td>\n",
       "      <td>1</td>\n",
       "      <td>1</td>\n",
       "    </tr>\n",
       "    <tr>\n",
       "      <th>1</th>\n",
       "      <td>Contig_29981</td>\n",
       "      <td>63</td>\n",
       "      <td>1</td>\n",
       "      <td>1</td>\n",
       "      <td>0</td>\n",
       "      <td>0</td>\n",
       "      <td>0</td>\n",
       "      <td>1</td>\n",
       "      <td>0</td>\n",
       "      <td>0</td>\n",
       "      <td>...</td>\n",
       "      <td>0</td>\n",
       "      <td>1</td>\n",
       "      <td>3</td>\n",
       "      <td>0</td>\n",
       "      <td>1</td>\n",
       "      <td>0</td>\n",
       "      <td>1</td>\n",
       "      <td>0</td>\n",
       "      <td>1</td>\n",
       "      <td>1</td>\n",
       "    </tr>\n",
       "    <tr>\n",
       "      <th>2</th>\n",
       "      <td>Contig_29981</td>\n",
       "      <td>64</td>\n",
       "      <td>1</td>\n",
       "      <td>1</td>\n",
       "      <td>0</td>\n",
       "      <td>0</td>\n",
       "      <td>0</td>\n",
       "      <td>1</td>\n",
       "      <td>0</td>\n",
       "      <td>0</td>\n",
       "      <td>...</td>\n",
       "      <td>0</td>\n",
       "      <td>1</td>\n",
       "      <td>3</td>\n",
       "      <td>0</td>\n",
       "      <td>1</td>\n",
       "      <td>0</td>\n",
       "      <td>1</td>\n",
       "      <td>0</td>\n",
       "      <td>1</td>\n",
       "      <td>1</td>\n",
       "    </tr>\n",
       "    <tr>\n",
       "      <th>3</th>\n",
       "      <td>Contig_29981</td>\n",
       "      <td>65</td>\n",
       "      <td>1</td>\n",
       "      <td>1</td>\n",
       "      <td>0</td>\n",
       "      <td>0</td>\n",
       "      <td>0</td>\n",
       "      <td>1</td>\n",
       "      <td>0</td>\n",
       "      <td>0</td>\n",
       "      <td>...</td>\n",
       "      <td>0</td>\n",
       "      <td>1</td>\n",
       "      <td>3</td>\n",
       "      <td>0</td>\n",
       "      <td>1</td>\n",
       "      <td>0</td>\n",
       "      <td>1</td>\n",
       "      <td>0</td>\n",
       "      <td>1</td>\n",
       "      <td>1</td>\n",
       "    </tr>\n",
       "    <tr>\n",
       "      <th>4</th>\n",
       "      <td>Contig_29981</td>\n",
       "      <td>66</td>\n",
       "      <td>1</td>\n",
       "      <td>1</td>\n",
       "      <td>0</td>\n",
       "      <td>0</td>\n",
       "      <td>0</td>\n",
       "      <td>1</td>\n",
       "      <td>0</td>\n",
       "      <td>0</td>\n",
       "      <td>...</td>\n",
       "      <td>2</td>\n",
       "      <td>1</td>\n",
       "      <td>3</td>\n",
       "      <td>0</td>\n",
       "      <td>1</td>\n",
       "      <td>0</td>\n",
       "      <td>2</td>\n",
       "      <td>0</td>\n",
       "      <td>1</td>\n",
       "      <td>2</td>\n",
       "    </tr>\n",
       "    <tr>\n",
       "      <th>5</th>\n",
       "      <td>Contig_29981</td>\n",
       "      <td>67</td>\n",
       "      <td>1</td>\n",
       "      <td>1</td>\n",
       "      <td>1</td>\n",
       "      <td>0</td>\n",
       "      <td>0</td>\n",
       "      <td>1</td>\n",
       "      <td>0</td>\n",
       "      <td>0</td>\n",
       "      <td>...</td>\n",
       "      <td>2</td>\n",
       "      <td>1</td>\n",
       "      <td>3</td>\n",
       "      <td>0</td>\n",
       "      <td>1</td>\n",
       "      <td>0</td>\n",
       "      <td>2</td>\n",
       "      <td>0</td>\n",
       "      <td>1</td>\n",
       "      <td>2</td>\n",
       "    </tr>\n",
       "  </tbody>\n",
       "</table>\n",
       "<p>6 rows × 38 columns</p>\n",
       "</div>"
      ],
      "text/plain": [
       "             0   1   2   3   4   5   6   7   8   9  ...  28  29  30  31  32  \\\n",
       "0  Contig_29981  62   0   1   0   0   0   0   0   0 ...   0   1   2   0   1   \n",
       "1  Contig_29981  63   1   1   0   0   0   1   0   0 ...   0   1   3   0   1   \n",
       "2  Contig_29981  64   1   1   0   0   0   1   0   0 ...   0   1   3   0   1   \n",
       "3  Contig_29981  65   1   1   0   0   0   1   0   0 ...   0   1   3   0   1   \n",
       "4  Contig_29981  66   1   1   0   0   0   1   0   0 ...   2   1   3   0   1   \n",
       "5  Contig_29981  67   1   1   1   0   0   1   0   0 ...   2   1   3   0   1   \n",
       "\n",
       "   33  34  35  36  37  \n",
       "0   0   1   0   1   1  \n",
       "1   0   1   0   1   1  \n",
       "2   0   1   0   1   1  \n",
       "3   0   1   0   1   1  \n",
       "4   0   2   0   1   2  \n",
       "5   0   2   0   1   2  \n",
       "\n",
       "[6 rows x 38 columns]"
      ]
     },
     "execution_count": 31,
     "metadata": {},
     "output_type": "execute_result"
    }
   ],
   "source": [
    "filtered_sites_df.head(6)"
   ]
  },
  {
   "cell_type": "code",
   "execution_count": 52,
   "metadata": {
    "collapsed": false
   },
   "outputs": [
    {
     "data": {
      "text/html": [
       "<div>\n",
       "<table border=\"1\" class=\"dataframe\">\n",
       "  <thead>\n",
       "    <tr style=\"text-align: right;\">\n",
       "      <th></th>\n",
       "      <th>2</th>\n",
       "      <th>3</th>\n",
       "      <th>4</th>\n",
       "      <th>5</th>\n",
       "      <th>6</th>\n",
       "      <th>7</th>\n",
       "      <th>8</th>\n",
       "      <th>9</th>\n",
       "      <th>10</th>\n",
       "      <th>11</th>\n",
       "      <th>...</th>\n",
       "      <th>29</th>\n",
       "      <th>30</th>\n",
       "      <th>31</th>\n",
       "      <th>32</th>\n",
       "      <th>33</th>\n",
       "      <th>34</th>\n",
       "      <th>35</th>\n",
       "      <th>36</th>\n",
       "      <th>37</th>\n",
       "      <th>rowsums</th>\n",
       "    </tr>\n",
       "  </thead>\n",
       "  <tbody>\n",
       "    <tr>\n",
       "      <th>count</th>\n",
       "      <td>768439.000000</td>\n",
       "      <td>768439.000000</td>\n",
       "      <td>768439.000000</td>\n",
       "      <td>768439.000000</td>\n",
       "      <td>768439.000000</td>\n",
       "      <td>768439.000000</td>\n",
       "      <td>768439.000000</td>\n",
       "      <td>768439.000000</td>\n",
       "      <td>768439.000000</td>\n",
       "      <td>768439.000000</td>\n",
       "      <td>...</td>\n",
       "      <td>768439.000000</td>\n",
       "      <td>768439.000000</td>\n",
       "      <td>768439.000000</td>\n",
       "      <td>768439.000000</td>\n",
       "      <td>768439.000000</td>\n",
       "      <td>768439.000000</td>\n",
       "      <td>768439.000000</td>\n",
       "      <td>768439.000000</td>\n",
       "      <td>768439.000000</td>\n",
       "      <td>768439.000000</td>\n",
       "    </tr>\n",
       "    <tr>\n",
       "      <th>mean</th>\n",
       "      <td>1.167860</td>\n",
       "      <td>1.015306</td>\n",
       "      <td>0.753552</td>\n",
       "      <td>0.656704</td>\n",
       "      <td>0.745813</td>\n",
       "      <td>1.057225</td>\n",
       "      <td>0.776393</td>\n",
       "      <td>0.826999</td>\n",
       "      <td>1.071782</td>\n",
       "      <td>0.732000</td>\n",
       "      <td>...</td>\n",
       "      <td>0.157331</td>\n",
       "      <td>0.617698</td>\n",
       "      <td>0.488221</td>\n",
       "      <td>0.376844</td>\n",
       "      <td>0.665720</td>\n",
       "      <td>0.471577</td>\n",
       "      <td>0.573826</td>\n",
       "      <td>0.505520</td>\n",
       "      <td>0.436007</td>\n",
       "      <td>24.882657</td>\n",
       "    </tr>\n",
       "    <tr>\n",
       "      <th>std</th>\n",
       "      <td>1.097446</td>\n",
       "      <td>1.038127</td>\n",
       "      <td>0.848031</td>\n",
       "      <td>0.813949</td>\n",
       "      <td>0.850852</td>\n",
       "      <td>1.052558</td>\n",
       "      <td>0.862380</td>\n",
       "      <td>0.881021</td>\n",
       "      <td>1.060491</td>\n",
       "      <td>0.846936</td>\n",
       "      <td>...</td>\n",
       "      <td>0.364112</td>\n",
       "      <td>0.799100</td>\n",
       "      <td>0.662680</td>\n",
       "      <td>0.597334</td>\n",
       "      <td>0.822146</td>\n",
       "      <td>0.657744</td>\n",
       "      <td>0.780464</td>\n",
       "      <td>0.663774</td>\n",
       "      <td>0.630392</td>\n",
       "      <td>5.631689</td>\n",
       "    </tr>\n",
       "    <tr>\n",
       "      <th>min</th>\n",
       "      <td>0.000000</td>\n",
       "      <td>0.000000</td>\n",
       "      <td>0.000000</td>\n",
       "      <td>0.000000</td>\n",
       "      <td>0.000000</td>\n",
       "      <td>0.000000</td>\n",
       "      <td>0.000000</td>\n",
       "      <td>0.000000</td>\n",
       "      <td>0.000000</td>\n",
       "      <td>0.000000</td>\n",
       "      <td>...</td>\n",
       "      <td>0.000000</td>\n",
       "      <td>0.000000</td>\n",
       "      <td>0.000000</td>\n",
       "      <td>0.000000</td>\n",
       "      <td>0.000000</td>\n",
       "      <td>0.000000</td>\n",
       "      <td>0.000000</td>\n",
       "      <td>0.000000</td>\n",
       "      <td>0.000000</td>\n",
       "      <td>15.000000</td>\n",
       "    </tr>\n",
       "    <tr>\n",
       "      <th>25%</th>\n",
       "      <td>0.000000</td>\n",
       "      <td>0.000000</td>\n",
       "      <td>0.000000</td>\n",
       "      <td>0.000000</td>\n",
       "      <td>0.000000</td>\n",
       "      <td>0.000000</td>\n",
       "      <td>0.000000</td>\n",
       "      <td>0.000000</td>\n",
       "      <td>0.000000</td>\n",
       "      <td>0.000000</td>\n",
       "      <td>...</td>\n",
       "      <td>0.000000</td>\n",
       "      <td>0.000000</td>\n",
       "      <td>0.000000</td>\n",
       "      <td>0.000000</td>\n",
       "      <td>0.000000</td>\n",
       "      <td>0.000000</td>\n",
       "      <td>0.000000</td>\n",
       "      <td>0.000000</td>\n",
       "      <td>0.000000</td>\n",
       "      <td>21.000000</td>\n",
       "    </tr>\n",
       "    <tr>\n",
       "      <th>50%</th>\n",
       "      <td>1.000000</td>\n",
       "      <td>1.000000</td>\n",
       "      <td>1.000000</td>\n",
       "      <td>0.000000</td>\n",
       "      <td>1.000000</td>\n",
       "      <td>1.000000</td>\n",
       "      <td>1.000000</td>\n",
       "      <td>1.000000</td>\n",
       "      <td>1.000000</td>\n",
       "      <td>1.000000</td>\n",
       "      <td>...</td>\n",
       "      <td>0.000000</td>\n",
       "      <td>0.000000</td>\n",
       "      <td>0.000000</td>\n",
       "      <td>0.000000</td>\n",
       "      <td>0.000000</td>\n",
       "      <td>0.000000</td>\n",
       "      <td>0.000000</td>\n",
       "      <td>0.000000</td>\n",
       "      <td>0.000000</td>\n",
       "      <td>24.000000</td>\n",
       "    </tr>\n",
       "    <tr>\n",
       "      <th>75%</th>\n",
       "      <td>2.000000</td>\n",
       "      <td>2.000000</td>\n",
       "      <td>1.000000</td>\n",
       "      <td>1.000000</td>\n",
       "      <td>1.000000</td>\n",
       "      <td>2.000000</td>\n",
       "      <td>1.000000</td>\n",
       "      <td>1.000000</td>\n",
       "      <td>2.000000</td>\n",
       "      <td>1.000000</td>\n",
       "      <td>...</td>\n",
       "      <td>0.000000</td>\n",
       "      <td>1.000000</td>\n",
       "      <td>1.000000</td>\n",
       "      <td>1.000000</td>\n",
       "      <td>1.000000</td>\n",
       "      <td>1.000000</td>\n",
       "      <td>1.000000</td>\n",
       "      <td>1.000000</td>\n",
       "      <td>1.000000</td>\n",
       "      <td>28.000000</td>\n",
       "    </tr>\n",
       "    <tr>\n",
       "      <th>max</th>\n",
       "      <td>4.000000</td>\n",
       "      <td>4.000000</td>\n",
       "      <td>3.000000</td>\n",
       "      <td>3.000000</td>\n",
       "      <td>3.000000</td>\n",
       "      <td>4.000000</td>\n",
       "      <td>3.000000</td>\n",
       "      <td>3.000000</td>\n",
       "      <td>4.000000</td>\n",
       "      <td>3.000000</td>\n",
       "      <td>...</td>\n",
       "      <td>1.000000</td>\n",
       "      <td>3.000000</td>\n",
       "      <td>2.000000</td>\n",
       "      <td>2.000000</td>\n",
       "      <td>3.000000</td>\n",
       "      <td>2.000000</td>\n",
       "      <td>3.000000</td>\n",
       "      <td>2.000000</td>\n",
       "      <td>2.000000</td>\n",
       "      <td>60.000000</td>\n",
       "    </tr>\n",
       "  </tbody>\n",
       "</table>\n",
       "<p>8 rows × 37 columns</p>\n",
       "</div>"
      ],
      "text/plain": [
       "                   2              3              4              5  \\\n",
       "count  768439.000000  768439.000000  768439.000000  768439.000000   \n",
       "mean        1.167860       1.015306       0.753552       0.656704   \n",
       "std         1.097446       1.038127       0.848031       0.813949   \n",
       "min         0.000000       0.000000       0.000000       0.000000   \n",
       "25%         0.000000       0.000000       0.000000       0.000000   \n",
       "50%         1.000000       1.000000       1.000000       0.000000   \n",
       "75%         2.000000       2.000000       1.000000       1.000000   \n",
       "max         4.000000       4.000000       3.000000       3.000000   \n",
       "\n",
       "                   6              7              8              9  \\\n",
       "count  768439.000000  768439.000000  768439.000000  768439.000000   \n",
       "mean        0.745813       1.057225       0.776393       0.826999   \n",
       "std         0.850852       1.052558       0.862380       0.881021   \n",
       "min         0.000000       0.000000       0.000000       0.000000   \n",
       "25%         0.000000       0.000000       0.000000       0.000000   \n",
       "50%         1.000000       1.000000       1.000000       1.000000   \n",
       "75%         1.000000       2.000000       1.000000       1.000000   \n",
       "max         3.000000       4.000000       3.000000       3.000000   \n",
       "\n",
       "                  10             11      ...                   29  \\\n",
       "count  768439.000000  768439.000000      ...        768439.000000   \n",
       "mean        1.071782       0.732000      ...             0.157331   \n",
       "std         1.060491       0.846936      ...             0.364112   \n",
       "min         0.000000       0.000000      ...             0.000000   \n",
       "25%         0.000000       0.000000      ...             0.000000   \n",
       "50%         1.000000       1.000000      ...             0.000000   \n",
       "75%         2.000000       1.000000      ...             0.000000   \n",
       "max         4.000000       3.000000      ...             1.000000   \n",
       "\n",
       "                  30             31             32             33  \\\n",
       "count  768439.000000  768439.000000  768439.000000  768439.000000   \n",
       "mean        0.617698       0.488221       0.376844       0.665720   \n",
       "std         0.799100       0.662680       0.597334       0.822146   \n",
       "min         0.000000       0.000000       0.000000       0.000000   \n",
       "25%         0.000000       0.000000       0.000000       0.000000   \n",
       "50%         0.000000       0.000000       0.000000       0.000000   \n",
       "75%         1.000000       1.000000       1.000000       1.000000   \n",
       "max         3.000000       2.000000       2.000000       3.000000   \n",
       "\n",
       "                  34             35             36             37  \\\n",
       "count  768439.000000  768439.000000  768439.000000  768439.000000   \n",
       "mean        0.471577       0.573826       0.505520       0.436007   \n",
       "std         0.657744       0.780464       0.663774       0.630392   \n",
       "min         0.000000       0.000000       0.000000       0.000000   \n",
       "25%         0.000000       0.000000       0.000000       0.000000   \n",
       "50%         0.000000       0.000000       0.000000       0.000000   \n",
       "75%         1.000000       1.000000       1.000000       1.000000   \n",
       "max         2.000000       3.000000       2.000000       2.000000   \n",
       "\n",
       "             rowsums  \n",
       "count  768439.000000  \n",
       "mean       24.882657  \n",
       "std         5.631689  \n",
       "min        15.000000  \n",
       "25%        21.000000  \n",
       "50%        24.000000  \n",
       "75%        28.000000  \n",
       "max        60.000000  \n",
       "\n",
       "[8 rows x 37 columns]"
      ]
     },
     "execution_count": 52,
     "metadata": {},
     "output_type": "execute_result"
    }
   ],
   "source": [
    "# get basix statistics from the coverage table\n",
    "\n",
    "filtered_sites_df.iloc[:, 2:].describe()"
   ]
  },
  {
   "cell_type": "markdown",
   "metadata": {},
   "source": [
    "As can bee seen from this table, the maximum coverage any individual gets for a site is 4x."
   ]
  },
  {
   "cell_type": "code",
   "execution_count": 19,
   "metadata": {
    "collapsed": false
   },
   "outputs": [
    {
     "data": {
      "text/plain": [
       "0     object\n",
       "1      int64\n",
       "2      int64\n",
       "3      int64\n",
       "4      int64\n",
       "5      int64\n",
       "6      int64\n",
       "7      int64\n",
       "8      int64\n",
       "9      int64\n",
       "10     int64\n",
       "11     int64\n",
       "12     int64\n",
       "13     int64\n",
       "14     int64\n",
       "15     int64\n",
       "16     int64\n",
       "17     int64\n",
       "18     int64\n",
       "19     int64\n",
       "20     int64\n",
       "21     int64\n",
       "22     int64\n",
       "23     int64\n",
       "24     int64\n",
       "25     int64\n",
       "26     int64\n",
       "27     int64\n",
       "28     int64\n",
       "29     int64\n",
       "30     int64\n",
       "31     int64\n",
       "32     int64\n",
       "33     int64\n",
       "34     int64\n",
       "35     int64\n",
       "36     int64\n",
       "37     int64\n",
       "dtype: object"
      ]
     },
     "execution_count": 19,
     "metadata": {},
     "output_type": "execute_result"
    }
   ],
   "source": [
    "filtered_sites_df.dtypes"
   ]
  },
  {
   "cell_type": "code",
   "execution_count": 23,
   "metadata": {
    "collapsed": true
   },
   "outputs": [],
   "source": [
    "%matplotlib inline"
   ]
  },
  {
   "cell_type": "code",
   "execution_count": 25,
   "metadata": {
    "collapsed": false
   },
   "outputs": [],
   "source": [
    "import matplotlib.pyplot as plt"
   ]
  },
  {
   "cell_type": "code",
   "execution_count": 26,
   "metadata": {
    "collapsed": true
   },
   "outputs": [],
   "source": [
    "import matplotlib\n",
    "matplotlib.style.use('ggplot')"
   ]
  },
  {
   "cell_type": "code",
   "execution_count": 27,
   "metadata": {
    "collapsed": true
   },
   "outputs": [],
   "source": [
    "import numpy as np"
   ]
  },
  {
   "cell_type": "code",
   "execution_count": 32,
   "metadata": {
    "collapsed": false
   },
   "outputs": [
    {
     "data": {
      "text/plain": [
       "<matplotlib.axes._subplots.AxesSubplot at 0x7f665a0b6a50>"
      ]
     },
     "execution_count": 32,
     "metadata": {},
     "output_type": "execute_result"
    },
    {
     "data": {
      "image/png": "[encoded data removed]",
      "text/plain": [
       "<matplotlib.figure.Figure at 0x7f667715c250>"
      ]
     },
     "metadata": {},
     "output_type": "display_data"
    }
   ],
   "source": [
    "filtered_sites_df[2].plot.hist()"
   ]
  },
  {
   "cell_type": "code",
   "execution_count": 39,
   "metadata": {
    "collapsed": true
   },
   "outputs": [],
   "source": [
    "# get global coverage for each site\n",
    "\n",
    "filtered_sites_df['rowsums'] = pd.Series(filtered_sites_df.iloc[:, 2:].sum(axis=1)) # axis=1 means sum over columns"
   ]
  },
  {
   "cell_type": "code",
   "execution_count": 40,
   "metadata": {
    "collapsed": false
   },
   "outputs": [
    {
     "data": {
      "text/html": [
       "<div>\n",
       "<table border=\"1\" class=\"dataframe\">\n",
       "  <thead>\n",
       "    <tr style=\"text-align: right;\">\n",
       "      <th></th>\n",
       "      <th>0</th>\n",
       "      <th>1</th>\n",
       "      <th>2</th>\n",
       "      <th>3</th>\n",
       "      <th>4</th>\n",
       "      <th>5</th>\n",
       "      <th>6</th>\n",
       "      <th>7</th>\n",
       "      <th>8</th>\n",
       "      <th>9</th>\n",
       "      <th>...</th>\n",
       "      <th>29</th>\n",
       "      <th>30</th>\n",
       "      <th>31</th>\n",
       "      <th>32</th>\n",
       "      <th>33</th>\n",
       "      <th>34</th>\n",
       "      <th>35</th>\n",
       "      <th>36</th>\n",
       "      <th>37</th>\n",
       "      <th>rowsums</th>\n",
       "    </tr>\n",
       "  </thead>\n",
       "  <tbody>\n",
       "    <tr>\n",
       "      <th>0</th>\n",
       "      <td>Contig_29981</td>\n",
       "      <td>62</td>\n",
       "      <td>0</td>\n",
       "      <td>1</td>\n",
       "      <td>0</td>\n",
       "      <td>0</td>\n",
       "      <td>0</td>\n",
       "      <td>0</td>\n",
       "      <td>0</td>\n",
       "      <td>0</td>\n",
       "      <td>...</td>\n",
       "      <td>1</td>\n",
       "      <td>2</td>\n",
       "      <td>0</td>\n",
       "      <td>1</td>\n",
       "      <td>0</td>\n",
       "      <td>1</td>\n",
       "      <td>0</td>\n",
       "      <td>1</td>\n",
       "      <td>1</td>\n",
       "      <td>19</td>\n",
       "    </tr>\n",
       "    <tr>\n",
       "      <th>1</th>\n",
       "      <td>Contig_29981</td>\n",
       "      <td>63</td>\n",
       "      <td>1</td>\n",
       "      <td>1</td>\n",
       "      <td>0</td>\n",
       "      <td>0</td>\n",
       "      <td>0</td>\n",
       "      <td>1</td>\n",
       "      <td>0</td>\n",
       "      <td>0</td>\n",
       "      <td>...</td>\n",
       "      <td>1</td>\n",
       "      <td>3</td>\n",
       "      <td>0</td>\n",
       "      <td>1</td>\n",
       "      <td>0</td>\n",
       "      <td>1</td>\n",
       "      <td>0</td>\n",
       "      <td>1</td>\n",
       "      <td>1</td>\n",
       "      <td>25</td>\n",
       "    </tr>\n",
       "    <tr>\n",
       "      <th>2</th>\n",
       "      <td>Contig_29981</td>\n",
       "      <td>64</td>\n",
       "      <td>1</td>\n",
       "      <td>1</td>\n",
       "      <td>0</td>\n",
       "      <td>0</td>\n",
       "      <td>0</td>\n",
       "      <td>1</td>\n",
       "      <td>0</td>\n",
       "      <td>0</td>\n",
       "      <td>...</td>\n",
       "      <td>1</td>\n",
       "      <td>3</td>\n",
       "      <td>0</td>\n",
       "      <td>1</td>\n",
       "      <td>0</td>\n",
       "      <td>1</td>\n",
       "      <td>0</td>\n",
       "      <td>1</td>\n",
       "      <td>1</td>\n",
       "      <td>25</td>\n",
       "    </tr>\n",
       "    <tr>\n",
       "      <th>3</th>\n",
       "      <td>Contig_29981</td>\n",
       "      <td>65</td>\n",
       "      <td>1</td>\n",
       "      <td>1</td>\n",
       "      <td>0</td>\n",
       "      <td>0</td>\n",
       "      <td>0</td>\n",
       "      <td>1</td>\n",
       "      <td>0</td>\n",
       "      <td>0</td>\n",
       "      <td>...</td>\n",
       "      <td>1</td>\n",
       "      <td>3</td>\n",
       "      <td>0</td>\n",
       "      <td>1</td>\n",
       "      <td>0</td>\n",
       "      <td>1</td>\n",
       "      <td>0</td>\n",
       "      <td>1</td>\n",
       "      <td>1</td>\n",
       "      <td>27</td>\n",
       "    </tr>\n",
       "    <tr>\n",
       "      <th>4</th>\n",
       "      <td>Contig_29981</td>\n",
       "      <td>66</td>\n",
       "      <td>1</td>\n",
       "      <td>1</td>\n",
       "      <td>0</td>\n",
       "      <td>0</td>\n",
       "      <td>0</td>\n",
       "      <td>1</td>\n",
       "      <td>0</td>\n",
       "      <td>0</td>\n",
       "      <td>...</td>\n",
       "      <td>1</td>\n",
       "      <td>3</td>\n",
       "      <td>0</td>\n",
       "      <td>1</td>\n",
       "      <td>0</td>\n",
       "      <td>2</td>\n",
       "      <td>0</td>\n",
       "      <td>1</td>\n",
       "      <td>2</td>\n",
       "      <td>31</td>\n",
       "    </tr>\n",
       "  </tbody>\n",
       "</table>\n",
       "<p>5 rows × 39 columns</p>\n",
       "</div>"
      ],
      "text/plain": [
       "              0   1  2  3  4  5  6  7  8  9   ...     29  30  31  32  33  34  \\\n",
       "0  Contig_29981  62  0  1  0  0  0  0  0  0   ...      1   2   0   1   0   1   \n",
       "1  Contig_29981  63  1  1  0  0  0  1  0  0   ...      1   3   0   1   0   1   \n",
       "2  Contig_29981  64  1  1  0  0  0  1  0  0   ...      1   3   0   1   0   1   \n",
       "3  Contig_29981  65  1  1  0  0  0  1  0  0   ...      1   3   0   1   0   1   \n",
       "4  Contig_29981  66  1  1  0  0  0  1  0  0   ...      1   3   0   1   0   2   \n",
       "\n",
       "   35  36  37  rowsums  \n",
       "0   0   1   1       19  \n",
       "1   0   1   1       25  \n",
       "2   0   1   1       25  \n",
       "3   0   1   1       27  \n",
       "4   0   1   2       31  \n",
       "\n",
       "[5 rows x 39 columns]"
      ]
     },
     "execution_count": 40,
     "metadata": {},
     "output_type": "execute_result"
    }
   ],
   "source": [
    "filtered_sites_df.head()"
   ]
  },
  {
   "cell_type": "code",
   "execution_count": 57,
   "metadata": {
    "collapsed": false
   },
   "outputs": [
    {
     "data": {
      "image/png": "[encoded data removed]",
      "text/plain": [
       "<matplotlib.figure.Figure at 0x7f664d366410>"
      ]
     },
     "metadata": {},
     "output_type": "display_data"
    }
   ],
   "source": [
    "filtered_sites_df['rowsums'].plot.hist(figsize=(14,12), bins=100, color='k', fontsize=14)\n",
    "plt.xlim(0, 60)\n",
    "plt.xlabel(\"global coverage\")\n",
    "plt.ylabel(\"count of sites\")\n",
    "plt.title(\"global coverage distribution\")\n",
    "plt.savefig(\"global_coverage_dist_covFilteredSites.pdf\")"
   ]
  },
  {
   "cell_type": "markdown",
   "metadata": {},
   "source": [
    "## Code optimisation"
   ]
  },
  {
   "cell_type": "markdown",
   "metadata": {},
   "source": [
    "### unoptimised"
   ]
  },
  {
   "cell_type": "markdown",
   "metadata": {},
   "source": [
    "Restart kernel now!"
   ]
  },
  {
   "cell_type": "code",
   "execution_count": 1,
   "metadata": {
    "collapsed": false
   },
   "outputs": [
    {
     "name": "stdout",
     "output_type": "stream",
     "text": [
      "Interactive namespace is empty.\n"
     ]
    }
   ],
   "source": [
    "%who"
   ]
  },
  {
   "cell_type": "markdown",
   "metadata": {},
   "source": [
    "Define percentile funciton:"
   ]
  },
  {
   "cell_type": "code",
   "execution_count": 2,
   "metadata": {
    "collapsed": true
   },
   "outputs": [],
   "source": [
    "def compute_percentile_from_dict(my_dict, percentile):\n",
    "    \"\"\"\n",
    "    my_dict : dictionary, containing depths as keys and their counts as values\n",
    "    percentile : float in range of [0,100], percentile to compute, which must be between 0 and 100 inclusive.\n",
    "    \n",
    "    returns : key in my_dict that is less than or equal to the specified percentile of the distribution of \"keys\"\n",
    "            (i. e. values are counts) stored in my_dict\n",
    "    \"\"\"\n",
    "    assert percentile < 100 and percentile > 0, \"percentile must be a number between 0 and 100\"\n",
    "\n",
    "    # get sum of counts\n",
    "    total_cnt = sum(my_dict.values())\n",
    "    \n",
    "    perc = float() # initialise percentile of the coverage distribution\n",
    "    cum_cnt = float()\n",
    "    \n",
    "    for d in sorted(my_dict.keys(), reverse=True): # search from the upper tail of the distribution\n",
    "        cum_cnt += my_dict[d]\n",
    "        perc = cum_cnt / total_cnt * 100\n",
    "        if perc < (100 - percentile):\n",
    "            continue\n",
    "        else:\n",
    "            return d"
   ]
  },
  {
   "cell_type": "markdown",
   "metadata": {},
   "source": [
    "Open smaller test file:"
   ]
  },
  {
   "cell_type": "code",
   "execution_count": 3,
   "metadata": {
    "collapsed": true
   },
   "outputs": [],
   "source": [
    "import gzip\n",
    "\n",
    "# get open file handle for gzipped depth file\n",
    "\n",
    "depth_fh = gzip.open(\"samtools_depth_testFile.gz\")"
   ]
  },
  {
   "cell_type": "code",
   "execution_count": 18,
   "metadata": {
    "collapsed": true
   },
   "outputs": [],
   "source": [
    "from collections import defaultdict"
   ]
  },
  {
   "cell_type": "markdown",
   "metadata": {},
   "source": [
    "First read through file:"
   ]
  },
  {
   "cell_type": "code",
   "execution_count": 22,
   "metadata": {
    "collapsed": false
   },
   "outputs": [],
   "source": [
    "def first_run():\n",
    "    # initialisze global coverage count dictionary\n",
    "    global global_cov_dist\n",
    "    global_cov_dist = defaultdict(int)\n",
    "\n",
    "    depth_fh.seek(0) # go back to beginning of file\n",
    "\n",
    "    # initialise individual coverage count dictionaries\n",
    "    fields = depth_fh.readline().rstrip().split('\\t')\n",
    "    num_inds = len(fields[2:])\n",
    "    global ind_cov_dists\n",
    "    ind_cov_dists = dict([(ind, defaultdict(int)) for ind in range(num_inds)])\n",
    "\n",
    "    depth_fh.seek(0) # seek back to beginning of file\n",
    "\n",
    "    for line in depth_fh:\n",
    "        fields = line.rstrip().split('\\t')\n",
    "        depths = fields[2:]\n",
    "        # get global coverage\n",
    "        across_sample_depth = sum([int(d) for d in depths])\n",
    "        # count global coverages in dictionary\n",
    "        global_cov_dist[across_sample_depth] += 1\n",
    "        # count individual coverages in dictionaries\n",
    "        for ind, d in enumerate(depths):\n",
    "            ind_cov_dists[ind][int(d)] += 1 \n",
    "            \n",
    "    # set global coverage threshold to 90th percentile\n",
    "    global global_coverage_threshold\n",
    "    global_coverage_threshold = compute_percentile_from_dict(global_cov_dist, 90)\n",
    "    \n",
    "    # set indidivual coverage thresholds to 90th percentile\n",
    "    global ind_coverage_thresholds\n",
    "    ind_coverage_thresholds = [compute_percentile_from_dict(ind_cov_dists[ind], 90) for ind in range(num_inds)] "
   ]
  },
  {
   "cell_type": "markdown",
   "metadata": {},
   "source": [
    "Second read through file:"
   ]
  },
  {
   "cell_type": "code",
   "execution_count": 23,
   "metadata": {
    "collapsed": true
   },
   "outputs": [],
   "source": [
    "def second_run():\n",
    "    global sites_kept\n",
    "    sites_kept = 0\n",
    "\n",
    "    depth_fh.seek(0) # restart reading file from beginning\n",
    "\n",
    "    for line in depth_fh:\n",
    "        fields = line.rstrip().split('\\t')\n",
    "        depths = fields[2:]\n",
    "        across_sample_depth = sum([int(d) for d in depths])\n",
    "        if across_sample_depth > global_coverage_threshold:\n",
    "            continue\n",
    "        excess_depth = False\n",
    "        sufficient_depth = 0\n",
    "        for ind, d in enumerate(depths):\n",
    "            if int(d) > ind_coverage_thresholds[ind]:\n",
    "                excess_depth = True\n",
    "                break\n",
    "            elif int(d) > 0:\n",
    "                sufficient_depth += 1\n",
    "        if not excess_depth and sufficient_depth >= 15:\n",
    "            sites_kept += 1"
   ]
  },
  {
   "cell_type": "code",
   "execution_count": 24,
   "metadata": {
    "collapsed": false
   },
   "outputs": [
    {
     "name": "stdout",
     "output_type": "stream",
     "text": [
      "149648\n",
      "CPU times: user 2min 12s, sys: 92 ms, total: 2min 12s\n",
      "Wall time: 2min 12s\n"
     ]
    }
   ],
   "source": [
    "%%time\n",
    "\n",
    "first_run()\n",
    "second_run()\n",
    "print sites_kept"
   ]
  },
  {
   "cell_type": "markdown",
   "metadata": {
    "collapsed": true
   },
   "source": [
    "This is the time of the unoptimised code."
   ]
  },
  {
   "cell_type": "markdown",
   "metadata": {},
   "source": [
    "### optimised"
   ]
  },
  {
   "cell_type": "markdown",
   "metadata": {},
   "source": [
    "Reduce the number of `for` loops:"
   ]
  },
  {
   "cell_type": "code",
   "execution_count": 25,
   "metadata": {
    "collapsed": true
   },
   "outputs": [],
   "source": [
    "def first_run():\n",
    "    \"\"\"\n",
    "    first run through depth file\n",
    "    \"\"\"\n",
    "    # initialisze global coverage count dictionary\n",
    "    global global_cov_dist\n",
    "    global_cov_dist = defaultdict(int)\n",
    "\n",
    "    depth_fh.seek(0) # go back to beginning of file\n",
    "\n",
    "    # initialise individual coverage count dictionaries\n",
    "    fields = depth_fh.readline().rstrip().split('\\t')\n",
    "    num_inds = len(fields[2:])\n",
    "    global ind_cov_dists\n",
    "    ind_cov_dists = dict([(ind, defaultdict(int)) for ind in range(num_inds)])\n",
    "\n",
    "    depth_fh.seek(0) # seek back to beginning of file\n",
    "\n",
    "    for line in depth_fh:\n",
    "        fields = line.rstrip().split('\\t')\n",
    "        depths = fields[2:]\n",
    "        # get global coverage\n",
    "        across_sample_depth = 0\n",
    "        # count individual coverages in dictionaries\n",
    "        for ind, d in enumerate(depths):\n",
    "            ind_cov_dists[ind][int(d)] += 1\n",
    "            across_sample_depth += int(d)\n",
    "        # count global coverages in dictionary\n",
    "        global_cov_dist[across_sample_depth] += 1\n",
    "            \n",
    "    # set global coverage threshold to 90th percentile\n",
    "    global global_coverage_threshold\n",
    "    global_coverage_threshold = compute_percentile_from_dict(global_cov_dist, 90)\n",
    "    \n",
    "    # set indidivual coverage thresholds to 90th percentile\n",
    "    global ind_coverage_thresholds\n",
    "    ind_coverage_thresholds = [compute_percentile_from_dict(ind_cov_dists[ind], 90) for ind in range(num_inds)] "
   ]
  },
  {
   "cell_type": "code",
   "execution_count": 26,
   "metadata": {
    "collapsed": true
   },
   "outputs": [],
   "source": [
    "def second_run():\n",
    "    \"\"\"\n",
    "    second run through depth file\n",
    "    \"\"\"\n",
    "    global sites_kept\n",
    "    sites_kept = 0\n",
    "\n",
    "    depth_fh.seek(0) # restart reading file from beginning\n",
    "\n",
    "    for line in depth_fh:\n",
    "        fields = line.rstrip().split('\\t')\n",
    "        depths = fields[2:]\n",
    "        excess_depth = False\n",
    "        sufficient_depth = 0\n",
    "        across_sample_depth = 0\n",
    "        for ind, d in enumerate(depths):\n",
    "            if int(d) > ind_coverage_thresholds[ind]:\n",
    "                excess_depth = True\n",
    "                break\n",
    "            elif int(d) > 0:\n",
    "                sufficient_depth += 1\n",
    "            across_sample_depth += int(d)\n",
    "        if not excess_depth and not across_sample_depth > global_coverage_threshold and sufficient_depth >= 15:\n",
    "            sites_kept += 1"
   ]
  },
  {
   "cell_type": "code",
   "execution_count": 27,
   "metadata": {
    "collapsed": false
   },
   "outputs": [
    {
     "name": "stdout",
     "output_type": "stream",
     "text": [
      "149648\n",
      "CPU times: user 1min 55s, sys: 32 ms, total: 1min 55s\n",
      "Wall time: 1min 55s\n"
     ]
    }
   ],
   "source": [
    "%%time\n",
    "\n",
    "first_run()\n",
    "second_run()\n",
    "print sites_kept"
   ]
  },
  {
   "cell_type": "markdown",
   "metadata": {},
   "source": [
    "This is only 17 seconds faster than the unoptimised code."
   ]
  },
  {
   "cell_type": "markdown",
   "metadata": {},
   "source": [
    "### Numba"
   ]
  },
  {
   "cell_type": "code",
   "execution_count": 28,
   "metadata": {
    "collapsed": true
   },
   "outputs": [],
   "source": [
    "import numpy as np\n",
    "from numba.decorators import jit"
   ]
  },
  {
   "cell_type": "code",
   "execution_count": 49,
   "metadata": {
    "collapsed": true
   },
   "outputs": [],
   "source": [
    "@jit\n",
    "def count_depths(depths):\n",
    "    across_sample_depth = 0\n",
    "    for ind, d in enumerate(depths):\n",
    "        ind_cov_dists[ind][int(d)] += 1\n",
    "        across_sample_depth += int(d)\n",
    "    return across_sample_depth"
   ]
  },
  {
   "cell_type": "code",
   "execution_count": 50,
   "metadata": {
    "collapsed": true
   },
   "outputs": [],
   "source": [
    "def first_run():\n",
    "    \"\"\"\n",
    "    first run through depth file\n",
    "    \"\"\"\n",
    "    # initialisze global coverage count dictionary\n",
    "    global global_cov_dist\n",
    "    global_cov_dist = defaultdict(int)\n",
    "\n",
    "    depth_fh.seek(0) # go back to beginning of file\n",
    "\n",
    "    # initialise individual coverage count dictionaries\n",
    "    fields = depth_fh.readline().rstrip().split('\\t')\n",
    "    num_inds = len(fields[2:])\n",
    "    global ind_cov_dists\n",
    "    ind_cov_dists = dict([(ind, defaultdict(int)) for ind in range(num_inds)])\n",
    "\n",
    "    depth_fh.seek(0) # seek back to beginning of file\n",
    "\n",
    "    for line in depth_fh:\n",
    "        fields = line.rstrip().split('\\t')\n",
    "        depths = np.array(fields[2:]) # create numpy array\n",
    "        # count depths\n",
    "        across_sample_depth = count_depths(depths) # numba function\n",
    "        # count global coverages in dictionary\n",
    "        global_cov_dist[across_sample_depth] += 1\n",
    "            \n",
    "    # set global coverage threshold to 90th percentile\n",
    "    global global_coverage_threshold\n",
    "    global_coverage_threshold = compute_percentile_from_dict(global_cov_dist, 90)\n",
    "    \n",
    "    # set indidivual coverage thresholds to 90th percentile\n",
    "    global ind_coverage_thresholds\n",
    "    ind_coverage_thresholds = [compute_percentile_from_dict(ind_cov_dists[ind], 90) for ind in range(num_inds)] "
   ]
  },
  {
   "cell_type": "code",
   "execution_count": 54,
   "metadata": {
    "collapsed": true
   },
   "outputs": [],
   "source": [
    "@jit\n",
    "def check_depths(depths):\n",
    "    across_sample_depth = 0\n",
    "    excess_depth = False\n",
    "    sufficient_depth = 0\n",
    "    for ind, d in enumerate(depths):\n",
    "        if int(d) > ind_coverage_thresholds[ind]:\n",
    "            excess_depth = True\n",
    "            return across_sample_depth, excess_depth, sufficient_depth\n",
    "        elif int(d) > 0:\n",
    "            sufficient_depth += 1\n",
    "        across_sample_depth += int(d)\n",
    "    return across_sample_depth, excess_depth, sufficient_depth"
   ]
  },
  {
   "cell_type": "code",
   "execution_count": 55,
   "metadata": {
    "collapsed": true
   },
   "outputs": [],
   "source": [
    "def second_run():\n",
    "    \"\"\"\n",
    "    second run through depth file\n",
    "    \"\"\"\n",
    "    global sites_kept\n",
    "    sites_kept = 0\n",
    "\n",
    "    depth_fh.seek(0) # restart reading file from beginning\n",
    "\n",
    "    for line in depth_fh:\n",
    "        fields = line.rstrip().split('\\t')\n",
    "        depths = np.array(fields[2:])\n",
    "\n",
    "        # check depths\n",
    "        across_sample_depth, excess_depth, sufficient_depth = check_depths(depths) # Numba function\n",
    "        \n",
    "        if not excess_depth and not across_sample_depth > global_coverage_threshold and sufficient_depth >= 15:\n",
    "            sites_kept += 1"
   ]
  },
  {
   "cell_type": "code",
   "execution_count": 56,
   "metadata": {
    "collapsed": false
   },
   "outputs": [
    {
     "name": "stdout",
     "output_type": "stream",
     "text": [
      "149648\n",
      "CPU times: user 6min 50s, sys: 272 ms, total: 6min 50s\n",
      "Wall time: 6min 49s\n"
     ]
    }
   ],
   "source": [
    "%%time\n",
    "\n",
    "first_run()\n",
    "second_run()\n",
    "print sites_kept"
   ]
  },
  {
   "cell_type": "markdown",
   "metadata": {
    "collapsed": true
   },
   "source": [
    "OK, this even took 3 times than the unoptimised version."
   ]
  },
  {
   "cell_type": "markdown",
   "metadata": {},
   "source": [
    "This may be because Numba is not optimising and falling back on python code. With the following function decorators I am forcing Numba to optimise or throw an exception."
   ]
  },
  {
   "cell_type": "code",
   "execution_count": 57,
   "metadata": {
    "collapsed": true
   },
   "outputs": [],
   "source": [
    "@jit(nopython=True)\n",
    "def count_depths(depths):\n",
    "    across_sample_depth = 0\n",
    "    for ind, d in enumerate(depths):\n",
    "        ind_cov_dists[ind][int(d)] += 1\n",
    "        across_sample_depth += int(d)\n",
    "    return across_sample_depth"
   ]
  },
  {
   "cell_type": "code",
   "execution_count": 58,
   "metadata": {
    "collapsed": true
   },
   "outputs": [],
   "source": [
    "@jit(nopython=True)\n",
    "def check_depths(depths):\n",
    "    across_sample_depth = 0\n",
    "    excess_depth = False\n",
    "    sufficient_depth = 0\n",
    "    for ind, d in enumerate(depths):\n",
    "        if int(d) > ind_coverage_thresholds[ind]:\n",
    "            excess_depth = True\n",
    "            return across_sample_depth, excess_depth, sufficient_depth\n",
    "        elif int(d) > 0:\n",
    "            sufficient_depth += 1\n",
    "        across_sample_depth += int(d)\n",
    "    return across_sample_depth, excess_depth, sufficient_depth"
   ]
  },
  {
   "cell_type": "code",
   "execution_count": 59,
   "metadata": {
    "collapsed": false
   },
   "outputs": [
    {
     "ename": "TypeError",
     "evalue": "Caused By:\nTraceback (most recent call last):\n  File \"/usr/local/anaconda2/lib/python2.7/site-packages/numba/compiler.py\", line 249, in run\n    stage()\n  File \"/usr/local/anaconda2/lib/python2.7/site-packages/numba/compiler.py\", line 465, in stage_nopython_frontend\n    self.locals)\n  File \"/usr/local/anaconda2/lib/python2.7/site-packages/numba/compiler.py\", line 788, in type_inference_stage\n    infer.build_constraint()\n  File \"/usr/local/anaconda2/lib/python2.7/site-packages/numba/typeinfer.py\", line 701, in build_constraint\n    self.constrain_statement(inst)\n  File \"/usr/local/anaconda2/lib/python2.7/site-packages/numba/typeinfer.py\", line 830, in constrain_statement\n    self.typeof_assign(inst)\n  File \"/usr/local/anaconda2/lib/python2.7/site-packages/numba/typeinfer.py\", line 888, in typeof_assign\n    self.typeof_global(inst, inst.target, value)\n  File \"/usr/local/anaconda2/lib/python2.7/site-packages/numba/typeinfer.py\", line 976, in typeof_global\n    typ = self.context.resolve_value_type(gvar.value)\n  File \"/usr/local/anaconda2/lib/python2.7/site-packages/numba/typing/context.py\", line 233, in resolve_value_type\n    return self._get_global_type(val)\n  File \"/usr/local/anaconda2/lib/python2.7/site-packages/numba/typing/context.py\", line 241, in _get_global_type\n    return self._lookup_global(gv)\n  File \"/usr/local/anaconda2/lib/python2.7/site-packages/numba/typing/context.py\", line 295, in _lookup_global\n    return self._globals[gv]\nTypeError: unhashable type: 'dict'\n\nFailed at nopython (nopython frontend)\nunhashable type: 'dict'",
     "output_type": "error",
     "traceback": [
      "\u001b[1;31m---------------------------------------------------------------------------\u001b[0m",
      "\u001b[1;31mTypeError\u001b[0m                                 Traceback (most recent call last)",
      "\u001b[1;32m<ipython-input-59-8cde644426b1>\u001b[0m in \u001b[0;36m<module>\u001b[1;34m()\u001b[0m\n\u001b[1;32m----> 1\u001b[1;33m \u001b[0mget_ipython\u001b[0m\u001b[1;33m(\u001b[0m\u001b[1;33m)\u001b[0m\u001b[1;33m.\u001b[0m\u001b[0mrun_cell_magic\u001b[0m\u001b[1;33m(\u001b[0m\u001b[1;34mu'time'\u001b[0m\u001b[1;33m,\u001b[0m \u001b[1;34mu''\u001b[0m\u001b[1;33m,\u001b[0m \u001b[1;34mu'\\nfirst_run()\\nsecond_run()\\nprint sites_kept'\u001b[0m\u001b[1;33m)\u001b[0m\u001b[1;33m\u001b[0m\u001b[0m\n\u001b[0m",
      "\u001b[1;32m/usr/local/anaconda2/lib/python2.7/site-packages/IPython/core/interactiveshell.pyc\u001b[0m in \u001b[0;36mrun_cell_magic\u001b[1;34m(self, magic_name, line, cell)\u001b[0m\n\u001b[0;32m   2118\u001b[0m             \u001b[0mmagic_arg_s\u001b[0m \u001b[1;33m=\u001b[0m \u001b[0mself\u001b[0m\u001b[1;33m.\u001b[0m\u001b[0mvar_expand\u001b[0m\u001b[1;33m(\u001b[0m\u001b[0mline\u001b[0m\u001b[1;33m,\u001b[0m \u001b[0mstack_depth\u001b[0m\u001b[1;33m)\u001b[0m\u001b[1;33m\u001b[0m\u001b[0m\n\u001b[0;32m   2119\u001b[0m             \u001b[1;32mwith\u001b[0m \u001b[0mself\u001b[0m\u001b[1;33m.\u001b[0m\u001b[0mbuiltin_trap\u001b[0m\u001b[1;33m:\u001b[0m\u001b[1;33m\u001b[0m\u001b[0m\n\u001b[1;32m-> 2120\u001b[1;33m                 \u001b[0mresult\u001b[0m \u001b[1;33m=\u001b[0m \u001b[0mfn\u001b[0m\u001b[1;33m(\u001b[0m\u001b[0mmagic_arg_s\u001b[0m\u001b[1;33m,\u001b[0m \u001b[0mcell\u001b[0m\u001b[1;33m)\u001b[0m\u001b[1;33m\u001b[0m\u001b[0m\n\u001b[0m\u001b[0;32m   2121\u001b[0m             \u001b[1;32mreturn\u001b[0m \u001b[0mresult\u001b[0m\u001b[1;33m\u001b[0m\u001b[0m\n\u001b[0;32m   2122\u001b[0m \u001b[1;33m\u001b[0m\u001b[0m\n",
      "\u001b[1;32m<decorator-gen-60>\u001b[0m in \u001b[0;36mtime\u001b[1;34m(self, line, cell, local_ns)\u001b[0m\n",
      "\u001b[1;32m/usr/local/anaconda2/lib/python2.7/site-packages/IPython/core/magic.pyc\u001b[0m in \u001b[0;36m<lambda>\u001b[1;34m(f, *a, **k)\u001b[0m\n\u001b[0;32m    191\u001b[0m     \u001b[1;31m# but it's overkill for just that one bit of state.\u001b[0m\u001b[1;33m\u001b[0m\u001b[1;33m\u001b[0m\u001b[0m\n\u001b[0;32m    192\u001b[0m     \u001b[1;32mdef\u001b[0m \u001b[0mmagic_deco\u001b[0m\u001b[1;33m(\u001b[0m\u001b[0marg\u001b[0m\u001b[1;33m)\u001b[0m\u001b[1;33m:\u001b[0m\u001b[1;33m\u001b[0m\u001b[0m\n\u001b[1;32m--> 193\u001b[1;33m         \u001b[0mcall\u001b[0m \u001b[1;33m=\u001b[0m \u001b[1;32mlambda\u001b[0m \u001b[0mf\u001b[0m\u001b[1;33m,\u001b[0m \u001b[1;33m*\u001b[0m\u001b[0ma\u001b[0m\u001b[1;33m,\u001b[0m \u001b[1;33m**\u001b[0m\u001b[0mk\u001b[0m\u001b[1;33m:\u001b[0m \u001b[0mf\u001b[0m\u001b[1;33m(\u001b[0m\u001b[1;33m*\u001b[0m\u001b[0ma\u001b[0m\u001b[1;33m,\u001b[0m \u001b[1;33m**\u001b[0m\u001b[0mk\u001b[0m\u001b[1;33m)\u001b[0m\u001b[1;33m\u001b[0m\u001b[0m\n\u001b[0m\u001b[0;32m    194\u001b[0m \u001b[1;33m\u001b[0m\u001b[0m\n\u001b[0;32m    195\u001b[0m         \u001b[1;32mif\u001b[0m \u001b[0mcallable\u001b[0m\u001b[1;33m(\u001b[0m\u001b[0marg\u001b[0m\u001b[1;33m)\u001b[0m\u001b[1;33m:\u001b[0m\u001b[1;33m\u001b[0m\u001b[0m\n",
      "\u001b[1;32m/usr/local/anaconda2/lib/python2.7/site-packages/IPython/core/magics/execution.pyc\u001b[0m in \u001b[0;36mtime\u001b[1;34m(self, line, cell, local_ns)\u001b[0m\n\u001b[0;32m   1175\u001b[0m         \u001b[1;32melse\u001b[0m\u001b[1;33m:\u001b[0m\u001b[1;33m\u001b[0m\u001b[0m\n\u001b[0;32m   1176\u001b[0m             \u001b[0mst\u001b[0m \u001b[1;33m=\u001b[0m \u001b[0mclock2\u001b[0m\u001b[1;33m(\u001b[0m\u001b[1;33m)\u001b[0m\u001b[1;33m\u001b[0m\u001b[0m\n\u001b[1;32m-> 1177\u001b[1;33m             \u001b[1;32mexec\u001b[0m\u001b[1;33m(\u001b[0m\u001b[0mcode\u001b[0m\u001b[1;33m,\u001b[0m \u001b[0mglob\u001b[0m\u001b[1;33m,\u001b[0m \u001b[0mlocal_ns\u001b[0m\u001b[1;33m)\u001b[0m\u001b[1;33m\u001b[0m\u001b[0m\n\u001b[0m\u001b[0;32m   1178\u001b[0m             \u001b[0mend\u001b[0m \u001b[1;33m=\u001b[0m \u001b[0mclock2\u001b[0m\u001b[1;33m(\u001b[0m\u001b[1;33m)\u001b[0m\u001b[1;33m\u001b[0m\u001b[0m\n\u001b[0;32m   1179\u001b[0m             \u001b[0mout\u001b[0m \u001b[1;33m=\u001b[0m \u001b[0mNone\u001b[0m\u001b[1;33m\u001b[0m\u001b[0m\n",
      "\u001b[1;32m<timed exec>\u001b[0m in \u001b[0;36m<module>\u001b[1;34m()\u001b[0m\n",
      "\u001b[1;32m<ipython-input-50-30a29d9b68b3>\u001b[0m in \u001b[0;36mfirst_run\u001b[1;34m()\u001b[0m\n\u001b[0;32m     21\u001b[0m         \u001b[0mdepths\u001b[0m \u001b[1;33m=\u001b[0m \u001b[0mnp\u001b[0m\u001b[1;33m.\u001b[0m\u001b[0marray\u001b[0m\u001b[1;33m(\u001b[0m\u001b[0mfields\u001b[0m\u001b[1;33m[\u001b[0m\u001b[1;36m2\u001b[0m\u001b[1;33m:\u001b[0m\u001b[1;33m]\u001b[0m\u001b[1;33m)\u001b[0m \u001b[1;31m# create numpy array\u001b[0m\u001b[1;33m\u001b[0m\u001b[0m\n\u001b[0;32m     22\u001b[0m         \u001b[1;31m# count depths\u001b[0m\u001b[1;33m\u001b[0m\u001b[1;33m\u001b[0m\u001b[0m\n\u001b[1;32m---> 23\u001b[1;33m         \u001b[0macross_sample_depth\u001b[0m \u001b[1;33m=\u001b[0m \u001b[0mcount_depths\u001b[0m\u001b[1;33m(\u001b[0m\u001b[0mdepths\u001b[0m\u001b[1;33m)\u001b[0m \u001b[1;31m# numba function\u001b[0m\u001b[1;33m\u001b[0m\u001b[0m\n\u001b[0m\u001b[0;32m     24\u001b[0m         \u001b[1;31m# count global coverages in dictionary\u001b[0m\u001b[1;33m\u001b[0m\u001b[1;33m\u001b[0m\u001b[0m\n\u001b[0;32m     25\u001b[0m         \u001b[0mglobal_cov_dist\u001b[0m\u001b[1;33m[\u001b[0m\u001b[0macross_sample_depth\u001b[0m\u001b[1;33m]\u001b[0m \u001b[1;33m+=\u001b[0m \u001b[1;36m1\u001b[0m\u001b[1;33m\u001b[0m\u001b[0m\n",
      "\u001b[1;32m/usr/local/anaconda2/lib/python2.7/site-packages/numba/dispatcher.pyc\u001b[0m in \u001b[0;36m_compile_for_args\u001b[1;34m(self, *args, **kws)\u001b[0m\n\u001b[0;32m    279\u001b[0m                 \u001b[0margtypes\u001b[0m\u001b[1;33m.\u001b[0m\u001b[0mappend\u001b[0m\u001b[1;33m(\u001b[0m\u001b[0mself\u001b[0m\u001b[1;33m.\u001b[0m\u001b[0mtypeof_pyval\u001b[0m\u001b[1;33m(\u001b[0m\u001b[0ma\u001b[0m\u001b[1;33m)\u001b[0m\u001b[1;33m)\u001b[0m\u001b[1;33m\u001b[0m\u001b[0m\n\u001b[0;32m    280\u001b[0m         \u001b[1;32mtry\u001b[0m\u001b[1;33m:\u001b[0m\u001b[1;33m\u001b[0m\u001b[0m\n\u001b[1;32m--> 281\u001b[1;33m             \u001b[1;32mreturn\u001b[0m \u001b[0mself\u001b[0m\u001b[1;33m.\u001b[0m\u001b[0mcompile\u001b[0m\u001b[1;33m(\u001b[0m\u001b[0mtuple\u001b[0m\u001b[1;33m(\u001b[0m\u001b[0margtypes\u001b[0m\u001b[1;33m)\u001b[0m\u001b[1;33m)\u001b[0m\u001b[1;33m\u001b[0m\u001b[0m\n\u001b[0m\u001b[0;32m    282\u001b[0m         \u001b[1;32mexcept\u001b[0m \u001b[0merrors\u001b[0m\u001b[1;33m.\u001b[0m\u001b[0mTypingError\u001b[0m \u001b[1;32mas\u001b[0m \u001b[0me\u001b[0m\u001b[1;33m:\u001b[0m\u001b[1;33m\u001b[0m\u001b[0m\n\u001b[0;32m    283\u001b[0m             \u001b[1;31m# Intercept typing error that may be due to an argument\u001b[0m\u001b[1;33m\u001b[0m\u001b[1;33m\u001b[0m\u001b[0m\n",
      "\u001b[1;32m/usr/local/anaconda2/lib/python2.7/site-packages/numba/dispatcher.pyc\u001b[0m in \u001b[0;36mcompile\u001b[1;34m(self, sig)\u001b[0m\n\u001b[0;32m    525\u001b[0m \u001b[1;33m\u001b[0m\u001b[0m\n\u001b[0;32m    526\u001b[0m             \u001b[0mself\u001b[0m\u001b[1;33m.\u001b[0m\u001b[0m_cache_misses\u001b[0m\u001b[1;33m[\u001b[0m\u001b[0msig\u001b[0m\u001b[1;33m]\u001b[0m \u001b[1;33m+=\u001b[0m \u001b[1;36m1\u001b[0m\u001b[1;33m\u001b[0m\u001b[0m\n\u001b[1;32m--> 527\u001b[1;33m             \u001b[0mcres\u001b[0m \u001b[1;33m=\u001b[0m \u001b[0mself\u001b[0m\u001b[1;33m.\u001b[0m\u001b[0m_compiler\u001b[0m\u001b[1;33m.\u001b[0m\u001b[0mcompile\u001b[0m\u001b[1;33m(\u001b[0m\u001b[0margs\u001b[0m\u001b[1;33m,\u001b[0m \u001b[0mreturn_type\u001b[0m\u001b[1;33m)\u001b[0m\u001b[1;33m\u001b[0m\u001b[0m\n\u001b[0m\u001b[0;32m    528\u001b[0m             \u001b[0mself\u001b[0m\u001b[1;33m.\u001b[0m\u001b[0madd_overload\u001b[0m\u001b[1;33m(\u001b[0m\u001b[0mcres\u001b[0m\u001b[1;33m)\u001b[0m\u001b[1;33m\u001b[0m\u001b[0m\n\u001b[0;32m    529\u001b[0m             \u001b[0mself\u001b[0m\u001b[1;33m.\u001b[0m\u001b[0m_cache\u001b[0m\u001b[1;33m.\u001b[0m\u001b[0msave_overload\u001b[0m\u001b[1;33m(\u001b[0m\u001b[0msig\u001b[0m\u001b[1;33m,\u001b[0m \u001b[0mcres\u001b[0m\u001b[1;33m)\u001b[0m\u001b[1;33m\u001b[0m\u001b[0m\n",
      "\u001b[1;32m/usr/local/anaconda2/lib/python2.7/site-packages/numba/dispatcher.pyc\u001b[0m in \u001b[0;36mcompile\u001b[1;34m(self, args, return_type)\u001b[0m\n\u001b[0;32m     74\u001b[0m                                       \u001b[0mimpl\u001b[0m\u001b[1;33m,\u001b[0m\u001b[1;33m\u001b[0m\u001b[0m\n\u001b[0;32m     75\u001b[0m                                       \u001b[0margs\u001b[0m\u001b[1;33m=\u001b[0m\u001b[0margs\u001b[0m\u001b[1;33m,\u001b[0m \u001b[0mreturn_type\u001b[0m\u001b[1;33m=\u001b[0m\u001b[0mreturn_type\u001b[0m\u001b[1;33m,\u001b[0m\u001b[1;33m\u001b[0m\u001b[0m\n\u001b[1;32m---> 76\u001b[1;33m                                       flags=flags, locals=self.locals)\n\u001b[0m\u001b[0;32m     77\u001b[0m         \u001b[1;31m# Check typing error if object mode is used\u001b[0m\u001b[1;33m\u001b[0m\u001b[1;33m\u001b[0m\u001b[0m\n\u001b[0;32m     78\u001b[0m         \u001b[1;32mif\u001b[0m \u001b[0mcres\u001b[0m\u001b[1;33m.\u001b[0m\u001b[0mtyping_error\u001b[0m \u001b[1;32mis\u001b[0m \u001b[1;32mnot\u001b[0m \u001b[0mNone\u001b[0m \u001b[1;32mand\u001b[0m \u001b[1;32mnot\u001b[0m \u001b[0mflags\u001b[0m\u001b[1;33m.\u001b[0m\u001b[0menable_pyobject\u001b[0m\u001b[1;33m:\u001b[0m\u001b[1;33m\u001b[0m\u001b[0m\n",
      "\u001b[1;32m/usr/local/anaconda2/lib/python2.7/site-packages/numba/compiler.pyc\u001b[0m in \u001b[0;36mcompile_extra\u001b[1;34m(typingctx, targetctx, func, args, return_type, flags, locals, library)\u001b[0m\n\u001b[0;32m    693\u001b[0m     pipeline = Pipeline(typingctx, targetctx, library,\n\u001b[0;32m    694\u001b[0m                         args, return_type, flags, locals)\n\u001b[1;32m--> 695\u001b[1;33m     \u001b[1;32mreturn\u001b[0m \u001b[0mpipeline\u001b[0m\u001b[1;33m.\u001b[0m\u001b[0mcompile_extra\u001b[0m\u001b[1;33m(\u001b[0m\u001b[0mfunc\u001b[0m\u001b[1;33m)\u001b[0m\u001b[1;33m\u001b[0m\u001b[0m\n\u001b[0m\u001b[0;32m    696\u001b[0m \u001b[1;33m\u001b[0m\u001b[0m\n\u001b[0;32m    697\u001b[0m \u001b[1;33m\u001b[0m\u001b[0m\n",
      "\u001b[1;32m/usr/local/anaconda2/lib/python2.7/site-packages/numba/compiler.pyc\u001b[0m in \u001b[0;36mcompile_extra\u001b[1;34m(self, func)\u001b[0m\n\u001b[0;32m    367\u001b[0m                 \u001b[1;32mraise\u001b[0m \u001b[0me\u001b[0m\u001b[1;33m\u001b[0m\u001b[0m\n\u001b[0;32m    368\u001b[0m \u001b[1;33m\u001b[0m\u001b[0m\n\u001b[1;32m--> 369\u001b[1;33m         \u001b[1;32mreturn\u001b[0m \u001b[0mself\u001b[0m\u001b[1;33m.\u001b[0m\u001b[0mcompile_bytecode\u001b[0m\u001b[1;33m(\u001b[0m\u001b[0mbc\u001b[0m\u001b[1;33m,\u001b[0m \u001b[0mfunc_attr\u001b[0m\u001b[1;33m=\u001b[0m\u001b[0mself\u001b[0m\u001b[1;33m.\u001b[0m\u001b[0mfunc_attr\u001b[0m\u001b[1;33m)\u001b[0m\u001b[1;33m\u001b[0m\u001b[0m\n\u001b[0m\u001b[0;32m    370\u001b[0m \u001b[1;33m\u001b[0m\u001b[0m\n\u001b[0;32m    371\u001b[0m     def compile_bytecode(self, bc, lifted=(), lifted_from=None,\n",
      "\u001b[1;32m/usr/local/anaconda2/lib/python2.7/site-packages/numba/compiler.pyc\u001b[0m in \u001b[0;36mcompile_bytecode\u001b[1;34m(self, bc, lifted, lifted_from, func_attr)\u001b[0m\n\u001b[0;32m    376\u001b[0m         \u001b[0mself\u001b[0m\u001b[1;33m.\u001b[0m\u001b[0mlifted_from\u001b[0m \u001b[1;33m=\u001b[0m \u001b[0mlifted_from\u001b[0m\u001b[1;33m\u001b[0m\u001b[0m\n\u001b[0;32m    377\u001b[0m         \u001b[0mself\u001b[0m\u001b[1;33m.\u001b[0m\u001b[0mfunc_attr\u001b[0m \u001b[1;33m=\u001b[0m \u001b[0mfunc_attr\u001b[0m\u001b[1;33m\u001b[0m\u001b[0m\n\u001b[1;32m--> 378\u001b[1;33m         \u001b[1;32mreturn\u001b[0m \u001b[0mself\u001b[0m\u001b[1;33m.\u001b[0m\u001b[0m_compile_bytecode\u001b[0m\u001b[1;33m(\u001b[0m\u001b[1;33m)\u001b[0m\u001b[1;33m\u001b[0m\u001b[0m\n\u001b[0m\u001b[0;32m    379\u001b[0m \u001b[1;33m\u001b[0m\u001b[0m\n\u001b[0;32m    380\u001b[0m     \u001b[1;32mdef\u001b[0m \u001b[0mcompile_internal\u001b[0m\u001b[1;33m(\u001b[0m\u001b[0mself\u001b[0m\u001b[1;33m,\u001b[0m \u001b[0mbc\u001b[0m\u001b[1;33m,\u001b[0m \u001b[0mfunc_attr\u001b[0m\u001b[1;33m=\u001b[0m\u001b[0mDEFAULT_FUNCTION_ATTRIBUTES\u001b[0m\u001b[1;33m)\u001b[0m\u001b[1;33m:\u001b[0m\u001b[1;33m\u001b[0m\u001b[0m\n",
      "\u001b[1;32m/usr/local/anaconda2/lib/python2.7/site-packages/numba/compiler.pyc\u001b[0m in \u001b[0;36m_compile_bytecode\u001b[1;34m(self)\u001b[0m\n\u001b[0;32m    659\u001b[0m \u001b[1;33m\u001b[0m\u001b[0m\n\u001b[0;32m    660\u001b[0m         \u001b[0mpm\u001b[0m\u001b[1;33m.\u001b[0m\u001b[0mfinalize\u001b[0m\u001b[1;33m(\u001b[0m\u001b[1;33m)\u001b[0m\u001b[1;33m\u001b[0m\u001b[0m\n\u001b[1;32m--> 661\u001b[1;33m         \u001b[0mres\u001b[0m \u001b[1;33m=\u001b[0m \u001b[0mpm\u001b[0m\u001b[1;33m.\u001b[0m\u001b[0mrun\u001b[0m\u001b[1;33m(\u001b[0m\u001b[0mself\u001b[0m\u001b[1;33m.\u001b[0m\u001b[0mstatus\u001b[0m\u001b[1;33m)\u001b[0m\u001b[1;33m\u001b[0m\u001b[0m\n\u001b[0m\u001b[0;32m    662\u001b[0m         \u001b[1;32mif\u001b[0m \u001b[0mres\u001b[0m \u001b[1;32mis\u001b[0m \u001b[1;32mnot\u001b[0m \u001b[0mNone\u001b[0m\u001b[1;33m:\u001b[0m\u001b[1;33m\u001b[0m\u001b[0m\n\u001b[0;32m    663\u001b[0m             \u001b[1;31m# Early pipeline completion\u001b[0m\u001b[1;33m\u001b[0m\u001b[1;33m\u001b[0m\u001b[0m\n",
      "\u001b[1;32m/usr/local/anaconda2/lib/python2.7/site-packages/numba/compiler.pyc\u001b[0m in \u001b[0;36mrun\u001b[1;34m(self, status)\u001b[0m\n\u001b[0;32m    255\u001b[0m                     \u001b[1;31m# No more fallback pipelines?\u001b[0m\u001b[1;33m\u001b[0m\u001b[1;33m\u001b[0m\u001b[0m\n\u001b[0;32m    256\u001b[0m                     \u001b[1;32mif\u001b[0m \u001b[0mis_final_pipeline\u001b[0m\u001b[1;33m:\u001b[0m\u001b[1;33m\u001b[0m\u001b[0m\n\u001b[1;32m--> 257\u001b[1;33m                         \u001b[1;32mraise\u001b[0m \u001b[0mpatched_exception\u001b[0m\u001b[1;33m\u001b[0m\u001b[0m\n\u001b[0m\u001b[0;32m    258\u001b[0m                     \u001b[1;31m# Go to next fallback pipeline\u001b[0m\u001b[1;33m\u001b[0m\u001b[1;33m\u001b[0m\u001b[0m\n\u001b[0;32m    259\u001b[0m                     \u001b[1;32melse\u001b[0m\u001b[1;33m:\u001b[0m\u001b[1;33m\u001b[0m\u001b[0m\n",
      "\u001b[1;31mTypeError\u001b[0m: Caused By:\nTraceback (most recent call last):\n  File \"/usr/local/anaconda2/lib/python2.7/site-packages/numba/compiler.py\", line 249, in run\n    stage()\n  File \"/usr/local/anaconda2/lib/python2.7/site-packages/numba/compiler.py\", line 465, in stage_nopython_frontend\n    self.locals)\n  File \"/usr/local/anaconda2/lib/python2.7/site-packages/numba/compiler.py\", line 788, in type_inference_stage\n    infer.build_constraint()\n  File \"/usr/local/anaconda2/lib/python2.7/site-packages/numba/typeinfer.py\", line 701, in build_constraint\n    self.constrain_statement(inst)\n  File \"/usr/local/anaconda2/lib/python2.7/site-packages/numba/typeinfer.py\", line 830, in constrain_statement\n    self.typeof_assign(inst)\n  File \"/usr/local/anaconda2/lib/python2.7/site-packages/numba/typeinfer.py\", line 888, in typeof_assign\n    self.typeof_global(inst, inst.target, value)\n  File \"/usr/local/anaconda2/lib/python2.7/site-packages/numba/typeinfer.py\", line 976, in typeof_global\n    typ = self.context.resolve_value_type(gvar.value)\n  File \"/usr/local/anaconda2/lib/python2.7/site-packages/numba/typing/context.py\", line 233, in resolve_value_type\n    return self._get_global_type(val)\n  File \"/usr/local/anaconda2/lib/python2.7/site-packages/numba/typing/context.py\", line 241, in _get_global_type\n    return self._lookup_global(gv)\n  File \"/usr/local/anaconda2/lib/python2.7/site-packages/numba/typing/context.py\", line 295, in _lookup_global\n    return self._globals[gv]\nTypeError: unhashable type: 'dict'\n\nFailed at nopython (nopython frontend)\nunhashable type: 'dict'"
     ]
    }
   ],
   "source": [
    "%%time\n",
    "\n",
    "first_run()\n",
    "second_run()\n",
    "print sites_kept"
   ]
  },
  {
   "cell_type": "markdown",
   "metadata": {
    "collapsed": true
   },
   "source": [
    "# Revamp"
   ]
  },
  {
   "cell_type": "markdown",
   "metadata": {},
   "source": [
    "I want to change excess and minimum coverage filtering from how it is done above."
   ]
  },
  {
   "cell_type": "markdown",
   "metadata": {},
   "source": [
    "First, I want to separate the excess and minimum coverage filtering."
   ]
  },
  {
   "cell_type": "markdown",
   "metadata": {},
   "source": [
    "## Excess coverage filtering"
   ]
  },
  {
   "cell_type": "markdown",
   "metadata": {},
   "source": [
    "This should be based on SE read count per contig and should filter contigs, not sites. The coverage distribution (i. e. SE read per contig) should not contain the category 0, it should start from 1. "
   ]
  },
  {
   "cell_type": "markdown",
   "metadata": {},
   "source": [
    "I can derive such individual coverage percentiles from individual `bam` files, which could be read in parallel. I could also get an across sample coverage distribution in the process."
   ]
  },
  {
   "cell_type": "markdown",
   "metadata": {},
   "source": [
    "Once I have the individual and across sample coverage percentiles in a dictionary, I read in the same `bam` files again and record contigs with excess coverage. "
   ]
  },
  {
   "cell_type": "markdown",
   "metadata": {},
   "source": [
    "The result of this filtering should be a list of contigs to exclude. These contigs should be removed from a `bed` or `sites` file."
   ]
  },
  {
   "cell_type": "code",
   "execution_count": 1,
   "metadata": {
    "collapsed": false
   },
   "outputs": [
    {
     "name": "stdout",
     "output_type": "stream",
     "text": [
      "['ery_30-5_dedup.sorted.bam', 'par_34-12_dedup.sorted.bam', 'ery_30-3_dedup.sorted.bam', 'ery_30-11_dedup.sorted.bam', 'ery_30-14_dedup.sorted.bam', 'par_34-8_dedup.sorted.bam', 'ery_30-16_dedup.sorted.bam', 'par_34-13_dedup.sorted.bam', 'par_34-15_dedup.sorted.bam', 'par_34-9_dedup.sorted.bam', 'par_34-17_dedup.sorted.bam', 'ery_30-6_dedup.sorted.bam', 'ery_30-12_dedup.sorted.bam', 'ery_30-17_dedup.sorted.bam', 'par_34-6_dedup.sorted.bam', 'ery_30-1_dedup.sorted.bam', 'par_34-5_dedup.sorted.bam', 'par_34-14_dedup.sorted.bam', 'par_34-3_dedup.sorted.bam', 'par_34-1_dedup.sorted.bam', 'ery_30-9_dedup.sorted.bam', 'ery_30-18_dedup.sorted.bam', 'par_34-18_dedup.sorted.bam', 'ery_30-7_dedup.sorted.bam', 'par_34-10_dedup.sorted.bam', 'ery_30-10_dedup.sorted.bam', 'ery_30-8_dedup.sorted.bam', 'ery_30-15_dedup.sorted.bam', 'par_34-11_dedup.sorted.bam', 'par_34-2_dedup.sorted.bam', 'ery_30-4_dedup.sorted.bam', 'par_34-16_dedup.sorted.bam', 'par_34-7_dedup.sorted.bam', 'par_34-4_dedup.sorted.bam', 'ery_30-2_dedup.sorted.bam', 'ery_30-13_dedup.sorted.bam']\n"
     ]
    }
   ],
   "source": [
    "import glob\n",
    "\n",
    "print glob.glob('*sorted.bam')"
   ]
  },
  {
   "cell_type": "code",
   "execution_count": 2,
   "metadata": {
    "collapsed": true
   },
   "outputs": [],
   "source": [
    "import subprocess32 as sp # allows to call external programmes and  get their output"
   ]
  },
  {
   "cell_type": "code",
   "execution_count": 3,
   "metadata": {
    "collapsed": true
   },
   "outputs": [],
   "source": [
    "import numpy as np"
   ]
  },
  {
   "cell_type": "code",
   "execution_count": 4,
   "metadata": {
    "collapsed": true
   },
   "outputs": [],
   "source": [
    "# command line for testing\n",
    "\n",
    "cmd = \"samtools view -f 64 par_34-9_dedup.sorted.bam | gawk '$4==2' | cut -f 3 | uniq -c | gawk '{print $1}'\""
   ]
  },
  {
   "cell_type": "markdown",
   "metadata": {},
   "source": [
    "The command line takes the SE reads from the bam file, filters out only those that map to position 2 on the contig (i. e. with correct mapping position), then extracts the contig name (in column 3) from the SAM record. Since the BAM file is already sorted I can `uniq` straight away while keeping the count of contig name (i. e. number of SE reads) and finally I am extracting only that count. The output of command line is the SE read count for each contig, one per line."
   ]
  },
  {
   "cell_type": "code",
   "execution_count": 5,
   "metadata": {
    "collapsed": false
   },
   "outputs": [],
   "source": [
    "# read SE read count per contig into numpy array\n",
    "\n",
    "a = np.fromstring( sp.check_output(cmd, shell=True), sep='\\n', dtype=int ) "
   ]
  },
  {
   "cell_type": "code",
   "execution_count": 56,
   "metadata": {
    "collapsed": false
   },
   "outputs": [],
   "source": [
    "np.fromstring?"
   ]
  },
  {
   "cell_type": "code",
   "execution_count": 6,
   "metadata": {
    "collapsed": false
   },
   "outputs": [
    {
     "data": {
      "text/plain": [
       "array([60, 32,  5, 11, 17, 11, 32, 18, 33,  1])"
      ]
     },
     "execution_count": 6,
     "metadata": {},
     "output_type": "execute_result"
    }
   ],
   "source": [
    "a[:10]"
   ]
  },
  {
   "cell_type": "code",
   "execution_count": 7,
   "metadata": {
    "collapsed": false
   },
   "outputs": [
    {
     "data": {
      "text/plain": [
       "20.0"
      ]
     },
     "execution_count": 7,
     "metadata": {},
     "output_type": "execute_result"
    }
   ],
   "source": [
    "# get 99th percentile of SE read coverage distribution\n",
    "\n",
    "np.percentile(a, 99)"
   ]
  },
  {
   "cell_type": "code",
   "execution_count": 8,
   "metadata": {
    "collapsed": false
   },
   "outputs": [
    {
     "name": "stdout",
     "output_type": "stream",
     "text": [
      "CPU times: user 354 ms, sys: 80.8 ms, total: 434 ms\n",
      "Wall time: 32.5 s\n"
     ]
    }
   ],
   "source": [
    "%%time\n",
    "\n",
    "# read in all sorted BAM files and get their SE read coverage 99th percentile,\n",
    "# store them in a dictionary with BAM file name as key\n",
    "\n",
    "Q99_ind = {}\n",
    "\n",
    "for file in glob.glob('*sorted.bam'):\n",
    "    cmd = \"samtools view -f 64 %s | gawk '$4==2' | cut -f 3 | uniq -c | gawk '{print $1}'\" % (file)\n",
    "    #print cmd\n",
    "    a = np.fromstring( sp.check_output(cmd, shell=True), sep='\\n', dtype=int )\n",
    "    Q99_ind[file] = np.percentile(a, 99)"
   ]
  },
  {
   "cell_type": "markdown",
   "metadata": {},
   "source": [
    "This is so fast, that I don't care about speeding this up. It's many orders of magnitude faster than parsing the `samtools depth` file."
   ]
  },
  {
   "cell_type": "code",
   "execution_count": 52,
   "metadata": {
    "collapsed": false
   },
   "outputs": [
    {
     "name": "stdout",
     "output_type": "stream",
     "text": [
      "par_34-1_dedup.sorted.bam 14.0\n",
      "par_34-15_dedup.sorted.bam 21.0\n",
      "par_34-4_dedup.sorted.bam 19.0\n",
      "ery_30-16_dedup.sorted.bam 25.0\n",
      "ery_30-9_dedup.sorted.bam 27.0\n",
      "par_34-5_dedup.sorted.bam 24.0\n",
      "par_34-13_dedup.sorted.bam 19.0\n",
      "par_34-3_dedup.sorted.bam 21.0\n",
      "ery_30-3_dedup.sorted.bam 30.0\n",
      "ery_30-10_dedup.sorted.bam 32.0\n",
      "ery_30-14_dedup.sorted.bam 25.0\n",
      "ery_30-7_dedup.sorted.bam 27.0\n",
      "par_34-16_dedup.sorted.bam 22.0\n",
      "par_34-14_dedup.sorted.bam 24.0\n",
      "ery_30-15_dedup.sorted.bam 29.94\n",
      "ery_30-1_dedup.sorted.bam 25.0\n",
      "ery_30-11_dedup.sorted.bam 29.0\n",
      "par_34-17_dedup.sorted.bam 21.0\n",
      "par_34-2_dedup.sorted.bam 24.0\n",
      "par_34-8_dedup.sorted.bam 22.0\n",
      "ery_30-4_dedup.sorted.bam 30.0\n",
      "par_34-9_dedup.sorted.bam 20.0\n",
      "ery_30-6_dedup.sorted.bam 28.0\n",
      "par_34-6_dedup.sorted.bam 21.0\n",
      "par_34-7_dedup.sorted.bam 23.0\n",
      "ery_30-12_dedup.sorted.bam 25.96\n",
      "par_34-12_dedup.sorted.bam 20.0\n",
      "ery_30-17_dedup.sorted.bam 26.0\n",
      "ery_30-5_dedup.sorted.bam 29.0\n",
      "par_34-10_dedup.sorted.bam 20.0\n",
      "ery_30-18_dedup.sorted.bam 30.0\n",
      "par_34-18_dedup.sorted.bam 21.0\n",
      "ery_30-2_dedup.sorted.bam 30.0\n",
      "ery_30-8_dedup.sorted.bam 28.0\n",
      "ery_30-13_dedup.sorted.bam 24.0\n",
      "par_34-11_dedup.sorted.bam 19.0\n"
     ]
    }
   ],
   "source": [
    "for ind, Q in Q99_ind.items():\n",
    "    print ind, Q"
   ]
  },
  {
   "cell_type": "markdown",
   "metadata": {},
   "source": [
    "I now have individual 99 coverage percentiles. Remember that they do not include contigs with 0 coverage. If I had included the 0 count category, the 99th percentiles would obviously be much lower."
   ]
  },
  {
   "cell_type": "markdown",
   "metadata": {},
   "source": [
    "Next, I want to read in contig id and count for each `bam` file, check whether the count is above Q99 and if so, record the contig in separate list."
   ]
  },
  {
   "cell_type": "code",
   "execution_count": 9,
   "metadata": {
    "collapsed": false
   },
   "outputs": [
    {
     "name": "stdout",
     "output_type": "stream",
     "text": [
      "samtools view -f 64 par_34-9_dedup.sorted.bam | gawk '$4==2' | cut -f 3 | uniq -c\n"
     ]
    }
   ],
   "source": [
    "file = \"par_34-9_dedup.sorted.bam\"\n",
    "cmd = \"samtools view -f 64 %s | gawk '$4==2' | cut -f 3 | uniq -c\" % (file)\n",
    "print cmd"
   ]
  },
  {
   "cell_type": "markdown",
   "metadata": {},
   "source": [
    "This command line returns SE read count and contig name, one contig per line."
   ]
  },
  {
   "cell_type": "code",
   "execution_count": 16,
   "metadata": {
    "collapsed": true
   },
   "outputs": [],
   "source": [
    "# open a connection (filehandle) to the standard output of the upper command line\n",
    "\n",
    "pipe = sp.Popen(cmd, shell=True, stdout=sp.PIPE).stdout "
   ]
  },
  {
   "cell_type": "markdown",
   "metadata": {},
   "source": [
    "I can now iterate over that pipe as with a filehandle."
   ]
  },
  {
   "cell_type": "code",
   "execution_count": 17,
   "metadata": {
    "collapsed": false
   },
   "outputs": [
    {
     "name": "stdout",
     "output_type": "stream",
     "text": [
      "60 Contig_29981\n",
      "32 Contig_368501\n",
      "5 Contig_644939\n",
      "11 Contig_368164\n",
      "17 Contig_558718\n",
      "11 Contig_123958\n",
      "32 Contig_14335\n",
      "18 Contig_368186\n",
      "33 Contig_558321\n",
      "1 Contig_500778\n",
      "51 Contig_460360\n"
     ]
    }
   ],
   "source": [
    "i = 0\n",
    "for line in pipe:\n",
    "    c, id = line.strip().split()\n",
    "    print c, id\n",
    "    i+=1\n",
    "    if i > 10: break\n",
    "pipe.close() # need to close the filehandle again"
   ]
  },
  {
   "cell_type": "code",
   "execution_count": 41,
   "metadata": {
    "collapsed": true
   },
   "outputs": [],
   "source": [
    "pipe = sp.Popen(cmd, shell=True, stdout=sp.PIPE).stdout"
   ]
  },
  {
   "cell_type": "code",
   "execution_count": 42,
   "metadata": {
    "collapsed": false
   },
   "outputs": [],
   "source": [
    "excess_ind_cov = set() # list of id's of contig's with excess coverage\n",
    "keep = set() # contigs to keep\n",
    "\n",
    "for line in pipe:\n",
    "    c, id = line.strip().split()\n",
    "    if int(c) >= Q99_ind[file]:\n",
    "        excess_ind_cov.add(id)\n",
    "    else:\n",
    "        keep.add(id)\n",
    "\n",
    "pipe.close()"
   ]
  },
  {
   "cell_type": "code",
   "execution_count": 43,
   "metadata": {
    "collapsed": false
   },
   "outputs": [
    {
     "data": {
      "text/plain": [
       "20.0"
      ]
     },
     "execution_count": 43,
     "metadata": {},
     "output_type": "execute_result"
    }
   ],
   "source": [
    "Q99_ind[file]"
   ]
  },
  {
   "cell_type": "code",
   "execution_count": 44,
   "metadata": {
    "collapsed": false
   },
   "outputs": [
    {
     "data": {
      "text/plain": [
       "851"
      ]
     },
     "execution_count": 44,
     "metadata": {},
     "output_type": "execute_result"
    }
   ],
   "source": [
    "len(excess_ind_cov)"
   ]
  },
  {
   "cell_type": "markdown",
   "metadata": {},
   "source": [
    "There are 851 contigs with SE read coverage above the 99th coverage percentile of this individual."
   ]
  },
  {
   "cell_type": "code",
   "execution_count": 27,
   "metadata": {
    "collapsed": true
   },
   "outputs": [],
   "source": [
    "from collections import Counter"
   ]
  },
  {
   "cell_type": "code",
   "execution_count": 34,
   "metadata": {
    "collapsed": true
   },
   "outputs": [],
   "source": [
    "c = Counter(excess_ind_cov)"
   ]
  },
  {
   "cell_type": "code",
   "execution_count": 35,
   "metadata": {
    "collapsed": false
   },
   "outputs": [
    {
     "data": {
      "text/plain": [
       "[('Contig_69505', 1)]"
      ]
     },
     "execution_count": 35,
     "metadata": {},
     "output_type": "execute_result"
    }
   ],
   "source": [
    "c.most_common(1)"
   ]
  },
  {
   "cell_type": "code",
   "execution_count": 36,
   "metadata": {
    "collapsed": false
   },
   "outputs": [
    {
     "data": {
      "text/plain": [
       "False"
      ]
     },
     "execution_count": 36,
     "metadata": {},
     "output_type": "execute_result"
    }
   ],
   "source": [
    "2 in c.values()"
   ]
  },
  {
   "cell_type": "code",
   "execution_count": 45,
   "metadata": {
    "collapsed": false
   },
   "outputs": [
    {
     "data": {
      "text/plain": [
       "80601"
      ]
     },
     "execution_count": 45,
     "metadata": {},
     "output_type": "execute_result"
    }
   ],
   "source": [
    "len(keep)"
   ]
  },
  {
   "cell_type": "markdown",
   "metadata": {},
   "source": [
    "Now, let's collect all contig id's whose SE read coverage is above the 99th percentile in any of the 36 individuals here."
   ]
  },
  {
   "cell_type": "code",
   "execution_count": 46,
   "metadata": {
    "collapsed": false
   },
   "outputs": [
    {
     "name": "stdout",
     "output_type": "stream",
     "text": [
      "CPU times: user 11.1 s, sys: 150 ms, total: 11.3 s\n",
      "Wall time: 32.3 s\n"
     ]
    }
   ],
   "source": [
    "%%time\n",
    "\n",
    "excess_ind_cov = set() # set of contig ids's from contigs with excess coverage\n",
    "\n",
    "for file in glob.glob('*sorted.bam'):\n",
    "    cmd = \"samtools view -f 64 %s | gawk '$4==2' | cut -f 3 | uniq -c\" % (file)\n",
    "    #print cmd\n",
    "    pipe = sp.Popen(cmd, shell=True, stdout=sp.PIPE).stdout\n",
    "    for line in pipe:\n",
    "        c, id = line.strip().split()\n",
    "        if int(c) > Q99_ind[file]:\n",
    "            excess_ind_cov.add(id)\n",
    "    pipe.close()"
   ]
  },
  {
   "cell_type": "code",
   "execution_count": 47,
   "metadata": {
    "collapsed": false
   },
   "outputs": [
    {
     "data": {
      "text/plain": [
       "['Contig_99063',\n",
       " 'Contig_682517',\n",
       " 'Contig_9017',\n",
       " 'Contig_173683',\n",
       " 'Contig_4106',\n",
       " 'Contig_61141',\n",
       " 'Contig_73470',\n",
       " 'Contig_231602',\n",
       " 'Contig_4108',\n",
       " 'Contig_370095']"
      ]
     },
     "execution_count": 47,
     "metadata": {},
     "output_type": "execute_result"
    }
   ],
   "source": [
    "list(excess_ind_cov)[:10]"
   ]
  },
  {
   "cell_type": "code",
   "execution_count": 48,
   "metadata": {
    "collapsed": false
   },
   "outputs": [
    {
     "data": {
      "text/plain": [
       "2173"
      ]
     },
     "execution_count": 48,
     "metadata": {},
     "output_type": "execute_result"
    }
   ],
   "source": [
    "len(excess_ind_cov)"
   ]
  },
  {
   "cell_type": "markdown",
   "metadata": {},
   "source": [
    "With the `R` `quantile` function and `print_Q99_exCov_contigs.pl` I had found 2192 contigs. This is close enough."
   ]
  },
  {
   "cell_type": "markdown",
   "metadata": {},
   "source": [
    "While reading in the SE read coverage from all contigs for each individual, I could also at the same time determine the across sample coverage for each contig."
   ]
  },
  {
   "cell_type": "code",
   "execution_count": 49,
   "metadata": {
    "collapsed": true
   },
   "outputs": [],
   "source": [
    "from collections import defaultdict"
   ]
  },
  {
   "cell_type": "code",
   "execution_count": 59,
   "metadata": {
    "collapsed": false
   },
   "outputs": [
    {
     "name": "stdout",
     "output_type": "stream",
     "text": [
      "580748 contigs passed individual coverage filtering\n",
      "575239 contigs passed individual and across sample coverage filtering\n",
      "CPU times: user 19.1 s, sys: 582 ms, total: 19.7 s\n",
      "Wall time: 35 s\n"
     ]
    }
   ],
   "source": [
    "%%time\n",
    "\n",
    "excess_ind_cov = set() # set of contig ids's from contigs with excess individual coverage\n",
    "excess_global_cov = set() # excess across sample coverage\n",
    "across_sample_cov = defaultdict(int)\n",
    "keep = set() # set of contig id's to keep for downstream analysis\n",
    "\n",
    "for file in glob.glob('*sorted.bam'):\n",
    "    cmd = \"samtools view -f 64 %s | gawk '$4==2' | cut -f 3 | uniq -c\" % (file)\n",
    "    #print cmd\n",
    "    pipe = sp.Popen(cmd, shell=True, stdout=sp.PIPE).stdout\n",
    "    for line in pipe:\n",
    "        cov, contig = line.strip().split()\n",
    "        if int(cov) > Q99_ind[file]:\n",
    "            excess_ind_cov.add(contig)\n",
    "        else:\n",
    "            keep.add(contig)\n",
    "        across_sample_cov[contig] += int(cov)\n",
    "    pipe.close()\n",
    "    \n",
    "print \"{0:d} contigs passed individual coverage filtering\".format(len(keep))\n",
    "    \n",
    "Q99_across_sample = np.percentile(across_sample_cov.values(), 99.0)\n",
    "    \n",
    "for contig, cov in across_sample_cov.items():\n",
    "    if cov > Q99_across_sample:\n",
    "        excess_global_cov.add(contig)\n",
    "\n",
    "# Return a new set with elements in the set 'keep' that are not in the set 'excess_cov':\n",
    "keep_contigs = keep.difference(excess_global_cov) \n",
    "\n",
    "print \"{0:d} contigs passed individual and across sample coverage filtering\".format(len(keep_contigs))"
   ]
  },
  {
   "cell_type": "code",
   "execution_count": 54,
   "metadata": {
    "collapsed": false
   },
   "outputs": [
    {
     "data": {
      "text/plain": [
       "148.0"
      ]
     },
     "execution_count": 54,
     "metadata": {},
     "output_type": "execute_result"
    }
   ],
   "source": [
    "Q99_across_sample"
   ]
  },
  {
   "cell_type": "markdown",
   "metadata": {},
   "source": [
    "The across sample 99th coverage percentile looks reasonable."
   ]
  },
  {
   "cell_type": "code",
   "execution_count": 60,
   "metadata": {
    "collapsed": false
   },
   "outputs": [
    {
     "data": {
      "text/plain": [
       "2173"
      ]
     },
     "execution_count": 60,
     "metadata": {},
     "output_type": "execute_result"
    }
   ],
   "source": [
    "len(excess_ind_cov)"
   ]
  },
  {
   "cell_type": "code",
   "execution_count": 61,
   "metadata": {
    "collapsed": false
   },
   "outputs": [
    {
     "data": {
      "text/plain": [
       "5792"
      ]
     },
     "execution_count": 61,
     "metadata": {},
     "output_type": "execute_result"
    }
   ],
   "source": [
    "len(excess_global_cov)"
   ]
  },
  {
   "cell_type": "code",
   "execution_count": 62,
   "metadata": {
    "collapsed": false
   },
   "outputs": [
    {
     "data": {
      "text/plain": [
       "3672"
      ]
     },
     "execution_count": 62,
     "metadata": {},
     "output_type": "execute_result"
    }
   ],
   "source": [
    "# number of contigs that passed individual coverage filtering\n",
    "# but not global coverage filtering\n",
    "\n",
    "len(excess_global_cov.difference(excess_ind_cov))"
   ]
  },
  {
   "cell_type": "code",
   "execution_count": 63,
   "metadata": {
    "collapsed": false
   },
   "outputs": [
    {
     "data": {
      "text/plain": [
       "5845"
      ]
     },
     "execution_count": 63,
     "metadata": {},
     "output_type": "execute_result"
    }
   ],
   "source": [
    "# number of contigs that did not pass individual coverage filtering\n",
    "# or global coverage filtering or both\n",
    "\n",
    "len(excess_ind_cov.union(excess_global_cov))"
   ]
  },
  {
   "cell_type": "code",
   "execution_count": null,
   "metadata": {
    "collapsed": true
   },
   "outputs": [],
   "source": [
    "# get all contig ids from contigs that failed one of the\n",
    "# coverage filters\n",
    "\n",
    "excess_cov_contigs = excess_ind_cov.union(excess_global_cov)"
   ]
  },
  {
   "cell_type": "markdown",
   "metadata": {},
   "source": [
    "This would be a list that I could use to filter `bed` or `depth` or `sites` files."
   ]
  },
  {
   "cell_type": "code",
   "execution_count": 53,
   "metadata": {
    "collapsed": true
   },
   "outputs": [],
   "source": [
    "np.percentile?"
   ]
  },
  {
   "cell_type": "markdown",
   "metadata": {},
   "source": [
    "I don't like the standard interpolation (because I don't understand what it does). I think 'lower' should be ok."
   ]
  },
  {
   "cell_type": "markdown",
   "metadata": {},
   "source": [
    "I am going to try some code that only needs to read in the BAM files once."
   ]
  },
  {
   "cell_type": "code",
   "execution_count": 1,
   "metadata": {
    "collapsed": true
   },
   "outputs": [],
   "source": [
    "from glob import glob"
   ]
  },
  {
   "cell_type": "code",
   "execution_count": 2,
   "metadata": {
    "collapsed": true
   },
   "outputs": [],
   "source": [
    "import subprocess32 as sp"
   ]
  },
  {
   "cell_type": "code",
   "execution_count": 3,
   "metadata": {
    "collapsed": true
   },
   "outputs": [],
   "source": [
    "import numpy as np"
   ]
  },
  {
   "cell_type": "code",
   "execution_count": 4,
   "metadata": {
    "collapsed": true
   },
   "outputs": [],
   "source": [
    "from collections import defaultdict"
   ]
  },
  {
   "cell_type": "code",
   "execution_count": 8,
   "metadata": {
    "collapsed": false
   },
   "outputs": [
    {
     "name": "stdout",
     "output_type": "stream",
     "text": [
      "575187 contigs passed individual and across sample coverage filtering\n",
      "CPU times: user 1min 49s, sys: 29.2 s, total: 2min 18s\n",
      "Wall time: 2min 34s\n"
     ]
    }
   ],
   "source": [
    "%%time\n",
    "\n",
    "#\n",
    "# initialise data structures\n",
    "#\n",
    "# set of contig ids's from contigs with excess individual coverage:\n",
    "excess_ind_cov = set()\n",
    "# stores contig id's with excess across sample coverage:\n",
    "excess_global_cov = set()\n",
    "# stores individual coverage distributions:\n",
    "ind_sample_cov = dict([(file, defaultdict(int)) for file in glob('*sorted.bam')])\n",
    "# stores across sample coverage distribution:\n",
    "across_sample_cov = defaultdict(int)\n",
    "# stores 99th coverage percentile for each individual:\n",
    "Q99_ind = {}\n",
    "# list of contigs with SE read mappings from any individual:\n",
    "all_contigs = set() # contigs with only PE read mappings are completely ignored\n",
    "\n",
    "# get coverage distributions\n",
    "for file in glob('*sorted.bam'):\n",
    "    cmd = \"samtools view -f 64 %s | gawk '$4==2' | cut -f 3 | uniq -c\" % (file)\n",
    "    pipe = sp.Popen(cmd, shell=True, stdout=sp.PIPE).stdout\n",
    "    for line in pipe:\n",
    "        cov, contig = line.strip().split()\n",
    "        ind_sample_cov[file][contig] += int(cov)\n",
    "        Q99_ind[file] = 0 # initialise dict\n",
    "        all_contigs.add(contig)\n",
    "        across_sample_cov[contig] += int(cov)\n",
    "    pipe.close()\n",
    "\n",
    "# get 99th percentiles of individual coverage distributions\n",
    "for file in glob('*sorted.bam'):\n",
    "    Q99_ind[file] = np.percentile(ind_sample_cov[file].values(), 99.0, interpolation='lower')\n",
    "\n",
    "# get 99th percentile of across sample coverage distribution\n",
    "Q99_across_sample = np.percentile(across_sample_cov.values(), 99.0, interpolation='lower')\n",
    "\n",
    "# check contigs for excess global, then individual coverage\n",
    "for contig in all_contigs:\n",
    "    if across_sample_cov[contig] > Q99_across_sample:\n",
    "        excess_global_cov.add(contig)\n",
    "        continue\n",
    "    for file in glob('*sorted.bam'):\n",
    "        if ind_sample_cov[file][contig] > Q99_ind[file]:\n",
    "            excess_ind_cov.add(contig)\n",
    "            break\n",
    "\n",
    "# Return a new set with elements in the set 'keep' that are not in the set 'excess_cov':\n",
    "keep_contigs = all_contigs.difference(excess_global_cov, excess_ind_cov) \n",
    "\n",
    "print \"{0:d} contigs passed individual and across sample coverage filtering\".format(len(keep_contigs))"
   ]
  },
  {
   "cell_type": "markdown",
   "metadata": {
    "collapsed": true
   },
   "source": [
    "I would like to tim individual parts of the previous code cell."
   ]
  },
  {
   "cell_type": "code",
   "execution_count": 9,
   "metadata": {
    "collapsed": false
   },
   "outputs": [
    {
     "name": "stdout",
     "output_type": "stream",
     "text": [
      "CPU times: user 17.8 s, sys: 928 ms, total: 18.7 s\n",
      "Wall time: 34.2 s\n"
     ]
    }
   ],
   "source": [
    "%%time\n",
    "\n",
    "#\n",
    "# initialise data structures\n",
    "#\n",
    "# set of contig ids's from contigs with excess individual coverage:\n",
    "excess_ind_cov = set()\n",
    "# stores contig id's with excess across sample coverage:\n",
    "excess_global_cov = set()\n",
    "# stores individual coverage distributions:\n",
    "ind_sample_cov = dict([(file, defaultdict(int)) for file in glob('*sorted.bam')])\n",
    "# stores across sample coverage distribution:\n",
    "across_sample_cov = defaultdict(int)\n",
    "# stores 99th coverage percentile for each individual:\n",
    "Q99_ind = {}\n",
    "# list of contigs with SE read mappings from any individual:\n",
    "all_contigs = set() # contigs with only PE read mappings are completely ignored\n",
    "\n",
    "# get coverage distributions\n",
    "for file in glob('*sorted.bam'):\n",
    "    cmd = \"samtools view -f 64 %s | gawk '$4==2' | cut -f 3 | uniq -c\" % (file)\n",
    "    pipe = sp.Popen(cmd, shell=True, stdout=sp.PIPE).stdout\n",
    "    for line in pipe:\n",
    "        cov, contig = line.strip().split()\n",
    "        ind_sample_cov[file][contig] += int(cov)\n",
    "        Q99_ind[file] = 0 # initialise dict\n",
    "        all_contigs.add(contig)\n",
    "        across_sample_cov[contig] += int(cov)\n",
    "    pipe.close()"
   ]
  },
  {
   "cell_type": "code",
   "execution_count": 10,
   "metadata": {
    "collapsed": false
   },
   "outputs": [
    {
     "name": "stdout",
     "output_type": "stream",
     "text": [
      "CPU times: user 424 ms, sys: 20 ms, total: 444 ms\n",
      "Wall time: 442 ms\n"
     ]
    }
   ],
   "source": [
    "%%time\n",
    "\n",
    "# get 99th percentiles of individual coverage distributions\n",
    "for file in glob('*sorted.bam'):\n",
    "    Q99_ind[file] = np.percentile(ind_sample_cov[file].values(), 99.0, interpolation='lower')\n",
    "\n",
    "# get 99th percentile of across sample coverage distribution\n",
    "Q99_across_sample = np.percentile(across_sample_cov.values(), 99.0, interpolation='lower')"
   ]
  },
  {
   "cell_type": "code",
   "execution_count": 11,
   "metadata": {
    "collapsed": false
   },
   "outputs": [
    {
     "name": "stdout",
     "output_type": "stream",
     "text": [
      "CPU times: user 1min 30s, sys: 27.9 s, total: 1min 58s\n",
      "Wall time: 1min 58s\n"
     ]
    }
   ],
   "source": [
    "%%time\n",
    "\n",
    "# check contigs for excess global, then individual coverage\n",
    "for contig in all_contigs:\n",
    "    if across_sample_cov[contig] > Q99_across_sample:\n",
    "        excess_global_cov.add(contig)\n",
    "        continue\n",
    "    for file in glob('*sorted.bam'):\n",
    "        if ind_sample_cov[file][contig] > Q99_ind[file]:\n",
    "            excess_ind_cov.add(contig)\n",
    "            break"
   ]
  },
  {
   "cell_type": "markdown",
   "metadata": {},
   "source": [
    "Clearly, that is the \"slow\" part."
   ]
  },
  {
   "cell_type": "code",
   "execution_count": 12,
   "metadata": {
    "collapsed": false
   },
   "outputs": [
    {
     "data": {
      "text/plain": [
       "581032"
      ]
     },
     "execution_count": 12,
     "metadata": {},
     "output_type": "execute_result"
    }
   ],
   "source": [
    "len(all_contigs)"
   ]
  },
  {
   "cell_type": "code",
   "execution_count": 13,
   "metadata": {
    "collapsed": false
   },
   "outputs": [
    {
     "name": "stdout",
     "output_type": "stream",
     "text": [
      "575187 contigs passed individual and across sample coverage filtering\n",
      "CPU times: user 134 ms, sys: 8.49 ms, total: 143 ms\n",
      "Wall time: 143 ms\n"
     ]
    }
   ],
   "source": [
    "%%time\n",
    "\n",
    "# Return a new set with elements in the set 'keep' that are not in the set 'excess_cov':\n",
    "\n",
    "keep_contigs = all_contigs.difference(excess_global_cov, excess_ind_cov) \n",
    "\n",
    "print \"{0:d} contigs passed individual and across sample coverage filtering\".format(len(keep_contigs))"
   ]
  },
  {
   "cell_type": "markdown",
   "metadata": {},
   "source": [
    "---"
   ]
  },
  {
   "cell_type": "markdown",
   "metadata": {},
   "source": [
    "Briefly try numba."
   ]
  },
  {
   "cell_type": "code",
   "execution_count": 19,
   "metadata": {
    "collapsed": false
   },
   "outputs": [],
   "source": [
    "a = np.array(all_contigs, dtype='str')"
   ]
  },
  {
   "cell_type": "code",
   "execution_count": 20,
   "metadata": {
    "collapsed": false
   },
   "outputs": [
    {
     "data": {
      "text/plain": [
       "dtype('S64')"
      ]
     },
     "execution_count": 20,
     "metadata": {},
     "output_type": "execute_result"
    }
   ],
   "source": [
    "a.dtype"
   ]
  },
  {
   "cell_type": "code",
   "execution_count": 21,
   "metadata": {
    "collapsed": true
   },
   "outputs": [],
   "source": [
    "from numba import jit"
   ]
  },
  {
   "cell_type": "code",
   "execution_count": 23,
   "metadata": {
    "collapsed": false
   },
   "outputs": [],
   "source": [
    "@jit(nopython=True)\n",
    "def check_excess_cov(all_contigs):\n",
    "    for contig in all_contigs:\n",
    "        if across_sample_cov[contig] > Q99_across_sample:\n",
    "            excess_global_cov.add(contig)\n",
    "            continue\n",
    "        for file in glob('*sorted.bam'):\n",
    "            if ind_sample_cov[file][contig] > Q99_ind[file]:\n",
    "                excess_ind_cov.add(contig)\n",
    "                break\n",
    "    return excess_global_cov, excess_ind_cov"
   ]
  },
  {
   "cell_type": "code",
   "execution_count": 24,
   "metadata": {
    "collapsed": false
   },
   "outputs": [
    {
     "ename": "TypeError",
     "evalue": "Caused By:\nTraceback (most recent call last):\n  File \"/usr/local/anaconda2/lib/python2.7/site-packages/numba/compiler.py\", line 249, in run\n    stage()\n  File \"/usr/local/anaconda2/lib/python2.7/site-packages/numba/compiler.py\", line 465, in stage_nopython_frontend\n    self.locals)\n  File \"/usr/local/anaconda2/lib/python2.7/site-packages/numba/compiler.py\", line 788, in type_inference_stage\n    infer.build_constraint()\n  File \"/usr/local/anaconda2/lib/python2.7/site-packages/numba/typeinfer.py\", line 701, in build_constraint\n    self.constrain_statement(inst)\n  File \"/usr/local/anaconda2/lib/python2.7/site-packages/numba/typeinfer.py\", line 830, in constrain_statement\n    self.typeof_assign(inst)\n  File \"/usr/local/anaconda2/lib/python2.7/site-packages/numba/typeinfer.py\", line 888, in typeof_assign\n    self.typeof_global(inst, inst.target, value)\n  File \"/usr/local/anaconda2/lib/python2.7/site-packages/numba/typeinfer.py\", line 976, in typeof_global\n    typ = self.context.resolve_value_type(gvar.value)\n  File \"/usr/local/anaconda2/lib/python2.7/site-packages/numba/typing/context.py\", line 233, in resolve_value_type\n    return self._get_global_type(val)\n  File \"/usr/local/anaconda2/lib/python2.7/site-packages/numba/typing/context.py\", line 241, in _get_global_type\n    return self._lookup_global(gv)\n  File \"/usr/local/anaconda2/lib/python2.7/site-packages/numba/typing/context.py\", line 295, in _lookup_global\n    return self._globals[gv]\nTypeError: unhashable type: 'dict'\n\nFailed at nopython (nopython frontend)\nunhashable type: 'dict'",
     "output_type": "error",
     "traceback": [
      "\u001b[1;31m---------------------------------------------------------------------------\u001b[0m",
      "\u001b[1;31mTypeError\u001b[0m                                 Traceback (most recent call last)",
      "\u001b[1;32m<ipython-input-24-0b2e50a21d64>\u001b[0m in \u001b[0;36m<module>\u001b[1;34m()\u001b[0m\n\u001b[1;32m----> 1\u001b[1;33m \u001b[0mb\u001b[0m\u001b[1;33m,\u001b[0m \u001b[0mc\u001b[0m \u001b[1;33m=\u001b[0m \u001b[0mcheck_excess_cov\u001b[0m\u001b[1;33m(\u001b[0m\u001b[0ma\u001b[0m\u001b[1;33m)\u001b[0m\u001b[1;33m\u001b[0m\u001b[0m\n\u001b[0m",
      "\u001b[1;32m/usr/local/anaconda2/lib/python2.7/site-packages/numba/dispatcher.pyc\u001b[0m in \u001b[0;36m_compile_for_args\u001b[1;34m(self, *args, **kws)\u001b[0m\n\u001b[0;32m    279\u001b[0m                 \u001b[0margtypes\u001b[0m\u001b[1;33m.\u001b[0m\u001b[0mappend\u001b[0m\u001b[1;33m(\u001b[0m\u001b[0mself\u001b[0m\u001b[1;33m.\u001b[0m\u001b[0mtypeof_pyval\u001b[0m\u001b[1;33m(\u001b[0m\u001b[0ma\u001b[0m\u001b[1;33m)\u001b[0m\u001b[1;33m)\u001b[0m\u001b[1;33m\u001b[0m\u001b[0m\n\u001b[0;32m    280\u001b[0m         \u001b[1;32mtry\u001b[0m\u001b[1;33m:\u001b[0m\u001b[1;33m\u001b[0m\u001b[0m\n\u001b[1;32m--> 281\u001b[1;33m             \u001b[1;32mreturn\u001b[0m \u001b[0mself\u001b[0m\u001b[1;33m.\u001b[0m\u001b[0mcompile\u001b[0m\u001b[1;33m(\u001b[0m\u001b[0mtuple\u001b[0m\u001b[1;33m(\u001b[0m\u001b[0margtypes\u001b[0m\u001b[1;33m)\u001b[0m\u001b[1;33m)\u001b[0m\u001b[1;33m\u001b[0m\u001b[0m\n\u001b[0m\u001b[0;32m    282\u001b[0m         \u001b[1;32mexcept\u001b[0m \u001b[0merrors\u001b[0m\u001b[1;33m.\u001b[0m\u001b[0mTypingError\u001b[0m \u001b[1;32mas\u001b[0m \u001b[0me\u001b[0m\u001b[1;33m:\u001b[0m\u001b[1;33m\u001b[0m\u001b[0m\n\u001b[0;32m    283\u001b[0m             \u001b[1;31m# Intercept typing error that may be due to an argument\u001b[0m\u001b[1;33m\u001b[0m\u001b[1;33m\u001b[0m\u001b[0m\n",
      "\u001b[1;32m/usr/local/anaconda2/lib/python2.7/site-packages/numba/dispatcher.pyc\u001b[0m in \u001b[0;36mcompile\u001b[1;34m(self, sig)\u001b[0m\n\u001b[0;32m    525\u001b[0m \u001b[1;33m\u001b[0m\u001b[0m\n\u001b[0;32m    526\u001b[0m             \u001b[0mself\u001b[0m\u001b[1;33m.\u001b[0m\u001b[0m_cache_misses\u001b[0m\u001b[1;33m[\u001b[0m\u001b[0msig\u001b[0m\u001b[1;33m]\u001b[0m \u001b[1;33m+=\u001b[0m \u001b[1;36m1\u001b[0m\u001b[1;33m\u001b[0m\u001b[0m\n\u001b[1;32m--> 527\u001b[1;33m             \u001b[0mcres\u001b[0m \u001b[1;33m=\u001b[0m \u001b[0mself\u001b[0m\u001b[1;33m.\u001b[0m\u001b[0m_compiler\u001b[0m\u001b[1;33m.\u001b[0m\u001b[0mcompile\u001b[0m\u001b[1;33m(\u001b[0m\u001b[0margs\u001b[0m\u001b[1;33m,\u001b[0m \u001b[0mreturn_type\u001b[0m\u001b[1;33m)\u001b[0m\u001b[1;33m\u001b[0m\u001b[0m\n\u001b[0m\u001b[0;32m    528\u001b[0m             \u001b[0mself\u001b[0m\u001b[1;33m.\u001b[0m\u001b[0madd_overload\u001b[0m\u001b[1;33m(\u001b[0m\u001b[0mcres\u001b[0m\u001b[1;33m)\u001b[0m\u001b[1;33m\u001b[0m\u001b[0m\n\u001b[0;32m    529\u001b[0m             \u001b[0mself\u001b[0m\u001b[1;33m.\u001b[0m\u001b[0m_cache\u001b[0m\u001b[1;33m.\u001b[0m\u001b[0msave_overload\u001b[0m\u001b[1;33m(\u001b[0m\u001b[0msig\u001b[0m\u001b[1;33m,\u001b[0m \u001b[0mcres\u001b[0m\u001b[1;33m)\u001b[0m\u001b[1;33m\u001b[0m\u001b[0m\n",
      "\u001b[1;32m/usr/local/anaconda2/lib/python2.7/site-packages/numba/dispatcher.pyc\u001b[0m in \u001b[0;36mcompile\u001b[1;34m(self, args, return_type)\u001b[0m\n\u001b[0;32m     74\u001b[0m                                       \u001b[0mimpl\u001b[0m\u001b[1;33m,\u001b[0m\u001b[1;33m\u001b[0m\u001b[0m\n\u001b[0;32m     75\u001b[0m                                       \u001b[0margs\u001b[0m\u001b[1;33m=\u001b[0m\u001b[0margs\u001b[0m\u001b[1;33m,\u001b[0m \u001b[0mreturn_type\u001b[0m\u001b[1;33m=\u001b[0m\u001b[0mreturn_type\u001b[0m\u001b[1;33m,\u001b[0m\u001b[1;33m\u001b[0m\u001b[0m\n\u001b[1;32m---> 76\u001b[1;33m                                       flags=flags, locals=self.locals)\n\u001b[0m\u001b[0;32m     77\u001b[0m         \u001b[1;31m# Check typing error if object mode is used\u001b[0m\u001b[1;33m\u001b[0m\u001b[1;33m\u001b[0m\u001b[0m\n\u001b[0;32m     78\u001b[0m         \u001b[1;32mif\u001b[0m \u001b[0mcres\u001b[0m\u001b[1;33m.\u001b[0m\u001b[0mtyping_error\u001b[0m \u001b[1;32mis\u001b[0m \u001b[1;32mnot\u001b[0m \u001b[0mNone\u001b[0m \u001b[1;32mand\u001b[0m \u001b[1;32mnot\u001b[0m \u001b[0mflags\u001b[0m\u001b[1;33m.\u001b[0m\u001b[0menable_pyobject\u001b[0m\u001b[1;33m:\u001b[0m\u001b[1;33m\u001b[0m\u001b[0m\n",
      "\u001b[1;32m/usr/local/anaconda2/lib/python2.7/site-packages/numba/compiler.pyc\u001b[0m in \u001b[0;36mcompile_extra\u001b[1;34m(typingctx, targetctx, func, args, return_type, flags, locals, library)\u001b[0m\n\u001b[0;32m    693\u001b[0m     pipeline = Pipeline(typingctx, targetctx, library,\n\u001b[0;32m    694\u001b[0m                         args, return_type, flags, locals)\n\u001b[1;32m--> 695\u001b[1;33m     \u001b[1;32mreturn\u001b[0m \u001b[0mpipeline\u001b[0m\u001b[1;33m.\u001b[0m\u001b[0mcompile_extra\u001b[0m\u001b[1;33m(\u001b[0m\u001b[0mfunc\u001b[0m\u001b[1;33m)\u001b[0m\u001b[1;33m\u001b[0m\u001b[0m\n\u001b[0m\u001b[0;32m    696\u001b[0m \u001b[1;33m\u001b[0m\u001b[0m\n\u001b[0;32m    697\u001b[0m \u001b[1;33m\u001b[0m\u001b[0m\n",
      "\u001b[1;32m/usr/local/anaconda2/lib/python2.7/site-packages/numba/compiler.pyc\u001b[0m in \u001b[0;36mcompile_extra\u001b[1;34m(self, func)\u001b[0m\n\u001b[0;32m    367\u001b[0m                 \u001b[1;32mraise\u001b[0m \u001b[0me\u001b[0m\u001b[1;33m\u001b[0m\u001b[0m\n\u001b[0;32m    368\u001b[0m \u001b[1;33m\u001b[0m\u001b[0m\n\u001b[1;32m--> 369\u001b[1;33m         \u001b[1;32mreturn\u001b[0m \u001b[0mself\u001b[0m\u001b[1;33m.\u001b[0m\u001b[0mcompile_bytecode\u001b[0m\u001b[1;33m(\u001b[0m\u001b[0mbc\u001b[0m\u001b[1;33m,\u001b[0m \u001b[0mfunc_attr\u001b[0m\u001b[1;33m=\u001b[0m\u001b[0mself\u001b[0m\u001b[1;33m.\u001b[0m\u001b[0mfunc_attr\u001b[0m\u001b[1;33m)\u001b[0m\u001b[1;33m\u001b[0m\u001b[0m\n\u001b[0m\u001b[0;32m    370\u001b[0m \u001b[1;33m\u001b[0m\u001b[0m\n\u001b[0;32m    371\u001b[0m     def compile_bytecode(self, bc, lifted=(), lifted_from=None,\n",
      "\u001b[1;32m/usr/local/anaconda2/lib/python2.7/site-packages/numba/compiler.pyc\u001b[0m in \u001b[0;36mcompile_bytecode\u001b[1;34m(self, bc, lifted, lifted_from, func_attr)\u001b[0m\n\u001b[0;32m    376\u001b[0m         \u001b[0mself\u001b[0m\u001b[1;33m.\u001b[0m\u001b[0mlifted_from\u001b[0m \u001b[1;33m=\u001b[0m \u001b[0mlifted_from\u001b[0m\u001b[1;33m\u001b[0m\u001b[0m\n\u001b[0;32m    377\u001b[0m         \u001b[0mself\u001b[0m\u001b[1;33m.\u001b[0m\u001b[0mfunc_attr\u001b[0m \u001b[1;33m=\u001b[0m \u001b[0mfunc_attr\u001b[0m\u001b[1;33m\u001b[0m\u001b[0m\n\u001b[1;32m--> 378\u001b[1;33m         \u001b[1;32mreturn\u001b[0m \u001b[0mself\u001b[0m\u001b[1;33m.\u001b[0m\u001b[0m_compile_bytecode\u001b[0m\u001b[1;33m(\u001b[0m\u001b[1;33m)\u001b[0m\u001b[1;33m\u001b[0m\u001b[0m\n\u001b[0m\u001b[0;32m    379\u001b[0m \u001b[1;33m\u001b[0m\u001b[0m\n\u001b[0;32m    380\u001b[0m     \u001b[1;32mdef\u001b[0m \u001b[0mcompile_internal\u001b[0m\u001b[1;33m(\u001b[0m\u001b[0mself\u001b[0m\u001b[1;33m,\u001b[0m \u001b[0mbc\u001b[0m\u001b[1;33m,\u001b[0m \u001b[0mfunc_attr\u001b[0m\u001b[1;33m=\u001b[0m\u001b[0mDEFAULT_FUNCTION_ATTRIBUTES\u001b[0m\u001b[1;33m)\u001b[0m\u001b[1;33m:\u001b[0m\u001b[1;33m\u001b[0m\u001b[0m\n",
      "\u001b[1;32m/usr/local/anaconda2/lib/python2.7/site-packages/numba/compiler.pyc\u001b[0m in \u001b[0;36m_compile_bytecode\u001b[1;34m(self)\u001b[0m\n\u001b[0;32m    659\u001b[0m \u001b[1;33m\u001b[0m\u001b[0m\n\u001b[0;32m    660\u001b[0m         \u001b[0mpm\u001b[0m\u001b[1;33m.\u001b[0m\u001b[0mfinalize\u001b[0m\u001b[1;33m(\u001b[0m\u001b[1;33m)\u001b[0m\u001b[1;33m\u001b[0m\u001b[0m\n\u001b[1;32m--> 661\u001b[1;33m         \u001b[0mres\u001b[0m \u001b[1;33m=\u001b[0m \u001b[0mpm\u001b[0m\u001b[1;33m.\u001b[0m\u001b[0mrun\u001b[0m\u001b[1;33m(\u001b[0m\u001b[0mself\u001b[0m\u001b[1;33m.\u001b[0m\u001b[0mstatus\u001b[0m\u001b[1;33m)\u001b[0m\u001b[1;33m\u001b[0m\u001b[0m\n\u001b[0m\u001b[0;32m    662\u001b[0m         \u001b[1;32mif\u001b[0m \u001b[0mres\u001b[0m \u001b[1;32mis\u001b[0m \u001b[1;32mnot\u001b[0m \u001b[0mNone\u001b[0m\u001b[1;33m:\u001b[0m\u001b[1;33m\u001b[0m\u001b[0m\n\u001b[0;32m    663\u001b[0m             \u001b[1;31m# Early pipeline completion\u001b[0m\u001b[1;33m\u001b[0m\u001b[1;33m\u001b[0m\u001b[0m\n",
      "\u001b[1;32m/usr/local/anaconda2/lib/python2.7/site-packages/numba/compiler.pyc\u001b[0m in \u001b[0;36mrun\u001b[1;34m(self, status)\u001b[0m\n\u001b[0;32m    255\u001b[0m                     \u001b[1;31m# No more fallback pipelines?\u001b[0m\u001b[1;33m\u001b[0m\u001b[1;33m\u001b[0m\u001b[0m\n\u001b[0;32m    256\u001b[0m                     \u001b[1;32mif\u001b[0m \u001b[0mis_final_pipeline\u001b[0m\u001b[1;33m:\u001b[0m\u001b[1;33m\u001b[0m\u001b[0m\n\u001b[1;32m--> 257\u001b[1;33m                         \u001b[1;32mraise\u001b[0m \u001b[0mpatched_exception\u001b[0m\u001b[1;33m\u001b[0m\u001b[0m\n\u001b[0m\u001b[0;32m    258\u001b[0m                     \u001b[1;31m# Go to next fallback pipeline\u001b[0m\u001b[1;33m\u001b[0m\u001b[1;33m\u001b[0m\u001b[0m\n\u001b[0;32m    259\u001b[0m                     \u001b[1;32melse\u001b[0m\u001b[1;33m:\u001b[0m\u001b[1;33m\u001b[0m\u001b[0m\n",
      "\u001b[1;31mTypeError\u001b[0m: Caused By:\nTraceback (most recent call last):\n  File \"/usr/local/anaconda2/lib/python2.7/site-packages/numba/compiler.py\", line 249, in run\n    stage()\n  File \"/usr/local/anaconda2/lib/python2.7/site-packages/numba/compiler.py\", line 465, in stage_nopython_frontend\n    self.locals)\n  File \"/usr/local/anaconda2/lib/python2.7/site-packages/numba/compiler.py\", line 788, in type_inference_stage\n    infer.build_constraint()\n  File \"/usr/local/anaconda2/lib/python2.7/site-packages/numba/typeinfer.py\", line 701, in build_constraint\n    self.constrain_statement(inst)\n  File \"/usr/local/anaconda2/lib/python2.7/site-packages/numba/typeinfer.py\", line 830, in constrain_statement\n    self.typeof_assign(inst)\n  File \"/usr/local/anaconda2/lib/python2.7/site-packages/numba/typeinfer.py\", line 888, in typeof_assign\n    self.typeof_global(inst, inst.target, value)\n  File \"/usr/local/anaconda2/lib/python2.7/site-packages/numba/typeinfer.py\", line 976, in typeof_global\n    typ = self.context.resolve_value_type(gvar.value)\n  File \"/usr/local/anaconda2/lib/python2.7/site-packages/numba/typing/context.py\", line 233, in resolve_value_type\n    return self._get_global_type(val)\n  File \"/usr/local/anaconda2/lib/python2.7/site-packages/numba/typing/context.py\", line 241, in _get_global_type\n    return self._lookup_global(gv)\n  File \"/usr/local/anaconda2/lib/python2.7/site-packages/numba/typing/context.py\", line 295, in _lookup_global\n    return self._globals[gv]\nTypeError: unhashable type: 'dict'\n\nFailed at nopython (nopython frontend)\nunhashable type: 'dict'"
     ]
    }
   ],
   "source": [
    "b, c = check_excess_cov(a)"
   ]
  },
  {
   "cell_type": "markdown",
   "metadata": {},
   "source": [
    "---"
   ]
  },
  {
   "cell_type": "code",
   "execution_count": 26,
   "metadata": {
    "collapsed": true
   },
   "outputs": [],
   "source": [
    "bed = \"Big_Data_Contigs.noSEgt2.noDUST.bed\""
   ]
  },
  {
   "cell_type": "code",
   "execution_count": 27,
   "metadata": {
    "collapsed": false
   },
   "outputs": [
    {
     "data": {
      "text/plain": [
       "'Big_Data_Contigs.noSEgt2.noDUST.COVfiltered.bed'"
      ]
     },
     "execution_count": 27,
     "metadata": {},
     "output_type": "execute_result"
    }
   ],
   "source": [
    "bed.replace(\".bed\", \".COVfiltered.bed\")"
   ]
  },
  {
   "cell_type": "code",
   "execution_count": 28,
   "metadata": {
    "collapsed": true
   },
   "outputs": [],
   "source": [
    "bed_in = open(\"Big_Data_Contigs.noSEgt2.noDUST.bed\")"
   ]
  },
  {
   "cell_type": "code",
   "execution_count": 29,
   "metadata": {
    "collapsed": true
   },
   "outputs": [],
   "source": [
    "bed_out = open(\"Big_Data_Contigs.noSEgt2.noDUST.bed\".replace(\".bed\", \".COVfiltered.bed\"), \"w\")"
   ]
  },
  {
   "cell_type": "code",
   "execution_count": 30,
   "metadata": {
    "collapsed": true
   },
   "outputs": [],
   "source": [
    "for line in bed_in:\n",
    "    contig, _, _ = line.strip().split()\n",
    "    if contig in keep_contigs:\n",
    "        bed_out.write(line)"
   ]
  },
  {
   "cell_type": "code",
   "execution_count": 31,
   "metadata": {
    "collapsed": true
   },
   "outputs": [],
   "source": [
    "bed_in.close()\n",
    "bed_out.close()"
   ]
  },
  {
   "cell_type": "markdown",
   "metadata": {},
   "source": [
    "## Minimum coverage filtering"
   ]
  },
  {
   "cell_type": "markdown",
   "metadata": {},
   "source": [
    "This would require a `samtools depth` file. It should do the same thing as `even_depth.pl`."
   ]
  },
  {
   "cell_type": "code",
   "execution_count": 43,
   "metadata": {
    "collapsed": true
   },
   "outputs": [],
   "source": [
    "# open gzipped depth file\n",
    "\n",
    "import gzip\n",
    "\n",
    "depth_fh = gzip.open(\"ParEry.noSEgt2.noDUST.COVfiltered.noTGCAGG.depth.gz\")"
   ]
  },
  {
   "cell_type": "code",
   "execution_count": 37,
   "metadata": {
    "collapsed": true
   },
   "outputs": [],
   "source": [
    "# iterate of lines of file and split into array\n",
    "\n",
    "i = 0\n",
    "for line in depth_fh:\n",
    "    i+=1\n",
    "    fields = line.strip().split()\n",
    "    if i>10: break\n",
    "\n",
    "depth_fh.close()"
   ]
  },
  {
   "cell_type": "code",
   "execution_count": 41,
   "metadata": {
    "collapsed": false
   },
   "outputs": [
    {
     "name": "stdout",
     "output_type": "stream",
     "text": [
      "[0 1 0 0 0 0 0 0 0 0 0 0 0 0 0 0 0 0 0 0 0 0 0 0 0 0 0 1 1 0 0 0 0 0 0 0]\n",
      "[0 1 0 0 0 0 0 0 0 0 0 0 0 0 0 0 0 0 0 0 0 0 0 0 0 0 0 1 1 0 0 0 0 0 0 0]\n",
      "[0 1 0 0 0 0 0 0 0 0 0 0 0 0 0 0 0 0 0 0 0 0 0 0 0 0 0 1 1 0 0 0 0 0 0 0]\n",
      "[0 1 0 0 0 0 0 0 0 0 0 0 0 0 0 0 0 0 0 0 0 0 0 0 0 0 0 1 1 0 0 0 0 0 0 0]\n",
      "[0 1 0 0 0 0 0 0 0 0 0 0 0 0 0 0 0 0 0 0 0 0 0 0 0 0 0 1 1 0 0 0 0 0 0 0]\n",
      "[0 1 0 0 0 0 0 0 0 0 0 0 0 0 0 0 0 0 0 0 0 0 0 0 0 0 0 1 1 0 0 0 0 0 0 0]\n",
      "[0 1 0 0 0 0 0 0 0 0 0 0 0 0 0 0 0 0 0 0 0 0 0 0 0 0 0 1 1 0 0 0 0 0 0 0]\n",
      "[0 1 0 0 0 0 0 0 0 0 0 0 0 0 0 0 0 0 0 0 0 0 0 0 0 0 0 1 1 0 0 0 0 0 0 0]\n",
      "[0 1 0 0 0 0 0 0 0 0 0 0 0 0 0 0 0 0 0 0 0 0 0 0 0 0 0 1 1 0 0 0 0 0 0 0]\n",
      "[0 1 0 0 0 0 0 0 0 0 0 0 0 0 0 0 0 0 0 0 0 0 0 0 0 0 0 1 1 0 0 0 0 0 0 0]\n",
      "[0 1 0 0 0 0 0 0 0 0 0 0 0 0 0 0 0 0 0 0 0 0 0 0 0 0 0 1 1 0 0 0 0 0 0 0]\n"
     ]
    }
   ],
   "source": [
    "# count number of individuals with > x coverage\n",
    "\n",
    "import numpy as np\n",
    "\n",
    "i = 0\n",
    "for line in depth_fh:\n",
    "    i+=1\n",
    "    fields = line.strip().split()\n",
    "    depths = np.array(fields[2:], dtype='int8')\n",
    "    print depths\n",
    "    if i>10: break\n",
    "\n",
    "depth_fh.close()"
   ]
  },
  {
   "cell_type": "code",
   "execution_count": 44,
   "metadata": {
    "collapsed": false
   },
   "outputs": [
    {
     "name": "stdout",
     "output_type": "stream",
     "text": [
      "[False  True False False False False False False False False False False\n",
      " False False False False False False False False False False False False\n",
      " False False False  True  True False False False False False False False]\n",
      "[False  True False False False False False False False False False False\n",
      " False False False False False False False False False False False False\n",
      " False False False  True  True False False False False False False False]\n",
      "[False  True False False False False False False False False False False\n",
      " False False False False False False False False False False False False\n",
      " False False False  True  True False False False False False False False]\n",
      "[False  True False False False False False False False False False False\n",
      " False False False False False False False False False False False False\n",
      " False False False  True  True False False False False False False False]\n",
      "[False  True False False False False False False False False False False\n",
      " False False False False False False False False False False False False\n",
      " False False False  True  True False False False False False False False]\n",
      "[False  True False False False False False False False False False False\n",
      " False False False False False False False False False False False False\n",
      " False False False  True  True False False False False False False False]\n",
      "[False  True False False False False False False False False False False\n",
      " False False False False False False False False False False False False\n",
      " False False False  True  True False False False False False False False]\n",
      "[False  True False False False False False False False False False False\n",
      " False False False False False False False False False False False False\n",
      " False False False  True  True False False False False False False False]\n",
      "[False  True False False False False False False False False False False\n",
      " False False False False False False False False False False False False\n",
      " False False False  True  True False False False False False False False]\n",
      "[False  True False False False False False False False False False False\n",
      " False False False False False False False False False False False False\n",
      " False False False  True  True False False False False False False False]\n",
      "[False  True False False False False False False False False False False\n",
      " False False False False False False False False False False False False\n",
      " False False False  True  True False False False False False False False]\n"
     ]
    }
   ],
   "source": [
    "# count number of individuals with > x coverage\n",
    "\n",
    "import numpy as np\n",
    "\n",
    "i = 0\n",
    "for line in depth_fh:\n",
    "    i+=1\n",
    "    fields = line.strip().split()\n",
    "    depths = np.array(fields[2:], dtype='int8')\n",
    "    print depths >= 1\n",
    "    if i>10: break\n",
    "\n",
    "depth_fh.close()"
   ]
  },
  {
   "cell_type": "code",
   "execution_count": 45,
   "metadata": {
    "collapsed": false
   },
   "outputs": [
    {
     "name": "stdout",
     "output_type": "stream",
     "text": [
      "3\n",
      "3\n",
      "3\n",
      "3\n",
      "3\n",
      "3\n",
      "3\n",
      "3\n",
      "3\n",
      "3\n",
      "3\n"
     ]
    }
   ],
   "source": [
    "# count number of individuals with > x coverage\n",
    "\n",
    "depth_fh = gzip.open(\"ParEry.noSEgt2.noDUST.COVfiltered.noTGCAGG.depth.gz\")\n",
    "\n",
    "import numpy as np\n",
    "\n",
    "i = 0\n",
    "for line in depth_fh:\n",
    "    i+=1\n",
    "    fields = line.strip().split()\n",
    "    depths = np.array(fields[2:], dtype='int8')\n",
    "    print sum( depths >= 1 )\n",
    "    if i>10: break\n",
    "\n",
    "depth_fh.close()"
   ]
  },
  {
   "cell_type": "code",
   "execution_count": 51,
   "metadata": {
    "collapsed": false
   },
   "outputs": [
    {
     "name": "stdout",
     "output_type": "stream",
     "text": [
      "Contig_41949\t8\t1\t3\t0\t4\t3\t3\t0\t0\t1\t0\t0\t1\t0\t1\t0\t5\t0\t4\t0\t0\t0\t1\t1\t0\t0\t0\t0\t0\t1\t0\t0\t3\t1\t2\t0\t0\n",
      "\n",
      "Contig_41949\t9\t1\t3\t0\t4\t3\t3\t0\t0\t1\t0\t0\t1\t0\t1\t0\t5\t0\t4\t0\t0\t0\t1\t1\t0\t0\t0\t0\t0\t1\t0\t0\t3\t1\t2\t0\t0\n",
      "\n",
      "Contig_41949\t10\t1\t3\t0\t4\t3\t3\t0\t0\t1\t0\t0\t1\t0\t1\t0\t5\t0\t4\t0\t0\t0\t1\t1\t0\t0\t0\t0\t0\t1\t0\t0\t3\t1\t2\t0\t0\n",
      "\n",
      "Contig_41949\t11\t1\t3\t0\t4\t3\t3\t0\t0\t1\t0\t0\t1\t0\t1\t0\t5\t0\t4\t0\t0\t0\t1\t1\t0\t0\t0\t0\t0\t1\t0\t0\t3\t1\t2\t0\t0\n",
      "\n",
      "Contig_41949\t12\t1\t3\t0\t4\t3\t3\t0\t0\t1\t0\t0\t1\t0\t1\t0\t5\t0\t4\t0\t0\t0\t1\t1\t0\t0\t0\t0\t0\t1\t0\t0\t3\t1\t2\t0\t0\n",
      "\n",
      "Contig_41949\t13\t1\t3\t0\t4\t3\t3\t0\t0\t1\t0\t0\t1\t0\t1\t0\t5\t0\t4\t0\t0\t0\t1\t1\t0\t0\t0\t0\t0\t1\t0\t0\t3\t1\t2\t0\t0\n",
      "\n",
      "Contig_41949\t14\t1\t3\t0\t4\t3\t3\t0\t0\t1\t0\t0\t1\t0\t1\t0\t5\t0\t4\t0\t0\t0\t1\t1\t0\t0\t0\t0\t0\t1\t0\t0\t3\t1\t2\t0\t0\n",
      "\n",
      "Contig_41949\t15\t1\t3\t0\t4\t3\t3\t0\t0\t1\t0\t0\t1\t0\t1\t0\t5\t0\t4\t0\t0\t0\t1\t1\t0\t0\t0\t0\t0\t1\t0\t0\t3\t1\t2\t0\t0\n",
      "\n",
      "Contig_41949\t16\t1\t3\t0\t4\t3\t3\t0\t0\t1\t0\t0\t1\t0\t1\t0\t5\t0\t4\t0\t0\t0\t1\t1\t0\t0\t0\t0\t0\t1\t0\t0\t3\t1\t2\t0\t0\n",
      "\n",
      "Contig_41949\t17\t1\t3\t0\t4\t3\t3\t0\t0\t1\t0\t0\t1\t0\t1\t0\t5\t0\t4\t0\t0\t0\t1\t1\t0\t0\t0\t0\t0\t1\t0\t0\t3\t1\t2\t0\t0\n",
      "\n",
      "Contig_41949\t18\t1\t3\t0\t4\t3\t3\t0\t0\t1\t0\t0\t1\t0\t1\t0\t5\t0\t4\t0\t0\t0\t1\t1\t0\t0\t0\t0\t0\t1\t0\t0\t3\t1\t2\t0\t0\n",
      "\n",
      "Contig_41949\t19\t1\t3\t0\t4\t3\t3\t0\t0\t1\t0\t0\t1\t0\t1\t0\t5\t0\t4\t0\t0\t0\t1\t1\t0\t0\t0\t0\t0\t1\t0\t0\t3\t1\t2\t0\t0\n",
      "\n",
      "Contig_41949\t20\t1\t3\t0\t4\t3\t3\t0\t0\t1\t0\t0\t1\t0\t1\t0\t5\t0\t4\t0\t0\t0\t1\t1\t0\t0\t0\t0\t0\t1\t0\t0\t3\t1\t2\t0\t0\n",
      "\n",
      "Contig_41949\t21\t1\t3\t0\t4\t3\t3\t0\t0\t1\t0\t0\t1\t0\t1\t0\t5\t0\t4\t0\t0\t0\t1\t1\t0\t0\t0\t0\t0\t1\t0\t0\t3\t1\t2\t0\t0\n",
      "\n",
      "Contig_41949\t22\t1\t3\t0\t4\t3\t3\t0\t0\t1\t0\t0\t1\t0\t1\t0\t5\t0\t4\t0\t0\t0\t1\t1\t0\t0\t0\t0\t0\t1\t0\t0\t3\t1\t2\t0\t0\n",
      "\n",
      "Contig_41949\t23\t1\t3\t0\t4\t3\t3\t0\t0\t1\t0\t0\t1\t0\t1\t0\t5\t0\t4\t0\t0\t0\t1\t1\t0\t0\t0\t0\t0\t1\t0\t0\t3\t1\t2\t0\t0\n",
      "\n",
      "Contig_41949\t24\t1\t3\t0\t4\t3\t3\t0\t0\t1\t0\t0\t1\t0\t1\t0\t5\t0\t4\t0\t0\t0\t1\t1\t0\t0\t0\t0\t0\t1\t0\t0\t3\t1\t2\t0\t0\n",
      "\n",
      "Contig_41949\t25\t1\t3\t0\t4\t3\t3\t0\t0\t1\t0\t0\t1\t0\t1\t0\t5\t0\t4\t0\t0\t0\t1\t1\t0\t0\t0\t0\t0\t1\t0\t0\t3\t1\t2\t0\t0\n",
      "\n",
      "Contig_41949\t26\t1\t3\t0\t5\t3\t3\t0\t0\t1\t0\t0\t1\t0\t1\t0\t5\t0\t4\t0\t0\t0\t1\t1\t0\t0\t0\t0\t0\t1\t0\t0\t3\t1\t2\t0\t0\n",
      "\n",
      "Contig_41949\t27\t1\t3\t0\t5\t3\t3\t0\t0\t1\t0\t0\t1\t0\t1\t0\t6\t0\t4\t0\t0\t0\t1\t1\t0\t0\t0\t0\t0\t1\t0\t0\t3\t1\t2\t0\t0\n",
      "\n",
      "Contig_41949\t28\t1\t4\t0\t5\t3\t3\t0\t0\t1\t0\t0\t1\t0\t1\t0\t6\t0\t5\t0\t0\t0\t1\t1\t0\t0\t0\t0\t0\t1\t0\t0\t4\t1\t2\t0\t0\n",
      "\n",
      "Contig_41949\t29\t1\t4\t0\t5\t3\t3\t0\t0\t1\t0\t0\t1\t0\t1\t0\t6\t0\t5\t0\t0\t0\t1\t1\t0\t0\t0\t0\t0\t1\t0\t0\t4\t1\t2\t0\t0\n",
      "\n",
      "Contig_41949\t30\t1\t4\t0\t5\t3\t3\t0\t0\t1\t0\t0\t1\t0\t1\t0\t7\t0\t5\t0\t0\t0\t1\t1\t0\t0\t0\t0\t0\t1\t0\t0\t4\t1\t2\t0\t0\n",
      "\n",
      "Contig_41949\t31\t1\t4\t0\t5\t3\t4\t0\t0\t1\t0\t0\t1\t0\t1\t0\t7\t0\t5\t0\t0\t0\t1\t1\t0\t0\t0\t0\t0\t1\t0\t0\t4\t1\t2\t0\t0\n",
      "\n",
      "Contig_41949\t32\t1\t4\t0\t5\t3\t4\t0\t0\t1\t0\t0\t1\t0\t1\t0\t7\t0\t5\t0\t0\t0\t1\t1\t0\t0\t0\t0\t0\t1\t0\t0\t4\t1\t2\t0\t0\n",
      "\n",
      "Contig_41949\t33\t1\t4\t0\t6\t4\t4\t0\t0\t1\t0\t0\t1\t0\t1\t0\t8\t0\t6\t0\t0\t0\t1\t1\t0\t0\t0\t0\t0\t1\t0\t0\t4\t1\t3\t0\t0\n",
      "\n",
      "Contig_41949\t34\t1\t4\t0\t6\t4\t4\t0\t0\t1\t0\t0\t1\t0\t1\t0\t8\t0\t6\t0\t0\t0\t1\t1\t0\t0\t0\t0\t0\t1\t0\t0\t4\t1\t3\t0\t0\n",
      "\n",
      "Contig_41949\t35\t1\t4\t0\t6\t4\t4\t0\t0\t1\t0\t0\t1\t0\t1\t0\t8\t0\t6\t0\t0\t0\t1\t1\t0\t0\t0\t0\t0\t1\t0\t0\t4\t1\t3\t0\t0\n",
      "\n",
      "Contig_41949\t36\t2\t5\t0\t6\t4\t4\t0\t0\t1\t0\t0\t1\t0\t1\t0\t8\t0\t6\t0\t0\t0\t1\t1\t0\t0\t0\t0\t0\t1\t0\t0\t5\t1\t3\t0\t0\n",
      "\n"
     ]
    }
   ],
   "source": [
    "# if enough individuals have > x coverage, print out the line, otherwise skip that site\n",
    "\n",
    "depth_fh = gzip.open(\"ParEry.noSEgt2.noDUST.COVfiltered.noTGCAGG.depth.gz\")\n",
    "\n",
    "import numpy as np\n",
    "\n",
    "i = 0\n",
    "for line in depth_fh:\n",
    "    i+=1\n",
    "    fields = line.strip().split()\n",
    "    depths = np.array(fields[2:], dtype='int8')\n",
    "    if sum( depths >= 1 ) >= 15:\n",
    "        print line\n",
    "    if i>600: break\n",
    "\n",
    "depth_fh.close()"
   ]
  },
  {
   "cell_type": "markdown",
   "metadata": {},
   "source": [
    "OK, this seems to work."
   ]
  },
  {
   "cell_type": "markdown",
   "metadata": {},
   "source": [
    "I have put the upper code in a script called `minimum_coverage_filter.py`."
   ]
  },
  {
   "cell_type": "markdown",
   "metadata": {},
   "source": [
    "Minimum coverage filtering on a samtools depth file is very slow. It took 2h 35 minutes to complete."
   ]
  },
  {
   "cell_type": "markdown",
   "metadata": {
    "collapsed": true
   },
   "source": [
    "## check output"
   ]
  },
  {
   "cell_type": "code",
   "execution_count": 1,
   "metadata": {
    "collapsed": true
   },
   "outputs": [],
   "source": [
    "import pandas as pd"
   ]
  },
  {
   "cell_type": "code",
   "execution_count": 2,
   "metadata": {
    "collapsed": false
   },
   "outputs": [
    {
     "name": "stdout",
     "output_type": "stream",
     "text": [
      "-rw-rw-r-- 1 claudius 5394164 May  7 17:50 \u001b[0m\u001b[01;31mParEry.noSEgt2.noDUST.COVfiltered.noTGCAGG.1.15.sites.gz\u001b[0m\r\n"
     ]
    }
   ],
   "source": [
    "% ll *sites.gz"
   ]
  },
  {
   "cell_type": "markdown",
   "metadata": {},
   "source": [
    "Unfortunately, I have let `minimum_coverage_filter.py` output only contig id and position, since that is all I need for ANGSD analysis. However, now I cannot get coverage distributions from the filtered sites. I have changed `minimum_coverage_filter.py` to print out the depth information for retained sites as well. The file is not very large anyway, when gzipped."
   ]
  },
  {
   "cell_type": "markdown",
   "metadata": {},
   "source": [
    "In order to get coverage distributions over these filtered sites, I can turn the *sites.gz file into a BED file with my script `sites2bed.pl`. I can then use this for another `samtools depth` command, which should be fairly quick."
   ]
  },
  {
   "cell_type": "code",
   "execution_count": 3,
   "metadata": {
    "collapsed": false
   },
   "outputs": [
    {
     "name": "stdout",
     "output_type": "stream",
     "text": [
      "-rw-rw-r-- 1 claudius   9563013 May  7 18:38 \u001b[0m\u001b[01;31mParEry.noSEgt2.noDUST.COVfiltered.noTGCAGG.1.15.depth.gz\u001b[0m\r\n",
      "-rw-rw-r-- 1 claudius 304419385 May  7 13:34 \u001b[01;31mParEry.noSEgt2.noDUST.COVfiltered.noTGCAGG.depth.gz\u001b[0m\r\n",
      "-rw-rw-r-- 1 claudius 319803427 Apr 29 17:47 \u001b[01;31mParEry.noSEgt2.noDUST.noTGCAGG.depth.gz\u001b[0m\r\n",
      "-rw-rw-r-- 1 claudius   7027655 May  5 14:47 \u001b[01;31mParEry.noSEgt2.nogtQ99Cov.noDUST.1.15.depth.gz\u001b[0m\r\n",
      "-rw-rw-r-- 1 claudius 326122152 May  5 13:52 \u001b[01;31mParEry.noSEgt2.nogtQ99Cov.noDUST.depth.gz\u001b[0m\r\n"
     ]
    }
   ],
   "source": [
    "% ll *depth.gz"
   ]
  },
  {
   "cell_type": "code",
   "execution_count": 4,
   "metadata": {
    "collapsed": true
   },
   "outputs": [],
   "source": [
    "# read compressed TAB-delimited file directly into pandas data frame\n",
    "\n",
    "filtered_sites_df = pd.read_table(\"ParEry.noSEgt2.noDUST.COVfiltered.noTGCAGG.1.15.depth.gz\", header=None)"
   ]
  },
  {
   "cell_type": "code",
   "execution_count": 5,
   "metadata": {
    "collapsed": false
   },
   "outputs": [
    {
     "data": {
      "text/html": [
       "<div>\n",
       "<table border=\"1\" class=\"dataframe\">\n",
       "  <thead>\n",
       "    <tr style=\"text-align: right;\">\n",
       "      <th></th>\n",
       "      <th>0</th>\n",
       "      <th>1</th>\n",
       "      <th>2</th>\n",
       "      <th>3</th>\n",
       "      <th>4</th>\n",
       "      <th>5</th>\n",
       "      <th>6</th>\n",
       "      <th>7</th>\n",
       "      <th>8</th>\n",
       "      <th>9</th>\n",
       "      <th>...</th>\n",
       "      <th>28</th>\n",
       "      <th>29</th>\n",
       "      <th>30</th>\n",
       "      <th>31</th>\n",
       "      <th>32</th>\n",
       "      <th>33</th>\n",
       "      <th>34</th>\n",
       "      <th>35</th>\n",
       "      <th>36</th>\n",
       "      <th>37</th>\n",
       "    </tr>\n",
       "  </thead>\n",
       "  <tbody>\n",
       "    <tr>\n",
       "      <th>0</th>\n",
       "      <td>Contig_41949</td>\n",
       "      <td>8</td>\n",
       "      <td>1</td>\n",
       "      <td>3</td>\n",
       "      <td>0</td>\n",
       "      <td>4</td>\n",
       "      <td>3</td>\n",
       "      <td>3</td>\n",
       "      <td>0</td>\n",
       "      <td>0</td>\n",
       "      <td>...</td>\n",
       "      <td>0</td>\n",
       "      <td>0</td>\n",
       "      <td>1</td>\n",
       "      <td>0</td>\n",
       "      <td>0</td>\n",
       "      <td>3</td>\n",
       "      <td>1</td>\n",
       "      <td>2</td>\n",
       "      <td>0</td>\n",
       "      <td>0</td>\n",
       "    </tr>\n",
       "    <tr>\n",
       "      <th>1</th>\n",
       "      <td>Contig_41949</td>\n",
       "      <td>9</td>\n",
       "      <td>1</td>\n",
       "      <td>3</td>\n",
       "      <td>0</td>\n",
       "      <td>4</td>\n",
       "      <td>3</td>\n",
       "      <td>3</td>\n",
       "      <td>0</td>\n",
       "      <td>0</td>\n",
       "      <td>...</td>\n",
       "      <td>0</td>\n",
       "      <td>0</td>\n",
       "      <td>1</td>\n",
       "      <td>0</td>\n",
       "      <td>0</td>\n",
       "      <td>3</td>\n",
       "      <td>1</td>\n",
       "      <td>2</td>\n",
       "      <td>0</td>\n",
       "      <td>0</td>\n",
       "    </tr>\n",
       "    <tr>\n",
       "      <th>2</th>\n",
       "      <td>Contig_41949</td>\n",
       "      <td>10</td>\n",
       "      <td>1</td>\n",
       "      <td>3</td>\n",
       "      <td>0</td>\n",
       "      <td>4</td>\n",
       "      <td>3</td>\n",
       "      <td>3</td>\n",
       "      <td>0</td>\n",
       "      <td>0</td>\n",
       "      <td>...</td>\n",
       "      <td>0</td>\n",
       "      <td>0</td>\n",
       "      <td>1</td>\n",
       "      <td>0</td>\n",
       "      <td>0</td>\n",
       "      <td>3</td>\n",
       "      <td>1</td>\n",
       "      <td>2</td>\n",
       "      <td>0</td>\n",
       "      <td>0</td>\n",
       "    </tr>\n",
       "    <tr>\n",
       "      <th>3</th>\n",
       "      <td>Contig_41949</td>\n",
       "      <td>11</td>\n",
       "      <td>1</td>\n",
       "      <td>3</td>\n",
       "      <td>0</td>\n",
       "      <td>4</td>\n",
       "      <td>3</td>\n",
       "      <td>3</td>\n",
       "      <td>0</td>\n",
       "      <td>0</td>\n",
       "      <td>...</td>\n",
       "      <td>0</td>\n",
       "      <td>0</td>\n",
       "      <td>1</td>\n",
       "      <td>0</td>\n",
       "      <td>0</td>\n",
       "      <td>3</td>\n",
       "      <td>1</td>\n",
       "      <td>2</td>\n",
       "      <td>0</td>\n",
       "      <td>0</td>\n",
       "    </tr>\n",
       "    <tr>\n",
       "      <th>4</th>\n",
       "      <td>Contig_41949</td>\n",
       "      <td>12</td>\n",
       "      <td>1</td>\n",
       "      <td>3</td>\n",
       "      <td>0</td>\n",
       "      <td>4</td>\n",
       "      <td>3</td>\n",
       "      <td>3</td>\n",
       "      <td>0</td>\n",
       "      <td>0</td>\n",
       "      <td>...</td>\n",
       "      <td>0</td>\n",
       "      <td>0</td>\n",
       "      <td>1</td>\n",
       "      <td>0</td>\n",
       "      <td>0</td>\n",
       "      <td>3</td>\n",
       "      <td>1</td>\n",
       "      <td>2</td>\n",
       "      <td>0</td>\n",
       "      <td>0</td>\n",
       "    </tr>\n",
       "    <tr>\n",
       "      <th>5</th>\n",
       "      <td>Contig_41949</td>\n",
       "      <td>13</td>\n",
       "      <td>1</td>\n",
       "      <td>3</td>\n",
       "      <td>0</td>\n",
       "      <td>4</td>\n",
       "      <td>3</td>\n",
       "      <td>3</td>\n",
       "      <td>0</td>\n",
       "      <td>0</td>\n",
       "      <td>...</td>\n",
       "      <td>0</td>\n",
       "      <td>0</td>\n",
       "      <td>1</td>\n",
       "      <td>0</td>\n",
       "      <td>0</td>\n",
       "      <td>3</td>\n",
       "      <td>1</td>\n",
       "      <td>2</td>\n",
       "      <td>0</td>\n",
       "      <td>0</td>\n",
       "    </tr>\n",
       "  </tbody>\n",
       "</table>\n",
       "<p>6 rows × 38 columns</p>\n",
       "</div>"
      ],
      "text/plain": [
       "             0   1   2   3   4   5   6   7   8   9  ...  28  29  30  31  32  \\\n",
       "0  Contig_41949   8   1   3   0   4   3   3   0   0 ...   0   0   1   0   0   \n",
       "1  Contig_41949   9   1   3   0   4   3   3   0   0 ...   0   0   1   0   0   \n",
       "2  Contig_41949  10   1   3   0   4   3   3   0   0 ...   0   0   1   0   0   \n",
       "3  Contig_41949  11   1   3   0   4   3   3   0   0 ...   0   0   1   0   0   \n",
       "4  Contig_41949  12   1   3   0   4   3   3   0   0 ...   0   0   1   0   0   \n",
       "5  Contig_41949  13   1   3   0   4   3   3   0   0 ...   0   0   1   0   0   \n",
       "\n",
       "   33  34  35  36  37  \n",
       "0   3   1   2   0   0  \n",
       "1   3   1   2   0   0  \n",
       "2   3   1   2   0   0  \n",
       "3   3   1   2   0   0  \n",
       "4   3   1   2   0   0  \n",
       "5   3   1   2   0   0  \n",
       "\n",
       "[6 rows x 38 columns]"
      ]
     },
     "execution_count": 5,
     "metadata": {},
     "output_type": "execute_result"
    }
   ],
   "source": [
    "filtered_sites_df.head(6)"
   ]
  },
  {
   "cell_type": "code",
   "execution_count": 6,
   "metadata": {
    "collapsed": false
   },
   "outputs": [
    {
     "data": {
      "text/html": [
       "<div>\n",
       "<table border=\"1\" class=\"dataframe\">\n",
       "  <thead>\n",
       "    <tr style=\"text-align: right;\">\n",
       "      <th></th>\n",
       "      <th>2</th>\n",
       "      <th>3</th>\n",
       "      <th>4</th>\n",
       "      <th>5</th>\n",
       "      <th>6</th>\n",
       "      <th>7</th>\n",
       "      <th>8</th>\n",
       "      <th>9</th>\n",
       "      <th>10</th>\n",
       "      <th>11</th>\n",
       "      <th>...</th>\n",
       "      <th>28</th>\n",
       "      <th>29</th>\n",
       "      <th>30</th>\n",
       "      <th>31</th>\n",
       "      <th>32</th>\n",
       "      <th>33</th>\n",
       "      <th>34</th>\n",
       "      <th>35</th>\n",
       "      <th>36</th>\n",
       "      <th>37</th>\n",
       "    </tr>\n",
       "  </thead>\n",
       "  <tbody>\n",
       "    <tr>\n",
       "      <th>count</th>\n",
       "      <td>2.683395e+06</td>\n",
       "      <td>2.683395e+06</td>\n",
       "      <td>2.683395e+06</td>\n",
       "      <td>2.683395e+06</td>\n",
       "      <td>2.683395e+06</td>\n",
       "      <td>2.683395e+06</td>\n",
       "      <td>2.683395e+06</td>\n",
       "      <td>2.683395e+06</td>\n",
       "      <td>2.683395e+06</td>\n",
       "      <td>2.683395e+06</td>\n",
       "      <td>...</td>\n",
       "      <td>2.683395e+06</td>\n",
       "      <td>2.683395e+06</td>\n",
       "      <td>2.683395e+06</td>\n",
       "      <td>2.683395e+06</td>\n",
       "      <td>2.683395e+06</td>\n",
       "      <td>2.683395e+06</td>\n",
       "      <td>2.683395e+06</td>\n",
       "      <td>2.683395e+06</td>\n",
       "      <td>2.683395e+06</td>\n",
       "      <td>2.683395e+06</td>\n",
       "    </tr>\n",
       "    <tr>\n",
       "      <th>mean</th>\n",
       "      <td>1.929379e+00</td>\n",
       "      <td>1.630075e+00</td>\n",
       "      <td>1.220359e+00</td>\n",
       "      <td>1.050827e+00</td>\n",
       "      <td>1.222843e+00</td>\n",
       "      <td>1.701823e+00</td>\n",
       "      <td>1.261789e+00</td>\n",
       "      <td>1.372002e+00</td>\n",
       "      <td>1.725308e+00</td>\n",
       "      <td>1.181697e+00</td>\n",
       "      <td>...</td>\n",
       "      <td>8.331215e-01</td>\n",
       "      <td>2.962553e-01</td>\n",
       "      <td>9.800909e-01</td>\n",
       "      <td>8.358020e-01</td>\n",
       "      <td>6.237427e-01</td>\n",
       "      <td>1.077075e+00</td>\n",
       "      <td>7.978155e-01</td>\n",
       "      <td>9.008454e-01</td>\n",
       "      <td>8.817416e-01</td>\n",
       "      <td>7.312651e-01</td>\n",
       "    </tr>\n",
       "    <tr>\n",
       "      <th>std</th>\n",
       "      <td>1.980922e+00</td>\n",
       "      <td>1.732432e+00</td>\n",
       "      <td>1.414041e+00</td>\n",
       "      <td>1.316840e+00</td>\n",
       "      <td>1.437516e+00</td>\n",
       "      <td>1.798782e+00</td>\n",
       "      <td>1.447722e+00</td>\n",
       "      <td>1.548128e+00</td>\n",
       "      <td>1.804316e+00</td>\n",
       "      <td>1.395880e+00</td>\n",
       "      <td>...</td>\n",
       "      <td>1.162850e+00</td>\n",
       "      <td>6.232341e-01</td>\n",
       "      <td>1.312636e+00</td>\n",
       "      <td>1.156669e+00</td>\n",
       "      <td>9.700308e-01</td>\n",
       "      <td>1.398606e+00</td>\n",
       "      <td>1.132069e+00</td>\n",
       "      <td>1.231474e+00</td>\n",
       "      <td>1.207030e+00</td>\n",
       "      <td>1.071054e+00</td>\n",
       "    </tr>\n",
       "    <tr>\n",
       "      <th>min</th>\n",
       "      <td>0.000000e+00</td>\n",
       "      <td>0.000000e+00</td>\n",
       "      <td>0.000000e+00</td>\n",
       "      <td>0.000000e+00</td>\n",
       "      <td>0.000000e+00</td>\n",
       "      <td>0.000000e+00</td>\n",
       "      <td>0.000000e+00</td>\n",
       "      <td>0.000000e+00</td>\n",
       "      <td>0.000000e+00</td>\n",
       "      <td>0.000000e+00</td>\n",
       "      <td>...</td>\n",
       "      <td>0.000000e+00</td>\n",
       "      <td>0.000000e+00</td>\n",
       "      <td>0.000000e+00</td>\n",
       "      <td>0.000000e+00</td>\n",
       "      <td>0.000000e+00</td>\n",
       "      <td>0.000000e+00</td>\n",
       "      <td>0.000000e+00</td>\n",
       "      <td>0.000000e+00</td>\n",
       "      <td>0.000000e+00</td>\n",
       "      <td>0.000000e+00</td>\n",
       "    </tr>\n",
       "    <tr>\n",
       "      <th>25%</th>\n",
       "      <td>0.000000e+00</td>\n",
       "      <td>0.000000e+00</td>\n",
       "      <td>0.000000e+00</td>\n",
       "      <td>0.000000e+00</td>\n",
       "      <td>0.000000e+00</td>\n",
       "      <td>0.000000e+00</td>\n",
       "      <td>0.000000e+00</td>\n",
       "      <td>0.000000e+00</td>\n",
       "      <td>0.000000e+00</td>\n",
       "      <td>0.000000e+00</td>\n",
       "      <td>...</td>\n",
       "      <td>0.000000e+00</td>\n",
       "      <td>0.000000e+00</td>\n",
       "      <td>0.000000e+00</td>\n",
       "      <td>0.000000e+00</td>\n",
       "      <td>0.000000e+00</td>\n",
       "      <td>0.000000e+00</td>\n",
       "      <td>0.000000e+00</td>\n",
       "      <td>0.000000e+00</td>\n",
       "      <td>0.000000e+00</td>\n",
       "      <td>0.000000e+00</td>\n",
       "    </tr>\n",
       "    <tr>\n",
       "      <th>50%</th>\n",
       "      <td>1.000000e+00</td>\n",
       "      <td>1.000000e+00</td>\n",
       "      <td>1.000000e+00</td>\n",
       "      <td>1.000000e+00</td>\n",
       "      <td>1.000000e+00</td>\n",
       "      <td>1.000000e+00</td>\n",
       "      <td>1.000000e+00</td>\n",
       "      <td>1.000000e+00</td>\n",
       "      <td>1.000000e+00</td>\n",
       "      <td>1.000000e+00</td>\n",
       "      <td>...</td>\n",
       "      <td>0.000000e+00</td>\n",
       "      <td>0.000000e+00</td>\n",
       "      <td>1.000000e+00</td>\n",
       "      <td>0.000000e+00</td>\n",
       "      <td>0.000000e+00</td>\n",
       "      <td>1.000000e+00</td>\n",
       "      <td>0.000000e+00</td>\n",
       "      <td>0.000000e+00</td>\n",
       "      <td>0.000000e+00</td>\n",
       "      <td>0.000000e+00</td>\n",
       "    </tr>\n",
       "    <tr>\n",
       "      <th>75%</th>\n",
       "      <td>3.000000e+00</td>\n",
       "      <td>2.000000e+00</td>\n",
       "      <td>2.000000e+00</td>\n",
       "      <td>2.000000e+00</td>\n",
       "      <td>2.000000e+00</td>\n",
       "      <td>3.000000e+00</td>\n",
       "      <td>2.000000e+00</td>\n",
       "      <td>2.000000e+00</td>\n",
       "      <td>3.000000e+00</td>\n",
       "      <td>2.000000e+00</td>\n",
       "      <td>...</td>\n",
       "      <td>1.000000e+00</td>\n",
       "      <td>0.000000e+00</td>\n",
       "      <td>1.000000e+00</td>\n",
       "      <td>1.000000e+00</td>\n",
       "      <td>1.000000e+00</td>\n",
       "      <td>2.000000e+00</td>\n",
       "      <td>1.000000e+00</td>\n",
       "      <td>1.000000e+00</td>\n",
       "      <td>1.000000e+00</td>\n",
       "      <td>1.000000e+00</td>\n",
       "    </tr>\n",
       "    <tr>\n",
       "      <th>max</th>\n",
       "      <td>2.900000e+01</td>\n",
       "      <td>1.800000e+01</td>\n",
       "      <td>1.600000e+01</td>\n",
       "      <td>2.300000e+01</td>\n",
       "      <td>1.500000e+01</td>\n",
       "      <td>2.100000e+01</td>\n",
       "      <td>1.800000e+01</td>\n",
       "      <td>2.200000e+01</td>\n",
       "      <td>1.900000e+01</td>\n",
       "      <td>1.800000e+01</td>\n",
       "      <td>...</td>\n",
       "      <td>1.800000e+01</td>\n",
       "      <td>9.000000e+00</td>\n",
       "      <td>2.200000e+01</td>\n",
       "      <td>1.600000e+01</td>\n",
       "      <td>1.200000e+01</td>\n",
       "      <td>2.500000e+01</td>\n",
       "      <td>2.000000e+01</td>\n",
       "      <td>2.400000e+01</td>\n",
       "      <td>1.900000e+01</td>\n",
       "      <td>1.600000e+01</td>\n",
       "    </tr>\n",
       "  </tbody>\n",
       "</table>\n",
       "<p>8 rows × 36 columns</p>\n",
       "</div>"
      ],
      "text/plain": [
       "                 2             3             4             5             6   \\\n",
       "count  2.683395e+06  2.683395e+06  2.683395e+06  2.683395e+06  2.683395e+06   \n",
       "mean   1.929379e+00  1.630075e+00  1.220359e+00  1.050827e+00  1.222843e+00   \n",
       "std    1.980922e+00  1.732432e+00  1.414041e+00  1.316840e+00  1.437516e+00   \n",
       "min    0.000000e+00  0.000000e+00  0.000000e+00  0.000000e+00  0.000000e+00   \n",
       "25%    0.000000e+00  0.000000e+00  0.000000e+00  0.000000e+00  0.000000e+00   \n",
       "50%    1.000000e+00  1.000000e+00  1.000000e+00  1.000000e+00  1.000000e+00   \n",
       "75%    3.000000e+00  2.000000e+00  2.000000e+00  2.000000e+00  2.000000e+00   \n",
       "max    2.900000e+01  1.800000e+01  1.600000e+01  2.300000e+01  1.500000e+01   \n",
       "\n",
       "                 7             8             9             10            11  \\\n",
       "count  2.683395e+06  2.683395e+06  2.683395e+06  2.683395e+06  2.683395e+06   \n",
       "mean   1.701823e+00  1.261789e+00  1.372002e+00  1.725308e+00  1.181697e+00   \n",
       "std    1.798782e+00  1.447722e+00  1.548128e+00  1.804316e+00  1.395880e+00   \n",
       "min    0.000000e+00  0.000000e+00  0.000000e+00  0.000000e+00  0.000000e+00   \n",
       "25%    0.000000e+00  0.000000e+00  0.000000e+00  0.000000e+00  0.000000e+00   \n",
       "50%    1.000000e+00  1.000000e+00  1.000000e+00  1.000000e+00  1.000000e+00   \n",
       "75%    3.000000e+00  2.000000e+00  2.000000e+00  3.000000e+00  2.000000e+00   \n",
       "max    2.100000e+01  1.800000e+01  2.200000e+01  1.900000e+01  1.800000e+01   \n",
       "\n",
       "           ...                 28            29            30            31  \\\n",
       "count      ...       2.683395e+06  2.683395e+06  2.683395e+06  2.683395e+06   \n",
       "mean       ...       8.331215e-01  2.962553e-01  9.800909e-01  8.358020e-01   \n",
       "std        ...       1.162850e+00  6.232341e-01  1.312636e+00  1.156669e+00   \n",
       "min        ...       0.000000e+00  0.000000e+00  0.000000e+00  0.000000e+00   \n",
       "25%        ...       0.000000e+00  0.000000e+00  0.000000e+00  0.000000e+00   \n",
       "50%        ...       0.000000e+00  0.000000e+00  1.000000e+00  0.000000e+00   \n",
       "75%        ...       1.000000e+00  0.000000e+00  1.000000e+00  1.000000e+00   \n",
       "max        ...       1.800000e+01  9.000000e+00  2.200000e+01  1.600000e+01   \n",
       "\n",
       "                 32            33            34            35            36  \\\n",
       "count  2.683395e+06  2.683395e+06  2.683395e+06  2.683395e+06  2.683395e+06   \n",
       "mean   6.237427e-01  1.077075e+00  7.978155e-01  9.008454e-01  8.817416e-01   \n",
       "std    9.700308e-01  1.398606e+00  1.132069e+00  1.231474e+00  1.207030e+00   \n",
       "min    0.000000e+00  0.000000e+00  0.000000e+00  0.000000e+00  0.000000e+00   \n",
       "25%    0.000000e+00  0.000000e+00  0.000000e+00  0.000000e+00  0.000000e+00   \n",
       "50%    0.000000e+00  1.000000e+00  0.000000e+00  0.000000e+00  0.000000e+00   \n",
       "75%    1.000000e+00  2.000000e+00  1.000000e+00  1.000000e+00  1.000000e+00   \n",
       "max    1.200000e+01  2.500000e+01  2.000000e+01  2.400000e+01  1.900000e+01   \n",
       "\n",
       "                 37  \n",
       "count  2.683395e+06  \n",
       "mean   7.312651e-01  \n",
       "std    1.071054e+00  \n",
       "min    0.000000e+00  \n",
       "25%    0.000000e+00  \n",
       "50%    0.000000e+00  \n",
       "75%    1.000000e+00  \n",
       "max    1.600000e+01  \n",
       "\n",
       "[8 rows x 36 columns]"
      ]
     },
     "execution_count": 6,
     "metadata": {},
     "output_type": "execute_result"
    }
   ],
   "source": [
    "# get basix statistics from the coverage table\n",
    "\n",
    "filtered_sites_df.iloc[:, 2:].describe()"
   ]
  },
  {
   "cell_type": "code",
   "execution_count": 7,
   "metadata": {
    "collapsed": true
   },
   "outputs": [],
   "source": [
    "import matplotlib.pyplot as plt"
   ]
  },
  {
   "cell_type": "code",
   "execution_count": 8,
   "metadata": {
    "collapsed": true
   },
   "outputs": [],
   "source": [
    "%matplotlib inline"
   ]
  },
  {
   "cell_type": "code",
   "execution_count": 9,
   "metadata": {
    "collapsed": true
   },
   "outputs": [],
   "source": [
    "import matplotlib\n",
    "\n",
    "matplotlib.style.use('ggplot')"
   ]
  },
  {
   "cell_type": "code",
   "execution_count": 10,
   "metadata": {
    "collapsed": true
   },
   "outputs": [],
   "source": [
    "# get global coverage for each site\n",
    "\n",
    "filtered_sites_df['rowsums'] = pd.Series(filtered_sites_df.iloc[:, 2:].sum(axis=1)) \n",
    "# axis=1 means sum over columns"
   ]
  },
  {
   "cell_type": "code",
   "execution_count": 20,
   "metadata": {
    "collapsed": false
   },
   "outputs": [
    {
     "data": {
      "image/png": "[encoded data removed]",
      "text/plain": [
       "<matplotlib.figure.Figure at 0x7f81d4fb9450>"
      ]
     },
     "metadata": {},
     "output_type": "display_data"
    }
   ],
   "source": [
    "filtered_sites_df['rowsums'].plot.hist(figsize=(14,12), bins=100, color='k', fontsize=14)\n",
    "#plt.xlim(0, 200)\n",
    "plt.xlabel(\"global coverage\")\n",
    "plt.ylabel(\"count of sites\")\n",
    "plt.title(\"global coverage distribution\")\n",
    "plt.savefig(\"ParEry.noSEgt2.noDUST.COVfiltered.noTGCAGG.1.15.GlobalCovDist.pdf\")"
   ]
  },
  {
   "cell_type": "code",
   "execution_count": 14,
   "metadata": {
    "collapsed": true
   },
   "outputs": [],
   "source": [
    "pd.DataFrame.plot.hist?"
   ]
  },
  {
   "cell_type": "markdown",
   "metadata": {},
   "source": [
    "The bins are difficult to set. I am going to create the histogram with R. matplotlib seems to be incapable of producing a full resolution histogram without artefacts."
   ]
  },
  {
   "cell_type": "markdown",
   "metadata": {},
   "source": [
    "Besides the artefacts, the across sample coverage distribution of excess coverage filtered and minimum coverage filtered sites looks good. Much better from previous coverage filtering (see above)! There are negligibly few sites with coverage above the 99th percentile of across-sample SE read coverage (148)."
   ]
  },
  {
   "cell_type": "code",
   "execution_count": null,
   "metadata": {
    "collapsed": true
   },
   "outputs": [],
   "source": []
  }
 ],
 "metadata": {
  "anaconda-cloud": {},
  "kernelspec": {
   "display_name": "Python [default]",
   "language": "python",
   "name": "python2"
  },
  "language_info": {
   "codemirror_mode": {
    "name": "ipython",
    "version": 2
   },
   "file_extension": ".py",
   "mimetype": "text/x-python",
   "name": "python",
   "nbconvert_exporter": "python",
   "pygments_lexer": "ipython2",
   "version": "2.7.12"
  },
  "toc": {
   "colors": {
    "hover_highlight": "#DAA520",
    "running_highlight": "#FF0000",
    "selected_highlight": "#FFD700"
   },
   "moveMenuLeft": true,
   "nav_menu": {
    "height": "12px",
    "width": "252px"
   },
   "navigate_menu": true,
   "number_sections": true,
   "sideBar": true,
   "threshold": 4,
   "toc_cell": true,
   "toc_position": {
    "height": "565px",
    "left": "0px",
    "right": "1090px",
    "top": "107px",
    "width": "190px"
   },
   "toc_section_display": "block",
   "toc_window_display": true
  }
 },
 "nbformat": 4,
 "nbformat_minor": 0
}
