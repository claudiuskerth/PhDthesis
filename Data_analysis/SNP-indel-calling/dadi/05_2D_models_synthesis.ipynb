{
 "cells": [
  {
   "cell_type": "markdown",
   "metadata": {
    "toc": "true"
   },
   "source": [
    "# Table of Contents\n",
    " <p><div class=\"lev1 toc-item\"><a href=\"#plot-the-data\" data-toc-modified-id=\"plot-the-data-1\"><span class=\"toc-item-num\">1&nbsp;&nbsp;</span>plot the data</a></div><div class=\"lev1 toc-item\"><a href=\"#divergence-in-isolation-model\" data-toc-modified-id=\"divergence-in-isolation-model-2\"><span class=\"toc-item-num\">2&nbsp;&nbsp;</span>divergence in isolation model</a></div><div class=\"lev2 toc-item\"><a href=\"#Interpretation-of-parameters\" data-toc-modified-id=\"Interpretation-of-parameters-21\"><span class=\"toc-item-num\">2.1&nbsp;&nbsp;</span>Interpretation of parameters</a></div><div class=\"lev1 toc-item\"><a href=\"#compare-marginal-spectra\" data-toc-modified-id=\"compare-marginal-spectra-3\"><span class=\"toc-item-num\">3&nbsp;&nbsp;</span>compare marginal spectra</a></div><div class=\"lev2 toc-item\"><a href=\"#plot-residuals\" data-toc-modified-id=\"plot-residuals-31\"><span class=\"toc-item-num\">3.1&nbsp;&nbsp;</span>plot residuals</a></div><div class=\"lev1 toc-item\"><a href=\"#adding-gene-flow\" data-toc-modified-id=\"adding-gene-flow-4\"><span class=\"toc-item-num\">4&nbsp;&nbsp;</span>adding gene flow</a></div><div class=\"lev2 toc-item\"><a href=\"#plot-residuals\" data-toc-modified-id=\"plot-residuals-41\"><span class=\"toc-item-num\">4.1&nbsp;&nbsp;</span>plot residuals</a></div><div class=\"lev2 toc-item\"><a href=\"#Interpretation-of-parameters\" data-toc-modified-id=\"Interpretation-of-parameters-42\"><span class=\"toc-item-num\">4.2&nbsp;&nbsp;</span>Interpretation of parameters</a></div><div class=\"lev3 toc-item\"><a href=\"#Translation-of-m\" data-toc-modified-id=\"Translation-of-m-421\"><span class=\"toc-item-num\">4.2.1&nbsp;&nbsp;</span>Translation of <em>m</em></a></div><div class=\"lev2 toc-item\"><a href=\"#LRT\" data-toc-modified-id=\"LRT-43\"><span class=\"toc-item-num\">4.3&nbsp;&nbsp;</span>LRT</a></div><div class=\"lev1 toc-item\"><a href=\"#Recent-secondary-contact-model\" data-toc-modified-id=\"Recent-secondary-contact-model-5\"><span class=\"toc-item-num\">5&nbsp;&nbsp;</span>Recent secondary contact model</a></div><div class=\"lev2 toc-item\"><a href=\"#plot-residuals\" data-toc-modified-id=\"plot-residuals-51\"><span class=\"toc-item-num\">5.1&nbsp;&nbsp;</span>plot residuals</a></div><div class=\"lev2 toc-item\"><a href=\"#Interpretation-of-parameters\" data-toc-modified-id=\"Interpretation-of-parameters-52\"><span class=\"toc-item-num\">5.2&nbsp;&nbsp;</span>Interpretation of parameters</a></div><div class=\"lev2 toc-item\"><a href=\"#Compare-best-fit-IM-with-RSC-model-spectrum\" data-toc-modified-id=\"Compare-best-fit-IM-with-RSC-model-spectrum-53\"><span class=\"toc-item-num\">5.3&nbsp;&nbsp;</span>Compare best fit IM with RSC model spectrum</a></div><div class=\"lev1 toc-item\"><a href=\"#adding-asymmetric-gene-flow\" data-toc-modified-id=\"adding-asymmetric-gene-flow-6\"><span class=\"toc-item-num\">6&nbsp;&nbsp;</span>adding asymmetric gene flow</a></div><div class=\"lev2 toc-item\"><a href=\"#plot-residuals\" data-toc-modified-id=\"plot-residuals-61\"><span class=\"toc-item-num\">6.1&nbsp;&nbsp;</span>plot residuals</a></div><div class=\"lev2 toc-item\"><a href=\"#Interpretation-of-parameters\" data-toc-modified-id=\"Interpretation-of-parameters-62\"><span class=\"toc-item-num\">6.2&nbsp;&nbsp;</span>Interpretation of parameters</a></div><div class=\"lev2 toc-item\"><a href=\"#LRT\" data-toc-modified-id=\"LRT-63\"><span class=\"toc-item-num\">6.3&nbsp;&nbsp;</span>LRT</a></div><div class=\"lev2 toc-item\"><a href=\"#Is-the-migration-rate-from-ery-into-par-(m1)-statistically-significant?\" data-toc-modified-id=\"Is-the-migration-rate-from-ery-into-par-(m1)-statistically-significant?-64\"><span class=\"toc-item-num\">6.4&nbsp;&nbsp;</span>Is the migration rate from ery into par (<em>m1</em>) statistically significant?</a></div><div class=\"lev2 toc-item\"><a href=\"#compare-symmetric-with-asymmetric-gene-flow\" data-toc-modified-id=\"compare-symmetric-with-asymmetric-gene-flow-65\"><span class=\"toc-item-num\">6.5&nbsp;&nbsp;</span>compare symmetric with asymmetric gene flow</a></div><div class=\"lev1 toc-item\"><a href=\"#adding-gradual-size-changes\" data-toc-modified-id=\"adding-gradual-size-changes-7\"><span class=\"toc-item-num\">7&nbsp;&nbsp;</span>adding gradual size changes</a></div><div class=\"lev2 toc-item\"><a href=\"#plot-residuals\" data-toc-modified-id=\"plot-residuals-71\"><span class=\"toc-item-num\">7.1&nbsp;&nbsp;</span>plot residuals</a></div><div class=\"lev2 toc-item\"><a href=\"#compare-asym_mig-with-IM-model\" data-toc-modified-id=\"compare-asym_mig-with-IM-model-72\"><span class=\"toc-item-num\">7.2&nbsp;&nbsp;</span>compare <code>asym_mig</code> with <code>IM</code> model</a></div><div class=\"lev1 toc-item\"><a href=\"#Ancient-migration-model\" data-toc-modified-id=\"Ancient-migration-model-8\"><span class=\"toc-item-num\">8&nbsp;&nbsp;</span>Ancient migration model</a></div><div class=\"lev2 toc-item\"><a href=\"#plot-residuals\" data-toc-modified-id=\"plot-residuals-81\"><span class=\"toc-item-num\">8.1&nbsp;&nbsp;</span>plot residuals</a></div><div class=\"lev2 toc-item\"><a href=\"#parameter-interpretation\" data-toc-modified-id=\"parameter-interpretation-82\"><span class=\"toc-item-num\">8.2&nbsp;&nbsp;</span>parameter interpretation</a></div><div class=\"lev2 toc-item\"><a href=\"#comparison-with-continuous-gene-flow-model\" data-toc-modified-id=\"comparison-with-continuous-gene-flow-model-83\"><span class=\"toc-item-num\">8.3&nbsp;&nbsp;</span>comparison with continuous gene flow model</a></div><div class=\"lev1 toc-item\"><a href=\"#ancient-migration,-isolation-and-secondary-contact\" data-toc-modified-id=\"ancient-migration,-isolation-and-secondary-contact-9\"><span class=\"toc-item-num\">9&nbsp;&nbsp;</span>ancient migration, isolation and secondary contact</a></div><div class=\"lev1 toc-item\"><a href=\"#Conclusion\" data-toc-modified-id=\"Conclusion-10\"><span class=\"toc-item-num\">10&nbsp;&nbsp;</span>Conclusion</a></div>"
   ]
  },
  {
   "cell_type": "code",
   "execution_count": 1,
   "metadata": {
    "collapsed": false
   },
   "outputs": [
    {
     "name": "stdout",
     "output_type": "stream",
     "text": [
      "error in importing Two Locus modules\n"
     ]
    }
   ],
   "source": [
    "import numpy\n",
    "\n",
    "import sys\n",
    "\n",
    "sys.path.insert(0, '/home/claudius/Downloads/dadi')\n",
    "\n",
    "import dadi"
   ]
  },
  {
   "cell_type": "code",
   "execution_count": 2,
   "metadata": {
    "collapsed": true
   },
   "outputs": [],
   "source": [
    "from glob import glob\n",
    "import dill\n",
    "from utility_functions import *\n",
    "import pandas as pd\n",
    "import numpy as np\n",
    "# turn on floating point division by default, old behaviour via '//'\n",
    "from __future__ import division"
   ]
  },
  {
   "cell_type": "code",
   "execution_count": 3,
   "metadata": {
    "collapsed": true
   },
   "outputs": [],
   "source": [
    "# import 2D unfolded spectrum\n",
    "\n",
    "sfs2d_unfolded = dadi.Spectrum.from_file('dadiExercises/EryPar.unfolded.2dsfs.dadi_format')\n",
    "\n",
    "# add population labels\n",
    "sfs2d_unfolded.pop_ids = [\"ery\", \"par\"]"
   ]
  },
  {
   "cell_type": "code",
   "execution_count": 4,
   "metadata": {
    "collapsed": true
   },
   "outputs": [],
   "source": [
    "ns = sfs2d_unfolded.sample_sizes\n",
    "pts_l = [40, 50, 60]"
   ]
  },
  {
   "cell_type": "code",
   "execution_count": 5,
   "metadata": {
    "collapsed": false
   },
   "outputs": [
    {
     "data": {
      "text/plain": [
       "60573.584426000001"
      ]
     },
     "execution_count": 5,
     "metadata": {},
     "output_type": "execute_result"
    }
   ],
   "source": [
    "# print number of segregating sites in the SFS\n",
    "\n",
    "sfs2d_unfolded.S()"
   ]
  },
  {
   "cell_type": "markdown",
   "metadata": {},
   "source": [
    "The 2D spectrum contains counts from 60k sites that are variable in *par* or *ery* or both."
   ]
  },
  {
   "cell_type": "markdown",
   "metadata": {},
   "source": [
    "**For the estimation of the 2D SFS, `realSFS` has only taken sites that had data from at least 9 individuals in *each* population (see [`assembly.sh`](https://github.com/claudiuskerth/PhDthesis/blob/master/Data_analysis/SNP-indel-calling/assembly.sh), lines 1430 onwards).**"
   ]
  },
  {
   "cell_type": "markdown",
   "metadata": {},
   "source": [
    "# plot the data"
   ]
  },
  {
   "cell_type": "code",
   "execution_count": 6,
   "metadata": {
    "collapsed": false
   },
   "outputs": [
    {
     "data": {
      "text/plain": [
       "<matplotlib.colorbar.Colorbar at 0x7fd65f86c190>"
      ]
     },
     "execution_count": 6,
     "metadata": {},
     "output_type": "execute_result"
    },
    {
     "data": {
      "image/png": "[encoded data removed]",
      "text/plain": [
       "<matplotlib.figure.Figure at 0x7fd65f9458d0>"
      ]
     },
     "metadata": {},
     "output_type": "display_data"
    }
   ],
   "source": [
    "import pylab\n",
    "\n",
    "%matplotlib inline\n",
    "\n",
    "pylab.rcParams['font.size'] = 14.0\n",
    "pylab.rcParams['figure.figsize'] = [14.0, 12.0]\n",
    "\n",
    "dadi.Plotting.plot_single_2d_sfs(sfs2d_unfolded, vmin=1, cmap=pylab.cm.jet)"
   ]
  },
  {
   "cell_type": "markdown",
   "metadata": {},
   "source": [
    "Cells with counts below 1 are masked and appear white in the upper plot."
   ]
  },
  {
   "cell_type": "code",
   "execution_count": 7,
   "metadata": {
    "collapsed": true
   },
   "outputs": [],
   "source": [
    "sfs2d = sfs2d_unfolded.fold()"
   ]
  },
  {
   "cell_type": "code",
   "execution_count": 8,
   "metadata": {
    "collapsed": false
   },
   "outputs": [
    {
     "data": {
      "text/plain": [
       "<matplotlib.colorbar.Colorbar at 0x7fd657c3f050>"
      ]
     },
     "execution_count": 8,
     "metadata": {},
     "output_type": "execute_result"
    },
    {
     "data": {
      "image/png": "[encoded data removed]",
      "text/plain": [
       "<matplotlib.figure.Figure at 0x7fd65f945450>"
      ]
     },
     "metadata": {},
     "output_type": "display_data"
    }
   ],
   "source": [
    "# plot the folded GLOBAL minor allele frequency spectrum\n",
    "\n",
    "dadi.Plotting.plot_single_2d_sfs(sfs2d, vmin=1, cmap=pylab.cm.jet)"
   ]
  },
  {
   "cell_type": "code",
   "execution_count": 9,
   "metadata": {
    "collapsed": false
   },
   "outputs": [],
   "source": [
    "ns = sfs2d.sample_sizes\n",
    "\n",
    "# setting the smallest grid size slightly larger than the largest population sample size (36)\n",
    "pts_l = [40, 50, 60]"
   ]
  },
  {
   "cell_type": "markdown",
   "metadata": {},
   "source": [
    "# divergence in isolation model"
   ]
  },
  {
   "cell_type": "code",
   "execution_count": 10,
   "metadata": {
    "collapsed": true
   },
   "outputs": [],
   "source": [
    "def split_nomig(params, ns, pts):\n",
    "    \"\"\"\n",
    "    params = (nu1,nu2,T)\n",
    "    ns = (n1,n2)\n",
    "\n",
    "    Split into two populations of specifed size, no migration.\n",
    "\n",
    "    nu1: Size of population 1 after split.\n",
    "    nu2: Size of population 2 after split.\n",
    "    T: Time in the past of split (in units of 2*Na generations) \n",
    "    n1,n2: Sample sizes of resulting Spectrum\n",
    "    pts: Number of grid points to use in integration.\n",
    "    \"\"\"\n",
    "    nu1,nu2,T = params\n",
    "\n",
    "    xx = dadi.Numerics.default_grid(pts)\n",
    "\n",
    "    phi = dadi.PhiManip.phi_1D(xx)\n",
    "    phi = dadi.PhiManip.phi_1D_to_2D(xx, phi)\n",
    "\n",
    "    phi = dadi.Integration.two_pops(phi, xx, T, nu1, nu2, m12=0, m21=0)\n",
    "\n",
    "    fs = dadi.Spectrum.from_phi(phi, ns, (xx,xx))\n",
    "    return fs"
   ]
  },
  {
   "cell_type": "markdown",
   "metadata": {},
   "source": [
    "This model specifies a split of the ancestral population $T \\times 2N_{ref}$ generations ago. The two daughter populations have a constant population size until the present of $\\nu_1 \\times N_{ref}$ and $\\nu_2 \\times N_{ref}$, respectively."
   ]
  },
  {
   "cell_type": "code",
   "execution_count": 11,
   "metadata": {
    "collapsed": false
   },
   "outputs": [],
   "source": [
    "# load optimisation results from file\n",
    "\n",
    "ar_split_nomig = []\n",
    "\n",
    "for filename in glob(\"OUT_2D_models/split_nomig*dill\"):\n",
    "    ar_split_nomig.append(dill.load(open(filename)))"
   ]
  },
  {
   "cell_type": "code",
   "execution_count": 12,
   "metadata": {
    "collapsed": false
   },
   "outputs": [
    {
     "data": {
      "text/html": [
       "<div>\n",
       "<table border=\"1\" class=\"dataframe\">\n",
       "  <thead>\n",
       "    <tr style=\"text-align: right;\">\n",
       "      <th></th>\n",
       "      <th>nu1_0</th>\n",
       "      <th>nu2_0</th>\n",
       "      <th>T_0</th>\n",
       "      <th>nu1_opt</th>\n",
       "      <th>nu2_opt</th>\n",
       "      <th>T_opt</th>\n",
       "      <th>-logL</th>\n",
       "    </tr>\n",
       "  </thead>\n",
       "  <tbody>\n",
       "    <tr>\n",
       "      <th>2</th>\n",
       "      <td>0.877109</td>\n",
       "      <td>0.741007</td>\n",
       "      <td>0.360840</td>\n",
       "      <td>0.636945</td>\n",
       "      <td>1.229606</td>\n",
       "      <td>0.290465</td>\n",
       "      <td>20387.227270</td>\n",
       "    </tr>\n",
       "    <tr>\n",
       "      <th>9</th>\n",
       "      <td>0.136711</td>\n",
       "      <td>7.063745</td>\n",
       "      <td>0.075557</td>\n",
       "      <td>0.637653</td>\n",
       "      <td>1.229853</td>\n",
       "      <td>0.290442</td>\n",
       "      <td>20387.435815</td>\n",
       "    </tr>\n",
       "    <tr>\n",
       "      <th>3</th>\n",
       "      <td>1.461323</td>\n",
       "      <td>4.088909</td>\n",
       "      <td>2.236886</td>\n",
       "      <td>0.637660</td>\n",
       "      <td>1.229850</td>\n",
       "      <td>0.290445</td>\n",
       "      <td>20387.435815</td>\n",
       "    </tr>\n",
       "    <tr>\n",
       "      <th>11</th>\n",
       "      <td>0.854249</td>\n",
       "      <td>1.682438</td>\n",
       "      <td>0.240684</td>\n",
       "      <td>0.637655</td>\n",
       "      <td>1.229849</td>\n",
       "      <td>0.290445</td>\n",
       "      <td>20387.435815</td>\n",
       "    </tr>\n",
       "    <tr>\n",
       "      <th>0</th>\n",
       "      <td>0.146030</td>\n",
       "      <td>1.659384</td>\n",
       "      <td>0.282181</td>\n",
       "      <td>0.637644</td>\n",
       "      <td>1.229881</td>\n",
       "      <td>0.290447</td>\n",
       "      <td>20387.435816</td>\n",
       "    </tr>\n",
       "    <tr>\n",
       "      <th>5</th>\n",
       "      <td>0.324028</td>\n",
       "      <td>1.847701</td>\n",
       "      <td>0.160416</td>\n",
       "      <td>0.637682</td>\n",
       "      <td>1.229931</td>\n",
       "      <td>0.290459</td>\n",
       "      <td>20387.435816</td>\n",
       "    </tr>\n",
       "    <tr>\n",
       "      <th>4</th>\n",
       "      <td>0.248861</td>\n",
       "      <td>4.984686</td>\n",
       "      <td>0.085569</td>\n",
       "      <td>0.637683</td>\n",
       "      <td>1.229911</td>\n",
       "      <td>0.290450</td>\n",
       "      <td>20387.435817</td>\n",
       "    </tr>\n",
       "    <tr>\n",
       "      <th>7</th>\n",
       "      <td>0.201540</td>\n",
       "      <td>0.651162</td>\n",
       "      <td>0.031593</td>\n",
       "      <td>0.637639</td>\n",
       "      <td>1.229858</td>\n",
       "      <td>0.290441</td>\n",
       "      <td>20387.435817</td>\n",
       "    </tr>\n",
       "    <tr>\n",
       "      <th>10</th>\n",
       "      <td>0.533901</td>\n",
       "      <td>0.839080</td>\n",
       "      <td>0.139849</td>\n",
       "      <td>0.637653</td>\n",
       "      <td>1.229835</td>\n",
       "      <td>0.290444</td>\n",
       "      <td>20387.435818</td>\n",
       "    </tr>\n",
       "    <tr>\n",
       "      <th>1</th>\n",
       "      <td>0.218471</td>\n",
       "      <td>1.740969</td>\n",
       "      <td>0.295402</td>\n",
       "      <td>0.637657</td>\n",
       "      <td>1.229890</td>\n",
       "      <td>0.290440</td>\n",
       "      <td>20387.435819</td>\n",
       "    </tr>\n",
       "    <tr>\n",
       "      <th>8</th>\n",
       "      <td>0.147376</td>\n",
       "      <td>0.642951</td>\n",
       "      <td>0.091625</td>\n",
       "      <td>0.637672</td>\n",
       "      <td>1.229838</td>\n",
       "      <td>0.290449</td>\n",
       "      <td>20387.435820</td>\n",
       "    </tr>\n",
       "    <tr>\n",
       "      <th>6</th>\n",
       "      <td>0.277689</td>\n",
       "      <td>1.509007</td>\n",
       "      <td>0.044130</td>\n",
       "      <td>0.637684</td>\n",
       "      <td>1.229796</td>\n",
       "      <td>0.290440</td>\n",
       "      <td>20387.435837</td>\n",
       "    </tr>\n",
       "  </tbody>\n",
       "</table>\n",
       "</div>"
      ],
      "text/plain": [
       "       nu1_0     nu2_0       T_0   nu1_opt   nu2_opt     T_opt         -logL\n",
       "2   0.877109  0.741007  0.360840  0.636945  1.229606  0.290465  20387.227270\n",
       "9   0.136711  7.063745  0.075557  0.637653  1.229853  0.290442  20387.435815\n",
       "3   1.461323  4.088909  2.236886  0.637660  1.229850  0.290445  20387.435815\n",
       "11  0.854249  1.682438  0.240684  0.637655  1.229849  0.290445  20387.435815\n",
       "0   0.146030  1.659384  0.282181  0.637644  1.229881  0.290447  20387.435816\n",
       "5   0.324028  1.847701  0.160416  0.637682  1.229931  0.290459  20387.435816\n",
       "4   0.248861  4.984686  0.085569  0.637683  1.229911  0.290450  20387.435817\n",
       "7   0.201540  0.651162  0.031593  0.637639  1.229858  0.290441  20387.435817\n",
       "10  0.533901  0.839080  0.139849  0.637653  1.229835  0.290444  20387.435818\n",
       "1   0.218471  1.740969  0.295402  0.637657  1.229890  0.290440  20387.435819\n",
       "8   0.147376  0.642951  0.091625  0.637672  1.229838  0.290449  20387.435820\n",
       "6   0.277689  1.509007  0.044130  0.637684  1.229796  0.290440  20387.435837"
      ]
     },
     "execution_count": 12,
     "metadata": {},
     "output_type": "execute_result"
    }
   ],
   "source": [
    "success = [flatten(out)[:7] for out in ar_split_nomig if out[1][4] == 0]\n",
    "\n",
    "df = pd.DataFrame(data=success, \\\n",
    "                  columns=['nu1_0','nu2_0', 'T_0', 'nu1_opt', 'nu2_opt', 'T_opt', '-logL'])\n",
    "\n",
    "df.sort_values(by='-logL', ascending=True)"
   ]
  },
  {
   "cell_type": "markdown",
   "metadata": {},
   "source": [
    "The optimal parameter values look very robust: very different starting values converge to almost identical optimal parameter values."
   ]
  },
  {
   "cell_type": "markdown",
   "metadata": {},
   "source": [
    "## Interpretation of parameters"
   ]
  },
  {
   "cell_type": "code",
   "execution_count": 13,
   "metadata": {
    "collapsed": false
   },
   "outputs": [],
   "source": [
    "# create link\n",
    "func = split_nomig\n",
    "\n",
    "# create extrapolating version of the model function\n",
    "func_ex = dadi.Numerics.make_extrap_log_func(func)"
   ]
  },
  {
   "cell_type": "code",
   "execution_count": 14,
   "metadata": {
    "collapsed": false
   },
   "outputs": [],
   "source": [
    "# calculate best-fit model spectrum\n",
    "\n",
    "model_spectrum = func_ex((0.636945, 1.229606, 0.290465), ns, pts_l)"
   ]
  },
  {
   "cell_type": "code",
   "execution_count": 15,
   "metadata": {
    "collapsed": false
   },
   "outputs": [],
   "source": [
    "theta = dadi.Inference.optimal_sfs_scaling(model_spectrum, sfs2d)"
   ]
  },
  {
   "cell_type": "code",
   "execution_count": 16,
   "metadata": {
    "collapsed": false
   },
   "outputs": [
    {
     "name": "stdout",
     "output_type": "stream",
     "text": [
      "The optimal value of theta per site for the ancestral population is 0.0083.\n"
     ]
    }
   ],
   "source": [
    "L = sfs2d.data.sum() # this sums over all entries in the spectrum, including masked ones, i. e. also contains invariable sites\n",
    "print \"The optimal value of theta per site for the ancestral population is {0:.4f}.\".format(theta/L)"
   ]
  },
  {
   "cell_type": "code",
   "execution_count": 17,
   "metadata": {
    "collapsed": false
   },
   "outputs": [
    {
     "name": "stdout",
     "output_type": "stream",
     "text": [
      "The total sequence length for the 2D spectrum is 1,130,775.\n",
      "The effective size of the ancestral population of ery and par (in number of diploid individuals) implied by this theta is: 688,875.\n"
     ]
    }
   ],
   "source": [
    "mu = 3e-9\n",
    "print \"The total sequence length for the 2D spectrum is {0:,}.\".format(int(L))\n",
    "N_ref = theta/L/mu/4\n",
    "print \"The effective size of the ancestral population of ery and par (in number of diploid individuals) implied by this theta is: {0:,}.\".format(int(N_ref))"
   ]
  },
  {
   "cell_type": "markdown",
   "metadata": {},
   "source": [
    "I am assuming that $\\nu_1$ refers to _ery_ and $\\nu_2$ refers to _par_. The `split_nomig` model with its optimal parameter values suggests the following:"
   ]
  },
  {
   "cell_type": "code",
   "execution_count": 18,
   "metadata": {
    "collapsed": false
   },
   "outputs": [
    {
     "name": "stdout",
     "output_type": "stream",
     "text": [
      "The ancestral population of ery and par split apart 400,188 generations ago. Since then until present the ery population had a size of 438,776 and the par population of 847,045.\n"
     ]
    }
   ],
   "source": [
    "print \"The ancestral population of ery and par split apart {0:,} generations ago.\".format(int(0.290465*2*N_ref)),\n",
    "print \"Since then until present the ery population had a size of {0:,} and the par population of {1:,}.\".format(int(0.636945*N_ref)\n",
    ", int(1.229606*N_ref))"
   ]
  },
  {
   "cell_type": "markdown",
   "metadata": {},
   "source": [
    "Note, that the fitting of 1D models to the spectra of each population had indicated a population size _reduction_ for both populations and more so for _parallelus_, which seems to contradict what this 2D model says about the two populations."
   ]
  },
  {
   "cell_type": "markdown",
   "metadata": {},
   "source": [
    "# compare marginal spectra"
   ]
  },
  {
   "cell_type": "markdown",
   "metadata": {},
   "source": [
    "As mentioned above, the population size history inferred from the 2D spectrum contradicts what was inferred from the individual 1D spectra of each population. The 2D spectrum is not computed from the same number of sites as the two 1D spectra. While inclusion of a site in each 1D spectrum required read data from at least 9 individuals, the 2D spectrum required read data from at least 9 individuals in _both_ populations. That is because each population's SAF files were created with `minInd 9` (see lines 1426-1435 in `assembly.sh`). When estimating the 2D SFS with `realSFS` only sites that occurred in each population's SAF files were included (see lines 1661-1664 in `assembly.sh`)."
   ]
  },
  {
   "cell_type": "code",
   "execution_count": 19,
   "metadata": {
    "collapsed": true
   },
   "outputs": [],
   "source": [
    "# get marginal 1D spectra from the 2D spectrum\n",
    "\n",
    "fsm_ery = sfs2d.marginalize([1])\n",
    "fsm_par = sfs2d.marginalize([0])"
   ]
  },
  {
   "cell_type": "code",
   "execution_count": 20,
   "metadata": {
    "collapsed": true
   },
   "outputs": [],
   "source": [
    "# get original 1D spectra\n",
    "\n",
    "# import 1D unfolded spectrum of ery\n",
    "fs_ery_unfolded = dadi.Spectrum.from_file('ERY.unfolded.sfs')\n",
    "fs_ery = fs_ery_unfolded.fold()\n",
    "\n",
    "# import 1D unfolded spectrum of par\n",
    "fs_par_unfolded = dadi.Spectrum.from_file('PAR.unfolded.sfs')\n",
    "fs_par = fs_par_unfolded.fold()"
   ]
  },
  {
   "cell_type": "code",
   "execution_count": 21,
   "metadata": {
    "collapsed": false
   },
   "outputs": [
    {
     "data": {
      "text/plain": [
       "<matplotlib.legend.Legend at 0x7fd657bec890>"
      ]
     },
     "execution_count": 21,
     "metadata": {},
     "output_type": "execute_result"
    },
    {
     "data": {
      "image/png": "[encoded data removed]",
      "text/plain": [
       "<matplotlib.figure.Figure at 0x7fd657c3f510>"
      ]
     },
     "metadata": {},
     "output_type": "display_data"
    }
   ],
   "source": [
    "pylab.plot(fs_par, 'go-', label='individual', linewidth=2.5, markersize=12)\n",
    "pylab.plot(fsm_par, 'g>--', label='marginal', linewidth=2.5, markersize=12)\n",
    "pylab.grid()\n",
    "pylab.title('PAR')\n",
    "pylab.legend()"
   ]
  },
  {
   "cell_type": "markdown",
   "metadata": {},
   "source": [
    "The individual 1D spectrum for PAR and the 1D spectrum from marginalising over ERY in the 2D spectrum do not look drastically different."
   ]
  },
  {
   "cell_type": "code",
   "execution_count": 22,
   "metadata": {
    "collapsed": false
   },
   "outputs": [
    {
     "data": {
      "text/plain": [
       "<matplotlib.legend.Legend at 0x7fd657aeb450>"
      ]
     },
     "execution_count": 22,
     "metadata": {},
     "output_type": "execute_result"
    },
    {
     "data": {
      "image/png": "[encoded data removed]",
      "text/plain": [
       "<matplotlib.figure.Figure at 0x7fd65f737050>"
      ]
     },
     "metadata": {},
     "output_type": "display_data"
    }
   ],
   "source": [
    "pylab.plot(fs_ery, 'ro-', label='individual', linewidth=2.5, markersize=12)\n",
    "pylab.plot(fsm_ery, 'r>--', label='marginal', linewidth=2.5, markersize=12)\n",
    "pylab.grid()\n",
    "pylab.title('ERY')\n",
    "pylab.legend()"
   ]
  },
  {
   "cell_type": "markdown",
   "metadata": {},
   "source": [
    "The marginal 1D spectrum for ERY looks quite different. It mostly looks shifted down. This makes sense, when a smaller number of sites (those that are present in the SAF files of both ERY and PAR) go into the 2D spectrum than into the individual 1D spectrum."
   ]
  },
  {
   "cell_type": "markdown",
   "metadata": {},
   "source": [
    "Since the individual and marginal 1D spectra have similar shape, they should lead to similar demographic inference. The difference in the inference of population sizes for the two populations from 1D and 2D models can therefore not be explained by sytematic differences between 1D and 2D spectra."
   ]
  },
  {
   "cell_type": "markdown",
   "metadata": {},
   "source": [
    "## plot residuals"
   ]
  },
  {
   "cell_type": "code",
   "execution_count": 73,
   "metadata": {
    "collapsed": false
   },
   "outputs": [
    {
     "data": {
      "image/png": "[encoded data removed]",
      "text/plain": [
       "<matplotlib.figure.Figure at 0x7f9f22803550>"
      ]
     },
     "metadata": {},
     "output_type": "display_data"
    }
   ],
   "source": [
    "dadi.Plotting.plot_2d_comp_multinom(model_spectrum, sfs2d, vmin=1)"
   ]
  },
  {
   "cell_type": "markdown",
   "metadata": {
    "collapsed": true
   },
   "source": [
    "The residuals show that the best-fit model has a deficit of fixed divergent SNP's as well as of low frequency shared SNP's. Maybe the fit can be improved by introducing gene flow."
   ]
  },
  {
   "cell_type": "markdown",
   "metadata": {},
   "source": [
    "# adding gene flow"
   ]
  },
  {
   "cell_type": "code",
   "execution_count": 23,
   "metadata": {
    "collapsed": true
   },
   "outputs": [],
   "source": [
    "# use dadi's built-in model function\n",
    "func = dadi.Demographics2D.split_mig\n",
    "\n",
    "func_ex = dadi.Numerics.make_extrap_log_func(func)"
   ]
  },
  {
   "cell_type": "markdown",
   "metadata": {},
   "source": [
    "This model adds a single migration rate parameter $m$ . It is assumed that migration is of equal size $m$ in each direction."
   ]
  },
  {
   "cell_type": "code",
   "execution_count": 32,
   "metadata": {
    "collapsed": false
   },
   "outputs": [],
   "source": [
    "# load optimisation results from file\n",
    "\n",
    "ar_split_mig = []\n",
    "\n",
    "for filename in glob(\"OUT_2D_models/split_mig_[0-9]*dill\"):\n",
    "    ar_split_mig.append(dill.load(open(filename)))"
   ]
  },
  {
   "cell_type": "code",
   "execution_count": 33,
   "metadata": {
    "collapsed": false
   },
   "outputs": [
    {
     "data": {
      "text/html": [
       "<div>\n",
       "<table border=\"1\" class=\"dataframe\">\n",
       "  <thead>\n",
       "    <tr style=\"text-align: right;\">\n",
       "      <th></th>\n",
       "      <th>nu1_0</th>\n",
       "      <th>nu2_0</th>\n",
       "      <th>T_0</th>\n",
       "      <th>m_0</th>\n",
       "      <th>nu1_opt</th>\n",
       "      <th>nu2_opt</th>\n",
       "      <th>T_opt</th>\n",
       "      <th>m_opt</th>\n",
       "      <th>-logL</th>\n",
       "    </tr>\n",
       "  </thead>\n",
       "  <tbody>\n",
       "    <tr>\n",
       "      <th>8</th>\n",
       "      <td>2.059032</td>\n",
       "      <td>0.360002</td>\n",
       "      <td>0.682463</td>\n",
       "      <td>0.192790</td>\n",
       "      <td>0.994185</td>\n",
       "      <td>1.766127</td>\n",
       "      <td>0.922632</td>\n",
       "      <td>2.506880e-01</td>\n",
       "      <td>18574.119915</td>\n",
       "    </tr>\n",
       "    <tr>\n",
       "      <th>31</th>\n",
       "      <td>0.620927</td>\n",
       "      <td>0.849787</td>\n",
       "      <td>1.980000</td>\n",
       "      <td>1.827165</td>\n",
       "      <td>0.994247</td>\n",
       "      <td>1.766242</td>\n",
       "      <td>0.922690</td>\n",
       "      <td>2.507990e-01</td>\n",
       "      <td>18574.120405</td>\n",
       "    </tr>\n",
       "    <tr>\n",
       "      <th>2</th>\n",
       "      <td>2.894370</td>\n",
       "      <td>11.363772</td>\n",
       "      <td>1.980000</td>\n",
       "      <td>0.272765</td>\n",
       "      <td>0.993365</td>\n",
       "      <td>1.764405</td>\n",
       "      <td>0.921871</td>\n",
       "      <td>2.509119e-01</td>\n",
       "      <td>18574.121486</td>\n",
       "    </tr>\n",
       "    <tr>\n",
       "      <th>28</th>\n",
       "      <td>0.631049</td>\n",
       "      <td>2.924698</td>\n",
       "      <td>0.247732</td>\n",
       "      <td>0.205392</td>\n",
       "      <td>0.993307</td>\n",
       "      <td>1.765318</td>\n",
       "      <td>0.921817</td>\n",
       "      <td>2.509740e-01</td>\n",
       "      <td>18574.122241</td>\n",
       "    </tr>\n",
       "    <tr>\n",
       "      <th>17</th>\n",
       "      <td>0.837500</td>\n",
       "      <td>2.063526</td>\n",
       "      <td>0.058201</td>\n",
       "      <td>0.000110</td>\n",
       "      <td>0.996572</td>\n",
       "      <td>1.771058</td>\n",
       "      <td>0.928727</td>\n",
       "      <td>2.508888e-01</td>\n",
       "      <td>18574.138486</td>\n",
       "    </tr>\n",
       "    <tr>\n",
       "      <th>18</th>\n",
       "      <td>5.535163</td>\n",
       "      <td>3.398472</td>\n",
       "      <td>0.309525</td>\n",
       "      <td>0.169667</td>\n",
       "      <td>0.993863</td>\n",
       "      <td>1.767477</td>\n",
       "      <td>0.925657</td>\n",
       "      <td>2.517209e-01</td>\n",
       "      <td>18574.159471</td>\n",
       "    </tr>\n",
       "    <tr>\n",
       "      <th>15</th>\n",
       "      <td>0.318463</td>\n",
       "      <td>0.315764</td>\n",
       "      <td>0.587406</td>\n",
       "      <td>1.138654</td>\n",
       "      <td>0.989922</td>\n",
       "      <td>1.761280</td>\n",
       "      <td>0.914716</td>\n",
       "      <td>2.507331e-01</td>\n",
       "      <td>18574.164848</td>\n",
       "    </tr>\n",
       "    <tr>\n",
       "      <th>1</th>\n",
       "      <td>0.277233</td>\n",
       "      <td>8.221059</td>\n",
       "      <td>0.976626</td>\n",
       "      <td>0.051974</td>\n",
       "      <td>1.001148</td>\n",
       "      <td>1.776879</td>\n",
       "      <td>0.937823</td>\n",
       "      <td>2.505879e-01</td>\n",
       "      <td>18574.226541</td>\n",
       "    </tr>\n",
       "    <tr>\n",
       "      <th>0</th>\n",
       "      <td>5.653430</td>\n",
       "      <td>3.362330</td>\n",
       "      <td>1.980000</td>\n",
       "      <td>0.101259</td>\n",
       "      <td>0.995994</td>\n",
       "      <td>1.769480</td>\n",
       "      <td>0.927834</td>\n",
       "      <td>2.507786e-01</td>\n",
       "      <td>18574.341908</td>\n",
       "    </tr>\n",
       "    <tr>\n",
       "      <th>33</th>\n",
       "      <td>0.208178</td>\n",
       "      <td>2.525835</td>\n",
       "      <td>0.609693</td>\n",
       "      <td>0.000767</td>\n",
       "      <td>0.997653</td>\n",
       "      <td>1.771560</td>\n",
       "      <td>0.931469</td>\n",
       "      <td>2.510613e-01</td>\n",
       "      <td>18574.373801</td>\n",
       "    </tr>\n",
       "    <tr>\n",
       "      <th>34</th>\n",
       "      <td>0.683625</td>\n",
       "      <td>3.770899</td>\n",
       "      <td>0.327624</td>\n",
       "      <td>0.960373</td>\n",
       "      <td>0.986428</td>\n",
       "      <td>1.750484</td>\n",
       "      <td>0.899651</td>\n",
       "      <td>2.503218e-01</td>\n",
       "      <td>18574.507709</td>\n",
       "    </tr>\n",
       "    <tr>\n",
       "      <th>7</th>\n",
       "      <td>1.009844</td>\n",
       "      <td>1.115355</td>\n",
       "      <td>0.012909</td>\n",
       "      <td>0.000309</td>\n",
       "      <td>0.992355</td>\n",
       "      <td>1.760054</td>\n",
       "      <td>0.901086</td>\n",
       "      <td>2.470464e-01</td>\n",
       "      <td>18574.974381</td>\n",
       "    </tr>\n",
       "    <tr>\n",
       "      <th>5</th>\n",
       "      <td>2.556454</td>\n",
       "      <td>1.352414</td>\n",
       "      <td>1.569898</td>\n",
       "      <td>0.135823</td>\n",
       "      <td>1.194640</td>\n",
       "      <td>2.112713</td>\n",
       "      <td>1.324262</td>\n",
       "      <td>2.303226e-01</td>\n",
       "      <td>18613.113722</td>\n",
       "    </tr>\n",
       "    <tr>\n",
       "      <th>26</th>\n",
       "      <td>0.156669</td>\n",
       "      <td>0.773484</td>\n",
       "      <td>1.980000</td>\n",
       "      <td>0.217233</td>\n",
       "      <td>1.412143</td>\n",
       "      <td>2.455870</td>\n",
       "      <td>1.850644</td>\n",
       "      <td>2.074998e-01</td>\n",
       "      <td>18670.013487</td>\n",
       "    </tr>\n",
       "    <tr>\n",
       "      <th>9</th>\n",
       "      <td>6.348379</td>\n",
       "      <td>0.230012</td>\n",
       "      <td>1.457648</td>\n",
       "      <td>0.117155</td>\n",
       "      <td>1.464282</td>\n",
       "      <td>2.548749</td>\n",
       "      <td>1.990301</td>\n",
       "      <td>2.024862e-01</td>\n",
       "      <td>18681.403063</td>\n",
       "    </tr>\n",
       "    <tr>\n",
       "      <th>24</th>\n",
       "      <td>0.409099</td>\n",
       "      <td>0.405881</td>\n",
       "      <td>0.168447</td>\n",
       "      <td>0.000052</td>\n",
       "      <td>0.637198</td>\n",
       "      <td>1.230384</td>\n",
       "      <td>0.290581</td>\n",
       "      <td>6.497219e-08</td>\n",
       "      <td>20387.225419</td>\n",
       "    </tr>\n",
       "    <tr>\n",
       "      <th>23</th>\n",
       "      <td>2.175460</td>\n",
       "      <td>0.556770</td>\n",
       "      <td>0.086338</td>\n",
       "      <td>0.000014</td>\n",
       "      <td>0.637198</td>\n",
       "      <td>1.230385</td>\n",
       "      <td>0.290581</td>\n",
       "      <td>1.748376e-20</td>\n",
       "      <td>20387.226053</td>\n",
       "    </tr>\n",
       "    <tr>\n",
       "      <th>12</th>\n",
       "      <td>0.265271</td>\n",
       "      <td>0.129476</td>\n",
       "      <td>0.157514</td>\n",
       "      <td>0.000045</td>\n",
       "      <td>0.637196</td>\n",
       "      <td>1.230384</td>\n",
       "      <td>0.290580</td>\n",
       "      <td>2.583554e-12</td>\n",
       "      <td>20387.226053</td>\n",
       "    </tr>\n",
       "    <tr>\n",
       "      <th>25</th>\n",
       "      <td>0.085281</td>\n",
       "      <td>0.402881</td>\n",
       "      <td>0.364705</td>\n",
       "      <td>0.000042</td>\n",
       "      <td>0.637198</td>\n",
       "      <td>1.230385</td>\n",
       "      <td>0.290581</td>\n",
       "      <td>3.044384e-18</td>\n",
       "      <td>20387.226053</td>\n",
       "    </tr>\n",
       "    <tr>\n",
       "      <th>16</th>\n",
       "      <td>0.115098</td>\n",
       "      <td>0.103779</td>\n",
       "      <td>0.172020</td>\n",
       "      <td>0.000113</td>\n",
       "      <td>0.637162</td>\n",
       "      <td>1.230734</td>\n",
       "      <td>0.290565</td>\n",
       "      <td>4.850122e-15</td>\n",
       "      <td>20387.226666</td>\n",
       "    </tr>\n",
       "    <tr>\n",
       "      <th>27</th>\n",
       "      <td>3.731189</td>\n",
       "      <td>0.119188</td>\n",
       "      <td>0.015205</td>\n",
       "      <td>0.000017</td>\n",
       "      <td>0.637549</td>\n",
       "      <td>1.230015</td>\n",
       "      <td>0.290740</td>\n",
       "      <td>9.454649e-15</td>\n",
       "      <td>20387.229881</td>\n",
       "    </tr>\n",
       "    <tr>\n",
       "      <th>19</th>\n",
       "      <td>1.308999</td>\n",
       "      <td>0.089865</td>\n",
       "      <td>0.482895</td>\n",
       "      <td>0.000052</td>\n",
       "      <td>0.636599</td>\n",
       "      <td>1.228599</td>\n",
       "      <td>0.290307</td>\n",
       "      <td>4.483462e-10</td>\n",
       "      <td>20387.232239</td>\n",
       "    </tr>\n",
       "    <tr>\n",
       "      <th>32</th>\n",
       "      <td>2.699647</td>\n",
       "      <td>0.315091</td>\n",
       "      <td>0.058909</td>\n",
       "      <td>0.000035</td>\n",
       "      <td>0.636512</td>\n",
       "      <td>1.227689</td>\n",
       "      <td>0.290267</td>\n",
       "      <td>8.437228e-12</td>\n",
       "      <td>20387.240897</td>\n",
       "    </tr>\n",
       "    <tr>\n",
       "      <th>20</th>\n",
       "      <td>0.063430</td>\n",
       "      <td>0.646475</td>\n",
       "      <td>0.030202</td>\n",
       "      <td>0.000377</td>\n",
       "      <td>0.640787</td>\n",
       "      <td>1.227274</td>\n",
       "      <td>0.289655</td>\n",
       "      <td>3.001320e-06</td>\n",
       "      <td>20387.309598</td>\n",
       "    </tr>\n",
       "    <tr>\n",
       "      <th>14</th>\n",
       "      <td>0.109039</td>\n",
       "      <td>1.752206</td>\n",
       "      <td>0.068154</td>\n",
       "      <td>0.000323</td>\n",
       "      <td>0.637666</td>\n",
       "      <td>1.229887</td>\n",
       "      <td>0.290450</td>\n",
       "      <td>1.278566e-07</td>\n",
       "      <td>20387.434569</td>\n",
       "    </tr>\n",
       "    <tr>\n",
       "      <th>11</th>\n",
       "      <td>0.355181</td>\n",
       "      <td>0.212621</td>\n",
       "      <td>0.029912</td>\n",
       "      <td>0.000157</td>\n",
       "      <td>0.637670</td>\n",
       "      <td>1.229889</td>\n",
       "      <td>0.290449</td>\n",
       "      <td>2.826076e-08</td>\n",
       "      <td>20387.435537</td>\n",
       "    </tr>\n",
       "    <tr>\n",
       "      <th>21</th>\n",
       "      <td>0.199078</td>\n",
       "      <td>0.146460</td>\n",
       "      <td>0.338920</td>\n",
       "      <td>0.000173</td>\n",
       "      <td>0.637674</td>\n",
       "      <td>1.229910</td>\n",
       "      <td>0.290452</td>\n",
       "      <td>2.509801e-08</td>\n",
       "      <td>20387.435569</td>\n",
       "    </tr>\n",
       "    <tr>\n",
       "      <th>30</th>\n",
       "      <td>0.450847</td>\n",
       "      <td>0.463437</td>\n",
       "      <td>0.108087</td>\n",
       "      <td>0.000060</td>\n",
       "      <td>0.637667</td>\n",
       "      <td>1.229892</td>\n",
       "      <td>0.290450</td>\n",
       "      <td>1.971549e-08</td>\n",
       "      <td>20387.435620</td>\n",
       "    </tr>\n",
       "    <tr>\n",
       "      <th>13</th>\n",
       "      <td>0.318447</td>\n",
       "      <td>0.199418</td>\n",
       "      <td>0.790081</td>\n",
       "      <td>0.000020</td>\n",
       "      <td>0.637670</td>\n",
       "      <td>1.229881</td>\n",
       "      <td>0.290451</td>\n",
       "      <td>3.715424e-09</td>\n",
       "      <td>20387.435776</td>\n",
       "    </tr>\n",
       "    <tr>\n",
       "      <th>6</th>\n",
       "      <td>0.211271</td>\n",
       "      <td>0.683610</td>\n",
       "      <td>0.135427</td>\n",
       "      <td>0.000021</td>\n",
       "      <td>0.637667</td>\n",
       "      <td>1.229884</td>\n",
       "      <td>0.290449</td>\n",
       "      <td>3.917260e-13</td>\n",
       "      <td>20387.435812</td>\n",
       "    </tr>\n",
       "    <tr>\n",
       "      <th>4</th>\n",
       "      <td>0.670075</td>\n",
       "      <td>0.343239</td>\n",
       "      <td>1.980000</td>\n",
       "      <td>0.080259</td>\n",
       "      <td>0.632513</td>\n",
       "      <td>1.349728</td>\n",
       "      <td>2.000000</td>\n",
       "      <td>4.635045e-01</td>\n",
       "      <td>21059.797882</td>\n",
       "    </tr>\n",
       "    <tr>\n",
       "      <th>29</th>\n",
       "      <td>0.239562</td>\n",
       "      <td>0.556576</td>\n",
       "      <td>1.980000</td>\n",
       "      <td>0.031463</td>\n",
       "      <td>0.329749</td>\n",
       "      <td>0.596793</td>\n",
       "      <td>2.000000</td>\n",
       "      <td>1.044005e+00</td>\n",
       "      <td>23734.741735</td>\n",
       "    </tr>\n",
       "    <tr>\n",
       "      <th>10</th>\n",
       "      <td>5.874411</td>\n",
       "      <td>4.471090</td>\n",
       "      <td>1.980000</td>\n",
       "      <td>1.041556</td>\n",
       "      <td>6.145361</td>\n",
       "      <td>3.497838</td>\n",
       "      <td>1.999943</td>\n",
       "      <td>1.044327e+00</td>\n",
       "      <td>68992.522571</td>\n",
       "    </tr>\n",
       "    <tr>\n",
       "      <th>22</th>\n",
       "      <td>6.807827</td>\n",
       "      <td>3.585435</td>\n",
       "      <td>0.328641</td>\n",
       "      <td>1.217099</td>\n",
       "      <td>9.899311</td>\n",
       "      <td>1.285312</td>\n",
       "      <td>0.766758</td>\n",
       "      <td>1.552602e+00</td>\n",
       "      <td>71150.567474</td>\n",
       "    </tr>\n",
       "    <tr>\n",
       "      <th>3</th>\n",
       "      <td>2.157397</td>\n",
       "      <td>13.379040</td>\n",
       "      <td>1.980000</td>\n",
       "      <td>1.878685</td>\n",
       "      <td>1.662449</td>\n",
       "      <td>13.064076</td>\n",
       "      <td>1.999990</td>\n",
       "      <td>2.253679e+00</td>\n",
       "      <td>79308.735709</td>\n",
       "    </tr>\n",
       "  </tbody>\n",
       "</table>\n",
       "</div>"
      ],
      "text/plain": [
       "       nu1_0      nu2_0       T_0       m_0   nu1_opt    nu2_opt     T_opt  \\\n",
       "8   2.059032   0.360002  0.682463  0.192790  0.994185   1.766127  0.922632   \n",
       "31  0.620927   0.849787  1.980000  1.827165  0.994247   1.766242  0.922690   \n",
       "2   2.894370  11.363772  1.980000  0.272765  0.993365   1.764405  0.921871   \n",
       "28  0.631049   2.924698  0.247732  0.205392  0.993307   1.765318  0.921817   \n",
       "17  0.837500   2.063526  0.058201  0.000110  0.996572   1.771058  0.928727   \n",
       "18  5.535163   3.398472  0.309525  0.169667  0.993863   1.767477  0.925657   \n",
       "15  0.318463   0.315764  0.587406  1.138654  0.989922   1.761280  0.914716   \n",
       "1   0.277233   8.221059  0.976626  0.051974  1.001148   1.776879  0.937823   \n",
       "0   5.653430   3.362330  1.980000  0.101259  0.995994   1.769480  0.927834   \n",
       "33  0.208178   2.525835  0.609693  0.000767  0.997653   1.771560  0.931469   \n",
       "34  0.683625   3.770899  0.327624  0.960373  0.986428   1.750484  0.899651   \n",
       "7   1.009844   1.115355  0.012909  0.000309  0.992355   1.760054  0.901086   \n",
       "5   2.556454   1.352414  1.569898  0.135823  1.194640   2.112713  1.324262   \n",
       "26  0.156669   0.773484  1.980000  0.217233  1.412143   2.455870  1.850644   \n",
       "9   6.348379   0.230012  1.457648  0.117155  1.464282   2.548749  1.990301   \n",
       "24  0.409099   0.405881  0.168447  0.000052  0.637198   1.230384  0.290581   \n",
       "23  2.175460   0.556770  0.086338  0.000014  0.637198   1.230385  0.290581   \n",
       "12  0.265271   0.129476  0.157514  0.000045  0.637196   1.230384  0.290580   \n",
       "25  0.085281   0.402881  0.364705  0.000042  0.637198   1.230385  0.290581   \n",
       "16  0.115098   0.103779  0.172020  0.000113  0.637162   1.230734  0.290565   \n",
       "27  3.731189   0.119188  0.015205  0.000017  0.637549   1.230015  0.290740   \n",
       "19  1.308999   0.089865  0.482895  0.000052  0.636599   1.228599  0.290307   \n",
       "32  2.699647   0.315091  0.058909  0.000035  0.636512   1.227689  0.290267   \n",
       "20  0.063430   0.646475  0.030202  0.000377  0.640787   1.227274  0.289655   \n",
       "14  0.109039   1.752206  0.068154  0.000323  0.637666   1.229887  0.290450   \n",
       "11  0.355181   0.212621  0.029912  0.000157  0.637670   1.229889  0.290449   \n",
       "21  0.199078   0.146460  0.338920  0.000173  0.637674   1.229910  0.290452   \n",
       "30  0.450847   0.463437  0.108087  0.000060  0.637667   1.229892  0.290450   \n",
       "13  0.318447   0.199418  0.790081  0.000020  0.637670   1.229881  0.290451   \n",
       "6   0.211271   0.683610  0.135427  0.000021  0.637667   1.229884  0.290449   \n",
       "4   0.670075   0.343239  1.980000  0.080259  0.632513   1.349728  2.000000   \n",
       "29  0.239562   0.556576  1.980000  0.031463  0.329749   0.596793  2.000000   \n",
       "10  5.874411   4.471090  1.980000  1.041556  6.145361   3.497838  1.999943   \n",
       "22  6.807827   3.585435  0.328641  1.217099  9.899311   1.285312  0.766758   \n",
       "3   2.157397  13.379040  1.980000  1.878685  1.662449  13.064076  1.999990   \n",
       "\n",
       "           m_opt         -logL  \n",
       "8   2.506880e-01  18574.119915  \n",
       "31  2.507990e-01  18574.120405  \n",
       "2   2.509119e-01  18574.121486  \n",
       "28  2.509740e-01  18574.122241  \n",
       "17  2.508888e-01  18574.138486  \n",
       "18  2.517209e-01  18574.159471  \n",
       "15  2.507331e-01  18574.164848  \n",
       "1   2.505879e-01  18574.226541  \n",
       "0   2.507786e-01  18574.341908  \n",
       "33  2.510613e-01  18574.373801  \n",
       "34  2.503218e-01  18574.507709  \n",
       "7   2.470464e-01  18574.974381  \n",
       "5   2.303226e-01  18613.113722  \n",
       "26  2.074998e-01  18670.013487  \n",
       "9   2.024862e-01  18681.403063  \n",
       "24  6.497219e-08  20387.225419  \n",
       "23  1.748376e-20  20387.226053  \n",
       "12  2.583554e-12  20387.226053  \n",
       "25  3.044384e-18  20387.226053  \n",
       "16  4.850122e-15  20387.226666  \n",
       "27  9.454649e-15  20387.229881  \n",
       "19  4.483462e-10  20387.232239  \n",
       "32  8.437228e-12  20387.240897  \n",
       "20  3.001320e-06  20387.309598  \n",
       "14  1.278566e-07  20387.434569  \n",
       "11  2.826076e-08  20387.435537  \n",
       "21  2.509801e-08  20387.435569  \n",
       "30  1.971549e-08  20387.435620  \n",
       "13  3.715424e-09  20387.435776  \n",
       "6   3.917260e-13  20387.435812  \n",
       "4   4.635045e-01  21059.797882  \n",
       "29  1.044005e+00  23734.741735  \n",
       "10  1.044327e+00  68992.522571  \n",
       "22  1.552602e+00  71150.567474  \n",
       "3   2.253679e+00  79308.735709  "
      ]
     },
     "execution_count": 33,
     "metadata": {},
     "output_type": "execute_result"
    }
   ],
   "source": [
    "success = [flatten(out)[:9] for out in ar_split_mig if out[1][4] == 0]\n",
    "\n",
    "df = pd.DataFrame(data=success, \\\n",
    "                  columns=['nu1_0','nu2_0', 'T_0', 'm_0', 'nu1_opt', 'nu2_opt', 'T_opt', 'm_opt', '-logL'])\n",
    "\n",
    "df.sort_values(by='-logL', ascending=True)"
   ]
  },
  {
   "cell_type": "markdown",
   "metadata": {},
   "source": [
    "From many different initial parameter value combinations the optimisations converge on essentially the same set of parameters that includes a migration rate that is not 0. This optimal parameter combination is much more likely than the other combinations. From many initial parameter values the optimisations converge to a model that is essentially the same as the split-no-migration model from above. However, these parameter combinations have much lower likelihood."
   ]
  },
  {
   "cell_type": "code",
   "execution_count": 27,
   "metadata": {
    "collapsed": false
   },
   "outputs": [
    {
     "name": "stdout",
     "output_type": "stream",
     "text": [
      "The optimal value of theta per site for the ancestral population is 0.0122.\n",
      "The total sequence length for the 2D spectrum is 1,130,775.\n",
      "The effective size of the ancestral population of ery and par (in number of individuals) implied by this theta is: 1,016,810.\n"
     ]
    }
   ],
   "source": [
    "popt = numpy.array(df.sort_values(by='-logL', ascending=True).iloc[0, 4:8])\n",
    "\n",
    "# calculate best-fit model spectrum\n",
    "\n",
    "model_spectrum = func_ex(popt, ns, pts_l)\n",
    "\n",
    "theta = dadi.Inference.optimal_sfs_scaling(model_spectrum, sfs2d)\n",
    "\n",
    "print \"The optimal value of theta per site for the ancestral population is {0:.4f}.\".format(theta/L)\n",
    "mu = 3e-9\n",
    "L = sfs2d.data.sum() # this sums over all entries in the spectrum, including masked ones, i. e. also contains invariable sites\n",
    "print \"The total sequence length for the 2D spectrum is {0:,}.\".format(int(L))\n",
    "N_ref = theta/L/mu/4\n",
    "\n",
    "print \"The effective size of the ancestral population of ery and par (in number of individuals) implied by this theta is: {0:,}.\".format(int(N_ref))"
   ]
  },
  {
   "cell_type": "markdown",
   "metadata": {},
   "source": [
    "## plot residuals"
   ]
  },
  {
   "cell_type": "code",
   "execution_count": 78,
   "metadata": {
    "collapsed": false
   },
   "outputs": [
    {
     "data": {
      "image/png": "[encoded data removed]",
      "text/plain": [
       "<matplotlib.figure.Figure at 0x7f9f21f50310>"
      ]
     },
     "metadata": {},
     "output_type": "display_data"
    }
   ],
   "source": [
    "dadi.Plotting.plot_2d_comp_multinom(model_spectrum, sfs2d, vmin=1)"
   ]
  },
  {
   "cell_type": "markdown",
   "metadata": {},
   "source": [
    "This has reduced the residuals for low frequency shared polymorphisms along the diagonal, but the model still cannot fit divergently fixed SNP's well."
   ]
  },
  {
   "cell_type": "markdown",
   "metadata": {},
   "source": [
    "## Interpretation of parameters"
   ]
  },
  {
   "cell_type": "markdown",
   "metadata": {},
   "source": [
    "### Translation of _m_"
   ]
  },
  {
   "cell_type": "markdown",
   "metadata": {},
   "source": [
    "The dadi manual says about the migration rate parameter (on page 11):\n",
    "\n",
    ">The migration parameter m12 specifies the rate of migration from pop 2 into pop 1. It is equal to the _fraction of individuals_ each generation in pop 1 that are new migrants from pop 2, times the 2Nref.\n",
    "\n",
    "So the fraction of new immigrant alleles each generation from $pop_2$ in $pop_1$ is:\n",
    "\n",
    "$$\n",
    "p_{m12} = \\frac{m_{12}}{2N_{ref}}\n",
    "$$\n",
    "\n",
    "Since dadi's migration rate is scaled by 2Nref, the migration rate parameter as reported by dadi has units of _immigrant gametes per generation_. However, **whenever pop 1 does not have the same size as the ancestral population ($N_{ref}$), dadi's $m_{12}$ needs to be rescaled by multiplication with $\\nu_1$** to get the number of immigrant gametes per generation ($M_{12}$):\n",
    "\n",
    "$$\n",
    "\\begin{align}\n",
    "p_{m12} &= \\frac{m_{12}}{2N_{ref}\\nu_1} \\\\[5pt]\n",
    "M_{12} &= p_{m12} \\times 2N_{ref}\\nu_1 \\\\[5pt]\n",
    "M_{12} &= \\nu_1 m_{12}\n",
    "\\end{align}\n",
    "$$\n",
    "\n",
    "\n",
    "See this [confirm units of dadi](https://groups.google.com/forum/#!searchin/dadi-user/Nref%7Csort:relevance/dadi-user/AY_4NoEjsx8/eamGdb39AwAJ) thread on the dadi forum."
   ]
  },
  {
   "cell_type": "markdown",
   "metadata": {},
   "source": [
    "What this model fit says in plain English:"
   ]
  },
  {
   "cell_type": "code",
   "execution_count": 79,
   "metadata": {
    "collapsed": false
   },
   "outputs": [
    {
     "name": "stdout",
     "output_type": "stream",
     "text": [
      "The ancestral population split apart 864,128 generation ago. Since then, ery and par had a constant population size of 465,572 and 827,069, respectively. Since the split, a fraction of 2.69e-07 of the population size of ERY were made up each generation of new immigrant individuals from PAR  and a fraction 1.52e-07 of the population size of PAR were made up each generation of new immigrant individuals from ERY. Put another way: Since the split ery received a constant number of 0.25 new immigrant alleles per generation, while par received a constant number of 0.44 per generation.\n"
     ]
    }
   ],
   "source": [
    "print \"The ancestral population split apart {0:,} generation ago.\".format(int(popt[2]*2*N_ref)), \n",
    "print \"Since then, ery and par had a constant population size of {0:,} and {1:,}, respectively.\".format(int(popt[0]*N_ref), int(popt[1]*N_ref)), \n",
    "print \"Since the split, a fraction of {0:.2e} of the population size of ERY were made up each generation of new immigrant individuals from PAR\".format(popt[3]/2/N_ref/popt[0]),\n",
    "print \" and a fraction {0:.2e} of the population size of PAR were made up each generation of new immigrant individuals from ERY.\".format(popt[3]/2/N_ref/popt[1]),\n",
    "print \"Put another way:\",\n",
    "print \"Since the split ery received a constant number of {0:.2f} new immigrant alleles per generation, while par received a constant number of {1:.2f} per generation.\".format(popt[3]*popt[0], popt[3]*popt[1])"
   ]
  },
  {
   "cell_type": "markdown",
   "metadata": {},
   "source": [
    "## LRT"
   ]
  },
  {
   "cell_type": "markdown",
   "metadata": {},
   "source": [
    "Is the model *with* migration significantly better than the model *without* migration?"
   ]
  },
  {
   "cell_type": "markdown",
   "metadata": {},
   "source": [
    "From the dadi manual:\n",
    "\n",
    ">The full likelihood ratio test statistic is equal to $D = 2(ll_c - ll_s)$ where $ll_c$ and $ll_s$ are the likelihoods of the complex and simple model, respectively.\n",
    "\n",
    "$D$ should be $\\chi^2$ distributed\n",
    "\n",
    ">with degrees of freedom equal to the difference in number of parameters between the simple and complex model."
   ]
  },
  {
   "cell_type": "markdown",
   "metadata": {},
   "source": [
    "Not all SNP's in the spectrum will be unlinked with each other. Therefore, the *likelihoods* calculated are *composite likelihoods*. Dadi can calculate an adjustment factor for $D$ that corrects for linkage. However, this requires bootstrapped data sets, which I haven't created yet. In the following calculation I am assuming that all SNP's can be assumed independent data points."
   ]
  },
  {
   "cell_type": "code",
   "execution_count": 80,
   "metadata": {
    "collapsed": true
   },
   "outputs": [],
   "source": [
    "# calculate logL for split-migration model\n",
    "ll_c = dadi.Inference.ll_multinom(model_spectrum, sfs2d)\n",
    "\n",
    "func = split_nomig\n",
    "\n",
    "# create extrapolating version of the model function\n",
    "func_ex = dadi.Numerics.make_extrap_log_func(func)\n",
    "\n",
    "# calculate best-fit model spectrum with optimal parameter values\n",
    "model_spectrum = func_ex((0.636945, 1.229606, 0.290465), ns, pts_l)\n",
    "\n",
    "# calculate logL for split-no-migration model\n",
    "ll_s = dadi.Inference.ll_multinom(model_spectrum, sfs2d)"
   ]
  },
  {
   "cell_type": "code",
   "execution_count": 81,
   "metadata": {
    "collapsed": false
   },
   "outputs": [
    {
     "data": {
      "text/plain": [
       "3626.2146620022322"
      ]
     },
     "execution_count": 81,
     "metadata": {},
     "output_type": "execute_result"
    }
   ],
   "source": [
    "D = 2*(ll_c - ll_s)\n",
    "D"
   ]
  },
  {
   "cell_type": "markdown",
   "metadata": {},
   "source": [
    "From the dadi example script `YRI_CEY.py`:\n",
    "\n",
    ">Because this is a test of a parameter on the boundary of the parameter space \n",
    "(_m_ cannot be less than zero), our null distribution is an even proportion \n",
    "of chi^2 distributions with 0 and 1 d.o.f. To evaluate the p-value, we use the\n",
    "point percent function for a weighted sum of chi^2 dists.\n",
    "\n",
    "See Self2007 for more complex cases."
   ]
  },
  {
   "cell_type": "code",
   "execution_count": 82,
   "metadata": {
    "collapsed": false
   },
   "outputs": [
    {
     "data": {
      "text/plain": [
       "0.0"
      ]
     },
     "execution_count": 82,
     "metadata": {},
     "output_type": "execute_result"
    }
   ],
   "source": [
    "# calculate p-value for Chi-square dist. with 1 degree of freedom\n",
    "p = dadi.Godambe.sum_chi2_ppf(D, weights=(0.5, 0.5))\n",
    "p"
   ]
  },
  {
   "cell_type": "markdown",
   "metadata": {},
   "source": [
    "Gene flow significantly improves the fit to the observed spectrum. I doubt that there could be enough linkage in the data to compromise this result."
   ]
  },
  {
   "cell_type": "markdown",
   "metadata": {},
   "source": [
    "# Recent secondary contact model"
   ]
  },
  {
   "cell_type": "markdown",
   "metadata": {},
   "source": [
    "Phylogeographic studies as well as paleoclimatic data strongly suggest that the two subspecies, _erythropus_ and _parallelus_, diverged in isolation during at least the last ice age and only recently (~10,000 YBP) came into secondary contact. Clines of several morphological as well as molecular markers have been shown to be very wide, which indicates substantial gene flow across the hybrid zone into adjacent pure populations. The two population samples come from such \"pure\" populations in close proximity to the hybrid zone. They may therefore show evidence of _recent_ gene flow between the two subspecies."
   ]
  },
  {
   "cell_type": "markdown",
   "metadata": {},
   "source": [
    "I am now defining a model function that is a mixture of the `split_nomig` and `split_mig` models. It specifies a split, divergence in isolation for a time $T_i$, then secondary contact of the two diverged populations since $T_c$ times $2N_{ref}$ generations in the past."
   ]
  },
  {
   "cell_type": "code",
   "execution_count": 28,
   "metadata": {
    "collapsed": true
   },
   "outputs": [],
   "source": [
    "def secondary_contact(params, ns, pts):\n",
    "    \"\"\"\n",
    "    params = (nu1,nu2,Ti,Tc,m)\n",
    "    ns = (n1,n2)\n",
    "\n",
    "    Split into two populations of specified size, \n",
    "    then diverge in isolation,\n",
    "    finally come into secondary contact.\n",
    "\n",
    "    nu1: Size of population 1 after split.\n",
    "    nu2: Size of population 2 after split.\n",
    "    Ti: Time of divergence in isolation (in units of 2*Na generations)\n",
    "    Tc: Time in the past when secondary contact began (and continues till present)\n",
    "    m: symmetrical migration rate (in units of 2*Na per generation)\n",
    "    \n",
    "    n1,n2: Sample sizes of resulting Spectrum\n",
    "    pts: Number of grid points to use in integration.\n",
    "    \"\"\"\n",
    "    nu1,nu2,Ti,Tc,m = params\n",
    "\n",
    "    xx = dadi.Numerics.default_grid(pts)\n",
    "\n",
    "    phi = dadi.PhiManip.phi_1D(xx)\n",
    "    phi = dadi.PhiManip.phi_1D_to_2D(xx, phi) # split\n",
    "\n",
    "    # divergence in isolation\n",
    "    phi = dadi.Integration.two_pops(phi, xx, Ti, nu1, nu2, m12=0, m21=0) \n",
    "    \n",
    "    # secondary contact\n",
    "    phi = dadi.Integration.two_pops(phi, xx, Tc, nu1, nu2, m12=m, m21=m)\n",
    "\n",
    "    fs = dadi.Spectrum.from_phi(phi, ns, (xx,xx))\n",
    "    return fs"
   ]
  },
  {
   "cell_type": "code",
   "execution_count": 37,
   "metadata": {
    "collapsed": false
   },
   "outputs": [],
   "source": [
    "ar_sec_contact = []\n",
    "\n",
    "for filename in glob(\"OUT_2D_models/sec_contact*dill\"):\n",
    "    ar_sec_contact.append(dill.load(open(filename)))"
   ]
  },
  {
   "cell_type": "code",
   "execution_count": 38,
   "metadata": {
    "collapsed": false
   },
   "outputs": [
    {
     "data": {
      "text/html": [
       "<div>\n",
       "<table border=\"1\" class=\"dataframe\">\n",
       "  <thead>\n",
       "    <tr style=\"text-align: right;\">\n",
       "      <th></th>\n",
       "      <th>nu1_0</th>\n",
       "      <th>nu2_0</th>\n",
       "      <th>Ti_0</th>\n",
       "      <th>Tc_0</th>\n",
       "      <th>m_0</th>\n",
       "      <th>nu1_opt</th>\n",
       "      <th>nu2_opt</th>\n",
       "      <th>Ti_opt</th>\n",
       "      <th>Tc_opt</th>\n",
       "      <th>m_opt</th>\n",
       "      <th>-logL</th>\n",
       "    </tr>\n",
       "  </thead>\n",
       "  <tbody>\n",
       "    <tr>\n",
       "      <th>16</th>\n",
       "      <td>0.800833</td>\n",
       "      <td>1.775923</td>\n",
       "      <td>0.481231</td>\n",
       "      <td>0.034021</td>\n",
       "      <td>0.318631</td>\n",
       "      <td>0.993736</td>\n",
       "      <td>1.766119</td>\n",
       "      <td>6.606356e-02</td>\n",
       "      <td>0.854641</td>\n",
       "      <td>0.250961</td>\n",
       "      <td>18574.115189</td>\n",
       "    </tr>\n",
       "    <tr>\n",
       "      <th>11</th>\n",
       "      <td>2.291806</td>\n",
       "      <td>0.941107</td>\n",
       "      <td>0.417754</td>\n",
       "      <td>0.701156</td>\n",
       "      <td>0.280979</td>\n",
       "      <td>0.995790</td>\n",
       "      <td>1.768780</td>\n",
       "      <td>4.236017e-09</td>\n",
       "      <td>0.928104</td>\n",
       "      <td>0.250866</td>\n",
       "      <td>18574.136842</td>\n",
       "    </tr>\n",
       "    <tr>\n",
       "      <th>0</th>\n",
       "      <td>1.236540</td>\n",
       "      <td>2.847184</td>\n",
       "      <td>0.230733</td>\n",
       "      <td>3.068632</td>\n",
       "      <td>0.849626</td>\n",
       "      <td>0.995633</td>\n",
       "      <td>1.767191</td>\n",
       "      <td>8.952130e-02</td>\n",
       "      <td>0.836080</td>\n",
       "      <td>0.251181</td>\n",
       "      <td>18574.175975</td>\n",
       "    </tr>\n",
       "    <tr>\n",
       "      <th>9</th>\n",
       "      <td>1.153465</td>\n",
       "      <td>2.238480</td>\n",
       "      <td>0.164853</td>\n",
       "      <td>0.034364</td>\n",
       "      <td>1.314128</td>\n",
       "      <td>0.989694</td>\n",
       "      <td>1.757785</td>\n",
       "      <td>1.310731e-01</td>\n",
       "      <td>0.779922</td>\n",
       "      <td>0.251502</td>\n",
       "      <td>18574.445432</td>\n",
       "    </tr>\n",
       "    <tr>\n",
       "      <th>25</th>\n",
       "      <td>0.390701</td>\n",
       "      <td>1.897315</td>\n",
       "      <td>0.759622</td>\n",
       "      <td>0.446801</td>\n",
       "      <td>0.700774</td>\n",
       "      <td>0.994296</td>\n",
       "      <td>1.771438</td>\n",
       "      <td>1.354936e-01</td>\n",
       "      <td>0.779559</td>\n",
       "      <td>0.250514</td>\n",
       "      <td>18574.532394</td>\n",
       "    </tr>\n",
       "    <tr>\n",
       "      <th>1</th>\n",
       "      <td>1.006920</td>\n",
       "      <td>2.471800</td>\n",
       "      <td>0.560705</td>\n",
       "      <td>1.489177</td>\n",
       "      <td>0.540249</td>\n",
       "      <td>1.007125</td>\n",
       "      <td>1.785494</td>\n",
       "      <td>1.446806e-01</td>\n",
       "      <td>0.789880</td>\n",
       "      <td>0.249414</td>\n",
       "      <td>18574.820474</td>\n",
       "    </tr>\n",
       "    <tr>\n",
       "      <th>26</th>\n",
       "      <td>0.228105</td>\n",
       "      <td>5.126482</td>\n",
       "      <td>0.093396</td>\n",
       "      <td>0.087684</td>\n",
       "      <td>0.331095</td>\n",
       "      <td>1.005337</td>\n",
       "      <td>1.778832</td>\n",
       "      <td>1.211617e-03</td>\n",
       "      <td>0.932793</td>\n",
       "      <td>0.246241</td>\n",
       "      <td>18574.947916</td>\n",
       "    </tr>\n",
       "    <tr>\n",
       "      <th>28</th>\n",
       "      <td>0.402956</td>\n",
       "      <td>1.380227</td>\n",
       "      <td>0.550776</td>\n",
       "      <td>2.572429</td>\n",
       "      <td>0.157063</td>\n",
       "      <td>0.987372</td>\n",
       "      <td>1.754340</td>\n",
       "      <td>1.760467e-01</td>\n",
       "      <td>0.726734</td>\n",
       "      <td>0.252789</td>\n",
       "      <td>18575.195890</td>\n",
       "    </tr>\n",
       "    <tr>\n",
       "      <th>37</th>\n",
       "      <td>1.127186</td>\n",
       "      <td>4.079809</td>\n",
       "      <td>0.302806</td>\n",
       "      <td>0.931041</td>\n",
       "      <td>0.188286</td>\n",
       "      <td>1.002210</td>\n",
       "      <td>1.779032</td>\n",
       "      <td>3.747498e-02</td>\n",
       "      <td>0.918896</td>\n",
       "      <td>0.254661</td>\n",
       "      <td>18575.351564</td>\n",
       "    </tr>\n",
       "    <tr>\n",
       "      <th>30</th>\n",
       "      <td>0.591352</td>\n",
       "      <td>3.382051</td>\n",
       "      <td>0.243697</td>\n",
       "      <td>0.081228</td>\n",
       "      <td>0.530071</td>\n",
       "      <td>1.027357</td>\n",
       "      <td>1.796094</td>\n",
       "      <td>3.927616e-02</td>\n",
       "      <td>0.932124</td>\n",
       "      <td>0.249578</td>\n",
       "      <td>18576.313944</td>\n",
       "    </tr>\n",
       "  </tbody>\n",
       "</table>\n",
       "</div>"
      ],
      "text/plain": [
       "       nu1_0     nu2_0      Ti_0      Tc_0       m_0   nu1_opt   nu2_opt  \\\n",
       "16  0.800833  1.775923  0.481231  0.034021  0.318631  0.993736  1.766119   \n",
       "11  2.291806  0.941107  0.417754  0.701156  0.280979  0.995790  1.768780   \n",
       "0   1.236540  2.847184  0.230733  3.068632  0.849626  0.995633  1.767191   \n",
       "9   1.153465  2.238480  0.164853  0.034364  1.314128  0.989694  1.757785   \n",
       "25  0.390701  1.897315  0.759622  0.446801  0.700774  0.994296  1.771438   \n",
       "1   1.006920  2.471800  0.560705  1.489177  0.540249  1.007125  1.785494   \n",
       "26  0.228105  5.126482  0.093396  0.087684  0.331095  1.005337  1.778832   \n",
       "28  0.402956  1.380227  0.550776  2.572429  0.157063  0.987372  1.754340   \n",
       "37  1.127186  4.079809  0.302806  0.931041  0.188286  1.002210  1.779032   \n",
       "30  0.591352  3.382051  0.243697  0.081228  0.530071  1.027357  1.796094   \n",
       "\n",
       "          Ti_opt    Tc_opt     m_opt         -logL  \n",
       "16  6.606356e-02  0.854641  0.250961  18574.115189  \n",
       "11  4.236017e-09  0.928104  0.250866  18574.136842  \n",
       "0   8.952130e-02  0.836080  0.251181  18574.175975  \n",
       "9   1.310731e-01  0.779922  0.251502  18574.445432  \n",
       "25  1.354936e-01  0.779559  0.250514  18574.532394  \n",
       "1   1.446806e-01  0.789880  0.249414  18574.820474  \n",
       "26  1.211617e-03  0.932793  0.246241  18574.947916  \n",
       "28  1.760467e-01  0.726734  0.252789  18575.195890  \n",
       "37  3.747498e-02  0.918896  0.254661  18575.351564  \n",
       "30  3.927616e-02  0.932124  0.249578  18576.313944  "
      ]
     },
     "execution_count": 38,
     "metadata": {},
     "output_type": "execute_result"
    }
   ],
   "source": [
    "# get parameters from all runs into a table\n",
    "\n",
    "returned = ([flatten(out)[:11] for out in ar_sec_contact])\n",
    "\n",
    "df = pd.DataFrame(data=returned, \\\n",
    "                  columns=['nu1_0','nu2_0', 'Ti_0', 'Tc_0', 'm_0', 'nu1_opt', 'nu2_opt', 'Ti_opt', 'Tc_opt', 'm_opt', '-logL'])\n",
    "\n",
    "df.sort_values(by='-logL', ascending=True).head(10)"
   ]
  },
  {
   "cell_type": "markdown",
   "metadata": {},
   "source": [
    "The most likely parameter combination has the same likelihood as the best-fit for the `split_mig` model (i. e. the model with $T_i = 0$). The best-fit parameters for this secondary contact model suggest only a short time of complete isolation followed by a long time of secondary contact, which is qualitatively equivalent to a model without complete isolation. A $T_i$ greater 0 does not improve the likelihood, so I think it is not significant."
   ]
  },
  {
   "cell_type": "code",
   "execution_count": 34,
   "metadata": {
    "collapsed": true
   },
   "outputs": [],
   "source": [
    "func = secondary_contact\n",
    "\n",
    "# create extrapolating version of the model function\n",
    "func_ex = dadi.Numerics.make_extrap_log_func(func)"
   ]
  },
  {
   "cell_type": "code",
   "execution_count": 35,
   "metadata": {
    "collapsed": true
   },
   "outputs": [],
   "source": [
    "import numpy as np"
   ]
  },
  {
   "cell_type": "code",
   "execution_count": 39,
   "metadata": {
    "collapsed": false
   },
   "outputs": [
    {
     "data": {
      "text/plain": [
       "6357.6920380892325"
      ]
     },
     "execution_count": 39,
     "metadata": {},
     "output_type": "execute_result"
    }
   ],
   "source": [
    "# determine theta\n",
    "\n",
    "popt = np.array(df.sort_values(by='-logL', ascending=True).iloc[0, 5:10])\n",
    "\n",
    "# get the unscaled optimal secondary contact model spectrum\n",
    "model_spectrum = func_ex(popt, ns, pts_l)\n",
    "\n",
    "# get theta\n",
    "theta = dadi.Inference.optimal_sfs_scaling(model_spectrum.fold(), sfs2d)\n",
    "\n",
    "theta"
   ]
  },
  {
   "cell_type": "markdown",
   "metadata": {},
   "source": [
    "## plot residuals"
   ]
  },
  {
   "cell_type": "code",
   "execution_count": 40,
   "metadata": {
    "collapsed": false
   },
   "outputs": [
    {
     "data": {
      "image/png": "[encoded data removed]",
      "text/plain": [
       "<matplotlib.figure.Figure at 0x7fd655d9aed0>"
      ]
     },
     "metadata": {},
     "output_type": "display_data"
    }
   ],
   "source": [
    "dadi.Plotting.plot_2d_comp_multinom(model_spectrum, sfs2d, vmin=1)"
   ]
  },
  {
   "cell_type": "markdown",
   "metadata": {},
   "source": [
    "## Interpretation of parameters"
   ]
  },
  {
   "cell_type": "code",
   "execution_count": 41,
   "metadata": {
    "collapsed": false
   },
   "outputs": [
    {
     "name": "stdout",
     "output_type": "stream",
     "text": [
      "The total sequence length for the 2D spectrum is 1,130,775.\n",
      "The effective size of the ancestral population Nref of ery and par (in number of diploid individuals) implied by this theta is: 468,535.\n"
     ]
    }
   ],
   "source": [
    "mu = 3e-9\n",
    "L = sfs2d.data.sum() # this sums over all entries in the spectrum, including masked ones, i. e. also contains invariable sites\n",
    "print \"The total sequence length for the 2D spectrum is {0:,}.\".format(int(L))\n",
    "N_ref = theta/L/mu/4\n",
    "print \"The effective size of the ancestral population Nref of ery and par (in number of diploid individuals) implied by this theta is: {0:,}.\".format(int(N_ref))"
   ]
  },
  {
   "cell_type": "code",
   "execution_count": 42,
   "metadata": {
    "collapsed": false
   },
   "outputs": [
    {
     "name": "stdout",
     "output_type": "stream",
     "text": [
      "After the split of the ancestral population 862,764 generations ago, the daughter populations increased in size (instantaneously). ERY increased to about the same size as the ancestral population (Nref), while PAR increased to 1.77 times of Nref. After the split ERY and PAR diverged in isolation for 61,906 generations. The two populations came into secondary contact 800,858 generations ago. ERY and PAR stayed in continuous secondary contact until the present and during that time exchanged one individual from par to ery every 8.0 generations and one individual from ery into par every 4.5 generations.\n"
     ]
    }
   ],
   "source": [
    "print \"After the split of the ancestral population {0:,} generations ago, the daughter populations increased in size (instantaneously).\".format(int((popt[2]+popt[3])*2*N_ref)),\n",
    "print \"ERY increased to about the same size as the ancestral population (Nref), while PAR increased to {0:.2f} times of Nref.\".format(popt[1]),\n",
    "print \"After the split ERY and PAR diverged in isolation for {0:,} generations.\".format(int(popt[2]*2*N_ref)),\n",
    "print \"The two populations came into secondary contact {0:,} generations ago.\".format(int(popt[3]*2*N_ref)),\n",
    "print \"ERY and PAR stayed in continuous secondary contact until the present and\",\n",
    "print \"during that time exchanged one individual from par to ery every {0:.1f} generations\".format(1.0/(popt[4]/2*popt[0])),\n",
    "print \"and one individual from ery into par every {0:.1f} generations.\".format(1.0/(popt[4]/2*popt[1]))"
   ]
  },
  {
   "cell_type": "markdown",
   "metadata": {},
   "source": [
    "## Compare best fit IM with RSC model spectrum"
   ]
  },
  {
   "cell_type": "markdown",
   "metadata": {},
   "source": [
    "I would like to compare expected spectra from a recent secondary contact model with expected spectra from an isolation with continuous migration model (previous section). "
   ]
  },
  {
   "cell_type": "code",
   "execution_count": 43,
   "metadata": {
    "collapsed": false
   },
   "outputs": [
    {
     "data": {
      "text/plain": [
       "array([ 0.99418511,  1.76612674,  0.92263183,  0.25068798])"
      ]
     },
     "execution_count": 43,
     "metadata": {},
     "output_type": "execute_result"
    }
   ],
   "source": [
    "success = [flatten(out)[:9] for out in ar_split_mig if out[1][4] == 0]\n",
    "\n",
    "df_split_mig = pd.DataFrame(data=success, \\\n",
    "                  columns=['nu1_0','nu2_0', 'T_0', 'm_0', 'nu1_opt', 'nu2_opt', 'T_opt', 'm_opt', '-logL'])\n",
    "\n",
    "popt_split_mig = np.array(df_split_mig.sort_values(by='-logL', ascending=True).iloc[0, 4:8])\n",
    "popt_split_mig"
   ]
  },
  {
   "cell_type": "code",
   "execution_count": 44,
   "metadata": {
    "collapsed": true
   },
   "outputs": [],
   "source": [
    "# get split_mig model function (built-in)\n",
    "func_ex_split_mig = dadi.Numerics.make_extrap_log_func(dadi.Demographics2D.split_mig)\n",
    "\n",
    "# get optimally scaled split-migration model spectrum\n",
    "model_spectrum_split_mig = dadi.Inference.optimally_scaled_sfs(func_ex_split_mig(popt_split_mig, ns, pts_l), sfs2d)"
   ]
  },
  {
   "cell_type": "code",
   "execution_count": 45,
   "metadata": {
    "collapsed": true
   },
   "outputs": [],
   "source": [
    "# parameter combination that specifies a recent secondary contact model\n",
    "p_sec_contact = [0.67858642,  1.29659005,  0.35015044,  0.00483189,  1.92454244]"
   ]
  },
  {
   "cell_type": "markdown",
   "metadata": {},
   "source": [
    "These parameters says the following about the history of PAR and ERY:"
   ]
  },
  {
   "cell_type": "code",
   "execution_count": 46,
   "metadata": {
    "collapsed": false
   },
   "outputs": [
    {
     "name": "stdout",
     "output_type": "stream",
     "text": [
      "After the split of the ancestral population 332,643 generations ago, the daughter populations increased in size (instantaneously). ERY decreased to about 0.68 the size of the ancestral population (Nref), while PAR increased to 1.30 times of Nref. After the split ERY and PAR diverged in isolation for 328,115 generations. The two populations came into secondary contact 4,527 generations ago. ERY and PAR stayed in continuous secondary contact until present and during that time contained a proportion 2.05e-06 new immigrant alleles each generations.\n"
     ]
    }
   ],
   "source": [
    "print \"After the split of the ancestral population {0:,} generations ago, the daughter populations increased in size (instantaneously).\".format(int((p_sec_contact[2]+p_sec_contact[3])*2*N_ref)),\n",
    "print \"ERY decreased to about {0:.2f} the size of the ancestral population (Nref), while PAR increased to {1:.2f} times of Nref.\".format(p_sec_contact[0],p_sec_contact[1]),\n",
    "print \"After the split ERY and PAR diverged in isolation for {0:,} generations.\".format(int(p_sec_contact[2]*2*N_ref)),\n",
    "print \"The two populations came into secondary contact {0:,} generations ago.\".format(int(p_sec_contact[3]*2*N_ref)),\n",
    "print \"ERY and PAR stayed in continuous secondary contact until present and\",\n",
    "print \"during that time contained a proportion {0:.2e} new immigrant alleles each generations.\".format(p_sec_contact[4]/2/N_ref)"
   ]
  },
  {
   "cell_type": "code",
   "execution_count": 47,
   "metadata": {
    "collapsed": true
   },
   "outputs": [],
   "source": [
    "# get the optimally scaled secondary contact model spectrum\n",
    "\n",
    "func_ex = dadi.Numerics.make_extrap_log_func(secondary_contact)\n",
    "\n",
    "SC_model_spectrum = dadi.Inference.optimally_scaled_sfs(func_ex(p_sec_contact, ns, pts_l), sfs2d)"
   ]
  },
  {
   "cell_type": "code",
   "execution_count": 48,
   "metadata": {
    "collapsed": false
   },
   "outputs": [
    {
     "data": {
      "text/plain": [
       "-19711.069711547018"
      ]
     },
     "execution_count": 48,
     "metadata": {},
     "output_type": "execute_result"
    }
   ],
   "source": [
    "# get the log likelihood of this RSC parameterisation\n",
    "ll_RSC = dadi.Inference.ll_multinom(SC_model_spectrum, sfs2d)\n",
    "ll_RSC"
   ]
  },
  {
   "cell_type": "code",
   "execution_count": 49,
   "metadata": {
    "collapsed": false
   },
   "outputs": [
    {
     "data": {
      "text/plain": [
       "-1137"
      ]
     },
     "execution_count": 49,
     "metadata": {},
     "output_type": "execute_result"
    }
   ],
   "source": [
    "18574-19711"
   ]
  },
  {
   "cell_type": "markdown",
   "metadata": {},
   "source": [
    "This RSC parameterisation reduces the fit to the data by 1137 log likelihood units cmpared to the best-fit parameters which suggest practically no time of complete isolation."
   ]
  },
  {
   "cell_type": "code",
   "execution_count": 50,
   "metadata": {
    "collapsed": false
   },
   "outputs": [
    {
     "data": {
      "image/png": "[encoded data removed]",
      "text/plain": [
       "<matplotlib.figure.Figure at 0x7fd657c3fb50>"
      ]
     },
     "metadata": {},
     "output_type": "display_data"
    }
   ],
   "source": [
    "# I have edited the functions `dadi.Plotting.plot_2d_comp_multinom` and `dadi.Plotting.plot_2d_comp_Poisson`\n",
    "# in `Plotting.py` in the dadi repo to add the argument `title`\n",
    "dadi.Plotting.plot_2d_comp_multinom(data=SC_model_spectrum.fold(), model=model_spectrum_split_mig.fold(), \\\n",
    "                                    vmin=1, title=['RSC', 'continuous migration'], pop_ids = ['ery', 'par'])"
   ]
  },
  {
   "cell_type": "markdown",
   "metadata": {},
   "source": [
    "The recent secondary contact model (with the parameters given above) predicts far fewer low frequency shared polymorphisms along the diagonal. Despite the long time of isolation it also predicts fewer highly diverged SNP's (red in the residual plot)."
   ]
  },
  {
   "cell_type": "markdown",
   "metadata": {
    "collapsed": true
   },
   "source": [
    "On the other hand, recent secondary contact predicts more high frequency shared polymorphisms than isolation with continuous migration (blue in the residual plot)."
   ]
  },
  {
   "cell_type": "markdown",
   "metadata": {},
   "source": [
    "# adding asymmetric gene flow"
   ]
  },
  {
   "cell_type": "markdown",
   "metadata": {
    "collapsed": true
   },
   "source": [
    "Define an IM model that allows for unequal migration rates between the two populations."
   ]
  },
  {
   "cell_type": "code",
   "execution_count": 44,
   "metadata": {
    "collapsed": true
   },
   "outputs": [],
   "source": [
    "def split_asym_mig(params, ns, pts):\n",
    "    \"\"\"\n",
    "    params = (nu1,nu2,T,m1,m2)\n",
    "    ns = (n1,n2)\n",
    "\n",
    "    Split into two populations of specifed size, with potentially asymmetric migration.\n",
    "\n",
    "    nu1: Size of population 1 after split.\n",
    "    nu2: Size of population 2 after split.\n",
    "    T: Time in the past of split (in units of 2*Na generations) \n",
    "    m1: Migration rate from ery into par (in units of 2*Na ind per generation)\n",
    "    m2: Migration rate from par into ery (in units of 2*Na ind per generation)\n",
    "    n1,n2: Sample sizes of resulting Spectrum\n",
    "    pts: Number of grid points to use in integration.\n",
    "    \"\"\"\n",
    "    nu1,nu2,T,m1,m2 = params\n",
    "\n",
    "    xx = dadi.Numerics.default_grid(pts)\n",
    "\n",
    "    phi = dadi.PhiManip.phi_1D(xx)\n",
    "    \n",
    "    # split\n",
    "    phi = dadi.PhiManip.phi_1D_to_2D(xx, phi) \n",
    "    \n",
    "    # divergence with potentially asymmetric migration\n",
    "    phi = dadi.Integration.two_pops(phi, xx, T, nu1, nu2, m12=m2, m21=m1)\n",
    "\n",
    "    fs = dadi.Spectrum.from_phi(phi, ns, (xx,xx))\n",
    "    return fs"
   ]
  },
  {
   "cell_type": "code",
   "execution_count": 99,
   "metadata": {
    "collapsed": false
   },
   "outputs": [],
   "source": [
    "# load optimal parameters from files\n",
    "\n",
    "ar_split_asym_mig = []\n",
    "\n",
    "for filename in glob(\"OUT_2D_models/split_asym_mig_[0-9]*dill\"):\n",
    "    ar_split_asym_mig.append(dill.load(open(filename)))"
   ]
  },
  {
   "cell_type": "code",
   "execution_count": 100,
   "metadata": {
    "collapsed": false
   },
   "outputs": [
    {
     "data": {
      "text/html": [
       "<div>\n",
       "<table border=\"1\" class=\"dataframe\">\n",
       "  <thead>\n",
       "    <tr style=\"text-align: right;\">\n",
       "      <th></th>\n",
       "      <th>nu1_0</th>\n",
       "      <th>nu2_0</th>\n",
       "      <th>T_0</th>\n",
       "      <th>m1_0</th>\n",
       "      <th>m2_0</th>\n",
       "      <th>nu1_opt</th>\n",
       "      <th>nu2_opt</th>\n",
       "      <th>T_opt</th>\n",
       "      <th>m1_opt</th>\n",
       "      <th>m2_opt</th>\n",
       "      <th>-logL</th>\n",
       "    </tr>\n",
       "  </thead>\n",
       "  <tbody>\n",
       "    <tr>\n",
       "      <th>22</th>\n",
       "      <td>0.782220</td>\n",
       "      <td>1.448548</td>\n",
       "      <td>4.639001</td>\n",
       "      <td>0.072158</td>\n",
       "      <td>0.638342</td>\n",
       "      <td>0.920911</td>\n",
       "      <td>2.238617</td>\n",
       "      <td>1.244681</td>\n",
       "      <td>0.084147</td>\n",
       "      <td>0.494918</td>\n",
       "      <td>18104.966267</td>\n",
       "    </tr>\n",
       "    <tr>\n",
       "      <th>0</th>\n",
       "      <td>0.661003</td>\n",
       "      <td>7.163811</td>\n",
       "      <td>1.265469</td>\n",
       "      <td>0.257890</td>\n",
       "      <td>0.190122</td>\n",
       "      <td>0.920526</td>\n",
       "      <td>2.236116</td>\n",
       "      <td>1.241691</td>\n",
       "      <td>0.084361</td>\n",
       "      <td>0.494500</td>\n",
       "      <td>18104.971893</td>\n",
       "    </tr>\n",
       "    <tr>\n",
       "      <th>2</th>\n",
       "      <td>0.303698</td>\n",
       "      <td>1.230424</td>\n",
       "      <td>0.319167</td>\n",
       "      <td>0.222183</td>\n",
       "      <td>0.228972</td>\n",
       "      <td>0.922813</td>\n",
       "      <td>2.243404</td>\n",
       "      <td>1.254244</td>\n",
       "      <td>0.083942</td>\n",
       "      <td>0.494334</td>\n",
       "      <td>18104.983699</td>\n",
       "    </tr>\n",
       "    <tr>\n",
       "      <th>1</th>\n",
       "      <td>0.287213</td>\n",
       "      <td>1.386083</td>\n",
       "      <td>0.493232</td>\n",
       "      <td>0.096763</td>\n",
       "      <td>0.103789</td>\n",
       "      <td>0.915567</td>\n",
       "      <td>2.223840</td>\n",
       "      <td>1.228988</td>\n",
       "      <td>0.084270</td>\n",
       "      <td>0.497170</td>\n",
       "      <td>18105.001298</td>\n",
       "    </tr>\n",
       "    <tr>\n",
       "      <th>12</th>\n",
       "      <td>0.234347</td>\n",
       "      <td>0.568305</td>\n",
       "      <td>0.310253</td>\n",
       "      <td>0.112591</td>\n",
       "      <td>0.538129</td>\n",
       "      <td>0.912096</td>\n",
       "      <td>2.209951</td>\n",
       "      <td>1.210935</td>\n",
       "      <td>0.084060</td>\n",
       "      <td>0.497975</td>\n",
       "      <td>18105.141289</td>\n",
       "    </tr>\n",
       "    <tr>\n",
       "      <th>17</th>\n",
       "      <td>0.445903</td>\n",
       "      <td>1.955658</td>\n",
       "      <td>2.155467</td>\n",
       "      <td>0.025188</td>\n",
       "      <td>0.607712</td>\n",
       "      <td>0.928113</td>\n",
       "      <td>2.253559</td>\n",
       "      <td>1.279568</td>\n",
       "      <td>0.084935</td>\n",
       "      <td>0.493929</td>\n",
       "      <td>18105.232355</td>\n",
       "    </tr>\n",
       "    <tr>\n",
       "      <th>11</th>\n",
       "      <td>0.690910</td>\n",
       "      <td>1.962277</td>\n",
       "      <td>0.655486</td>\n",
       "      <td>0.716114</td>\n",
       "      <td>0.081910</td>\n",
       "      <td>0.929836</td>\n",
       "      <td>2.267261</td>\n",
       "      <td>1.289605</td>\n",
       "      <td>0.085435</td>\n",
       "      <td>0.493187</td>\n",
       "      <td>18105.358461</td>\n",
       "    </tr>\n",
       "    <tr>\n",
       "      <th>14</th>\n",
       "      <td>0.840609</td>\n",
       "      <td>1.431975</td>\n",
       "      <td>0.454631</td>\n",
       "      <td>0.032701</td>\n",
       "      <td>0.460575</td>\n",
       "      <td>0.933747</td>\n",
       "      <td>2.248026</td>\n",
       "      <td>1.278518</td>\n",
       "      <td>0.086974</td>\n",
       "      <td>0.490424</td>\n",
       "      <td>18105.547423</td>\n",
       "    </tr>\n",
       "    <tr>\n",
       "      <th>29</th>\n",
       "      <td>0.474111</td>\n",
       "      <td>0.694113</td>\n",
       "      <td>1.372862</td>\n",
       "      <td>0.274980</td>\n",
       "      <td>0.360411</td>\n",
       "      <td>0.915513</td>\n",
       "      <td>2.217017</td>\n",
       "      <td>1.244177</td>\n",
       "      <td>0.087882</td>\n",
       "      <td>0.492707</td>\n",
       "      <td>18105.676702</td>\n",
       "    </tr>\n",
       "    <tr>\n",
       "      <th>30</th>\n",
       "      <td>0.318476</td>\n",
       "      <td>1.235161</td>\n",
       "      <td>0.915553</td>\n",
       "      <td>0.202189</td>\n",
       "      <td>0.451816</td>\n",
       "      <td>0.889937</td>\n",
       "      <td>2.161759</td>\n",
       "      <td>1.149623</td>\n",
       "      <td>0.084294</td>\n",
       "      <td>0.506266</td>\n",
       "      <td>18106.119019</td>\n",
       "    </tr>\n",
       "  </tbody>\n",
       "</table>\n",
       "</div>"
      ],
      "text/plain": [
       "       nu1_0     nu2_0       T_0      m1_0      m2_0   nu1_opt   nu2_opt  \\\n",
       "22  0.782220  1.448548  4.639001  0.072158  0.638342  0.920911  2.238617   \n",
       "0   0.661003  7.163811  1.265469  0.257890  0.190122  0.920526  2.236116   \n",
       "2   0.303698  1.230424  0.319167  0.222183  0.228972  0.922813  2.243404   \n",
       "1   0.287213  1.386083  0.493232  0.096763  0.103789  0.915567  2.223840   \n",
       "12  0.234347  0.568305  0.310253  0.112591  0.538129  0.912096  2.209951   \n",
       "17  0.445903  1.955658  2.155467  0.025188  0.607712  0.928113  2.253559   \n",
       "11  0.690910  1.962277  0.655486  0.716114  0.081910  0.929836  2.267261   \n",
       "14  0.840609  1.431975  0.454631  0.032701  0.460575  0.933747  2.248026   \n",
       "29  0.474111  0.694113  1.372862  0.274980  0.360411  0.915513  2.217017   \n",
       "30  0.318476  1.235161  0.915553  0.202189  0.451816  0.889937  2.161759   \n",
       "\n",
       "       T_opt    m1_opt    m2_opt         -logL  \n",
       "22  1.244681  0.084147  0.494918  18104.966267  \n",
       "0   1.241691  0.084361  0.494500  18104.971893  \n",
       "2   1.254244  0.083942  0.494334  18104.983699  \n",
       "1   1.228988  0.084270  0.497170  18105.001298  \n",
       "12  1.210935  0.084060  0.497975  18105.141289  \n",
       "17  1.279568  0.084935  0.493929  18105.232355  \n",
       "11  1.289605  0.085435  0.493187  18105.358461  \n",
       "14  1.278518  0.086974  0.490424  18105.547423  \n",
       "29  1.244177  0.087882  0.492707  18105.676702  \n",
       "30  1.149623  0.084294  0.506266  18106.119019  "
      ]
     },
     "execution_count": 100,
     "metadata": {},
     "output_type": "execute_result"
    }
   ],
   "source": [
    "# create table\n",
    "\n",
    "l = 2*5+1\n",
    "\n",
    "success = [flatten(out)[:l] for out in ar_split_asym_mig]\n",
    "\n",
    "df = pd.DataFrame(data=success, \\\n",
    "                  columns=['nu1_0','nu2_0', 'T_0', 'm1_0', 'm2_0', 'nu1_opt', 'nu2_opt', 'T_opt', 'm1_opt', 'm2_opt', '-logL'])\n",
    "\n",
    "df.sort_values(by='-logL', ascending=True).head(10)"
   ]
  },
  {
   "cell_type": "markdown",
   "metadata": {},
   "source": [
    "These parameter combinations consistently indicate a much smaller gene flow from _erythropus_ into _parallelus_ than in the other direction. This seems plausible when considering the observed expansion of the range of parallelus towards the south of the Pyrenees. Shapes of neutral clines across the hybrid zone should also be less steep on the _erythropus_ side than on the _parallelus_ side. A more trivial explanation is that the sampling location for ERY (Greixer) is closer to the cline centre than the sampling location for PAR (Aunat). A quick look at the map does not seem to support this, but migration barriers, also those that do not exist anymore, like forests, will have had an effect on the past gene flow."
   ]
  },
  {
   "cell_type": "markdown",
   "metadata": {},
   "source": [
    "## plot residuals"
   ]
  },
  {
   "cell_type": "code",
   "execution_count": 101,
   "metadata": {
    "collapsed": false
   },
   "outputs": [
    {
     "data": {
      "text/plain": [
       "array([ 0.92091098,  2.2386172 ,  1.24468148,  0.08414741,  0.49491818])"
      ]
     },
     "execution_count": 101,
     "metadata": {},
     "output_type": "execute_result"
    }
   ],
   "source": [
    "# get optimal parameter combination\n",
    "popt = np.array(df.sort_values(by='-logL', ascending=True).iloc[0, 5:10])\n",
    "popt"
   ]
  },
  {
   "cell_type": "code",
   "execution_count": 39,
   "metadata": {
    "collapsed": false
   },
   "outputs": [
    {
     "data": {
      "text/plain": [
       "5572.6260851273273"
      ]
     },
     "execution_count": 39,
     "metadata": {},
     "output_type": "execute_result"
    }
   ],
   "source": [
    "func = split_asym_mig\n",
    "\n",
    "func_ex = dadi.Numerics.make_extrap_log_func(func)\n",
    "\n",
    "# calculate best-fit model spectrum\n",
    "model_spectrum = func_ex(popt, ns, pts_l)\n",
    "\n",
    "# optimally scale model spectrum\n",
    "model_spectrum_asym_mig_scaled = dadi.Inference.optimally_scaled_sfs(model_spectrum, sfs2d)\n",
    "\n",
    "theta = dadi.Inference.optimal_sfs_scaling(model_spectrum, sfs2d)\n",
    "theta"
   ]
  },
  {
   "cell_type": "code",
   "execution_count": 40,
   "metadata": {
    "collapsed": false
   },
   "outputs": [
    {
     "data": {
      "image/png": "[encoded data removed]",
      "text/plain": [
       "<matplotlib.figure.Figure at 0x7f9f2280a090>"
      ]
     },
     "metadata": {},
     "output_type": "display_data"
    }
   ],
   "source": [
    "dadi.Plotting.plot_2d_comp_multinom(model_spectrum_asym_mig_scaled, sfs2d, vmin=1)"
   ]
  },
  {
   "cell_type": "markdown",
   "metadata": {},
   "source": [
    "## Interpretation of parameters"
   ]
  },
  {
   "cell_type": "code",
   "execution_count": 50,
   "metadata": {
    "collapsed": false
   },
   "outputs": [
    {
     "name": "stdout",
     "output_type": "stream",
     "text": [
      "The optimal value of theta per site for the ancestral population is 0.00493.\n",
      "The effective size of the ancestral population of ery and par (in number of diploid individuals) implied by this theta is: 410,678.\n"
     ]
    }
   ],
   "source": [
    "mu = 3e-9\n",
    "L = sfs2d.data.sum() # this sums over all entries in the spectrum, including masked ones, i. e. also contains invariable sites\n",
    "print \"The optimal value of theta per site for the ancestral population is {0:.5f}.\".format(theta/L)\n",
    "N_ref = theta/L/mu/4\n",
    "print \"The effective size of the ancestral population of ery and par (in number of diploid individuals) implied by this theta is: {0:,}.\".format(int(N_ref))"
   ]
  },
  {
   "cell_type": "code",
   "execution_count": 49,
   "metadata": {
    "collapsed": false
   },
   "outputs": [
    {
     "name": "stdout",
     "output_type": "stream",
     "text": [
      "The ancestral population split apart 1,022,329 generations ago. Immediately after the split the ERY population changed to a size of 378,198 and the PAR population to 919,352. Since the split of the ancestral population, PAR received 1 individual from ERY every 10.62 generations, while ERY received 1 PAR individual every 4.39 generations. Put another way: The PAR population contained a constant proportion of 4.58e-08 of new immigrant alleles each generation and the ERY population contained a constant proportion of 6.54e-07 of new immigrant alleles each generation.\n"
     ]
    }
   ],
   "source": [
    "print \"The ancestral population split apart {0:,} generations ago.\".format(int(popt[2]*2*N_ref)),\n",
    "print \"Immediately after the split the ERY population changed to a size of {0:,} and the PAR population to {1:,}.\".format(int(popt[0]*N_ref), int(popt[1]*N_ref)),\n",
    "print \"Since the split of the ancestral population, PAR received 1 individual from ERY every {0:.2f} generations,\".format(1.0/(popt[3]/2*popt[1])),\n",
    "print \"while ERY received 1 PAR individual every {0:.2f} generations.\".format(1.0/(popt[4]/2*popt[0])),\n",
    "print \"Put another way: The PAR population contained a constant proportion of {0:.2e} of new immigrant alleles each generation\".format(popt[3]/2/N_ref/popt[1]),\n",
    "print \"and the ERY population contained a constant proportion of {0:.2e} of new immigrant alleles each generation.\".format(popt[4]/2/N_ref/popt[0])"
   ]
  },
  {
   "cell_type": "markdown",
   "metadata": {},
   "source": [
    "This model therefore indicates a much stronger introgression from _parallelus_ into _erythropus_ than in the opposite direction. Is the asymmetrical gene flow significant?"
   ]
  },
  {
   "cell_type": "markdown",
   "metadata": {},
   "source": [
    "## LRT"
   ]
  },
  {
   "cell_type": "code",
   "execution_count": 85,
   "metadata": {
    "collapsed": false
   },
   "outputs": [
    {
     "data": {
      "text/plain": [
       "-18104.966266885222"
      ]
     },
     "execution_count": 85,
     "metadata": {},
     "output_type": "execute_result"
    }
   ],
   "source": [
    "ll_c = dadi.Inference.ll_multinom(model_spectrum_asym_mig_scaled, sfs2d)\n",
    "ll_c"
   ]
  },
  {
   "cell_type": "code",
   "execution_count": 86,
   "metadata": {
    "collapsed": false
   },
   "outputs": [
    {
     "data": {
      "text/plain": [
       "-18574.11991248127"
      ]
     },
     "execution_count": 86,
     "metadata": {},
     "output_type": "execute_result"
    }
   ],
   "source": [
    "# get maximum log likelihood of best fit parameter combination for the model\n",
    "# with symmetrical migration rates\n",
    "\n",
    "func = dadi.Demographics2D.split_mig\n",
    "\n",
    "func_ex = dadi.Numerics.make_extrap_log_func(func)\n",
    "\n",
    "# best-fit paramter combination for the split_mig model (see section 3 above)\n",
    "popt_split_mig = [0.994185, 1.766127, 0.922632, 0.250688]\n",
    "\n",
    "model_spectrum_sym_mig = func_ex(popt_split_mig, ns, pts_l)\n",
    "\n",
    "model_spectrum_sym_mig_scaled = dadi.Inference.optimally_scaled_sfs(model_spectrum_sym_mig, sfs2d)\n",
    "\n",
    "ll_s = dadi.Inference.ll_multinom(model_spectrum_sym_mig, sfs2d)\n",
    "ll_s"
   ]
  },
  {
   "cell_type": "code",
   "execution_count": 87,
   "metadata": {
    "collapsed": false
   },
   "outputs": [
    {
     "data": {
      "text/plain": [
       "938.30729119209718"
      ]
     },
     "execution_count": 87,
     "metadata": {},
     "output_type": "execute_result"
    }
   ],
   "source": [
    "D = 2*(ll_c - ll_s)\n",
    "D"
   ]
  },
  {
   "cell_type": "code",
   "execution_count": 88,
   "metadata": {
    "collapsed": false
   },
   "outputs": [
    {
     "data": {
      "text/plain": [
       "0.0"
      ]
     },
     "execution_count": 88,
     "metadata": {},
     "output_type": "execute_result"
    }
   ],
   "source": [
    "# calculate p-value for Chi-square dist. with 1 degree of freedom\n",
    "p = dadi.Godambe.sum_chi2_ppf(D)\n",
    "p"
   ]
  },
  {
   "cell_type": "markdown",
   "metadata": {},
   "source": [
    "It looks as though allowing for asymmetrical gene flow significantly improves the fit to the data. Linkage is unlikely to push the p-value above a significance value of 1e-2, for instance."
   ]
  },
  {
   "cell_type": "markdown",
   "metadata": {},
   "source": [
    "## Is the migration rate from ery into par (_m1_) statistically significant?"
   ]
  },
  {
   "cell_type": "code",
   "execution_count": 89,
   "metadata": {
    "collapsed": true
   },
   "outputs": [],
   "source": [
    "ar_split_asym_mig_nom1 = []\n",
    "\n",
    "for filename in glob(\"OUT_2D_models/split_asym_mig_nom1*dill\"):\n",
    "    ar_split_asym_mig_nom1.append(dill.load(open(filename)))"
   ]
  },
  {
   "cell_type": "code",
   "execution_count": 90,
   "metadata": {
    "collapsed": false
   },
   "outputs": [
    {
     "data": {
      "text/html": [
       "<div>\n",
       "<table border=\"1\" class=\"dataframe\">\n",
       "  <thead>\n",
       "    <tr style=\"text-align: right;\">\n",
       "      <th></th>\n",
       "      <th>nu1_0</th>\n",
       "      <th>nu2_0</th>\n",
       "      <th>T_0</th>\n",
       "      <th>m1_0</th>\n",
       "      <th>m2_0</th>\n",
       "      <th>nu1_opt</th>\n",
       "      <th>nu2_opt</th>\n",
       "      <th>T_opt</th>\n",
       "      <th>m1_opt</th>\n",
       "      <th>m2_opt</th>\n",
       "      <th>-logL</th>\n",
       "    </tr>\n",
       "  </thead>\n",
       "  <tbody>\n",
       "    <tr>\n",
       "      <th>4</th>\n",
       "      <td>0.604286</td>\n",
       "      <td>1.689639</td>\n",
       "      <td>1.086538</td>\n",
       "      <td>0.048727</td>\n",
       "      <td>0.585935</td>\n",
       "      <td>0.720082</td>\n",
       "      <td>1.962785</td>\n",
       "      <td>0.791503</td>\n",
       "      <td>0.0</td>\n",
       "      <td>0.664581</td>\n",
       "      <td>18340.935861</td>\n",
       "    </tr>\n",
       "    <tr>\n",
       "      <th>8</th>\n",
       "      <td>1.197798</td>\n",
       "      <td>1.060943</td>\n",
       "      <td>0.387950</td>\n",
       "      <td>0.070337</td>\n",
       "      <td>0.177612</td>\n",
       "      <td>0.718508</td>\n",
       "      <td>1.960294</td>\n",
       "      <td>0.788789</td>\n",
       "      <td>0.0</td>\n",
       "      <td>0.664332</td>\n",
       "      <td>18340.951096</td>\n",
       "    </tr>\n",
       "    <tr>\n",
       "      <th>6</th>\n",
       "      <td>0.588394</td>\n",
       "      <td>3.336045</td>\n",
       "      <td>2.176182</td>\n",
       "      <td>0.035238</td>\n",
       "      <td>0.433038</td>\n",
       "      <td>0.721147</td>\n",
       "      <td>1.961776</td>\n",
       "      <td>0.791353</td>\n",
       "      <td>0.0</td>\n",
       "      <td>0.664706</td>\n",
       "      <td>18340.964537</td>\n",
       "    </tr>\n",
       "    <tr>\n",
       "      <th>3</th>\n",
       "      <td>0.400697</td>\n",
       "      <td>4.483709</td>\n",
       "      <td>0.486604</td>\n",
       "      <td>0.282474</td>\n",
       "      <td>0.612249</td>\n",
       "      <td>0.721305</td>\n",
       "      <td>1.961497</td>\n",
       "      <td>0.790718</td>\n",
       "      <td>0.0</td>\n",
       "      <td>0.663976</td>\n",
       "      <td>18340.965653</td>\n",
       "    </tr>\n",
       "    <tr>\n",
       "      <th>1</th>\n",
       "      <td>0.250388</td>\n",
       "      <td>0.933745</td>\n",
       "      <td>0.381047</td>\n",
       "      <td>0.123940</td>\n",
       "      <td>1.702059</td>\n",
       "      <td>0.717236</td>\n",
       "      <td>1.953896</td>\n",
       "      <td>0.786673</td>\n",
       "      <td>0.0</td>\n",
       "      <td>0.667389</td>\n",
       "      <td>18340.972028</td>\n",
       "    </tr>\n",
       "    <tr>\n",
       "      <th>9</th>\n",
       "      <td>1.163790</td>\n",
       "      <td>2.959924</td>\n",
       "      <td>0.753380</td>\n",
       "      <td>0.124571</td>\n",
       "      <td>0.155288</td>\n",
       "      <td>0.719228</td>\n",
       "      <td>1.967604</td>\n",
       "      <td>0.794908</td>\n",
       "      <td>0.0</td>\n",
       "      <td>0.669281</td>\n",
       "      <td>18341.008850</td>\n",
       "    </tr>\n",
       "    <tr>\n",
       "      <th>7</th>\n",
       "      <td>0.331430</td>\n",
       "      <td>2.693409</td>\n",
       "      <td>0.905852</td>\n",
       "      <td>0.078054</td>\n",
       "      <td>0.398861</td>\n",
       "      <td>0.743397</td>\n",
       "      <td>2.058666</td>\n",
       "      <td>0.871767</td>\n",
       "      <td>0.0</td>\n",
       "      <td>0.663042</td>\n",
       "      <td>18345.753837</td>\n",
       "    </tr>\n",
       "    <tr>\n",
       "      <th>0</th>\n",
       "      <td>0.258239</td>\n",
       "      <td>2.546149</td>\n",
       "      <td>2.410812</td>\n",
       "      <td>0.024995</td>\n",
       "      <td>0.808097</td>\n",
       "      <td>0.658928</td>\n",
       "      <td>1.875663</td>\n",
       "      <td>0.777684</td>\n",
       "      <td>0.0</td>\n",
       "      <td>0.783119</td>\n",
       "      <td>18374.981997</td>\n",
       "    </tr>\n",
       "    <tr>\n",
       "      <th>2</th>\n",
       "      <td>1.546874</td>\n",
       "      <td>0.697055</td>\n",
       "      <td>2.829271</td>\n",
       "      <td>0.246889</td>\n",
       "      <td>0.420687</td>\n",
       "      <td>1.453423</td>\n",
       "      <td>4.604630</td>\n",
       "      <td>3.820350</td>\n",
       "      <td>0.0</td>\n",
       "      <td>0.406251</td>\n",
       "      <td>18687.709775</td>\n",
       "    </tr>\n",
       "    <tr>\n",
       "      <th>5</th>\n",
       "      <td>1.561103</td>\n",
       "      <td>0.681461</td>\n",
       "      <td>2.626801</td>\n",
       "      <td>0.037716</td>\n",
       "      <td>0.265306</td>\n",
       "      <td>0.460973</td>\n",
       "      <td>1.135742</td>\n",
       "      <td>0.295629</td>\n",
       "      <td>0.0</td>\n",
       "      <td>0.584516</td>\n",
       "      <td>19282.370153</td>\n",
       "    </tr>\n",
       "  </tbody>\n",
       "</table>\n",
       "</div>"
      ],
      "text/plain": [
       "      nu1_0     nu2_0       T_0      m1_0      m2_0   nu1_opt   nu2_opt  \\\n",
       "4  0.604286  1.689639  1.086538  0.048727  0.585935  0.720082  1.962785   \n",
       "8  1.197798  1.060943  0.387950  0.070337  0.177612  0.718508  1.960294   \n",
       "6  0.588394  3.336045  2.176182  0.035238  0.433038  0.721147  1.961776   \n",
       "3  0.400697  4.483709  0.486604  0.282474  0.612249  0.721305  1.961497   \n",
       "1  0.250388  0.933745  0.381047  0.123940  1.702059  0.717236  1.953896   \n",
       "9  1.163790  2.959924  0.753380  0.124571  0.155288  0.719228  1.967604   \n",
       "7  0.331430  2.693409  0.905852  0.078054  0.398861  0.743397  2.058666   \n",
       "0  0.258239  2.546149  2.410812  0.024995  0.808097  0.658928  1.875663   \n",
       "2  1.546874  0.697055  2.829271  0.246889  0.420687  1.453423  4.604630   \n",
       "5  1.561103  0.681461  2.626801  0.037716  0.265306  0.460973  1.135742   \n",
       "\n",
       "      T_opt  m1_opt    m2_opt         -logL  \n",
       "4  0.791503     0.0  0.664581  18340.935861  \n",
       "8  0.788789     0.0  0.664332  18340.951096  \n",
       "6  0.791353     0.0  0.664706  18340.964537  \n",
       "3  0.790718     0.0  0.663976  18340.965653  \n",
       "1  0.786673     0.0  0.667389  18340.972028  \n",
       "9  0.794908     0.0  0.669281  18341.008850  \n",
       "7  0.871767     0.0  0.663042  18345.753837  \n",
       "0  0.777684     0.0  0.783119  18374.981997  \n",
       "2  3.820350     0.0  0.406251  18687.709775  \n",
       "5  0.295629     0.0  0.584516  19282.370153  "
      ]
     },
     "execution_count": 90,
     "metadata": {},
     "output_type": "execute_result"
    }
   ],
   "source": [
    "l = 2*5+1\n",
    "\n",
    "returned = [flatten(out)[:l] for out in ar_split_asym_mig_nom1]\n",
    "\n",
    "df = pd.DataFrame(data=returned, \\\n",
    "                  columns=['nu1_0','nu2_0', 'T_0', 'm1_0', 'm2_0', 'nu1_opt', 'nu2_opt', 'T_opt', 'm1_opt', 'm2_opt', '-logL'])\n",
    "\n",
    "df.sort_values(by='-logL', ascending=True).head(10)"
   ]
  },
  {
   "cell_type": "code",
   "execution_count": 91,
   "metadata": {
    "collapsed": false
   },
   "outputs": [
    {
     "data": {
      "text/plain": [
       "471.8674662295598"
      ]
     },
     "execution_count": 91,
     "metadata": {},
     "output_type": "execute_result"
    }
   ],
   "source": [
    "ll_s = -18340.9\n",
    "\n",
    "D = 2*(ll_c - ll_s)\n",
    "D"
   ]
  },
  {
   "cell_type": "code",
   "execution_count": 92,
   "metadata": {
    "collapsed": false
   },
   "outputs": [
    {
     "data": {
      "text/plain": [
       "0.0"
      ]
     },
     "execution_count": 92,
     "metadata": {},
     "output_type": "execute_result"
    }
   ],
   "source": [
    "# calculate p-value for Chi-square dist.\n",
    "# the weights specify a weighted sum of a chi^2 distributions with 1 and 2 d.o.f\n",
    "# \n",
    "p = dadi.Godambe.sum_chi2_ppf(D, weights=(0.5, 0.5))\n",
    "p"
   ]
  },
  {
   "cell_type": "markdown",
   "metadata": {},
   "source": [
    "The gene flow from ery into par is highly significant. It is unlikely that this result can be compromised by linkage between the SNP's."
   ]
  },
  {
   "cell_type": "markdown",
   "metadata": {},
   "source": [
    "## compare symmetric with asymmetric gene flow"
   ]
  },
  {
   "cell_type": "code",
   "execution_count": 93,
   "metadata": {
    "collapsed": true
   },
   "outputs": [],
   "source": [
    "# get maximum log likelihood of best fit parameter combination for the model\n",
    "# with symmetrical migration rates\n",
    "\n",
    "func = dadi.Demographics2D.split_mig\n",
    "\n",
    "func_ex = dadi.Numerics.make_extrap_log_func(func)\n",
    "\n",
    "# best-fit paramter combination for the split_mig model (see section 2 above)\n",
    "popt_split_mig = [0.994185, 1.766127, 0.922632, 0.250688]\n",
    "\n",
    "model_spectrum_sym_mig = func_ex(popt_split_mig, ns, pts_l)\n",
    "\n",
    "model_spectrum_sym_mig_scaled = dadi.Inference.optimally_scaled_sfs(model_spectrum_sym_mig, sfs2d)"
   ]
  },
  {
   "cell_type": "code",
   "execution_count": 94,
   "metadata": {
    "collapsed": false
   },
   "outputs": [
    {
     "data": {
      "image/png": "[encoded data removed]",
      "text/plain": [
       "<matplotlib.figure.Figure at 0x7f9f22803810>"
      ]
     },
     "metadata": {},
     "output_type": "display_data"
    }
   ],
   "source": [
    "dadi.Plotting.plot_2d_comp_multinom(model=model_spectrum_asym_mig_scaled.fold(), \\\n",
    "                                    data=model_spectrum_sym_mig_scaled.fold(), vmin=1,\\\n",
    "                                   title=['sym mig', 'asym mig'], pop_ids=['ery', 'par'])"
   ]
  },
  {
   "cell_type": "markdown",
   "metadata": {},
   "source": [
    "The model spectrum for asymmetric gene flow has an excess (brown) of low to medium MAF SNP's in PAR that occur at low frequency in ERY. It has fewer medium to high frequency SNP's that are private to PAR and more medium to high frequency SNP's that are private to ERY. It has far fewer low frequency SNP's that are private to ERY. "
   ]
  },
  {
   "cell_type": "code",
   "execution_count": 95,
   "metadata": {
    "collapsed": false
   },
   "outputs": [
    {
     "data": {
      "text/plain": [
       "[0.994185, 1.766127, 0.922632, 0.250688, 0.250688]"
      ]
     },
     "execution_count": 95,
     "metadata": {},
     "output_type": "execute_result"
    }
   ],
   "source": [
    "popt_split_mig = popt_split_mig + [popt_split_mig[-1]]\n",
    "popt_split_mig"
   ]
  },
  {
   "cell_type": "code",
   "execution_count": 102,
   "metadata": {
    "collapsed": false
   },
   "outputs": [
    {
     "data": {
      "text/plain": [
       "array([ 0.92091098,  2.2386172 ,  1.24468148,  0.08414741,  0.49491818])"
      ]
     },
     "execution_count": 102,
     "metadata": {},
     "output_type": "execute_result"
    }
   ],
   "source": [
    "popt"
   ]
  },
  {
   "cell_type": "code",
   "execution_count": 103,
   "metadata": {
    "collapsed": false
   },
   "outputs": [
    {
     "data": {
      "text/html": [
       "<div>\n",
       "<table border=\"1\" class=\"dataframe\">\n",
       "  <thead>\n",
       "    <tr style=\"text-align: right;\">\n",
       "      <th></th>\n",
       "      <th>nu1</th>\n",
       "      <th>nu2</th>\n",
       "      <th>T</th>\n",
       "      <th>m1</th>\n",
       "      <th>m2</th>\n",
       "    </tr>\n",
       "  </thead>\n",
       "  <tbody>\n",
       "    <tr>\n",
       "      <th>sym_mig</th>\n",
       "      <td>0.994185</td>\n",
       "      <td>1.766127</td>\n",
       "      <td>0.922632</td>\n",
       "      <td>0.250688</td>\n",
       "      <td>0.250688</td>\n",
       "    </tr>\n",
       "    <tr>\n",
       "      <th>asym_mig</th>\n",
       "      <td>0.920911</td>\n",
       "      <td>2.238617</td>\n",
       "      <td>1.244681</td>\n",
       "      <td>0.084147</td>\n",
       "      <td>0.494918</td>\n",
       "    </tr>\n",
       "  </tbody>\n",
       "</table>\n",
       "</div>"
      ],
      "text/plain": [
       "               nu1       nu2         T        m1        m2\n",
       "sym_mig   0.994185  1.766127  0.922632  0.250688  0.250688\n",
       "asym_mig  0.920911  2.238617  1.244681  0.084147  0.494918"
      ]
     },
     "execution_count": 103,
     "metadata": {},
     "output_type": "execute_result"
    }
   ],
   "source": [
    "pd.DataFrame(data=np.array([popt_split_mig, popt]), index=['sym_mig', 'asym_mig'], columns=['nu1', 'nu2', 'T', 'm1', 'm2'])"
   ]
  },
  {
   "cell_type": "markdown",
   "metadata": {},
   "source": [
    "The excess of SNP's in MAF categroy 1 that did not introgress from PAR into ERY could be due to the greater population size increase inferred for PAR in the asymmetric gene flow model, although this model also inferred a greater time since the population size increase which should lead to greater equilibration of the initial rise in low frequency variants."
   ]
  },
  {
   "cell_type": "markdown",
   "metadata": {},
   "source": [
    "# adding gradual size changes"
   ]
  },
  {
   "cell_type": "markdown",
   "metadata": {},
   "source": [
    "I would now like to add a gradual population size change after the split of the ancestral population. So far, the split coincided with a stepwise population size change."
   ]
  },
  {
   "cell_type": "markdown",
   "metadata": {},
   "source": [
    "Dadi's built-in `IM` model function contains what I would like to model now. To avoid confusion of migration rate parameters, I am anyway going to specify a slightly modified version of this model that uses the same naming convention and order of _m_ as used above."
   ]
  },
  {
   "cell_type": "code",
   "execution_count": 6,
   "metadata": {
    "collapsed": true
   },
   "outputs": [],
   "source": [
    "def IM(params, ns, pts):\n",
    "    \"\"\"\n",
    "    ns = (n1,n2)\n",
    "    params = (s,nu1,nu2,T,m1,m2)\n",
    "\n",
    "    Isolation-with-migration model with exponential pop growth or decline.\n",
    "\n",
    "    s: Size of pop 1 after split. (Pop 2 has size 1-s.)\n",
    "    nu1: Final size of pop 1.\n",
    "    nu2: Final size of pop 2.\n",
    "    T: Time in the past of split (in units of 2*Na generations) \n",
    "    m1: Migration from pop 1 to pop 2\n",
    "    m2: Migration from pop 2 to pop 1 (2*Na*m12)\n",
    "    n1,n2: Sample sizes of resulting Spectrum\n",
    "    pts: Number of grid points to use in integration.\n",
    "    \"\"\"\n",
    "    s,nu1,nu2,T,m1,m2 = params\n",
    "\n",
    "    xx = dadi.Numerics.default_grid(pts)\n",
    "\n",
    "    phi = dadi.PhiManip.phi_1D(xx)\n",
    "    phi = dadi.PhiManip.phi_1D_to_2D(xx, phi)\n",
    "\n",
    "    nu1_func = lambda t: s * (nu1/s)**(t/T)\n",
    "    nu2_func = lambda t: (1-s) * (nu2/(1-s))**(t/T)\n",
    "    phi = dadi.Integration.two_pops(phi, xx, T, nu1_func, nu2_func,\n",
    "                               m12=m2, m21=m1)\n",
    "\n",
    "    fs = dadi.Spectrum.from_phi(phi, ns, (xx,xx))\n",
    "    return fs"
   ]
  },
  {
   "cell_type": "code",
   "execution_count": 105,
   "metadata": {
    "collapsed": false
   },
   "outputs": [
    {
     "name": "stdout",
     "output_type": "stream",
     "text": [
      "-rw-rw-r-- 1 claudius 348 May 20 11:23 OUT_2D_models/IM_0.2031_0.8545_4.6009_0.5113_0.0858_0.5280.dill\r\n",
      "-rw-rw-r-- 1 claudius 348 May 20 11:28 OUT_2D_models/IM_0.2226_0.8121_1.4049_1.3324_0.0311_1.1951.dill\r\n",
      "-rw-rw-r-- 1 claudius 348 May 20 11:23 OUT_2D_models/IM_0.2310_1.2361_1.8753_1.2658_0.0658_0.2513.dill\r\n",
      "-rw-rw-r-- 1 claudius 348 May 20 09:12 OUT_2D_models/IM_0.2509_1.8483_3.4565_3.8366_0.0445_1.6234.dill\r\n",
      "-rw-rw-r-- 1 claudius 348 May 20 10:41 OUT_2D_models/IM_0.2565_0.5092_1.1938_1.7695_0.0523_0.5498.dill\r\n",
      "-rw-rw-r-- 1 claudius 348 May 20 11:34 OUT_2D_models/IM_0.2876_0.5848_2.4915_0.5777_0.1549_0.9120.dill\r\n",
      "-rw-rw-r-- 1 claudius 348 May 20 10:37 OUT_2D_models/IM_0.3112_0.7834_1.5277_1.5106_0.0975_0.5320.dill\r\n",
      "-rw-rw-r-- 1 claudius 348 May 20 11:27 OUT_2D_models/IM_0.3233_2.5430_4.0198_2.7578_0.0704_1.1637.dill\r\n",
      "-rw-rw-r-- 1 claudius 347 May 20 10:29 OUT_2D_models/IM_0.3407_0.6037_2.7433_1.9915_0.1010_0.9500.dill\r\n",
      "-rw-rw-r-- 1 claudius 347 May 20 11:22 OUT_2D_models/IM_0.3456_0.5854_1.1924_0.5849_0.0421_0.5837.dill\r\n",
      "-rw-rw-r-- 1 claudius 348 May 20 08:50 OUT_2D_models/IM_0.3491_0.9462_0.6957_1.0377_0.0261_0.6846.dill\r\n",
      "-rw-rw-r-- 1 claudius 348 May 20 11:29 OUT_2D_models/IM_0.3491_1.5808_0.8167_0.5517_0.1343_0.5405.dill\r\n",
      "-rw-rw-r-- 1 claudius 348 May 20 11:19 OUT_2D_models/IM_0.3495_2.4268_0.9492_0.9825_0.0801_0.4741.dill\r\n",
      "-rw-rw-r-- 1 claudius 348 May 20 09:37 OUT_2D_models/IM_0.3527_0.4200_1.3329_1.2097_0.0213_1.6102.dill\r\n",
      "-rw-rw-r-- 1 claudius 348 May 20 08:48 OUT_2D_models/IM_0.3707_0.3217_1.0568_0.5839_0.0953_0.2555.dill\r\n",
      "-rw-rw-r-- 1 claudius 348 May 20 12:07 OUT_2D_models/IM_0.3712_2.4312_0.8172_2.9642_0.0675_0.2363.dill\r\n",
      "-rw-rw-r-- 1 claudius 348 May 20 09:00 OUT_2D_models/IM_0.4170_0.3797_3.3358_1.6557_0.0497_0.4566.dill\r\n",
      "-rw-rw-r-- 1 claudius 348 May 20 08:49 OUT_2D_models/IM_0.4191_0.3297_1.3333_0.3281_0.0396_0.5835.dill\r\n",
      "-rw-rw-r-- 1 claudius 348 May 20 11:30 OUT_2D_models/IM_0.4248_0.7593_2.5618_0.6372_0.1382_1.0413.dill\r\n",
      "-rw-rw-r-- 1 claudius 348 May 20 10:41 OUT_2D_models/IM_0.4319_1.4778_2.7629_0.6366_0.0679_0.3063.dill\r\n",
      "-rw-rw-r-- 1 claudius 348 May 20 11:22 OUT_2D_models/IM_0.4525_0.3556_1.7123_0.6932_0.1401_1.3618.dill\r\n",
      "-rw-rw-r-- 1 claudius 348 May 20 10:41 OUT_2D_models/IM_0.4634_0.7381_3.9058_0.7398_0.0586_0.4418.dill\r\n",
      "-rw-rw-r-- 1 claudius 348 May 20 10:38 OUT_2D_models/IM_0.4808_0.5443_2.6985_1.2743_0.1082_0.2680.dill\r\n",
      "-rw-rw-r-- 1 claudius 348 May 20 11:13 OUT_2D_models/IM_0.5131_0.3484_4.4150_0.6846_0.1322_0.4705.dill\r\n",
      "-rw-rw-r-- 1 claudius 348 May 20 11:44 OUT_2D_models/IM_0.5251_0.6289_0.8518_1.3208_0.1161_0.3603.dill\r\n",
      "-rw-rw-r-- 1 claudius 348 May 20 08:51 OUT_2D_models/IM_0.5385_1.2558_1.7027_0.6353_0.1126_0.2594.dill\r\n",
      "-rw-rw-r-- 1 claudius 348 May 20 08:55 OUT_2D_models/IM_0.5619_3.4493_0.6549_3.5055_0.0375_0.8759.dill\r\n",
      "-rw-rw-r-- 1 claudius 348 May 20 11:45 OUT_2D_models/IM_0.5884_2.1814_2.4257_3.2182_0.0327_0.7525.dill\r\n",
      "-rw-rw-r-- 1 claudius 348 May 20 11:20 OUT_2D_models/IM_0.6583_0.9867_1.2219_0.9665_0.2024_0.6639.dill\r\n",
      "-rw-rw-r-- 1 claudius 348 May 20 11:21 OUT_2D_models/IM_0.6884_1.7269_4.6350_0.9372_0.1095_0.6473.dill\r\n",
      "-rw-rw-r-- 1 claudius 348 May 20 10:30 OUT_2D_models/IM_0.6901_0.7354_2.6172_0.9073_0.0537_0.5421.dill\r\n",
      "-rw-rw-r-- 1 claudius 348 May 20 10:43 OUT_2D_models/IM_0.6915_0.9151_3.3370_0.6759_0.1638_0.8073.dill\r\n",
      "-rw-rw-r-- 1 claudius 348 May 20 10:29 OUT_2D_models/IM_0.7242_1.4047_1.9813_1.4717_0.0431_0.5205.dill\r\n",
      "-rw-rw-r-- 1 claudius 347 May 20 11:25 OUT_2D_models/IM_0.7673_0.9486_2.1605_1.9110_0.0541_1.0402.dill\r\n",
      "-rw-rw-r-- 1 claudius 348 May 20 10:28 OUT_2D_models/IM_0.7732_1.2302_1.4930_1.0542_0.1328_0.6447.dill\r\n",
      "-rw-rw-r-- 1 claudius 348 May 20 11:44 OUT_2D_models/IM_0.8743_0.9611_3.0516_3.5202_0.0756_0.1761.dill\r\n",
      "-rw-rw-r-- 1 claudius 348 May 20 09:17 OUT_2D_models/IM_0.9900_0.6185_1.5880_0.8341_0.0347_0.7268.dill\r\n",
      "-rw-rw-r-- 1 claudius 348 May 20 12:52 OUT_2D_models/IM_0.9900_0.7123_2.6093_1.3836_0.0412_0.2112.dill\r\n",
      "-rw-rw-r-- 1 claudius 348 May 20 09:22 OUT_2D_models/IM_0.9900_1.2623_1.5577_0.4044_0.0358_0.3795.dill\r\n",
      "-rw-rw-r-- 1 claudius 348 May 20 12:11 OUT_2D_models/IM_0.9900_1.4617_3.2959_1.1040_0.1360_0.2038.dill\r\n"
     ]
    }
   ],
   "source": [
    "% ll OUT_2D_models/IM*dill"
   ]
  },
  {
   "cell_type": "code",
   "execution_count": 106,
   "metadata": {
    "collapsed": false
   },
   "outputs": [],
   "source": [
    "ar_IM = []\n",
    "\n",
    "for filename in glob(\"OUT_2D_models/IM*dill\"):\n",
    "    ar_IM.append(dill.load((open(filename))))"
   ]
  },
  {
   "cell_type": "code",
   "execution_count": 107,
   "metadata": {
    "collapsed": false
   },
   "outputs": [
    {
     "data": {
      "text/html": [
       "<div>\n",
       "<table border=\"1\" class=\"dataframe\">\n",
       "  <thead>\n",
       "    <tr style=\"text-align: right;\">\n",
       "      <th></th>\n",
       "      <th>s_0</th>\n",
       "      <th>nu1_0</th>\n",
       "      <th>nu2_0</th>\n",
       "      <th>T_0</th>\n",
       "      <th>m1_0</th>\n",
       "      <th>m2_0</th>\n",
       "      <th>s_opt</th>\n",
       "      <th>nu1_opt</th>\n",
       "      <th>nu2_opt</th>\n",
       "      <th>T_opt</th>\n",
       "      <th>m1_opt</th>\n",
       "      <th>m2_opt</th>\n",
       "      <th>-logL</th>\n",
       "    </tr>\n",
       "  </thead>\n",
       "  <tbody>\n",
       "    <tr>\n",
       "      <th>23</th>\n",
       "      <td>0.287604</td>\n",
       "      <td>0.584816</td>\n",
       "      <td>2.491513</td>\n",
       "      <td>0.577716</td>\n",
       "      <td>0.154881</td>\n",
       "      <td>0.912029</td>\n",
       "      <td>0.394336</td>\n",
       "      <td>1.028757</td>\n",
       "      <td>3.117404</td>\n",
       "      <td>3.130620</td>\n",
       "      <td>0.077685</td>\n",
       "      <td>0.576641</td>\n",
       "      <td>18814.402521</td>\n",
       "    </tr>\n",
       "    <tr>\n",
       "      <th>0</th>\n",
       "      <td>0.463402</td>\n",
       "      <td>0.738050</td>\n",
       "      <td>3.905796</td>\n",
       "      <td>0.739800</td>\n",
       "      <td>0.058625</td>\n",
       "      <td>0.441791</td>\n",
       "      <td>0.406139</td>\n",
       "      <td>1.080665</td>\n",
       "      <td>3.270704</td>\n",
       "      <td>3.494185</td>\n",
       "      <td>0.074393</td>\n",
       "      <td>0.547156</td>\n",
       "      <td>18814.762357</td>\n",
       "    </tr>\n",
       "    <tr>\n",
       "      <th>34</th>\n",
       "      <td>0.538469</td>\n",
       "      <td>1.255813</td>\n",
       "      <td>1.702693</td>\n",
       "      <td>0.635345</td>\n",
       "      <td>0.112638</td>\n",
       "      <td>0.259371</td>\n",
       "      <td>0.388115</td>\n",
       "      <td>1.063798</td>\n",
       "      <td>3.199012</td>\n",
       "      <td>3.234170</td>\n",
       "      <td>0.078406</td>\n",
       "      <td>0.557619</td>\n",
       "      <td>18814.877903</td>\n",
       "    </tr>\n",
       "    <tr>\n",
       "      <th>11</th>\n",
       "      <td>0.345561</td>\n",
       "      <td>0.585417</td>\n",
       "      <td>1.192358</td>\n",
       "      <td>0.584863</td>\n",
       "      <td>0.042089</td>\n",
       "      <td>0.583673</td>\n",
       "      <td>0.409575</td>\n",
       "      <td>1.037432</td>\n",
       "      <td>3.163748</td>\n",
       "      <td>3.314343</td>\n",
       "      <td>0.075790</td>\n",
       "      <td>0.574198</td>\n",
       "      <td>18814.902965</td>\n",
       "    </tr>\n",
       "    <tr>\n",
       "      <th>9</th>\n",
       "      <td>0.691487</td>\n",
       "      <td>0.915053</td>\n",
       "      <td>3.337032</td>\n",
       "      <td>0.675904</td>\n",
       "      <td>0.163826</td>\n",
       "      <td>0.807328</td>\n",
       "      <td>0.401345</td>\n",
       "      <td>1.127900</td>\n",
       "      <td>3.433437</td>\n",
       "      <td>3.748322</td>\n",
       "      <td>0.069455</td>\n",
       "      <td>0.527414</td>\n",
       "      <td>18815.275911</td>\n",
       "    </tr>\n",
       "    <tr>\n",
       "      <th>19</th>\n",
       "      <td>0.417002</td>\n",
       "      <td>0.379670</td>\n",
       "      <td>3.335798</td>\n",
       "      <td>1.655678</td>\n",
       "      <td>0.049658</td>\n",
       "      <td>0.456647</td>\n",
       "      <td>0.379121</td>\n",
       "      <td>1.082723</td>\n",
       "      <td>3.258400</td>\n",
       "      <td>3.404997</td>\n",
       "      <td>0.074637</td>\n",
       "      <td>0.545341</td>\n",
       "      <td>18815.329404</td>\n",
       "    </tr>\n",
       "    <tr>\n",
       "      <th>36</th>\n",
       "      <td>0.370682</td>\n",
       "      <td>0.321735</td>\n",
       "      <td>1.056795</td>\n",
       "      <td>0.583936</td>\n",
       "      <td>0.095256</td>\n",
       "      <td>0.255517</td>\n",
       "      <td>0.380064</td>\n",
       "      <td>1.084249</td>\n",
       "      <td>3.291107</td>\n",
       "      <td>3.415423</td>\n",
       "      <td>0.071002</td>\n",
       "      <td>0.551352</td>\n",
       "      <td>18815.491487</td>\n",
       "    </tr>\n",
       "    <tr>\n",
       "      <th>2</th>\n",
       "      <td>0.349065</td>\n",
       "      <td>1.580840</td>\n",
       "      <td>0.816700</td>\n",
       "      <td>0.551687</td>\n",
       "      <td>0.134324</td>\n",
       "      <td>0.540489</td>\n",
       "      <td>0.413618</td>\n",
       "      <td>0.989663</td>\n",
       "      <td>3.030744</td>\n",
       "      <td>3.048123</td>\n",
       "      <td>0.078635</td>\n",
       "      <td>0.599699</td>\n",
       "      <td>18815.663484</td>\n",
       "    </tr>\n",
       "    <tr>\n",
       "      <th>5</th>\n",
       "      <td>0.231016</td>\n",
       "      <td>1.236144</td>\n",
       "      <td>1.875334</td>\n",
       "      <td>1.265815</td>\n",
       "      <td>0.065793</td>\n",
       "      <td>0.251310</td>\n",
       "      <td>0.389511</td>\n",
       "      <td>0.968089</td>\n",
       "      <td>2.940081</td>\n",
       "      <td>2.803636</td>\n",
       "      <td>0.082062</td>\n",
       "      <td>0.612002</td>\n",
       "      <td>18815.733030</td>\n",
       "    </tr>\n",
       "    <tr>\n",
       "      <th>32</th>\n",
       "      <td>0.222590</td>\n",
       "      <td>0.812110</td>\n",
       "      <td>1.404866</td>\n",
       "      <td>1.332359</td>\n",
       "      <td>0.031135</td>\n",
       "      <td>1.195093</td>\n",
       "      <td>0.424820</td>\n",
       "      <td>0.974611</td>\n",
       "      <td>3.066101</td>\n",
       "      <td>3.252257</td>\n",
       "      <td>0.074601</td>\n",
       "      <td>0.609123</td>\n",
       "      <td>18818.545393</td>\n",
       "    </tr>\n",
       "  </tbody>\n",
       "</table>\n",
       "</div>"
      ],
      "text/plain": [
       "         s_0     nu1_0     nu2_0       T_0      m1_0      m2_0     s_opt  \\\n",
       "23  0.287604  0.584816  2.491513  0.577716  0.154881  0.912029  0.394336   \n",
       "0   0.463402  0.738050  3.905796  0.739800  0.058625  0.441791  0.406139   \n",
       "34  0.538469  1.255813  1.702693  0.635345  0.112638  0.259371  0.388115   \n",
       "11  0.345561  0.585417  1.192358  0.584863  0.042089  0.583673  0.409575   \n",
       "9   0.691487  0.915053  3.337032  0.675904  0.163826  0.807328  0.401345   \n",
       "19  0.417002  0.379670  3.335798  1.655678  0.049658  0.456647  0.379121   \n",
       "36  0.370682  0.321735  1.056795  0.583936  0.095256  0.255517  0.380064   \n",
       "2   0.349065  1.580840  0.816700  0.551687  0.134324  0.540489  0.413618   \n",
       "5   0.231016  1.236144  1.875334  1.265815  0.065793  0.251310  0.389511   \n",
       "32  0.222590  0.812110  1.404866  1.332359  0.031135  1.195093  0.424820   \n",
       "\n",
       "     nu1_opt   nu2_opt     T_opt    m1_opt    m2_opt         -logL  \n",
       "23  1.028757  3.117404  3.130620  0.077685  0.576641  18814.402521  \n",
       "0   1.080665  3.270704  3.494185  0.074393  0.547156  18814.762357  \n",
       "34  1.063798  3.199012  3.234170  0.078406  0.557619  18814.877903  \n",
       "11  1.037432  3.163748  3.314343  0.075790  0.574198  18814.902965  \n",
       "9   1.127900  3.433437  3.748322  0.069455  0.527414  18815.275911  \n",
       "19  1.082723  3.258400  3.404997  0.074637  0.545341  18815.329404  \n",
       "36  1.084249  3.291107  3.415423  0.071002  0.551352  18815.491487  \n",
       "2   0.989663  3.030744  3.048123  0.078635  0.599699  18815.663484  \n",
       "5   0.968089  2.940081  2.803636  0.082062  0.612002  18815.733030  \n",
       "32  0.974611  3.066101  3.252257  0.074601  0.609123  18818.545393  "
      ]
     },
     "execution_count": 107,
     "metadata": {},
     "output_type": "execute_result"
    }
   ],
   "source": [
    "l = 2*6+1\n",
    "\n",
    "returned = [flatten(out)[:l] for out in ar_IM]\n",
    "\n",
    "df = pd.DataFrame(data=returned, columns=['s_0' ,'nu1_0','nu2_0', 'T_0', 'm1_0', 'm2_0', 's_opt' ,'nu1_opt', 'nu2_opt', 'T_opt', 'm1_opt', 'm2_opt', '-logL'])\n",
    "\n",
    "df.sort_values(by='-logL', ascending=True).head(10)"
   ]
  },
  {
   "cell_type": "markdown",
   "metadata": {},
   "source": [
    "This model is hard to fit to the data. The best-fit parameter combinations contain an extremely long divergence time _T_ of around 3, i. e. $6 \\times N_{ref}$ generations. No parameter combination with higher likelihood could be found than in the previous runs and they are all much lower than from the `split_asym_mig` model (-18104), which imposed a stepwise size change coincident with the population split and otherwise constant population sizes. "
   ]
  },
  {
   "cell_type": "markdown",
   "metadata": {},
   "source": [
    "## plot residuals"
   ]
  },
  {
   "cell_type": "code",
   "execution_count": 108,
   "metadata": {
    "collapsed": false
   },
   "outputs": [
    {
     "data": {
      "text/plain": [
       "array([ 0.3943357 ,  1.02875659,  3.11740404,  3.13061996,  0.07768455,\n",
       "        0.57664111])"
      ]
     },
     "execution_count": 108,
     "metadata": {},
     "output_type": "execute_result"
    }
   ],
   "source": [
    "popt = np.array(df.sort_values(by='-logL', ascending=True).iloc[0, 6:12])\n",
    "popt"
   ]
  },
  {
   "cell_type": "code",
   "execution_count": 109,
   "metadata": {
    "collapsed": true
   },
   "outputs": [],
   "source": [
    "func_ex = dadi.Numerics.make_extrap_log_func(IM)\n",
    "\n",
    "model_spectrum = func_ex(popt, ns, pts_l)"
   ]
  },
  {
   "cell_type": "code",
   "execution_count": 110,
   "metadata": {
    "collapsed": false
   },
   "outputs": [
    {
     "data": {
      "image/png": "[encoded data removed]",
      "text/plain": [
       "<matplotlib.figure.Figure at 0x7f9f20e53410>"
      ]
     },
     "metadata": {},
     "output_type": "display_data"
    }
   ],
   "source": [
    "dadi.Plotting.plot_2d_comp_multinom(model_spectrum, sfs2d, vmin=1)"
   ]
  },
  {
   "cell_type": "markdown",
   "metadata": {},
   "source": [
    "## compare `asym_mig` with `IM` model"
   ]
  },
  {
   "cell_type": "code",
   "execution_count": 111,
   "metadata": {
    "collapsed": true
   },
   "outputs": [],
   "source": [
    "# optimally scale the best-fit IM model spectrum,\n",
    "# by multiplication with optimal theta\n",
    "model_spectrum_scaled = dadi.Inference.optimally_scaled_sfs(model_spectrum, sfs2d)"
   ]
  },
  {
   "cell_type": "code",
   "execution_count": 112,
   "metadata": {
    "collapsed": true
   },
   "outputs": [],
   "source": [
    "# make extraplating function from `split_asym_mig` model function\n",
    "func_ex = dadi.Numerics.make_extrap_log_func(split_asym_mig)\n",
    "\n",
    "# these were the optimal parameters for the `split_asym_mig` model\n",
    "popt_asym_mig = [0.92091098,  2.2386172 ,  1.24468148,  0.08414741,  0.49491818]\n",
    "\n",
    "# get (unscaled) expected SFS for optimal `split_asym_mig` model\n",
    "model_spectrum_asym_mig = func_ex(popt_asym_mig, ns, pts_l)\n",
    "\n",
    "# optimally scale spectrum\n",
    "model_spectrum_asym_mig = dadi.Inference.optimally_scaled_sfs(model_spectrum_asym_mig, sfs2d)"
   ]
  },
  {
   "cell_type": "code",
   "execution_count": 113,
   "metadata": {
    "collapsed": false
   },
   "outputs": [
    {
     "data": {
      "image/png": "[encoded data removed]",
      "text/plain": [
       "<matplotlib.figure.Figure at 0x7f9f21499ad0>"
      ]
     },
     "metadata": {},
     "output_type": "display_data"
    }
   ],
   "source": [
    "dadi.Plotting.plot_2d_comp_multinom(data=model_spectrum_asym_mig.fold(), model=model_spectrum_scaled.fold(), \\\n",
    "                                    vmin=1, title=['asym_mig', 'IM'], pop_ids=['ery', 'par'])"
   ]
  },
  {
   "cell_type": "markdown",
   "metadata": {},
   "source": [
    "The IM model with gradual population size changes predicts far fewer low frequency SNP's that are private to PAR and far more high frequency SNP's that are private to ERY."
   ]
  },
  {
   "cell_type": "markdown",
   "metadata": {},
   "source": [
    "# Ancient migration model"
   ]
  },
  {
   "cell_type": "markdown",
   "metadata": {},
   "source": [
    "So far, a model with an ancient split and low but constant gene flow (more from par into ery than in the other direction) has fit the data best. I would like to know whether I can achieve an improvement if I let gene flow cease completely at some point in time."
   ]
  },
  {
   "cell_type": "code",
   "execution_count": 47,
   "metadata": {
    "collapsed": true
   },
   "outputs": [],
   "source": [
    "def split_asym_mig_iso(params, ns, pts):\n",
    "    \"\"\"\n",
    "    params = (nu1,nu2,Tc,m1,m2,Ti)\n",
    "    ns = (n1,n2)\n",
    "\n",
    "    Split into two populations of specifed size, with potentially asymmetric migration\n",
    "    for a time Tc followed by complete isolation until present.\n",
    "\n",
    "    nu1: Size of population 1 after split.\n",
    "    nu2: Size of population 2 after split.\n",
    "    Tc: Time of gene flow after split (in units of 2*Na generations) \n",
    "    m1: Migration rate from ery into par (in units of 2*Na ind per generation)\n",
    "    m2: Migration rate from par into ery (in units of 2*Na ind per generation)\n",
    "    Ti: Time of isolation after cessation of gene flow\n",
    "    The split lies Tc+Ti * 2Na generations in the past.\n",
    "    n1,n2: Sample sizes of resulting Spectrum\n",
    "    pts: Number of grid points to use in integration.\n",
    "    \"\"\"\n",
    "    nu1,nu2,Tc,m1,m2,Ti = params\n",
    "\n",
    "    xx = dadi.Numerics.default_grid(pts)\n",
    "\n",
    "    phi = dadi.PhiManip.phi_1D(xx)\n",
    "    \n",
    "    # split\n",
    "    phi = dadi.PhiManip.phi_1D_to_2D(xx, phi) \n",
    "    \n",
    "    # divergence with potentially asymmetric migration\n",
    "    phi = dadi.Integration.two_pops(phi, xx, Tc, nu1, nu2, m12=m2, m21=m1)\n",
    "    \n",
    "    # divergence without gene flow\n",
    "    phi = dadi.Integration.two_pops(phi, xx, Ti, nu1, nu2, m12=0, m21=0)\n",
    "\n",
    "    fs = dadi.Spectrum.from_phi(phi, ns, (xx,xx))\n",
    "    return fs"
   ]
  },
  {
   "cell_type": "markdown",
   "metadata": {},
   "source": [
    "This is a piecewise model. I could make gene flow fade out gradually, but that would require four more parameters that specify the initial and final levels of gene flow. Also, it would make the model less comparable to the `split_asym_mig` model, which is also piecewise."
   ]
  },
  {
   "cell_type": "code",
   "execution_count": 48,
   "metadata": {
    "collapsed": false
   },
   "outputs": [],
   "source": [
    "ar_split_asym_mig_iso = []\n",
    "\n",
    "for filename in glob(\"OUT_2D_models/split_asym_mig_iso*dill\"):\n",
    "    ar_split_asym_mig_iso.append(dill.load(open(filename)))"
   ]
  },
  {
   "cell_type": "code",
   "execution_count": 49,
   "metadata": {
    "collapsed": false
   },
   "outputs": [
    {
     "data": {
      "text/html": [
       "<div>\n",
       "<table border=\"1\" class=\"dataframe\">\n",
       "  <thead>\n",
       "    <tr style=\"text-align: right;\">\n",
       "      <th></th>\n",
       "      <th>nu1_0</th>\n",
       "      <th>nu2_0</th>\n",
       "      <th>Tc_0</th>\n",
       "      <th>m1_0</th>\n",
       "      <th>m2_0</th>\n",
       "      <th>Ti_0</th>\n",
       "      <th>nu1_opt</th>\n",
       "      <th>nu2_opt</th>\n",
       "      <th>Tc_opt</th>\n",
       "      <th>m1_opt</th>\n",
       "      <th>m2_opt</th>\n",
       "      <th>Ti_opt</th>\n",
       "      <th>-logL</th>\n",
       "    </tr>\n",
       "  </thead>\n",
       "  <tbody>\n",
       "    <tr>\n",
       "      <th>38</th>\n",
       "      <td>3.122675</td>\n",
       "      <td>6.565590</td>\n",
       "      <td>4.556457</td>\n",
       "      <td>0.025178</td>\n",
       "      <td>0.150502</td>\n",
       "      <td>0.193779</td>\n",
       "      <td>2.884250</td>\n",
       "      <td>7.039549</td>\n",
       "      <td>6.939774</td>\n",
       "      <td>0.039132</td>\n",
       "      <td>0.237419</td>\n",
       "      <td>0.173159</td>\n",
       "      <td>17582.884413</td>\n",
       "    </tr>\n",
       "    <tr>\n",
       "      <th>15</th>\n",
       "      <td>2.457166</td>\n",
       "      <td>7.524601</td>\n",
       "      <td>5.393413</td>\n",
       "      <td>0.108182</td>\n",
       "      <td>0.288238</td>\n",
       "      <td>0.119209</td>\n",
       "      <td>2.439955</td>\n",
       "      <td>5.984046</td>\n",
       "      <td>5.708981</td>\n",
       "      <td>0.045731</td>\n",
       "      <td>0.279332</td>\n",
       "      <td>0.146457</td>\n",
       "      <td>17583.559438</td>\n",
       "    </tr>\n",
       "    <tr>\n",
       "      <th>6</th>\n",
       "      <td>3.803361</td>\n",
       "      <td>5.073436</td>\n",
       "      <td>4.055461</td>\n",
       "      <td>0.089821</td>\n",
       "      <td>0.147407</td>\n",
       "      <td>0.074291</td>\n",
       "      <td>2.507140</td>\n",
       "      <td>6.203819</td>\n",
       "      <td>6.007240</td>\n",
       "      <td>0.042590</td>\n",
       "      <td>0.272537</td>\n",
       "      <td>0.148739</td>\n",
       "      <td>17584.306651</td>\n",
       "    </tr>\n",
       "    <tr>\n",
       "      <th>10</th>\n",
       "      <td>2.988730</td>\n",
       "      <td>4.738118</td>\n",
       "      <td>4.034295</td>\n",
       "      <td>0.054839</td>\n",
       "      <td>0.356824</td>\n",
       "      <td>0.157766</td>\n",
       "      <td>2.092882</td>\n",
       "      <td>5.117888</td>\n",
       "      <td>4.727453</td>\n",
       "      <td>0.053452</td>\n",
       "      <td>0.326719</td>\n",
       "      <td>0.125626</td>\n",
       "      <td>17584.511983</td>\n",
       "    </tr>\n",
       "    <tr>\n",
       "      <th>48</th>\n",
       "      <td>2.942805</td>\n",
       "      <td>4.976983</td>\n",
       "      <td>2.734166</td>\n",
       "      <td>0.069029</td>\n",
       "      <td>0.212524</td>\n",
       "      <td>0.093116</td>\n",
       "      <td>2.033029</td>\n",
       "      <td>4.975807</td>\n",
       "      <td>4.562200</td>\n",
       "      <td>0.054811</td>\n",
       "      <td>0.336354</td>\n",
       "      <td>0.122034</td>\n",
       "      <td>17584.788795</td>\n",
       "    </tr>\n",
       "    <tr>\n",
       "      <th>37</th>\n",
       "      <td>1.698863</td>\n",
       "      <td>3.380579</td>\n",
       "      <td>5.956428</td>\n",
       "      <td>0.041756</td>\n",
       "      <td>0.236200</td>\n",
       "      <td>0.099436</td>\n",
       "      <td>2.012841</td>\n",
       "      <td>4.921590</td>\n",
       "      <td>4.465928</td>\n",
       "      <td>0.055141</td>\n",
       "      <td>0.338755</td>\n",
       "      <td>0.120221</td>\n",
       "      <td>17585.405692</td>\n",
       "    </tr>\n",
       "    <tr>\n",
       "      <th>9</th>\n",
       "      <td>3.311864</td>\n",
       "      <td>5.144676</td>\n",
       "      <td>3.960000</td>\n",
       "      <td>0.109423</td>\n",
       "      <td>0.383802</td>\n",
       "      <td>0.129523</td>\n",
       "      <td>1.798721</td>\n",
       "      <td>4.397479</td>\n",
       "      <td>3.879859</td>\n",
       "      <td>0.061955</td>\n",
       "      <td>0.379276</td>\n",
       "      <td>0.107981</td>\n",
       "      <td>17585.882553</td>\n",
       "    </tr>\n",
       "    <tr>\n",
       "      <th>25</th>\n",
       "      <td>3.772272</td>\n",
       "      <td>5.313562</td>\n",
       "      <td>3.820628</td>\n",
       "      <td>0.075429</td>\n",
       "      <td>0.294183</td>\n",
       "      <td>0.246429</td>\n",
       "      <td>2.276085</td>\n",
       "      <td>5.525343</td>\n",
       "      <td>5.185373</td>\n",
       "      <td>0.051899</td>\n",
       "      <td>0.292315</td>\n",
       "      <td>0.134893</td>\n",
       "      <td>17585.939796</td>\n",
       "    </tr>\n",
       "    <tr>\n",
       "      <th>34</th>\n",
       "      <td>2.097129</td>\n",
       "      <td>5.327970</td>\n",
       "      <td>5.500053</td>\n",
       "      <td>0.083428</td>\n",
       "      <td>0.525671</td>\n",
       "      <td>0.092544</td>\n",
       "      <td>1.842790</td>\n",
       "      <td>4.510400</td>\n",
       "      <td>4.019504</td>\n",
       "      <td>0.060138</td>\n",
       "      <td>0.371075</td>\n",
       "      <td>0.110615</td>\n",
       "      <td>17586.022421</td>\n",
       "    </tr>\n",
       "    <tr>\n",
       "      <th>46</th>\n",
       "      <td>1.642916</td>\n",
       "      <td>6.103883</td>\n",
       "      <td>3.960000</td>\n",
       "      <td>0.054931</td>\n",
       "      <td>0.349428</td>\n",
       "      <td>0.058007</td>\n",
       "      <td>1.781764</td>\n",
       "      <td>4.362300</td>\n",
       "      <td>3.835582</td>\n",
       "      <td>0.062103</td>\n",
       "      <td>0.383396</td>\n",
       "      <td>0.106964</td>\n",
       "      <td>17586.026218</td>\n",
       "    </tr>\n",
       "  </tbody>\n",
       "</table>\n",
       "</div>"
      ],
      "text/plain": [
       "       nu1_0     nu2_0      Tc_0      m1_0      m2_0      Ti_0   nu1_opt  \\\n",
       "38  3.122675  6.565590  4.556457  0.025178  0.150502  0.193779  2.884250   \n",
       "15  2.457166  7.524601  5.393413  0.108182  0.288238  0.119209  2.439955   \n",
       "6   3.803361  5.073436  4.055461  0.089821  0.147407  0.074291  2.507140   \n",
       "10  2.988730  4.738118  4.034295  0.054839  0.356824  0.157766  2.092882   \n",
       "48  2.942805  4.976983  2.734166  0.069029  0.212524  0.093116  2.033029   \n",
       "37  1.698863  3.380579  5.956428  0.041756  0.236200  0.099436  2.012841   \n",
       "9   3.311864  5.144676  3.960000  0.109423  0.383802  0.129523  1.798721   \n",
       "25  3.772272  5.313562  3.820628  0.075429  0.294183  0.246429  2.276085   \n",
       "34  2.097129  5.327970  5.500053  0.083428  0.525671  0.092544  1.842790   \n",
       "46  1.642916  6.103883  3.960000  0.054931  0.349428  0.058007  1.781764   \n",
       "\n",
       "     nu2_opt    Tc_opt    m1_opt    m2_opt    Ti_opt         -logL  \n",
       "38  7.039549  6.939774  0.039132  0.237419  0.173159  17582.884413  \n",
       "15  5.984046  5.708981  0.045731  0.279332  0.146457  17583.559438  \n",
       "6   6.203819  6.007240  0.042590  0.272537  0.148739  17584.306651  \n",
       "10  5.117888  4.727453  0.053452  0.326719  0.125626  17584.511983  \n",
       "48  4.975807  4.562200  0.054811  0.336354  0.122034  17584.788795  \n",
       "37  4.921590  4.465928  0.055141  0.338755  0.120221  17585.405692  \n",
       "9   4.397479  3.879859  0.061955  0.379276  0.107981  17585.882553  \n",
       "25  5.525343  5.185373  0.051899  0.292315  0.134893  17585.939796  \n",
       "34  4.510400  4.019504  0.060138  0.371075  0.110615  17586.022421  \n",
       "46  4.362300  3.835582  0.062103  0.383396  0.106964  17586.026218  "
      ]
     },
     "execution_count": 49,
     "metadata": {},
     "output_type": "execute_result"
    }
   ],
   "source": [
    "l = 2*6+1\n",
    "\n",
    "# get all optimisation results\n",
    "returned = [flatten(out)[:l] for out in ar_split_asym_mig_iso]\n",
    "\n",
    "df = pd.DataFrame(data=returned, \\\n",
    "                  columns=['nu1_0','nu2_0', 'Tc_0', 'm1_0', 'm2_0', 'Ti_0', 'nu1_opt', 'nu2_opt', 'Tc_opt', 'm1_opt', 'm2_opt', 'Ti_opt', '-logL'])\n",
    "\n",
    "df.sort_values(by='-logL', ascending=True).head(10)"
   ]
  },
  {
   "cell_type": "markdown",
   "metadata": {},
   "source": [
    "It was difficult to achieve convergence. Parameter combinations with quite different time of primary contact ($T_C$) have very similar likelihood."
   ]
  },
  {
   "cell_type": "markdown",
   "metadata": {},
   "source": [
    "The log likelihood of the `split_asym_mig` model with best-fit parameters was: -18104.96."
   ]
  },
  {
   "cell_type": "code",
   "execution_count": 50,
   "metadata": {
    "collapsed": false
   },
   "outputs": [
    {
     "data": {
      "text/plain": [
       "1044.1599999999962"
      ]
     },
     "execution_count": 50,
     "metadata": {},
     "output_type": "execute_result"
    }
   ],
   "source": [
    "D = 2*(-17582.88 - -18104.96)\n",
    "D"
   ]
  },
  {
   "cell_type": "code",
   "execution_count": 51,
   "metadata": {
    "collapsed": false
   },
   "outputs": [
    {
     "data": {
      "text/plain": [
       "0.0"
      ]
     },
     "execution_count": 51,
     "metadata": {},
     "output_type": "execute_result"
    }
   ],
   "source": [
    "# calculate p-value for Chi-square dist.\n",
    "# the weights specify a weighted sum of chi^2 distributions with 1 and 2 d.o.f\n",
    "# this is because Ti is 0 in the split_asym_mig model and at the boundary of the parameter space\n",
    "p = dadi.Godambe.sum_chi2_ppf(D, weights=(0.5, 0.5))\n",
    "p"
   ]
  },
  {
   "cell_type": "markdown",
   "metadata": {},
   "source": [
    "This _ancient migration_ model fits the data significantly better than the _split asym mig_ model. That also means that the recent period of complete isolation ($T_i$) is significant. Assuming that I had found the best-fit parameters for that model, this means that a model that allows for a very ancient split (>1 million generations ago) and that specifies a recent cessation of gene flow fits the data better than a model with a less ancient split and constant migration until the present."
   ]
  },
  {
   "cell_type": "markdown",
   "metadata": {},
   "source": [
    "## plot residuals"
   ]
  },
  {
   "cell_type": "code",
   "execution_count": 52,
   "metadata": {
    "collapsed": false
   },
   "outputs": [
    {
     "data": {
      "text/plain": [
       "array([ 2.8842495 ,  7.03954944,  6.93977407,  0.03913244,  0.23741935,\n",
       "        0.1731595 ])"
      ]
     },
     "execution_count": 52,
     "metadata": {},
     "output_type": "execute_result"
    }
   ],
   "source": [
    "popt_mig_iso = np.array(df.sort_values(by='-logL', ascending=True).iloc[0,6:12])\n",
    "popt_mig_iso"
   ]
  },
  {
   "cell_type": "code",
   "execution_count": 53,
   "metadata": {
    "collapsed": true
   },
   "outputs": [],
   "source": [
    "# create unscaled model spectrum\n",
    "\n",
    "func_ex = dadi.Numerics.make_extrap_log_func(split_asym_mig_iso)\n",
    "\n",
    "model_mig_iso = func_ex(popt_mig_iso, ns, pts_l)"
   ]
  },
  {
   "cell_type": "code",
   "execution_count": 54,
   "metadata": {
    "collapsed": false
   },
   "outputs": [
    {
     "data": {
      "image/png": "[encoded data removed]",
      "text/plain": [
       "<matplotlib.figure.Figure at 0x7fa72eadf310>"
      ]
     },
     "metadata": {},
     "output_type": "display_data"
    }
   ],
   "source": [
    "dadi.Plotting.plot_2d_comp_multinom(model=model_mig_iso, data=sfs2d, vmin=1)"
   ]
  },
  {
   "cell_type": "markdown",
   "metadata": {},
   "source": [
    "## parameter interpretation"
   ]
  },
  {
   "cell_type": "code",
   "execution_count": 55,
   "metadata": {
    "collapsed": false
   },
   "outputs": [
    {
     "data": {
      "text/plain": [
       "1709.4208758269674"
      ]
     },
     "execution_count": 55,
     "metadata": {},
     "output_type": "execute_result"
    }
   ],
   "source": [
    "theta = dadi.Inference.optimal_sfs_scaling(model_mig_iso, sfs2d)\n",
    "theta"
   ]
  },
  {
   "cell_type": "code",
   "execution_count": 56,
   "metadata": {
    "collapsed": false
   },
   "outputs": [
    {
     "name": "stdout",
     "output_type": "stream",
     "text": [
      "The total sequence length for the 2D spectrum is 1,130,775.\n",
      "The effective size of the ancestral population of ery and par (in number of diploid individuals) implied by this theta is: 125,977.\n"
     ]
    }
   ],
   "source": [
    "mu = 3e-9\n",
    "L = sfs2d.data.sum() # this sums over all entries in the spectrum, including masked ones, i. e. also contains invariable sites\n",
    "print \"The total sequence length for the 2D spectrum is {0:,}.\".format(int(L))\n",
    "N_ref = theta/L/mu/4\n",
    "print \"The effective size of the ancestral population of ery and par (in number of diploid individuals) implied by this theta is: {0:,}.\".format(int(N_ref))"
   ]
  },
  {
   "cell_type": "code",
   "execution_count": 57,
   "metadata": {
    "collapsed": true
   },
   "outputs": [],
   "source": [
    "nu1, nu2, Tc, m1, m2, Ti = popt_mig_iso"
   ]
  },
  {
   "cell_type": "code",
   "execution_count": 58,
   "metadata": {
    "collapsed": false
   },
   "outputs": [
    {
     "name": "stdout",
     "output_type": "stream",
     "text": [
      "The ancestral population split apart 1,792,133 generations ago. Immediately after the split the ERY population changed to a size of 363,349 and the PAR population to 886,821. Since the split of the ancestral population, PAR received 1 individual from ERY every 7.26 generations, while ERY received 1 PAR individual every 2.92 generations. Put another way: The PAR population contained a constant proportion of 2.21e-08 of new immigrant alleles each generation and the ERY population contained a constant proportion of 3.27e-07 of new immigrant alleles each generation. ERY and PAR remained in contact for 1,748,505 generations. 43,628 generations ago gene flow between ERY and PAR had ceased.\n"
     ]
    }
   ],
   "source": [
    "popt = popt_mig_iso\n",
    "print \"The ancestral population split apart {0:,} generations ago.\".format(int((Tc+Ti)*2*N_ref)),\n",
    "print \"Immediately after the split the ERY population changed to a size of {0:,} and the PAR population to {1:,}.\".format(int(nu1*N_ref), int(nu2*N_ref)),\n",
    "print \"Since the split of the ancestral population, PAR received 1 individual from ERY every {0:.2f} generations,\".format(1.0/(m1/2*nu2)),\n",
    "print \"while ERY received 1 PAR individual every {0:.2f} generations.\".format(1.0/(m2/2*nu1)),\n",
    "print \"Put another way: The PAR population contained a constant proportion of {0:.2e} of new immigrant alleles each generation\".format(m1/2/N_ref/nu2),\n",
    "print \"and the ERY population contained a constant proportion of {0:.2e} of new immigrant alleles each generation.\".format(m2/2/N_ref/nu1),\n",
    "print \"ERY and PAR remained in contact for {0:,} generations.\".format(int(Tc*2*N_ref)),\n",
    "print \"{0:,} generations ago gene flow between ERY and PAR had ceased.\".format(int(Ti*2*N_ref))"
   ]
  },
  {
   "cell_type": "markdown",
   "metadata": {},
   "source": [
    "This is another indication that a recent secondary contact model is not compatible with the data. If the better fit of this ancient migration model (compared to constant migration) is not just due to fitting noise or biases in the data, then it would also mean that there is no detectable gene flow since the last ice age, despite the fact that the two populations are just a few kilometers apart and the clines of several markers are very wide across this transect of the hybrid zone."
   ]
  },
  {
   "cell_type": "markdown",
   "metadata": {},
   "source": [
    "## comparison with continuous gene flow model"
   ]
  },
  {
   "cell_type": "code",
   "execution_count": 42,
   "metadata": {
    "collapsed": true
   },
   "outputs": [],
   "source": [
    "model_mig_iso_scaled = dadi.Inference.optimally_scaled_sfs(model_mig_iso, sfs2d)"
   ]
  },
  {
   "cell_type": "code",
   "execution_count": 45,
   "metadata": {
    "collapsed": false
   },
   "outputs": [],
   "source": [
    "func_ex = dadi.Numerics.make_extrap_log_func(split_asym_mig)\n",
    "\n",
    "popt_asym_mig = [0.92091098,  2.2386172 ,  1.24468148,  0.08414741,  0.49491818]\n",
    "\n",
    "model_asym_mig = func_ex(popt_asym_mig, ns, pts_l)\n",
    "\n",
    "model_asym_mig_scaled = dadi.Inference.optimally_scaled_sfs(model_asym_mig, sfs2d)"
   ]
  },
  {
   "cell_type": "code",
   "execution_count": 46,
   "metadata": {
    "collapsed": false
   },
   "outputs": [
    {
     "data": {
      "image/png": "[encoded data removed]",
      "text/plain": [
       "<matplotlib.figure.Figure at 0x7fa72eadfad0>"
      ]
     },
     "metadata": {},
     "output_type": "display_data"
    }
   ],
   "source": [
    "dadi.Plotting.plot_2d_comp_multinom(data=model_mig_iso_scaled.fold() , model=model_asym_mig_scaled.fold(), vmin=1, title=['ancient mig', 'continuous mig'], pop_ids=['ery', 'par'])"
   ]
  },
  {
   "cell_type": "markdown",
   "metadata": {},
   "source": [
    "Apparently the continuous migration model predicts many more variants at frequency 1 in erythropus that are shared with parallelus than the ancient migration model."
   ]
  },
  {
   "cell_type": "markdown",
   "metadata": {},
   "source": [
    "# ancient migration, isolation and secondary contact"
   ]
  },
  {
   "cell_type": "markdown",
   "metadata": {},
   "source": [
    "The two populations are relatively close to the hybrid zone centre at the Col de la Quillane in the Pyrenees. The clines for some characters have been shown to be many kilometers wide. It can therefore be assumed that there is some recent gene flow between the two populations. Can this gene flow be detected from this spectrum?"
   ]
  },
  {
   "cell_type": "code",
   "execution_count": 59,
   "metadata": {
    "collapsed": true
   },
   "outputs": [],
   "source": [
    "def split_mig_iso_mig(params, ns, pts):\n",
    "    \"\"\"\n",
    "    params = (nu1,nu2,Tc,m1,m2,Ti,Tsc)\n",
    "    ns = (n1,n2)\n",
    "\n",
    "    Split into two populations of specifed size, with potentially asymmetric migration\n",
    "    for a time Tc followed by a period of complete isolation Ti which is followed by a restart of\n",
    "    migration until present. Migration rates in the two epochs are assumed to equal (and constant).\n",
    "\n",
    "    nu1: Size of population 1 after split.\n",
    "    nu2: Size of population 2 after split.\n",
    "    Tc: Time of gene flow after split (in units of 2*Na generations) \n",
    "    m1: Migration rate from ery into par (in units of 2*Na ind per generation)\n",
    "    m2: Migration rate from par into ery (in units of 2*Na ind per generation)\n",
    "    Ti: Time of isolation after cessation of gene flow\n",
    "    Tsc: Time of gene flow after period of isolation until present\n",
    "    \n",
    "    The split lies Tc+Ti+Tsc * 2Na generations in the past.\n",
    "    \n",
    "    n1,n2: Sample sizes of resulting Spectrum\n",
    "    pts: Number of grid points to use in integration.\n",
    "    \"\"\"\n",
    "    nu1,nu2,Tc,m1,m2,Ti,Tsc = params\n",
    "\n",
    "    xx = dadi.Numerics.default_grid(pts)\n",
    "\n",
    "    phi = dadi.PhiManip.phi_1D(xx)\n",
    "    \n",
    "    # split\n",
    "    phi = dadi.PhiManip.phi_1D_to_2D(xx, phi) \n",
    "    \n",
    "    # divergence with potentially asymmetric migration\n",
    "    phi = dadi.Integration.two_pops(phi, xx, Tc, nu1, nu2, m12=m2, m21=m1)\n",
    "    \n",
    "    # divergence without gene flow\n",
    "    phi = dadi.Integration.two_pops(phi, xx, Ti, nu1, nu2, m12=0, m21=0)\n",
    "    \n",
    "    # divergence with potentially asymmetric migration\n",
    "    phi = dadi.Integration.two_pops(phi, xx, Tsc, nu1, nu2, m12=m2, m21=m1)\n",
    "\n",
    "    fs = dadi.Spectrum.from_phi(phi, ns, (xx,xx))\n",
    "    return fs"
   ]
  },
  {
   "cell_type": "markdown",
   "metadata": {},
   "source": [
    "This model just adds another epoch to the ancient migration model in the previous section. The period without gene flow is now followed by another period where gene flow recommences and lasts until the present. Note that migration rates are assumed to be the same in both epochs of gene flow."
   ]
  },
  {
   "cell_type": "code",
   "execution_count": 60,
   "metadata": {
    "collapsed": true
   },
   "outputs": [],
   "source": [
    "ar_mig_iso_mig = []\n",
    "\n",
    "for filename in glob(\"OUT_2D_models/split_mig_iso_mig*dill\"):\n",
    "    ar_mig_iso_mig.append(dill.load(open(filename)))"
   ]
  },
  {
   "cell_type": "code",
   "execution_count": 61,
   "metadata": {
    "collapsed": false
   },
   "outputs": [
    {
     "data": {
      "text/html": [
       "<div>\n",
       "<table border=\"1\" class=\"dataframe\">\n",
       "  <thead>\n",
       "    <tr style=\"text-align: right;\">\n",
       "      <th></th>\n",
       "      <th>nu1_0</th>\n",
       "      <th>nu2_0</th>\n",
       "      <th>Tc_0</th>\n",
       "      <th>m1_0</th>\n",
       "      <th>m2_0</th>\n",
       "      <th>Ti_0</th>\n",
       "      <th>Tsc_0</th>\n",
       "      <th>nu1_opt</th>\n",
       "      <th>nu2_opt</th>\n",
       "      <th>Tc_opt</th>\n",
       "      <th>m1_opt</th>\n",
       "      <th>m2_opt</th>\n",
       "      <th>Ti_opt</th>\n",
       "      <th>Tsc_opt</th>\n",
       "      <th>-logL</th>\n",
       "    </tr>\n",
       "  </thead>\n",
       "  <tbody>\n",
       "    <tr>\n",
       "      <th>10</th>\n",
       "      <td>3.393662</td>\n",
       "      <td>10.566381</td>\n",
       "      <td>7.920000</td>\n",
       "      <td>0.027990</td>\n",
       "      <td>0.147762</td>\n",
       "      <td>0.138175</td>\n",
       "      <td>0.000030</td>\n",
       "      <td>2.976386</td>\n",
       "      <td>7.290183</td>\n",
       "      <td>7.236861</td>\n",
       "      <td>0.037756</td>\n",
       "      <td>0.229864</td>\n",
       "      <td>0.178659</td>\n",
       "      <td>0.000019</td>\n",
       "      <td>17582.754156</td>\n",
       "    </tr>\n",
       "    <tr>\n",
       "      <th>11</th>\n",
       "      <td>3.738671</td>\n",
       "      <td>6.291449</td>\n",
       "      <td>7.920000</td>\n",
       "      <td>0.067358</td>\n",
       "      <td>0.181861</td>\n",
       "      <td>0.141373</td>\n",
       "      <td>0.000033</td>\n",
       "      <td>2.933155</td>\n",
       "      <td>7.168308</td>\n",
       "      <td>7.104183</td>\n",
       "      <td>0.038650</td>\n",
       "      <td>0.233178</td>\n",
       "      <td>0.176059</td>\n",
       "      <td>0.000012</td>\n",
       "      <td>17582.768290</td>\n",
       "    </tr>\n",
       "    <tr>\n",
       "      <th>18</th>\n",
       "      <td>1.310714</td>\n",
       "      <td>3.824504</td>\n",
       "      <td>4.369948</td>\n",
       "      <td>0.049779</td>\n",
       "      <td>0.307464</td>\n",
       "      <td>0.237146</td>\n",
       "      <td>0.033322</td>\n",
       "      <td>2.362064</td>\n",
       "      <td>5.842982</td>\n",
       "      <td>5.547352</td>\n",
       "      <td>0.046664</td>\n",
       "      <td>0.290175</td>\n",
       "      <td>0.140767</td>\n",
       "      <td>0.000027</td>\n",
       "      <td>17583.780419</td>\n",
       "    </tr>\n",
       "    <tr>\n",
       "      <th>22</th>\n",
       "      <td>1.837307</td>\n",
       "      <td>10.757118</td>\n",
       "      <td>7.645129</td>\n",
       "      <td>0.059177</td>\n",
       "      <td>0.229560</td>\n",
       "      <td>0.213559</td>\n",
       "      <td>0.000032</td>\n",
       "      <td>2.242446</td>\n",
       "      <td>5.484794</td>\n",
       "      <td>5.156093</td>\n",
       "      <td>0.050021</td>\n",
       "      <td>0.304977</td>\n",
       "      <td>0.134595</td>\n",
       "      <td>0.000019</td>\n",
       "      <td>17583.969711</td>\n",
       "    </tr>\n",
       "    <tr>\n",
       "      <th>15</th>\n",
       "      <td>2.096425</td>\n",
       "      <td>4.660374</td>\n",
       "      <td>4.265668</td>\n",
       "      <td>0.045547</td>\n",
       "      <td>0.244521</td>\n",
       "      <td>0.129254</td>\n",
       "      <td>0.000019</td>\n",
       "      <td>2.172535</td>\n",
       "      <td>5.310612</td>\n",
       "      <td>4.954453</td>\n",
       "      <td>0.051699</td>\n",
       "      <td>0.314579</td>\n",
       "      <td>0.130400</td>\n",
       "      <td>0.000015</td>\n",
       "      <td>17584.202249</td>\n",
       "    </tr>\n",
       "    <tr>\n",
       "      <th>29</th>\n",
       "      <td>2.330807</td>\n",
       "      <td>4.339575</td>\n",
       "      <td>7.920000</td>\n",
       "      <td>0.064959</td>\n",
       "      <td>0.400673</td>\n",
       "      <td>0.087552</td>\n",
       "      <td>0.000033</td>\n",
       "      <td>2.156040</td>\n",
       "      <td>5.304803</td>\n",
       "      <td>4.934450</td>\n",
       "      <td>0.050758</td>\n",
       "      <td>0.318995</td>\n",
       "      <td>0.129395</td>\n",
       "      <td>0.000015</td>\n",
       "      <td>17584.406282</td>\n",
       "    </tr>\n",
       "    <tr>\n",
       "      <th>14</th>\n",
       "      <td>1.779585</td>\n",
       "      <td>5.280102</td>\n",
       "      <td>4.381530</td>\n",
       "      <td>0.024307</td>\n",
       "      <td>0.165301</td>\n",
       "      <td>0.198832</td>\n",
       "      <td>0.000030</td>\n",
       "      <td>2.036089</td>\n",
       "      <td>4.973092</td>\n",
       "      <td>4.563480</td>\n",
       "      <td>0.054334</td>\n",
       "      <td>0.337488</td>\n",
       "      <td>0.123699</td>\n",
       "      <td>0.000012</td>\n",
       "      <td>17585.299903</td>\n",
       "    </tr>\n",
       "    <tr>\n",
       "      <th>37</th>\n",
       "      <td>1.305890</td>\n",
       "      <td>3.807041</td>\n",
       "      <td>4.293586</td>\n",
       "      <td>0.049922</td>\n",
       "      <td>0.207666</td>\n",
       "      <td>0.180538</td>\n",
       "      <td>0.000050</td>\n",
       "      <td>1.968934</td>\n",
       "      <td>4.846930</td>\n",
       "      <td>4.420515</td>\n",
       "      <td>0.056884</td>\n",
       "      <td>0.346840</td>\n",
       "      <td>0.118008</td>\n",
       "      <td>0.000100</td>\n",
       "      <td>17585.995715</td>\n",
       "    </tr>\n",
       "    <tr>\n",
       "      <th>35</th>\n",
       "      <td>1.749685</td>\n",
       "      <td>2.948985</td>\n",
       "      <td>7.920000</td>\n",
       "      <td>0.023613</td>\n",
       "      <td>0.395618</td>\n",
       "      <td>0.196917</td>\n",
       "      <td>0.000033</td>\n",
       "      <td>1.739157</td>\n",
       "      <td>4.251127</td>\n",
       "      <td>3.725114</td>\n",
       "      <td>0.063843</td>\n",
       "      <td>0.392371</td>\n",
       "      <td>0.104367</td>\n",
       "      <td>0.000066</td>\n",
       "      <td>17587.372433</td>\n",
       "    </tr>\n",
       "    <tr>\n",
       "      <th>20</th>\n",
       "      <td>2.313656</td>\n",
       "      <td>3.765053</td>\n",
       "      <td>5.049405</td>\n",
       "      <td>0.046481</td>\n",
       "      <td>0.379796</td>\n",
       "      <td>0.276645</td>\n",
       "      <td>0.000047</td>\n",
       "      <td>1.671541</td>\n",
       "      <td>4.090976</td>\n",
       "      <td>3.534206</td>\n",
       "      <td>0.065836</td>\n",
       "      <td>0.409312</td>\n",
       "      <td>0.100302</td>\n",
       "      <td>0.000093</td>\n",
       "      <td>17588.436814</td>\n",
       "    </tr>\n",
       "  </tbody>\n",
       "</table>\n",
       "</div>"
      ],
      "text/plain": [
       "       nu1_0      nu2_0      Tc_0      m1_0      m2_0      Ti_0     Tsc_0  \\\n",
       "10  3.393662  10.566381  7.920000  0.027990  0.147762  0.138175  0.000030   \n",
       "11  3.738671   6.291449  7.920000  0.067358  0.181861  0.141373  0.000033   \n",
       "18  1.310714   3.824504  4.369948  0.049779  0.307464  0.237146  0.033322   \n",
       "22  1.837307  10.757118  7.645129  0.059177  0.229560  0.213559  0.000032   \n",
       "15  2.096425   4.660374  4.265668  0.045547  0.244521  0.129254  0.000019   \n",
       "29  2.330807   4.339575  7.920000  0.064959  0.400673  0.087552  0.000033   \n",
       "14  1.779585   5.280102  4.381530  0.024307  0.165301  0.198832  0.000030   \n",
       "37  1.305890   3.807041  4.293586  0.049922  0.207666  0.180538  0.000050   \n",
       "35  1.749685   2.948985  7.920000  0.023613  0.395618  0.196917  0.000033   \n",
       "20  2.313656   3.765053  5.049405  0.046481  0.379796  0.276645  0.000047   \n",
       "\n",
       "     nu1_opt   nu2_opt    Tc_opt    m1_opt    m2_opt    Ti_opt   Tsc_opt  \\\n",
       "10  2.976386  7.290183  7.236861  0.037756  0.229864  0.178659  0.000019   \n",
       "11  2.933155  7.168308  7.104183  0.038650  0.233178  0.176059  0.000012   \n",
       "18  2.362064  5.842982  5.547352  0.046664  0.290175  0.140767  0.000027   \n",
       "22  2.242446  5.484794  5.156093  0.050021  0.304977  0.134595  0.000019   \n",
       "15  2.172535  5.310612  4.954453  0.051699  0.314579  0.130400  0.000015   \n",
       "29  2.156040  5.304803  4.934450  0.050758  0.318995  0.129395  0.000015   \n",
       "14  2.036089  4.973092  4.563480  0.054334  0.337488  0.123699  0.000012   \n",
       "37  1.968934  4.846930  4.420515  0.056884  0.346840  0.118008  0.000100   \n",
       "35  1.739157  4.251127  3.725114  0.063843  0.392371  0.104367  0.000066   \n",
       "20  1.671541  4.090976  3.534206  0.065836  0.409312  0.100302  0.000093   \n",
       "\n",
       "           -logL  \n",
       "10  17582.754156  \n",
       "11  17582.768290  \n",
       "18  17583.780419  \n",
       "22  17583.969711  \n",
       "15  17584.202249  \n",
       "29  17584.406282  \n",
       "14  17585.299903  \n",
       "37  17585.995715  \n",
       "35  17587.372433  \n",
       "20  17588.436814  "
      ]
     },
     "execution_count": 61,
     "metadata": {},
     "output_type": "execute_result"
    }
   ],
   "source": [
    "import pandas as pd\n",
    "\n",
    "l = 2*7+1\n",
    "\n",
    "# show all parameter combinations\n",
    "returned = [flatten(out)[:l] for out in ar_mig_iso_mig]\n",
    "\n",
    "df = pd.DataFrame(data=returned, \\\n",
    "                  columns=['nu1_0','nu2_0', 'Tc_0', 'm1_0', 'm2_0', 'Ti_0', 'Tsc_0', 'nu1_opt', 'nu2_opt', 'Tc_opt', 'm1_opt', 'm2_opt', 'Ti_opt', 'Tsc_opt', '-logL'])\n",
    "\n",
    "df.sort_values(by='-logL', ascending=True).head(10)"
   ]
  },
  {
   "cell_type": "markdown",
   "metadata": {},
   "source": [
    "The best parameter combination from the _ancient migration_ model had a likelihood of 17582.88. So the addition of $T_{SC}$ to the model had not improved the fit significantly. A time of secondary contact cannot be inferred from this spectrum."
   ]
  },
  {
   "cell_type": "code",
   "execution_count": 62,
   "metadata": {
    "collapsed": false
   },
   "outputs": [
    {
     "data": {
      "text/plain": [
       "array([  2.93315472e+00,   7.16830807e+00,   7.10418266e+00,\n",
       "         3.86497143e-02,   2.33177903e-01,   1.76059241e-01,\n",
       "         1.18413266e-05])"
      ]
     },
     "execution_count": 62,
     "metadata": {},
     "output_type": "execute_result"
    }
   ],
   "source": [
    "popt = np.array(df.sort_values(by='-logL', ascending=True).iloc[1,7:14])\n",
    "popt"
   ]
  },
  {
   "cell_type": "code",
   "execution_count": 65,
   "metadata": {
    "collapsed": false
   },
   "outputs": [
    {
     "name": "stdout",
     "output_type": "stream",
     "text": [
      "The effective size of the ancestral population of ery and par (in number of diploid individuals) implied by this theta is: 123,659.\n",
      "A Tsc of 0.000012 corresponds to 2 generations.\n"
     ]
    }
   ],
   "source": [
    "func_ex = dadi.Numerics.make_extrap_log_func(split_mig_iso_mig)\n",
    "\n",
    "model = func_ex(popt, ns, pts_l)\n",
    "\n",
    "theta = dadi.Inference.optimal_sfs_scaling(model, sfs2d)\n",
    "\n",
    "mu = 3e-9\n",
    "L = sfs2d.data.sum() # this sums over all entries in the spectrum, including masked ones, i. e. also contains invariable sites\n",
    "\n",
    "N_ref = theta/L/mu/4\n",
    "\n",
    "print \"The effective size of the ancestral population of ery and par (in number of diploid individuals) implied by this theta is: {0:,}.\".format(int(N_ref))\n",
    "print \"A Tsc of {0:.6f} corresponds to {1:,} generations.\".format(popt[-1], int(popt[-1]*2*N_ref))"
   ]
  },
  {
   "cell_type": "markdown",
   "metadata": {},
   "source": [
    "Such a low time since secondary contact is obviously nonsensical."
   ]
  },
  {
   "cell_type": "markdown",
   "metadata": {},
   "source": [
    "# Conclusion"
   ]
  },
  {
   "cell_type": "markdown",
   "metadata": {},
   "source": [
    "The split between ery and par is ancient, maybe >1 Mya. A much higher effective population size is inferred for parallelus than for erythropus. There is a strong signal of gene flow in the data, which is inferred to have been much higher in the direction par-->ery than the other way round. The gene flow has not begun after a long period of complete isolation (i. e. no recent secondary contact). Rather, there seems to be a strong signal of ancient gene flow that recently has ceased completely. A model that allowed for exponential (instead of instantaneous) population size change did not fit the data better."
   ]
  }
 ],
 "metadata": {
  "anaconda-cloud": {},
  "kernelspec": {
   "display_name": "Python [default]",
   "language": "python",
   "name": "python2"
  },
  "language_info": {
   "codemirror_mode": {
    "name": "ipython",
    "version": 2
   },
   "file_extension": ".py",
   "mimetype": "text/x-python",
   "name": "python",
   "nbconvert_exporter": "python",
   "pygments_lexer": "ipython2",
   "version": "2.7.12"
  },
  "toc": {
   "colors": {
    "hover_highlight": "#DAA520",
    "running_highlight": "#FF0000",
    "selected_highlight": "#FFD700"
   },
   "moveMenuLeft": true,
   "nav_menu": {
    "height": "31px",
    "width": "252px"
   },
   "navigate_menu": true,
   "number_sections": true,
   "sideBar": true,
   "threshold": 4,
   "toc_cell": true,
   "toc_position": {
    "height": "664px",
    "left": "0px",
    "right": "1190px",
    "top": "107px",
    "width": "250px"
   },
   "toc_section_display": "block",
   "toc_window_display": true
  }
 },
 "nbformat": 4,
 "nbformat_minor": 0
}
