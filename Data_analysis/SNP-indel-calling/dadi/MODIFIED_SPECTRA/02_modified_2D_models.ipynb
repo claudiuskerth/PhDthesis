{
 "cells": [
  {
   "cell_type": "markdown",
   "metadata": {
    "toc": "true"
   },
   "source": [
    "# Table of Contents\n",
    " <p><div class=\"lev1 toc-item\"><a href=\"#simple-divergence-model\" data-toc-modified-id=\"simple-divergence-model-1\"><span class=\"toc-item-num\">1&nbsp;&nbsp;</span>simple divergence model</a></div><div class=\"lev2 toc-item\"><a href=\"#Interpretation\" data-toc-modified-id=\"Interpretation-11\"><span class=\"toc-item-num\">1.1&nbsp;&nbsp;</span>Interpretation</a></div><div class=\"lev2 toc-item\"><a href=\"#Residuals\" data-toc-modified-id=\"Residuals-12\"><span class=\"toc-item-num\">1.2&nbsp;&nbsp;</span>Residuals</a></div><div class=\"lev2 toc-item\"><a href=\"#influence-of-the-degree-of-correction\" data-toc-modified-id=\"influence-of-the-degree-of-correction-13\"><span class=\"toc-item-num\">1.3&nbsp;&nbsp;</span>influence of the degree of correction</a></div><div class=\"lev3 toc-item\"><a href=\"#p=0.3\" data-toc-modified-id=\"p=0.3-131\"><span class=\"toc-item-num\">1.3.1&nbsp;&nbsp;</span>p=0.3</a></div><div class=\"lev3 toc-item\"><a href=\"#p=0.39\" data-toc-modified-id=\"p=0.39-132\"><span class=\"toc-item-num\">1.3.2&nbsp;&nbsp;</span>p=0.39</a></div><div class=\"lev1 toc-item\"><a href=\"#divergence-with-migration\" data-toc-modified-id=\"divergence-with-migration-2\"><span class=\"toc-item-num\">2&nbsp;&nbsp;</span>divergence with migration</a></div><div class=\"lev2 toc-item\"><a href=\"#Interpretation\" data-toc-modified-id=\"Interpretation-21\"><span class=\"toc-item-num\">2.1&nbsp;&nbsp;</span>Interpretation</a></div><div class=\"lev2 toc-item\"><a href=\"#Residuals\" data-toc-modified-id=\"Residuals-22\"><span class=\"toc-item-num\">2.2&nbsp;&nbsp;</span>Residuals</a></div><div class=\"lev2 toc-item\"><a href=\"#influence-of-correction\" data-toc-modified-id=\"influence-of-correction-23\"><span class=\"toc-item-num\">2.3&nbsp;&nbsp;</span>influence of correction</a></div><div class=\"lev3 toc-item\"><a href=\"#p=0.30\" data-toc-modified-id=\"p=0.30-231\"><span class=\"toc-item-num\">2.3.1&nbsp;&nbsp;</span>p=0.30</a></div><div class=\"lev3 toc-item\"><a href=\"#p=0.39\" data-toc-modified-id=\"p=0.39-232\"><span class=\"toc-item-num\">2.3.2&nbsp;&nbsp;</span>p=0.39</a></div><div class=\"lev1 toc-item\"><a href=\"#asymmetric-migration-rates\" data-toc-modified-id=\"asymmetric-migration-rates-3\"><span class=\"toc-item-num\">3&nbsp;&nbsp;</span>asymmetric migration rates</a></div><div class=\"lev2 toc-item\"><a href=\"#Interpretation\" data-toc-modified-id=\"Interpretation-31\"><span class=\"toc-item-num\">3.1&nbsp;&nbsp;</span>Interpretation</a></div><div class=\"lev2 toc-item\"><a href=\"#residuals\" data-toc-modified-id=\"residuals-32\"><span class=\"toc-item-num\">3.2&nbsp;&nbsp;</span>residuals</a></div><div class=\"lev1 toc-item\"><a href=\"#exponential-size-change\" data-toc-modified-id=\"exponential-size-change-4\"><span class=\"toc-item-num\">4&nbsp;&nbsp;</span>exponential size change</a></div><div class=\"lev1 toc-item\"><a href=\"#linear-size-change\" data-toc-modified-id=\"linear-size-change-5\"><span class=\"toc-item-num\">5&nbsp;&nbsp;</span>linear size change</a></div><div class=\"lev1 toc-item\"><a href=\"#Ancient-migration\" data-toc-modified-id=\"Ancient-migration-6\"><span class=\"toc-item-num\">6&nbsp;&nbsp;</span>Ancient migration</a></div><div class=\"lev2 toc-item\"><a href=\"#Interpretation\" data-toc-modified-id=\"Interpretation-61\"><span class=\"toc-item-num\">6.1&nbsp;&nbsp;</span>Interpretation</a></div><div class=\"lev2 toc-item\"><a href=\"#Residuals\" data-toc-modified-id=\"Residuals-62\"><span class=\"toc-item-num\">6.2&nbsp;&nbsp;</span>Residuals</a></div><div class=\"lev2 toc-item\"><a href=\"#compare-model-spectra\" data-toc-modified-id=\"compare-model-spectra-63\"><span class=\"toc-item-num\">6.3&nbsp;&nbsp;</span>compare model spectra</a></div><div class=\"lev1 toc-item\"><a href=\"#recent-restart-of-gene-flow\" data-toc-modified-id=\"recent-restart-of-gene-flow-7\"><span class=\"toc-item-num\">7&nbsp;&nbsp;</span>recent restart of gene flow</a></div><div class=\"lev1 toc-item\"><a href=\"#model-plotting\" data-toc-modified-id=\"model-plotting-8\"><span class=\"toc-item-num\">8&nbsp;&nbsp;</span>model plotting</a></div><div class=\"lev1 toc-item\"><a href=\"#refit-ancient-migration-model-with-moments\" data-toc-modified-id=\"refit-ancient-migration-model-with-moments-9\"><span class=\"toc-item-num\">9&nbsp;&nbsp;</span>refit ancient migration model with <em>moments</em></a></div><div class=\"lev1 toc-item\"><a href=\"#ancient-population-growth\" data-toc-modified-id=\"ancient-population-growth-10\"><span class=\"toc-item-num\">10&nbsp;&nbsp;</span>ancient population growth</a></div><div class=\"lev2 toc-item\"><a href=\"#with-dadi\" data-toc-modified-id=\"with-dadi-101\"><span class=\"toc-item-num\">10.1&nbsp;&nbsp;</span>with dadi</a></div>"
   ]
  },
  {
   "cell_type": "markdown",
   "metadata": {},
   "source": [
    "Here, I am just going to redo the same 2D model fitting as I did before for the original 2D spectrum, but with the spectrum to which I applied Ludovic's correction."
   ]
  },
  {
   "cell_type": "code",
   "execution_count": 3,
   "metadata": {
    "collapsed": false,
    "scrolled": true
   },
   "outputs": [
    {
     "data": {
      "text/plain": [
       "[0, 1, 2, 3, 4, 5, 6, 7, 8, 9, 10, 11, 12, 13, 14, 15, 16, 17, 18, 19]"
      ]
     },
     "execution_count": 3,
     "metadata": {},
     "output_type": "execute_result"
    }
   ],
   "source": [
    "from ipyparallel import Client\n",
    "\n",
    "cl = Client()\n",
    "\n",
    "cl.ids"
   ]
  },
  {
   "cell_type": "code",
   "execution_count": 4,
   "metadata": {
    "collapsed": false
   },
   "outputs": [
    {
     "name": "stdout",
     "output_type": "stream",
     "text": [
      "error in importing Two Locus modules\n",
      "[stdout:0] error in importing Two Locus modules\n",
      "[stdout:1] error in importing Two Locus modules\n",
      "[stdout:2] error in importing Two Locus modules\n",
      "[stdout:3] error in importing Two Locus modules\n",
      "[stdout:4] error in importing Two Locus modules\n",
      "[stdout:5] error in importing Two Locus modules\n",
      "[stdout:6] error in importing Two Locus modules\n",
      "[stdout:7] error in importing Two Locus modules\n",
      "[stdout:8] error in importing Two Locus modules\n",
      "[stdout:9] error in importing Two Locus modules\n",
      "[stdout:10] error in importing Two Locus modules\n",
      "[stdout:11] error in importing Two Locus modules\n",
      "[stdout:12] error in importing Two Locus modules\n",
      "[stdout:13] error in importing Two Locus modules\n",
      "[stdout:14] error in importing Two Locus modules\n",
      "[stdout:15] error in importing Two Locus modules\n",
      "[stdout:16] error in importing Two Locus modules\n",
      "[stdout:17] error in importing Two Locus modules\n",
      "[stdout:18] error in importing Two Locus modules\n",
      "[stdout:19] error in importing Two Locus modules\n"
     ]
    }
   ],
   "source": [
    "%%px --local\n",
    "\n",
    "# run whole cell on all engines a well as in the local IPython session\n",
    "\n",
    "import numpy as np\n",
    "\n",
    "import sys\n",
    "\n",
    "sys.path.insert(0, '/home/claudius/Downloads/dadi')\n",
    "\n",
    "import dadi"
   ]
  },
  {
   "cell_type": "code",
   "execution_count": 5,
   "metadata": {
    "collapsed": true
   },
   "outputs": [],
   "source": [
    "def run_dadi(p_init): # for the function to be called with map, it needs to have one input variable\n",
    "    \"\"\"\n",
    "    p_init: initial parameter values to run optimisation from\n",
    "    \"\"\"\n",
    "    if perturb == True:\n",
    "        p_init = dadi.Misc.perturb_params(p_init, fold=fold, \n",
    "                                      upper_bound=upper_bound, lower_bound=lower_bound)\n",
    "        # note upper_bound and lower_bound variables are expected to be in the namespace of each engine\n",
    "    # run optimisation of paramters\n",
    "    popt = dadi_opt_func(p0=p_init, data=sfs, model_func=func_ex, pts=pts_l, \\\n",
    "                                   lower_bound=lower_bound, upper_bound=upper_bound, \\\n",
    "                                   verbose=verbose, maxiter=maxiter, full_output=full_output, \\\n",
    "                                    fixed_params=fixed_params)\n",
    "    # pickle to file\n",
    "    import dill\n",
    "    name = outname[:] # make copy of file name stub!\n",
    "    for p in p_init:\n",
    "        name += \"_%.4f\" % (p)\n",
    "    with open(name + \".dill\", \"w\") as fh:\n",
    "        dill.dump((p_init, popt), fh)\n",
    "    \n",
    "    return p_init, popt"
   ]
  },
  {
   "cell_type": "code",
   "execution_count": 6,
   "metadata": {
    "collapsed": true
   },
   "outputs": [],
   "source": [
    "from glob import glob\n",
    "import dill\n",
    "from utility_functions import *\n",
    "import pandas as pd\n",
    "# turn on floating point division by default, old behaviour via '//'\n",
    "from __future__ import division"
   ]
  },
  {
   "cell_type": "code",
   "execution_count": 7,
   "metadata": {
    "collapsed": true
   },
   "outputs": [],
   "source": [
    "lbview = cl.load_balanced_view()"
   ]
  },
  {
   "cell_type": "code",
   "execution_count": 8,
   "metadata": {
    "collapsed": true
   },
   "outputs": [],
   "source": [
    "from itertools import repeat"
   ]
  },
  {
   "cell_type": "code",
   "execution_count": 7,
   "metadata": {
    "collapsed": true
   },
   "outputs": [],
   "source": [
    "%matplotlib inline\n",
    "\n",
    "import pylab\n",
    "\n",
    "pylab.rcParams['figure.figsize'] = [12, 10]\n",
    "pylab.rcParams['font.size'] = 14"
   ]
  },
  {
   "cell_type": "code",
   "execution_count": 10,
   "metadata": {
    "collapsed": true
   },
   "outputs": [],
   "source": [
    "%%px --local\n",
    "\n",
    "# load spectrum modified with Ludovic's correction, p=35\n",
    "\n",
    "sfs2d = dadi.Spectrum.from_file(\"EryPar_modified.2dsfs\")"
   ]
  },
  {
   "cell_type": "code",
   "execution_count": 11,
   "metadata": {
    "collapsed": false
   },
   "outputs": [
    {
     "data": {
      "text/plain": [
       "<matplotlib.colorbar.Colorbar at 0x7feb3ca0b450>"
      ]
     },
     "execution_count": 11,
     "metadata": {},
     "output_type": "execute_result"
    },
    {
     "data": {
      "image/png": "[encoded data removed]",
      "text/plain": [
       "<matplotlib.figure.Figure at 0x7feb3c7f3c10>"
      ]
     },
     "metadata": {},
     "output_type": "display_data"
    }
   ],
   "source": [
    "dadi.Plotting.plot_single_2d_sfs(sfs2d, vmin=1, cmap=pylab.cm.jet)"
   ]
  },
  {
   "cell_type": "code",
   "execution_count": 12,
   "metadata": {
    "collapsed": false
   },
   "outputs": [
    {
     "data": {
      "text/plain": [
       "60573.584426000001"
      ]
     },
     "execution_count": 12,
     "metadata": {},
     "output_type": "execute_result"
    }
   ],
   "source": [
    "# number of SNP's in the spectrum\n",
    "sfs2d.S()"
   ]
  },
  {
   "cell_type": "markdown",
   "metadata": {},
   "source": [
    "# simple divergence model"
   ]
  },
  {
   "cell_type": "code",
   "execution_count": 11,
   "metadata": {
    "collapsed": true
   },
   "outputs": [],
   "source": [
    "def split_nomig(params, ns, pts):\n",
    "    \"\"\"\n",
    "    params = (nu1,nu2,T)\n",
    "    ns = (n1,n2)\n",
    "\n",
    "    Split into two populations of specifed size, no migration.\n",
    "\n",
    "    nu1: Size ratio of population 1 after split (with respect to ancestral population size Na)\n",
    "    nu2: Size ratio of population 2 after split (with respect to ancestral population size Na)\n",
    "    T: Time in the past of split (in units of 2*Na generations) \n",
    "    n1,n2: Sample sizes of resulting Spectrum\n",
    "    pts: Number of grid points to use in integration.\n",
    "    \"\"\"\n",
    "    nu1,nu2,T = params\n",
    "\n",
    "    xx = dadi.Numerics.default_grid(pts)\n",
    "\n",
    "    phi = dadi.PhiManip.phi_1D(xx)\n",
    "    phi = dadi.PhiManip.phi_1D_to_2D(xx, phi)\n",
    "\n",
    "    phi = dadi.Integration.two_pops(phi, xx, T, nu1, nu2, m12=0, m21=0)\n",
    "\n",
    "    fs = dadi.Spectrum.from_phi(phi, ns, (xx,xx))\n",
    "    return fs"
   ]
  },
  {
   "cell_type": "code",
   "execution_count": 14,
   "metadata": {
    "collapsed": false
   },
   "outputs": [
    {
     "data": {
      "text/plain": [
       "<AsyncResult: _push>"
      ]
     },
     "execution_count": 14,
     "metadata": {},
     "output_type": "execute_result"
    }
   ],
   "source": [
    "cl[:].push(dict(split_nomig=split_nomig))"
   ]
  },
  {
   "cell_type": "code",
   "execution_count": 15,
   "metadata": {
    "collapsed": false
   },
   "outputs": [],
   "source": [
    "%%px --local\n",
    "\n",
    "# create extrapolating version of the model function\n",
    "func_ex = dadi.Numerics.make_extrap_log_func(split_nomig)"
   ]
  },
  {
   "cell_type": "code",
   "execution_count": 16,
   "metadata": {
    "collapsed": false
   },
   "outputs": [],
   "source": [
    "%%px --local\n",
    "\n",
    "# set up global variables on engines required for run_dadi function call\n",
    "\n",
    "ns = sfs2d.sample_sizes # both populations have the same sample size\n",
    "# setting the smallest grid size slightly larger than the largest population sample size (36)\n",
    "pts_l = [40, 50, 60]\n",
    "dadi_opt_func = dadi.Inference.optimize_log_fmin # uses Nelder-Mead algorithm\n",
    "sfs = sfs2d\n",
    "perturb = True\n",
    "fold = 2 # perturb randomly up to `fold` times 2-fold\n",
    "maxiter = 100 # run a maximum of 10 iterations\n",
    "verbose = 0\n",
    "full_output = True # need to have full output to get the warnflags (see below)\n",
    "outname = \"MODIFIED_SPECTRA/OUT_2D_models/split_nomig\" # set file name stub for opt. result files\n",
    "fixed_params = None"
   ]
  },
  {
   "cell_type": "code",
   "execution_count": 17,
   "metadata": {
    "collapsed": true
   },
   "outputs": [],
   "source": [
    "%%px --local\n",
    "\n",
    "# set lower and upper bounds to nu1, nu2 and T\n",
    "upper_bound = [1e4, 1e4, 5]\n",
    "lower_bound = [1e-4, 1e-4, 0]"
   ]
  },
  {
   "cell_type": "code",
   "execution_count": null,
   "metadata": {
    "collapsed": true
   },
   "outputs": [],
   "source": [
    "# perturb parameter neutral values\n",
    "p0 = [0.5, 0.5, 0.1] # split into equal proportions at >200,000 generations ago\n",
    "\n",
    "#ar_split_nomig = lbview.map(run_dadi, repeat(p0, 10))"
   ]
  },
  {
   "cell_type": "code",
   "execution_count": 28,
   "metadata": {
    "collapsed": false
   },
   "outputs": [
    {
     "name": "stdout",
     "output_type": "stream",
     "text": [
      "-rw-rw-r-- 1 claudius 298 Jun  1 20:15 OUT_2D_models/split_nomig_0.1304_0.6851_0.0601.dill\r\n",
      "-rw-rw-r-- 1 claudius 298 Jun  1 20:15 OUT_2D_models/split_nomig_0.1535_0.2150_0.1258.dill\r\n",
      "-rw-rw-r-- 1 claudius 298 Jun  1 20:15 OUT_2D_models/split_nomig_0.1606_0.5516_0.1831.dill\r\n",
      "-rw-rw-r-- 1 claudius 298 Jun  1 20:15 OUT_2D_models/split_nomig_0.2260_0.4902_0.0619.dill\r\n",
      "-rw-rw-r-- 1 claudius 298 Jun  1 20:15 OUT_2D_models/split_nomig_0.2454_0.1483_0.3527.dill\r\n",
      "-rw-rw-r-- 1 claudius 298 Jun  1 20:15 OUT_2D_models/split_nomig_0.5718_1.2029_0.0711.dill\r\n",
      "-rw-rw-r-- 1 claudius 298 Jun  1 20:15 OUT_2D_models/split_nomig_0.7649_1.1414_0.1141.dill\r\n",
      "-rw-rw-r-- 1 claudius 298 Jun  1 20:15 OUT_2D_models/split_nomig_1.2273_0.7343_0.0393.dill\r\n",
      "-rw-rw-r-- 1 claudius 298 Jun  1 20:15 OUT_2D_models/split_nomig_1.3523_0.2709_0.0362.dill\r\n",
      "-rw-rw-r-- 1 claudius 298 Jun  1 20:15 OUT_2D_models/split_nomig_1.4073_0.2024_0.0270.dill\r\n"
     ]
    }
   ],
   "source": [
    "% ll OUT_2D_models/split_nomig_[!p]*dill"
   ]
  },
  {
   "cell_type": "code",
   "execution_count": 47,
   "metadata": {
    "collapsed": true
   },
   "outputs": [],
   "source": [
    "ar_split_nomig = []\n",
    "\n",
    "for filename in glob(\"OUT_2D_models/split_nomig_[!p]*dill\"):\n",
    "    ar_split_nomig.append(dill.load(open(filename)))"
   ]
  },
  {
   "cell_type": "code",
   "execution_count": 48,
   "metadata": {
    "collapsed": false
   },
   "outputs": [
    {
     "name": "stdout",
     "output_type": "stream",
     "text": [
      "success 5\n",
      "Maximum number of function evaluations made. 0\n",
      "Maximum number of iterations reached. 5\n",
      "unknown flag 0\n"
     ]
    }
   ],
   "source": [
    "get_flag_count(ar_split_nomig, NM=True)"
   ]
  },
  {
   "cell_type": "code",
   "execution_count": 93,
   "metadata": {
    "collapsed": false
   },
   "outputs": [
    {
     "data": {
      "text/html": [
       "<div>\n",
       "<table border=\"1\" class=\"dataframe\">\n",
       "  <thead>\n",
       "    <tr style=\"text-align: right;\">\n",
       "      <th></th>\n",
       "      <th>nu1_0</th>\n",
       "      <th>nu2_0</th>\n",
       "      <th>T_0</th>\n",
       "      <th>nu1_opt</th>\n",
       "      <th>nu2_opt</th>\n",
       "      <th>T_opt</th>\n",
       "      <th>-logL</th>\n",
       "    </tr>\n",
       "  </thead>\n",
       "  <tbody>\n",
       "    <tr>\n",
       "      <th>2</th>\n",
       "      <td>0.130396</td>\n",
       "      <td>0.685058</td>\n",
       "      <td>0.060110</td>\n",
       "      <td>0.762412</td>\n",
       "      <td>1.526605</td>\n",
       "      <td>0.301939</td>\n",
       "      <td>15791.588420</td>\n",
       "    </tr>\n",
       "    <tr>\n",
       "      <th>0</th>\n",
       "      <td>0.153522</td>\n",
       "      <td>0.215024</td>\n",
       "      <td>0.125826</td>\n",
       "      <td>0.760217</td>\n",
       "      <td>1.528322</td>\n",
       "      <td>0.302361</td>\n",
       "      <td>15791.696999</td>\n",
       "    </tr>\n",
       "    <tr>\n",
       "      <th>6</th>\n",
       "      <td>0.225985</td>\n",
       "      <td>0.490219</td>\n",
       "      <td>0.061947</td>\n",
       "      <td>0.760194</td>\n",
       "      <td>1.528215</td>\n",
       "      <td>0.302337</td>\n",
       "      <td>15791.697000</td>\n",
       "    </tr>\n",
       "    <tr>\n",
       "      <th>4</th>\n",
       "      <td>0.571756</td>\n",
       "      <td>1.202900</td>\n",
       "      <td>0.071081</td>\n",
       "      <td>0.760168</td>\n",
       "      <td>1.528309</td>\n",
       "      <td>0.302349</td>\n",
       "      <td>15791.697001</td>\n",
       "    </tr>\n",
       "    <tr>\n",
       "      <th>3</th>\n",
       "      <td>0.245443</td>\n",
       "      <td>0.148331</td>\n",
       "      <td>0.352726</td>\n",
       "      <td>0.760211</td>\n",
       "      <td>1.528331</td>\n",
       "      <td>0.302349</td>\n",
       "      <td>15791.697001</td>\n",
       "    </tr>\n",
       "    <tr>\n",
       "      <th>9</th>\n",
       "      <td>0.160553</td>\n",
       "      <td>0.551626</td>\n",
       "      <td>0.183081</td>\n",
       "      <td>0.760241</td>\n",
       "      <td>1.528333</td>\n",
       "      <td>0.302361</td>\n",
       "      <td>15791.697002</td>\n",
       "    </tr>\n",
       "    <tr>\n",
       "      <th>7</th>\n",
       "      <td>1.407268</td>\n",
       "      <td>0.202361</td>\n",
       "      <td>0.026992</td>\n",
       "      <td>0.760152</td>\n",
       "      <td>1.528101</td>\n",
       "      <td>0.302327</td>\n",
       "      <td>15791.697029</td>\n",
       "    </tr>\n",
       "    <tr>\n",
       "      <th>1</th>\n",
       "      <td>0.764874</td>\n",
       "      <td>1.141367</td>\n",
       "      <td>0.114088</td>\n",
       "      <td>0.760070</td>\n",
       "      <td>1.528050</td>\n",
       "      <td>0.302322</td>\n",
       "      <td>15791.697101</td>\n",
       "    </tr>\n",
       "    <tr>\n",
       "      <th>8</th>\n",
       "      <td>1.352339</td>\n",
       "      <td>0.270908</td>\n",
       "      <td>0.036199</td>\n",
       "      <td>0.760387</td>\n",
       "      <td>1.528244</td>\n",
       "      <td>0.302390</td>\n",
       "      <td>15791.697213</td>\n",
       "    </tr>\n",
       "    <tr>\n",
       "      <th>5</th>\n",
       "      <td>1.227281</td>\n",
       "      <td>0.734266</td>\n",
       "      <td>0.039261</td>\n",
       "      <td>0.767487</td>\n",
       "      <td>1.537413</td>\n",
       "      <td>0.303948</td>\n",
       "      <td>15791.771200</td>\n",
       "    </tr>\n",
       "  </tbody>\n",
       "</table>\n",
       "</div>"
      ],
      "text/plain": [
       "      nu1_0     nu2_0       T_0   nu1_opt   nu2_opt     T_opt         -logL\n",
       "2  0.130396  0.685058  0.060110  0.762412  1.526605  0.301939  15791.588420\n",
       "0  0.153522  0.215024  0.125826  0.760217  1.528322  0.302361  15791.696999\n",
       "6  0.225985  0.490219  0.061947  0.760194  1.528215  0.302337  15791.697000\n",
       "4  0.571756  1.202900  0.071081  0.760168  1.528309  0.302349  15791.697001\n",
       "3  0.245443  0.148331  0.352726  0.760211  1.528331  0.302349  15791.697001\n",
       "9  0.160553  0.551626  0.183081  0.760241  1.528333  0.302361  15791.697002\n",
       "7  1.407268  0.202361  0.026992  0.760152  1.528101  0.302327  15791.697029\n",
       "1  0.764874  1.141367  0.114088  0.760070  1.528050  0.302322  15791.697101\n",
       "8  1.352339  0.270908  0.036199  0.760387  1.528244  0.302390  15791.697213\n",
       "5  1.227281  0.734266  0.039261  0.767487  1.537413  0.303948  15791.771200"
      ]
     },
     "execution_count": 93,
     "metadata": {},
     "output_type": "execute_result"
    }
   ],
   "source": [
    "returned = [flatten(out)[:7] for out in ar_split_nomig]\n",
    "\n",
    "df = pd.DataFrame(data=returned, \\\n",
    "                  columns=['nu1_0','nu2_0', 'T_0', 'nu1_opt', 'nu2_opt', 'T_opt', '-logL'])\n",
    "\n",
    "df.sort_values(by='-logL', ascending=True)"
   ]
  },
  {
   "cell_type": "markdown",
   "metadata": {},
   "source": [
    "Beautiful convergence."
   ]
  },
  {
   "cell_type": "markdown",
   "metadata": {},
   "source": [
    "## Interpretation"
   ]
  },
  {
   "cell_type": "code",
   "execution_count": 94,
   "metadata": {
    "collapsed": false
   },
   "outputs": [
    {
     "data": {
      "text/plain": [
       "array([ 0.76241191,  1.52660495,  0.30193872])"
      ]
     },
     "execution_count": 94,
     "metadata": {},
     "output_type": "execute_result"
    }
   ],
   "source": [
    "popt = np.array(df.sort_values(by='-logL', ascending=True).iloc[0, 3:6])\n",
    "popt"
   ]
  },
  {
   "cell_type": "code",
   "execution_count": 95,
   "metadata": {
    "collapsed": false
   },
   "outputs": [
    {
     "data": {
      "text/plain": [
       "-15791.588419713637"
      ]
     },
     "execution_count": 95,
     "metadata": {},
     "output_type": "execute_result"
    }
   ],
   "source": [
    "# get unscaled, best-fit model spectrum\n",
    "model = func_ex(popt, ns, pts_l)\n",
    "\n",
    "# get logL of best-fit model\n",
    "ll_model = dadi.Inference.ll_multinom(model, sfs2d)\n",
    "ll_model"
   ]
  },
  {
   "cell_type": "code",
   "execution_count": 96,
   "metadata": {
    "collapsed": false
   },
   "outputs": [
    {
     "name": "stdout",
     "output_type": "stream",
     "text": [
      "The optimal value of theta per site for the ancestral population is 0.0076.\n"
     ]
    }
   ],
   "source": [
    "# get theta\n",
    "theta = dadi.Inference.optimal_sfs_scaling(model, sfs2d)\n",
    "# get total sequence length in spectrum\n",
    "L = sfs2d.data.sum()\n",
    "# get theta per site\n",
    "print \"The optimal value of theta per site for the ancestral population is {0:.4f}.\".format(theta/L)"
   ]
  },
  {
   "cell_type": "code",
   "execution_count": 58,
   "metadata": {
    "collapsed": false
   },
   "outputs": [
    {
     "name": "stdout",
     "output_type": "stream",
     "text": [
      "The total sequence length for the 2D spectrum is 1,130,775.\n",
      "The effective size of the ancestral population of ery and par (in number of diploid individuals) implied by this theta is:\n",
      " 631,166.\n"
     ]
    }
   ],
   "source": [
    "mu = 3e-9 # assumed per generation per site mutation rate\n",
    "print \"The total sequence length for the 2D spectrum is {0:,}.\".format(int(L))\n",
    "N_ref = theta/L/mu/4\n",
    "print \"The effective size of the ancestral population of ery and par (in number of diploid individuals) implied by this theta is:\\n {0:,}.\".format(int(N_ref))"
   ]
  },
  {
   "cell_type": "markdown",
   "metadata": {},
   "source": [
    "I am assuming that $\\nu_1$ refers to _ery_ and $\\nu_2$ refers to _par_. The `split_nomig` model with its optimal parameter values suggests the following:"
   ]
  },
  {
   "cell_type": "code",
   "execution_count": 62,
   "metadata": {
    "collapsed": false
   },
   "outputs": [
    {
     "name": "stdout",
     "output_type": "stream",
     "text": [
      "The ancestral population of ery and par split apart 381,147 generations ago. Since then until present the ERY population had a size of 481,209 and the PAR population of 963,542.\n"
     ]
    }
   ],
   "source": [
    "print \"The ancestral population of ery and par split apart {0:,} generations ago.\".format(int(popt[2]*2*N_ref)),\n",
    "print \"Since then until present the ERY population had a size of {0:,} and the PAR population of {1:,}.\".format(int(popt[0]*N_ref), int(popt[1]*N_ref))"
   ]
  },
  {
   "cell_type": "markdown",
   "metadata": {},
   "source": [
    "With the uncorrected spectrum, I inferred a split time of 400,188 generations and effective population sizes for ery and par of 438,776 and 847,045, respectively."
   ]
  },
  {
   "cell_type": "markdown",
   "metadata": {},
   "source": [
    "The following table compares the best-fit parameter values from the uncorrected and corrected spectrum:\n",
    "\n",
    "| parameter | uncorrected | corrected |\n",
    "| :-------: | ----------- | --------- |\n",
    "| $N_a$     |  688,875    | 631,166   |\n",
    "| $\\nu_1$   |  438,776    | 481,209   |\n",
    "| $\\nu_2$   |  847,045    | 963,542   |\n",
    "| T         |  400,188    | 381,147   |\n",
    "| -logL     |  20387      | 15791     |\n",
    "\n",
    "The values are given translated to absolute units, i. e. $\\nu_x$ in individuals and T in generations."
   ]
  },
  {
   "cell_type": "markdown",
   "metadata": {},
   "source": [
    "## Residuals"
   ]
  },
  {
   "cell_type": "code",
   "execution_count": 63,
   "metadata": {
    "collapsed": false
   },
   "outputs": [
    {
     "data": {
      "image/png": "[encoded data removed]",
      "text/plain": [
       "<matplotlib.figure.Figure at 0x7f5c73e386d0>"
      ]
     },
     "metadata": {},
     "output_type": "display_data"
    }
   ],
   "source": [
    "dadi.Plotting.plot_2d_comp_multinom(model, sfs2d, vmin=1)"
   ]
  },
  {
   "cell_type": "markdown",
   "metadata": {
    "collapsed": true
   },
   "source": [
    "The best-fit model spectrum predicts far fewer SNP's with frequency [1,1] than the observed (corrected) spectrum."
   ]
  },
  {
   "cell_type": "markdown",
   "metadata": {},
   "source": [
    "## influence of the degree of correction"
   ]
  },
  {
   "cell_type": "markdown",
   "metadata": {},
   "source": [
    "The model fitting above was done with a 2D SFS corrected with a _p_ of 0.35. I have created two more spectra corrected with different values of _p_ (0.3 and 0.39). They were derived by using a different null model for optimising _p_ (for details see `Ludovics_correction.ipynb`)."
   ]
  },
  {
   "cell_type": "code",
   "execution_count": 9,
   "metadata": {
    "collapsed": true
   },
   "outputs": [],
   "source": [
    "%%px --local\n",
    "\n",
    "# load spectrum modified with Ludovic's correction\n",
    "\n",
    "sfs2d_a = dadi.Spectrum.from_file(\"EryPar_modified_a.2dsfs\") # p=0.30\n",
    "sfs2d_b = dadi.Spectrum.from_file(\"EryPar_modified_b.2dsfs\") # p=0.39"
   ]
  },
  {
   "cell_type": "markdown",
   "metadata": {},
   "source": [
    "### p=0.3"
   ]
  },
  {
   "cell_type": "code",
   "execution_count": null,
   "metadata": {
    "collapsed": false
   },
   "outputs": [],
   "source": [
    "%%px --local\n",
    "\n",
    "# set up global variables on engines required for run_dadi function call\n",
    "\n",
    "ns = sfs2d_a.sample_sizes # both populations have the same sample size\n",
    "# setting the smallest grid size slightly larger than the largest population sample size (36)\n",
    "pts_l = [40, 50, 60]\n",
    "dadi_opt_func = dadi.Inference.optimize_log_fmin # uses Nelder-Mead algorithm\n",
    "sfs = sfs2d_a # use sfs corrected with p = 0.3\n",
    "perturb = True\n",
    "fold = 2 # perturb randomly up to `fold` times 2-fold\n",
    "maxiter = 100 # run a maximum of 10 iterations\n",
    "verbose = 0\n",
    "full_output = True # need to have full output to get the warnflags (see below)\n",
    "outname = \"MODIFIED_SPECTRA/OUT_2D_models/split_nomig_p0.30\" # set file name stub for opt. result files\n",
    "fixed_params = None"
   ]
  },
  {
   "cell_type": "code",
   "execution_count": null,
   "metadata": {
    "collapsed": true
   },
   "outputs": [],
   "source": [
    "%%px --local\n",
    "\n",
    "# set lower and upper bounds to nu1, nu2 and T\n",
    "upper_bound = [1e4, 1e4, 5]\n",
    "lower_bound = [1e-4, 1e-4, 0]"
   ]
  },
  {
   "cell_type": "code",
   "execution_count": null,
   "metadata": {
    "collapsed": true
   },
   "outputs": [],
   "source": [
    "# perturb parameter neutral values\n",
    "p0 = [0.5, 0.5, 0.1] # split into equal proportions at >200,000 generations ago\n",
    "\n",
    "#ar_split_nomig = lbview.map(run_dadi, repeat(p0, 10))"
   ]
  },
  {
   "cell_type": "code",
   "execution_count": 34,
   "metadata": {
    "collapsed": false
   },
   "outputs": [
    {
     "name": "stdout",
     "output_type": "stream",
     "text": [
      "-rw-rw-r-- 1 claudius 298 Jun  2 09:12 OUT_2D_models/split_nomig_p0.30_0.1448_0.1260_0.0605.dill\r\n",
      "-rw-rw-r-- 1 claudius 298 Jun  2 09:12 OUT_2D_models/split_nomig_p0.30_0.1559_0.1869_0.1554.dill\r\n",
      "-rw-rw-r-- 1 claudius 298 Jun  2 09:12 OUT_2D_models/split_nomig_p0.30_0.2026_1.6668_0.0663.dill\r\n",
      "-rw-rw-r-- 1 claudius 298 Jun  2 09:12 OUT_2D_models/split_nomig_p0.30_0.3427_0.1526_0.0784.dill\r\n",
      "-rw-rw-r-- 1 claudius 298 Jun  2 09:12 OUT_2D_models/split_nomig_p0.30_0.3500_1.9156_0.0648.dill\r\n",
      "-rw-rw-r-- 1 claudius 298 Jun  2 09:12 OUT_2D_models/split_nomig_p0.30_0.3522_0.6554_0.0499.dill\r\n",
      "-rw-rw-r-- 1 claudius 298 Jun  2 09:12 OUT_2D_models/split_nomig_p0.30_0.5814_1.2750_0.1621.dill\r\n",
      "-rw-rw-r-- 1 claudius 298 Jun  2 09:12 OUT_2D_models/split_nomig_p0.30_0.8447_0.2095_0.0921.dill\r\n",
      "-rw-rw-r-- 1 claudius 298 Jun  2 09:12 OUT_2D_models/split_nomig_p0.30_1.0114_1.7203_0.1228.dill\r\n",
      "-rw-rw-r-- 1 claudius 298 Jun  2 09:12 OUT_2D_models/split_nomig_p0.30_1.9554_0.4638_0.1178.dill\r\n"
     ]
    }
   ],
   "source": [
    "% ll OUT_2D_models/split_nomig_p0.30_*dill"
   ]
  },
  {
   "cell_type": "code",
   "execution_count": 35,
   "metadata": {
    "collapsed": true
   },
   "outputs": [],
   "source": [
    "ar_split_nomig = []\n",
    "\n",
    "for filename in glob(\"OUT_2D_models/split_nomig_p0.30_*dill\"):\n",
    "    ar_split_nomig.append(dill.load(open(filename)))"
   ]
  },
  {
   "cell_type": "code",
   "execution_count": 36,
   "metadata": {
    "collapsed": false
   },
   "outputs": [
    {
     "name": "stdout",
     "output_type": "stream",
     "text": [
      "success 8\n",
      "Maximum number of function evaluations made. 0\n",
      "Maximum number of iterations reached. 2\n",
      "unknown flag 0\n"
     ]
    }
   ],
   "source": [
    "get_flag_count(ar_split_nomig, NM=True)"
   ]
  },
  {
   "cell_type": "code",
   "execution_count": 37,
   "metadata": {
    "collapsed": false
   },
   "outputs": [
    {
     "data": {
      "text/html": [
       "<div>\n",
       "<table border=\"1\" class=\"dataframe\">\n",
       "  <thead>\n",
       "    <tr style=\"text-align: right;\">\n",
       "      <th></th>\n",
       "      <th>nu1_0</th>\n",
       "      <th>nu2_0</th>\n",
       "      <th>T_0</th>\n",
       "      <th>nu1_opt</th>\n",
       "      <th>nu2_opt</th>\n",
       "      <th>T_opt</th>\n",
       "      <th>-logL</th>\n",
       "    </tr>\n",
       "  </thead>\n",
       "  <tbody>\n",
       "    <tr>\n",
       "      <th>8</th>\n",
       "      <td>1.955442</td>\n",
       "      <td>0.463817</td>\n",
       "      <td>0.117820</td>\n",
       "      <td>0.744089</td>\n",
       "      <td>1.478716</td>\n",
       "      <td>0.300635</td>\n",
       "      <td>16046.344388</td>\n",
       "    </tr>\n",
       "    <tr>\n",
       "      <th>1</th>\n",
       "      <td>0.144818</td>\n",
       "      <td>0.126026</td>\n",
       "      <td>0.060458</td>\n",
       "      <td>0.742039</td>\n",
       "      <td>1.481590</td>\n",
       "      <td>0.301003</td>\n",
       "      <td>16046.485431</td>\n",
       "    </tr>\n",
       "    <tr>\n",
       "      <th>5</th>\n",
       "      <td>0.155943</td>\n",
       "      <td>0.186864</td>\n",
       "      <td>0.155439</td>\n",
       "      <td>0.742059</td>\n",
       "      <td>1.481633</td>\n",
       "      <td>0.301014</td>\n",
       "      <td>16046.485432</td>\n",
       "    </tr>\n",
       "    <tr>\n",
       "      <th>7</th>\n",
       "      <td>0.844686</td>\n",
       "      <td>0.209492</td>\n",
       "      <td>0.092093</td>\n",
       "      <td>0.742075</td>\n",
       "      <td>1.481671</td>\n",
       "      <td>0.301014</td>\n",
       "      <td>16046.485432</td>\n",
       "    </tr>\n",
       "    <tr>\n",
       "      <th>3</th>\n",
       "      <td>0.352177</td>\n",
       "      <td>0.655446</td>\n",
       "      <td>0.049885</td>\n",
       "      <td>0.742054</td>\n",
       "      <td>1.481620</td>\n",
       "      <td>0.301013</td>\n",
       "      <td>16046.485432</td>\n",
       "    </tr>\n",
       "    <tr>\n",
       "      <th>0</th>\n",
       "      <td>0.202589</td>\n",
       "      <td>1.666824</td>\n",
       "      <td>0.066334</td>\n",
       "      <td>0.742069</td>\n",
       "      <td>1.481588</td>\n",
       "      <td>0.301001</td>\n",
       "      <td>16046.485432</td>\n",
       "    </tr>\n",
       "    <tr>\n",
       "      <th>9</th>\n",
       "      <td>0.581361</td>\n",
       "      <td>1.274999</td>\n",
       "      <td>0.162114</td>\n",
       "      <td>0.742078</td>\n",
       "      <td>1.481632</td>\n",
       "      <td>0.301005</td>\n",
       "      <td>16046.485433</td>\n",
       "    </tr>\n",
       "    <tr>\n",
       "      <th>6</th>\n",
       "      <td>0.350016</td>\n",
       "      <td>1.915626</td>\n",
       "      <td>0.064756</td>\n",
       "      <td>0.742087</td>\n",
       "      <td>1.481586</td>\n",
       "      <td>0.301011</td>\n",
       "      <td>16046.485433</td>\n",
       "    </tr>\n",
       "    <tr>\n",
       "      <th>2</th>\n",
       "      <td>0.342666</td>\n",
       "      <td>0.152639</td>\n",
       "      <td>0.078395</td>\n",
       "      <td>0.742061</td>\n",
       "      <td>1.481637</td>\n",
       "      <td>0.301017</td>\n",
       "      <td>16046.485434</td>\n",
       "    </tr>\n",
       "    <tr>\n",
       "      <th>4</th>\n",
       "      <td>1.011441</td>\n",
       "      <td>1.720296</td>\n",
       "      <td>0.122779</td>\n",
       "      <td>1.012591</td>\n",
       "      <td>1.781549</td>\n",
       "      <td>0.387773</td>\n",
       "      <td>16331.055686</td>\n",
       "    </tr>\n",
       "  </tbody>\n",
       "</table>\n",
       "</div>"
      ],
      "text/plain": [
       "      nu1_0     nu2_0       T_0   nu1_opt   nu2_opt     T_opt         -logL\n",
       "8  1.955442  0.463817  0.117820  0.744089  1.478716  0.300635  16046.344388\n",
       "1  0.144818  0.126026  0.060458  0.742039  1.481590  0.301003  16046.485431\n",
       "5  0.155943  0.186864  0.155439  0.742059  1.481633  0.301014  16046.485432\n",
       "7  0.844686  0.209492  0.092093  0.742075  1.481671  0.301014  16046.485432\n",
       "3  0.352177  0.655446  0.049885  0.742054  1.481620  0.301013  16046.485432\n",
       "0  0.202589  1.666824  0.066334  0.742069  1.481588  0.301001  16046.485432\n",
       "9  0.581361  1.274999  0.162114  0.742078  1.481632  0.301005  16046.485433\n",
       "6  0.350016  1.915626  0.064756  0.742087  1.481586  0.301011  16046.485433\n",
       "2  0.342666  0.152639  0.078395  0.742061  1.481637  0.301017  16046.485434\n",
       "4  1.011441  1.720296  0.122779  1.012591  1.781549  0.387773  16331.055686"
      ]
     },
     "execution_count": 37,
     "metadata": {},
     "output_type": "execute_result"
    }
   ],
   "source": [
    "returned = [flatten(out)[:7] for out in ar_split_nomig]\n",
    "\n",
    "df = pd.DataFrame(data=returned, \\\n",
    "                  columns=['nu1_0','nu2_0', 'T_0', 'nu1_opt', 'nu2_opt', 'T_opt', '-logL'])\n",
    "\n",
    "df.sort_values(by='-logL', ascending=True)"
   ]
  },
  {
   "cell_type": "markdown",
   "metadata": {},
   "source": [
    "The same $T$ is inferred as with the spectrum corrected with a $p$ of 0.35."
   ]
  },
  {
   "cell_type": "markdown",
   "metadata": {},
   "source": [
    "### p=0.39"
   ]
  },
  {
   "cell_type": "code",
   "execution_count": null,
   "metadata": {
    "collapsed": true
   },
   "outputs": [],
   "source": [
    "%%px --local\n",
    "\n",
    "# set up global variables on engines required for run_dadi function call\n",
    "\n",
    "ns = sfs2d_a.sample_sizes # both populations have the same sample size\n",
    "# setting the smallest grid size slightly larger than the largest population sample size (36)\n",
    "pts_l = [40, 50, 60]\n",
    "dadi_opt_func = dadi.Inference.optimize_log_fmin # uses Nelder-Mead algorithm\n",
    "sfs = sfs2d_b # use sfs corrected with p=0.39\n",
    "perturb = True\n",
    "fold = 2 # perturb randomly up to `fold` times 2-fold\n",
    "maxiter = 100 # run a maximum of 10 iterations\n",
    "verbose = 0\n",
    "full_output = True # need to have full output to get the warnflags (see below)\n",
    "outname = \"MODIFIED_SPECTRA/OUT_2D_models/split_nomig_p0.39\" # set file name stub for opt. result files\n",
    "fixed_params = None"
   ]
  },
  {
   "cell_type": "code",
   "execution_count": null,
   "metadata": {
    "collapsed": true
   },
   "outputs": [],
   "source": [
    "%%px --local\n",
    "\n",
    "# set lower and upper bounds to nu1, nu2 and T\n",
    "upper_bound = [1e4, 1e4, 5]\n",
    "lower_bound = [1e-4, 1e-4, 0]"
   ]
  },
  {
   "cell_type": "code",
   "execution_count": null,
   "metadata": {
    "collapsed": true
   },
   "outputs": [],
   "source": [
    "# perturb parameter neutral values\n",
    "p0 = [0.5, 0.5, 0.1] # split into equal proportions at >200,000 generations ago\n",
    "\n",
    "#ar_split_nomig = lbview.map(run_dadi, repeat(p0, 10))"
   ]
  },
  {
   "cell_type": "code",
   "execution_count": 38,
   "metadata": {
    "collapsed": true
   },
   "outputs": [],
   "source": [
    "ar_split_nomig = []\n",
    "\n",
    "for filename in glob(\"OUT_2D_models/split_nomig_p0.39_*dill\"):\n",
    "    ar_split_nomig.append(dill.load(open(filename)))"
   ]
  },
  {
   "cell_type": "code",
   "execution_count": 39,
   "metadata": {
    "collapsed": false
   },
   "outputs": [
    {
     "name": "stdout",
     "output_type": "stream",
     "text": [
      "success 2\n",
      "Maximum number of function evaluations made. 0\n",
      "Maximum number of iterations reached. 8\n",
      "unknown flag 0\n"
     ]
    }
   ],
   "source": [
    "get_flag_count(ar_split_nomig, NM=True)"
   ]
  },
  {
   "cell_type": "code",
   "execution_count": 40,
   "metadata": {
    "collapsed": false
   },
   "outputs": [
    {
     "data": {
      "text/html": [
       "<div>\n",
       "<table border=\"1\" class=\"dataframe\">\n",
       "  <thead>\n",
       "    <tr style=\"text-align: right;\">\n",
       "      <th></th>\n",
       "      <th>nu1_0</th>\n",
       "      <th>nu2_0</th>\n",
       "      <th>T_0</th>\n",
       "      <th>nu1_opt</th>\n",
       "      <th>nu2_opt</th>\n",
       "      <th>T_opt</th>\n",
       "      <th>-logL</th>\n",
       "    </tr>\n",
       "  </thead>\n",
       "  <tbody>\n",
       "    <tr>\n",
       "      <th>2</th>\n",
       "      <td>0.522980</td>\n",
       "      <td>1.638493</td>\n",
       "      <td>0.345880</td>\n",
       "      <td>0.774440</td>\n",
       "      <td>1.569363</td>\n",
       "      <td>0.303603</td>\n",
       "      <td>15661.757259</td>\n",
       "    </tr>\n",
       "    <tr>\n",
       "      <th>0</th>\n",
       "      <td>0.480717</td>\n",
       "      <td>0.160349</td>\n",
       "      <td>0.204501</td>\n",
       "      <td>0.774392</td>\n",
       "      <td>1.569340</td>\n",
       "      <td>0.303584</td>\n",
       "      <td>15661.757264</td>\n",
       "    </tr>\n",
       "    <tr>\n",
       "      <th>4</th>\n",
       "      <td>0.387119</td>\n",
       "      <td>0.288683</td>\n",
       "      <td>0.275343</td>\n",
       "      <td>0.774481</td>\n",
       "      <td>1.569447</td>\n",
       "      <td>0.303619</td>\n",
       "      <td>15661.757270</td>\n",
       "    </tr>\n",
       "    <tr>\n",
       "      <th>8</th>\n",
       "      <td>0.127899</td>\n",
       "      <td>1.657851</td>\n",
       "      <td>0.089208</td>\n",
       "      <td>0.774360</td>\n",
       "      <td>1.569272</td>\n",
       "      <td>0.303573</td>\n",
       "      <td>15661.757467</td>\n",
       "    </tr>\n",
       "    <tr>\n",
       "      <th>1</th>\n",
       "      <td>1.278363</td>\n",
       "      <td>0.455339</td>\n",
       "      <td>0.184210</td>\n",
       "      <td>0.774346</td>\n",
       "      <td>1.568981</td>\n",
       "      <td>0.303566</td>\n",
       "      <td>15661.757471</td>\n",
       "    </tr>\n",
       "    <tr>\n",
       "      <th>7</th>\n",
       "      <td>1.390095</td>\n",
       "      <td>0.222213</td>\n",
       "      <td>0.047402</td>\n",
       "      <td>0.774301</td>\n",
       "      <td>1.569529</td>\n",
       "      <td>0.303547</td>\n",
       "      <td>15661.757681</td>\n",
       "    </tr>\n",
       "    <tr>\n",
       "      <th>3</th>\n",
       "      <td>1.692983</td>\n",
       "      <td>1.090530</td>\n",
       "      <td>0.251938</td>\n",
       "      <td>0.774631</td>\n",
       "      <td>1.570032</td>\n",
       "      <td>0.303679</td>\n",
       "      <td>15661.757815</td>\n",
       "    </tr>\n",
       "    <tr>\n",
       "      <th>9</th>\n",
       "      <td>1.476032</td>\n",
       "      <td>0.207546</td>\n",
       "      <td>0.176224</td>\n",
       "      <td>0.774172</td>\n",
       "      <td>1.568577</td>\n",
       "      <td>0.303500</td>\n",
       "      <td>15661.758359</td>\n",
       "    </tr>\n",
       "    <tr>\n",
       "      <th>5</th>\n",
       "      <td>0.450284</td>\n",
       "      <td>0.641202</td>\n",
       "      <td>0.029197</td>\n",
       "      <td>0.774878</td>\n",
       "      <td>1.569450</td>\n",
       "      <td>0.303776</td>\n",
       "      <td>15661.759269</td>\n",
       "    </tr>\n",
       "    <tr>\n",
       "      <th>6</th>\n",
       "      <td>0.954773</td>\n",
       "      <td>0.770031</td>\n",
       "      <td>0.027065</td>\n",
       "      <td>0.885433</td>\n",
       "      <td>1.692365</td>\n",
       "      <td>0.336491</td>\n",
       "      <td>15713.332985</td>\n",
       "    </tr>\n",
       "  </tbody>\n",
       "</table>\n",
       "</div>"
      ],
      "text/plain": [
       "      nu1_0     nu2_0       T_0   nu1_opt   nu2_opt     T_opt         -logL\n",
       "2  0.522980  1.638493  0.345880  0.774440  1.569363  0.303603  15661.757259\n",
       "0  0.480717  0.160349  0.204501  0.774392  1.569340  0.303584  15661.757264\n",
       "4  0.387119  0.288683  0.275343  0.774481  1.569447  0.303619  15661.757270\n",
       "8  0.127899  1.657851  0.089208  0.774360  1.569272  0.303573  15661.757467\n",
       "1  1.278363  0.455339  0.184210  0.774346  1.568981  0.303566  15661.757471\n",
       "7  1.390095  0.222213  0.047402  0.774301  1.569529  0.303547  15661.757681\n",
       "3  1.692983  1.090530  0.251938  0.774631  1.570032  0.303679  15661.757815\n",
       "9  1.476032  0.207546  0.176224  0.774172  1.568577  0.303500  15661.758359\n",
       "5  0.450284  0.641202  0.029197  0.774878  1.569450  0.303776  15661.759269\n",
       "6  0.954773  0.770031  0.027065  0.885433  1.692365  0.336491  15713.332985"
      ]
     },
     "execution_count": 40,
     "metadata": {},
     "output_type": "execute_result"
    }
   ],
   "source": [
    "returned = [flatten(out)[:7] for out in ar_split_nomig]\n",
    "\n",
    "df = pd.DataFrame(data=returned, \\\n",
    "                  columns=['nu1_0','nu2_0', 'T_0', 'nu1_opt', 'nu2_opt', 'T_opt', '-logL'])\n",
    "\n",
    "df.sort_values(by='-logL', ascending=True)"
   ]
  },
  {
   "cell_type": "markdown",
   "metadata": {
    "collapsed": true
   },
   "source": [
    "The inferred $T$ is the same as before. So the degree of correction has no influence on the inferred divergence time. The divergence time was the only parameter that was varied in the null models used for optimising _p_. "
   ]
  },
  {
   "cell_type": "markdown",
   "metadata": {},
   "source": [
    "# divergence with migration"
   ]
  },
  {
   "cell_type": "code",
   "execution_count": 18,
   "metadata": {
    "collapsed": true
   },
   "outputs": [],
   "source": [
    "%%px --local\n",
    "\n",
    "func_ex = dadi.Numerics.make_extrap_log_func(dadi.Demographics2D.split_mig)"
   ]
  },
  {
   "cell_type": "code",
   "execution_count": 19,
   "metadata": {
    "collapsed": true
   },
   "outputs": [],
   "source": [
    "%%px --local\n",
    "\n",
    "# set up global variables on engines required for run_dadi function call\n",
    "\n",
    "ns = sfs2d.sample_sizes # both populations have the same sample size\n",
    "# setting the smallest grid size slightly larger than the largest population sample size (36)\n",
    "pts_l = [40, 50, 60]\n",
    "dadi_opt_func = dadi.Inference.optimize_log_fmin # uses Nelder-Mead algorithm\n",
    "sfs = sfs2d\n",
    "perturb = True\n",
    "fold = 2 # perturb randomly up to `fold` times 2-fold\n",
    "maxiter = 100 # run a maximum of 10 iterations\n",
    "verbose = 0\n",
    "full_output = True # need to have full output to get the warnflags (see below)\n",
    "outname = \"MODIFIED_SPECTRA/OUT_2D_models/split_mig\" # set file name stub for opt. result files\n",
    "fixed_params = None"
   ]
  },
  {
   "cell_type": "code",
   "execution_count": 20,
   "metadata": {
    "collapsed": true
   },
   "outputs": [],
   "source": [
    "%%px --local\n",
    "\n",
    "# set lower and upper bounds to nu1, nu2, T, m\n",
    "upper_bound = [1e4, 1e4, 2, 10]\n",
    "lower_bound = [1e-4, 1e-4, 0, 0]"
   ]
  },
  {
   "cell_type": "code",
   "execution_count": 21,
   "metadata": {
    "collapsed": true
   },
   "outputs": [],
   "source": [
    "# nu1, nu2, T, m:\n",
    "p0 = [0.5, 0.5, 0.1, 0.1]\n",
    "\n",
    "#ar_split_mig = lbview.map(run_dadi, repeat(p0, 10))"
   ]
  },
  {
   "cell_type": "code",
   "execution_count": 22,
   "metadata": {
    "collapsed": false
   },
   "outputs": [
    {
     "name": "stdout",
     "output_type": "stream",
     "text": [
      "-rw-rw-r-- 1 claudius 314 Jun  1 20:26 OUT_2D_models/split_mig_0.1291_0.6481_0.1084_0.2316.dill\r\n",
      "-rw-rw-r-- 1 claudius 314 Jun  1 20:26 OUT_2D_models/split_mig_0.1372_0.3579_0.2789_0.1646.dill\r\n",
      "-rw-rw-r-- 1 claudius 314 Jun  1 20:26 OUT_2D_models/split_mig_0.2979_1.1990_0.0600_0.2557.dill\r\n",
      "-rw-rw-r-- 1 claudius 314 Jun  1 20:26 OUT_2D_models/split_mig_0.3232_1.4743_0.2145_0.0439.dill\r\n",
      "-rw-rw-r-- 1 claudius 315 Jun  1 20:33 OUT_2D_models/split_mig_0.3813_7.7662_1.9800_0.6584.dill\r\n",
      "-rw-rw-r-- 1 claudius 314 Jun  1 20:26 OUT_2D_models/split_mig_0.3817_0.4182_0.2343_0.0251.dill\r\n",
      "-rw-rw-r-- 1 claudius 315 Jun  1 20:33 OUT_2D_models/split_mig_0.4101_0.9763_1.9800_0.1383.dill\r\n",
      "-rw-rw-r-- 1 claudius 314 Jun  1 20:32 OUT_2D_models/split_mig_0.4121_5.6440_1.9800_0.0801.dill\r\n",
      "-rw-rw-r-- 1 claudius 314 Jun  1 20:26 OUT_2D_models/split_mig_0.6054_0.6593_0.1584_0.3502.dill\r\n",
      "-rw-rw-r-- 1 claudius 314 Jun  1 20:26 OUT_2D_models/split_mig_0.6142_1.2180_0.2208_0.1924.dill\r\n",
      "-rw-rw-r-- 1 claudius 314 Jun  1 20:26 OUT_2D_models/split_mig_0.6938_0.6460_0.0337_0.1346.dill\r\n",
      "-rw-rw-r-- 1 claudius 315 Jun  1 20:32 OUT_2D_models/split_mig_0.7306_6.8095_1.3013_0.4164.dill\r\n",
      "-rw-rw-r-- 1 claudius 314 Jun  1 20:32 OUT_2D_models/split_mig_0.7926_1.5026_0.4571_0.2052.dill\r\n",
      "-rw-rw-r-- 1 claudius 314 Jun  1 20:26 OUT_2D_models/split_mig_0.9250_0.2040_0.0504_0.0583.dill\r\n",
      "-rw-rw-r-- 1 claudius 315 Jun  1 20:33 OUT_2D_models/split_mig_1.0380_3.7516_1.9800_0.0573.dill\r\n",
      "-rw-rw-r-- 1 claudius 314 Jun  1 20:26 OUT_2D_models/split_mig_1.1614_1.7857_0.1006_0.2695.dill\r\n",
      "-rw-rw-r-- 1 claudius 315 Jun  1 20:32 OUT_2D_models/split_mig_1.8833_2.5857_0.4769_0.0706.dill\r\n",
      "-rw-rw-r-- 1 claudius 314 Jun  1 20:32 OUT_2D_models/split_mig_2.1977_10.1219_1.9800_0.1162.dill\r\n",
      "-rw-rw-r-- 1 claudius 315 Jun  1 20:32 OUT_2D_models/split_mig_3.1205_2.2168_0.8782_0.3363.dill\r\n",
      "-rw-rw-r-- 1 claudius 315 Jun  1 20:33 OUT_2D_models/split_mig_5.3425_1.2061_1.6096_0.1260.dill\r\n",
      "-rw-rw-r-- 1 claudius 364 Jun  3 15:51 OUT_2D_models/split_mig_iso_mig_11.0126_22.7709_5.9400_0.0437_0.3119_0.1956_0.1092.dill\r\n",
      "-rw-rw-r-- 1 claudius 364 Jun  3 15:51 OUT_2D_models/split_mig_iso_mig_1.2054_5.0738_5.9400_0.0214_0.3336_0.1019_0.0275.dill\r\n",
      "-rw-rw-r-- 1 claudius 364 Jun  3 19:01 OUT_2D_models/split_mig_iso_mig_1.7164_3.8718_7.9200_0.0218_0.2159_0.0908_0.0176.dill\r\n",
      "-rw-rw-r-- 1 claudius 364 Jun  3 15:51 OUT_2D_models/split_mig_iso_mig_2.2342_3.2395_5.9400_0.0919_0.2080_0.1652_0.0786.dill\r\n",
      "-rw-rw-r-- 1 claudius 364 Jun  3 15:50 OUT_2D_models/split_mig_iso_mig_2.3335_15.2576_1.8862_0.1763_0.0680_0.3384_0.1045.dill\r\n",
      "-rw-rw-r-- 1 claudius 364 Jun  3 19:01 OUT_2D_models/split_mig_iso_mig_2.6152_14.5322_6.1771_0.0384_0.1613_0.1163_0.0199.dill\r\n",
      "-rw-rw-r-- 1 claudius 364 Jun  3 19:00 OUT_2D_models/split_mig_iso_mig_2.6470_3.9437_3.9926_0.0634_0.3447_0.2211_0.0100.dill\r\n",
      "-rw-rw-r-- 1 claudius 364 Jun  3 19:01 OUT_2D_models/split_mig_iso_mig_2.8052_5.0529_4.0141_0.0299_0.2311_0.2026_0.0141.dill\r\n",
      "-rw-rw-r-- 1 claudius 364 Jun  3 19:01 OUT_2D_models/split_mig_iso_mig_2.8618_6.1742_6.2063_0.0231_0.1944_0.1075_0.0196.dill\r\n",
      "-rw-rw-r-- 1 claudius 364 Jun  3 19:01 OUT_2D_models/split_mig_iso_mig_3.3672_5.8737_5.1818_0.0212_0.1317_0.1343_0.0126.dill\r\n",
      "-rw-rw-r-- 1 claudius 364 Jun  3 19:01 OUT_2D_models/split_mig_iso_mig_3.5815_4.3860_7.9200_0.0402_0.1995_0.0909_0.0063.dill\r\n",
      "-rw-rw-r-- 1 claudius 364 Jun  3 15:52 OUT_2D_models/split_mig_iso_mig_4.4204_17.3910_3.3502_0.1423_0.3064_0.2099_0.0165.dill\r\n",
      "-rw-rw-r-- 1 claudius 364 Jun  3 19:01 OUT_2D_models/split_mig_iso_mig_4.6896_4.9306_7.9200_0.0368_0.2436_0.1309_0.0196.dill\r\n",
      "-rw-rw-r-- 1 claudius 364 Jun  3 19:02 OUT_2D_models/split_mig_iso_mig_4.8485_7.8443_6.5328_0.0656_0.2918_0.1493_0.0061.dill\r\n",
      "-rw-rw-r-- 1 claudius 364 Jun  3 15:52 OUT_2D_models/split_mig_iso_mig_5.1750_4.8629_4.8988_0.0283_0.4760_0.0538_0.0625.dill\r\n",
      "-rw-rw-r-- 1 claudius 364 Jun  3 19:02 OUT_2D_models/split_mig_iso_mig_5.9582_10.0711_7.9200_0.0709_0.1852_0.1687_0.0182.dill\r\n",
      "-rw-rw-r-- 1 claudius 364 Jun  3 15:51 OUT_2D_models/split_mig_iso_mig_6.7436_2.1538_5.9400_0.0161_0.1946_0.0559_0.1092.dill\r\n",
      "-rw-rw-r-- 1 claudius 364 Jun  3 15:52 OUT_2D_models/split_mig_iso_mig_6.9803_23.0350_5.9400_0.0180_0.4691_0.0579_0.0198.dill\r\n",
      "-rw-rw-r-- 1 claudius 364 Jun  3 15:51 OUT_2D_models/split_mig_iso_mig_8.0423_3.9836_4.7871_0.0895_0.1220_0.1626_0.0149.dill\r\n",
      "-rw-rw-r-- 1 claudius 364 Jun  3 15:52 OUT_2D_models/split_mig_iso_mig_8.3624_7.1749_4.3187_0.0305_0.3143_0.0298_0.0465.dill\r\n"
     ]
    }
   ],
   "source": [
    "% ll OUT_2D_models/split_mig_[!p]*dill"
   ]
  },
  {
   "cell_type": "code",
   "execution_count": 25,
   "metadata": {
    "collapsed": false
   },
   "outputs": [
    {
     "name": "stdout",
     "output_type": "stream",
     "text": [
      "-rw-rw-r-- 1 claudius 314 Jun  1 20:26 OUT_2D_models/split_mig_0.1291_0.6481_0.1084_0.2316.dill\r\n",
      "-rw-rw-r-- 1 claudius 314 Jun  1 20:26 OUT_2D_models/split_mig_0.1372_0.3579_0.2789_0.1646.dill\r\n",
      "-rw-rw-r-- 1 claudius 314 Jun  1 20:26 OUT_2D_models/split_mig_0.2979_1.1990_0.0600_0.2557.dill\r\n",
      "-rw-rw-r-- 1 claudius 314 Jun  1 20:26 OUT_2D_models/split_mig_0.3232_1.4743_0.2145_0.0439.dill\r\n",
      "-rw-rw-r-- 1 claudius 315 Jun  1 20:33 OUT_2D_models/split_mig_0.3813_7.7662_1.9800_0.6584.dill\r\n",
      "-rw-rw-r-- 1 claudius 314 Jun  1 20:26 OUT_2D_models/split_mig_0.3817_0.4182_0.2343_0.0251.dill\r\n",
      "-rw-rw-r-- 1 claudius 315 Jun  1 20:33 OUT_2D_models/split_mig_0.4101_0.9763_1.9800_0.1383.dill\r\n",
      "-rw-rw-r-- 1 claudius 314 Jun  1 20:32 OUT_2D_models/split_mig_0.4121_5.6440_1.9800_0.0801.dill\r\n",
      "-rw-rw-r-- 1 claudius 314 Jun  1 20:26 OUT_2D_models/split_mig_0.6054_0.6593_0.1584_0.3502.dill\r\n",
      "-rw-rw-r-- 1 claudius 314 Jun  1 20:26 OUT_2D_models/split_mig_0.6142_1.2180_0.2208_0.1924.dill\r\n",
      "-rw-rw-r-- 1 claudius 314 Jun  1 20:26 OUT_2D_models/split_mig_0.6938_0.6460_0.0337_0.1346.dill\r\n",
      "-rw-rw-r-- 1 claudius 315 Jun  1 20:32 OUT_2D_models/split_mig_0.7306_6.8095_1.3013_0.4164.dill\r\n",
      "-rw-rw-r-- 1 claudius 314 Jun  1 20:32 OUT_2D_models/split_mig_0.7926_1.5026_0.4571_0.2052.dill\r\n",
      "-rw-rw-r-- 1 claudius 314 Jun  1 20:26 OUT_2D_models/split_mig_0.9250_0.2040_0.0504_0.0583.dill\r\n",
      "-rw-rw-r-- 1 claudius 315 Jun  1 20:33 OUT_2D_models/split_mig_1.0380_3.7516_1.9800_0.0573.dill\r\n",
      "-rw-rw-r-- 1 claudius 314 Jun  1 20:26 OUT_2D_models/split_mig_1.1614_1.7857_0.1006_0.2695.dill\r\n",
      "-rw-rw-r-- 1 claudius 315 Jun  1 20:32 OUT_2D_models/split_mig_1.8833_2.5857_0.4769_0.0706.dill\r\n",
      "-rw-rw-r-- 1 claudius 314 Jun  1 20:32 OUT_2D_models/split_mig_2.1977_10.1219_1.9800_0.1162.dill\r\n",
      "-rw-rw-r-- 1 claudius 315 Jun  1 20:32 OUT_2D_models/split_mig_3.1205_2.2168_0.8782_0.3363.dill\r\n",
      "-rw-rw-r-- 1 claudius 315 Jun  1 20:33 OUT_2D_models/split_mig_5.3425_1.2061_1.6096_0.1260.dill\r\n"
     ]
    }
   ],
   "source": [
    "% ll OUT_2D_models/split_mig_[0-9]*dill"
   ]
  },
  {
   "cell_type": "code",
   "execution_count": 26,
   "metadata": {
    "collapsed": true
   },
   "outputs": [],
   "source": [
    "ar_split_mig = []\n",
    "\n",
    "for filename in glob(\"OUT_2D_models/split_mig_[0-9]*dill\"):\n",
    "    ar_split_mig.append(dill.load(open(filename)))"
   ]
  },
  {
   "cell_type": "code",
   "execution_count": 27,
   "metadata": {
    "collapsed": false
   },
   "outputs": [
    {
     "name": "stdout",
     "output_type": "stream",
     "text": [
      "success 10\n",
      "Maximum number of function evaluations made. 0\n",
      "Maximum number of iterations reached. 10\n",
      "unknown flag 0\n"
     ]
    }
   ],
   "source": [
    "get_flag_count(ar_split_mig, NM=True)"
   ]
  },
  {
   "cell_type": "code",
   "execution_count": 28,
   "metadata": {
    "collapsed": false
   },
   "outputs": [
    {
     "data": {
      "text/html": [
       "<div>\n",
       "<table border=\"1\" class=\"dataframe\">\n",
       "  <thead>\n",
       "    <tr style=\"text-align: right;\">\n",
       "      <th></th>\n",
       "      <th>nu1_0</th>\n",
       "      <th>nu2_0</th>\n",
       "      <th>T_0</th>\n",
       "      <th>m_0</th>\n",
       "      <th>nu1_opt</th>\n",
       "      <th>nu2_opt</th>\n",
       "      <th>T_opt</th>\n",
       "      <th>m_opt</th>\n",
       "      <th>-logL</th>\n",
       "    </tr>\n",
       "  </thead>\n",
       "  <tbody>\n",
       "    <tr>\n",
       "      <th>12</th>\n",
       "      <td>0.410126</td>\n",
       "      <td>0.976289</td>\n",
       "      <td>1.980000</td>\n",
       "      <td>0.138307</td>\n",
       "      <td>1.584756</td>\n",
       "      <td>2.862212</td>\n",
       "      <td>1.726329</td>\n",
       "      <td>0.210858</td>\n",
       "      <td>12809.710148</td>\n",
       "    </tr>\n",
       "    <tr>\n",
       "      <th>6</th>\n",
       "      <td>1.037985</td>\n",
       "      <td>3.751629</td>\n",
       "      <td>1.980000</td>\n",
       "      <td>0.057275</td>\n",
       "      <td>1.587910</td>\n",
       "      <td>2.867287</td>\n",
       "      <td>1.730633</td>\n",
       "      <td>0.210333</td>\n",
       "      <td>12809.711143</td>\n",
       "    </tr>\n",
       "    <tr>\n",
       "      <th>9</th>\n",
       "      <td>0.792582</td>\n",
       "      <td>1.502558</td>\n",
       "      <td>0.457088</td>\n",
       "      <td>0.205240</td>\n",
       "      <td>1.589701</td>\n",
       "      <td>2.870222</td>\n",
       "      <td>1.735177</td>\n",
       "      <td>0.210359</td>\n",
       "      <td>12809.715071</td>\n",
       "    </tr>\n",
       "    <tr>\n",
       "      <th>8</th>\n",
       "      <td>1.883348</td>\n",
       "      <td>2.585737</td>\n",
       "      <td>0.476910</td>\n",
       "      <td>0.070592</td>\n",
       "      <td>1.589471</td>\n",
       "      <td>2.871227</td>\n",
       "      <td>1.734395</td>\n",
       "      <td>0.210454</td>\n",
       "      <td>12809.719004</td>\n",
       "    </tr>\n",
       "    <tr>\n",
       "      <th>7</th>\n",
       "      <td>3.120532</td>\n",
       "      <td>2.216834</td>\n",
       "      <td>0.878223</td>\n",
       "      <td>0.336300</td>\n",
       "      <td>1.588236</td>\n",
       "      <td>2.871408</td>\n",
       "      <td>1.734567</td>\n",
       "      <td>0.210433</td>\n",
       "      <td>12809.720773</td>\n",
       "    </tr>\n",
       "    <tr>\n",
       "      <th>3</th>\n",
       "      <td>5.342499</td>\n",
       "      <td>1.206116</td>\n",
       "      <td>1.609641</td>\n",
       "      <td>0.126021</td>\n",
       "      <td>1.574618</td>\n",
       "      <td>2.844696</td>\n",
       "      <td>1.705099</td>\n",
       "      <td>0.211724</td>\n",
       "      <td>12809.729668</td>\n",
       "    </tr>\n",
       "    <tr>\n",
       "      <th>16</th>\n",
       "      <td>0.381319</td>\n",
       "      <td>7.766225</td>\n",
       "      <td>1.980000</td>\n",
       "      <td>0.658405</td>\n",
       "      <td>1.589798</td>\n",
       "      <td>2.869340</td>\n",
       "      <td>1.732618</td>\n",
       "      <td>0.210669</td>\n",
       "      <td>12809.734974</td>\n",
       "    </tr>\n",
       "    <tr>\n",
       "      <th>13</th>\n",
       "      <td>0.730603</td>\n",
       "      <td>6.809501</td>\n",
       "      <td>1.301306</td>\n",
       "      <td>0.416379</td>\n",
       "      <td>1.571368</td>\n",
       "      <td>2.838305</td>\n",
       "      <td>1.701136</td>\n",
       "      <td>0.212217</td>\n",
       "      <td>12809.738733</td>\n",
       "    </tr>\n",
       "    <tr>\n",
       "      <th>15</th>\n",
       "      <td>0.614214</td>\n",
       "      <td>1.217983</td>\n",
       "      <td>0.220814</td>\n",
       "      <td>0.192430</td>\n",
       "      <td>1.572018</td>\n",
       "      <td>2.838641</td>\n",
       "      <td>1.703611</td>\n",
       "      <td>0.211194</td>\n",
       "      <td>12809.910434</td>\n",
       "    </tr>\n",
       "    <tr>\n",
       "      <th>14</th>\n",
       "      <td>0.412119</td>\n",
       "      <td>5.644039</td>\n",
       "      <td>1.980000</td>\n",
       "      <td>0.080137</td>\n",
       "      <td>1.525121</td>\n",
       "      <td>2.763772</td>\n",
       "      <td>1.619169</td>\n",
       "      <td>0.216784</td>\n",
       "      <td>12810.362825</td>\n",
       "    </tr>\n",
       "  </tbody>\n",
       "</table>\n",
       "</div>"
      ],
      "text/plain": [
       "       nu1_0     nu2_0       T_0       m_0   nu1_opt   nu2_opt     T_opt  \\\n",
       "12  0.410126  0.976289  1.980000  0.138307  1.584756  2.862212  1.726329   \n",
       "6   1.037985  3.751629  1.980000  0.057275  1.587910  2.867287  1.730633   \n",
       "9   0.792582  1.502558  0.457088  0.205240  1.589701  2.870222  1.735177   \n",
       "8   1.883348  2.585737  0.476910  0.070592  1.589471  2.871227  1.734395   \n",
       "7   3.120532  2.216834  0.878223  0.336300  1.588236  2.871408  1.734567   \n",
       "3   5.342499  1.206116  1.609641  0.126021  1.574618  2.844696  1.705099   \n",
       "16  0.381319  7.766225  1.980000  0.658405  1.589798  2.869340  1.732618   \n",
       "13  0.730603  6.809501  1.301306  0.416379  1.571368  2.838305  1.701136   \n",
       "15  0.614214  1.217983  0.220814  0.192430  1.572018  2.838641  1.703611   \n",
       "14  0.412119  5.644039  1.980000  0.080137  1.525121  2.763772  1.619169   \n",
       "\n",
       "       m_opt         -logL  \n",
       "12  0.210858  12809.710148  \n",
       "6   0.210333  12809.711143  \n",
       "9   0.210359  12809.715071  \n",
       "8   0.210454  12809.719004  \n",
       "7   0.210433  12809.720773  \n",
       "3   0.211724  12809.729668  \n",
       "16  0.210669  12809.734974  \n",
       "13  0.212217  12809.738733  \n",
       "15  0.211194  12809.910434  \n",
       "14  0.216784  12810.362825  "
      ]
     },
     "execution_count": 28,
     "metadata": {},
     "output_type": "execute_result"
    }
   ],
   "source": [
    "# get  optimisation results\n",
    "returned = [flatten(out)[:9] for out in ar_split_mig]\n",
    "\n",
    "df = pd.DataFrame(data=returned, \\\n",
    "                  columns=['nu1_0','nu2_0', 'T_0', 'm_0', 'nu1_opt', 'nu2_opt', 'T_opt', 'm_opt', '-logL'])\n",
    "\n",
    "df.sort_values(by='-logL', ascending=True).head(10)"
   ]
  },
  {
   "cell_type": "code",
   "execution_count": null,
   "metadata": {
    "collapsed": true
   },
   "outputs": [],
   "source": [
    "%%px\n",
    "\n",
    "maxiter = 300"
   ]
  },
  {
   "cell_type": "code",
   "execution_count": null,
   "metadata": {
    "collapsed": true
   },
   "outputs": [],
   "source": [
    "# nu1, nu2, T, m:\n",
    "p0 = [1.5, 2.8, 1.7, 0.2]\n",
    "\n",
    "#ar_split_mig = lbview.map(run_dadi, repeat(p0, 10))"
   ]
  },
  {
   "cell_type": "code",
   "execution_count": 74,
   "metadata": {
    "collapsed": false
   },
   "outputs": [
    {
     "name": "stdout",
     "output_type": "stream",
     "text": [
      "success 10\n",
      "Maximum number of function evaluations made. 0\n",
      "Maximum number of iterations reached. 10\n",
      "unknown flag 0\n"
     ]
    }
   ],
   "source": [
    "get_flag_count(ar_split_mig, NM=True)"
   ]
  },
  {
   "cell_type": "code",
   "execution_count": 75,
   "metadata": {
    "collapsed": true
   },
   "outputs": [],
   "source": [
    "ar_split_mig = []\n",
    "\n",
    "for filename in glob(\"OUT_2D_models/split_mig_[!p]*dill\"):\n",
    "    ar_split_mig.append(dill.load(open(filename)))"
   ]
  },
  {
   "cell_type": "code",
   "execution_count": 29,
   "metadata": {
    "collapsed": false
   },
   "outputs": [
    {
     "data": {
      "text/html": [
       "<div>\n",
       "<table border=\"1\" class=\"dataframe\">\n",
       "  <thead>\n",
       "    <tr style=\"text-align: right;\">\n",
       "      <th></th>\n",
       "      <th>nu1_0</th>\n",
       "      <th>nu2_0</th>\n",
       "      <th>T_0</th>\n",
       "      <th>m_0</th>\n",
       "      <th>nu1_opt</th>\n",
       "      <th>nu2_opt</th>\n",
       "      <th>T_opt</th>\n",
       "      <th>m_opt</th>\n",
       "      <th>-logL</th>\n",
       "    </tr>\n",
       "  </thead>\n",
       "  <tbody>\n",
       "    <tr>\n",
       "      <th>12</th>\n",
       "      <td>0.410126</td>\n",
       "      <td>0.976289</td>\n",
       "      <td>1.980000</td>\n",
       "      <td>0.138307</td>\n",
       "      <td>1.584756</td>\n",
       "      <td>2.862212</td>\n",
       "      <td>1.726329</td>\n",
       "      <td>0.210858</td>\n",
       "      <td>12809.710148</td>\n",
       "    </tr>\n",
       "    <tr>\n",
       "      <th>6</th>\n",
       "      <td>1.037985</td>\n",
       "      <td>3.751629</td>\n",
       "      <td>1.980000</td>\n",
       "      <td>0.057275</td>\n",
       "      <td>1.587910</td>\n",
       "      <td>2.867287</td>\n",
       "      <td>1.730633</td>\n",
       "      <td>0.210333</td>\n",
       "      <td>12809.711143</td>\n",
       "    </tr>\n",
       "    <tr>\n",
       "      <th>9</th>\n",
       "      <td>0.792582</td>\n",
       "      <td>1.502558</td>\n",
       "      <td>0.457088</td>\n",
       "      <td>0.205240</td>\n",
       "      <td>1.589701</td>\n",
       "      <td>2.870222</td>\n",
       "      <td>1.735177</td>\n",
       "      <td>0.210359</td>\n",
       "      <td>12809.715071</td>\n",
       "    </tr>\n",
       "    <tr>\n",
       "      <th>8</th>\n",
       "      <td>1.883348</td>\n",
       "      <td>2.585737</td>\n",
       "      <td>0.476910</td>\n",
       "      <td>0.070592</td>\n",
       "      <td>1.589471</td>\n",
       "      <td>2.871227</td>\n",
       "      <td>1.734395</td>\n",
       "      <td>0.210454</td>\n",
       "      <td>12809.719004</td>\n",
       "    </tr>\n",
       "    <tr>\n",
       "      <th>7</th>\n",
       "      <td>3.120532</td>\n",
       "      <td>2.216834</td>\n",
       "      <td>0.878223</td>\n",
       "      <td>0.336300</td>\n",
       "      <td>1.588236</td>\n",
       "      <td>2.871408</td>\n",
       "      <td>1.734567</td>\n",
       "      <td>0.210433</td>\n",
       "      <td>12809.720773</td>\n",
       "    </tr>\n",
       "    <tr>\n",
       "      <th>3</th>\n",
       "      <td>5.342499</td>\n",
       "      <td>1.206116</td>\n",
       "      <td>1.609641</td>\n",
       "      <td>0.126021</td>\n",
       "      <td>1.574618</td>\n",
       "      <td>2.844696</td>\n",
       "      <td>1.705099</td>\n",
       "      <td>0.211724</td>\n",
       "      <td>12809.729668</td>\n",
       "    </tr>\n",
       "    <tr>\n",
       "      <th>16</th>\n",
       "      <td>0.381319</td>\n",
       "      <td>7.766225</td>\n",
       "      <td>1.980000</td>\n",
       "      <td>0.658405</td>\n",
       "      <td>1.589798</td>\n",
       "      <td>2.869340</td>\n",
       "      <td>1.732618</td>\n",
       "      <td>0.210669</td>\n",
       "      <td>12809.734974</td>\n",
       "    </tr>\n",
       "    <tr>\n",
       "      <th>13</th>\n",
       "      <td>0.730603</td>\n",
       "      <td>6.809501</td>\n",
       "      <td>1.301306</td>\n",
       "      <td>0.416379</td>\n",
       "      <td>1.571368</td>\n",
       "      <td>2.838305</td>\n",
       "      <td>1.701136</td>\n",
       "      <td>0.212217</td>\n",
       "      <td>12809.738733</td>\n",
       "    </tr>\n",
       "    <tr>\n",
       "      <th>15</th>\n",
       "      <td>0.614214</td>\n",
       "      <td>1.217983</td>\n",
       "      <td>0.220814</td>\n",
       "      <td>0.192430</td>\n",
       "      <td>1.572018</td>\n",
       "      <td>2.838641</td>\n",
       "      <td>1.703611</td>\n",
       "      <td>0.211194</td>\n",
       "      <td>12809.910434</td>\n",
       "    </tr>\n",
       "    <tr>\n",
       "      <th>14</th>\n",
       "      <td>0.412119</td>\n",
       "      <td>5.644039</td>\n",
       "      <td>1.980000</td>\n",
       "      <td>0.080137</td>\n",
       "      <td>1.525121</td>\n",
       "      <td>2.763772</td>\n",
       "      <td>1.619169</td>\n",
       "      <td>0.216784</td>\n",
       "      <td>12810.362825</td>\n",
       "    </tr>\n",
       "  </tbody>\n",
       "</table>\n",
       "</div>"
      ],
      "text/plain": [
       "       nu1_0     nu2_0       T_0       m_0   nu1_opt   nu2_opt     T_opt  \\\n",
       "12  0.410126  0.976289  1.980000  0.138307  1.584756  2.862212  1.726329   \n",
       "6   1.037985  3.751629  1.980000  0.057275  1.587910  2.867287  1.730633   \n",
       "9   0.792582  1.502558  0.457088  0.205240  1.589701  2.870222  1.735177   \n",
       "8   1.883348  2.585737  0.476910  0.070592  1.589471  2.871227  1.734395   \n",
       "7   3.120532  2.216834  0.878223  0.336300  1.588236  2.871408  1.734567   \n",
       "3   5.342499  1.206116  1.609641  0.126021  1.574618  2.844696  1.705099   \n",
       "16  0.381319  7.766225  1.980000  0.658405  1.589798  2.869340  1.732618   \n",
       "13  0.730603  6.809501  1.301306  0.416379  1.571368  2.838305  1.701136   \n",
       "15  0.614214  1.217983  0.220814  0.192430  1.572018  2.838641  1.703611   \n",
       "14  0.412119  5.644039  1.980000  0.080137  1.525121  2.763772  1.619169   \n",
       "\n",
       "       m_opt         -logL  \n",
       "12  0.210858  12809.710148  \n",
       "6   0.210333  12809.711143  \n",
       "9   0.210359  12809.715071  \n",
       "8   0.210454  12809.719004  \n",
       "7   0.210433  12809.720773  \n",
       "3   0.211724  12809.729668  \n",
       "16  0.210669  12809.734974  \n",
       "13  0.212217  12809.738733  \n",
       "15  0.211194  12809.910434  \n",
       "14  0.216784  12810.362825  "
      ]
     },
     "execution_count": 29,
     "metadata": {},
     "output_type": "execute_result"
    }
   ],
   "source": [
    "# get \"unsuccessfull\" optimisations\n",
    "returned = [flatten(out)[:9] for out in ar_split_mig]\n",
    "\n",
    "df = pd.DataFrame(data=returned, \\\n",
    "                  columns=['nu1_0','nu2_0', 'T_0', 'm_0', 'nu1_opt', 'nu2_opt', 'T_opt', 'm_opt', '-logL'])\n",
    "\n",
    "df.sort_values(by='-logL', ascending=True).head(10)"
   ]
  },
  {
   "cell_type": "markdown",
   "metadata": {
    "collapsed": true
   },
   "source": [
    "The divergence time $T$ inferred with the uncorrected spectrum was only 0.92 ($2N_a$ generations)."
   ]
  },
  {
   "cell_type": "markdown",
   "metadata": {},
   "source": [
    "| parameter | uncorrected | corrected |\n",
    "| :-------: | ----------- | --------- |\n",
    "| $\\nu_1$   | 0.994185    | 1.584756  |\n",
    "| $\\nu_2$   | 1.766127    | 2.862212  |\n",
    "| T         | 0.922632    | 1.726329  |\n",
    "| m         | 0.250688    | 0.210858  |\n",
    "| -logL     | 18574       | 12809     |"
   ]
  },
  {
   "cell_type": "markdown",
   "metadata": {},
   "source": [
    "The fact that with the corrected spectrum higher population sizes are inferred makes sense, since the correction shifts counts from higher frequency to lower frequency variants and a proportional increase in low frequency variants is the effect of population increase on the SFS. The almost doubling of the divergence time and reduction in migration is less obvious to me, but note that these parameters are relative to the $N_a$ and if inferred $N_a$ changed proportionally, then parameter values in absolute units may not be that divergent (see below)."
   ]
  },
  {
   "cell_type": "markdown",
   "metadata": {},
   "source": [
    "## Interpretation"
   ]
  },
  {
   "cell_type": "code",
   "execution_count": 30,
   "metadata": {
    "collapsed": false
   },
   "outputs": [
    {
     "data": {
      "text/plain": [
       "array([ 1.58475598,  2.86221207,  1.72632914,  0.2108576 ])"
      ]
     },
     "execution_count": 30,
     "metadata": {},
     "output_type": "execute_result"
    }
   ],
   "source": [
    "popt = np.array(df.sort_values(by='-logL', ascending=True).iloc[0, 4:8])\n",
    "popt"
   ]
  },
  {
   "cell_type": "code",
   "execution_count": 31,
   "metadata": {
    "collapsed": false
   },
   "outputs": [
    {
     "data": {
      "text/plain": [
       "-12809.710148444021"
      ]
     },
     "execution_count": 31,
     "metadata": {},
     "output_type": "execute_result"
    }
   ],
   "source": [
    "# get unscaled, best-fit model spectrum\n",
    "model = func_ex(popt, ns, pts_l)\n",
    "\n",
    "# get logL of best-fit model\n",
    "ll_model = dadi.Inference.ll_multinom(model, sfs2d)\n",
    "ll_model"
   ]
  },
  {
   "cell_type": "code",
   "execution_count": 32,
   "metadata": {
    "collapsed": false
   },
   "outputs": [
    {
     "name": "stdout",
     "output_type": "stream",
     "text": [
      "The optimal value of theta per site for the ancestral population is 0.0037.\n"
     ]
    }
   ],
   "source": [
    "# get theta\n",
    "theta = dadi.Inference.optimal_sfs_scaling(model, sfs2d)\n",
    "# get total sequence length in spectrum\n",
    "L = sfs2d.data.sum()\n",
    "# get theta per site\n",
    "print \"The optimal value of theta per site for the ancestral population is {0:.4f}.\".format(theta/L)"
   ]
  },
  {
   "cell_type": "code",
   "execution_count": 33,
   "metadata": {
    "collapsed": false
   },
   "outputs": [
    {
     "name": "stdout",
     "output_type": "stream",
     "text": [
      "The total sequence length for the 2D spectrum is 1,130,775.\n",
      "The effective size of the ancestral population of ery and par (in number of diploid individuals) implied by this theta is:\n",
      " 308,029.\n"
     ]
    }
   ],
   "source": [
    "mu = 3e-9 # assumed per generation per site mutation rate\n",
    "print \"The total sequence length for the 2D spectrum is {0:,}.\".format(int(L))\n",
    "N_ref = theta/L/mu/4\n",
    "print \"The effective size of the ancestral population of ery and par (in number of diploid individuals) implied by this theta is:\\n {0:,}.\".format(int(N_ref))"
   ]
  },
  {
   "cell_type": "markdown",
   "metadata": {},
   "source": [
    "The uncorrected spectrum inferred an ancestral population size of 468,295."
   ]
  },
  {
   "cell_type": "code",
   "execution_count": 34,
   "metadata": {
    "collapsed": false
   },
   "outputs": [
    {
     "name": "stdout",
     "output_type": "stream",
     "text": [
      "The ancestral population split apart 1,063,520 generation ago. Since then, ERY and PAR had a constant population size of 488,151 and 881,645, respectively. Since the split, a fraction of 2.16e-07 of the population size of ERY were made up each generation of new immigrant individuals from PAR and a fraction of 1.20e-07 of the population size of PAR were made up each generation of new immigtant individuals of ERY.\n",
      "Put another way: Since the split ERY received a constant number of 0.33 new immigrant alleles per generation, while PAR received a constant number of 0.60 per generation.\n"
     ]
    }
   ],
   "source": [
    "print \"The ancestral population split apart {0:,} generation ago.\".format(int(popt[2]*2*N_ref)), \n",
    "print \"Since then, ERY and PAR had a constant population size of {0:,} and {1:,}, respectively.\".format(int(popt[0]*N_ref), int(popt[1]*N_ref)), \n",
    "print \"Since the split, a fraction of {0:.2e} of the population size of ERY were made up each generation of new immigrant individuals from PAR\".format(popt[3]/2/N_ref/popt[0]),\n",
    "print \"and a fraction of {0:.2e} of the population size of PAR were made up each generation of new immigtant individuals of ERY.\".format(popt[3]/2/N_ref/popt[1])\n",
    "print \"Put another way:\",\n",
    "print \"Since the split ERY received a constant number of {0:.2f} new immigrant alleles per generation, while PAR received a constant number of {1:.2f} per generation.\".format(popt[3]*popt[0], popt[3]*popt[1])"
   ]
  },
  {
   "cell_type": "markdown",
   "metadata": {},
   "source": [
    "The time of split inferred with the uncorrected spectrum was: 864,128 generation ago. So an almost doubling of the parameters in relative units translates to an increase by about 1/4 in absolute units (generations)."
   ]
  },
  {
   "cell_type": "markdown",
   "metadata": {},
   "source": [
    "The following table compares the parameter estimates for the split-migration model derived with the uncorrected and the corrected spectrum in their absolute units:\n",
    "\n",
    "| parameter      | uncorrected | corrected   |\n",
    "| :-------:      | ----------- | ---------   |\n",
    "| $N_a$          |  468,295    |  308,029    |\n",
    "| $N_{ERY}$      |  465,572    |  488,151    |\n",
    "| $N_{PAR}$      |  827,069    |  881,645    |\n",
    "| T (gen.)       |  864,128    |  1,063,520  |\n",
    "| $p_{par->ery}$ |  2.69e-07   |  2.16e-07   | \n",
    "| $p_{ery->par}$ |  1.52e-07   |  1.20e-07   |\n",
    "| -logL          |  18574      |  12809      |\n",
    "\n",
    "$N_x$ have unit *individuals*, T has unit *generations*, $p_x$ are proportions of new immigrant alleles per generation.\n",
    "\n",
    "There is a marked difference in the inferred ancestral population size ($N_a$ eq. to $N_{ref}$), which affects all other parameters. The estimated contemporary population sizes for ERY and PAR are slightly higher for the corrected spectrum, but not much so. The inferred divergence time is 1/4 higher with the corrected spectrum. The inferred migration rates (as proportion of new immigrant individuals per generation) are both slightly smaller with the corrected spectrum, but not dramatically."
   ]
  },
  {
   "cell_type": "markdown",
   "metadata": {},
   "source": [
    "## Residuals"
   ]
  },
  {
   "cell_type": "code",
   "execution_count": 109,
   "metadata": {
    "collapsed": false
   },
   "outputs": [
    {
     "data": {
      "image/png": "[encoded data removed]",
      "text/plain": [
       "<matplotlib.figure.Figure at 0x7f5c73e38650>"
      ]
     },
     "metadata": {},
     "output_type": "display_data"
    }
   ],
   "source": [
    "dadi.Plotting.plot_2d_comp_multinom(data=sfs2d, model=model, vmin=1)"
   ]
  },
  {
   "cell_type": "markdown",
   "metadata": {},
   "source": [
    "This model with gene flow has greatly reduced residuals. It still predicts too few SNP's with frequency [1,1], but this residual is much reduced when compared with the divergence in isolation model above."
   ]
  },
  {
   "cell_type": "markdown",
   "metadata": {
    "collapsed": true
   },
   "source": [
    "## influence of correction"
   ]
  },
  {
   "cell_type": "markdown",
   "metadata": {},
   "source": [
    "### p=0.30"
   ]
  },
  {
   "cell_type": "code",
   "execution_count": 110,
   "metadata": {
    "collapsed": false
   },
   "outputs": [],
   "source": [
    "%%px --local\n",
    "\n",
    "# set up global variables on engines required for run_dadi function call\n",
    "\n",
    "ns = sfs2d_a.sample_sizes # both populations have the same sample size\n",
    "# setting the smallest grid size slightly larger than the largest population sample size (36)\n",
    "pts_l = [40, 50, 60]\n",
    "dadi_opt_func = dadi.Inference.optimize_log_fmin # uses Nelder-Mead algorithm\n",
    "sfs = sfs2d_a # use the sfs corrected with p=0.3\n",
    "perturb = True\n",
    "fold = 2 # perturb randomly up to `fold` times 2-fold\n",
    "maxiter = 100 # run a maximum of 10 iterations\n",
    "verbose = 0\n",
    "full_output = True # need to have full output to get the warnflags (see below)\n",
    "outname = \"MODIFIED_SPECTRA/OUT_2D_models/split_mig_p0.30\" # set file name stub for opt. result files\n",
    "fixed_params = None"
   ]
  },
  {
   "cell_type": "code",
   "execution_count": 111,
   "metadata": {
    "collapsed": true
   },
   "outputs": [],
   "source": [
    "%%px --local\n",
    "\n",
    "# set lower and upper bounds to nu1, nu2, T, m\n",
    "upper_bound = [1e4, 1e4, 2, 10]\n",
    "lower_bound = [1e-4, 1e-4, 0, 0]"
   ]
  },
  {
   "cell_type": "code",
   "execution_count": null,
   "metadata": {
    "collapsed": true
   },
   "outputs": [],
   "source": [
    "# nu1, nu2, T, m:\n",
    "p0 = [1.5, 2.8, 1.7, 0.2]\n",
    "\n",
    "#ar_split_mig = lbview.map(run_dadi, repeat(p0, 10))"
   ]
  },
  {
   "cell_type": "code",
   "execution_count": 113,
   "metadata": {
    "collapsed": false
   },
   "outputs": [
    {
     "name": "stdout",
     "output_type": "stream",
     "text": [
      "-rw-rw-r-- 1 claudius 314 Jun  2 09:28 OUT_2D_models/split_mig_p0.30_0.4113_8.3124_1.9800_0.2789.dill\r\n",
      "-rw-rw-r-- 1 claudius 314 Jun  2 09:28 OUT_2D_models/split_mig_p0.30_0.4250_1.9062_1.0372_0.2232.dill\r\n",
      "-rw-rw-r-- 1 claudius 314 Jun  2 09:28 OUT_2D_models/split_mig_p0.30_0.5540_1.5858_1.9800_0.6120.dill\r\n",
      "-rw-rw-r-- 1 claudius 314 Jun  2 09:28 OUT_2D_models/split_mig_p0.30_0.6191_5.3350_0.4262_0.3364.dill\r\n",
      "-rw-rw-r-- 1 claudius 314 Jun  2 09:28 OUT_2D_models/split_mig_p0.30_0.9891_1.5522_1.9800_0.7920.dill\r\n",
      "-rw-rw-r-- 1 claudius 314 Jun  2 09:28 OUT_2D_models/split_mig_p0.30_1.0289_1.2984_1.9800_0.2881.dill\r\n",
      "-rw-rw-r-- 1 claudius 314 Jun  2 09:28 OUT_2D_models/split_mig_p0.30_1.7792_2.6982_1.9800_0.3689.dill\r\n",
      "-rw-rw-r-- 1 claudius 314 Jun  2 09:28 OUT_2D_models/split_mig_p0.30_2.0058_3.0709_0.6500_0.1460.dill\r\n",
      "-rw-rw-r-- 1 claudius 314 Jun  2 09:28 OUT_2D_models/split_mig_p0.30_3.0502_5.6608_1.9800_0.1392.dill\r\n",
      "-rw-rw-r-- 1 claudius 314 Jun  2 09:28 OUT_2D_models/split_mig_p0.30_3.5905_10.5666_1.6402_0.0739.dill\r\n"
     ]
    }
   ],
   "source": [
    "% ll OUT_2D_models/split_mig_p0.30*dill"
   ]
  },
  {
   "cell_type": "code",
   "execution_count": 114,
   "metadata": {
    "collapsed": true
   },
   "outputs": [],
   "source": [
    "ar_split_mig = []\n",
    "\n",
    "for filename in glob(\"OUT_2D_models/split_mig_p0.30*dill\"):\n",
    "    ar_split_mig.append(dill.load(open(filename)))"
   ]
  },
  {
   "cell_type": "code",
   "execution_count": 115,
   "metadata": {
    "collapsed": false
   },
   "outputs": [
    {
     "data": {
      "text/html": [
       "<div>\n",
       "<table border=\"1\" class=\"dataframe\">\n",
       "  <thead>\n",
       "    <tr style=\"text-align: right;\">\n",
       "      <th></th>\n",
       "      <th>nu1_0</th>\n",
       "      <th>nu2_0</th>\n",
       "      <th>T_0</th>\n",
       "      <th>m_0</th>\n",
       "      <th>nu1_opt</th>\n",
       "      <th>nu2_opt</th>\n",
       "      <th>T_opt</th>\n",
       "      <th>m_opt</th>\n",
       "      <th>-logL</th>\n",
       "    </tr>\n",
       "  </thead>\n",
       "  <tbody>\n",
       "    <tr>\n",
       "      <th>9</th>\n",
       "      <td>0.619073</td>\n",
       "      <td>5.335041</td>\n",
       "      <td>0.426247</td>\n",
       "      <td>0.336444</td>\n",
       "      <td>1.471322</td>\n",
       "      <td>2.653140</td>\n",
       "      <td>1.572579</td>\n",
       "      <td>0.219394</td>\n",
       "      <td>13226.653783</td>\n",
       "    </tr>\n",
       "    <tr>\n",
       "      <th>7</th>\n",
       "      <td>0.554006</td>\n",
       "      <td>1.585756</td>\n",
       "      <td>1.980000</td>\n",
       "      <td>0.612026</td>\n",
       "      <td>1.472450</td>\n",
       "      <td>2.652522</td>\n",
       "      <td>1.575672</td>\n",
       "      <td>0.218834</td>\n",
       "      <td>13226.735871</td>\n",
       "    </tr>\n",
       "    <tr>\n",
       "      <th>0</th>\n",
       "      <td>2.005768</td>\n",
       "      <td>3.070855</td>\n",
       "      <td>0.649955</td>\n",
       "      <td>0.145964</td>\n",
       "      <td>1.480580</td>\n",
       "      <td>2.666666</td>\n",
       "      <td>1.587519</td>\n",
       "      <td>0.218269</td>\n",
       "      <td>13226.774751</td>\n",
       "    </tr>\n",
       "    <tr>\n",
       "      <th>2</th>\n",
       "      <td>1.779153</td>\n",
       "      <td>2.698225</td>\n",
       "      <td>1.980000</td>\n",
       "      <td>0.368870</td>\n",
       "      <td>1.523274</td>\n",
       "      <td>2.743886</td>\n",
       "      <td>1.669660</td>\n",
       "      <td>0.213822</td>\n",
       "      <td>13227.250769</td>\n",
       "    </tr>\n",
       "    <tr>\n",
       "      <th>3</th>\n",
       "      <td>0.411339</td>\n",
       "      <td>8.312366</td>\n",
       "      <td>1.980000</td>\n",
       "      <td>0.278883</td>\n",
       "      <td>1.618440</td>\n",
       "      <td>2.910058</td>\n",
       "      <td>1.853607</td>\n",
       "      <td>0.203391</td>\n",
       "      <td>13230.547008</td>\n",
       "    </tr>\n",
       "    <tr>\n",
       "      <th>4</th>\n",
       "      <td>3.050153</td>\n",
       "      <td>5.660791</td>\n",
       "      <td>1.980000</td>\n",
       "      <td>0.139247</td>\n",
       "      <td>1.645675</td>\n",
       "      <td>2.953670</td>\n",
       "      <td>1.914882</td>\n",
       "      <td>0.201584</td>\n",
       "      <td>13231.954367</td>\n",
       "    </tr>\n",
       "    <tr>\n",
       "      <th>6</th>\n",
       "      <td>3.590533</td>\n",
       "      <td>10.566626</td>\n",
       "      <td>1.640166</td>\n",
       "      <td>0.073947</td>\n",
       "      <td>1.685281</td>\n",
       "      <td>3.013192</td>\n",
       "      <td>1.993573</td>\n",
       "      <td>0.198100</td>\n",
       "      <td>13234.108940</td>\n",
       "    </tr>\n",
       "    <tr>\n",
       "      <th>8</th>\n",
       "      <td>0.425013</td>\n",
       "      <td>1.906170</td>\n",
       "      <td>1.037215</td>\n",
       "      <td>0.223236</td>\n",
       "      <td>1.179353</td>\n",
       "      <td>2.163423</td>\n",
       "      <td>1.056767</td>\n",
       "      <td>0.251451</td>\n",
       "      <td>13268.788639</td>\n",
       "    </tr>\n",
       "    <tr>\n",
       "      <th>5</th>\n",
       "      <td>1.028887</td>\n",
       "      <td>1.298367</td>\n",
       "      <td>1.980000</td>\n",
       "      <td>0.288102</td>\n",
       "      <td>1.021744</td>\n",
       "      <td>1.946962</td>\n",
       "      <td>0.922114</td>\n",
       "      <td>0.280760</td>\n",
       "      <td>13342.747461</td>\n",
       "    </tr>\n",
       "    <tr>\n",
       "      <th>1</th>\n",
       "      <td>0.989122</td>\n",
       "      <td>1.552190</td>\n",
       "      <td>1.980000</td>\n",
       "      <td>0.791966</td>\n",
       "      <td>0.986462</td>\n",
       "      <td>1.900748</td>\n",
       "      <td>0.877320</td>\n",
       "      <td>0.285676</td>\n",
       "      <td>13371.870805</td>\n",
       "    </tr>\n",
       "  </tbody>\n",
       "</table>\n",
       "</div>"
      ],
      "text/plain": [
       "      nu1_0      nu2_0       T_0       m_0   nu1_opt   nu2_opt     T_opt  \\\n",
       "9  0.619073   5.335041  0.426247  0.336444  1.471322  2.653140  1.572579   \n",
       "7  0.554006   1.585756  1.980000  0.612026  1.472450  2.652522  1.575672   \n",
       "0  2.005768   3.070855  0.649955  0.145964  1.480580  2.666666  1.587519   \n",
       "2  1.779153   2.698225  1.980000  0.368870  1.523274  2.743886  1.669660   \n",
       "3  0.411339   8.312366  1.980000  0.278883  1.618440  2.910058  1.853607   \n",
       "4  3.050153   5.660791  1.980000  0.139247  1.645675  2.953670  1.914882   \n",
       "6  3.590533  10.566626  1.640166  0.073947  1.685281  3.013192  1.993573   \n",
       "8  0.425013   1.906170  1.037215  0.223236  1.179353  2.163423  1.056767   \n",
       "5  1.028887   1.298367  1.980000  0.288102  1.021744  1.946962  0.922114   \n",
       "1  0.989122   1.552190  1.980000  0.791966  0.986462  1.900748  0.877320   \n",
       "\n",
       "      m_opt         -logL  \n",
       "9  0.219394  13226.653783  \n",
       "7  0.218834  13226.735871  \n",
       "0  0.218269  13226.774751  \n",
       "2  0.213822  13227.250769  \n",
       "3  0.203391  13230.547008  \n",
       "4  0.201584  13231.954367  \n",
       "6  0.198100  13234.108940  \n",
       "8  0.251451  13268.788639  \n",
       "5  0.280760  13342.747461  \n",
       "1  0.285676  13371.870805  "
      ]
     },
     "execution_count": 115,
     "metadata": {},
     "output_type": "execute_result"
    }
   ],
   "source": [
    "# get optimisations\n",
    "returned = [flatten(out)[:9] for out in ar_split_mig]\n",
    "\n",
    "df = pd.DataFrame(data=returned, \\\n",
    "                  columns=['nu1_0','nu2_0', 'T_0', 'm_0', 'nu1_opt', 'nu2_opt', 'T_opt', 'm_opt', '-logL'])\n",
    "\n",
    "df.sort_values(by='-logL', ascending=True).head(10)"
   ]
  },
  {
   "cell_type": "markdown",
   "metadata": {},
   "source": [
    "The inferred $T$ and $m$ are not very different. The values inferred with the spectrum corrected with a _p_ of 0.35 (see above) are quite similar ($T=1.726$, $m=0.211$)."
   ]
  },
  {
   "cell_type": "markdown",
   "metadata": {},
   "source": [
    "### p=0.39"
   ]
  },
  {
   "cell_type": "code",
   "execution_count": null,
   "metadata": {
    "collapsed": true
   },
   "outputs": [],
   "source": [
    "%%px --local\n",
    "\n",
    "# set up global variables on engines required for run_dadi function call\n",
    "\n",
    "ns = sfs2d_a.sample_sizes # both populations have the same sample size\n",
    "# setting the smallest grid size slightly larger than the largest population sample size (36)\n",
    "pts_l = [40, 50, 60]\n",
    "dadi_opt_func = dadi.Inference.optimize_log_fmin # uses Nelder-Mead algorithm\n",
    "sfs = sfs2d_b # use the sfs corrected with p=0.39\n",
    "perturb = True\n",
    "fold = 2 # perturb randomly up to `fold` times 2-fold\n",
    "maxiter = 100 # run a maximum of 10 iterations\n",
    "verbose = 0\n",
    "full_output = True # need to have full output to get the warnflags (see below)\n",
    "outname = \"MODIFIED_SPECTRA/OUT_2D_models/split_mig_p0.39\" # set file name stub for opt. result files\n",
    "fixed_params = None"
   ]
  },
  {
   "cell_type": "code",
   "execution_count": null,
   "metadata": {
    "collapsed": true
   },
   "outputs": [],
   "source": [
    "# nu1, nu2, T, m:\n",
    "p0 = [1.5, 2.8, 1.7, 0.2]\n",
    "\n",
    "#ar_split_mig = lbview.map(run_dadi, repeat(p0, 10))"
   ]
  },
  {
   "cell_type": "code",
   "execution_count": 116,
   "metadata": {
    "collapsed": true
   },
   "outputs": [],
   "source": [
    "ar_split_mig = []\n",
    "\n",
    "for filename in glob(\"OUT_2D_models/split_mig_p0.39*dill\"):\n",
    "    ar_split_mig.append(dill.load(open(filename)))"
   ]
  },
  {
   "cell_type": "code",
   "execution_count": 117,
   "metadata": {
    "collapsed": false
   },
   "outputs": [
    {
     "data": {
      "text/html": [
       "<div>\n",
       "<table border=\"1\" class=\"dataframe\">\n",
       "  <thead>\n",
       "    <tr style=\"text-align: right;\">\n",
       "      <th></th>\n",
       "      <th>nu1_0</th>\n",
       "      <th>nu2_0</th>\n",
       "      <th>T_0</th>\n",
       "      <th>m_0</th>\n",
       "      <th>nu1_opt</th>\n",
       "      <th>nu2_opt</th>\n",
       "      <th>T_opt</th>\n",
       "      <th>m_opt</th>\n",
       "      <th>-logL</th>\n",
       "    </tr>\n",
       "  </thead>\n",
       "  <tbody>\n",
       "    <tr>\n",
       "      <th>5</th>\n",
       "      <td>1.186737</td>\n",
       "      <td>1.751522</td>\n",
       "      <td>1.980000</td>\n",
       "      <td>0.461137</td>\n",
       "      <td>1.692853</td>\n",
       "      <td>3.062311</td>\n",
       "      <td>1.873604</td>\n",
       "      <td>0.203172</td>\n",
       "      <td>12546.940350</td>\n",
       "    </tr>\n",
       "    <tr>\n",
       "      <th>0</th>\n",
       "      <td>3.127995</td>\n",
       "      <td>9.121443</td>\n",
       "      <td>1.980000</td>\n",
       "      <td>0.462147</td>\n",
       "      <td>1.758203</td>\n",
       "      <td>3.174306</td>\n",
       "      <td>1.991875</td>\n",
       "      <td>0.197089</td>\n",
       "      <td>12547.463540</td>\n",
       "    </tr>\n",
       "    <tr>\n",
       "      <th>1</th>\n",
       "      <td>2.537579</td>\n",
       "      <td>9.878637</td>\n",
       "      <td>0.727451</td>\n",
       "      <td>0.089020</td>\n",
       "      <td>1.604128</td>\n",
       "      <td>2.879648</td>\n",
       "      <td>1.725914</td>\n",
       "      <td>0.215744</td>\n",
       "      <td>12549.572946</td>\n",
       "    </tr>\n",
       "    <tr>\n",
       "      <th>8</th>\n",
       "      <td>2.252962</td>\n",
       "      <td>2.467163</td>\n",
       "      <td>1.980000</td>\n",
       "      <td>0.623962</td>\n",
       "      <td>1.595294</td>\n",
       "      <td>2.905932</td>\n",
       "      <td>1.646046</td>\n",
       "      <td>0.206065</td>\n",
       "      <td>12553.716384</td>\n",
       "    </tr>\n",
       "    <tr>\n",
       "      <th>6</th>\n",
       "      <td>4.770883</td>\n",
       "      <td>5.445931</td>\n",
       "      <td>0.546950</td>\n",
       "      <td>0.148639</td>\n",
       "      <td>1.572295</td>\n",
       "      <td>2.859923</td>\n",
       "      <td>1.636817</td>\n",
       "      <td>0.206012</td>\n",
       "      <td>12556.796990</td>\n",
       "    </tr>\n",
       "    <tr>\n",
       "      <th>2</th>\n",
       "      <td>1.123416</td>\n",
       "      <td>5.509509</td>\n",
       "      <td>0.513859</td>\n",
       "      <td>0.432212</td>\n",
       "      <td>1.576281</td>\n",
       "      <td>3.051595</td>\n",
       "      <td>1.832997</td>\n",
       "      <td>0.210671</td>\n",
       "      <td>12570.353207</td>\n",
       "    </tr>\n",
       "    <tr>\n",
       "      <th>3</th>\n",
       "      <td>4.817874</td>\n",
       "      <td>10.176975</td>\n",
       "      <td>1.054042</td>\n",
       "      <td>0.091783</td>\n",
       "      <td>1.304134</td>\n",
       "      <td>2.396536</td>\n",
       "      <td>1.184463</td>\n",
       "      <td>0.244845</td>\n",
       "      <td>12591.343569</td>\n",
       "    </tr>\n",
       "    <tr>\n",
       "      <th>4</th>\n",
       "      <td>1.258454</td>\n",
       "      <td>0.941615</td>\n",
       "      <td>1.976222</td>\n",
       "      <td>0.242231</td>\n",
       "      <td>0.691047</td>\n",
       "      <td>1.060202</td>\n",
       "      <td>0.494421</td>\n",
       "      <td>0.415939</td>\n",
       "      <td>14026.620769</td>\n",
       "    </tr>\n",
       "    <tr>\n",
       "      <th>9</th>\n",
       "      <td>1.812563</td>\n",
       "      <td>0.973302</td>\n",
       "      <td>1.980000</td>\n",
       "      <td>0.186338</td>\n",
       "      <td>0.647770</td>\n",
       "      <td>0.969539</td>\n",
       "      <td>0.519351</td>\n",
       "      <td>0.469760</td>\n",
       "      <td>14384.672088</td>\n",
       "    </tr>\n",
       "    <tr>\n",
       "      <th>7</th>\n",
       "      <td>0.522920</td>\n",
       "      <td>9.706416</td>\n",
       "      <td>1.838284</td>\n",
       "      <td>0.061066</td>\n",
       "      <td>0.425470</td>\n",
       "      <td>1.064318</td>\n",
       "      <td>1.999990</td>\n",
       "      <td>0.804069</td>\n",
       "      <td>18339.419679</td>\n",
       "    </tr>\n",
       "  </tbody>\n",
       "</table>\n",
       "</div>"
      ],
      "text/plain": [
       "      nu1_0      nu2_0       T_0       m_0   nu1_opt   nu2_opt     T_opt  \\\n",
       "5  1.186737   1.751522  1.980000  0.461137  1.692853  3.062311  1.873604   \n",
       "0  3.127995   9.121443  1.980000  0.462147  1.758203  3.174306  1.991875   \n",
       "1  2.537579   9.878637  0.727451  0.089020  1.604128  2.879648  1.725914   \n",
       "8  2.252962   2.467163  1.980000  0.623962  1.595294  2.905932  1.646046   \n",
       "6  4.770883   5.445931  0.546950  0.148639  1.572295  2.859923  1.636817   \n",
       "2  1.123416   5.509509  0.513859  0.432212  1.576281  3.051595  1.832997   \n",
       "3  4.817874  10.176975  1.054042  0.091783  1.304134  2.396536  1.184463   \n",
       "4  1.258454   0.941615  1.976222  0.242231  0.691047  1.060202  0.494421   \n",
       "9  1.812563   0.973302  1.980000  0.186338  0.647770  0.969539  0.519351   \n",
       "7  0.522920   9.706416  1.838284  0.061066  0.425470  1.064318  1.999990   \n",
       "\n",
       "      m_opt         -logL  \n",
       "5  0.203172  12546.940350  \n",
       "0  0.197089  12547.463540  \n",
       "1  0.215744  12549.572946  \n",
       "8  0.206065  12553.716384  \n",
       "6  0.206012  12556.796990  \n",
       "2  0.210671  12570.353207  \n",
       "3  0.244845  12591.343569  \n",
       "4  0.415939  14026.620769  \n",
       "9  0.469760  14384.672088  \n",
       "7  0.804069  18339.419679  "
      ]
     },
     "execution_count": 117,
     "metadata": {},
     "output_type": "execute_result"
    }
   ],
   "source": [
    "# get optimisations\n",
    "returned = [flatten(out)[:9] for out in ar_split_mig]\n",
    "\n",
    "df = pd.DataFrame(data=returned, \\\n",
    "                  columns=['nu1_0','nu2_0', 'T_0', 'm_0', 'nu1_opt', 'nu2_opt', 'T_opt', 'm_opt', '-logL'])\n",
    "\n",
    "df.sort_values(by='-logL', ascending=True).head(10)"
   ]
  },
  {
   "cell_type": "markdown",
   "metadata": {},
   "source": [
    "Again, the inferred $T$ is not very different, although it varies quite a bit. This model fitting requires a few more runs to achieve convergence (and maybe also a finer grid)."
   ]
  },
  {
   "cell_type": "markdown",
   "metadata": {},
   "source": [
    "Since the _degree_ of correction does not seem to have a strong influence on parameter estimation, I am going to use only the spectrum corrected with $p=0.35$ in the following."
   ]
  },
  {
   "cell_type": "markdown",
   "metadata": {
    "collapsed": true
   },
   "source": [
    "# asymmetric migration rates"
   ]
  },
  {
   "cell_type": "code",
   "execution_count": 11,
   "metadata": {
    "collapsed": true
   },
   "outputs": [],
   "source": [
    "def split_asym_mig(params, ns, pts):\n",
    "    \"\"\"\n",
    "    params = (nu1,nu2,T,m1,m2)\n",
    "    ns = (n1,n2)\n",
    "\n",
    "    Split into two populations of specifed size, with potentially asymmetric migration.\n",
    "\n",
    "    nu1: population size ratio of population 1 after split (with respect to Na)\n",
    "    nu2: population size ratio of population 2 after split (with respect to Na) \n",
    "    T: Time in the past of split (in units of 2*Na generations) \n",
    "    m1: Migration rate from ery into par (in units of 2*Na ind per generation)\n",
    "    m2: Migration rate from par into ery (in units of 2*Na ind per generation)\n",
    "    n1,n2: Sample sizes of resulting Spectrum\n",
    "    pts: Number of grid points to use in integration.\n",
    "    \"\"\"\n",
    "    nu1,nu2,T,m1,m2 = params\n",
    "\n",
    "    xx = dadi.Numerics.default_grid(pts)\n",
    "\n",
    "    phi = dadi.PhiManip.phi_1D(xx)\n",
    "    \n",
    "    # split\n",
    "    phi = dadi.PhiManip.phi_1D_to_2D(xx, phi) \n",
    "    \n",
    "    # divergence with potentially asymmetric migration\n",
    "    phi = dadi.Integration.two_pops(phi, xx, T, nu1, nu2, m12=m2, m21=m1)\n",
    "\n",
    "    fs = dadi.Spectrum.from_phi(phi, ns, (xx,xx))\n",
    "    return fs"
   ]
  },
  {
   "cell_type": "code",
   "execution_count": 22,
   "metadata": {
    "collapsed": false
   },
   "outputs": [
    {
     "data": {
      "text/plain": [
       "<AsyncResult: _push>"
      ]
     },
     "execution_count": 22,
     "metadata": {},
     "output_type": "execute_result"
    }
   ],
   "source": [
    "cl[:].push(dict(split_asym_mig=split_asym_mig))"
   ]
  },
  {
   "cell_type": "code",
   "execution_count": 23,
   "metadata": {
    "collapsed": false
   },
   "outputs": [],
   "source": [
    "%%px --local\n",
    "\n",
    "func = split_asym_mig\n",
    "\n",
    "func_ex = dadi.Numerics.make_extrap_log_func(func)"
   ]
  },
  {
   "cell_type": "code",
   "execution_count": 24,
   "metadata": {
    "collapsed": true
   },
   "outputs": [],
   "source": [
    "%%px --local\n",
    "\n",
    "# set up global variables on engines required for run_dadi function call\n",
    "\n",
    "ns = sfs2d.sample_sizes # both populations have the same sample size\n",
    "# setting the smallest grid size slightly larger than the largest population sample size (36)\n",
    "pts_l = [40, 50, 60]\n",
    "dadi_opt_func = dadi.Inference.optimize_log_fmin # uses Nelder-Mead algorithm\n",
    "sfs = sfs2d\n",
    "perturb = True\n",
    "fold = 2 # perturb randomly up to `fold` times 2-fold\n",
    "maxiter = 300 # run a maximum of 300 iterations\n",
    "verbose = 0\n",
    "full_output = True # need to have full output to get the warnflags (see below)\n",
    "outname = \"MODIFIED_SPECTRA/OUT_2D_models/split_asym_mig\" # set file name stub for opt. result files\n",
    "fixed_params = None"
   ]
  },
  {
   "cell_type": "code",
   "execution_count": 122,
   "metadata": {
    "collapsed": true
   },
   "outputs": [],
   "source": [
    "%%px --local\n",
    "\n",
    "# set lower and upper bounds to nu1, nu2, T, m1, m2\n",
    "upper_bound = [1e4, 1e4, 4, 10, 10] # note, I have increased the upper bound for T\n",
    "lower_bound = [1e-4, 1e-4, 0, 0, 0]"
   ]
  },
  {
   "cell_type": "code",
   "execution_count": 17,
   "metadata": {
    "collapsed": true
   },
   "outputs": [],
   "source": [
    "# using optimal parameters from simple divergence with migration model (split_mig)\n",
    "p0 = [1.572018, 2.838641, 1.703611, 0.211194, 0.211194] "
   ]
  },
  {
   "cell_type": "code",
   "execution_count": null,
   "metadata": {
    "collapsed": true
   },
   "outputs": [],
   "source": [
    "#ar_split_asym_mig = lbview.map(run_dadi, repeat(p0, 10))"
   ]
  },
  {
   "cell_type": "code",
   "execution_count": 13,
   "metadata": {
    "collapsed": false
   },
   "outputs": [
    {
     "name": "stdout",
     "output_type": "stream",
     "text": [
      "-rw-rw-r-- 1 claudius 332 Jun  2 10:56 OUT_2D_models/split_asym_mig_0.4241_1.1390_0.7188_0.2226_0.1538.dill\r\n",
      "-rw-rw-r-- 1 claudius 332 Jun  2 10:57 OUT_2D_models/split_asym_mig_0.8165_1.9939_3.9600_0.2674_0.0672.dill\r\n",
      "-rw-rw-r-- 1 claudius 332 Jun  2 10:57 OUT_2D_models/split_asym_mig_0.8288_1.2529_3.9600_0.1038_0.5631.dill\r\n",
      "-rw-rw-r-- 1 claudius 332 Jun  2 10:57 OUT_2D_models/split_asym_mig_0.8589_1.6675_0.8569_0.0668_0.0683.dill\r\n",
      "-rw-rw-r-- 1 claudius 332 Jun  2 10:57 OUT_2D_models/split_asym_mig_0.9537_4.4646_1.7313_0.3606_0.1876.dill\r\n",
      "-rw-rw-r-- 1 claudius 331 Jun  2 10:56 OUT_2D_models/split_asym_mig_1.5149_0.8486_1.6356_0.5165_0.2828.dill\r\n",
      "-rw-rw-r-- 1 claudius 332 Jun  2 10:56 OUT_2D_models/split_asym_mig_2.5504_1.0248_0.6622_0.0589_0.0727.dill\r\n",
      "-rw-rw-r-- 1 claudius 331 Jun  2 10:57 OUT_2D_models/split_asym_mig_3.1276_4.2771_2.7252_0.2635_0.1617.dill\r\n",
      "-rw-rw-r-- 1 claudius 332 Jun  2 10:56 OUT_2D_models/split_asym_mig_3.9939_1.0661_2.0397_0.0975_0.4820.dill\r\n",
      "-rw-rw-r-- 1 claudius 332 Jun  2 10:56 OUT_2D_models/split_asym_mig_5.9099_2.2131_0.6241_0.1402_0.0794.dill\r\n"
     ]
    }
   ],
   "source": [
    "% ll OUT_2D_models/split_asym_mig_[0-9]*dill"
   ]
  },
  {
   "cell_type": "code",
   "execution_count": 14,
   "metadata": {
    "collapsed": true
   },
   "outputs": [],
   "source": [
    "ar_split_asym_mig = []\n",
    "\n",
    "for filename in glob(\"OUT_2D_models/split_asym_mig_[0-9]*dill\"):\n",
    "    ar_split_asym_mig.append(dill.load(open(filename)))"
   ]
  },
  {
   "cell_type": "code",
   "execution_count": 15,
   "metadata": {
    "collapsed": false
   },
   "outputs": [
    {
     "name": "stdout",
     "output_type": "stream",
     "text": [
      "success 5\n",
      "Maximum number of function evaluations made. 0\n",
      "Maximum number of iterations reached. 5\n",
      "unknown flag 0\n"
     ]
    }
   ],
   "source": [
    "get_flag_count(ar_split_asym_mig, NM=True)"
   ]
  },
  {
   "cell_type": "code",
   "execution_count": 18,
   "metadata": {
    "collapsed": false
   },
   "outputs": [
    {
     "data": {
      "text/html": [
       "<div>\n",
       "<table border=\"1\" class=\"dataframe\">\n",
       "  <thead>\n",
       "    <tr style=\"text-align: right;\">\n",
       "      <th></th>\n",
       "      <th>nu1_0</th>\n",
       "      <th>nu2_0</th>\n",
       "      <th>T_0</th>\n",
       "      <th>m1_0</th>\n",
       "      <th>m2_0</th>\n",
       "      <th>nu1_opt</th>\n",
       "      <th>nu2_opt</th>\n",
       "      <th>T_opt</th>\n",
       "      <th>m1_opt</th>\n",
       "      <th>m2_opt</th>\n",
       "      <th>-logL</th>\n",
       "    </tr>\n",
       "  </thead>\n",
       "  <tbody>\n",
       "    <tr>\n",
       "      <th>2</th>\n",
       "      <td>0.828753</td>\n",
       "      <td>1.252881</td>\n",
       "      <td>3.960000</td>\n",
       "      <td>0.103805</td>\n",
       "      <td>0.563144</td>\n",
       "      <td>1.555405</td>\n",
       "      <td>3.812884</td>\n",
       "      <td>2.343805</td>\n",
       "      <td>0.076152</td>\n",
       "      <td>0.347306</td>\n",
       "      <td>12359.631637</td>\n",
       "    </tr>\n",
       "    <tr>\n",
       "      <th>5</th>\n",
       "      <td>2.550436</td>\n",
       "      <td>1.024807</td>\n",
       "      <td>0.662181</td>\n",
       "      <td>0.058917</td>\n",
       "      <td>0.072694</td>\n",
       "      <td>1.534739</td>\n",
       "      <td>3.751096</td>\n",
       "      <td>2.292298</td>\n",
       "      <td>0.077597</td>\n",
       "      <td>0.350747</td>\n",
       "      <td>12359.664337</td>\n",
       "    </tr>\n",
       "    <tr>\n",
       "      <th>8</th>\n",
       "      <td>0.424053</td>\n",
       "      <td>1.138974</td>\n",
       "      <td>0.718766</td>\n",
       "      <td>0.222591</td>\n",
       "      <td>0.153777</td>\n",
       "      <td>1.529845</td>\n",
       "      <td>3.758155</td>\n",
       "      <td>2.285943</td>\n",
       "      <td>0.076150</td>\n",
       "      <td>0.352598</td>\n",
       "      <td>12359.684317</td>\n",
       "    </tr>\n",
       "    <tr>\n",
       "      <th>7</th>\n",
       "      <td>1.514872</td>\n",
       "      <td>0.848603</td>\n",
       "      <td>1.635625</td>\n",
       "      <td>0.516468</td>\n",
       "      <td>0.282811</td>\n",
       "      <td>1.575057</td>\n",
       "      <td>3.857334</td>\n",
       "      <td>2.388837</td>\n",
       "      <td>0.076225</td>\n",
       "      <td>0.342434</td>\n",
       "      <td>12359.735720</td>\n",
       "    </tr>\n",
       "    <tr>\n",
       "      <th>6</th>\n",
       "      <td>3.127599</td>\n",
       "      <td>4.277118</td>\n",
       "      <td>2.725190</td>\n",
       "      <td>0.263502</td>\n",
       "      <td>0.161697</td>\n",
       "      <td>1.693936</td>\n",
       "      <td>4.157804</td>\n",
       "      <td>2.677514</td>\n",
       "      <td>0.070230</td>\n",
       "      <td>0.320827</td>\n",
       "      <td>12360.799448</td>\n",
       "    </tr>\n",
       "    <tr>\n",
       "      <th>3</th>\n",
       "      <td>0.816507</td>\n",
       "      <td>1.993877</td>\n",
       "      <td>3.960000</td>\n",
       "      <td>0.267442</td>\n",
       "      <td>0.067155</td>\n",
       "      <td>1.605256</td>\n",
       "      <td>4.027444</td>\n",
       "      <td>2.526903</td>\n",
       "      <td>0.067682</td>\n",
       "      <td>0.341928</td>\n",
       "      <td>12361.932695</td>\n",
       "    </tr>\n",
       "    <tr>\n",
       "      <th>9</th>\n",
       "      <td>0.858891</td>\n",
       "      <td>1.667468</td>\n",
       "      <td>0.856949</td>\n",
       "      <td>0.066816</td>\n",
       "      <td>0.068287</td>\n",
       "      <td>1.526397</td>\n",
       "      <td>3.759222</td>\n",
       "      <td>2.351502</td>\n",
       "      <td>0.076778</td>\n",
       "      <td>0.344442</td>\n",
       "      <td>12364.139460</td>\n",
       "    </tr>\n",
       "    <tr>\n",
       "      <th>1</th>\n",
       "      <td>3.993936</td>\n",
       "      <td>1.066110</td>\n",
       "      <td>2.039748</td>\n",
       "      <td>0.097478</td>\n",
       "      <td>0.482028</td>\n",
       "      <td>1.614288</td>\n",
       "      <td>3.967013</td>\n",
       "      <td>2.585679</td>\n",
       "      <td>0.059440</td>\n",
       "      <td>0.337259</td>\n",
       "      <td>12382.911919</td>\n",
       "    </tr>\n",
       "    <tr>\n",
       "      <th>4</th>\n",
       "      <td>0.953722</td>\n",
       "      <td>4.464633</td>\n",
       "      <td>1.731286</td>\n",
       "      <td>0.360577</td>\n",
       "      <td>0.187640</td>\n",
       "      <td>0.945295</td>\n",
       "      <td>2.572276</td>\n",
       "      <td>1.192388</td>\n",
       "      <td>0.082591</td>\n",
       "      <td>0.561914</td>\n",
       "      <td>12473.567122</td>\n",
       "    </tr>\n",
       "    <tr>\n",
       "      <th>0</th>\n",
       "      <td>5.909949</td>\n",
       "      <td>2.213097</td>\n",
       "      <td>0.624062</td>\n",
       "      <td>0.140236</td>\n",
       "      <td>0.079440</td>\n",
       "      <td>0.970340</td>\n",
       "      <td>2.713070</td>\n",
       "      <td>1.103459</td>\n",
       "      <td>0.023247</td>\n",
       "      <td>0.596518</td>\n",
       "      <td>12633.931484</td>\n",
       "    </tr>\n",
       "  </tbody>\n",
       "</table>\n",
       "</div>"
      ],
      "text/plain": [
       "      nu1_0     nu2_0       T_0      m1_0      m2_0   nu1_opt   nu2_opt  \\\n",
       "2  0.828753  1.252881  3.960000  0.103805  0.563144  1.555405  3.812884   \n",
       "5  2.550436  1.024807  0.662181  0.058917  0.072694  1.534739  3.751096   \n",
       "8  0.424053  1.138974  0.718766  0.222591  0.153777  1.529845  3.758155   \n",
       "7  1.514872  0.848603  1.635625  0.516468  0.282811  1.575057  3.857334   \n",
       "6  3.127599  4.277118  2.725190  0.263502  0.161697  1.693936  4.157804   \n",
       "3  0.816507  1.993877  3.960000  0.267442  0.067155  1.605256  4.027444   \n",
       "9  0.858891  1.667468  0.856949  0.066816  0.068287  1.526397  3.759222   \n",
       "1  3.993936  1.066110  2.039748  0.097478  0.482028  1.614288  3.967013   \n",
       "4  0.953722  4.464633  1.731286  0.360577  0.187640  0.945295  2.572276   \n",
       "0  5.909949  2.213097  0.624062  0.140236  0.079440  0.970340  2.713070   \n",
       "\n",
       "      T_opt    m1_opt    m2_opt         -logL  \n",
       "2  2.343805  0.076152  0.347306  12359.631637  \n",
       "5  2.292298  0.077597  0.350747  12359.664337  \n",
       "8  2.285943  0.076150  0.352598  12359.684317  \n",
       "7  2.388837  0.076225  0.342434  12359.735720  \n",
       "6  2.677514  0.070230  0.320827  12360.799448  \n",
       "3  2.526903  0.067682  0.341928  12361.932695  \n",
       "9  2.351502  0.076778  0.344442  12364.139460  \n",
       "1  2.585679  0.059440  0.337259  12382.911919  \n",
       "4  1.192388  0.082591  0.561914  12473.567122  \n",
       "0  1.103459  0.023247  0.596518  12633.931484  "
      ]
     },
     "execution_count": 18,
     "metadata": {},
     "output_type": "execute_result"
    }
   ],
   "source": [
    "l = 2*len(p0)+1\n",
    "\n",
    "returned = [flatten(out)[:l] for out in ar_split_asym_mig]\n",
    "\n",
    "df = pd.DataFrame(data=returned, \\\n",
    "                  columns=['nu1_0','nu2_0', 'T_0', 'm1_0', 'm2_0', 'nu1_opt', 'nu2_opt', 'T_opt', 'm1_opt', 'm2_opt', '-logL'])\n",
    "\n",
    "df.sort_values(by='-logL', ascending=True)"
   ]
  },
  {
   "cell_type": "markdown",
   "metadata": {},
   "source": [
    "This looks like convergence. Allowing for asymmetric migration rates improves the model fit by 450 logL units and is therefore highly significant."
   ]
  },
  {
   "cell_type": "markdown",
   "metadata": {},
   "source": [
    "## Interpretation"
   ]
  },
  {
   "cell_type": "code",
   "execution_count": 19,
   "metadata": {
    "collapsed": false
   },
   "outputs": [
    {
     "data": {
      "text/plain": [
       "array([ 1.5554055 ,  3.81288413,  2.34380465,  0.07615248,  0.34730636])"
      ]
     },
     "execution_count": 19,
     "metadata": {},
     "output_type": "execute_result"
    }
   ],
   "source": [
    "popt = np.array(df.sort_values(by='-logL', ascending=True).iloc[0, 5:10])\n",
    "popt"
   ]
  },
  {
   "cell_type": "code",
   "execution_count": 25,
   "metadata": {
    "collapsed": false
   },
   "outputs": [
    {
     "data": {
      "text/plain": [
       "-12359.631636502287"
      ]
     },
     "execution_count": 25,
     "metadata": {},
     "output_type": "execute_result"
    }
   ],
   "source": [
    "# calculate best-fit model spectrum\n",
    "model = func_ex(popt, ns, pts_l)\n",
    "\n",
    "ll_model = dadi.Inference.ll_multinom(model, sfs2d)\n",
    "ll_model"
   ]
  },
  {
   "cell_type": "code",
   "execution_count": 26,
   "metadata": {
    "collapsed": false
   },
   "outputs": [
    {
     "name": "stdout",
     "output_type": "stream",
     "text": [
      "The optimal value of theta per site for the ancestral population is 0.00307.\n"
     ]
    }
   ],
   "source": [
    "theta = dadi.Inference.optimal_sfs_scaling(model, sfs2d)\n",
    "L = sfs2d.data.sum()\n",
    "print \"The optimal value of theta per site for the ancestral population is {0:.5f}.\".format(theta/L)"
   ]
  },
  {
   "cell_type": "code",
   "execution_count": 27,
   "metadata": {
    "collapsed": false
   },
   "outputs": [
    {
     "name": "stdout",
     "output_type": "stream",
     "text": [
      "The effective size of the ancestral population of ery and par (in number of diploid individuals) implied by this theta is:\n",
      " 255,715.\n"
     ]
    }
   ],
   "source": [
    "mu = 3e-9\n",
    "N_ref = theta/L/mu/4\n",
    "print \"The effective size of the ancestral population of ery and par (in number of diploid individuals) implied by this theta is:\\n {0:,}.\".format(int(N_ref))"
   ]
  },
  {
   "cell_type": "code",
   "execution_count": 32,
   "metadata": {
    "collapsed": false
   },
   "outputs": [
    {
     "name": "stdout",
     "output_type": "stream",
     "text": [
      "The ancestral population split apart 1,198,692 generations ago. Immediately after the split the ERY population changed to a size of 397,740 and the PAR population to 975,012. Since the split of the ancestral population, PAR received 1 individual from ERY every 6.89 generations, while ERY received 1 PAR individual every 3.70 generations. Put another way: The PAR population contained a constant proportion of 3.91e-08 of new immigrant alleles each generation and the ERY population contained a constant proportion of 4.37e-07 of new immigrant alleles each generation.\n"
     ]
    }
   ],
   "source": [
    "print \"The ancestral population split apart {0:,} generations ago.\".format(int(popt[2]*2*N_ref)),\n",
    "print \"Immediately after the split the ERY population changed to a size of {0:,} and the PAR population to {1:,}.\".format(int(popt[0]*N_ref), int(popt[1]*N_ref)),\n",
    "print \"Since the split of the ancestral population, PAR received 1 individual from ERY every {0:.2f} generations,\".format(1.0/(popt[3]/2*popt[1])),\n",
    "print \"while ERY received 1 PAR individual every {0:.2f} generations.\".format(1.0/(popt[4]/2*popt[0])),\n",
    "print \"Put another way: The PAR population contained a constant proportion of {0:.2e} of new immigrant alleles each generation\".format(popt[3]/2/N_ref/popt[1]),\n",
    "print \"and the ERY population contained a constant proportion of {0:.2e} of new immigrant alleles each generation.\".format(popt[4]/2/N_ref/popt[0])"
   ]
  },
  {
   "cell_type": "markdown",
   "metadata": {
    "collapsed": true
   },
   "source": [
    "The following table compares the inferred parameters for the asymmetric migration model from the uncorrected and corrected spectrum in their absolute units:\n",
    "\n",
    "| parameter      | uncorrected | corrected |\n",
    "| :----------:   | ----------- | --------- |\n",
    "| $N_{a}$        | 410,678     | 255,715   |\n",
    "| $N_{ery}$      | 378,198     | 397,740   |\n",
    "| $N_{par}$      | 919,352     | 975,012   |\n",
    "| T              | 1,022,329   | 1,198,692 |\n",
    "| $p_{ery->par}$ | 4.58e-08    | 3.91e-08  |\n",
    "| $p_{par->ery}$ | 6.54e-07    | 4.37e-07  |\n",
    "| -logL          | 18104       | 12359     |\n",
    "\n",
    "$N_x$ have unit *individuals*, T has unit *generations*, $p_x$ are proportions of new immigrant alleles per generation."
   ]
  },
  {
   "cell_type": "markdown",
   "metadata": {},
   "source": [
    "There is marked difference in the inferred size of the ancestral population between corrected and uncorrected spectra. The inferred time of the split in number of generations for the unmodified spectrum was 1,022,329. Not a dramatic difference from the one inferred with this corrected spectrum, but still 176,000 years difference."
   ]
  },
  {
   "cell_type": "markdown",
   "metadata": {},
   "source": [
    "## residuals"
   ]
  },
  {
   "cell_type": "code",
   "execution_count": 136,
   "metadata": {
    "collapsed": false
   },
   "outputs": [
    {
     "data": {
      "image/png": "[encoded data removed]",
      "text/plain": [
       "<matplotlib.figure.Figure at 0x7f5cb0146290>"
      ]
     },
     "metadata": {},
     "output_type": "display_data"
    }
   ],
   "source": [
    "dadi.Plotting.plot_2d_comp_multinom(data=sfs2d, model=model, vmin=1)"
   ]
  },
  {
   "cell_type": "markdown",
   "metadata": {},
   "source": [
    "Note the asymmetry in the model spectrum for frequency classes [1, x] and [x, 1]."
   ]
  },
  {
   "cell_type": "markdown",
   "metadata": {},
   "source": [
    "# exponential size change"
   ]
  },
  {
   "cell_type": "markdown",
   "metadata": {},
   "source": [
    "So far, the split coincided with a stepwise population size change."
   ]
  },
  {
   "cell_type": "code",
   "execution_count": 11,
   "metadata": {
    "collapsed": true
   },
   "outputs": [],
   "source": [
    "def IM(params, ns, pts):\n",
    "    \"\"\"\n",
    "    ns = (n1,n2)\n",
    "    params = (s,nu1,nu2,T,m1,m2)\n",
    "\n",
    "    Isolation-with-migration model with exponential pop growth or decline.\n",
    "\n",
    "    s: Size of pop 1 after split. (Pop 2 has size 1-s.)\n",
    "    nu1: Final population size ratio of pop 1 (with respect to Na)\n",
    "    nu2: Final population size ratio of pop 2 (with respect to Na)\n",
    "    T: Time in the past of split (in units of 2*Na generations) \n",
    "    m1: Migration from pop 1 to pop 2\n",
    "    m2: Migration from pop 2 to pop 1 (2*Na*m12)\n",
    "    n1,n2: Sample sizes of resulting Spectrum\n",
    "    pts: Number of grid points to use in integration.\n",
    "    \"\"\"\n",
    "    s,nu1,nu2,T,m1,m2 = params\n",
    "\n",
    "    xx = dadi.Numerics.default_grid(pts)\n",
    "\n",
    "    phi = dadi.PhiManip.phi_1D(xx)\n",
    "    phi = dadi.PhiManip.phi_1D_to_2D(xx, phi)\n",
    "\n",
    "    nu1_func = lambda t: s * (nu1/s)**(t/T)\n",
    "    nu2_func = lambda t: (1-s) * (nu2/(1-s))**(t/T)\n",
    "    phi = dadi.Integration.two_pops(phi, xx, T, nu1_func, nu2_func, m12=m2, m21=m1)\n",
    "\n",
    "    fs = dadi.Spectrum.from_phi(phi, ns, (xx,xx))\n",
    "    return fs"
   ]
  },
  {
   "cell_type": "code",
   "execution_count": 12,
   "metadata": {
    "collapsed": false
   },
   "outputs": [
    {
     "data": {
      "text/plain": [
       "<AsyncResult: _push>"
      ]
     },
     "execution_count": 12,
     "metadata": {},
     "output_type": "execute_result"
    }
   ],
   "source": [
    "cl[:].push(dict(IM=IM))"
   ]
  },
  {
   "cell_type": "code",
   "execution_count": 13,
   "metadata": {
    "collapsed": true
   },
   "outputs": [],
   "source": [
    "%%px --local\n",
    "\n",
    "func = IM\n",
    "\n",
    "func_ex = dadi.Numerics.make_extrap_log_func(func)"
   ]
  },
  {
   "cell_type": "code",
   "execution_count": 14,
   "metadata": {
    "collapsed": true
   },
   "outputs": [],
   "source": [
    "%%px --local\n",
    "\n",
    "# set up global variables on engines required for run_dadi function call\n",
    "\n",
    "ns = sfs2d.sample_sizes # both populations have the same sample size\n",
    "# setting the smallest grid size slightly larger than the largest population sample size (36)\n",
    "pts_l = [40, 50, 60]\n",
    "dadi_opt_func = dadi.Inference.optimize_log_fmin # uses Nelder-Mead algorithm\n",
    "sfs = sfs2d\n",
    "perturb = True\n",
    "fold = 2 # perturb randomly up to `fold` times 2-fold\n",
    "maxiter = 300 # run a maximum of 300 iterations\n",
    "verbose = 0\n",
    "full_output = True # need to have full output to get the warnflags (see below)\n",
    "outname = \"MODIFIED_SPECTRA/OUT_2D_models/IM\" # set file name stub for opt. result files\n",
    "fixed_params = None # do not fix any parameters, optimise all"
   ]
  },
  {
   "cell_type": "code",
   "execution_count": 142,
   "metadata": {
    "collapsed": true
   },
   "outputs": [],
   "source": [
    "%%px --local\n",
    "\n",
    "# set lower and upper bounds to s, nu1, nu2, T, m1, m2\n",
    "upper_bound = [1, 1e4, 1e4, 4, 10, 10] \n",
    "lower_bound = [0, 1e-4, 1e-4, 0, 0, 0]"
   ]
  },
  {
   "cell_type": "code",
   "execution_count": 15,
   "metadata": {
    "collapsed": true
   },
   "outputs": [],
   "source": [
    "# using optimal parameter values from `split_asym_mig` model as starting values to perturb\n",
    "p0 = [0.5, 1.5554055, 3.81288413, 2.34380465, 0.07615248, 0.34730636]"
   ]
  },
  {
   "cell_type": "code",
   "execution_count": null,
   "metadata": {
    "collapsed": true
   },
   "outputs": [],
   "source": [
    "#ar_IM = lbview.map(run_dadi, repeat(p0, 10))"
   ]
  },
  {
   "cell_type": "code",
   "execution_count": null,
   "metadata": {
    "collapsed": true
   },
   "outputs": [],
   "source": [
    "# using optimal parameter values from `split_asym_mig` model as starting values to perturb\n",
    "p0 = [0.5, 15.554055, 38.1288413, 2.34380465, 0.07615248, 0.34730636] \n",
    "# note I have add 10 to the previous nu1_0 and nu2_0"
   ]
  },
  {
   "cell_type": "code",
   "execution_count": 52,
   "metadata": {
    "collapsed": true
   },
   "outputs": [],
   "source": [
    "%%px --local\n",
    "\n",
    "# set lower and upper bounds to s, nu1, nu2, T, m1, m2\n",
    "upper_bound = [1, 1e4, 1e4, 6, 10, 10] # note, I have increased the upper bound for T\n",
    "lower_bound = [0, 1e-4, 1e-4, 0, 0, 0]"
   ]
  },
  {
   "cell_type": "code",
   "execution_count": null,
   "metadata": {
    "collapsed": true
   },
   "outputs": [],
   "source": [
    "#ar_IM = lbview.map(run_dadi, repeat(p0, 10))"
   ]
  },
  {
   "cell_type": "code",
   "execution_count": 37,
   "metadata": {
    "collapsed": false
   },
   "outputs": [
    {
     "name": "stdout",
     "output_type": "stream",
     "text": [
      "-rw-rw-r-- 1 claudius 348 Jun  2 16:56 OUT_2D_models/IM_0.1371_6.1287_140.0705_4.0801_0.0451_0.6111.dill\r\n",
      "-rw-rw-r-- 1 claudius 348 Jun  2 15:41 OUT_2D_models/IM_0.1375_0.9516_7.4654_1.5032_0.0584_1.2615.dill\r\n",
      "-rw-rw-r-- 1 claudius 348 Jun  2 15:43 OUT_2D_models/IM_0.1520_0.9009_1.1476_2.5875_0.0212_0.3926.dill\r\n",
      "-rw-rw-r-- 1 claudius 348 Jun  2 16:02 OUT_2D_models/IM_0.2143_0.4472_4.9823_3.9600_0.1064_0.1189.dill\r\n",
      "-rw-rw-r-- 1 claudius 347 Jun  2 15:38 OUT_2D_models/IM_0.2303_1.6016_5.5039_1.9556_0.1791_0.6871.dill\r\n",
      "-rw-rw-r-- 1 claudius 348 Jun  2 16:46 OUT_2D_models/IM_0.2793_32.9774_14.8143_1.2084_0.0794_0.4885.dill\r\n",
      "-rw-rw-r-- 1 claudius 348 Jun  2 16:39 OUT_2D_models/IM_0.3329_50.9972_23.1707_0.9459_0.1881_1.1367.dill\r\n",
      "-rw-rw-r-- 1 claudius 348 Jun  2 16:49 OUT_2D_models/IM_0.3843_6.5018_30.8340_3.9628_0.1540_0.1553.dill\r\n",
      "-rw-rw-r-- 1 claudius 348 Jun  2 15:37 OUT_2D_models/IM_0.4212_1.0946_9.0692_0.6614_0.1940_0.3517.dill\r\n",
      "-rw-rw-r-- 1 claudius 348 Jun  2 16:37 OUT_2D_models/IM_0.4632_6.4870_42.7337_1.2644_0.0209_0.5055.dill\r\n",
      "-rw-rw-r-- 1 claudius 348 Jun  2 15:44 OUT_2D_models/IM_0.4642_1.7672_8.2948_2.6906_0.0494_0.2300.dill\r\n",
      "-rw-rw-r-- 1 claudius 348 Jun  2 15:43 OUT_2D_models/IM_0.5487_2.4046_3.1755_3.9600_0.0421_0.1209.dill\r\n",
      "-rw-rw-r-- 1 claudius 348 Jun  2 16:47 OUT_2D_models/IM_0.5494_14.2652_25.9158_1.8833_0.1187_0.2437.dill\r\n",
      "-rw-rw-r-- 1 claudius 347 Jun  2 15:43 OUT_2D_models/IM_0.7727_4.9725_9.7755_2.4780_0.1754_0.3743.dill\r\n",
      "-rw-rw-r-- 1 claudius 348 Jun  2 16:48 OUT_2D_models/IM_0.8061_40.8211_9.8303_3.9022_0.1013_0.1684.dill\r\n",
      "-rw-rw-r-- 1 claudius 348 Jun  2 16:40 OUT_2D_models/IM_0.8847_24.4270_92.9791_0.8051_0.0516_0.9492.dill\r\n",
      "-rw-rw-r-- 1 claudius 348 Jun  2 17:04 OUT_2D_models/IM_0.9900_12.4415_61.3255_1.0064_0.0724_0.2231.dill\r\n",
      "-rw-rw-r-- 1 claudius 348 Jun  2 15:50 OUT_2D_models/IM_0.9900_1.3725_2.8361_0.8031_0.0197_0.1785.dill\r\n",
      "-rw-rw-r-- 1 claudius 348 Jun  2 15:56 OUT_2D_models/IM_0.9900_3.1846_7.6041_0.6276_0.0324_0.5021.dill\r\n",
      "-rw-rw-r-- 1 claudius 347 Jun  2 17:39 OUT_2D_models/IM_0.9900_7.3819_15.7711_5.9400_0.1224_1.3443.dill\r\n"
     ]
    }
   ],
   "source": [
    "% ll OUT_2D_models/IM_[!l]*dill"
   ]
  },
  {
   "cell_type": "code",
   "execution_count": 40,
   "metadata": {
    "collapsed": true
   },
   "outputs": [],
   "source": [
    "ar_IM = []\n",
    "\n",
    "for filename in glob(\"OUT_2D_models/IM_[!l]*dill\"):\n",
    "    ar_IM.append(dill.load((open(filename))))"
   ]
  },
  {
   "cell_type": "code",
   "execution_count": 147,
   "metadata": {
    "collapsed": false
   },
   "outputs": [
    {
     "name": "stdout",
     "output_type": "stream",
     "text": [
      "success 3\n",
      "Maximum number of function evaluations made. 0\n",
      "Maximum number of iterations reached. 17\n",
      "unknown flag 0\n"
     ]
    }
   ],
   "source": [
    "get_flag_count(ar_IM, NM=True)"
   ]
  },
  {
   "cell_type": "code",
   "execution_count": 41,
   "metadata": {
    "collapsed": false
   },
   "outputs": [
    {
     "data": {
      "text/html": [
       "<div>\n",
       "<table border=\"1\" class=\"dataframe\">\n",
       "  <thead>\n",
       "    <tr style=\"text-align: right;\">\n",
       "      <th></th>\n",
       "      <th>s_0</th>\n",
       "      <th>nu1_0</th>\n",
       "      <th>nu2_0</th>\n",
       "      <th>T_0</th>\n",
       "      <th>m1_0</th>\n",
       "      <th>m2_0</th>\n",
       "      <th>s_opt</th>\n",
       "      <th>nu1_opt</th>\n",
       "      <th>nu2_opt</th>\n",
       "      <th>T_opt</th>\n",
       "      <th>m1_opt</th>\n",
       "      <th>m2_opt</th>\n",
       "      <th>-logL</th>\n",
       "    </tr>\n",
       "  </thead>\n",
       "  <tbody>\n",
       "    <tr>\n",
       "      <th>19</th>\n",
       "      <td>0.548698</td>\n",
       "      <td>2.404634</td>\n",
       "      <td>3.175488</td>\n",
       "      <td>3.960000</td>\n",
       "      <td>0.042110</td>\n",
       "      <td>0.120852</td>\n",
       "      <td>0.391828</td>\n",
       "      <td>1.643519</td>\n",
       "      <td>4.954319</td>\n",
       "      <td>3.977713</td>\n",
       "      <td>0.066796</td>\n",
       "      <td>0.428613</td>\n",
       "      <td>12888.961573</td>\n",
       "    </tr>\n",
       "    <tr>\n",
       "      <th>12</th>\n",
       "      <td>0.464217</td>\n",
       "      <td>1.767160</td>\n",
       "      <td>8.294837</td>\n",
       "      <td>2.690563</td>\n",
       "      <td>0.049364</td>\n",
       "      <td>0.229995</td>\n",
       "      <td>0.449867</td>\n",
       "      <td>1.568291</td>\n",
       "      <td>4.812866</td>\n",
       "      <td>3.859359</td>\n",
       "      <td>0.071616</td>\n",
       "      <td>0.440530</td>\n",
       "      <td>12890.795363</td>\n",
       "    </tr>\n",
       "    <tr>\n",
       "      <th>14</th>\n",
       "      <td>0.214285</td>\n",
       "      <td>0.447155</td>\n",
       "      <td>4.982255</td>\n",
       "      <td>3.960000</td>\n",
       "      <td>0.106390</td>\n",
       "      <td>0.118936</td>\n",
       "      <td>0.357218</td>\n",
       "      <td>1.692737</td>\n",
       "      <td>5.087944</td>\n",
       "      <td>3.995020</td>\n",
       "      <td>0.062778</td>\n",
       "      <td>0.420359</td>\n",
       "      <td>12891.932937</td>\n",
       "    </tr>\n",
       "    <tr>\n",
       "      <th>4</th>\n",
       "      <td>0.137108</td>\n",
       "      <td>6.128675</td>\n",
       "      <td>140.070469</td>\n",
       "      <td>4.080069</td>\n",
       "      <td>0.045070</td>\n",
       "      <td>0.611109</td>\n",
       "      <td>0.397690</td>\n",
       "      <td>1.926901</td>\n",
       "      <td>5.834288</td>\n",
       "      <td>5.092989</td>\n",
       "      <td>0.056684</td>\n",
       "      <td>0.366609</td>\n",
       "      <td>12895.833048</td>\n",
       "    </tr>\n",
       "    <tr>\n",
       "      <th>18</th>\n",
       "      <td>0.230268</td>\n",
       "      <td>1.601646</td>\n",
       "      <td>5.503930</td>\n",
       "      <td>1.955604</td>\n",
       "      <td>0.179101</td>\n",
       "      <td>0.687077</td>\n",
       "      <td>0.396088</td>\n",
       "      <td>1.275681</td>\n",
       "      <td>3.877785</td>\n",
       "      <td>2.646682</td>\n",
       "      <td>0.085734</td>\n",
       "      <td>0.545238</td>\n",
       "      <td>12896.886524</td>\n",
       "    </tr>\n",
       "    <tr>\n",
       "      <th>5</th>\n",
       "      <td>0.421229</td>\n",
       "      <td>1.094606</td>\n",
       "      <td>9.069247</td>\n",
       "      <td>0.661431</td>\n",
       "      <td>0.193997</td>\n",
       "      <td>0.351657</td>\n",
       "      <td>0.451861</td>\n",
       "      <td>1.097640</td>\n",
       "      <td>3.449551</td>\n",
       "      <td>2.196653</td>\n",
       "      <td>0.100002</td>\n",
       "      <td>0.612755</td>\n",
       "      <td>12920.063167</td>\n",
       "    </tr>\n",
       "    <tr>\n",
       "      <th>2</th>\n",
       "      <td>0.549371</td>\n",
       "      <td>14.265177</td>\n",
       "      <td>25.915771</td>\n",
       "      <td>1.883288</td>\n",
       "      <td>0.118666</td>\n",
       "      <td>0.243711</td>\n",
       "      <td>0.655488</td>\n",
       "      <td>1.589347</td>\n",
       "      <td>5.223257</td>\n",
       "      <td>4.999083</td>\n",
       "      <td>0.065978</td>\n",
       "      <td>0.421852</td>\n",
       "      <td>12929.268439</td>\n",
       "    </tr>\n",
       "    <tr>\n",
       "      <th>3</th>\n",
       "      <td>0.806134</td>\n",
       "      <td>40.821082</td>\n",
       "      <td>9.830328</td>\n",
       "      <td>3.902201</td>\n",
       "      <td>0.101308</td>\n",
       "      <td>0.168433</td>\n",
       "      <td>0.671316</td>\n",
       "      <td>1.640283</td>\n",
       "      <td>5.464712</td>\n",
       "      <td>5.558106</td>\n",
       "      <td>0.061087</td>\n",
       "      <td>0.415430</td>\n",
       "      <td>12933.185111</td>\n",
       "    </tr>\n",
       "    <tr>\n",
       "      <th>6</th>\n",
       "      <td>0.463201</td>\n",
       "      <td>6.487004</td>\n",
       "      <td>42.733659</td>\n",
       "      <td>1.264410</td>\n",
       "      <td>0.020869</td>\n",
       "      <td>0.505456</td>\n",
       "      <td>0.402903</td>\n",
       "      <td>1.049086</td>\n",
       "      <td>3.125870</td>\n",
       "      <td>1.626309</td>\n",
       "      <td>0.112483</td>\n",
       "      <td>0.643805</td>\n",
       "      <td>12943.956230</td>\n",
       "    </tr>\n",
       "    <tr>\n",
       "      <th>0</th>\n",
       "      <td>0.772714</td>\n",
       "      <td>4.972494</td>\n",
       "      <td>9.775530</td>\n",
       "      <td>2.477999</td>\n",
       "      <td>0.175447</td>\n",
       "      <td>0.374279</td>\n",
       "      <td>0.699395</td>\n",
       "      <td>1.261615</td>\n",
       "      <td>4.247072</td>\n",
       "      <td>3.995846</td>\n",
       "      <td>0.082868</td>\n",
       "      <td>0.527929</td>\n",
       "      <td>12948.183752</td>\n",
       "    </tr>\n",
       "    <tr>\n",
       "      <th>17</th>\n",
       "      <td>0.384332</td>\n",
       "      <td>6.501850</td>\n",
       "      <td>30.833978</td>\n",
       "      <td>3.962770</td>\n",
       "      <td>0.154036</td>\n",
       "      <td>0.155305</td>\n",
       "      <td>0.180641</td>\n",
       "      <td>1.910011</td>\n",
       "      <td>5.283292</td>\n",
       "      <td>4.250161</td>\n",
       "      <td>0.056813</td>\n",
       "      <td>0.400921</td>\n",
       "      <td>12950.902590</td>\n",
       "    </tr>\n",
       "    <tr>\n",
       "      <th>7</th>\n",
       "      <td>0.884726</td>\n",
       "      <td>24.427049</td>\n",
       "      <td>92.979147</td>\n",
       "      <td>0.805149</td>\n",
       "      <td>0.051588</td>\n",
       "      <td>0.949227</td>\n",
       "      <td>0.653794</td>\n",
       "      <td>1.050288</td>\n",
       "      <td>3.674061</td>\n",
       "      <td>3.291988</td>\n",
       "      <td>0.084214</td>\n",
       "      <td>0.653174</td>\n",
       "      <td>12967.415678</td>\n",
       "    </tr>\n",
       "    <tr>\n",
       "      <th>13</th>\n",
       "      <td>0.137513</td>\n",
       "      <td>0.951613</td>\n",
       "      <td>7.465367</td>\n",
       "      <td>1.503162</td>\n",
       "      <td>0.058409</td>\n",
       "      <td>1.261464</td>\n",
       "      <td>0.463084</td>\n",
       "      <td>0.886433</td>\n",
       "      <td>2.996136</td>\n",
       "      <td>1.714164</td>\n",
       "      <td>0.102616</td>\n",
       "      <td>0.750816</td>\n",
       "      <td>12985.048016</td>\n",
       "    </tr>\n",
       "    <tr>\n",
       "      <th>16</th>\n",
       "      <td>0.151982</td>\n",
       "      <td>0.900923</td>\n",
       "      <td>1.147613</td>\n",
       "      <td>2.587475</td>\n",
       "      <td>0.021186</td>\n",
       "      <td>0.392602</td>\n",
       "      <td>0.973893</td>\n",
       "      <td>0.514229</td>\n",
       "      <td>1.998297</td>\n",
       "      <td>3.269200</td>\n",
       "      <td>0.162335</td>\n",
       "      <td>1.221883</td>\n",
       "      <td>13083.626517</td>\n",
       "    </tr>\n",
       "    <tr>\n",
       "      <th>10</th>\n",
       "      <td>0.990000</td>\n",
       "      <td>7.381876</td>\n",
       "      <td>15.771145</td>\n",
       "      <td>5.940000</td>\n",
       "      <td>0.122375</td>\n",
       "      <td>1.344277</td>\n",
       "      <td>0.983149</td>\n",
       "      <td>0.353030</td>\n",
       "      <td>1.411418</td>\n",
       "      <td>2.547121</td>\n",
       "      <td>0.180619</td>\n",
       "      <td>1.898117</td>\n",
       "      <td>13083.650197</td>\n",
       "    </tr>\n",
       "    <tr>\n",
       "      <th>8</th>\n",
       "      <td>0.990000</td>\n",
       "      <td>3.184593</td>\n",
       "      <td>7.604077</td>\n",
       "      <td>0.627579</td>\n",
       "      <td>0.032446</td>\n",
       "      <td>0.502074</td>\n",
       "      <td>0.940065</td>\n",
       "      <td>1.046855</td>\n",
       "      <td>3.722720</td>\n",
       "      <td>3.999991</td>\n",
       "      <td>0.123057</td>\n",
       "      <td>0.598355</td>\n",
       "      <td>13150.045015</td>\n",
       "    </tr>\n",
       "    <tr>\n",
       "      <th>1</th>\n",
       "      <td>0.990000</td>\n",
       "      <td>1.372460</td>\n",
       "      <td>2.836121</td>\n",
       "      <td>0.803127</td>\n",
       "      <td>0.019740</td>\n",
       "      <td>0.178463</td>\n",
       "      <td>0.878081</td>\n",
       "      <td>0.366145</td>\n",
       "      <td>1.577484</td>\n",
       "      <td>1.564362</td>\n",
       "      <td>0.156751</td>\n",
       "      <td>1.815647</td>\n",
       "      <td>13279.198944</td>\n",
       "    </tr>\n",
       "    <tr>\n",
       "      <th>9</th>\n",
       "      <td>0.990000</td>\n",
       "      <td>12.441481</td>\n",
       "      <td>61.325470</td>\n",
       "      <td>1.006385</td>\n",
       "      <td>0.072427</td>\n",
       "      <td>0.223145</td>\n",
       "      <td>0.968944</td>\n",
       "      <td>0.167424</td>\n",
       "      <td>0.746694</td>\n",
       "      <td>1.015299</td>\n",
       "      <td>0.275605</td>\n",
       "      <td>3.998577</td>\n",
       "      <td>13302.764040</td>\n",
       "    </tr>\n",
       "    <tr>\n",
       "      <th>11</th>\n",
       "      <td>0.279341</td>\n",
       "      <td>32.977415</td>\n",
       "      <td>14.814321</td>\n",
       "      <td>1.208360</td>\n",
       "      <td>0.079428</td>\n",
       "      <td>0.488465</td>\n",
       "      <td>0.043173</td>\n",
       "      <td>4.703007</td>\n",
       "      <td>2.908342</td>\n",
       "      <td>1.001791</td>\n",
       "      <td>0.012623</td>\n",
       "      <td>1.512211</td>\n",
       "      <td>25547.604998</td>\n",
       "    </tr>\n",
       "    <tr>\n",
       "      <th>15</th>\n",
       "      <td>0.332941</td>\n",
       "      <td>50.997190</td>\n",
       "      <td>23.170726</td>\n",
       "      <td>0.945938</td>\n",
       "      <td>0.188053</td>\n",
       "      <td>1.136728</td>\n",
       "      <td>0.354048</td>\n",
       "      <td>70.730748</td>\n",
       "      <td>20.470953</td>\n",
       "      <td>0.951958</td>\n",
       "      <td>0.094280</td>\n",
       "      <td>1.078322</td>\n",
       "      <td>55663.818148</td>\n",
       "    </tr>\n",
       "  </tbody>\n",
       "</table>\n",
       "</div>"
      ],
      "text/plain": [
       "         s_0      nu1_0       nu2_0       T_0      m1_0      m2_0     s_opt  \\\n",
       "19  0.548698   2.404634    3.175488  3.960000  0.042110  0.120852  0.391828   \n",
       "12  0.464217   1.767160    8.294837  2.690563  0.049364  0.229995  0.449867   \n",
       "14  0.214285   0.447155    4.982255  3.960000  0.106390  0.118936  0.357218   \n",
       "4   0.137108   6.128675  140.070469  4.080069  0.045070  0.611109  0.397690   \n",
       "18  0.230268   1.601646    5.503930  1.955604  0.179101  0.687077  0.396088   \n",
       "5   0.421229   1.094606    9.069247  0.661431  0.193997  0.351657  0.451861   \n",
       "2   0.549371  14.265177   25.915771  1.883288  0.118666  0.243711  0.655488   \n",
       "3   0.806134  40.821082    9.830328  3.902201  0.101308  0.168433  0.671316   \n",
       "6   0.463201   6.487004   42.733659  1.264410  0.020869  0.505456  0.402903   \n",
       "0   0.772714   4.972494    9.775530  2.477999  0.175447  0.374279  0.699395   \n",
       "17  0.384332   6.501850   30.833978  3.962770  0.154036  0.155305  0.180641   \n",
       "7   0.884726  24.427049   92.979147  0.805149  0.051588  0.949227  0.653794   \n",
       "13  0.137513   0.951613    7.465367  1.503162  0.058409  1.261464  0.463084   \n",
       "16  0.151982   0.900923    1.147613  2.587475  0.021186  0.392602  0.973893   \n",
       "10  0.990000   7.381876   15.771145  5.940000  0.122375  1.344277  0.983149   \n",
       "8   0.990000   3.184593    7.604077  0.627579  0.032446  0.502074  0.940065   \n",
       "1   0.990000   1.372460    2.836121  0.803127  0.019740  0.178463  0.878081   \n",
       "9   0.990000  12.441481   61.325470  1.006385  0.072427  0.223145  0.968944   \n",
       "11  0.279341  32.977415   14.814321  1.208360  0.079428  0.488465  0.043173   \n",
       "15  0.332941  50.997190   23.170726  0.945938  0.188053  1.136728  0.354048   \n",
       "\n",
       "      nu1_opt    nu2_opt     T_opt    m1_opt    m2_opt         -logL  \n",
       "19   1.643519   4.954319  3.977713  0.066796  0.428613  12888.961573  \n",
       "12   1.568291   4.812866  3.859359  0.071616  0.440530  12890.795363  \n",
       "14   1.692737   5.087944  3.995020  0.062778  0.420359  12891.932937  \n",
       "4    1.926901   5.834288  5.092989  0.056684  0.366609  12895.833048  \n",
       "18   1.275681   3.877785  2.646682  0.085734  0.545238  12896.886524  \n",
       "5    1.097640   3.449551  2.196653  0.100002  0.612755  12920.063167  \n",
       "2    1.589347   5.223257  4.999083  0.065978  0.421852  12929.268439  \n",
       "3    1.640283   5.464712  5.558106  0.061087  0.415430  12933.185111  \n",
       "6    1.049086   3.125870  1.626309  0.112483  0.643805  12943.956230  \n",
       "0    1.261615   4.247072  3.995846  0.082868  0.527929  12948.183752  \n",
       "17   1.910011   5.283292  4.250161  0.056813  0.400921  12950.902590  \n",
       "7    1.050288   3.674061  3.291988  0.084214  0.653174  12967.415678  \n",
       "13   0.886433   2.996136  1.714164  0.102616  0.750816  12985.048016  \n",
       "16   0.514229   1.998297  3.269200  0.162335  1.221883  13083.626517  \n",
       "10   0.353030   1.411418  2.547121  0.180619  1.898117  13083.650197  \n",
       "8    1.046855   3.722720  3.999991  0.123057  0.598355  13150.045015  \n",
       "1    0.366145   1.577484  1.564362  0.156751  1.815647  13279.198944  \n",
       "9    0.167424   0.746694  1.015299  0.275605  3.998577  13302.764040  \n",
       "11   4.703007   2.908342  1.001791  0.012623  1.512211  25547.604998  \n",
       "15  70.730748  20.470953  0.951958  0.094280  1.078322  55663.818148  "
      ]
     },
     "execution_count": 41,
     "metadata": {},
     "output_type": "execute_result"
    }
   ],
   "source": [
    "l = 2*len(p0)+1\n",
    "\n",
    "returned = [flatten(out)[:l] for out in ar_IM]\n",
    "\n",
    "df = pd.DataFrame(data=returned, columns=['s_0' ,'nu1_0','nu2_0', 'T_0', 'm1_0', 'm2_0', 's_opt' ,'nu1_opt', 'nu2_opt', 'T_opt', 'm1_opt', 'm2_opt', '-logL'])\n",
    "\n",
    "df.sort_values(by='-logL', ascending=True)"
   ]
  },
  {
   "cell_type": "markdown",
   "metadata": {
    "collapsed": true
   },
   "source": [
    "None of the parameter combinations has higher likelihood than the best-fit parameter combinations of the previous model (lowest neg. logL 12,359). Also the three best-fit parameter combinations are very close to the upper limit of parameter bound that I set for the time parameter $T$ and the population size ratio for PAR implies a current effective population size of several millions (something I think is unlikely given the disperal rate and the patchiness of the habitat of _Chorthippus parallelus_). "
   ]
  },
  {
   "cell_type": "code",
   "execution_count": 50,
   "metadata": {
    "collapsed": true
   },
   "outputs": [],
   "source": [
    "%%px\n",
    "\n",
    "fold = 1"
   ]
  },
  {
   "cell_type": "code",
   "execution_count": 51,
   "metadata": {
    "collapsed": false
   },
   "outputs": [
    {
     "data": {
      "text/plain": [
       "array([ 0.39182808,  1.64351921,  4.95431884,  3.97771286,  0.06679638,\n",
       "        0.42861309])"
      ]
     },
     "execution_count": 51,
     "metadata": {},
     "output_type": "execute_result"
    }
   ],
   "source": [
    "popt = np.array(df.sort_values(by='-logL', ascending=True).iloc[0, 6:12])\n",
    "popt"
   ]
  },
  {
   "cell_type": "code",
   "execution_count": 53,
   "metadata": {
    "collapsed": true
   },
   "outputs": [],
   "source": [
    "p0 = popt\n",
    "\n",
    "#ar_IM = lbview.map(run_dadi, repeat(p0, 10))"
   ]
  },
  {
   "cell_type": "code",
   "execution_count": 16,
   "metadata": {
    "collapsed": true
   },
   "outputs": [],
   "source": [
    "ar_IM = []\n",
    "\n",
    "for filename in glob(\"OUT_2D_models/IM_[!l]*dill\"):\n",
    "    ar_IM.append(dill.load((open(filename))))"
   ]
  },
  {
   "cell_type": "code",
   "execution_count": 18,
   "metadata": {
    "collapsed": false
   },
   "outputs": [
    {
     "data": {
      "text/html": [
       "<div>\n",
       "<table border=\"1\" class=\"dataframe\">\n",
       "  <thead>\n",
       "    <tr style=\"text-align: right;\">\n",
       "      <th></th>\n",
       "      <th>s_0</th>\n",
       "      <th>nu1_0</th>\n",
       "      <th>nu2_0</th>\n",
       "      <th>T_0</th>\n",
       "      <th>m1_0</th>\n",
       "      <th>m2_0</th>\n",
       "      <th>s_opt</th>\n",
       "      <th>nu1_opt</th>\n",
       "      <th>nu2_opt</th>\n",
       "      <th>T_opt</th>\n",
       "      <th>m1_opt</th>\n",
       "      <th>m2_opt</th>\n",
       "      <th>-logL</th>\n",
       "    </tr>\n",
       "  </thead>\n",
       "  <tbody>\n",
       "    <tr>\n",
       "      <th>29</th>\n",
       "      <td>0.548698</td>\n",
       "      <td>2.404634</td>\n",
       "      <td>3.175488</td>\n",
       "      <td>3.960000</td>\n",
       "      <td>0.042110</td>\n",
       "      <td>0.120852</td>\n",
       "      <td>0.391828</td>\n",
       "      <td>1.643519</td>\n",
       "      <td>4.954319</td>\n",
       "      <td>3.977713</td>\n",
       "      <td>0.066796</td>\n",
       "      <td>0.428613</td>\n",
       "      <td>12888.961573</td>\n",
       "    </tr>\n",
       "    <tr>\n",
       "      <th>21</th>\n",
       "      <td>0.244774</td>\n",
       "      <td>1.367522</td>\n",
       "      <td>3.166825</td>\n",
       "      <td>5.940000</td>\n",
       "      <td>0.038599</td>\n",
       "      <td>0.490162</td>\n",
       "      <td>0.395215</td>\n",
       "      <td>1.627846</td>\n",
       "      <td>4.897217</td>\n",
       "      <td>3.950463</td>\n",
       "      <td>0.068449</td>\n",
       "      <td>0.432792</td>\n",
       "      <td>12889.051636</td>\n",
       "    </tr>\n",
       "    <tr>\n",
       "      <th>16</th>\n",
       "      <td>0.464217</td>\n",
       "      <td>1.767160</td>\n",
       "      <td>8.294837</td>\n",
       "      <td>2.690563</td>\n",
       "      <td>0.049364</td>\n",
       "      <td>0.229995</td>\n",
       "      <td>0.449867</td>\n",
       "      <td>1.568291</td>\n",
       "      <td>4.812866</td>\n",
       "      <td>3.859359</td>\n",
       "      <td>0.071616</td>\n",
       "      <td>0.440530</td>\n",
       "      <td>12890.795363</td>\n",
       "    </tr>\n",
       "    <tr>\n",
       "      <th>18</th>\n",
       "      <td>0.214285</td>\n",
       "      <td>0.447155</td>\n",
       "      <td>4.982255</td>\n",
       "      <td>3.960000</td>\n",
       "      <td>0.106390</td>\n",
       "      <td>0.118936</td>\n",
       "      <td>0.357218</td>\n",
       "      <td>1.692737</td>\n",
       "      <td>5.087944</td>\n",
       "      <td>3.995020</td>\n",
       "      <td>0.062778</td>\n",
       "      <td>0.420359</td>\n",
       "      <td>12891.932937</td>\n",
       "    </tr>\n",
       "    <tr>\n",
       "      <th>13</th>\n",
       "      <td>0.215944</td>\n",
       "      <td>0.830677</td>\n",
       "      <td>9.845911</td>\n",
       "      <td>3.115494</td>\n",
       "      <td>0.039453</td>\n",
       "      <td>0.677829</td>\n",
       "      <td>0.399164</td>\n",
       "      <td>1.361566</td>\n",
       "      <td>4.116342</td>\n",
       "      <td>2.926734</td>\n",
       "      <td>0.081159</td>\n",
       "      <td>0.511955</td>\n",
       "      <td>12892.046681</td>\n",
       "    </tr>\n",
       "    <tr>\n",
       "      <th>19</th>\n",
       "      <td>0.472006</td>\n",
       "      <td>1.362619</td>\n",
       "      <td>2.672940</td>\n",
       "      <td>4.580331</td>\n",
       "      <td>0.091601</td>\n",
       "      <td>0.303977</td>\n",
       "      <td>0.477995</td>\n",
       "      <td>1.500508</td>\n",
       "      <td>4.657926</td>\n",
       "      <td>3.750540</td>\n",
       "      <td>0.073776</td>\n",
       "      <td>0.457208</td>\n",
       "      <td>12893.946059</td>\n",
       "    </tr>\n",
       "    <tr>\n",
       "      <th>15</th>\n",
       "      <td>0.585261</td>\n",
       "      <td>3.009183</td>\n",
       "      <td>3.455292</td>\n",
       "      <td>2.228116</td>\n",
       "      <td>0.088300</td>\n",
       "      <td>0.320002</td>\n",
       "      <td>0.468930</td>\n",
       "      <td>1.386466</td>\n",
       "      <td>4.269351</td>\n",
       "      <td>3.278763</td>\n",
       "      <td>0.082093</td>\n",
       "      <td>0.492299</td>\n",
       "      <td>12895.522460</td>\n",
       "    </tr>\n",
       "    <tr>\n",
       "      <th>4</th>\n",
       "      <td>0.137108</td>\n",
       "      <td>6.128675</td>\n",
       "      <td>140.070469</td>\n",
       "      <td>4.080069</td>\n",
       "      <td>0.045070</td>\n",
       "      <td>0.611109</td>\n",
       "      <td>0.397690</td>\n",
       "      <td>1.926901</td>\n",
       "      <td>5.834288</td>\n",
       "      <td>5.092989</td>\n",
       "      <td>0.056684</td>\n",
       "      <td>0.366609</td>\n",
       "      <td>12895.833048</td>\n",
       "    </tr>\n",
       "    <tr>\n",
       "      <th>25</th>\n",
       "      <td>0.458086</td>\n",
       "      <td>1.410253</td>\n",
       "      <td>8.704412</td>\n",
       "      <td>2.057916</td>\n",
       "      <td>0.133268</td>\n",
       "      <td>0.341514</td>\n",
       "      <td>0.353952</td>\n",
       "      <td>1.334471</td>\n",
       "      <td>3.945490</td>\n",
       "      <td>2.648923</td>\n",
       "      <td>0.083286</td>\n",
       "      <td>0.527991</td>\n",
       "      <td>12896.764908</td>\n",
       "    </tr>\n",
       "    <tr>\n",
       "      <th>26</th>\n",
       "      <td>0.230268</td>\n",
       "      <td>1.601646</td>\n",
       "      <td>5.503930</td>\n",
       "      <td>1.955604</td>\n",
       "      <td>0.179101</td>\n",
       "      <td>0.687077</td>\n",
       "      <td>0.396088</td>\n",
       "      <td>1.275681</td>\n",
       "      <td>3.877785</td>\n",
       "      <td>2.646682</td>\n",
       "      <td>0.085734</td>\n",
       "      <td>0.545238</td>\n",
       "      <td>12896.886524</td>\n",
       "    </tr>\n",
       "  </tbody>\n",
       "</table>\n",
       "</div>"
      ],
      "text/plain": [
       "         s_0     nu1_0       nu2_0       T_0      m1_0      m2_0     s_opt  \\\n",
       "29  0.548698  2.404634    3.175488  3.960000  0.042110  0.120852  0.391828   \n",
       "21  0.244774  1.367522    3.166825  5.940000  0.038599  0.490162  0.395215   \n",
       "16  0.464217  1.767160    8.294837  2.690563  0.049364  0.229995  0.449867   \n",
       "18  0.214285  0.447155    4.982255  3.960000  0.106390  0.118936  0.357218   \n",
       "13  0.215944  0.830677    9.845911  3.115494  0.039453  0.677829  0.399164   \n",
       "19  0.472006  1.362619    2.672940  4.580331  0.091601  0.303977  0.477995   \n",
       "15  0.585261  3.009183    3.455292  2.228116  0.088300  0.320002  0.468930   \n",
       "4   0.137108  6.128675  140.070469  4.080069  0.045070  0.611109  0.397690   \n",
       "25  0.458086  1.410253    8.704412  2.057916  0.133268  0.341514  0.353952   \n",
       "26  0.230268  1.601646    5.503930  1.955604  0.179101  0.687077  0.396088   \n",
       "\n",
       "     nu1_opt   nu2_opt     T_opt    m1_opt    m2_opt         -logL  \n",
       "29  1.643519  4.954319  3.977713  0.066796  0.428613  12888.961573  \n",
       "21  1.627846  4.897217  3.950463  0.068449  0.432792  12889.051636  \n",
       "16  1.568291  4.812866  3.859359  0.071616  0.440530  12890.795363  \n",
       "18  1.692737  5.087944  3.995020  0.062778  0.420359  12891.932937  \n",
       "13  1.361566  4.116342  2.926734  0.081159  0.511955  12892.046681  \n",
       "19  1.500508  4.657926  3.750540  0.073776  0.457208  12893.946059  \n",
       "15  1.386466  4.269351  3.278763  0.082093  0.492299  12895.522460  \n",
       "4   1.926901  5.834288  5.092989  0.056684  0.366609  12895.833048  \n",
       "25  1.334471  3.945490  2.648923  0.083286  0.527991  12896.764908  \n",
       "26  1.275681  3.877785  2.646682  0.085734  0.545238  12896.886524  "
      ]
     },
     "execution_count": 18,
     "metadata": {},
     "output_type": "execute_result"
    }
   ],
   "source": [
    "l = 2*len(p0)+1\n",
    "\n",
    "returned = [flatten(out)[:l] for out in ar_IM]\n",
    "\n",
    "df = pd.DataFrame(data=returned, columns=['s_0' ,'nu1_0','nu2_0', 'T_0', 'm1_0', 'm2_0', 's_opt' ,'nu1_opt', 'nu2_opt', 'T_opt', 'm1_opt', 'm2_opt', '-logL'])\n",
    "\n",
    "df.sort_values(by='-logL', ascending=True).head(10)"
   ]
  },
  {
   "cell_type": "markdown",
   "metadata": {},
   "source": [
    "No better parameter combination could be found. I think it is not worth extending the search."
   ]
  },
  {
   "cell_type": "markdown",
   "metadata": {},
   "source": [
    "# linear size change"
   ]
  },
  {
   "cell_type": "markdown",
   "metadata": {},
   "source": [
    "This model changes the population size growth or decline from exponential to linear."
   ]
  },
  {
   "cell_type": "code",
   "execution_count": 19,
   "metadata": {
    "collapsed": true
   },
   "outputs": [],
   "source": [
    "def IM_l(params, ns, pts):\n",
    "    \"\"\"\n",
    "    ns = (n1,n2)\n",
    "    params = (s,nu1,nu2,T,m1,m2)\n",
    "\n",
    "    Isolation-with-migration model with LINEAR pop growth or decline.\n",
    "\n",
    "    s: Size of pop 1 after split. (Pop 2 has size 1-s.)\n",
    "    nu1: Final size of pop 1.\n",
    "    nu2: Final size of pop 2.\n",
    "    T: Time in the past of split (in units of 2*Na generations) \n",
    "    m1: Migration from pop 1 to pop 2\n",
    "    m2: Migration from pop 2 to pop 1 (2*Na*m12)\n",
    "    n1,n2: Sample sizes of resulting Spectrum\n",
    "    pts: Number of grid points to use in integration.\n",
    "    \"\"\"\n",
    "    s,nu1,nu2,T,m1,m2 = params\n",
    "\n",
    "    xx = dadi.Numerics.default_grid(pts)\n",
    "\n",
    "    phi = dadi.PhiManip.phi_1D(xx)\n",
    "    phi = dadi.PhiManip.phi_1D_to_2D(xx, phi)\n",
    "\n",
    "    # specify linear growth from s to nu\n",
    "    nu1_func = lambda t: s + (nu1-s) * (t/T)\n",
    "    nu2_func = lambda t: (1-s) + (nu2-s) * (t/T)\n",
    "    \n",
    "    # divergence for time T with linear growth and asymmetric gene flow\n",
    "    phi = dadi.Integration.two_pops(phi, xx, T, nu1_func, nu2_func,\n",
    "                               m12=m2, m21=m1)\n",
    "\n",
    "    fs = dadi.Spectrum.from_phi(phi, ns, (xx,xx))\n",
    "    return fs"
   ]
  },
  {
   "cell_type": "code",
   "execution_count": 150,
   "metadata": {
    "collapsed": false
   },
   "outputs": [
    {
     "data": {
      "text/plain": [
       "[<matplotlib.lines.Line2D at 0x7f5c74de2a90>]"
      ]
     },
     "execution_count": 150,
     "metadata": {},
     "output_type": "execute_result"
    },
    {
     "data": {
      "image/png": "[encoded data removed]",
      "text/plain": [
       "<matplotlib.figure.Figure at 0x7f5c733b8c10>"
      ]
     },
     "metadata": {},
     "output_type": "display_data"
    }
   ],
   "source": [
    "# test specification of linear growth\n",
    "\n",
    "T = 2\n",
    "t = np.linspace(0, 2, 100)\n",
    "nu = 4\n",
    "N_t = map(lambda t: 1 + (nu-1) * t/T, t)\n",
    "\n",
    "pylab.plot(t, N_t)"
   ]
  },
  {
   "cell_type": "code",
   "execution_count": 20,
   "metadata": {
    "collapsed": false
   },
   "outputs": [
    {
     "data": {
      "text/plain": [
       "<AsyncResult: _push>"
      ]
     },
     "execution_count": 20,
     "metadata": {},
     "output_type": "execute_result"
    }
   ],
   "source": [
    "cl[:].push(dict(IM_l=IM_l))"
   ]
  },
  {
   "cell_type": "code",
   "execution_count": 21,
   "metadata": {
    "collapsed": true
   },
   "outputs": [],
   "source": [
    "%%px --local\n",
    "\n",
    "func = IM_l\n",
    "\n",
    "func_ex = dadi.Numerics.make_extrap_log_func(func)"
   ]
  },
  {
   "cell_type": "code",
   "execution_count": 22,
   "metadata": {
    "collapsed": true
   },
   "outputs": [],
   "source": [
    "%%px --local\n",
    "\n",
    "# set up global variables on engines required for run_dadi function call\n",
    "\n",
    "ns = sfs2d.sample_sizes # both populations have the same sample size\n",
    "# setting the smallest grid size slightly larger than the largest population sample size (36)\n",
    "pts_l = [40, 50, 60]\n",
    "dadi_opt_func = dadi.Inference.optimize_log_fmin # uses Nelder-Mead algorithm\n",
    "sfs = sfs2d\n",
    "perturb = True\n",
    "fold = 2 # perturb randomly up to `fold` times 2-fold\n",
    "maxiter = 300 # run a maximum of 300 iterations\n",
    "verbose = 0\n",
    "full_output = True # need to have full output to get the warnflags (see below)\n",
    "outname = \"MODIFIED_SPECTRA/OUT_2D_models/IM_l\" # set file name stub for opt. result files\n",
    "fixed_params = None # do not fix any parameters, optimise all"
   ]
  },
  {
   "cell_type": "code",
   "execution_count": 23,
   "metadata": {
    "collapsed": true
   },
   "outputs": [],
   "source": [
    "%%px --local\n",
    "\n",
    "# set lower and upper bounds to s, nu1, nu2, T, m1, m2\n",
    "upper_bound = [1, 1e4, 1e4, 4, 10, 10] \n",
    "lower_bound = [0, 1e-4, 1e-4, 0, 0, 0]"
   ]
  },
  {
   "cell_type": "code",
   "execution_count": 24,
   "metadata": {
    "collapsed": true
   },
   "outputs": [],
   "source": [
    "# using optimal parameter values from `split_asym_mig` model as starting values to perturb\n",
    "p0 = [0.5, 1.5554055, 3.81288413, 2.34380465, 0.07615248, 0.34730636]"
   ]
  },
  {
   "cell_type": "code",
   "execution_count": null,
   "metadata": {
    "collapsed": true
   },
   "outputs": [],
   "source": [
    "#ar_IM_l = lbview.map(run_dadi, repeat(p0, 10))"
   ]
  },
  {
   "cell_type": "code",
   "execution_count": 25,
   "metadata": {
    "collapsed": true
   },
   "outputs": [],
   "source": [
    "ar_IM_l = []\n",
    "\n",
    "for filename in glob(\"OUT_2D_models/IM_l*dill\"):\n",
    "    ar_IM_l.append(dill.load((open(filename))))"
   ]
  },
  {
   "cell_type": "code",
   "execution_count": 26,
   "metadata": {
    "collapsed": false
   },
   "outputs": [
    {
     "name": "stdout",
     "output_type": "stream",
     "text": [
      "success 1\n",
      "Maximum number of function evaluations made. 0\n",
      "Maximum number of iterations reached. 9\n",
      "unknown flag 0\n"
     ]
    }
   ],
   "source": [
    "get_flag_count(ar_IM_l, NM=True)"
   ]
  },
  {
   "cell_type": "code",
   "execution_count": 27,
   "metadata": {
    "collapsed": false
   },
   "outputs": [
    {
     "data": {
      "text/html": [
       "<div>\n",
       "<table border=\"1\" class=\"dataframe\">\n",
       "  <thead>\n",
       "    <tr style=\"text-align: right;\">\n",
       "      <th></th>\n",
       "      <th>s_0</th>\n",
       "      <th>nu1_0</th>\n",
       "      <th>nu2_0</th>\n",
       "      <th>T_0</th>\n",
       "      <th>m1_0</th>\n",
       "      <th>m2_0</th>\n",
       "      <th>s_opt</th>\n",
       "      <th>nu1_opt</th>\n",
       "      <th>nu2_opt</th>\n",
       "      <th>T_opt</th>\n",
       "      <th>m1_opt</th>\n",
       "      <th>m2_opt</th>\n",
       "      <th>-logL</th>\n",
       "    </tr>\n",
       "  </thead>\n",
       "  <tbody>\n",
       "    <tr>\n",
       "      <th>1</th>\n",
       "      <td>0.203003</td>\n",
       "      <td>3.875706</td>\n",
       "      <td>4.118667</td>\n",
       "      <td>2.221169</td>\n",
       "      <td>0.273816</td>\n",
       "      <td>0.481572</td>\n",
       "      <td>9.996682e-01</td>\n",
       "      <td>1.817966</td>\n",
       "      <td>6.086413</td>\n",
       "      <td>3.993857</td>\n",
       "      <td>0.076573</td>\n",
       "      <td>0.327474</td>\n",
       "      <td>12535.032592</td>\n",
       "    </tr>\n",
       "    <tr>\n",
       "      <th>5</th>\n",
       "      <td>0.704564</td>\n",
       "      <td>4.513968</td>\n",
       "      <td>7.027870</td>\n",
       "      <td>3.960000</td>\n",
       "      <td>0.150884</td>\n",
       "      <td>0.495193</td>\n",
       "      <td>7.049459e-01</td>\n",
       "      <td>1.978755</td>\n",
       "      <td>5.801726</td>\n",
       "      <td>3.991335</td>\n",
       "      <td>0.064690</td>\n",
       "      <td>0.316536</td>\n",
       "      <td>12535.941358</td>\n",
       "    </tr>\n",
       "    <tr>\n",
       "      <th>3</th>\n",
       "      <td>0.601689</td>\n",
       "      <td>2.023649</td>\n",
       "      <td>13.809500</td>\n",
       "      <td>2.213514</td>\n",
       "      <td>0.033629</td>\n",
       "      <td>0.337455</td>\n",
       "      <td>6.172267e-01</td>\n",
       "      <td>1.911002</td>\n",
       "      <td>5.460823</td>\n",
       "      <td>3.736669</td>\n",
       "      <td>0.067011</td>\n",
       "      <td>0.327251</td>\n",
       "      <td>12540.967718</td>\n",
       "    </tr>\n",
       "    <tr>\n",
       "      <th>6</th>\n",
       "      <td>0.303974</td>\n",
       "      <td>2.668145</td>\n",
       "      <td>8.801616</td>\n",
       "      <td>2.822563</td>\n",
       "      <td>0.082534</td>\n",
       "      <td>0.221968</td>\n",
       "      <td>2.053428e-01</td>\n",
       "      <td>2.197845</td>\n",
       "      <td>5.055365</td>\n",
       "      <td>3.999998</td>\n",
       "      <td>0.058144</td>\n",
       "      <td>0.298362</td>\n",
       "      <td>12550.285772</td>\n",
       "    </tr>\n",
       "    <tr>\n",
       "      <th>4</th>\n",
       "      <td>0.653993</td>\n",
       "      <td>0.496132</td>\n",
       "      <td>2.801174</td>\n",
       "      <td>0.597627</td>\n",
       "      <td>0.061820</td>\n",
       "      <td>0.497076</td>\n",
       "      <td>5.590188e-02</td>\n",
       "      <td>2.180087</td>\n",
       "      <td>4.808371</td>\n",
       "      <td>3.999022</td>\n",
       "      <td>0.053734</td>\n",
       "      <td>0.307218</td>\n",
       "      <td>12557.175923</td>\n",
       "    </tr>\n",
       "    <tr>\n",
       "      <th>8</th>\n",
       "      <td>0.145981</td>\n",
       "      <td>5.096160</td>\n",
       "      <td>1.381127</td>\n",
       "      <td>3.960000</td>\n",
       "      <td>0.133269</td>\n",
       "      <td>0.263291</td>\n",
       "      <td>3.713438e-01</td>\n",
       "      <td>1.042277</td>\n",
       "      <td>2.499105</td>\n",
       "      <td>1.332073</td>\n",
       "      <td>0.109007</td>\n",
       "      <td>0.627433</td>\n",
       "      <td>12708.138553</td>\n",
       "    </tr>\n",
       "    <tr>\n",
       "      <th>2</th>\n",
       "      <td>0.415317</td>\n",
       "      <td>0.591004</td>\n",
       "      <td>1.657978</td>\n",
       "      <td>1.127243</td>\n",
       "      <td>0.025174</td>\n",
       "      <td>0.896826</td>\n",
       "      <td>7.922259e-01</td>\n",
       "      <td>0.768670</td>\n",
       "      <td>3.187071</td>\n",
       "      <td>1.221881</td>\n",
       "      <td>0.121274</td>\n",
       "      <td>0.814546</td>\n",
       "      <td>12797.435647</td>\n",
       "    </tr>\n",
       "    <tr>\n",
       "      <th>7</th>\n",
       "      <td>0.425806</td>\n",
       "      <td>1.469947</td>\n",
       "      <td>0.971380</td>\n",
       "      <td>0.880802</td>\n",
       "      <td>0.046352</td>\n",
       "      <td>0.138925</td>\n",
       "      <td>8.619370e-09</td>\n",
       "      <td>0.962189</td>\n",
       "      <td>1.178476</td>\n",
       "      <td>1.259259</td>\n",
       "      <td>0.119180</td>\n",
       "      <td>0.794375</td>\n",
       "      <td>13090.937814</td>\n",
       "    </tr>\n",
       "    <tr>\n",
       "      <th>9</th>\n",
       "      <td>0.258108</td>\n",
       "      <td>1.478199</td>\n",
       "      <td>1.020453</td>\n",
       "      <td>1.428272</td>\n",
       "      <td>0.169881</td>\n",
       "      <td>1.347643</td>\n",
       "      <td>1.392273e-02</td>\n",
       "      <td>0.945358</td>\n",
       "      <td>1.022459</td>\n",
       "      <td>1.126733</td>\n",
       "      <td>0.126779</td>\n",
       "      <td>0.760517</td>\n",
       "      <td>13184.211563</td>\n",
       "    </tr>\n",
       "    <tr>\n",
       "      <th>0</th>\n",
       "      <td>0.990000</td>\n",
       "      <td>4.574175</td>\n",
       "      <td>1.016484</td>\n",
       "      <td>3.960000</td>\n",
       "      <td>0.101989</td>\n",
       "      <td>0.104105</td>\n",
       "      <td>9.997106e-01</td>\n",
       "      <td>0.000282</td>\n",
       "      <td>1.289413</td>\n",
       "      <td>0.038803</td>\n",
       "      <td>7.389231</td>\n",
       "      <td>0.000011</td>\n",
       "      <td>29395.861430</td>\n",
       "    </tr>\n",
       "  </tbody>\n",
       "</table>\n",
       "</div>"
      ],
      "text/plain": [
       "        s_0     nu1_0      nu2_0       T_0      m1_0      m2_0         s_opt  \\\n",
       "1  0.203003  3.875706   4.118667  2.221169  0.273816  0.481572  9.996682e-01   \n",
       "5  0.704564  4.513968   7.027870  3.960000  0.150884  0.495193  7.049459e-01   \n",
       "3  0.601689  2.023649  13.809500  2.213514  0.033629  0.337455  6.172267e-01   \n",
       "6  0.303974  2.668145   8.801616  2.822563  0.082534  0.221968  2.053428e-01   \n",
       "4  0.653993  0.496132   2.801174  0.597627  0.061820  0.497076  5.590188e-02   \n",
       "8  0.145981  5.096160   1.381127  3.960000  0.133269  0.263291  3.713438e-01   \n",
       "2  0.415317  0.591004   1.657978  1.127243  0.025174  0.896826  7.922259e-01   \n",
       "7  0.425806  1.469947   0.971380  0.880802  0.046352  0.138925  8.619370e-09   \n",
       "9  0.258108  1.478199   1.020453  1.428272  0.169881  1.347643  1.392273e-02   \n",
       "0  0.990000  4.574175   1.016484  3.960000  0.101989  0.104105  9.997106e-01   \n",
       "\n",
       "    nu1_opt   nu2_opt     T_opt    m1_opt    m2_opt         -logL  \n",
       "1  1.817966  6.086413  3.993857  0.076573  0.327474  12535.032592  \n",
       "5  1.978755  5.801726  3.991335  0.064690  0.316536  12535.941358  \n",
       "3  1.911002  5.460823  3.736669  0.067011  0.327251  12540.967718  \n",
       "6  2.197845  5.055365  3.999998  0.058144  0.298362  12550.285772  \n",
       "4  2.180087  4.808371  3.999022  0.053734  0.307218  12557.175923  \n",
       "8  1.042277  2.499105  1.332073  0.109007  0.627433  12708.138553  \n",
       "2  0.768670  3.187071  1.221881  0.121274  0.814546  12797.435647  \n",
       "7  0.962189  1.178476  1.259259  0.119180  0.794375  13090.937814  \n",
       "9  0.945358  1.022459  1.126733  0.126779  0.760517  13184.211563  \n",
       "0  0.000282  1.289413  0.038803  7.389231  0.000011  29395.861430  "
      ]
     },
     "execution_count": 27,
     "metadata": {},
     "output_type": "execute_result"
    }
   ],
   "source": [
    "l = 2*len(p0)+1\n",
    "\n",
    "returned = [flatten(out)[:l] for out in ar_IM_l]\n",
    "\n",
    "df = pd.DataFrame(data=returned, columns=['s_0' ,'nu1_0','nu2_0', 'T_0', 'm1_0', 'm2_0', 's_opt' ,'nu1_opt', 'nu2_opt', 'T_opt', 'm1_opt', 'm2_opt', '-logL'])\n",
    "\n",
    "df.sort_values(by='-logL', ascending=True)"
   ]
  },
  {
   "cell_type": "markdown",
   "metadata": {
    "collapsed": true
   },
   "source": [
    "This improves the fit significantly as compared to the same model with exponential growth or decline (best logL 12,888.96). However, the `split_asym_mig` model from section 3 above still provided a better fit (best logL 12,359.63). This model incorporated a stepwise size change (followed by constant population size) that coincided with the population split. Also, note that the best fit parameter combination here contains an exceedingly small proportion of the ancestral population size ($1-s_{opt}$) allocated to PAR of 0.0004."
   ]
  },
  {
   "cell_type": "code",
   "execution_count": 31,
   "metadata": {
    "collapsed": true
   },
   "outputs": [],
   "source": [
    "%%px --local\n",
    "\n",
    "# set lower and upper bounds to s, nu1, nu2, T, m1, m2\n",
    "upper_bound = [1, 1e4, 1e4, 6, 10, 10] \n",
    "lower_bound = [0, 1e-4, 1e-4, 0, 0, 0]"
   ]
  },
  {
   "cell_type": "code",
   "execution_count": 32,
   "metadata": {
    "collapsed": false
   },
   "outputs": [
    {
     "data": {
      "text/plain": [
       "array([ 0.70494593,  1.97875488,  5.80172641,  3.9913347 ,  0.06468988,\n",
       "        0.31653588])"
      ]
     },
     "execution_count": 32,
     "metadata": {},
     "output_type": "execute_result"
    }
   ],
   "source": [
    "popt = np.array(df.sort_values(by='-logL', ascending=True).iloc[1, 6:12])\n",
    "popt"
   ]
  },
  {
   "cell_type": "code",
   "execution_count": 33,
   "metadata": {
    "collapsed": true
   },
   "outputs": [],
   "source": [
    "p0 = popt\n",
    "\n",
    "#ar_IM_l = lbview.map(run_dadi, repeat(p0, 10), block=False)"
   ]
  },
  {
   "cell_type": "code",
   "execution_count": 36,
   "metadata": {
    "collapsed": true
   },
   "outputs": [],
   "source": [
    "ar_IM_l = []\n",
    "\n",
    "for filename in glob(\"OUT_2D_models/IM_l*dill\"):\n",
    "    ar_IM_l.append(dill.load((open(filename))))"
   ]
  },
  {
   "cell_type": "code",
   "execution_count": 37,
   "metadata": {
    "collapsed": false
   },
   "outputs": [
    {
     "data": {
      "text/html": [
       "<div>\n",
       "<table border=\"1\" class=\"dataframe\">\n",
       "  <thead>\n",
       "    <tr style=\"text-align: right;\">\n",
       "      <th></th>\n",
       "      <th>s_0</th>\n",
       "      <th>nu1_0</th>\n",
       "      <th>nu2_0</th>\n",
       "      <th>T_0</th>\n",
       "      <th>m1_0</th>\n",
       "      <th>m2_0</th>\n",
       "      <th>s_opt</th>\n",
       "      <th>nu1_opt</th>\n",
       "      <th>nu2_opt</th>\n",
       "      <th>T_opt</th>\n",
       "      <th>m1_opt</th>\n",
       "      <th>m2_opt</th>\n",
       "      <th>-logL</th>\n",
       "    </tr>\n",
       "  </thead>\n",
       "  <tbody>\n",
       "    <tr>\n",
       "      <th>7</th>\n",
       "      <td>0.231736</td>\n",
       "      <td>3.381135</td>\n",
       "      <td>1.661646</td>\n",
       "      <td>4.487948</td>\n",
       "      <td>0.053821</td>\n",
       "      <td>0.080453</td>\n",
       "      <td>0.962549</td>\n",
       "      <td>2.622424</td>\n",
       "      <td>8.249789</td>\n",
       "      <td>5.996610</td>\n",
       "      <td>0.048111</td>\n",
       "      <td>0.232114</td>\n",
       "      <td>12516.956746</td>\n",
       "    </tr>\n",
       "    <tr>\n",
       "      <th>12</th>\n",
       "      <td>0.481842</td>\n",
       "      <td>2.339626</td>\n",
       "      <td>2.884235</td>\n",
       "      <td>5.940000</td>\n",
       "      <td>0.044144</td>\n",
       "      <td>0.356524</td>\n",
       "      <td>0.999901</td>\n",
       "      <td>2.315539</td>\n",
       "      <td>7.464471</td>\n",
       "      <td>5.394943</td>\n",
       "      <td>0.057795</td>\n",
       "      <td>0.260678</td>\n",
       "      <td>12519.643353</td>\n",
       "    </tr>\n",
       "    <tr>\n",
       "      <th>8</th>\n",
       "      <td>0.178174</td>\n",
       "      <td>0.931910</td>\n",
       "      <td>6.936553</td>\n",
       "      <td>5.940000</td>\n",
       "      <td>0.022410</td>\n",
       "      <td>0.689138</td>\n",
       "      <td>0.000066</td>\n",
       "      <td>2.995041</td>\n",
       "      <td>6.778374</td>\n",
       "      <td>5.988330</td>\n",
       "      <td>0.040038</td>\n",
       "      <td>0.219953</td>\n",
       "      <td>12534.203960</td>\n",
       "    </tr>\n",
       "    <tr>\n",
       "      <th>2</th>\n",
       "      <td>0.203003</td>\n",
       "      <td>3.875706</td>\n",
       "      <td>4.118667</td>\n",
       "      <td>2.221169</td>\n",
       "      <td>0.273816</td>\n",
       "      <td>0.481572</td>\n",
       "      <td>0.999668</td>\n",
       "      <td>1.817966</td>\n",
       "      <td>6.086413</td>\n",
       "      <td>3.993857</td>\n",
       "      <td>0.076573</td>\n",
       "      <td>0.327474</td>\n",
       "      <td>12535.032592</td>\n",
       "    </tr>\n",
       "    <tr>\n",
       "      <th>11</th>\n",
       "      <td>0.704564</td>\n",
       "      <td>4.513968</td>\n",
       "      <td>7.027870</td>\n",
       "      <td>3.960000</td>\n",
       "      <td>0.150884</td>\n",
       "      <td>0.495193</td>\n",
       "      <td>0.704946</td>\n",
       "      <td>1.978755</td>\n",
       "      <td>5.801726</td>\n",
       "      <td>3.991335</td>\n",
       "      <td>0.064690</td>\n",
       "      <td>0.316536</td>\n",
       "      <td>12535.941358</td>\n",
       "    </tr>\n",
       "    <tr>\n",
       "      <th>5</th>\n",
       "      <td>0.601689</td>\n",
       "      <td>2.023649</td>\n",
       "      <td>13.809500</td>\n",
       "      <td>2.213514</td>\n",
       "      <td>0.033629</td>\n",
       "      <td>0.337455</td>\n",
       "      <td>0.617227</td>\n",
       "      <td>1.911002</td>\n",
       "      <td>5.460823</td>\n",
       "      <td>3.736669</td>\n",
       "      <td>0.067011</td>\n",
       "      <td>0.327251</td>\n",
       "      <td>12540.967718</td>\n",
       "    </tr>\n",
       "    <tr>\n",
       "      <th>14</th>\n",
       "      <td>0.990000</td>\n",
       "      <td>0.777637</td>\n",
       "      <td>17.102773</td>\n",
       "      <td>3.537846</td>\n",
       "      <td>0.108252</td>\n",
       "      <td>0.612727</td>\n",
       "      <td>0.984982</td>\n",
       "      <td>2.241542</td>\n",
       "      <td>6.722230</td>\n",
       "      <td>4.558736</td>\n",
       "      <td>0.062624</td>\n",
       "      <td>0.270636</td>\n",
       "      <td>12549.189993</td>\n",
       "    </tr>\n",
       "    <tr>\n",
       "      <th>13</th>\n",
       "      <td>0.303974</td>\n",
       "      <td>2.668145</td>\n",
       "      <td>8.801616</td>\n",
       "      <td>2.822563</td>\n",
       "      <td>0.082534</td>\n",
       "      <td>0.221968</td>\n",
       "      <td>0.205343</td>\n",
       "      <td>2.197845</td>\n",
       "      <td>5.055365</td>\n",
       "      <td>3.999998</td>\n",
       "      <td>0.058144</td>\n",
       "      <td>0.298362</td>\n",
       "      <td>12550.285772</td>\n",
       "    </tr>\n",
       "    <tr>\n",
       "      <th>6</th>\n",
       "      <td>0.653993</td>\n",
       "      <td>0.496132</td>\n",
       "      <td>2.801174</td>\n",
       "      <td>0.597627</td>\n",
       "      <td>0.061820</td>\n",
       "      <td>0.497076</td>\n",
       "      <td>0.055902</td>\n",
       "      <td>2.180087</td>\n",
       "      <td>4.808371</td>\n",
       "      <td>3.999022</td>\n",
       "      <td>0.053734</td>\n",
       "      <td>0.307218</td>\n",
       "      <td>12557.175923</td>\n",
       "    </tr>\n",
       "    <tr>\n",
       "      <th>3</th>\n",
       "      <td>0.860240</td>\n",
       "      <td>7.174919</td>\n",
       "      <td>1.774645</td>\n",
       "      <td>2.229344</td>\n",
       "      <td>0.066773</td>\n",
       "      <td>0.177180</td>\n",
       "      <td>0.999981</td>\n",
       "      <td>1.282928</td>\n",
       "      <td>4.643031</td>\n",
       "      <td>2.840185</td>\n",
       "      <td>0.108370</td>\n",
       "      <td>0.464606</td>\n",
       "      <td>12573.702783</td>\n",
       "    </tr>\n",
       "  </tbody>\n",
       "</table>\n",
       "</div>"
      ],
      "text/plain": [
       "         s_0     nu1_0      nu2_0       T_0      m1_0      m2_0     s_opt  \\\n",
       "7   0.231736  3.381135   1.661646  4.487948  0.053821  0.080453  0.962549   \n",
       "12  0.481842  2.339626   2.884235  5.940000  0.044144  0.356524  0.999901   \n",
       "8   0.178174  0.931910   6.936553  5.940000  0.022410  0.689138  0.000066   \n",
       "2   0.203003  3.875706   4.118667  2.221169  0.273816  0.481572  0.999668   \n",
       "11  0.704564  4.513968   7.027870  3.960000  0.150884  0.495193  0.704946   \n",
       "5   0.601689  2.023649  13.809500  2.213514  0.033629  0.337455  0.617227   \n",
       "14  0.990000  0.777637  17.102773  3.537846  0.108252  0.612727  0.984982   \n",
       "13  0.303974  2.668145   8.801616  2.822563  0.082534  0.221968  0.205343   \n",
       "6   0.653993  0.496132   2.801174  0.597627  0.061820  0.497076  0.055902   \n",
       "3   0.860240  7.174919   1.774645  2.229344  0.066773  0.177180  0.999981   \n",
       "\n",
       "     nu1_opt   nu2_opt     T_opt    m1_opt    m2_opt         -logL  \n",
       "7   2.622424  8.249789  5.996610  0.048111  0.232114  12516.956746  \n",
       "12  2.315539  7.464471  5.394943  0.057795  0.260678  12519.643353  \n",
       "8   2.995041  6.778374  5.988330  0.040038  0.219953  12534.203960  \n",
       "2   1.817966  6.086413  3.993857  0.076573  0.327474  12535.032592  \n",
       "11  1.978755  5.801726  3.991335  0.064690  0.316536  12535.941358  \n",
       "5   1.911002  5.460823  3.736669  0.067011  0.327251  12540.967718  \n",
       "14  2.241542  6.722230  4.558736  0.062624  0.270636  12549.189993  \n",
       "13  2.197845  5.055365  3.999998  0.058144  0.298362  12550.285772  \n",
       "6   2.180087  4.808371  3.999022  0.053734  0.307218  12557.175923  \n",
       "3   1.282928  4.643031  2.840185  0.108370  0.464606  12573.702783  "
      ]
     },
     "execution_count": 37,
     "metadata": {},
     "output_type": "execute_result"
    }
   ],
   "source": [
    "l = 2*len(p0)+1\n",
    "\n",
    "returned = [flatten(out)[:l] for out in ar_IM_l]\n",
    "\n",
    "df = pd.DataFrame(data=returned, columns=['s_0' ,'nu1_0','nu2_0', 'T_0', 'm1_0', 'm2_0', 's_opt' ,'nu1_opt', 'nu2_opt', 'T_opt', 'm1_opt', 'm2_opt', '-logL'])\n",
    "\n",
    "df.sort_values(by='-logL', ascending=True).head(10)"
   ]
  },
  {
   "cell_type": "markdown",
   "metadata": {},
   "source": [
    "There is no good convergence, the inferred $s$ is very high and the inferred T is close to the upper boundary that I set. Furthermore, the best *-logL* is still higher than the best *-logL* achieved with the asymmetric migration model (12,359). I don't think it is worth continuing the search."
   ]
  },
  {
   "cell_type": "markdown",
   "metadata": {},
   "source": [
    "# Ancient migration"
   ]
  },
  {
   "cell_type": "code",
   "execution_count": 13,
   "metadata": {
    "collapsed": true
   },
   "outputs": [],
   "source": [
    "def split_asym_mig_iso(params, ns, pts):\n",
    "    \"\"\"\n",
    "    params = (nu1,nu2,Tc,m1,m2,Ti)\n",
    "    ns = (n1,n2)\n",
    "\n",
    "    Split into two populations of specifed size, with potentially asymmetric migration\n",
    "    for a time Tc followed by complete isolation until present.\n",
    "\n",
    "    nu1: population size ratio of population 1 after split (with respect to Na)\n",
    "    nu2: population size ratio of population 2 after split (with respect to Na)\n",
    "    Tc: Time of gene flow after split (in units of 2*Na generations) \n",
    "    m1: Migration rate from ery into par (in units of 2*Na ind per generation)\n",
    "    m2: Migration rate from par into ery (in units of 2*Na ind per generation)\n",
    "    Ti: Time of isolation after cessation of gene flow\n",
    "    The split lies Tc+Ti * 2Na generations in the past.\n",
    "    n1,n2: Sample sizes of resulting Spectrum\n",
    "    pts: Number of grid points to use in integration.\n",
    "    \"\"\"\n",
    "    nu1,nu2,Tc,m1,m2,Ti = params\n",
    "\n",
    "    xx = dadi.Numerics.default_grid(pts)\n",
    "\n",
    "    phi = dadi.PhiManip.phi_1D(xx)\n",
    "    \n",
    "    # split\n",
    "    phi = dadi.PhiManip.phi_1D_to_2D(xx, phi) \n",
    "    \n",
    "    # divergence with potentially asymmetric migration\n",
    "    phi = dadi.Integration.two_pops(phi, xx, Tc, nu1, nu2, m12=m2, m21=m1)\n",
    "    \n",
    "    # divergence without gene flow\n",
    "    phi = dadi.Integration.two_pops(phi, xx, Ti, nu1, nu2, m12=0, m21=0)\n",
    "\n",
    "    fs = dadi.Spectrum.from_phi(phi, ns, (xx,xx))\n",
    "    return fs"
   ]
  },
  {
   "cell_type": "code",
   "execution_count": 14,
   "metadata": {
    "collapsed": false
   },
   "outputs": [
    {
     "data": {
      "text/plain": [
       "<AsyncResult: _push>"
      ]
     },
     "execution_count": 14,
     "metadata": {},
     "output_type": "execute_result"
    }
   ],
   "source": [
    "cl[:].push(dict(split_asym_mig_iso=split_asym_mig_iso))"
   ]
  },
  {
   "cell_type": "code",
   "execution_count": 15,
   "metadata": {
    "collapsed": false
   },
   "outputs": [],
   "source": [
    "%%px --local\n",
    "\n",
    "func = split_asym_mig_iso\n",
    "\n",
    "func_ex = dadi.Numerics.make_extrap_log_func(func)"
   ]
  },
  {
   "cell_type": "code",
   "execution_count": 16,
   "metadata": {
    "collapsed": true
   },
   "outputs": [],
   "source": [
    "%%px --local\n",
    "\n",
    "# set up global variables on engines required for run_dadi function call\n",
    "\n",
    "ns = sfs2d.sample_sizes # both populations have the same sample size\n",
    "# setting the smallest grid size slightly larger than the largest population sample size (36)\n",
    "pts_l = [40, 50, 60]\n",
    "dadi_opt_func = dadi.Inference.optimize_log_fmin # uses Nelder-Mead algorithm\n",
    "sfs = sfs2d\n",
    "perturb = True\n",
    "fold = 2 # perturb randomly up to `fold` times 2-fold\n",
    "maxiter = 300 # run a maximum of 300 iterations\n",
    "verbose = 0\n",
    "full_output = True # need to have full output to get the warnflags (see below)\n",
    "outname = \"MODIFIED_SPECTRA/OUT_2D_models/split_asym_mig_iso\" # set file name stub for opt. result files\n",
    "fixed_params = None"
   ]
  },
  {
   "cell_type": "code",
   "execution_count": 17,
   "metadata": {
    "collapsed": true
   },
   "outputs": [],
   "source": [
    "%%px --local\n",
    "\n",
    "# set lower and upper bounds to nu1, nu2, Tc, m1, m2 and Ti\n",
    "upper_bound = [1e4, 1e4, 6, 10, 10, 6] # note, I have increased the upper bound for T\n",
    "lower_bound = [1e-4, 1e-4, 0, 0, 0, 0]"
   ]
  },
  {
   "cell_type": "code",
   "execution_count": 20,
   "metadata": {
    "collapsed": true
   },
   "outputs": [],
   "source": [
    "# using the optimal parameters from the `split_asym_mig` model\n",
    "p0 = [1.555405, 3.812884, 2.343805/2, 0.076152, 0.347306, 2.343805/2]"
   ]
  },
  {
   "cell_type": "code",
   "execution_count": 168,
   "metadata": {
    "collapsed": true
   },
   "outputs": [],
   "source": [
    "#ar_split_asym_mig_iso = lbview.map(run_dadi, repeat(p0, 10))"
   ]
  },
  {
   "cell_type": "code",
   "execution_count": 17,
   "metadata": {
    "collapsed": true
   },
   "outputs": [],
   "source": [
    "ar_split_asym_mig_iso = []\n",
    "\n",
    "for filename in glob(\"OUT_2D_models/split_asym_mig_iso*dill\"):\n",
    "    ar_split_asym_mig_iso.append(dill.load(open(filename)))"
   ]
  },
  {
   "cell_type": "code",
   "execution_count": 18,
   "metadata": {
    "collapsed": false
   },
   "outputs": [
    {
     "name": "stdout",
     "output_type": "stream",
     "text": [
      "success 0\n",
      "Maximum number of function evaluations made. 0\n",
      "Maximum number of iterations reached. 9\n",
      "unknown flag 0\n"
     ]
    }
   ],
   "source": [
    "get_flag_count(ar_split_asym_mig_iso, NM=True)"
   ]
  },
  {
   "cell_type": "code",
   "execution_count": 19,
   "metadata": {
    "collapsed": false
   },
   "outputs": [
    {
     "data": {
      "text/html": [
       "<div>\n",
       "<table border=\"1\" class=\"dataframe\">\n",
       "  <thead>\n",
       "    <tr style=\"text-align: right;\">\n",
       "      <th></th>\n",
       "      <th>nu1_0</th>\n",
       "      <th>nu2_0</th>\n",
       "      <th>Tc_0</th>\n",
       "      <th>m1_0</th>\n",
       "      <th>m2_0</th>\n",
       "      <th>Ti_0</th>\n",
       "      <th>nu1_opt</th>\n",
       "      <th>nu2_opt</th>\n",
       "      <th>Tc_opt</th>\n",
       "      <th>m1_opt</th>\n",
       "      <th>m2_opt</th>\n",
       "      <th>Ti_opt</th>\n",
       "      <th>-logL</th>\n",
       "    </tr>\n",
       "  </thead>\n",
       "  <tbody>\n",
       "    <tr>\n",
       "      <th>8</th>\n",
       "      <td>0.990000</td>\n",
       "      <td>8.359944</td>\n",
       "      <td>2.967286</td>\n",
       "      <td>0.247505</td>\n",
       "      <td>0.216418</td>\n",
       "      <td>0.295627</td>\n",
       "      <td>0.999770</td>\n",
       "      <td>2.809523</td>\n",
       "      <td>1.426900</td>\n",
       "      <td>7.429267e-02</td>\n",
       "      <td>6.816504e-01</td>\n",
       "      <td>2.820061e-02</td>\n",
       "      <td>12315.949071</td>\n",
       "    </tr>\n",
       "    <tr>\n",
       "      <th>4</th>\n",
       "      <td>0.990000</td>\n",
       "      <td>7.012555</td>\n",
       "      <td>1.098683</td>\n",
       "      <td>0.147341</td>\n",
       "      <td>0.395542</td>\n",
       "      <td>2.172501</td>\n",
       "      <td>0.968944</td>\n",
       "      <td>2.455098</td>\n",
       "      <td>1.104248</td>\n",
       "      <td>1.119865e-01</td>\n",
       "      <td>6.094089e-01</td>\n",
       "      <td>1.916132e-02</td>\n",
       "      <td>12356.736701</td>\n",
       "    </tr>\n",
       "    <tr>\n",
       "      <th>6</th>\n",
       "      <td>0.955717</td>\n",
       "      <td>12.340014</td>\n",
       "      <td>0.529553</td>\n",
       "      <td>0.139149</td>\n",
       "      <td>0.195895</td>\n",
       "      <td>0.438003</td>\n",
       "      <td>0.904117</td>\n",
       "      <td>2.476454</td>\n",
       "      <td>1.156964</td>\n",
       "      <td>9.282603e-02</td>\n",
       "      <td>7.261105e-01</td>\n",
       "      <td>2.537161e-02</td>\n",
       "      <td>12377.541453</td>\n",
       "    </tr>\n",
       "    <tr>\n",
       "      <th>1</th>\n",
       "      <td>0.990000</td>\n",
       "      <td>9.743392</td>\n",
       "      <td>0.717364</td>\n",
       "      <td>0.104640</td>\n",
       "      <td>0.923004</td>\n",
       "      <td>1.701956</td>\n",
       "      <td>0.915695</td>\n",
       "      <td>2.587967</td>\n",
       "      <td>1.336239</td>\n",
       "      <td>8.415303e-02</td>\n",
       "      <td>8.649855e-01</td>\n",
       "      <td>4.876505e-02</td>\n",
       "      <td>12452.463230</td>\n",
       "    </tr>\n",
       "    <tr>\n",
       "      <th>0</th>\n",
       "      <td>0.396562</td>\n",
       "      <td>1.011215</td>\n",
       "      <td>4.687011</td>\n",
       "      <td>0.063182</td>\n",
       "      <td>0.306567</td>\n",
       "      <td>3.954367</td>\n",
       "      <td>0.892823</td>\n",
       "      <td>2.830180</td>\n",
       "      <td>1.074032</td>\n",
       "      <td>1.952844e-232</td>\n",
       "      <td>6.809258e-01</td>\n",
       "      <td>2.400412e-286</td>\n",
       "      <td>12834.457770</td>\n",
       "    </tr>\n",
       "    <tr>\n",
       "      <th>7</th>\n",
       "      <td>0.790844</td>\n",
       "      <td>2.507872</td>\n",
       "      <td>0.366900</td>\n",
       "      <td>0.198516</td>\n",
       "      <td>1.385579</td>\n",
       "      <td>2.441703</td>\n",
       "      <td>0.999793</td>\n",
       "      <td>3.202772</td>\n",
       "      <td>1.908154</td>\n",
       "      <td>2.470231e-03</td>\n",
       "      <td>1.117805e+00</td>\n",
       "      <td>7.600760e-02</td>\n",
       "      <td>12888.288301</td>\n",
       "    </tr>\n",
       "    <tr>\n",
       "      <th>3</th>\n",
       "      <td>0.515017</td>\n",
       "      <td>3.576919</td>\n",
       "      <td>0.442112</td>\n",
       "      <td>0.019754</td>\n",
       "      <td>0.131618</td>\n",
       "      <td>0.512714</td>\n",
       "      <td>0.989586</td>\n",
       "      <td>1.563574</td>\n",
       "      <td>0.497919</td>\n",
       "      <td>3.306783e-01</td>\n",
       "      <td>7.172812e-09</td>\n",
       "      <td>2.548533e-03</td>\n",
       "      <td>14763.672024</td>\n",
       "    </tr>\n",
       "    <tr>\n",
       "      <th>5</th>\n",
       "      <td>0.790903</td>\n",
       "      <td>0.980743</td>\n",
       "      <td>1.183645</td>\n",
       "      <td>0.245645</td>\n",
       "      <td>0.418042</td>\n",
       "      <td>1.897280</td>\n",
       "      <td>0.659343</td>\n",
       "      <td>0.961191</td>\n",
       "      <td>1.180327</td>\n",
       "      <td>3.828303e+00</td>\n",
       "      <td>6.992257e-01</td>\n",
       "      <td>1.240319e-01</td>\n",
       "      <td>16020.739766</td>\n",
       "    </tr>\n",
       "    <tr>\n",
       "      <th>2</th>\n",
       "      <td>0.990000</td>\n",
       "      <td>3.478991</td>\n",
       "      <td>1.977104</td>\n",
       "      <td>0.046105</td>\n",
       "      <td>1.206637</td>\n",
       "      <td>0.931285</td>\n",
       "      <td>0.999967</td>\n",
       "      <td>3.202098</td>\n",
       "      <td>1.299714</td>\n",
       "      <td>3.994489e+00</td>\n",
       "      <td>1.508210e+00</td>\n",
       "      <td>8.130838e-01</td>\n",
       "      <td>23042.642491</td>\n",
       "    </tr>\n",
       "  </tbody>\n",
       "</table>\n",
       "</div>"
      ],
      "text/plain": [
       "      nu1_0      nu2_0      Tc_0      m1_0      m2_0      Ti_0   nu1_opt  \\\n",
       "8  0.990000   8.359944  2.967286  0.247505  0.216418  0.295627  0.999770   \n",
       "4  0.990000   7.012555  1.098683  0.147341  0.395542  2.172501  0.968944   \n",
       "6  0.955717  12.340014  0.529553  0.139149  0.195895  0.438003  0.904117   \n",
       "1  0.990000   9.743392  0.717364  0.104640  0.923004  1.701956  0.915695   \n",
       "0  0.396562   1.011215  4.687011  0.063182  0.306567  3.954367  0.892823   \n",
       "7  0.790844   2.507872  0.366900  0.198516  1.385579  2.441703  0.999793   \n",
       "3  0.515017   3.576919  0.442112  0.019754  0.131618  0.512714  0.989586   \n",
       "5  0.790903   0.980743  1.183645  0.245645  0.418042  1.897280  0.659343   \n",
       "2  0.990000   3.478991  1.977104  0.046105  1.206637  0.931285  0.999967   \n",
       "\n",
       "    nu2_opt    Tc_opt         m1_opt        m2_opt         Ti_opt  \\\n",
       "8  2.809523  1.426900   7.429267e-02  6.816504e-01   2.820061e-02   \n",
       "4  2.455098  1.104248   1.119865e-01  6.094089e-01   1.916132e-02   \n",
       "6  2.476454  1.156964   9.282603e-02  7.261105e-01   2.537161e-02   \n",
       "1  2.587967  1.336239   8.415303e-02  8.649855e-01   4.876505e-02   \n",
       "0  2.830180  1.074032  1.952844e-232  6.809258e-01  2.400412e-286   \n",
       "7  3.202772  1.908154   2.470231e-03  1.117805e+00   7.600760e-02   \n",
       "3  1.563574  0.497919   3.306783e-01  7.172812e-09   2.548533e-03   \n",
       "5  0.961191  1.180327   3.828303e+00  6.992257e-01   1.240319e-01   \n",
       "2  3.202098  1.299714   3.994489e+00  1.508210e+00   8.130838e-01   \n",
       "\n",
       "          -logL  \n",
       "8  12315.949071  \n",
       "4  12356.736701  \n",
       "6  12377.541453  \n",
       "1  12452.463230  \n",
       "0  12834.457770  \n",
       "7  12888.288301  \n",
       "3  14763.672024  \n",
       "5  16020.739766  \n",
       "2  23042.642491  "
      ]
     },
     "execution_count": 19,
     "metadata": {},
     "output_type": "execute_result"
    }
   ],
   "source": [
    "l = 2*len(p0)+1\n",
    "\n",
    "success = [flatten(out)[:l] for out in ar_split_asym_mig_iso]\n",
    "\n",
    "df = pd.DataFrame(data=success, \\\n",
    "                  columns=['nu1_0','nu2_0', 'Tc_0', 'm1_0', 'm2_0', 'Ti_0', 'nu1_opt', 'nu2_opt', 'Tc_opt', 'm1_opt', 'm2_opt', 'Ti_opt', '-logL'])\n",
    "\n",
    "df.sort_values(by='-logL', ascending=True)"
   ]
  },
  {
   "cell_type": "code",
   "execution_count": 20,
   "metadata": {
    "collapsed": false
   },
   "outputs": [
    {
     "data": {
      "text/plain": [
       "array([ 0.99977013,  2.80952272,  1.42690025,  0.07429267,  0.68165038,\n",
       "        0.02820061])"
      ]
     },
     "execution_count": 20,
     "metadata": {},
     "output_type": "execute_result"
    }
   ],
   "source": [
    "popt = np.array(df.sort_values(by='-logL', ascending=True).iloc[0,6:12])\n",
    "popt"
   ]
  },
  {
   "cell_type": "code",
   "execution_count": 22,
   "metadata": {
    "collapsed": false
   },
   "outputs": [],
   "source": [
    "%%px --local\n",
    "\n",
    "pts_l = [50, 60, 70] # make finer grid"
   ]
  },
  {
   "cell_type": "code",
   "execution_count": 23,
   "metadata": {
    "collapsed": true
   },
   "outputs": [],
   "source": [
    "p0 = popt\n",
    "\n",
    "#ar_split_asym_mig_iso = lbview.map(run_dadi, repeat(p0, 10))"
   ]
  },
  {
   "cell_type": "code",
   "execution_count": 24,
   "metadata": {
    "collapsed": false
   },
   "outputs": [
    {
     "name": "stdout",
     "output_type": "stream",
     "text": [
      "success 0\n",
      "Maximum number of function evaluations made. 0\n",
      "Maximum number of iterations reached. 10\n",
      "unknown flag 0\n"
     ]
    }
   ],
   "source": [
    "get_flag_count(ar_split_asym_mig_iso, NM=True)"
   ]
  },
  {
   "cell_type": "code",
   "execution_count": 25,
   "metadata": {
    "collapsed": true
   },
   "outputs": [],
   "source": [
    "ar_split_asym_mig_iso = []\n",
    "\n",
    "for filename in glob(\"OUT_2D_models/split_asym_mig_iso*dill\"):\n",
    "    ar_split_asym_mig_iso.append(dill.load(open(filename)))"
   ]
  },
  {
   "cell_type": "code",
   "execution_count": 26,
   "metadata": {
    "collapsed": false
   },
   "outputs": [
    {
     "data": {
      "text/html": [
       "<div>\n",
       "<table border=\"1\" class=\"dataframe\">\n",
       "  <thead>\n",
       "    <tr style=\"text-align: right;\">\n",
       "      <th></th>\n",
       "      <th>nu1_0</th>\n",
       "      <th>nu2_0</th>\n",
       "      <th>Tc_0</th>\n",
       "      <th>m1_0</th>\n",
       "      <th>m2_0</th>\n",
       "      <th>Ti_0</th>\n",
       "      <th>nu1_opt</th>\n",
       "      <th>nu2_opt</th>\n",
       "      <th>Tc_opt</th>\n",
       "      <th>m1_opt</th>\n",
       "      <th>m2_opt</th>\n",
       "      <th>Ti_opt</th>\n",
       "      <th>-logL</th>\n",
       "    </tr>\n",
       "  </thead>\n",
       "  <tbody>\n",
       "    <tr>\n",
       "      <th>4</th>\n",
       "      <td>1.114068</td>\n",
       "      <td>2.045370</td>\n",
       "      <td>0.628484</td>\n",
       "      <td>0.054210</td>\n",
       "      <td>0.524956</td>\n",
       "      <td>0.061246</td>\n",
       "      <td>2.877591</td>\n",
       "      <td>7.051026</td>\n",
       "      <td>5.515295</td>\n",
       "      <td>4.619322e-02</td>\n",
       "      <td>2.413644e-01</td>\n",
       "      <td>9.522990e-02</td>\n",
       "      <td>12157.097777</td>\n",
       "    </tr>\n",
       "    <tr>\n",
       "      <th>15</th>\n",
       "      <td>0.553390</td>\n",
       "      <td>3.423582</td>\n",
       "      <td>0.669935</td>\n",
       "      <td>0.178126</td>\n",
       "      <td>0.566459</td>\n",
       "      <td>0.009321</td>\n",
       "      <td>1.425900</td>\n",
       "      <td>3.521453</td>\n",
       "      <td>2.151054</td>\n",
       "      <td>7.305745e-02</td>\n",
       "      <td>3.906106e-01</td>\n",
       "      <td>6.877453e-03</td>\n",
       "      <td>12310.358394</td>\n",
       "    </tr>\n",
       "    <tr>\n",
       "      <th>18</th>\n",
       "      <td>0.990000</td>\n",
       "      <td>8.359944</td>\n",
       "      <td>2.967286</td>\n",
       "      <td>0.247505</td>\n",
       "      <td>0.216418</td>\n",
       "      <td>0.295627</td>\n",
       "      <td>0.999770</td>\n",
       "      <td>2.809523</td>\n",
       "      <td>1.426900</td>\n",
       "      <td>7.429267e-02</td>\n",
       "      <td>6.816504e-01</td>\n",
       "      <td>2.820061e-02</td>\n",
       "      <td>12315.949071</td>\n",
       "    </tr>\n",
       "    <tr>\n",
       "      <th>8</th>\n",
       "      <td>0.284546</td>\n",
       "      <td>1.780534</td>\n",
       "      <td>0.542622</td>\n",
       "      <td>0.157445</td>\n",
       "      <td>2.687989</td>\n",
       "      <td>0.067133</td>\n",
       "      <td>1.480242</td>\n",
       "      <td>3.818764</td>\n",
       "      <td>2.273526</td>\n",
       "      <td>6.555660e-02</td>\n",
       "      <td>3.841305e-01</td>\n",
       "      <td>4.231302e-03</td>\n",
       "      <td>12330.193803</td>\n",
       "    </tr>\n",
       "    <tr>\n",
       "      <th>7</th>\n",
       "      <td>0.650546</td>\n",
       "      <td>5.641617</td>\n",
       "      <td>0.512223</td>\n",
       "      <td>0.080364</td>\n",
       "      <td>0.874478</td>\n",
       "      <td>0.093402</td>\n",
       "      <td>1.124442</td>\n",
       "      <td>3.051764</td>\n",
       "      <td>1.656526</td>\n",
       "      <td>7.516770e-02</td>\n",
       "      <td>7.468150e-01</td>\n",
       "      <td>5.387482e-02</td>\n",
       "      <td>12333.745210</td>\n",
       "    </tr>\n",
       "    <tr>\n",
       "      <th>11</th>\n",
       "      <td>0.990000</td>\n",
       "      <td>7.012555</td>\n",
       "      <td>1.098683</td>\n",
       "      <td>0.147341</td>\n",
       "      <td>0.395542</td>\n",
       "      <td>2.172501</td>\n",
       "      <td>0.968944</td>\n",
       "      <td>2.455098</td>\n",
       "      <td>1.104248</td>\n",
       "      <td>1.119865e-01</td>\n",
       "      <td>6.094089e-01</td>\n",
       "      <td>1.916132e-02</td>\n",
       "      <td>12356.736701</td>\n",
       "    </tr>\n",
       "    <tr>\n",
       "      <th>13</th>\n",
       "      <td>0.955717</td>\n",
       "      <td>12.340014</td>\n",
       "      <td>0.529553</td>\n",
       "      <td>0.139149</td>\n",
       "      <td>0.195895</td>\n",
       "      <td>0.438003</td>\n",
       "      <td>0.904117</td>\n",
       "      <td>2.476454</td>\n",
       "      <td>1.156964</td>\n",
       "      <td>9.282603e-02</td>\n",
       "      <td>7.261105e-01</td>\n",
       "      <td>2.537161e-02</td>\n",
       "      <td>12377.541453</td>\n",
       "    </tr>\n",
       "    <tr>\n",
       "      <th>0</th>\n",
       "      <td>2.610421</td>\n",
       "      <td>1.305616</td>\n",
       "      <td>1.429607</td>\n",
       "      <td>0.188757</td>\n",
       "      <td>2.714221</td>\n",
       "      <td>0.009457</td>\n",
       "      <td>0.921184</td>\n",
       "      <td>2.174184</td>\n",
       "      <td>1.034288</td>\n",
       "      <td>1.042159e-01</td>\n",
       "      <td>6.835330e-01</td>\n",
       "      <td>2.149244e-02</td>\n",
       "      <td>12433.587948</td>\n",
       "    </tr>\n",
       "    <tr>\n",
       "      <th>10</th>\n",
       "      <td>0.319417</td>\n",
       "      <td>1.476172</td>\n",
       "      <td>0.997998</td>\n",
       "      <td>0.025943</td>\n",
       "      <td>0.666049</td>\n",
       "      <td>0.008386</td>\n",
       "      <td>1.031350</td>\n",
       "      <td>2.254960</td>\n",
       "      <td>0.998242</td>\n",
       "      <td>1.378614e-01</td>\n",
       "      <td>4.902879e-01</td>\n",
       "      <td>1.468785e-02</td>\n",
       "      <td>12447.888476</td>\n",
       "    </tr>\n",
       "    <tr>\n",
       "      <th>3</th>\n",
       "      <td>0.990000</td>\n",
       "      <td>9.743392</td>\n",
       "      <td>0.717364</td>\n",
       "      <td>0.104640</td>\n",
       "      <td>0.923004</td>\n",
       "      <td>1.701956</td>\n",
       "      <td>0.915695</td>\n",
       "      <td>2.587967</td>\n",
       "      <td>1.336239</td>\n",
       "      <td>8.415303e-02</td>\n",
       "      <td>8.649855e-01</td>\n",
       "      <td>4.876505e-02</td>\n",
       "      <td>12452.463230</td>\n",
       "    </tr>\n",
       "    <tr>\n",
       "      <th>14</th>\n",
       "      <td>2.391520</td>\n",
       "      <td>8.970536</td>\n",
       "      <td>2.759658</td>\n",
       "      <td>0.061570</td>\n",
       "      <td>2.159332</td>\n",
       "      <td>0.046643</td>\n",
       "      <td>3.413165</td>\n",
       "      <td>8.520401</td>\n",
       "      <td>5.998978</td>\n",
       "      <td>4.348156e-02</td>\n",
       "      <td>3.426220e-01</td>\n",
       "      <td>3.155935e-01</td>\n",
       "      <td>12598.572386</td>\n",
       "    </tr>\n",
       "    <tr>\n",
       "      <th>2</th>\n",
       "      <td>2.076349</td>\n",
       "      <td>5.484228</td>\n",
       "      <td>0.803127</td>\n",
       "      <td>0.059377</td>\n",
       "      <td>2.524920</td>\n",
       "      <td>0.024224</td>\n",
       "      <td>1.043791</td>\n",
       "      <td>2.937971</td>\n",
       "      <td>1.341271</td>\n",
       "      <td>1.739436e-09</td>\n",
       "      <td>7.605266e-01</td>\n",
       "      <td>3.425035e-02</td>\n",
       "      <td>12622.195411</td>\n",
       "    </tr>\n",
       "    <tr>\n",
       "      <th>9</th>\n",
       "      <td>0.460975</td>\n",
       "      <td>0.909325</td>\n",
       "      <td>4.590305</td>\n",
       "      <td>0.094300</td>\n",
       "      <td>2.083465</td>\n",
       "      <td>0.010531</td>\n",
       "      <td>0.870938</td>\n",
       "      <td>2.540832</td>\n",
       "      <td>0.939239</td>\n",
       "      <td>7.351060e-08</td>\n",
       "      <td>6.988656e-01</td>\n",
       "      <td>5.620391e-03</td>\n",
       "      <td>12767.140194</td>\n",
       "    </tr>\n",
       "    <tr>\n",
       "      <th>1</th>\n",
       "      <td>0.396562</td>\n",
       "      <td>1.011215</td>\n",
       "      <td>4.687011</td>\n",
       "      <td>0.063182</td>\n",
       "      <td>0.306567</td>\n",
       "      <td>3.954367</td>\n",
       "      <td>0.892823</td>\n",
       "      <td>2.830180</td>\n",
       "      <td>1.074032</td>\n",
       "      <td>1.952844e-232</td>\n",
       "      <td>6.809258e-01</td>\n",
       "      <td>2.400412e-286</td>\n",
       "      <td>12834.457770</td>\n",
       "    </tr>\n",
       "    <tr>\n",
       "      <th>17</th>\n",
       "      <td>0.790844</td>\n",
       "      <td>2.507872</td>\n",
       "      <td>0.366900</td>\n",
       "      <td>0.198516</td>\n",
       "      <td>1.385579</td>\n",
       "      <td>2.441703</td>\n",
       "      <td>0.999793</td>\n",
       "      <td>3.202772</td>\n",
       "      <td>1.908154</td>\n",
       "      <td>2.470231e-03</td>\n",
       "      <td>1.117805e+00</td>\n",
       "      <td>7.600760e-02</td>\n",
       "      <td>12888.288301</td>\n",
       "    </tr>\n",
       "    <tr>\n",
       "      <th>16</th>\n",
       "      <td>0.961159</td>\n",
       "      <td>1.059072</td>\n",
       "      <td>0.531496</td>\n",
       "      <td>0.037172</td>\n",
       "      <td>0.366103</td>\n",
       "      <td>0.021467</td>\n",
       "      <td>0.740368</td>\n",
       "      <td>1.136677</td>\n",
       "      <td>0.739773</td>\n",
       "      <td>3.615810e-01</td>\n",
       "      <td>5.538398e-01</td>\n",
       "      <td>4.963908e-03</td>\n",
       "      <td>13951.588975</td>\n",
       "    </tr>\n",
       "    <tr>\n",
       "      <th>6</th>\n",
       "      <td>0.515017</td>\n",
       "      <td>3.576919</td>\n",
       "      <td>0.442112</td>\n",
       "      <td>0.019754</td>\n",
       "      <td>0.131618</td>\n",
       "      <td>0.512714</td>\n",
       "      <td>0.989586</td>\n",
       "      <td>1.563574</td>\n",
       "      <td>0.497919</td>\n",
       "      <td>3.306783e-01</td>\n",
       "      <td>7.172812e-09</td>\n",
       "      <td>2.548533e-03</td>\n",
       "      <td>14763.672024</td>\n",
       "    </tr>\n",
       "    <tr>\n",
       "      <th>12</th>\n",
       "      <td>0.790903</td>\n",
       "      <td>0.980743</td>\n",
       "      <td>1.183645</td>\n",
       "      <td>0.245645</td>\n",
       "      <td>0.418042</td>\n",
       "      <td>1.897280</td>\n",
       "      <td>0.659343</td>\n",
       "      <td>0.961191</td>\n",
       "      <td>1.180327</td>\n",
       "      <td>3.828303e+00</td>\n",
       "      <td>6.992257e-01</td>\n",
       "      <td>1.240319e-01</td>\n",
       "      <td>16020.739766</td>\n",
       "    </tr>\n",
       "    <tr>\n",
       "      <th>5</th>\n",
       "      <td>0.990000</td>\n",
       "      <td>3.478991</td>\n",
       "      <td>1.977104</td>\n",
       "      <td>0.046105</td>\n",
       "      <td>1.206637</td>\n",
       "      <td>0.931285</td>\n",
       "      <td>0.999967</td>\n",
       "      <td>3.202098</td>\n",
       "      <td>1.299714</td>\n",
       "      <td>3.994489e+00</td>\n",
       "      <td>1.508210e+00</td>\n",
       "      <td>8.130838e-01</td>\n",
       "      <td>23042.642491</td>\n",
       "    </tr>\n",
       "  </tbody>\n",
       "</table>\n",
       "</div>"
      ],
      "text/plain": [
       "       nu1_0      nu2_0      Tc_0      m1_0      m2_0      Ti_0   nu1_opt  \\\n",
       "4   1.114068   2.045370  0.628484  0.054210  0.524956  0.061246  2.877591   \n",
       "15  0.553390   3.423582  0.669935  0.178126  0.566459  0.009321  1.425900   \n",
       "18  0.990000   8.359944  2.967286  0.247505  0.216418  0.295627  0.999770   \n",
       "8   0.284546   1.780534  0.542622  0.157445  2.687989  0.067133  1.480242   \n",
       "7   0.650546   5.641617  0.512223  0.080364  0.874478  0.093402  1.124442   \n",
       "11  0.990000   7.012555  1.098683  0.147341  0.395542  2.172501  0.968944   \n",
       "13  0.955717  12.340014  0.529553  0.139149  0.195895  0.438003  0.904117   \n",
       "0   2.610421   1.305616  1.429607  0.188757  2.714221  0.009457  0.921184   \n",
       "10  0.319417   1.476172  0.997998  0.025943  0.666049  0.008386  1.031350   \n",
       "3   0.990000   9.743392  0.717364  0.104640  0.923004  1.701956  0.915695   \n",
       "14  2.391520   8.970536  2.759658  0.061570  2.159332  0.046643  3.413165   \n",
       "2   2.076349   5.484228  0.803127  0.059377  2.524920  0.024224  1.043791   \n",
       "9   0.460975   0.909325  4.590305  0.094300  2.083465  0.010531  0.870938   \n",
       "1   0.396562   1.011215  4.687011  0.063182  0.306567  3.954367  0.892823   \n",
       "17  0.790844   2.507872  0.366900  0.198516  1.385579  2.441703  0.999793   \n",
       "16  0.961159   1.059072  0.531496  0.037172  0.366103  0.021467  0.740368   \n",
       "6   0.515017   3.576919  0.442112  0.019754  0.131618  0.512714  0.989586   \n",
       "12  0.790903   0.980743  1.183645  0.245645  0.418042  1.897280  0.659343   \n",
       "5   0.990000   3.478991  1.977104  0.046105  1.206637  0.931285  0.999967   \n",
       "\n",
       "     nu2_opt    Tc_opt         m1_opt        m2_opt         Ti_opt  \\\n",
       "4   7.051026  5.515295   4.619322e-02  2.413644e-01   9.522990e-02   \n",
       "15  3.521453  2.151054   7.305745e-02  3.906106e-01   6.877453e-03   \n",
       "18  2.809523  1.426900   7.429267e-02  6.816504e-01   2.820061e-02   \n",
       "8   3.818764  2.273526   6.555660e-02  3.841305e-01   4.231302e-03   \n",
       "7   3.051764  1.656526   7.516770e-02  7.468150e-01   5.387482e-02   \n",
       "11  2.455098  1.104248   1.119865e-01  6.094089e-01   1.916132e-02   \n",
       "13  2.476454  1.156964   9.282603e-02  7.261105e-01   2.537161e-02   \n",
       "0   2.174184  1.034288   1.042159e-01  6.835330e-01   2.149244e-02   \n",
       "10  2.254960  0.998242   1.378614e-01  4.902879e-01   1.468785e-02   \n",
       "3   2.587967  1.336239   8.415303e-02  8.649855e-01   4.876505e-02   \n",
       "14  8.520401  5.998978   4.348156e-02  3.426220e-01   3.155935e-01   \n",
       "2   2.937971  1.341271   1.739436e-09  7.605266e-01   3.425035e-02   \n",
       "9   2.540832  0.939239   7.351060e-08  6.988656e-01   5.620391e-03   \n",
       "1   2.830180  1.074032  1.952844e-232  6.809258e-01  2.400412e-286   \n",
       "17  3.202772  1.908154   2.470231e-03  1.117805e+00   7.600760e-02   \n",
       "16  1.136677  0.739773   3.615810e-01  5.538398e-01   4.963908e-03   \n",
       "6   1.563574  0.497919   3.306783e-01  7.172812e-09   2.548533e-03   \n",
       "12  0.961191  1.180327   3.828303e+00  6.992257e-01   1.240319e-01   \n",
       "5   3.202098  1.299714   3.994489e+00  1.508210e+00   8.130838e-01   \n",
       "\n",
       "           -logL  \n",
       "4   12157.097777  \n",
       "15  12310.358394  \n",
       "18  12315.949071  \n",
       "8   12330.193803  \n",
       "7   12333.745210  \n",
       "11  12356.736701  \n",
       "13  12377.541453  \n",
       "0   12433.587948  \n",
       "10  12447.888476  \n",
       "3   12452.463230  \n",
       "14  12598.572386  \n",
       "2   12622.195411  \n",
       "9   12767.140194  \n",
       "1   12834.457770  \n",
       "17  12888.288301  \n",
       "16  13951.588975  \n",
       "6   14763.672024  \n",
       "12  16020.739766  \n",
       "5   23042.642491  "
      ]
     },
     "execution_count": 26,
     "metadata": {},
     "output_type": "execute_result"
    }
   ],
   "source": [
    "l = 2*len(p0)+1\n",
    "\n",
    "success = [flatten(out)[:l] for out in ar_split_asym_mig_iso]\n",
    "\n",
    "df = pd.DataFrame(data=success, \\\n",
    "                  columns=['nu1_0','nu2_0', 'Tc_0', 'm1_0', 'm2_0', 'Ti_0', 'nu1_opt', 'nu2_opt', 'Tc_opt', 'm1_opt', 'm2_opt', 'Ti_opt', '-logL'])\n",
    "\n",
    "df.sort_values(by='-logL', ascending=True)"
   ]
  },
  {
   "cell_type": "markdown",
   "metadata": {},
   "source": [
    "The best-fit parameter combination has a much higher likelihood than the second best. It infers a very large population size ratio for PAR and a very large $T_c$, i. e. of the time of divergence with gene flow before the beginning of the time of divergence without gene flow. I think I need to further explore this region of the parameter space."
   ]
  },
  {
   "cell_type": "code",
   "execution_count": 27,
   "metadata": {
    "collapsed": false
   },
   "outputs": [
    {
     "data": {
      "text/plain": [
       "array([ 2.87759068,  7.05102643,  5.51529529,  0.04619322,  0.24136439,\n",
       "        0.0952299 ])"
      ]
     },
     "execution_count": 27,
     "metadata": {},
     "output_type": "execute_result"
    }
   ],
   "source": [
    "popt = np.array(df.sort_values(by='-logL', ascending=True).iloc[0,6:12])\n",
    "popt"
   ]
  },
  {
   "cell_type": "code",
   "execution_count": 28,
   "metadata": {
    "collapsed": true
   },
   "outputs": [],
   "source": [
    "%%px --local\n",
    "\n",
    "pts_l = [60, 70, 80] # make finer grid\n",
    "fold = 1\n",
    "maxiter = 100"
   ]
  },
  {
   "cell_type": "code",
   "execution_count": 29,
   "metadata": {
    "collapsed": true
   },
   "outputs": [],
   "source": [
    "p0 = popt\n",
    "\n",
    "#ar_split_asym_mig_iso = lbview.map(run_dadi, repeat(p0, 10))"
   ]
  },
  {
   "cell_type": "code",
   "execution_count": 30,
   "metadata": {
    "collapsed": false
   },
   "outputs": [
    {
     "name": "stdout",
     "output_type": "stream",
     "text": [
      "success 0\n",
      "Maximum number of function evaluations made. 0\n",
      "Maximum number of iterations reached. 10\n",
      "unknown flag 0\n"
     ]
    }
   ],
   "source": [
    "get_flag_count(ar_split_asym_mig_iso, NM=True)"
   ]
  },
  {
   "cell_type": "code",
   "execution_count": 70,
   "metadata": {
    "collapsed": true
   },
   "outputs": [],
   "source": [
    "ar_split_asym_mig_iso = []\n",
    "\n",
    "for filename in glob(\"OUT_2D_models/split_asym_mig_iso*dill\"):\n",
    "    ar_split_asym_mig_iso.append(dill.load(open(filename)))"
   ]
  },
  {
   "cell_type": "code",
   "execution_count": 73,
   "metadata": {
    "collapsed": false,
    "scrolled": true
   },
   "outputs": [
    {
     "data": {
      "text/html": [
       "<div>\n",
       "<table border=\"1\" class=\"dataframe\">\n",
       "  <thead>\n",
       "    <tr style=\"text-align: right;\">\n",
       "      <th></th>\n",
       "      <th>nu1_0</th>\n",
       "      <th>nu2_0</th>\n",
       "      <th>Tc_0</th>\n",
       "      <th>m1_0</th>\n",
       "      <th>m2_0</th>\n",
       "      <th>Ti_0</th>\n",
       "      <th>nu1_opt</th>\n",
       "      <th>nu2_opt</th>\n",
       "      <th>Tc_opt</th>\n",
       "      <th>m1_opt</th>\n",
       "      <th>m2_opt</th>\n",
       "      <th>Ti_opt</th>\n",
       "      <th>-logL</th>\n",
       "    </tr>\n",
       "  </thead>\n",
       "  <tbody>\n",
       "    <tr>\n",
       "      <th>13</th>\n",
       "      <td>3.495075</td>\n",
       "      <td>4.606451</td>\n",
       "      <td>5.940000</td>\n",
       "      <td>0.055664</td>\n",
       "      <td>0.246368</td>\n",
       "      <td>0.105244</td>\n",
       "      <td>2.769359</td>\n",
       "      <td>6.770118</td>\n",
       "      <td>5.196347</td>\n",
       "      <td>0.049832</td>\n",
       "      <td>0.249131</td>\n",
       "      <td>0.094203</td>\n",
       "      <td>12156.467656</td>\n",
       "    </tr>\n",
       "    <tr>\n",
       "      <th>6</th>\n",
       "      <td>1.114068</td>\n",
       "      <td>2.045370</td>\n",
       "      <td>0.628484</td>\n",
       "      <td>0.054210</td>\n",
       "      <td>0.524956</td>\n",
       "      <td>0.061246</td>\n",
       "      <td>2.877591</td>\n",
       "      <td>7.051026</td>\n",
       "      <td>5.515295</td>\n",
       "      <td>0.046193</td>\n",
       "      <td>0.241364</td>\n",
       "      <td>0.095230</td>\n",
       "      <td>12157.097777</td>\n",
       "    </tr>\n",
       "    <tr>\n",
       "      <th>1</th>\n",
       "      <td>2.023358</td>\n",
       "      <td>10.767325</td>\n",
       "      <td>2.789793</td>\n",
       "      <td>0.078193</td>\n",
       "      <td>0.156185</td>\n",
       "      <td>0.061440</td>\n",
       "      <td>2.375215</td>\n",
       "      <td>5.808945</td>\n",
       "      <td>4.280676</td>\n",
       "      <td>0.057356</td>\n",
       "      <td>0.288362</td>\n",
       "      <td>0.078355</td>\n",
       "      <td>12157.700922</td>\n",
       "    </tr>\n",
       "    <tr>\n",
       "      <th>12</th>\n",
       "      <td>2.034905</td>\n",
       "      <td>10.369993</td>\n",
       "      <td>5.940000</td>\n",
       "      <td>0.057272</td>\n",
       "      <td>0.258997</td>\n",
       "      <td>0.157822</td>\n",
       "      <td>2.444901</td>\n",
       "      <td>5.949439</td>\n",
       "      <td>4.427677</td>\n",
       "      <td>0.057561</td>\n",
       "      <td>0.282947</td>\n",
       "      <td>0.088003</td>\n",
       "      <td>12158.247891</td>\n",
       "    </tr>\n",
       "    <tr>\n",
       "      <th>15</th>\n",
       "      <td>3.883738</td>\n",
       "      <td>7.047838</td>\n",
       "      <td>5.940000</td>\n",
       "      <td>0.090944</td>\n",
       "      <td>0.336280</td>\n",
       "      <td>0.158998</td>\n",
       "      <td>2.735529</td>\n",
       "      <td>6.733220</td>\n",
       "      <td>5.273479</td>\n",
       "      <td>0.047798</td>\n",
       "      <td>0.250582</td>\n",
       "      <td>0.087689</td>\n",
       "      <td>12158.898894</td>\n",
       "    </tr>\n",
       "    <tr>\n",
       "      <th>14</th>\n",
       "      <td>4.070522</td>\n",
       "      <td>4.065824</td>\n",
       "      <td>5.685736</td>\n",
       "      <td>0.024582</td>\n",
       "      <td>0.164961</td>\n",
       "      <td>0.098403</td>\n",
       "      <td>3.129112</td>\n",
       "      <td>7.593721</td>\n",
       "      <td>5.954911</td>\n",
       "      <td>0.045584</td>\n",
       "      <td>0.212582</td>\n",
       "      <td>0.093799</td>\n",
       "      <td>12159.427653</td>\n",
       "    </tr>\n",
       "    <tr>\n",
       "      <th>7</th>\n",
       "      <td>3.336565</td>\n",
       "      <td>8.323858</td>\n",
       "      <td>2.954783</td>\n",
       "      <td>0.068649</td>\n",
       "      <td>0.352139</td>\n",
       "      <td>0.060697</td>\n",
       "      <td>2.231585</td>\n",
       "      <td>5.399258</td>\n",
       "      <td>3.869496</td>\n",
       "      <td>0.063004</td>\n",
       "      <td>0.303320</td>\n",
       "      <td>0.075968</td>\n",
       "      <td>12160.418659</td>\n",
       "    </tr>\n",
       "    <tr>\n",
       "      <th>27</th>\n",
       "      <td>2.713572</td>\n",
       "      <td>4.394801</td>\n",
       "      <td>5.940000</td>\n",
       "      <td>0.023283</td>\n",
       "      <td>0.307180</td>\n",
       "      <td>0.140782</td>\n",
       "      <td>2.292742</td>\n",
       "      <td>5.556836</td>\n",
       "      <td>4.013403</td>\n",
       "      <td>0.066660</td>\n",
       "      <td>0.309960</td>\n",
       "      <td>0.093562</td>\n",
       "      <td>12167.807106</td>\n",
       "    </tr>\n",
       "    <tr>\n",
       "      <th>19</th>\n",
       "      <td>1.507658</td>\n",
       "      <td>9.941004</td>\n",
       "      <td>3.169746</td>\n",
       "      <td>0.027688</td>\n",
       "      <td>0.199411</td>\n",
       "      <td>0.160162</td>\n",
       "      <td>1.725725</td>\n",
       "      <td>4.236857</td>\n",
       "      <td>2.839430</td>\n",
       "      <td>0.078120</td>\n",
       "      <td>0.395506</td>\n",
       "      <td>0.058068</td>\n",
       "      <td>12169.570121</td>\n",
       "    </tr>\n",
       "    <tr>\n",
       "      <th>0</th>\n",
       "      <td>1.745966</td>\n",
       "      <td>9.620872</td>\n",
       "      <td>5.940000</td>\n",
       "      <td>0.033999</td>\n",
       "      <td>0.438397</td>\n",
       "      <td>0.159049</td>\n",
       "      <td>1.956295</td>\n",
       "      <td>4.781913</td>\n",
       "      <td>3.276959</td>\n",
       "      <td>0.078476</td>\n",
       "      <td>0.366819</td>\n",
       "      <td>0.080253</td>\n",
       "      <td>12176.583502</td>\n",
       "    </tr>\n",
       "  </tbody>\n",
       "</table>\n",
       "</div>"
      ],
      "text/plain": [
       "       nu1_0      nu2_0      Tc_0      m1_0      m2_0      Ti_0   nu1_opt  \\\n",
       "13  3.495075   4.606451  5.940000  0.055664  0.246368  0.105244  2.769359   \n",
       "6   1.114068   2.045370  0.628484  0.054210  0.524956  0.061246  2.877591   \n",
       "1   2.023358  10.767325  2.789793  0.078193  0.156185  0.061440  2.375215   \n",
       "12  2.034905  10.369993  5.940000  0.057272  0.258997  0.157822  2.444901   \n",
       "15  3.883738   7.047838  5.940000  0.090944  0.336280  0.158998  2.735529   \n",
       "14  4.070522   4.065824  5.685736  0.024582  0.164961  0.098403  3.129112   \n",
       "7   3.336565   8.323858  2.954783  0.068649  0.352139  0.060697  2.231585   \n",
       "27  2.713572   4.394801  5.940000  0.023283  0.307180  0.140782  2.292742   \n",
       "19  1.507658   9.941004  3.169746  0.027688  0.199411  0.160162  1.725725   \n",
       "0   1.745966   9.620872  5.940000  0.033999  0.438397  0.159049  1.956295   \n",
       "\n",
       "     nu2_opt    Tc_opt    m1_opt    m2_opt    Ti_opt         -logL  \n",
       "13  6.770118  5.196347  0.049832  0.249131  0.094203  12156.467656  \n",
       "6   7.051026  5.515295  0.046193  0.241364  0.095230  12157.097777  \n",
       "1   5.808945  4.280676  0.057356  0.288362  0.078355  12157.700922  \n",
       "12  5.949439  4.427677  0.057561  0.282947  0.088003  12158.247891  \n",
       "15  6.733220  5.273479  0.047798  0.250582  0.087689  12158.898894  \n",
       "14  7.593721  5.954911  0.045584  0.212582  0.093799  12159.427653  \n",
       "7   5.399258  3.869496  0.063004  0.303320  0.075968  12160.418659  \n",
       "27  5.556836  4.013403  0.066660  0.309960  0.093562  12167.807106  \n",
       "19  4.236857  2.839430  0.078120  0.395506  0.058068  12169.570121  \n",
       "0   4.781913  3.276959  0.078476  0.366819  0.080253  12176.583502  "
      ]
     },
     "execution_count": 73,
     "metadata": {},
     "output_type": "execute_result"
    }
   ],
   "source": [
    "l = 2*len(p0)+1\n",
    "\n",
    "success = [flatten(out)[:l] for out in ar_split_asym_mig_iso]\n",
    "\n",
    "df = pd.DataFrame(data=success, \\\n",
    "                  columns=['nu1_0','nu2_0', 'Tc_0', 'm1_0', 'm2_0', 'Ti_0', 'nu1_opt', 'nu2_opt', 'Tc_opt', 'm1_opt', 'm2_opt', 'Ti_opt', '-logL'])\n",
    "\n",
    "df.sort_values(by='-logL', ascending=True).head(10)"
   ]
  },
  {
   "cell_type": "markdown",
   "metadata": {},
   "source": [
    "This looks like decent convergence. Let's try to refine it even more."
   ]
  },
  {
   "cell_type": "code",
   "execution_count": 68,
   "metadata": {
    "collapsed": true
   },
   "outputs": [],
   "source": [
    "%%px --local\n",
    "\n",
    "# set lower and upper bounds to nu1, nu2, Tc, m1, m2 and Ti\n",
    "upper_bound = [1e4, 1e4, 8, 10, 10, 6] # note, I have increased the upper bound for T\n",
    "lower_bound = [1e-4, 1e-4, 0, 0, 0, 0]"
   ]
  },
  {
   "cell_type": "code",
   "execution_count": 25,
   "metadata": {
    "collapsed": true
   },
   "outputs": [],
   "source": [
    "%%px --local\n",
    "\n",
    "pts_l = [60, 70, 80] # make finer grid\n",
    "fold = 1\n",
    "maxiter = 300"
   ]
  },
  {
   "cell_type": "code",
   "execution_count": 74,
   "metadata": {
    "collapsed": false
   },
   "outputs": [
    {
     "data": {
      "text/plain": [
       "array([ 2.76935944,  6.77011784,  5.19634719,  0.04983223,  0.24913079,\n",
       "        0.09420312])"
      ]
     },
     "execution_count": 74,
     "metadata": {},
     "output_type": "execute_result"
    }
   ],
   "source": [
    "popt = np.array(df.sort_values(by='-logL', ascending=True).iloc[0,6:12])\n",
    "popt"
   ]
  },
  {
   "cell_type": "code",
   "execution_count": 75,
   "metadata": {
    "collapsed": true
   },
   "outputs": [],
   "source": [
    "p0 = popt"
   ]
  },
  {
   "cell_type": "code",
   "execution_count": 77,
   "metadata": {
    "collapsed": true
   },
   "outputs": [],
   "source": [
    "#ar_split_asym_mig_iso = lbview.map(run_dadi, repeat(p0, 10))"
   ]
  },
  {
   "cell_type": "code",
   "execution_count": 54,
   "metadata": {
    "collapsed": false
   },
   "outputs": [
    {
     "name": "stdout",
     "output_type": "stream",
     "text": [
      "-rw-rw-r-- 1 claudius 348 Jun  3 13:28 OUT_2D_models/split_asym_mig_iso_0.2845_1.7805_0.5426_0.1574_2.6880_0.0671.dill\r\n",
      "-rw-rw-r-- 1 claudius 348 Jun  3 13:26 OUT_2D_models/split_asym_mig_iso_0.3194_1.4762_0.9980_0.0259_0.6660_0.0084.dill\r\n",
      "-rw-rw-r-- 1 claudius 348 Jun  3 12:19 OUT_2D_models/split_asym_mig_iso_0.3966_1.0112_4.6870_0.0632_0.3066_3.9544.dill\r\n",
      "-rw-rw-r-- 1 claudius 348 Jun  3 13:44 OUT_2D_models/split_asym_mig_iso_0.4610_0.9093_4.5903_0.0943_2.0835_0.0105.dill\r\n",
      "-rw-rw-r-- 1 claudius 348 Jun  3 12:18 OUT_2D_models/split_asym_mig_iso_0.5150_3.5769_0.4421_0.0198_0.1316_0.5127.dill\r\n",
      "-rw-rw-r-- 1 claudius 348 Jun  3 13:26 OUT_2D_models/split_asym_mig_iso_0.5534_3.4236_0.6699_0.1781_0.5665_0.0093.dill\r\n",
      "-rw-rw-r-- 1 claudius 348 Jun  3 13:28 OUT_2D_models/split_asym_mig_iso_0.6505_5.6416_0.5122_0.0804_0.8745_0.0934.dill\r\n",
      "-rw-rw-r-- 1 claudius 348 Jun  3 12:23 OUT_2D_models/split_asym_mig_iso_0.7908_2.5079_0.3669_0.1985_1.3856_2.4417.dill\r\n",
      "-rw-rw-r-- 1 claudius 348 Jun  3 12:30 OUT_2D_models/split_asym_mig_iso_0.7909_0.9807_1.1836_0.2456_0.4180_1.8973.dill\r\n",
      "-rw-rw-r-- 1 claudius 348 Jun  3 12:20 OUT_2D_models/split_asym_mig_iso_0.9557_12.3400_0.5296_0.1391_0.1959_0.4380.dill\r\n",
      "-rw-rw-r-- 1 claudius 348 Jun  3 13:25 OUT_2D_models/split_asym_mig_iso_0.9612_1.0591_0.5315_0.0372_0.3661_0.0215.dill\r\n",
      "-rw-rw-r-- 1 claudius 348 Jun  3 12:31 OUT_2D_models/split_asym_mig_iso_0.9900_3.4790_1.9771_0.0461_1.2066_0.9313.dill\r\n",
      "-rw-rw-r-- 1 claudius 348 Jun  3 12:20 OUT_2D_models/split_asym_mig_iso_0.9900_7.0126_1.0987_0.1473_0.3955_2.1725.dill\r\n",
      "-rw-rw-r-- 1 claudius 348 Jun  3 12:21 OUT_2D_models/split_asym_mig_iso_0.9900_8.3599_2.9673_0.2475_0.2164_0.2956.dill\r\n",
      "-rw-rw-r-- 1 claudius 348 Jun  3 12:20 OUT_2D_models/split_asym_mig_iso_0.9900_9.7434_0.7174_0.1046_0.9230_1.7020.dill\r\n",
      "-rw-rw-r-- 1 claudius 348 Jun  3 13:27 OUT_2D_models/split_asym_mig_iso_1.1141_2.0454_0.6285_0.0542_0.5250_0.0612.dill\r\n",
      "-rw-rw-r-- 1 claudius 346 Jun  3 14:12 OUT_2D_models/split_asym_mig_iso_1.5077_9.9410_3.1697_0.0277_0.1994_0.1602.dill\r\n",
      "-rw-rw-r-- 1 claudius 348 Jun  3 19:34 OUT_2D_models/split_asym_mig_iso_1.6384_7.0271_3.3284_0.0934_0.2796_0.0847.dill\r\n",
      "-rw-rw-r-- 1 claudius 346 Jun  3 14:12 OUT_2D_models/split_asym_mig_iso_1.7460_9.6209_5.9400_0.0340_0.4384_0.1590.dill\r\n",
      "-rw-rw-r-- 1 claudius 348 Jun  3 19:35 OUT_2D_models/split_asym_mig_iso_1.8997_10.6726_4.2094_0.0350_0.1586_0.1290.dill\r\n",
      "-rw-rw-r-- 1 claudius 346 Jun  3 14:11 OUT_2D_models/split_asym_mig_iso_2.0234_10.7673_2.7898_0.0782_0.1562_0.0614.dill\r\n",
      "-rw-rw-r-- 1 claudius 346 Jun  3 14:11 OUT_2D_models/split_asym_mig_iso_2.0349_10.3700_5.9400_0.0573_0.2590_0.1578.dill\r\n",
      "-rw-rw-r-- 1 claudius 348 Jun  3 19:35 OUT_2D_models/split_asym_mig_iso_2.0435_3.7747_3.3910_0.0410_0.1388_0.0624.dill\r\n",
      "-rw-rw-r-- 1 claudius 348 Jun  3 13:27 OUT_2D_models/split_asym_mig_iso_2.0763_5.4842_0.8031_0.0594_2.5249_0.0242.dill\r\n",
      "-rw-rw-r-- 1 claudius 348 Jun  3 19:35 OUT_2D_models/split_asym_mig_iso_2.1507_3.7523_7.3395_0.0534_0.1830_0.0545.dill\r\n",
      "-rw-rw-r-- 1 claudius 348 Jun  3 19:36 OUT_2D_models/split_asym_mig_iso_2.2081_8.3252_5.5948_0.0456_0.4947_0.0585.dill\r\n",
      "-rw-rw-r-- 1 claudius 348 Jun  3 13:43 OUT_2D_models/split_asym_mig_iso_2.3915_8.9705_2.7597_0.0616_2.1593_0.0466.dill\r\n",
      "-rw-rw-r-- 1 claudius 348 Jun  3 13:27 OUT_2D_models/split_asym_mig_iso_2.6104_1.3056_1.4296_0.1888_2.7142_0.0095.dill\r\n",
      "-rw-rw-r-- 1 claudius 346 Jun  3 14:12 OUT_2D_models/split_asym_mig_iso_2.7136_4.3948_5.9400_0.0233_0.3072_0.1408.dill\r\n",
      "-rw-rw-r-- 1 claudius 348 Jun  3 19:36 OUT_2D_models/split_asym_mig_iso_3.1579_11.8947_6.8328_0.0892_0.3437_0.1251.dill\r\n",
      "-rw-rw-r-- 1 claudius 348 Jun  3 19:34 OUT_2D_models/split_asym_mig_iso_3.1934_3.3982_7.4935_0.0543_0.1844_0.1000.dill\r\n",
      "-rw-rw-r-- 1 claudius 346 Jun  3 14:11 OUT_2D_models/split_asym_mig_iso_3.3366_8.3239_2.9548_0.0686_0.3521_0.0607.dill\r\n",
      "-rw-rw-r-- 1 claudius 348 Jun  3 19:34 OUT_2D_models/split_asym_mig_iso_3.3456_9.1989_7.9200_0.0369_0.1459_0.0741.dill\r\n",
      "-rw-rw-r-- 1 claudius 347 Jun  3 19:33 OUT_2D_models/split_asym_mig_iso_3.4219_12.8829_7.9200_0.0909_0.1375_0.1042.dill\r\n",
      "-rw-rw-r-- 1 claudius 346 Jun  3 14:12 OUT_2D_models/split_asym_mig_iso_3.4951_4.6065_5.9400_0.0557_0.2464_0.1052.dill\r\n",
      "-rw-rw-r-- 1 claudius 346 Jun  3 14:12 OUT_2D_models/split_asym_mig_iso_3.8837_7.0478_5.9400_0.0909_0.3363_0.1590.dill\r\n",
      "-rw-rw-r-- 1 claudius 346 Jun  3 14:11 OUT_2D_models/split_asym_mig_iso_4.0705_4.0658_5.6857_0.0246_0.1650_0.0984.dill\r\n",
      "-rw-rw-r-- 1 claudius 347 Jun  3 19:33 OUT_2D_models/split_asym_mig_iso_4.5080_4.2112_4.5305_0.0386_0.3568_0.0498.dill\r\n",
      "-rw-rw-r-- 1 claudius 346 Jun  3 14:10 OUT_2D_models/split_asym_mig_iso_4.5436_11.2858_4.1280_0.0831_0.1672_0.0722.dill\r\n"
     ]
    }
   ],
   "source": [
    "% ll OUT_2D_models/split_asym_mig_iso_[0-9]*dill"
   ]
  },
  {
   "cell_type": "code",
   "execution_count": 55,
   "metadata": {
    "collapsed": true
   },
   "outputs": [],
   "source": [
    "ar_split_asym_mig_iso = []\n",
    "\n",
    "for filename in glob(\"OUT_2D_models/split_asym_mig_iso_[0-9]*dill\"):\n",
    "    ar_split_asym_mig_iso.append(dill.load(open(filename)))"
   ]
  },
  {
   "cell_type": "code",
   "execution_count": 56,
   "metadata": {
    "collapsed": false
   },
   "outputs": [
    {
     "data": {
      "text/html": [
       "<div>\n",
       "<table border=\"1\" class=\"dataframe\">\n",
       "  <thead>\n",
       "    <tr style=\"text-align: right;\">\n",
       "      <th></th>\n",
       "      <th>nu1_0</th>\n",
       "      <th>nu2_0</th>\n",
       "      <th>Tc_0</th>\n",
       "      <th>m1_0</th>\n",
       "      <th>m2_0</th>\n",
       "      <th>Ti_0</th>\n",
       "      <th>nu1_opt</th>\n",
       "      <th>nu2_opt</th>\n",
       "      <th>Tc_opt</th>\n",
       "      <th>m1_opt</th>\n",
       "      <th>m2_opt</th>\n",
       "      <th>Ti_opt</th>\n",
       "      <th>-logL</th>\n",
       "    </tr>\n",
       "  </thead>\n",
       "  <tbody>\n",
       "    <tr>\n",
       "      <th>31</th>\n",
       "      <td>3.421903</td>\n",
       "      <td>12.882920</td>\n",
       "      <td>7.920000</td>\n",
       "      <td>0.090910</td>\n",
       "      <td>0.137533</td>\n",
       "      <td>0.104192</td>\n",
       "      <td>3.428735</td>\n",
       "      <td>8.372007</td>\n",
       "      <td>6.719565</td>\n",
       "      <td>0.040627</td>\n",
       "      <td>0.202323</td>\n",
       "      <td>0.118790</td>\n",
       "      <td>12156.061309</td>\n",
       "    </tr>\n",
       "    <tr>\n",
       "      <th>29</th>\n",
       "      <td>2.208113</td>\n",
       "      <td>8.325249</td>\n",
       "      <td>5.594802</td>\n",
       "      <td>0.045599</td>\n",
       "      <td>0.494681</td>\n",
       "      <td>0.058458</td>\n",
       "      <td>3.434782</td>\n",
       "      <td>8.387801</td>\n",
       "      <td>6.732856</td>\n",
       "      <td>0.040569</td>\n",
       "      <td>0.202054</td>\n",
       "      <td>0.119088</td>\n",
       "      <td>12156.061960</td>\n",
       "    </tr>\n",
       "    <tr>\n",
       "      <th>17</th>\n",
       "      <td>1.638405</td>\n",
       "      <td>7.027064</td>\n",
       "      <td>3.328377</td>\n",
       "      <td>0.093406</td>\n",
       "      <td>0.279576</td>\n",
       "      <td>0.084667</td>\n",
       "      <td>3.365763</td>\n",
       "      <td>8.218499</td>\n",
       "      <td>6.573684</td>\n",
       "      <td>0.041489</td>\n",
       "      <td>0.206208</td>\n",
       "      <td>0.116898</td>\n",
       "      <td>12156.066451</td>\n",
       "    </tr>\n",
       "    <tr>\n",
       "      <th>4</th>\n",
       "      <td>3.157867</td>\n",
       "      <td>11.894738</td>\n",
       "      <td>6.832827</td>\n",
       "      <td>0.089239</td>\n",
       "      <td>0.343652</td>\n",
       "      <td>0.125056</td>\n",
       "      <td>3.151832</td>\n",
       "      <td>7.672115</td>\n",
       "      <td>6.074031</td>\n",
       "      <td>0.044790</td>\n",
       "      <td>0.217833</td>\n",
       "      <td>0.107115</td>\n",
       "      <td>12156.250139</td>\n",
       "    </tr>\n",
       "    <tr>\n",
       "      <th>2</th>\n",
       "      <td>2.150693</td>\n",
       "      <td>3.752285</td>\n",
       "      <td>7.339520</td>\n",
       "      <td>0.053352</td>\n",
       "      <td>0.182956</td>\n",
       "      <td>0.054508</td>\n",
       "      <td>2.905080</td>\n",
       "      <td>7.099776</td>\n",
       "      <td>5.511164</td>\n",
       "      <td>0.047722</td>\n",
       "      <td>0.237869</td>\n",
       "      <td>0.100633</td>\n",
       "      <td>12156.336374</td>\n",
       "    </tr>\n",
       "    <tr>\n",
       "      <th>8</th>\n",
       "      <td>4.507973</td>\n",
       "      <td>4.211151</td>\n",
       "      <td>4.530473</td>\n",
       "      <td>0.038619</td>\n",
       "      <td>0.356819</td>\n",
       "      <td>0.049796</td>\n",
       "      <td>2.838367</td>\n",
       "      <td>6.936326</td>\n",
       "      <td>5.355545</td>\n",
       "      <td>0.048636</td>\n",
       "      <td>0.243390</td>\n",
       "      <td>0.096733</td>\n",
       "      <td>12156.361180</td>\n",
       "    </tr>\n",
       "    <tr>\n",
       "      <th>19</th>\n",
       "      <td>3.495075</td>\n",
       "      <td>4.606451</td>\n",
       "      <td>5.940000</td>\n",
       "      <td>0.055664</td>\n",
       "      <td>0.246368</td>\n",
       "      <td>0.105244</td>\n",
       "      <td>2.769359</td>\n",
       "      <td>6.770118</td>\n",
       "      <td>5.196347</td>\n",
       "      <td>0.049832</td>\n",
       "      <td>0.249131</td>\n",
       "      <td>0.094203</td>\n",
       "      <td>12156.467656</td>\n",
       "    </tr>\n",
       "    <tr>\n",
       "      <th>16</th>\n",
       "      <td>1.899722</td>\n",
       "      <td>10.672562</td>\n",
       "      <td>4.209415</td>\n",
       "      <td>0.035018</td>\n",
       "      <td>0.158627</td>\n",
       "      <td>0.129019</td>\n",
       "      <td>2.549936</td>\n",
       "      <td>6.237224</td>\n",
       "      <td>4.683557</td>\n",
       "      <td>0.053493</td>\n",
       "      <td>0.269833</td>\n",
       "      <td>0.085552</td>\n",
       "      <td>12156.997320</td>\n",
       "    </tr>\n",
       "    <tr>\n",
       "      <th>15</th>\n",
       "      <td>3.193392</td>\n",
       "      <td>3.398205</td>\n",
       "      <td>7.493464</td>\n",
       "      <td>0.054278</td>\n",
       "      <td>0.184446</td>\n",
       "      <td>0.099955</td>\n",
       "      <td>2.625334</td>\n",
       "      <td>6.426852</td>\n",
       "      <td>4.896773</td>\n",
       "      <td>0.051447</td>\n",
       "      <td>0.259054</td>\n",
       "      <td>0.084092</td>\n",
       "      <td>12157.030051</td>\n",
       "    </tr>\n",
       "    <tr>\n",
       "      <th>9</th>\n",
       "      <td>1.114068</td>\n",
       "      <td>2.045370</td>\n",
       "      <td>0.628484</td>\n",
       "      <td>0.054210</td>\n",
       "      <td>0.524956</td>\n",
       "      <td>0.061246</td>\n",
       "      <td>2.877591</td>\n",
       "      <td>7.051026</td>\n",
       "      <td>5.515295</td>\n",
       "      <td>0.046193</td>\n",
       "      <td>0.241364</td>\n",
       "      <td>0.095230</td>\n",
       "      <td>12157.097777</td>\n",
       "    </tr>\n",
       "  </tbody>\n",
       "</table>\n",
       "</div>"
      ],
      "text/plain": [
       "       nu1_0      nu2_0      Tc_0      m1_0      m2_0      Ti_0   nu1_opt  \\\n",
       "31  3.421903  12.882920  7.920000  0.090910  0.137533  0.104192  3.428735   \n",
       "29  2.208113   8.325249  5.594802  0.045599  0.494681  0.058458  3.434782   \n",
       "17  1.638405   7.027064  3.328377  0.093406  0.279576  0.084667  3.365763   \n",
       "4   3.157867  11.894738  6.832827  0.089239  0.343652  0.125056  3.151832   \n",
       "2   2.150693   3.752285  7.339520  0.053352  0.182956  0.054508  2.905080   \n",
       "8   4.507973   4.211151  4.530473  0.038619  0.356819  0.049796  2.838367   \n",
       "19  3.495075   4.606451  5.940000  0.055664  0.246368  0.105244  2.769359   \n",
       "16  1.899722  10.672562  4.209415  0.035018  0.158627  0.129019  2.549936   \n",
       "15  3.193392   3.398205  7.493464  0.054278  0.184446  0.099955  2.625334   \n",
       "9   1.114068   2.045370  0.628484  0.054210  0.524956  0.061246  2.877591   \n",
       "\n",
       "     nu2_opt    Tc_opt    m1_opt    m2_opt    Ti_opt         -logL  \n",
       "31  8.372007  6.719565  0.040627  0.202323  0.118790  12156.061309  \n",
       "29  8.387801  6.732856  0.040569  0.202054  0.119088  12156.061960  \n",
       "17  8.218499  6.573684  0.041489  0.206208  0.116898  12156.066451  \n",
       "4   7.672115  6.074031  0.044790  0.217833  0.107115  12156.250139  \n",
       "2   7.099776  5.511164  0.047722  0.237869  0.100633  12156.336374  \n",
       "8   6.936326  5.355545  0.048636  0.243390  0.096733  12156.361180  \n",
       "19  6.770118  5.196347  0.049832  0.249131  0.094203  12156.467656  \n",
       "16  6.237224  4.683557  0.053493  0.269833  0.085552  12156.997320  \n",
       "15  6.426852  4.896773  0.051447  0.259054  0.084092  12157.030051  \n",
       "9   7.051026  5.515295  0.046193  0.241364  0.095230  12157.097777  "
      ]
     },
     "execution_count": 56,
     "metadata": {},
     "output_type": "execute_result"
    }
   ],
   "source": [
    "l = 2*len(p0)+1\n",
    "\n",
    "success = [flatten(out)[:l] for out in ar_split_asym_mig_iso]\n",
    "\n",
    "df = pd.DataFrame(data=success, \\\n",
    "                  columns=['nu1_0','nu2_0', 'Tc_0', 'm1_0', 'm2_0', 'Ti_0', 'nu1_opt', 'nu2_opt', 'Tc_opt', 'm1_opt', 'm2_opt', 'Ti_opt', '-logL'])\n",
    "\n",
    "df.sort_values(by='-logL', ascending=True).head(10)"
   ]
  },
  {
   "cell_type": "markdown",
   "metadata": {
    "collapsed": true
   },
   "source": [
    "This looks like good convergence."
   ]
  },
  {
   "cell_type": "code",
   "execution_count": 42,
   "metadata": {
    "collapsed": false
   },
   "outputs": [
    {
     "data": {
      "text/plain": [
       "406"
      ]
     },
     "execution_count": 42,
     "metadata": {},
     "output_type": "execute_result"
    }
   ],
   "source": [
    "ll_s = 12359\n",
    "ll_c = 12156\n",
    "D = 2 * (ll_s - ll_c)\n",
    "D"
   ]
  },
  {
   "cell_type": "markdown",
   "metadata": {},
   "source": [
    "With the uncorrected spectrum D was greater than 1000, so the improvement in fit when introducing recent cessation of gene flow was stronger."
   ]
  },
  {
   "cell_type": "code",
   "execution_count": 43,
   "metadata": {
    "collapsed": false
   },
   "outputs": [
    {
     "data": {
      "text/plain": [
       "0.0"
      ]
     },
     "execution_count": 43,
     "metadata": {},
     "output_type": "execute_result"
    }
   ],
   "source": [
    "# calculate p-value for Chi-square dist.\n",
    "# the weights specify a weighted sum of chi^2 distributions with 1 and 2 d.o.f\n",
    "# this is because Ti is 0 in the split_asym_mig model and at the boundary of the parameter space\n",
    "p = dadi.Godambe.sum_chi2_ppf(D, weights=(0.5, 0.5))\n",
    "p"
   ]
  },
  {
   "cell_type": "markdown",
   "metadata": {},
   "source": [
    "Allowing for a recent period without gene flow significantly improves the fit. I doubt that there is enough linkage in the data to compromise this result."
   ]
  },
  {
   "cell_type": "markdown",
   "metadata": {},
   "source": [
    "## Interpretation"
   ]
  },
  {
   "cell_type": "code",
   "execution_count": 44,
   "metadata": {
    "collapsed": false
   },
   "outputs": [
    {
     "data": {
      "text/plain": [
       "array([ 3.42873459,  8.372007  ,  6.71956526,  0.04062737,  0.20232337,\n",
       "        0.11878969])"
      ]
     },
     "execution_count": 44,
     "metadata": {},
     "output_type": "execute_result"
    }
   ],
   "source": [
    "popt = np.array(df.sort_values(by='-logL', ascending=True).iloc[0,6:12])\n",
    "popt"
   ]
  },
  {
   "cell_type": "code",
   "execution_count": 45,
   "metadata": {
    "collapsed": true
   },
   "outputs": [],
   "source": [
    "model = func_ex(popt, ns, pts_l)"
   ]
  },
  {
   "cell_type": "code",
   "execution_count": 46,
   "metadata": {
    "collapsed": false
   },
   "outputs": [
    {
     "data": {
      "text/plain": [
       "-12156.061308906654"
      ]
     },
     "execution_count": 46,
     "metadata": {},
     "output_type": "execute_result"
    }
   ],
   "source": [
    "ll_model = dadi.Inference.ll_multinom(model, sfs2d)\n",
    "ll_model"
   ]
  },
  {
   "cell_type": "code",
   "execution_count": 47,
   "metadata": {
    "collapsed": false
   },
   "outputs": [
    {
     "name": "stdout",
     "output_type": "stream",
     "text": [
      "The optimal value of theta per site for the ancestral population is 0.00136.\n"
     ]
    }
   ],
   "source": [
    "theta = dadi.Inference.optimal_sfs_scaling(model, sfs2d)\n",
    "L = sfs2d.data.sum()\n",
    "print \"The optimal value of theta per site for the ancestral population is {0:.5f}.\".format(theta/L)"
   ]
  },
  {
   "cell_type": "code",
   "execution_count": 48,
   "metadata": {
    "collapsed": false
   },
   "outputs": [
    {
     "name": "stdout",
     "output_type": "stream",
     "text": [
      "The total sequence length for the 2D spectrum is 1,130,775.\n",
      "The effective size of the ancestral population of ery and par (in number of diploid individuals) implied by this theta is:\n",
      " 113,522.\n"
     ]
    }
   ],
   "source": [
    "mu = 3e-9\n",
    "L = sfs2d.data.sum() # this sums over all entries in the spectrum, including masked ones, i. e. also contains invariable sites\n",
    "print \"The total sequence length for the 2D spectrum is {0:,}.\".format(int(L))\n",
    "N_ref = theta/L/mu/4\n",
    "print \"The effective size of the ancestral population of ery and par (in number of diploid individuals) implied by this theta is:\\n {0:,}.\".format(int(N_ref))"
   ]
  },
  {
   "cell_type": "markdown",
   "metadata": {},
   "source": [
    "This quite a small effective population size."
   ]
  },
  {
   "cell_type": "code",
   "execution_count": 30,
   "metadata": {
    "collapsed": true
   },
   "outputs": [],
   "source": [
    "nu1, nu2, Tc, m1, m2, Ti = popt"
   ]
  },
  {
   "cell_type": "code",
   "execution_count": 49,
   "metadata": {
    "collapsed": false
   },
   "outputs": [
    {
     "name": "stdout",
     "output_type": "stream",
     "text": [
      "The ancestral population split apart 1,552,611 generations ago. Immediately after the split the ERY population changed to a size of 389,237 and the PAR population to 950,409. Since the split of the ancestral population, PAR received 1 individual from ERY every 5.88 generations, while ERY received 1 PAR individual every 2.88 generations. Put another way: The PAR population contained a constant proportion of 2.14e-08 of new immigrant alleles each generation and the ERY population contained a constant proportion of 2.60e-07 of new immigrant alleles each generation. ERY and PAR remained in contact for 1,525,640 generations. 26,970 generations ago gene flow between ERY and PAR had ceased.\n"
     ]
    }
   ],
   "source": [
    "print \"The ancestral population split apart {0:,} generations ago.\".format(int((Tc+Ti)*2*N_ref)),\n",
    "print \"Immediately after the split the ERY population changed to a size of {0:,} and the PAR population to {1:,}.\".format(int(nu1*N_ref), int(nu2*N_ref)),\n",
    "print \"Since the split of the ancestral population, PAR received 1 individual from ERY every {0:.2f} generations,\".format(1.0/(m1/2*nu2)),\n",
    "print \"while ERY received 1 PAR individual every {0:.2f} generations.\".format(1.0/(m2/2*nu1)),\n",
    "print \"Put another way: The PAR population contained a constant proportion of {0:.2e} of new immigrant alleles each generation\".format(m1/2/N_ref/nu2),\n",
    "print \"and the ERY population contained a constant proportion of {0:.2e} of new immigrant alleles each generation.\".format(m2/2/N_ref/nu1),\n",
    "print \"ERY and PAR remained in contact for {0:,} generations.\".format(int(Tc*2*N_ref)),\n",
    "print \"{0:,} generations ago gene flow between ERY and PAR had ceased.\".format(int(Ti*2*N_ref))"
   ]
  },
  {
   "cell_type": "markdown",
   "metadata": {},
   "source": [
    "The following table compares the inferred parameters for the _ancient migration_ model from the uncorrected and corrected spectrum in their absolute units:\n",
    "\n",
    "| parameter      | uncorrected | corrected |\n",
    "| :----------:   | ----------- | --------- |\n",
    "| $N_{a}$        | 125,977     | 113,522   |\n",
    "| $N_{ery}$      | 363,349     | 389,237   |\n",
    "| $N_{par}$      | 886,821     | 950,409   |\n",
    "| $T_c$          | 1,748,505   | 1,525,640 |\n",
    "| $p_{ery->par}$ | 2.21e-08    | 2.14e-08  |\n",
    "| $p_{par->ery}$ | 3.27e-07    | 2.60e-07  |\n",
    "| $T_i$          | 43,628      | 26,970    |\n",
    "| D              | 1044        | 406       |\n",
    "\n",
    "$N_x$ have unit *individuals*, $T_x$ has unit *generations*, $p_x$ are proportions of new immigrant alleles per generation and D is two times the likelihood ratio between the best fit parameters of this model with the hitherto best performing _asymmetric migration_ model."
   ]
  },
  {
   "cell_type": "markdown",
   "metadata": {},
   "source": [
    "Note that with the uncorrected spectrum, I could not achieve satisfactory convergence of parameter estimations. The parameters inferred with the corrected spectrum are therefore more reliable. The inferred population sizes for ERY and PAR aren't very different between corrected and uncorrected spectra and so is the inferred time of contact ($T_c$). The migration rates are slightly reduced with the corrected spectrum and the time since cessation of gene flow ($T_i$) is inferred to be more recent than with the uncorrected spectrum."
   ]
  },
  {
   "cell_type": "markdown",
   "metadata": {},
   "source": [
    "The addition of $T_i$ improves the model by 203 log likelihood units as compared to the model without a period of complete isolation (`split_asym_mig` above). If the better fit is not just due to fitting noise and bias in the data, then this means that the final period of complete isolation is significantly greater than 0. I think the fact that both the raw and the corrected spectrum lead to very similar parameter estimates provides some support for the interpretation that $T_i$ is actually greater than zero and that this is not just due to fitting noise or bias in the data."
   ]
  },
  {
   "cell_type": "markdown",
   "metadata": {},
   "source": [
    "## Residuals"
   ]
  },
  {
   "cell_type": "code",
   "execution_count": 38,
   "metadata": {
    "collapsed": false
   },
   "outputs": [
    {
     "data": {
      "image/png": "[encoded data removed]",
      "text/plain": [
       "<matplotlib.figure.Figure at 0x7f43993ce910>"
      ]
     },
     "metadata": {},
     "output_type": "display_data"
    }
   ],
   "source": [
    "dadi.Plotting.plot_2d_comp_multinom(model=model, data=sfs2d, vmin=1)"
   ]
  },
  {
   "cell_type": "markdown",
   "metadata": {},
   "source": [
    "## compare model spectra"
   ]
  },
  {
   "cell_type": "code",
   "execution_count": 45,
   "metadata": {
    "collapsed": false
   },
   "outputs": [],
   "source": [
    "func_ex = dadi.Numerics.make_extrap_log_func(split_asym_mig)\n",
    "\n",
    "popt_asym_mig = [1.5554055 ,  3.81288413,  2.34380465,  0.07615248,  0.34730636]\n",
    "\n",
    "model_asym_mig = func_ex(popt_asym_mig, ns, pts_l)\n",
    "\n",
    "model_asym_mig = dadi.Inference.optimally_scaled_sfs(model_asym_mig, sfs2d)\n",
    "\n",
    "model = dadi.Inference.optimally_scaled_sfs(model, sfs2d)"
   ]
  },
  {
   "cell_type": "code",
   "execution_count": 46,
   "metadata": {
    "collapsed": false
   },
   "outputs": [
    {
     "data": {
      "image/png": "[encoded data removed]",
      "text/plain": [
       "<matplotlib.figure.Figure at 0x7f43989f8490>"
      ]
     },
     "metadata": {},
     "output_type": "display_data"
    }
   ],
   "source": [
    "dadi.Plotting.plot_2d_comp_multinom(data=model.fold() , model=model_asym_mig.fold(), \\\n",
    "                                    vmin=1, title=['ancient mig', 'asym mig'], pop_ids=['ery', 'par'])"
   ]
  },
  {
   "cell_type": "markdown",
   "metadata": {},
   "source": [
    "# recent restart of gene flow"
   ]
  },
  {
   "cell_type": "markdown",
   "metadata": {},
   "source": [
    "The two populations are relatively close to the hybrid zone centre at the Col de la Quillane in the Pyrenees. The clines for some characters have been shown to be many kilometers wide. It can therefore be assumed that there is some recent gene flow between the two populations. Can this gene flow be detected from this spectrum?"
   ]
  },
  {
   "cell_type": "code",
   "execution_count": 44,
   "metadata": {
    "collapsed": true
   },
   "outputs": [],
   "source": [
    "def split_mig_iso_mig(params, ns, pts):\n",
    "    \"\"\"\n",
    "    params = (nu1,nu2,Tc,m1,m2,Ti,Tsc)\n",
    "    ns = (n1,n2)\n",
    "\n",
    "    Split into two populations of specifed size, with potentially asymmetric migration\n",
    "    for a time Tc followed by a period of complete isolation Ti which is followed by a restart of\n",
    "    migration until present. Migration rates in the two epochs are assumed to be equal (and constant).\n",
    "\n",
    "    nu1: Size of population 1 after split.\n",
    "    nu2: Size of population 2 after split.\n",
    "    Tc: Time of gene flow after split (in units of 2*Na generations) \n",
    "    m1: Migration rate from ery into par (in units of 2*Na ind per generation)\n",
    "    m2: Migration rate from par into ery (in units of 2*Na ind per generation)\n",
    "    Ti: Time of isolation after cessation of gene flow\n",
    "    Tsc: Time of gene flow after period of isolation until present\n",
    "    \n",
    "    The split lies Tc+Ti+Tsc * 2Na generations in the past.\n",
    "    \n",
    "    n1,n2: Sample sizes of resulting Spectrum\n",
    "    pts: Number of grid points to use in integration.\n",
    "    \"\"\"\n",
    "    nu1,nu2,Tc,m1,m2,Ti,Tsc = params\n",
    "\n",
    "    xx = dadi.Numerics.default_grid(pts)\n",
    "\n",
    "    phi = dadi.PhiManip.phi_1D(xx)\n",
    "    \n",
    "    # split\n",
    "    phi = dadi.PhiManip.phi_1D_to_2D(xx, phi) \n",
    "    \n",
    "    # divergence with potentially asymmetric migration\n",
    "    phi = dadi.Integration.two_pops(phi, xx, Tc, nu1, nu2, m12=m2, m21=m1)\n",
    "    \n",
    "    # divergence without gene flow\n",
    "    phi = dadi.Integration.two_pops(phi, xx, Ti, nu1, nu2, m12=0, m21=0)\n",
    "    \n",
    "    # divergence with potentially asymmetric migration\n",
    "    phi = dadi.Integration.two_pops(phi, xx, Tsc, nu1, nu2, m12=m2, m21=m1)\n",
    "\n",
    "    fs = dadi.Spectrum.from_phi(phi, ns, (xx,xx))\n",
    "    return fs"
   ]
  },
  {
   "cell_type": "code",
   "execution_count": 46,
   "metadata": {
    "collapsed": false
   },
   "outputs": [
    {
     "data": {
      "text/plain": [
       "<AsyncResult: _push>"
      ]
     },
     "execution_count": 46,
     "metadata": {},
     "output_type": "execute_result"
    }
   ],
   "source": [
    "cl[:].push(dict(split_mig_iso_mig=split_mig_iso_mig))"
   ]
  },
  {
   "cell_type": "code",
   "execution_count": 47,
   "metadata": {
    "collapsed": false
   },
   "outputs": [],
   "source": [
    "%%px --local\n",
    "\n",
    "func = split_mig_iso_mig\n",
    "\n",
    "func_ex = dadi.Numerics.make_extrap_log_func(func)"
   ]
  },
  {
   "cell_type": "code",
   "execution_count": 48,
   "metadata": {
    "collapsed": true
   },
   "outputs": [],
   "source": [
    "%%px --local\n",
    "\n",
    "# set up global variables on engines required for run_dadi function call\n",
    "\n",
    "ns = sfs2d.sample_sizes # both populations have the same sample size\n",
    "# setting the smallest grid size slightly larger than the largest population sample size (36)\n",
    "pts_l = [40, 50, 60]\n",
    "dadi_opt_func = dadi.Inference.optimize_log_fmin # uses Nelder-Mead algorithm\n",
    "sfs = sfs2d\n",
    "perturb = True\n",
    "fold = 2 # perturb randomly up to `fold` times 2-fold\n",
    "maxiter = 300 # run a maximum of 300 iterations\n",
    "verbose = 0\n",
    "full_output = True # need to have full output to get the warnflags (see below)\n",
    "outname = \"MODIFIED_SPECTRA/OUT_2D_models/split_mig_iso_mig\" # set file name stub for opt. result files\n",
    "fixed_params = None"
   ]
  },
  {
   "cell_type": "code",
   "execution_count": 59,
   "metadata": {
    "collapsed": true
   },
   "outputs": [],
   "source": [
    "%%px --local\n",
    "\n",
    "# set lower and upper bounds to nu1, nu2, Tc, m1, m2, Ti, Tsc\n",
    "upper_bound = [1e4, 1e4, 6, 10, 10, 6, 6] \n",
    "lower_bound = [1e-4, 1e-4, 0, 0, 0, 0, 0]"
   ]
  },
  {
   "cell_type": "code",
   "execution_count": 60,
   "metadata": {
    "collapsed": true
   },
   "outputs": [],
   "source": [
    "# using the best fit parameters from the ancient migration model and adding an initial Tsc of 0.05\n",
    "p0 = [2.76935944,  6.77011784,  5.19634719,  0.04983223,  0.24913079, 0.09420312, 0.05]"
   ]
  },
  {
   "cell_type": "code",
   "execution_count": 53,
   "metadata": {
    "collapsed": true
   },
   "outputs": [],
   "source": [
    "#ar_mig_iso_mig = lbview.map(run_dadi, repeat(p0, 10))"
   ]
  },
  {
   "cell_type": "code",
   "execution_count": 61,
   "metadata": {
    "collapsed": false
   },
   "outputs": [
    {
     "name": "stdout",
     "output_type": "stream",
     "text": [
      "-rw-rw-r-- 1 claudius 364 Jun  3 15:51 OUT_2D_models/split_mig_iso_mig_11.0126_22.7709_5.9400_0.0437_0.3119_0.1956_0.1092.dill\r\n",
      "-rw-rw-r-- 1 claudius 364 Jun  3 15:51 OUT_2D_models/split_mig_iso_mig_1.2054_5.0738_5.9400_0.0214_0.3336_0.1019_0.0275.dill\r\n",
      "-rw-rw-r-- 1 claudius 364 Jun  3 19:01 OUT_2D_models/split_mig_iso_mig_1.7164_3.8718_7.9200_0.0218_0.2159_0.0908_0.0176.dill\r\n",
      "-rw-rw-r-- 1 claudius 364 Jun  3 15:51 OUT_2D_models/split_mig_iso_mig_2.2342_3.2395_5.9400_0.0919_0.2080_0.1652_0.0786.dill\r\n",
      "-rw-rw-r-- 1 claudius 364 Jun  3 15:50 OUT_2D_models/split_mig_iso_mig_2.3335_15.2576_1.8862_0.1763_0.0680_0.3384_0.1045.dill\r\n",
      "-rw-rw-r-- 1 claudius 364 Jun  3 19:01 OUT_2D_models/split_mig_iso_mig_2.6152_14.5322_6.1771_0.0384_0.1613_0.1163_0.0199.dill\r\n",
      "-rw-rw-r-- 1 claudius 364 Jun  3 19:00 OUT_2D_models/split_mig_iso_mig_2.6470_3.9437_3.9926_0.0634_0.3447_0.2211_0.0100.dill\r\n",
      "-rw-rw-r-- 1 claudius 364 Jun  3 19:01 OUT_2D_models/split_mig_iso_mig_2.8052_5.0529_4.0141_0.0299_0.2311_0.2026_0.0141.dill\r\n",
      "-rw-rw-r-- 1 claudius 364 Jun  3 19:01 OUT_2D_models/split_mig_iso_mig_2.8618_6.1742_6.2063_0.0231_0.1944_0.1075_0.0196.dill\r\n",
      "-rw-rw-r-- 1 claudius 364 Jun  3 19:01 OUT_2D_models/split_mig_iso_mig_3.3672_5.8737_5.1818_0.0212_0.1317_0.1343_0.0126.dill\r\n",
      "-rw-rw-r-- 1 claudius 364 Jun  3 19:01 OUT_2D_models/split_mig_iso_mig_3.5815_4.3860_7.9200_0.0402_0.1995_0.0909_0.0063.dill\r\n",
      "-rw-rw-r-- 1 claudius 364 Jun  3 15:52 OUT_2D_models/split_mig_iso_mig_4.4204_17.3910_3.3502_0.1423_0.3064_0.2099_0.0165.dill\r\n",
      "-rw-rw-r-- 1 claudius 364 Jun  3 19:01 OUT_2D_models/split_mig_iso_mig_4.6896_4.9306_7.9200_0.0368_0.2436_0.1309_0.0196.dill\r\n",
      "-rw-rw-r-- 1 claudius 364 Jun  3 19:02 OUT_2D_models/split_mig_iso_mig_4.8485_7.8443_6.5328_0.0656_0.2918_0.1493_0.0061.dill\r\n",
      "-rw-rw-r-- 1 claudius 364 Jun  3 15:52 OUT_2D_models/split_mig_iso_mig_5.1750_4.8629_4.8988_0.0283_0.4760_0.0538_0.0625.dill\r\n",
      "-rw-rw-r-- 1 claudius 364 Jun  3 19:02 OUT_2D_models/split_mig_iso_mig_5.9582_10.0711_7.9200_0.0709_0.1852_0.1687_0.0182.dill\r\n",
      "-rw-rw-r-- 1 claudius 364 Jun  3 15:51 OUT_2D_models/split_mig_iso_mig_6.7436_2.1538_5.9400_0.0161_0.1946_0.0559_0.1092.dill\r\n",
      "-rw-rw-r-- 1 claudius 364 Jun  3 15:52 OUT_2D_models/split_mig_iso_mig_6.9803_23.0350_5.9400_0.0180_0.4691_0.0579_0.0198.dill\r\n",
      "-rw-rw-r-- 1 claudius 364 Jun  3 15:51 OUT_2D_models/split_mig_iso_mig_8.0423_3.9836_4.7871_0.0895_0.1220_0.1626_0.0149.dill\r\n",
      "-rw-rw-r-- 1 claudius 364 Jun  3 15:52 OUT_2D_models/split_mig_iso_mig_8.3624_7.1749_4.3187_0.0305_0.3143_0.0298_0.0465.dill\r\n"
     ]
    }
   ],
   "source": [
    "% ll OUT_2D_models/split_mig_iso_mig*dill"
   ]
  },
  {
   "cell_type": "code",
   "execution_count": 62,
   "metadata": {
    "collapsed": true
   },
   "outputs": [],
   "source": [
    "ar_mig_iso_mig = []\n",
    "\n",
    "for filename in glob(\"OUT_2D_models/split_mig_iso_mig*dill\"):\n",
    "    ar_mig_iso_mig.append(dill.load(open(filename)))"
   ]
  },
  {
   "cell_type": "code",
   "execution_count": 63,
   "metadata": {
    "collapsed": false
   },
   "outputs": [
    {
     "data": {
      "text/html": [
       "<div>\n",
       "<table border=\"1\" class=\"dataframe\">\n",
       "  <thead>\n",
       "    <tr style=\"text-align: right;\">\n",
       "      <th></th>\n",
       "      <th>nu1_0</th>\n",
       "      <th>nu2_0</th>\n",
       "      <th>Tc_0</th>\n",
       "      <th>m1_0</th>\n",
       "      <th>m2_0</th>\n",
       "      <th>Ti_0</th>\n",
       "      <th>Tsc_0</th>\n",
       "      <th>nu1_opt</th>\n",
       "      <th>nu2_opt</th>\n",
       "      <th>Tc_opt</th>\n",
       "      <th>m1_opt</th>\n",
       "      <th>m2_opt</th>\n",
       "      <th>Ti_opt</th>\n",
       "      <th>Tsc_opt</th>\n",
       "      <th>-logL</th>\n",
       "    </tr>\n",
       "  </thead>\n",
       "  <tbody>\n",
       "    <tr>\n",
       "      <th>0</th>\n",
       "      <td>3.367161</td>\n",
       "      <td>5.873662</td>\n",
       "      <td>5.181757</td>\n",
       "      <td>0.021243</td>\n",
       "      <td>0.131704</td>\n",
       "      <td>0.134310</td>\n",
       "      <td>0.012568</td>\n",
       "      <td>3.188610</td>\n",
       "      <td>7.794114</td>\n",
       "      <td>6.164844</td>\n",
       "      <td>0.043640</td>\n",
       "      <td>0.218696</td>\n",
       "      <td>0.114964</td>\n",
       "      <td>0.004645</td>\n",
       "      <td>12155.538032</td>\n",
       "    </tr>\n",
       "    <tr>\n",
       "      <th>11</th>\n",
       "      <td>4.848455</td>\n",
       "      <td>7.844252</td>\n",
       "      <td>6.532817</td>\n",
       "      <td>0.065627</td>\n",
       "      <td>0.291770</td>\n",
       "      <td>0.149297</td>\n",
       "      <td>0.006102</td>\n",
       "      <td>3.120969</td>\n",
       "      <td>7.612606</td>\n",
       "      <td>6.000069</td>\n",
       "      <td>0.045012</td>\n",
       "      <td>0.222445</td>\n",
       "      <td>0.112705</td>\n",
       "      <td>0.004608</td>\n",
       "      <td>12155.590169</td>\n",
       "    </tr>\n",
       "    <tr>\n",
       "      <th>4</th>\n",
       "      <td>3.581468</td>\n",
       "      <td>4.386019</td>\n",
       "      <td>7.920000</td>\n",
       "      <td>0.040211</td>\n",
       "      <td>0.199524</td>\n",
       "      <td>0.090897</td>\n",
       "      <td>0.006340</td>\n",
       "      <td>3.105754</td>\n",
       "      <td>7.584235</td>\n",
       "      <td>5.979666</td>\n",
       "      <td>0.044949</td>\n",
       "      <td>0.224270</td>\n",
       "      <td>0.111817</td>\n",
       "      <td>0.004517</td>\n",
       "      <td>12155.591385</td>\n",
       "    </tr>\n",
       "    <tr>\n",
       "      <th>10</th>\n",
       "      <td>2.861802</td>\n",
       "      <td>6.174207</td>\n",
       "      <td>6.206258</td>\n",
       "      <td>0.023059</td>\n",
       "      <td>0.194373</td>\n",
       "      <td>0.107483</td>\n",
       "      <td>0.019635</td>\n",
       "      <td>3.037227</td>\n",
       "      <td>7.420328</td>\n",
       "      <td>5.807496</td>\n",
       "      <td>0.045940</td>\n",
       "      <td>0.228788</td>\n",
       "      <td>0.109332</td>\n",
       "      <td>0.004451</td>\n",
       "      <td>12155.596732</td>\n",
       "    </tr>\n",
       "    <tr>\n",
       "      <th>17</th>\n",
       "      <td>2.615168</td>\n",
       "      <td>14.532166</td>\n",
       "      <td>6.177148</td>\n",
       "      <td>0.038351</td>\n",
       "      <td>0.161283</td>\n",
       "      <td>0.116289</td>\n",
       "      <td>0.019920</td>\n",
       "      <td>3.021104</td>\n",
       "      <td>7.379894</td>\n",
       "      <td>5.769061</td>\n",
       "      <td>0.046165</td>\n",
       "      <td>0.229732</td>\n",
       "      <td>0.108768</td>\n",
       "      <td>0.005524</td>\n",
       "      <td>12155.718311</td>\n",
       "    </tr>\n",
       "    <tr>\n",
       "      <th>19</th>\n",
       "      <td>4.689580</td>\n",
       "      <td>4.930597</td>\n",
       "      <td>7.920000</td>\n",
       "      <td>0.036797</td>\n",
       "      <td>0.243583</td>\n",
       "      <td>0.130929</td>\n",
       "      <td>0.019558</td>\n",
       "      <td>3.746330</td>\n",
       "      <td>9.107319</td>\n",
       "      <td>7.386824</td>\n",
       "      <td>0.039007</td>\n",
       "      <td>0.187509</td>\n",
       "      <td>0.149092</td>\n",
       "      <td>0.012786</td>\n",
       "      <td>12156.381833</td>\n",
       "    </tr>\n",
       "    <tr>\n",
       "      <th>9</th>\n",
       "      <td>2.646968</td>\n",
       "      <td>3.943732</td>\n",
       "      <td>3.992614</td>\n",
       "      <td>0.063371</td>\n",
       "      <td>0.344669</td>\n",
       "      <td>0.221130</td>\n",
       "      <td>0.010017</td>\n",
       "      <td>2.698943</td>\n",
       "      <td>6.615402</td>\n",
       "      <td>5.040117</td>\n",
       "      <td>0.050977</td>\n",
       "      <td>0.258592</td>\n",
       "      <td>0.094888</td>\n",
       "      <td>0.002855</td>\n",
       "      <td>12156.558507</td>\n",
       "    </tr>\n",
       "    <tr>\n",
       "      <th>15</th>\n",
       "      <td>5.958216</td>\n",
       "      <td>10.071090</td>\n",
       "      <td>7.920000</td>\n",
       "      <td>0.070913</td>\n",
       "      <td>0.185235</td>\n",
       "      <td>0.168712</td>\n",
       "      <td>0.018208</td>\n",
       "      <td>3.880071</td>\n",
       "      <td>9.474192</td>\n",
       "      <td>7.726884</td>\n",
       "      <td>0.036690</td>\n",
       "      <td>0.181476</td>\n",
       "      <td>0.155206</td>\n",
       "      <td>0.016580</td>\n",
       "      <td>12156.884063</td>\n",
       "    </tr>\n",
       "    <tr>\n",
       "      <th>1</th>\n",
       "      <td>2.805249</td>\n",
       "      <td>5.052889</td>\n",
       "      <td>4.014091</td>\n",
       "      <td>0.029912</td>\n",
       "      <td>0.231140</td>\n",
       "      <td>0.202572</td>\n",
       "      <td>0.014063</td>\n",
       "      <td>2.486040</td>\n",
       "      <td>6.086709</td>\n",
       "      <td>4.536669</td>\n",
       "      <td>0.055292</td>\n",
       "      <td>0.278498</td>\n",
       "      <td>0.089498</td>\n",
       "      <td>0.005871</td>\n",
       "      <td>12156.937086</td>\n",
       "    </tr>\n",
       "    <tr>\n",
       "      <th>12</th>\n",
       "      <td>8.362353</td>\n",
       "      <td>7.174874</td>\n",
       "      <td>4.318747</td>\n",
       "      <td>0.030505</td>\n",
       "      <td>0.314294</td>\n",
       "      <td>0.029781</td>\n",
       "      <td>0.046488</td>\n",
       "      <td>3.054782</td>\n",
       "      <td>7.596574</td>\n",
       "      <td>5.940901</td>\n",
       "      <td>0.042105</td>\n",
       "      <td>0.238595</td>\n",
       "      <td>0.125940</td>\n",
       "      <td>0.010319</td>\n",
       "      <td>12159.837573</td>\n",
       "    </tr>\n",
       "  </tbody>\n",
       "</table>\n",
       "</div>"
      ],
      "text/plain": [
       "       nu1_0      nu2_0      Tc_0      m1_0      m2_0      Ti_0     Tsc_0  \\\n",
       "0   3.367161   5.873662  5.181757  0.021243  0.131704  0.134310  0.012568   \n",
       "11  4.848455   7.844252  6.532817  0.065627  0.291770  0.149297  0.006102   \n",
       "4   3.581468   4.386019  7.920000  0.040211  0.199524  0.090897  0.006340   \n",
       "10  2.861802   6.174207  6.206258  0.023059  0.194373  0.107483  0.019635   \n",
       "17  2.615168  14.532166  6.177148  0.038351  0.161283  0.116289  0.019920   \n",
       "19  4.689580   4.930597  7.920000  0.036797  0.243583  0.130929  0.019558   \n",
       "9   2.646968   3.943732  3.992614  0.063371  0.344669  0.221130  0.010017   \n",
       "15  5.958216  10.071090  7.920000  0.070913  0.185235  0.168712  0.018208   \n",
       "1   2.805249   5.052889  4.014091  0.029912  0.231140  0.202572  0.014063   \n",
       "12  8.362353   7.174874  4.318747  0.030505  0.314294  0.029781  0.046488   \n",
       "\n",
       "     nu1_opt   nu2_opt    Tc_opt    m1_opt    m2_opt    Ti_opt   Tsc_opt  \\\n",
       "0   3.188610  7.794114  6.164844  0.043640  0.218696  0.114964  0.004645   \n",
       "11  3.120969  7.612606  6.000069  0.045012  0.222445  0.112705  0.004608   \n",
       "4   3.105754  7.584235  5.979666  0.044949  0.224270  0.111817  0.004517   \n",
       "10  3.037227  7.420328  5.807496  0.045940  0.228788  0.109332  0.004451   \n",
       "17  3.021104  7.379894  5.769061  0.046165  0.229732  0.108768  0.005524   \n",
       "19  3.746330  9.107319  7.386824  0.039007  0.187509  0.149092  0.012786   \n",
       "9   2.698943  6.615402  5.040117  0.050977  0.258592  0.094888  0.002855   \n",
       "15  3.880071  9.474192  7.726884  0.036690  0.181476  0.155206  0.016580   \n",
       "1   2.486040  6.086709  4.536669  0.055292  0.278498  0.089498  0.005871   \n",
       "12  3.054782  7.596574  5.940901  0.042105  0.238595  0.125940  0.010319   \n",
       "\n",
       "           -logL  \n",
       "0   12155.538032  \n",
       "11  12155.590169  \n",
       "4   12155.591385  \n",
       "10  12155.596732  \n",
       "17  12155.718311  \n",
       "19  12156.381833  \n",
       "9   12156.558507  \n",
       "15  12156.884063  \n",
       "1   12156.937086  \n",
       "12  12159.837573  "
      ]
     },
     "execution_count": 63,
     "metadata": {},
     "output_type": "execute_result"
    }
   ],
   "source": [
    "import pandas as pd\n",
    "\n",
    "l = 2*len(p0)+1\n",
    "\n",
    "# show all parameter combinations\n",
    "returned = [flatten(out)[:l] for out in ar_mig_iso_mig]\n",
    "\n",
    "df = pd.DataFrame(data=returned, \\\n",
    "                  columns=['nu1_0','nu2_0', 'Tc_0', 'm1_0', 'm2_0', 'Ti_0', 'Tsc_0', 'nu1_opt', 'nu2_opt', 'Tc_opt', 'm1_opt', 'm2_opt', 'Ti_opt', 'Tsc_opt', '-logL'])\n",
    "\n",
    "df.sort_values(by='-logL', ascending=True).head(10)"
   ]
  },
  {
   "cell_type": "markdown",
   "metadata": {},
   "source": [
    "There is no good convergence yet."
   ]
  },
  {
   "cell_type": "code",
   "execution_count": 59,
   "metadata": {
    "collapsed": false
   },
   "outputs": [
    {
     "data": {
      "text/plain": [
       "array([ 3.05478165,  7.59657376,  5.9409006 ,  0.04210524,  0.23859495,\n",
       "        0.12593952,  0.01031921])"
      ]
     },
     "execution_count": 59,
     "metadata": {},
     "output_type": "execute_result"
    }
   ],
   "source": [
    "popt = np.array(df.sort_values(by='-logL', ascending=True).iloc[0,7:14])\n",
    "popt"
   ]
  },
  {
   "cell_type": "code",
   "execution_count": 56,
   "metadata": {
    "collapsed": true
   },
   "outputs": [],
   "source": [
    "%%px --local\n",
    "\n",
    "pts_l = [60, 70, 80]\n",
    "fold = 1"
   ]
  },
  {
   "cell_type": "code",
   "execution_count": 60,
   "metadata": {
    "collapsed": true
   },
   "outputs": [],
   "source": [
    "%%px --local\n",
    "\n",
    "# set lower and upper bounds to nu1, nu2, Tc, m1, m2, Ti, Tsc\n",
    "upper_bound = [1e4, 1e4, 8, 10, 10, 6, 6] \n",
    "lower_bound = [1e-4, 1e-4, 0, 0, 0, 0, 0]"
   ]
  },
  {
   "cell_type": "code",
   "execution_count": 61,
   "metadata": {
    "collapsed": true
   },
   "outputs": [],
   "source": [
    "p0 = popt\n",
    "\n",
    "#ar_mig_iso_mig = lbview.map(run_dadi, repeat(p0, 10))"
   ]
  },
  {
   "cell_type": "code",
   "execution_count": 51,
   "metadata": {
    "collapsed": true
   },
   "outputs": [],
   "source": [
    "ar_mig_iso_mig = []\n",
    "\n",
    "for filename in glob(\"OUT_2D_models/split_mig_iso_mig_[0-9]*dill\"):\n",
    "    ar_mig_iso_mig.append(dill.load(open(filename)))"
   ]
  },
  {
   "cell_type": "code",
   "execution_count": 53,
   "metadata": {
    "collapsed": false
   },
   "outputs": [
    {
     "name": "stdout",
     "output_type": "stream",
     "text": [
      "-rw-rw-r-- 1 claudius 364 Jun  3 15:51 OUT_2D_models/split_mig_iso_mig_11.0126_22.7709_5.9400_0.0437_0.3119_0.1956_0.1092.dill\r\n",
      "-rw-rw-r-- 1 claudius 364 Jun  3 15:51 OUT_2D_models/split_mig_iso_mig_1.2054_5.0738_5.9400_0.0214_0.3336_0.1019_0.0275.dill\r\n",
      "-rw-rw-r-- 1 claudius 364 Jun  3 19:01 OUT_2D_models/split_mig_iso_mig_1.7164_3.8718_7.9200_0.0218_0.2159_0.0908_0.0176.dill\r\n",
      "-rw-rw-r-- 1 claudius 364 Jun  3 15:51 OUT_2D_models/split_mig_iso_mig_2.2342_3.2395_5.9400_0.0919_0.2080_0.1652_0.0786.dill\r\n",
      "-rw-rw-r-- 1 claudius 364 Jun  3 15:50 OUT_2D_models/split_mig_iso_mig_2.3335_15.2576_1.8862_0.1763_0.0680_0.3384_0.1045.dill\r\n",
      "-rw-rw-r-- 1 claudius 364 Jun  3 19:01 OUT_2D_models/split_mig_iso_mig_2.6152_14.5322_6.1771_0.0384_0.1613_0.1163_0.0199.dill\r\n",
      "-rw-rw-r-- 1 claudius 364 Jun  3 19:00 OUT_2D_models/split_mig_iso_mig_2.6470_3.9437_3.9926_0.0634_0.3447_0.2211_0.0100.dill\r\n",
      "-rw-rw-r-- 1 claudius 364 Jun  3 19:01 OUT_2D_models/split_mig_iso_mig_2.8052_5.0529_4.0141_0.0299_0.2311_0.2026_0.0141.dill\r\n",
      "-rw-rw-r-- 1 claudius 364 Jun  3 19:01 OUT_2D_models/split_mig_iso_mig_2.8618_6.1742_6.2063_0.0231_0.1944_0.1075_0.0196.dill\r\n",
      "-rw-rw-r-- 1 claudius 364 Jun  3 19:01 OUT_2D_models/split_mig_iso_mig_3.3672_5.8737_5.1818_0.0212_0.1317_0.1343_0.0126.dill\r\n",
      "-rw-rw-r-- 1 claudius 364 Jun  3 19:01 OUT_2D_models/split_mig_iso_mig_3.5815_4.3860_7.9200_0.0402_0.1995_0.0909_0.0063.dill\r\n",
      "-rw-rw-r-- 1 claudius 364 Jun  3 15:52 OUT_2D_models/split_mig_iso_mig_4.4204_17.3910_3.3502_0.1423_0.3064_0.2099_0.0165.dill\r\n",
      "-rw-rw-r-- 1 claudius 364 Jun  3 19:01 OUT_2D_models/split_mig_iso_mig_4.6896_4.9306_7.9200_0.0368_0.2436_0.1309_0.0196.dill\r\n",
      "-rw-rw-r-- 1 claudius 364 Jun  3 19:02 OUT_2D_models/split_mig_iso_mig_4.8485_7.8443_6.5328_0.0656_0.2918_0.1493_0.0061.dill\r\n",
      "-rw-rw-r-- 1 claudius 364 Jun  3 15:52 OUT_2D_models/split_mig_iso_mig_5.1750_4.8629_4.8988_0.0283_0.4760_0.0538_0.0625.dill\r\n",
      "-rw-rw-r-- 1 claudius 364 Jun  3 19:02 OUT_2D_models/split_mig_iso_mig_5.9582_10.0711_7.9200_0.0709_0.1852_0.1687_0.0182.dill\r\n",
      "-rw-rw-r-- 1 claudius 364 Jun  3 15:51 OUT_2D_models/split_mig_iso_mig_6.7436_2.1538_5.9400_0.0161_0.1946_0.0559_0.1092.dill\r\n",
      "-rw-rw-r-- 1 claudius 364 Jun  3 15:52 OUT_2D_models/split_mig_iso_mig_6.9803_23.0350_5.9400_0.0180_0.4691_0.0579_0.0198.dill\r\n",
      "-rw-rw-r-- 1 claudius 364 Jun  3 15:51 OUT_2D_models/split_mig_iso_mig_8.0423_3.9836_4.7871_0.0895_0.1220_0.1626_0.0149.dill\r\n",
      "-rw-rw-r-- 1 claudius 364 Jun  3 15:52 OUT_2D_models/split_mig_iso_mig_8.3624_7.1749_4.3187_0.0305_0.3143_0.0298_0.0465.dill\r\n"
     ]
    }
   ],
   "source": [
    "% ll OUT_2D_models/split_mig_iso_mig_[0-9]*dill"
   ]
  },
  {
   "cell_type": "code",
   "execution_count": 54,
   "metadata": {
    "collapsed": false
   },
   "outputs": [
    {
     "data": {
      "text/html": [
       "<div>\n",
       "<table border=\"1\" class=\"dataframe\">\n",
       "  <thead>\n",
       "    <tr style=\"text-align: right;\">\n",
       "      <th></th>\n",
       "      <th>nu1_0</th>\n",
       "      <th>nu2_0</th>\n",
       "      <th>Tc_0</th>\n",
       "      <th>m1_0</th>\n",
       "      <th>m2_0</th>\n",
       "      <th>Ti_0</th>\n",
       "      <th>Tsc_0</th>\n",
       "      <th>nu1_opt</th>\n",
       "      <th>nu2_opt</th>\n",
       "      <th>Tc_opt</th>\n",
       "      <th>m1_opt</th>\n",
       "      <th>m2_opt</th>\n",
       "      <th>Ti_opt</th>\n",
       "      <th>Tsc_opt</th>\n",
       "      <th>-logL</th>\n",
       "    </tr>\n",
       "  </thead>\n",
       "  <tbody>\n",
       "    <tr>\n",
       "      <th>0</th>\n",
       "      <td>3.367161</td>\n",
       "      <td>5.873662</td>\n",
       "      <td>5.181757</td>\n",
       "      <td>0.021243</td>\n",
       "      <td>0.131704</td>\n",
       "      <td>0.134310</td>\n",
       "      <td>0.012568</td>\n",
       "      <td>3.188610</td>\n",
       "      <td>7.794114</td>\n",
       "      <td>6.164844</td>\n",
       "      <td>0.043640</td>\n",
       "      <td>0.218696</td>\n",
       "      <td>0.114964</td>\n",
       "      <td>0.004645</td>\n",
       "      <td>12155.538032</td>\n",
       "    </tr>\n",
       "    <tr>\n",
       "      <th>11</th>\n",
       "      <td>4.848455</td>\n",
       "      <td>7.844252</td>\n",
       "      <td>6.532817</td>\n",
       "      <td>0.065627</td>\n",
       "      <td>0.291770</td>\n",
       "      <td>0.149297</td>\n",
       "      <td>0.006102</td>\n",
       "      <td>3.120969</td>\n",
       "      <td>7.612606</td>\n",
       "      <td>6.000069</td>\n",
       "      <td>0.045012</td>\n",
       "      <td>0.222445</td>\n",
       "      <td>0.112705</td>\n",
       "      <td>0.004608</td>\n",
       "      <td>12155.590169</td>\n",
       "    </tr>\n",
       "    <tr>\n",
       "      <th>4</th>\n",
       "      <td>3.581468</td>\n",
       "      <td>4.386019</td>\n",
       "      <td>7.920000</td>\n",
       "      <td>0.040211</td>\n",
       "      <td>0.199524</td>\n",
       "      <td>0.090897</td>\n",
       "      <td>0.006340</td>\n",
       "      <td>3.105754</td>\n",
       "      <td>7.584235</td>\n",
       "      <td>5.979666</td>\n",
       "      <td>0.044949</td>\n",
       "      <td>0.224270</td>\n",
       "      <td>0.111817</td>\n",
       "      <td>0.004517</td>\n",
       "      <td>12155.591385</td>\n",
       "    </tr>\n",
       "    <tr>\n",
       "      <th>10</th>\n",
       "      <td>2.861802</td>\n",
       "      <td>6.174207</td>\n",
       "      <td>6.206258</td>\n",
       "      <td>0.023059</td>\n",
       "      <td>0.194373</td>\n",
       "      <td>0.107483</td>\n",
       "      <td>0.019635</td>\n",
       "      <td>3.037227</td>\n",
       "      <td>7.420328</td>\n",
       "      <td>5.807496</td>\n",
       "      <td>0.045940</td>\n",
       "      <td>0.228788</td>\n",
       "      <td>0.109332</td>\n",
       "      <td>0.004451</td>\n",
       "      <td>12155.596732</td>\n",
       "    </tr>\n",
       "    <tr>\n",
       "      <th>17</th>\n",
       "      <td>2.615168</td>\n",
       "      <td>14.532166</td>\n",
       "      <td>6.177148</td>\n",
       "      <td>0.038351</td>\n",
       "      <td>0.161283</td>\n",
       "      <td>0.116289</td>\n",
       "      <td>0.019920</td>\n",
       "      <td>3.021104</td>\n",
       "      <td>7.379894</td>\n",
       "      <td>5.769061</td>\n",
       "      <td>0.046165</td>\n",
       "      <td>0.229732</td>\n",
       "      <td>0.108768</td>\n",
       "      <td>0.005524</td>\n",
       "      <td>12155.718311</td>\n",
       "    </tr>\n",
       "    <tr>\n",
       "      <th>19</th>\n",
       "      <td>4.689580</td>\n",
       "      <td>4.930597</td>\n",
       "      <td>7.920000</td>\n",
       "      <td>0.036797</td>\n",
       "      <td>0.243583</td>\n",
       "      <td>0.130929</td>\n",
       "      <td>0.019558</td>\n",
       "      <td>3.746330</td>\n",
       "      <td>9.107319</td>\n",
       "      <td>7.386824</td>\n",
       "      <td>0.039007</td>\n",
       "      <td>0.187509</td>\n",
       "      <td>0.149092</td>\n",
       "      <td>0.012786</td>\n",
       "      <td>12156.381833</td>\n",
       "    </tr>\n",
       "    <tr>\n",
       "      <th>9</th>\n",
       "      <td>2.646968</td>\n",
       "      <td>3.943732</td>\n",
       "      <td>3.992614</td>\n",
       "      <td>0.063371</td>\n",
       "      <td>0.344669</td>\n",
       "      <td>0.221130</td>\n",
       "      <td>0.010017</td>\n",
       "      <td>2.698943</td>\n",
       "      <td>6.615402</td>\n",
       "      <td>5.040117</td>\n",
       "      <td>0.050977</td>\n",
       "      <td>0.258592</td>\n",
       "      <td>0.094888</td>\n",
       "      <td>0.002855</td>\n",
       "      <td>12156.558507</td>\n",
       "    </tr>\n",
       "    <tr>\n",
       "      <th>15</th>\n",
       "      <td>5.958216</td>\n",
       "      <td>10.071090</td>\n",
       "      <td>7.920000</td>\n",
       "      <td>0.070913</td>\n",
       "      <td>0.185235</td>\n",
       "      <td>0.168712</td>\n",
       "      <td>0.018208</td>\n",
       "      <td>3.880071</td>\n",
       "      <td>9.474192</td>\n",
       "      <td>7.726884</td>\n",
       "      <td>0.036690</td>\n",
       "      <td>0.181476</td>\n",
       "      <td>0.155206</td>\n",
       "      <td>0.016580</td>\n",
       "      <td>12156.884063</td>\n",
       "    </tr>\n",
       "    <tr>\n",
       "      <th>1</th>\n",
       "      <td>2.805249</td>\n",
       "      <td>5.052889</td>\n",
       "      <td>4.014091</td>\n",
       "      <td>0.029912</td>\n",
       "      <td>0.231140</td>\n",
       "      <td>0.202572</td>\n",
       "      <td>0.014063</td>\n",
       "      <td>2.486040</td>\n",
       "      <td>6.086709</td>\n",
       "      <td>4.536669</td>\n",
       "      <td>0.055292</td>\n",
       "      <td>0.278498</td>\n",
       "      <td>0.089498</td>\n",
       "      <td>0.005871</td>\n",
       "      <td>12156.937086</td>\n",
       "    </tr>\n",
       "    <tr>\n",
       "      <th>12</th>\n",
       "      <td>8.362353</td>\n",
       "      <td>7.174874</td>\n",
       "      <td>4.318747</td>\n",
       "      <td>0.030505</td>\n",
       "      <td>0.314294</td>\n",
       "      <td>0.029781</td>\n",
       "      <td>0.046488</td>\n",
       "      <td>3.054782</td>\n",
       "      <td>7.596574</td>\n",
       "      <td>5.940901</td>\n",
       "      <td>0.042105</td>\n",
       "      <td>0.238595</td>\n",
       "      <td>0.125940</td>\n",
       "      <td>0.010319</td>\n",
       "      <td>12159.837573</td>\n",
       "    </tr>\n",
       "  </tbody>\n",
       "</table>\n",
       "</div>"
      ],
      "text/plain": [
       "       nu1_0      nu2_0      Tc_0      m1_0      m2_0      Ti_0     Tsc_0  \\\n",
       "0   3.367161   5.873662  5.181757  0.021243  0.131704  0.134310  0.012568   \n",
       "11  4.848455   7.844252  6.532817  0.065627  0.291770  0.149297  0.006102   \n",
       "4   3.581468   4.386019  7.920000  0.040211  0.199524  0.090897  0.006340   \n",
       "10  2.861802   6.174207  6.206258  0.023059  0.194373  0.107483  0.019635   \n",
       "17  2.615168  14.532166  6.177148  0.038351  0.161283  0.116289  0.019920   \n",
       "19  4.689580   4.930597  7.920000  0.036797  0.243583  0.130929  0.019558   \n",
       "9   2.646968   3.943732  3.992614  0.063371  0.344669  0.221130  0.010017   \n",
       "15  5.958216  10.071090  7.920000  0.070913  0.185235  0.168712  0.018208   \n",
       "1   2.805249   5.052889  4.014091  0.029912  0.231140  0.202572  0.014063   \n",
       "12  8.362353   7.174874  4.318747  0.030505  0.314294  0.029781  0.046488   \n",
       "\n",
       "     nu1_opt   nu2_opt    Tc_opt    m1_opt    m2_opt    Ti_opt   Tsc_opt  \\\n",
       "0   3.188610  7.794114  6.164844  0.043640  0.218696  0.114964  0.004645   \n",
       "11  3.120969  7.612606  6.000069  0.045012  0.222445  0.112705  0.004608   \n",
       "4   3.105754  7.584235  5.979666  0.044949  0.224270  0.111817  0.004517   \n",
       "10  3.037227  7.420328  5.807496  0.045940  0.228788  0.109332  0.004451   \n",
       "17  3.021104  7.379894  5.769061  0.046165  0.229732  0.108768  0.005524   \n",
       "19  3.746330  9.107319  7.386824  0.039007  0.187509  0.149092  0.012786   \n",
       "9   2.698943  6.615402  5.040117  0.050977  0.258592  0.094888  0.002855   \n",
       "15  3.880071  9.474192  7.726884  0.036690  0.181476  0.155206  0.016580   \n",
       "1   2.486040  6.086709  4.536669  0.055292  0.278498  0.089498  0.005871   \n",
       "12  3.054782  7.596574  5.940901  0.042105  0.238595  0.125940  0.010319   \n",
       "\n",
       "           -logL  \n",
       "0   12155.538032  \n",
       "11  12155.590169  \n",
       "4   12155.591385  \n",
       "10  12155.596732  \n",
       "17  12155.718311  \n",
       "19  12156.381833  \n",
       "9   12156.558507  \n",
       "15  12156.884063  \n",
       "1   12156.937086  \n",
       "12  12159.837573  "
      ]
     },
     "execution_count": 54,
     "metadata": {},
     "output_type": "execute_result"
    }
   ],
   "source": [
    "import pandas as pd\n",
    "\n",
    "l = 2*7+1\n",
    "\n",
    "# show all parameter combinations\n",
    "returned = [flatten(out)[:l] for out in ar_mig_iso_mig]\n",
    "\n",
    "df = pd.DataFrame(data=returned, \\\n",
    "                  columns=['nu1_0','nu2_0', 'Tc_0', 'm1_0', 'm2_0', 'Ti_0', 'Tsc_0', 'nu1_opt', 'nu2_opt', 'Tc_opt', 'm1_opt', 'm2_opt', 'Ti_opt', 'Tsc_opt', '-logL'])\n",
    "\n",
    "df.sort_values(by='-logL', ascending=True).head(10)"
   ]
  },
  {
   "cell_type": "markdown",
   "metadata": {},
   "source": [
    "This looks like good convergence."
   ]
  },
  {
   "cell_type": "markdown",
   "metadata": {},
   "source": [
    "The best-fit ancient migration model had a log likelihood of -12156. So only one log likelihood unit worse."
   ]
  },
  {
   "cell_type": "code",
   "execution_count": 64,
   "metadata": {
    "collapsed": false
   },
   "outputs": [
    {
     "data": {
      "text/plain": [
       "1.0465540000004694"
      ]
     },
     "execution_count": 64,
     "metadata": {},
     "output_type": "execute_result"
    }
   ],
   "source": [
    "ll_s = 12156.061309\n",
    "ll_c = 12155.538032\n",
    "D = 2 * (ll_s - ll_c)\n",
    "D"
   ]
  },
  {
   "cell_type": "code",
   "execution_count": 65,
   "metadata": {
    "collapsed": false
   },
   "outputs": [
    {
     "data": {
      "text/plain": [
       "0.15315103430195065"
      ]
     },
     "execution_count": 65,
     "metadata": {},
     "output_type": "execute_result"
    }
   ],
   "source": [
    "# calculate p-value for Chi-square dist.\n",
    "# the weights specify a weighted sum of chi^2 distributions with 1 and 2 d.o.f\n",
    "# this is because Tsc is 0 in the split_asym_mig_iso model and at the boundary of the parameter space\n",
    "p = dadi.Godambe.sum_chi2_ppf(D, weights=(0.5, 0.5))\n",
    "p"
   ]
  },
  {
   "cell_type": "markdown",
   "metadata": {},
   "source": [
    "A recent restart of gene cannot be detected from this corrected spectrum."
   ]
  },
  {
   "cell_type": "markdown",
   "metadata": {},
   "source": [
    "I arrived at the same result with the uncorrected spectrum."
   ]
  },
  {
   "cell_type": "code",
   "execution_count": 55,
   "metadata": {
    "collapsed": false
   },
   "outputs": [
    {
     "data": {
      "text/plain": [
       "array([  3.18860973e+00,   7.79411365e+00,   6.16484431e+00,\n",
       "         4.36404020e-02,   2.18696464e-01,   1.14964123e-01,\n",
       "         4.64467788e-03])"
      ]
     },
     "execution_count": 55,
     "metadata": {},
     "output_type": "execute_result"
    }
   ],
   "source": [
    "popt = np.array(df.sort_values(by='-logL', ascending=True).iloc[0,7:14])\n",
    "popt"
   ]
  },
  {
   "cell_type": "code",
   "execution_count": 56,
   "metadata": {
    "collapsed": true
   },
   "outputs": [],
   "source": [
    "model = func_ex(popt, ns, pts_l)"
   ]
  },
  {
   "cell_type": "code",
   "execution_count": 57,
   "metadata": {
    "collapsed": false
   },
   "outputs": [
    {
     "data": {
      "text/plain": [
       "-12155.59866770125"
      ]
     },
     "execution_count": 57,
     "metadata": {},
     "output_type": "execute_result"
    }
   ],
   "source": [
    "ll_model = dadi.Inference.ll_multinom(model, sfs2d)\n",
    "ll_model"
   ]
  },
  {
   "cell_type": "code",
   "execution_count": 63,
   "metadata": {
    "collapsed": false
   },
   "outputs": [
    {
     "name": "stdout",
     "output_type": "stream",
     "text": [
      "The ancestral population size implied by the theta is is 122,262.\n",
      "The optimal time of secondary contact inferred is 1,135 generations.\n"
     ]
    }
   ],
   "source": [
    "theta = dadi.Inference.optimal_sfs_scaling(model, sfs2d)\n",
    "L = sfs2d.data.sum()\n",
    "mu = 3e-9\n",
    "N_ref = theta/L/mu/4\n",
    "print \"The ancestral population size implied by the theta is is {0:,}.\".format(int(N_ref))\n",
    "print \"The optimal time of secondary contact inferred is {0:,} generations.\".format(int(popt[-1]*2*N_ref))"
   ]
  },
  {
   "cell_type": "markdown",
   "metadata": {},
   "source": [
    "# model plotting"
   ]
  },
  {
   "cell_type": "markdown",
   "metadata": {},
   "source": [
    "I would like to use a module of the programme [moments](https://bitbucket.org/simongravel/moments) to plot the _ancient migration_ model."
   ]
  },
  {
   "cell_type": "code",
   "execution_count": 1,
   "metadata": {
    "collapsed": false
   },
   "outputs": [
    {
     "name": "stdout",
     "output_type": "stream",
     "text": [
      "total 52\r\n",
      "drwxrwxr-x 2 claudius 4096 Jun 28 14:26 \u001b[0m\u001b[01;34mbench\u001b[0m/\r\n",
      "drwxrwxr-x 3 claudius 4096 Jun 28 14:26 \u001b[01;34mdoc\u001b[0m/\r\n",
      "-rw-rw-r-- 1 claudius 4542 Jun 28 14:26 epydoc.config\r\n",
      "drwxrwxr-x 4 claudius 4096 Jun 28 14:26 \u001b[01;34mexamples\u001b[0m/\r\n",
      "-rw-rw-r-- 1 claudius 1503 Jun 28 14:26 LICENSE.txt\r\n",
      "-rw-rw-r-- 1 claudius  266 Jun 28 14:26 MANIFEST.in\r\n",
      "drwxrwxr-x 2 claudius 4096 Jun 28 14:26 \u001b[01;34mmoments\u001b[0m/\r\n",
      "-rw-rw-r-- 1 claudius 1359 Jun 28 14:26 README.md\r\n",
      "-rw-rw-r-- 1 claudius 2316 Jun 28 14:26 setup.py\r\n",
      "-rwxrwxr-x 1 claudius  527 Jun 28 14:26 \u001b[01;32mtest_demo_1D.py\u001b[0m*\r\n",
      "-rwxrwxr-x 1 claudius 1078 Jun 28 14:26 \u001b[01;32mtest_demo_2D.py\u001b[0m*\r\n",
      "drwxrwxr-x 3 claudius 4096 Jun 28 14:26 \u001b[01;34mtests\u001b[0m/\r\n"
     ]
    }
   ],
   "source": [
    "% ll /home/claudius/Downloads/moments/moments"
   ]
  },
  {
   "cell_type": "markdown",
   "metadata": {},
   "source": [
    "Installed in /usr/local/lib/python2.7/dist-packages/moments-1.0.0-py2.7.egg"
   ]
  },
  {
   "cell_type": "code",
   "execution_count": 1,
   "metadata": {
    "collapsed": false
   },
   "outputs": [
    {
     "data": {
      "text/plain": [
       "['',\n",
       " '/usr/local/anaconda2/lib/python27.zip',\n",
       " '/usr/local/anaconda2/lib/python2.7',\n",
       " '/usr/local/anaconda2/lib/python2.7/plat-linux2',\n",
       " '/usr/local/anaconda2/lib/python2.7/lib-tk',\n",
       " '/usr/local/anaconda2/lib/python2.7/lib-old',\n",
       " '/usr/local/anaconda2/lib/python2.7/lib-dynload',\n",
       " '/usr/local/anaconda2/lib/python2.7/site-packages/Sphinx-1.3.5-py2.7.egg',\n",
       " '/usr/local/anaconda2/lib/python2.7/site-packages/setuptools-20.3-py2.7.egg',\n",
       " '/usr/local/anaconda2/lib/python2.7/site-packages',\n",
       " '/usr/local/anaconda2/lib/python2.7/site-packages/IPython/extensions',\n",
       " '/home/claudius/.ipython']"
      ]
     },
     "execution_count": 1,
     "metadata": {},
     "output_type": "execute_result"
    }
   ],
   "source": [
    "import sys\n",
    "\n",
    "sys.path"
   ]
  },
  {
   "cell_type": "code",
   "execution_count": 2,
   "metadata": {
    "collapsed": true
   },
   "outputs": [],
   "source": [
    "sys.path.insert(0, '/usr/local/lib/python2.7/dist-packages/moments-1.0.0-py2.7.egg')"
   ]
  },
  {
   "cell_type": "code",
   "execution_count": 3,
   "metadata": {
    "collapsed": false
   },
   "outputs": [
    {
     "data": {
      "text/plain": [
       "['/usr/local/lib/python2.7/dist-packages/moments-1.0.0-py2.7.egg',\n",
       " '',\n",
       " '/usr/local/anaconda2/lib/python27.zip',\n",
       " '/usr/local/anaconda2/lib/python2.7',\n",
       " '/usr/local/anaconda2/lib/python2.7/plat-linux2',\n",
       " '/usr/local/anaconda2/lib/python2.7/lib-tk',\n",
       " '/usr/local/anaconda2/lib/python2.7/lib-old',\n",
       " '/usr/local/anaconda2/lib/python2.7/lib-dynload',\n",
       " '/usr/local/anaconda2/lib/python2.7/site-packages/Sphinx-1.3.5-py2.7.egg',\n",
       " '/usr/local/anaconda2/lib/python2.7/site-packages/setuptools-20.3-py2.7.egg',\n",
       " '/usr/local/anaconda2/lib/python2.7/site-packages',\n",
       " '/usr/local/anaconda2/lib/python2.7/site-packages/IPython/extensions',\n",
       " '/home/claudius/.ipython']"
      ]
     },
     "execution_count": 3,
     "metadata": {},
     "output_type": "execute_result"
    }
   ],
   "source": [
    "sys.path"
   ]
  },
  {
   "cell_type": "code",
   "execution_count": 4,
   "metadata": {
    "collapsed": false
   },
   "outputs": [],
   "source": [
    "import moments"
   ]
  },
  {
   "cell_type": "code",
   "execution_count": 5,
   "metadata": {
    "collapsed": true
   },
   "outputs": [],
   "source": [
    "from glob import glob\n",
    "import dill\n",
    "from utility_functions import *\n",
    "import pandas as pd\n",
    "# turn on floating point division by default, old behaviour via '//'\n",
    "from __future__ import division\n",
    "import numpy as np"
   ]
  },
  {
   "cell_type": "code",
   "execution_count": 6,
   "metadata": {
    "collapsed": true
   },
   "outputs": [],
   "source": [
    "%matplotlib inline\n",
    "\n",
    "import pylab\n",
    "\n",
    "pylab.rcParams['figure.figsize'] = [12, 10]\n",
    "pylab.rcParams['font.size'] = 14"
   ]
  },
  {
   "cell_type": "code",
   "execution_count": 7,
   "metadata": {
    "collapsed": false
   },
   "outputs": [],
   "source": [
    "# load spectrum modified with Ludovic's correction, p=35\n",
    "\n",
    "sfs2d = moments.Spectrum.from_file(\"EryPar_modified.2dsfs\")"
   ]
  },
  {
   "cell_type": "code",
   "execution_count": 8,
   "metadata": {
    "collapsed": true
   },
   "outputs": [],
   "source": [
    "ns = sfs2d.sample_sizes"
   ]
  },
  {
   "cell_type": "code",
   "execution_count": 17,
   "metadata": {
    "collapsed": true
   },
   "outputs": [],
   "source": [
    "def split_asym_mig_iso(params, ns): # note, I have removed the pts argument from the argument list\n",
    "    \"\"\"\n",
    "    params = (nu1,nu2,Tc,m1,m2,Ti)\n",
    "    ns = (n1,n2)\n",
    "\n",
    "    Split into two populations of specifed size, with potentially asymmetric migration\n",
    "    for a time Tc followed by complete isolation until present.\n",
    "\n",
    "    nu1: population size ratio of population 1 after split (with respect to Na)\n",
    "    nu2: population size ratio of population 2 after split (with respect to Na)\n",
    "    Tc: Time of gene flow after split (in units of 2*Na generations) \n",
    "    m1: Migration rate from ery into par (in units of 2*Na ind per generation)\n",
    "    m2: Migration rate from par into ery (in units of 2*Na ind per generation)\n",
    "    Ti: Time of isolation after cessation of gene flow\n",
    "    The split lies Tc+Ti * 2Na generations in the past.\n",
    "    n1,n2: Sample sizes of resulting Spectrum\n",
    "    pts: Number of grid points to use in integration.\n",
    "    \"\"\"\n",
    "    nu1,nu2,Tc,m1,m2,Ti = params\n",
    "    \n",
    "    # fs for equilibrium ancestral population\n",
    "    sts = moments.LinearSystem_1D.steady_state_1D(ns[0] + ns[1])\n",
    "    fs = moments.Spectrum(sts)\n",
    "    \n",
    "    # split\n",
    "    fs = moments.Manips.split_1D_to_2D(fs, ns[0], ns[1]) \n",
    "    \n",
    "    # divergence with potentially asymmetric migration\n",
    "    fs.integrate([nu1, nu2], Tc, m=np.array([[0, m2], [m1, 0]]))\n",
    "    \n",
    "    # divergence without gene flow\n",
    "    fs.integrate([nu1, nu2], Ti, m=np.array([[0,0], [0,0]]))\n",
    "\n",
    "    return fs"
   ]
  },
  {
   "cell_type": "code",
   "execution_count": 13,
   "metadata": {
    "collapsed": true
   },
   "outputs": [],
   "source": [
    "ar_split_asym_mig_iso = []\n",
    "\n",
    "for filename in glob(\"OUT_2D_models/split_asym_mig_iso_[0-9]*dill\"):\n",
    "    ar_split_asym_mig_iso.append(dill.load(open(filename)))"
   ]
  },
  {
   "cell_type": "code",
   "execution_count": 14,
   "metadata": {
    "collapsed": false
   },
   "outputs": [
    {
     "data": {
      "text/html": [
       "<div>\n",
       "<table border=\"1\" class=\"dataframe\">\n",
       "  <thead>\n",
       "    <tr style=\"text-align: right;\">\n",
       "      <th></th>\n",
       "      <th>nu1_0</th>\n",
       "      <th>nu2_0</th>\n",
       "      <th>Tc_0</th>\n",
       "      <th>m1_0</th>\n",
       "      <th>m2_0</th>\n",
       "      <th>Ti_0</th>\n",
       "      <th>nu1_opt</th>\n",
       "      <th>nu2_opt</th>\n",
       "      <th>Tc_opt</th>\n",
       "      <th>m1_opt</th>\n",
       "      <th>m2_opt</th>\n",
       "      <th>Ti_opt</th>\n",
       "      <th>-logL</th>\n",
       "    </tr>\n",
       "  </thead>\n",
       "  <tbody>\n",
       "    <tr>\n",
       "      <th>31</th>\n",
       "      <td>3.421903</td>\n",
       "      <td>12.882920</td>\n",
       "      <td>7.920000</td>\n",
       "      <td>0.090910</td>\n",
       "      <td>0.137533</td>\n",
       "      <td>0.104192</td>\n",
       "      <td>3.428735</td>\n",
       "      <td>8.372007</td>\n",
       "      <td>6.719565</td>\n",
       "      <td>0.040627</td>\n",
       "      <td>0.202323</td>\n",
       "      <td>0.118790</td>\n",
       "      <td>12156.061309</td>\n",
       "    </tr>\n",
       "    <tr>\n",
       "      <th>29</th>\n",
       "      <td>2.208113</td>\n",
       "      <td>8.325249</td>\n",
       "      <td>5.594802</td>\n",
       "      <td>0.045599</td>\n",
       "      <td>0.494681</td>\n",
       "      <td>0.058458</td>\n",
       "      <td>3.434782</td>\n",
       "      <td>8.387801</td>\n",
       "      <td>6.732856</td>\n",
       "      <td>0.040569</td>\n",
       "      <td>0.202054</td>\n",
       "      <td>0.119088</td>\n",
       "      <td>12156.061960</td>\n",
       "    </tr>\n",
       "    <tr>\n",
       "      <th>17</th>\n",
       "      <td>1.638405</td>\n",
       "      <td>7.027064</td>\n",
       "      <td>3.328377</td>\n",
       "      <td>0.093406</td>\n",
       "      <td>0.279576</td>\n",
       "      <td>0.084667</td>\n",
       "      <td>3.365763</td>\n",
       "      <td>8.218499</td>\n",
       "      <td>6.573684</td>\n",
       "      <td>0.041489</td>\n",
       "      <td>0.206208</td>\n",
       "      <td>0.116898</td>\n",
       "      <td>12156.066451</td>\n",
       "    </tr>\n",
       "    <tr>\n",
       "      <th>4</th>\n",
       "      <td>3.157867</td>\n",
       "      <td>11.894738</td>\n",
       "      <td>6.832827</td>\n",
       "      <td>0.089239</td>\n",
       "      <td>0.343652</td>\n",
       "      <td>0.125056</td>\n",
       "      <td>3.151832</td>\n",
       "      <td>7.672115</td>\n",
       "      <td>6.074031</td>\n",
       "      <td>0.044790</td>\n",
       "      <td>0.217833</td>\n",
       "      <td>0.107115</td>\n",
       "      <td>12156.250139</td>\n",
       "    </tr>\n",
       "    <tr>\n",
       "      <th>2</th>\n",
       "      <td>2.150693</td>\n",
       "      <td>3.752285</td>\n",
       "      <td>7.339520</td>\n",
       "      <td>0.053352</td>\n",
       "      <td>0.182956</td>\n",
       "      <td>0.054508</td>\n",
       "      <td>2.905080</td>\n",
       "      <td>7.099776</td>\n",
       "      <td>5.511164</td>\n",
       "      <td>0.047722</td>\n",
       "      <td>0.237869</td>\n",
       "      <td>0.100633</td>\n",
       "      <td>12156.336374</td>\n",
       "    </tr>\n",
       "    <tr>\n",
       "      <th>8</th>\n",
       "      <td>4.507973</td>\n",
       "      <td>4.211151</td>\n",
       "      <td>4.530473</td>\n",
       "      <td>0.038619</td>\n",
       "      <td>0.356819</td>\n",
       "      <td>0.049796</td>\n",
       "      <td>2.838367</td>\n",
       "      <td>6.936326</td>\n",
       "      <td>5.355545</td>\n",
       "      <td>0.048636</td>\n",
       "      <td>0.243390</td>\n",
       "      <td>0.096733</td>\n",
       "      <td>12156.361180</td>\n",
       "    </tr>\n",
       "    <tr>\n",
       "      <th>19</th>\n",
       "      <td>3.495075</td>\n",
       "      <td>4.606451</td>\n",
       "      <td>5.940000</td>\n",
       "      <td>0.055664</td>\n",
       "      <td>0.246368</td>\n",
       "      <td>0.105244</td>\n",
       "      <td>2.769359</td>\n",
       "      <td>6.770118</td>\n",
       "      <td>5.196347</td>\n",
       "      <td>0.049832</td>\n",
       "      <td>0.249131</td>\n",
       "      <td>0.094203</td>\n",
       "      <td>12156.467656</td>\n",
       "    </tr>\n",
       "    <tr>\n",
       "      <th>16</th>\n",
       "      <td>1.899722</td>\n",
       "      <td>10.672562</td>\n",
       "      <td>4.209415</td>\n",
       "      <td>0.035018</td>\n",
       "      <td>0.158627</td>\n",
       "      <td>0.129019</td>\n",
       "      <td>2.549936</td>\n",
       "      <td>6.237224</td>\n",
       "      <td>4.683557</td>\n",
       "      <td>0.053493</td>\n",
       "      <td>0.269833</td>\n",
       "      <td>0.085552</td>\n",
       "      <td>12156.997320</td>\n",
       "    </tr>\n",
       "    <tr>\n",
       "      <th>15</th>\n",
       "      <td>3.193392</td>\n",
       "      <td>3.398205</td>\n",
       "      <td>7.493464</td>\n",
       "      <td>0.054278</td>\n",
       "      <td>0.184446</td>\n",
       "      <td>0.099955</td>\n",
       "      <td>2.625334</td>\n",
       "      <td>6.426852</td>\n",
       "      <td>4.896773</td>\n",
       "      <td>0.051447</td>\n",
       "      <td>0.259054</td>\n",
       "      <td>0.084092</td>\n",
       "      <td>12157.030051</td>\n",
       "    </tr>\n",
       "    <tr>\n",
       "      <th>9</th>\n",
       "      <td>1.114068</td>\n",
       "      <td>2.045370</td>\n",
       "      <td>0.628484</td>\n",
       "      <td>0.054210</td>\n",
       "      <td>0.524956</td>\n",
       "      <td>0.061246</td>\n",
       "      <td>2.877591</td>\n",
       "      <td>7.051026</td>\n",
       "      <td>5.515295</td>\n",
       "      <td>0.046193</td>\n",
       "      <td>0.241364</td>\n",
       "      <td>0.095230</td>\n",
       "      <td>12157.097777</td>\n",
       "    </tr>\n",
       "  </tbody>\n",
       "</table>\n",
       "</div>"
      ],
      "text/plain": [
       "       nu1_0      nu2_0      Tc_0      m1_0      m2_0      Ti_0   nu1_opt  \\\n",
       "31  3.421903  12.882920  7.920000  0.090910  0.137533  0.104192  3.428735   \n",
       "29  2.208113   8.325249  5.594802  0.045599  0.494681  0.058458  3.434782   \n",
       "17  1.638405   7.027064  3.328377  0.093406  0.279576  0.084667  3.365763   \n",
       "4   3.157867  11.894738  6.832827  0.089239  0.343652  0.125056  3.151832   \n",
       "2   2.150693   3.752285  7.339520  0.053352  0.182956  0.054508  2.905080   \n",
       "8   4.507973   4.211151  4.530473  0.038619  0.356819  0.049796  2.838367   \n",
       "19  3.495075   4.606451  5.940000  0.055664  0.246368  0.105244  2.769359   \n",
       "16  1.899722  10.672562  4.209415  0.035018  0.158627  0.129019  2.549936   \n",
       "15  3.193392   3.398205  7.493464  0.054278  0.184446  0.099955  2.625334   \n",
       "9   1.114068   2.045370  0.628484  0.054210  0.524956  0.061246  2.877591   \n",
       "\n",
       "     nu2_opt    Tc_opt    m1_opt    m2_opt    Ti_opt         -logL  \n",
       "31  8.372007  6.719565  0.040627  0.202323  0.118790  12156.061309  \n",
       "29  8.387801  6.732856  0.040569  0.202054  0.119088  12156.061960  \n",
       "17  8.218499  6.573684  0.041489  0.206208  0.116898  12156.066451  \n",
       "4   7.672115  6.074031  0.044790  0.217833  0.107115  12156.250139  \n",
       "2   7.099776  5.511164  0.047722  0.237869  0.100633  12156.336374  \n",
       "8   6.936326  5.355545  0.048636  0.243390  0.096733  12156.361180  \n",
       "19  6.770118  5.196347  0.049832  0.249131  0.094203  12156.467656  \n",
       "16  6.237224  4.683557  0.053493  0.269833  0.085552  12156.997320  \n",
       "15  6.426852  4.896773  0.051447  0.259054  0.084092  12157.030051  \n",
       "9   7.051026  5.515295  0.046193  0.241364  0.095230  12157.097777  "
      ]
     },
     "execution_count": 14,
     "metadata": {},
     "output_type": "execute_result"
    }
   ],
   "source": [
    "l = 2*6+1\n",
    "\n",
    "success = [flatten(out)[:l] for out in ar_split_asym_mig_iso]\n",
    "\n",
    "df = pd.DataFrame(data=success, \\\n",
    "                  columns=['nu1_0','nu2_0', 'Tc_0', 'm1_0', 'm2_0', 'Ti_0', 'nu1_opt', 'nu2_opt', 'Tc_opt', 'm1_opt', 'm2_opt', 'Ti_opt', '-logL'])\n",
    "\n",
    "df.sort_values(by='-logL', ascending=True).head(10)"
   ]
  },
  {
   "cell_type": "code",
   "execution_count": 15,
   "metadata": {
    "collapsed": false
   },
   "outputs": [
    {
     "data": {
      "text/plain": [
       "array([ 3.42873459,  8.372007  ,  6.71956526,  0.04062737,  0.20232337,\n",
       "        0.11878969])"
      ]
     },
     "execution_count": 15,
     "metadata": {},
     "output_type": "execute_result"
    }
   ],
   "source": [
    "popt = np.array(df.sort_values(by='-logL', ascending=True).iloc[0,6:12])\n",
    "popt"
   ]
  },
  {
   "cell_type": "markdown",
   "metadata": {},
   "source": [
    "I am going to use the optimal values from dadi."
   ]
  },
  {
   "cell_type": "code",
   "execution_count": 19,
   "metadata": {
    "collapsed": false
   },
   "outputs": [],
   "source": [
    "# generate ModelPlot object\n",
    "plot_mod = moments.ModelPlot.generate_model(split_asym_mig_iso, popt, ns)"
   ]
  },
  {
   "cell_type": "code",
   "execution_count": 26,
   "metadata": {
    "collapsed": true
   },
   "outputs": [],
   "source": [
    "moments.ModelPlot.plot_model?"
   ]
  },
  {
   "cell_type": "code",
   "execution_count": 30,
   "metadata": {
    "collapsed": false
   },
   "outputs": [],
   "source": [
    "# generate the plot for the ancient migration model\n",
    "# the figure is writen to file, which I am reading in in the following cell using Markdown syntax\n",
    "moments.ModelPlot.plot_model(plot_mod, save_file='model.png', pop_labels=['ery', 'par'], gen_time=1e-3, \\\n",
    "                             gen_time_units=\"KY\", fig_title='ancient migration', nref=113522, reverse_timeline=True)"
   ]
  },
  {
   "cell_type": "markdown",
   "metadata": {},
   "source": [
    "![ancient migration](model.png)"
   ]
  },
  {
   "cell_type": "markdown",
   "metadata": {
    "collapsed": true
   },
   "source": [
    "The numbers on the right in the upper plot are a bit misleading. It's a 27 (ky ago) and a zero."
   ]
  },
  {
   "cell_type": "markdown",
   "metadata": {},
   "source": [
    "# refit ancient migration model with _moments_"
   ]
  },
  {
   "cell_type": "markdown",
   "metadata": {},
   "source": [
    "I would like to fit the ancient migration with the programme [_moments_](https://bitbucket.org/simongravel/moments)."
   ]
  },
  {
   "cell_type": "code",
   "execution_count": 16,
   "metadata": {
    "collapsed": false
   },
   "outputs": [
    {
     "data": {
      "text/plain": [
       "[0, 1, 2, 3, 4, 5, 6, 7, 8, 9, 10, 11, 12, 13, 14, 15, 16, 17, 18, 19]"
      ]
     },
     "execution_count": 16,
     "metadata": {},
     "output_type": "execute_result"
    }
   ],
   "source": [
    "from ipyparallel import Client\n",
    "\n",
    "cl = Client()\n",
    "\n",
    "cl.ids"
   ]
  },
  {
   "cell_type": "code",
   "execution_count": 31,
   "metadata": {
    "collapsed": true
   },
   "outputs": [],
   "source": [
    "from glob import glob\n",
    "import dill\n",
    "from utility_functions import *\n",
    "import pandas as pd\n",
    "# turn on floating point division by default, old behaviour via '//'\n",
    "from __future__ import division\n",
    "import numpy as np\n",
    "from itertools import repeat"
   ]
  },
  {
   "cell_type": "code",
   "execution_count": 18,
   "metadata": {
    "collapsed": true
   },
   "outputs": [],
   "source": [
    "%matplotlib inline\n",
    "\n",
    "import pylab\n",
    "\n",
    "pylab.rcParams['figure.figsize'] = [12, 10]\n",
    "pylab.rcParams['font.size'] = 14"
   ]
  },
  {
   "cell_type": "code",
   "execution_count": 19,
   "metadata": {
    "collapsed": true
   },
   "outputs": [],
   "source": [
    "%%px --local\n",
    "\n",
    "# run whole cell on all engines a well as in the local IPython session\n",
    "\n",
    "import sys\n",
    "\n",
    "sys.path.insert(0, '/usr/local/lib/python2.7/dist-packages/moments-1.0.0-py2.7.egg')\n",
    "\n",
    "import moments"
   ]
  },
  {
   "cell_type": "code",
   "execution_count": 27,
   "metadata": {
    "collapsed": true
   },
   "outputs": [],
   "source": [
    "%%px --local\n",
    "\n",
    "# load spectrum modified with Ludovic's correction, p=35\n",
    "\n",
    "sfs2d = moments.Spectrum.from_file(\"EryPar_modified.2dsfs\")"
   ]
  },
  {
   "cell_type": "code",
   "execution_count": 20,
   "metadata": {
    "collapsed": true
   },
   "outputs": [],
   "source": [
    "def split_asym_mig_iso(params, ns): # note, I have removed the pts argument from the argument list\n",
    "    \"\"\"\n",
    "    params = (nu1,nu2,Tc,m1,m2,Ti)\n",
    "    ns = (n1,n2)\n",
    "\n",
    "    Split into two populations of specifed size, with potentially asymmetric migration\n",
    "    for a time Tc followed by complete isolation until present.\n",
    "\n",
    "    nu1: population size ratio of population 1 after split (with respect to Na)\n",
    "    nu2: population size ratio of population 2 after split (with respect to Na)\n",
    "    Tc: Time of gene flow after split (in units of 2*Na generations) \n",
    "    m1: Migration rate from ery into par (in units of 2*Na ind per generation)\n",
    "    m2: Migration rate from par into ery (in units of 2*Na ind per generation)\n",
    "    Ti: Time of isolation after cessation of gene flow\n",
    "    The split lies Tc+Ti * 2Na generations in the past.\n",
    "    n1,n2: Sample sizes of resulting Spectrum\n",
    "    pts: Number of grid points to use in integration.\n",
    "    \"\"\"\n",
    "    nu1,nu2,Tc,m1,m2,Ti = params\n",
    "    \n",
    "    # fs for equilibrium ancestral population\n",
    "    sts = moments.LinearSystem_1D.steady_state_1D(ns[0] + ns[1])\n",
    "    fs = moments.Spectrum(sts)\n",
    "    \n",
    "    # split\n",
    "    fs = moments.Manips.split_1D_to_2D(fs, ns[0], ns[1]) \n",
    "    \n",
    "    # divergence with potentially asymmetric migration\n",
    "    fs.integrate([nu1, nu2], Tc, m=np.array([[0, m2], [m1, 0]]))\n",
    "    \n",
    "    # divergence without gene flow\n",
    "    fs.integrate([nu1, nu2], Ti, m=np.array([[0,0], [0,0]]))\n",
    "\n",
    "    return fs"
   ]
  },
  {
   "cell_type": "code",
   "execution_count": 21,
   "metadata": {
    "collapsed": false
   },
   "outputs": [
    {
     "data": {
      "text/plain": [
       "<AsyncResult: _push>"
      ]
     },
     "execution_count": 21,
     "metadata": {},
     "output_type": "execute_result"
    }
   ],
   "source": [
    "cl[:].push(dict(split_asym_mig_iso=split_asym_mig_iso))"
   ]
  },
  {
   "cell_type": "code",
   "execution_count": 24,
   "metadata": {
    "collapsed": true
   },
   "outputs": [],
   "source": [
    "def run_moments(p_init): # for the function to be called with map, it needs to have one input variable\n",
    "    \"\"\"\n",
    "    p_init: initial parameter values to run optimisation from\n",
    "    \"\"\"\n",
    "    if perturb == True:\n",
    "        p_init = moments.Misc.perturb_params(p_init, fold=fold, \n",
    "                                      upper_bound=upper_bound, lower_bound=lower_bound)\n",
    "        # note upper_bound and lower_bound variables are expected to be in the namespace of each engine\n",
    "    # run optimisation of paramters\n",
    "    popt = moments_opt_func(p0=p_init, data=sfs, model_func=func, \\\n",
    "                                   lower_bound=lower_bound, upper_bound=upper_bound, \\\n",
    "                                   verbose=verbose, maxiter=maxiter, full_output=full_output, \\\n",
    "                                    fixed_params=fixed_params)\n",
    "    # pickle to file\n",
    "    import dill\n",
    "    name = outname[:] # make copy of file name stub!\n",
    "    for p in p_init:\n",
    "        name += \"_%.4f\" % (p)\n",
    "    with open(name + \".dill\", \"w\") as fh:\n",
    "        dill.dump((p_init, popt), fh)\n",
    "    \n",
    "    return p_init, popt"
   ]
  },
  {
   "cell_type": "code",
   "execution_count": 12,
   "metadata": {
    "collapsed": true
   },
   "outputs": [],
   "source": [
    "moments.Inference.optimize_log_fmin?"
   ]
  },
  {
   "cell_type": "code",
   "execution_count": 28,
   "metadata": {
    "collapsed": false
   },
   "outputs": [],
   "source": [
    "%%px --local\n",
    "\n",
    "# set up global variables on engines required for run_dadi function call\n",
    "\n",
    "ns = sfs2d.sample_sizes # both populations have the same sample size\n",
    "func = split_asym_mig_iso\n",
    "moments_opt_func = moments.Inference.optimize_log_fmin # uses Nelder-Mead algorithm\n",
    "sfs = sfs2d\n",
    "perturb = True\n",
    "fold = 2 # perturb randomly up to `fold` times 2-fold\n",
    "maxiter = 100 # run a maximum of 300 iterations\n",
    "verbose = 0\n",
    "full_output = True # need to have full output to get the warnflags (see below)\n",
    "outname = \"MODIFIED_SPECTRA/OUT_2D_models/moments/split_asym_mig_iso\" # set file name stub for opt. result files\n",
    "fixed_params = None"
   ]
  },
  {
   "cell_type": "code",
   "execution_count": 29,
   "metadata": {
    "collapsed": true
   },
   "outputs": [],
   "source": [
    "%%px --local\n",
    "\n",
    "# set lower and upper bounds to nu1, nu2, Tc, m1, m2 and Ti\n",
    "upper_bound = [1e3, 1e3, 10, 10, 10, 10] # note, I have increased the upper bound for T\n",
    "lower_bound = [1e-3, 1e-3, 0, 0, 0, 0]"
   ]
  },
  {
   "cell_type": "code",
   "execution_count": 30,
   "metadata": {
    "collapsed": true
   },
   "outputs": [],
   "source": [
    "lbview = cl.load_balanced_view()"
   ]
  },
  {
   "cell_type": "code",
   "execution_count": 32,
   "metadata": {
    "collapsed": true
   },
   "outputs": [],
   "source": [
    "p0 = [ 3.42873459,  8.372007,  3.71956526,  0.04062737,  0.20232337, 0.11878969]\n",
    "\n",
    "#ar_split_asym_mig_iso = lbview.map(run_moments, repeat(p0, 10), block=False)"
   ]
  },
  {
   "cell_type": "code",
   "execution_count": 33,
   "metadata": {
    "collapsed": false
   },
   "outputs": [
    {
     "data": {
      "text/plain": [
       "[0, 1, 2, 3, 4, 5, 6, 7, 8, 9, 10, 11, 12, 13, 14, 15, 16, 17, 18, 19]"
      ]
     },
     "execution_count": 33,
     "metadata": {},
     "output_type": "execute_result"
    }
   ],
   "source": [
    "cl.ids"
   ]
  },
  {
   "cell_type": "code",
   "execution_count": 34,
   "metadata": {
    "collapsed": true
   },
   "outputs": [],
   "source": [
    "ar_split_asym_mig_iso = []\n",
    "\n",
    "for filename in glob(\"OUT_2D_models/moments/split_asym_mig_iso_[0-9]*dill\"):\n",
    "    ar_split_asym_mig_iso.append(dill.load(open(filename)))"
   ]
  },
  {
   "cell_type": "code",
   "execution_count": 35,
   "metadata": {
    "collapsed": false
   },
   "outputs": [
    {
     "data": {
      "text/html": [
       "<div>\n",
       "<table border=\"1\" class=\"dataframe\">\n",
       "  <thead>\n",
       "    <tr style=\"text-align: right;\">\n",
       "      <th></th>\n",
       "      <th>nu1_0</th>\n",
       "      <th>nu2_0</th>\n",
       "      <th>Tc_0</th>\n",
       "      <th>m1_0</th>\n",
       "      <th>m2_0</th>\n",
       "      <th>Ti_0</th>\n",
       "      <th>nu1_opt</th>\n",
       "      <th>nu2_opt</th>\n",
       "      <th>Tc_opt</th>\n",
       "      <th>m1_opt</th>\n",
       "      <th>m2_opt</th>\n",
       "      <th>Ti_opt</th>\n",
       "      <th>-logL</th>\n",
       "    </tr>\n",
       "  </thead>\n",
       "  <tbody>\n",
       "    <tr>\n",
       "      <th>1</th>\n",
       "      <td>5.143965</td>\n",
       "      <td>19.143104</td>\n",
       "      <td>9.520667</td>\n",
       "      <td>0.053715</td>\n",
       "      <td>0.419568</td>\n",
       "      <td>0.034413</td>\n",
       "      <td>2.742542</td>\n",
       "      <td>6.642431</td>\n",
       "      <td>9.948508</td>\n",
       "      <td>0.051360</td>\n",
       "      <td>0.247458</td>\n",
       "      <td>0.086862</td>\n",
       "      <td>12160.811964</td>\n",
       "    </tr>\n",
       "    <tr>\n",
       "      <th>5</th>\n",
       "      <td>7.165026</td>\n",
       "      <td>20.177452</td>\n",
       "      <td>5.548444</td>\n",
       "      <td>0.121312</td>\n",
       "      <td>0.302577</td>\n",
       "      <td>0.104364</td>\n",
       "      <td>2.441767</td>\n",
       "      <td>5.860119</td>\n",
       "      <td>8.515082</td>\n",
       "      <td>0.060650</td>\n",
       "      <td>0.277564</td>\n",
       "      <td>0.084648</td>\n",
       "      <td>12164.409752</td>\n",
       "    </tr>\n",
       "    <tr>\n",
       "      <th>2</th>\n",
       "      <td>1.600990</td>\n",
       "      <td>18.459340</td>\n",
       "      <td>4.469988</td>\n",
       "      <td>0.041030</td>\n",
       "      <td>0.476803</td>\n",
       "      <td>0.118564</td>\n",
       "      <td>1.650751</td>\n",
       "      <td>4.070706</td>\n",
       "      <td>5.182964</td>\n",
       "      <td>0.079643</td>\n",
       "      <td>0.416536</td>\n",
       "      <td>0.056650</td>\n",
       "      <td>12176.686660</td>\n",
       "    </tr>\n",
       "    <tr>\n",
       "      <th>9</th>\n",
       "      <td>6.894957</td>\n",
       "      <td>2.294137</td>\n",
       "      <td>3.860232</td>\n",
       "      <td>0.010791</td>\n",
       "      <td>0.062208</td>\n",
       "      <td>0.165299</td>\n",
       "      <td>1.895717</td>\n",
       "      <td>4.372552</td>\n",
       "      <td>5.980478</td>\n",
       "      <td>0.092485</td>\n",
       "      <td>0.373507</td>\n",
       "      <td>0.083472</td>\n",
       "      <td>12202.388673</td>\n",
       "    </tr>\n",
       "    <tr>\n",
       "      <th>8</th>\n",
       "      <td>4.457275</td>\n",
       "      <td>16.250931</td>\n",
       "      <td>5.071847</td>\n",
       "      <td>0.021869</td>\n",
       "      <td>0.244206</td>\n",
       "      <td>0.062714</td>\n",
       "      <td>2.860671</td>\n",
       "      <td>7.115273</td>\n",
       "      <td>9.951471</td>\n",
       "      <td>0.044083</td>\n",
       "      <td>0.222968</td>\n",
       "      <td>0.043856</td>\n",
       "      <td>12245.384736</td>\n",
       "    </tr>\n",
       "    <tr>\n",
       "      <th>4</th>\n",
       "      <td>2.702576</td>\n",
       "      <td>11.844023</td>\n",
       "      <td>2.245923</td>\n",
       "      <td>0.029843</td>\n",
       "      <td>0.116743</td>\n",
       "      <td>0.047804</td>\n",
       "      <td>1.905676</td>\n",
       "      <td>4.691869</td>\n",
       "      <td>6.709252</td>\n",
       "      <td>0.068754</td>\n",
       "      <td>0.318092</td>\n",
       "      <td>0.021070</td>\n",
       "      <td>12257.268120</td>\n",
       "    </tr>\n",
       "    <tr>\n",
       "      <th>7</th>\n",
       "      <td>1.415053</td>\n",
       "      <td>2.681344</td>\n",
       "      <td>9.048971</td>\n",
       "      <td>0.023082</td>\n",
       "      <td>0.132454</td>\n",
       "      <td>0.327612</td>\n",
       "      <td>1.346556</td>\n",
       "      <td>2.591833</td>\n",
       "      <td>3.270891</td>\n",
       "      <td>0.155539</td>\n",
       "      <td>0.494983</td>\n",
       "      <td>0.053517</td>\n",
       "      <td>12405.783130</td>\n",
       "    </tr>\n",
       "    <tr>\n",
       "      <th>6</th>\n",
       "      <td>0.886934</td>\n",
       "      <td>11.104852</td>\n",
       "      <td>4.630034</td>\n",
       "      <td>0.160259</td>\n",
       "      <td>0.220424</td>\n",
       "      <td>0.055596</td>\n",
       "      <td>0.911642</td>\n",
       "      <td>2.340216</td>\n",
       "      <td>1.887470</td>\n",
       "      <td>0.113168</td>\n",
       "      <td>0.575141</td>\n",
       "      <td>0.005542</td>\n",
       "      <td>12438.629078</td>\n",
       "    </tr>\n",
       "    <tr>\n",
       "      <th>3</th>\n",
       "      <td>1.160285</td>\n",
       "      <td>19.748759</td>\n",
       "      <td>1.426853</td>\n",
       "      <td>0.028805</td>\n",
       "      <td>0.261826</td>\n",
       "      <td>0.088687</td>\n",
       "      <td>1.137496</td>\n",
       "      <td>2.577718</td>\n",
       "      <td>1.761556</td>\n",
       "      <td>0.047878</td>\n",
       "      <td>0.428064</td>\n",
       "      <td>0.007415</td>\n",
       "      <td>12727.907751</td>\n",
       "    </tr>\n",
       "    <tr>\n",
       "      <th>0</th>\n",
       "      <td>0.922563</td>\n",
       "      <td>13.292098</td>\n",
       "      <td>1.069339</td>\n",
       "      <td>0.040533</td>\n",
       "      <td>0.522199</td>\n",
       "      <td>0.412974</td>\n",
       "      <td>0.932552</td>\n",
       "      <td>1.991058</td>\n",
       "      <td>1.142346</td>\n",
       "      <td>0.108391</td>\n",
       "      <td>1.136093</td>\n",
       "      <td>0.068680</td>\n",
       "      <td>13390.372541</td>\n",
       "    </tr>\n",
       "  </tbody>\n",
       "</table>\n",
       "</div>"
      ],
      "text/plain": [
       "      nu1_0      nu2_0      Tc_0      m1_0      m2_0      Ti_0   nu1_opt  \\\n",
       "1  5.143965  19.143104  9.520667  0.053715  0.419568  0.034413  2.742542   \n",
       "5  7.165026  20.177452  5.548444  0.121312  0.302577  0.104364  2.441767   \n",
       "2  1.600990  18.459340  4.469988  0.041030  0.476803  0.118564  1.650751   \n",
       "9  6.894957   2.294137  3.860232  0.010791  0.062208  0.165299  1.895717   \n",
       "8  4.457275  16.250931  5.071847  0.021869  0.244206  0.062714  2.860671   \n",
       "4  2.702576  11.844023  2.245923  0.029843  0.116743  0.047804  1.905676   \n",
       "7  1.415053   2.681344  9.048971  0.023082  0.132454  0.327612  1.346556   \n",
       "6  0.886934  11.104852  4.630034  0.160259  0.220424  0.055596  0.911642   \n",
       "3  1.160285  19.748759  1.426853  0.028805  0.261826  0.088687  1.137496   \n",
       "0  0.922563  13.292098  1.069339  0.040533  0.522199  0.412974  0.932552   \n",
       "\n",
       "    nu2_opt    Tc_opt    m1_opt    m2_opt    Ti_opt         -logL  \n",
       "1  6.642431  9.948508  0.051360  0.247458  0.086862  12160.811964  \n",
       "5  5.860119  8.515082  0.060650  0.277564  0.084648  12164.409752  \n",
       "2  4.070706  5.182964  0.079643  0.416536  0.056650  12176.686660  \n",
       "9  4.372552  5.980478  0.092485  0.373507  0.083472  12202.388673  \n",
       "8  7.115273  9.951471  0.044083  0.222968  0.043856  12245.384736  \n",
       "4  4.691869  6.709252  0.068754  0.318092  0.021070  12257.268120  \n",
       "7  2.591833  3.270891  0.155539  0.494983  0.053517  12405.783130  \n",
       "6  2.340216  1.887470  0.113168  0.575141  0.005542  12438.629078  \n",
       "3  2.577718  1.761556  0.047878  0.428064  0.007415  12727.907751  \n",
       "0  1.991058  1.142346  0.108391  1.136093  0.068680  13390.372541  "
      ]
     },
     "execution_count": 35,
     "metadata": {},
     "output_type": "execute_result"
    }
   ],
   "source": [
    "l = 2*len(p0)+1\n",
    "\n",
    "success = [flatten(out)[:l] for out in ar_split_asym_mig_iso]\n",
    "\n",
    "df = pd.DataFrame(data=success, \\\n",
    "                  columns=['nu1_0','nu2_0', 'Tc_0', 'm1_0', 'm2_0', 'Ti_0', 'nu1_opt', 'nu2_opt', 'Tc_opt', 'm1_opt', 'm2_opt', 'Ti_opt', '-logL'])\n",
    "\n",
    "df.sort_values(by='-logL', ascending=True).head(10)"
   ]
  },
  {
   "cell_type": "markdown",
   "metadata": {},
   "source": [
    "There is no good convergence yet."
   ]
  },
  {
   "cell_type": "code",
   "execution_count": 36,
   "metadata": {
    "collapsed": true
   },
   "outputs": [],
   "source": [
    "%%px \n",
    "\n",
    "maxiter = 300\n",
    "fold = 1"
   ]
  },
  {
   "cell_type": "code",
   "execution_count": 37,
   "metadata": {
    "collapsed": true
   },
   "outputs": [],
   "source": [
    "p0 = [2.742542, 6.642431, 4.948508, 0.051360, 0.247458, 0.086862]\n",
    "\n",
    "#ar_split_asym_mig_iso = lbview.map(run_moments, repeat(p0, 10), block=False)"
   ]
  },
  {
   "cell_type": "code",
   "execution_count": 38,
   "metadata": {
    "collapsed": true
   },
   "outputs": [],
   "source": [
    "ar_split_asym_mig_iso = []\n",
    "\n",
    "for filename in glob(\"OUT_2D_models/moments/split_asym_mig_iso_[0-9]*dill\"):\n",
    "    ar_split_asym_mig_iso.append(dill.load(open(filename)))"
   ]
  },
  {
   "cell_type": "code",
   "execution_count": 39,
   "metadata": {
    "collapsed": false
   },
   "outputs": [
    {
     "data": {
      "text/html": [
       "<div>\n",
       "<table border=\"1\" class=\"dataframe\">\n",
       "  <thead>\n",
       "    <tr style=\"text-align: right;\">\n",
       "      <th></th>\n",
       "      <th>nu1_0</th>\n",
       "      <th>nu2_0</th>\n",
       "      <th>Tc_0</th>\n",
       "      <th>m1_0</th>\n",
       "      <th>m2_0</th>\n",
       "      <th>Ti_0</th>\n",
       "      <th>nu1_opt</th>\n",
       "      <th>nu2_opt</th>\n",
       "      <th>Tc_opt</th>\n",
       "      <th>m1_opt</th>\n",
       "      <th>m2_opt</th>\n",
       "      <th>Ti_opt</th>\n",
       "      <th>-logL</th>\n",
       "    </tr>\n",
       "  </thead>\n",
       "  <tbody>\n",
       "    <tr>\n",
       "      <th>9</th>\n",
       "      <td>3.092067</td>\n",
       "      <td>6.981313</td>\n",
       "      <td>9.215293</td>\n",
       "      <td>0.027729</td>\n",
       "      <td>0.185647</td>\n",
       "      <td>0.151634</td>\n",
       "      <td>2.754277</td>\n",
       "      <td>6.723380</td>\n",
       "      <td>9.999903</td>\n",
       "      <td>0.049779</td>\n",
       "      <td>0.248170</td>\n",
       "      <td>0.089072</td>\n",
       "      <td>12160.519471</td>\n",
       "    </tr>\n",
       "    <tr>\n",
       "      <th>18</th>\n",
       "      <td>3.789949</td>\n",
       "      <td>7.963842</td>\n",
       "      <td>9.787925</td>\n",
       "      <td>0.036227</td>\n",
       "      <td>0.173589</td>\n",
       "      <td>0.123088</td>\n",
       "      <td>2.681576</td>\n",
       "      <td>6.544014</td>\n",
       "      <td>9.692997</td>\n",
       "      <td>0.050832</td>\n",
       "      <td>0.255735</td>\n",
       "      <td>0.088105</td>\n",
       "      <td>12160.699538</td>\n",
       "    </tr>\n",
       "    <tr>\n",
       "      <th>3</th>\n",
       "      <td>5.143965</td>\n",
       "      <td>19.143104</td>\n",
       "      <td>9.520667</td>\n",
       "      <td>0.053715</td>\n",
       "      <td>0.419568</td>\n",
       "      <td>0.034413</td>\n",
       "      <td>2.742542</td>\n",
       "      <td>6.642431</td>\n",
       "      <td>9.948508</td>\n",
       "      <td>0.051360</td>\n",
       "      <td>0.247458</td>\n",
       "      <td>0.086862</td>\n",
       "      <td>12160.811964</td>\n",
       "    </tr>\n",
       "    <tr>\n",
       "      <th>17</th>\n",
       "      <td>1.833925</td>\n",
       "      <td>4.884664</td>\n",
       "      <td>7.256460</td>\n",
       "      <td>0.036467</td>\n",
       "      <td>0.304366</td>\n",
       "      <td>0.051318</td>\n",
       "      <td>2.368024</td>\n",
       "      <td>5.749088</td>\n",
       "      <td>8.131598</td>\n",
       "      <td>0.058515</td>\n",
       "      <td>0.283867</td>\n",
       "      <td>0.073685</td>\n",
       "      <td>12161.931585</td>\n",
       "    </tr>\n",
       "    <tr>\n",
       "      <th>8</th>\n",
       "      <td>2.003960</td>\n",
       "      <td>5.181130</td>\n",
       "      <td>4.685140</td>\n",
       "      <td>0.082261</td>\n",
       "      <td>0.322327</td>\n",
       "      <td>0.114894</td>\n",
       "      <td>2.255845</td>\n",
       "      <td>5.518813</td>\n",
       "      <td>7.749810</td>\n",
       "      <td>0.058723</td>\n",
       "      <td>0.298415</td>\n",
       "      <td>0.068428</td>\n",
       "      <td>12162.486107</td>\n",
       "    </tr>\n",
       "    <tr>\n",
       "      <th>4</th>\n",
       "      <td>4.292721</td>\n",
       "      <td>9.083951</td>\n",
       "      <td>5.104426</td>\n",
       "      <td>0.044112</td>\n",
       "      <td>0.131344</td>\n",
       "      <td>0.065736</td>\n",
       "      <td>2.735293</td>\n",
       "      <td>6.486432</td>\n",
       "      <td>9.513613</td>\n",
       "      <td>0.054604</td>\n",
       "      <td>0.242058</td>\n",
       "      <td>0.084320</td>\n",
       "      <td>12163.942422</td>\n",
       "    </tr>\n",
       "    <tr>\n",
       "      <th>11</th>\n",
       "      <td>7.165026</td>\n",
       "      <td>20.177452</td>\n",
       "      <td>5.548444</td>\n",
       "      <td>0.121312</td>\n",
       "      <td>0.302577</td>\n",
       "      <td>0.104364</td>\n",
       "      <td>2.441767</td>\n",
       "      <td>5.860119</td>\n",
       "      <td>8.515082</td>\n",
       "      <td>0.060650</td>\n",
       "      <td>0.277564</td>\n",
       "      <td>0.084648</td>\n",
       "      <td>12164.409752</td>\n",
       "    </tr>\n",
       "    <tr>\n",
       "      <th>15</th>\n",
       "      <td>4.658530</td>\n",
       "      <td>8.303453</td>\n",
       "      <td>2.912470</td>\n",
       "      <td>0.062290</td>\n",
       "      <td>0.176824</td>\n",
       "      <td>0.157340</td>\n",
       "      <td>1.935958</td>\n",
       "      <td>4.700660</td>\n",
       "      <td>6.140829</td>\n",
       "      <td>0.070505</td>\n",
       "      <td>0.342182</td>\n",
       "      <td>0.057494</td>\n",
       "      <td>12166.932390</td>\n",
       "    </tr>\n",
       "    <tr>\n",
       "      <th>5</th>\n",
       "      <td>4.390565</td>\n",
       "      <td>3.904768</td>\n",
       "      <td>2.946865</td>\n",
       "      <td>0.051872</td>\n",
       "      <td>0.444079</td>\n",
       "      <td>0.080103</td>\n",
       "      <td>1.732538</td>\n",
       "      <td>4.255600</td>\n",
       "      <td>5.352376</td>\n",
       "      <td>0.075458</td>\n",
       "      <td>0.390929</td>\n",
       "      <td>0.054668</td>\n",
       "      <td>12171.192110</td>\n",
       "    </tr>\n",
       "    <tr>\n",
       "      <th>2</th>\n",
       "      <td>1.471636</td>\n",
       "      <td>11.896446</td>\n",
       "      <td>3.918631</td>\n",
       "      <td>0.037367</td>\n",
       "      <td>0.151692</td>\n",
       "      <td>0.168031</td>\n",
       "      <td>1.688905</td>\n",
       "      <td>4.068905</td>\n",
       "      <td>4.958221</td>\n",
       "      <td>0.082142</td>\n",
       "      <td>0.383211</td>\n",
       "      <td>0.048005</td>\n",
       "      <td>12175.901246</td>\n",
       "    </tr>\n",
       "  </tbody>\n",
       "</table>\n",
       "</div>"
      ],
      "text/plain": [
       "       nu1_0      nu2_0      Tc_0      m1_0      m2_0      Ti_0   nu1_opt  \\\n",
       "9   3.092067   6.981313  9.215293  0.027729  0.185647  0.151634  2.754277   \n",
       "18  3.789949   7.963842  9.787925  0.036227  0.173589  0.123088  2.681576   \n",
       "3   5.143965  19.143104  9.520667  0.053715  0.419568  0.034413  2.742542   \n",
       "17  1.833925   4.884664  7.256460  0.036467  0.304366  0.051318  2.368024   \n",
       "8   2.003960   5.181130  4.685140  0.082261  0.322327  0.114894  2.255845   \n",
       "4   4.292721   9.083951  5.104426  0.044112  0.131344  0.065736  2.735293   \n",
       "11  7.165026  20.177452  5.548444  0.121312  0.302577  0.104364  2.441767   \n",
       "15  4.658530   8.303453  2.912470  0.062290  0.176824  0.157340  1.935958   \n",
       "5   4.390565   3.904768  2.946865  0.051872  0.444079  0.080103  1.732538   \n",
       "2   1.471636  11.896446  3.918631  0.037367  0.151692  0.168031  1.688905   \n",
       "\n",
       "     nu2_opt    Tc_opt    m1_opt    m2_opt    Ti_opt         -logL  \n",
       "9   6.723380  9.999903  0.049779  0.248170  0.089072  12160.519471  \n",
       "18  6.544014  9.692997  0.050832  0.255735  0.088105  12160.699538  \n",
       "3   6.642431  9.948508  0.051360  0.247458  0.086862  12160.811964  \n",
       "17  5.749088  8.131598  0.058515  0.283867  0.073685  12161.931585  \n",
       "8   5.518813  7.749810  0.058723  0.298415  0.068428  12162.486107  \n",
       "4   6.486432  9.513613  0.054604  0.242058  0.084320  12163.942422  \n",
       "11  5.860119  8.515082  0.060650  0.277564  0.084648  12164.409752  \n",
       "15  4.700660  6.140829  0.070505  0.342182  0.057494  12166.932390  \n",
       "5   4.255600  5.352376  0.075458  0.390929  0.054668  12171.192110  \n",
       "2   4.068905  4.958221  0.082142  0.383211  0.048005  12175.901246  "
      ]
     },
     "execution_count": 39,
     "metadata": {},
     "output_type": "execute_result"
    }
   ],
   "source": [
    "l = 2*len(p0)+1\n",
    "\n",
    "success = [flatten(out)[:l] for out in ar_split_asym_mig_iso]\n",
    "\n",
    "df = pd.DataFrame(data=success, \\\n",
    "                  columns=['nu1_0','nu2_0', 'Tc_0', 'm1_0', 'm2_0', 'Ti_0', 'nu1_opt', 'nu2_opt', 'Tc_opt', 'm1_opt', 'm2_opt', 'Ti_opt', '-logL'])\n",
    "\n",
    "df.sort_values(by='-logL', ascending=True).head(10)"
   ]
  },
  {
   "cell_type": "markdown",
   "metadata": {},
   "source": [
    "The best three parameter combinations are all hitting the upper bound on the Tc parameter. Also note, that that these three optimisation runs already started with an extremely high Tc. Dadi's best parameter combination had a much lower Tc and slightly better likelihood (12156)."
   ]
  },
  {
   "cell_type": "markdown",
   "metadata": {},
   "source": [
    "I wonder whether I can improve the fit, if I already let the ancestral population increase in size before the split."
   ]
  },
  {
   "cell_type": "markdown",
   "metadata": {},
   "source": [
    "# ancient population growth"
   ]
  },
  {
   "cell_type": "code",
   "execution_count": 41,
   "metadata": {
    "collapsed": true
   },
   "outputs": [],
   "source": [
    "def growth_split_asym_mig_iso(params, ns): # note, I have removed the pts argument from the argument list\n",
    "    \"\"\"\n",
    "    params = (nu0,T0,nu1,nu2,Tc,m1,m2,Ti)\n",
    "    ns = (n1,n2)\n",
    "\n",
    "    Let ancestral population grow or shrink for time T0, then split into two populations of specifed size, \n",
    "    with potentially asymmetric migration for a time Tc followed by complete isolation until present.\n",
    "\n",
    "    nu0: population size of ancestral population before split (with respect to Na)\n",
    "    T0: time of increased/reduced pop size before split (in units of 2*Na generations)\n",
    "    nu1: population size ratio of population 1 after split (with respect to Na)\n",
    "    nu2: population size ratio of population 2 after split (with respect to Na)\n",
    "    Tc: Time of gene flow after split (in units of 2*Na generations) \n",
    "    m1: Migration rate from ery into par (in units of 2*Na ind per generation)\n",
    "    m2: Migration rate from par into ery (in units of 2*Na ind per generation)\n",
    "    Ti: Time of isolation after cessation of gene flow\n",
    "    The split lies Tc+Ti * 2Na generations in the past.\n",
    "    n1,n2: Sample sizes of resulting Spectrum\n",
    "    pts: Number of grid points to use in integration.\n",
    "    \"\"\"\n",
    "    nu0,T0,nu1,nu2,Tc,m1,m2,Ti = params\n",
    "    \n",
    "    # fs for equilibrium ancestral population\n",
    "    sts = moments.LinearSystem_1D.steady_state_1D(ns[0] + ns[1])\n",
    "    fs = moments.Spectrum(sts)\n",
    "    \n",
    "    # ancient population size change\n",
    "    fs.integrate([nu0], T0)\n",
    "    \n",
    "    # split\n",
    "    fs = moments.Manips.split_1D_to_2D(fs, ns[0], ns[1]) \n",
    "    \n",
    "    # divergence with potentially asymmetric migration\n",
    "    fs.integrate([nu1, nu2], Tc, m=np.array([[0, m2], [m1, 0]]))\n",
    "    \n",
    "    # divergence without gene flow\n",
    "    fs.integrate([nu1, nu2], Ti, m=np.array([[0,0], [0,0]]))\n",
    "\n",
    "    return fs"
   ]
  },
  {
   "cell_type": "code",
   "execution_count": 42,
   "metadata": {
    "collapsed": false
   },
   "outputs": [
    {
     "data": {
      "text/plain": [
       "<AsyncResult: _push>"
      ]
     },
     "execution_count": 42,
     "metadata": {},
     "output_type": "execute_result"
    }
   ],
   "source": [
    "cl[:].push(dict(growth_split_asym_mig_iso=growth_split_asym_mig_iso))"
   ]
  },
  {
   "cell_type": "code",
   "execution_count": 43,
   "metadata": {
    "collapsed": true
   },
   "outputs": [],
   "source": [
    "%%px --local\n",
    "\n",
    "# set up global variables on engines required for run_dadi function call\n",
    "\n",
    "ns = sfs2d.sample_sizes # both populations have the same sample size\n",
    "func = growth_split_asym_mig_iso\n",
    "moments_opt_func = moments.Inference.optimize_log_fmin # uses Nelder-Mead algorithm\n",
    "sfs = sfs2d\n",
    "perturb = True\n",
    "fold = 2 # perturb randomly up to `fold` times 2-fold\n",
    "maxiter = 100 # run a maximum of 300 iterations\n",
    "verbose = 0\n",
    "full_output = True # need to have full output to get the warnflags (see below)\n",
    "outname = \"MODIFIED_SPECTRA/OUT_2D_models/moments/growth_split_asym_mig_iso\" # set file name stub for opt. result files\n",
    "fixed_params = None"
   ]
  },
  {
   "cell_type": "code",
   "execution_count": 44,
   "metadata": {
    "collapsed": true
   },
   "outputs": [],
   "source": [
    "%%px --local\n",
    "\n",
    "# set lower and upper bounds to nu1, nu2, Tc, m1, m2 and Ti\n",
    "upper_bound = [1e3, 10, 1e3, 1e3, 10, 10, 10, 10] # note, I have increased the upper bound for T\n",
    "lower_bound = [1e-3, 0, 1e-3, 1e-3, 0, 0, 0, 0]"
   ]
  },
  {
   "cell_type": "code",
   "execution_count": 45,
   "metadata": {
    "collapsed": true
   },
   "outputs": [],
   "source": [
    "p0 = [3, 4, 1.754277, 2.723380, 3.999903, 0.049779, 0.248170, 0.089072]\n",
    "\n",
    "ar_growth_split_asym_mig_iso = lbview.map(run_moments, repeat(p0, 10), block=False)"
   ]
  },
  {
   "cell_type": "code",
   "execution_count": 46,
   "metadata": {
    "collapsed": false
   },
   "outputs": [
    {
     "data": {
      "text/plain": [
       "1.9724667166666667"
      ]
     },
     "execution_count": 46,
     "metadata": {},
     "output_type": "execute_result"
    }
   ],
   "source": [
    "ar_growth_split_asym_mig_iso.elapsed/60"
   ]
  },
  {
   "cell_type": "code",
   "execution_count": 52,
   "metadata": {
    "collapsed": true
   },
   "outputs": [],
   "source": [
    "ar_growth_split_asym_mig_iso = []\n",
    "\n",
    "for filename in glob(\"OUT_2D_models/moments/growth_split_asym_mig_iso_[0-9]*dill\"):\n",
    "    ar_growth_split_asym_mig_iso.append(dill.load(open(filename)))"
   ]
  },
  {
   "cell_type": "code",
   "execution_count": 53,
   "metadata": {
    "collapsed": false
   },
   "outputs": [
    {
     "data": {
      "text/html": [
       "<div>\n",
       "<table border=\"1\" class=\"dataframe\">\n",
       "  <thead>\n",
       "    <tr style=\"text-align: right;\">\n",
       "      <th></th>\n",
       "      <th>nu0_0</th>\n",
       "      <th>T0_0</th>\n",
       "      <th>nu1_0</th>\n",
       "      <th>nu2_0</th>\n",
       "      <th>Tc_0</th>\n",
       "      <th>m1_0</th>\n",
       "      <th>m2_0</th>\n",
       "      <th>Ti_0</th>\n",
       "      <th>nu0_opt</th>\n",
       "      <th>T0_opt</th>\n",
       "      <th>nu1_opt</th>\n",
       "      <th>nu2_opt</th>\n",
       "      <th>Tc_opt</th>\n",
       "      <th>m1_opt</th>\n",
       "      <th>m2_opt</th>\n",
       "      <th>Ti_opt</th>\n",
       "      <th>-logL</th>\n",
       "    </tr>\n",
       "  </thead>\n",
       "  <tbody>\n",
       "    <tr>\n",
       "      <th>4</th>\n",
       "      <td>2.058251</td>\n",
       "      <td>9.900000</td>\n",
       "      <td>0.680224</td>\n",
       "      <td>3.903516</td>\n",
       "      <td>1.364045</td>\n",
       "      <td>0.021534</td>\n",
       "      <td>0.742006</td>\n",
       "      <td>0.050622</td>\n",
       "      <td>0.710313</td>\n",
       "      <td>1.297593</td>\n",
       "      <td>0.837850</td>\n",
       "      <td>2.122538</td>\n",
       "      <td>1.844602</td>\n",
       "      <td>0.132113</td>\n",
       "      <td>0.585772</td>\n",
       "      <td>0.000919</td>\n",
       "      <td>12391.459255</td>\n",
       "    </tr>\n",
       "    <tr>\n",
       "      <th>1</th>\n",
       "      <td>3.806853</td>\n",
       "      <td>2.843187</td>\n",
       "      <td>5.936808</td>\n",
       "      <td>10.148203</td>\n",
       "      <td>6.806246</td>\n",
       "      <td>0.048295</td>\n",
       "      <td>0.512902</td>\n",
       "      <td>0.049886</td>\n",
       "      <td>4.131340</td>\n",
       "      <td>2.726686</td>\n",
       "      <td>2.293107</td>\n",
       "      <td>6.717482</td>\n",
       "      <td>5.557994</td>\n",
       "      <td>0.013568</td>\n",
       "      <td>0.351055</td>\n",
       "      <td>0.087501</td>\n",
       "      <td>12448.838413</td>\n",
       "    </tr>\n",
       "    <tr>\n",
       "      <th>9</th>\n",
       "      <td>4.178405</td>\n",
       "      <td>7.741978</td>\n",
       "      <td>0.901976</td>\n",
       "      <td>1.346842</td>\n",
       "      <td>1.735698</td>\n",
       "      <td>0.069421</td>\n",
       "      <td>0.473350</td>\n",
       "      <td>0.060771</td>\n",
       "      <td>0.757058</td>\n",
       "      <td>5.958705</td>\n",
       "      <td>0.871646</td>\n",
       "      <td>2.091521</td>\n",
       "      <td>2.102980</td>\n",
       "      <td>0.170703</td>\n",
       "      <td>0.477082</td>\n",
       "      <td>0.006363</td>\n",
       "      <td>12469.538783</td>\n",
       "    </tr>\n",
       "    <tr>\n",
       "      <th>2</th>\n",
       "      <td>2.366991</td>\n",
       "      <td>3.904858</td>\n",
       "      <td>0.612712</td>\n",
       "      <td>2.317982</td>\n",
       "      <td>9.900000</td>\n",
       "      <td>0.047345</td>\n",
       "      <td>0.752303</td>\n",
       "      <td>0.047076</td>\n",
       "      <td>1.320150</td>\n",
       "      <td>5.272991</td>\n",
       "      <td>1.355765</td>\n",
       "      <td>3.961273</td>\n",
       "      <td>3.550033</td>\n",
       "      <td>0.025692</td>\n",
       "      <td>0.661663</td>\n",
       "      <td>0.074177</td>\n",
       "      <td>12508.334798</td>\n",
       "    </tr>\n",
       "    <tr>\n",
       "      <th>7</th>\n",
       "      <td>2.747160</td>\n",
       "      <td>5.491656</td>\n",
       "      <td>1.243995</td>\n",
       "      <td>2.513159</td>\n",
       "      <td>9.900000</td>\n",
       "      <td>0.034762</td>\n",
       "      <td>0.953796</td>\n",
       "      <td>0.085883</td>\n",
       "      <td>1.046172</td>\n",
       "      <td>9.805279</td>\n",
       "      <td>1.061024</td>\n",
       "      <td>3.167141</td>\n",
       "      <td>3.007551</td>\n",
       "      <td>0.018761</td>\n",
       "      <td>0.935849</td>\n",
       "      <td>0.043172</td>\n",
       "      <td>12694.678601</td>\n",
       "    </tr>\n",
       "    <tr>\n",
       "      <th>3</th>\n",
       "      <td>4.961362</td>\n",
       "      <td>3.290013</td>\n",
       "      <td>3.625545</td>\n",
       "      <td>8.428179</td>\n",
       "      <td>1.654022</td>\n",
       "      <td>0.042555</td>\n",
       "      <td>0.189154</td>\n",
       "      <td>0.106773</td>\n",
       "      <td>14.190480</td>\n",
       "      <td>2.651157</td>\n",
       "      <td>2.170001</td>\n",
       "      <td>5.642370</td>\n",
       "      <td>2.658661</td>\n",
       "      <td>0.037741</td>\n",
       "      <td>0.412218</td>\n",
       "      <td>0.150906</td>\n",
       "      <td>12774.427367</td>\n",
       "    </tr>\n",
       "    <tr>\n",
       "      <th>5</th>\n",
       "      <td>0.910155</td>\n",
       "      <td>3.627511</td>\n",
       "      <td>2.580570</td>\n",
       "      <td>1.726519</td>\n",
       "      <td>2.246907</td>\n",
       "      <td>0.068526</td>\n",
       "      <td>0.099540</td>\n",
       "      <td>0.348798</td>\n",
       "      <td>0.831383</td>\n",
       "      <td>2.258705</td>\n",
       "      <td>1.527766</td>\n",
       "      <td>3.110576</td>\n",
       "      <td>3.388933</td>\n",
       "      <td>0.258809</td>\n",
       "      <td>0.621923</td>\n",
       "      <td>0.145640</td>\n",
       "      <td>12787.985872</td>\n",
       "    </tr>\n",
       "    <tr>\n",
       "      <th>0</th>\n",
       "      <td>4.457382</td>\n",
       "      <td>2.421219</td>\n",
       "      <td>0.929911</td>\n",
       "      <td>2.995967</td>\n",
       "      <td>6.115844</td>\n",
       "      <td>0.098779</td>\n",
       "      <td>0.419003</td>\n",
       "      <td>0.060477</td>\n",
       "      <td>1.903615</td>\n",
       "      <td>1.721518</td>\n",
       "      <td>0.972299</td>\n",
       "      <td>2.863530</td>\n",
       "      <td>1.865641</td>\n",
       "      <td>0.016131</td>\n",
       "      <td>0.608191</td>\n",
       "      <td>0.000370</td>\n",
       "      <td>12977.088513</td>\n",
       "    </tr>\n",
       "    <tr>\n",
       "      <th>8</th>\n",
       "      <td>2.603524</td>\n",
       "      <td>1.986657</td>\n",
       "      <td>0.475540</td>\n",
       "      <td>1.397244</td>\n",
       "      <td>2.286149</td>\n",
       "      <td>0.037856</td>\n",
       "      <td>0.871550</td>\n",
       "      <td>0.188551</td>\n",
       "      <td>3.430878</td>\n",
       "      <td>1.662641</td>\n",
       "      <td>0.984440</td>\n",
       "      <td>2.344918</td>\n",
       "      <td>1.046344</td>\n",
       "      <td>0.027515</td>\n",
       "      <td>0.852180</td>\n",
       "      <td>0.069202</td>\n",
       "      <td>13800.181858</td>\n",
       "    </tr>\n",
       "    <tr>\n",
       "      <th>6</th>\n",
       "      <td>10.226809</td>\n",
       "      <td>6.249580</td>\n",
       "      <td>0.721829</td>\n",
       "      <td>1.579874</td>\n",
       "      <td>5.926033</td>\n",
       "      <td>0.184737</td>\n",
       "      <td>0.135971</td>\n",
       "      <td>0.045658</td>\n",
       "      <td>10.171214</td>\n",
       "      <td>4.810212</td>\n",
       "      <td>0.785546</td>\n",
       "      <td>1.635687</td>\n",
       "      <td>9.970091</td>\n",
       "      <td>0.109330</td>\n",
       "      <td>1.111476</td>\n",
       "      <td>0.008975</td>\n",
       "      <td>17987.619439</td>\n",
       "    </tr>\n",
       "  </tbody>\n",
       "</table>\n",
       "</div>"
      ],
      "text/plain": [
       "       nu0_0      T0_0     nu1_0      nu2_0      Tc_0      m1_0      m2_0  \\\n",
       "4   2.058251  9.900000  0.680224   3.903516  1.364045  0.021534  0.742006   \n",
       "1   3.806853  2.843187  5.936808  10.148203  6.806246  0.048295  0.512902   \n",
       "9   4.178405  7.741978  0.901976   1.346842  1.735698  0.069421  0.473350   \n",
       "2   2.366991  3.904858  0.612712   2.317982  9.900000  0.047345  0.752303   \n",
       "7   2.747160  5.491656  1.243995   2.513159  9.900000  0.034762  0.953796   \n",
       "3   4.961362  3.290013  3.625545   8.428179  1.654022  0.042555  0.189154   \n",
       "5   0.910155  3.627511  2.580570   1.726519  2.246907  0.068526  0.099540   \n",
       "0   4.457382  2.421219  0.929911   2.995967  6.115844  0.098779  0.419003   \n",
       "8   2.603524  1.986657  0.475540   1.397244  2.286149  0.037856  0.871550   \n",
       "6  10.226809  6.249580  0.721829   1.579874  5.926033  0.184737  0.135971   \n",
       "\n",
       "       Ti_0    nu0_opt    T0_opt   nu1_opt   nu2_opt    Tc_opt    m1_opt  \\\n",
       "4  0.050622   0.710313  1.297593  0.837850  2.122538  1.844602  0.132113   \n",
       "1  0.049886   4.131340  2.726686  2.293107  6.717482  5.557994  0.013568   \n",
       "9  0.060771   0.757058  5.958705  0.871646  2.091521  2.102980  0.170703   \n",
       "2  0.047076   1.320150  5.272991  1.355765  3.961273  3.550033  0.025692   \n",
       "7  0.085883   1.046172  9.805279  1.061024  3.167141  3.007551  0.018761   \n",
       "3  0.106773  14.190480  2.651157  2.170001  5.642370  2.658661  0.037741   \n",
       "5  0.348798   0.831383  2.258705  1.527766  3.110576  3.388933  0.258809   \n",
       "0  0.060477   1.903615  1.721518  0.972299  2.863530  1.865641  0.016131   \n",
       "8  0.188551   3.430878  1.662641  0.984440  2.344918  1.046344  0.027515   \n",
       "6  0.045658  10.171214  4.810212  0.785546  1.635687  9.970091  0.109330   \n",
       "\n",
       "     m2_opt    Ti_opt         -logL  \n",
       "4  0.585772  0.000919  12391.459255  \n",
       "1  0.351055  0.087501  12448.838413  \n",
       "9  0.477082  0.006363  12469.538783  \n",
       "2  0.661663  0.074177  12508.334798  \n",
       "7  0.935849  0.043172  12694.678601  \n",
       "3  0.412218  0.150906  12774.427367  \n",
       "5  0.621923  0.145640  12787.985872  \n",
       "0  0.608191  0.000370  12977.088513  \n",
       "8  0.852180  0.069202  13800.181858  \n",
       "6  1.111476  0.008975  17987.619439  "
      ]
     },
     "execution_count": 53,
     "metadata": {},
     "output_type": "execute_result"
    }
   ],
   "source": [
    "l = 2*len(p0)+1\n",
    "\n",
    "success = [flatten(out)[:l] for out in ar_growth_split_asym_mig_iso]\n",
    "\n",
    "df = pd.DataFrame(data=success, \\\n",
    "                  columns=['nu0_0', 'T0_0', 'nu1_0','nu2_0', 'Tc_0', 'm1_0', 'm2_0', 'Ti_0', 'nu0_opt', 'T0_opt', 'nu1_opt', 'nu2_opt', 'Tc_opt', 'm1_opt', 'm2_opt', 'Ti_opt', '-logL'])\n",
    "\n",
    "df.sort_values(by='-logL', ascending=True).head(10)"
   ]
  },
  {
   "cell_type": "markdown",
   "metadata": {},
   "source": [
    "Let's refine the search."
   ]
  },
  {
   "cell_type": "code",
   "execution_count": 57,
   "metadata": {
    "collapsed": false
   },
   "outputs": [
    {
     "data": {
      "text/plain": [
       "array([  7.10313391e-01,   1.29759325e+00,   8.37849951e-01,\n",
       "         2.12253763e+00,   1.84460226e+00,   1.32113335e-01,\n",
       "         5.85771976e-01,   9.19108072e-04])"
      ]
     },
     "execution_count": 57,
     "metadata": {},
     "output_type": "execute_result"
    }
   ],
   "source": [
    "popt = np.array(df.sort_values(by='-logL', ascending=True).head(10).iloc[0, 8:16])\n",
    "popt"
   ]
  },
  {
   "cell_type": "code",
   "execution_count": 58,
   "metadata": {
    "collapsed": true
   },
   "outputs": [],
   "source": [
    "%%px\n",
    "\n",
    "fold = 1\n",
    "maxiter = 300"
   ]
  },
  {
   "cell_type": "code",
   "execution_count": 59,
   "metadata": {
    "collapsed": true
   },
   "outputs": [],
   "source": [
    "p0 = popt\n",
    "\n",
    "#ar_growth_split_asym_mig_iso = lbview.map(run_moments, repeat(p0, 10), block=False)"
   ]
  },
  {
   "cell_type": "code",
   "execution_count": 60,
   "metadata": {
    "collapsed": true
   },
   "outputs": [],
   "source": [
    "ar_growth_split_asym_mig_iso = []\n",
    "\n",
    "for filename in glob(\"OUT_2D_models/moments/growth_split_asym_mig_iso_[0-9]*dill\"):\n",
    "    ar_growth_split_asym_mig_iso.append(dill.load(open(filename)))"
   ]
  },
  {
   "cell_type": "code",
   "execution_count": 61,
   "metadata": {
    "collapsed": false
   },
   "outputs": [
    {
     "data": {
      "text/html": [
       "<div>\n",
       "<table border=\"1\" class=\"dataframe\">\n",
       "  <thead>\n",
       "    <tr style=\"text-align: right;\">\n",
       "      <th></th>\n",
       "      <th>nu0_0</th>\n",
       "      <th>T0_0</th>\n",
       "      <th>nu1_0</th>\n",
       "      <th>nu2_0</th>\n",
       "      <th>Tc_0</th>\n",
       "      <th>m1_0</th>\n",
       "      <th>m2_0</th>\n",
       "      <th>Ti_0</th>\n",
       "      <th>nu0_opt</th>\n",
       "      <th>T0_opt</th>\n",
       "      <th>nu1_opt</th>\n",
       "      <th>nu2_opt</th>\n",
       "      <th>Tc_opt</th>\n",
       "      <th>m1_opt</th>\n",
       "      <th>m2_opt</th>\n",
       "      <th>Ti_opt</th>\n",
       "      <th>-logL</th>\n",
       "    </tr>\n",
       "  </thead>\n",
       "  <tbody>\n",
       "    <tr>\n",
       "      <th>2</th>\n",
       "      <td>0.912404</td>\n",
       "      <td>0.768215</td>\n",
       "      <td>1.034053</td>\n",
       "      <td>3.304700</td>\n",
       "      <td>1.991203</td>\n",
       "      <td>0.227311</td>\n",
       "      <td>1.093951</td>\n",
       "      <td>0.001347</td>\n",
       "      <td>0.571868</td>\n",
       "      <td>0.880991</td>\n",
       "      <td>0.960281</td>\n",
       "      <td>2.478044</td>\n",
       "      <td>3.357635</td>\n",
       "      <td>0.122582</td>\n",
       "      <td>0.788582</td>\n",
       "      <td>0.034436</td>\n",
       "      <td>12260.371675</td>\n",
       "    </tr>\n",
       "    <tr>\n",
       "      <th>16</th>\n",
       "      <td>0.677313</td>\n",
       "      <td>0.773004</td>\n",
       "      <td>1.615632</td>\n",
       "      <td>2.980715</td>\n",
       "      <td>1.487722</td>\n",
       "      <td>0.154741</td>\n",
       "      <td>0.624293</td>\n",
       "      <td>0.000852</td>\n",
       "      <td>0.617975</td>\n",
       "      <td>0.720590</td>\n",
       "      <td>0.974239</td>\n",
       "      <td>2.184895</td>\n",
       "      <td>2.123879</td>\n",
       "      <td>0.164107</td>\n",
       "      <td>0.529632</td>\n",
       "      <td>0.015528</td>\n",
       "      <td>12297.432464</td>\n",
       "    </tr>\n",
       "    <tr>\n",
       "      <th>8</th>\n",
       "      <td>0.748772</td>\n",
       "      <td>1.418206</td>\n",
       "      <td>0.677974</td>\n",
       "      <td>3.116269</td>\n",
       "      <td>1.564618</td>\n",
       "      <td>0.229804</td>\n",
       "      <td>0.310743</td>\n",
       "      <td>0.000646</td>\n",
       "      <td>0.698819</td>\n",
       "      <td>1.535417</td>\n",
       "      <td>0.916038</td>\n",
       "      <td>2.146073</td>\n",
       "      <td>2.206215</td>\n",
       "      <td>0.137859</td>\n",
       "      <td>0.545602</td>\n",
       "      <td>0.000051</td>\n",
       "      <td>12368.927705</td>\n",
       "    </tr>\n",
       "    <tr>\n",
       "      <th>10</th>\n",
       "      <td>2.058251</td>\n",
       "      <td>9.900000</td>\n",
       "      <td>0.680224</td>\n",
       "      <td>3.903516</td>\n",
       "      <td>1.364045</td>\n",
       "      <td>0.021534</td>\n",
       "      <td>0.742006</td>\n",
       "      <td>0.050622</td>\n",
       "      <td>0.710313</td>\n",
       "      <td>1.297593</td>\n",
       "      <td>0.837850</td>\n",
       "      <td>2.122538</td>\n",
       "      <td>1.844602</td>\n",
       "      <td>0.132113</td>\n",
       "      <td>0.585772</td>\n",
       "      <td>0.000919</td>\n",
       "      <td>12391.459255</td>\n",
       "    </tr>\n",
       "    <tr>\n",
       "      <th>1</th>\n",
       "      <td>3.806853</td>\n",
       "      <td>2.843187</td>\n",
       "      <td>5.936808</td>\n",
       "      <td>10.148203</td>\n",
       "      <td>6.806246</td>\n",
       "      <td>0.048295</td>\n",
       "      <td>0.512902</td>\n",
       "      <td>0.049886</td>\n",
       "      <td>4.131340</td>\n",
       "      <td>2.726686</td>\n",
       "      <td>2.293107</td>\n",
       "      <td>6.717482</td>\n",
       "      <td>5.557994</td>\n",
       "      <td>0.013568</td>\n",
       "      <td>0.351055</td>\n",
       "      <td>0.087501</td>\n",
       "      <td>12448.838413</td>\n",
       "    </tr>\n",
       "    <tr>\n",
       "      <th>18</th>\n",
       "      <td>4.178405</td>\n",
       "      <td>7.741978</td>\n",
       "      <td>0.901976</td>\n",
       "      <td>1.346842</td>\n",
       "      <td>1.735698</td>\n",
       "      <td>0.069421</td>\n",
       "      <td>0.473350</td>\n",
       "      <td>0.060771</td>\n",
       "      <td>0.757058</td>\n",
       "      <td>5.958705</td>\n",
       "      <td>0.871646</td>\n",
       "      <td>2.091521</td>\n",
       "      <td>2.102980</td>\n",
       "      <td>0.170703</td>\n",
       "      <td>0.477082</td>\n",
       "      <td>0.006363</td>\n",
       "      <td>12469.538783</td>\n",
       "    </tr>\n",
       "    <tr>\n",
       "      <th>6</th>\n",
       "      <td>2.366991</td>\n",
       "      <td>3.904858</td>\n",
       "      <td>0.612712</td>\n",
       "      <td>2.317982</td>\n",
       "      <td>9.900000</td>\n",
       "      <td>0.047345</td>\n",
       "      <td>0.752303</td>\n",
       "      <td>0.047076</td>\n",
       "      <td>1.320150</td>\n",
       "      <td>5.272991</td>\n",
       "      <td>1.355765</td>\n",
       "      <td>3.961273</td>\n",
       "      <td>3.550033</td>\n",
       "      <td>0.025692</td>\n",
       "      <td>0.661663</td>\n",
       "      <td>0.074177</td>\n",
       "      <td>12508.334798</td>\n",
       "    </tr>\n",
       "    <tr>\n",
       "      <th>3</th>\n",
       "      <td>0.963385</td>\n",
       "      <td>0.927244</td>\n",
       "      <td>1.219697</td>\n",
       "      <td>1.422109</td>\n",
       "      <td>2.849989</td>\n",
       "      <td>0.130555</td>\n",
       "      <td>1.102563</td>\n",
       "      <td>0.001600</td>\n",
       "      <td>0.987655</td>\n",
       "      <td>0.941681</td>\n",
       "      <td>0.854273</td>\n",
       "      <td>2.362190</td>\n",
       "      <td>2.278653</td>\n",
       "      <td>0.083182</td>\n",
       "      <td>0.977964</td>\n",
       "      <td>0.040634</td>\n",
       "      <td>12522.357595</td>\n",
       "    </tr>\n",
       "    <tr>\n",
       "      <th>4</th>\n",
       "      <td>1.220828</td>\n",
       "      <td>1.188415</td>\n",
       "      <td>0.612607</td>\n",
       "      <td>1.698626</td>\n",
       "      <td>2.518470</td>\n",
       "      <td>0.076944</td>\n",
       "      <td>0.963905</td>\n",
       "      <td>0.001802</td>\n",
       "      <td>1.032747</td>\n",
       "      <td>0.867177</td>\n",
       "      <td>0.884389</td>\n",
       "      <td>2.242914</td>\n",
       "      <td>2.126266</td>\n",
       "      <td>0.097017</td>\n",
       "      <td>0.912513</td>\n",
       "      <td>0.041763</td>\n",
       "      <td>12526.197236</td>\n",
       "    </tr>\n",
       "    <tr>\n",
       "      <th>15</th>\n",
       "      <td>0.925614</td>\n",
       "      <td>1.265996</td>\n",
       "      <td>0.702947</td>\n",
       "      <td>2.467898</td>\n",
       "      <td>1.079890</td>\n",
       "      <td>0.171920</td>\n",
       "      <td>0.545543</td>\n",
       "      <td>0.000552</td>\n",
       "      <td>0.760902</td>\n",
       "      <td>0.647022</td>\n",
       "      <td>0.996826</td>\n",
       "      <td>2.058098</td>\n",
       "      <td>1.390676</td>\n",
       "      <td>0.144805</td>\n",
       "      <td>0.503444</td>\n",
       "      <td>0.013275</td>\n",
       "      <td>12566.925857</td>\n",
       "    </tr>\n",
       "  </tbody>\n",
       "</table>\n",
       "</div>"
      ],
      "text/plain": [
       "       nu0_0      T0_0     nu1_0      nu2_0      Tc_0      m1_0      m2_0  \\\n",
       "2   0.912404  0.768215  1.034053   3.304700  1.991203  0.227311  1.093951   \n",
       "16  0.677313  0.773004  1.615632   2.980715  1.487722  0.154741  0.624293   \n",
       "8   0.748772  1.418206  0.677974   3.116269  1.564618  0.229804  0.310743   \n",
       "10  2.058251  9.900000  0.680224   3.903516  1.364045  0.021534  0.742006   \n",
       "1   3.806853  2.843187  5.936808  10.148203  6.806246  0.048295  0.512902   \n",
       "18  4.178405  7.741978  0.901976   1.346842  1.735698  0.069421  0.473350   \n",
       "6   2.366991  3.904858  0.612712   2.317982  9.900000  0.047345  0.752303   \n",
       "3   0.963385  0.927244  1.219697   1.422109  2.849989  0.130555  1.102563   \n",
       "4   1.220828  1.188415  0.612607   1.698626  2.518470  0.076944  0.963905   \n",
       "15  0.925614  1.265996  0.702947   2.467898  1.079890  0.171920  0.545543   \n",
       "\n",
       "        Ti_0   nu0_opt    T0_opt   nu1_opt   nu2_opt    Tc_opt    m1_opt  \\\n",
       "2   0.001347  0.571868  0.880991  0.960281  2.478044  3.357635  0.122582   \n",
       "16  0.000852  0.617975  0.720590  0.974239  2.184895  2.123879  0.164107   \n",
       "8   0.000646  0.698819  1.535417  0.916038  2.146073  2.206215  0.137859   \n",
       "10  0.050622  0.710313  1.297593  0.837850  2.122538  1.844602  0.132113   \n",
       "1   0.049886  4.131340  2.726686  2.293107  6.717482  5.557994  0.013568   \n",
       "18  0.060771  0.757058  5.958705  0.871646  2.091521  2.102980  0.170703   \n",
       "6   0.047076  1.320150  5.272991  1.355765  3.961273  3.550033  0.025692   \n",
       "3   0.001600  0.987655  0.941681  0.854273  2.362190  2.278653  0.083182   \n",
       "4   0.001802  1.032747  0.867177  0.884389  2.242914  2.126266  0.097017   \n",
       "15  0.000552  0.760902  0.647022  0.996826  2.058098  1.390676  0.144805   \n",
       "\n",
       "      m2_opt    Ti_opt         -logL  \n",
       "2   0.788582  0.034436  12260.371675  \n",
       "16  0.529632  0.015528  12297.432464  \n",
       "8   0.545602  0.000051  12368.927705  \n",
       "10  0.585772  0.000919  12391.459255  \n",
       "1   0.351055  0.087501  12448.838413  \n",
       "18  0.477082  0.006363  12469.538783  \n",
       "6   0.661663  0.074177  12508.334798  \n",
       "3   0.977964  0.040634  12522.357595  \n",
       "4   0.912513  0.041763  12526.197236  \n",
       "15  0.503444  0.013275  12566.925857  "
      ]
     },
     "execution_count": 61,
     "metadata": {},
     "output_type": "execute_result"
    }
   ],
   "source": [
    "l = 2*len(p0)+1\n",
    "\n",
    "success = [flatten(out)[:l] for out in ar_growth_split_asym_mig_iso]\n",
    "\n",
    "df = pd.DataFrame(data=success, \\\n",
    "                  columns=['nu0_0', 'T0_0', 'nu1_0','nu2_0', 'Tc_0', 'm1_0', 'm2_0', 'Ti_0', 'nu0_opt', 'T0_opt', 'nu1_opt', 'nu2_opt', 'Tc_opt', 'm1_opt', 'm2_opt', 'Ti_opt', '-logL'])\n",
    "\n",
    "df.sort_values(by='-logL', ascending=True).head(10)"
   ]
  },
  {
   "cell_type": "markdown",
   "metadata": {},
   "source": [
    "Still, no good convergence. Also the optimised parameters values seem to be correlated with the starting values."
   ]
  },
  {
   "cell_type": "markdown",
   "metadata": {},
   "source": [
    "Let's try to refine the search one more time."
   ]
  },
  {
   "cell_type": "code",
   "execution_count": 62,
   "metadata": {
    "collapsed": false
   },
   "outputs": [
    {
     "data": {
      "text/plain": [
       "array([ 0.57186809,  0.88099127,  0.96028147,  2.47804429,  3.35763481,\n",
       "        0.12258205,  0.78858169,  0.03443572])"
      ]
     },
     "execution_count": 62,
     "metadata": {},
     "output_type": "execute_result"
    }
   ],
   "source": [
    "popt = np.array(df.sort_values(by='-logL', ascending=True).head(10).iloc[0, 8:16])\n",
    "popt"
   ]
  },
  {
   "cell_type": "code",
   "execution_count": 63,
   "metadata": {
    "collapsed": true
   },
   "outputs": [],
   "source": [
    "p0 = popt\n",
    "\n",
    "#ar_growth_split_asym_mig_iso = lbview.map(run_moments, repeat(p0, 10), block=False)"
   ]
  },
  {
   "cell_type": "code",
   "execution_count": null,
   "metadata": {
    "collapsed": true
   },
   "outputs": [],
   "source": [
    "ar_growth_split_asym_mig_iso = []\n",
    "\n",
    "for filename in glob(\"OUT_2D_models/moments/growth_split_asym_mig_iso_[0-9]*dill\"):\n",
    "    ar_growth_split_asym_mig_iso.append(dill.load(open(filename)))"
   ]
  },
  {
   "cell_type": "code",
   "execution_count": 64,
   "metadata": {
    "collapsed": false
   },
   "outputs": [
    {
     "data": {
      "text/html": [
       "<div>\n",
       "<table border=\"1\" class=\"dataframe\">\n",
       "  <thead>\n",
       "    <tr style=\"text-align: right;\">\n",
       "      <th></th>\n",
       "      <th>nu0_0</th>\n",
       "      <th>T0_0</th>\n",
       "      <th>nu1_0</th>\n",
       "      <th>nu2_0</th>\n",
       "      <th>Tc_0</th>\n",
       "      <th>m1_0</th>\n",
       "      <th>m2_0</th>\n",
       "      <th>Ti_0</th>\n",
       "      <th>nu0_opt</th>\n",
       "      <th>T0_opt</th>\n",
       "      <th>nu1_opt</th>\n",
       "      <th>nu2_opt</th>\n",
       "      <th>Tc_opt</th>\n",
       "      <th>m1_opt</th>\n",
       "      <th>m2_opt</th>\n",
       "      <th>Ti_opt</th>\n",
       "      <th>-logL</th>\n",
       "    </tr>\n",
       "  </thead>\n",
       "  <tbody>\n",
       "    <tr>\n",
       "      <th>8</th>\n",
       "      <td>0.478361</td>\n",
       "      <td>0.600371</td>\n",
       "      <td>0.915652</td>\n",
       "      <td>2.394444</td>\n",
       "      <td>5.237654</td>\n",
       "      <td>0.107703</td>\n",
       "      <td>0.788940</td>\n",
       "      <td>0.054349</td>\n",
       "      <td>0.322405</td>\n",
       "      <td>0.721422</td>\n",
       "      <td>0.939739</td>\n",
       "      <td>2.281812</td>\n",
       "      <td>3.222201</td>\n",
       "      <td>0.147156</td>\n",
       "      <td>0.714855</td>\n",
       "      <td>0.029154</td>\n",
       "      <td>12161.725129</td>\n",
       "    </tr>\n",
       "    <tr>\n",
       "      <th>9</th>\n",
       "      <td>0.541779</td>\n",
       "      <td>0.753700</td>\n",
       "      <td>1.292661</td>\n",
       "      <td>2.234091</td>\n",
       "      <td>6.529202</td>\n",
       "      <td>0.197980</td>\n",
       "      <td>0.597210</td>\n",
       "      <td>0.044125</td>\n",
       "      <td>0.390099</td>\n",
       "      <td>0.805081</td>\n",
       "      <td>1.093583</td>\n",
       "      <td>2.666808</td>\n",
       "      <td>3.825588</td>\n",
       "      <td>0.124310</td>\n",
       "      <td>0.614952</td>\n",
       "      <td>0.034201</td>\n",
       "      <td>12161.833170</td>\n",
       "    </tr>\n",
       "    <tr>\n",
       "      <th>6</th>\n",
       "      <td>0.756310</td>\n",
       "      <td>0.610113</td>\n",
       "      <td>1.637206</td>\n",
       "      <td>3.863623</td>\n",
       "      <td>5.586361</td>\n",
       "      <td>0.100969</td>\n",
       "      <td>0.565471</td>\n",
       "      <td>0.034967</td>\n",
       "      <td>1.072690</td>\n",
       "      <td>0.863285</td>\n",
       "      <td>2.325932</td>\n",
       "      <td>5.683236</td>\n",
       "      <td>7.995964</td>\n",
       "      <td>0.056162</td>\n",
       "      <td>0.292024</td>\n",
       "      <td>0.069902</td>\n",
       "      <td>12163.115801</td>\n",
       "    </tr>\n",
       "    <tr>\n",
       "      <th>0</th>\n",
       "      <td>0.657092</td>\n",
       "      <td>1.042348</td>\n",
       "      <td>1.752530</td>\n",
       "      <td>1.671289</td>\n",
       "      <td>3.800436</td>\n",
       "      <td>0.128064</td>\n",
       "      <td>0.483207</td>\n",
       "      <td>0.035890</td>\n",
       "      <td>0.537379</td>\n",
       "      <td>1.034912</td>\n",
       "      <td>1.114684</td>\n",
       "      <td>2.740146</td>\n",
       "      <td>3.668139</td>\n",
       "      <td>0.117017</td>\n",
       "      <td>0.606216</td>\n",
       "      <td>0.034223</td>\n",
       "      <td>12167.809120</td>\n",
       "    </tr>\n",
       "    <tr>\n",
       "      <th>4</th>\n",
       "      <td>0.289245</td>\n",
       "      <td>1.032207</td>\n",
       "      <td>0.757127</td>\n",
       "      <td>2.035369</td>\n",
       "      <td>6.580868</td>\n",
       "      <td>0.106359</td>\n",
       "      <td>0.663344</td>\n",
       "      <td>0.053421</td>\n",
       "      <td>0.016516</td>\n",
       "      <td>1.053880</td>\n",
       "      <td>0.925626</td>\n",
       "      <td>2.172022</td>\n",
       "      <td>4.091610</td>\n",
       "      <td>0.171846</td>\n",
       "      <td>0.691154</td>\n",
       "      <td>0.026805</td>\n",
       "      <td>12177.172315</td>\n",
       "    </tr>\n",
       "    <tr>\n",
       "      <th>1</th>\n",
       "      <td>0.411010</td>\n",
       "      <td>1.195370</td>\n",
       "      <td>1.112308</td>\n",
       "      <td>1.994802</td>\n",
       "      <td>5.297989</td>\n",
       "      <td>0.127001</td>\n",
       "      <td>0.920352</td>\n",
       "      <td>0.024967</td>\n",
       "      <td>0.164366</td>\n",
       "      <td>1.139513</td>\n",
       "      <td>0.837759</td>\n",
       "      <td>2.128655</td>\n",
       "      <td>3.317673</td>\n",
       "      <td>0.132980</td>\n",
       "      <td>0.934745</td>\n",
       "      <td>0.042878</td>\n",
       "      <td>12227.058300</td>\n",
       "    </tr>\n",
       "    <tr>\n",
       "      <th>7</th>\n",
       "      <td>0.627848</td>\n",
       "      <td>0.532866</td>\n",
       "      <td>1.859941</td>\n",
       "      <td>2.357627</td>\n",
       "      <td>2.642389</td>\n",
       "      <td>0.103762</td>\n",
       "      <td>0.998211</td>\n",
       "      <td>0.029438</td>\n",
       "      <td>0.462481</td>\n",
       "      <td>0.842833</td>\n",
       "      <td>0.682708</td>\n",
       "      <td>1.667421</td>\n",
       "      <td>1.836028</td>\n",
       "      <td>0.185476</td>\n",
       "      <td>0.994732</td>\n",
       "      <td>0.022165</td>\n",
       "      <td>12232.084966</td>\n",
       "    </tr>\n",
       "    <tr>\n",
       "      <th>3</th>\n",
       "      <td>0.427168</td>\n",
       "      <td>0.637715</td>\n",
       "      <td>1.014916</td>\n",
       "      <td>1.413397</td>\n",
       "      <td>4.881187</td>\n",
       "      <td>0.129571</td>\n",
       "      <td>0.944485</td>\n",
       "      <td>0.046034</td>\n",
       "      <td>0.254441</td>\n",
       "      <td>0.230100</td>\n",
       "      <td>0.924312</td>\n",
       "      <td>2.433100</td>\n",
       "      <td>3.236970</td>\n",
       "      <td>0.098847</td>\n",
       "      <td>0.878437</td>\n",
       "      <td>0.035143</td>\n",
       "      <td>12251.736384</td>\n",
       "    </tr>\n",
       "    <tr>\n",
       "      <th>5</th>\n",
       "      <td>0.733821</td>\n",
       "      <td>0.772047</td>\n",
       "      <td>1.702140</td>\n",
       "      <td>2.663568</td>\n",
       "      <td>1.724104</td>\n",
       "      <td>0.100074</td>\n",
       "      <td>1.485616</td>\n",
       "      <td>0.020126</td>\n",
       "      <td>0.535466</td>\n",
       "      <td>0.658994</td>\n",
       "      <td>0.700799</td>\n",
       "      <td>1.885862</td>\n",
       "      <td>1.768271</td>\n",
       "      <td>0.113202</td>\n",
       "      <td>0.949344</td>\n",
       "      <td>0.016242</td>\n",
       "      <td>12305.888824</td>\n",
       "    </tr>\n",
       "    <tr>\n",
       "      <th>2</th>\n",
       "      <td>1.096355</td>\n",
       "      <td>0.964239</td>\n",
       "      <td>1.324215</td>\n",
       "      <td>3.570309</td>\n",
       "      <td>4.244330</td>\n",
       "      <td>0.135503</td>\n",
       "      <td>1.332969</td>\n",
       "      <td>0.033429</td>\n",
       "      <td>1.916098</td>\n",
       "      <td>0.870125</td>\n",
       "      <td>1.148375</td>\n",
       "      <td>2.780225</td>\n",
       "      <td>2.448991</td>\n",
       "      <td>0.114420</td>\n",
       "      <td>0.606875</td>\n",
       "      <td>0.045226</td>\n",
       "      <td>12455.919847</td>\n",
       "    </tr>\n",
       "  </tbody>\n",
       "</table>\n",
       "</div>"
      ],
      "text/plain": [
       "      nu0_0      T0_0     nu1_0     nu2_0      Tc_0      m1_0      m2_0  \\\n",
       "8  0.478361  0.600371  0.915652  2.394444  5.237654  0.107703  0.788940   \n",
       "9  0.541779  0.753700  1.292661  2.234091  6.529202  0.197980  0.597210   \n",
       "6  0.756310  0.610113  1.637206  3.863623  5.586361  0.100969  0.565471   \n",
       "0  0.657092  1.042348  1.752530  1.671289  3.800436  0.128064  0.483207   \n",
       "4  0.289245  1.032207  0.757127  2.035369  6.580868  0.106359  0.663344   \n",
       "1  0.411010  1.195370  1.112308  1.994802  5.297989  0.127001  0.920352   \n",
       "7  0.627848  0.532866  1.859941  2.357627  2.642389  0.103762  0.998211   \n",
       "3  0.427168  0.637715  1.014916  1.413397  4.881187  0.129571  0.944485   \n",
       "5  0.733821  0.772047  1.702140  2.663568  1.724104  0.100074  1.485616   \n",
       "2  1.096355  0.964239  1.324215  3.570309  4.244330  0.135503  1.332969   \n",
       "\n",
       "       Ti_0   nu0_opt    T0_opt   nu1_opt   nu2_opt    Tc_opt    m1_opt  \\\n",
       "8  0.054349  0.322405  0.721422  0.939739  2.281812  3.222201  0.147156   \n",
       "9  0.044125  0.390099  0.805081  1.093583  2.666808  3.825588  0.124310   \n",
       "6  0.034967  1.072690  0.863285  2.325932  5.683236  7.995964  0.056162   \n",
       "0  0.035890  0.537379  1.034912  1.114684  2.740146  3.668139  0.117017   \n",
       "4  0.053421  0.016516  1.053880  0.925626  2.172022  4.091610  0.171846   \n",
       "1  0.024967  0.164366  1.139513  0.837759  2.128655  3.317673  0.132980   \n",
       "7  0.029438  0.462481  0.842833  0.682708  1.667421  1.836028  0.185476   \n",
       "3  0.046034  0.254441  0.230100  0.924312  2.433100  3.236970  0.098847   \n",
       "5  0.020126  0.535466  0.658994  0.700799  1.885862  1.768271  0.113202   \n",
       "2  0.033429  1.916098  0.870125  1.148375  2.780225  2.448991  0.114420   \n",
       "\n",
       "     m2_opt    Ti_opt         -logL  \n",
       "8  0.714855  0.029154  12161.725129  \n",
       "9  0.614952  0.034201  12161.833170  \n",
       "6  0.292024  0.069902  12163.115801  \n",
       "0  0.606216  0.034223  12167.809120  \n",
       "4  0.691154  0.026805  12177.172315  \n",
       "1  0.934745  0.042878  12227.058300  \n",
       "7  0.994732  0.022165  12232.084966  \n",
       "3  0.878437  0.035143  12251.736384  \n",
       "5  0.949344  0.016242  12305.888824  \n",
       "2  0.606875  0.045226  12455.919847  "
      ]
     },
     "execution_count": 64,
     "metadata": {},
     "output_type": "execute_result"
    }
   ],
   "source": [
    "l = 2*len(p0)+1\n",
    "\n",
    "success = [flatten(out)[:l] for out in ar_growth_split_asym_mig_iso]\n",
    "\n",
    "df = pd.DataFrame(data=success, \\\n",
    "                  columns=['nu0_0', 'T0_0', 'nu1_0','nu2_0', 'Tc_0', 'm1_0', 'm2_0', 'Ti_0', 'nu0_opt', 'T0_opt', 'nu1_opt', 'nu2_opt', 'Tc_opt', 'm1_opt', 'm2_opt', 'Ti_opt', '-logL'])\n",
    "\n",
    "df.sort_values(by='-logL', ascending=True).head(10)"
   ]
  },
  {
   "cell_type": "markdown",
   "metadata": {},
   "source": [
    "There is still no good convergence and the best parameter combination is still worse than the _ancient migration_ model above."
   ]
  },
  {
   "cell_type": "markdown",
   "metadata": {
    "collapsed": true
   },
   "source": [
    "## with dadi"
   ]
  },
  {
   "cell_type": "code",
   "execution_count": 1,
   "metadata": {
    "collapsed": false
   },
   "outputs": [
    {
     "data": {
      "text/plain": [
       "[0, 1, 2, 3, 4, 5, 6, 7, 8, 9, 10, 11, 12, 13, 14, 15, 16, 17, 18, 19]"
      ]
     },
     "execution_count": 1,
     "metadata": {},
     "output_type": "execute_result"
    }
   ],
   "source": [
    "from ipyparallel import Client\n",
    "\n",
    "cl = Client()\n",
    "\n",
    "cl.ids"
   ]
  },
  {
   "cell_type": "code",
   "execution_count": 18,
   "metadata": {
    "collapsed": true
   },
   "outputs": [],
   "source": [
    "lbview = cl.load_balanced_view()"
   ]
  },
  {
   "cell_type": "code",
   "execution_count": 2,
   "metadata": {
    "collapsed": false
   },
   "outputs": [
    {
     "name": "stdout",
     "output_type": "stream",
     "text": [
      "error in importing Two Locus modules\n",
      "[stdout:0] error in importing Two Locus modules\n",
      "[stdout:1] error in importing Two Locus modules\n",
      "[stdout:2] error in importing Two Locus modules\n",
      "[stdout:3] error in importing Two Locus modules\n",
      "[stdout:4] error in importing Two Locus modules\n",
      "[stdout:5] error in importing Two Locus modules\n",
      "[stdout:6] error in importing Two Locus modules\n",
      "[stdout:7] error in importing Two Locus modules\n",
      "[stdout:8] error in importing Two Locus modules\n",
      "[stdout:9] error in importing Two Locus modules\n",
      "[stdout:10] error in importing Two Locus modules\n",
      "[stdout:11] error in importing Two Locus modules\n",
      "[stdout:12] error in importing Two Locus modules\n",
      "[stdout:13] error in importing Two Locus modules\n",
      "[stdout:14] error in importing Two Locus modules\n",
      "[stdout:15] error in importing Two Locus modules\n",
      "[stdout:16] error in importing Two Locus modules\n",
      "[stdout:17] error in importing Two Locus modules\n",
      "[stdout:18] error in importing Two Locus modules\n",
      "[stdout:19] error in importing Two Locus modules\n"
     ]
    }
   ],
   "source": [
    "%%px --local\n",
    "\n",
    "# run whole cell on all engines a well as in the local IPython session\n",
    "\n",
    "import numpy as np\n",
    "\n",
    "import sys\n",
    "\n",
    "sys.path.insert(0, '/home/claudius/Downloads/dadi')\n",
    "\n",
    "import dadi"
   ]
  },
  {
   "cell_type": "code",
   "execution_count": 74,
   "metadata": {
    "collapsed": true
   },
   "outputs": [],
   "source": [
    "def growth_split_asym_mig_iso(params, ns, pts):\n",
    "    \"\"\"\n",
    "    params = (nu1,nu2,Tc,m1,m2,Ti)\n",
    "    ns = (n1,n2)\n",
    "\n",
    "    Split into two populations of specifed size, with potentially asymmetric migration\n",
    "    for a time Tc followed by complete isolation until present.\n",
    "\n",
    "    nu0: relative population size of ancient population (with respect to Na)\n",
    "    T0: length of time of ancient population size change (in 2*Na generations)\n",
    "    nu1: population size ratio of population 1 after split (with respect to Na)\n",
    "    nu2: population size ratio of population 2 after split (with respect to Na)\n",
    "    Tc: Time of gene flow after split (in units of 2*Na generations) \n",
    "    m1: Migration rate from ery into par (in units of 2*Na ind per generation)\n",
    "    m2: Migration rate from par into ery (in units of 2*Na ind per generation)\n",
    "    Ti: Time of isolation after cessation of gene flow\n",
    "    The split lies Tc+Ti * 2Na generations in the past.\n",
    "    n1,n2: Sample sizes of resulting Spectrum\n",
    "    pts: Number of grid points to use in integration.\n",
    "    \"\"\"\n",
    "    nu0,T0,nu1,nu2,Tc,m1,m2,Ti = params\n",
    "\n",
    "    xx = dadi.Numerics.default_grid(pts)\n",
    "\n",
    "    phi = dadi.PhiManip.phi_1D(xx)\n",
    "    \n",
    "    # ancient population growth\n",
    "    phi = dadi.Integration.one_pop(phi, xx, T0, nu0)\n",
    "    \n",
    "    # split\n",
    "    phi = dadi.PhiManip.phi_1D_to_2D(xx, phi) \n",
    "    \n",
    "    # divergence with potentially asymmetric migration\n",
    "    phi = dadi.Integration.two_pops(phi, xx, Tc, nu1, nu2, m12=m2, m21=m1)\n",
    "    \n",
    "    # divergence without gene flow\n",
    "    phi = dadi.Integration.two_pops(phi, xx, Ti, nu1, nu2, m12=0, m21=0)\n",
    "\n",
    "    fs = dadi.Spectrum.from_phi(phi, ns, (xx,xx))\n",
    "    \n",
    "    return fs"
   ]
  },
  {
   "cell_type": "code",
   "execution_count": 65,
   "metadata": {
    "collapsed": false
   },
   "outputs": [
    {
     "data": {
      "text/plain": [
       "<AsyncResult: _push>"
      ]
     },
     "execution_count": 65,
     "metadata": {},
     "output_type": "execute_result"
    }
   ],
   "source": [
    "cl[:].push(dict(growth_split_asym_mig_iso=growth_split_asym_mig_iso))"
   ]
  },
  {
   "cell_type": "code",
   "execution_count": 75,
   "metadata": {
    "collapsed": true
   },
   "outputs": [],
   "source": [
    "%%px --local\n",
    "\n",
    "func_ex = dadi.Numerics.make_extrap_log_func(growth_split_asym_mig_iso)"
   ]
  },
  {
   "cell_type": "code",
   "execution_count": 67,
   "metadata": {
    "collapsed": true
   },
   "outputs": [],
   "source": [
    "from glob import glob\n",
    "import dill\n",
    "from utility_functions import *\n",
    "import pandas as pd\n",
    "# turn on floating point division by default, old behaviour via '//'\n",
    "from __future__ import division\n",
    "import numpy as np\n",
    "from itertools import repeat"
   ]
  },
  {
   "cell_type": "code",
   "execution_count": 13,
   "metadata": {
    "collapsed": true
   },
   "outputs": [],
   "source": [
    "def run_dadi(p_init): # for the function to be called with map, it needs to have one input variable\n",
    "    \"\"\"\n",
    "    p_init: initial parameter values to run optimisation from\n",
    "    \"\"\"\n",
    "    if perturb == True:\n",
    "        p_init = dadi.Misc.perturb_params(p_init, fold=fold, \n",
    "                                      upper_bound=upper_bound, lower_bound=lower_bound)\n",
    "        # note upper_bound and lower_bound variables are expected to be in the namespace of each engine\n",
    "    # run optimisation of paramters\n",
    "    popt = dadi_opt_func(p0=p_init, data=sfs, model_func=func_ex, pts=pts_l, \\\n",
    "                                   lower_bound=lower_bound, upper_bound=upper_bound, \\\n",
    "                                   verbose=verbose, maxiter=maxiter, full_output=full_output, \\\n",
    "                                    fixed_params=fixed_params)\n",
    "    # pickle to file\n",
    "    import dill\n",
    "    name = outname[:] # make copy of file name stub!\n",
    "    for p in p_init:\n",
    "        name += \"_%.4f\" % (p)\n",
    "    with open(name + \".dill\", \"w\") as fh:\n",
    "        dill.dump((p_init, popt), fh)\n",
    "    \n",
    "    return p_init, popt"
   ]
  },
  {
   "cell_type": "code",
   "execution_count": 14,
   "metadata": {
    "collapsed": false
   },
   "outputs": [],
   "source": [
    "%%px --local\n",
    "\n",
    "# load spectrum modified with Ludovic's correction, p=35\n",
    "\n",
    "sfs2d = dadi.Spectrum.from_file(\"EryPar_modified.2dsfs\")"
   ]
  },
  {
   "cell_type": "code",
   "execution_count": 21,
   "metadata": {
    "collapsed": false
   },
   "outputs": [],
   "source": [
    "%%px --local\n",
    "\n",
    "# set up global variables on engines required for run_dadi function call\n",
    "\n",
    "ns = sfs2d.sample_sizes # both populations have the same sample size\n",
    "pts_l = [50, 60, 70]\n",
    "func_ex = func_ex\n",
    "dadi_opt_func = dadi.Inference.optimize_log_fmin # uses Nelder-Mead algorithm\n",
    "sfs = sfs2d\n",
    "perturb = True\n",
    "fold = 2 # perturb randomly up to `fold` times 2-fold\n",
    "maxiter = 100 # run a maximum of 300 iterations\n",
    "verbose = 0\n",
    "full_output = True # need to have full output to get the warnflags (see below)\n",
    "outname = \"MODIFIED_SPECTRA/OUT_2D_models/dadi/growth_split_asym_mig_iso\" # set file name stub for opt. result files\n",
    "fixed_params = None"
   ]
  },
  {
   "cell_type": "code",
   "execution_count": 16,
   "metadata": {
    "collapsed": true
   },
   "outputs": [],
   "source": [
    "%matplotlib inline\n",
    "\n",
    "import pylab\n",
    "\n",
    "pylab.rcParams['figure.figsize'] = [12, 10]\n",
    "pylab.rcParams['font.size'] = 14"
   ]
  },
  {
   "cell_type": "code",
   "execution_count": 17,
   "metadata": {
    "collapsed": true
   },
   "outputs": [],
   "source": [
    "%%px --local\n",
    "\n",
    "# set lower and upper bounds to nu0, T0, nu1, nu2, Tc, m1, m2 and Ti\n",
    "upper_bound = [1e3, 10, 1e3, 1e3, 10, 10, 10, 10] # note, I have increased the upper bound for T\n",
    "lower_bound = [1e-3, 0, 1e-3, 1e-3, 0, 0, 0, 0]"
   ]
  },
  {
   "cell_type": "code",
   "execution_count": 22,
   "metadata": {
    "collapsed": true
   },
   "outputs": [],
   "source": [
    "# using best parameter combination from optimisations with moments\n",
    "p0 = [0.322405, 0.721422, 0.939739, 2.281812, 3.222201, 0.147156, 0.714855, 0.029154]\n",
    "\n",
    "#ar_growth_split_asym_mig_iso = lbview.map(run_dadi, repeat(p0, 10), block=False)"
   ]
  },
  {
   "cell_type": "code",
   "execution_count": 23,
   "metadata": {
    "collapsed": false
   },
   "outputs": [
    {
     "data": {
      "text/plain": [
       "True"
      ]
     },
     "execution_count": 23,
     "metadata": {},
     "output_type": "execute_result"
    }
   ],
   "source": [
    "ar_growth_split_asym_mig_iso.done()"
   ]
  },
  {
   "cell_type": "code",
   "execution_count": 24,
   "metadata": {
    "collapsed": true
   },
   "outputs": [],
   "source": [
    "ar_growth_split_asym_mig_iso = []\n",
    "\n",
    "for filename in glob(\"OUT_2D_models/dadi/growth_split_asym_mig_iso_[0-9]*dill\"):\n",
    "    ar_growth_split_asym_mig_iso.append(dill.load(open(filename)))"
   ]
  },
  {
   "cell_type": "code",
   "execution_count": 25,
   "metadata": {
    "collapsed": false
   },
   "outputs": [
    {
     "data": {
      "text/html": [
       "<div>\n",
       "<table border=\"1\" class=\"dataframe\">\n",
       "  <thead>\n",
       "    <tr style=\"text-align: right;\">\n",
       "      <th></th>\n",
       "      <th>nu0_0</th>\n",
       "      <th>T0_0</th>\n",
       "      <th>nu1_0</th>\n",
       "      <th>nu2_0</th>\n",
       "      <th>Tc_0</th>\n",
       "      <th>m1_0</th>\n",
       "      <th>m2_0</th>\n",
       "      <th>Ti_0</th>\n",
       "      <th>nu0_opt</th>\n",
       "      <th>T0_opt</th>\n",
       "      <th>nu1_opt</th>\n",
       "      <th>nu2_opt</th>\n",
       "      <th>Tc_opt</th>\n",
       "      <th>m1_opt</th>\n",
       "      <th>m2_opt</th>\n",
       "      <th>Ti_opt</th>\n",
       "      <th>-logL</th>\n",
       "    </tr>\n",
       "  </thead>\n",
       "  <tbody>\n",
       "    <tr>\n",
       "      <th>6</th>\n",
       "      <td>0.134223</td>\n",
       "      <td>0.825106</td>\n",
       "      <td>0.888839</td>\n",
       "      <td>4.373342</td>\n",
       "      <td>6.541907</td>\n",
       "      <td>0.150534</td>\n",
       "      <td>0.449628</td>\n",
       "      <td>0.034774</td>\n",
       "      <td>0.046183</td>\n",
       "      <td>0.764156</td>\n",
       "      <td>0.905767</td>\n",
       "      <td>2.039924</td>\n",
       "      <td>1.949478</td>\n",
       "      <td>0.209447</td>\n",
       "      <td>0.631441</td>\n",
       "      <td>0.014052</td>\n",
       "      <td>12262.628478</td>\n",
       "    </tr>\n",
       "    <tr>\n",
       "      <th>5</th>\n",
       "      <td>0.252917</td>\n",
       "      <td>0.209928</td>\n",
       "      <td>0.445185</td>\n",
       "      <td>3.539609</td>\n",
       "      <td>8.108074</td>\n",
       "      <td>0.433757</td>\n",
       "      <td>0.433367</td>\n",
       "      <td>0.099074</td>\n",
       "      <td>0.098221</td>\n",
       "      <td>0.260055</td>\n",
       "      <td>1.151509</td>\n",
       "      <td>2.693133</td>\n",
       "      <td>2.252404</td>\n",
       "      <td>0.128966</td>\n",
       "      <td>0.503502</td>\n",
       "      <td>0.016284</td>\n",
       "      <td>12263.195783</td>\n",
       "    </tr>\n",
       "    <tr>\n",
       "      <th>0</th>\n",
       "      <td>0.328864</td>\n",
       "      <td>1.623764</td>\n",
       "      <td>0.877336</td>\n",
       "      <td>4.338617</td>\n",
       "      <td>6.752281</td>\n",
       "      <td>0.083146</td>\n",
       "      <td>0.286545</td>\n",
       "      <td>0.079677</td>\n",
       "      <td>0.408743</td>\n",
       "      <td>2.281100</td>\n",
       "      <td>0.863797</td>\n",
       "      <td>2.334117</td>\n",
       "      <td>1.669998</td>\n",
       "      <td>0.107036</td>\n",
       "      <td>0.700905</td>\n",
       "      <td>0.003421</td>\n",
       "      <td>12343.265231</td>\n",
       "    </tr>\n",
       "    <tr>\n",
       "      <th>9</th>\n",
       "      <td>0.830144</td>\n",
       "      <td>2.019298</td>\n",
       "      <td>0.314303</td>\n",
       "      <td>2.205413</td>\n",
       "      <td>1.292294</td>\n",
       "      <td>0.050359</td>\n",
       "      <td>2.231025</td>\n",
       "      <td>0.039981</td>\n",
       "      <td>0.668315</td>\n",
       "      <td>1.473583</td>\n",
       "      <td>0.866867</td>\n",
       "      <td>2.306444</td>\n",
       "      <td>1.240350</td>\n",
       "      <td>0.050568</td>\n",
       "      <td>0.771685</td>\n",
       "      <td>0.021697</td>\n",
       "      <td>12354.001785</td>\n",
       "    </tr>\n",
       "    <tr>\n",
       "      <th>8</th>\n",
       "      <td>0.274450</td>\n",
       "      <td>1.218914</td>\n",
       "      <td>0.776534</td>\n",
       "      <td>0.570648</td>\n",
       "      <td>0.888096</td>\n",
       "      <td>0.270014</td>\n",
       "      <td>0.285456</td>\n",
       "      <td>0.113272</td>\n",
       "      <td>0.409702</td>\n",
       "      <td>1.229840</td>\n",
       "      <td>0.685611</td>\n",
       "      <td>1.176478</td>\n",
       "      <td>0.718191</td>\n",
       "      <td>0.541107</td>\n",
       "      <td>0.665066</td>\n",
       "      <td>0.014454</td>\n",
       "      <td>12626.021537</td>\n",
       "    </tr>\n",
       "    <tr>\n",
       "      <th>7</th>\n",
       "      <td>0.200997</td>\n",
       "      <td>0.533873</td>\n",
       "      <td>0.957372</td>\n",
       "      <td>0.698372</td>\n",
       "      <td>1.880397</td>\n",
       "      <td>0.067473</td>\n",
       "      <td>0.364927</td>\n",
       "      <td>0.052887</td>\n",
       "      <td>0.010735</td>\n",
       "      <td>0.307043</td>\n",
       "      <td>0.933960</td>\n",
       "      <td>1.974723</td>\n",
       "      <td>1.954844</td>\n",
       "      <td>0.283072</td>\n",
       "      <td>0.349346</td>\n",
       "      <td>0.001456</td>\n",
       "      <td>12947.071447</td>\n",
       "    </tr>\n",
       "    <tr>\n",
       "      <th>3</th>\n",
       "      <td>0.188569</td>\n",
       "      <td>0.537946</td>\n",
       "      <td>0.589364</td>\n",
       "      <td>0.750909</td>\n",
       "      <td>1.042721</td>\n",
       "      <td>0.381536</td>\n",
       "      <td>0.395934</td>\n",
       "      <td>0.094304</td>\n",
       "      <td>0.080349</td>\n",
       "      <td>1.089399</td>\n",
       "      <td>0.493190</td>\n",
       "      <td>0.791194</td>\n",
       "      <td>1.074422</td>\n",
       "      <td>0.762254</td>\n",
       "      <td>0.938198</td>\n",
       "      <td>0.012432</td>\n",
       "      <td>13041.895694</td>\n",
       "    </tr>\n",
       "    <tr>\n",
       "      <th>1</th>\n",
       "      <td>1.073996</td>\n",
       "      <td>0.235010</td>\n",
       "      <td>0.507480</td>\n",
       "      <td>1.198939</td>\n",
       "      <td>2.171307</td>\n",
       "      <td>0.099362</td>\n",
       "      <td>1.194594</td>\n",
       "      <td>0.041174</td>\n",
       "      <td>1.141121</td>\n",
       "      <td>0.669787</td>\n",
       "      <td>0.606379</td>\n",
       "      <td>1.482118</td>\n",
       "      <td>0.667162</td>\n",
       "      <td>0.104198</td>\n",
       "      <td>1.275175</td>\n",
       "      <td>0.017045</td>\n",
       "      <td>13447.939995</td>\n",
       "    </tr>\n",
       "    <tr>\n",
       "      <th>4</th>\n",
       "      <td>0.129020</td>\n",
       "      <td>2.118282</td>\n",
       "      <td>0.768717</td>\n",
       "      <td>0.824888</td>\n",
       "      <td>4.575784</td>\n",
       "      <td>0.461290</td>\n",
       "      <td>0.512629</td>\n",
       "      <td>0.023749</td>\n",
       "      <td>0.119361</td>\n",
       "      <td>1.610603</td>\n",
       "      <td>0.622141</td>\n",
       "      <td>0.834945</td>\n",
       "      <td>0.902434</td>\n",
       "      <td>0.664483</td>\n",
       "      <td>0.446430</td>\n",
       "      <td>0.001732</td>\n",
       "      <td>13467.715191</td>\n",
       "    </tr>\n",
       "    <tr>\n",
       "      <th>2</th>\n",
       "      <td>1.053817</td>\n",
       "      <td>1.936775</td>\n",
       "      <td>0.366830</td>\n",
       "      <td>0.978639</td>\n",
       "      <td>5.618175</td>\n",
       "      <td>0.355607</td>\n",
       "      <td>0.272139</td>\n",
       "      <td>0.045223</td>\n",
       "      <td>1.038290</td>\n",
       "      <td>3.294536</td>\n",
       "      <td>0.676551</td>\n",
       "      <td>0.964515</td>\n",
       "      <td>0.502158</td>\n",
       "      <td>0.607416</td>\n",
       "      <td>0.521986</td>\n",
       "      <td>0.001644</td>\n",
       "      <td>14834.973582</td>\n",
       "    </tr>\n",
       "  </tbody>\n",
       "</table>\n",
       "</div>"
      ],
      "text/plain": [
       "      nu0_0      T0_0     nu1_0     nu2_0      Tc_0      m1_0      m2_0  \\\n",
       "6  0.134223  0.825106  0.888839  4.373342  6.541907  0.150534  0.449628   \n",
       "5  0.252917  0.209928  0.445185  3.539609  8.108074  0.433757  0.433367   \n",
       "0  0.328864  1.623764  0.877336  4.338617  6.752281  0.083146  0.286545   \n",
       "9  0.830144  2.019298  0.314303  2.205413  1.292294  0.050359  2.231025   \n",
       "8  0.274450  1.218914  0.776534  0.570648  0.888096  0.270014  0.285456   \n",
       "7  0.200997  0.533873  0.957372  0.698372  1.880397  0.067473  0.364927   \n",
       "3  0.188569  0.537946  0.589364  0.750909  1.042721  0.381536  0.395934   \n",
       "1  1.073996  0.235010  0.507480  1.198939  2.171307  0.099362  1.194594   \n",
       "4  0.129020  2.118282  0.768717  0.824888  4.575784  0.461290  0.512629   \n",
       "2  1.053817  1.936775  0.366830  0.978639  5.618175  0.355607  0.272139   \n",
       "\n",
       "       Ti_0   nu0_opt    T0_opt   nu1_opt   nu2_opt    Tc_opt    m1_opt  \\\n",
       "6  0.034774  0.046183  0.764156  0.905767  2.039924  1.949478  0.209447   \n",
       "5  0.099074  0.098221  0.260055  1.151509  2.693133  2.252404  0.128966   \n",
       "0  0.079677  0.408743  2.281100  0.863797  2.334117  1.669998  0.107036   \n",
       "9  0.039981  0.668315  1.473583  0.866867  2.306444  1.240350  0.050568   \n",
       "8  0.113272  0.409702  1.229840  0.685611  1.176478  0.718191  0.541107   \n",
       "7  0.052887  0.010735  0.307043  0.933960  1.974723  1.954844  0.283072   \n",
       "3  0.094304  0.080349  1.089399  0.493190  0.791194  1.074422  0.762254   \n",
       "1  0.041174  1.141121  0.669787  0.606379  1.482118  0.667162  0.104198   \n",
       "4  0.023749  0.119361  1.610603  0.622141  0.834945  0.902434  0.664483   \n",
       "2  0.045223  1.038290  3.294536  0.676551  0.964515  0.502158  0.607416   \n",
       "\n",
       "     m2_opt    Ti_opt         -logL  \n",
       "6  0.631441  0.014052  12262.628478  \n",
       "5  0.503502  0.016284  12263.195783  \n",
       "0  0.700905  0.003421  12343.265231  \n",
       "9  0.771685  0.021697  12354.001785  \n",
       "8  0.665066  0.014454  12626.021537  \n",
       "7  0.349346  0.001456  12947.071447  \n",
       "3  0.938198  0.012432  13041.895694  \n",
       "1  1.275175  0.017045  13447.939995  \n",
       "4  0.446430  0.001732  13467.715191  \n",
       "2  0.521986  0.001644  14834.973582  "
      ]
     },
     "execution_count": 25,
     "metadata": {},
     "output_type": "execute_result"
    }
   ],
   "source": [
    "l = 2*len(p0)+1\n",
    "\n",
    "success = [flatten(out)[:l] for out in ar_growth_split_asym_mig_iso]\n",
    "\n",
    "df = pd.DataFrame(data=success, \\\n",
    "                  columns=['nu0_0', 'T0_0', 'nu1_0','nu2_0', 'Tc_0', 'm1_0', 'm2_0', 'Ti_0', 'nu0_opt', 'T0_opt', 'nu1_opt', 'nu2_opt', 'Tc_opt', 'm1_opt', 'm2_opt', 'Ti_opt', '-logL'])\n",
    "\n",
    "df.sort_values(by='-logL', ascending=True).head(10)"
   ]
  },
  {
   "cell_type": "markdown",
   "metadata": {},
   "source": [
    "No good convergence yet. Let's refine the grid and increase maxiter and reduce fold."
   ]
  },
  {
   "cell_type": "code",
   "execution_count": 68,
   "metadata": {
    "collapsed": true
   },
   "outputs": [],
   "source": [
    "%%px\n",
    "\n",
    "fold = 1\n",
    "maxiter = 300\n",
    "pts_l = [50, 60, 70]"
   ]
  },
  {
   "cell_type": "code",
   "execution_count": 27,
   "metadata": {
    "collapsed": false
   },
   "outputs": [
    {
     "data": {
      "text/plain": [
       "array([ 0.04618334,  0.76415574,  0.90576652,  2.03992401,  1.94947774,\n",
       "        0.20944677,  0.63144129,  0.01405198])"
      ]
     },
     "execution_count": 27,
     "metadata": {},
     "output_type": "execute_result"
    }
   ],
   "source": [
    "popt = np.array(df.sort_values(by='-logL', ascending=True).head(10).iloc[0, 8:16])\n",
    "popt"
   ]
  },
  {
   "cell_type": "code",
   "execution_count": 28,
   "metadata": {
    "collapsed": true
   },
   "outputs": [],
   "source": [
    "p0 = popt\n",
    "\n",
    "#ar_growth_split_asym_mig_iso = lbview.map(run_dadi, repeat(p0, 10), block=False)"
   ]
  },
  {
   "cell_type": "code",
   "execution_count": 29,
   "metadata": {
    "collapsed": true
   },
   "outputs": [],
   "source": [
    "ar_growth_split_asym_mig_iso = []\n",
    "\n",
    "for filename in glob(\"OUT_2D_models/dadi/growth_split_asym_mig_iso_[0-9]*dill\"):\n",
    "    ar_growth_split_asym_mig_iso.append(dill.load(open(filename)))"
   ]
  },
  {
   "cell_type": "code",
   "execution_count": 31,
   "metadata": {
    "collapsed": false
   },
   "outputs": [
    {
     "name": "stdout",
     "output_type": "stream",
     "text": [
      "success 0\n",
      "Maximum number of function evaluations made. 0\n",
      "Maximum number of iterations reached. 20\n",
      "unknown flag 0\n"
     ]
    }
   ],
   "source": [
    "get_flag_count(ar_growth_split_asym_mig_iso, NM=True)"
   ]
  },
  {
   "cell_type": "markdown",
   "metadata": {},
   "source": [
    "None of the optimisation runs achieved convergence within the limit of 300 iterations."
   ]
  },
  {
   "cell_type": "code",
   "execution_count": 30,
   "metadata": {
    "collapsed": false
   },
   "outputs": [
    {
     "data": {
      "text/html": [
       "<div>\n",
       "<table border=\"1\" class=\"dataframe\">\n",
       "  <thead>\n",
       "    <tr style=\"text-align: right;\">\n",
       "      <th></th>\n",
       "      <th>nu0_0</th>\n",
       "      <th>T0_0</th>\n",
       "      <th>nu1_0</th>\n",
       "      <th>nu2_0</th>\n",
       "      <th>Tc_0</th>\n",
       "      <th>m1_0</th>\n",
       "      <th>m2_0</th>\n",
       "      <th>Ti_0</th>\n",
       "      <th>nu0_opt</th>\n",
       "      <th>T0_opt</th>\n",
       "      <th>nu1_opt</th>\n",
       "      <th>nu2_opt</th>\n",
       "      <th>Tc_opt</th>\n",
       "      <th>m1_opt</th>\n",
       "      <th>m2_opt</th>\n",
       "      <th>Ti_opt</th>\n",
       "      <th>-logL</th>\n",
       "    </tr>\n",
       "  </thead>\n",
       "  <tbody>\n",
       "    <tr>\n",
       "      <th>17</th>\n",
       "      <td>0.025156</td>\n",
       "      <td>0.966251</td>\n",
       "      <td>0.467084</td>\n",
       "      <td>1.685644</td>\n",
       "      <td>2.655476</td>\n",
       "      <td>0.198602</td>\n",
       "      <td>0.369774</td>\n",
       "      <td>0.011566</td>\n",
       "      <td>0.158982</td>\n",
       "      <td>0.972331</td>\n",
       "      <td>1.323932</td>\n",
       "      <td>3.231264</td>\n",
       "      <td>2.857907</td>\n",
       "      <td>0.106863</td>\n",
       "      <td>0.530510</td>\n",
       "      <td>0.047712</td>\n",
       "      <td>12157.652488</td>\n",
       "    </tr>\n",
       "    <tr>\n",
       "      <th>10</th>\n",
       "      <td>0.092130</td>\n",
       "      <td>1.367449</td>\n",
       "      <td>1.219959</td>\n",
       "      <td>3.667953</td>\n",
       "      <td>2.275247</td>\n",
       "      <td>0.318282</td>\n",
       "      <td>0.564823</td>\n",
       "      <td>0.015947</td>\n",
       "      <td>0.110088</td>\n",
       "      <td>1.368700</td>\n",
       "      <td>1.139888</td>\n",
       "      <td>2.779680</td>\n",
       "      <td>2.491826</td>\n",
       "      <td>0.124632</td>\n",
       "      <td>0.614518</td>\n",
       "      <td>0.041061</td>\n",
       "      <td>12158.084806</td>\n",
       "    </tr>\n",
       "    <tr>\n",
       "      <th>2</th>\n",
       "      <td>0.082218</td>\n",
       "      <td>0.567914</td>\n",
       "      <td>0.552175</td>\n",
       "      <td>2.418403</td>\n",
       "      <td>1.058503</td>\n",
       "      <td>0.211223</td>\n",
       "      <td>0.428586</td>\n",
       "      <td>0.025459</td>\n",
       "      <td>0.044286</td>\n",
       "      <td>0.419266</td>\n",
       "      <td>0.512293</td>\n",
       "      <td>1.249072</td>\n",
       "      <td>1.125668</td>\n",
       "      <td>0.278188</td>\n",
       "      <td>1.368325</td>\n",
       "      <td>0.018453</td>\n",
       "      <td>12158.273880</td>\n",
       "    </tr>\n",
       "    <tr>\n",
       "      <th>1</th>\n",
       "      <td>0.086703</td>\n",
       "      <td>1.106330</td>\n",
       "      <td>1.746223</td>\n",
       "      <td>1.656487</td>\n",
       "      <td>1.373758</td>\n",
       "      <td>0.105862</td>\n",
       "      <td>0.435626</td>\n",
       "      <td>0.008731</td>\n",
       "      <td>0.057118</td>\n",
       "      <td>1.191871</td>\n",
       "      <td>0.783084</td>\n",
       "      <td>1.908620</td>\n",
       "      <td>1.732691</td>\n",
       "      <td>0.181039</td>\n",
       "      <td>0.895866</td>\n",
       "      <td>0.028209</td>\n",
       "      <td>12158.549028</td>\n",
       "    </tr>\n",
       "    <tr>\n",
       "      <th>4</th>\n",
       "      <td>0.056448</td>\n",
       "      <td>0.642539</td>\n",
       "      <td>1.427693</td>\n",
       "      <td>3.636780</td>\n",
       "      <td>2.419741</td>\n",
       "      <td>0.165201</td>\n",
       "      <td>0.349771</td>\n",
       "      <td>0.014935</td>\n",
       "      <td>0.096488</td>\n",
       "      <td>0.709415</td>\n",
       "      <td>1.612796</td>\n",
       "      <td>3.929907</td>\n",
       "      <td>3.588950</td>\n",
       "      <td>0.088293</td>\n",
       "      <td>0.435097</td>\n",
       "      <td>0.058097</td>\n",
       "      <td>12158.794649</td>\n",
       "    </tr>\n",
       "    <tr>\n",
       "      <th>19</th>\n",
       "      <td>0.088842</td>\n",
       "      <td>0.823319</td>\n",
       "      <td>1.664314</td>\n",
       "      <td>3.894656</td>\n",
       "      <td>3.271317</td>\n",
       "      <td>0.106120</td>\n",
       "      <td>0.467887</td>\n",
       "      <td>0.011972</td>\n",
       "      <td>0.091078</td>\n",
       "      <td>0.841412</td>\n",
       "      <td>1.629691</td>\n",
       "      <td>3.970805</td>\n",
       "      <td>3.634436</td>\n",
       "      <td>0.087356</td>\n",
       "      <td>0.430441</td>\n",
       "      <td>0.058706</td>\n",
       "      <td>12158.882607</td>\n",
       "    </tr>\n",
       "    <tr>\n",
       "      <th>14</th>\n",
       "      <td>0.080962</td>\n",
       "      <td>0.507299</td>\n",
       "      <td>0.787016</td>\n",
       "      <td>2.240025</td>\n",
       "      <td>2.266528</td>\n",
       "      <td>0.266524</td>\n",
       "      <td>0.339397</td>\n",
       "      <td>0.009640</td>\n",
       "      <td>0.029831</td>\n",
       "      <td>0.292834</td>\n",
       "      <td>0.821060</td>\n",
       "      <td>2.001163</td>\n",
       "      <td>1.849495</td>\n",
       "      <td>0.173709</td>\n",
       "      <td>0.853970</td>\n",
       "      <td>0.029577</td>\n",
       "      <td>12159.290069</td>\n",
       "    </tr>\n",
       "    <tr>\n",
       "      <th>5</th>\n",
       "      <td>0.042260</td>\n",
       "      <td>1.197768</td>\n",
       "      <td>0.613177</td>\n",
       "      <td>2.426155</td>\n",
       "      <td>1.693186</td>\n",
       "      <td>0.354824</td>\n",
       "      <td>0.336918</td>\n",
       "      <td>0.021070</td>\n",
       "      <td>0.012718</td>\n",
       "      <td>1.134690</td>\n",
       "      <td>0.806787</td>\n",
       "      <td>1.965247</td>\n",
       "      <td>1.836110</td>\n",
       "      <td>0.175934</td>\n",
       "      <td>0.869384</td>\n",
       "      <td>0.029059</td>\n",
       "      <td>12159.761122</td>\n",
       "    </tr>\n",
       "    <tr>\n",
       "      <th>0</th>\n",
       "      <td>0.053697</td>\n",
       "      <td>0.890830</td>\n",
       "      <td>0.925349</td>\n",
       "      <td>3.567025</td>\n",
       "      <td>1.282859</td>\n",
       "      <td>0.123114</td>\n",
       "      <td>0.648212</td>\n",
       "      <td>0.010959</td>\n",
       "      <td>0.392110</td>\n",
       "      <td>0.831958</td>\n",
       "      <td>0.918907</td>\n",
       "      <td>2.227507</td>\n",
       "      <td>1.514920</td>\n",
       "      <td>0.148429</td>\n",
       "      <td>0.736956</td>\n",
       "      <td>0.029431</td>\n",
       "      <td>12163.299530</td>\n",
       "    </tr>\n",
       "    <tr>\n",
       "      <th>12</th>\n",
       "      <td>0.134223</td>\n",
       "      <td>0.825106</td>\n",
       "      <td>0.888839</td>\n",
       "      <td>4.373342</td>\n",
       "      <td>6.541907</td>\n",
       "      <td>0.150534</td>\n",
       "      <td>0.449628</td>\n",
       "      <td>0.034774</td>\n",
       "      <td>0.046183</td>\n",
       "      <td>0.764156</td>\n",
       "      <td>0.905767</td>\n",
       "      <td>2.039924</td>\n",
       "      <td>1.949478</td>\n",
       "      <td>0.209447</td>\n",
       "      <td>0.631441</td>\n",
       "      <td>0.014052</td>\n",
       "      <td>12262.628478</td>\n",
       "    </tr>\n",
       "  </tbody>\n",
       "</table>\n",
       "</div>"
      ],
      "text/plain": [
       "       nu0_0      T0_0     nu1_0     nu2_0      Tc_0      m1_0      m2_0  \\\n",
       "17  0.025156  0.966251  0.467084  1.685644  2.655476  0.198602  0.369774   \n",
       "10  0.092130  1.367449  1.219959  3.667953  2.275247  0.318282  0.564823   \n",
       "2   0.082218  0.567914  0.552175  2.418403  1.058503  0.211223  0.428586   \n",
       "1   0.086703  1.106330  1.746223  1.656487  1.373758  0.105862  0.435626   \n",
       "4   0.056448  0.642539  1.427693  3.636780  2.419741  0.165201  0.349771   \n",
       "19  0.088842  0.823319  1.664314  3.894656  3.271317  0.106120  0.467887   \n",
       "14  0.080962  0.507299  0.787016  2.240025  2.266528  0.266524  0.339397   \n",
       "5   0.042260  1.197768  0.613177  2.426155  1.693186  0.354824  0.336918   \n",
       "0   0.053697  0.890830  0.925349  3.567025  1.282859  0.123114  0.648212   \n",
       "12  0.134223  0.825106  0.888839  4.373342  6.541907  0.150534  0.449628   \n",
       "\n",
       "        Ti_0   nu0_opt    T0_opt   nu1_opt   nu2_opt    Tc_opt    m1_opt  \\\n",
       "17  0.011566  0.158982  0.972331  1.323932  3.231264  2.857907  0.106863   \n",
       "10  0.015947  0.110088  1.368700  1.139888  2.779680  2.491826  0.124632   \n",
       "2   0.025459  0.044286  0.419266  0.512293  1.249072  1.125668  0.278188   \n",
       "1   0.008731  0.057118  1.191871  0.783084  1.908620  1.732691  0.181039   \n",
       "4   0.014935  0.096488  0.709415  1.612796  3.929907  3.588950  0.088293   \n",
       "19  0.011972  0.091078  0.841412  1.629691  3.970805  3.634436  0.087356   \n",
       "14  0.009640  0.029831  0.292834  0.821060  2.001163  1.849495  0.173709   \n",
       "5   0.021070  0.012718  1.134690  0.806787  1.965247  1.836110  0.175934   \n",
       "0   0.010959  0.392110  0.831958  0.918907  2.227507  1.514920  0.148429   \n",
       "12  0.034774  0.046183  0.764156  0.905767  2.039924  1.949478  0.209447   \n",
       "\n",
       "      m2_opt    Ti_opt         -logL  \n",
       "17  0.530510  0.047712  12157.652488  \n",
       "10  0.614518  0.041061  12158.084806  \n",
       "2   1.368325  0.018453  12158.273880  \n",
       "1   0.895866  0.028209  12158.549028  \n",
       "4   0.435097  0.058097  12158.794649  \n",
       "19  0.430441  0.058706  12158.882607  \n",
       "14  0.853970  0.029577  12159.290069  \n",
       "5   0.869384  0.029059  12159.761122  \n",
       "0   0.736956  0.029431  12163.299530  \n",
       "12  0.631441  0.014052  12262.628478  "
      ]
     },
     "execution_count": 30,
     "metadata": {},
     "output_type": "execute_result"
    }
   ],
   "source": [
    "l = 2*len(p0)+1\n",
    "\n",
    "success = [flatten(out)[:l] for out in ar_growth_split_asym_mig_iso]\n",
    "\n",
    "df = pd.DataFrame(data=success, \\\n",
    "                  columns=['nu0_0', 'T0_0', 'nu1_0','nu2_0', 'Tc_0', 'm1_0', 'm2_0', 'Ti_0', 'nu0_opt', 'T0_opt', 'nu1_opt', 'nu2_opt', 'Tc_opt', 'm1_opt', 'm2_opt', 'Ti_opt', '-logL'])\n",
    "\n",
    "df.sort_values(by='-logL', ascending=True).head(10)"
   ]
  },
  {
   "cell_type": "markdown",
   "metadata": {},
   "source": [
    "It is difficult to achieve convergence. It may already be too complex. It does not achieve a higher likelihood than the _ancient migration_ model (-logL: 12156). "
   ]
  },
  {
   "cell_type": "markdown",
   "metadata": {},
   "source": [
    "I conclude that the addition of a population size change of the ancestral population of ERY and PAR does not improve the fit. However, it does achieve a similarly good fit with a time since split between ERY and PAR much shorter than inferred with the _ancient migration_ model. "
   ]
  },
  {
   "cell_type": "markdown",
   "metadata": {},
   "source": [
    "Maybe I can achieve convergence with another optimsation algorithm."
   ]
  },
  {
   "cell_type": "code",
   "execution_count": 32,
   "metadata": {
    "collapsed": true
   },
   "outputs": [],
   "source": [
    "dadi.Inference.optimize?"
   ]
  },
  {
   "cell_type": "code",
   "execution_count": 33,
   "metadata": {
    "collapsed": true
   },
   "outputs": [],
   "source": [
    "%%px --local\n",
    "\n",
    "# set up global variables on engines required for run_dadi function call\n",
    "\n",
    "ns = sfs2d.sample_sizes # both populations have the same sample size\n",
    "pts_l = [50, 60, 70]\n",
    "func_ex = func_ex\n",
    "dadi_opt_func = dadi.Inference.optimize # uses BFGS algorithm\n",
    "sfs = sfs2d\n",
    "perturb = True\n",
    "fold = 1 # perturb randomly up to `fold` times 2-fold\n",
    "maxiter = 300 # run a maximum of 300 iterations\n",
    "verbose = 0\n",
    "full_output = True # need to have full output to get the warnflags (see below)\n",
    "outname = \"MODIFIED_SPECTRA/OUT_2D_models/dadi/growth_split_asym_mig_iso\" # set file name stub for opt. result files\n",
    "fixed_params = None"
   ]
  },
  {
   "cell_type": "code",
   "execution_count": 34,
   "metadata": {
    "collapsed": false
   },
   "outputs": [
    {
     "data": {
      "text/plain": [
       "array([ 0.15898231,  0.97233138,  1.32393179,  3.23126378,  2.85790723,\n",
       "        0.10686261,  0.53050979,  0.04771157])"
      ]
     },
     "execution_count": 34,
     "metadata": {},
     "output_type": "execute_result"
    }
   ],
   "source": [
    "popt = np.array(df.sort_values(by='-logL', ascending=True).head(10).iloc[0, 8:16])\n",
    "popt"
   ]
  },
  {
   "cell_type": "code",
   "execution_count": 35,
   "metadata": {
    "collapsed": true
   },
   "outputs": [],
   "source": [
    "p0 = popt\n",
    "\n",
    "#ar_growth_split_asym_mig_iso = lbview.map(run_dadi, repeat(p0, 10), block=False)"
   ]
  },
  {
   "cell_type": "code",
   "execution_count": 37,
   "metadata": {
    "collapsed": false
   },
   "outputs": [
    {
     "data": {
      "text/plain": [
       "34.59303466666667"
      ]
     },
     "execution_count": 37,
     "metadata": {},
     "output_type": "execute_result"
    }
   ],
   "source": [
    "ar_growth_split_asym_mig_iso.elapsed/60"
   ]
  },
  {
   "cell_type": "code",
   "execution_count": 69,
   "metadata": {
    "collapsed": true
   },
   "outputs": [],
   "source": [
    "ar_growth_split_asym_mig_iso = []\n",
    "\n",
    "for filename in glob(\"OUT_2D_models/dadi/growth_split_asym_mig_iso_[0-9]*dill\"):\n",
    "    ar_growth_split_asym_mig_iso.append(dill.load(open(filename)))"
   ]
  },
  {
   "cell_type": "code",
   "execution_count": 70,
   "metadata": {
    "collapsed": false
   },
   "outputs": [
    {
     "data": {
      "text/html": [
       "<div>\n",
       "<table border=\"1\" class=\"dataframe\">\n",
       "  <thead>\n",
       "    <tr style=\"text-align: right;\">\n",
       "      <th></th>\n",
       "      <th>nu0_0</th>\n",
       "      <th>T0_0</th>\n",
       "      <th>nu1_0</th>\n",
       "      <th>nu2_0</th>\n",
       "      <th>Tc_0</th>\n",
       "      <th>m1_0</th>\n",
       "      <th>m2_0</th>\n",
       "      <th>Ti_0</th>\n",
       "      <th>nu0_opt</th>\n",
       "      <th>T0_opt</th>\n",
       "      <th>nu1_opt</th>\n",
       "      <th>nu2_opt</th>\n",
       "      <th>Tc_opt</th>\n",
       "      <th>m1_opt</th>\n",
       "      <th>m2_opt</th>\n",
       "      <th>Ti_opt</th>\n",
       "      <th>-logL</th>\n",
       "    </tr>\n",
       "  </thead>\n",
       "  <tbody>\n",
       "    <tr>\n",
       "      <th>13</th>\n",
       "      <td>0.243485</td>\n",
       "      <td>0.749393</td>\n",
       "      <td>0.790999</td>\n",
       "      <td>2.478842</td>\n",
       "      <td>3.857886</td>\n",
       "      <td>0.171512</td>\n",
       "      <td>0.422471</td>\n",
       "      <td>0.035618</td>\n",
       "      <td>0.184724</td>\n",
       "      <td>0.299258</td>\n",
       "      <td>1.120924</td>\n",
       "      <td>2.742162</td>\n",
       "      <td>2.183116</td>\n",
       "      <td>0.122150</td>\n",
       "      <td>0.611739</td>\n",
       "      <td>0.036528</td>\n",
       "      <td>12155.826631</td>\n",
       "    </tr>\n",
       "    <tr>\n",
       "      <th>8</th>\n",
       "      <td>0.190827</td>\n",
       "      <td>0.595480</td>\n",
       "      <td>2.579873</td>\n",
       "      <td>4.153851</td>\n",
       "      <td>4.742194</td>\n",
       "      <td>0.125715</td>\n",
       "      <td>0.306428</td>\n",
       "      <td>0.041922</td>\n",
       "      <td>0.668403</td>\n",
       "      <td>1.550333</td>\n",
       "      <td>2.322523</td>\n",
       "      <td>5.688872</td>\n",
       "      <td>4.517284</td>\n",
       "      <td>0.058989</td>\n",
       "      <td>0.297679</td>\n",
       "      <td>0.079468</td>\n",
       "      <td>12156.020904</td>\n",
       "    </tr>\n",
       "    <tr>\n",
       "      <th>17</th>\n",
       "      <td>0.242454</td>\n",
       "      <td>0.611050</td>\n",
       "      <td>1.929829</td>\n",
       "      <td>4.070851</td>\n",
       "      <td>5.552329</td>\n",
       "      <td>0.061143</td>\n",
       "      <td>0.539000</td>\n",
       "      <td>0.032159</td>\n",
       "      <td>0.643044</td>\n",
       "      <td>0.944617</td>\n",
       "      <td>2.095336</td>\n",
       "      <td>5.131735</td>\n",
       "      <td>3.972959</td>\n",
       "      <td>0.065006</td>\n",
       "      <td>0.328071</td>\n",
       "      <td>0.070383</td>\n",
       "      <td>12156.138565</td>\n",
       "    </tr>\n",
       "    <tr>\n",
       "      <th>6</th>\n",
       "      <td>0.192498</td>\n",
       "      <td>0.494757</td>\n",
       "      <td>2.046877</td>\n",
       "      <td>2.469721</td>\n",
       "      <td>1.738255</td>\n",
       "      <td>0.153193</td>\n",
       "      <td>0.623615</td>\n",
       "      <td>0.024804</td>\n",
       "      <td>0.442032</td>\n",
       "      <td>1.954224</td>\n",
       "      <td>1.432426</td>\n",
       "      <td>3.508154</td>\n",
       "      <td>2.774798</td>\n",
       "      <td>0.095432</td>\n",
       "      <td>0.479957</td>\n",
       "      <td>0.047463</td>\n",
       "      <td>12156.147740</td>\n",
       "    </tr>\n",
       "    <tr>\n",
       "      <th>27</th>\n",
       "      <td>0.216496</td>\n",
       "      <td>1.773033</td>\n",
       "      <td>2.139193</td>\n",
       "      <td>2.300216</td>\n",
       "      <td>2.077733</td>\n",
       "      <td>0.090291</td>\n",
       "      <td>0.370286</td>\n",
       "      <td>0.036041</td>\n",
       "      <td>0.327046</td>\n",
       "      <td>2.396208</td>\n",
       "      <td>1.024295</td>\n",
       "      <td>2.513421</td>\n",
       "      <td>1.981020</td>\n",
       "      <td>0.133355</td>\n",
       "      <td>0.669639</td>\n",
       "      <td>0.033676</td>\n",
       "      <td>12156.257545</td>\n",
       "    </tr>\n",
       "    <tr>\n",
       "      <th>25</th>\n",
       "      <td>0.025156</td>\n",
       "      <td>0.966251</td>\n",
       "      <td>0.467084</td>\n",
       "      <td>1.685644</td>\n",
       "      <td>2.655476</td>\n",
       "      <td>0.198602</td>\n",
       "      <td>0.369774</td>\n",
       "      <td>0.011566</td>\n",
       "      <td>0.158982</td>\n",
       "      <td>0.972331</td>\n",
       "      <td>1.323932</td>\n",
       "      <td>3.231264</td>\n",
       "      <td>2.857907</td>\n",
       "      <td>0.106863</td>\n",
       "      <td>0.530510</td>\n",
       "      <td>0.047712</td>\n",
       "      <td>12157.652488</td>\n",
       "    </tr>\n",
       "    <tr>\n",
       "      <th>14</th>\n",
       "      <td>0.092130</td>\n",
       "      <td>1.367449</td>\n",
       "      <td>1.219959</td>\n",
       "      <td>3.667953</td>\n",
       "      <td>2.275247</td>\n",
       "      <td>0.318282</td>\n",
       "      <td>0.564823</td>\n",
       "      <td>0.015947</td>\n",
       "      <td>0.110088</td>\n",
       "      <td>1.368700</td>\n",
       "      <td>1.139888</td>\n",
       "      <td>2.779680</td>\n",
       "      <td>2.491826</td>\n",
       "      <td>0.124632</td>\n",
       "      <td>0.614518</td>\n",
       "      <td>0.041061</td>\n",
       "      <td>12158.084806</td>\n",
       "    </tr>\n",
       "    <tr>\n",
       "      <th>3</th>\n",
       "      <td>0.082218</td>\n",
       "      <td>0.567914</td>\n",
       "      <td>0.552175</td>\n",
       "      <td>2.418403</td>\n",
       "      <td>1.058503</td>\n",
       "      <td>0.211223</td>\n",
       "      <td>0.428586</td>\n",
       "      <td>0.025459</td>\n",
       "      <td>0.044286</td>\n",
       "      <td>0.419266</td>\n",
       "      <td>0.512293</td>\n",
       "      <td>1.249072</td>\n",
       "      <td>1.125668</td>\n",
       "      <td>0.278188</td>\n",
       "      <td>1.368325</td>\n",
       "      <td>0.018453</td>\n",
       "      <td>12158.273880</td>\n",
       "    </tr>\n",
       "    <tr>\n",
       "      <th>2</th>\n",
       "      <td>0.086703</td>\n",
       "      <td>1.106330</td>\n",
       "      <td>1.746223</td>\n",
       "      <td>1.656487</td>\n",
       "      <td>1.373758</td>\n",
       "      <td>0.105862</td>\n",
       "      <td>0.435626</td>\n",
       "      <td>0.008731</td>\n",
       "      <td>0.057118</td>\n",
       "      <td>1.191871</td>\n",
       "      <td>0.783084</td>\n",
       "      <td>1.908620</td>\n",
       "      <td>1.732691</td>\n",
       "      <td>0.181039</td>\n",
       "      <td>0.895866</td>\n",
       "      <td>0.028209</td>\n",
       "      <td>12158.549028</td>\n",
       "    </tr>\n",
       "    <tr>\n",
       "      <th>5</th>\n",
       "      <td>0.056448</td>\n",
       "      <td>0.642539</td>\n",
       "      <td>1.427693</td>\n",
       "      <td>3.636780</td>\n",
       "      <td>2.419741</td>\n",
       "      <td>0.165201</td>\n",
       "      <td>0.349771</td>\n",
       "      <td>0.014935</td>\n",
       "      <td>0.096488</td>\n",
       "      <td>0.709415</td>\n",
       "      <td>1.612796</td>\n",
       "      <td>3.929907</td>\n",
       "      <td>3.588950</td>\n",
       "      <td>0.088293</td>\n",
       "      <td>0.435097</td>\n",
       "      <td>0.058097</td>\n",
       "      <td>12158.794649</td>\n",
       "    </tr>\n",
       "  </tbody>\n",
       "</table>\n",
       "</div>"
      ],
      "text/plain": [
       "       nu0_0      T0_0     nu1_0     nu2_0      Tc_0      m1_0      m2_0  \\\n",
       "13  0.243485  0.749393  0.790999  2.478842  3.857886  0.171512  0.422471   \n",
       "8   0.190827  0.595480  2.579873  4.153851  4.742194  0.125715  0.306428   \n",
       "17  0.242454  0.611050  1.929829  4.070851  5.552329  0.061143  0.539000   \n",
       "6   0.192498  0.494757  2.046877  2.469721  1.738255  0.153193  0.623615   \n",
       "27  0.216496  1.773033  2.139193  2.300216  2.077733  0.090291  0.370286   \n",
       "25  0.025156  0.966251  0.467084  1.685644  2.655476  0.198602  0.369774   \n",
       "14  0.092130  1.367449  1.219959  3.667953  2.275247  0.318282  0.564823   \n",
       "3   0.082218  0.567914  0.552175  2.418403  1.058503  0.211223  0.428586   \n",
       "2   0.086703  1.106330  1.746223  1.656487  1.373758  0.105862  0.435626   \n",
       "5   0.056448  0.642539  1.427693  3.636780  2.419741  0.165201  0.349771   \n",
       "\n",
       "        Ti_0   nu0_opt    T0_opt   nu1_opt   nu2_opt    Tc_opt    m1_opt  \\\n",
       "13  0.035618  0.184724  0.299258  1.120924  2.742162  2.183116  0.122150   \n",
       "8   0.041922  0.668403  1.550333  2.322523  5.688872  4.517284  0.058989   \n",
       "17  0.032159  0.643044  0.944617  2.095336  5.131735  3.972959  0.065006   \n",
       "6   0.024804  0.442032  1.954224  1.432426  3.508154  2.774798  0.095432   \n",
       "27  0.036041  0.327046  2.396208  1.024295  2.513421  1.981020  0.133355   \n",
       "25  0.011566  0.158982  0.972331  1.323932  3.231264  2.857907  0.106863   \n",
       "14  0.015947  0.110088  1.368700  1.139888  2.779680  2.491826  0.124632   \n",
       "3   0.025459  0.044286  0.419266  0.512293  1.249072  1.125668  0.278188   \n",
       "2   0.008731  0.057118  1.191871  0.783084  1.908620  1.732691  0.181039   \n",
       "5   0.014935  0.096488  0.709415  1.612796  3.929907  3.588950  0.088293   \n",
       "\n",
       "      m2_opt    Ti_opt         -logL  \n",
       "13  0.611739  0.036528  12155.826631  \n",
       "8   0.297679  0.079468  12156.020904  \n",
       "17  0.328071  0.070383  12156.138565  \n",
       "6   0.479957  0.047463  12156.147740  \n",
       "27  0.669639  0.033676  12156.257545  \n",
       "25  0.530510  0.047712  12157.652488  \n",
       "14  0.614518  0.041061  12158.084806  \n",
       "3   1.368325  0.018453  12158.273880  \n",
       "2   0.895866  0.028209  12158.549028  \n",
       "5   0.435097  0.058097  12158.794649  "
      ]
     },
     "execution_count": 70,
     "metadata": {},
     "output_type": "execute_result"
    }
   ],
   "source": [
    "l = 2*len(p0)+1\n",
    "\n",
    "success = [flatten(out)[:l] for out in ar_growth_split_asym_mig_iso]\n",
    "\n",
    "df = pd.DataFrame(data=success, \\\n",
    "                  columns=['nu0_0', 'T0_0', 'nu1_0','nu2_0', 'Tc_0', 'm1_0', 'm2_0', 'Ti_0', 'nu0_opt', 'T0_opt', 'nu1_opt', 'nu2_opt', 'Tc_opt', 'm1_opt', 'm2_opt', 'Ti_opt', '-logL'])\n",
    "\n",
    "df.sort_values(by='-logL', ascending=True).head(10)"
   ]
  },
  {
   "cell_type": "markdown",
   "metadata": {},
   "source": [
    "There is still no good convergence. Quite different demographic scenarios have almost identical likelihood. One of which is the _ancient migration_ model from above, which had -logL of 12,156 with it's best fit parameter values. A population size change in the ancestral population to ERY and PAR cannot be inferred from this spectrum."
   ]
  },
  {
   "cell_type": "markdown",
   "metadata": {},
   "source": [
    "This illustrates the uncertainty in the inference of the demographic scenario. The most parsimonious model found is the _ancient migration_ model."
   ]
  },
  {
   "cell_type": "code",
   "execution_count": 80,
   "metadata": {
    "collapsed": true
   },
   "outputs": [],
   "source": [
    "def translate_time(i, j):\n",
    "    \"\"\"\n",
    "    i: row index in parameter table with best-fit combinations at the top\n",
    "    j: index for parameter in parameter list\n",
    "    \"\"\"\n",
    "\n",
    "    popt = np.array(df.sort_values(by='-logL', ascending=True).iloc[i,8:16])\n",
    "\n",
    "    model = func_ex(popt, ns, pts_l)\n",
    "\n",
    "    theta = dadi.Inference.optimal_sfs_scaling(model, sfs2d)\n",
    "    \n",
    "    L = sfs2d.data.sum()\n",
    "    mu = 3e-9\n",
    "    N_ref = theta/L/mu/4\n",
    "    \n",
    "    return int(popt[j]*2*N_ref)"
   ]
  },
  {
   "cell_type": "code",
   "execution_count": 85,
   "metadata": {
    "collapsed": false
   },
   "outputs": [
    {
     "data": {
      "text/plain": [
       "[1517296, 1515905, 1479343, 1509180, 1504830]"
      ]
     },
     "execution_count": 85,
     "metadata": {},
     "output_type": "execute_result"
    }
   ],
   "source": [
    "# get translation of time of split parameter Tc for the top 5 parameter combinations\n",
    "map(translate_time, range(5), repeat(4, 5))"
   ]
  },
  {
   "cell_type": "markdown",
   "metadata": {},
   "source": [
    "Note, that despite the much smaller values for Tc (the time of split between ERY and PAR) in genetic units (2Nref) as compared to the _ancient migration_ model, this _ancestral size change_ model infers very similar values for Tc in absolute units (generations) (compare eith ancient)."
   ]
  },
  {
   "cell_type": "code",
   "execution_count": 86,
   "metadata": {
    "collapsed": false
   },
   "outputs": [
    {
     "data": {
      "text/plain": [
       "[25387, 26667, 26207, 25814, 25580]"
      ]
     },
     "execution_count": 86,
     "metadata": {},
     "output_type": "execute_result"
    }
   ],
   "source": [
    "# get translation of time of isolation for the top 5 parameter combinations\n",
    "map(translate_time, range(5), repeat(7, 5))"
   ]
  },
  {
   "cell_type": "markdown",
   "metadata": {},
   "source": [
    "The inferred time of complete isolation is also very similar to the _ancient migration_ model best-fit parameter values."
   ]
  },
  {
   "cell_type": "code",
   "execution_count": 87,
   "metadata": {
    "collapsed": false
   },
   "outputs": [
    {
     "data": {
      "text/plain": [
       "[84896, 19795, 24205, 51904, 101299]"
      ]
     },
     "execution_count": 87,
     "metadata": {},
     "output_type": "execute_result"
    }
   ],
   "source": [
    "# get translation of time of isolation for the top 5 parameter combinations\n",
    "map(translate_param, range(5), repeat(5, 5))"
   ]
  },
  {
   "cell_type": "code",
   "execution_count": 91,
   "metadata": {
    "collapsed": true
   },
   "outputs": [],
   "source": [
    "def translate_migration(i, j, k):\n",
    "    \"\"\"\n",
    "    i: row index in parameter table with best-fit combinations at the top\n",
    "    j: index for migration parameter in parameter list\n",
    "    k: index of pop size parameter in param list\n",
    "    \"\"\"\n",
    "\n",
    "    popt = np.array(df.sort_values(by='-logL', ascending=True).iloc[i,8:16])\n",
    "\n",
    "    model = func_ex(popt, ns, pts_l)\n",
    "\n",
    "    theta = dadi.Inference.optimal_sfs_scaling(model, sfs2d)\n",
    "    \n",
    "    L = sfs2d.data.sum()\n",
    "    mu = 3e-9\n",
    "    N_ref = theta/L/mu/4\n",
    "    \n",
    "    return popt[j]/2/N_ref/popt[k]"
   ]
  },
  {
   "cell_type": "code",
   "execution_count": 92,
   "metadata": {
    "collapsed": false
   },
   "outputs": [
    {
     "data": {
      "text/plain": [
       "[6.4092487031069124e-08,\n",
       " 3.0899247177476557e-08,\n",
       " 3.4020148712630468e-08,\n",
       " 5.0015613755533254e-08,\n",
       " 6.98464733121575e-08]"
      ]
     },
     "execution_count": 92,
     "metadata": {},
     "output_type": "execute_result"
    }
   ],
   "source": [
    "# get translation of migration parameter ery->par for top 5 param comb\n",
    "map(translate_migration, range(5), repeat(5, 5), repeat(3, 5))"
   ]
  },
  {
   "cell_type": "code",
   "execution_count": 93,
   "metadata": {
    "collapsed": false
   },
   "outputs": [
    {
     "data": {
      "text/plain": [
       "[7.8522919076288438e-07,\n",
       " 3.819387333369181e-07,\n",
       " 4.2049345899439553e-07,\n",
       " 6.1605583359294688e-07,\n",
       " 8.6063038581282348e-07]"
      ]
     },
     "execution_count": 93,
     "metadata": {},
     "output_type": "execute_result"
    }
   ],
   "source": [
    "# get translation of migration parameter par->ery for top 5 param comb\n",
    "map(translate_migration, range(5), repeat(6, 5), repeat(2, 5))"
   ]
  },
  {
   "cell_type": "markdown",
   "metadata": {},
   "source": [
    "The migration rate in proportion of new immigrant alleles per generation is in the same order of magnitude as for the _ancient migration_ model. Migration from ery into par is again about 10 times weaker than in the other direction. The migration rates with this  _ancestral population size change_ model are generally slightly higher than those from the _ancient migration_ model."
   ]
  },
  {
   "cell_type": "markdown",
   "metadata": {},
   "source": [
    "In conclusion it can be said that this _ancestral population size change_ model predicts a very similar demographic history as the _ancient migration_ model."
   ]
  }
 ],
 "metadata": {
  "anaconda-cloud": {},
  "kernelspec": {
   "display_name": "Python [default]",
   "language": "python",
   "name": "python2"
  },
  "language_info": {
   "codemirror_mode": {
    "name": "ipython",
    "version": 2
   },
   "file_extension": ".py",
   "mimetype": "text/x-python",
   "name": "python",
   "nbconvert_exporter": "python",
   "pygments_lexer": "ipython2",
   "version": "2.7.12"
  },
  "toc": {
   "colors": {
    "hover_highlight": "#DAA520",
    "running_highlight": "#FF0000",
    "selected_highlight": "#FFD700"
   },
   "moveMenuLeft": true,
   "nav_menu": {
    "height": "49px",
    "width": "252px"
   },
   "navigate_menu": true,
   "number_sections": true,
   "sideBar": true,
   "threshold": 4,
   "toc_cell": true,
   "toc_position": {
    "height": "664px",
    "left": "0px",
    "right": "1284px",
    "top": "107px",
    "width": "156px"
   },
   "toc_section_display": "block",
   "toc_window_display": true
  }
 },
 "nbformat": 4,
 "nbformat_minor": 0
}
