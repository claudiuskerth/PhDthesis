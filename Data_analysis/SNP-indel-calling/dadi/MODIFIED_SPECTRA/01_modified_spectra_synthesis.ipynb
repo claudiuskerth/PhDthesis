{
 "cells": [
  {
   "cell_type": "markdown",
   "metadata": {
    "toc": "true"
   },
   "source": [
    "# Table of Contents\n",
    " <p><div class=\"lev1 toc-item\"><a href=\"#1D-spectra\" data-toc-modified-id=\"1D-spectra-1\"><span class=\"toc-item-num\">1&nbsp;&nbsp;</span>1D spectra</a></div><div class=\"lev2 toc-item\"><a href=\"#exponential-growth-model\" data-toc-modified-id=\"exponential-growth-model-11\"><span class=\"toc-item-num\">1.1&nbsp;&nbsp;</span>exponential growth model</a></div><div class=\"lev2 toc-item\"><a href=\"#two-epoch-model\" data-toc-modified-id=\"two-epoch-model-12\"><span class=\"toc-item-num\">1.2&nbsp;&nbsp;</span>two epoch model</a></div><div class=\"lev2 toc-item\"><a href=\"#bottleneck-with-exponential-growth-model\" data-toc-modified-id=\"bottleneck-with-exponential-growth-model-13\"><span class=\"toc-item-num\">1.3&nbsp;&nbsp;</span>bottleneck with exponential growth model</a></div><div class=\"lev2 toc-item\"><a href=\"#three-epoch-model\" data-toc-modified-id=\"three-epoch-model-14\"><span class=\"toc-item-num\">1.4&nbsp;&nbsp;</span>three epoch model</a></div><div class=\"lev2 toc-item\"><a href=\"#Conclusion\" data-toc-modified-id=\"Conclusion-15\"><span class=\"toc-item-num\">1.5&nbsp;&nbsp;</span>Conclusion</a></div><div class=\"lev1 toc-item\"><a href=\"#2D-spectra\" data-toc-modified-id=\"2D-spectra-2\"><span class=\"toc-item-num\">2&nbsp;&nbsp;</span>2D spectra</a></div><div class=\"lev2 toc-item\"><a href=\"#simple-divergence-model\" data-toc-modified-id=\"simple-divergence-model-21\"><span class=\"toc-item-num\">2.1&nbsp;&nbsp;</span>simple divergence model</a></div><div class=\"lev3 toc-item\"><a href=\"#Interpretation\" data-toc-modified-id=\"Interpretation-211\"><span class=\"toc-item-num\">2.1.1&nbsp;&nbsp;</span>Interpretation</a></div><div class=\"lev2 toc-item\"><a href=\"#divergence-with-migration\" data-toc-modified-id=\"divergence-with-migration-22\"><span class=\"toc-item-num\">2.2&nbsp;&nbsp;</span>divergence with migration</a></div><div class=\"lev3 toc-item\"><a href=\"#Interpretation\" data-toc-modified-id=\"Interpretation-221\"><span class=\"toc-item-num\">2.2.1&nbsp;&nbsp;</span>Interpretation</a></div><div class=\"lev2 toc-item\"><a href=\"#Influence-of-the-degree-of-correction\" data-toc-modified-id=\"Influence-of-the-degree-of-correction-23\"><span class=\"toc-item-num\">2.3&nbsp;&nbsp;</span>Influence of the degree of correction</a></div><div class=\"lev2 toc-item\"><a href=\"#divergence-with-asymmetric-migration\" data-toc-modified-id=\"divergence-with-asymmetric-migration-24\"><span class=\"toc-item-num\">2.4&nbsp;&nbsp;</span>divergence with asymmetric migration</a></div><div class=\"lev3 toc-item\"><a href=\"#Interpretation\" data-toc-modified-id=\"Interpretation-241\"><span class=\"toc-item-num\">2.4.1&nbsp;&nbsp;</span>Interpretation</a></div><div class=\"lev2 toc-item\"><a href=\"#Exponential-size-change\" data-toc-modified-id=\"Exponential-size-change-25\"><span class=\"toc-item-num\">2.5&nbsp;&nbsp;</span>Exponential size change</a></div><div class=\"lev2 toc-item\"><a href=\"#Linear-size-change\" data-toc-modified-id=\"Linear-size-change-26\"><span class=\"toc-item-num\">2.6&nbsp;&nbsp;</span>Linear size change</a></div><div class=\"lev2 toc-item\"><a href=\"#Ancient-migration\" data-toc-modified-id=\"Ancient-migration-27\"><span class=\"toc-item-num\">2.7&nbsp;&nbsp;</span>Ancient migration</a></div><div class=\"lev3 toc-item\"><a href=\"#Interpretation\" data-toc-modified-id=\"Interpretation-271\"><span class=\"toc-item-num\">2.7.1&nbsp;&nbsp;</span>Interpretation</a></div><div class=\"lev2 toc-item\"><a href=\"#recent-restart-of-gene-flow\" data-toc-modified-id=\"recent-restart-of-gene-flow-28\"><span class=\"toc-item-num\">2.8&nbsp;&nbsp;</span>recent restart of gene flow</a></div><div class=\"lev1 toc-item\"><a href=\"#ancestral-population-size-change\" data-toc-modified-id=\"ancestral-population-size-change-3\"><span class=\"toc-item-num\">3&nbsp;&nbsp;</span>ancestral population size change</a></div><div class=\"lev2 toc-item\"><a href=\"#Conclusion\" data-toc-modified-id=\"Conclusion-31\"><span class=\"toc-item-num\">3.1&nbsp;&nbsp;</span>Conclusion</a></div>"
   ]
  },
  {
   "cell_type": "markdown",
   "metadata": {},
   "source": [
    "Here I am going to summarise, compare and interpret the results of the dadi analysis of spectra modified with Ludovic's correction (see [02_modified_2D_models](02_modified_2D_models.ipynb) for details). For the implementation of Ludovic's correction see [Ludovics_correction](../Ludovics_correction.ipynb)."
   ]
  },
  {
   "cell_type": "code",
   "execution_count": 1,
   "metadata": {
    "collapsed": false
   },
   "outputs": [
    {
     "name": "stdout",
     "output_type": "stream",
     "text": [
      "error in importing Two Locus modules\n"
     ]
    }
   ],
   "source": [
    "import numpy as np\n",
    "\n",
    "import sys\n",
    "\n",
    "sys.path.insert(0, '/home/claudius/Downloads/dadi')\n",
    "\n",
    "import dadi"
   ]
  },
  {
   "cell_type": "code",
   "execution_count": 2,
   "metadata": {
    "collapsed": true
   },
   "outputs": [],
   "source": [
    "from glob import glob\n",
    "import dill\n",
    "from utility_functions import *\n",
    "import pandas as pd\n",
    "# turn on floating point division by default, old behaviour via '//'\n",
    "from __future__ import division"
   ]
  },
  {
   "cell_type": "code",
   "execution_count": 3,
   "metadata": {
    "collapsed": true
   },
   "outputs": [],
   "source": [
    "%matplotlib inline\n",
    "\n",
    "import pylab\n",
    "\n",
    "pylab.rcParams['figure.figsize'] = [12, 10]\n",
    "pylab.rcParams['font.size'] = 14"
   ]
  },
  {
   "cell_type": "markdown",
   "metadata": {},
   "source": [
    "# 1D spectra"
   ]
  },
  {
   "cell_type": "code",
   "execution_count": 5,
   "metadata": {
    "collapsed": true
   },
   "outputs": [],
   "source": [
    "# load modified spectra, Ludovic's correction applied\n",
    "\n",
    "fs_ery = dadi.Spectrum.from_file(\"ERY_modified.sfs\")\n",
    "fs_par = dadi.Spectrum.from_file(\"PAR_modified.sfs\")"
   ]
  },
  {
   "cell_type": "code",
   "execution_count": 10,
   "metadata": {
    "collapsed": true
   },
   "outputs": [],
   "source": [
    "# get standard neutral model spectra\n",
    "\n",
    "# make the extrapolating version of the standard neutral model function\n",
    "func_ex = dadi.Numerics.make_extrap_log_func(dadi.Demographics1D.snm)\n",
    "\n",
    "# setting the smallest grid size slightly larger than the largest population sample size\n",
    "pts_l = [40, 50, 60]\n",
    "\n",
    "ns = fs_ery.sample_sizes\n",
    "\n",
    "# calculate unfolded AFS under standard neutral model (up to a scaling factor theta)\n",
    "snm = func_ex(0, ns, pts_l)\n",
    "snm = snm.fold()\n",
    "\n",
    "# scaled snm spectrum for ERY\n",
    "snm_ery = dadi.Inference.optimally_scaled_sfs(snm, fs_ery)\n",
    "\n",
    "# scaled snm spectrum for PAR\n",
    "snm_par = dadi.Inference.optimally_scaled_sfs(snm, fs_par)"
   ]
  },
  {
   "cell_type": "code",
   "execution_count": 13,
   "metadata": {
    "collapsed": false
   },
   "outputs": [
    {
     "data": {
      "text/plain": [
       "Spectrum([-- -15.784563244740639 -8.130252378916339 -5.586293220548669\n",
       " -4.321878582355566 -3.569955408153419 -3.0748523765969367\n",
       " -2.7270560084593853 -2.4718764627366454 -2.2790023270642905\n",
       " -2.1303242045294155 -2.014402169029154 -1.923703092341384\n",
       " -1.8531174166569144 -1.7991156808357118 -1.7592478027395373\n",
       " -1.7318383466545129 -1.7157996305306824 -0.8552596470958633 -- -- -- -- --\n",
       " -- -- -- -- -- -- -- -- -- -- -- -- --], folded=True, pop_ids=None)"
      ]
     },
     "execution_count": 13,
     "metadata": {},
     "output_type": "execute_result"
    }
   ],
   "source": [
    "snm_ery - snm_par"
   ]
  },
  {
   "cell_type": "markdown",
   "metadata": {},
   "source": [
    "The scaling of the neutral model spectrum towards the ery or par spectrum is almost identical."
   ]
  },
  {
   "cell_type": "code",
   "execution_count": 16,
   "metadata": {
    "collapsed": false
   },
   "outputs": [
    {
     "data": {
      "text/plain": [
       "<matplotlib.text.Text at 0x7f0b1a23c790>"
      ]
     },
     "execution_count": 16,
     "metadata": {},
     "output_type": "execute_result"
    },
    {
     "data": {
      "image/png": "[encoded data removed]",
      "text/plain": [
       "<matplotlib.figure.Figure at 0x7f0b1a553a10>"
      ]
     },
     "metadata": {},
     "output_type": "display_data"
    }
   ],
   "source": [
    "pylab.plot(snm_ery, 'bs-', label=\"snm\")\n",
    "pylab.plot(fs_ery, 'ro-', label=\"ery\", linewidth=2.0, markersize=10)\n",
    "pylab.plot(fs_par, 'g^-', label=\"par\", linewidth=2.0, markersize=10)\n",
    "\n",
    "pylab.grid()\n",
    "pylab.legend()\n",
    "pylab.xlabel(\"minor allele frequency\")\n",
    "pylab.ylabel(\"number of SNP's\")\n",
    "pylab.title(\"corrected spectra\")"
   ]
  },
  {
   "cell_type": "markdown",
   "metadata": {},
   "source": [
    "The PAR spectrum was corrected with a $p$ of 0.36 and the ERY spectrum with a $p$ of 0.34, the optimal values of $p$ for each spectrum."
   ]
  },
  {
   "cell_type": "markdown",
   "metadata": {},
   "source": [
    "## exponential growth model"
   ]
  },
  {
   "cell_type": "markdown",
   "metadata": {},
   "source": [
    "For ERY as well as for PAR the time parameter is hitting the upper parameter boundary (8) with the corrected spectrum. With uncorrected spectrum, optimisation was successful for ERY but not for PAR, because of lack of convergence."
   ]
  },
  {
   "cell_type": "markdown",
   "metadata": {},
   "source": [
    "## two epoch model"
   ]
  },
  {
   "cell_type": "markdown",
   "metadata": {},
   "source": [
    "The two epoch model could not be fit to the ERY nor the PAR spectrum with Ludovic's correction applied due hitting of upper boundary on the time parameter (8). A 2-epoch model could also not be fit to the ERY nor PAR with the uncorrected spectra due to hitting the lower and upper boundary on the time parameter, respectively."
   ]
  },
  {
   "cell_type": "markdown",
   "metadata": {},
   "source": [
    "## bottleneck with exponential growth model"
   ]
  },
  {
   "cell_type": "markdown",
   "metadata": {},
   "source": [
    "With the uncorrected spectra, the optimal parameter values for ERY suggested an ancient population size of >21 million, which is unrealistic. For PAR the optimisation did not converge."
   ]
  },
  {
   "cell_type": "markdown",
   "metadata": {},
   "source": [
    "With the corrected spectra, the optimal parameter values imply an effective population size of >14 million for erythropus (before decline). I think such a high effective population size is unrealistic. The fitting to the corrected spectrum of PAR even estimated an initial increase to 36 million. Such high effective population sizes are obviously unrealistic. I must therefore regard the fitting of this model to the corrected spectra as failed."
   ]
  },
  {
   "cell_type": "markdown",
   "metadata": {},
   "source": [
    "## three epoch model"
   ]
  },
  {
   "cell_type": "markdown",
   "metadata": {},
   "source": [
    "With the corrected spectrum for ERY, this model unambiguously (i. e. in all optimisation runs) infers a long time with around 10-fold increased population size followed by a stepwise decrease to almost the size of the ancient population. The inference from the uncorrected spectrum ranged from a 186-fold increase to a reduction to 1/3 of the ancient population size."
   ]
  },
  {
   "cell_type": "markdown",
   "metadata": {},
   "source": [
    "Similar to the ERY spectrum, the inference from the corrected PAR spectrum showed a consistent population size increase (ranging from 38-fold to a ridiculous 7772-fold). This was followed by a very recent radical reduction in population size to only a fraction of the ancient size."
   ]
  },
  {
   "cell_type": "markdown",
   "metadata": {},
   "source": [
    "## Conclusion"
   ]
  },
  {
   "cell_type": "markdown",
   "metadata": {},
   "source": [
    "So, except for the consistent inference of an ancient population size increase (stronger in parallelus), the inference from corrected spectra is qualitatively quite similar and not more conclusive than the inference from the uncorrected spectra."
   ]
  },
  {
   "cell_type": "markdown",
   "metadata": {},
   "source": [
    "# 2D spectra"
   ]
  },
  {
   "cell_type": "code",
   "execution_count": 17,
   "metadata": {
    "collapsed": true
   },
   "outputs": [],
   "source": [
    "# load spectrum modified with Ludovic's correction, p=35\n",
    "\n",
    "sfs2d = dadi.Spectrum.from_file(\"EryPar_modified.2dsfs\")"
   ]
  },
  {
   "cell_type": "code",
   "execution_count": 18,
   "metadata": {
    "collapsed": false
   },
   "outputs": [
    {
     "data": {
      "text/plain": [
       "<matplotlib.colorbar.Colorbar at 0x7f0b1a0ad510>"
      ]
     },
     "execution_count": 18,
     "metadata": {},
     "output_type": "execute_result"
    },
    {
     "data": {
      "image/png": "[encoded data removed]",
      "text/plain": [
       "<matplotlib.figure.Figure at 0x7f0b1a4b5950>"
      ]
     },
     "metadata": {},
     "output_type": "display_data"
    }
   ],
   "source": [
    "dadi.Plotting.plot_single_2d_sfs(sfs2d, vmin=1, cmap=pylab.cm.jet)"
   ]
  },
  {
   "cell_type": "markdown",
   "metadata": {},
   "source": [
    "The 2D SFS was corrected with a $p$ of 0.35, the optimal $p$ when fit to simple divergence in isolation model with parameters $\\nu_1=1$, $\\nu_2=1$ and $T=1$."
   ]
  },
  {
   "cell_type": "code",
   "execution_count": 19,
   "metadata": {
    "collapsed": false
   },
   "outputs": [
    {
     "data": {
      "text/plain": [
       "60573.584426000001"
      ]
     },
     "execution_count": 19,
     "metadata": {},
     "output_type": "execute_result"
    }
   ],
   "source": [
    "# number of SNP's in the spectrum\n",
    "sfs2d.S()"
   ]
  },
  {
   "cell_type": "code",
   "execution_count": 27,
   "metadata": {
    "collapsed": true
   },
   "outputs": [],
   "source": [
    "ns = sfs2d.sample_sizes # both populations have the same sample size\n",
    "# setting the smallest grid size slightly larger than the largest population sample size (36)\n",
    "pts_l = [40, 50, 60]"
   ]
  },
  {
   "cell_type": "markdown",
   "metadata": {
    "collapsed": true
   },
   "source": [
    "## simple divergence model"
   ]
  },
  {
   "cell_type": "code",
   "execution_count": 21,
   "metadata": {
    "collapsed": true
   },
   "outputs": [],
   "source": [
    "def split_nomig(params, ns, pts):\n",
    "    \"\"\"\n",
    "    params = (nu1,nu2,T)\n",
    "    ns = (n1,n2)\n",
    "\n",
    "    Split into two populations of specifed size, no migration.\n",
    "\n",
    "    nu1: Size ratio of population 1 after split (with respect to ancestral population size Na)\n",
    "    nu2: Size ratio of population 2 after split (with respect to ancestral population size Na)\n",
    "    T: Time in the past of split (in units of 2*Na generations) \n",
    "    n1,n2: Sample sizes of resulting Spectrum\n",
    "    pts: Number of grid points to use in integration.\n",
    "    \"\"\"\n",
    "    nu1,nu2,T = params\n",
    "\n",
    "    xx = dadi.Numerics.default_grid(pts)\n",
    "\n",
    "    phi = dadi.PhiManip.phi_1D(xx)\n",
    "    phi = dadi.PhiManip.phi_1D_to_2D(xx, phi)\n",
    "\n",
    "    phi = dadi.Integration.two_pops(phi, xx, T, nu1, nu2, m12=0, m21=0)\n",
    "\n",
    "    fs = dadi.Spectrum.from_phi(phi, ns, (xx,xx))\n",
    "    return fs"
   ]
  },
  {
   "cell_type": "code",
   "execution_count": 23,
   "metadata": {
    "collapsed": true
   },
   "outputs": [],
   "source": [
    "ar_split_nomig = []\n",
    "\n",
    "for filename in glob(\"OUT_2D_models/split_nomig_[!p]*dill\"):\n",
    "    ar_split_nomig.append(dill.load(open(filename)))"
   ]
  },
  {
   "cell_type": "code",
   "execution_count": 24,
   "metadata": {
    "collapsed": false
   },
   "outputs": [
    {
     "data": {
      "text/html": [
       "<div>\n",
       "<table border=\"1\" class=\"dataframe\">\n",
       "  <thead>\n",
       "    <tr style=\"text-align: right;\">\n",
       "      <th></th>\n",
       "      <th>nu1_0</th>\n",
       "      <th>nu2_0</th>\n",
       "      <th>T_0</th>\n",
       "      <th>nu1_opt</th>\n",
       "      <th>nu2_opt</th>\n",
       "      <th>T_opt</th>\n",
       "      <th>-logL</th>\n",
       "    </tr>\n",
       "  </thead>\n",
       "  <tbody>\n",
       "    <tr>\n",
       "      <th>2</th>\n",
       "      <td>0.130396</td>\n",
       "      <td>0.685058</td>\n",
       "      <td>0.060110</td>\n",
       "      <td>0.762412</td>\n",
       "      <td>1.526605</td>\n",
       "      <td>0.301939</td>\n",
       "      <td>15791.588420</td>\n",
       "    </tr>\n",
       "    <tr>\n",
       "      <th>0</th>\n",
       "      <td>0.153522</td>\n",
       "      <td>0.215024</td>\n",
       "      <td>0.125826</td>\n",
       "      <td>0.760217</td>\n",
       "      <td>1.528322</td>\n",
       "      <td>0.302361</td>\n",
       "      <td>15791.696999</td>\n",
       "    </tr>\n",
       "    <tr>\n",
       "      <th>6</th>\n",
       "      <td>0.225985</td>\n",
       "      <td>0.490219</td>\n",
       "      <td>0.061947</td>\n",
       "      <td>0.760194</td>\n",
       "      <td>1.528215</td>\n",
       "      <td>0.302337</td>\n",
       "      <td>15791.697000</td>\n",
       "    </tr>\n",
       "    <tr>\n",
       "      <th>4</th>\n",
       "      <td>0.571756</td>\n",
       "      <td>1.202900</td>\n",
       "      <td>0.071081</td>\n",
       "      <td>0.760168</td>\n",
       "      <td>1.528309</td>\n",
       "      <td>0.302349</td>\n",
       "      <td>15791.697001</td>\n",
       "    </tr>\n",
       "    <tr>\n",
       "      <th>3</th>\n",
       "      <td>0.245443</td>\n",
       "      <td>0.148331</td>\n",
       "      <td>0.352726</td>\n",
       "      <td>0.760211</td>\n",
       "      <td>1.528331</td>\n",
       "      <td>0.302349</td>\n",
       "      <td>15791.697001</td>\n",
       "    </tr>\n",
       "    <tr>\n",
       "      <th>9</th>\n",
       "      <td>0.160553</td>\n",
       "      <td>0.551626</td>\n",
       "      <td>0.183081</td>\n",
       "      <td>0.760241</td>\n",
       "      <td>1.528333</td>\n",
       "      <td>0.302361</td>\n",
       "      <td>15791.697002</td>\n",
       "    </tr>\n",
       "    <tr>\n",
       "      <th>7</th>\n",
       "      <td>1.407268</td>\n",
       "      <td>0.202361</td>\n",
       "      <td>0.026992</td>\n",
       "      <td>0.760152</td>\n",
       "      <td>1.528101</td>\n",
       "      <td>0.302327</td>\n",
       "      <td>15791.697029</td>\n",
       "    </tr>\n",
       "    <tr>\n",
       "      <th>1</th>\n",
       "      <td>0.764874</td>\n",
       "      <td>1.141367</td>\n",
       "      <td>0.114088</td>\n",
       "      <td>0.760070</td>\n",
       "      <td>1.528050</td>\n",
       "      <td>0.302322</td>\n",
       "      <td>15791.697101</td>\n",
       "    </tr>\n",
       "    <tr>\n",
       "      <th>8</th>\n",
       "      <td>1.352339</td>\n",
       "      <td>0.270908</td>\n",
       "      <td>0.036199</td>\n",
       "      <td>0.760387</td>\n",
       "      <td>1.528244</td>\n",
       "      <td>0.302390</td>\n",
       "      <td>15791.697213</td>\n",
       "    </tr>\n",
       "    <tr>\n",
       "      <th>5</th>\n",
       "      <td>1.227281</td>\n",
       "      <td>0.734266</td>\n",
       "      <td>0.039261</td>\n",
       "      <td>0.767487</td>\n",
       "      <td>1.537413</td>\n",
       "      <td>0.303948</td>\n",
       "      <td>15791.771200</td>\n",
       "    </tr>\n",
       "  </tbody>\n",
       "</table>\n",
       "</div>"
      ],
      "text/plain": [
       "      nu1_0     nu2_0       T_0   nu1_opt   nu2_opt     T_opt         -logL\n",
       "2  0.130396  0.685058  0.060110  0.762412  1.526605  0.301939  15791.588420\n",
       "0  0.153522  0.215024  0.125826  0.760217  1.528322  0.302361  15791.696999\n",
       "6  0.225985  0.490219  0.061947  0.760194  1.528215  0.302337  15791.697000\n",
       "4  0.571756  1.202900  0.071081  0.760168  1.528309  0.302349  15791.697001\n",
       "3  0.245443  0.148331  0.352726  0.760211  1.528331  0.302349  15791.697001\n",
       "9  0.160553  0.551626  0.183081  0.760241  1.528333  0.302361  15791.697002\n",
       "7  1.407268  0.202361  0.026992  0.760152  1.528101  0.302327  15791.697029\n",
       "1  0.764874  1.141367  0.114088  0.760070  1.528050  0.302322  15791.697101\n",
       "8  1.352339  0.270908  0.036199  0.760387  1.528244  0.302390  15791.697213\n",
       "5  1.227281  0.734266  0.039261  0.767487  1.537413  0.303948  15791.771200"
      ]
     },
     "execution_count": 24,
     "metadata": {},
     "output_type": "execute_result"
    }
   ],
   "source": [
    "returned = [flatten(out)[:7] for out in ar_split_nomig]\n",
    "\n",
    "df = pd.DataFrame(data=returned, \\\n",
    "                  columns=['nu1_0','nu2_0', 'T_0', 'nu1_opt', 'nu2_opt', 'T_opt', '-logL'])\n",
    "\n",
    "df.sort_values(by='-logL', ascending=True)"
   ]
  },
  {
   "cell_type": "markdown",
   "metadata": {},
   "source": [
    "This is how convergence looks like."
   ]
  },
  {
   "cell_type": "markdown",
   "metadata": {},
   "source": [
    "### Interpretation"
   ]
  },
  {
   "cell_type": "code",
   "execution_count": 28,
   "metadata": {
    "collapsed": false
   },
   "outputs": [
    {
     "name": "stdout",
     "output_type": "stream",
     "text": [
      "The optimal value of theta per site for the ancestral population is 0.0076.\n"
     ]
    }
   ],
   "source": [
    "# get best-fit parameter combination\n",
    "popt = np.array(df.sort_values(by='-logL', ascending=True).iloc[0, 3:6])\n",
    "\n",
    "# create extrapolating version of the model function\n",
    "func_ex = dadi.Numerics.make_extrap_log_func(split_nomig)\n",
    "\n",
    "# get unscaled, best-fit model spectrum\n",
    "model = func_ex(popt, ns, pts_l)\n",
    "\n",
    "# get logL of best-fit model\n",
    "ll_model = dadi.Inference.ll_multinom(model, sfs2d)\n",
    "\n",
    "# get theta\n",
    "theta = dadi.Inference.optimal_sfs_scaling(model, sfs2d)\n",
    "\n",
    "# get total sequence length in spectrum\n",
    "L = sfs2d.data.sum()\n",
    "\n",
    "# get theta per site\n",
    "print \"The optimal value of theta per site for the ancestral population is {0:.4f}.\".format(theta/L)"
   ]
  },
  {
   "cell_type": "code",
   "execution_count": 29,
   "metadata": {
    "collapsed": false
   },
   "outputs": [
    {
     "name": "stdout",
     "output_type": "stream",
     "text": [
      "The effective size of the ancestral population of ERY and PAR (in number of diploid individuals) implied by this theta is:\n",
      " 631,166.\n"
     ]
    }
   ],
   "source": [
    "mu = 3e-9 # assumed per generation per site mutation rate\n",
    "\n",
    "# get ancestral population size\n",
    "N_ref = theta/L/mu/4\n",
    "\n",
    "print \"The effective size of the ancestral population of ERY and PAR (in number of diploid individuals) implied by this theta is:\\n {0:,}.\".format(int(N_ref))"
   ]
  },
  {
   "cell_type": "code",
   "execution_count": 32,
   "metadata": {
    "collapsed": false
   },
   "outputs": [
    {
     "name": "stdout",
     "output_type": "stream",
     "text": [
      "The ancestral population of ERY and PAR split apart 381,147 generations ago. Since then until present the ERY population had a constant size of 481,209 and the PAR population of 963,542.\n"
     ]
    }
   ],
   "source": [
    "print \"The ancestral population of ERY and PAR split apart {0:,} generations ago.\".format(int(popt[2]*2*N_ref)),\n",
    "print \"Since then until present the ERY population had a constant size of {0:,} and the PAR population of {1:,}.\".format(int(popt[0]*N_ref), int(popt[1]*N_ref))"
   ]
  },
  {
   "cell_type": "markdown",
   "metadata": {},
   "source": [
    "The following table compares the best-fit parameter values from the uncorrected and corrected spectrum:\n",
    "\n",
    "| parameter | uncorrected | corrected |\n",
    "| :-------: | ----------- | --------- |\n",
    "| $N_a$     |  688,875    | 631,166   |\n",
    "| $\\nu_1$   |  438,776    | 481,209   |\n",
    "| $\\nu_2$   |  847,045    | 963,542   |\n",
    "| T         |  400,188    | 381,147   |\n",
    "| -logL     |  20387      | 15791     |\n",
    "\n",
    "The values are translated to absolute units, i. e. $\\nu_x$ in _individuals_ and T in _generations_."
   ]
  },
  {
   "cell_type": "code",
   "execution_count": 33,
   "metadata": {
    "collapsed": false
   },
   "outputs": [
    {
     "data": {
      "image/png": "[encoded data removed]",
      "text/plain": [
       "<matplotlib.figure.Figure at 0x7f0b19f88610>"
      ]
     },
     "metadata": {},
     "output_type": "display_data"
    }
   ],
   "source": [
    "dadi.Plotting.plot_2d_comp_multinom(model, sfs2d, vmin=1)"
   ]
  },
  {
   "cell_type": "markdown",
   "metadata": {},
   "source": [
    "The best-fit model spectrum predicts far fewer SNP's with frequency [1,1] than the observed (corrected) spectrum."
   ]
  },
  {
   "cell_type": "markdown",
   "metadata": {},
   "source": [
    "## divergence with migration"
   ]
  },
  {
   "cell_type": "markdown",
   "metadata": {},
   "source": [
    "This model adds symmetrical migration."
   ]
  },
  {
   "cell_type": "code",
   "execution_count": 36,
   "metadata": {
    "collapsed": true
   },
   "outputs": [],
   "source": [
    "ar_split_mig = []\n",
    "\n",
    "for filename in glob(\"OUT_2D_models/split_mig_[0-9]*dill\"):\n",
    "    ar_split_mig.append(dill.load(open(filename)))"
   ]
  },
  {
   "cell_type": "code",
   "execution_count": 37,
   "metadata": {
    "collapsed": false
   },
   "outputs": [
    {
     "data": {
      "text/html": [
       "<div>\n",
       "<table border=\"1\" class=\"dataframe\">\n",
       "  <thead>\n",
       "    <tr style=\"text-align: right;\">\n",
       "      <th></th>\n",
       "      <th>nu1_0</th>\n",
       "      <th>nu2_0</th>\n",
       "      <th>T_0</th>\n",
       "      <th>m_0</th>\n",
       "      <th>nu1_opt</th>\n",
       "      <th>nu2_opt</th>\n",
       "      <th>T_opt</th>\n",
       "      <th>m_opt</th>\n",
       "      <th>-logL</th>\n",
       "    </tr>\n",
       "  </thead>\n",
       "  <tbody>\n",
       "    <tr>\n",
       "      <th>12</th>\n",
       "      <td>0.410126</td>\n",
       "      <td>0.976289</td>\n",
       "      <td>1.980000</td>\n",
       "      <td>0.138307</td>\n",
       "      <td>1.584756</td>\n",
       "      <td>2.862212</td>\n",
       "      <td>1.726329</td>\n",
       "      <td>0.210858</td>\n",
       "      <td>12809.710148</td>\n",
       "    </tr>\n",
       "    <tr>\n",
       "      <th>6</th>\n",
       "      <td>1.037985</td>\n",
       "      <td>3.751629</td>\n",
       "      <td>1.980000</td>\n",
       "      <td>0.057275</td>\n",
       "      <td>1.587910</td>\n",
       "      <td>2.867287</td>\n",
       "      <td>1.730633</td>\n",
       "      <td>0.210333</td>\n",
       "      <td>12809.711143</td>\n",
       "    </tr>\n",
       "    <tr>\n",
       "      <th>9</th>\n",
       "      <td>0.792582</td>\n",
       "      <td>1.502558</td>\n",
       "      <td>0.457088</td>\n",
       "      <td>0.205240</td>\n",
       "      <td>1.589701</td>\n",
       "      <td>2.870222</td>\n",
       "      <td>1.735177</td>\n",
       "      <td>0.210359</td>\n",
       "      <td>12809.715071</td>\n",
       "    </tr>\n",
       "    <tr>\n",
       "      <th>8</th>\n",
       "      <td>1.883348</td>\n",
       "      <td>2.585737</td>\n",
       "      <td>0.476910</td>\n",
       "      <td>0.070592</td>\n",
       "      <td>1.589471</td>\n",
       "      <td>2.871227</td>\n",
       "      <td>1.734395</td>\n",
       "      <td>0.210454</td>\n",
       "      <td>12809.719004</td>\n",
       "    </tr>\n",
       "    <tr>\n",
       "      <th>7</th>\n",
       "      <td>3.120532</td>\n",
       "      <td>2.216834</td>\n",
       "      <td>0.878223</td>\n",
       "      <td>0.336300</td>\n",
       "      <td>1.588236</td>\n",
       "      <td>2.871408</td>\n",
       "      <td>1.734567</td>\n",
       "      <td>0.210433</td>\n",
       "      <td>12809.720773</td>\n",
       "    </tr>\n",
       "    <tr>\n",
       "      <th>3</th>\n",
       "      <td>5.342499</td>\n",
       "      <td>1.206116</td>\n",
       "      <td>1.609641</td>\n",
       "      <td>0.126021</td>\n",
       "      <td>1.574618</td>\n",
       "      <td>2.844696</td>\n",
       "      <td>1.705099</td>\n",
       "      <td>0.211724</td>\n",
       "      <td>12809.729668</td>\n",
       "    </tr>\n",
       "    <tr>\n",
       "      <th>16</th>\n",
       "      <td>0.381319</td>\n",
       "      <td>7.766225</td>\n",
       "      <td>1.980000</td>\n",
       "      <td>0.658405</td>\n",
       "      <td>1.589798</td>\n",
       "      <td>2.869340</td>\n",
       "      <td>1.732618</td>\n",
       "      <td>0.210669</td>\n",
       "      <td>12809.734974</td>\n",
       "    </tr>\n",
       "    <tr>\n",
       "      <th>13</th>\n",
       "      <td>0.730603</td>\n",
       "      <td>6.809501</td>\n",
       "      <td>1.301306</td>\n",
       "      <td>0.416379</td>\n",
       "      <td>1.571368</td>\n",
       "      <td>2.838305</td>\n",
       "      <td>1.701136</td>\n",
       "      <td>0.212217</td>\n",
       "      <td>12809.738733</td>\n",
       "    </tr>\n",
       "    <tr>\n",
       "      <th>15</th>\n",
       "      <td>0.614214</td>\n",
       "      <td>1.217983</td>\n",
       "      <td>0.220814</td>\n",
       "      <td>0.192430</td>\n",
       "      <td>1.572018</td>\n",
       "      <td>2.838641</td>\n",
       "      <td>1.703611</td>\n",
       "      <td>0.211194</td>\n",
       "      <td>12809.910434</td>\n",
       "    </tr>\n",
       "    <tr>\n",
       "      <th>14</th>\n",
       "      <td>0.412119</td>\n",
       "      <td>5.644039</td>\n",
       "      <td>1.980000</td>\n",
       "      <td>0.080137</td>\n",
       "      <td>1.525121</td>\n",
       "      <td>2.763772</td>\n",
       "      <td>1.619169</td>\n",
       "      <td>0.216784</td>\n",
       "      <td>12810.362825</td>\n",
       "    </tr>\n",
       "  </tbody>\n",
       "</table>\n",
       "</div>"
      ],
      "text/plain": [
       "       nu1_0     nu2_0       T_0       m_0   nu1_opt   nu2_opt     T_opt  \\\n",
       "12  0.410126  0.976289  1.980000  0.138307  1.584756  2.862212  1.726329   \n",
       "6   1.037985  3.751629  1.980000  0.057275  1.587910  2.867287  1.730633   \n",
       "9   0.792582  1.502558  0.457088  0.205240  1.589701  2.870222  1.735177   \n",
       "8   1.883348  2.585737  0.476910  0.070592  1.589471  2.871227  1.734395   \n",
       "7   3.120532  2.216834  0.878223  0.336300  1.588236  2.871408  1.734567   \n",
       "3   5.342499  1.206116  1.609641  0.126021  1.574618  2.844696  1.705099   \n",
       "16  0.381319  7.766225  1.980000  0.658405  1.589798  2.869340  1.732618   \n",
       "13  0.730603  6.809501  1.301306  0.416379  1.571368  2.838305  1.701136   \n",
       "15  0.614214  1.217983  0.220814  0.192430  1.572018  2.838641  1.703611   \n",
       "14  0.412119  5.644039  1.980000  0.080137  1.525121  2.763772  1.619169   \n",
       "\n",
       "       m_opt         -logL  \n",
       "12  0.210858  12809.710148  \n",
       "6   0.210333  12809.711143  \n",
       "9   0.210359  12809.715071  \n",
       "8   0.210454  12809.719004  \n",
       "7   0.210433  12809.720773  \n",
       "3   0.211724  12809.729668  \n",
       "16  0.210669  12809.734974  \n",
       "13  0.212217  12809.738733  \n",
       "15  0.211194  12809.910434  \n",
       "14  0.216784  12810.362825  "
      ]
     },
     "execution_count": 37,
     "metadata": {},
     "output_type": "execute_result"
    }
   ],
   "source": [
    "# get all optimisations\n",
    "returned = [flatten(out)[:9] for out in ar_split_mig]\n",
    "\n",
    "df = pd.DataFrame(data=returned, \\\n",
    "                  columns=['nu1_0','nu2_0', 'T_0', 'm_0', 'nu1_opt', 'nu2_opt', 'T_opt', 'm_opt', '-logL'])\n",
    "\n",
    "df.sort_values(by='-logL', ascending=True).head(10)"
   ]
  },
  {
   "cell_type": "markdown",
   "metadata": {},
   "source": [
    "This is very good convergence."
   ]
  },
  {
   "cell_type": "markdown",
   "metadata": {},
   "source": [
    "### Interpretation"
   ]
  },
  {
   "cell_type": "code",
   "execution_count": 38,
   "metadata": {
    "collapsed": false
   },
   "outputs": [
    {
     "name": "stdout",
     "output_type": "stream",
     "text": [
      "The optimal value of theta per site for the ancestral population is 0.0037.\n"
     ]
    }
   ],
   "source": [
    "func_ex = dadi.Numerics.make_extrap_log_func(dadi.Demographics2D.split_mig)\n",
    "\n",
    "popt = np.array(df.sort_values(by='-logL', ascending=True).iloc[0, 4:8])\n",
    "\n",
    "# get unscaled, best-fit model spectrum\n",
    "model = func_ex(popt, ns, pts_l)\n",
    "\n",
    "# get theta\n",
    "theta = dadi.Inference.optimal_sfs_scaling(model, sfs2d)\n",
    "\n",
    "# get total sequence length in spectrum\n",
    "L = sfs2d.data.sum()\n",
    "\n",
    "# get theta per site\n",
    "print \"The optimal value of theta per site for the ancestral population is {0:.4f}.\".format(theta/L)"
   ]
  },
  {
   "cell_type": "code",
   "execution_count": 39,
   "metadata": {
    "collapsed": false
   },
   "outputs": [
    {
     "name": "stdout",
     "output_type": "stream",
     "text": [
      "The effective size of the ancestral population of ery and par (in number of diploid individuals) implied by this theta is:\n",
      " 308,029.\n"
     ]
    }
   ],
   "source": [
    "mu = 3e-9 # assumed per generation per site mutation rate\n",
    "N_ref = theta/L/mu/4\n",
    "print \"The effective size of the ancestral population of ery and par (in number of diploid individuals) implied by this theta is:\\n {0:,}.\".format(int(N_ref))"
   ]
  },
  {
   "cell_type": "code",
   "execution_count": 40,
   "metadata": {
    "collapsed": true
   },
   "outputs": [],
   "source": [
    "nu1, nu2, T, m = popt"
   ]
  },
  {
   "cell_type": "code",
   "execution_count": 41,
   "metadata": {
    "collapsed": false
   },
   "outputs": [
    {
     "name": "stdout",
     "output_type": "stream",
     "text": [
      "The ancestral population split apart 1,063,520 generation ago. Since then, ERY and PAR had a constant population size of 488,151 and 881,645, respectively. Since the split, a fraction of 2.16e-07 of the population size of ERY were made up each generation of new immigrant individuals from PAR and a fraction of 1.20e-07 of the population size of PAR were made up each generation of new immigtant individuals of ERY.\n",
      "Put another way: Since the split ERY received a constant number of 0.33 new immigrant alleles per generation, while PAR received a constant number of 0.60 per generation.\n"
     ]
    }
   ],
   "source": [
    "print \"The ancestral population split apart {0:,} generation ago.\".format(int(T*2*N_ref)), \n",
    "print \"Since then, ERY and PAR had a constant population size of {0:,} and {1:,}, respectively.\".format(int(popt[0]*N_ref), int(popt[1]*N_ref)), \n",
    "print \"Since the split, a fraction of {0:.2e} of the population size of ERY were made up each generation of new immigrant individuals from PAR\".format(m/2/N_ref/nu1),\n",
    "print \"and a fraction of {0:.2e} of the population size of PAR were made up each generation of new immigtant individuals of ERY.\".format(m/2/N_ref/nu2)\n",
    "print \"Put another way:\",\n",
    "print \"Since the split ERY received a constant number of {0:.2f} new immigrant alleles per generation, while PAR received a constant number of {1:.2f} per generation.\".format(m*nu1, m*nu2)"
   ]
  },
  {
   "cell_type": "markdown",
   "metadata": {},
   "source": [
    "The following table compares the parameter estimates for the _split-migration_ model derived with the uncorrected and the corrected spectrum in their absolute units:\n",
    "\n",
    "| parameter      | uncorrected | corrected   |\n",
    "| :-------:      | ----------- | ---------   |\n",
    "| $N_a$          |  468,295    |  308,029    |\n",
    "| $N_{ERY}$      |  465,572    |  488,151    |\n",
    "| $N_{PAR}$      |  827,069    |  881,645    |\n",
    "| T (gen.)       |  864,128    |  1,063,520  |\n",
    "| $p_{par->ery}$ |  2.69e-07   |  2.16e-07   | \n",
    "| $p_{ery->par}$ |  1.52e-07   |  1.20e-07   |\n",
    "| -logL          |  18574      |  12809      |\n",
    "\n",
    "$N_x$ have unit *individuals*, T has unit *generations*, $p_x$ are _proportions of new immigrant alleles per generation_.\n",
    "\n",
    "There is a marked difference in the inferred ancestral population size ($N_a$ eq. to $N_{ref}$), which affects all other parameters. The estimated contemporary population sizes for ERY and PAR are slightly higher for the corrected spectrum, but not much so. The inferred divergence time is 1/4 higher with the corrected spectrum. The inferred migration rates (as proportion of new immigrant individuals per generation) are both slightly smaller with the corrected spectrum, but not dramatically."
   ]
  },
  {
   "cell_type": "code",
   "execution_count": 43,
   "metadata": {
    "collapsed": false
   },
   "outputs": [
    {
     "data": {
      "image/png": "[encoded data removed]",
      "text/plain": [
       "<matplotlib.figure.Figure at 0x7f0b1a2b16d0>"
      ]
     },
     "metadata": {},
     "output_type": "display_data"
    }
   ],
   "source": [
    "dadi.Plotting.plot_2d_comp_multinom(data=sfs2d, model=model, vmin=1)"
   ]
  },
  {
   "cell_type": "markdown",
   "metadata": {},
   "source": [
    "The difference in the frequency class [1,1] between the observed (corrected) and model spectrum has dramatically decreased after introducing migration. The introduction of migration has improved the log likelihood of the model by 2982 units. So there is a strong signal of gene flow in the 2D spectrum."
   ]
  },
  {
   "cell_type": "markdown",
   "metadata": {},
   "source": [
    "## Influence of the degree of correction"
   ]
  },
  {
   "cell_type": "markdown",
   "metadata": {},
   "source": [
    "I have also fit the above two models to spectra corrected with p=0.30 and p=0.39, both derived by using a slightly different null model for the optimisation of p, that is with $T=2$ and $T=0.5$ respectively (see [notebook](../Ludovics_correction.ipynb))."
   ]
  },
  {
   "cell_type": "markdown",
   "metadata": {},
   "source": [
    "Since the _degree_ of correction does not seem to have a strong influence on parameter estimation (see [notebook](02_modified_2D_models)), I am going to use only the spectrum corrected with $p=0.35$ in the following."
   ]
  },
  {
   "cell_type": "markdown",
   "metadata": {},
   "source": [
    "## divergence with asymmetric migration"
   ]
  },
  {
   "cell_type": "code",
   "execution_count": 45,
   "metadata": {
    "collapsed": true
   },
   "outputs": [],
   "source": [
    "def split_asym_mig(params, ns, pts):\n",
    "    \"\"\"\n",
    "    params = (nu1,nu2,T,m1,m2)\n",
    "    ns = (n1,n2)\n",
    "\n",
    "    Split into two populations of specifed size, with potentially asymmetric migration.\n",
    "\n",
    "    nu1: population size ratio of population 1 after split (with respect to Na)\n",
    "    nu2: population size ratio of population 2 after split (with respect to Na) \n",
    "    T: Time in the past of split (in units of 2*Na generations) \n",
    "    m1: Migration rate from ery into par (in units of 2*Na ind per generation)\n",
    "    m2: Migration rate from par into ery (in units of 2*Na ind per generation)\n",
    "    n1,n2: Sample sizes of resulting Spectrum\n",
    "    pts: Number of grid points to use in integration.\n",
    "    \"\"\"\n",
    "    nu1,nu2,T,m1,m2 = params\n",
    "\n",
    "    xx = dadi.Numerics.default_grid(pts)\n",
    "\n",
    "    phi = dadi.PhiManip.phi_1D(xx)\n",
    "    \n",
    "    # split\n",
    "    phi = dadi.PhiManip.phi_1D_to_2D(xx, phi) \n",
    "    \n",
    "    # divergence with potentially asymmetric migration\n",
    "    phi = dadi.Integration.two_pops(phi, xx, T, nu1, nu2, m12=m2, m21=m1)\n",
    "\n",
    "    fs = dadi.Spectrum.from_phi(phi, ns, (xx,xx))\n",
    "    return fs"
   ]
  },
  {
   "cell_type": "code",
   "execution_count": 46,
   "metadata": {
    "collapsed": true
   },
   "outputs": [],
   "source": [
    "ar_split_asym_mig = []\n",
    "\n",
    "for filename in glob(\"OUT_2D_models/split_asym_mig_[0-9]*dill\"):\n",
    "    ar_split_asym_mig.append(dill.load(open(filename)))"
   ]
  },
  {
   "cell_type": "code",
   "execution_count": 47,
   "metadata": {
    "collapsed": false
   },
   "outputs": [
    {
     "data": {
      "text/html": [
       "<div>\n",
       "<table border=\"1\" class=\"dataframe\">\n",
       "  <thead>\n",
       "    <tr style=\"text-align: right;\">\n",
       "      <th></th>\n",
       "      <th>nu1_0</th>\n",
       "      <th>nu2_0</th>\n",
       "      <th>T_0</th>\n",
       "      <th>m1_0</th>\n",
       "      <th>m2_0</th>\n",
       "      <th>nu1_opt</th>\n",
       "      <th>nu2_opt</th>\n",
       "      <th>T_opt</th>\n",
       "      <th>m1_opt</th>\n",
       "      <th>m2_opt</th>\n",
       "      <th>-logL</th>\n",
       "    </tr>\n",
       "  </thead>\n",
       "  <tbody>\n",
       "    <tr>\n",
       "      <th>2</th>\n",
       "      <td>0.828753</td>\n",
       "      <td>1.252881</td>\n",
       "      <td>3.960000</td>\n",
       "      <td>0.103805</td>\n",
       "      <td>0.563144</td>\n",
       "      <td>1.555405</td>\n",
       "      <td>3.812884</td>\n",
       "      <td>2.343805</td>\n",
       "      <td>0.076152</td>\n",
       "      <td>0.347306</td>\n",
       "      <td>12359.631637</td>\n",
       "    </tr>\n",
       "    <tr>\n",
       "      <th>5</th>\n",
       "      <td>2.550436</td>\n",
       "      <td>1.024807</td>\n",
       "      <td>0.662181</td>\n",
       "      <td>0.058917</td>\n",
       "      <td>0.072694</td>\n",
       "      <td>1.534739</td>\n",
       "      <td>3.751096</td>\n",
       "      <td>2.292298</td>\n",
       "      <td>0.077597</td>\n",
       "      <td>0.350747</td>\n",
       "      <td>12359.664337</td>\n",
       "    </tr>\n",
       "    <tr>\n",
       "      <th>8</th>\n",
       "      <td>0.424053</td>\n",
       "      <td>1.138974</td>\n",
       "      <td>0.718766</td>\n",
       "      <td>0.222591</td>\n",
       "      <td>0.153777</td>\n",
       "      <td>1.529845</td>\n",
       "      <td>3.758155</td>\n",
       "      <td>2.285943</td>\n",
       "      <td>0.076150</td>\n",
       "      <td>0.352598</td>\n",
       "      <td>12359.684317</td>\n",
       "    </tr>\n",
       "    <tr>\n",
       "      <th>7</th>\n",
       "      <td>1.514872</td>\n",
       "      <td>0.848603</td>\n",
       "      <td>1.635625</td>\n",
       "      <td>0.516468</td>\n",
       "      <td>0.282811</td>\n",
       "      <td>1.575057</td>\n",
       "      <td>3.857334</td>\n",
       "      <td>2.388837</td>\n",
       "      <td>0.076225</td>\n",
       "      <td>0.342434</td>\n",
       "      <td>12359.735720</td>\n",
       "    </tr>\n",
       "    <tr>\n",
       "      <th>6</th>\n",
       "      <td>3.127599</td>\n",
       "      <td>4.277118</td>\n",
       "      <td>2.725190</td>\n",
       "      <td>0.263502</td>\n",
       "      <td>0.161697</td>\n",
       "      <td>1.693936</td>\n",
       "      <td>4.157804</td>\n",
       "      <td>2.677514</td>\n",
       "      <td>0.070230</td>\n",
       "      <td>0.320827</td>\n",
       "      <td>12360.799448</td>\n",
       "    </tr>\n",
       "    <tr>\n",
       "      <th>3</th>\n",
       "      <td>0.816507</td>\n",
       "      <td>1.993877</td>\n",
       "      <td>3.960000</td>\n",
       "      <td>0.267442</td>\n",
       "      <td>0.067155</td>\n",
       "      <td>1.605256</td>\n",
       "      <td>4.027444</td>\n",
       "      <td>2.526903</td>\n",
       "      <td>0.067682</td>\n",
       "      <td>0.341928</td>\n",
       "      <td>12361.932695</td>\n",
       "    </tr>\n",
       "    <tr>\n",
       "      <th>9</th>\n",
       "      <td>0.858891</td>\n",
       "      <td>1.667468</td>\n",
       "      <td>0.856949</td>\n",
       "      <td>0.066816</td>\n",
       "      <td>0.068287</td>\n",
       "      <td>1.526397</td>\n",
       "      <td>3.759222</td>\n",
       "      <td>2.351502</td>\n",
       "      <td>0.076778</td>\n",
       "      <td>0.344442</td>\n",
       "      <td>12364.139460</td>\n",
       "    </tr>\n",
       "    <tr>\n",
       "      <th>1</th>\n",
       "      <td>3.993936</td>\n",
       "      <td>1.066110</td>\n",
       "      <td>2.039748</td>\n",
       "      <td>0.097478</td>\n",
       "      <td>0.482028</td>\n",
       "      <td>1.614288</td>\n",
       "      <td>3.967013</td>\n",
       "      <td>2.585679</td>\n",
       "      <td>0.059440</td>\n",
       "      <td>0.337259</td>\n",
       "      <td>12382.911919</td>\n",
       "    </tr>\n",
       "    <tr>\n",
       "      <th>4</th>\n",
       "      <td>0.953722</td>\n",
       "      <td>4.464633</td>\n",
       "      <td>1.731286</td>\n",
       "      <td>0.360577</td>\n",
       "      <td>0.187640</td>\n",
       "      <td>0.945295</td>\n",
       "      <td>2.572276</td>\n",
       "      <td>1.192388</td>\n",
       "      <td>0.082591</td>\n",
       "      <td>0.561914</td>\n",
       "      <td>12473.567122</td>\n",
       "    </tr>\n",
       "    <tr>\n",
       "      <th>0</th>\n",
       "      <td>5.909949</td>\n",
       "      <td>2.213097</td>\n",
       "      <td>0.624062</td>\n",
       "      <td>0.140236</td>\n",
       "      <td>0.079440</td>\n",
       "      <td>0.970340</td>\n",
       "      <td>2.713070</td>\n",
       "      <td>1.103459</td>\n",
       "      <td>0.023247</td>\n",
       "      <td>0.596518</td>\n",
       "      <td>12633.931484</td>\n",
       "    </tr>\n",
       "  </tbody>\n",
       "</table>\n",
       "</div>"
      ],
      "text/plain": [
       "      nu1_0     nu2_0       T_0      m1_0      m2_0   nu1_opt   nu2_opt  \\\n",
       "2  0.828753  1.252881  3.960000  0.103805  0.563144  1.555405  3.812884   \n",
       "5  2.550436  1.024807  0.662181  0.058917  0.072694  1.534739  3.751096   \n",
       "8  0.424053  1.138974  0.718766  0.222591  0.153777  1.529845  3.758155   \n",
       "7  1.514872  0.848603  1.635625  0.516468  0.282811  1.575057  3.857334   \n",
       "6  3.127599  4.277118  2.725190  0.263502  0.161697  1.693936  4.157804   \n",
       "3  0.816507  1.993877  3.960000  0.267442  0.067155  1.605256  4.027444   \n",
       "9  0.858891  1.667468  0.856949  0.066816  0.068287  1.526397  3.759222   \n",
       "1  3.993936  1.066110  2.039748  0.097478  0.482028  1.614288  3.967013   \n",
       "4  0.953722  4.464633  1.731286  0.360577  0.187640  0.945295  2.572276   \n",
       "0  5.909949  2.213097  0.624062  0.140236  0.079440  0.970340  2.713070   \n",
       "\n",
       "      T_opt    m1_opt    m2_opt         -logL  \n",
       "2  2.343805  0.076152  0.347306  12359.631637  \n",
       "5  2.292298  0.077597  0.350747  12359.664337  \n",
       "8  2.285943  0.076150  0.352598  12359.684317  \n",
       "7  2.388837  0.076225  0.342434  12359.735720  \n",
       "6  2.677514  0.070230  0.320827  12360.799448  \n",
       "3  2.526903  0.067682  0.341928  12361.932695  \n",
       "9  2.351502  0.076778  0.344442  12364.139460  \n",
       "1  2.585679  0.059440  0.337259  12382.911919  \n",
       "4  1.192388  0.082591  0.561914  12473.567122  \n",
       "0  1.103459  0.023247  0.596518  12633.931484  "
      ]
     },
     "execution_count": 47,
     "metadata": {},
     "output_type": "execute_result"
    }
   ],
   "source": [
    "l = 2*5+1\n",
    "\n",
    "returned = [flatten(out)[:l] for out in ar_split_asym_mig]\n",
    "\n",
    "df = pd.DataFrame(data=returned, \\\n",
    "                  columns=['nu1_0','nu2_0', 'T_0', 'm1_0', 'm2_0', 'nu1_opt', 'nu2_opt', 'T_opt', 'm1_opt', 'm2_opt', '-logL'])\n",
    "\n",
    "df.sort_values(by='-logL', ascending=True)"
   ]
  },
  {
   "cell_type": "markdown",
   "metadata": {},
   "source": [
    "This looks like convergence. Allowing for asymmetric migration rates improves the model fit by 450 logL units and is therefore highly significant."
   ]
  },
  {
   "cell_type": "markdown",
   "metadata": {},
   "source": [
    "### Interpretation"
   ]
  },
  {
   "cell_type": "code",
   "execution_count": 48,
   "metadata": {
    "collapsed": false
   },
   "outputs": [
    {
     "name": "stdout",
     "output_type": "stream",
     "text": [
      "The optimal value of theta per site for the ancestral population is 0.00307.\n"
     ]
    }
   ],
   "source": [
    "popt = np.array(df.sort_values(by='-logL', ascending=True).iloc[0, 5:10])\n",
    "\n",
    "func_ex = dadi.Numerics.make_extrap_log_func(split_asym_mig)\n",
    "\n",
    "# calculate best-fit model spectrum\n",
    "model = func_ex(popt, ns, pts_l)\n",
    "\n",
    "theta = dadi.Inference.optimal_sfs_scaling(model, sfs2d)\n",
    "L = sfs2d.data.sum()\n",
    "print \"The optimal value of theta per site for the ancestral population is {0:.5f}.\".format(theta/L)"
   ]
  },
  {
   "cell_type": "code",
   "execution_count": 50,
   "metadata": {
    "collapsed": false
   },
   "outputs": [
    {
     "name": "stdout",
     "output_type": "stream",
     "text": [
      "The effective size of the ancestral population of ERY and PAR (in number of diploid individuals) implied by this theta is:\n",
      " 255,715.\n"
     ]
    }
   ],
   "source": [
    "mu = 3e-9\n",
    "N_ref = theta/L/mu/4\n",
    "print \"The effective size of the ancestral population of ERY and PAR (in number of diploid individuals) implied by this theta is:\\n {0:,}.\".format(int(N_ref))"
   ]
  },
  {
   "cell_type": "code",
   "execution_count": 51,
   "metadata": {
    "collapsed": true
   },
   "outputs": [],
   "source": [
    "nu1, nu2, T, m1, m2 = popt"
   ]
  },
  {
   "cell_type": "code",
   "execution_count": 52,
   "metadata": {
    "collapsed": false
   },
   "outputs": [
    {
     "name": "stdout",
     "output_type": "stream",
     "text": [
      "The ancestral population split apart 1,198,692 generations ago. Immediately after the split the ERY population changed to a size of 397,740 and the PAR population to 975,012. Since the split of the ancestral population, PAR received 1 individual from ERY every 6.89 generations, while ERY received 1 PAR individual every 3.70 generations. Put another way: The PAR population contained a constant proportion of 3.91e-08 of new immigrant alleles each generation and the ERY population contained a constant proportion of 4.37e-07 of new immigrant alleles each generation.\n"
     ]
    }
   ],
   "source": [
    "print \"The ancestral population split apart {0:,} generations ago.\".format(int(T*2*N_ref)),\n",
    "print \"Immediately after the split the ERY population changed to a size of {0:,} and the PAR population to {1:,}.\".format(int(nu1*N_ref), int(nu2*N_ref)),\n",
    "print \"Since the split of the ancestral population, PAR received 1 individual from ERY every {0:.2f} generations,\".format(1.0/(m1/2*nu2)),\n",
    "print \"while ERY received 1 PAR individual every {0:.2f} generations.\".format(1.0/(m2/2*nu1)),\n",
    "print \"Put another way: The PAR population contained a constant proportion of {0:.2e} of new immigrant alleles each generation\".format(m1/2/N_ref/nu2),\n",
    "print \"and the ERY population contained a constant proportion of {0:.2e} of new immigrant alleles each generation.\".format(m2/2/N_ref/nu1)"
   ]
  },
  {
   "cell_type": "markdown",
   "metadata": {},
   "source": [
    "The following table compares the inferred parameters for the _asymmetric migration_ model from the uncorrected and corrected spectrum in their absolute units:\n",
    "\n",
    "| parameter      | uncorrected | corrected |\n",
    "| :----------:   | ----------- | --------- |\n",
    "| $N_{a}$        | 410,678     | 255,715   |\n",
    "| $N_{ery}$      | 378,198     | 397,740   |\n",
    "| $N_{par}$      | 919,352     | 975,012   |\n",
    "| T              | 1,022,329   | 1,198,692 |\n",
    "| $p_{ery->par}$ | 4.58e-08    | 3.91e-08  |\n",
    "| $p_{par->ery}$ | 6.54e-07    | 4.37e-07  |\n",
    "| -logL          | 18104       | 12359     |\n",
    "\n",
    "$N_x$ have unit *individuals*, T has unit *generations*, $p_x$ are _proportions of new immigrant alleles per generation_."
   ]
  },
  {
   "cell_type": "markdown",
   "metadata": {},
   "source": [
    "There is marked difference in the inferred size of the ancestral population between corrected and uncorrected spectra. The inferred time of the split in number of generations for the unmodified spectrum was 1,022,329. Not a dramatic difference from the one inferred with this corrected spectrum, but still 176,000 years difference."
   ]
  },
  {
   "cell_type": "code",
   "execution_count": 53,
   "metadata": {
    "collapsed": false
   },
   "outputs": [
    {
     "data": {
      "image/png": "[encoded data removed]",
      "text/plain": [
       "<matplotlib.figure.Figure at 0x7f0b19a91f10>"
      ]
     },
     "metadata": {},
     "output_type": "display_data"
    }
   ],
   "source": [
    "dadi.Plotting.plot_2d_comp_multinom(data=sfs2d, model=model, vmin=1)"
   ]
  },
  {
   "cell_type": "markdown",
   "metadata": {},
   "source": [
    "Note the asymmetry in the model spectrum for frequency classes [1, x] and [x, 1]."
   ]
  },
  {
   "cell_type": "markdown",
   "metadata": {},
   "source": [
    "## Exponential size change"
   ]
  },
  {
   "cell_type": "markdown",
   "metadata": {
    "collapsed": true
   },
   "source": [
    "So far, the split coincided with a stepwise population size change. This model adds a proportion $s$ of the ancestral population size that is allocated to each daughter population after the split and exponential population size change afterwards."
   ]
  },
  {
   "cell_type": "markdown",
   "metadata": {
    "collapsed": true
   },
   "source": [
    "None of the parameter combinations has higher likelihood (12888.96) than the best-fit parameter combinations of the previous model (lowest neg. logL 12,359). Also the three best-fit parameter combinations are very close to the upper limit of parameter bound that I set for the time parameter $T$ and the population size ratio for PAR implies a current effective population size of several millions (something I think is unlikely given the disperal rate and the patchiness of the habitat of _Chorthippus parallelus_). "
   ]
  },
  {
   "cell_type": "markdown",
   "metadata": {
    "collapsed": true
   },
   "source": [
    "## Linear size change"
   ]
  },
  {
   "cell_type": "markdown",
   "metadata": {
    "collapsed": true
   },
   "source": [
    "This model changes the population size growth or decline from exponential to linear."
   ]
  },
  {
   "cell_type": "markdown",
   "metadata": {},
   "source": [
    "There is no good convergence, the inferred $s$ is very high (close to 1 or 0) and the inferred T is close to the upper boundary that I set. Furthermore, the best *-logL* (12516.95) is still higher than the best *-logL* achieved with the _asymmetric migration_ model (12,359)."
   ]
  },
  {
   "cell_type": "markdown",
   "metadata": {},
   "source": [
    "## Ancient migration"
   ]
  },
  {
   "cell_type": "code",
   "execution_count": 54,
   "metadata": {
    "collapsed": true
   },
   "outputs": [],
   "source": [
    "def split_asym_mig_iso(params, ns, pts):\n",
    "    \"\"\"\n",
    "    params = (nu1,nu2,Tc,m1,m2,Ti)\n",
    "    ns = (n1,n2)\n",
    "\n",
    "    Split into two populations of specifed size, with potentially asymmetric migration\n",
    "    for a time Tc followed by complete isolation until present.\n",
    "\n",
    "    nu1: population size ratio of population 1 after split (with respect to Na)\n",
    "    nu2: population size ratio of population 2 after split (with respect to Na)\n",
    "    Tc: Time of gene flow after split (in units of 2*Na generations) \n",
    "    m1: Migration rate from ery into par (in units of 2*Na ind per generation)\n",
    "    m2: Migration rate from par into ery (in units of 2*Na ind per generation)\n",
    "    Ti: Time of isolation after cessation of gene flow\n",
    "    The split lies Tc+Ti * 2Na generations in the past.\n",
    "    n1,n2: Sample sizes of resulting Spectrum\n",
    "    pts: Number of grid points to use in integration.\n",
    "    \"\"\"\n",
    "    nu1,nu2,Tc,m1,m2,Ti = params\n",
    "\n",
    "    xx = dadi.Numerics.default_grid(pts)\n",
    "\n",
    "    phi = dadi.PhiManip.phi_1D(xx)\n",
    "    \n",
    "    # split\n",
    "    phi = dadi.PhiManip.phi_1D_to_2D(xx, phi) \n",
    "    \n",
    "    # divergence with potentially asymmetric migration\n",
    "    phi = dadi.Integration.two_pops(phi, xx, Tc, nu1, nu2, m12=m2, m21=m1)\n",
    "    \n",
    "    # divergence without gene flow\n",
    "    phi = dadi.Integration.two_pops(phi, xx, Ti, nu1, nu2, m12=0, m21=0)\n",
    "\n",
    "    fs = dadi.Spectrum.from_phi(phi, ns, (xx,xx))\n",
    "    return fs"
   ]
  },
  {
   "cell_type": "code",
   "execution_count": 56,
   "metadata": {
    "collapsed": true
   },
   "outputs": [],
   "source": [
    "ar_split_asym_mig_iso = []\n",
    "\n",
    "for filename in glob(\"OUT_2D_models/split_asym_mig_iso*dill\"):\n",
    "    ar_split_asym_mig_iso.append(dill.load(open(filename)))"
   ]
  },
  {
   "cell_type": "code",
   "execution_count": 58,
   "metadata": {
    "collapsed": false
   },
   "outputs": [
    {
     "data": {
      "text/html": [
       "<div>\n",
       "<table border=\"1\" class=\"dataframe\">\n",
       "  <thead>\n",
       "    <tr style=\"text-align: right;\">\n",
       "      <th></th>\n",
       "      <th>nu1_0</th>\n",
       "      <th>nu2_0</th>\n",
       "      <th>Tc_0</th>\n",
       "      <th>m1_0</th>\n",
       "      <th>m2_0</th>\n",
       "      <th>Ti_0</th>\n",
       "      <th>nu1_opt</th>\n",
       "      <th>nu2_opt</th>\n",
       "      <th>Tc_opt</th>\n",
       "      <th>m1_opt</th>\n",
       "      <th>m2_opt</th>\n",
       "      <th>Ti_opt</th>\n",
       "      <th>-logL</th>\n",
       "    </tr>\n",
       "  </thead>\n",
       "  <tbody>\n",
       "    <tr>\n",
       "      <th>31</th>\n",
       "      <td>3.421903</td>\n",
       "      <td>12.882920</td>\n",
       "      <td>7.920000</td>\n",
       "      <td>0.090910</td>\n",
       "      <td>0.137533</td>\n",
       "      <td>0.104192</td>\n",
       "      <td>3.428735</td>\n",
       "      <td>8.372007</td>\n",
       "      <td>6.719565</td>\n",
       "      <td>0.040627</td>\n",
       "      <td>0.202323</td>\n",
       "      <td>0.118790</td>\n",
       "      <td>12156.061309</td>\n",
       "    </tr>\n",
       "    <tr>\n",
       "      <th>29</th>\n",
       "      <td>2.208113</td>\n",
       "      <td>8.325249</td>\n",
       "      <td>5.594802</td>\n",
       "      <td>0.045599</td>\n",
       "      <td>0.494681</td>\n",
       "      <td>0.058458</td>\n",
       "      <td>3.434782</td>\n",
       "      <td>8.387801</td>\n",
       "      <td>6.732856</td>\n",
       "      <td>0.040569</td>\n",
       "      <td>0.202054</td>\n",
       "      <td>0.119088</td>\n",
       "      <td>12156.061960</td>\n",
       "    </tr>\n",
       "    <tr>\n",
       "      <th>17</th>\n",
       "      <td>1.638405</td>\n",
       "      <td>7.027064</td>\n",
       "      <td>3.328377</td>\n",
       "      <td>0.093406</td>\n",
       "      <td>0.279576</td>\n",
       "      <td>0.084667</td>\n",
       "      <td>3.365763</td>\n",
       "      <td>8.218499</td>\n",
       "      <td>6.573684</td>\n",
       "      <td>0.041489</td>\n",
       "      <td>0.206208</td>\n",
       "      <td>0.116898</td>\n",
       "      <td>12156.066451</td>\n",
       "    </tr>\n",
       "    <tr>\n",
       "      <th>4</th>\n",
       "      <td>3.157867</td>\n",
       "      <td>11.894738</td>\n",
       "      <td>6.832827</td>\n",
       "      <td>0.089239</td>\n",
       "      <td>0.343652</td>\n",
       "      <td>0.125056</td>\n",
       "      <td>3.151832</td>\n",
       "      <td>7.672115</td>\n",
       "      <td>6.074031</td>\n",
       "      <td>0.044790</td>\n",
       "      <td>0.217833</td>\n",
       "      <td>0.107115</td>\n",
       "      <td>12156.250139</td>\n",
       "    </tr>\n",
       "    <tr>\n",
       "      <th>2</th>\n",
       "      <td>2.150693</td>\n",
       "      <td>3.752285</td>\n",
       "      <td>7.339520</td>\n",
       "      <td>0.053352</td>\n",
       "      <td>0.182956</td>\n",
       "      <td>0.054508</td>\n",
       "      <td>2.905080</td>\n",
       "      <td>7.099776</td>\n",
       "      <td>5.511164</td>\n",
       "      <td>0.047722</td>\n",
       "      <td>0.237869</td>\n",
       "      <td>0.100633</td>\n",
       "      <td>12156.336374</td>\n",
       "    </tr>\n",
       "    <tr>\n",
       "      <th>8</th>\n",
       "      <td>4.507973</td>\n",
       "      <td>4.211151</td>\n",
       "      <td>4.530473</td>\n",
       "      <td>0.038619</td>\n",
       "      <td>0.356819</td>\n",
       "      <td>0.049796</td>\n",
       "      <td>2.838367</td>\n",
       "      <td>6.936326</td>\n",
       "      <td>5.355545</td>\n",
       "      <td>0.048636</td>\n",
       "      <td>0.243390</td>\n",
       "      <td>0.096733</td>\n",
       "      <td>12156.361180</td>\n",
       "    </tr>\n",
       "    <tr>\n",
       "      <th>19</th>\n",
       "      <td>3.495075</td>\n",
       "      <td>4.606451</td>\n",
       "      <td>5.940000</td>\n",
       "      <td>0.055664</td>\n",
       "      <td>0.246368</td>\n",
       "      <td>0.105244</td>\n",
       "      <td>2.769359</td>\n",
       "      <td>6.770118</td>\n",
       "      <td>5.196347</td>\n",
       "      <td>0.049832</td>\n",
       "      <td>0.249131</td>\n",
       "      <td>0.094203</td>\n",
       "      <td>12156.467656</td>\n",
       "    </tr>\n",
       "    <tr>\n",
       "      <th>16</th>\n",
       "      <td>1.899722</td>\n",
       "      <td>10.672562</td>\n",
       "      <td>4.209415</td>\n",
       "      <td>0.035018</td>\n",
       "      <td>0.158627</td>\n",
       "      <td>0.129019</td>\n",
       "      <td>2.549936</td>\n",
       "      <td>6.237224</td>\n",
       "      <td>4.683557</td>\n",
       "      <td>0.053493</td>\n",
       "      <td>0.269833</td>\n",
       "      <td>0.085552</td>\n",
       "      <td>12156.997320</td>\n",
       "    </tr>\n",
       "    <tr>\n",
       "      <th>15</th>\n",
       "      <td>3.193392</td>\n",
       "      <td>3.398205</td>\n",
       "      <td>7.493464</td>\n",
       "      <td>0.054278</td>\n",
       "      <td>0.184446</td>\n",
       "      <td>0.099955</td>\n",
       "      <td>2.625334</td>\n",
       "      <td>6.426852</td>\n",
       "      <td>4.896773</td>\n",
       "      <td>0.051447</td>\n",
       "      <td>0.259054</td>\n",
       "      <td>0.084092</td>\n",
       "      <td>12157.030051</td>\n",
       "    </tr>\n",
       "    <tr>\n",
       "      <th>9</th>\n",
       "      <td>1.114068</td>\n",
       "      <td>2.045370</td>\n",
       "      <td>0.628484</td>\n",
       "      <td>0.054210</td>\n",
       "      <td>0.524956</td>\n",
       "      <td>0.061246</td>\n",
       "      <td>2.877591</td>\n",
       "      <td>7.051026</td>\n",
       "      <td>5.515295</td>\n",
       "      <td>0.046193</td>\n",
       "      <td>0.241364</td>\n",
       "      <td>0.095230</td>\n",
       "      <td>12157.097777</td>\n",
       "    </tr>\n",
       "  </tbody>\n",
       "</table>\n",
       "</div>"
      ],
      "text/plain": [
       "       nu1_0      nu2_0      Tc_0      m1_0      m2_0      Ti_0   nu1_opt  \\\n",
       "31  3.421903  12.882920  7.920000  0.090910  0.137533  0.104192  3.428735   \n",
       "29  2.208113   8.325249  5.594802  0.045599  0.494681  0.058458  3.434782   \n",
       "17  1.638405   7.027064  3.328377  0.093406  0.279576  0.084667  3.365763   \n",
       "4   3.157867  11.894738  6.832827  0.089239  0.343652  0.125056  3.151832   \n",
       "2   2.150693   3.752285  7.339520  0.053352  0.182956  0.054508  2.905080   \n",
       "8   4.507973   4.211151  4.530473  0.038619  0.356819  0.049796  2.838367   \n",
       "19  3.495075   4.606451  5.940000  0.055664  0.246368  0.105244  2.769359   \n",
       "16  1.899722  10.672562  4.209415  0.035018  0.158627  0.129019  2.549936   \n",
       "15  3.193392   3.398205  7.493464  0.054278  0.184446  0.099955  2.625334   \n",
       "9   1.114068   2.045370  0.628484  0.054210  0.524956  0.061246  2.877591   \n",
       "\n",
       "     nu2_opt    Tc_opt    m1_opt    m2_opt    Ti_opt         -logL  \n",
       "31  8.372007  6.719565  0.040627  0.202323  0.118790  12156.061309  \n",
       "29  8.387801  6.732856  0.040569  0.202054  0.119088  12156.061960  \n",
       "17  8.218499  6.573684  0.041489  0.206208  0.116898  12156.066451  \n",
       "4   7.672115  6.074031  0.044790  0.217833  0.107115  12156.250139  \n",
       "2   7.099776  5.511164  0.047722  0.237869  0.100633  12156.336374  \n",
       "8   6.936326  5.355545  0.048636  0.243390  0.096733  12156.361180  \n",
       "19  6.770118  5.196347  0.049832  0.249131  0.094203  12156.467656  \n",
       "16  6.237224  4.683557  0.053493  0.269833  0.085552  12156.997320  \n",
       "15  6.426852  4.896773  0.051447  0.259054  0.084092  12157.030051  \n",
       "9   7.051026  5.515295  0.046193  0.241364  0.095230  12157.097777  "
      ]
     },
     "execution_count": 58,
     "metadata": {},
     "output_type": "execute_result"
    }
   ],
   "source": [
    "l = 2*6+1\n",
    "\n",
    "success = [flatten(out)[:l] for out in ar_split_asym_mig_iso]\n",
    "\n",
    "df = pd.DataFrame(data=success, \\\n",
    "                  columns=['nu1_0','nu2_0', 'Tc_0', 'm1_0', 'm2_0', 'Ti_0', 'nu1_opt', 'nu2_opt', 'Tc_opt', 'm1_opt', 'm2_opt', 'Ti_opt', '-logL'])\n",
    "\n",
    "df.sort_values(by='-logL', ascending=True).head(10)"
   ]
  },
  {
   "cell_type": "markdown",
   "metadata": {},
   "source": [
    "These are the 10 best parameter combinations of an extensive and refined search. There is still quite some variation in the estimated population size for PAR (nu2) and the time of primary contact (Tc). The addition of a recent time of complete isolation (Ti) has improved the fit by 203 log likelihood unit and is therefore highly significant. With the uncorrected spectrum the improvment in fit was 512 log likelihood units, so more than twice as strong."
   ]
  },
  {
   "cell_type": "markdown",
   "metadata": {},
   "source": [
    "### Interpretation"
   ]
  },
  {
   "cell_type": "code",
   "execution_count": 61,
   "metadata": {
    "collapsed": false
   },
   "outputs": [
    {
     "name": "stdout",
     "output_type": "stream",
     "text": [
      "The optimal value of theta per site for the ancestral population is 0.00136.\n"
     ]
    }
   ],
   "source": [
    "popt = np.array(df.sort_values(by='-logL', ascending=True).iloc[0,6:12])\n",
    "\n",
    "func_ex = dadi.Numerics.make_extrap_log_func(split_asym_mig_iso)\n",
    "\n",
    "model = func_ex(popt, ns, pts_l)\n",
    "\n",
    "theta = dadi.Inference.optimal_sfs_scaling(model, sfs2d)\n",
    "L = sfs2d.data.sum()\n",
    "print \"The optimal value of theta per site for the ancestral population is {0:.5f}.\".format(theta/L)"
   ]
  },
  {
   "cell_type": "code",
   "execution_count": 62,
   "metadata": {
    "collapsed": false
   },
   "outputs": [
    {
     "name": "stdout",
     "output_type": "stream",
     "text": [
      "The effective size of the ancestral population of ery and par (in number of diploid individuals) implied by this theta is:\n",
      " 113,708.\n"
     ]
    }
   ],
   "source": [
    "mu = 3e-9\n",
    "L = sfs2d.data.sum() # this sums over all entries in the spectrum, including masked ones, i. e. also contains invariable sites\n",
    "\n",
    "N_ref = theta/L/mu/4\n",
    "\n",
    "print \"The effective size of the ancestral population of ery and par (in number of diploid individuals) implied by this theta is:\\n {0:,}.\".format(int(N_ref))"
   ]
  },
  {
   "cell_type": "markdown",
   "metadata": {},
   "source": [
    "This is quite a small effective population size for an insect."
   ]
  },
  {
   "cell_type": "code",
   "execution_count": 63,
   "metadata": {
    "collapsed": true
   },
   "outputs": [],
   "source": [
    "nu1, nu2, Tc, m1, m2, Ti = popt"
   ]
  },
  {
   "cell_type": "code",
   "execution_count": 64,
   "metadata": {
    "collapsed": false
   },
   "outputs": [
    {
     "name": "stdout",
     "output_type": "stream",
     "text": [
      "The ancestral population split apart 1,555,161 generations ago. Immediately after the split the ERY population changed to a size of 389,877 and the PAR population to 951,970. Since the split of the ancestral population, PAR received 1 individual from ERY every 5.88 generations, while ERY received 1 PAR individual every 2.88 generations. Put another way: The PAR population contained a constant proportion of 2.13e-08 of new immigrant alleles each generation and the ERY population contained a constant proportion of 2.59e-07 of new immigrant alleles each generation. ERY and PAR remained in contact for 1,528,146 generations. 27,014 generations ago gene flow between ERY and PAR had ceased.\n"
     ]
    }
   ],
   "source": [
    "print \"The ancestral population split apart {0:,} generations ago.\".format(int((Tc+Ti)*2*N_ref)),\n",
    "print \"Immediately after the split the ERY population changed to a size of {0:,} and the PAR population to {1:,}.\".format(int(nu1*N_ref), int(nu2*N_ref)),\n",
    "print \"Since the split of the ancestral population, PAR received 1 individual from ERY every {0:.2f} generations,\".format(1.0/(m1/2*nu2)),\n",
    "print \"while ERY received 1 PAR individual every {0:.2f} generations.\".format(1.0/(m2/2*nu1)),\n",
    "print \"Put another way: The PAR population contained a constant proportion of {0:.2e} of new immigrant alleles each generation\".format(m1/2/N_ref/nu2),\n",
    "print \"and the ERY population contained a constant proportion of {0:.2e} of new immigrant alleles each generation.\".format(m2/2/N_ref/nu1),\n",
    "print \"ERY and PAR remained in contact for {0:,} generations.\".format(int(Tc*2*N_ref)),\n",
    "print \"{0:,} generations ago gene flow between ERY and PAR had ceased.\".format(int(Ti*2*N_ref))"
   ]
  },
  {
   "cell_type": "markdown",
   "metadata": {},
   "source": [
    "The absolute values of the two time parameters are striking. This model infers a very ancient origin of ERY and PAR and a very recent cessation of gene flow. Obviously, this model is an abstraction of the certainly more complicated history of the two subspecies, as one would expect given that there have been at least three ice ages since the inferred origin of ERY and PAR."
   ]
  },
  {
   "cell_type": "markdown",
   "metadata": {},
   "source": [
    "The following table compares the inferred parameters for the _ancient migration_ model from the uncorrected and corrected spectrum in their absolute units:\n",
    "\n",
    "| parameter      | uncorrected | corrected |\n",
    "| :----------:   | ----------- | --------- |\n",
    "| $N_{a}$        | 125,977     | 113,522   |\n",
    "| $N_{ery}$      | 363,349     | 389,237   |\n",
    "| $N_{par}$      | 886,821     | 950,409   |\n",
    "| $T_c$          | 1,748,505   | 1,525,640 |\n",
    "| $p_{ery->par}$ | 2.21e-08    | 2.14e-08  |\n",
    "| $p_{par->ery}$ | 3.27e-07    | 2.60e-07  |\n",
    "| $T_i$          | 43,628      | 26,970    |\n",
    "| D              | 1044        | 406       |\n",
    "\n",
    "$N_x$ have unit *individuals*, $T_x$ has unit *generations*, $p_x$ are proportions of new immigrant alleles per generation and D is two times the likelihood ratio between the best fit parameters of this model with the hitherto best performing _asymmetric migration_ model."
   ]
  },
  {
   "cell_type": "markdown",
   "metadata": {},
   "source": [
    "Note that with the uncorrected spectrum, I could not achieve satisfactory convergence of parameter estimations. The parameters inferred with the corrected spectrum are therefore more reliable. The inferred population sizes for ERY and PAR aren't very different between corrected and uncorrected spectra and so is the inferred time of contact ($T_c$). The migration rates are slightly reduced with the corrected spectrum and the time since cessation of gene flow ($T_i$) is inferred to be even more recent than with the uncorrected spectrum."
   ]
  },
  {
   "cell_type": "markdown",
   "metadata": {},
   "source": [
    "The addition of $T_i$ improves the model by 203 log likelihood units as compared to the model without a period of complete isolation (`split_asym_mig` above). If the better fit is not just due to fitting noise and bias in the data, then this means that the final period of complete isolation is significantly greater than 0. I think the fact that both the raw and the corrected spectrum lead to very similar parameter estimates provides some support for the interpretation that $T_i$ is actually greater than zero and that this is not just due to fitting noise or bias in the data."
   ]
  },
  {
   "cell_type": "code",
   "execution_count": 67,
   "metadata": {
    "collapsed": false
   },
   "outputs": [
    {
     "data": {
      "image/png": "[encoded data removed]",
      "text/plain": [
       "<matplotlib.figure.Figure at 0x7f0b19392750>"
      ]
     },
     "metadata": {},
     "output_type": "display_data"
    }
   ],
   "source": [
    "dadi.Plotting.plot_2d_comp_multinom(model=model, data=sfs2d, vmin=1)"
   ]
  },
  {
   "cell_type": "markdown",
   "metadata": {},
   "source": [
    "## recent restart of gene flow"
   ]
  },
  {
   "cell_type": "markdown",
   "metadata": {},
   "source": [
    "The two populations are relatively close to the hybrid zone centre at the Col de la Quillane in the Pyrenees. The clines for some characters have been shown to be many kilometers wide. It can therefore be assumed that there is some recent gene flow between the two populations. Can this gene flow be detected from this spectrum?"
   ]
  },
  {
   "cell_type": "code",
   "execution_count": 1,
   "metadata": {
    "collapsed": true
   },
   "outputs": [],
   "source": [
    "def split_mig_iso_mig(params, ns, pts):\n",
    "    \"\"\"\n",
    "    params = (nu1,nu2,Tc,m1,m2,Ti,Tsc)\n",
    "    ns = (n1,n2)\n",
    "\n",
    "    Split into two populations of specifed size, with potentially asymmetric migration\n",
    "    for a time Tc followed by a period of complete isolation Ti which is followed by a restart of\n",
    "    migration until present. Migration rates in the two epochs are assumed to be equal (and constant).\n",
    "\n",
    "    nu1: Size of population 1 after split.\n",
    "    nu2: Size of population 2 after split.\n",
    "    Tc: Time of gene flow after split (in units of 2*Na generations) \n",
    "    m1: Migration rate from ery into par (in units of 2*Na ind per generation)\n",
    "    m2: Migration rate from par into ery (in units of 2*Na ind per generation)\n",
    "    Ti: Time of isolation after cessation of gene flow\n",
    "    Tsc: Time of gene flow after period of isolation until present\n",
    "    \n",
    "    The split lies Tc+Ti+Tsc * 2Na generations in the past.\n",
    "    \n",
    "    n1,n2: Sample sizes of resulting Spectrum\n",
    "    pts: Number of grid points to use in integration.\n",
    "    \"\"\"\n",
    "    nu1,nu2,Tc,m1,m2,Ti,Tsc = params\n",
    "\n",
    "    xx = dadi.Numerics.default_grid(pts)\n",
    "\n",
    "    phi = dadi.PhiManip.phi_1D(xx)\n",
    "    \n",
    "    # split\n",
    "    phi = dadi.PhiManip.phi_1D_to_2D(xx, phi) \n",
    "    \n",
    "    # divergence with potentially asymmetric migration\n",
    "    phi = dadi.Integration.two_pops(phi, xx, Tc, nu1, nu2, m12=m2, m21=m1)\n",
    "    \n",
    "    # divergence without gene flow\n",
    "    phi = dadi.Integration.two_pops(phi, xx, Ti, nu1, nu2, m12=0, m21=0)\n",
    "    \n",
    "    # divergence with potentially asymmetric migration\n",
    "    phi = dadi.Integration.two_pops(phi, xx, Tsc, nu1, nu2, m12=m2, m21=m1)\n",
    "\n",
    "    fs = dadi.Spectrum.from_phi(phi, ns, (xx,xx))\n",
    "    return fs"
   ]
  },
  {
   "cell_type": "code",
   "execution_count": 69,
   "metadata": {
    "collapsed": true
   },
   "outputs": [],
   "source": [
    "ar_mig_iso_mig = []\n",
    "\n",
    "for filename in glob(\"OUT_2D_models/split_mig_iso_mig*dill\"):\n",
    "    ar_mig_iso_mig.append(dill.load(open(filename)))"
   ]
  },
  {
   "cell_type": "code",
   "execution_count": 70,
   "metadata": {
    "collapsed": false
   },
   "outputs": [
    {
     "data": {
      "text/html": [
       "<div>\n",
       "<table border=\"1\" class=\"dataframe\">\n",
       "  <thead>\n",
       "    <tr style=\"text-align: right;\">\n",
       "      <th></th>\n",
       "      <th>nu1_0</th>\n",
       "      <th>nu2_0</th>\n",
       "      <th>Tc_0</th>\n",
       "      <th>m1_0</th>\n",
       "      <th>m2_0</th>\n",
       "      <th>Ti_0</th>\n",
       "      <th>Tsc_0</th>\n",
       "      <th>nu1_opt</th>\n",
       "      <th>nu2_opt</th>\n",
       "      <th>Tc_opt</th>\n",
       "      <th>m1_opt</th>\n",
       "      <th>m2_opt</th>\n",
       "      <th>Ti_opt</th>\n",
       "      <th>Tsc_opt</th>\n",
       "      <th>-logL</th>\n",
       "    </tr>\n",
       "  </thead>\n",
       "  <tbody>\n",
       "    <tr>\n",
       "      <th>0</th>\n",
       "      <td>3.367161</td>\n",
       "      <td>5.873662</td>\n",
       "      <td>5.181757</td>\n",
       "      <td>0.021243</td>\n",
       "      <td>0.131704</td>\n",
       "      <td>0.134310</td>\n",
       "      <td>0.012568</td>\n",
       "      <td>3.188610</td>\n",
       "      <td>7.794114</td>\n",
       "      <td>6.164844</td>\n",
       "      <td>0.043640</td>\n",
       "      <td>0.218696</td>\n",
       "      <td>0.114964</td>\n",
       "      <td>0.004645</td>\n",
       "      <td>12155.538032</td>\n",
       "    </tr>\n",
       "    <tr>\n",
       "      <th>11</th>\n",
       "      <td>4.848455</td>\n",
       "      <td>7.844252</td>\n",
       "      <td>6.532817</td>\n",
       "      <td>0.065627</td>\n",
       "      <td>0.291770</td>\n",
       "      <td>0.149297</td>\n",
       "      <td>0.006102</td>\n",
       "      <td>3.120969</td>\n",
       "      <td>7.612606</td>\n",
       "      <td>6.000069</td>\n",
       "      <td>0.045012</td>\n",
       "      <td>0.222445</td>\n",
       "      <td>0.112705</td>\n",
       "      <td>0.004608</td>\n",
       "      <td>12155.590169</td>\n",
       "    </tr>\n",
       "    <tr>\n",
       "      <th>4</th>\n",
       "      <td>3.581468</td>\n",
       "      <td>4.386019</td>\n",
       "      <td>7.920000</td>\n",
       "      <td>0.040211</td>\n",
       "      <td>0.199524</td>\n",
       "      <td>0.090897</td>\n",
       "      <td>0.006340</td>\n",
       "      <td>3.105754</td>\n",
       "      <td>7.584235</td>\n",
       "      <td>5.979666</td>\n",
       "      <td>0.044949</td>\n",
       "      <td>0.224270</td>\n",
       "      <td>0.111817</td>\n",
       "      <td>0.004517</td>\n",
       "      <td>12155.591385</td>\n",
       "    </tr>\n",
       "    <tr>\n",
       "      <th>10</th>\n",
       "      <td>2.861802</td>\n",
       "      <td>6.174207</td>\n",
       "      <td>6.206258</td>\n",
       "      <td>0.023059</td>\n",
       "      <td>0.194373</td>\n",
       "      <td>0.107483</td>\n",
       "      <td>0.019635</td>\n",
       "      <td>3.037227</td>\n",
       "      <td>7.420328</td>\n",
       "      <td>5.807496</td>\n",
       "      <td>0.045940</td>\n",
       "      <td>0.228788</td>\n",
       "      <td>0.109332</td>\n",
       "      <td>0.004451</td>\n",
       "      <td>12155.596732</td>\n",
       "    </tr>\n",
       "    <tr>\n",
       "      <th>17</th>\n",
       "      <td>2.615168</td>\n",
       "      <td>14.532166</td>\n",
       "      <td>6.177148</td>\n",
       "      <td>0.038351</td>\n",
       "      <td>0.161283</td>\n",
       "      <td>0.116289</td>\n",
       "      <td>0.019920</td>\n",
       "      <td>3.021104</td>\n",
       "      <td>7.379894</td>\n",
       "      <td>5.769061</td>\n",
       "      <td>0.046165</td>\n",
       "      <td>0.229732</td>\n",
       "      <td>0.108768</td>\n",
       "      <td>0.005524</td>\n",
       "      <td>12155.718311</td>\n",
       "    </tr>\n",
       "    <tr>\n",
       "      <th>19</th>\n",
       "      <td>4.689580</td>\n",
       "      <td>4.930597</td>\n",
       "      <td>7.920000</td>\n",
       "      <td>0.036797</td>\n",
       "      <td>0.243583</td>\n",
       "      <td>0.130929</td>\n",
       "      <td>0.019558</td>\n",
       "      <td>3.746330</td>\n",
       "      <td>9.107319</td>\n",
       "      <td>7.386824</td>\n",
       "      <td>0.039007</td>\n",
       "      <td>0.187509</td>\n",
       "      <td>0.149092</td>\n",
       "      <td>0.012786</td>\n",
       "      <td>12156.381833</td>\n",
       "    </tr>\n",
       "    <tr>\n",
       "      <th>9</th>\n",
       "      <td>2.646968</td>\n",
       "      <td>3.943732</td>\n",
       "      <td>3.992614</td>\n",
       "      <td>0.063371</td>\n",
       "      <td>0.344669</td>\n",
       "      <td>0.221130</td>\n",
       "      <td>0.010017</td>\n",
       "      <td>2.698943</td>\n",
       "      <td>6.615402</td>\n",
       "      <td>5.040117</td>\n",
       "      <td>0.050977</td>\n",
       "      <td>0.258592</td>\n",
       "      <td>0.094888</td>\n",
       "      <td>0.002855</td>\n",
       "      <td>12156.558507</td>\n",
       "    </tr>\n",
       "    <tr>\n",
       "      <th>15</th>\n",
       "      <td>5.958216</td>\n",
       "      <td>10.071090</td>\n",
       "      <td>7.920000</td>\n",
       "      <td>0.070913</td>\n",
       "      <td>0.185235</td>\n",
       "      <td>0.168712</td>\n",
       "      <td>0.018208</td>\n",
       "      <td>3.880071</td>\n",
       "      <td>9.474192</td>\n",
       "      <td>7.726884</td>\n",
       "      <td>0.036690</td>\n",
       "      <td>0.181476</td>\n",
       "      <td>0.155206</td>\n",
       "      <td>0.016580</td>\n",
       "      <td>12156.884063</td>\n",
       "    </tr>\n",
       "    <tr>\n",
       "      <th>1</th>\n",
       "      <td>2.805249</td>\n",
       "      <td>5.052889</td>\n",
       "      <td>4.014091</td>\n",
       "      <td>0.029912</td>\n",
       "      <td>0.231140</td>\n",
       "      <td>0.202572</td>\n",
       "      <td>0.014063</td>\n",
       "      <td>2.486040</td>\n",
       "      <td>6.086709</td>\n",
       "      <td>4.536669</td>\n",
       "      <td>0.055292</td>\n",
       "      <td>0.278498</td>\n",
       "      <td>0.089498</td>\n",
       "      <td>0.005871</td>\n",
       "      <td>12156.937086</td>\n",
       "    </tr>\n",
       "    <tr>\n",
       "      <th>12</th>\n",
       "      <td>8.362353</td>\n",
       "      <td>7.174874</td>\n",
       "      <td>4.318747</td>\n",
       "      <td>0.030505</td>\n",
       "      <td>0.314294</td>\n",
       "      <td>0.029781</td>\n",
       "      <td>0.046488</td>\n",
       "      <td>3.054782</td>\n",
       "      <td>7.596574</td>\n",
       "      <td>5.940901</td>\n",
       "      <td>0.042105</td>\n",
       "      <td>0.238595</td>\n",
       "      <td>0.125940</td>\n",
       "      <td>0.010319</td>\n",
       "      <td>12159.837573</td>\n",
       "    </tr>\n",
       "  </tbody>\n",
       "</table>\n",
       "</div>"
      ],
      "text/plain": [
       "       nu1_0      nu2_0      Tc_0      m1_0      m2_0      Ti_0     Tsc_0  \\\n",
       "0   3.367161   5.873662  5.181757  0.021243  0.131704  0.134310  0.012568   \n",
       "11  4.848455   7.844252  6.532817  0.065627  0.291770  0.149297  0.006102   \n",
       "4   3.581468   4.386019  7.920000  0.040211  0.199524  0.090897  0.006340   \n",
       "10  2.861802   6.174207  6.206258  0.023059  0.194373  0.107483  0.019635   \n",
       "17  2.615168  14.532166  6.177148  0.038351  0.161283  0.116289  0.019920   \n",
       "19  4.689580   4.930597  7.920000  0.036797  0.243583  0.130929  0.019558   \n",
       "9   2.646968   3.943732  3.992614  0.063371  0.344669  0.221130  0.010017   \n",
       "15  5.958216  10.071090  7.920000  0.070913  0.185235  0.168712  0.018208   \n",
       "1   2.805249   5.052889  4.014091  0.029912  0.231140  0.202572  0.014063   \n",
       "12  8.362353   7.174874  4.318747  0.030505  0.314294  0.029781  0.046488   \n",
       "\n",
       "     nu1_opt   nu2_opt    Tc_opt    m1_opt    m2_opt    Ti_opt   Tsc_opt  \\\n",
       "0   3.188610  7.794114  6.164844  0.043640  0.218696  0.114964  0.004645   \n",
       "11  3.120969  7.612606  6.000069  0.045012  0.222445  0.112705  0.004608   \n",
       "4   3.105754  7.584235  5.979666  0.044949  0.224270  0.111817  0.004517   \n",
       "10  3.037227  7.420328  5.807496  0.045940  0.228788  0.109332  0.004451   \n",
       "17  3.021104  7.379894  5.769061  0.046165  0.229732  0.108768  0.005524   \n",
       "19  3.746330  9.107319  7.386824  0.039007  0.187509  0.149092  0.012786   \n",
       "9   2.698943  6.615402  5.040117  0.050977  0.258592  0.094888  0.002855   \n",
       "15  3.880071  9.474192  7.726884  0.036690  0.181476  0.155206  0.016580   \n",
       "1   2.486040  6.086709  4.536669  0.055292  0.278498  0.089498  0.005871   \n",
       "12  3.054782  7.596574  5.940901  0.042105  0.238595  0.125940  0.010319   \n",
       "\n",
       "           -logL  \n",
       "0   12155.538032  \n",
       "11  12155.590169  \n",
       "4   12155.591385  \n",
       "10  12155.596732  \n",
       "17  12155.718311  \n",
       "19  12156.381833  \n",
       "9   12156.558507  \n",
       "15  12156.884063  \n",
       "1   12156.937086  \n",
       "12  12159.837573  "
      ]
     },
     "execution_count": 70,
     "metadata": {},
     "output_type": "execute_result"
    }
   ],
   "source": [
    "l = 2*7+1\n",
    "\n",
    "# show all parameter combinations\n",
    "returned = [flatten(out)[:l] for out in ar_mig_iso_mig]\n",
    "\n",
    "df = pd.DataFrame(data=returned, \\\n",
    "                  columns=['nu1_0','nu2_0', 'Tc_0', 'm1_0', 'm2_0', 'Ti_0', 'Tsc_0', 'nu1_opt', 'nu2_opt', 'Tc_opt', 'm1_opt', 'm2_opt', 'Ti_opt', 'Tsc_opt', '-logL'])\n",
    "\n",
    "df.sort_values(by='-logL', ascending=True).head(10)"
   ]
  },
  {
   "cell_type": "markdown",
   "metadata": {},
   "source": [
    "This is good convergence."
   ]
  },
  {
   "cell_type": "markdown",
   "metadata": {},
   "source": [
    "The best-fit ancient migration model had a log likelihood of -12156. So only one log likelihood unit worse."
   ]
  },
  {
   "cell_type": "code",
   "execution_count": 72,
   "metadata": {
    "collapsed": false
   },
   "outputs": [
    {
     "data": {
      "text/plain": [
       "1.0465540000004694"
      ]
     },
     "execution_count": 72,
     "metadata": {},
     "output_type": "execute_result"
    }
   ],
   "source": [
    "ll_s = 12156.061309\n",
    "ll_c = 12155.538032\n",
    "D = 2 * (ll_s - ll_c)\n",
    "D"
   ]
  },
  {
   "cell_type": "code",
   "execution_count": 73,
   "metadata": {
    "collapsed": false
   },
   "outputs": [
    {
     "data": {
      "text/plain": [
       "0.15315103430195065"
      ]
     },
     "execution_count": 73,
     "metadata": {},
     "output_type": "execute_result"
    }
   ],
   "source": [
    "# calculate p-value for Chi-square dist.\n",
    "# the weights specify a weighted sum of chi^2 distributions with 1 and 2 d.o.f\n",
    "# this is because Tsc is 0 in the split_asym_mig_iso model and at the boundary of the parameter space\n",
    "p = dadi.Godambe.sum_chi2_ppf(D, weights=(0.5, 0.5))\n",
    "p"
   ]
  },
  {
   "cell_type": "markdown",
   "metadata": {},
   "source": [
    "A recent restart of gene flow cannot be detected from this corrected spectrum. I arrived at the same result with the uncorrected spectrum. Although not significant, the inferred Tsc corresponds to 1,135 generations. With the uncorrected spectrum, the inferred Tsc corresponded to 2 generations."
   ]
  },
  {
   "cell_type": "markdown",
   "metadata": {},
   "source": [
    "# ancestral population size change"
   ]
  },
  {
   "cell_type": "markdown",
   "metadata": {},
   "source": [
    "I have a fit a model that adds to the _ancient migration_ model a potential size change in the ancestral population to ERY and PAR."
   ]
  },
  {
   "cell_type": "markdown",
   "metadata": {},
   "source": [
    "Refining runs with Nelder-Mead and BFGS algorithms could not achieve good convergence. Quite different demographic scenarios have almost identical likelihood (12,156). The _ancient migration_ model from above had -logL of 12,156 with it's best fit parameter values. A population size change in the ancestral population to ERY and PAR cannot therefore not be inferred from this spectrum."
   ]
  },
  {
   "cell_type": "markdown",
   "metadata": {},
   "source": [
    "This _ancestral population size change_ model predicts a very similar demographic history as the _ancient migration_ model.That is it does not predict a very different time of split between ERY and PAR, for instance. That is still estimated to be ~1.5 million years ago. The same is true for the other parameters that overlap with the _ancient migration_ model."
   ]
  },
  {
   "cell_type": "markdown",
   "metadata": {},
   "source": [
    "## Conclusion"
   ]
  },
  {
   "cell_type": "markdown",
   "metadata": {},
   "source": [
    "There is no major difference in the parameter estimates from the corrected and uncorrected spectrum. Apart from a slightly younger but still ancient origin of ERY and PAR of 1,525,640 years, the corrected spectrum infers a more recent cessation of gene flow (26,970 years) than the uncorrected spectrum. There is however better convergence of parameter optimisations with the corrected spectrum, which may indicate that the estimates with the corrected spectrum are more reliable."
   ]
  },
  {
   "cell_type": "markdown",
   "metadata": {},
   "source": [
    "![ancient migration](model.png)"
   ]
  },
  {
   "cell_type": "markdown",
   "metadata": {},
   "source": [
    "The numbers on the right in the upper plot are a bit misleading. It's a 27 (ky ago) and a zero."
   ]
  }
 ],
 "metadata": {
  "anaconda-cloud": {},
  "kernelspec": {
   "display_name": "Python [default]",
   "language": "python",
   "name": "python2"
  },
  "language_info": {
   "codemirror_mode": {
    "name": "ipython",
    "version": 2
   },
   "file_extension": ".py",
   "mimetype": "text/x-python",
   "name": "python",
   "nbconvert_exporter": "python",
   "pygments_lexer": "ipython2",
   "version": "2.7.12"
  },
  "toc": {
   "colors": {
    "hover_highlight": "#DAA520",
    "running_highlight": "#FF0000",
    "selected_highlight": "#FFD700"
   },
   "moveMenuLeft": true,
   "nav_menu": {
    "height": "105px",
    "width": "252px"
   },
   "navigate_menu": true,
   "number_sections": true,
   "sideBar": true,
   "threshold": 4,
   "toc_cell": true,
   "toc_section_display": "block",
   "toc_window_display": true
  }
 },
 "nbformat": 4,
 "nbformat_minor": 0
}
