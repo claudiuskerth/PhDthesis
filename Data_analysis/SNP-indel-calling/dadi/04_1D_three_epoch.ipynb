{
 "cells": [
  {
   "cell_type": "markdown",
   "metadata": {
    "toc": "true"
   },
   "source": [
    "# Table of Contents\n",
    " <p><div class=\"lev1 toc-item\"><a data-toc-modified-id=\"erythropus-1\" href=\"#erythropus\"><span class=\"toc-item-num\">1&nbsp;&nbsp;</span>erythropus</a></div><div class=\"lev1 toc-item\"><a data-toc-modified-id=\"parallelus-2\" href=\"#parallelus\"><span class=\"toc-item-num\">2&nbsp;&nbsp;</span>parallelus</a></div><div class=\"lev2 toc-item\"><a data-toc-modified-id=\"retry-two_epoch-model-with-PAR-spectrum-21\" href=\"#retry-two_epoch-model-with-PAR-spectrum\"><span class=\"toc-item-num\">2.1&nbsp;&nbsp;</span>retry two_epoch model with PAR spectrum</a></div><div class=\"lev1 toc-item\"><a data-toc-modified-id=\"retry-two_epoch-model-with-ery-spectrum-3\" href=\"#retry-two_epoch-model-with-ery-spectrum\"><span class=\"toc-item-num\">3&nbsp;&nbsp;</span>retry two_epoch model with ery spectrum</a></div>"
   ]
  },
  {
   "cell_type": "markdown",
   "metadata": {},
   "source": [
    "# erythropus"
   ]
  },
  {
   "cell_type": "markdown",
   "metadata": {},
   "source": [
    "I am going to use the same parallel framework as used for the `bottlegrowth` model, i. e. using the `subprocess` module to spawn different processes for different optimisations and using `pgrep` together with `kill` to abort jobs that run too long. For smaller optimisations, I am going to use `ipyparallel`."
   ]
  },
  {
   "cell_type": "markdown",
   "metadata": {},
   "source": [
    "I have written a python script called `run_dadi.py`, which can take many command line arguments and in the following parallel framework is the replacement for the `run_dadi` function used previously."
   ]
  },
  {
   "cell_type": "code",
   "execution_count": 1,
   "metadata": {
    "collapsed": true
   },
   "outputs": [],
   "source": [
    "%less run_dadi.py"
   ]
  },
  {
   "cell_type": "code",
   "execution_count": 2,
   "metadata": {
    "collapsed": false
   },
   "outputs": [
    {
     "name": "stdout",
     "output_type": "stream",
     "text": [
      "usage: run_dadi.py [-h] [-p PATH_TO_SPECTRUM_FILE] [-m DADI_MODEL] [-u UPPER]\r\n",
      "                   [-l LOWER] [-i P_INIT] [-d DADI_OPT_FUNC] [-s STUB]\r\n",
      "                   [--maxiter MAXITER]\r\n",
      "\r\n",
      "runs dadi optimisation of parameters for given model\r\n",
      "\r\n",
      "optional arguments:\r\n",
      "  -h, --help            show this help message and exit\r\n",
      "  -p PATH_TO_SPECTRUM_FILE, --path_to_spectrum_file PATH_TO_SPECTRUM_FILE\r\n",
      "                        file path to site frequency data\r\n",
      "  -m DADI_MODEL, --dadi_model DADI_MODEL\r\n",
      "                        model function to use\r\n",
      "  -u UPPER, --upper UPPER\r\n",
      "                        upper parameter bound\r\n",
      "  -l LOWER, --lower LOWER\r\n",
      "                        lower parameter bound\r\n",
      "  -i P_INIT, --p_init P_INIT\r\n",
      "                        initial parameter values\r\n",
      "  -d DADI_OPT_FUNC, --dadi_opt_func DADI_OPT_FUNC\r\n",
      "                        dadi optimisation function to use\r\n",
      "  -s STUB, --stub STUB  file name stub for output files\r\n",
      "  --maxiter MAXITER     maximum number of iterations allowed\r\n"
     ]
    }
   ],
   "source": [
    "! ./run_dadi.py -h"
   ]
  },
  {
   "cell_type": "code",
   "execution_count": 1,
   "metadata": {
    "collapsed": true
   },
   "outputs": [],
   "source": [
    "import multiprocessing\n",
    "import subprocess32 as subprocess\n",
    "import time, signal, os, pickle\n",
    "import numpy as np"
   ]
  },
  {
   "cell_type": "code",
   "execution_count": 4,
   "metadata": {
    "collapsed": false
   },
   "outputs": [
    {
     "data": {
      "text/plain": [
       "24"
      ]
     },
     "execution_count": 4,
     "metadata": {},
     "output_type": "execute_result"
    }
   ],
   "source": [
    "multiprocessing.cpu_count()"
   ]
  },
  {
   "cell_type": "code",
   "execution_count": 2,
   "metadata": {
    "collapsed": true
   },
   "outputs": [],
   "source": [
    "import sys\n",
    "\n",
    "sys.path.insert(0, '/home/claudius/Downloads/dadi')\n",
    "\n",
    "import dadi"
   ]
  },
  {
   "cell_type": "code",
   "execution_count": 55,
   "metadata": {
    "collapsed": true
   },
   "outputs": [],
   "source": [
    "?dadi.Demographics1D.three_epoch"
   ]
  },
  {
   "cell_type": "markdown",
   "metadata": {
    "collapsed": true
   },
   "source": [
    "The built-in `three_epoch` model specifies a piecewise history (with only instantaneous population size changes instead of gradual changes). At time $TF+TB$ the ancient population underwent a size change, stayed at this size for $TB \\times 2N_{ref}$ generations and then underwent a second size size change $TF \\times 2N_{ref}$ generations in the past to the contemporary population size. The model has therefore two population size parameters, $\\nu_B$ and $\\nu_F$ as well as two time parameters, $TB$ and $TF$."
   ]
  },
  {
   "cell_type": "code",
   "execution_count": 5,
   "metadata": {
    "collapsed": true
   },
   "outputs": [],
   "source": [
    "# set lower and upper bounds to nuB, nuF and T\n",
    "upper_bound = [1e4, 1e4, 4, 4]\n",
    "lower_bound = [1e-4, 1e-4, 0, 0]"
   ]
  },
  {
   "cell_type": "code",
   "execution_count": 6,
   "metadata": {
    "collapsed": true
   },
   "outputs": [],
   "source": [
    "# create range of starting values evenly distributed in log space\n",
    "p0_nuB = np.logspace(-3, 3, base=10.0, num=6)\n",
    "p0_nuF = np.logspace(-3, 3, base=10.0, num=6)\n",
    "p0_TF = np.logspace(-4, np.log10(4), base=10, num=6)\n",
    "p0_TB = np.logspace(-4, np.log10(4), base=10, num=6)"
   ]
  },
  {
   "cell_type": "code",
   "execution_count": 7,
   "metadata": {
    "collapsed": false
   },
   "outputs": [
    {
     "name": "stdout",
     "output_type": "stream",
     "text": [
      "There are 1296 starting parameter values\n"
     ]
    }
   ],
   "source": [
    "print \"There are %d starting parameter values\" % (6**4)"
   ]
  },
  {
   "cell_type": "markdown",
   "metadata": {},
   "source": [
    "These are already an enormous amount of parameter combinations. I think I will need to keep `maxiter` low so that optimisations that do not converge early end more quickly when they hit the maximum number of iterations. I will also frequently have to prune the available cores of optimisation runs that have already taken a considerable amount of time. This can be done with the following command:\n",
    "\n",
    "    pgrep -of \"python ./run_dadi.py\" | xargs kill"
   ]
  },
  {
   "cell_type": "markdown",
   "metadata": {},
   "source": [
    "The following variables will be passed as string values to `run_dadi.py`:"
   ]
  },
  {
   "cell_type": "code",
   "execution_count": 8,
   "metadata": {
    "collapsed": true
   },
   "outputs": [],
   "source": [
    "path_to_spectrum_file = \"dadiExercises/ERY.FOLDED.sfs.dadi_format\"\n",
    "dadi_model = \"dadi.Demographics1D.three_epoch\"\n",
    "upper = str(upper_bound)\n",
    "lower = str(lower_bound)\n",
    "dadi_opt_func = \"dadi.Inference.optimize_log_fmin\" # Nelder-Mead\n",
    "stub = \"ERY_three_epoch_NM\"\n",
    "maxiter = 10 # keep maxiter low, but not too low to allow convergence of some optimisations"
   ]
  },
  {
   "cell_type": "code",
   "execution_count": 11,
   "metadata": {
    "collapsed": false
   },
   "outputs": [
    {
     "name": "stdout",
     "output_type": "stream",
     "text": [
      "usage: run_dadi.py [-h] [-p PATH_TO_SPECTRUM_FILE] [-m DADI_MODEL] [-u UPPER]\n",
      "                   [-l LOWER] [-i P_INIT] [-d DADI_OPT_FUNC] [-s STUB]\n",
      "                   [--maxiter MAXITER]\n",
      "\n",
      "runs dadi optimisation of parameters for given model\n",
      "\n",
      "optional arguments:\n",
      "  -h, --help            show this help message and exit\n",
      "  -p PATH_TO_SPECTRUM_FILE, --path_to_spectrum_file PATH_TO_SPECTRUM_FILE\n",
      "                        file path to site frequency data\n",
      "  -m DADI_MODEL, --dadi_model DADI_MODEL\n",
      "                        model function to use\n",
      "  -u UPPER, --upper UPPER\n",
      "                        upper parameter bound\n",
      "  -l LOWER, --lower LOWER\n",
      "                        lower parameter bound\n",
      "  -i P_INIT, --p_init P_INIT\n",
      "                        initial parameter values\n",
      "  -d DADI_OPT_FUNC, --dadi_opt_func DADI_OPT_FUNC\n",
      "                        dadi optimisation function to use\n",
      "  -s STUB, --stub STUB  file name stub for output files\n",
      "  --maxiter MAXITER     maximum number of iterations allowed\n"
     ]
    }
   ],
   "source": [
    "%run run_dadi.py -h"
   ]
  },
  {
   "cell_type": "code",
   "execution_count": 9,
   "metadata": {
    "collapsed": true
   },
   "outputs": [],
   "source": [
    "from itertools import product"
   ]
  },
  {
   "cell_type": "code",
   "execution_count": 10,
   "metadata": {
    "collapsed": false
   },
   "outputs": [
    {
     "name": "stdout",
     "output_type": "stream",
     "text": [
      "./run_dadi.py -p dadiExercises/ERY.FOLDED.sfs.dadi_format -m dadi.Demographics1D.three_epoch -u '[10000.0, 10000.0, 4, 4]' -l '[0.0001, 0.0001, 0, 0]' -d dadi.Inference.optimize_log_fmin -s ERY_three_epoch_NM --maxiter 10 -i '(0.001, 0.001, 0.0001, 0.0001)'\n"
     ]
    }
   ],
   "source": [
    "# check creation of command line\n",
    "\n",
    "for i, p_init in enumerate(product(p0_nuB, p0_nuF, p0_TF, p0_TB)):\n",
    "    cmd = \"./run_dadi.py -p %s -m %s -u '%s' -l '%s' -d %s -s %s --maxiter %s -i '%s'\" \\\n",
    "                % (path_to_spectrum_file, dadi_model, upper, lower, dadi_opt_func, stub, str(maxiter), str(p_init))\n",
    "    print cmd\n",
    "    if i >= 0: break"
   ]
  },
  {
   "cell_type": "markdown",
   "metadata": {},
   "source": [
    "Next, I need to define an executor class that takes care of submiting jobs as slots become available. This is taken from [Tiago Antao's Cookbook](http://tiago.org/):"
   ]
  },
  {
   "cell_type": "code",
   "execution_count": 12,
   "metadata": {
    "collapsed": true
   },
   "outputs": [],
   "source": [
    "class executor:\n",
    "    def __init__(self, limit):\n",
    "        self.limit = limit\n",
    "        self.ncores = multiprocessing.cpu_count()\n",
    "        self.running = []\n",
    "        self.finished = 0\n",
    "\n",
    "    def submit(self, cmd, p_init):\n",
    "        self.wait() \n",
    "        if hasattr(self, 'out'):\n",
    "            out = self.out\n",
    "        else:\n",
    "            out = '/dev/null'\n",
    "        if hasattr(self, 'err'):\n",
    "            err = self.err\n",
    "        else:\n",
    "            err = '/dev/null'\n",
    "        if err == 'stderr':\n",
    "            errSt = ''\n",
    "        else:\n",
    "            errSt = '2> ' + err\n",
    "        # this is where the magic happens:\n",
    "        proc = subprocess.Popen('%s > %s %s' % (cmd, out, errSt), shell=True)\n",
    "        self.running.append(proc)\n",
    "        #\n",
    "        if hasattr(self, 'out'):\n",
    "            del self.out\n",
    "        if hasattr(self, 'err'):\n",
    "            del self.err\n",
    "            \n",
    "    def wait(self, for_all=False):\n",
    "        self.clean_done()\n",
    "        #numWaits = 0\n",
    "        if self.limit > 0 and type(self.limit) == int:\n",
    "            cond = 'len(self.running) >= self.ncores - self.limit'\n",
    "        elif self.limit < 0:\n",
    "            cond = 'len(self.running) >= - self.limit'\n",
    "        else:\n",
    "            cond = 'len(self.running) >= self.ncores * self.limit'\n",
    "        while eval(cond) or (for_all and len(self.running) > 0):\n",
    "            time.sleep(1)\n",
    "            self.clean_done() # updates self.running, removes finished jobs from the running queue\n",
    "            #numWaits += 1\n",
    "            \n",
    "    def clean_done(self):\n",
    "        terminated = []\n",
    "        for i, p in enumerate(self.running):\n",
    "            if p.poll() is not None: # None means it's still running\n",
    "                terminated.append(i)\n",
    "        for idx in reversed(terminated):\n",
    "            del self.running[idx]\n",
    "            self.finished += 1\n",
    "            \n",
    "    def progress(self):\n",
    "        self.clean_done()\n",
    "        print self.finished"
   ]
  },
  {
   "cell_type": "code",
   "execution_count": null,
   "metadata": {
    "collapsed": true
   },
   "outputs": [],
   "source": [
    "E = executor(limit=-18) # use up to 18 cores\n",
    "\n",
    "# this will block\n",
    "for i, p_init in enumerate(product(p0_nuB, p0_nuF, p0_TF, p0_TB)):\n",
    "    cmd = \"./run_dadi.py -p %s -m %s -u '%s' -l '%s' -d %s -s %s --maxiter %s -i '%s'\" \\\n",
    "                % (path_to_spectrum_file, dadi_model, upper, lower, dadi_opt_func, stub, str(maxiter), str(p_init))\n",
    "    E.err = \"stderr\"\n",
    "    E.submit(cmd, p_init)"
   ]
  },
  {
   "cell_type": "markdown",
   "metadata": {
    "collapsed": true
   },
   "source": [
    "After 191 output file had been created, I loaded those pickle files into another notebook (because the upper command blocks the current session). A check of the returned optimisation flags showed that all 191 optimisations had reached the maximum number of iterations, i. e. none had converged."
   ]
  },
  {
   "cell_type": "markdown",
   "metadata": {},
   "source": [
    "After 414 optimisations without a single successful optimisation, I have decided to abort this sweep through the parameter space. Due to the size of the parameter space, even with just 6 samples per parameter, increasing the maximum number of allowed iterations per optimisation is not an option due to prohibitive running time given this is still an exploratory analysis."
   ]
  },
  {
   "cell_type": "markdown",
   "metadata": {},
   "source": [
    "I think my only option of finding optimal parameter values for this model is to start at some reasonable combination of parameters, perturb them and run optimisations with those slightly perturbed initial parameter values."
   ]
  },
  {
   "cell_type": "markdown",
   "metadata": {},
   "source": [
    "Let's first try to do this with `ipyparallel`."
   ]
  },
  {
   "cell_type": "code",
   "execution_count": 1,
   "metadata": {
    "collapsed": false
   },
   "outputs": [
    {
     "data": {
      "text/plain": [
       "[0, 1, 2, 3, 4, 5, 6, 7, 8, 9, 10, 11, 12, 13, 14, 15, 16, 17, 18, 19]"
      ]
     },
     "execution_count": 1,
     "metadata": {},
     "output_type": "execute_result"
    }
   ],
   "source": [
    "from ipyparallel import Client\n",
    "\n",
    "cl = Client()\n",
    "\n",
    "cl.ids"
   ]
  },
  {
   "cell_type": "code",
   "execution_count": 2,
   "metadata": {
    "collapsed": false
   },
   "outputs": [],
   "source": [
    "%%px --local\n",
    "\n",
    "# run whole cell on all engines a well as in the local IPython session\n",
    "\n",
    "import numpy as np\n",
    "\n",
    "import sys\n",
    "\n",
    "sys.path.insert(0, '/home/claudius/Downloads/dadi')\n",
    "\n",
    "import dadi"
   ]
  },
  {
   "cell_type": "code",
   "execution_count": 5,
   "metadata": {
    "collapsed": false
   },
   "outputs": [
    {
     "name": "stdout",
     "output_type": "stream",
     "text": [
      "total 2300\r\n",
      "-rw-rw-r-- 1 claudius 671626 Apr 22 08:22 01_dadi_1D_exp_growth.ipynb\r\n",
      "-rw-rw-r-- 1 claudius 248481 Apr 22 11:27 02_dadi_1D_two_epoch.ipynb\r\n",
      "-rw-rw-r-- 1 claudius 148443 Apr 22 12:25 03_1D_bottlegrowth.ipynb\r\n",
      "-rw-rw-r-- 1 claudius  97634 Apr 22 15:54 04_1D_three_epoch.ipynb\r\n",
      "-rw-rw-r-- 1 claudius 297053 Apr 22 15:51 05_1D_model_synthesis.ipynb\r\n",
      "-rw-rw-r-- 1 claudius 118564 Apr 20 16:47 05_2D.ipynb\r\n",
      "-rw-rw-r-- 1 claudius 444729 Apr 21 10:05 1D_models.ipynb\r\n",
      "-rw-rw-r-- 1 claudius  33125 Apr  8 18:15 1D_two_epoch_opt_res_ERY.dill\r\n",
      "-rw-rw-r-- 1 claudius  16613 Apr  8 19:18 1D_two_epoch_opt_res_PAR.dill\r\n",
      "drwxrwxr-x 4 claudius   4096 Apr 20 10:19 \u001b[0m\u001b[01;34mdadiExercises\u001b[0m/\r\n",
      "-rw-rw-r-- 1 claudius  36308 Apr  3 20:33 \u001b[01;35mery_fold_comp.png\u001b[0m\r\n",
      "-rw-rw-r-- 1 claudius   3560 Mar 25 08:40 EryPar.FOLDED.2dsfs\r\n",
      "-rw-rw-r-- 1 claudius    433 Mar 24 20:15 ERY.unfolded.sfs\r\n",
      "-rw-rw-r-- 1 claudius    421 Mar 24 20:14 ERY.unfolded.sfs~\r\n",
      "-rw-rw-r-- 1 claudius  13913 Apr  6 15:03 exp_growth_optim_res_ERY.pickle\r\n",
      "-rw-rw-r-- 1 claudius  13913 Apr  6 19:21 exp_growth_optim_res_PAR.pickle\r\n",
      "drwxrwxr-x 2 claudius   4096 Apr 22 11:55 \u001b[01;34mOUT_bottlegrowth\u001b[0m/\r\n",
      "drwxrwxr-x 2 claudius  24576 Apr 21 20:19 \u001b[01;34mOUT_exp_growth_model\u001b[0m/\r\n",
      "drwxrwxr-x 2 claudius  73728 Apr 19 17:00 \u001b[01;34mOUT_run_dadi\u001b[0m/\r\n",
      "-rw-rw-r-- 1 claudius  37242 Apr  3 20:35 \u001b[01;35mpar_fold_comp.png\u001b[0m\r\n",
      "-rw-rw-r-- 1 claudius    421 Mar 24 20:16 PAR.unfolded.sfs\r\n",
      "-rw-rw-r-- 1 claudius    409 Mar 24 20:15 PAR.unfolded.sfs~\r\n",
      "-rwxrwxr-x 1 claudius   2790 Apr 17 22:18 \u001b[01;32mrun_dadi.py\u001b[0m*\r\n",
      "-rwxrwxr-x 1 claudius   2790 Apr 17 22:05 \u001b[01;32mrun_dadi.py~\u001b[0m*\r\n",
      "-rw-rw-r-- 1 claudius  12387 Apr 19 16:57 test.ipynb\r\n"
     ]
    }
   ],
   "source": [
    "%ll"
   ]
  },
  {
   "cell_type": "code",
   "execution_count": 6,
   "metadata": {
    "collapsed": false
   },
   "outputs": [
    {
     "name": "stdout",
     "output_type": "stream",
     "text": [
      "37 unfolded\r\n",
      "1592046.636125 7148.627587 6831.828430 3473.268669 3417.591990 2249.932322 1980.824357 1011.763357 2262.489617 557.169754 1049.858226 1159.694611 768.373223 1125.393799 448.462048 544.635916 1014.348661 147.731786 975.251801 233.415985 851.137519 12.642136 803.134099 0.128476 567.179523 446.009983 158.967094 484.096759 372.705620 540.860079 95.276852 808.290844 234.084809 614.920896 625.008059 890.804592 2515.454396 \r\n"
     ]
    }
   ],
   "source": [
    "! cat ERY.unfolded.sfs"
   ]
  },
  {
   "cell_type": "code",
   "execution_count": 3,
   "metadata": {
    "collapsed": true
   },
   "outputs": [],
   "source": [
    "%%px --local\n",
    "\n",
    "# import 1D spectrum of ery on all engines:\n",
    "fs_ery = dadi.Spectrum.from_file('ERY.unfolded.sfs').fold()\n",
    "\n",
    "# import 1D spectrum of ery on all engines:\n",
    "fs_par = dadi.Spectrum.from_file('PAR.unfolded.sfs').fold()"
   ]
  },
  {
   "cell_type": "code",
   "execution_count": 4,
   "metadata": {
    "collapsed": true
   },
   "outputs": [],
   "source": [
    "%%px --local\n",
    "\n",
    "ns = fs_ery.sample_sizes # both populations have the same sample size\n",
    "\n",
    "fs_ery.pop_ids = ['ery']\n",
    "fs_par.pop_ids = ['par']\n",
    "\n",
    "# setting the smallest grid size slightly larger than the largest population sample size (36)\n",
    "pts_l = [50, 60, 70]"
   ]
  },
  {
   "cell_type": "code",
   "execution_count": 5,
   "metadata": {
    "collapsed": true
   },
   "outputs": [],
   "source": [
    "%%px --local\n",
    "\n",
    "# create link to function that specifies the model\n",
    "func = dadi.Demographics1D.three_epoch\n",
    "\n",
    "# create extrapolating version of the model function\n",
    "func_ex = dadi.Numerics.make_extrap_log_func(func)"
   ]
  },
  {
   "cell_type": "code",
   "execution_count": 6,
   "metadata": {
    "collapsed": true
   },
   "outputs": [],
   "source": [
    "%%px\n",
    "\n",
    "# set lower and upper bounds to nuB, nuF and T\n",
    "upper_bound = [1e4, 1e4, 4, 4]\n",
    "lower_bound = [1e-4, 1e-4, 0, 0]"
   ]
  },
  {
   "cell_type": "code",
   "execution_count": 7,
   "metadata": {
    "collapsed": true
   },
   "outputs": [],
   "source": [
    "# create load balanced view of engines\n",
    "\n",
    "lbview = cl.load_balanced_view()"
   ]
  },
  {
   "cell_type": "code",
   "execution_count": 12,
   "metadata": {
    "collapsed": true
   },
   "outputs": [],
   "source": [
    "def run_dadi(p_init): # for the function to be called with map, it needs to have one input variable\n",
    "    \"\"\"\n",
    "    p_init: initial parameter values to run optimisation from\n",
    "    \"\"\"\n",
    "    if perturb == True:\n",
    "        p_init = dadi.Misc.perturb_params(p_init, fold=fold, \n",
    "                                      upper_bound=upper_bound, lower_bound=lower_bound)\n",
    "        # note upper_bound and lower_bound variables are expected to be in the namespace of each engine\n",
    "    # run optimisation of paramters\n",
    "    popt = dadi_opt_func(p0=p_init, data=sfs, model_func=func_ex, pts=pts_l, \\\n",
    "                                   lower_bound=lower_bound, upper_bound=upper_bound, \\\n",
    "                                   verbose=verbose, maxiter=maxiter, full_output=full_output)\n",
    "    return p_init, popt"
   ]
  },
  {
   "cell_type": "code",
   "execution_count": 26,
   "metadata": {
    "collapsed": true
   },
   "outputs": [],
   "source": [
    "%%px\n",
    "\n",
    "# set up global variables on engines required for run_dadi function call\n",
    "\n",
    "dadi_opt_func = dadi.Inference.optimize_log_fmin # uses Nelder-Mead algorithm\n",
    "sfs = fs_ery # use ERY spectrum\n",
    "perturb = True\n",
    "fold = 2\n",
    "maxiter = 20 # run a maximum of 20 iterations\n",
    "verbose = 0\n",
    "full_output = True # need to have full output to get the warnflags (see below)"
   ]
  },
  {
   "cell_type": "code",
   "execution_count": 8,
   "metadata": {
    "collapsed": true
   },
   "outputs": [],
   "source": [
    "from itertools import repeat"
   ]
  },
  {
   "cell_type": "code",
   "execution_count": 27,
   "metadata": {
    "collapsed": true
   },
   "outputs": [],
   "source": [
    "# specify the initial parameter values, they will be randomly perturbed by up to a factor of 2\n",
    "p0 = [1, 1, 1, 1]\n",
    "# these parameters indicate no size changes at times 1 and 2 (x 2N) generations in the past\n",
    "\n",
    "ar_ery = lbview.map(run_dadi, repeat([1, 1, 1, 1], 40), block=False, order=True)"
   ]
  },
  {
   "cell_type": "code",
   "execution_count": 28,
   "metadata": {
    "collapsed": false
   },
   "outputs": [
    {
     "data": {
      "text/plain": [
       "8.650946"
      ]
     },
     "execution_count": 28,
     "metadata": {},
     "output_type": "execute_result"
    }
   ],
   "source": [
    "ar_ery.wall_time"
   ]
  },
  {
   "cell_type": "code",
   "execution_count": 9,
   "metadata": {
    "collapsed": true
   },
   "outputs": [],
   "source": [
    "def get_flag_count(out, NM=True):\n",
    "    \"\"\"\n",
    "    out: list of tuples, each containing p_init and popt + additional info, including warnflags\n",
    "    as produced by run_dadi.py\n",
    "    \"\"\"\n",
    "    from collections import defaultdict\n",
    "    \n",
    "    if NM: # if ar from Nelder-Mead\n",
    "        i = 4 # the warnflag is reported at index position 4 in the output array\n",
    "    else: # ar from BFGS optimisation\n",
    "        i = 6\n",
    "    \n",
    "    warnflag = defaultdict(int)\n",
    "\n",
    "    for res in out:\n",
    "        if res[1][i] == 1: # notice the change in indexing\n",
    "            warnflag[1] +=1\n",
    "        elif res[1][i] == 2:\n",
    "            warnflag[2] += 1\n",
    "        elif res[1][i] == 0:\n",
    "            warnflag[0] += 1\n",
    "        else:\n",
    "            warnflag[999] +=1\n",
    "    if NM:\n",
    "        print \"success\", warnflag[0]\n",
    "        print \"Maximum number of function evaluations made.\", warnflag[1]\n",
    "        print \"Maximum number of iterations reached.\", warnflag[2]\n",
    "        print \"unknown flag\", warnflag[999]\n",
    "    else:\n",
    "        print \"success\", warnflag[0]\n",
    "        print \"Maximum number of iterations exceeded.\", warnflag[1]\n",
    "        print \"Gradient and/or function calls not changing.\", warnflag[2]\n",
    "        print \"unknown flag\", warnflag[999]"
   ]
  },
  {
   "cell_type": "code",
   "execution_count": 30,
   "metadata": {
    "collapsed": false
   },
   "outputs": [
    {
     "name": "stdout",
     "output_type": "stream",
     "text": [
      "success 0\n",
      "Maximum number of function evaluations made. 0\n",
      "Maximum number of iterations reached. 40\n",
      "unknown flag 0\n"
     ]
    }
   ],
   "source": [
    "get_flag_count(ar_ery, NM=True)"
   ]
  },
  {
   "cell_type": "markdown",
   "metadata": {},
   "source": [
    "OK, I obviously need to increase the number of iterations. Since the upper run was extremely fast, I am bold enough to increase `maxiter` to 100."
   ]
  },
  {
   "cell_type": "code",
   "execution_count": 31,
   "metadata": {
    "collapsed": true
   },
   "outputs": [],
   "source": [
    "%%px\n",
    "\n",
    "maxiter = 100"
   ]
  },
  {
   "cell_type": "code",
   "execution_count": 32,
   "metadata": {
    "collapsed": false
   },
   "outputs": [
    {
     "data": {
      "text/plain": [
       "100"
      ]
     },
     "execution_count": 32,
     "metadata": {},
     "output_type": "execute_result"
    }
   ],
   "source": [
    "cl[0]['maxiter']"
   ]
  },
  {
   "cell_type": "code",
   "execution_count": 33,
   "metadata": {
    "collapsed": true
   },
   "outputs": [],
   "source": [
    "# run 40 optimisations with perturbed p0 and maxiter=100\n",
    "\n",
    "ar_ery = lbview.map(run_dadi, repeat(p0, 40), block=False, order=False)"
   ]
  },
  {
   "cell_type": "code",
   "execution_count": 36,
   "metadata": {
    "collapsed": false
   },
   "outputs": [
    {
     "data": {
      "text/plain": [
       "176.171281"
      ]
     },
     "execution_count": 36,
     "metadata": {},
     "output_type": "execute_result"
    }
   ],
   "source": [
    "ar_ery.wall_time"
   ]
  },
  {
   "cell_type": "code",
   "execution_count": 37,
   "metadata": {
    "collapsed": false
   },
   "outputs": [
    {
     "name": "stdout",
     "output_type": "stream",
     "text": [
      "success 7\n",
      "Maximum number of function evaluations made. 0\n",
      "Maximum number of iterations reached. 33\n",
      "unknown flag 0\n"
     ]
    }
   ],
   "source": [
    "get_flag_count(ar_ery, NM=True)"
   ]
  },
  {
   "cell_type": "code",
   "execution_count": 38,
   "metadata": {
    "collapsed": false
   },
   "outputs": [
    {
     "name": "stdout",
     "output_type": "stream",
     "text": [
      "[ 1.85654414  0.24992367  2.21238517  1.25368939] 2168.11186438\n",
      "[ 1.55644243  0.26882739  0.18443449  1.18648075] 2168.11186793\n",
      "[ 5.54171522  0.85587957  2.14281429  3.38509467] 2168.11188321\n",
      "[ 0.32211174  0.22622996  0.15448801  0.94006958] 2168.11186656\n",
      "[ 0.95664403  0.33589903  0.15976201  1.34434968] 2168.11187225\n",
      "[ 2.41036662  0.21918639  0.16579024  1.03361692] 2168.11186581\n",
      "[ 0.03328397  0.11515687  3.99449464  3.37126089] 2173.46212955\n"
     ]
    }
   ],
   "source": [
    "for out in ar_ery:\n",
    "    if out[1][4] == 0:\n",
    "        print out[1][0], out[1][1]"
   ]
  },
  {
   "cell_type": "code",
   "execution_count": 11,
   "metadata": {
    "collapsed": true
   },
   "outputs": [],
   "source": [
    "import dill"
   ]
  },
  {
   "cell_type": "code",
   "execution_count": 141,
   "metadata": {
    "collapsed": false
   },
   "outputs": [],
   "source": [
    "# save optimisation results to file\n",
    "\n",
    "dill.dump(list(ar_ery.get()), open(\"OUT_three_epoch/ERY_perturb_ar_ery.dill\", \"w\"))"
   ]
  },
  {
   "cell_type": "code",
   "execution_count": 10,
   "metadata": {
    "collapsed": true
   },
   "outputs": [],
   "source": [
    "def flatten(array):\n",
    "    \"\"\"\n",
    "        Returns a list of flattened elements of every inner lists (or tuples)\n",
    "        ****RECURSIVE****\n",
    "    \"\"\"\n",
    "    import numpy\n",
    "    res = []\n",
    "    for el in array:\n",
    "        if isinstance(el, (list, tuple, numpy.ndarray)):\n",
    "            res.extend(flatten(el))\n",
    "            continue\n",
    "        res.append(el)\n",
    "    return list( res )"
   ]
  },
  {
   "cell_type": "code",
   "execution_count": 42,
   "metadata": {
    "collapsed": true
   },
   "outputs": [],
   "source": [
    "successfull_popt = [flatten(out)[:9] for out in ar_ery if out[1][4] == 0]"
   ]
  },
  {
   "cell_type": "code",
   "execution_count": 12,
   "metadata": {
    "collapsed": true
   },
   "outputs": [],
   "source": [
    "import pandas as pd"
   ]
  },
  {
   "cell_type": "code",
   "execution_count": 44,
   "metadata": {
    "collapsed": false
   },
   "outputs": [
    {
     "data": {
      "text/html": [
       "<div>\n",
       "<table border=\"1\" class=\"dataframe\">\n",
       "  <thead>\n",
       "    <tr style=\"text-align: right;\">\n",
       "      <th></th>\n",
       "      <th>nuB_0</th>\n",
       "      <th>nuF_0</th>\n",
       "      <th>TB_0</th>\n",
       "      <th>TF_0</th>\n",
       "      <th>nuB_opt</th>\n",
       "      <th>nuF_opt</th>\n",
       "      <th>TB_opt</th>\n",
       "      <th>TF_opt</th>\n",
       "      <th>-logL</th>\n",
       "    </tr>\n",
       "  </thead>\n",
       "  <tbody>\n",
       "    <tr>\n",
       "      <th>0</th>\n",
       "      <td>1.555383</td>\n",
       "      <td>0.293791</td>\n",
       "      <td>1.935427</td>\n",
       "      <td>0.293656</td>\n",
       "      <td>1.856544</td>\n",
       "      <td>0.249924</td>\n",
       "      <td>2.212385</td>\n",
       "      <td>1.253689</td>\n",
       "      <td>2168.111864</td>\n",
       "    </tr>\n",
       "    <tr>\n",
       "      <th>5</th>\n",
       "      <td>2.361740</td>\n",
       "      <td>0.396505</td>\n",
       "      <td>0.305203</td>\n",
       "      <td>0.715585</td>\n",
       "      <td>2.410367</td>\n",
       "      <td>0.219186</td>\n",
       "      <td>0.165790</td>\n",
       "      <td>1.033617</td>\n",
       "      <td>2168.111866</td>\n",
       "    </tr>\n",
       "    <tr>\n",
       "      <th>3</th>\n",
       "      <td>0.308729</td>\n",
       "      <td>2.380386</td>\n",
       "      <td>0.499412</td>\n",
       "      <td>0.948869</td>\n",
       "      <td>0.322112</td>\n",
       "      <td>0.226230</td>\n",
       "      <td>0.154488</td>\n",
       "      <td>0.940070</td>\n",
       "      <td>2168.111867</td>\n",
       "    </tr>\n",
       "    <tr>\n",
       "      <th>1</th>\n",
       "      <td>1.374368</td>\n",
       "      <td>0.309479</td>\n",
       "      <td>0.322377</td>\n",
       "      <td>0.356217</td>\n",
       "      <td>1.556442</td>\n",
       "      <td>0.268827</td>\n",
       "      <td>0.184434</td>\n",
       "      <td>1.186481</td>\n",
       "      <td>2168.111868</td>\n",
       "    </tr>\n",
       "    <tr>\n",
       "      <th>4</th>\n",
       "      <td>0.973349</td>\n",
       "      <td>0.396776</td>\n",
       "      <td>0.298970</td>\n",
       "      <td>0.582019</td>\n",
       "      <td>0.956644</td>\n",
       "      <td>0.335899</td>\n",
       "      <td>0.159762</td>\n",
       "      <td>1.344350</td>\n",
       "      <td>2168.111872</td>\n",
       "    </tr>\n",
       "    <tr>\n",
       "      <th>2</th>\n",
       "      <td>0.583930</td>\n",
       "      <td>0.930936</td>\n",
       "      <td>1.184826</td>\n",
       "      <td>3.432361</td>\n",
       "      <td>5.541715</td>\n",
       "      <td>0.855880</td>\n",
       "      <td>2.142814</td>\n",
       "      <td>3.385095</td>\n",
       "      <td>2168.111883</td>\n",
       "    </tr>\n",
       "    <tr>\n",
       "      <th>6</th>\n",
       "      <td>0.259739</td>\n",
       "      <td>3.858553</td>\n",
       "      <td>3.172399</td>\n",
       "      <td>3.006089</td>\n",
       "      <td>0.033284</td>\n",
       "      <td>0.115157</td>\n",
       "      <td>3.994495</td>\n",
       "      <td>3.371261</td>\n",
       "      <td>2173.462130</td>\n",
       "    </tr>\n",
       "  </tbody>\n",
       "</table>\n",
       "</div>"
      ],
      "text/plain": [
       "      nuB_0     nuF_0      TB_0      TF_0   nuB_opt   nuF_opt    TB_opt  \\\n",
       "0  1.555383  0.293791  1.935427  0.293656  1.856544  0.249924  2.212385   \n",
       "5  2.361740  0.396505  0.305203  0.715585  2.410367  0.219186  0.165790   \n",
       "3  0.308729  2.380386  0.499412  0.948869  0.322112  0.226230  0.154488   \n",
       "1  1.374368  0.309479  0.322377  0.356217  1.556442  0.268827  0.184434   \n",
       "4  0.973349  0.396776  0.298970  0.582019  0.956644  0.335899  0.159762   \n",
       "2  0.583930  0.930936  1.184826  3.432361  5.541715  0.855880  2.142814   \n",
       "6  0.259739  3.858553  3.172399  3.006089  0.033284  0.115157  3.994495   \n",
       "\n",
       "     TF_opt        -logL  \n",
       "0  1.253689  2168.111864  \n",
       "5  1.033617  2168.111866  \n",
       "3  0.940070  2168.111867  \n",
       "1  1.186481  2168.111868  \n",
       "4  1.344350  2168.111872  \n",
       "2  3.385095  2168.111883  \n",
       "6  3.371261  2173.462130  "
      ]
     },
     "execution_count": 44,
     "metadata": {},
     "output_type": "execute_result"
    }
   ],
   "source": [
    "df = pd.DataFrame(data=successfull_popt, \\\n",
    "                  columns=['nuB_0', 'nuF_0', 'TB_0', 'TF_0', 'nuB_opt', 'nuF_opt', 'TB_opt', 'TF_opt', '-logL'])\n",
    "\n",
    "df.sort_values(by='-logL', ascending=True) # smaller is better"
   ]
  },
  {
   "cell_type": "markdown",
   "metadata": {},
   "source": [
    "Fairly different parameter combinations have practically identical likelihood. A reduction of the contemporary population size to 1/4 of the ancient population size is quite conistently inferred ($\\nu_F$). The ancient population size change is not inferred consistently."
   ]
  },
  {
   "cell_type": "markdown",
   "metadata": {},
   "source": [
    "I am going to try one more p0. In the two epoch model fitting, _erythropus_ had shown an ancient increase in population size."
   ]
  },
  {
   "cell_type": "code",
   "execution_count": 45,
   "metadata": {
    "collapsed": true
   },
   "outputs": [],
   "source": [
    "# specify the initial parameter values, they will be randomly perturbed by up to a factor of 2\n",
    "p0 = [40, 0.4, 0.5, 0.5]\n",
    "\n",
    "ar_ery_1 = lbview.map(run_dadi, repeat(p0, 40), block=False, order=True)"
   ]
  },
  {
   "cell_type": "code",
   "execution_count": 46,
   "metadata": {
    "collapsed": false
   },
   "outputs": [
    {
     "data": {
      "text/plain": [
       "True"
      ]
     },
     "execution_count": 46,
     "metadata": {},
     "output_type": "execute_result"
    }
   ],
   "source": [
    "ar_ery_1.ready()"
   ]
  },
  {
   "cell_type": "code",
   "execution_count": 49,
   "metadata": {
    "collapsed": false
   },
   "outputs": [
    {
     "name": "stdout",
     "output_type": "stream",
     "text": [
      "success 15\n",
      "Maximum number of function evaluations made. 0\n",
      "Maximum number of iterations reached. 25\n",
      "unknown flag 0\n"
     ]
    }
   ],
   "source": [
    "get_flag_count(ar_ery_1, NM=True)"
   ]
  },
  {
   "cell_type": "markdown",
   "metadata": {},
   "source": [
    "Aha!"
   ]
  },
  {
   "cell_type": "code",
   "execution_count": 48,
   "metadata": {
    "collapsed": false
   },
   "outputs": [
    {
     "data": {
      "text/html": [
       "<div>\n",
       "<table border=\"1\" class=\"dataframe\">\n",
       "  <thead>\n",
       "    <tr style=\"text-align: right;\">\n",
       "      <th></th>\n",
       "      <th>nuB_0</th>\n",
       "      <th>nuF_0</th>\n",
       "      <th>TB_0</th>\n",
       "      <th>TF_0</th>\n",
       "      <th>nuB_opt</th>\n",
       "      <th>nuF_opt</th>\n",
       "      <th>TB_opt</th>\n",
       "      <th>TF_opt</th>\n",
       "      <th>-logL</th>\n",
       "    </tr>\n",
       "  </thead>\n",
       "  <tbody>\n",
       "    <tr>\n",
       "      <th>0</th>\n",
       "      <td>18.392331</td>\n",
       "      <td>0.101597</td>\n",
       "      <td>1.702540</td>\n",
       "      <td>0.215492</td>\n",
       "      <td>17.358511</td>\n",
       "      <td>0.054665</td>\n",
       "      <td>1.751921</td>\n",
       "      <td>0.391672</td>\n",
       "      <td>2168.111862</td>\n",
       "    </tr>\n",
       "    <tr>\n",
       "      <th>14</th>\n",
       "      <td>71.979569</td>\n",
       "      <td>0.113046</td>\n",
       "      <td>0.331147</td>\n",
       "      <td>0.319804</td>\n",
       "      <td>82.969982</td>\n",
       "      <td>0.071288</td>\n",
       "      <td>0.298778</td>\n",
       "      <td>0.440360</td>\n",
       "      <td>2168.111863</td>\n",
       "    </tr>\n",
       "    <tr>\n",
       "      <th>1</th>\n",
       "      <td>15.252442</td>\n",
       "      <td>0.138945</td>\n",
       "      <td>0.363293</td>\n",
       "      <td>0.315070</td>\n",
       "      <td>17.776575</td>\n",
       "      <td>0.080865</td>\n",
       "      <td>0.317333</td>\n",
       "      <td>0.488813</td>\n",
       "      <td>2168.111863</td>\n",
       "    </tr>\n",
       "    <tr>\n",
       "      <th>3</th>\n",
       "      <td>51.352276</td>\n",
       "      <td>0.157910</td>\n",
       "      <td>0.181752</td>\n",
       "      <td>0.367491</td>\n",
       "      <td>65.505369</td>\n",
       "      <td>0.094434</td>\n",
       "      <td>0.146645</td>\n",
       "      <td>0.542281</td>\n",
       "      <td>2168.111863</td>\n",
       "    </tr>\n",
       "    <tr>\n",
       "      <th>4</th>\n",
       "      <td>11.983834</td>\n",
       "      <td>0.246236</td>\n",
       "      <td>1.010640</td>\n",
       "      <td>0.540040</td>\n",
       "      <td>14.930735</td>\n",
       "      <td>0.130152</td>\n",
       "      <td>1.010041</td>\n",
       "      <td>0.774382</td>\n",
       "      <td>2168.111863</td>\n",
       "    </tr>\n",
       "    <tr>\n",
       "      <th>5</th>\n",
       "      <td>22.335137</td>\n",
       "      <td>0.174836</td>\n",
       "      <td>0.340843</td>\n",
       "      <td>0.434766</td>\n",
       "      <td>27.042723</td>\n",
       "      <td>0.106110</td>\n",
       "      <td>0.296612</td>\n",
       "      <td>0.609153</td>\n",
       "      <td>2168.111863</td>\n",
       "    </tr>\n",
       "    <tr>\n",
       "      <th>13</th>\n",
       "      <td>15.267625</td>\n",
       "      <td>0.147428</td>\n",
       "      <td>0.620736</td>\n",
       "      <td>0.681960</td>\n",
       "      <td>13.975804</td>\n",
       "      <td>0.118970</td>\n",
       "      <td>0.608653</td>\n",
       "      <td>0.692754</td>\n",
       "      <td>2168.111863</td>\n",
       "    </tr>\n",
       "    <tr>\n",
       "      <th>6</th>\n",
       "      <td>56.452932</td>\n",
       "      <td>0.144727</td>\n",
       "      <td>0.249397</td>\n",
       "      <td>0.135380</td>\n",
       "      <td>180.518767</td>\n",
       "      <td>0.116126</td>\n",
       "      <td>0.170522</td>\n",
       "      <td>0.643191</td>\n",
       "      <td>2168.111863</td>\n",
       "    </tr>\n",
       "    <tr>\n",
       "      <th>12</th>\n",
       "      <td>121.895028</td>\n",
       "      <td>0.256218</td>\n",
       "      <td>0.553528</td>\n",
       "      <td>0.512424</td>\n",
       "      <td>186.363472</td>\n",
       "      <td>0.136292</td>\n",
       "      <td>0.505059</td>\n",
       "      <td>0.768389</td>\n",
       "      <td>2168.111863</td>\n",
       "    </tr>\n",
       "    <tr>\n",
       "      <th>2</th>\n",
       "      <td>21.193921</td>\n",
       "      <td>0.330266</td>\n",
       "      <td>1.077031</td>\n",
       "      <td>0.456888</td>\n",
       "      <td>25.926112</td>\n",
       "      <td>0.192458</td>\n",
       "      <td>1.111311</td>\n",
       "      <td>1.077319</td>\n",
       "      <td>2168.111864</td>\n",
       "    </tr>\n",
       "    <tr>\n",
       "      <th>11</th>\n",
       "      <td>14.459448</td>\n",
       "      <td>0.243839</td>\n",
       "      <td>0.890411</td>\n",
       "      <td>0.261546</td>\n",
       "      <td>34.999661</td>\n",
       "      <td>0.200264</td>\n",
       "      <td>0.845499</td>\n",
       "      <td>1.084962</td>\n",
       "      <td>2168.111864</td>\n",
       "    </tr>\n",
       "    <tr>\n",
       "      <th>8</th>\n",
       "      <td>82.102430</td>\n",
       "      <td>0.268245</td>\n",
       "      <td>0.328126</td>\n",
       "      <td>0.716259</td>\n",
       "      <td>101.661654</td>\n",
       "      <td>0.161491</td>\n",
       "      <td>0.273926</td>\n",
       "      <td>0.849436</td>\n",
       "      <td>2168.111864</td>\n",
       "    </tr>\n",
       "    <tr>\n",
       "      <th>9</th>\n",
       "      <td>36.580333</td>\n",
       "      <td>0.240737</td>\n",
       "      <td>0.852438</td>\n",
       "      <td>0.266042</td>\n",
       "      <td>116.171135</td>\n",
       "      <td>0.200126</td>\n",
       "      <td>0.792436</td>\n",
       "      <td>1.080803</td>\n",
       "      <td>2168.111864</td>\n",
       "    </tr>\n",
       "    <tr>\n",
       "      <th>10</th>\n",
       "      <td>10.867122</td>\n",
       "      <td>0.147365</td>\n",
       "      <td>0.946355</td>\n",
       "      <td>1.228667</td>\n",
       "      <td>15.668847</td>\n",
       "      <td>0.235957</td>\n",
       "      <td>0.942984</td>\n",
       "      <td>1.240931</td>\n",
       "      <td>2168.111864</td>\n",
       "    </tr>\n",
       "    <tr>\n",
       "      <th>7</th>\n",
       "      <td>42.524388</td>\n",
       "      <td>0.168468</td>\n",
       "      <td>0.943558</td>\n",
       "      <td>1.667497</td>\n",
       "      <td>92.763715</td>\n",
       "      <td>0.356487</td>\n",
       "      <td>0.935848</td>\n",
       "      <td>1.714824</td>\n",
       "      <td>2168.111867</td>\n",
       "    </tr>\n",
       "  </tbody>\n",
       "</table>\n",
       "</div>"
      ],
      "text/plain": [
       "         nuB_0     nuF_0      TB_0      TF_0     nuB_opt   nuF_opt    TB_opt  \\\n",
       "0    18.392331  0.101597  1.702540  0.215492   17.358511  0.054665  1.751921   \n",
       "14   71.979569  0.113046  0.331147  0.319804   82.969982  0.071288  0.298778   \n",
       "1    15.252442  0.138945  0.363293  0.315070   17.776575  0.080865  0.317333   \n",
       "3    51.352276  0.157910  0.181752  0.367491   65.505369  0.094434  0.146645   \n",
       "4    11.983834  0.246236  1.010640  0.540040   14.930735  0.130152  1.010041   \n",
       "5    22.335137  0.174836  0.340843  0.434766   27.042723  0.106110  0.296612   \n",
       "13   15.267625  0.147428  0.620736  0.681960   13.975804  0.118970  0.608653   \n",
       "6    56.452932  0.144727  0.249397  0.135380  180.518767  0.116126  0.170522   \n",
       "12  121.895028  0.256218  0.553528  0.512424  186.363472  0.136292  0.505059   \n",
       "2    21.193921  0.330266  1.077031  0.456888   25.926112  0.192458  1.111311   \n",
       "11   14.459448  0.243839  0.890411  0.261546   34.999661  0.200264  0.845499   \n",
       "8    82.102430  0.268245  0.328126  0.716259  101.661654  0.161491  0.273926   \n",
       "9    36.580333  0.240737  0.852438  0.266042  116.171135  0.200126  0.792436   \n",
       "10   10.867122  0.147365  0.946355  1.228667   15.668847  0.235957  0.942984   \n",
       "7    42.524388  0.168468  0.943558  1.667497   92.763715  0.356487  0.935848   \n",
       "\n",
       "      TF_opt        -logL  \n",
       "0   0.391672  2168.111862  \n",
       "14  0.440360  2168.111863  \n",
       "1   0.488813  2168.111863  \n",
       "3   0.542281  2168.111863  \n",
       "4   0.774382  2168.111863  \n",
       "5   0.609153  2168.111863  \n",
       "13  0.692754  2168.111863  \n",
       "6   0.643191  2168.111863  \n",
       "12  0.768389  2168.111863  \n",
       "2   1.077319  2168.111864  \n",
       "11  1.084962  2168.111864  \n",
       "8   0.849436  2168.111864  \n",
       "9   1.080803  2168.111864  \n",
       "10  1.240931  2168.111864  \n",
       "7   1.714824  2168.111867  "
      ]
     },
     "execution_count": 48,
     "metadata": {},
     "output_type": "execute_result"
    }
   ],
   "source": [
    "successfull_popt = [flatten(out)[:9] for out in ar_ery_1 if out[1][4] == 0]\n",
    "\n",
    "df = pd.DataFrame(data=successfull_popt, \\\n",
    "                  columns=['nuB_0', 'nuF_0', 'TB_0', 'TF_0', 'nuB_opt', 'nuF_opt', 'TB_opt', 'TF_opt', '-logL'])\n",
    "\n",
    "df.sort_values(by='-logL', ascending=True) # smaller is better"
   ]
  },
  {
   "cell_type": "markdown",
   "metadata": {},
   "source": [
    "Ok, this looks like several quite different population histories are equally likely. These parameter values seem to suggest that _erythropus_ first underwent a population increase to a $\\nu_B$ fold of the ancient population size (ranging from 23$\\times$ to $\\gt$7000$\\times$!) and stayed at this size for $TB$ (x2N) generations upon which it dramatically reduced its population size to a fraction $\\nu_F$ of the ancient size and stayed at this size the remaining TF (x2N) generations."
   ]
  },
  {
   "cell_type": "code",
   "execution_count": 140,
   "metadata": {
    "collapsed": true
   },
   "outputs": [],
   "source": [
    "dill.dump(list(ar_ery_1.get()), open(\"OUT_three_epoch/ERY_perturb_ar_ery_1.dill\", \"w\"))"
   ]
  },
  {
   "cell_type": "markdown",
   "metadata": {},
   "source": [
    "I would be good to visualise these different scenarios."
   ]
  },
  {
   "cell_type": "markdown",
   "metadata": {},
   "source": [
    "Combine both data frames:"
   ]
  },
  {
   "cell_type": "code",
   "execution_count": 124,
   "metadata": {
    "collapsed": false
   },
   "outputs": [
    {
     "data": {
      "text/html": [
       "<div>\n",
       "<table border=\"1\" class=\"dataframe\">\n",
       "  <thead>\n",
       "    <tr style=\"text-align: right;\">\n",
       "      <th></th>\n",
       "      <th>nuB_0</th>\n",
       "      <th>nuF_0</th>\n",
       "      <th>TB_0</th>\n",
       "      <th>TF_0</th>\n",
       "      <th>nuB_opt</th>\n",
       "      <th>nuF_opt</th>\n",
       "      <th>TB_opt</th>\n",
       "      <th>TF_opt</th>\n",
       "      <th>-logL</th>\n",
       "    </tr>\n",
       "  </thead>\n",
       "  <tbody>\n",
       "    <tr>\n",
       "      <th>0</th>\n",
       "      <td>18.392331</td>\n",
       "      <td>0.101597</td>\n",
       "      <td>1.702540</td>\n",
       "      <td>0.215492</td>\n",
       "      <td>17.358511</td>\n",
       "      <td>0.054665</td>\n",
       "      <td>1.751921</td>\n",
       "      <td>0.391672</td>\n",
       "      <td>2168.111862</td>\n",
       "    </tr>\n",
       "    <tr>\n",
       "      <th>14</th>\n",
       "      <td>71.979569</td>\n",
       "      <td>0.113046</td>\n",
       "      <td>0.331147</td>\n",
       "      <td>0.319804</td>\n",
       "      <td>82.969982</td>\n",
       "      <td>0.071288</td>\n",
       "      <td>0.298778</td>\n",
       "      <td>0.440360</td>\n",
       "      <td>2168.111863</td>\n",
       "    </tr>\n",
       "    <tr>\n",
       "      <th>1</th>\n",
       "      <td>15.252442</td>\n",
       "      <td>0.138945</td>\n",
       "      <td>0.363293</td>\n",
       "      <td>0.315070</td>\n",
       "      <td>17.776575</td>\n",
       "      <td>0.080865</td>\n",
       "      <td>0.317333</td>\n",
       "      <td>0.488813</td>\n",
       "      <td>2168.111863</td>\n",
       "    </tr>\n",
       "    <tr>\n",
       "      <th>3</th>\n",
       "      <td>51.352276</td>\n",
       "      <td>0.157910</td>\n",
       "      <td>0.181752</td>\n",
       "      <td>0.367491</td>\n",
       "      <td>65.505369</td>\n",
       "      <td>0.094434</td>\n",
       "      <td>0.146645</td>\n",
       "      <td>0.542281</td>\n",
       "      <td>2168.111863</td>\n",
       "    </tr>\n",
       "    <tr>\n",
       "      <th>4</th>\n",
       "      <td>11.983834</td>\n",
       "      <td>0.246236</td>\n",
       "      <td>1.010640</td>\n",
       "      <td>0.540040</td>\n",
       "      <td>14.930735</td>\n",
       "      <td>0.130152</td>\n",
       "      <td>1.010041</td>\n",
       "      <td>0.774382</td>\n",
       "      <td>2168.111863</td>\n",
       "    </tr>\n",
       "    <tr>\n",
       "      <th>5</th>\n",
       "      <td>22.335137</td>\n",
       "      <td>0.174836</td>\n",
       "      <td>0.340843</td>\n",
       "      <td>0.434766</td>\n",
       "      <td>27.042723</td>\n",
       "      <td>0.106110</td>\n",
       "      <td>0.296612</td>\n",
       "      <td>0.609153</td>\n",
       "      <td>2168.111863</td>\n",
       "    </tr>\n",
       "    <tr>\n",
       "      <th>13</th>\n",
       "      <td>15.267625</td>\n",
       "      <td>0.147428</td>\n",
       "      <td>0.620736</td>\n",
       "      <td>0.681960</td>\n",
       "      <td>13.975804</td>\n",
       "      <td>0.118970</td>\n",
       "      <td>0.608653</td>\n",
       "      <td>0.692754</td>\n",
       "      <td>2168.111863</td>\n",
       "    </tr>\n",
       "    <tr>\n",
       "      <th>6</th>\n",
       "      <td>56.452932</td>\n",
       "      <td>0.144727</td>\n",
       "      <td>0.249397</td>\n",
       "      <td>0.135380</td>\n",
       "      <td>180.518767</td>\n",
       "      <td>0.116126</td>\n",
       "      <td>0.170522</td>\n",
       "      <td>0.643191</td>\n",
       "      <td>2168.111863</td>\n",
       "    </tr>\n",
       "    <tr>\n",
       "      <th>12</th>\n",
       "      <td>121.895028</td>\n",
       "      <td>0.256218</td>\n",
       "      <td>0.553528</td>\n",
       "      <td>0.512424</td>\n",
       "      <td>186.363472</td>\n",
       "      <td>0.136292</td>\n",
       "      <td>0.505059</td>\n",
       "      <td>0.768389</td>\n",
       "      <td>2168.111863</td>\n",
       "    </tr>\n",
       "    <tr>\n",
       "      <th>2</th>\n",
       "      <td>21.193921</td>\n",
       "      <td>0.330266</td>\n",
       "      <td>1.077031</td>\n",
       "      <td>0.456888</td>\n",
       "      <td>25.926112</td>\n",
       "      <td>0.192458</td>\n",
       "      <td>1.111311</td>\n",
       "      <td>1.077319</td>\n",
       "      <td>2168.111864</td>\n",
       "    </tr>\n",
       "    <tr>\n",
       "      <th>11</th>\n",
       "      <td>14.459448</td>\n",
       "      <td>0.243839</td>\n",
       "      <td>0.890411</td>\n",
       "      <td>0.261546</td>\n",
       "      <td>34.999661</td>\n",
       "      <td>0.200264</td>\n",
       "      <td>0.845499</td>\n",
       "      <td>1.084962</td>\n",
       "      <td>2168.111864</td>\n",
       "    </tr>\n",
       "    <tr>\n",
       "      <th>8</th>\n",
       "      <td>82.102430</td>\n",
       "      <td>0.268245</td>\n",
       "      <td>0.328126</td>\n",
       "      <td>0.716259</td>\n",
       "      <td>101.661654</td>\n",
       "      <td>0.161491</td>\n",
       "      <td>0.273926</td>\n",
       "      <td>0.849436</td>\n",
       "      <td>2168.111864</td>\n",
       "    </tr>\n",
       "    <tr>\n",
       "      <th>9</th>\n",
       "      <td>36.580333</td>\n",
       "      <td>0.240737</td>\n",
       "      <td>0.852438</td>\n",
       "      <td>0.266042</td>\n",
       "      <td>116.171135</td>\n",
       "      <td>0.200126</td>\n",
       "      <td>0.792436</td>\n",
       "      <td>1.080803</td>\n",
       "      <td>2168.111864</td>\n",
       "    </tr>\n",
       "    <tr>\n",
       "      <th>0</th>\n",
       "      <td>1.555383</td>\n",
       "      <td>0.293791</td>\n",
       "      <td>1.935427</td>\n",
       "      <td>0.293656</td>\n",
       "      <td>1.856544</td>\n",
       "      <td>0.249924</td>\n",
       "      <td>2.212385</td>\n",
       "      <td>1.253689</td>\n",
       "      <td>2168.111864</td>\n",
       "    </tr>\n",
       "    <tr>\n",
       "      <th>10</th>\n",
       "      <td>10.867122</td>\n",
       "      <td>0.147365</td>\n",
       "      <td>0.946355</td>\n",
       "      <td>1.228667</td>\n",
       "      <td>15.668847</td>\n",
       "      <td>0.235957</td>\n",
       "      <td>0.942984</td>\n",
       "      <td>1.240931</td>\n",
       "      <td>2168.111864</td>\n",
       "    </tr>\n",
       "    <tr>\n",
       "      <th>5</th>\n",
       "      <td>2.361740</td>\n",
       "      <td>0.396505</td>\n",
       "      <td>0.305203</td>\n",
       "      <td>0.715585</td>\n",
       "      <td>2.410367</td>\n",
       "      <td>0.219186</td>\n",
       "      <td>0.165790</td>\n",
       "      <td>1.033617</td>\n",
       "      <td>2168.111866</td>\n",
       "    </tr>\n",
       "    <tr>\n",
       "      <th>3</th>\n",
       "      <td>0.308729</td>\n",
       "      <td>2.380386</td>\n",
       "      <td>0.499412</td>\n",
       "      <td>0.948869</td>\n",
       "      <td>0.322112</td>\n",
       "      <td>0.226230</td>\n",
       "      <td>0.154488</td>\n",
       "      <td>0.940070</td>\n",
       "      <td>2168.111867</td>\n",
       "    </tr>\n",
       "    <tr>\n",
       "      <th>7</th>\n",
       "      <td>42.524388</td>\n",
       "      <td>0.168468</td>\n",
       "      <td>0.943558</td>\n",
       "      <td>1.667497</td>\n",
       "      <td>92.763715</td>\n",
       "      <td>0.356487</td>\n",
       "      <td>0.935848</td>\n",
       "      <td>1.714824</td>\n",
       "      <td>2168.111867</td>\n",
       "    </tr>\n",
       "    <tr>\n",
       "      <th>1</th>\n",
       "      <td>1.374368</td>\n",
       "      <td>0.309479</td>\n",
       "      <td>0.322377</td>\n",
       "      <td>0.356217</td>\n",
       "      <td>1.556442</td>\n",
       "      <td>0.268827</td>\n",
       "      <td>0.184434</td>\n",
       "      <td>1.186481</td>\n",
       "      <td>2168.111868</td>\n",
       "    </tr>\n",
       "    <tr>\n",
       "      <th>4</th>\n",
       "      <td>0.973349</td>\n",
       "      <td>0.396776</td>\n",
       "      <td>0.298970</td>\n",
       "      <td>0.582019</td>\n",
       "      <td>0.956644</td>\n",
       "      <td>0.335899</td>\n",
       "      <td>0.159762</td>\n",
       "      <td>1.344350</td>\n",
       "      <td>2168.111872</td>\n",
       "    </tr>\n",
       "    <tr>\n",
       "      <th>2</th>\n",
       "      <td>0.583930</td>\n",
       "      <td>0.930936</td>\n",
       "      <td>1.184826</td>\n",
       "      <td>3.432361</td>\n",
       "      <td>5.541715</td>\n",
       "      <td>0.855880</td>\n",
       "      <td>2.142814</td>\n",
       "      <td>3.385095</td>\n",
       "      <td>2168.111883</td>\n",
       "    </tr>\n",
       "    <tr>\n",
       "      <th>6</th>\n",
       "      <td>0.259739</td>\n",
       "      <td>3.858553</td>\n",
       "      <td>3.172399</td>\n",
       "      <td>3.006089</td>\n",
       "      <td>0.033284</td>\n",
       "      <td>0.115157</td>\n",
       "      <td>3.994495</td>\n",
       "      <td>3.371261</td>\n",
       "      <td>2173.462130</td>\n",
       "    </tr>\n",
       "  </tbody>\n",
       "</table>\n",
       "</div>"
      ],
      "text/plain": [
       "         nuB_0     nuF_0      TB_0      TF_0     nuB_opt   nuF_opt    TB_opt  \\\n",
       "0    18.392331  0.101597  1.702540  0.215492   17.358511  0.054665  1.751921   \n",
       "14   71.979569  0.113046  0.331147  0.319804   82.969982  0.071288  0.298778   \n",
       "1    15.252442  0.138945  0.363293  0.315070   17.776575  0.080865  0.317333   \n",
       "3    51.352276  0.157910  0.181752  0.367491   65.505369  0.094434  0.146645   \n",
       "4    11.983834  0.246236  1.010640  0.540040   14.930735  0.130152  1.010041   \n",
       "5    22.335137  0.174836  0.340843  0.434766   27.042723  0.106110  0.296612   \n",
       "13   15.267625  0.147428  0.620736  0.681960   13.975804  0.118970  0.608653   \n",
       "6    56.452932  0.144727  0.249397  0.135380  180.518767  0.116126  0.170522   \n",
       "12  121.895028  0.256218  0.553528  0.512424  186.363472  0.136292  0.505059   \n",
       "2    21.193921  0.330266  1.077031  0.456888   25.926112  0.192458  1.111311   \n",
       "11   14.459448  0.243839  0.890411  0.261546   34.999661  0.200264  0.845499   \n",
       "8    82.102430  0.268245  0.328126  0.716259  101.661654  0.161491  0.273926   \n",
       "9    36.580333  0.240737  0.852438  0.266042  116.171135  0.200126  0.792436   \n",
       "0     1.555383  0.293791  1.935427  0.293656    1.856544  0.249924  2.212385   \n",
       "10   10.867122  0.147365  0.946355  1.228667   15.668847  0.235957  0.942984   \n",
       "5     2.361740  0.396505  0.305203  0.715585    2.410367  0.219186  0.165790   \n",
       "3     0.308729  2.380386  0.499412  0.948869    0.322112  0.226230  0.154488   \n",
       "7    42.524388  0.168468  0.943558  1.667497   92.763715  0.356487  0.935848   \n",
       "1     1.374368  0.309479  0.322377  0.356217    1.556442  0.268827  0.184434   \n",
       "4     0.973349  0.396776  0.298970  0.582019    0.956644  0.335899  0.159762   \n",
       "2     0.583930  0.930936  1.184826  3.432361    5.541715  0.855880  2.142814   \n",
       "6     0.259739  3.858553  3.172399  3.006089    0.033284  0.115157  3.994495   \n",
       "\n",
       "      TF_opt        -logL  \n",
       "0   0.391672  2168.111862  \n",
       "14  0.440360  2168.111863  \n",
       "1   0.488813  2168.111863  \n",
       "3   0.542281  2168.111863  \n",
       "4   0.774382  2168.111863  \n",
       "5   0.609153  2168.111863  \n",
       "13  0.692754  2168.111863  \n",
       "6   0.643191  2168.111863  \n",
       "12  0.768389  2168.111863  \n",
       "2   1.077319  2168.111864  \n",
       "11  1.084962  2168.111864  \n",
       "8   0.849436  2168.111864  \n",
       "9   1.080803  2168.111864  \n",
       "0   1.253689  2168.111864  \n",
       "10  1.240931  2168.111864  \n",
       "5   1.033617  2168.111866  \n",
       "3   0.940070  2168.111867  \n",
       "7   1.714824  2168.111867  \n",
       "1   1.186481  2168.111868  \n",
       "4   1.344350  2168.111872  \n",
       "2   3.385095  2168.111883  \n",
       "6   3.371261  2173.462130  "
      ]
     },
     "execution_count": 124,
     "metadata": {},
     "output_type": "execute_result"
    }
   ],
   "source": [
    "successfull_popt = [flatten(out)[:9] for out in ar_ery if out[1][4] == 0]\n",
    "\n",
    "df_1 = pd.DataFrame(data=successfull_popt, \\\n",
    "                  columns=['nuB_0', 'nuF_0', 'TB_0', 'TF_0', 'nuB_opt', 'nuF_opt', 'TB_opt', 'TF_opt', '-logL'])\n",
    "\n",
    "successfull_popt = [flatten(out)[:9] for out in ar_ery_1 if out[1][4] == 0]\n",
    "\n",
    "df_2 = pd.DataFrame(data=successfull_popt, \\\n",
    "                  columns=['nuB_0', 'nuF_0', 'TB_0', 'TF_0', 'nuB_opt', 'nuF_opt', 'TB_opt', 'TF_opt', '-logL'])\n",
    "\n",
    "df = df_1.append(df_2)\n",
    "df.sort_values(by='-logL')"
   ]
  },
  {
   "cell_type": "code",
   "execution_count": 126,
   "metadata": {
    "collapsed": false
   },
   "outputs": [],
   "source": [
    "# remove one parameter combination with slightly lower logL than the others\n",
    "\n",
    "df = df.sort_values(by='-logL').head(-1)"
   ]
  },
  {
   "cell_type": "code",
   "execution_count": 127,
   "metadata": {
    "collapsed": true
   },
   "outputs": [],
   "source": [
    "df['TB+TF'] = pd.Series(df['TB_opt']+df['TF_opt'])"
   ]
  },
  {
   "cell_type": "code",
   "execution_count": 128,
   "metadata": {
    "collapsed": false
   },
   "outputs": [
    {
     "data": {
      "text/html": [
       "<div>\n",
       "<table border=\"1\" class=\"dataframe\">\n",
       "  <thead>\n",
       "    <tr style=\"text-align: right;\">\n",
       "      <th></th>\n",
       "      <th>nuB_0</th>\n",
       "      <th>nuF_0</th>\n",
       "      <th>TB_0</th>\n",
       "      <th>TF_0</th>\n",
       "      <th>nuB_opt</th>\n",
       "      <th>nuF_opt</th>\n",
       "      <th>TB_opt</th>\n",
       "      <th>TF_opt</th>\n",
       "      <th>-logL</th>\n",
       "      <th>TB+TF</th>\n",
       "    </tr>\n",
       "  </thead>\n",
       "  <tbody>\n",
       "    <tr>\n",
       "      <th>0</th>\n",
       "      <td>18.392331</td>\n",
       "      <td>0.101597</td>\n",
       "      <td>1.70254</td>\n",
       "      <td>0.215492</td>\n",
       "      <td>17.358511</td>\n",
       "      <td>0.054665</td>\n",
       "      <td>1.751921</td>\n",
       "      <td>0.391672</td>\n",
       "      <td>2168.111862</td>\n",
       "      <td>2.143593</td>\n",
       "    </tr>\n",
       "  </tbody>\n",
       "</table>\n",
       "</div>"
      ],
      "text/plain": [
       "       nuB_0     nuF_0     TB_0      TF_0    nuB_opt   nuF_opt    TB_opt  \\\n",
       "0  18.392331  0.101597  1.70254  0.215492  17.358511  0.054665  1.751921   \n",
       "\n",
       "     TF_opt        -logL     TB+TF  \n",
       "0  0.391672  2168.111862  2.143593  "
      ]
     },
     "execution_count": 128,
     "metadata": {},
     "output_type": "execute_result"
    }
   ],
   "source": [
    "df.head(1)"
   ]
  },
  {
   "cell_type": "code",
   "execution_count": 129,
   "metadata": {
    "collapsed": true
   },
   "outputs": [],
   "source": [
    "import matplotlib.pyplot as plt"
   ]
  },
  {
   "cell_type": "code",
   "execution_count": 130,
   "metadata": {
    "collapsed": true
   },
   "outputs": [],
   "source": [
    "%matplotlib inline"
   ]
  },
  {
   "cell_type": "code",
   "execution_count": 131,
   "metadata": {
    "collapsed": false
   },
   "outputs": [],
   "source": [
    "# extract columns from table\n",
    "nuB = df.loc[:,'nuB_opt']\n",
    "nuF = df.loc[:, 'nuF_opt']\n",
    "Tb_Tf = df.loc[:, 'TB+TF']\n",
    "TF = df.loc[:, 'TF_opt']"
   ]
  },
  {
   "cell_type": "code",
   "execution_count": 132,
   "metadata": {
    "collapsed": false
   },
   "outputs": [
    {
     "name": "stdout",
     "output_type": "stream",
     "text": [
      "The total sequence length for the ery spectrum is 1,638,467.\n"
     ]
    }
   ],
   "source": [
    "# calculate reference (ancient) population size from theta estimate (derived elsewhere by fitting a neutral spectrum)\n",
    "\n",
    "theta_ery = 10617.328085456724\n",
    "mu = 3e-9\n",
    "L = fs_ery.data.sum() # this sums over all entries in the spectrum, including masked ones, i. e. also contains invariable sites\n",
    "print \"The total sequence length for the ery spectrum is {0:,}.\".format(int(L))\n",
    "N_ref_ery = theta_ery/L/mu/4"
   ]
  },
  {
   "cell_type": "code",
   "execution_count": 133,
   "metadata": {
    "collapsed": false
   },
   "outputs": [],
   "source": [
    "# turn nu into absolute Ne and T into generations\n",
    "\n",
    "nuB_n = nuB*N_ref_ery\n",
    "nuF_n = nuF*N_ref_ery\n",
    "Tb_Tf_g = Tb_Tf*2*N_ref_ery\n",
    "TF_g = TF*2*N_ref_ery"
   ]
  },
  {
   "cell_type": "code",
   "execution_count": 137,
   "metadata": {
    "collapsed": true
   },
   "outputs": [],
   "source": [
    "anc = [N_ref_ery] * len(nuB)\n",
    "pres = [1] * len(nuB)\n",
    "past = [max(Tb_Tf_g)+1000] * len(nuB)"
   ]
  },
  {
   "cell_type": "code",
   "execution_count": 139,
   "metadata": {
    "collapsed": false
   },
   "outputs": [
    {
     "data": {
      "text/plain": [
       "<matplotlib.text.Text at 0x7fedb3ede2d0>"
      ]
     },
     "execution_count": 139,
     "metadata": {},
     "output_type": "execute_result"
    },
    {
     "data": {
      "image/png": "[encoded data removed]",
      "text/plain": [
       "<matplotlib.figure.Figure at 0x7fedb83c8650>"
      ]
     },
     "metadata": {},
     "output_type": "display_data"
    }
   ],
   "source": [
    "plt.rcParams['figure.figsize'] = [12.0, 10.0]\n",
    "\n",
    "for run in zip(past, Tb_Tf_g, Tb_Tf_g, TF_g, TF_g, pres, anc, anc, nuB_n, nuB_n, nuF_n, nuF_n):\n",
    "    plt.semilogy(run[:6], run[6:])\n",
    "plt.xlabel('generations in the past')\n",
    "plt.ylabel('effective population size')"
   ]
  },
  {
   "cell_type": "markdown",
   "metadata": {},
   "source": [
    "# parallelus"
   ]
  },
  {
   "cell_type": "code",
   "execution_count": 14,
   "metadata": {
    "collapsed": true
   },
   "outputs": [],
   "source": [
    "%%px\n",
    "\n",
    "# set up global variables on engines required for run_dadi function call\n",
    "\n",
    "dadi_opt_func = dadi.Inference.optimize_log_fmin # uses Nelder-Mead algorithm\n",
    "sfs = fs_par # use PAR spectrum\n",
    "perturb = True\n",
    "fold = 3 # perturb randomly up to 6-fold\n",
    "maxiter = 100 # run a maximum of 100 iterations\n",
    "verbose = 0\n",
    "full_output = True # need to have full output to get the warnflags (see below)\n",
    "outname = \"OUT_three_epoch/PAR_perturb\" # set file name stub for opt. result files"
   ]
  },
  {
   "cell_type": "code",
   "execution_count": 103,
   "metadata": {
    "collapsed": true
   },
   "outputs": [],
   "source": [
    "def run_dadi(p_init): # for the function to be called with map, it needs to have one input variable\n",
    "    \"\"\"\n",
    "    p_init: initial parameter values to run optimisation from\n",
    "    \"\"\"\n",
    "    if perturb == True:\n",
    "        p_init = dadi.Misc.perturb_params(p_init, fold=fold, \n",
    "                                      upper_bound=upper_bound, lower_bound=lower_bound)\n",
    "        # note upper_bound and lower_bound variables are expected to be in the namespace of each engine\n",
    "    # run optimisation of paramters\n",
    "    popt = dadi_opt_func(p0=p_init, data=sfs, model_func=func_ex, pts=pts_l, \\\n",
    "                                   lower_bound=lower_bound, upper_bound=upper_bound, \\\n",
    "                                   verbose=verbose, maxiter=maxiter, full_output=full_output)\n",
    "    # pickle to file\n",
    "    import dill\n",
    "    name = outname[:] # make copy of file name stub!\n",
    "    for p in p_init:\n",
    "        name += \"_%.4f\" % (p)\n",
    "    with open(name + \".dill\", \"w\") as fh:\n",
    "        dill.dump((p_init, popt), fh)\n",
    "    \n",
    "    return p_init, popt"
   ]
  },
  {
   "cell_type": "code",
   "execution_count": 16,
   "metadata": {
    "collapsed": true
   },
   "outputs": [],
   "source": [
    "# specify the initial parameter values, they will be randomly perturbed by up to a factor of 2 times `fold`\n",
    "p0 = [1, 1, 1, 1]\n",
    "\n",
    "ar_par = lbview.map(run_dadi, repeat(p0, 20), block=False, order=True)"
   ]
  },
  {
   "cell_type": "code",
   "execution_count": 23,
   "metadata": {
    "collapsed": false
   },
   "outputs": [
    {
     "data": {
      "text/plain": [
       "18"
      ]
     },
     "execution_count": 23,
     "metadata": {},
     "output_type": "execute_result"
    }
   ],
   "source": [
    "ar_par.progress"
   ]
  },
  {
   "cell_type": "code",
   "execution_count": 25,
   "metadata": {
    "collapsed": false
   },
   "outputs": [
    {
     "data": {
      "text/plain": [
       "22.79563685"
      ]
     },
     "execution_count": 25,
     "metadata": {},
     "output_type": "execute_result"
    }
   ],
   "source": [
    "ar_par.elapsed/60"
   ]
  },
  {
   "cell_type": "markdown",
   "metadata": {},
   "source": [
    "I had to kill the last two long running jobs."
   ]
  },
  {
   "cell_type": "code",
   "execution_count": 28,
   "metadata": {
    "collapsed": true
   },
   "outputs": [],
   "source": [
    "import glob"
   ]
  },
  {
   "cell_type": "code",
   "execution_count": 30,
   "metadata": {
    "collapsed": false
   },
   "outputs": [],
   "source": [
    "ar_par = []\n",
    "\n",
    "for filename in glob.glob(\"OUT_three_epoch/PAR_perturb*.dill\"):\n",
    "    ar_par.append(dill.load(open(filename)))"
   ]
  },
  {
   "cell_type": "code",
   "execution_count": 31,
   "metadata": {
    "collapsed": false
   },
   "outputs": [
    {
     "name": "stdout",
     "output_type": "stream",
     "text": [
      "success 6\n",
      "Maximum number of function evaluations made. 0\n",
      "Maximum number of iterations reached. 12\n",
      "unknown flag 0\n"
     ]
    }
   ],
   "source": [
    "get_flag_count(ar_par, NM=True)"
   ]
  },
  {
   "cell_type": "markdown",
   "metadata": {},
   "source": [
    "Six optimisation converged."
   ]
  },
  {
   "cell_type": "code",
   "execution_count": 34,
   "metadata": {
    "collapsed": false
   },
   "outputs": [
    {
     "data": {
      "text/html": [
       "<div>\n",
       "<table border=\"1\" class=\"dataframe\">\n",
       "  <thead>\n",
       "    <tr style=\"text-align: right;\">\n",
       "      <th></th>\n",
       "      <th>nuB_0</th>\n",
       "      <th>nuF_0</th>\n",
       "      <th>TB_0</th>\n",
       "      <th>TF_0</th>\n",
       "      <th>nuB_opt</th>\n",
       "      <th>nuF_opt</th>\n",
       "      <th>TB_opt</th>\n",
       "      <th>TF_opt</th>\n",
       "      <th>logL</th>\n",
       "    </tr>\n",
       "  </thead>\n",
       "  <tbody>\n",
       "    <tr>\n",
       "      <th>2</th>\n",
       "      <td>2.433394</td>\n",
       "      <td>0.438042</td>\n",
       "      <td>0.462081</td>\n",
       "      <td>2.612107</td>\n",
       "      <td>1.907850</td>\n",
       "      <td>0.038445</td>\n",
       "      <td>1.426696</td>\n",
       "      <td>2.480729</td>\n",
       "      <td>6925.673757</td>\n",
       "    </tr>\n",
       "    <tr>\n",
       "      <th>0</th>\n",
       "      <td>0.638494</td>\n",
       "      <td>0.283054</td>\n",
       "      <td>3.960000</td>\n",
       "      <td>1.212381</td>\n",
       "      <td>0.473253</td>\n",
       "      <td>0.027032</td>\n",
       "      <td>0.663347</td>\n",
       "      <td>1.317327</td>\n",
       "      <td>6925.673757</td>\n",
       "    </tr>\n",
       "    <tr>\n",
       "      <th>1</th>\n",
       "      <td>2.473569</td>\n",
       "      <td>0.361162</td>\n",
       "      <td>3.960000</td>\n",
       "      <td>0.920803</td>\n",
       "      <td>0.036822</td>\n",
       "      <td>0.001763</td>\n",
       "      <td>0.021552</td>\n",
       "      <td>0.781917</td>\n",
       "      <td>6925.673757</td>\n",
       "    </tr>\n",
       "    <tr>\n",
       "      <th>5</th>\n",
       "      <td>0.204874</td>\n",
       "      <td>0.193839</td>\n",
       "      <td>0.141559</td>\n",
       "      <td>1.090908</td>\n",
       "      <td>0.039256</td>\n",
       "      <td>0.007885</td>\n",
       "      <td>2.189611</td>\n",
       "      <td>1.059457</td>\n",
       "      <td>6925.673757</td>\n",
       "    </tr>\n",
       "    <tr>\n",
       "      <th>4</th>\n",
       "      <td>2.186779</td>\n",
       "      <td>0.569927</td>\n",
       "      <td>2.567862</td>\n",
       "      <td>2.802733</td>\n",
       "      <td>0.641334</td>\n",
       "      <td>0.104038</td>\n",
       "      <td>0.190060</td>\n",
       "      <td>3.830696</td>\n",
       "      <td>6925.673757</td>\n",
       "    </tr>\n",
       "    <tr>\n",
       "      <th>3</th>\n",
       "      <td>2.548660</td>\n",
       "      <td>0.202542</td>\n",
       "      <td>0.135508</td>\n",
       "      <td>3.459914</td>\n",
       "      <td>2.507626</td>\n",
       "      <td>0.091869</td>\n",
       "      <td>0.155196</td>\n",
       "      <td>3.829503</td>\n",
       "      <td>6925.673757</td>\n",
       "    </tr>\n",
       "  </tbody>\n",
       "</table>\n",
       "</div>"
      ],
      "text/plain": [
       "      nuB_0     nuF_0      TB_0      TF_0   nuB_opt   nuF_opt    TB_opt  \\\n",
       "2  2.433394  0.438042  0.462081  2.612107  1.907850  0.038445  1.426696   \n",
       "0  0.638494  0.283054  3.960000  1.212381  0.473253  0.027032  0.663347   \n",
       "1  2.473569  0.361162  3.960000  0.920803  0.036822  0.001763  0.021552   \n",
       "5  0.204874  0.193839  0.141559  1.090908  0.039256  0.007885  2.189611   \n",
       "4  2.186779  0.569927  2.567862  2.802733  0.641334  0.104038  0.190060   \n",
       "3  2.548660  0.202542  0.135508  3.459914  2.507626  0.091869  0.155196   \n",
       "\n",
       "     TF_opt         logL  \n",
       "2  2.480729  6925.673757  \n",
       "0  1.317327  6925.673757  \n",
       "1  0.781917  6925.673757  \n",
       "5  1.059457  6925.673757  \n",
       "4  3.830696  6925.673757  \n",
       "3  3.829503  6925.673757  "
      ]
     },
     "execution_count": 34,
     "metadata": {},
     "output_type": "execute_result"
    }
   ],
   "source": [
    "i = 4 # index of flag with NM algorithm\n",
    "\n",
    "successfull_popt = [flatten(out)[:9] for out in ar_par if out[1][i] == 0]\n",
    "\n",
    "df = pd.DataFrame(data=successfull_popt, \\\n",
    "                  columns=['nuB_0', 'nuF_0', 'TB_0', 'TF_0', 'nuB_opt', 'nuF_opt', 'TB_opt', 'TF_opt', 'logL'])\n",
    "\n",
    "df.sort_values(by='logL', ascending=True)"
   ]
  },
  {
   "cell_type": "markdown",
   "metadata": {},
   "source": [
    "It would be nice to get a few more replicates for these results. I am going to use these optimal parameter combinations, perturb them randomly and use them as starting values for new optimisations."
   ]
  },
  {
   "cell_type": "code",
   "execution_count": 35,
   "metadata": {
    "collapsed": false
   },
   "outputs": [
    {
     "data": {
      "text/html": [
       "<div>\n",
       "<table border=\"1\" class=\"dataframe\">\n",
       "  <thead>\n",
       "    <tr style=\"text-align: right;\">\n",
       "      <th></th>\n",
       "      <th>nuB_opt</th>\n",
       "      <th>nuF_opt</th>\n",
       "      <th>TB_opt</th>\n",
       "      <th>TF_opt</th>\n",
       "    </tr>\n",
       "  </thead>\n",
       "  <tbody>\n",
       "    <tr>\n",
       "      <th>0</th>\n",
       "      <td>0.473253</td>\n",
       "      <td>0.027032</td>\n",
       "      <td>0.663347</td>\n",
       "      <td>1.317327</td>\n",
       "    </tr>\n",
       "    <tr>\n",
       "      <th>1</th>\n",
       "      <td>0.036822</td>\n",
       "      <td>0.001763</td>\n",
       "      <td>0.021552</td>\n",
       "      <td>0.781917</td>\n",
       "    </tr>\n",
       "    <tr>\n",
       "      <th>2</th>\n",
       "      <td>1.907850</td>\n",
       "      <td>0.038445</td>\n",
       "      <td>1.426696</td>\n",
       "      <td>2.480729</td>\n",
       "    </tr>\n",
       "    <tr>\n",
       "      <th>3</th>\n",
       "      <td>2.507626</td>\n",
       "      <td>0.091869</td>\n",
       "      <td>0.155196</td>\n",
       "      <td>3.829503</td>\n",
       "    </tr>\n",
       "    <tr>\n",
       "      <th>4</th>\n",
       "      <td>0.641334</td>\n",
       "      <td>0.104038</td>\n",
       "      <td>0.190060</td>\n",
       "      <td>3.830696</td>\n",
       "    </tr>\n",
       "    <tr>\n",
       "      <th>5</th>\n",
       "      <td>0.039256</td>\n",
       "      <td>0.007885</td>\n",
       "      <td>2.189611</td>\n",
       "      <td>1.059457</td>\n",
       "    </tr>\n",
       "  </tbody>\n",
       "</table>\n",
       "</div>"
      ],
      "text/plain": [
       "    nuB_opt   nuF_opt    TB_opt    TF_opt\n",
       "0  0.473253  0.027032  0.663347  1.317327\n",
       "1  0.036822  0.001763  0.021552  0.781917\n",
       "2  1.907850  0.038445  1.426696  2.480729\n",
       "3  2.507626  0.091869  0.155196  3.829503\n",
       "4  0.641334  0.104038  0.190060  3.830696\n",
       "5  0.039256  0.007885  2.189611  1.059457"
      ]
     },
     "execution_count": 35,
     "metadata": {},
     "output_type": "execute_result"
    }
   ],
   "source": [
    "df.loc[:, ['nuB_opt', 'nuF_opt', 'TB_opt', 'TF_opt']]"
   ]
  },
  {
   "cell_type": "code",
   "execution_count": 40,
   "metadata": {
    "collapsed": false
   },
   "outputs": [
    {
     "data": {
      "text/plain": [
       "[array([ 0.47325277,  0.0270319 ,  0.66334729,  1.31732675]),\n",
       " array([ 0.03682158,  0.00176323,  0.02155165,  0.78191672]),\n",
       " array([ 1.90784959,  0.03844487,  1.42669581,  2.48072912]),\n",
       " array([ 2.50762601,  0.09186928,  0.15519576,  3.82950266]),\n",
       " array([ 0.64133354,  0.10403757,  0.19006035,  3.83069627]),\n",
       " array([ 0.03925564,  0.00788456,  2.18961142,  1.05945703]),\n",
       " array([ 0.47325277,  0.0270319 ,  0.66334729,  1.31732675]),\n",
       " array([ 0.03682158,  0.00176323,  0.02155165,  0.78191672]),\n",
       " array([ 1.90784959,  0.03844487,  1.42669581,  2.48072912]),\n",
       " array([ 2.50762601,  0.09186928,  0.15519576,  3.82950266]),\n",
       " array([ 0.64133354,  0.10403757,  0.19006035,  3.83069627]),\n",
       " array([ 0.03925564,  0.00788456,  2.18961142,  1.05945703]),\n",
       " array([ 0.47325277,  0.0270319 ,  0.66334729,  1.31732675]),\n",
       " array([ 0.03682158,  0.00176323,  0.02155165,  0.78191672]),\n",
       " array([ 1.90784959,  0.03844487,  1.42669581,  2.48072912]),\n",
       " array([ 2.50762601,  0.09186928,  0.15519576,  3.82950266]),\n",
       " array([ 0.64133354,  0.10403757,  0.19006035,  3.83069627]),\n",
       " array([ 0.03925564,  0.00788456,  2.18961142,  1.05945703])]"
      ]
     },
     "execution_count": 40,
     "metadata": {},
     "output_type": "execute_result"
    }
   ],
   "source": [
    "# specify new set initial parameter values (the optimal sets repeated 3 times)\n",
    "\n",
    "p0 = []\n",
    "\n",
    "for _ in range(3):\n",
    "    p0.extend(np.array(df.loc[:, ['nuB_opt', 'nuF_opt', 'TB_opt', 'TF_opt']]))\n",
    "\n",
    "p0"
   ]
  },
  {
   "cell_type": "code",
   "execution_count": 41,
   "metadata": {
    "collapsed": true
   },
   "outputs": [],
   "source": [
    "%%px\n",
    "\n",
    "fold = 2 # perturb up to 4 times"
   ]
  },
  {
   "cell_type": "code",
   "execution_count": 42,
   "metadata": {
    "collapsed": true
   },
   "outputs": [],
   "source": [
    "# run optimisations\n",
    "\n",
    "ar_par_2 = lbview.map(run_dadi, p0, block=False, order=True)"
   ]
  },
  {
   "cell_type": "code",
   "execution_count": 48,
   "metadata": {
    "collapsed": false
   },
   "outputs": [
    {
     "data": {
      "text/plain": [
       "18"
      ]
     },
     "execution_count": 48,
     "metadata": {},
     "output_type": "execute_result"
    }
   ],
   "source": [
    "ar_par_2.progress"
   ]
  },
  {
   "cell_type": "code",
   "execution_count": 49,
   "metadata": {
    "collapsed": false
   },
   "outputs": [
    {
     "name": "stdout",
     "output_type": "stream",
     "text": [
      "success 18\n",
      "Maximum number of function evaluations made. 0\n",
      "Maximum number of iterations reached. 0\n",
      "unknown flag 0\n"
     ]
    }
   ],
   "source": [
    "get_flag_count(ar_par_2, NM=True)"
   ]
  },
  {
   "cell_type": "markdown",
   "metadata": {},
   "source": [
    "Wow! All 18 runs were successful?!"
   ]
  },
  {
   "cell_type": "code",
   "execution_count": 87,
   "metadata": {
    "collapsed": false
   },
   "outputs": [
    {
     "data": {
      "text/html": [
       "<div>\n",
       "<table border=\"1\" class=\"dataframe\">\n",
       "  <thead>\n",
       "    <tr style=\"text-align: right;\">\n",
       "      <th></th>\n",
       "      <th>nuB_0</th>\n",
       "      <th>nuF_0</th>\n",
       "      <th>TB_0</th>\n",
       "      <th>TF_0</th>\n",
       "      <th>nuB_opt</th>\n",
       "      <th>nuF_opt</th>\n",
       "      <th>TB_opt</th>\n",
       "      <th>TF_opt</th>\n",
       "      <th>logL</th>\n",
       "    </tr>\n",
       "  </thead>\n",
       "  <tbody>\n",
       "    <tr>\n",
       "      <th>25</th>\n",
       "      <td>0.034798</td>\n",
       "      <td>0.000622</td>\n",
       "      <td>0.034582</td>\n",
       "      <td>0.378960</td>\n",
       "      <td>0.032141</td>\n",
       "      <td>0.001058</td>\n",
       "      <td>0.032899</td>\n",
       "      <td>0.358150</td>\n",
       "      <td>6925.673757</td>\n",
       "    </tr>\n",
       "    <tr>\n",
       "      <th>7</th>\n",
       "      <td>0.034798</td>\n",
       "      <td>0.000622</td>\n",
       "      <td>0.034582</td>\n",
       "      <td>0.378960</td>\n",
       "      <td>0.032141</td>\n",
       "      <td>0.001058</td>\n",
       "      <td>0.032899</td>\n",
       "      <td>0.358150</td>\n",
       "      <td>6925.673757</td>\n",
       "    </tr>\n",
       "    <tr>\n",
       "      <th>31</th>\n",
       "      <td>0.021137</td>\n",
       "      <td>0.001603</td>\n",
       "      <td>0.035116</td>\n",
       "      <td>0.201532</td>\n",
       "      <td>0.021004</td>\n",
       "      <td>0.001120</td>\n",
       "      <td>0.036850</td>\n",
       "      <td>0.197136</td>\n",
       "      <td>6925.673757</td>\n",
       "    </tr>\n",
       "    <tr>\n",
       "      <th>13</th>\n",
       "      <td>0.021137</td>\n",
       "      <td>0.001603</td>\n",
       "      <td>0.035116</td>\n",
       "      <td>0.201532</td>\n",
       "      <td>0.021004</td>\n",
       "      <td>0.001120</td>\n",
       "      <td>0.036850</td>\n",
       "      <td>0.197136</td>\n",
       "      <td>6925.673757</td>\n",
       "    </tr>\n",
       "    <tr>\n",
       "      <th>1</th>\n",
       "      <td>2.473569</td>\n",
       "      <td>0.361162</td>\n",
       "      <td>3.960000</td>\n",
       "      <td>0.920803</td>\n",
       "      <td>0.036822</td>\n",
       "      <td>0.001763</td>\n",
       "      <td>0.021552</td>\n",
       "      <td>0.781917</td>\n",
       "      <td>6925.673757</td>\n",
       "    </tr>\n",
       "    <tr>\n",
       "      <th>11</th>\n",
       "      <td>0.046882</td>\n",
       "      <td>0.005830</td>\n",
       "      <td>3.960000</td>\n",
       "      <td>3.341567</td>\n",
       "      <td>0.047762</td>\n",
       "      <td>0.004537</td>\n",
       "      <td>3.913243</td>\n",
       "      <td>3.408379</td>\n",
       "      <td>6925.673757</td>\n",
       "    </tr>\n",
       "    <tr>\n",
       "      <th>29</th>\n",
       "      <td>0.046882</td>\n",
       "      <td>0.005830</td>\n",
       "      <td>3.960000</td>\n",
       "      <td>3.341567</td>\n",
       "      <td>0.047762</td>\n",
       "      <td>0.004537</td>\n",
       "      <td>3.913243</td>\n",
       "      <td>3.408379</td>\n",
       "      <td>6925.673757</td>\n",
       "    </tr>\n",
       "    <tr>\n",
       "      <th>19</th>\n",
       "      <td>0.029536</td>\n",
       "      <td>0.006689</td>\n",
       "      <td>0.029136</td>\n",
       "      <td>0.560299</td>\n",
       "      <td>0.026678</td>\n",
       "      <td>0.006358</td>\n",
       "      <td>0.028909</td>\n",
       "      <td>0.558054</td>\n",
       "      <td>6925.673757</td>\n",
       "    </tr>\n",
       "    <tr>\n",
       "      <th>37</th>\n",
       "      <td>0.029536</td>\n",
       "      <td>0.006689</td>\n",
       "      <td>0.029136</td>\n",
       "      <td>0.560299</td>\n",
       "      <td>0.026678</td>\n",
       "      <td>0.006358</td>\n",
       "      <td>0.028909</td>\n",
       "      <td>0.558054</td>\n",
       "      <td>6925.673757</td>\n",
       "    </tr>\n",
       "    <tr>\n",
       "      <th>23</th>\n",
       "      <td>0.010834</td>\n",
       "      <td>0.006921</td>\n",
       "      <td>0.784781</td>\n",
       "      <td>1.005371</td>\n",
       "      <td>0.010929</td>\n",
       "      <td>0.006721</td>\n",
       "      <td>0.784020</td>\n",
       "      <td>1.005448</td>\n",
       "      <td>6925.673757</td>\n",
       "    </tr>\n",
       "    <tr>\n",
       "      <th>41</th>\n",
       "      <td>0.010834</td>\n",
       "      <td>0.006921</td>\n",
       "      <td>0.784781</td>\n",
       "      <td>1.005371</td>\n",
       "      <td>0.010929</td>\n",
       "      <td>0.006721</td>\n",
       "      <td>0.784020</td>\n",
       "      <td>1.005448</td>\n",
       "      <td>6925.673757</td>\n",
       "    </tr>\n",
       "    <tr>\n",
       "      <th>5</th>\n",
       "      <td>0.204874</td>\n",
       "      <td>0.193839</td>\n",
       "      <td>0.141559</td>\n",
       "      <td>1.090908</td>\n",
       "      <td>0.039256</td>\n",
       "      <td>0.007885</td>\n",
       "      <td>2.189611</td>\n",
       "      <td>1.059457</td>\n",
       "      <td>6925.673757</td>\n",
       "    </tr>\n",
       "    <tr>\n",
       "      <th>24</th>\n",
       "      <td>0.317086</td>\n",
       "      <td>0.007937</td>\n",
       "      <td>2.038538</td>\n",
       "      <td>1.510296</td>\n",
       "      <td>0.315879</td>\n",
       "      <td>0.007967</td>\n",
       "      <td>2.043365</td>\n",
       "      <td>1.535930</td>\n",
       "      <td>6925.673757</td>\n",
       "    </tr>\n",
       "    <tr>\n",
       "      <th>6</th>\n",
       "      <td>0.317086</td>\n",
       "      <td>0.007937</td>\n",
       "      <td>2.038538</td>\n",
       "      <td>1.510296</td>\n",
       "      <td>0.315879</td>\n",
       "      <td>0.007967</td>\n",
       "      <td>2.043365</td>\n",
       "      <td>1.535930</td>\n",
       "      <td>6925.673757</td>\n",
       "    </tr>\n",
       "    <tr>\n",
       "      <th>35</th>\n",
       "      <td>0.024233</td>\n",
       "      <td>0.009914</td>\n",
       "      <td>1.835750</td>\n",
       "      <td>3.960000</td>\n",
       "      <td>0.019881</td>\n",
       "      <td>0.008062</td>\n",
       "      <td>1.856716</td>\n",
       "      <td>3.578219</td>\n",
       "      <td>6925.673757</td>\n",
       "    </tr>\n",
       "    <tr>\n",
       "      <th>17</th>\n",
       "      <td>0.024233</td>\n",
       "      <td>0.009914</td>\n",
       "      <td>1.835750</td>\n",
       "      <td>3.960000</td>\n",
       "      <td>0.019881</td>\n",
       "      <td>0.008062</td>\n",
       "      <td>1.856716</td>\n",
       "      <td>3.578219</td>\n",
       "      <td>6925.673757</td>\n",
       "    </tr>\n",
       "    <tr>\n",
       "      <th>18</th>\n",
       "      <td>0.307762</td>\n",
       "      <td>0.021357</td>\n",
       "      <td>1.046228</td>\n",
       "      <td>0.472231</td>\n",
       "      <td>0.302127</td>\n",
       "      <td>0.014132</td>\n",
       "      <td>1.046629</td>\n",
       "      <td>0.492002</td>\n",
       "      <td>6925.673757</td>\n",
       "    </tr>\n",
       "    <tr>\n",
       "      <th>36</th>\n",
       "      <td>0.307762</td>\n",
       "      <td>0.021357</td>\n",
       "      <td>1.046228</td>\n",
       "      <td>0.472231</td>\n",
       "      <td>0.302127</td>\n",
       "      <td>0.014132</td>\n",
       "      <td>1.046629</td>\n",
       "      <td>0.492002</td>\n",
       "      <td>6925.673757</td>\n",
       "    </tr>\n",
       "    <tr>\n",
       "      <th>8</th>\n",
       "      <td>1.334913</td>\n",
       "      <td>0.025802</td>\n",
       "      <td>0.809057</td>\n",
       "      <td>2.734837</td>\n",
       "      <td>1.347579</td>\n",
       "      <td>0.022027</td>\n",
       "      <td>0.803359</td>\n",
       "      <td>2.492352</td>\n",
       "      <td>6925.673757</td>\n",
       "    </tr>\n",
       "    <tr>\n",
       "      <th>26</th>\n",
       "      <td>1.334913</td>\n",
       "      <td>0.025802</td>\n",
       "      <td>0.809057</td>\n",
       "      <td>2.734837</td>\n",
       "      <td>1.347579</td>\n",
       "      <td>0.022027</td>\n",
       "      <td>0.803359</td>\n",
       "      <td>2.492352</td>\n",
       "      <td>6925.673757</td>\n",
       "    </tr>\n",
       "    <tr>\n",
       "      <th>0</th>\n",
       "      <td>0.638494</td>\n",
       "      <td>0.283054</td>\n",
       "      <td>3.960000</td>\n",
       "      <td>1.212381</td>\n",
       "      <td>0.473253</td>\n",
       "      <td>0.027032</td>\n",
       "      <td>0.663347</td>\n",
       "      <td>1.317327</td>\n",
       "      <td>6925.673757</td>\n",
       "    </tr>\n",
       "    <tr>\n",
       "      <th>16</th>\n",
       "      <td>0.769572</td>\n",
       "      <td>0.033210</td>\n",
       "      <td>0.247868</td>\n",
       "      <td>3.960000</td>\n",
       "      <td>0.764877</td>\n",
       "      <td>0.027528</td>\n",
       "      <td>0.252798</td>\n",
       "      <td>3.601468</td>\n",
       "      <td>6925.673757</td>\n",
       "    </tr>\n",
       "    <tr>\n",
       "      <th>34</th>\n",
       "      <td>0.769572</td>\n",
       "      <td>0.033210</td>\n",
       "      <td>0.247868</td>\n",
       "      <td>3.960000</td>\n",
       "      <td>0.764877</td>\n",
       "      <td>0.027528</td>\n",
       "      <td>0.252798</td>\n",
       "      <td>3.601468</td>\n",
       "      <td>6925.673757</td>\n",
       "    </tr>\n",
       "    <tr>\n",
       "      <th>2</th>\n",
       "      <td>2.433394</td>\n",
       "      <td>0.438042</td>\n",
       "      <td>0.462081</td>\n",
       "      <td>2.612107</td>\n",
       "      <td>1.907850</td>\n",
       "      <td>0.038445</td>\n",
       "      <td>1.426696</td>\n",
       "      <td>2.480729</td>\n",
       "      <td>6925.673757</td>\n",
       "    </tr>\n",
       "    <tr>\n",
       "      <th>22</th>\n",
       "      <td>0.193470</td>\n",
       "      <td>0.050057</td>\n",
       "      <td>0.224928</td>\n",
       "      <td>3.960000</td>\n",
       "      <td>0.200351</td>\n",
       "      <td>0.040437</td>\n",
       "      <td>0.227508</td>\n",
       "      <td>3.677640</td>\n",
       "      <td>6925.673757</td>\n",
       "    </tr>\n",
       "    <tr>\n",
       "      <th>40</th>\n",
       "      <td>0.193470</td>\n",
       "      <td>0.050057</td>\n",
       "      <td>0.224928</td>\n",
       "      <td>3.960000</td>\n",
       "      <td>0.200351</td>\n",
       "      <td>0.040437</td>\n",
       "      <td>0.227508</td>\n",
       "      <td>3.677640</td>\n",
       "      <td>6925.673757</td>\n",
       "    </tr>\n",
       "    <tr>\n",
       "      <th>12</th>\n",
       "      <td>0.166914</td>\n",
       "      <td>0.048545</td>\n",
       "      <td>1.474589</td>\n",
       "      <td>1.333131</td>\n",
       "      <td>0.157016</td>\n",
       "      <td>0.041328</td>\n",
       "      <td>1.446743</td>\n",
       "      <td>1.347389</td>\n",
       "      <td>6925.673757</td>\n",
       "    </tr>\n",
       "    <tr>\n",
       "      <th>30</th>\n",
       "      <td>0.166914</td>\n",
       "      <td>0.048545</td>\n",
       "      <td>1.474589</td>\n",
       "      <td>1.333131</td>\n",
       "      <td>0.157016</td>\n",
       "      <td>0.041328</td>\n",
       "      <td>1.446743</td>\n",
       "      <td>1.347389</td>\n",
       "      <td>6925.673757</td>\n",
       "    </tr>\n",
       "    <tr>\n",
       "      <th>21</th>\n",
       "      <td>2.423076</td>\n",
       "      <td>0.059729</td>\n",
       "      <td>0.419554</td>\n",
       "      <td>3.960000</td>\n",
       "      <td>2.435674</td>\n",
       "      <td>0.059927</td>\n",
       "      <td>0.417425</td>\n",
       "      <td>3.938768</td>\n",
       "      <td>6925.673757</td>\n",
       "    </tr>\n",
       "    <tr>\n",
       "      <th>39</th>\n",
       "      <td>2.423076</td>\n",
       "      <td>0.059729</td>\n",
       "      <td>0.419554</td>\n",
       "      <td>3.960000</td>\n",
       "      <td>2.435674</td>\n",
       "      <td>0.059927</td>\n",
       "      <td>0.417425</td>\n",
       "      <td>3.938768</td>\n",
       "      <td>6925.673757</td>\n",
       "    </tr>\n",
       "    <tr>\n",
       "      <th>38</th>\n",
       "      <td>1.853563</td>\n",
       "      <td>0.115368</td>\n",
       "      <td>3.325237</td>\n",
       "      <td>2.930335</td>\n",
       "      <td>1.770115</td>\n",
       "      <td>0.084648</td>\n",
       "      <td>2.855704</td>\n",
       "      <td>3.272462</td>\n",
       "      <td>6925.673757</td>\n",
       "    </tr>\n",
       "    <tr>\n",
       "      <th>20</th>\n",
       "      <td>1.853563</td>\n",
       "      <td>0.115368</td>\n",
       "      <td>3.325237</td>\n",
       "      <td>2.930335</td>\n",
       "      <td>1.770115</td>\n",
       "      <td>0.084648</td>\n",
       "      <td>2.855704</td>\n",
       "      <td>3.272462</td>\n",
       "      <td>6925.673757</td>\n",
       "    </tr>\n",
       "    <tr>\n",
       "      <th>3</th>\n",
       "      <td>2.548660</td>\n",
       "      <td>0.202542</td>\n",
       "      <td>0.135508</td>\n",
       "      <td>3.459914</td>\n",
       "      <td>2.507626</td>\n",
       "      <td>0.091869</td>\n",
       "      <td>0.155196</td>\n",
       "      <td>3.829503</td>\n",
       "      <td>6925.673757</td>\n",
       "    </tr>\n",
       "    <tr>\n",
       "      <th>27</th>\n",
       "      <td>1.329169</td>\n",
       "      <td>0.204441</td>\n",
       "      <td>0.152604</td>\n",
       "      <td>3.960000</td>\n",
       "      <td>1.245161</td>\n",
       "      <td>0.096600</td>\n",
       "      <td>0.201465</td>\n",
       "      <td>3.859701</td>\n",
       "      <td>6925.673757</td>\n",
       "    </tr>\n",
       "    <tr>\n",
       "      <th>9</th>\n",
       "      <td>1.329169</td>\n",
       "      <td>0.204441</td>\n",
       "      <td>0.152604</td>\n",
       "      <td>3.960000</td>\n",
       "      <td>1.245161</td>\n",
       "      <td>0.096600</td>\n",
       "      <td>0.201465</td>\n",
       "      <td>3.859701</td>\n",
       "      <td>6925.673757</td>\n",
       "    </tr>\n",
       "    <tr>\n",
       "      <th>4</th>\n",
       "      <td>2.186779</td>\n",
       "      <td>0.569927</td>\n",
       "      <td>2.567862</td>\n",
       "      <td>2.802733</td>\n",
       "      <td>0.641334</td>\n",
       "      <td>0.104038</td>\n",
       "      <td>0.190060</td>\n",
       "      <td>3.830696</td>\n",
       "      <td>6925.673757</td>\n",
       "    </tr>\n",
       "    <tr>\n",
       "      <th>33</th>\n",
       "      <td>3.056074</td>\n",
       "      <td>0.139525</td>\n",
       "      <td>0.083480</td>\n",
       "      <td>3.960000</td>\n",
       "      <td>3.082088</td>\n",
       "      <td>0.113243</td>\n",
       "      <td>0.073635</td>\n",
       "      <td>3.827661</td>\n",
       "      <td>6925.673757</td>\n",
       "    </tr>\n",
       "    <tr>\n",
       "      <th>15</th>\n",
       "      <td>3.056074</td>\n",
       "      <td>0.139525</td>\n",
       "      <td>0.083480</td>\n",
       "      <td>3.960000</td>\n",
       "      <td>3.082088</td>\n",
       "      <td>0.113243</td>\n",
       "      <td>0.073635</td>\n",
       "      <td>3.827661</td>\n",
       "      <td>6925.673757</td>\n",
       "    </tr>\n",
       "    <tr>\n",
       "      <th>28</th>\n",
       "      <td>1.316761</td>\n",
       "      <td>0.306616</td>\n",
       "      <td>0.135113</td>\n",
       "      <td>2.202856</td>\n",
       "      <td>1.209182</td>\n",
       "      <td>0.114317</td>\n",
       "      <td>0.179460</td>\n",
       "      <td>3.781351</td>\n",
       "      <td>6925.673757</td>\n",
       "    </tr>\n",
       "    <tr>\n",
       "      <th>10</th>\n",
       "      <td>1.316761</td>\n",
       "      <td>0.306616</td>\n",
       "      <td>0.135113</td>\n",
       "      <td>2.202856</td>\n",
       "      <td>1.209182</td>\n",
       "      <td>0.114317</td>\n",
       "      <td>0.179460</td>\n",
       "      <td>3.781351</td>\n",
       "      <td>6925.673757</td>\n",
       "    </tr>\n",
       "    <tr>\n",
       "      <th>32</th>\n",
       "      <td>1.649948</td>\n",
       "      <td>0.116610</td>\n",
       "      <td>3.532943</td>\n",
       "      <td>3.960000</td>\n",
       "      <td>1.671203</td>\n",
       "      <td>0.119777</td>\n",
       "      <td>3.654009</td>\n",
       "      <td>3.865415</td>\n",
       "      <td>6925.673757</td>\n",
       "    </tr>\n",
       "    <tr>\n",
       "      <th>14</th>\n",
       "      <td>1.649948</td>\n",
       "      <td>0.116610</td>\n",
       "      <td>3.532943</td>\n",
       "      <td>3.960000</td>\n",
       "      <td>1.671203</td>\n",
       "      <td>0.119777</td>\n",
       "      <td>3.654009</td>\n",
       "      <td>3.865415</td>\n",
       "      <td>6925.673757</td>\n",
       "    </tr>\n",
       "  </tbody>\n",
       "</table>\n",
       "</div>"
      ],
      "text/plain": [
       "       nuB_0     nuF_0      TB_0      TF_0   nuB_opt   nuF_opt    TB_opt  \\\n",
       "25  0.034798  0.000622  0.034582  0.378960  0.032141  0.001058  0.032899   \n",
       "7   0.034798  0.000622  0.034582  0.378960  0.032141  0.001058  0.032899   \n",
       "31  0.021137  0.001603  0.035116  0.201532  0.021004  0.001120  0.036850   \n",
       "13  0.021137  0.001603  0.035116  0.201532  0.021004  0.001120  0.036850   \n",
       "1   2.473569  0.361162  3.960000  0.920803  0.036822  0.001763  0.021552   \n",
       "11  0.046882  0.005830  3.960000  3.341567  0.047762  0.004537  3.913243   \n",
       "29  0.046882  0.005830  3.960000  3.341567  0.047762  0.004537  3.913243   \n",
       "19  0.029536  0.006689  0.029136  0.560299  0.026678  0.006358  0.028909   \n",
       "37  0.029536  0.006689  0.029136  0.560299  0.026678  0.006358  0.028909   \n",
       "23  0.010834  0.006921  0.784781  1.005371  0.010929  0.006721  0.784020   \n",
       "41  0.010834  0.006921  0.784781  1.005371  0.010929  0.006721  0.784020   \n",
       "5   0.204874  0.193839  0.141559  1.090908  0.039256  0.007885  2.189611   \n",
       "24  0.317086  0.007937  2.038538  1.510296  0.315879  0.007967  2.043365   \n",
       "6   0.317086  0.007937  2.038538  1.510296  0.315879  0.007967  2.043365   \n",
       "35  0.024233  0.009914  1.835750  3.960000  0.019881  0.008062  1.856716   \n",
       "17  0.024233  0.009914  1.835750  3.960000  0.019881  0.008062  1.856716   \n",
       "18  0.307762  0.021357  1.046228  0.472231  0.302127  0.014132  1.046629   \n",
       "36  0.307762  0.021357  1.046228  0.472231  0.302127  0.014132  1.046629   \n",
       "8   1.334913  0.025802  0.809057  2.734837  1.347579  0.022027  0.803359   \n",
       "26  1.334913  0.025802  0.809057  2.734837  1.347579  0.022027  0.803359   \n",
       "0   0.638494  0.283054  3.960000  1.212381  0.473253  0.027032  0.663347   \n",
       "16  0.769572  0.033210  0.247868  3.960000  0.764877  0.027528  0.252798   \n",
       "34  0.769572  0.033210  0.247868  3.960000  0.764877  0.027528  0.252798   \n",
       "2   2.433394  0.438042  0.462081  2.612107  1.907850  0.038445  1.426696   \n",
       "22  0.193470  0.050057  0.224928  3.960000  0.200351  0.040437  0.227508   \n",
       "40  0.193470  0.050057  0.224928  3.960000  0.200351  0.040437  0.227508   \n",
       "12  0.166914  0.048545  1.474589  1.333131  0.157016  0.041328  1.446743   \n",
       "30  0.166914  0.048545  1.474589  1.333131  0.157016  0.041328  1.446743   \n",
       "21  2.423076  0.059729  0.419554  3.960000  2.435674  0.059927  0.417425   \n",
       "39  2.423076  0.059729  0.419554  3.960000  2.435674  0.059927  0.417425   \n",
       "38  1.853563  0.115368  3.325237  2.930335  1.770115  0.084648  2.855704   \n",
       "20  1.853563  0.115368  3.325237  2.930335  1.770115  0.084648  2.855704   \n",
       "3   2.548660  0.202542  0.135508  3.459914  2.507626  0.091869  0.155196   \n",
       "27  1.329169  0.204441  0.152604  3.960000  1.245161  0.096600  0.201465   \n",
       "9   1.329169  0.204441  0.152604  3.960000  1.245161  0.096600  0.201465   \n",
       "4   2.186779  0.569927  2.567862  2.802733  0.641334  0.104038  0.190060   \n",
       "33  3.056074  0.139525  0.083480  3.960000  3.082088  0.113243  0.073635   \n",
       "15  3.056074  0.139525  0.083480  3.960000  3.082088  0.113243  0.073635   \n",
       "28  1.316761  0.306616  0.135113  2.202856  1.209182  0.114317  0.179460   \n",
       "10  1.316761  0.306616  0.135113  2.202856  1.209182  0.114317  0.179460   \n",
       "32  1.649948  0.116610  3.532943  3.960000  1.671203  0.119777  3.654009   \n",
       "14  1.649948  0.116610  3.532943  3.960000  1.671203  0.119777  3.654009   \n",
       "\n",
       "      TF_opt         logL  \n",
       "25  0.358150  6925.673757  \n",
       "7   0.358150  6925.673757  \n",
       "31  0.197136  6925.673757  \n",
       "13  0.197136  6925.673757  \n",
       "1   0.781917  6925.673757  \n",
       "11  3.408379  6925.673757  \n",
       "29  3.408379  6925.673757  \n",
       "19  0.558054  6925.673757  \n",
       "37  0.558054  6925.673757  \n",
       "23  1.005448  6925.673757  \n",
       "41  1.005448  6925.673757  \n",
       "5   1.059457  6925.673757  \n",
       "24  1.535930  6925.673757  \n",
       "6   1.535930  6925.673757  \n",
       "35  3.578219  6925.673757  \n",
       "17  3.578219  6925.673757  \n",
       "18  0.492002  6925.673757  \n",
       "36  0.492002  6925.673757  \n",
       "8   2.492352  6925.673757  \n",
       "26  2.492352  6925.673757  \n",
       "0   1.317327  6925.673757  \n",
       "16  3.601468  6925.673757  \n",
       "34  3.601468  6925.673757  \n",
       "2   2.480729  6925.673757  \n",
       "22  3.677640  6925.673757  \n",
       "40  3.677640  6925.673757  \n",
       "12  1.347389  6925.673757  \n",
       "30  1.347389  6925.673757  \n",
       "21  3.938768  6925.673757  \n",
       "39  3.938768  6925.673757  \n",
       "38  3.272462  6925.673757  \n",
       "20  3.272462  6925.673757  \n",
       "3   3.829503  6925.673757  \n",
       "27  3.859701  6925.673757  \n",
       "9   3.859701  6925.673757  \n",
       "4   3.830696  6925.673757  \n",
       "33  3.827661  6925.673757  \n",
       "15  3.827661  6925.673757  \n",
       "28  3.781351  6925.673757  \n",
       "10  3.781351  6925.673757  \n",
       "32  3.865415  6925.673757  \n",
       "14  3.865415  6925.673757  "
      ]
     },
     "execution_count": 87,
     "metadata": {},
     "output_type": "execute_result"
    }
   ],
   "source": [
    "# add new output to previous output\n",
    "successfull_popt.extend( [flatten(out)[:9] for out in ar_par_2 if out[1][4] == 0] )\n",
    "\n",
    "# create data frame\n",
    "df = pd.DataFrame(data=successfull_popt, \\\n",
    "                  columns=['nuB_0', 'nuF_0', 'TB_0', 'TF_0', 'nuB_opt', 'nuF_opt', 'TB_opt', 'TF_opt', 'logL'])\n",
    "\n",
    "# sort data frame by negative log likelihood\n",
    "df.sort_values(by='nuF_opt', ascending=True)"
   ]
  },
  {
   "cell_type": "markdown",
   "metadata": {},
   "source": [
    "I am going to visualise these population size histories."
   ]
  },
  {
   "cell_type": "code",
   "execution_count": 57,
   "metadata": {
    "collapsed": true
   },
   "outputs": [],
   "source": [
    "# add time for ancient size change\n",
    "\n",
    "df['TB+TF'] = pd.Series(df['TB_opt']+df['TF_opt'])"
   ]
  },
  {
   "cell_type": "code",
   "execution_count": 58,
   "metadata": {
    "collapsed": false
   },
   "outputs": [],
   "source": [
    "# extract columns from table\n",
    "nuB = df.loc[:,'nuB_opt']\n",
    "nuF = df.loc[:, 'nuF_opt']\n",
    "Tb_Tf = df.loc[:, 'TB+TF']\n",
    "TF = df.loc[:, 'TF_opt']"
   ]
  },
  {
   "cell_type": "code",
   "execution_count": 59,
   "metadata": {
    "collapsed": false
   },
   "outputs": [
    {
     "name": "stdout",
     "output_type": "stream",
     "text": [
      "The total sequence length for the ery spectrum is 1,214,938.\n"
     ]
    }
   ],
   "source": [
    "# calculate reference (ancient) population size from theta estimate (derived elsewhere by fitting a neutral spectrum)\n",
    "\n",
    "theta_par = 10632.738922047551\n",
    "mu = 3e-9\n",
    "L = fs_par.data.sum() # this sums over all entries in the spectrum, including masked ones, i. e. also contains invariable sites\n",
    "print \"The total sequence length for the ery spectrum is {0:,}.\".format(int(L))\n",
    "N_ref_par = theta_par/L/mu/4"
   ]
  },
  {
   "cell_type": "code",
   "execution_count": 60,
   "metadata": {
    "collapsed": true
   },
   "outputs": [],
   "source": [
    "# turn nu into absolute Ne and T into generations\n",
    "\n",
    "nuB_n = nuB*N_ref_par\n",
    "nuF_n = nuF*N_ref_par\n",
    "Tb_Tf_g = Tb_Tf*2*N_ref_par\n",
    "TF_g = TF*2*N_ref_par"
   ]
  },
  {
   "cell_type": "code",
   "execution_count": 61,
   "metadata": {
    "collapsed": true
   },
   "outputs": [],
   "source": [
    "anc = [N_ref_par] * len(nuB)\n",
    "pres = [1] * len(nuB)\n",
    "past = [max(Tb_Tf_g)+1000] * len(nuB)"
   ]
  },
  {
   "cell_type": "code",
   "execution_count": 62,
   "metadata": {
    "collapsed": false
   },
   "outputs": [
    {
     "data": {
      "text/plain": [
       "<matplotlib.text.Text at 0x7fac72f3c290>"
      ]
     },
     "execution_count": 62,
     "metadata": {},
     "output_type": "execute_result"
    },
    {
     "data": {
      "image/png": "[encoded data removed]",
      "text/plain": [
       "<matplotlib.figure.Figure at 0x7fac77b80850>"
      ]
     },
     "metadata": {},
     "output_type": "display_data"
    }
   ],
   "source": [
    "import matplotlib.pyplot as plt\n",
    "\n",
    "%matplotlib inline\n",
    "\n",
    "plt.rcParams['figure.figsize'] = [12.0, 10.0]\n",
    "\n",
    "for run in zip(past, Tb_Tf_g, Tb_Tf_g, TF_g, TF_g, pres, anc, anc, nuB_n, nuB_n, nuF_n, nuF_n):\n",
    "    plt.semilogy(run[:6], run[6:])\n",
    "plt.xlabel('generations in the past')\n",
    "plt.ylabel('effective population size')"
   ]
  },
  {
   "cell_type": "markdown",
   "metadata": {},
   "source": [
    "The ancient size change is generally inferred to be more than 1 million generations ago (even up to 10 million)?!"
   ]
  },
  {
   "cell_type": "markdown",
   "metadata": {},
   "source": [
    "Are the strength of the first population size change, $(\\frac{1}{\\nu_B})^{TB}$, and the strength of the second population size change, $(\\frac{1}{\\nu_F})^{TF}$, correlated with each other?"
   ]
  },
  {
   "cell_type": "code",
   "execution_count": 90,
   "metadata": {
    "collapsed": false
   },
   "outputs": [
    {
     "data": {
      "text/plain": [
       "<matplotlib.text.Text at 0x7fac6e91f650>"
      ]
     },
     "execution_count": 90,
     "metadata": {},
     "output_type": "execute_result"
    },
    {
     "data": {
      "image/png": "[encoded data removed]",
      "text/plain": [
       "<matplotlib.figure.Figure at 0x7fac6f0b8a10>"
      ]
     },
     "metadata": {},
     "output_type": "display_data"
    }
   ],
   "source": [
    "plt.rcParams['font.size'] = 12.0\n",
    "\n",
    "plt.plot((1.0/df['nuB_opt'])**df['TB_opt'], (1.0/df['nuF_opt'])**df['TF_opt'], 'bo')\n",
    "plt.xlabel('strength of first size change')\n",
    "plt.ylabel('strength of second size change')"
   ]
  },
  {
   "cell_type": "markdown",
   "metadata": {},
   "source": [
    "There is no correlation between the strength of the two size changes."
   ]
  },
  {
   "cell_type": "code",
   "execution_count": 54,
   "metadata": {
    "collapsed": false
   },
   "outputs": [],
   "source": [
    "import dill\n",
    "\n",
    "dump_this = ar_par\n",
    "dump_this.extend(list(ar_par_2.get()))\n",
    "\n",
    "dill.dump(dump_this, open(\"OUT_three_epoch/PAR_perturb_ar_par.dill\", \"w\"))"
   ]
  },
  {
   "cell_type": "code",
   "execution_count": 55,
   "metadata": {
    "collapsed": true
   },
   "outputs": [],
   "source": [
    "p0 = [100, 1e-2, 1, 2] # start from more extreme initial parameter values\n",
    "\n",
    "ar_par_3 = lbview.map(run_dadi, repeat(p0, 10), block = False, order=False)"
   ]
  },
  {
   "cell_type": "code",
   "execution_count": 67,
   "metadata": {
    "collapsed": false
   },
   "outputs": [
    {
     "data": {
      "text/plain": [
       "10"
      ]
     },
     "execution_count": 67,
     "metadata": {},
     "output_type": "execute_result"
    }
   ],
   "source": [
    "ar_par_3.progress"
   ]
  },
  {
   "cell_type": "code",
   "execution_count": 68,
   "metadata": {
    "collapsed": false
   },
   "outputs": [
    {
     "name": "stdout",
     "output_type": "stream",
     "text": [
      "success 10\n",
      "Maximum number of function evaluations made. 0\n",
      "Maximum number of iterations reached. 0\n",
      "unknown flag 0\n"
     ]
    }
   ],
   "source": [
    "get_flag_count(ar_par_3, NM=True)"
   ]
  },
  {
   "cell_type": "code",
   "execution_count": 93,
   "metadata": {
    "collapsed": true
   },
   "outputs": [],
   "source": [
    "dill.dump(list(ar_par_3.get()), open(\"OUT_three_epoch/PAR_perturb_extreme_ar_par.dill\", \"w\"))"
   ]
  },
  {
   "cell_type": "code",
   "execution_count": 70,
   "metadata": {
    "collapsed": false
   },
   "outputs": [
    {
     "data": {
      "text/html": [
       "<div>\n",
       "<table border=\"1\" class=\"dataframe\">\n",
       "  <thead>\n",
       "    <tr style=\"text-align: right;\">\n",
       "      <th></th>\n",
       "      <th>nuB_0</th>\n",
       "      <th>nuF_0</th>\n",
       "      <th>TB_0</th>\n",
       "      <th>TF_0</th>\n",
       "      <th>nuB_opt</th>\n",
       "      <th>nuF_opt</th>\n",
       "      <th>TB_opt</th>\n",
       "      <th>TF_opt</th>\n",
       "      <th>logL</th>\n",
       "    </tr>\n",
       "  </thead>\n",
       "  <tbody>\n",
       "    <tr>\n",
       "      <th>4</th>\n",
       "      <td>268.347228</td>\n",
       "      <td>0.036617</td>\n",
       "      <td>3.495306</td>\n",
       "      <td>2.235183</td>\n",
       "      <td>225.289543</td>\n",
       "      <td>0.032213</td>\n",
       "      <td>3.451690</td>\n",
       "      <td>2.183728</td>\n",
       "      <td>6925.673757</td>\n",
       "    </tr>\n",
       "    <tr>\n",
       "      <th>3</th>\n",
       "      <td>38.559230</td>\n",
       "      <td>0.005461</td>\n",
       "      <td>1.235253</td>\n",
       "      <td>3.883301</td>\n",
       "      <td>41.390244</td>\n",
       "      <td>0.005079</td>\n",
       "      <td>1.240099</td>\n",
       "      <td>3.769861</td>\n",
       "      <td>6925.673757</td>\n",
       "    </tr>\n",
       "    <tr>\n",
       "      <th>2</th>\n",
       "      <td>67.498147</td>\n",
       "      <td>0.015576</td>\n",
       "      <td>1.088031</td>\n",
       "      <td>3.551166</td>\n",
       "      <td>63.945996</td>\n",
       "      <td>0.014691</td>\n",
       "      <td>1.088717</td>\n",
       "      <td>3.584231</td>\n",
       "      <td>6925.673757</td>\n",
       "    </tr>\n",
       "    <tr>\n",
       "      <th>5</th>\n",
       "      <td>48.901243</td>\n",
       "      <td>0.028192</td>\n",
       "      <td>1.874433</td>\n",
       "      <td>1.116714</td>\n",
       "      <td>56.580841</td>\n",
       "      <td>0.030822</td>\n",
       "      <td>1.919122</td>\n",
       "      <td>1.112101</td>\n",
       "      <td>6925.673757</td>\n",
       "    </tr>\n",
       "    <tr>\n",
       "      <th>1</th>\n",
       "      <td>27.733009</td>\n",
       "      <td>0.003506</td>\n",
       "      <td>3.201122</td>\n",
       "      <td>1.346019</td>\n",
       "      <td>30.203574</td>\n",
       "      <td>0.003972</td>\n",
       "      <td>3.091384</td>\n",
       "      <td>1.362643</td>\n",
       "      <td>6925.673757</td>\n",
       "    </tr>\n",
       "    <tr>\n",
       "      <th>9</th>\n",
       "      <td>155.267088</td>\n",
       "      <td>0.002844</td>\n",
       "      <td>1.982512</td>\n",
       "      <td>0.713019</td>\n",
       "      <td>155.438528</td>\n",
       "      <td>0.002252</td>\n",
       "      <td>1.990211</td>\n",
       "      <td>0.713649</td>\n",
       "      <td>6925.673757</td>\n",
       "    </tr>\n",
       "    <tr>\n",
       "      <th>6</th>\n",
       "      <td>53.472143</td>\n",
       "      <td>0.007924</td>\n",
       "      <td>3.721429</td>\n",
       "      <td>3.367482</td>\n",
       "      <td>59.768349</td>\n",
       "      <td>0.007426</td>\n",
       "      <td>3.747301</td>\n",
       "      <td>3.356914</td>\n",
       "      <td>6925.673757</td>\n",
       "    </tr>\n",
       "    <tr>\n",
       "      <th>8</th>\n",
       "      <td>261.612644</td>\n",
       "      <td>0.005875</td>\n",
       "      <td>0.776384</td>\n",
       "      <td>3.960000</td>\n",
       "      <td>290.395553</td>\n",
       "      <td>0.004657</td>\n",
       "      <td>0.779946</td>\n",
       "      <td>3.904082</td>\n",
       "      <td>6925.673757</td>\n",
       "    </tr>\n",
       "    <tr>\n",
       "      <th>0</th>\n",
       "      <td>41.386654</td>\n",
       "      <td>0.004065</td>\n",
       "      <td>1.411848</td>\n",
       "      <td>1.871907</td>\n",
       "      <td>44.738775</td>\n",
       "      <td>0.005076</td>\n",
       "      <td>1.414354</td>\n",
       "      <td>1.917174</td>\n",
       "      <td>6925.673757</td>\n",
       "    </tr>\n",
       "    <tr>\n",
       "      <th>7</th>\n",
       "      <td>316.920444</td>\n",
       "      <td>0.007079</td>\n",
       "      <td>0.612435</td>\n",
       "      <td>3.960000</td>\n",
       "      <td>315.270535</td>\n",
       "      <td>0.005561</td>\n",
       "      <td>0.615180</td>\n",
       "      <td>3.948950</td>\n",
       "      <td>6925.673757</td>\n",
       "    </tr>\n",
       "  </tbody>\n",
       "</table>\n",
       "</div>"
      ],
      "text/plain": [
       "        nuB_0     nuF_0      TB_0      TF_0     nuB_opt   nuF_opt    TB_opt  \\\n",
       "4  268.347228  0.036617  3.495306  2.235183  225.289543  0.032213  3.451690   \n",
       "3   38.559230  0.005461  1.235253  3.883301   41.390244  0.005079  1.240099   \n",
       "2   67.498147  0.015576  1.088031  3.551166   63.945996  0.014691  1.088717   \n",
       "5   48.901243  0.028192  1.874433  1.116714   56.580841  0.030822  1.919122   \n",
       "1   27.733009  0.003506  3.201122  1.346019   30.203574  0.003972  3.091384   \n",
       "9  155.267088  0.002844  1.982512  0.713019  155.438528  0.002252  1.990211   \n",
       "6   53.472143  0.007924  3.721429  3.367482   59.768349  0.007426  3.747301   \n",
       "8  261.612644  0.005875  0.776384  3.960000  290.395553  0.004657  0.779946   \n",
       "0   41.386654  0.004065  1.411848  1.871907   44.738775  0.005076  1.414354   \n",
       "7  316.920444  0.007079  0.612435  3.960000  315.270535  0.005561  0.615180   \n",
       "\n",
       "     TF_opt         logL  \n",
       "4  2.183728  6925.673757  \n",
       "3  3.769861  6925.673757  \n",
       "2  3.584231  6925.673757  \n",
       "5  1.112101  6925.673757  \n",
       "1  1.362643  6925.673757  \n",
       "9  0.713649  6925.673757  \n",
       "6  3.356914  6925.673757  \n",
       "8  3.904082  6925.673757  \n",
       "0  1.917174  6925.673757  \n",
       "7  3.948950  6925.673757  "
      ]
     },
     "execution_count": 70,
     "metadata": {},
     "output_type": "execute_result"
    }
   ],
   "source": [
    "# add new output to previous output\n",
    "successfull_popt_3 =  [flatten(out)[:9] for out in ar_par_3 if out[1][4] == 0]\n",
    "\n",
    "# create data frame\n",
    "df_3 = pd.DataFrame(data=successfull_popt_3, \\\n",
    "                  columns=['nuB_0', 'nuF_0', 'TB_0', 'TF_0', 'nuB_opt', 'nuF_opt', 'TB_opt', 'TF_opt', 'logL'])\n",
    "\n",
    "# sort data frame by negative log likelihood\n",
    "df_3.sort_values(by='logL', ascending=True)"
   ]
  },
  {
   "cell_type": "code",
   "execution_count": 92,
   "metadata": {
    "collapsed": false
   },
   "outputs": [
    {
     "data": {
      "text/plain": [
       "[<matplotlib.lines.Line2D at 0x7fac6e7c94d0>]"
      ]
     },
     "execution_count": 92,
     "metadata": {},
     "output_type": "execute_result"
    },
    {
     "data": {
      "image/png": "[encoded data removed]",
      "text/plain": [
       "<matplotlib.figure.Figure at 0x7fac6f0b8d50>"
      ]
     },
     "metadata": {},
     "output_type": "display_data"
    }
   ],
   "source": [
    "plt.plot(df_3['nuB_opt']**df_3['TB_opt'], (1.0/df_3['nuF_opt'])**df_3['TF_opt'], 'bo')"
   ]
  },
  {
   "cell_type": "markdown",
   "metadata": {},
   "source": [
    "I cannot see a correlation here either."
   ]
  },
  {
   "cell_type": "markdown",
   "metadata": {
    "collapsed": true
   },
   "source": [
    "---"
   ]
  },
  {
   "cell_type": "markdown",
   "metadata": {},
   "source": [
    "All optimisations consistently show a reduction in the contemporary population size with respect to the ancient population size ($\\nu_F$). The ancient population size change is much less clear and ranges from a reduction by one half to a doubling. Also this event is inferred to have occurred quite distant in the past, at $(T_F + T_B) \\times 2N_{ref}$ generations in the past. This makes me think that this ancient size change cannot reliably be inferred. There only seems to be evidence for one size change."
   ]
  },
  {
   "cell_type": "markdown",
   "metadata": {},
   "source": [
    "My attempts to fit a two epoch model (i. e. a single size change) to the _parallelus_ 1D SFS had previously failed due to inferred parameter values hitting ever more extreme parameter limits. Given that I was able to reasonably fit a 4 parameter model to the 1D SFS of _parallelus_ (that does not show strong evidence for two size changes), I would be surprised if it wasn't possible to fit the two epoch model to the _parallelus_ spectrum."
   ]
  },
  {
   "cell_type": "markdown",
   "metadata": {},
   "source": [
    "## retry two_epoch model with PAR spectrum"
   ]
  },
  {
   "cell_type": "code",
   "execution_count": 1,
   "metadata": {
    "collapsed": false
   },
   "outputs": [
    {
     "name": "stdout",
     "output_type": "stream",
     "text": [
      "Interactive namespace is empty.\n"
     ]
    }
   ],
   "source": [
    "%who"
   ]
  },
  {
   "cell_type": "code",
   "execution_count": 2,
   "metadata": {
    "collapsed": false
   },
   "outputs": [
    {
     "data": {
      "text/plain": [
       "[0, 1, 2, 3, 4, 5, 6, 7, 8, 9, 10, 11, 12, 13, 14, 15, 16, 17, 18, 19]"
      ]
     },
     "execution_count": 2,
     "metadata": {},
     "output_type": "execute_result"
    }
   ],
   "source": [
    "from ipyparallel import Client\n",
    "\n",
    "cl = Client()\n",
    "\n",
    "cl.ids"
   ]
  },
  {
   "cell_type": "code",
   "execution_count": 3,
   "metadata": {
    "collapsed": true
   },
   "outputs": [],
   "source": [
    "%%px --local\n",
    "\n",
    "# run whole cell on all engines a well as in the local IPython session\n",
    "\n",
    "import numpy as np\n",
    "\n",
    "import sys\n",
    "\n",
    "sys.path.insert(0, '/home/claudius/Downloads/dadi')\n",
    "\n",
    "import dadi"
   ]
  },
  {
   "cell_type": "code",
   "execution_count": 4,
   "metadata": {
    "collapsed": true
   },
   "outputs": [],
   "source": [
    "%%px --local\n",
    "\n",
    "# create link to function that specifies the model\n",
    "func = dadi.Demographics1D.two_epoch\n",
    "\n",
    "# create extrapolating version of the model function\n",
    "func_ex = dadi.Numerics.make_extrap_log_func(func)"
   ]
  },
  {
   "cell_type": "code",
   "execution_count": 5,
   "metadata": {
    "collapsed": true
   },
   "outputs": [],
   "source": [
    "%%px --local\n",
    "\n",
    "# import 1D spectrum of ery on all engines:\n",
    "fs_ery = dadi.Spectrum.from_file('ERY.unfolded.sfs').fold()\n",
    "\n",
    "# import 1D spectrum of ery on all engines:\n",
    "fs_par = dadi.Spectrum.from_file('PAR.unfolded.sfs').fold()"
   ]
  },
  {
   "cell_type": "code",
   "execution_count": 6,
   "metadata": {
    "collapsed": false
   },
   "outputs": [],
   "source": [
    "%%px\n",
    "\n",
    "# set up global variables on engines required for run_dadi function call\n",
    "\n",
    "dadi_opt_func = dadi.Inference.optimize_log_fmin # uses Nelder-Mead algorithm\n",
    "sfs = fs_par # use PAR spectrum\n",
    "perturb = True\n",
    "fold = 2 # perturb randomly up to 6-fold\n",
    "maxiter = 100 # run a maximum of 100 iterations\n",
    "verbose = 0\n",
    "full_output = True # need to have full output to get the warnflags (see below)\n",
    "outname = \"OUT_two_epoch/PAR_perturb\" # set file name stub for opt. result files\n",
    "\n",
    "# set lower and upper bounds to nu and T\n",
    "upper_bound = [1e4, 5]\n",
    "lower_bound = [1e-4, 0]\n",
    "\n",
    "ns = fs_ery.sample_sizes # both populations have the same sample size\n",
    "\n",
    "fs_ery.pop_ids = ['ery']\n",
    "fs_par.pop_ids = ['par']\n",
    "\n",
    "# setting the smallest grid size slightly larger than the largest population sample size (36)\n",
    "pts_l = [50, 60, 70]"
   ]
  },
  {
   "cell_type": "code",
   "execution_count": 7,
   "metadata": {
    "collapsed": true
   },
   "outputs": [],
   "source": [
    "lbview = cl.load_balanced_view()"
   ]
  },
  {
   "cell_type": "code",
   "execution_count": 32,
   "metadata": {
    "collapsed": true
   },
   "outputs": [],
   "source": [
    "def run_dadi(p_init): # for the function to be called with map, it needs to have one input variable\n",
    "    \"\"\"\n",
    "    p_init: initial parameter values to run optimisation from\n",
    "    \"\"\"\n",
    "    if perturb == True:\n",
    "        p_init = dadi.Misc.perturb_params(p_init, fold=fold, \n",
    "                                      upper_bound=upper_bound, lower_bound=lower_bound)\n",
    "        # note upper_bound and lower_bound variables are expected to be in the namespace of each engine\n",
    "    # run optimisation of paramters\n",
    "    popt = dadi_opt_func(p0=p_init, data=sfs, model_func=func_ex, pts=pts_l, \\\n",
    "                                   lower_bound=lower_bound, upper_bound=upper_bound, \\\n",
    "                                   verbose=verbose, maxiter=maxiter, full_output=full_output)\n",
    "    # pickle to file\n",
    "    import dill\n",
    "    name = outname[:] # make copy of file name stub!\n",
    "    for p in p_init:\n",
    "        name += \"_%.4f\" % (p)\n",
    "    with open(name + \".dill\", \"w\") as fh:\n",
    "        dill.dump((p_init, popt), fh)\n",
    "    \n",
    "    return p_init, popt"
   ]
  },
  {
   "cell_type": "code",
   "execution_count": 9,
   "metadata": {
    "collapsed": true
   },
   "outputs": [],
   "source": [
    "from itertools import repeat"
   ]
  },
  {
   "cell_type": "code",
   "execution_count": 10,
   "metadata": {
    "collapsed": false
   },
   "outputs": [],
   "source": [
    "# specify the initial parameter values, they will be randomly perturbed by up to a factor of 4\n",
    "p0 = [0.1, 2.5]\n",
    "\n",
    "ar_par_te = lbview.map(run_dadi, repeat(p0, 20), block=False, order=True)"
   ]
  },
  {
   "cell_type": "code",
   "execution_count": 14,
   "metadata": {
    "collapsed": false
   },
   "outputs": [
    {
     "data": {
      "text/plain": [
       "19"
      ]
     },
     "execution_count": 14,
     "metadata": {},
     "output_type": "execute_result"
    }
   ],
   "source": [
    "ar_par_te.progress"
   ]
  },
  {
   "cell_type": "code",
   "execution_count": 13,
   "metadata": {
    "collapsed": true
   },
   "outputs": [],
   "source": [
    "def get_flag_count(out, NM=True):\n",
    "    \"\"\"\n",
    "    out: list of tuples, each containing p_init and popt + additional info, including warnflags\n",
    "    as produced by run_dadi.py\n",
    "    \"\"\"\n",
    "    from collections import defaultdict\n",
    "    \n",
    "    if NM: # if ar from Nelder-Mead\n",
    "        i = 4 # the warnflag is reported at index position 4 in the output array\n",
    "    else: # ar from BFGS optimisation\n",
    "        i = 6\n",
    "    \n",
    "    warnflag = defaultdict(int)\n",
    "\n",
    "    for res in out:\n",
    "        if res[1][i] == 1: # notice the change in indexing\n",
    "            warnflag[1] +=1\n",
    "        elif res[1][i] == 2:\n",
    "            warnflag[2] += 1\n",
    "        elif res[1][i] == 0:\n",
    "            warnflag[0] += 1\n",
    "        else:\n",
    "            warnflag[999] +=1\n",
    "    if NM:\n",
    "        print \"success\", warnflag[0]\n",
    "        print \"Maximum number of function evaluations made.\", warnflag[1]\n",
    "        print \"Maximum number of iterations reached.\", warnflag[2]\n",
    "        print \"unknown flag\", warnflag[999]\n",
    "    else:\n",
    "        print \"success\", warnflag[0]\n",
    "        print \"Maximum number of iterations exceeded.\", warnflag[1]\n",
    "        print \"Gradient and/or function calls not changing.\", warnflag[2]\n",
    "        print \"unknown flag\", warnflag[999]"
   ]
  },
  {
   "cell_type": "code",
   "execution_count": 16,
   "metadata": {
    "collapsed": false
   },
   "outputs": [],
   "source": [
    "ar_par_te = []\n",
    "\n",
    "import glob, dill\n",
    "\n",
    "for filename in glob.glob(\"OUT_two_epoch/PAR_perturb*dill\"):\n",
    "    ar_par_te.append( dill.load(open(filename)) )"
   ]
  },
  {
   "cell_type": "code",
   "execution_count": 17,
   "metadata": {
    "collapsed": false
   },
   "outputs": [
    {
     "name": "stdout",
     "output_type": "stream",
     "text": [
      "success 21\n",
      "Maximum number of function evaluations made. 0\n",
      "Maximum number of iterations reached. 0\n",
      "unknown flag 0\n"
     ]
    }
   ],
   "source": [
    "get_flag_count(ar_par_te, NM=True)"
   ]
  },
  {
   "cell_type": "code",
   "execution_count": 18,
   "metadata": {
    "collapsed": true
   },
   "outputs": [],
   "source": [
    "def flatten(array):\n",
    "    \"\"\"\n",
    "        Returns a list of flattened elements of every inner lists (or tuples)\n",
    "        ****RECURSIVE****\n",
    "    \"\"\"\n",
    "    import numpy\n",
    "    res = []\n",
    "    for el in array:\n",
    "        if isinstance(el, (list, tuple, numpy.ndarray)):\n",
    "            res.extend(flatten(el))\n",
    "            continue\n",
    "        res.append(el)\n",
    "    return list( res )"
   ]
  },
  {
   "cell_type": "code",
   "execution_count": 19,
   "metadata": {
    "collapsed": true
   },
   "outputs": [],
   "source": [
    "import pandas as pd"
   ]
  },
  {
   "cell_type": "code",
   "execution_count": 20,
   "metadata": {
    "collapsed": false
   },
   "outputs": [
    {
     "data": {
      "text/html": [
       "<div>\n",
       "<table border=\"1\" class=\"dataframe\">\n",
       "  <thead>\n",
       "    <tr style=\"text-align: right;\">\n",
       "      <th></th>\n",
       "      <th>nu_0</th>\n",
       "      <th>T_0</th>\n",
       "      <th>nu_opt</th>\n",
       "      <th>T_opt</th>\n",
       "      <th>logL</th>\n",
       "    </tr>\n",
       "  </thead>\n",
       "  <tbody>\n",
       "    <tr>\n",
       "      <th>10</th>\n",
       "      <td>0.043733</td>\n",
       "      <td>0.843860</td>\n",
       "      <td>0.015968</td>\n",
       "      <td>0.884924</td>\n",
       "      <td>6925.673757</td>\n",
       "    </tr>\n",
       "    <tr>\n",
       "      <th>7</th>\n",
       "      <td>0.031110</td>\n",
       "      <td>4.950000</td>\n",
       "      <td>0.021988</td>\n",
       "      <td>4.615473</td>\n",
       "      <td>6925.673757</td>\n",
       "    </tr>\n",
       "    <tr>\n",
       "      <th>3</th>\n",
       "      <td>0.027317</td>\n",
       "      <td>3.411201</td>\n",
       "      <td>0.015919</td>\n",
       "      <td>3.747210</td>\n",
       "      <td>6925.673757</td>\n",
       "    </tr>\n",
       "    <tr>\n",
       "      <th>12</th>\n",
       "      <td>0.339826</td>\n",
       "      <td>3.022905</td>\n",
       "      <td>0.111238</td>\n",
       "      <td>4.938315</td>\n",
       "      <td>6925.673757</td>\n",
       "    </tr>\n",
       "    <tr>\n",
       "      <th>9</th>\n",
       "      <td>0.225660</td>\n",
       "      <td>2.139018</td>\n",
       "      <td>0.017545</td>\n",
       "      <td>2.814009</td>\n",
       "      <td>6925.673757</td>\n",
       "    </tr>\n",
       "    <tr>\n",
       "      <th>17</th>\n",
       "      <td>0.046077</td>\n",
       "      <td>2.321844</td>\n",
       "      <td>0.039505</td>\n",
       "      <td>2.421725</td>\n",
       "      <td>6925.673757</td>\n",
       "    </tr>\n",
       "    <tr>\n",
       "      <th>16</th>\n",
       "      <td>0.043962</td>\n",
       "      <td>2.319764</td>\n",
       "      <td>0.060086</td>\n",
       "      <td>2.464394</td>\n",
       "      <td>6925.673757</td>\n",
       "    </tr>\n",
       "    <tr>\n",
       "      <th>4</th>\n",
       "      <td>0.035152</td>\n",
       "      <td>1.289873</td>\n",
       "      <td>0.032329</td>\n",
       "      <td>1.289937</td>\n",
       "      <td>6925.673757</td>\n",
       "    </tr>\n",
       "    <tr>\n",
       "      <th>13</th>\n",
       "      <td>0.227686</td>\n",
       "      <td>1.491931</td>\n",
       "      <td>0.007004</td>\n",
       "      <td>1.933539</td>\n",
       "      <td>6925.673757</td>\n",
       "    </tr>\n",
       "    <tr>\n",
       "      <th>18</th>\n",
       "      <td>0.042434</td>\n",
       "      <td>4.950000</td>\n",
       "      <td>0.033626</td>\n",
       "      <td>4.175495</td>\n",
       "      <td>6925.673757</td>\n",
       "    </tr>\n",
       "    <tr>\n",
       "      <th>11</th>\n",
       "      <td>0.129524</td>\n",
       "      <td>4.950000</td>\n",
       "      <td>0.113594</td>\n",
       "      <td>4.525529</td>\n",
       "      <td>6925.673757</td>\n",
       "    </tr>\n",
       "    <tr>\n",
       "      <th>0</th>\n",
       "      <td>0.034942</td>\n",
       "      <td>0.704100</td>\n",
       "      <td>0.007971</td>\n",
       "      <td>0.830649</td>\n",
       "      <td>6925.673757</td>\n",
       "    </tr>\n",
       "    <tr>\n",
       "      <th>1</th>\n",
       "      <td>0.049946</td>\n",
       "      <td>3.078650</td>\n",
       "      <td>0.043235</td>\n",
       "      <td>2.919133</td>\n",
       "      <td>6925.673757</td>\n",
       "    </tr>\n",
       "    <tr>\n",
       "      <th>19</th>\n",
       "      <td>0.041984</td>\n",
       "      <td>1.046781</td>\n",
       "      <td>0.014843</td>\n",
       "      <td>1.047991</td>\n",
       "      <td>6925.673757</td>\n",
       "    </tr>\n",
       "    <tr>\n",
       "      <th>6</th>\n",
       "      <td>0.209367</td>\n",
       "      <td>1.415120</td>\n",
       "      <td>0.039470</td>\n",
       "      <td>1.536937</td>\n",
       "      <td>6925.673757</td>\n",
       "    </tr>\n",
       "    <tr>\n",
       "      <th>14</th>\n",
       "      <td>0.166116</td>\n",
       "      <td>4.950000</td>\n",
       "      <td>0.138820</td>\n",
       "      <td>4.797762</td>\n",
       "      <td>6925.673757</td>\n",
       "    </tr>\n",
       "    <tr>\n",
       "      <th>20</th>\n",
       "      <td>0.056907</td>\n",
       "      <td>1.690728</td>\n",
       "      <td>0.037020</td>\n",
       "      <td>1.637142</td>\n",
       "      <td>6925.673757</td>\n",
       "    </tr>\n",
       "    <tr>\n",
       "      <th>5</th>\n",
       "      <td>0.211545</td>\n",
       "      <td>1.509448</td>\n",
       "      <td>0.011912</td>\n",
       "      <td>1.745096</td>\n",
       "      <td>6925.673757</td>\n",
       "    </tr>\n",
       "    <tr>\n",
       "      <th>8</th>\n",
       "      <td>0.235730</td>\n",
       "      <td>4.950000</td>\n",
       "      <td>0.120247</td>\n",
       "      <td>4.572422</td>\n",
       "      <td>6925.673757</td>\n",
       "    </tr>\n",
       "    <tr>\n",
       "      <th>15</th>\n",
       "      <td>0.052986</td>\n",
       "      <td>4.950000</td>\n",
       "      <td>0.046463</td>\n",
       "      <td>4.722051</td>\n",
       "      <td>6925.673757</td>\n",
       "    </tr>\n",
       "    <tr>\n",
       "      <th>2</th>\n",
       "      <td>0.043338</td>\n",
       "      <td>2.200729</td>\n",
       "      <td>0.040116</td>\n",
       "      <td>2.216722</td>\n",
       "      <td>6925.673757</td>\n",
       "    </tr>\n",
       "  </tbody>\n",
       "</table>\n",
       "</div>"
      ],
      "text/plain": [
       "        nu_0       T_0    nu_opt     T_opt         logL\n",
       "10  0.043733  0.843860  0.015968  0.884924  6925.673757\n",
       "7   0.031110  4.950000  0.021988  4.615473  6925.673757\n",
       "3   0.027317  3.411201  0.015919  3.747210  6925.673757\n",
       "12  0.339826  3.022905  0.111238  4.938315  6925.673757\n",
       "9   0.225660  2.139018  0.017545  2.814009  6925.673757\n",
       "17  0.046077  2.321844  0.039505  2.421725  6925.673757\n",
       "16  0.043962  2.319764  0.060086  2.464394  6925.673757\n",
       "4   0.035152  1.289873  0.032329  1.289937  6925.673757\n",
       "13  0.227686  1.491931  0.007004  1.933539  6925.673757\n",
       "18  0.042434  4.950000  0.033626  4.175495  6925.673757\n",
       "11  0.129524  4.950000  0.113594  4.525529  6925.673757\n",
       "0   0.034942  0.704100  0.007971  0.830649  6925.673757\n",
       "1   0.049946  3.078650  0.043235  2.919133  6925.673757\n",
       "19  0.041984  1.046781  0.014843  1.047991  6925.673757\n",
       "6   0.209367  1.415120  0.039470  1.536937  6925.673757\n",
       "14  0.166116  4.950000  0.138820  4.797762  6925.673757\n",
       "20  0.056907  1.690728  0.037020  1.637142  6925.673757\n",
       "5   0.211545  1.509448  0.011912  1.745096  6925.673757\n",
       "8   0.235730  4.950000  0.120247  4.572422  6925.673757\n",
       "15  0.052986  4.950000  0.046463  4.722051  6925.673757\n",
       "2   0.043338  2.200729  0.040116  2.216722  6925.673757"
      ]
     },
     "execution_count": 20,
     "metadata": {},
     "output_type": "execute_result"
    }
   ],
   "source": [
    "i = 4 # index of flag with NM algorithm\n",
    "\n",
    "successfull_popt = [flatten(out)[:5] for out in ar_par_te if out[1][i] == 0]\n",
    "\n",
    "df = pd.DataFrame(data=successfull_popt, \\\n",
    "                  columns=['nu_0','T_0', 'nu_opt', 'T_opt', 'logL'])\n",
    "\n",
    "df.sort_values(by='logL', ascending=True)"
   ]
  },
  {
   "cell_type": "markdown",
   "metadata": {},
   "source": [
    "Note that these two epoch models have the same likelihood as the three epoch models above."
   ]
  },
  {
   "cell_type": "code",
   "execution_count": 21,
   "metadata": {
    "collapsed": true
   },
   "outputs": [],
   "source": [
    "# specify the initial parameter values, they will be randomly perturbed by up to a factor of 4\n",
    "p0 = [10, 0.5]\n",
    "\n",
    "ar_par_te = lbview.map(run_dadi, repeat(p0, 20), block=False, order=True)"
   ]
  },
  {
   "cell_type": "code",
   "execution_count": 22,
   "metadata": {
    "collapsed": false
   },
   "outputs": [
    {
     "data": {
      "text/plain": [
       "20"
      ]
     },
     "execution_count": 22,
     "metadata": {},
     "output_type": "execute_result"
    }
   ],
   "source": [
    "ar_par_te.progress"
   ]
  },
  {
   "cell_type": "code",
   "execution_count": 24,
   "metadata": {
    "collapsed": false
   },
   "outputs": [
    {
     "name": "stdout",
     "output_type": "stream",
     "text": [
      "success 20\n",
      "Maximum number of function evaluations made. 0\n",
      "Maximum number of iterations reached. 0\n",
      "unknown flag 0\n"
     ]
    }
   ],
   "source": [
    "get_flag_count(ar_par_te, NM=True)"
   ]
  },
  {
   "cell_type": "code",
   "execution_count": 25,
   "metadata": {
    "collapsed": false
   },
   "outputs": [
    {
     "data": {
      "text/html": [
       "<div>\n",
       "<table border=\"1\" class=\"dataframe\">\n",
       "  <thead>\n",
       "    <tr style=\"text-align: right;\">\n",
       "      <th></th>\n",
       "      <th>nu_0</th>\n",
       "      <th>T_0</th>\n",
       "      <th>nu_opt</th>\n",
       "      <th>T_opt</th>\n",
       "      <th>logL</th>\n",
       "    </tr>\n",
       "  </thead>\n",
       "  <tbody>\n",
       "    <tr>\n",
       "      <th>1</th>\n",
       "      <td>6.987489</td>\n",
       "      <td>1.642464</td>\n",
       "      <td>6.645270</td>\n",
       "      <td>5.000000</td>\n",
       "      <td>5504.381047</td>\n",
       "    </tr>\n",
       "    <tr>\n",
       "      <th>18</th>\n",
       "      <td>24.561703</td>\n",
       "      <td>0.229637</td>\n",
       "      <td>6.645150</td>\n",
       "      <td>4.999997</td>\n",
       "      <td>5504.381050</td>\n",
       "    </tr>\n",
       "    <tr>\n",
       "      <th>16</th>\n",
       "      <td>3.503846</td>\n",
       "      <td>0.197141</td>\n",
       "      <td>6.644959</td>\n",
       "      <td>4.999996</td>\n",
       "      <td>5504.381051</td>\n",
       "    </tr>\n",
       "    <tr>\n",
       "      <th>4</th>\n",
       "      <td>3.107369</td>\n",
       "      <td>0.694274</td>\n",
       "      <td>6.644691</td>\n",
       "      <td>4.999998</td>\n",
       "      <td>5504.381051</td>\n",
       "    </tr>\n",
       "    <tr>\n",
       "      <th>12</th>\n",
       "      <td>4.198500</td>\n",
       "      <td>1.480943</td>\n",
       "      <td>6.644962</td>\n",
       "      <td>4.999994</td>\n",
       "      <td>5504.381056</td>\n",
       "    </tr>\n",
       "    <tr>\n",
       "      <th>15</th>\n",
       "      <td>14.315275</td>\n",
       "      <td>0.361328</td>\n",
       "      <td>6.644621</td>\n",
       "      <td>4.999997</td>\n",
       "      <td>5504.381058</td>\n",
       "    </tr>\n",
       "    <tr>\n",
       "      <th>7</th>\n",
       "      <td>4.502252</td>\n",
       "      <td>0.168670</td>\n",
       "      <td>6.644580</td>\n",
       "      <td>4.999996</td>\n",
       "      <td>5504.381061</td>\n",
       "    </tr>\n",
       "    <tr>\n",
       "      <th>6</th>\n",
       "      <td>4.123402</td>\n",
       "      <td>1.026289</td>\n",
       "      <td>6.645491</td>\n",
       "      <td>4.999999</td>\n",
       "      <td>5504.381061</td>\n",
       "    </tr>\n",
       "    <tr>\n",
       "      <th>13</th>\n",
       "      <td>11.232949</td>\n",
       "      <td>0.650673</td>\n",
       "      <td>6.644530</td>\n",
       "      <td>4.999996</td>\n",
       "      <td>5504.381063</td>\n",
       "    </tr>\n",
       "    <tr>\n",
       "      <th>10</th>\n",
       "      <td>12.362184</td>\n",
       "      <td>1.272441</td>\n",
       "      <td>6.644494</td>\n",
       "      <td>4.999996</td>\n",
       "      <td>5504.381067</td>\n",
       "    </tr>\n",
       "    <tr>\n",
       "      <th>19</th>\n",
       "      <td>7.763644</td>\n",
       "      <td>1.765466</td>\n",
       "      <td>6.644866</td>\n",
       "      <td>4.999990</td>\n",
       "      <td>5504.381068</td>\n",
       "    </tr>\n",
       "    <tr>\n",
       "      <th>17</th>\n",
       "      <td>14.562575</td>\n",
       "      <td>0.518519</td>\n",
       "      <td>6.645172</td>\n",
       "      <td>4.999990</td>\n",
       "      <td>5504.381069</td>\n",
       "    </tr>\n",
       "    <tr>\n",
       "      <th>8</th>\n",
       "      <td>20.091669</td>\n",
       "      <td>1.067884</td>\n",
       "      <td>6.645485</td>\n",
       "      <td>4.999994</td>\n",
       "      <td>5504.381073</td>\n",
       "    </tr>\n",
       "    <tr>\n",
       "      <th>5</th>\n",
       "      <td>3.846975</td>\n",
       "      <td>0.467682</td>\n",
       "      <td>6.645270</td>\n",
       "      <td>4.999989</td>\n",
       "      <td>5504.381076</td>\n",
       "    </tr>\n",
       "    <tr>\n",
       "      <th>11</th>\n",
       "      <td>35.777280</td>\n",
       "      <td>0.347957</td>\n",
       "      <td>6.645409</td>\n",
       "      <td>4.999990</td>\n",
       "      <td>5504.381078</td>\n",
       "    </tr>\n",
       "    <tr>\n",
       "      <th>2</th>\n",
       "      <td>4.145003</td>\n",
       "      <td>0.305677</td>\n",
       "      <td>6.644878</td>\n",
       "      <td>4.999985</td>\n",
       "      <td>5504.381081</td>\n",
       "    </tr>\n",
       "    <tr>\n",
       "      <th>0</th>\n",
       "      <td>7.309461</td>\n",
       "      <td>1.853374</td>\n",
       "      <td>6.645314</td>\n",
       "      <td>4.999986</td>\n",
       "      <td>5504.381084</td>\n",
       "    </tr>\n",
       "    <tr>\n",
       "      <th>3</th>\n",
       "      <td>2.848887</td>\n",
       "      <td>1.544497</td>\n",
       "      <td>6.645521</td>\n",
       "      <td>4.999982</td>\n",
       "      <td>5504.381106</td>\n",
       "    </tr>\n",
       "    <tr>\n",
       "      <th>14</th>\n",
       "      <td>20.577249</td>\n",
       "      <td>1.832976</td>\n",
       "      <td>6.646996</td>\n",
       "      <td>4.999997</td>\n",
       "      <td>5504.381300</td>\n",
       "    </tr>\n",
       "    <tr>\n",
       "      <th>9</th>\n",
       "      <td>4.226149</td>\n",
       "      <td>0.208820</td>\n",
       "      <td>6.650487</td>\n",
       "      <td>4.999987</td>\n",
       "      <td>5504.382564</td>\n",
       "    </tr>\n",
       "  </tbody>\n",
       "</table>\n",
       "</div>"
      ],
      "text/plain": [
       "         nu_0       T_0    nu_opt     T_opt         logL\n",
       "1    6.987489  1.642464  6.645270  5.000000  5504.381047\n",
       "18  24.561703  0.229637  6.645150  4.999997  5504.381050\n",
       "16   3.503846  0.197141  6.644959  4.999996  5504.381051\n",
       "4    3.107369  0.694274  6.644691  4.999998  5504.381051\n",
       "12   4.198500  1.480943  6.644962  4.999994  5504.381056\n",
       "15  14.315275  0.361328  6.644621  4.999997  5504.381058\n",
       "7    4.502252  0.168670  6.644580  4.999996  5504.381061\n",
       "6    4.123402  1.026289  6.645491  4.999999  5504.381061\n",
       "13  11.232949  0.650673  6.644530  4.999996  5504.381063\n",
       "10  12.362184  1.272441  6.644494  4.999996  5504.381067\n",
       "19   7.763644  1.765466  6.644866  4.999990  5504.381068\n",
       "17  14.562575  0.518519  6.645172  4.999990  5504.381069\n",
       "8   20.091669  1.067884  6.645485  4.999994  5504.381073\n",
       "5    3.846975  0.467682  6.645270  4.999989  5504.381076\n",
       "11  35.777280  0.347957  6.645409  4.999990  5504.381078\n",
       "2    4.145003  0.305677  6.644878  4.999985  5504.381081\n",
       "0    7.309461  1.853374  6.645314  4.999986  5504.381084\n",
       "3    2.848887  1.544497  6.645521  4.999982  5504.381106\n",
       "14  20.577249  1.832976  6.646996  4.999997  5504.381300\n",
       "9    4.226149  0.208820  6.650487  4.999987  5504.382564"
      ]
     },
     "execution_count": 25,
     "metadata": {},
     "output_type": "execute_result"
    }
   ],
   "source": [
    "i = 4 # index of flag with NM algorithm\n",
    "\n",
    "successfull_popt = [flatten(out)[:5] for out in ar_par_te if out[1][i] == 0]\n",
    "\n",
    "df = pd.DataFrame(data=successfull_popt, \\\n",
    "                  columns=['nu_0','T_0', 'nu_opt', 'T_opt', '-logL'])\n",
    "\n",
    "df.sort_values(by='-logL', ascending=True)"
   ]
  },
  {
   "cell_type": "markdown",
   "metadata": {},
   "source": [
    "The likelihood of these parameter values is much higher than the the ones above. However, the time parameter is hitting the upper boundary."
   ]
  },
  {
   "cell_type": "code",
   "execution_count": 35,
   "metadata": {
    "collapsed": true
   },
   "outputs": [],
   "source": [
    "%%px\n",
    "\n",
    "upper_bound = [1e4, 6]"
   ]
  },
  {
   "cell_type": "code",
   "execution_count": 36,
   "metadata": {
    "collapsed": true
   },
   "outputs": [],
   "source": [
    "# specify the initial parameter values, they will be randomly perturbed by up to a factor of 4\n",
    "p0 = [1, 1]\n",
    "\n",
    "ar_par_te = lbview.map(run_dadi, repeat(p0, 10), block=False, order=True)"
   ]
  },
  {
   "cell_type": "code",
   "execution_count": 28,
   "metadata": {
    "collapsed": true
   },
   "outputs": [],
   "source": [
    "#ar_par_te = []\n",
    "\n",
    "#import glob, dill\n",
    "\n",
    "#for filename in glob.glob(\"OUT_two_epoch/PAR_perturb*dill\"):\n",
    "#    ar_par_te.append( dill.load(open(filename)) )"
   ]
  },
  {
   "cell_type": "code",
   "execution_count": 37,
   "metadata": {
    "collapsed": false
   },
   "outputs": [
    {
     "name": "stdout",
     "output_type": "stream",
     "text": [
      "success 10\n",
      "Maximum number of function evaluations made. 0\n",
      "Maximum number of iterations reached. 0\n",
      "unknown flag 0\n"
     ]
    }
   ],
   "source": [
    "get_flag_count(ar_par_te, NM=True)"
   ]
  },
  {
   "cell_type": "code",
   "execution_count": 38,
   "metadata": {
    "collapsed": false
   },
   "outputs": [
    {
     "data": {
      "text/html": [
       "<div>\n",
       "<table border=\"1\" class=\"dataframe\">\n",
       "  <thead>\n",
       "    <tr style=\"text-align: right;\">\n",
       "      <th></th>\n",
       "      <th>nu_0</th>\n",
       "      <th>T_0</th>\n",
       "      <th>nu_opt</th>\n",
       "      <th>T_opt</th>\n",
       "      <th>logL</th>\n",
       "    </tr>\n",
       "  </thead>\n",
       "  <tbody>\n",
       "    <tr>\n",
       "      <th>7</th>\n",
       "      <td>3.809859</td>\n",
       "      <td>0.880742</td>\n",
       "      <td>7.723638</td>\n",
       "      <td>5.999997</td>\n",
       "      <td>5502.338651</td>\n",
       "    </tr>\n",
       "    <tr>\n",
       "      <th>6</th>\n",
       "      <td>3.960114</td>\n",
       "      <td>0.730363</td>\n",
       "      <td>7.723791</td>\n",
       "      <td>5.999995</td>\n",
       "      <td>5502.338651</td>\n",
       "    </tr>\n",
       "    <tr>\n",
       "      <th>3</th>\n",
       "      <td>0.946438</td>\n",
       "      <td>3.628840</td>\n",
       "      <td>7.724187</td>\n",
       "      <td>5.999994</td>\n",
       "      <td>5502.338653</td>\n",
       "    </tr>\n",
       "    <tr>\n",
       "      <th>1</th>\n",
       "      <td>1.099448</td>\n",
       "      <td>1.424327</td>\n",
       "      <td>7.723607</td>\n",
       "      <td>5.999982</td>\n",
       "      <td>5502.338675</td>\n",
       "    </tr>\n",
       "    <tr>\n",
       "      <th>8</th>\n",
       "      <td>1.268052</td>\n",
       "      <td>0.301753</td>\n",
       "      <td>7.724743</td>\n",
       "      <td>5.999970</td>\n",
       "      <td>5502.338719</td>\n",
       "    </tr>\n",
       "    <tr>\n",
       "      <th>5</th>\n",
       "      <td>0.478007</td>\n",
       "      <td>0.297796</td>\n",
       "      <td>7.731477</td>\n",
       "      <td>5.999997</td>\n",
       "      <td>5502.341217</td>\n",
       "    </tr>\n",
       "    <tr>\n",
       "      <th>2</th>\n",
       "      <td>1.163708</td>\n",
       "      <td>3.434724</td>\n",
       "      <td>7.690900</td>\n",
       "      <td>5.999987</td>\n",
       "      <td>5502.388130</td>\n",
       "    </tr>\n",
       "    <tr>\n",
       "      <th>0</th>\n",
       "      <td>0.426545</td>\n",
       "      <td>2.386989</td>\n",
       "      <td>0.146739</td>\n",
       "      <td>5.883732</td>\n",
       "      <td>6925.673757</td>\n",
       "    </tr>\n",
       "    <tr>\n",
       "      <th>4</th>\n",
       "      <td>0.291222</td>\n",
       "      <td>0.328804</td>\n",
       "      <td>0.124747</td>\n",
       "      <td>5.466190</td>\n",
       "      <td>6925.673757</td>\n",
       "    </tr>\n",
       "    <tr>\n",
       "      <th>9</th>\n",
       "      <td>0.322324</td>\n",
       "      <td>0.444581</td>\n",
       "      <td>0.046371</td>\n",
       "      <td>3.658299</td>\n",
       "      <td>6925.673757</td>\n",
       "    </tr>\n",
       "  </tbody>\n",
       "</table>\n",
       "</div>"
      ],
      "text/plain": [
       "       nu_0       T_0    nu_opt     T_opt         logL\n",
       "7  3.809859  0.880742  7.723638  5.999997  5502.338651\n",
       "6  3.960114  0.730363  7.723791  5.999995  5502.338651\n",
       "3  0.946438  3.628840  7.724187  5.999994  5502.338653\n",
       "1  1.099448  1.424327  7.723607  5.999982  5502.338675\n",
       "8  1.268052  0.301753  7.724743  5.999970  5502.338719\n",
       "5  0.478007  0.297796  7.731477  5.999997  5502.341217\n",
       "2  1.163708  3.434724  7.690900  5.999987  5502.388130\n",
       "0  0.426545  2.386989  0.146739  5.883732  6925.673757\n",
       "4  0.291222  0.328804  0.124747  5.466190  6925.673757\n",
       "9  0.322324  0.444581  0.046371  3.658299  6925.673757"
      ]
     },
     "execution_count": 38,
     "metadata": {},
     "output_type": "execute_result"
    }
   ],
   "source": [
    "i = 4 # index of flag with NM algorithm\n",
    "\n",
    "successfull_popt = [flatten(out)[:5] for out in ar_par_te if out[1][i] == 0]\n",
    "\n",
    "df = pd.DataFrame(data=successfull_popt, \\\n",
    "                  columns=['nu_0','T_0', 'nu_opt', 'T_opt', 'logL'])\n",
    "\n",
    "df.sort_values(by='logL', ascending=True)"
   ]
  },
  {
   "cell_type": "code",
   "execution_count": 40,
   "metadata": {
    "collapsed": false
   },
   "outputs": [],
   "source": [
    "dill.dump(list(ar_par_te.get()), open(\"OUT_two_epoch/PAR_perturb_ar_par.dill\", \"w\"))"
   ]
  },
  {
   "cell_type": "markdown",
   "metadata": {},
   "source": [
    "It is very hard for me to believe that the log likelihood of all parameter combinations is almost exactly the same AND also the same as the likelihood for all parameter combinations of the three epoch model above!"
   ]
  },
  {
   "cell_type": "code",
   "execution_count": 92,
   "metadata": {
    "collapsed": false
   },
   "outputs": [
    {
     "data": {
      "text/plain": [
       "[-9825.1799565799647,\n",
       " -9825.1799565806832,\n",
       " -9825.1799565812507,\n",
       " -9825.1799565812271,\n",
       " -9825.1799565805759,\n",
       " -9825.1799565808014,\n",
       " -9825.1799565800939,\n",
       " -9825.1799565815054,\n",
       " -9825.1799565804031,\n",
       " -9825.1799565808542,\n",
       " -9825.1799565807978,\n",
       " -9825.1799565798756,\n",
       " -9825.1799565810798,\n",
       " -9825.179956580927,\n",
       " -9825.179956580072,\n",
       " -9825.1799565812707,\n",
       " -9825.1799565804686,\n",
       " -9825.1799565797955,\n",
       " -9825.1799565801703,\n",
       " -9825.1799565808396]"
      ]
     },
     "execution_count": 92,
     "metadata": {},
     "output_type": "execute_result"
    }
   ],
   "source": [
    "[get_ll(out[1][0]) for out in ar_par_te if out[1][4] == 0]"
   ]
  },
  {
   "cell_type": "code",
   "execution_count": 93,
   "metadata": {
    "collapsed": false
   },
   "outputs": [
    {
     "data": {
      "text/plain": [
       "[(array([ 0.05486992,  1.99860381]),\n",
       "  (array([ 0.03180292,  1.95648193]), 9825.1799565799647, 24, 62, 0)),\n",
       " (array([ 0.07135217,  3.50371679]),\n",
       "  (array([ 0.06243178,  3.50071502]), 9825.1799565806832, 19, 52, 0)),\n",
       " (array([ 0.05054308,  2.05085516]),\n",
       "  (array([ 0.04690783,  2.05099452]), 9825.1799565812507, 14, 45, 0)),\n",
       " (array([ 0.08349208,  3.96      ]),\n",
       "  (array([ 0.08365293,  3.82117106]), 9825.1799565812271, 25, 59, 0)),\n",
       " (array([ 0.08232057,  3.2093796 ]),\n",
       "  (array([ 0.09182442,  3.43965861]), 9825.1799565805759, 20, 58, 0)),\n",
       " (array([ 0.06735758,  2.9487646 ]),\n",
       "  (array([ 0.07978079,  3.09333988]), 9825.1799565808014, 21, 54, 0)),\n",
       " (array([ 0.0727572,  3.96     ]),\n",
       "  (array([ 0.07595359,  3.85083138]), 9825.1799565800939, 18, 53, 0)),\n",
       " (array([ 0.14681914,  3.76597664]),\n",
       "  (array([ 0.10123876,  3.87681382]), 9825.1799565815054, 23, 65, 0)),\n",
       " (array([ 0.07298845,  3.60220333]),\n",
       "  (array([ 0.04928812,  3.3752426 ]), 9825.1799565804031, 18, 55, 0)),\n",
       " (array([ 0.06802161,  3.29320753]),\n",
       "  (array([ 0.05946744,  3.29320753]), 9825.1799565808542, 19, 56, 0)),\n",
       " (array([ 0.10640165,  3.92341386]),\n",
       "  (array([ 0.10904132,  3.51473602]), 9825.1799565807978, 22, 64, 0)),\n",
       " (array([ 0.07170782,  2.83808626]),\n",
       "  (array([ 0.07665994,  3.02473366]), 9825.1799565798756, 23, 64, 0)),\n",
       " (array([ 0.16242966,  3.96      ]),\n",
       "  (array([ 0.09350813,  3.87135071]), 9825.1799565810798, 25, 66, 0)),\n",
       " (array([ 0.17283649,  1.90122883]),\n",
       "  (array([ 0.03226069,  2.05199881]), 9825.179956580927, 31, 73, 0)),\n",
       " (array([ 0.07760091,  1.62901564]),\n",
       "  (array([ 0.03653264,  1.73395085]), 9825.179956580072, 23, 63, 0)),\n",
       " (array([ 0.06801678,  3.49657783]),\n",
       "  (array([ 0.06175374,  3.55519529]), 9825.1799565812707, 21, 58, 0)),\n",
       " (array([ 0.0550631 ,  2.90503535]),\n",
       "  (array([ 0.07358251,  3.31929116]), 9825.1799565804686, 23, 61, 0)),\n",
       " (array([ 0.07382876,  1.97189719]),\n",
       "  (array([ 0.05617572,  2.10243668]), 9825.1799565797955, 24, 61, 0)),\n",
       " (array([ 0.11070839,  3.49673412]),\n",
       "  (array([ 0.09857047,  3.56629877]), 9825.1799565801703, 25, 65, 0)),\n",
       " (array([ 0.10834875,  3.42092569]),\n",
       "  (array([ 0.10107928,  3.70848747]), 9825.1799565808396, 20, 60, 0))]"
      ]
     },
     "execution_count": 93,
     "metadata": {},
     "output_type": "execute_result"
    }
   ],
   "source": [
    "ar_par_te.get()"
   ]
  },
  {
   "cell_type": "code",
   "execution_count": 94,
   "metadata": {
    "collapsed": true
   },
   "outputs": [],
   "source": [
    "from scipy.optimize import fmin"
   ]
  },
  {
   "cell_type": "code",
   "execution_count": 95,
   "metadata": {
    "collapsed": true
   },
   "outputs": [],
   "source": [
    "?fmin"
   ]
  },
  {
   "cell_type": "markdown",
   "metadata": {},
   "source": [
    "`fopt` is the likelihood of the otimal parameter combination. I therefore don't need to calculate the likelihood with `get_ll`. It's already returned by the optimisation function."
   ]
  },
  {
   "cell_type": "markdown",
   "metadata": {},
   "source": [
    "OK. it may be that the likelihood values are correct and that there is a ridge in the likelihood surface."
   ]
  },
  {
   "cell_type": "markdown",
   "metadata": {},
   "source": [
    "# retry two_epoch model with ery spectrum"
   ]
  },
  {
   "cell_type": "markdown",
   "metadata": {},
   "source": [
    "I previously also wasn't able to find reasonable optimal parameter values for the two epoch model with the _erythropus_ spectrum. I want to make another attempt here, given the apparently successful optimisation for the three epoch model above."
   ]
  },
  {
   "cell_type": "code",
   "execution_count": 99,
   "metadata": {
    "collapsed": true
   },
   "outputs": [],
   "source": [
    "%%px\n",
    "\n",
    "# set up global variables on engines required for run_dadi function call\n",
    "\n",
    "dadi_opt_func = dadi.Inference.optimize_log_fmin # uses Nelder-Mead algorithm\n",
    "sfs = fs_ery # use ERY spectrum\n",
    "perturb = True\n",
    "fold = 1\n",
    "maxiter = 100 # run a maximum of 100 iterations\n",
    "verbose = 0\n",
    "full_output = True # need to have full output to get the warnflags (see below)"
   ]
  },
  {
   "cell_type": "code",
   "execution_count": 100,
   "metadata": {
    "collapsed": true
   },
   "outputs": [],
   "source": [
    "# specify the initial parameter values, they will be randomly perturbed by up to a factor of 2\n",
    "p0 = [1, 1]\n",
    "\n",
    "ar_ery_te = lbview.map(run_dadi, repeat(p0, 20), block=False, order=True)"
   ]
  },
  {
   "cell_type": "code",
   "execution_count": 101,
   "metadata": {
    "collapsed": false
   },
   "outputs": [
    {
     "data": {
      "text/plain": [
       "13.159561"
      ]
     },
     "execution_count": 101,
     "metadata": {},
     "output_type": "execute_result"
    }
   ],
   "source": [
    "ar_ery_te.elapsed"
   ]
  },
  {
   "cell_type": "code",
   "execution_count": 102,
   "metadata": {
    "collapsed": false
   },
   "outputs": [
    {
     "name": "stdout",
     "output_type": "stream",
     "text": [
      "success 5\n",
      "Maximum number of function evaluations made. 0\n",
      "Maximum number of iterations reached. 15\n",
      "unknown flag 0\n"
     ]
    }
   ],
   "source": [
    "get_flag_count(ar_ery_te, NM=True)"
   ]
  },
  {
   "cell_type": "code",
   "execution_count": 103,
   "metadata": {
    "collapsed": false
   },
   "outputs": [
    {
     "data": {
      "text/plain": [
       "(array([ 1.79926927,  1.68949312]),\n",
       " (array([  1.00492187e-04,   2.17110737e-06]),\n",
       "  2040.4927381782597,\n",
       "  100,\n",
       "  184,\n",
       "  2))"
      ]
     },
     "execution_count": 103,
     "metadata": {},
     "output_type": "execute_result"
    }
   ],
   "source": [
    "ar_ery_te.get()[0]"
   ]
  },
  {
   "cell_type": "code",
   "execution_count": 105,
   "metadata": {
    "collapsed": false
   },
   "outputs": [
    {
     "data": {
      "text/html": [
       "<div>\n",
       "<table border=\"1\" class=\"dataframe\">\n",
       "  <thead>\n",
       "    <tr style=\"text-align: right;\">\n",
       "      <th></th>\n",
       "      <th>nuB_0</th>\n",
       "      <th>T_0</th>\n",
       "      <th>nuB_opt</th>\n",
       "      <th>T_opt</th>\n",
       "      <th>logL</th>\n",
       "    </tr>\n",
       "  </thead>\n",
       "  <tbody>\n",
       "    <tr>\n",
       "      <th>0</th>\n",
       "      <td>1.008790</td>\n",
       "      <td>1.448122</td>\n",
       "      <td>0.0001</td>\n",
       "      <td>0.000002</td>\n",
       "      <td>2040.492674</td>\n",
       "    </tr>\n",
       "    <tr>\n",
       "      <th>4</th>\n",
       "      <td>0.863051</td>\n",
       "      <td>0.745958</td>\n",
       "      <td>0.0001</td>\n",
       "      <td>0.000002</td>\n",
       "      <td>2040.492674</td>\n",
       "    </tr>\n",
       "    <tr>\n",
       "      <th>3</th>\n",
       "      <td>0.974539</td>\n",
       "      <td>0.509961</td>\n",
       "      <td>0.0001</td>\n",
       "      <td>0.000002</td>\n",
       "      <td>2040.492674</td>\n",
       "    </tr>\n",
       "    <tr>\n",
       "      <th>2</th>\n",
       "      <td>0.973070</td>\n",
       "      <td>1.668159</td>\n",
       "      <td>0.0001</td>\n",
       "      <td>0.000002</td>\n",
       "      <td>2040.492674</td>\n",
       "    </tr>\n",
       "    <tr>\n",
       "      <th>1</th>\n",
       "      <td>1.289495</td>\n",
       "      <td>0.638957</td>\n",
       "      <td>0.0001</td>\n",
       "      <td>0.000002</td>\n",
       "      <td>2040.492674</td>\n",
       "    </tr>\n",
       "  </tbody>\n",
       "</table>\n",
       "</div>"
      ],
      "text/plain": [
       "      nuB_0       T_0  nuB_opt     T_opt         logL\n",
       "0  1.008790  1.448122   0.0001  0.000002  2040.492674\n",
       "4  0.863051  0.745958   0.0001  0.000002  2040.492674\n",
       "3  0.974539  0.509961   0.0001  0.000002  2040.492674\n",
       "2  0.973070  1.668159   0.0001  0.000002  2040.492674\n",
       "1  1.289495  0.638957   0.0001  0.000002  2040.492674"
      ]
     },
     "execution_count": 105,
     "metadata": {},
     "output_type": "execute_result"
    }
   ],
   "source": [
    "successfull_popt_ery_te = [flatten(out)[:5] for out in ar_ery_te if out[1][4] == 0]\n",
    "df = pd.DataFrame(data=successfull_popt_ery_te, \\\n",
    "                  columns=['nuB_0', 'T_0', 'nuB_opt', 'T_opt', 'logL'])\n",
    "df.sort_values(by='logL', ascending=False)"
   ]
  },
  {
   "cell_type": "markdown",
   "metadata": {},
   "source": [
    "These parameters are hitting the parameter limits set above and therefore cannot be regarded as converged."
   ]
  },
  {
   "cell_type": "code",
   "execution_count": 106,
   "metadata": {
    "collapsed": true
   },
   "outputs": [],
   "source": [
    "# specify the initial parameter values, they will be randomly perturbed by up to a factor of 2\n",
    "p0 = [0.1, 0.001]\n",
    "\n",
    "ar_ery_te = lbview.map(run_dadi, repeat(p0, 20), block=False, order=True)"
   ]
  },
  {
   "cell_type": "code",
   "execution_count": 107,
   "metadata": {
    "collapsed": false
   },
   "outputs": [
    {
     "name": "stdout",
     "output_type": "stream",
     "text": [
      "success 20\n",
      "Maximum number of function evaluations made. 0\n",
      "Maximum number of iterations reached. 0\n",
      "unknown flag 0\n"
     ]
    }
   ],
   "source": [
    "get_flag_count(ar_ery_te, NM=True)"
   ]
  },
  {
   "cell_type": "markdown",
   "metadata": {},
   "source": [
    "Oho!"
   ]
  },
  {
   "cell_type": "code",
   "execution_count": 108,
   "metadata": {
    "collapsed": false
   },
   "outputs": [
    {
     "data": {
      "text/html": [
       "<div>\n",
       "<table border=\"1\" class=\"dataframe\">\n",
       "  <thead>\n",
       "    <tr style=\"text-align: right;\">\n",
       "      <th></th>\n",
       "      <th>nuB_0</th>\n",
       "      <th>T_0</th>\n",
       "      <th>nuB_opt</th>\n",
       "      <th>T_opt</th>\n",
       "      <th>logL</th>\n",
       "    </tr>\n",
       "  </thead>\n",
       "  <tbody>\n",
       "    <tr>\n",
       "      <th>15</th>\n",
       "      <td>0.123444</td>\n",
       "      <td>0.000651</td>\n",
       "      <td>0.0001</td>\n",
       "      <td>0.000002</td>\n",
       "      <td>2040.492742</td>\n",
       "    </tr>\n",
       "    <tr>\n",
       "      <th>4</th>\n",
       "      <td>0.156333</td>\n",
       "      <td>0.001206</td>\n",
       "      <td>0.0001</td>\n",
       "      <td>0.000002</td>\n",
       "      <td>2040.492681</td>\n",
       "    </tr>\n",
       "    <tr>\n",
       "      <th>16</th>\n",
       "      <td>0.125851</td>\n",
       "      <td>0.000929</td>\n",
       "      <td>0.0001</td>\n",
       "      <td>0.000002</td>\n",
       "      <td>2040.492674</td>\n",
       "    </tr>\n",
       "    <tr>\n",
       "      <th>19</th>\n",
       "      <td>0.062718</td>\n",
       "      <td>0.001864</td>\n",
       "      <td>0.0001</td>\n",
       "      <td>0.000002</td>\n",
       "      <td>2040.492674</td>\n",
       "    </tr>\n",
       "    <tr>\n",
       "      <th>0</th>\n",
       "      <td>0.132941</td>\n",
       "      <td>0.000502</td>\n",
       "      <td>0.0001</td>\n",
       "      <td>0.000002</td>\n",
       "      <td>2040.492674</td>\n",
       "    </tr>\n",
       "    <tr>\n",
       "      <th>1</th>\n",
       "      <td>0.166737</td>\n",
       "      <td>0.001820</td>\n",
       "      <td>0.0001</td>\n",
       "      <td>0.000002</td>\n",
       "      <td>2040.492674</td>\n",
       "    </tr>\n",
       "    <tr>\n",
       "      <th>10</th>\n",
       "      <td>0.096480</td>\n",
       "      <td>0.000572</td>\n",
       "      <td>0.0001</td>\n",
       "      <td>0.000002</td>\n",
       "      <td>2040.492674</td>\n",
       "    </tr>\n",
       "    <tr>\n",
       "      <th>18</th>\n",
       "      <td>0.064284</td>\n",
       "      <td>0.000917</td>\n",
       "      <td>0.0001</td>\n",
       "      <td>0.000002</td>\n",
       "      <td>2040.492674</td>\n",
       "    </tr>\n",
       "    <tr>\n",
       "      <th>9</th>\n",
       "      <td>0.124843</td>\n",
       "      <td>0.000887</td>\n",
       "      <td>0.0001</td>\n",
       "      <td>0.000002</td>\n",
       "      <td>2040.492674</td>\n",
       "    </tr>\n",
       "    <tr>\n",
       "      <th>13</th>\n",
       "      <td>0.058069</td>\n",
       "      <td>0.000997</td>\n",
       "      <td>0.0001</td>\n",
       "      <td>0.000002</td>\n",
       "      <td>2040.492674</td>\n",
       "    </tr>\n",
       "    <tr>\n",
       "      <th>5</th>\n",
       "      <td>0.059941</td>\n",
       "      <td>0.000673</td>\n",
       "      <td>0.0001</td>\n",
       "      <td>0.000002</td>\n",
       "      <td>2040.492674</td>\n",
       "    </tr>\n",
       "    <tr>\n",
       "      <th>2</th>\n",
       "      <td>0.069211</td>\n",
       "      <td>0.001097</td>\n",
       "      <td>0.0001</td>\n",
       "      <td>0.000002</td>\n",
       "      <td>2040.492674</td>\n",
       "    </tr>\n",
       "    <tr>\n",
       "      <th>17</th>\n",
       "      <td>0.106875</td>\n",
       "      <td>0.001976</td>\n",
       "      <td>0.0001</td>\n",
       "      <td>0.000002</td>\n",
       "      <td>2040.492674</td>\n",
       "    </tr>\n",
       "    <tr>\n",
       "      <th>14</th>\n",
       "      <td>0.129957</td>\n",
       "      <td>0.001470</td>\n",
       "      <td>0.0001</td>\n",
       "      <td>0.000002</td>\n",
       "      <td>2040.492673</td>\n",
       "    </tr>\n",
       "    <tr>\n",
       "      <th>6</th>\n",
       "      <td>0.150734</td>\n",
       "      <td>0.001445</td>\n",
       "      <td>0.0001</td>\n",
       "      <td>0.000002</td>\n",
       "      <td>2040.492673</td>\n",
       "    </tr>\n",
       "    <tr>\n",
       "      <th>12</th>\n",
       "      <td>0.098506</td>\n",
       "      <td>0.001029</td>\n",
       "      <td>0.0001</td>\n",
       "      <td>0.000002</td>\n",
       "      <td>2040.492673</td>\n",
       "    </tr>\n",
       "    <tr>\n",
       "      <th>11</th>\n",
       "      <td>0.169902</td>\n",
       "      <td>0.000518</td>\n",
       "      <td>0.0001</td>\n",
       "      <td>0.000002</td>\n",
       "      <td>2040.492673</td>\n",
       "    </tr>\n",
       "    <tr>\n",
       "      <th>8</th>\n",
       "      <td>0.052018</td>\n",
       "      <td>0.001412</td>\n",
       "      <td>0.0001</td>\n",
       "      <td>0.000002</td>\n",
       "      <td>2040.492673</td>\n",
       "    </tr>\n",
       "    <tr>\n",
       "      <th>7</th>\n",
       "      <td>0.130409</td>\n",
       "      <td>0.001819</td>\n",
       "      <td>0.0001</td>\n",
       "      <td>0.000002</td>\n",
       "      <td>2040.492673</td>\n",
       "    </tr>\n",
       "    <tr>\n",
       "      <th>3</th>\n",
       "      <td>0.055873</td>\n",
       "      <td>0.000996</td>\n",
       "      <td>0.0001</td>\n",
       "      <td>0.000002</td>\n",
       "      <td>2040.492673</td>\n",
       "    </tr>\n",
       "  </tbody>\n",
       "</table>\n",
       "</div>"
      ],
      "text/plain": [
       "       nuB_0       T_0  nuB_opt     T_opt         logL\n",
       "15  0.123444  0.000651   0.0001  0.000002  2040.492742\n",
       "4   0.156333  0.001206   0.0001  0.000002  2040.492681\n",
       "16  0.125851  0.000929   0.0001  0.000002  2040.492674\n",
       "19  0.062718  0.001864   0.0001  0.000002  2040.492674\n",
       "0   0.132941  0.000502   0.0001  0.000002  2040.492674\n",
       "1   0.166737  0.001820   0.0001  0.000002  2040.492674\n",
       "10  0.096480  0.000572   0.0001  0.000002  2040.492674\n",
       "18  0.064284  0.000917   0.0001  0.000002  2040.492674\n",
       "9   0.124843  0.000887   0.0001  0.000002  2040.492674\n",
       "13  0.058069  0.000997   0.0001  0.000002  2040.492674\n",
       "5   0.059941  0.000673   0.0001  0.000002  2040.492674\n",
       "2   0.069211  0.001097   0.0001  0.000002  2040.492674\n",
       "17  0.106875  0.001976   0.0001  0.000002  2040.492674\n",
       "14  0.129957  0.001470   0.0001  0.000002  2040.492673\n",
       "6   0.150734  0.001445   0.0001  0.000002  2040.492673\n",
       "12  0.098506  0.001029   0.0001  0.000002  2040.492673\n",
       "11  0.169902  0.000518   0.0001  0.000002  2040.492673\n",
       "8   0.052018  0.001412   0.0001  0.000002  2040.492673\n",
       "7   0.130409  0.001819   0.0001  0.000002  2040.492673\n",
       "3   0.055873  0.000996   0.0001  0.000002  2040.492673"
      ]
     },
     "execution_count": 108,
     "metadata": {},
     "output_type": "execute_result"
    }
   ],
   "source": [
    "successfull_popt_ery_te = [flatten(out)[:5] for out in ar_ery_te if out[1][4] == 0]\n",
    "df = pd.DataFrame(data=successfull_popt_ery_te, \\\n",
    "                  columns=['nuB_0', 'T_0', 'nuB_opt', 'T_opt', 'logL'])\n",
    "df.sort_values(by='logL', ascending=False)"
   ]
  },
  {
   "cell_type": "markdown",
   "metadata": {},
   "source": [
    "Still no luck. It really looks as though the two epoch model cannot be fit to the _erythropus_ spectrum."
   ]
  },
  {
   "cell_type": "code",
   "execution_count": null,
   "metadata": {
    "collapsed": true
   },
   "outputs": [],
   "source": []
  }
 ],
 "metadata": {
  "anaconda-cloud": {},
  "kernelspec": {
   "display_name": "Python [default]",
   "language": "python",
   "name": "python2"
  },
  "language_info": {
   "codemirror_mode": {
    "name": "ipython",
    "version": 2
   },
   "file_extension": ".py",
   "mimetype": "text/x-python",
   "name": "python",
   "nbconvert_exporter": "python",
   "pygments_lexer": "ipython2",
   "version": "2.7.12"
  },
  "toc": {
   "colors": {
    "hover_highlight": "#DAA520",
    "running_highlight": "#FF0000",
    "selected_highlight": "#FFD700"
   },
   "moveMenuLeft": true,
   "nav_menu": {
    "height": "12px",
    "width": "252px"
   },
   "navigate_menu": true,
   "number_sections": true,
   "sideBar": true,
   "threshold": 4,
   "toc_cell": true,
   "toc_position": {
    "height": "691px",
    "left": "0px",
    "right": "1228px",
    "top": "107px",
    "width": "212px"
   },
   "toc_section_display": "block",
   "toc_window_display": true
  }
 },
 "nbformat": 4,
 "nbformat_minor": 0
}
