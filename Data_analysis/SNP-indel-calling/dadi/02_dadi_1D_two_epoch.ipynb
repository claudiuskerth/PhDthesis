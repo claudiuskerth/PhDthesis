{
 "cells": [
  {
   "cell_type": "markdown",
   "metadata": {
    "toc": "true"
   },
   "source": [
    "# Table of Contents\n",
    " <p><div class=\"lev1 toc-item\"><a data-toc-modified-id=\"import-dadi-on-all-engines-1\" href=\"#import-dadi-on-all-engines\"><span class=\"toc-item-num\">1&nbsp;&nbsp;</span>import dadi on all engines</a></div><div class=\"lev1 toc-item\"><a data-toc-modified-id=\"load-1D-folded-spectra-2\" href=\"#load-1D-folded-spectra\"><span class=\"toc-item-num\">2&nbsp;&nbsp;</span>load 1D folded spectra</a></div><div class=\"lev1 toc-item\"><a data-toc-modified-id=\"define-range-of-initial-parameters-3\" href=\"#define-range-of-initial-parameters\"><span class=\"toc-item-num\">3&nbsp;&nbsp;</span>define range of initial parameters</a></div><div class=\"lev1 toc-item\"><a data-toc-modified-id=\"define-parallel-functions-4\" href=\"#define-parallel-functions\"><span class=\"toc-item-num\">4&nbsp;&nbsp;</span>define parallel functions</a></div><div class=\"lev1 toc-item\"><a data-toc-modified-id=\"run-optimisation-5\" href=\"#run-optimisation\"><span class=\"toc-item-num\">5&nbsp;&nbsp;</span>run optimisation</a></div><div class=\"lev1 toc-item\"><a data-toc-modified-id=\"check-convergence-6\" href=\"#check-convergence\"><span class=\"toc-item-num\">6&nbsp;&nbsp;</span>check convergence</a></div><div class=\"lev2 toc-item\"><a data-toc-modified-id=\"get-log-likelihood-values-61\" href=\"#get-log-likelihood-values\"><span class=\"toc-item-num\">6.1&nbsp;&nbsp;</span>get log likelihood values</a></div><div class=\"lev1 toc-item\"><a data-toc-modified-id=\"residiual-plots-7\" href=\"#residiual-plots\"><span class=\"toc-item-num\">7&nbsp;&nbsp;</span>residiual plots</a></div><div class=\"lev1 toc-item\"><a data-toc-modified-id=\"PAR-8\" href=\"#PAR\"><span class=\"toc-item-num\">8&nbsp;&nbsp;</span>PAR</a></div><div class=\"lev1 toc-item\"><a data-toc-modified-id=\"What-is-the-maximal-reasonable-value-of-$T$?-9\" href=\"#What-is-the-maximal-reasonable-value-of-$T$?\"><span class=\"toc-item-num\">9&nbsp;&nbsp;</span>What is the maximal reasonable value of <span style=\"color: inherit;\" class=\"MathJax_Preview\"></span><span role=\"presentation\" data-mathml=\"<math xmlns=&quot;http://www.w3.org/1998/Math/MathML&quot;><mi>T</mi></math>\" style=\"position: relative;\" tabindex=\"0\" id=\"MathJax-Element-11-Frame\" class=\"MathJax\"><nobr aria-hidden=\"true\"><span style=\"width: 0.779em; display: inline-block;\" role=\"math\" id=\"MathJax-Span-38\" class=\"math\"><span style=\"display: inline-block; position: relative; width: 0.625em; height: 0px; font-size: 123%;\"><span style=\"position: absolute; clip: rect(1.598em, 1000.63em, 2.439em, -1000em); top: -2.345em; left: 0em;\"><span id=\"MathJax-Span-39\" class=\"mrow\"><span style=\"font-family: STIXMathJax_Main; font-style: italic;\" id=\"MathJax-Span-40\" class=\"mi\">T<span style=\"display: inline-block; overflow: hidden; height: 1px; width: 0.077em;\"></span></span></span><span style=\"display: inline-block; width: 0px; height: 2.345em;\"></span></span></span><span style=\"display: inline-block; overflow: hidden; vertical-align: -0.038em; border-left: 0px solid; width: 0px; height: 0.88em;\"></span></span></nobr><span role=\"presentation\" class=\"MJX_Assistive_MathML\"><math xmlns=\"http://www.w3.org/1998/Math/MathML\"><mi>T</mi></math></span></span><script id=\"MathJax-Element-11\" type=\"math/tex\">T</script>?</a></div><div class=\"lev4 toc-item\"><a data-toc-modified-id=\"Removing-starting-parameter-combinations-that-lead-to-extremely-long-running-times-9001\" href=\"#Removing-starting-parameter-combinations-that-lead-to-extremely-long-running-times\"><span class=\"toc-item-num\">9.0.0.1&nbsp;&nbsp;</span>Removing starting parameter combinations that lead to extremely long running times</a></div>"
   ]
  },
  {
   "cell_type": "markdown",
   "metadata": {},
   "source": [
    "I have started 11 IPython engines in the terminal with the following command:\n",
    "\n",
    "`ipcluster start -n 11 &`"
   ]
  },
  {
   "cell_type": "markdown",
   "metadata": {},
   "source": [
    "# import dadi on all engines"
   ]
  },
  {
   "cell_type": "code",
   "execution_count": 1,
   "metadata": {
    "collapsed": false
   },
   "outputs": [
    {
     "data": {
      "text/plain": [
       "[0, 1, 2, 3, 4, 5, 6, 7, 8, 9, 10]"
      ]
     },
     "execution_count": 1,
     "metadata": {},
     "output_type": "execute_result"
    }
   ],
   "source": [
    "from ipyparallel import Client\n",
    "\n",
    "cl = Client()\n",
    "\n",
    "cl.ids"
   ]
  },
  {
   "cell_type": "code",
   "execution_count": 2,
   "metadata": {
    "collapsed": false
   },
   "outputs": [
    {
     "data": {
      "text/plain": [
       "<tornado.concurrent.Future at 0x7facc0736a50>"
      ]
     },
     "execution_count": 2,
     "metadata": {},
     "output_type": "execute_result"
    }
   ],
   "source": [
    "# clear the namespace in engines\n",
    "cl.clear()"
   ]
  },
  {
   "cell_type": "code",
   "execution_count": 3,
   "metadata": {
    "collapsed": false
   },
   "outputs": [
    {
     "name": "stdout",
     "output_type": "stream",
     "text": [
      "[stdout:0] Interactive namespace is empty.\n",
      "[stdout:1] Interactive namespace is empty.\n",
      "[stdout:2] Interactive namespace is empty.\n",
      "[stdout:3] Interactive namespace is empty.\n",
      "[stdout:4] Interactive namespace is empty.\n",
      "[stdout:5] Interactive namespace is empty.\n",
      "[stdout:6] Interactive namespace is empty.\n",
      "[stdout:7] Interactive namespace is empty.\n",
      "[stdout:8] Interactive namespace is empty.\n",
      "[stdout:9] Interactive namespace is empty.\n",
      "[stdout:10] Interactive namespace is empty.\n"
     ]
    }
   ],
   "source": [
    "%px %who"
   ]
  },
  {
   "cell_type": "code",
   "execution_count": 4,
   "metadata": {
    "collapsed": true
   },
   "outputs": [],
   "source": [
    "%%px --local\n",
    "\n",
    "# run whole cell on all engines a well as in the local IPython session\n",
    "\n",
    "import numpy as np\n",
    "\n",
    "import sys\n",
    "\n",
    "sys.path.insert(0, '/home/claudius/Downloads/dadi')\n",
    "\n",
    "import dadi"
   ]
  },
  {
   "cell_type": "markdown",
   "metadata": {},
   "source": [
    "# load 1D folded spectra"
   ]
  },
  {
   "cell_type": "code",
   "execution_count": 5,
   "metadata": {
    "collapsed": true
   },
   "outputs": [],
   "source": [
    "%%px --local\n",
    "\n",
    "# import 1D spectrum of ery on all engines:\n",
    "fs_ery = dadi.Spectrum.from_file('dadiExercises/ERY.FOLDED.sfs.dadi_format')\n",
    "\n",
    "# import 1D spectrum of ery on all engines:\n",
    "fs_par = dadi.Spectrum.from_file('dadiExercises/PAR.FOLDED.sfs.dadi_format')"
   ]
  },
  {
   "cell_type": "code",
   "execution_count": 7,
   "metadata": {
    "collapsed": false
   },
   "outputs": [
    {
     "data": {
      "text/plain": [
       "Spectrum([-- 8409.25697 12008.479728 5476.826032 3090.791731 2755.941992 1804.37826\n",
       " 357.199759 2552.273719 832.442184 873.647652 0.001111 2420.101426 0.010094\n",
       " 910.498821 0.725863 1506.959669 232.289352 523.880826 -- -- -- -- -- -- --\n",
       " -- -- -- -- -- -- -- -- -- -- --], folded=True, pop_ids=['par'])"
      ]
     },
     "execution_count": 7,
     "metadata": {},
     "output_type": "execute_result"
    }
   ],
   "source": [
    "fs_par"
   ]
  },
  {
   "cell_type": "code",
   "execution_count": 6,
   "metadata": {
    "collapsed": true
   },
   "outputs": [],
   "source": [
    "%%px --local\n",
    "\n",
    "ns = fs_ery.sample_sizes # both populations have the same sample size\n",
    "\n",
    "fs_ery.pop_ids = ['ery']\n",
    "fs_par.pop_ids = ['par']\n",
    "\n",
    "# setting the smallest grid size slightly larger than the largest population sample size (36)\n",
    "pts_l = [50, 60, 70]"
   ]
  },
  {
   "cell_type": "markdown",
   "metadata": {},
   "source": [
    "# define range of initial parameters"
   ]
  },
  {
   "cell_type": "code",
   "execution_count": 7,
   "metadata": {
    "collapsed": true
   },
   "outputs": [],
   "source": [
    "%psource dadi.Demographics1D.two_epoch"
   ]
  },
  {
   "cell_type": "markdown",
   "metadata": {},
   "source": [
    "The built-in _two epoch_ model defines a piecewise history, where at some time $T$ in the past the ancestral population instantaneously changed in size to the contemporary population size, which has ratio of $\\nu$ to the ancestral population size."
   ]
  },
  {
   "cell_type": "markdown",
   "metadata": {},
   "source": [
    "Note, that $\\nu$ and $T$ are confounded parameters, meaning that different combinations of $\\nu$ and $T$ can lead to very similar site frequency spectra. For instance, a strong but recent bottleneck can produce a similar SFS to an ancient but weak bottleneck."
   ]
  },
  {
   "cell_type": "code",
   "execution_count": 7,
   "metadata": {
    "collapsed": true
   },
   "outputs": [],
   "source": [
    "%%px --local\n",
    "\n",
    "# create link to function that specifies a simple growth or decline model\n",
    "func = dadi.Demographics1D.two_epoch\n",
    "\n",
    "# create extrapolating version of the function\n",
    "func_ex = dadi.Numerics.make_extrap_log_func(func)\n",
    "\n",
    "# set lower and upper bounds to nu and T\n",
    "upper_bound = [1e3, 4]\n",
    "lower_bound = [1e-3, 1e-4]"
   ]
  },
  {
   "cell_type": "code",
   "execution_count": 8,
   "metadata": {
    "collapsed": false
   },
   "outputs": [],
   "source": [
    "# create range of starting values for nu and T, evenly distributed in log space\n",
    "p0_nu = np.logspace(-3, 3, base=10.0, num=14)\n",
    "p0_T = np.logspace(-4, np.log10(4), base=10, num=14)"
   ]
  },
  {
   "cell_type": "code",
   "execution_count": 9,
   "metadata": {
    "collapsed": false
   },
   "outputs": [
    {
     "name": "stdout",
     "output_type": "stream",
     "text": [
      "0.001 1000.0\n",
      "0.0001 4.0\n"
     ]
    }
   ],
   "source": [
    "print p0_nu[0], p0_nu[-1]\n",
    "print p0_T[0], p0_T[-1]"
   ]
  },
  {
   "cell_type": "markdown",
   "metadata": {},
   "source": [
    "Note, this also includes parameters at the boundaries I set above."
   ]
  },
  {
   "cell_type": "code",
   "execution_count": 10,
   "metadata": {
    "collapsed": false
   },
   "outputs": [
    {
     "name": "stdout",
     "output_type": "stream",
     "text": [
      "There are 196 parameter combinations.\n"
     ]
    }
   ],
   "source": [
    "print \"There are %d parameter combinations.\" % (14*14)"
   ]
  },
  {
   "cell_type": "code",
   "execution_count": 11,
   "metadata": {
    "collapsed": false
   },
   "outputs": [
    {
     "name": "stdout",
     "output_type": "stream",
     "text": [
      "[stdout:0] \n",
      "dadi\t fs_ery\t fs_par\t func\t func_ex\t lower_bound\t np\t ns\t pts_l\t \n",
      "sys\t upper_bound\t \n",
      "[stdout:1] \n",
      "dadi\t fs_ery\t fs_par\t func\t func_ex\t lower_bound\t np\t ns\t pts_l\t \n",
      "sys\t upper_bound\t \n",
      "[stdout:2] \n",
      "dadi\t fs_ery\t fs_par\t func\t func_ex\t lower_bound\t np\t ns\t pts_l\t \n",
      "sys\t upper_bound\t \n",
      "[stdout:3] \n",
      "dadi\t fs_ery\t fs_par\t func\t func_ex\t lower_bound\t np\t ns\t pts_l\t \n",
      "sys\t upper_bound\t \n",
      "[stdout:4] \n",
      "dadi\t fs_ery\t fs_par\t func\t func_ex\t lower_bound\t np\t ns\t pts_l\t \n",
      "sys\t upper_bound\t \n",
      "[stdout:5] \n",
      "dadi\t fs_ery\t fs_par\t func\t func_ex\t lower_bound\t np\t ns\t pts_l\t \n",
      "sys\t upper_bound\t \n",
      "[stdout:6] \n",
      "dadi\t fs_ery\t fs_par\t func\t func_ex\t lower_bound\t np\t ns\t pts_l\t \n",
      "sys\t upper_bound\t \n",
      "[stdout:7] \n",
      "dadi\t fs_ery\t fs_par\t func\t func_ex\t lower_bound\t np\t ns\t pts_l\t \n",
      "sys\t upper_bound\t \n",
      "[stdout:8] \n",
      "dadi\t fs_ery\t fs_par\t func\t func_ex\t lower_bound\t np\t ns\t pts_l\t \n",
      "sys\t upper_bound\t \n",
      "[stdout:9] \n",
      "dadi\t fs_ery\t fs_par\t func\t func_ex\t lower_bound\t np\t ns\t pts_l\t \n",
      "sys\t upper_bound\t \n",
      "[stdout:10] \n",
      "dadi\t fs_ery\t fs_par\t func\t func_ex\t lower_bound\t np\t ns\t pts_l\t \n",
      "sys\t upper_bound\t \n"
     ]
    }
   ],
   "source": [
    "%px %who"
   ]
  },
  {
   "cell_type": "markdown",
   "metadata": {},
   "source": [
    "# define parallel functions"
   ]
  },
  {
   "cell_type": "code",
   "execution_count": 12,
   "metadata": {
    "collapsed": true
   },
   "outputs": [],
   "source": [
    "# create load balanced view of engines\n",
    "\n",
    "lbview = cl.load_balanced_view()"
   ]
  },
  {
   "cell_type": "code",
   "execution_count": 13,
   "metadata": {
    "collapsed": false
   },
   "outputs": [
    {
     "name": "stdout",
     "output_type": "stream",
     "text": [
      "Client\t cl\t dadi\t fs_ery\t fs_par\t func\t func_ex\t lbview\t lower_bound\t \n",
      "np\t ns\t p0_T\t p0_nu\t pts_l\t sys\t upper_bound\t \n"
     ]
    }
   ],
   "source": [
    "%who"
   ]
  },
  {
   "cell_type": "code",
   "execution_count": 14,
   "metadata": {
    "collapsed": false
   },
   "outputs": [],
   "source": [
    "def run_dadi(p_init): # for the function to be called with map, it needs to have one input variable\n",
    "    \"\"\"\n",
    "    p_init: initial parameter values to run optimisation from\n",
    "    \"\"\"\n",
    "    if perturb == True:\n",
    "        p_init = dadi.Misc.perturb_params(p_init, fold=fold, \n",
    "                                      upper_bound=upper_bound, lower_bound=lower_bound)\n",
    "        # note upper_bound and lower_bound variables are expected to be in the namespace of each engine\n",
    "    # run optimisation of paramters\n",
    "    popt = dadi_opt_func(p0=p_init, data=sfs, model_func=func_ex, pts=pts_l, \\\n",
    "                                   lower_bound=lower_bound, upper_bound=upper_bound, \\\n",
    "                                   verbose=verbose, maxiter=maxiter, full_output=full_output)\n",
    "    return popt"
   ]
  },
  {
   "cell_type": "markdown",
   "metadata": {},
   "source": [
    "# run optimisation"
   ]
  },
  {
   "cell_type": "code",
   "execution_count": 15,
   "metadata": {
    "collapsed": true
   },
   "outputs": [],
   "source": [
    "from itertools import product"
   ]
  },
  {
   "cell_type": "code",
   "execution_count": 16,
   "metadata": {
    "collapsed": false
   },
   "outputs": [],
   "source": [
    "%%px\n",
    "\n",
    "# set up global variables on engines required for run_dadi function call\n",
    "\n",
    "dadi_opt_func = dadi.Inference.optimize_log # uses gradient based BFGS algorithm\n",
    "sfs = fs_ery # use ERY spectrum\n",
    "perturb = False\n",
    "fold = 1\n",
    "maxiter = 10 # run a maximum of 10 iterations\n",
    "verbose = 0\n",
    "full_output = True # need to have full output to get the warnflags (see below)"
   ]
  },
  {
   "cell_type": "code",
   "execution_count": 17,
   "metadata": {
    "collapsed": false
   },
   "outputs": [
    {
     "name": "stdout",
     "output_type": "stream",
     "text": [
      "[stdout:0] \n",
      "dadi\t dadi_opt_func\t fold\t fs_ery\t fs_par\t full_output\t func\t func_ex\t lower_bound\t \n",
      "maxiter\t np\t ns\t perturb\t pts_l\t sfs\t sys\t upper_bound\t verbose\t \n",
      "\n",
      "[stdout:1] \n",
      "dadi\t dadi_opt_func\t fold\t fs_ery\t fs_par\t full_output\t func\t func_ex\t lower_bound\t \n",
      "maxiter\t np\t ns\t perturb\t pts_l\t sfs\t sys\t upper_bound\t verbose\t \n",
      "\n",
      "[stdout:2] \n",
      "dadi\t dadi_opt_func\t fold\t fs_ery\t fs_par\t full_output\t func\t func_ex\t lower_bound\t \n",
      "maxiter\t np\t ns\t perturb\t pts_l\t sfs\t sys\t upper_bound\t verbose\t \n",
      "\n",
      "[stdout:3] \n",
      "dadi\t dadi_opt_func\t fold\t fs_ery\t fs_par\t full_output\t func\t func_ex\t lower_bound\t \n",
      "maxiter\t np\t ns\t perturb\t pts_l\t sfs\t sys\t upper_bound\t verbose\t \n",
      "\n",
      "[stdout:4] \n",
      "dadi\t dadi_opt_func\t fold\t fs_ery\t fs_par\t full_output\t func\t func_ex\t lower_bound\t \n",
      "maxiter\t np\t ns\t perturb\t pts_l\t sfs\t sys\t upper_bound\t verbose\t \n",
      "\n",
      "[stdout:5] \n",
      "dadi\t dadi_opt_func\t fold\t fs_ery\t fs_par\t full_output\t func\t func_ex\t lower_bound\t \n",
      "maxiter\t np\t ns\t perturb\t pts_l\t sfs\t sys\t upper_bound\t verbose\t \n",
      "\n",
      "[stdout:6] \n",
      "dadi\t dadi_opt_func\t fold\t fs_ery\t fs_par\t full_output\t func\t func_ex\t lower_bound\t \n",
      "maxiter\t np\t ns\t perturb\t pts_l\t sfs\t sys\t upper_bound\t verbose\t \n",
      "\n",
      "[stdout:7] \n",
      "dadi\t dadi_opt_func\t fold\t fs_ery\t fs_par\t full_output\t func\t func_ex\t lower_bound\t \n",
      "maxiter\t np\t ns\t perturb\t pts_l\t sfs\t sys\t upper_bound\t verbose\t \n",
      "\n",
      "[stdout:8] \n",
      "dadi\t dadi_opt_func\t fold\t fs_ery\t fs_par\t full_output\t func\t func_ex\t lower_bound\t \n",
      "maxiter\t np\t ns\t perturb\t pts_l\t sfs\t sys\t upper_bound\t verbose\t \n",
      "\n",
      "[stdout:9] \n",
      "dadi\t dadi_opt_func\t fold\t fs_ery\t fs_par\t full_output\t func\t func_ex\t lower_bound\t \n",
      "maxiter\t np\t ns\t perturb\t pts_l\t sfs\t sys\t upper_bound\t verbose\t \n",
      "\n",
      "[stdout:10] \n",
      "dadi\t dadi_opt_func\t fold\t fs_ery\t fs_par\t full_output\t func\t func_ex\t lower_bound\t \n",
      "maxiter\t np\t ns\t perturb\t pts_l\t sfs\t sys\t upper_bound\t verbose\t \n",
      "\n"
     ]
    }
   ],
   "source": [
    "%px who"
   ]
  },
  {
   "cell_type": "code",
   "execution_count": 31,
   "metadata": {
    "collapsed": true
   },
   "outputs": [],
   "source": [
    "# run optimnisations with all combinations of starting values\n",
    "\n",
    "#ar_ery = lbview.map(run_dadi, product(p0_nu, p0_T), block=False, order=True)"
   ]
  },
  {
   "cell_type": "code",
   "execution_count": 34,
   "metadata": {
    "collapsed": false
   },
   "outputs": [
    {
     "data": {
      "text/plain": [
       "196"
      ]
     },
     "execution_count": 34,
     "metadata": {},
     "output_type": "execute_result"
    }
   ],
   "source": [
    "ar_ery.progress"
   ]
  },
  {
   "cell_type": "markdown",
   "metadata": {},
   "source": [
    "There were 196 combinations of starting values."
   ]
  },
  {
   "cell_type": "code",
   "execution_count": 35,
   "metadata": {
    "collapsed": false
   },
   "outputs": [
    {
     "data": {
      "text/plain": [
       "True"
      ]
     },
     "execution_count": 35,
     "metadata": {},
     "output_type": "execute_result"
    }
   ],
   "source": [
    "ar_ery.ready()"
   ]
  },
  {
   "cell_type": "code",
   "execution_count": 36,
   "metadata": {
    "collapsed": false
   },
   "outputs": [
    {
     "data": {
      "text/plain": [
       "114.139403"
      ]
     },
     "execution_count": 36,
     "metadata": {},
     "output_type": "execute_result"
    }
   ],
   "source": [
    "ar_ery.wall_time"
   ]
  },
  {
   "cell_type": "code",
   "execution_count": 25,
   "metadata": {
    "collapsed": false
   },
   "outputs": [],
   "source": [
    "from collections import defaultdict"
   ]
  },
  {
   "cell_type": "code",
   "execution_count": 38,
   "metadata": {
    "collapsed": true
   },
   "outputs": [],
   "source": [
    "warnflag = defaultdict(int)\n",
    "\n",
    "for res in ar_ery:\n",
    "    if res[6] == 1:\n",
    "        warnflag[1] +=1\n",
    "    elif res[6] == 2:\n",
    "        warnflag[2] += 1\n",
    "    elif res[6] == 0:\n",
    "        warnflag[0] += 1\n",
    "    else:\n",
    "        warnflag[999] +=1"
   ]
  },
  {
   "cell_type": "code",
   "execution_count": 39,
   "metadata": {
    "collapsed": false
   },
   "outputs": [
    {
     "name": "stdout",
     "output_type": "stream",
     "text": [
      "success 21\n",
      "Maximum number of iterations exceeded. 28\n",
      "Gradient and/or function calls not changing. 147\n",
      "unknown flag 0\n"
     ]
    }
   ],
   "source": [
    "print \"success\", warnflag[0]\n",
    "print \"Maximum number of iterations exceeded.\", warnflag[1]\n",
    "print \"Gradient and/or function calls not changing.\", warnflag[2]\n",
    "print \"unknown flag\", warnflag[999]"
   ]
  },
  {
   "cell_type": "code",
   "execution_count": 21,
   "metadata": {
    "collapsed": false
   },
   "outputs": [],
   "source": [
    "from scipy.optimize import fmin_bfgs"
   ]
  },
  {
   "cell_type": "code",
   "execution_count": 22,
   "metadata": {
    "collapsed": true
   },
   "outputs": [],
   "source": [
    "# this is the function that dadi calls\n",
    "\n",
    "?fmin_bfgs\n",
    "\n",
    "# the warnflag has index 6 in the returned array"
   ]
  },
  {
   "cell_type": "markdown",
   "metadata": {},
   "source": [
    "Only 21 of the 196 starting parameter combinations lead to a successfull optimisation. I could increase that by 28 if I allowed enough iterations. However, I don't know what to do about the 147 combinations for which the gradient didn't change. Maybe they are in a very flat part of the likelihood surface?"
   ]
  },
  {
   "cell_type": "code",
   "execution_count": 45,
   "metadata": {
    "collapsed": true
   },
   "outputs": [],
   "source": [
    "from itertools import izip"
   ]
  },
  {
   "cell_type": "code",
   "execution_count": 48,
   "metadata": {
    "collapsed": false
   },
   "outputs": [
    {
     "name": "stdout",
     "output_type": "stream",
     "text": [
      "(0.001, 0.030062999042780213) [ 0.001     0.030063] 0\n",
      "(0.001, 0.067926137161718539) [ 0.001       0.06792614] 0\n",
      "(0.001, 0.15347637483362347) [ 0.001       0.15347637] 0\n",
      "(0.001, 0.34677369590428986) [ 0.001      0.3467737] 0\n",
      "(0.001, 0.78352121817758968) [ 0.001       0.78352122] 0\n",
      "(0.001, 1.770334678164093) [  1.00000000e-03   1.77033468e+00] 0\n",
      "(0.0028942661247167516, 0.15347637483362347) [ 0.00289427  0.15347637] 0\n",
      "(0.0028942661247167516, 0.34677369590428986) [ 0.00289427  0.3467737 ] 0\n",
      "(0.0028942661247167516, 0.78352121817758968) [ 0.00289427  0.78352122] 0\n",
      "(0.0028942661247167516, 1.770334678164093) [ 0.00289427  1.77033468] 0\n",
      "(0.008376776400682925, 0.013305392433761934) [ 0.00172635  1.29841674] 0\n",
      "(0.008376776400682925, 0.34677369590428986) [ 0.00837678  0.3467737 ] 0\n",
      "(0.008376776400682925, 0.78352121817758968) [ 0.00837678  0.78352122] 0\n",
      "(0.008376776400682925, 1.770334678164093) [ 0.00837678  1.77033468] 0\n",
      "(0.024244620170823284, 0.030062999042780213) [ 0.01737541  0.80792208] 0\n",
      "(0.024244620170823284, 0.067926137161718539) [ 0.00438425  1.01053785] 0\n",
      "(0.024244620170823284, 0.78352121817758968) [ 0.02424462  0.78352122] 0\n",
      "(0.024244620170823284, 1.770334678164093) [ 0.02424462  1.77033468] 0\n",
      "(0.070170382867038292, 1.770334678164093) [ 0.07017038  1.77033468] 0\n",
      "(4.9238826317067419, 0.78352121817758968) [ 0.05039376  1.66891358] 0\n",
      "(14.251026703029993, 0.78352121817758968) [ 0.00347941  0.13659009] 0\n"
     ]
    }
   ],
   "source": [
    "for p_init, popt in izip(product(p0_nu, p0_T), ar_ery):\n",
    "    if popt[6] == 0:\n",
    "        print p_init, popt[0], popt[6]"
   ]
  },
  {
   "cell_type": "markdown",
   "metadata": {},
   "source": [
    "Of the runs that did return an optimisation result, most just return the initial parameter values."
   ]
  },
  {
   "cell_type": "code",
   "execution_count": 20,
   "metadata": {
    "collapsed": true
   },
   "outputs": [],
   "source": [
    "?dadi.Inference.optimize_lbfgsb"
   ]
  },
  {
   "cell_type": "code",
   "execution_count": null,
   "metadata": {
    "collapsed": true
   },
   "outputs": [],
   "source": [
    "?dadi.Inference.optimize_grid"
   ]
  },
  {
   "cell_type": "code",
   "execution_count": 21,
   "metadata": {
    "collapsed": true
   },
   "outputs": [],
   "source": [
    "?dadi.Inference.optimize_log"
   ]
  },
  {
   "cell_type": "code",
   "execution_count": 22,
   "metadata": {
    "collapsed": true
   },
   "outputs": [],
   "source": [
    "?dadi.Inference.optimize_log_fmin"
   ]
  },
  {
   "cell_type": "code",
   "execution_count": 24,
   "metadata": {
    "collapsed": true
   },
   "outputs": [],
   "source": [
    "?dadi.Inference.optimize_log_powell"
   ]
  },
  {
   "cell_type": "markdown",
   "metadata": {},
   "source": [
    "[Scipy lecture notes on optimization](http://www.scipy-lectures.org/advanced/mathematical_optimization/index.html)"
   ]
  },
  {
   "cell_type": "markdown",
   "metadata": {},
   "source": [
    "I have decided to change to the Nelder-Mead optimisation algorithm."
   ]
  },
  {
   "cell_type": "code",
   "execution_count": 25,
   "metadata": {
    "collapsed": true
   },
   "outputs": [],
   "source": [
    "%%px\n",
    "\n",
    "# use Nelder-Mead algorithm\n",
    "dadi_opt_func = dadi.Inference.optimize_log_fmin"
   ]
  },
  {
   "cell_type": "code",
   "execution_count": 72,
   "metadata": {
    "collapsed": true
   },
   "outputs": [],
   "source": [
    "# do same optimisation as above, but now with Nelder-Mead algorithm\n",
    "\n",
    "#ar_ery = lbview.map(run_dadi, product(p0_nu, p0_T), block=False, order=True)"
   ]
  },
  {
   "cell_type": "code",
   "execution_count": 82,
   "metadata": {
    "collapsed": false
   },
   "outputs": [
    {
     "data": {
      "text/plain": [
       "196"
      ]
     },
     "execution_count": 82,
     "metadata": {},
     "output_type": "execute_result"
    }
   ],
   "source": [
    "ar_ery.progress"
   ]
  },
  {
   "cell_type": "code",
   "execution_count": 90,
   "metadata": {
    "collapsed": false
   },
   "outputs": [
    {
     "data": {
      "text/plain": [
       "577.460715"
      ]
     },
     "execution_count": 90,
     "metadata": {},
     "output_type": "execute_result"
    }
   ],
   "source": [
    "ar_ery.wall_time"
   ]
  },
  {
   "cell_type": "markdown",
   "metadata": {},
   "source": [
    "Note, that Nelder-Mead is much slower."
   ]
  },
  {
   "cell_type": "code",
   "execution_count": 23,
   "metadata": {
    "collapsed": true
   },
   "outputs": [],
   "source": [
    "%psource dadi.Inference.optimize_log_fmin"
   ]
  },
  {
   "cell_type": "code",
   "execution_count": null,
   "metadata": {
    "collapsed": false
   },
   "outputs": [],
   "source": [
    "warnflag = defaultdict(int)\n",
    "\n",
    "for res in ar_ery:\n",
    "    if res[4] == 1:\n",
    "        warnflag[1] +=1\n",
    "    elif res[4] == 2:\n",
    "        warnflag[2] += 1\n",
    "    elif res[4] == 0:\n",
    "        warnflag[0] += 1\n",
    "    else:\n",
    "        warnflag[999] +=1\n",
    "        \n",
    "print \"success\", warnflag[0]\n",
    "print \"Maximum number of function evaluations made.\", warnflag[1]\n",
    "print \"Maximum number of iterations reached.\", warnflag[2]\n",
    "print \"unknown flag\", warnflag[999]"
   ]
  },
  {
   "cell_type": "markdown",
   "metadata": {},
   "source": [
    "None of the runs reached convergence and returned a result."
   ]
  },
  {
   "cell_type": "code",
   "execution_count": 91,
   "metadata": {
    "collapsed": false
   },
   "outputs": [
    {
     "data": {
      "text/plain": [
       "[10, 10, 10, 10, 10, 10, 10, 10, 10, 10, 10]"
      ]
     },
     "execution_count": 91,
     "metadata": {},
     "output_type": "execute_result"
    }
   ],
   "source": [
    "cl[:]['maxiter']"
   ]
  },
  {
   "cell_type": "markdown",
   "metadata": {},
   "source": [
    "`maxiter` still set to 10 on all engines."
   ]
  },
  {
   "cell_type": "code",
   "execution_count": 92,
   "metadata": {
    "collapsed": true
   },
   "outputs": [],
   "source": [
    "%%px\n",
    "\n",
    "# increase maximum number of iterations\n",
    "maxiter = 100"
   ]
  },
  {
   "cell_type": "code",
   "execution_count": 93,
   "metadata": {
    "collapsed": true
   },
   "outputs": [],
   "source": [
    "# run optimisation as above, but now with up to 100 iterations per optimisation\n",
    "\n",
    "#ar_ery = lbview.map(run_dadi, product(p0_nu, p0_T), block=False, order=True)"
   ]
  },
  {
   "cell_type": "code",
   "execution_count": 97,
   "metadata": {
    "collapsed": false
   },
   "outputs": [
    {
     "data": {
      "text/plain": [
       "196"
      ]
     },
     "execution_count": 97,
     "metadata": {},
     "output_type": "execute_result"
    }
   ],
   "source": [
    "ar_ery.progress"
   ]
  },
  {
   "cell_type": "code",
   "execution_count": 103,
   "metadata": {
    "collapsed": false
   },
   "outputs": [
    {
     "data": {
      "text/plain": [
       "17.11536005"
      ]
     },
     "execution_count": 103,
     "metadata": {},
     "output_type": "execute_result"
    }
   ],
   "source": [
    "ar_ery.wall_time/60"
   ]
  },
  {
   "cell_type": "markdown",
   "metadata": {},
   "source": [
    "This took 17 minutes to finish."
   ]
  },
  {
   "cell_type": "code",
   "execution_count": 146,
   "metadata": {
    "collapsed": false
   },
   "outputs": [
    {
     "name": "stdout",
     "output_type": "stream",
     "text": [
      "success 155\n",
      "Maximum number of function evaluations made. 0\n",
      "Maximum number of iterations reached. 41\n",
      "unknown flag 0\n"
     ]
    }
   ],
   "source": [
    "def get_flag_count(ar, NM=True)\n",
    "    \"\"\"\n",
    "    ar: asyncresult object from BFGS or Nelder-Mead optimisation\n",
    "    \"\"\"\n",
    "    if NM: # if ar from Nelder-Mead\n",
    "        i = 4 # the warnflag is reported at index position 4 in the output array\n",
    "    else: # ar from BFGS optimisation\n",
    "        i = 6\n",
    "    \n",
    "    warnflag = defaultdict(int)\n",
    "\n",
    "    for res in ar:\n",
    "        if res[i] == 1:\n",
    "            warnflag[1] +=1\n",
    "        elif res[i] == 2:\n",
    "            warnflag[2] += 1\n",
    "        elif res[i] == 0:\n",
    "            warnflag[0] += 1\n",
    "        else:\n",
    "            warnflag[999] +=1\n",
    "    if NM:\n",
    "        print \"success\", warnflag[0]\n",
    "        print \"Maximum number of function evaluations made.\", warnflag[1]\n",
    "        print \"Maximum number of iterations reached.\", warnflag[2]\n",
    "        print \"unknown flag\", warnflag[999]\n",
    "    else:\n",
    "        print \"success\", warnflag[0]\n",
    "        print \"Maximum number of iterations exceeded.\", warnflag[1]\n",
    "        print \"Gradient and/or function calls not changing.\", warnflag[2]\n",
    "        print \"unknown flag\", warnflag[999]"
   ]
  },
  {
   "cell_type": "code",
   "execution_count": null,
   "metadata": {
    "collapsed": true
   },
   "outputs": [],
   "source": [
    "get_flag_count(ar, NM=True)"
   ]
  },
  {
   "cell_type": "markdown",
   "metadata": {},
   "source": [
    "This looks much better. I don't want to increase `maxiter` even more, due to the already long running time."
   ]
  },
  {
   "cell_type": "code",
   "execution_count": 102,
   "metadata": {
    "collapsed": false
   },
   "outputs": [
    {
     "name": "stdout",
     "output_type": "stream",
     "text": [
      "(0.001, 0.0001) [ 0.001   0.0001] 0\n",
      "(0.001, 0.00022594597786155119) [ 0.0046087  0.0001   ] 0\n",
      "(0.001, 0.00051051584911812533) [ 0.00460935  0.0001    ] 0\n",
      "(0.001, 0.0011534900274281497) [ 0.0046101  0.0001   ] 0\n",
      "(0.001, 0.002606264322008005) [ 0.0010587   0.01041429] 0\n",
      "(0.001, 0.0058887494080177146) [ 0.00109955  0.01077432] 0\n",
      "(0.001, 0.013305392433761934) [ 0.00114933  0.01121111] 0\n",
      "(0.001, 0.030062999042780213) [ 0.00220919  0.02010065] 0\n",
      "(0.001, 0.067926137161718539) [ 0.00561338  0.04580983] 0\n",
      "(0.001, 0.15347637483362347) [ 0.00153996  0.14817624] 0\n",
      "(0.001, 0.34677369590428986) [ 0.00152288  0.30668712] 0\n",
      "(0.001, 0.78352121817758968) [ 0.00139997  0.78033341] 0\n",
      "(0.001, 1.770334678164093) [  1.38237223e-03   1.77369523e+00] 0\n",
      "(0.001, 4.0) [  1.00000000e-03   4.00000000e+00] 0\n",
      "(0.0028942661247167516, 0.0001) [ 0.00460909  0.0001    ] 0\n",
      "(0.0028942661247167516, 0.00022594597786155119) [ 0.00461009  0.0001    ] 0\n",
      "(0.0028942661247167516, 0.00051051584911812533) [ 0.00460658  0.0001    ] 0\n",
      "(0.0028942661247167516, 0.0011534900274281497) [ 0.00460937  0.0001    ] 0\n",
      "(0.0028942661247167516, 0.002606264322008005) [ 0.00460888  0.0001    ] 0\n",
      "(0.0028942661247167516, 0.0058887494080177146) [ 0.00132047  0.01269659] 0\n",
      "(0.0028942661247167516, 0.013305392433761934) [ 0.00181888  0.01690434] 0\n",
      "(0.0028942661247167516, 0.030062999042780213) [ 0.00305913  0.02683358] 0\n",
      "(0.0028942661247167516, 0.067926137161718539) [ 0.00592643  0.04804047] 0\n",
      "(0.0028942661247167516, 0.15347637483362347) [ 0.00161322  0.17280243] 0\n",
      "(0.0028942661247167516, 0.34677369590428986) [ 0.00161299  0.35778062] 0\n",
      "(0.0028942661247167516, 0.78352121817758968) [ 0.00161322  0.78711341] 0\n",
      "(0.0028942661247167516, 1.770334678164093) [  1.61321521e-03   1.67317177e+00] 0\n",
      "(0.0028942661247167516, 4.0) [  1.61298502e-03   3.63581873e+00] 0\n",
      "(0.008376776400682925, 0.0001) [ 0.00460976  0.0001    ] 0\n",
      "(0.008376776400682925, 0.00022594597786155119) [ 0.00460781  0.0001    ] 0\n",
      "(0.008376776400682925, 0.00051051584911812533) [ 0.004611  0.0001  ] 0\n",
      "(0.008376776400682925, 0.0011534900274281497) [ 0.00461008  0.0001    ] 0\n",
      "(0.008376776400682925, 0.002606264322008005) [ 0.00461037  0.0001    ] 0\n",
      "(0.008376776400682925, 0.0058887494080177146) [ 0.00460997  0.0001    ] 0\n",
      "(0.008376776400682925, 0.013305392433761934) [ 0.00385172  0.03289365] 0\n",
      "(0.008376776400682925, 0.030062999042780213) [ 0.00458696  0.03836625] 0\n",
      "(0.008376776400682925, 0.067926137161718539) [ 0.00824806  0.06410873] 0\n",
      "(0.008376776400682925, 0.15347637483362347) [ 0.01690938  0.11911749] 0\n",
      "(0.008376776400682925, 0.34677369590428986) [ 0.00659524  0.35548912] 0\n",
      "(0.008376776400682925, 0.78352121817758968) [ 0.00659166  0.7931554 ] 0\n",
      "(0.008376776400682925, 1.770334678164093) [ 0.00659563  1.7454361 ] 0\n",
      "(0.008376776400682925, 4.0) [ 0.00659524  3.99567018] 0\n",
      "(0.024244620170823284, 0.0001) [ 0.0046098  0.0001   ] 0\n",
      "(0.024244620170823284, 0.00022594597786155119) [ 0.00460968  0.0001    ] 0\n",
      "(0.024244620170823284, 0.00051051584911812533) [ 0.00460963  0.0001    ] 0\n",
      "(0.024244620170823284, 0.0011534900274281497) [ 0.00459288  0.0001    ] 0\n",
      "(0.024244620170823284, 0.002606264322008005) [ 0.00460991  0.0001    ] 0\n",
      "(0.024244620170823284, 0.0058887494080177146) [ 0.0046099  0.0001   ] 0\n",
      "(0.024244620170823284, 0.013305392433761934) [ 0.00460929  0.0001    ] 0\n",
      "(0.024244620170823284, 0.030062999042780213) [ 0.00972447  0.07396519] 0\n",
      "(0.024244620170823284, 0.067926137161718539) [ 0.01435976  0.10354574] 0\n",
      "(0.024244620170823284, 0.15347637483362347) [ 0.02121163  0.14451351] 0\n",
      "(0.024244620170823284, 0.34677369590428986) [ 0.04033533  0.24803044] 2\n",
      "(0.024244620170823284, 0.78352121817758968) [ 0.11919076  0.59328204] 2\n",
      "(0.024244620170823284, 1.770334678164093) [ 0.01524634  1.72145173] 0\n",
      "(0.024244620170823284, 4.0) [ 0.01264512  3.4223801 ] 0\n",
      "(0.070170382867038292, 0.0001) [ 0.00460958  0.0001    ] 0\n",
      "(0.070170382867038292, 0.00022594597786155119) [ 0.00460893  0.0001    ] 0\n",
      "(0.070170382867038292, 0.00051051584911812533) [ 0.00460931  0.0001    ] 0\n",
      "(0.070170382867038292, 0.0011534900274281497) [ 0.00461038  0.0001    ] 0\n",
      "(0.070170382867038292, 0.002606264322008005) [ 0.00460984  0.0001    ] 0\n",
      "(0.070170382867038292, 0.0058887494080177146) [ 0.0046097  0.0001   ] 0\n",
      "(0.070170382867038292, 0.013305392433761934) [ 0.00461111  0.0001    ] 0\n",
      "(0.070170382867038292, 0.030062999042780213) [ 0.00460973  0.0001    ] 0\n",
      "(0.070170382867038292, 0.067926137161718539) [ 0.02812575  0.18346831] 2\n",
      "(0.070170382867038292, 0.15347637483362347) [ 0.03356945  0.21283811] 2\n",
      "(0.070170382867038292, 0.34677369590428986) [ 0.05075328  0.29985432] 2\n",
      "(0.070170382867038292, 0.78352121817758968) [ 0.12105528  0.60043451] 2\n",
      "(0.070170382867038292, 1.770334678164093) [ 0.60519695  1.54151396] 2\n",
      "(0.070170382867038292, 4.0) [ 0.06933788  3.8868293 ] 0\n",
      "(0.20309176209047369, 0.0001) [ 0.00460969  0.0001    ] 0\n",
      "(0.20309176209047369, 0.00022594597786155119) [ 0.00461108  0.0001    ] 0\n",
      "(0.20309176209047369, 0.00051051584911812533) [ 0.00460986  0.0001    ] 0\n",
      "(0.20309176209047369, 0.0011534900274281497) [ 0.00460958  0.0001    ] 0\n",
      "(0.20309176209047369, 0.002606264322008005) [ 0.00460949  0.0001    ] 0\n",
      "(0.20309176209047369, 0.0058887494080177146) [ 0.00461013  0.0001    ] 0\n",
      "(0.20309176209047369, 0.013305392433761934) [ 0.00460974  0.0001    ] 0\n",
      "(0.20309176209047369, 0.030062999042780213) [ 0.00460967  0.0001    ] 0\n",
      "(0.20309176209047369, 0.067926137161718539) [ 0.00461159  0.0001    ] 0\n",
      "(0.20309176209047369, 0.15347637483362347) [ 0.00461314  0.0001    ] 0\n",
      "(0.20309176209047369, 0.34677369590428986) [ 0.08532162  0.4565059 ] 2\n",
      "(0.20309176209047369, 0.78352121817758968) [ 0.13396667  0.6488751 ] 2\n",
      "(0.20309176209047369, 1.770334678164093) [ 0.46341921  0.01674003] 2\n",
      "(0.20309176209047369, 4.0) [ 0.00460987  0.0001    ] 2\n",
      "(0.5878016072274912, 0.0001) [ 0.00460956  0.0001    ] 0\n",
      "(0.5878016072274912, 0.00022594597786155119) [ 0.00460971  0.0001    ] 0\n",
      "(0.5878016072274912, 0.00051051584911812533) [ 0.00460994  0.0001    ] 0\n",
      "(0.5878016072274912, 0.0011534900274281497) [ 0.00460966  0.0001    ] 0\n",
      "(0.5878016072274912, 0.002606264322008005) [ 0.00460996  0.0001    ] 0\n",
      "(0.5878016072274912, 0.0058887494080177146) [ 0.00460972  0.0001    ] 0\n",
      "(0.5878016072274912, 0.013305392433761934) [ 0.00460984  0.0001    ] 0\n",
      "(0.5878016072274912, 0.030062999042780213) [ 0.00460995  0.0001    ] 0\n",
      "(0.5878016072274912, 0.067926137161718539) [ 0.00460976  0.0001    ] 0\n",
      "(0.5878016072274912, 0.15347637483362347) [ 0.0046094  0.0001   ] 0\n",
      "(0.5878016072274912, 0.34677369590428986) [ 0.00460943  0.0001    ] 0\n",
      "(0.5878016072274912, 0.78352121817758968) [ 0.00460858  0.0001    ] 0\n",
      "(0.5878016072274912, 1.770334678164093) [ 0.92977709  0.10031859] 2\n",
      "(0.5878016072274912, 4.0) [ 0.72886285  1.44876146] 2\n",
      "(1.7012542798525891, 0.0001) [ 0.00461018  0.0001    ] 0\n",
      "(1.7012542798525891, 0.00022594597786155119) [ 0.00460951  0.0001    ] 0\n",
      "(1.7012542798525891, 0.00051051584911812533) [ 0.00460997  0.0001    ] 0\n",
      "(1.7012542798525891, 0.0011534900274281497) [ 0.00460992  0.0001    ] 2\n",
      "(1.7012542798525891, 0.002606264322008005) [ 0.00460978  0.0001    ] 0\n",
      "(1.7012542798525891, 0.0058887494080177146) [ 0.00460938  0.0001    ] 0\n",
      "(1.7012542798525891, 0.013305392433761934) [ 0.00461005  0.0001    ] 0\n",
      "(1.7012542798525891, 0.030062999042780213) [ 0.00460988  0.0001    ] 0\n",
      "(1.7012542798525891, 0.067926137161718539) [ 0.00460943  0.0001    ] 0\n",
      "(1.7012542798525891, 0.15347637483362347) [ 0.00461027  0.0001    ] 0\n",
      "(1.7012542798525891, 0.34677369590428986) [ 0.00460916  0.0001    ] 2\n",
      "(1.7012542798525891, 0.78352121817758968) [ 0.00461028  0.0001    ] 2\n",
      "(1.7012542798525891, 1.770334678164093) [ 0.0046096  0.0001   ] 0\n",
      "(1.7012542798525891, 4.0) [ 0.41860894  1.3824916 ] 2\n",
      "(4.9238826317067419, 0.0001) [ 0.00460697  0.0001    ] 0\n",
      "(4.9238826317067419, 0.00022594597786155119) [ 0.00460943  0.0001    ] 0\n",
      "(4.9238826317067419, 0.00051051584911812533) [ 0.00461355  0.0001    ] 2\n",
      "(4.9238826317067419, 0.0011534900274281497) [ 0.00460984  0.0001    ] 0\n",
      "(4.9238826317067419, 0.002606264322008005) [ 0.0045938  0.0001   ] 2\n",
      "(4.9238826317067419, 0.0058887494080177146) [ 0.00462099  0.0001    ] 2\n",
      "(4.9238826317067419, 0.013305392433761934) [ 0.00460959  0.0001    ] 0\n",
      "(4.9238826317067419, 0.030062999042780213) [ 0.00460947  0.0001    ] 0\n",
      "(4.9238826317067419, 0.067926137161718539) [ 0.00461048  0.0001    ] 0\n",
      "(4.9238826317067419, 0.15347637483362347) [ 0.00460579  0.0001    ] 0\n",
      "(4.9238826317067419, 0.34677369590428986) [ 0.00460935  0.0001    ] 0\n",
      "(4.9238826317067419, 0.78352121817758968) [ 0.00466086  0.00010066] 2\n",
      "(4.9238826317067419, 1.770334678164093) [ 0.00471884  0.0001025 ] 2\n",
      "(4.9238826317067419, 4.0) [ 0.6954071   1.49326078] 2\n",
      "(14.251026703029993, 0.0001) [ 0.0046093  0.0001   ] 0\n",
      "(14.251026703029993, 0.00022594597786155119) [ 0.00460974  0.0001    ] 0\n",
      "(14.251026703029993, 0.00051051584911812533) [ 0.00460972  0.0001    ] 2\n",
      "(14.251026703029993, 0.0011534900274281497) [ 0.0046099  0.0001   ] 0\n",
      "(14.251026703029993, 0.002606264322008005) [ 0.00460921  0.0001    ] 0\n",
      "(14.251026703029993, 0.0058887494080177146) [ 0.00460734  0.0001    ] 0\n",
      "(14.251026703029993, 0.013305392433761934) [ 0.00461017  0.0001    ] 0\n",
      "(14.251026703029993, 0.030062999042780213) [ 0.00461259  0.0001    ] 0\n",
      "(14.251026703029993, 0.067926137161718539) [ 0.00460922  0.0001    ] 0\n",
      "(14.251026703029993, 0.15347637483362347) [ 0.00460994  0.0001    ] 0\n",
      "(14.251026703029993, 0.34677369590428986) [ 0.00460992  0.0001    ] 0\n",
      "(14.251026703029993, 0.78352121817758968) [ 0.09037031  0.47781   ] 2\n",
      "(14.251026703029993, 1.770334678164093) [ 0.80092763  1.27287394] 2\n",
      "(14.251026703029993, 4.0) [ 0.3856807   1.32675829] 2\n",
      "(41.246263829013564, 0.0001) [ 0.00460919  0.0001    ] 0\n",
      "(41.246263829013564, 0.00022594597786155119) [ 0.00462563  0.00010035] 0\n",
      "(41.246263829013564, 0.00051051584911812533) [ 0.00460956  0.00010001] 2\n",
      "(41.246263829013564, 0.0011534900274281497) [ 0.00460957  0.0001    ] 0\n",
      "(41.246263829013564, 0.002606264322008005) [ 0.00461025  0.0001    ] 0\n",
      "(41.246263829013564, 0.0058887494080177146) [ 0.00460862  0.0001    ] 0\n",
      "(41.246263829013564, 0.013305392433761934) [ 0.00460966  0.0001    ] 0\n",
      "(41.246263829013564, 0.030062999042780213) [ 0.00460971  0.0001    ] 0\n",
      "(41.246263829013564, 0.067926137161718539) [ 0.00460971  0.0001    ] 0\n",
      "(41.246263829013564, 0.15347637483362347) [ 0.00461003  0.0001    ] 0\n",
      "(41.246263829013564, 0.34677369590428986) [ 0.00458619  0.0001    ] 0\n",
      "(41.246263829013564, 0.78352121817758968) [ 0.09569484  0.49991478] 2\n",
      "(41.246263829013564, 1.770334678164093) [ 0.03666728  0.00085197] 2\n",
      "(41.246263829013564, 4.0) [ 0.07022516  0.00147391] 2\n",
      "(119.37766417144383, 0.0001) [ 0.0046094  0.0001   ] 0\n",
      "(119.37766417144383, 0.00022594597786155119) [ 0.00461883  0.00010019] 0\n",
      "(119.37766417144383, 0.00051051584911812533) [ 0.00461174  0.00010005] 0\n",
      "(119.37766417144383, 0.0011534900274281497) [ 0.00460987  0.00010001] 2\n",
      "(119.37766417144383, 0.002606264322008005) [ 0.00461266  0.00010007] 0\n",
      "(119.37766417144383, 0.0058887494080177146) [ 0.00459816  0.0001    ] 0\n",
      "(119.37766417144383, 0.013305392433761934) [ 0.00460983  0.0001    ] 0\n",
      "(119.37766417144383, 0.030062999042780213) [ 0.00460965  0.0001    ] 0\n",
      "(119.37766417144383, 0.067926137161718539) [ 0.00464787  0.00010001] 0\n",
      "(119.37766417144383, 0.15347637483362347) [ 0.00460959  0.0001    ] 0\n",
      "(119.37766417144383, 0.34677369590428986) [ 0.00842437  0.06529905] 0\n",
      "(119.37766417144383, 0.78352121817758968) [ 0.11279454  0.56849984] 0\n",
      "(119.37766417144383, 1.770334678164093) [ 0.04750126  0.00112095] 2\n",
      "(119.37766417144383, 4.0) [ 0.00461446  0.00010008] 2\n",
      "(345.51072945922181, 0.0001) [ 0.00460985  0.0001    ] 0\n",
      "(345.51072945922181, 0.00022594597786155119) [ 0.00461696  0.00010017] 0\n",
      "(345.51072945922181, 0.00051051584911812533) [ 0.00461403  0.0001001 ] 0\n",
      "(345.51072945922181, 0.0011534900274281497) [  6.12964514e+02   1.00000014e-04] 0\n",
      "(345.51072945922181, 0.002606264322008005) [  5.53225162e+02   1.00000401e-04] 0\n",
      "(345.51072945922181, 0.0058887494080177146) [ 0.00462517  0.00010034] 0\n",
      "(345.51072945922181, 0.013305392433761934) [ 0.00460936  0.0001    ] 2\n",
      "(345.51072945922181, 0.030062999042780213) [ 0.00461457  0.0001    ] 0\n",
      "(345.51072945922181, 0.067926137161718539) [ 0.0046093  0.0001   ] 0\n",
      "(345.51072945922181, 0.15347637483362347) [ 0.00460986  0.0001    ] 0\n",
      "(345.51072945922181, 0.34677369590428986) [ 0.01006346  0.07619456] 0\n",
      "(345.51072945922181, 0.78352121817758968) [ 0.09896109  0.51329225] 2\n",
      "(345.51072945922181, 1.770334678164093) [ 0.40720314  1.3640523 ] 2\n",
      "(345.51072945922181, 4.0) [ 0.33220095  1.22029137] 2\n",
      "(1000.0, 0.0001) [  1.00000000e+03   1.00000000e-04] 0\n",
      "(1000.0, 0.00022594597786155119) [ 0.00462707  0.00010038] 0\n",
      "(1000.0, 0.00051051584911812533) [ 0.00461721  0.00010017] 0\n",
      "(1000.0, 0.0011534900274281497) [ 0.00463091  0.00010046] 0\n",
      "(1000.0, 0.002606264322008005) [ 0.00460933  0.0001    ] 0\n",
      "(1000.0, 0.0058887494080177146) [  5.36821850e+02   1.00000061e-04] 0\n",
      "(1000.0, 0.013305392433761934) [  6.76235824e+02   1.00000186e-04] 0\n",
      "(1000.0, 0.030062999042780213) [ 0.00460882  0.0001    ] 2\n",
      "(1000.0, 0.067926137161718539) [ 0.0046097  0.0001   ] 0\n",
      "(1000.0, 0.15347637483362347) [ 0.00460935  0.0001    ] 0\n",
      "(1000.0, 0.34677369590428986) [ 0.01342882  0.09774743] 0\n",
      "(1000.0, 0.78352121817758968) [ 0.09970475  0.51631597] 2\n",
      "(1000.0, 1.770334678164093) [ 0.46758516  0.02348675] 2\n",
      "(1000.0, 4.0) [1000.    4.] 0\n"
     ]
    }
   ],
   "source": [
    "for p_init, popt in izip(product(p0_nu, p0_T), ar_ery):\n",
    "    print p_init, popt[0], popt[4]"
   ]
  },
  {
   "cell_type": "markdown",
   "metadata": {},
   "source": [
    "# check convergence"
   ]
  },
  {
   "cell_type": "code",
   "execution_count": 130,
   "metadata": {
    "collapsed": false
   },
   "outputs": [
    {
     "data": {
      "text/plain": [
       "155"
      ]
     },
     "execution_count": 130,
     "metadata": {},
     "output_type": "execute_result"
    }
   ],
   "source": [
    "# get optimised parameters (if optimisation was successfull)\n",
    "popt = [p[0] for p in ar_ery if p[4] == 0]\n",
    "len(popt)"
   ]
  },
  {
   "cell_type": "markdown",
   "metadata": {},
   "source": [
    "## get log likelihood values"
   ]
  },
  {
   "cell_type": "code",
   "execution_count": 26,
   "metadata": {
    "collapsed": true
   },
   "outputs": [],
   "source": [
    "# create parallel function with load balancing\n",
    "\n",
    "@lbview.parallel(block=True)\n",
    "def get_ll(p):\n",
    "    \"\"\"\n",
    "    p: parameter combination\n",
    "    \n",
    "    First, calculates the best-fit model SFS given paramter combination p.\n",
    "    Then returns the log likelihood of the expected SFS given the observed SFS.\n",
    "    \"\"\"\n",
    "    expected_sfs = func_ex(p, ns, pts_l)\n",
    "    return dadi.Inference.ll_multinom(expected_sfs, sfs)\n",
    "    # expected_sfs does not need to be folded, ll_multinom does that automatically\n",
    "    # make sure that sfs points to right spectrum"
   ]
  },
  {
   "cell_type": "code",
   "execution_count": 27,
   "metadata": {
    "collapsed": false
   },
   "outputs": [
    {
     "data": {
      "text/plain": [
       "Spectrum([-- 7833.03869 7414.699839 4109.279415 3614.717256 3095.973324 2031.460887\n",
       " 1584.656928 2583.652317 1142.075255 1052.346021 1765.773415 1255.138799\n",
       " 1072.516527 1417.916128 395.75047 1947.087637 367.072082 966.622924 -- --\n",
       " -- -- -- -- -- -- -- -- -- -- -- -- -- -- -- --], folded=True, pop_ids=['ery'])"
      ]
     },
     "execution_count": 27,
     "metadata": {},
     "output_type": "execute_result"
    }
   ],
   "source": [
    "cl[0]['sfs']"
   ]
  },
  {
   "cell_type": "code",
   "execution_count": 155,
   "metadata": {
    "collapsed": false
   },
   "outputs": [
    {
     "data": {
      "text/plain": [
       "(array([ 0.001 ,  0.0001]), 3729.0988442929811, 52, 202, 0)"
      ]
     },
     "execution_count": 155,
     "metadata": {},
     "output_type": "execute_result"
    }
   ],
   "source": [
    "ar_ery.get()"
   ]
  },
  {
   "cell_type": "code",
   "execution_count": 156,
   "metadata": {
    "collapsed": false
   },
   "outputs": [],
   "source": [
    "# get log likelihood values for all parameters returned\n",
    "\n",
    "ll = get_ll.map([p[0] for p in ar_ery])"
   ]
  },
  {
   "cell_type": "code",
   "execution_count": 157,
   "metadata": {
    "collapsed": false
   },
   "outputs": [
    {
     "data": {
      "text/plain": [
       "196"
      ]
     },
     "execution_count": 157,
     "metadata": {},
     "output_type": "execute_result"
    }
   ],
   "source": [
    "len(ll)"
   ]
  },
  {
   "cell_type": "code",
   "execution_count": 168,
   "metadata": {
    "collapsed": false
   },
   "outputs": [],
   "source": [
    "# get all starting parameter combinations, corresponding optimised parameters and log likelihood values\n",
    "# if the optimisation was successful:\n",
    "\n",
    "rows = [(p0[0], p0[1], xopt[0][0], xopt[0][1], logL) for p0, xopt, logL in izip(product(p0_nu, p0_T), ar_ery, ll) if xopt[4] == 0]"
   ]
  },
  {
   "cell_type": "code",
   "execution_count": 169,
   "metadata": {
    "collapsed": false
   },
   "outputs": [
    {
     "data": {
      "text/plain": [
       "155"
      ]
     },
     "execution_count": 169,
     "metadata": {},
     "output_type": "execute_result"
    }
   ],
   "source": [
    "len(rows)"
   ]
  },
  {
   "cell_type": "code",
   "execution_count": 137,
   "metadata": {
    "collapsed": false
   },
   "outputs": [],
   "source": [
    "import pandas as pd"
   ]
  },
  {
   "cell_type": "code",
   "execution_count": 174,
   "metadata": {
    "collapsed": false
   },
   "outputs": [],
   "source": [
    "df = pd.DataFrame(data=rows, columns=['nu_0', 'T_0', 'nu_opt', 'T_opt', 'logL'])"
   ]
  },
  {
   "cell_type": "code",
   "execution_count": 175,
   "metadata": {
    "collapsed": false
   },
   "outputs": [
    {
     "data": {
      "text/html": [
       "<div>\n",
       "<table border=\"1\" class=\"dataframe\">\n",
       "  <thead>\n",
       "    <tr style=\"text-align: right;\">\n",
       "      <th></th>\n",
       "      <th>nu_0</th>\n",
       "      <th>T_0</th>\n",
       "      <th>nu_opt</th>\n",
       "      <th>T_opt</th>\n",
       "      <th>logL</th>\n",
       "    </tr>\n",
       "  </thead>\n",
       "  <tbody>\n",
       "    <tr>\n",
       "      <th>119</th>\n",
       "      <td>41.246264</td>\n",
       "      <td>0.030063</td>\n",
       "      <td>0.004610</td>\n",
       "      <td>0.000100</td>\n",
       "      <td>-2041.093532</td>\n",
       "    </tr>\n",
       "    <tr>\n",
       "      <th>28</th>\n",
       "      <td>0.008377</td>\n",
       "      <td>0.000100</td>\n",
       "      <td>0.004610</td>\n",
       "      <td>0.000100</td>\n",
       "      <td>-2041.093532</td>\n",
       "    </tr>\n",
       "    <tr>\n",
       "      <th>59</th>\n",
       "      <td>0.070170</td>\n",
       "      <td>0.005889</td>\n",
       "      <td>0.004610</td>\n",
       "      <td>0.000100</td>\n",
       "      <td>-2041.093532</td>\n",
       "    </tr>\n",
       "    <tr>\n",
       "      <th>142</th>\n",
       "      <td>345.510729</td>\n",
       "      <td>0.153476</td>\n",
       "      <td>0.004610</td>\n",
       "      <td>0.000100</td>\n",
       "      <td>-2041.093532</td>\n",
       "    </tr>\n",
       "    <tr>\n",
       "      <th>102</th>\n",
       "      <td>4.923883</td>\n",
       "      <td>0.346774</td>\n",
       "      <td>0.004609</td>\n",
       "      <td>0.000100</td>\n",
       "      <td>-2041.093532</td>\n",
       "    </tr>\n",
       "    <tr>\n",
       "      <th>141</th>\n",
       "      <td>345.510729</td>\n",
       "      <td>0.067926</td>\n",
       "      <td>0.004609</td>\n",
       "      <td>0.000100</td>\n",
       "      <td>-2041.093532</td>\n",
       "    </tr>\n",
       "    <tr>\n",
       "      <th>56</th>\n",
       "      <td>0.070170</td>\n",
       "      <td>0.000511</td>\n",
       "      <td>0.004609</td>\n",
       "      <td>0.000100</td>\n",
       "      <td>-2041.093532</td>\n",
       "    </tr>\n",
       "    <tr>\n",
       "      <th>69</th>\n",
       "      <td>0.203092</td>\n",
       "      <td>0.013305</td>\n",
       "      <td>0.004610</td>\n",
       "      <td>0.000100</td>\n",
       "      <td>-2041.093532</td>\n",
       "    </tr>\n",
       "    <tr>\n",
       "      <th>44</th>\n",
       "      <td>0.024245</td>\n",
       "      <td>0.000511</td>\n",
       "      <td>0.004610</td>\n",
       "      <td>0.000100</td>\n",
       "      <td>-2041.093533</td>\n",
       "    </tr>\n",
       "    <tr>\n",
       "      <th>115</th>\n",
       "      <td>41.246264</td>\n",
       "      <td>0.001153</td>\n",
       "      <td>0.004610</td>\n",
       "      <td>0.000100</td>\n",
       "      <td>-2041.093533</td>\n",
       "    </tr>\n",
       "    <tr>\n",
       "      <th>61</th>\n",
       "      <td>0.070170</td>\n",
       "      <td>0.030063</td>\n",
       "      <td>0.004610</td>\n",
       "      <td>0.000100</td>\n",
       "      <td>-2041.093533</td>\n",
       "    </tr>\n",
       "    <tr>\n",
       "      <th>131</th>\n",
       "      <td>119.377664</td>\n",
       "      <td>0.153476</td>\n",
       "      <td>0.004610</td>\n",
       "      <td>0.000100</td>\n",
       "      <td>-2041.093533</td>\n",
       "    </tr>\n",
       "    <tr>\n",
       "      <th>104</th>\n",
       "      <td>14.251027</td>\n",
       "      <td>0.000226</td>\n",
       "      <td>0.004610</td>\n",
       "      <td>0.000100</td>\n",
       "      <td>-2041.093533</td>\n",
       "    </tr>\n",
       "    <tr>\n",
       "      <th>110</th>\n",
       "      <td>14.251027</td>\n",
       "      <td>0.067926</td>\n",
       "      <td>0.004609</td>\n",
       "      <td>0.000100</td>\n",
       "      <td>-2041.093534</td>\n",
       "    </tr>\n",
       "    <tr>\n",
       "      <th>118</th>\n",
       "      <td>41.246264</td>\n",
       "      <td>0.013305</td>\n",
       "      <td>0.004610</td>\n",
       "      <td>0.000100</td>\n",
       "      <td>-2041.093534</td>\n",
       "    </tr>\n",
       "    <tr>\n",
       "      <th>97</th>\n",
       "      <td>4.923883</td>\n",
       "      <td>0.001153</td>\n",
       "      <td>0.004610</td>\n",
       "      <td>0.000100</td>\n",
       "      <td>-2041.093534</td>\n",
       "    </tr>\n",
       "    <tr>\n",
       "      <th>99</th>\n",
       "      <td>4.923883</td>\n",
       "      <td>0.030063</td>\n",
       "      <td>0.004609</td>\n",
       "      <td>0.000100</td>\n",
       "      <td>-2041.093534</td>\n",
       "    </tr>\n",
       "    <tr>\n",
       "      <th>54</th>\n",
       "      <td>0.070170</td>\n",
       "      <td>0.000100</td>\n",
       "      <td>0.004610</td>\n",
       "      <td>0.000100</td>\n",
       "      <td>-2041.093534</td>\n",
       "    </tr>\n",
       "    <tr>\n",
       "      <th>92</th>\n",
       "      <td>1.701254</td>\n",
       "      <td>0.067926</td>\n",
       "      <td>0.004609</td>\n",
       "      <td>0.000100</td>\n",
       "      <td>-2041.093534</td>\n",
       "    </tr>\n",
       "    <tr>\n",
       "      <th>112</th>\n",
       "      <td>14.251027</td>\n",
       "      <td>0.346774</td>\n",
       "      <td>0.004610</td>\n",
       "      <td>0.000100</td>\n",
       "      <td>-2041.093534</td>\n",
       "    </tr>\n",
       "    <tr>\n",
       "      <th>152</th>\n",
       "      <td>1000.000000</td>\n",
       "      <td>0.153476</td>\n",
       "      <td>0.004609</td>\n",
       "      <td>0.000100</td>\n",
       "      <td>-2041.093534</td>\n",
       "    </tr>\n",
       "    <tr>\n",
       "      <th>17</th>\n",
       "      <td>0.002894</td>\n",
       "      <td>0.001153</td>\n",
       "      <td>0.004609</td>\n",
       "      <td>0.000100</td>\n",
       "      <td>-2041.093534</td>\n",
       "    </tr>\n",
       "    <tr>\n",
       "      <th>75</th>\n",
       "      <td>0.587802</td>\n",
       "      <td>0.000511</td>\n",
       "      <td>0.004610</td>\n",
       "      <td>0.000100</td>\n",
       "      <td>-2041.093534</td>\n",
       "    </tr>\n",
       "    <tr>\n",
       "      <th>58</th>\n",
       "      <td>0.070170</td>\n",
       "      <td>0.002606</td>\n",
       "      <td>0.004610</td>\n",
       "      <td>0.000100</td>\n",
       "      <td>-2041.093534</td>\n",
       "    </tr>\n",
       "    <tr>\n",
       "      <th>148</th>\n",
       "      <td>1000.000000</td>\n",
       "      <td>0.002606</td>\n",
       "      <td>0.004609</td>\n",
       "      <td>0.000100</td>\n",
       "      <td>-2041.093534</td>\n",
       "    </tr>\n",
       "    <tr>\n",
       "      <th>98</th>\n",
       "      <td>4.923883</td>\n",
       "      <td>0.013305</td>\n",
       "      <td>0.004610</td>\n",
       "      <td>0.000100</td>\n",
       "      <td>-2041.093535</td>\n",
       "    </tr>\n",
       "    <tr>\n",
       "      <th>88</th>\n",
       "      <td>1.701254</td>\n",
       "      <td>0.002606</td>\n",
       "      <td>0.004610</td>\n",
       "      <td>0.000100</td>\n",
       "      <td>-2041.093535</td>\n",
       "    </tr>\n",
       "    <tr>\n",
       "      <th>128</th>\n",
       "      <td>119.377664</td>\n",
       "      <td>0.013305</td>\n",
       "      <td>0.004610</td>\n",
       "      <td>0.000100</td>\n",
       "      <td>-2041.093535</td>\n",
       "    </tr>\n",
       "    <tr>\n",
       "      <th>134</th>\n",
       "      <td>345.510729</td>\n",
       "      <td>0.000100</td>\n",
       "      <td>0.004610</td>\n",
       "      <td>0.000100</td>\n",
       "      <td>-2041.093535</td>\n",
       "    </tr>\n",
       "    <tr>\n",
       "      <th>105</th>\n",
       "      <td>14.251027</td>\n",
       "      <td>0.001153</td>\n",
       "      <td>0.004610</td>\n",
       "      <td>0.000100</td>\n",
       "      <td>-2041.093535</td>\n",
       "    </tr>\n",
       "    <tr>\n",
       "      <th>...</th>\n",
       "      <td>...</td>\n",
       "      <td>...</td>\n",
       "      <td>...</td>\n",
       "      <td>...</td>\n",
       "      <td>...</td>\n",
       "    </tr>\n",
       "    <tr>\n",
       "      <th>143</th>\n",
       "      <td>345.510729</td>\n",
       "      <td>0.346774</td>\n",
       "      <td>0.010063</td>\n",
       "      <td>0.076195</td>\n",
       "      <td>-2450.294044</td>\n",
       "    </tr>\n",
       "    <tr>\n",
       "      <th>153</th>\n",
       "      <td>1000.000000</td>\n",
       "      <td>0.346774</td>\n",
       "      <td>0.013429</td>\n",
       "      <td>0.097747</td>\n",
       "      <td>-2450.294044</td>\n",
       "    </tr>\n",
       "    <tr>\n",
       "      <th>50</th>\n",
       "      <td>0.024245</td>\n",
       "      <td>0.067926</td>\n",
       "      <td>0.014360</td>\n",
       "      <td>0.103546</td>\n",
       "      <td>-2450.294044</td>\n",
       "    </tr>\n",
       "    <tr>\n",
       "      <th>37</th>\n",
       "      <td>0.008377</td>\n",
       "      <td>0.153476</td>\n",
       "      <td>0.016909</td>\n",
       "      <td>0.119117</td>\n",
       "      <td>-2450.294044</td>\n",
       "    </tr>\n",
       "    <tr>\n",
       "      <th>51</th>\n",
       "      <td>0.024245</td>\n",
       "      <td>0.153476</td>\n",
       "      <td>0.021212</td>\n",
       "      <td>0.144514</td>\n",
       "      <td>-2450.294044</td>\n",
       "    </tr>\n",
       "    <tr>\n",
       "      <th>133</th>\n",
       "      <td>119.377664</td>\n",
       "      <td>0.783521</td>\n",
       "      <td>0.112795</td>\n",
       "      <td>0.568500</td>\n",
       "      <td>-2450.294046</td>\n",
       "    </tr>\n",
       "    <tr>\n",
       "      <th>11</th>\n",
       "      <td>0.001000</td>\n",
       "      <td>0.783521</td>\n",
       "      <td>0.001400</td>\n",
       "      <td>0.780333</td>\n",
       "      <td>-2460.844592</td>\n",
       "    </tr>\n",
       "    <tr>\n",
       "      <th>62</th>\n",
       "      <td>0.070170</td>\n",
       "      <td>4.000000</td>\n",
       "      <td>0.069338</td>\n",
       "      <td>3.886829</td>\n",
       "      <td>-2460.844592</td>\n",
       "    </tr>\n",
       "    <tr>\n",
       "      <th>12</th>\n",
       "      <td>0.001000</td>\n",
       "      <td>1.770335</td>\n",
       "      <td>0.001382</td>\n",
       "      <td>1.773695</td>\n",
       "      <td>-2460.844592</td>\n",
       "    </tr>\n",
       "    <tr>\n",
       "      <th>10</th>\n",
       "      <td>0.001000</td>\n",
       "      <td>0.346774</td>\n",
       "      <td>0.001523</td>\n",
       "      <td>0.306687</td>\n",
       "      <td>-2460.844592</td>\n",
       "    </tr>\n",
       "    <tr>\n",
       "      <th>52</th>\n",
       "      <td>0.024245</td>\n",
       "      <td>1.770335</td>\n",
       "      <td>0.015246</td>\n",
       "      <td>1.721452</td>\n",
       "      <td>-2460.844592</td>\n",
       "    </tr>\n",
       "    <tr>\n",
       "      <th>39</th>\n",
       "      <td>0.008377</td>\n",
       "      <td>0.783521</td>\n",
       "      <td>0.006592</td>\n",
       "      <td>0.793155</td>\n",
       "      <td>-2460.844592</td>\n",
       "    </tr>\n",
       "    <tr>\n",
       "      <th>9</th>\n",
       "      <td>0.001000</td>\n",
       "      <td>0.153476</td>\n",
       "      <td>0.001540</td>\n",
       "      <td>0.148176</td>\n",
       "      <td>-2460.844592</td>\n",
       "    </tr>\n",
       "    <tr>\n",
       "      <th>25</th>\n",
       "      <td>0.002894</td>\n",
       "      <td>0.783521</td>\n",
       "      <td>0.001613</td>\n",
       "      <td>0.787113</td>\n",
       "      <td>-2460.844592</td>\n",
       "    </tr>\n",
       "    <tr>\n",
       "      <th>24</th>\n",
       "      <td>0.002894</td>\n",
       "      <td>0.346774</td>\n",
       "      <td>0.001613</td>\n",
       "      <td>0.357781</td>\n",
       "      <td>-2460.844592</td>\n",
       "    </tr>\n",
       "    <tr>\n",
       "      <th>27</th>\n",
       "      <td>0.002894</td>\n",
       "      <td>4.000000</td>\n",
       "      <td>0.001613</td>\n",
       "      <td>3.635819</td>\n",
       "      <td>-2460.844592</td>\n",
       "    </tr>\n",
       "    <tr>\n",
       "      <th>23</th>\n",
       "      <td>0.002894</td>\n",
       "      <td>0.153476</td>\n",
       "      <td>0.001613</td>\n",
       "      <td>0.172802</td>\n",
       "      <td>-2460.844592</td>\n",
       "    </tr>\n",
       "    <tr>\n",
       "      <th>26</th>\n",
       "      <td>0.002894</td>\n",
       "      <td>1.770335</td>\n",
       "      <td>0.001613</td>\n",
       "      <td>1.673172</td>\n",
       "      <td>-2460.844592</td>\n",
       "    </tr>\n",
       "    <tr>\n",
       "      <th>40</th>\n",
       "      <td>0.008377</td>\n",
       "      <td>1.770335</td>\n",
       "      <td>0.006596</td>\n",
       "      <td>1.745436</td>\n",
       "      <td>-2460.844592</td>\n",
       "    </tr>\n",
       "    <tr>\n",
       "      <th>53</th>\n",
       "      <td>0.024245</td>\n",
       "      <td>4.000000</td>\n",
       "      <td>0.012645</td>\n",
       "      <td>3.422380</td>\n",
       "      <td>-2460.844592</td>\n",
       "    </tr>\n",
       "    <tr>\n",
       "      <th>41</th>\n",
       "      <td>0.008377</td>\n",
       "      <td>4.000000</td>\n",
       "      <td>0.006595</td>\n",
       "      <td>3.995670</td>\n",
       "      <td>-2460.844592</td>\n",
       "    </tr>\n",
       "    <tr>\n",
       "      <th>38</th>\n",
       "      <td>0.008377</td>\n",
       "      <td>0.346774</td>\n",
       "      <td>0.006595</td>\n",
       "      <td>0.355489</td>\n",
       "      <td>-2460.844592</td>\n",
       "    </tr>\n",
       "    <tr>\n",
       "      <th>13</th>\n",
       "      <td>0.001000</td>\n",
       "      <td>4.000000</td>\n",
       "      <td>0.001000</td>\n",
       "      <td>4.000000</td>\n",
       "      <td>-2460.844592</td>\n",
       "    </tr>\n",
       "    <tr>\n",
       "      <th>149</th>\n",
       "      <td>1000.000000</td>\n",
       "      <td>0.005889</td>\n",
       "      <td>536.821850</td>\n",
       "      <td>0.000100</td>\n",
       "      <td>-2466.079549</td>\n",
       "    </tr>\n",
       "    <tr>\n",
       "      <th>138</th>\n",
       "      <td>345.510729</td>\n",
       "      <td>0.002606</td>\n",
       "      <td>553.225162</td>\n",
       "      <td>0.000100</td>\n",
       "      <td>-2466.079743</td>\n",
       "    </tr>\n",
       "    <tr>\n",
       "      <th>137</th>\n",
       "      <td>345.510729</td>\n",
       "      <td>0.001153</td>\n",
       "      <td>612.964514</td>\n",
       "      <td>0.000100</td>\n",
       "      <td>-2466.080284</td>\n",
       "    </tr>\n",
       "    <tr>\n",
       "      <th>150</th>\n",
       "      <td>1000.000000</td>\n",
       "      <td>0.013305</td>\n",
       "      <td>676.235824</td>\n",
       "      <td>0.000100</td>\n",
       "      <td>-2466.080780</td>\n",
       "    </tr>\n",
       "    <tr>\n",
       "      <th>144</th>\n",
       "      <td>1000.000000</td>\n",
       "      <td>0.000100</td>\n",
       "      <td>1000.000000</td>\n",
       "      <td>0.000100</td>\n",
       "      <td>-2466.082292</td>\n",
       "    </tr>\n",
       "    <tr>\n",
       "      <th>0</th>\n",
       "      <td>0.001000</td>\n",
       "      <td>0.000100</td>\n",
       "      <td>0.001000</td>\n",
       "      <td>0.000100</td>\n",
       "      <td>-3729.098844</td>\n",
       "    </tr>\n",
       "    <tr>\n",
       "      <th>154</th>\n",
       "      <td>1000.000000</td>\n",
       "      <td>4.000000</td>\n",
       "      <td>1000.000000</td>\n",
       "      <td>4.000000</td>\n",
       "      <td>-75667.889059</td>\n",
       "    </tr>\n",
       "  </tbody>\n",
       "</table>\n",
       "<p>155 rows × 5 columns</p>\n",
       "</div>"
      ],
      "text/plain": [
       "            nu_0       T_0       nu_opt     T_opt          logL\n",
       "119    41.246264  0.030063     0.004610  0.000100  -2041.093532\n",
       "28      0.008377  0.000100     0.004610  0.000100  -2041.093532\n",
       "59      0.070170  0.005889     0.004610  0.000100  -2041.093532\n",
       "142   345.510729  0.153476     0.004610  0.000100  -2041.093532\n",
       "102     4.923883  0.346774     0.004609  0.000100  -2041.093532\n",
       "141   345.510729  0.067926     0.004609  0.000100  -2041.093532\n",
       "56      0.070170  0.000511     0.004609  0.000100  -2041.093532\n",
       "69      0.203092  0.013305     0.004610  0.000100  -2041.093532\n",
       "44      0.024245  0.000511     0.004610  0.000100  -2041.093533\n",
       "115    41.246264  0.001153     0.004610  0.000100  -2041.093533\n",
       "61      0.070170  0.030063     0.004610  0.000100  -2041.093533\n",
       "131   119.377664  0.153476     0.004610  0.000100  -2041.093533\n",
       "104    14.251027  0.000226     0.004610  0.000100  -2041.093533\n",
       "110    14.251027  0.067926     0.004609  0.000100  -2041.093534\n",
       "118    41.246264  0.013305     0.004610  0.000100  -2041.093534\n",
       "97      4.923883  0.001153     0.004610  0.000100  -2041.093534\n",
       "99      4.923883  0.030063     0.004609  0.000100  -2041.093534\n",
       "54      0.070170  0.000100     0.004610  0.000100  -2041.093534\n",
       "92      1.701254  0.067926     0.004609  0.000100  -2041.093534\n",
       "112    14.251027  0.346774     0.004610  0.000100  -2041.093534\n",
       "152  1000.000000  0.153476     0.004609  0.000100  -2041.093534\n",
       "17      0.002894  0.001153     0.004609  0.000100  -2041.093534\n",
       "75      0.587802  0.000511     0.004610  0.000100  -2041.093534\n",
       "58      0.070170  0.002606     0.004610  0.000100  -2041.093534\n",
       "148  1000.000000  0.002606     0.004609  0.000100  -2041.093534\n",
       "98      4.923883  0.013305     0.004610  0.000100  -2041.093535\n",
       "88      1.701254  0.002606     0.004610  0.000100  -2041.093535\n",
       "128   119.377664  0.013305     0.004610  0.000100  -2041.093535\n",
       "134   345.510729  0.000100     0.004610  0.000100  -2041.093535\n",
       "105    14.251027  0.001153     0.004610  0.000100  -2041.093535\n",
       "..           ...       ...          ...       ...           ...\n",
       "143   345.510729  0.346774     0.010063  0.076195  -2450.294044\n",
       "153  1000.000000  0.346774     0.013429  0.097747  -2450.294044\n",
       "50      0.024245  0.067926     0.014360  0.103546  -2450.294044\n",
       "37      0.008377  0.153476     0.016909  0.119117  -2450.294044\n",
       "51      0.024245  0.153476     0.021212  0.144514  -2450.294044\n",
       "133   119.377664  0.783521     0.112795  0.568500  -2450.294046\n",
       "11      0.001000  0.783521     0.001400  0.780333  -2460.844592\n",
       "62      0.070170  4.000000     0.069338  3.886829  -2460.844592\n",
       "12      0.001000  1.770335     0.001382  1.773695  -2460.844592\n",
       "10      0.001000  0.346774     0.001523  0.306687  -2460.844592\n",
       "52      0.024245  1.770335     0.015246  1.721452  -2460.844592\n",
       "39      0.008377  0.783521     0.006592  0.793155  -2460.844592\n",
       "9       0.001000  0.153476     0.001540  0.148176  -2460.844592\n",
       "25      0.002894  0.783521     0.001613  0.787113  -2460.844592\n",
       "24      0.002894  0.346774     0.001613  0.357781  -2460.844592\n",
       "27      0.002894  4.000000     0.001613  3.635819  -2460.844592\n",
       "23      0.002894  0.153476     0.001613  0.172802  -2460.844592\n",
       "26      0.002894  1.770335     0.001613  1.673172  -2460.844592\n",
       "40      0.008377  1.770335     0.006596  1.745436  -2460.844592\n",
       "53      0.024245  4.000000     0.012645  3.422380  -2460.844592\n",
       "41      0.008377  4.000000     0.006595  3.995670  -2460.844592\n",
       "38      0.008377  0.346774     0.006595  0.355489  -2460.844592\n",
       "13      0.001000  4.000000     0.001000  4.000000  -2460.844592\n",
       "149  1000.000000  0.005889   536.821850  0.000100  -2466.079549\n",
       "138   345.510729  0.002606   553.225162  0.000100  -2466.079743\n",
       "137   345.510729  0.001153   612.964514  0.000100  -2466.080284\n",
       "150  1000.000000  0.013305   676.235824  0.000100  -2466.080780\n",
       "144  1000.000000  0.000100  1000.000000  0.000100  -2466.082292\n",
       "0       0.001000  0.000100     0.001000  0.000100  -3729.098844\n",
       "154  1000.000000  4.000000  1000.000000  4.000000 -75667.889059\n",
       "\n",
       "[155 rows x 5 columns]"
      ]
     },
     "execution_count": 175,
     "metadata": {},
     "output_type": "execute_result"
    }
   ],
   "source": [
    "df.sort_values(by='logL', ascending=False)"
   ]
  },
  {
   "cell_type": "markdown",
   "metadata": {},
   "source": [
    "Dadi wants to infer a very drastic bottleneck in the very recent past. It hits the lower bound on T that I set above. "
   ]
  },
  {
   "cell_type": "code",
   "execution_count": 28,
   "metadata": {
    "collapsed": true
   },
   "outputs": [],
   "source": [
    "%%px\n",
    "\n",
    "# further reduce lower bound on T (on all engines)\n",
    "\n",
    "lower_bound = [1e-4, 1e-6]"
   ]
  },
  {
   "cell_type": "code",
   "execution_count": 29,
   "metadata": {
    "collapsed": false
   },
   "outputs": [
    {
     "data": {
      "text/plain": [
       "[10, 10, 10, 10, 10, 10, 10, 10, 10, 10, 10]"
      ]
     },
     "execution_count": 29,
     "metadata": {},
     "output_type": "execute_result"
    }
   ],
   "source": [
    "# check maxiter setting on engines\n",
    "\n",
    "cl[:]['maxiter']"
   ]
  },
  {
   "cell_type": "code",
   "execution_count": 30,
   "metadata": {
    "collapsed": false
   },
   "outputs": [
    {
     "data": {
      "text/plain": [
       "[[0.0001, 1e-06],\n",
       " [0.0001, 1e-06],\n",
       " [0.0001, 1e-06],\n",
       " [0.0001, 1e-06],\n",
       " [0.0001, 1e-06],\n",
       " [0.0001, 1e-06],\n",
       " [0.0001, 1e-06],\n",
       " [0.0001, 1e-06],\n",
       " [0.0001, 1e-06],\n",
       " [0.0001, 1e-06],\n",
       " [0.0001, 1e-06]]"
      ]
     },
     "execution_count": 30,
     "metadata": {},
     "output_type": "execute_result"
    }
   ],
   "source": [
    "cl[:]['lower_bound']"
   ]
  },
  {
   "cell_type": "code",
   "execution_count": 31,
   "metadata": {
    "collapsed": false
   },
   "outputs": [
    {
     "data": {
      "text/plain": [
       "[<function dadi.Inference.optimize_log_fmin>,\n",
       " <function dadi.Inference.optimize_log_fmin>,\n",
       " <function dadi.Inference.optimize_log_fmin>,\n",
       " <function dadi.Inference.optimize_log_fmin>,\n",
       " <function dadi.Inference.optimize_log_fmin>,\n",
       " <function dadi.Inference.optimize_log_fmin>,\n",
       " <function dadi.Inference.optimize_log_fmin>,\n",
       " <function dadi.Inference.optimize_log_fmin>,\n",
       " <function dadi.Inference.optimize_log_fmin>,\n",
       " <function dadi.Inference.optimize_log_fmin>,\n",
       " <function dadi.Inference.optimize_log_fmin>]"
      ]
     },
     "execution_count": 31,
     "metadata": {},
     "output_type": "execute_result"
    }
   ],
   "source": [
    "cl[:]['dadi_opt_func']"
   ]
  },
  {
   "cell_type": "markdown",
   "metadata": {},
   "source": [
    "Still set to use Nelder-Mead algorithm."
   ]
  },
  {
   "cell_type": "code",
   "execution_count": 32,
   "metadata": {
    "collapsed": false
   },
   "outputs": [
    {
     "data": {
      "text/plain": [
       "Spectrum([-- 7833.03869 7414.699839 4109.279415 3614.717256 3095.973324 2031.460887\n",
       " 1584.656928 2583.652317 1142.075255 1052.346021 1765.773415 1255.138799\n",
       " 1072.516527 1417.916128 395.75047 1947.087637 367.072082 966.622924 -- --\n",
       " -- -- -- -- -- -- -- -- -- -- -- -- -- -- -- --], folded=True, pop_ids=['ery'])"
      ]
     },
     "execution_count": 32,
     "metadata": {},
     "output_type": "execute_result"
    }
   ],
   "source": [
    "cl[0]['sfs']"
   ]
  },
  {
   "cell_type": "code",
   "execution_count": 184,
   "metadata": {
    "collapsed": true
   },
   "outputs": [],
   "source": [
    "# rerun optimisation from above with reduced lower bound for T\n",
    "\n",
    "#ar_ery = lbview.map(run_dadi, product(p0_nu, p0_T), block=False, order=True)"
   ]
  },
  {
   "cell_type": "code",
   "execution_count": 185,
   "metadata": {
    "collapsed": false
   },
   "outputs": [
    {
     "data": {
      "text/plain": [
       "196"
      ]
     },
     "execution_count": 185,
     "metadata": {},
     "output_type": "execute_result"
    }
   ],
   "source": [
    "ar_ery.progress"
   ]
  },
  {
   "cell_type": "code",
   "execution_count": 192,
   "metadata": {
    "collapsed": false
   },
   "outputs": [
    {
     "data": {
      "text/plain": [
       "62.39776715"
      ]
     },
     "execution_count": 192,
     "metadata": {},
     "output_type": "execute_result"
    }
   ],
   "source": [
    "ar_ery.wall_time/60"
   ]
  },
  {
   "cell_type": "markdown",
   "metadata": {},
   "source": [
    "It took more than 1 hour to run this on 11 cores!"
   ]
  },
  {
   "cell_type": "code",
   "execution_count": 32,
   "metadata": {
    "collapsed": true
   },
   "outputs": [],
   "source": [
    "import dill"
   ]
  },
  {
   "cell_type": "code",
   "execution_count": 207,
   "metadata": {
    "collapsed": false
   },
   "outputs": [],
   "source": [
    "# save optimsiation results to file\n",
    "with open(\"1D_two_epoch_opt_res_ERY.dill\", \"w\") as fh:\n",
    "    dill.dump(list(ar_ery.get()), fh) # unfortunately, dill cannot save the ar_ery object"
   ]
  },
  {
   "cell_type": "code",
   "execution_count": 189,
   "metadata": {
    "collapsed": false
   },
   "outputs": [
    {
     "name": "stdout",
     "output_type": "stream",
     "text": [
      "success 145\n",
      "Maximum number of function evaluations made. 0\n",
      "Maximum number of iterations reached. 51\n",
      "unknown flag 0\n"
     ]
    }
   ],
   "source": [
    "get_flag_count(ar_ery)"
   ]
  },
  {
   "cell_type": "markdown",
   "metadata": {},
   "source": [
    "The optimisations starting from 51 initial parameter combinations did not converge before the maximum number of iterations (100) was reached."
   ]
  },
  {
   "cell_type": "code",
   "execution_count": null,
   "metadata": {
    "collapsed": true
   },
   "outputs": [],
   "source": [
    "# get log likelihood values for all parameters returned\n",
    "ll = get_ll.map([p[0] for p in ar_ery])"
   ]
  },
  {
   "cell_type": "code",
   "execution_count": null,
   "metadata": {
    "collapsed": true
   },
   "outputs": [],
   "source": [
    "# create rows for dataframe\n",
    "rows = [(p0[0], p0[1], xopt[0][0], xopt[0][1], logL) for p0, xopt, logL in izip(product(p0_nu, p0_T), ar_ery, ll) if xopt[4] == 0]"
   ]
  },
  {
   "cell_type": "code",
   "execution_count": null,
   "metadata": {
    "collapsed": true
   },
   "outputs": [],
   "source": [
    "# create dataframe\n",
    "df = pd.DataFrame(data=rows, columns=['nu_0', 'T_0', 'nu_opt', 'T_opt', 'logL'])"
   ]
  },
  {
   "cell_type": "code",
   "execution_count": 198,
   "metadata": {
    "collapsed": false
   },
   "outputs": [
    {
     "data": {
      "text/html": [
       "<div>\n",
       "<table border=\"1\" class=\"dataframe\">\n",
       "  <thead>\n",
       "    <tr style=\"text-align: right;\">\n",
       "      <th></th>\n",
       "      <th>nu_0</th>\n",
       "      <th>T_0</th>\n",
       "      <th>nu_opt</th>\n",
       "      <th>T_opt</th>\n",
       "      <th>logL</th>\n",
       "    </tr>\n",
       "  </thead>\n",
       "  <tbody>\n",
       "    <tr>\n",
       "      <th>81</th>\n",
       "      <td>0.587802</td>\n",
       "      <td>0.153476</td>\n",
       "      <td>0.0001</td>\n",
       "      <td>0.000002</td>\n",
       "      <td>-2040.492673</td>\n",
       "    </tr>\n",
       "    <tr>\n",
       "      <th>86</th>\n",
       "      <td>1.701254</td>\n",
       "      <td>0.013305</td>\n",
       "      <td>0.0001</td>\n",
       "      <td>0.000002</td>\n",
       "      <td>-2040.492673</td>\n",
       "    </tr>\n",
       "    <tr>\n",
       "      <th>102</th>\n",
       "      <td>14.251027</td>\n",
       "      <td>0.000226</td>\n",
       "      <td>0.0001</td>\n",
       "      <td>0.000002</td>\n",
       "      <td>-2040.492673</td>\n",
       "    </tr>\n",
       "    <tr>\n",
       "      <th>95</th>\n",
       "      <td>4.923883</td>\n",
       "      <td>0.005889</td>\n",
       "      <td>0.0001</td>\n",
       "      <td>0.000002</td>\n",
       "      <td>-2040.492673</td>\n",
       "    </tr>\n",
       "    <tr>\n",
       "      <th>123</th>\n",
       "      <td>119.377664</td>\n",
       "      <td>0.005889</td>\n",
       "      <td>0.0001</td>\n",
       "      <td>0.000002</td>\n",
       "      <td>-2040.492673</td>\n",
       "    </tr>\n",
       "    <tr>\n",
       "      <th>58</th>\n",
       "      <td>0.070170</td>\n",
       "      <td>0.005889</td>\n",
       "      <td>0.0001</td>\n",
       "      <td>0.000002</td>\n",
       "      <td>-2040.492673</td>\n",
       "    </tr>\n",
       "    <tr>\n",
       "      <th>16</th>\n",
       "      <td>0.002894</td>\n",
       "      <td>0.000511</td>\n",
       "      <td>0.0001</td>\n",
       "      <td>0.000002</td>\n",
       "      <td>-2040.492673</td>\n",
       "    </tr>\n",
       "    <tr>\n",
       "      <th>76</th>\n",
       "      <td>0.587802</td>\n",
       "      <td>0.002606</td>\n",
       "      <td>0.0001</td>\n",
       "      <td>0.000002</td>\n",
       "      <td>-2040.492673</td>\n",
       "    </tr>\n",
       "    <tr>\n",
       "      <th>66</th>\n",
       "      <td>0.203092</td>\n",
       "      <td>0.002606</td>\n",
       "      <td>0.0001</td>\n",
       "      <td>0.000002</td>\n",
       "      <td>-2040.492673</td>\n",
       "    </tr>\n",
       "    <tr>\n",
       "      <th>132</th>\n",
       "      <td>345.510729</td>\n",
       "      <td>0.030063</td>\n",
       "      <td>0.0001</td>\n",
       "      <td>0.000002</td>\n",
       "      <td>-2040.492673</td>\n",
       "    </tr>\n",
       "    <tr>\n",
       "      <th>91</th>\n",
       "      <td>4.923883</td>\n",
       "      <td>0.000226</td>\n",
       "      <td>0.0001</td>\n",
       "      <td>0.000002</td>\n",
       "      <td>-2040.492673</td>\n",
       "    </tr>\n",
       "    <tr>\n",
       "      <th>18</th>\n",
       "      <td>0.002894</td>\n",
       "      <td>0.002606</td>\n",
       "      <td>0.0001</td>\n",
       "      <td>0.000002</td>\n",
       "      <td>-2040.492673</td>\n",
       "    </tr>\n",
       "    <tr>\n",
       "      <th>28</th>\n",
       "      <td>0.008377</td>\n",
       "      <td>0.000100</td>\n",
       "      <td>0.0001</td>\n",
       "      <td>0.000002</td>\n",
       "      <td>-2040.492673</td>\n",
       "    </tr>\n",
       "    <tr>\n",
       "      <th>113</th>\n",
       "      <td>41.246264</td>\n",
       "      <td>0.000511</td>\n",
       "      <td>0.0001</td>\n",
       "      <td>0.000002</td>\n",
       "      <td>-2040.492673</td>\n",
       "    </tr>\n",
       "    <tr>\n",
       "      <th>82</th>\n",
       "      <td>0.587802</td>\n",
       "      <td>0.346774</td>\n",
       "      <td>0.0001</td>\n",
       "      <td>0.000002</td>\n",
       "      <td>-2040.492673</td>\n",
       "    </tr>\n",
       "    <tr>\n",
       "      <th>57</th>\n",
       "      <td>0.070170</td>\n",
       "      <td>0.002606</td>\n",
       "      <td>0.0001</td>\n",
       "      <td>0.000002</td>\n",
       "      <td>-2040.492673</td>\n",
       "    </tr>\n",
       "    <tr>\n",
       "      <th>69</th>\n",
       "      <td>0.203092</td>\n",
       "      <td>0.030063</td>\n",
       "      <td>0.0001</td>\n",
       "      <td>0.000002</td>\n",
       "      <td>-2040.492673</td>\n",
       "    </tr>\n",
       "    <tr>\n",
       "      <th>94</th>\n",
       "      <td>4.923883</td>\n",
       "      <td>0.002606</td>\n",
       "      <td>0.0001</td>\n",
       "      <td>0.000002</td>\n",
       "      <td>-2040.492673</td>\n",
       "    </tr>\n",
       "    <tr>\n",
       "      <th>104</th>\n",
       "      <td>14.251027</td>\n",
       "      <td>0.001153</td>\n",
       "      <td>0.0001</td>\n",
       "      <td>0.000002</td>\n",
       "      <td>-2040.492673</td>\n",
       "    </tr>\n",
       "    <tr>\n",
       "      <th>78</th>\n",
       "      <td>0.587802</td>\n",
       "      <td>0.013305</td>\n",
       "      <td>0.0001</td>\n",
       "      <td>0.000002</td>\n",
       "      <td>-2040.492673</td>\n",
       "    </tr>\n",
       "    <tr>\n",
       "      <th>67</th>\n",
       "      <td>0.203092</td>\n",
       "      <td>0.005889</td>\n",
       "      <td>0.0001</td>\n",
       "      <td>0.000002</td>\n",
       "      <td>-2040.492673</td>\n",
       "    </tr>\n",
       "    <tr>\n",
       "      <th>87</th>\n",
       "      <td>1.701254</td>\n",
       "      <td>0.030063</td>\n",
       "      <td>0.0001</td>\n",
       "      <td>0.000002</td>\n",
       "      <td>-2040.492673</td>\n",
       "    </tr>\n",
       "    <tr>\n",
       "      <th>97</th>\n",
       "      <td>4.923883</td>\n",
       "      <td>0.030063</td>\n",
       "      <td>0.0001</td>\n",
       "      <td>0.000002</td>\n",
       "      <td>-2040.492673</td>\n",
       "    </tr>\n",
       "    <tr>\n",
       "      <th>115</th>\n",
       "      <td>41.246264</td>\n",
       "      <td>0.002606</td>\n",
       "      <td>0.0001</td>\n",
       "      <td>0.000002</td>\n",
       "      <td>-2040.492673</td>\n",
       "    </tr>\n",
       "    <tr>\n",
       "      <th>92</th>\n",
       "      <td>4.923883</td>\n",
       "      <td>0.000511</td>\n",
       "      <td>0.0001</td>\n",
       "      <td>0.000002</td>\n",
       "      <td>-2040.492673</td>\n",
       "    </tr>\n",
       "    <tr>\n",
       "      <th>108</th>\n",
       "      <td>14.251027</td>\n",
       "      <td>0.030063</td>\n",
       "      <td>0.0001</td>\n",
       "      <td>0.000002</td>\n",
       "      <td>-2040.492673</td>\n",
       "    </tr>\n",
       "    <tr>\n",
       "      <th>84</th>\n",
       "      <td>1.701254</td>\n",
       "      <td>0.000226</td>\n",
       "      <td>0.0001</td>\n",
       "      <td>0.000002</td>\n",
       "      <td>-2040.492674</td>\n",
       "    </tr>\n",
       "    <tr>\n",
       "      <th>111</th>\n",
       "      <td>14.251027</td>\n",
       "      <td>0.346774</td>\n",
       "      <td>0.0001</td>\n",
       "      <td>0.000002</td>\n",
       "      <td>-2040.492674</td>\n",
       "    </tr>\n",
       "    <tr>\n",
       "      <th>45</th>\n",
       "      <td>0.024245</td>\n",
       "      <td>0.002606</td>\n",
       "      <td>0.0001</td>\n",
       "      <td>0.000002</td>\n",
       "      <td>-2040.492674</td>\n",
       "    </tr>\n",
       "    <tr>\n",
       "      <th>125</th>\n",
       "      <td>119.377664</td>\n",
       "      <td>0.030063</td>\n",
       "      <td>0.0001</td>\n",
       "      <td>0.000002</td>\n",
       "      <td>-2040.492674</td>\n",
       "    </tr>\n",
       "    <tr>\n",
       "      <th>109</th>\n",
       "      <td>14.251027</td>\n",
       "      <td>0.067926</td>\n",
       "      <td>0.0001</td>\n",
       "      <td>0.000002</td>\n",
       "      <td>-2040.492674</td>\n",
       "    </tr>\n",
       "    <tr>\n",
       "      <th>71</th>\n",
       "      <td>0.203092</td>\n",
       "      <td>0.153476</td>\n",
       "      <td>0.0001</td>\n",
       "      <td>0.000002</td>\n",
       "      <td>-2040.492674</td>\n",
       "    </tr>\n",
       "    <tr>\n",
       "      <th>44</th>\n",
       "      <td>0.024245</td>\n",
       "      <td>0.001153</td>\n",
       "      <td>0.0001</td>\n",
       "      <td>0.000002</td>\n",
       "      <td>-2040.492674</td>\n",
       "    </tr>\n",
       "    <tr>\n",
       "      <th>142</th>\n",
       "      <td>1000.000000</td>\n",
       "      <td>0.067926</td>\n",
       "      <td>0.0001</td>\n",
       "      <td>0.000002</td>\n",
       "      <td>-2040.492674</td>\n",
       "    </tr>\n",
       "    <tr>\n",
       "      <th>79</th>\n",
       "      <td>0.587802</td>\n",
       "      <td>0.030063</td>\n",
       "      <td>0.0001</td>\n",
       "      <td>0.000002</td>\n",
       "      <td>-2040.492674</td>\n",
       "    </tr>\n",
       "    <tr>\n",
       "      <th>77</th>\n",
       "      <td>0.587802</td>\n",
       "      <td>0.005889</td>\n",
       "      <td>0.0001</td>\n",
       "      <td>0.000002</td>\n",
       "      <td>-2040.492674</td>\n",
       "    </tr>\n",
       "    <tr>\n",
       "      <th>103</th>\n",
       "      <td>14.251027</td>\n",
       "      <td>0.000511</td>\n",
       "      <td>0.0001</td>\n",
       "      <td>0.000002</td>\n",
       "      <td>-2040.492674</td>\n",
       "    </tr>\n",
       "    <tr>\n",
       "      <th>100</th>\n",
       "      <td>4.923883</td>\n",
       "      <td>0.346774</td>\n",
       "      <td>0.0001</td>\n",
       "      <td>0.000002</td>\n",
       "      <td>-2040.492674</td>\n",
       "    </tr>\n",
       "    <tr>\n",
       "      <th>59</th>\n",
       "      <td>0.070170</td>\n",
       "      <td>0.013305</td>\n",
       "      <td>0.0001</td>\n",
       "      <td>0.000002</td>\n",
       "      <td>-2040.492674</td>\n",
       "    </tr>\n",
       "    <tr>\n",
       "      <th>114</th>\n",
       "      <td>41.246264</td>\n",
       "      <td>0.001153</td>\n",
       "      <td>0.0001</td>\n",
       "      <td>0.000002</td>\n",
       "      <td>-2040.492674</td>\n",
       "    </tr>\n",
       "  </tbody>\n",
       "</table>\n",
       "</div>"
      ],
      "text/plain": [
       "            nu_0       T_0  nu_opt     T_opt         logL\n",
       "81      0.587802  0.153476  0.0001  0.000002 -2040.492673\n",
       "86      1.701254  0.013305  0.0001  0.000002 -2040.492673\n",
       "102    14.251027  0.000226  0.0001  0.000002 -2040.492673\n",
       "95      4.923883  0.005889  0.0001  0.000002 -2040.492673\n",
       "123   119.377664  0.005889  0.0001  0.000002 -2040.492673\n",
       "58      0.070170  0.005889  0.0001  0.000002 -2040.492673\n",
       "16      0.002894  0.000511  0.0001  0.000002 -2040.492673\n",
       "76      0.587802  0.002606  0.0001  0.000002 -2040.492673\n",
       "66      0.203092  0.002606  0.0001  0.000002 -2040.492673\n",
       "132   345.510729  0.030063  0.0001  0.000002 -2040.492673\n",
       "91      4.923883  0.000226  0.0001  0.000002 -2040.492673\n",
       "18      0.002894  0.002606  0.0001  0.000002 -2040.492673\n",
       "28      0.008377  0.000100  0.0001  0.000002 -2040.492673\n",
       "113    41.246264  0.000511  0.0001  0.000002 -2040.492673\n",
       "82      0.587802  0.346774  0.0001  0.000002 -2040.492673\n",
       "57      0.070170  0.002606  0.0001  0.000002 -2040.492673\n",
       "69      0.203092  0.030063  0.0001  0.000002 -2040.492673\n",
       "94      4.923883  0.002606  0.0001  0.000002 -2040.492673\n",
       "104    14.251027  0.001153  0.0001  0.000002 -2040.492673\n",
       "78      0.587802  0.013305  0.0001  0.000002 -2040.492673\n",
       "67      0.203092  0.005889  0.0001  0.000002 -2040.492673\n",
       "87      1.701254  0.030063  0.0001  0.000002 -2040.492673\n",
       "97      4.923883  0.030063  0.0001  0.000002 -2040.492673\n",
       "115    41.246264  0.002606  0.0001  0.000002 -2040.492673\n",
       "92      4.923883  0.000511  0.0001  0.000002 -2040.492673\n",
       "108    14.251027  0.030063  0.0001  0.000002 -2040.492673\n",
       "84      1.701254  0.000226  0.0001  0.000002 -2040.492674\n",
       "111    14.251027  0.346774  0.0001  0.000002 -2040.492674\n",
       "45      0.024245  0.002606  0.0001  0.000002 -2040.492674\n",
       "125   119.377664  0.030063  0.0001  0.000002 -2040.492674\n",
       "109    14.251027  0.067926  0.0001  0.000002 -2040.492674\n",
       "71      0.203092  0.153476  0.0001  0.000002 -2040.492674\n",
       "44      0.024245  0.001153  0.0001  0.000002 -2040.492674\n",
       "142  1000.000000  0.067926  0.0001  0.000002 -2040.492674\n",
       "79      0.587802  0.030063  0.0001  0.000002 -2040.492674\n",
       "77      0.587802  0.005889  0.0001  0.000002 -2040.492674\n",
       "103    14.251027  0.000511  0.0001  0.000002 -2040.492674\n",
       "100     4.923883  0.346774  0.0001  0.000002 -2040.492674\n",
       "59      0.070170  0.013305  0.0001  0.000002 -2040.492674\n",
       "114    41.246264  0.001153  0.0001  0.000002 -2040.492674"
      ]
     },
     "execution_count": 198,
     "metadata": {},
     "output_type": "execute_result"
    }
   ],
   "source": [
    "# look and see\n",
    "df.sort_values(by='logL', ascending=False).head(40)"
   ]
  },
  {
   "cell_type": "code",
   "execution_count": 199,
   "metadata": {
    "collapsed": false
   },
   "outputs": [
    {
     "data": {
      "text/plain": [
       "[0.0001, 1e-06]"
      ]
     },
     "execution_count": 199,
     "metadata": {},
     "output_type": "execute_result"
    }
   ],
   "source": [
    "cl[0]['lower_bound']"
   ]
  },
  {
   "cell_type": "markdown",
   "metadata": {},
   "source": [
    "The optimisations with the highest likelihood are hitting the lower bound of parameter values that I've set. The time parameter $T$ that dadi infers with the highest likelihood is too low to make sense. It needs to be multiplied by $2N_{ref}$ to get the time in generations. With any reasonable effective ancient population size, this implies a very recent event. The event is inferred to be a very strong bottleneck. I don't think that these values can possibly make any sense. "
   ]
  },
  {
   "cell_type": "markdown",
   "metadata": {},
   "source": [
    "# residiual plots"
   ]
  },
  {
   "cell_type": "code",
   "execution_count": 222,
   "metadata": {
    "collapsed": false
   },
   "outputs": [
    {
     "data": {
      "text/plain": [
       "array([  1.00010340e-04,   2.16061780e-06])"
      ]
     },
     "execution_count": 222,
     "metadata": {},
     "output_type": "execute_result"
    }
   ],
   "source": [
    "p_opt = np.array( df.iloc[0, 2:4] )\n",
    "p_opt"
   ]
  },
  {
   "cell_type": "code",
   "execution_count": 223,
   "metadata": {
    "collapsed": false
   },
   "outputs": [
    {
     "data": {
      "text/plain": [
       "Spectrum([-- 0.7545818109466478 0.4887066151704145 0.3548213941036278\n",
       " 0.2788035583144265 0.23136799503938965 0.1995615141413847\n",
       " 0.17706123031893858 0.1605073185422468 0.14798161545738503\n",
       " 0.13832185896991653 0.13078894635825167 0.12489466723234886\n",
       " 0.12030736601629187 0.11679777589049832 0.11420672212630598\n",
       " 0.1124253640623551 0.11138301857255054 0.055519929554490866 -- -- -- -- --\n",
       " -- -- -- -- -- -- -- -- -- -- -- -- --], folded=True, pop_ids=None)"
      ]
     },
     "execution_count": 223,
     "metadata": {},
     "output_type": "execute_result"
    }
   ],
   "source": [
    "# calculate the best-fit model SFS given the paramter combination with the highest likelihood\n",
    "expected_sfs = func_ex(p_opt, ns, pts_l)\n",
    "expected_sfs.fold()"
   ]
  },
  {
   "cell_type": "code",
   "execution_count": 226,
   "metadata": {
    "collapsed": false
   },
   "outputs": [
    {
     "name": "stdout",
     "output_type": "stream",
     "text": [
      "[  1.00010340e-04   2.16061780e-06]\n"
     ]
    },
    {
     "data": {
      "image/png": "[encoded data removed]",
      "text/plain": [
       "<matplotlib.figure.Figure at 0x7f7d1dcae890>"
      ]
     },
     "metadata": {},
     "output_type": "display_data"
    }
   ],
   "source": [
    "import matplotlib.pyplot as plt\n",
    "\n",
    "%matplotlib inline\n",
    "\n",
    "plt.rcParams['figure.figsize'] = [12.0, 10.0]\n",
    "print(p_opt)\n",
    "dadi.Plotting.plot_1d_comp_multinom(expected_sfs.fold()[:19], fs_ery[:19], residual='linear')"
   ]
  },
  {
   "cell_type": "markdown",
   "metadata": {},
   "source": [
    "Does this model provide a better fit than a standard neutral model?"
   ]
  },
  {
   "cell_type": "code",
   "execution_count": 227,
   "metadata": {
    "collapsed": true
   },
   "outputs": [],
   "source": [
    "# create link to function that specifies a standard neutral model\n",
    "snm = dadi.Demographics1D.snm\n",
    "# make extrapolating function\n",
    "snm_ex = dadi.Numerics.make_extrap_log_func(snm)"
   ]
  },
  {
   "cell_type": "code",
   "execution_count": 228,
   "metadata": {
    "collapsed": true
   },
   "outputs": [],
   "source": [
    "?snm"
   ]
  },
  {
   "cell_type": "code",
   "execution_count": 238,
   "metadata": {
    "collapsed": false
   },
   "outputs": [
    {
     "data": {
      "text/plain": [
       "-2460.8445858070236"
      ]
     },
     "execution_count": 238,
     "metadata": {},
     "output_type": "execute_result"
    }
   ],
   "source": [
    "# calculate the best-fit model SFS given paramter combination\n",
    "expected_sfs = snm_ex(0, ns, pts_l)\n",
    "# calculate the log likelihood of the expected SFS given the observed SFS\n",
    "# no need to fold the model, is done automatically if data is folded\n",
    "dadi.Inference.ll_multinom(expected_sfs, fs_ery)"
   ]
  },
  {
   "cell_type": "code",
   "execution_count": 239,
   "metadata": {
    "collapsed": false
   },
   "outputs": [
    {
     "data": {
      "text/plain": [
       "-2040.4926752518243"
      ]
     },
     "execution_count": 239,
     "metadata": {},
     "output_type": "execute_result"
    }
   ],
   "source": [
    "# calculate the best-fit model SFS given paramter combination\n",
    "expected_sfs = func_ex(p_opt, ns, pts_l)\n",
    "# calculate the log likelihood of the expected SFS given the observed SFS\n",
    "# no need to fold the model, is done automatically if data is folded\n",
    "dadi.Inference.ll_multinom(expected_sfs, fs_ery)"
   ]
  },
  {
   "cell_type": "markdown",
   "metadata": {},
   "source": [
    "Compared to a standard neutral model, the two epoch model with the best fitting parameter values does provide a much better fit to the data spectrum. However, it also requires two (instead of zero) parameters and the inferred parameter values cannot be trusted since they are hitting the boundary of sensible values."
   ]
  },
  {
   "cell_type": "code",
   "execution_count": 193,
   "metadata": {
    "collapsed": true
   },
   "outputs": [],
   "source": [
    "%%px\n",
    "\n",
    "dadi_opt_func = dadi.Inference.optimize_log # BFGS"
   ]
  },
  {
   "cell_type": "code",
   "execution_count": 195,
   "metadata": {
    "collapsed": false
   },
   "outputs": [],
   "source": [
    "ar_ery_BFGS = lbview.map(run_dadi, product(p0_nu, p0_T), block=False, order=True)"
   ]
  },
  {
   "cell_type": "code",
   "execution_count": 200,
   "metadata": {
    "collapsed": false
   },
   "outputs": [
    {
     "data": {
      "text/plain": [
       "196"
      ]
     },
     "execution_count": 200,
     "metadata": {},
     "output_type": "execute_result"
    }
   ],
   "source": [
    "ar_ery_BFGS.progress"
   ]
  },
  {
   "cell_type": "code",
   "execution_count": 203,
   "metadata": {
    "collapsed": false
   },
   "outputs": [
    {
     "name": "stdout",
     "output_type": "stream",
     "text": [
      "success 27\n",
      "Maximum number of iterations exceeded. 0\n",
      "Gradient and/or function calls not changing. 169\n",
      "unknown flag 0\n"
     ]
    }
   ],
   "source": [
    "get_flag_count(ar_ery_BFGS, NM=False)"
   ]
  },
  {
   "cell_type": "markdown",
   "metadata": {},
   "source": [
    "Clearly, the BFGS algorithm cannot be used for this problem. It is not limited by the maximum number of iterations, but by the lack of a gradient in the likelihood function."
   ]
  },
  {
   "cell_type": "markdown",
   "metadata": {},
   "source": [
    "# PAR"
   ]
  },
  {
   "cell_type": "code",
   "execution_count": 209,
   "metadata": {
    "collapsed": true
   },
   "outputs": [],
   "source": [
    "%%px\n",
    "\n",
    "# set up global variables on engines requires for run_dadi function call\n",
    "\n",
    "dadi_opt_func = dadi.Inference.optimize_log # BFGS\n",
    "sfs = fs_par # use spectrum from PAR in optimisation\n",
    "perturb = False\n",
    "fold = 1\n",
    "maxiter = 10 # keep it low for now\n",
    "verbose = 0\n",
    "full_output = True"
   ]
  },
  {
   "cell_type": "code",
   "execution_count": 208,
   "metadata": {
    "collapsed": true
   },
   "outputs": [],
   "source": [
    "# create range of starting values for nu and T, evenly distributed in log space\n",
    "p0_nu = np.logspace(-3, 3, base=10.0, num=10)\n",
    "p0_T = np.logspace(-4, np.log10(4), base=10, num=10)"
   ]
  },
  {
   "cell_type": "code",
   "execution_count": 210,
   "metadata": {
    "collapsed": true
   },
   "outputs": [],
   "source": [
    "ar_par_BFGS = lbview.map(run_dadi, product(p0_nu, p0_T), block=False, order=True)"
   ]
  },
  {
   "cell_type": "code",
   "execution_count": 213,
   "metadata": {
    "collapsed": false
   },
   "outputs": [
    {
     "data": {
      "text/plain": [
       "100"
      ]
     },
     "execution_count": 213,
     "metadata": {},
     "output_type": "execute_result"
    }
   ],
   "source": [
    "ar_par_BFGS.progress"
   ]
  },
  {
   "cell_type": "code",
   "execution_count": 214,
   "metadata": {
    "collapsed": false
   },
   "outputs": [
    {
     "name": "stdout",
     "output_type": "stream",
     "text": [
      "success 14\n",
      "Maximum number of iterations exceeded. 19\n",
      "Gradient and/or function calls not changing. 67\n",
      "unknown flag 0\n"
     ]
    }
   ],
   "source": [
    "get_flag_count(ar_par_BFGS, NM=False)"
   ]
  },
  {
   "cell_type": "markdown",
   "metadata": {},
   "source": [
    "Again, the BFGS algorithm cannot be used. The majority of initial parameter combinations don't converge because of a lack of gradient in the likelihood surface."
   ]
  },
  {
   "cell_type": "code",
   "execution_count": 215,
   "metadata": {
    "collapsed": true
   },
   "outputs": [],
   "source": [
    "%%px\n",
    "\n",
    "dadi_opt_func = dadi.Inference.optimize_log_fmin # Nelder-Mead\n",
    "maxiter = 100 # provide plenty of iterations"
   ]
  },
  {
   "cell_type": "code",
   "execution_count": 216,
   "metadata": {
    "collapsed": true
   },
   "outputs": [],
   "source": [
    "ar_par_NM = lbview.map(run_dadi, product(p0_nu, p0_T), block=False, order=True)"
   ]
  },
  {
   "cell_type": "code",
   "execution_count": 240,
   "metadata": {
    "collapsed": false
   },
   "outputs": [
    {
     "data": {
      "text/plain": [
       "100"
      ]
     },
     "execution_count": 240,
     "metadata": {},
     "output_type": "execute_result"
    }
   ],
   "source": [
    "ar_par_NM.progress"
   ]
  },
  {
   "cell_type": "code",
   "execution_count": 241,
   "metadata": {
    "collapsed": false
   },
   "outputs": [
    {
     "data": {
      "text/plain": [
       "40.8876008"
      ]
     },
     "execution_count": 241,
     "metadata": {},
     "output_type": "execute_result"
    }
   ],
   "source": [
    "ar_par_NM.elapsed/60"
   ]
  },
  {
   "cell_type": "markdown",
   "metadata": {},
   "source": [
    "This took 40 minutes to complete. Most of the time running on one parameter combination. "
   ]
  },
  {
   "cell_type": "code",
   "execution_count": 242,
   "metadata": {
    "collapsed": false
   },
   "outputs": [
    {
     "name": "stdout",
     "output_type": "stream",
     "text": [
      "success 98\n",
      "Maximum number of function evaluations made. 0\n",
      "Maximum number of iterations reached. 2\n",
      "unknown flag 0\n"
     ]
    }
   ],
   "source": [
    "get_flag_count(ar_par_NM, NM=True)"
   ]
  },
  {
   "cell_type": "code",
   "execution_count": 244,
   "metadata": {
    "collapsed": false
   },
   "outputs": [],
   "source": [
    "with open(\"1D_two_epoch_opt_res_PAR.dill\", \"w\") as fh:\n",
    "    dill.dump(list(ar_par_NM.get()), fh)"
   ]
  },
  {
   "cell_type": "markdown",
   "metadata": {},
   "source": [
    "Which initial parameter combination did not converge, i. e. for which did the maximum number of iterations (100) not suffice? These are also likely to be the ones that have run so long."
   ]
  },
  {
   "cell_type": "code",
   "execution_count": 248,
   "metadata": {
    "collapsed": false
   },
   "outputs": [
    {
     "name": "stdout",
     "output_type": "stream",
     "text": [
      "(2.154434690031882, 0.0034199518933533931)\n",
      "(1000.0, 0.011100946155696227)\n"
     ]
    }
   ],
   "source": [
    "for p0, xopt in izip(product(p0_nu, p0_T), ar_par_NM):\n",
    "    if xopt[4] == 2:\n",
    "        print p0"
   ]
  },
  {
   "cell_type": "code",
   "execution_count": null,
   "metadata": {
    "collapsed": true
   },
   "outputs": [],
   "source": [
    "# get log likelihood values for all parameters returned\n",
    "ll = get_ll.map([p[0] for p in ar_par_NM])"
   ]
  },
  {
   "cell_type": "code",
   "execution_count": 249,
   "metadata": {
    "collapsed": false
   },
   "outputs": [],
   "source": [
    "# create rows for dataframe\n",
    "rows = [(p0[0], p0[1], xopt[0][0], xopt[0][1], logL) for p0, xopt, logL in izip(product(p0_nu, p0_T), ar_par_NM, ll) if xopt[4] == 0]"
   ]
  },
  {
   "cell_type": "code",
   "execution_count": 251,
   "metadata": {
    "collapsed": false
   },
   "outputs": [],
   "source": [
    "df = pd.DataFrame(data=rows, columns=['nu_0', 'T_0', 'nu_opt', 'T_opt', 'logL'])"
   ]
  },
  {
   "cell_type": "code",
   "execution_count": 252,
   "metadata": {
    "collapsed": false
   },
   "outputs": [
    {
     "data": {
      "text/html": [
       "<div>\n",
       "<table border=\"1\" class=\"dataframe\">\n",
       "  <thead>\n",
       "    <tr style=\"text-align: right;\">\n",
       "      <th></th>\n",
       "      <th>nu_0</th>\n",
       "      <th>T_0</th>\n",
       "      <th>nu_opt</th>\n",
       "      <th>T_opt</th>\n",
       "      <th>logL</th>\n",
       "    </tr>\n",
       "  </thead>\n",
       "  <tbody>\n",
       "    <tr>\n",
       "      <th>78</th>\n",
       "      <td>46.415888</td>\n",
       "      <td>4.000000</td>\n",
       "      <td>5.541314</td>\n",
       "      <td>4.000000</td>\n",
       "      <td>-8435.706819</td>\n",
       "    </tr>\n",
       "    <tr>\n",
       "      <th>68</th>\n",
       "      <td>10.000000</td>\n",
       "      <td>4.000000</td>\n",
       "      <td>5.541188</td>\n",
       "      <td>3.999998</td>\n",
       "      <td>-8435.706834</td>\n",
       "    </tr>\n",
       "    <tr>\n",
       "      <th>55</th>\n",
       "      <td>2.154435</td>\n",
       "      <td>0.116961</td>\n",
       "      <td>5.541445</td>\n",
       "      <td>3.999994</td>\n",
       "      <td>-8435.706838</td>\n",
       "    </tr>\n",
       "    <tr>\n",
       "      <th>66</th>\n",
       "      <td>10.000000</td>\n",
       "      <td>0.379647</td>\n",
       "      <td>5.542152</td>\n",
       "      <td>3.999999</td>\n",
       "      <td>-8435.706844</td>\n",
       "    </tr>\n",
       "    <tr>\n",
       "      <th>88</th>\n",
       "      <td>215.443469</td>\n",
       "      <td>4.000000</td>\n",
       "      <td>5.541140</td>\n",
       "      <td>3.999994</td>\n",
       "      <td>-8435.706852</td>\n",
       "    </tr>\n",
       "    <tr>\n",
       "      <th>86</th>\n",
       "      <td>215.443469</td>\n",
       "      <td>0.379647</td>\n",
       "      <td>5.541279</td>\n",
       "      <td>3.999991</td>\n",
       "      <td>-8435.706857</td>\n",
       "    </tr>\n",
       "    <tr>\n",
       "      <th>57</th>\n",
       "      <td>2.154435</td>\n",
       "      <td>1.232310</td>\n",
       "      <td>5.541516</td>\n",
       "      <td>3.999990</td>\n",
       "      <td>-8435.706858</td>\n",
       "    </tr>\n",
       "    <tr>\n",
       "      <th>87</th>\n",
       "      <td>215.443469</td>\n",
       "      <td>1.232310</td>\n",
       "      <td>5.541448</td>\n",
       "      <td>3.999988</td>\n",
       "      <td>-8435.706864</td>\n",
       "    </tr>\n",
       "    <tr>\n",
       "      <th>77</th>\n",
       "      <td>46.415888</td>\n",
       "      <td>1.232310</td>\n",
       "      <td>5.540994</td>\n",
       "      <td>3.999992</td>\n",
       "      <td>-8435.706878</td>\n",
       "    </tr>\n",
       "    <tr>\n",
       "      <th>58</th>\n",
       "      <td>2.154435</td>\n",
       "      <td>4.000000</td>\n",
       "      <td>5.541669</td>\n",
       "      <td>3.999985</td>\n",
       "      <td>-8435.706880</td>\n",
       "    </tr>\n",
       "    <tr>\n",
       "      <th>47</th>\n",
       "      <td>0.464159</td>\n",
       "      <td>0.379647</td>\n",
       "      <td>5.540767</td>\n",
       "      <td>3.999994</td>\n",
       "      <td>-8435.706894</td>\n",
       "    </tr>\n",
       "    <tr>\n",
       "      <th>95</th>\n",
       "      <td>1000.000000</td>\n",
       "      <td>0.379647</td>\n",
       "      <td>5.542070</td>\n",
       "      <td>3.999982</td>\n",
       "      <td>-8435.706914</td>\n",
       "    </tr>\n",
       "    <tr>\n",
       "      <th>96</th>\n",
       "      <td>1000.000000</td>\n",
       "      <td>1.232310</td>\n",
       "      <td>5.541333</td>\n",
       "      <td>3.999977</td>\n",
       "      <td>-8435.706916</td>\n",
       "    </tr>\n",
       "    <tr>\n",
       "      <th>56</th>\n",
       "      <td>2.154435</td>\n",
       "      <td>0.379647</td>\n",
       "      <td>5.542569</td>\n",
       "      <td>3.999991</td>\n",
       "      <td>-8435.706938</td>\n",
       "    </tr>\n",
       "    <tr>\n",
       "      <th>76</th>\n",
       "      <td>46.415888</td>\n",
       "      <td>0.379647</td>\n",
       "      <td>5.540035</td>\n",
       "      <td>3.999998</td>\n",
       "      <td>-8435.707033</td>\n",
       "    </tr>\n",
       "    <tr>\n",
       "      <th>67</th>\n",
       "      <td>10.000000</td>\n",
       "      <td>1.232310</td>\n",
       "      <td>5.554024</td>\n",
       "      <td>3.999993</td>\n",
       "      <td>-8435.720513</td>\n",
       "    </tr>\n",
       "    <tr>\n",
       "      <th>34</th>\n",
       "      <td>0.100000</td>\n",
       "      <td>0.011101</td>\n",
       "      <td>0.000142</td>\n",
       "      <td>0.000001</td>\n",
       "      <td>-9702.663060</td>\n",
       "    </tr>\n",
       "    <tr>\n",
       "      <th>23</th>\n",
       "      <td>0.021544</td>\n",
       "      <td>0.003420</td>\n",
       "      <td>0.000142</td>\n",
       "      <td>0.000001</td>\n",
       "      <td>-9702.663060</td>\n",
       "    </tr>\n",
       "    <tr>\n",
       "      <th>75</th>\n",
       "      <td>46.415888</td>\n",
       "      <td>0.116961</td>\n",
       "      <td>0.000142</td>\n",
       "      <td>0.000001</td>\n",
       "      <td>-9702.663060</td>\n",
       "    </tr>\n",
       "    <tr>\n",
       "      <th>60</th>\n",
       "      <td>10.000000</td>\n",
       "      <td>0.000325</td>\n",
       "      <td>0.000142</td>\n",
       "      <td>0.000001</td>\n",
       "      <td>-9702.663060</td>\n",
       "    </tr>\n",
       "    <tr>\n",
       "      <th>46</th>\n",
       "      <td>0.464159</td>\n",
       "      <td>0.116961</td>\n",
       "      <td>0.000142</td>\n",
       "      <td>0.000001</td>\n",
       "      <td>-9702.663060</td>\n",
       "    </tr>\n",
       "    <tr>\n",
       "      <th>72</th>\n",
       "      <td>46.415888</td>\n",
       "      <td>0.003420</td>\n",
       "      <td>0.000142</td>\n",
       "      <td>0.000001</td>\n",
       "      <td>-9702.663060</td>\n",
       "    </tr>\n",
       "    <tr>\n",
       "      <th>42</th>\n",
       "      <td>0.464159</td>\n",
       "      <td>0.001054</td>\n",
       "      <td>0.000142</td>\n",
       "      <td>0.000001</td>\n",
       "      <td>-9702.663060</td>\n",
       "    </tr>\n",
       "    <tr>\n",
       "      <th>93</th>\n",
       "      <td>1000.000000</td>\n",
       "      <td>0.036033</td>\n",
       "      <td>0.000142</td>\n",
       "      <td>0.000001</td>\n",
       "      <td>-9702.663060</td>\n",
       "    </tr>\n",
       "    <tr>\n",
       "      <th>10</th>\n",
       "      <td>0.004642</td>\n",
       "      <td>0.000100</td>\n",
       "      <td>0.000142</td>\n",
       "      <td>0.000001</td>\n",
       "      <td>-9702.663060</td>\n",
       "    </tr>\n",
       "    <tr>\n",
       "      <th>91</th>\n",
       "      <td>1000.000000</td>\n",
       "      <td>0.001054</td>\n",
       "      <td>0.000142</td>\n",
       "      <td>0.000001</td>\n",
       "      <td>-9702.663060</td>\n",
       "    </tr>\n",
       "    <tr>\n",
       "      <th>35</th>\n",
       "      <td>0.100000</td>\n",
       "      <td>0.036033</td>\n",
       "      <td>0.000142</td>\n",
       "      <td>0.000001</td>\n",
       "      <td>-9702.663060</td>\n",
       "    </tr>\n",
       "    <tr>\n",
       "      <th>2</th>\n",
       "      <td>0.001000</td>\n",
       "      <td>0.001054</td>\n",
       "      <td>0.000142</td>\n",
       "      <td>0.000001</td>\n",
       "      <td>-9702.663060</td>\n",
       "    </tr>\n",
       "    <tr>\n",
       "      <th>51</th>\n",
       "      <td>2.154435</td>\n",
       "      <td>0.000325</td>\n",
       "      <td>0.000142</td>\n",
       "      <td>0.000001</td>\n",
       "      <td>-9702.663060</td>\n",
       "    </tr>\n",
       "    <tr>\n",
       "      <th>79</th>\n",
       "      <td>215.443469</td>\n",
       "      <td>0.000100</td>\n",
       "      <td>0.000142</td>\n",
       "      <td>0.000001</td>\n",
       "      <td>-9702.663060</td>\n",
       "    </tr>\n",
       "    <tr>\n",
       "      <th>...</th>\n",
       "      <td>...</td>\n",
       "      <td>...</td>\n",
       "      <td>...</td>\n",
       "      <td>...</td>\n",
       "      <td>...</td>\n",
       "    </tr>\n",
       "    <tr>\n",
       "      <th>32</th>\n",
       "      <td>0.100000</td>\n",
       "      <td>0.001054</td>\n",
       "      <td>0.000117</td>\n",
       "      <td>0.000001</td>\n",
       "      <td>-9703.796796</td>\n",
       "    </tr>\n",
       "    <tr>\n",
       "      <th>30</th>\n",
       "      <td>0.100000</td>\n",
       "      <td>0.000100</td>\n",
       "      <td>0.000117</td>\n",
       "      <td>0.000001</td>\n",
       "      <td>-9703.796810</td>\n",
       "    </tr>\n",
       "    <tr>\n",
       "      <th>49</th>\n",
       "      <td>0.464159</td>\n",
       "      <td>4.000000</td>\n",
       "      <td>0.032468</td>\n",
       "      <td>3.094647</td>\n",
       "      <td>-9825.179957</td>\n",
       "    </tr>\n",
       "    <tr>\n",
       "      <th>25</th>\n",
       "      <td>0.021544</td>\n",
       "      <td>0.036033</td>\n",
       "      <td>0.000392</td>\n",
       "      <td>1.338353</td>\n",
       "      <td>-9825.179957</td>\n",
       "    </tr>\n",
       "    <tr>\n",
       "      <th>14</th>\n",
       "      <td>0.004642</td>\n",
       "      <td>0.011101</td>\n",
       "      <td>0.000291</td>\n",
       "      <td>0.164734</td>\n",
       "      <td>-9825.179957</td>\n",
       "    </tr>\n",
       "    <tr>\n",
       "      <th>3</th>\n",
       "      <td>0.001000</td>\n",
       "      <td>0.003420</td>\n",
       "      <td>0.000125</td>\n",
       "      <td>0.017114</td>\n",
       "      <td>-9825.179957</td>\n",
       "    </tr>\n",
       "    <tr>\n",
       "      <th>4</th>\n",
       "      <td>0.001000</td>\n",
       "      <td>0.011101</td>\n",
       "      <td>0.000312</td>\n",
       "      <td>0.020193</td>\n",
       "      <td>-9825.179957</td>\n",
       "    </tr>\n",
       "    <tr>\n",
       "      <th>48</th>\n",
       "      <td>0.464159</td>\n",
       "      <td>1.232310</td>\n",
       "      <td>0.008205</td>\n",
       "      <td>1.510185</td>\n",
       "      <td>-9825.179957</td>\n",
       "    </tr>\n",
       "    <tr>\n",
       "      <th>36</th>\n",
       "      <td>0.100000</td>\n",
       "      <td>0.116961</td>\n",
       "      <td>0.008146</td>\n",
       "      <td>1.929358</td>\n",
       "      <td>-9825.179957</td>\n",
       "    </tr>\n",
       "    <tr>\n",
       "      <th>37</th>\n",
       "      <td>0.100000</td>\n",
       "      <td>0.379647</td>\n",
       "      <td>0.008146</td>\n",
       "      <td>1.345287</td>\n",
       "      <td>-9825.179957</td>\n",
       "    </tr>\n",
       "    <tr>\n",
       "      <th>9</th>\n",
       "      <td>0.001000</td>\n",
       "      <td>4.000000</td>\n",
       "      <td>0.000894</td>\n",
       "      <td>3.984855</td>\n",
       "      <td>-9825.179957</td>\n",
       "    </tr>\n",
       "    <tr>\n",
       "      <th>7</th>\n",
       "      <td>0.001000</td>\n",
       "      <td>0.379647</td>\n",
       "      <td>0.001044</td>\n",
       "      <td>0.371688</td>\n",
       "      <td>-9825.179957</td>\n",
       "    </tr>\n",
       "    <tr>\n",
       "      <th>6</th>\n",
       "      <td>0.001000</td>\n",
       "      <td>0.116961</td>\n",
       "      <td>0.001044</td>\n",
       "      <td>0.108644</td>\n",
       "      <td>-9825.179957</td>\n",
       "    </tr>\n",
       "    <tr>\n",
       "      <th>26</th>\n",
       "      <td>0.021544</td>\n",
       "      <td>0.116961</td>\n",
       "      <td>0.004735</td>\n",
       "      <td>0.272936</td>\n",
       "      <td>-9825.179957</td>\n",
       "    </tr>\n",
       "    <tr>\n",
       "      <th>8</th>\n",
       "      <td>0.001000</td>\n",
       "      <td>1.232310</td>\n",
       "      <td>0.001044</td>\n",
       "      <td>1.243624</td>\n",
       "      <td>-9825.179957</td>\n",
       "    </tr>\n",
       "    <tr>\n",
       "      <th>27</th>\n",
       "      <td>0.021544</td>\n",
       "      <td>0.379647</td>\n",
       "      <td>0.006268</td>\n",
       "      <td>0.551400</td>\n",
       "      <td>-9825.179957</td>\n",
       "    </tr>\n",
       "    <tr>\n",
       "      <th>18</th>\n",
       "      <td>0.004642</td>\n",
       "      <td>1.232310</td>\n",
       "      <td>0.004414</td>\n",
       "      <td>1.235935</td>\n",
       "      <td>-9825.179957</td>\n",
       "    </tr>\n",
       "    <tr>\n",
       "      <th>17</th>\n",
       "      <td>0.004642</td>\n",
       "      <td>0.379647</td>\n",
       "      <td>0.004414</td>\n",
       "      <td>0.374511</td>\n",
       "      <td>-9825.179957</td>\n",
       "    </tr>\n",
       "    <tr>\n",
       "      <th>39</th>\n",
       "      <td>0.100000</td>\n",
       "      <td>4.000000</td>\n",
       "      <td>0.083837</td>\n",
       "      <td>3.813855</td>\n",
       "      <td>-9825.179957</td>\n",
       "    </tr>\n",
       "    <tr>\n",
       "      <th>29</th>\n",
       "      <td>0.021544</td>\n",
       "      <td>4.000000</td>\n",
       "      <td>0.012079</td>\n",
       "      <td>3.971402</td>\n",
       "      <td>-9825.179957</td>\n",
       "    </tr>\n",
       "    <tr>\n",
       "      <th>28</th>\n",
       "      <td>0.021544</td>\n",
       "      <td>1.232310</td>\n",
       "      <td>0.012079</td>\n",
       "      <td>1.201627</td>\n",
       "      <td>-9825.179957</td>\n",
       "    </tr>\n",
       "    <tr>\n",
       "      <th>38</th>\n",
       "      <td>0.100000</td>\n",
       "      <td>1.232310</td>\n",
       "      <td>0.030650</td>\n",
       "      <td>1.262050</td>\n",
       "      <td>-9825.179957</td>\n",
       "    </tr>\n",
       "    <tr>\n",
       "      <th>19</th>\n",
       "      <td>0.004642</td>\n",
       "      <td>4.000000</td>\n",
       "      <td>0.004411</td>\n",
       "      <td>3.992426</td>\n",
       "      <td>-9825.179957</td>\n",
       "    </tr>\n",
       "    <tr>\n",
       "      <th>15</th>\n",
       "      <td>0.004642</td>\n",
       "      <td>0.036033</td>\n",
       "      <td>0.000822</td>\n",
       "      <td>0.096582</td>\n",
       "      <td>-9825.179957</td>\n",
       "    </tr>\n",
       "    <tr>\n",
       "      <th>5</th>\n",
       "      <td>0.001000</td>\n",
       "      <td>0.036033</td>\n",
       "      <td>0.000479</td>\n",
       "      <td>0.047682</td>\n",
       "      <td>-9825.179957</td>\n",
       "    </tr>\n",
       "    <tr>\n",
       "      <th>16</th>\n",
       "      <td>0.004642</td>\n",
       "      <td>0.116961</td>\n",
       "      <td>0.002126</td>\n",
       "      <td>0.171127</td>\n",
       "      <td>-9825.179957</td>\n",
       "    </tr>\n",
       "    <tr>\n",
       "      <th>82</th>\n",
       "      <td>215.443469</td>\n",
       "      <td>0.003420</td>\n",
       "      <td>300.605096</td>\n",
       "      <td>0.000001</td>\n",
       "      <td>-9825.222496</td>\n",
       "    </tr>\n",
       "    <tr>\n",
       "      <th>92</th>\n",
       "      <td>1000.000000</td>\n",
       "      <td>0.003420</td>\n",
       "      <td>337.016302</td>\n",
       "      <td>0.000001</td>\n",
       "      <td>-9825.222512</td>\n",
       "    </tr>\n",
       "    <tr>\n",
       "      <th>81</th>\n",
       "      <td>215.443469</td>\n",
       "      <td>0.001054</td>\n",
       "      <td>637.204074</td>\n",
       "      <td>0.000001</td>\n",
       "      <td>-9825.222571</td>\n",
       "    </tr>\n",
       "    <tr>\n",
       "      <th>97</th>\n",
       "      <td>1000.000000</td>\n",
       "      <td>4.000000</td>\n",
       "      <td>1000.000000</td>\n",
       "      <td>4.000000</td>\n",
       "      <td>-70780.206638</td>\n",
       "    </tr>\n",
       "  </tbody>\n",
       "</table>\n",
       "<p>98 rows × 5 columns</p>\n",
       "</div>"
      ],
      "text/plain": [
       "           nu_0       T_0       nu_opt     T_opt          logL\n",
       "78    46.415888  4.000000     5.541314  4.000000  -8435.706819\n",
       "68    10.000000  4.000000     5.541188  3.999998  -8435.706834\n",
       "55     2.154435  0.116961     5.541445  3.999994  -8435.706838\n",
       "66    10.000000  0.379647     5.542152  3.999999  -8435.706844\n",
       "88   215.443469  4.000000     5.541140  3.999994  -8435.706852\n",
       "86   215.443469  0.379647     5.541279  3.999991  -8435.706857\n",
       "57     2.154435  1.232310     5.541516  3.999990  -8435.706858\n",
       "87   215.443469  1.232310     5.541448  3.999988  -8435.706864\n",
       "77    46.415888  1.232310     5.540994  3.999992  -8435.706878\n",
       "58     2.154435  4.000000     5.541669  3.999985  -8435.706880\n",
       "47     0.464159  0.379647     5.540767  3.999994  -8435.706894\n",
       "95  1000.000000  0.379647     5.542070  3.999982  -8435.706914\n",
       "96  1000.000000  1.232310     5.541333  3.999977  -8435.706916\n",
       "56     2.154435  0.379647     5.542569  3.999991  -8435.706938\n",
       "76    46.415888  0.379647     5.540035  3.999998  -8435.707033\n",
       "67    10.000000  1.232310     5.554024  3.999993  -8435.720513\n",
       "34     0.100000  0.011101     0.000142  0.000001  -9702.663060\n",
       "23     0.021544  0.003420     0.000142  0.000001  -9702.663060\n",
       "75    46.415888  0.116961     0.000142  0.000001  -9702.663060\n",
       "60    10.000000  0.000325     0.000142  0.000001  -9702.663060\n",
       "46     0.464159  0.116961     0.000142  0.000001  -9702.663060\n",
       "72    46.415888  0.003420     0.000142  0.000001  -9702.663060\n",
       "42     0.464159  0.001054     0.000142  0.000001  -9702.663060\n",
       "93  1000.000000  0.036033     0.000142  0.000001  -9702.663060\n",
       "10     0.004642  0.000100     0.000142  0.000001  -9702.663060\n",
       "91  1000.000000  0.001054     0.000142  0.000001  -9702.663060\n",
       "35     0.100000  0.036033     0.000142  0.000001  -9702.663060\n",
       "2      0.001000  0.001054     0.000142  0.000001  -9702.663060\n",
       "51     2.154435  0.000325     0.000142  0.000001  -9702.663060\n",
       "79   215.443469  0.000100     0.000142  0.000001  -9702.663060\n",
       "..          ...       ...          ...       ...           ...\n",
       "32     0.100000  0.001054     0.000117  0.000001  -9703.796796\n",
       "30     0.100000  0.000100     0.000117  0.000001  -9703.796810\n",
       "49     0.464159  4.000000     0.032468  3.094647  -9825.179957\n",
       "25     0.021544  0.036033     0.000392  1.338353  -9825.179957\n",
       "14     0.004642  0.011101     0.000291  0.164734  -9825.179957\n",
       "3      0.001000  0.003420     0.000125  0.017114  -9825.179957\n",
       "4      0.001000  0.011101     0.000312  0.020193  -9825.179957\n",
       "48     0.464159  1.232310     0.008205  1.510185  -9825.179957\n",
       "36     0.100000  0.116961     0.008146  1.929358  -9825.179957\n",
       "37     0.100000  0.379647     0.008146  1.345287  -9825.179957\n",
       "9      0.001000  4.000000     0.000894  3.984855  -9825.179957\n",
       "7      0.001000  0.379647     0.001044  0.371688  -9825.179957\n",
       "6      0.001000  0.116961     0.001044  0.108644  -9825.179957\n",
       "26     0.021544  0.116961     0.004735  0.272936  -9825.179957\n",
       "8      0.001000  1.232310     0.001044  1.243624  -9825.179957\n",
       "27     0.021544  0.379647     0.006268  0.551400  -9825.179957\n",
       "18     0.004642  1.232310     0.004414  1.235935  -9825.179957\n",
       "17     0.004642  0.379647     0.004414  0.374511  -9825.179957\n",
       "39     0.100000  4.000000     0.083837  3.813855  -9825.179957\n",
       "29     0.021544  4.000000     0.012079  3.971402  -9825.179957\n",
       "28     0.021544  1.232310     0.012079  1.201627  -9825.179957\n",
       "38     0.100000  1.232310     0.030650  1.262050  -9825.179957\n",
       "19     0.004642  4.000000     0.004411  3.992426  -9825.179957\n",
       "15     0.004642  0.036033     0.000822  0.096582  -9825.179957\n",
       "5      0.001000  0.036033     0.000479  0.047682  -9825.179957\n",
       "16     0.004642  0.116961     0.002126  0.171127  -9825.179957\n",
       "82   215.443469  0.003420   300.605096  0.000001  -9825.222496\n",
       "92  1000.000000  0.003420   337.016302  0.000001  -9825.222512\n",
       "81   215.443469  0.001054   637.204074  0.000001  -9825.222571\n",
       "97  1000.000000  4.000000  1000.000000  4.000000 -70780.206638\n",
       "\n",
       "[98 rows x 5 columns]"
      ]
     },
     "execution_count": 252,
     "metadata": {},
     "output_type": "execute_result"
    }
   ],
   "source": [
    "df.sort_values(by='logL', ascending=False)"
   ]
  },
  {
   "cell_type": "markdown",
   "metadata": {},
   "source": [
    "The optimal parameter combination returned is hitting the upper parameter bound that I set. "
   ]
  },
  {
   "cell_type": "code",
   "execution_count": 253,
   "metadata": {
    "collapsed": false
   },
   "outputs": [
    {
     "data": {
      "text/plain": [
       "[1000.0, 4]"
      ]
     },
     "execution_count": 253,
     "metadata": {},
     "output_type": "execute_result"
    }
   ],
   "source": [
    "cl[0]['upper_bound']"
   ]
  },
  {
   "cell_type": "code",
   "execution_count": 255,
   "metadata": {
    "collapsed": true
   },
   "outputs": [],
   "source": [
    "%%px\n",
    "\n",
    "upper_bound = [1e3, 5]"
   ]
  },
  {
   "cell_type": "code",
   "execution_count": 256,
   "metadata": {
    "collapsed": true
   },
   "outputs": [],
   "source": [
    "ar_par_NM = lbview.map(run_dadi, product(p0_nu, p0_T), block=False, order=True)"
   ]
  },
  {
   "cell_type": "code",
   "execution_count": 276,
   "metadata": {
    "collapsed": false
   },
   "outputs": [
    {
     "data": {
      "text/plain": [
       "100"
      ]
     },
     "execution_count": 276,
     "metadata": {},
     "output_type": "execute_result"
    }
   ],
   "source": [
    "ar_par_NM.progress"
   ]
  },
  {
   "cell_type": "code",
   "execution_count": 277,
   "metadata": {
    "collapsed": false
   },
   "outputs": [
    {
     "name": "stdout",
     "output_type": "stream",
     "text": [
      "success 98\n",
      "Maximum number of function evaluations made. 0\n",
      "Maximum number of iterations reached. 2\n",
      "unknown flag 0\n"
     ]
    }
   ],
   "source": [
    "get_flag_count(ar_par_NM, NM=True)"
   ]
  },
  {
   "cell_type": "code",
   "execution_count": 278,
   "metadata": {
    "collapsed": false
   },
   "outputs": [
    {
     "name": "stdout",
     "output_type": "stream",
     "text": [
      "[  1.42092098e-04   1.00001372e-06]\n",
      "[  1.42128126e-04   1.00003804e-06]\n"
     ]
    }
   ],
   "source": [
    "for r in ar_par_NM:\n",
    "    if r[4] == 2:\n",
    "        print r[0]"
   ]
  },
  {
   "cell_type": "code",
   "execution_count": 305,
   "metadata": {
    "collapsed": false
   },
   "outputs": [
    {
     "name": "stdout",
     "output_type": "stream",
     "text": [
      "nu_0 = 1000.000000, T_0 = 0.003420 \t nu = 337.016302, T = 0.000001 \t0:00:01.253315\n",
      "nu_0 = 215.443469, T_0 = 0.003420 \t nu = 300.605096, T = 0.000001 \t0:00:01.337191\n",
      "nu_0 = 215.443469, T_0 = 0.001054 \t nu = 637.204074, T = 0.000001 \t0:00:01.406946\n",
      "nu_0 = 10.000000, T_0 = 4.000000 \t nu = 6.607394, T = 4.999988 \t0:00:01.608731\n",
      "nu_0 = 0.100000, T_0 = 0.001054 \t nu = 0.000117, T = 0.000001 \t0:00:01.870468\n",
      "nu_0 = 215.443469, T_0 = 0.011101 \t nu = 0.000142, T = 0.000001 \t0:00:01.964483\n",
      "nu_0 = 1000.000000, T_0 = 0.000100 \t nu = 0.000142, T = 0.000001 \t0:00:01.998725\n",
      "nu_0 = 0.021544, T_0 = 0.000325 \t nu = 0.000142, T = 0.000001 \t0:00:02.077759\n",
      "nu_0 = 1000.000000, T_0 = 0.036033 \t nu = 0.000142, T = 0.000001 \t0:00:02.078339\n",
      "nu_0 = 10.000000, T_0 = 0.011101 \t nu = 0.000142, T = 0.000001 \t0:00:02.104663\n",
      "nu_0 = 46.415888, T_0 = 0.011101 \t nu = 0.000142, T = 0.000001 \t0:00:02.125874\n",
      "nu_0 = 0.021544, T_0 = 0.001054 \t nu = 0.000142, T = 0.000001 \t0:00:02.170370\n",
      "nu_0 = 10.000000, T_0 = 0.036033 \t nu = 0.000142, T = 0.000001 \t0:00:02.193898\n",
      "nu_0 = 0.100000, T_0 = 0.000325 \t nu = 0.000117, T = 0.000001 \t0:00:02.199616\n",
      "nu_0 = 0.021544, T_0 = 0.000100 \t nu = 0.000142, T = 0.000001 \t0:00:02.255127\n",
      "nu_0 = 1000.000000, T_0 = 0.000325 \t nu = 0.000142, T = 0.000001 \t0:00:02.261108\n",
      "nu_0 = 215.443469, T_0 = 0.000100 \t nu = 0.000142, T = 0.000001 \t0:00:02.301531\n",
      "nu_0 = 215.443469, T_0 = 0.000325 \t nu = 0.000320, T = 0.000002 \t0:00:02.317016\n",
      "nu_0 = 0.004642, T_0 = 0.000325 \t nu = 0.000142, T = 0.000001 \t0:00:02.335408\n",
      "nu_0 = 46.415888, T_0 = 0.036033 \t nu = 0.000142, T = 0.000001 \t0:00:02.339114\n",
      "nu_0 = 0.100000, T_0 = 0.011101 \t nu = 0.000142, T = 0.000001 \t0:00:02.368938\n",
      "nu_0 = 0.021544, T_0 = 0.011101 \t nu = 0.000142, T = 0.000001 \t0:00:02.370462\n",
      "nu_0 = 0.004642, T_0 = 0.000100 \t nu = 0.000142, T = 0.000001 \t0:00:02.398309\n",
      "nu_0 = 46.415888, T_0 = 4.000000 \t nu = 6.611146, T = 4.999997 \t0:00:02.409867\n",
      "nu_0 = 0.100000, T_0 = 0.000100 \t nu = 0.000117, T = 0.000001 \t0:00:02.412759\n",
      "nu_0 = 0.004642, T_0 = 0.001054 \t nu = 0.000142, T = 0.000001 \t0:00:02.421509\n",
      "nu_0 = 0.464159, T_0 = 0.001054 \t nu = 0.000142, T = 0.000001 \t0:00:02.445728\n",
      "nu_0 = 0.004642, T_0 = 0.003420 \t nu = 0.000117, T = 0.000001 \t0:00:02.470861\n",
      "nu_0 = 0.464159, T_0 = 0.000100 \t nu = 0.000142, T = 0.000001 \t0:00:02.478097\n",
      "nu_0 = 46.415888, T_0 = 0.000325 \t nu = 0.000142, T = 0.000001 \t0:00:02.503926\n",
      "nu_0 = 10.000000, T_0 = 0.001054 \t nu = 0.000142, T = 0.000001 \t0:00:02.528135\n",
      "nu_0 = 10.000000, T_0 = 0.116961 \t nu = 0.000142, T = 0.000001 \t0:00:02.530787\n",
      "nu_0 = 215.443469, T_0 = 0.116961 \t nu = 0.000142, T = 0.000001 \t0:00:02.538487\n",
      "nu_0 = 0.021544, T_0 = 0.003420 \t nu = 0.000142, T = 0.000001 \t0:00:02.577833\n",
      "nu_0 = 2.154435, T_0 = 4.000000 \t nu = 6.608428, T = 4.999986 \t0:00:02.603281\n",
      "nu_0 = 215.443469, T_0 = 4.000000 \t nu = 6.607767, T = 4.999980 \t0:00:02.609589\n",
      "nu_0 = 0.100000, T_0 = 0.003420 \t nu = 0.000117, T = 0.000001 \t0:00:02.631288\n",
      "nu_0 = 0.001000, T_0 = 0.000100 \t nu = 0.000142, T = 0.000001 \t0:00:02.646596\n",
      "nu_0 = 2.154435, T_0 = 0.379647 \t nu = 6.608082, T = 4.999998 \t0:00:02.660362\n",
      "nu_0 = 46.415888, T_0 = 0.003420 \t nu = 0.000142, T = 0.000001 \t0:00:02.672557\n",
      "nu_0 = 0.001000, T_0 = 0.000325 \t nu = 0.000142, T = 0.000001 \t0:00:02.673205\n",
      "nu_0 = 10.000000, T_0 = 0.000100 \t nu = 0.000142, T = 0.000001 \t0:00:02.675552\n",
      "nu_0 = 2.154435, T_0 = 0.116961 \t nu = 6.607484, T = 4.999997 \t0:00:02.679635\n",
      "nu_0 = 2.154435, T_0 = 0.036033 \t nu = 0.000142, T = 0.000001 \t0:00:02.691305\n",
      "nu_0 = 1000.000000, T_0 = 0.001054 \t nu = 0.000142, T = 0.000001 \t0:00:02.699920\n",
      "nu_0 = 0.464159, T_0 = 0.036033 \t nu = 0.000142, T = 0.000001 \t0:00:02.728592\n",
      "nu_0 = 0.464159, T_0 = 0.011101 \t nu = 0.000142, T = 0.000001 \t0:00:02.741115\n",
      "nu_0 = 46.415888, T_0 = 0.000100 \t nu = 0.000142, T = 0.000001 \t0:00:02.744636\n",
      "nu_0 = 0.464159, T_0 = 0.003420 \t nu = 0.000142, T = 0.000001 \t0:00:02.770753\n",
      "nu_0 = 10.000000, T_0 = 0.003420 \t nu = 0.000142, T = 0.000001 \t0:00:02.775887\n",
      "nu_0 = 2.154435, T_0 = 0.011101 \t nu = 0.000142, T = 0.000001 \t0:00:02.790348\n",
      "nu_0 = 46.415888, T_0 = 0.116961 \t nu = 0.000142, T = 0.000001 \t0:00:02.806571\n",
      "nu_0 = 1000.000000, T_0 = 0.116961 \t nu = 0.000142, T = 0.000001 \t0:00:02.849591\n",
      "nu_0 = 10.000000, T_0 = 0.000325 \t nu = 0.000142, T = 0.000001 \t0:00:02.853166\n",
      "nu_0 = 215.443469, T_0 = 0.036033 \t nu = 0.000117, T = 0.000001 \t0:00:02.855650\n",
      "nu_0 = 0.100000, T_0 = 0.036033 \t nu = 0.000142, T = 0.000001 \t0:00:02.916466\n",
      "nu_0 = 10.000000, T_0 = 0.379647 \t nu = 6.608280, T = 4.999981 \t0:00:02.923626\n",
      "nu_0 = 0.464159, T_0 = 0.116961 \t nu = 0.000142, T = 0.000001 \t0:00:02.994529\n",
      "nu_0 = 0.464159, T_0 = 0.379647 \t nu = 6.607515, T = 4.999997 \t0:00:03.010559\n",
      "nu_0 = 46.415888, T_0 = 0.379647 \t nu = 6.607876, T = 4.999993 \t0:00:03.029864\n",
      "nu_0 = 2.154435, T_0 = 0.000325 \t nu = 0.000142, T = 0.000001 \t0:00:03.032885\n",
      "nu_0 = 46.415888, T_0 = 0.001054 \t nu = 0.000142, T = 0.000001 \t0:00:03.038171\n",
      "nu_0 = 2.154435, T_0 = 0.000100 \t nu = 0.000142, T = 0.000001 \t0:00:03.049132\n",
      "nu_0 = 1000.000000, T_0 = 0.011101 \t nu = 0.000142, T = 0.000001 \t0:00:03.195081\n",
      "nu_0 = 2.154435, T_0 = 0.001054 \t nu = 0.000142, T = 0.000001 \t0:00:03.222151\n",
      "nu_0 = 1000.000000, T_0 = 4.000000 \t nu = 6.609853, T = 4.999999 \t0:00:03.223168\n",
      "nu_0 = 215.443469, T_0 = 0.379647 \t nu = 6.608089, T = 4.999993 \t0:00:03.252147\n",
      "nu_0 = 0.001000, T_0 = 0.001054 \t nu = 0.000142, T = 0.000001 \t0:00:03.347438\n",
      "nu_0 = 2.154435, T_0 = 1.232310 \t nu = 6.606892, T = 4.999969 \t0:00:03.349424\n",
      "nu_0 = 0.464159, T_0 = 0.000325 \t nu = 0.000142, T = 0.000001 \t0:00:03.746889\n",
      "nu_0 = 10.000000, T_0 = 1.232310 \t nu = 6.608133, T = 4.999993 \t0:00:03.775315\n",
      "nu_0 = 46.415888, T_0 = 1.232310 \t nu = 6.607869, T = 4.999995 \t0:00:04.010776\n",
      "nu_0 = 1000.000000, T_0 = 0.379647 \t nu = 6.607693, T = 4.999995 \t0:00:04.207155\n",
      "nu_0 = 215.443469, T_0 = 1.232310 \t nu = 6.607281, T = 4.999999 \t0:00:04.399794\n",
      "nu_0 = 2.154435, T_0 = 0.003420 \t nu = 0.000142, T = 0.000001 \t0:00:04.590224\n",
      "nu_0 = 1000.000000, T_0 = 1.232310 \t nu = 6.608342, T = 4.999996 \t0:00:04.906379\n",
      "nu_0 = 0.100000, T_0 = 4.000000 \t nu = 0.113828, T = 4.305707 \t0:00:18.968231\n",
      "nu_0 = 0.100000, T_0 = 1.232310 \t nu = 0.030650, T = 1.262050 \t0:00:24.213188\n",
      "nu_0 = 0.464159, T_0 = 4.000000 \t nu = 0.092965, T = 3.877113 \t0:00:36.225329\n",
      "nu_0 = 0.001000, T_0 = 0.011101 \t nu = 0.000312, T = 0.020193 \t0:00:39.882887\n",
      "nu_0 = 0.004642, T_0 = 0.379647 \t nu = 0.004414, T = 0.374511 \t0:00:46.091178\n",
      "nu_0 = 0.021544, T_0 = 0.116961 \t nu = 0.004735, T = 0.272936 \t0:00:46.196308\n",
      "nu_0 = 0.021544, T_0 = 1.232310 \t nu = 0.012079, T = 1.201627 \t0:00:47.771483\n",
      "nu_0 = 0.004642, T_0 = 0.116961 \t nu = 0.002126, T = 0.171127 \t0:00:51.641603\n",
      "nu_0 = 0.021544, T_0 = 0.379647 \t nu = 0.006268, T = 0.551400 \t0:00:51.952621\n",
      "nu_0 = 0.001000, T_0 = 0.116961 \t nu = 0.001044, T = 0.108644 \t0:01:03.256574\n",
      "nu_0 = 0.001000, T_0 = 0.036033 \t nu = 0.000479, T = 0.047682 \t0:01:08.184646\n",
      "nu_0 = 0.004642, T_0 = 0.036033 \t nu = 0.000822, T = 0.096582 \t0:01:11.755987\n",
      "nu_0 = 0.001000, T_0 = 0.003420 \t nu = 0.000125, T = 0.017114 \t0:01:28.135864\n",
      "nu_0 = 0.464159, T_0 = 1.232310 \t nu = 0.008205, T = 1.510185 \t0:01:47.457700\n",
      "nu_0 = 0.100000, T_0 = 0.379647 \t nu = 0.008146, T = 1.345287 \t0:01:59.204310\n",
      "nu_0 = 0.100000, T_0 = 0.116961 \t nu = 0.008146, T = 1.929358 \t0:02:23.976614\n",
      "nu_0 = 0.004642, T_0 = 1.232310 \t nu = 0.004414, T = 1.235935 \t0:02:27.344255\n",
      "nu_0 = 0.021544, T_0 = 4.000000 \t nu = 0.012079, T = 4.224868 \t0:03:40.539961\n",
      "nu_0 = 0.001000, T_0 = 0.379647 \t nu = 0.001044, T = 0.371688 \t0:03:48.886615\n",
      "nu_0 = 0.004642, T_0 = 0.011101 \t nu = 0.000291, T = 0.164734 \t0:05:45.092611\n",
      "nu_0 = 0.004642, T_0 = 4.000000 \t nu = 0.004413, T = 4.222831 \t0:07:40.583773\n",
      "nu_0 = 0.001000, T_0 = 1.232310 \t nu = 0.001044, T = 1.243624 \t0:11:03.838684\n",
      "nu_0 = 0.001000, T_0 = 4.000000 \t nu = 0.001044, T = 4.195350 \t0:36:37.453178\n",
      "nu_0 = 0.021544, T_0 = 0.036033 \t nu = 0.000392, T = 1.338353 \t0:40:45.051349\n"
     ]
    }
   ],
   "source": [
    "x  = [(p0, xopt[0], m['completed'] - m['started']) for p0, xopt, m in izip(product(p0_nu, p0_T), ar_par_NM, ar_par_NM.metadata)]\n",
    "y = sorted(x, key=lambda x: x[2])\n",
    "for p in y:\n",
    "    print \"nu_0 = %.6f, T_0 = %.6f \\t nu = %.6f, T = %.6f\" % (p[0][0], p[0][1], p[1][0], p[1][1]), \"\\t\", p[2]"
   ]
  },
  {
   "cell_type": "markdown",
   "metadata": {},
   "source": [
    "This has printed out the initial parameter combinations, the final parameter values and the processing for each combination. There were two jobs that have taken a very long time to complete. Note, that these are not the ones which have exceeded maxiter (see above). Neither of the two long lasting jobs is hitting the boundaries of the parameter space that can be searched."
   ]
  },
  {
   "cell_type": "code",
   "execution_count": 294,
   "metadata": {
    "collapsed": false
   },
   "outputs": [
    {
     "data": {
      "text/plain": [
       "[[1000.0, 5],\n",
       " [1000.0, 5],\n",
       " [1000.0, 5],\n",
       " [1000.0, 5],\n",
       " [1000.0, 5],\n",
       " [1000.0, 5],\n",
       " [1000.0, 5],\n",
       " [1000.0, 5],\n",
       " [1000.0, 5],\n",
       " [1000.0, 5],\n",
       " [1000.0, 5]]"
      ]
     },
     "execution_count": 294,
     "metadata": {},
     "output_type": "execute_result"
    }
   ],
   "source": [
    "cl[:]['upper_bound']"
   ]
  },
  {
   "cell_type": "code",
   "execution_count": 295,
   "metadata": {
    "collapsed": false
   },
   "outputs": [
    {
     "data": {
      "text/plain": [
       "[[0.0001, 1e-06],\n",
       " [0.0001, 1e-06],\n",
       " [0.0001, 1e-06],\n",
       " [0.0001, 1e-06],\n",
       " [0.0001, 1e-06],\n",
       " [0.0001, 1e-06],\n",
       " [0.0001, 1e-06],\n",
       " [0.0001, 1e-06],\n",
       " [0.0001, 1e-06],\n",
       " [0.0001, 1e-06],\n",
       " [0.0001, 1e-06]]"
      ]
     },
     "execution_count": 295,
     "metadata": {},
     "output_type": "execute_result"
    }
   ],
   "source": [
    "cl[:]['lower_bound']"
   ]
  },
  {
   "cell_type": "code",
   "execution_count": 296,
   "metadata": {
    "collapsed": true
   },
   "outputs": [],
   "source": [
    "# get log likelihood values for all parameters returned\n",
    "ll = get_ll.map([p[0] for p in ar_par_NM])"
   ]
  },
  {
   "cell_type": "code",
   "execution_count": 297,
   "metadata": {
    "collapsed": true
   },
   "outputs": [],
   "source": [
    "# create rows for dataframe, without the parameter values on non-convergent runs\n",
    "rows = [(p0[0], p0[1], xopt[0][0], xopt[0][1], logL) for p0, xopt, logL in izip(product(p0_nu, p0_T), ar_par_NM, ll) if xopt[4] == 0]"
   ]
  },
  {
   "cell_type": "code",
   "execution_count": 298,
   "metadata": {
    "collapsed": true
   },
   "outputs": [],
   "source": [
    "df = pd.DataFrame(data=rows, columns=['nu_0', 'T_0', 'nu_opt', 'T_opt', 'logL'])"
   ]
  },
  {
   "cell_type": "code",
   "execution_count": 299,
   "metadata": {
    "collapsed": false
   },
   "outputs": [
    {
     "data": {
      "text/html": [
       "<div>\n",
       "<table border=\"1\" class=\"dataframe\">\n",
       "  <thead>\n",
       "    <tr style=\"text-align: right;\">\n",
       "      <th></th>\n",
       "      <th>nu_0</th>\n",
       "      <th>T_0</th>\n",
       "      <th>nu_opt</th>\n",
       "      <th>T_opt</th>\n",
       "      <th>logL</th>\n",
       "    </tr>\n",
       "  </thead>\n",
       "  <tbody>\n",
       "    <tr>\n",
       "      <th>47</th>\n",
       "      <td>0.464159</td>\n",
       "      <td>0.379647</td>\n",
       "      <td>6.607515</td>\n",
       "      <td>4.999997</td>\n",
       "      <td>-8432.350812</td>\n",
       "    </tr>\n",
       "    <tr>\n",
       "      <th>55</th>\n",
       "      <td>2.154435</td>\n",
       "      <td>0.116961</td>\n",
       "      <td>6.607484</td>\n",
       "      <td>4.999997</td>\n",
       "      <td>-8432.350814</td>\n",
       "    </tr>\n",
       "    <tr>\n",
       "      <th>87</th>\n",
       "      <td>215.443469</td>\n",
       "      <td>1.232310</td>\n",
       "      <td>6.607281</td>\n",
       "      <td>4.999999</td>\n",
       "      <td>-8432.350814</td>\n",
       "    </tr>\n",
       "    <tr>\n",
       "      <th>95</th>\n",
       "      <td>1000.000000</td>\n",
       "      <td>0.379647</td>\n",
       "      <td>6.607693</td>\n",
       "      <td>4.999995</td>\n",
       "      <td>-8432.350817</td>\n",
       "    </tr>\n",
       "    <tr>\n",
       "      <th>77</th>\n",
       "      <td>46.415888</td>\n",
       "      <td>1.232310</td>\n",
       "      <td>6.607869</td>\n",
       "      <td>4.999995</td>\n",
       "      <td>-8432.350821</td>\n",
       "    </tr>\n",
       "    <tr>\n",
       "      <th>56</th>\n",
       "      <td>2.154435</td>\n",
       "      <td>0.379647</td>\n",
       "      <td>6.608082</td>\n",
       "      <td>4.999998</td>\n",
       "      <td>-8432.350821</td>\n",
       "    </tr>\n",
       "    <tr>\n",
       "      <th>76</th>\n",
       "      <td>46.415888</td>\n",
       "      <td>0.379647</td>\n",
       "      <td>6.607876</td>\n",
       "      <td>4.999993</td>\n",
       "      <td>-8432.350826</td>\n",
       "    </tr>\n",
       "    <tr>\n",
       "      <th>86</th>\n",
       "      <td>215.443469</td>\n",
       "      <td>0.379647</td>\n",
       "      <td>6.608089</td>\n",
       "      <td>4.999993</td>\n",
       "      <td>-8432.350835</td>\n",
       "    </tr>\n",
       "    <tr>\n",
       "      <th>67</th>\n",
       "      <td>10.000000</td>\n",
       "      <td>1.232310</td>\n",
       "      <td>6.608133</td>\n",
       "      <td>4.999993</td>\n",
       "      <td>-8432.350836</td>\n",
       "    </tr>\n",
       "    <tr>\n",
       "      <th>68</th>\n",
       "      <td>10.000000</td>\n",
       "      <td>4.000000</td>\n",
       "      <td>6.607394</td>\n",
       "      <td>4.999988</td>\n",
       "      <td>-8432.350839</td>\n",
       "    </tr>\n",
       "    <tr>\n",
       "      <th>96</th>\n",
       "      <td>1000.000000</td>\n",
       "      <td>1.232310</td>\n",
       "      <td>6.608342</td>\n",
       "      <td>4.999996</td>\n",
       "      <td>-8432.350844</td>\n",
       "    </tr>\n",
       "    <tr>\n",
       "      <th>88</th>\n",
       "      <td>215.443469</td>\n",
       "      <td>4.000000</td>\n",
       "      <td>6.607767</td>\n",
       "      <td>4.999980</td>\n",
       "      <td>-8432.350857</td>\n",
       "    </tr>\n",
       "    <tr>\n",
       "      <th>66</th>\n",
       "      <td>10.000000</td>\n",
       "      <td>0.379647</td>\n",
       "      <td>6.608280</td>\n",
       "      <td>4.999981</td>\n",
       "      <td>-8432.350877</td>\n",
       "    </tr>\n",
       "    <tr>\n",
       "      <th>58</th>\n",
       "      <td>2.154435</td>\n",
       "      <td>4.000000</td>\n",
       "      <td>6.608428</td>\n",
       "      <td>4.999986</td>\n",
       "      <td>-8432.350879</td>\n",
       "    </tr>\n",
       "    <tr>\n",
       "      <th>57</th>\n",
       "      <td>2.154435</td>\n",
       "      <td>1.232310</td>\n",
       "      <td>6.606892</td>\n",
       "      <td>4.999969</td>\n",
       "      <td>-8432.350915</td>\n",
       "    </tr>\n",
       "    <tr>\n",
       "      <th>97</th>\n",
       "      <td>1000.000000</td>\n",
       "      <td>4.000000</td>\n",
       "      <td>6.609853</td>\n",
       "      <td>4.999999</td>\n",
       "      <td>-8432.351105</td>\n",
       "    </tr>\n",
       "    <tr>\n",
       "      <th>78</th>\n",
       "      <td>46.415888</td>\n",
       "      <td>4.000000</td>\n",
       "      <td>6.611146</td>\n",
       "      <td>4.999997</td>\n",
       "      <td>-8432.351568</td>\n",
       "    </tr>\n",
       "    <tr>\n",
       "      <th>34</th>\n",
       "      <td>0.100000</td>\n",
       "      <td>0.011101</td>\n",
       "      <td>0.000142</td>\n",
       "      <td>0.000001</td>\n",
       "      <td>-9702.663060</td>\n",
       "    </tr>\n",
       "    <tr>\n",
       "      <th>23</th>\n",
       "      <td>0.021544</td>\n",
       "      <td>0.003420</td>\n",
       "      <td>0.000142</td>\n",
       "      <td>0.000001</td>\n",
       "      <td>-9702.663060</td>\n",
       "    </tr>\n",
       "    <tr>\n",
       "      <th>75</th>\n",
       "      <td>46.415888</td>\n",
       "      <td>0.116961</td>\n",
       "      <td>0.000142</td>\n",
       "      <td>0.000001</td>\n",
       "      <td>-9702.663060</td>\n",
       "    </tr>\n",
       "    <tr>\n",
       "      <th>60</th>\n",
       "      <td>10.000000</td>\n",
       "      <td>0.000325</td>\n",
       "      <td>0.000142</td>\n",
       "      <td>0.000001</td>\n",
       "      <td>-9702.663060</td>\n",
       "    </tr>\n",
       "    <tr>\n",
       "      <th>46</th>\n",
       "      <td>0.464159</td>\n",
       "      <td>0.116961</td>\n",
       "      <td>0.000142</td>\n",
       "      <td>0.000001</td>\n",
       "      <td>-9702.663060</td>\n",
       "    </tr>\n",
       "    <tr>\n",
       "      <th>72</th>\n",
       "      <td>46.415888</td>\n",
       "      <td>0.003420</td>\n",
       "      <td>0.000142</td>\n",
       "      <td>0.000001</td>\n",
       "      <td>-9702.663060</td>\n",
       "    </tr>\n",
       "    <tr>\n",
       "      <th>42</th>\n",
       "      <td>0.464159</td>\n",
       "      <td>0.001054</td>\n",
       "      <td>0.000142</td>\n",
       "      <td>0.000001</td>\n",
       "      <td>-9702.663060</td>\n",
       "    </tr>\n",
       "    <tr>\n",
       "      <th>93</th>\n",
       "      <td>1000.000000</td>\n",
       "      <td>0.036033</td>\n",
       "      <td>0.000142</td>\n",
       "      <td>0.000001</td>\n",
       "      <td>-9702.663060</td>\n",
       "    </tr>\n",
       "    <tr>\n",
       "      <th>10</th>\n",
       "      <td>0.004642</td>\n",
       "      <td>0.000100</td>\n",
       "      <td>0.000142</td>\n",
       "      <td>0.000001</td>\n",
       "      <td>-9702.663060</td>\n",
       "    </tr>\n",
       "    <tr>\n",
       "      <th>91</th>\n",
       "      <td>1000.000000</td>\n",
       "      <td>0.001054</td>\n",
       "      <td>0.000142</td>\n",
       "      <td>0.000001</td>\n",
       "      <td>-9702.663060</td>\n",
       "    </tr>\n",
       "    <tr>\n",
       "      <th>35</th>\n",
       "      <td>0.100000</td>\n",
       "      <td>0.036033</td>\n",
       "      <td>0.000142</td>\n",
       "      <td>0.000001</td>\n",
       "      <td>-9702.663060</td>\n",
       "    </tr>\n",
       "    <tr>\n",
       "      <th>2</th>\n",
       "      <td>0.001000</td>\n",
       "      <td>0.001054</td>\n",
       "      <td>0.000142</td>\n",
       "      <td>0.000001</td>\n",
       "      <td>-9702.663060</td>\n",
       "    </tr>\n",
       "    <tr>\n",
       "      <th>51</th>\n",
       "      <td>2.154435</td>\n",
       "      <td>0.000325</td>\n",
       "      <td>0.000142</td>\n",
       "      <td>0.000001</td>\n",
       "      <td>-9702.663060</td>\n",
       "    </tr>\n",
       "    <tr>\n",
       "      <th>...</th>\n",
       "      <td>...</td>\n",
       "      <td>...</td>\n",
       "      <td>...</td>\n",
       "      <td>...</td>\n",
       "      <td>...</td>\n",
       "    </tr>\n",
       "    <tr>\n",
       "      <th>13</th>\n",
       "      <td>0.004642</td>\n",
       "      <td>0.003420</td>\n",
       "      <td>0.000117</td>\n",
       "      <td>0.000001</td>\n",
       "      <td>-9703.796795</td>\n",
       "    </tr>\n",
       "    <tr>\n",
       "      <th>32</th>\n",
       "      <td>0.100000</td>\n",
       "      <td>0.001054</td>\n",
       "      <td>0.000117</td>\n",
       "      <td>0.000001</td>\n",
       "      <td>-9703.796796</td>\n",
       "    </tr>\n",
       "    <tr>\n",
       "      <th>30</th>\n",
       "      <td>0.100000</td>\n",
       "      <td>0.000100</td>\n",
       "      <td>0.000117</td>\n",
       "      <td>0.000001</td>\n",
       "      <td>-9703.796810</td>\n",
       "    </tr>\n",
       "    <tr>\n",
       "      <th>19</th>\n",
       "      <td>0.004642</td>\n",
       "      <td>4.000000</td>\n",
       "      <td>0.004413</td>\n",
       "      <td>4.222831</td>\n",
       "      <td>-9825.179957</td>\n",
       "    </tr>\n",
       "    <tr>\n",
       "      <th>25</th>\n",
       "      <td>0.021544</td>\n",
       "      <td>0.036033</td>\n",
       "      <td>0.000392</td>\n",
       "      <td>1.338353</td>\n",
       "      <td>-9825.179957</td>\n",
       "    </tr>\n",
       "    <tr>\n",
       "      <th>14</th>\n",
       "      <td>0.004642</td>\n",
       "      <td>0.011101</td>\n",
       "      <td>0.000291</td>\n",
       "      <td>0.164734</td>\n",
       "      <td>-9825.179957</td>\n",
       "    </tr>\n",
       "    <tr>\n",
       "      <th>3</th>\n",
       "      <td>0.001000</td>\n",
       "      <td>0.003420</td>\n",
       "      <td>0.000125</td>\n",
       "      <td>0.017114</td>\n",
       "      <td>-9825.179957</td>\n",
       "    </tr>\n",
       "    <tr>\n",
       "      <th>4</th>\n",
       "      <td>0.001000</td>\n",
       "      <td>0.011101</td>\n",
       "      <td>0.000312</td>\n",
       "      <td>0.020193</td>\n",
       "      <td>-9825.179957</td>\n",
       "    </tr>\n",
       "    <tr>\n",
       "      <th>48</th>\n",
       "      <td>0.464159</td>\n",
       "      <td>1.232310</td>\n",
       "      <td>0.008205</td>\n",
       "      <td>1.510185</td>\n",
       "      <td>-9825.179957</td>\n",
       "    </tr>\n",
       "    <tr>\n",
       "      <th>36</th>\n",
       "      <td>0.100000</td>\n",
       "      <td>0.116961</td>\n",
       "      <td>0.008146</td>\n",
       "      <td>1.929358</td>\n",
       "      <td>-9825.179957</td>\n",
       "    </tr>\n",
       "    <tr>\n",
       "      <th>37</th>\n",
       "      <td>0.100000</td>\n",
       "      <td>0.379647</td>\n",
       "      <td>0.008146</td>\n",
       "      <td>1.345287</td>\n",
       "      <td>-9825.179957</td>\n",
       "    </tr>\n",
       "    <tr>\n",
       "      <th>9</th>\n",
       "      <td>0.001000</td>\n",
       "      <td>4.000000</td>\n",
       "      <td>0.001044</td>\n",
       "      <td>4.195350</td>\n",
       "      <td>-9825.179957</td>\n",
       "    </tr>\n",
       "    <tr>\n",
       "      <th>7</th>\n",
       "      <td>0.001000</td>\n",
       "      <td>0.379647</td>\n",
       "      <td>0.001044</td>\n",
       "      <td>0.371688</td>\n",
       "      <td>-9825.179957</td>\n",
       "    </tr>\n",
       "    <tr>\n",
       "      <th>6</th>\n",
       "      <td>0.001000</td>\n",
       "      <td>0.116961</td>\n",
       "      <td>0.001044</td>\n",
       "      <td>0.108644</td>\n",
       "      <td>-9825.179957</td>\n",
       "    </tr>\n",
       "    <tr>\n",
       "      <th>26</th>\n",
       "      <td>0.021544</td>\n",
       "      <td>0.116961</td>\n",
       "      <td>0.004735</td>\n",
       "      <td>0.272936</td>\n",
       "      <td>-9825.179957</td>\n",
       "    </tr>\n",
       "    <tr>\n",
       "      <th>49</th>\n",
       "      <td>0.464159</td>\n",
       "      <td>4.000000</td>\n",
       "      <td>0.092965</td>\n",
       "      <td>3.877113</td>\n",
       "      <td>-9825.179957</td>\n",
       "    </tr>\n",
       "    <tr>\n",
       "      <th>8</th>\n",
       "      <td>0.001000</td>\n",
       "      <td>1.232310</td>\n",
       "      <td>0.001044</td>\n",
       "      <td>1.243624</td>\n",
       "      <td>-9825.179957</td>\n",
       "    </tr>\n",
       "    <tr>\n",
       "      <th>27</th>\n",
       "      <td>0.021544</td>\n",
       "      <td>0.379647</td>\n",
       "      <td>0.006268</td>\n",
       "      <td>0.551400</td>\n",
       "      <td>-9825.179957</td>\n",
       "    </tr>\n",
       "    <tr>\n",
       "      <th>18</th>\n",
       "      <td>0.004642</td>\n",
       "      <td>1.232310</td>\n",
       "      <td>0.004414</td>\n",
       "      <td>1.235935</td>\n",
       "      <td>-9825.179957</td>\n",
       "    </tr>\n",
       "    <tr>\n",
       "      <th>17</th>\n",
       "      <td>0.004642</td>\n",
       "      <td>0.379647</td>\n",
       "      <td>0.004414</td>\n",
       "      <td>0.374511</td>\n",
       "      <td>-9825.179957</td>\n",
       "    </tr>\n",
       "    <tr>\n",
       "      <th>28</th>\n",
       "      <td>0.021544</td>\n",
       "      <td>1.232310</td>\n",
       "      <td>0.012079</td>\n",
       "      <td>1.201627</td>\n",
       "      <td>-9825.179957</td>\n",
       "    </tr>\n",
       "    <tr>\n",
       "      <th>29</th>\n",
       "      <td>0.021544</td>\n",
       "      <td>4.000000</td>\n",
       "      <td>0.012079</td>\n",
       "      <td>4.224868</td>\n",
       "      <td>-9825.179957</td>\n",
       "    </tr>\n",
       "    <tr>\n",
       "      <th>38</th>\n",
       "      <td>0.100000</td>\n",
       "      <td>1.232310</td>\n",
       "      <td>0.030650</td>\n",
       "      <td>1.262050</td>\n",
       "      <td>-9825.179957</td>\n",
       "    </tr>\n",
       "    <tr>\n",
       "      <th>15</th>\n",
       "      <td>0.004642</td>\n",
       "      <td>0.036033</td>\n",
       "      <td>0.000822</td>\n",
       "      <td>0.096582</td>\n",
       "      <td>-9825.179957</td>\n",
       "    </tr>\n",
       "    <tr>\n",
       "      <th>5</th>\n",
       "      <td>0.001000</td>\n",
       "      <td>0.036033</td>\n",
       "      <td>0.000479</td>\n",
       "      <td>0.047682</td>\n",
       "      <td>-9825.179957</td>\n",
       "    </tr>\n",
       "    <tr>\n",
       "      <th>16</th>\n",
       "      <td>0.004642</td>\n",
       "      <td>0.116961</td>\n",
       "      <td>0.002126</td>\n",
       "      <td>0.171127</td>\n",
       "      <td>-9825.179957</td>\n",
       "    </tr>\n",
       "    <tr>\n",
       "      <th>39</th>\n",
       "      <td>0.100000</td>\n",
       "      <td>4.000000</td>\n",
       "      <td>0.113828</td>\n",
       "      <td>4.305707</td>\n",
       "      <td>-9825.179957</td>\n",
       "    </tr>\n",
       "    <tr>\n",
       "      <th>82</th>\n",
       "      <td>215.443469</td>\n",
       "      <td>0.003420</td>\n",
       "      <td>300.605096</td>\n",
       "      <td>0.000001</td>\n",
       "      <td>-9825.222496</td>\n",
       "    </tr>\n",
       "    <tr>\n",
       "      <th>92</th>\n",
       "      <td>1000.000000</td>\n",
       "      <td>0.003420</td>\n",
       "      <td>337.016302</td>\n",
       "      <td>0.000001</td>\n",
       "      <td>-9825.222512</td>\n",
       "    </tr>\n",
       "    <tr>\n",
       "      <th>81</th>\n",
       "      <td>215.443469</td>\n",
       "      <td>0.001054</td>\n",
       "      <td>637.204074</td>\n",
       "      <td>0.000001</td>\n",
       "      <td>-9825.222571</td>\n",
       "    </tr>\n",
       "  </tbody>\n",
       "</table>\n",
       "<p>98 rows × 5 columns</p>\n",
       "</div>"
      ],
      "text/plain": [
       "           nu_0       T_0      nu_opt     T_opt         logL\n",
       "47     0.464159  0.379647    6.607515  4.999997 -8432.350812\n",
       "55     2.154435  0.116961    6.607484  4.999997 -8432.350814\n",
       "87   215.443469  1.232310    6.607281  4.999999 -8432.350814\n",
       "95  1000.000000  0.379647    6.607693  4.999995 -8432.350817\n",
       "77    46.415888  1.232310    6.607869  4.999995 -8432.350821\n",
       "56     2.154435  0.379647    6.608082  4.999998 -8432.350821\n",
       "76    46.415888  0.379647    6.607876  4.999993 -8432.350826\n",
       "86   215.443469  0.379647    6.608089  4.999993 -8432.350835\n",
       "67    10.000000  1.232310    6.608133  4.999993 -8432.350836\n",
       "68    10.000000  4.000000    6.607394  4.999988 -8432.350839\n",
       "96  1000.000000  1.232310    6.608342  4.999996 -8432.350844\n",
       "88   215.443469  4.000000    6.607767  4.999980 -8432.350857\n",
       "66    10.000000  0.379647    6.608280  4.999981 -8432.350877\n",
       "58     2.154435  4.000000    6.608428  4.999986 -8432.350879\n",
       "57     2.154435  1.232310    6.606892  4.999969 -8432.350915\n",
       "97  1000.000000  4.000000    6.609853  4.999999 -8432.351105\n",
       "78    46.415888  4.000000    6.611146  4.999997 -8432.351568\n",
       "34     0.100000  0.011101    0.000142  0.000001 -9702.663060\n",
       "23     0.021544  0.003420    0.000142  0.000001 -9702.663060\n",
       "75    46.415888  0.116961    0.000142  0.000001 -9702.663060\n",
       "60    10.000000  0.000325    0.000142  0.000001 -9702.663060\n",
       "46     0.464159  0.116961    0.000142  0.000001 -9702.663060\n",
       "72    46.415888  0.003420    0.000142  0.000001 -9702.663060\n",
       "42     0.464159  0.001054    0.000142  0.000001 -9702.663060\n",
       "93  1000.000000  0.036033    0.000142  0.000001 -9702.663060\n",
       "10     0.004642  0.000100    0.000142  0.000001 -9702.663060\n",
       "91  1000.000000  0.001054    0.000142  0.000001 -9702.663060\n",
       "35     0.100000  0.036033    0.000142  0.000001 -9702.663060\n",
       "2      0.001000  0.001054    0.000142  0.000001 -9702.663060\n",
       "51     2.154435  0.000325    0.000142  0.000001 -9702.663060\n",
       "..          ...       ...         ...       ...          ...\n",
       "13     0.004642  0.003420    0.000117  0.000001 -9703.796795\n",
       "32     0.100000  0.001054    0.000117  0.000001 -9703.796796\n",
       "30     0.100000  0.000100    0.000117  0.000001 -9703.796810\n",
       "19     0.004642  4.000000    0.004413  4.222831 -9825.179957\n",
       "25     0.021544  0.036033    0.000392  1.338353 -9825.179957\n",
       "14     0.004642  0.011101    0.000291  0.164734 -9825.179957\n",
       "3      0.001000  0.003420    0.000125  0.017114 -9825.179957\n",
       "4      0.001000  0.011101    0.000312  0.020193 -9825.179957\n",
       "48     0.464159  1.232310    0.008205  1.510185 -9825.179957\n",
       "36     0.100000  0.116961    0.008146  1.929358 -9825.179957\n",
       "37     0.100000  0.379647    0.008146  1.345287 -9825.179957\n",
       "9      0.001000  4.000000    0.001044  4.195350 -9825.179957\n",
       "7      0.001000  0.379647    0.001044  0.371688 -9825.179957\n",
       "6      0.001000  0.116961    0.001044  0.108644 -9825.179957\n",
       "26     0.021544  0.116961    0.004735  0.272936 -9825.179957\n",
       "49     0.464159  4.000000    0.092965  3.877113 -9825.179957\n",
       "8      0.001000  1.232310    0.001044  1.243624 -9825.179957\n",
       "27     0.021544  0.379647    0.006268  0.551400 -9825.179957\n",
       "18     0.004642  1.232310    0.004414  1.235935 -9825.179957\n",
       "17     0.004642  0.379647    0.004414  0.374511 -9825.179957\n",
       "28     0.021544  1.232310    0.012079  1.201627 -9825.179957\n",
       "29     0.021544  4.000000    0.012079  4.224868 -9825.179957\n",
       "38     0.100000  1.232310    0.030650  1.262050 -9825.179957\n",
       "15     0.004642  0.036033    0.000822  0.096582 -9825.179957\n",
       "5      0.001000  0.036033    0.000479  0.047682 -9825.179957\n",
       "16     0.004642  0.116961    0.002126  0.171127 -9825.179957\n",
       "39     0.100000  4.000000    0.113828  4.305707 -9825.179957\n",
       "82   215.443469  0.003420  300.605096  0.000001 -9825.222496\n",
       "92  1000.000000  0.003420  337.016302  0.000001 -9825.222512\n",
       "81   215.443469  0.001054  637.204074  0.000001 -9825.222571\n",
       "\n",
       "[98 rows x 5 columns]"
      ]
     },
     "execution_count": 299,
     "metadata": {},
     "output_type": "execute_result"
    }
   ],
   "source": [
    "df.sort_values(by='logL', ascending=False)"
   ]
  },
  {
   "cell_type": "markdown",
   "metadata": {},
   "source": [
    "# What is the maximal reasonable value of $T$?"
   ]
  },
  {
   "cell_type": "markdown",
   "metadata": {},
   "source": [
    "The most likely parameter combinations are hitting the upper parameter bound for the time parameter again. I am not sure whether an even higher $T$ can reasonably be assumed."
   ]
  },
  {
   "cell_type": "markdown",
   "metadata": {},
   "source": [
    "The expected time to the most recent common ancestor (MRCA) in a neutral genealogy is:\n",
    "\n",
    "$$\n",
    "E\\big[T_{MRCA}\\big] = 2 \\Big(1-\\frac{1}{n}\\Big)\n",
    "$$\n",
    "\n",
    "measured in $2N_e$ generations. Note, that $T_{MRCA}$ is close to its large sample size limit of 2 already for moderate sample sizes."
   ]
  },
  {
   "cell_type": "code",
   "execution_count": 37,
   "metadata": {
    "collapsed": false
   },
   "outputs": [
    {
     "data": {
      "text/plain": [
       "1.9444444444444444"
      ]
     },
     "execution_count": 37,
     "metadata": {},
     "output_type": "execute_result"
    }
   ],
   "source": [
    "# the above formula for the sample sizes here yields:\n",
    "2 * (1-1.0/ns[0])"
   ]
  },
  {
   "cell_type": "markdown",
   "metadata": {},
   "source": [
    "See figure 3.4, p. 79, in Wakeley2009 for the distribution of the $T_{MRCA}$. For $n=36$ it has a mode close 1.2 and an expected value of 1.94. Values for $T_{MRCA}$ greater than 4 are very unlikely given a standard coalescent model, but may be more likely under models including population expansion or gene flow from another population."
   ]
  },
  {
   "cell_type": "code",
   "execution_count": 45,
   "metadata": {
    "collapsed": true
   },
   "outputs": [],
   "source": [
    "%%px\n",
    "\n",
    "upper_bound = [1e3, 9]"
   ]
  },
  {
   "cell_type": "code",
   "execution_count": 320,
   "metadata": {
    "collapsed": false
   },
   "outputs": [
    {
     "data": {
      "text/plain": [
       "[1000.0, 9]"
      ]
     },
     "execution_count": 320,
     "metadata": {},
     "output_type": "execute_result"
    }
   ],
   "source": [
    "cl[0]['upper_bound']"
   ]
  },
  {
   "cell_type": "code",
   "execution_count": 321,
   "metadata": {
    "collapsed": false
   },
   "outputs": [
    {
     "data": {
      "text/plain": [
       "[0.0001, 1e-06]"
      ]
     },
     "execution_count": 321,
     "metadata": {},
     "output_type": "execute_result"
    }
   ],
   "source": [
    "cl[0]['lower_bound']"
   ]
  },
  {
   "cell_type": "code",
   "execution_count": 310,
   "metadata": {
    "collapsed": true
   },
   "outputs": [],
   "source": [
    "ar_par_NM = lbview.map(run_dadi, product(p0_nu, p0_T), block=False, order=True)"
   ]
  },
  {
   "cell_type": "code",
   "execution_count": 311,
   "metadata": {
    "collapsed": false
   },
   "outputs": [
    {
     "data": {
      "text/plain": [
       "98"
      ]
     },
     "execution_count": 311,
     "metadata": {},
     "output_type": "execute_result"
    }
   ],
   "source": [
    "ar_par_NM.progress"
   ]
  },
  {
   "cell_type": "code",
   "execution_count": 312,
   "metadata": {
    "collapsed": false
   },
   "outputs": [
    {
     "name": "stdout",
     "output_type": "stream",
     "text": [
      "success 98\n",
      "Maximum number of function evaluations made. 0\n",
      "Maximum number of iterations reached. 2\n",
      "unknown flag 0\n"
     ]
    }
   ],
   "source": [
    "get_flag_count(ar_par_NM, NM=True)"
   ]
  },
  {
   "cell_type": "markdown",
   "metadata": {},
   "source": [
    "#### Removing starting parameter combinations that lead to extremely long running times"
   ]
  },
  {
   "cell_type": "code",
   "execution_count": 322,
   "metadata": {
    "collapsed": false
   },
   "outputs": [
    {
     "name": "stdout",
     "output_type": "stream",
     "text": [
      "(2.154434690031882, 0.0034199518933533931) [  1.42092098e-04   1.00001372e-06]\n",
      "(1000.0, 0.011100946155696227) [  1.42128126e-04   1.00003804e-06]\n"
     ]
    }
   ],
   "source": [
    "for p0, r in izip(product(p0_nu, p0_T), ar_par_NM):\n",
    "    if r[4] == 2: # if run hit maxiter limit\n",
    "        print p0, r[0]"
   ]
  },
  {
   "cell_type": "code",
   "execution_count": 326,
   "metadata": {
    "collapsed": false
   },
   "outputs": [
    {
     "name": "stdout",
     "output_type": "stream",
     "text": [
      "nu_0 = 0.021544, T_0 = 0.036033 \t nu = 0.000392, T = 1.338353 \t0:40:26.477521\n",
      "nu_0 = 0.001000, T_0 = 4.000000 \t nu = 0.001044, T = 4.195350 \t0:36:49.002706\n"
     ]
    }
   ],
   "source": [
    "x  = [(p0, xopt[0], m['completed'] - m['started']) for p0, xopt, m in izip(product(p0_nu, p0_T), ar_par_NM, ar_par_NM.metadata)]\n",
    "y = sorted(x, key=lambda x: x[2], reverse=True)\n",
    "\n",
    "for i, p in enumerate(y):\n",
    "    if i > 1: break\n",
    "    print \"nu_0 = %.6f, T_0 = %.6f \\t nu = %.6f, T = %.6f\" % (p[0][0], p[0][1], p[1][0], p[1][1]), \"\\t\", p[2]"
   ]
  },
  {
   "cell_type": "markdown",
   "metadata": {},
   "source": [
    "I want to get these starting values out, since they take too long to complete."
   ]
  },
  {
   "cell_type": "code",
   "execution_count": 335,
   "metadata": {
    "collapsed": false
   },
   "outputs": [
    {
     "data": {
      "text/plain": [
       "True"
      ]
     },
     "execution_count": 335,
     "metadata": {},
     "output_type": "execute_result"
    }
   ],
   "source": [
    "excl = [ex[0] for ex in y[:2]]\n",
    "excl[0] == excl[0]"
   ]
  },
  {
   "cell_type": "code",
   "execution_count": 342,
   "metadata": {
    "collapsed": false
   },
   "outputs": [
    {
     "name": "stdout",
     "output_type": "stream",
     "text": [
      "False\n",
      "False\n",
      "True\n"
     ]
    }
   ],
   "source": [
    "combs = [comb for comb in product(p0_nu, p0_T) if not (comb == excl[0] or comb == excl[1])]\n",
    "print excl[1] in combs\n",
    "print excl[0] in combs\n",
    "print combs[22] in combs"
   ]
  },
  {
   "cell_type": "markdown",
   "metadata": {},
   "source": [
    "Ok, I think the new parameter array does not include the sets that lead to such extreme running times."
   ]
  },
  {
   "cell_type": "code",
   "execution_count": 343,
   "metadata": {
    "collapsed": true
   },
   "outputs": [],
   "source": [
    "ar_par_NM = lbview.map(run_dadi, combs, block=False, order=True)"
   ]
  },
  {
   "cell_type": "code",
   "execution_count": 347,
   "metadata": {
    "collapsed": false
   },
   "outputs": [
    {
     "data": {
      "text/plain": [
       "98"
      ]
     },
     "execution_count": 347,
     "metadata": {},
     "output_type": "execute_result"
    }
   ],
   "source": [
    "ar_par_NM.progress"
   ]
  },
  {
   "cell_type": "code",
   "execution_count": 349,
   "metadata": {
    "collapsed": false
   },
   "outputs": [
    {
     "data": {
      "text/plain": [
       "11.455080816666667"
      ]
     },
     "execution_count": 349,
     "metadata": {},
     "output_type": "execute_result"
    }
   ],
   "source": [
    "ar_par_NM.elapsed/60"
   ]
  },
  {
   "cell_type": "markdown",
   "metadata": {},
   "source": [
    "11 instead of 40 minutes."
   ]
  },
  {
   "cell_type": "code",
   "execution_count": 348,
   "metadata": {
    "collapsed": false
   },
   "outputs": [
    {
     "name": "stdout",
     "output_type": "stream",
     "text": [
      "success 96\n",
      "Maximum number of function evaluations made. 0\n",
      "Maximum number of iterations reached. 2\n",
      "unknown flag 0\n"
     ]
    }
   ],
   "source": [
    "get_flag_count(ar_par_NM, NM=True)"
   ]
  },
  {
   "cell_type": "code",
   "execution_count": 350,
   "metadata": {
    "collapsed": true
   },
   "outputs": [],
   "source": [
    "# get log likelihood values for all parameters returned\n",
    "ll = get_ll.map([p[0] for p in ar_par_NM])"
   ]
  },
  {
   "cell_type": "code",
   "execution_count": 351,
   "metadata": {
    "collapsed": true
   },
   "outputs": [],
   "source": [
    "# create rows for dataframe, without the parameter values on non-convergent runs\n",
    "rows = [(p0[0], p0[1], xopt[0][0], xopt[0][1], logL) for p0, xopt, logL in izip(product(p0_nu, p0_T), ar_par_NM, ll) if xopt[4] == 0]"
   ]
  },
  {
   "cell_type": "code",
   "execution_count": 352,
   "metadata": {
    "collapsed": true
   },
   "outputs": [],
   "source": [
    "df = pd.DataFrame(data=rows, columns=['nu_0', 'T_0', 'nu_opt', 'T_opt', 'logL'])"
   ]
  },
  {
   "cell_type": "code",
   "execution_count": 353,
   "metadata": {
    "collapsed": false
   },
   "outputs": [
    {
     "data": {
      "text/html": [
       "<div>\n",
       "<table border=\"1\" class=\"dataframe\">\n",
       "  <thead>\n",
       "    <tr style=\"text-align: right;\">\n",
       "      <th></th>\n",
       "      <th>nu_0</th>\n",
       "      <th>T_0</th>\n",
       "      <th>nu_opt</th>\n",
       "      <th>T_opt</th>\n",
       "      <th>logL</th>\n",
       "    </tr>\n",
       "  </thead>\n",
       "  <tbody>\n",
       "    <tr>\n",
       "      <th>55</th>\n",
       "      <td>2.154435</td>\n",
       "      <td>0.116961</td>\n",
       "      <td>10.916014</td>\n",
       "      <td>8.999996</td>\n",
       "      <td>-8427.371011</td>\n",
       "    </tr>\n",
       "    <tr>\n",
       "      <th>74</th>\n",
       "      <td>46.415888</td>\n",
       "      <td>0.036033</td>\n",
       "      <td>10.916156</td>\n",
       "      <td>8.999985</td>\n",
       "      <td>-8427.371017</td>\n",
       "    </tr>\n",
       "    <tr>\n",
       "      <th>64</th>\n",
       "      <td>10.000000</td>\n",
       "      <td>0.036033</td>\n",
       "      <td>10.916202</td>\n",
       "      <td>8.999970</td>\n",
       "      <td>-8427.371027</td>\n",
       "    </tr>\n",
       "    <tr>\n",
       "      <th>65</th>\n",
       "      <td>10.000000</td>\n",
       "      <td>0.116961</td>\n",
       "      <td>10.916538</td>\n",
       "      <td>8.999964</td>\n",
       "      <td>-8427.371034</td>\n",
       "    </tr>\n",
       "    <tr>\n",
       "      <th>94</th>\n",
       "      <td>1000.000000</td>\n",
       "      <td>0.116961</td>\n",
       "      <td>10.915734</td>\n",
       "      <td>8.999962</td>\n",
       "      <td>-8427.371034</td>\n",
       "    </tr>\n",
       "    <tr>\n",
       "      <th>86</th>\n",
       "      <td>215.443469</td>\n",
       "      <td>0.379647</td>\n",
       "      <td>10.916784</td>\n",
       "      <td>8.999967</td>\n",
       "      <td>-8427.371038</td>\n",
       "    </tr>\n",
       "    <tr>\n",
       "      <th>95</th>\n",
       "      <td>1000.000000</td>\n",
       "      <td>0.379647</td>\n",
       "      <td>10.915593</td>\n",
       "      <td>8.999947</td>\n",
       "      <td>-8427.371046</td>\n",
       "    </tr>\n",
       "    <tr>\n",
       "      <th>45</th>\n",
       "      <td>0.464159</td>\n",
       "      <td>0.036033</td>\n",
       "      <td>10.915737</td>\n",
       "      <td>8.999939</td>\n",
       "      <td>-8427.371048</td>\n",
       "    </tr>\n",
       "    <tr>\n",
       "      <th>76</th>\n",
       "      <td>46.415888</td>\n",
       "      <td>0.379647</td>\n",
       "      <td>10.916366</td>\n",
       "      <td>8.999931</td>\n",
       "      <td>-8427.371052</td>\n",
       "    </tr>\n",
       "    <tr>\n",
       "      <th>53</th>\n",
       "      <td>2.154435</td>\n",
       "      <td>0.011101</td>\n",
       "      <td>10.915707</td>\n",
       "      <td>8.999904</td>\n",
       "      <td>-8427.371070</td>\n",
       "    </tr>\n",
       "    <tr>\n",
       "      <th>56</th>\n",
       "      <td>2.154435</td>\n",
       "      <td>0.379647</td>\n",
       "      <td>10.918372</td>\n",
       "      <td>8.999940</td>\n",
       "      <td>-8427.371162</td>\n",
       "    </tr>\n",
       "    <tr>\n",
       "      <th>93</th>\n",
       "      <td>1000.000000</td>\n",
       "      <td>0.036033</td>\n",
       "      <td>10.919474</td>\n",
       "      <td>8.999965</td>\n",
       "      <td>-8427.371283</td>\n",
       "    </tr>\n",
       "    <tr>\n",
       "      <th>54</th>\n",
       "      <td>2.154435</td>\n",
       "      <td>0.036033</td>\n",
       "      <td>10.912450</td>\n",
       "      <td>8.999985</td>\n",
       "      <td>-8427.371323</td>\n",
       "    </tr>\n",
       "    <tr>\n",
       "      <th>75</th>\n",
       "      <td>46.415888</td>\n",
       "      <td>0.116961</td>\n",
       "      <td>10.906295</td>\n",
       "      <td>8.999925</td>\n",
       "      <td>-8427.373200</td>\n",
       "    </tr>\n",
       "    <tr>\n",
       "      <th>84</th>\n",
       "      <td>215.443469</td>\n",
       "      <td>0.036033</td>\n",
       "      <td>10.901372</td>\n",
       "      <td>8.999991</td>\n",
       "      <td>-8427.375911</td>\n",
       "    </tr>\n",
       "    <tr>\n",
       "      <th>85</th>\n",
       "      <td>215.443469</td>\n",
       "      <td>0.116961</td>\n",
       "      <td>10.898892</td>\n",
       "      <td>8.999995</td>\n",
       "      <td>-8427.377693</td>\n",
       "    </tr>\n",
       "    <tr>\n",
       "      <th>66</th>\n",
       "      <td>10.000000</td>\n",
       "      <td>0.379647</td>\n",
       "      <td>10.943858</td>\n",
       "      <td>8.999929</td>\n",
       "      <td>-8427.385887</td>\n",
       "    </tr>\n",
       "    <tr>\n",
       "      <th>32</th>\n",
       "      <td>0.100000</td>\n",
       "      <td>0.001054</td>\n",
       "      <td>0.000142</td>\n",
       "      <td>0.000001</td>\n",
       "      <td>-9702.663060</td>\n",
       "    </tr>\n",
       "    <tr>\n",
       "      <th>22</th>\n",
       "      <td>0.021544</td>\n",
       "      <td>0.001054</td>\n",
       "      <td>0.000142</td>\n",
       "      <td>0.000001</td>\n",
       "      <td>-9702.663060</td>\n",
       "    </tr>\n",
       "    <tr>\n",
       "      <th>73</th>\n",
       "      <td>46.415888</td>\n",
       "      <td>0.011101</td>\n",
       "      <td>0.000142</td>\n",
       "      <td>0.000001</td>\n",
       "      <td>-9702.663060</td>\n",
       "    </tr>\n",
       "    <tr>\n",
       "      <th>58</th>\n",
       "      <td>2.154435</td>\n",
       "      <td>4.000000</td>\n",
       "      <td>0.000142</td>\n",
       "      <td>0.000001</td>\n",
       "      <td>-9702.663060</td>\n",
       "    </tr>\n",
       "    <tr>\n",
       "      <th>44</th>\n",
       "      <td>0.464159</td>\n",
       "      <td>0.011101</td>\n",
       "      <td>0.000142</td>\n",
       "      <td>0.000001</td>\n",
       "      <td>-9702.663060</td>\n",
       "    </tr>\n",
       "    <tr>\n",
       "      <th>70</th>\n",
       "      <td>46.415888</td>\n",
       "      <td>0.000325</td>\n",
       "      <td>0.000142</td>\n",
       "      <td>0.000001</td>\n",
       "      <td>-9702.663060</td>\n",
       "    </tr>\n",
       "    <tr>\n",
       "      <th>40</th>\n",
       "      <td>0.464159</td>\n",
       "      <td>0.000100</td>\n",
       "      <td>0.000142</td>\n",
       "      <td>0.000001</td>\n",
       "      <td>-9702.663060</td>\n",
       "    </tr>\n",
       "    <tr>\n",
       "      <th>91</th>\n",
       "      <td>1000.000000</td>\n",
       "      <td>0.003420</td>\n",
       "      <td>0.000142</td>\n",
       "      <td>0.000001</td>\n",
       "      <td>-9702.663060</td>\n",
       "    </tr>\n",
       "    <tr>\n",
       "      <th>9</th>\n",
       "      <td>0.001000</td>\n",
       "      <td>4.000000</td>\n",
       "      <td>0.000142</td>\n",
       "      <td>0.000001</td>\n",
       "      <td>-9702.663060</td>\n",
       "    </tr>\n",
       "    <tr>\n",
       "      <th>89</th>\n",
       "      <td>1000.000000</td>\n",
       "      <td>0.000100</td>\n",
       "      <td>0.000142</td>\n",
       "      <td>0.000001</td>\n",
       "      <td>-9702.663060</td>\n",
       "    </tr>\n",
       "    <tr>\n",
       "      <th>33</th>\n",
       "      <td>0.100000</td>\n",
       "      <td>0.003420</td>\n",
       "      <td>0.000142</td>\n",
       "      <td>0.000001</td>\n",
       "      <td>-9702.663060</td>\n",
       "    </tr>\n",
       "    <tr>\n",
       "      <th>2</th>\n",
       "      <td>0.001000</td>\n",
       "      <td>0.001054</td>\n",
       "      <td>0.000142</td>\n",
       "      <td>0.000001</td>\n",
       "      <td>-9702.663060</td>\n",
       "    </tr>\n",
       "    <tr>\n",
       "      <th>49</th>\n",
       "      <td>0.464159</td>\n",
       "      <td>4.000000</td>\n",
       "      <td>0.000142</td>\n",
       "      <td>0.000001</td>\n",
       "      <td>-9702.663060</td>\n",
       "    </tr>\n",
       "    <tr>\n",
       "      <th>...</th>\n",
       "      <td>...</td>\n",
       "      <td>...</td>\n",
       "      <td>...</td>\n",
       "      <td>...</td>\n",
       "      <td>...</td>\n",
       "    </tr>\n",
       "    <tr>\n",
       "      <th>29</th>\n",
       "      <td>0.021544</td>\n",
       "      <td>4.000000</td>\n",
       "      <td>0.000117</td>\n",
       "      <td>0.000001</td>\n",
       "      <td>-9703.796795</td>\n",
       "    </tr>\n",
       "    <tr>\n",
       "      <th>82</th>\n",
       "      <td>215.443469</td>\n",
       "      <td>0.003420</td>\n",
       "      <td>0.000117</td>\n",
       "      <td>0.000001</td>\n",
       "      <td>-9703.796795</td>\n",
       "    </tr>\n",
       "    <tr>\n",
       "      <th>12</th>\n",
       "      <td>0.004642</td>\n",
       "      <td>0.001054</td>\n",
       "      <td>0.000117</td>\n",
       "      <td>0.000001</td>\n",
       "      <td>-9703.796795</td>\n",
       "    </tr>\n",
       "    <tr>\n",
       "      <th>30</th>\n",
       "      <td>0.100000</td>\n",
       "      <td>0.000100</td>\n",
       "      <td>0.000117</td>\n",
       "      <td>0.000001</td>\n",
       "      <td>-9703.796796</td>\n",
       "    </tr>\n",
       "    <tr>\n",
       "      <th>28</th>\n",
       "      <td>0.021544</td>\n",
       "      <td>1.232310</td>\n",
       "      <td>0.000117</td>\n",
       "      <td>0.000001</td>\n",
       "      <td>-9703.796810</td>\n",
       "    </tr>\n",
       "    <tr>\n",
       "      <th>18</th>\n",
       "      <td>0.004642</td>\n",
       "      <td>1.232310</td>\n",
       "      <td>0.004413</td>\n",
       "      <td>4.222831</td>\n",
       "      <td>-9825.179957</td>\n",
       "    </tr>\n",
       "    <tr>\n",
       "      <th>13</th>\n",
       "      <td>0.004642</td>\n",
       "      <td>0.003420</td>\n",
       "      <td>0.000291</td>\n",
       "      <td>0.164734</td>\n",
       "      <td>-9825.179957</td>\n",
       "    </tr>\n",
       "    <tr>\n",
       "      <th>3</th>\n",
       "      <td>0.001000</td>\n",
       "      <td>0.003420</td>\n",
       "      <td>0.000125</td>\n",
       "      <td>0.017114</td>\n",
       "      <td>-9825.179957</td>\n",
       "    </tr>\n",
       "    <tr>\n",
       "      <th>4</th>\n",
       "      <td>0.001000</td>\n",
       "      <td>0.011101</td>\n",
       "      <td>0.000312</td>\n",
       "      <td>0.020193</td>\n",
       "      <td>-9825.179957</td>\n",
       "    </tr>\n",
       "    <tr>\n",
       "      <th>46</th>\n",
       "      <td>0.464159</td>\n",
       "      <td>0.116961</td>\n",
       "      <td>0.008205</td>\n",
       "      <td>1.510185</td>\n",
       "      <td>-9825.179957</td>\n",
       "    </tr>\n",
       "    <tr>\n",
       "      <th>34</th>\n",
       "      <td>0.100000</td>\n",
       "      <td>0.011101</td>\n",
       "      <td>0.008146</td>\n",
       "      <td>1.929358</td>\n",
       "      <td>-9825.179957</td>\n",
       "    </tr>\n",
       "    <tr>\n",
       "      <th>35</th>\n",
       "      <td>0.100000</td>\n",
       "      <td>0.036033</td>\n",
       "      <td>0.008146</td>\n",
       "      <td>1.345287</td>\n",
       "      <td>-9825.179957</td>\n",
       "    </tr>\n",
       "    <tr>\n",
       "      <th>7</th>\n",
       "      <td>0.001000</td>\n",
       "      <td>0.379647</td>\n",
       "      <td>0.001044</td>\n",
       "      <td>0.371688</td>\n",
       "      <td>-9825.179957</td>\n",
       "    </tr>\n",
       "    <tr>\n",
       "      <th>47</th>\n",
       "      <td>0.464159</td>\n",
       "      <td>0.379647</td>\n",
       "      <td>0.150241</td>\n",
       "      <td>6.421112</td>\n",
       "      <td>-9825.179957</td>\n",
       "    </tr>\n",
       "    <tr>\n",
       "      <th>6</th>\n",
       "      <td>0.001000</td>\n",
       "      <td>0.116961</td>\n",
       "      <td>0.001044</td>\n",
       "      <td>0.108644</td>\n",
       "      <td>-9825.179957</td>\n",
       "    </tr>\n",
       "    <tr>\n",
       "      <th>24</th>\n",
       "      <td>0.021544</td>\n",
       "      <td>0.011101</td>\n",
       "      <td>0.004735</td>\n",
       "      <td>0.272936</td>\n",
       "      <td>-9825.179957</td>\n",
       "    </tr>\n",
       "    <tr>\n",
       "      <th>8</th>\n",
       "      <td>0.001000</td>\n",
       "      <td>1.232310</td>\n",
       "      <td>0.001044</td>\n",
       "      <td>1.243624</td>\n",
       "      <td>-9825.179957</td>\n",
       "    </tr>\n",
       "    <tr>\n",
       "      <th>25</th>\n",
       "      <td>0.021544</td>\n",
       "      <td>0.036033</td>\n",
       "      <td>0.006268</td>\n",
       "      <td>0.551400</td>\n",
       "      <td>-9825.179957</td>\n",
       "    </tr>\n",
       "    <tr>\n",
       "      <th>17</th>\n",
       "      <td>0.004642</td>\n",
       "      <td>0.379647</td>\n",
       "      <td>0.004414</td>\n",
       "      <td>1.235935</td>\n",
       "      <td>-9825.179957</td>\n",
       "    </tr>\n",
       "    <tr>\n",
       "      <th>16</th>\n",
       "      <td>0.004642</td>\n",
       "      <td>0.116961</td>\n",
       "      <td>0.004414</td>\n",
       "      <td>0.374511</td>\n",
       "      <td>-9825.179957</td>\n",
       "    </tr>\n",
       "    <tr>\n",
       "      <th>26</th>\n",
       "      <td>0.021544</td>\n",
       "      <td>0.116961</td>\n",
       "      <td>0.012079</td>\n",
       "      <td>1.201627</td>\n",
       "      <td>-9825.179957</td>\n",
       "    </tr>\n",
       "    <tr>\n",
       "      <th>27</th>\n",
       "      <td>0.021544</td>\n",
       "      <td>0.379647</td>\n",
       "      <td>0.012079</td>\n",
       "      <td>4.224868</td>\n",
       "      <td>-9825.179957</td>\n",
       "    </tr>\n",
       "    <tr>\n",
       "      <th>36</th>\n",
       "      <td>0.100000</td>\n",
       "      <td>0.116961</td>\n",
       "      <td>0.030650</td>\n",
       "      <td>1.262050</td>\n",
       "      <td>-9825.179957</td>\n",
       "    </tr>\n",
       "    <tr>\n",
       "      <th>14</th>\n",
       "      <td>0.004642</td>\n",
       "      <td>0.011101</td>\n",
       "      <td>0.000822</td>\n",
       "      <td>0.096582</td>\n",
       "      <td>-9825.179957</td>\n",
       "    </tr>\n",
       "    <tr>\n",
       "      <th>5</th>\n",
       "      <td>0.001000</td>\n",
       "      <td>0.036033</td>\n",
       "      <td>0.000479</td>\n",
       "      <td>0.047682</td>\n",
       "      <td>-9825.179957</td>\n",
       "    </tr>\n",
       "    <tr>\n",
       "      <th>15</th>\n",
       "      <td>0.004642</td>\n",
       "      <td>0.036033</td>\n",
       "      <td>0.002126</td>\n",
       "      <td>0.171127</td>\n",
       "      <td>-9825.179957</td>\n",
       "    </tr>\n",
       "    <tr>\n",
       "      <th>37</th>\n",
       "      <td>0.100000</td>\n",
       "      <td>0.379647</td>\n",
       "      <td>0.113828</td>\n",
       "      <td>4.305707</td>\n",
       "      <td>-9825.179957</td>\n",
       "    </tr>\n",
       "    <tr>\n",
       "      <th>80</th>\n",
       "      <td>215.443469</td>\n",
       "      <td>0.000325</td>\n",
       "      <td>300.605096</td>\n",
       "      <td>0.000001</td>\n",
       "      <td>-9825.222496</td>\n",
       "    </tr>\n",
       "    <tr>\n",
       "      <th>90</th>\n",
       "      <td>1000.000000</td>\n",
       "      <td>0.000325</td>\n",
       "      <td>337.016302</td>\n",
       "      <td>0.000001</td>\n",
       "      <td>-9825.222512</td>\n",
       "    </tr>\n",
       "    <tr>\n",
       "      <th>79</th>\n",
       "      <td>215.443469</td>\n",
       "      <td>0.000100</td>\n",
       "      <td>637.204074</td>\n",
       "      <td>0.000001</td>\n",
       "      <td>-9825.222571</td>\n",
       "    </tr>\n",
       "  </tbody>\n",
       "</table>\n",
       "<p>96 rows × 5 columns</p>\n",
       "</div>"
      ],
      "text/plain": [
       "           nu_0       T_0      nu_opt     T_opt         logL\n",
       "55     2.154435  0.116961   10.916014  8.999996 -8427.371011\n",
       "74    46.415888  0.036033   10.916156  8.999985 -8427.371017\n",
       "64    10.000000  0.036033   10.916202  8.999970 -8427.371027\n",
       "65    10.000000  0.116961   10.916538  8.999964 -8427.371034\n",
       "94  1000.000000  0.116961   10.915734  8.999962 -8427.371034\n",
       "86   215.443469  0.379647   10.916784  8.999967 -8427.371038\n",
       "95  1000.000000  0.379647   10.915593  8.999947 -8427.371046\n",
       "45     0.464159  0.036033   10.915737  8.999939 -8427.371048\n",
       "76    46.415888  0.379647   10.916366  8.999931 -8427.371052\n",
       "53     2.154435  0.011101   10.915707  8.999904 -8427.371070\n",
       "56     2.154435  0.379647   10.918372  8.999940 -8427.371162\n",
       "93  1000.000000  0.036033   10.919474  8.999965 -8427.371283\n",
       "54     2.154435  0.036033   10.912450  8.999985 -8427.371323\n",
       "75    46.415888  0.116961   10.906295  8.999925 -8427.373200\n",
       "84   215.443469  0.036033   10.901372  8.999991 -8427.375911\n",
       "85   215.443469  0.116961   10.898892  8.999995 -8427.377693\n",
       "66    10.000000  0.379647   10.943858  8.999929 -8427.385887\n",
       "32     0.100000  0.001054    0.000142  0.000001 -9702.663060\n",
       "22     0.021544  0.001054    0.000142  0.000001 -9702.663060\n",
       "73    46.415888  0.011101    0.000142  0.000001 -9702.663060\n",
       "58     2.154435  4.000000    0.000142  0.000001 -9702.663060\n",
       "44     0.464159  0.011101    0.000142  0.000001 -9702.663060\n",
       "70    46.415888  0.000325    0.000142  0.000001 -9702.663060\n",
       "40     0.464159  0.000100    0.000142  0.000001 -9702.663060\n",
       "91  1000.000000  0.003420    0.000142  0.000001 -9702.663060\n",
       "9      0.001000  4.000000    0.000142  0.000001 -9702.663060\n",
       "89  1000.000000  0.000100    0.000142  0.000001 -9702.663060\n",
       "33     0.100000  0.003420    0.000142  0.000001 -9702.663060\n",
       "2      0.001000  0.001054    0.000142  0.000001 -9702.663060\n",
       "49     0.464159  4.000000    0.000142  0.000001 -9702.663060\n",
       "..          ...       ...         ...       ...          ...\n",
       "29     0.021544  4.000000    0.000117  0.000001 -9703.796795\n",
       "82   215.443469  0.003420    0.000117  0.000001 -9703.796795\n",
       "12     0.004642  0.001054    0.000117  0.000001 -9703.796795\n",
       "30     0.100000  0.000100    0.000117  0.000001 -9703.796796\n",
       "28     0.021544  1.232310    0.000117  0.000001 -9703.796810\n",
       "18     0.004642  1.232310    0.004413  4.222831 -9825.179957\n",
       "13     0.004642  0.003420    0.000291  0.164734 -9825.179957\n",
       "3      0.001000  0.003420    0.000125  0.017114 -9825.179957\n",
       "4      0.001000  0.011101    0.000312  0.020193 -9825.179957\n",
       "46     0.464159  0.116961    0.008205  1.510185 -9825.179957\n",
       "34     0.100000  0.011101    0.008146  1.929358 -9825.179957\n",
       "35     0.100000  0.036033    0.008146  1.345287 -9825.179957\n",
       "7      0.001000  0.379647    0.001044  0.371688 -9825.179957\n",
       "47     0.464159  0.379647    0.150241  6.421112 -9825.179957\n",
       "6      0.001000  0.116961    0.001044  0.108644 -9825.179957\n",
       "24     0.021544  0.011101    0.004735  0.272936 -9825.179957\n",
       "8      0.001000  1.232310    0.001044  1.243624 -9825.179957\n",
       "25     0.021544  0.036033    0.006268  0.551400 -9825.179957\n",
       "17     0.004642  0.379647    0.004414  1.235935 -9825.179957\n",
       "16     0.004642  0.116961    0.004414  0.374511 -9825.179957\n",
       "26     0.021544  0.116961    0.012079  1.201627 -9825.179957\n",
       "27     0.021544  0.379647    0.012079  4.224868 -9825.179957\n",
       "36     0.100000  0.116961    0.030650  1.262050 -9825.179957\n",
       "14     0.004642  0.011101    0.000822  0.096582 -9825.179957\n",
       "5      0.001000  0.036033    0.000479  0.047682 -9825.179957\n",
       "15     0.004642  0.036033    0.002126  0.171127 -9825.179957\n",
       "37     0.100000  0.379647    0.113828  4.305707 -9825.179957\n",
       "80   215.443469  0.000325  300.605096  0.000001 -9825.222496\n",
       "90  1000.000000  0.000325  337.016302  0.000001 -9825.222512\n",
       "79   215.443469  0.000100  637.204074  0.000001 -9825.222571\n",
       "\n",
       "[96 rows x 5 columns]"
      ]
     },
     "execution_count": 353,
     "metadata": {},
     "output_type": "execute_result"
    }
   ],
   "source": [
    "df.sort_values(by='logL', ascending=False)"
   ]
  },
  {
   "cell_type": "markdown",
   "metadata": {},
   "source": [
    "Still hitting the boundaries of $T$. Something does not work here."
   ]
  },
  {
   "cell_type": "markdown",
   "metadata": {},
   "source": [
    "I am not sure whether it is worth continuing."
   ]
  },
  {
   "cell_type": "markdown",
   "metadata": {},
   "source": [
    "Ryan Gutenkunst:\n",
    "\n",
    ">This indicates that dadi is having trouble fitting your data. One possibility is that the history of the population includes important events that aren’t in your models. Another possibility is that your data is biased in ways that aren’t in your models. For example, maybe your missing calls for rare alleles.\n",
    "\n",
    "[dadi forum thread on parameters hitting the boundary](https://groups.google.com/forum/#!searchin/dadi-user/boundary%7Csort:relevance/dadi-user/3g9M2Lwc84s/5qbzVry2AQAJ)"
   ]
  },
  {
   "cell_type": "markdown",
   "metadata": {},
   "source": [
    "The data is clearly biased or at least very noisy. However, the models that only include a single event, one event of growth or decline, might also be too simplistic. So, I think before I go on and try to further clean the data, I should try the two remaining more complex 1D models that come with dadi: `bottlegrowth` and `three_epoch`. If I cannot reliably estimate parameter values for those models, then I think it is most likely a data issue."
   ]
  },
  {
   "cell_type": "code",
   "execution_count": 34,
   "metadata": {
    "collapsed": true
   },
   "outputs": [],
   "source": [
    "?dadi.Demographics1D.bottlegrowth"
   ]
  },
  {
   "cell_type": "code",
   "execution_count": 35,
   "metadata": {
    "collapsed": true
   },
   "outputs": [],
   "source": [
    "?dadi.Demographics1D.three_epoch"
   ]
  },
  {
   "cell_type": "markdown",
   "metadata": {},
   "source": [
    "These two models shall be analysed in separete notebooks."
   ]
  },
  {
   "cell_type": "code",
   "execution_count": null,
   "metadata": {
    "collapsed": true
   },
   "outputs": [],
   "source": []
  }
 ],
 "metadata": {
  "anaconda-cloud": {},
  "kernelspec": {
   "display_name": "Python [default]",
   "language": "python",
   "name": "python2"
  },
  "language_info": {
   "codemirror_mode": {
    "name": "ipython",
    "version": 2
   },
   "file_extension": ".py",
   "mimetype": "text/x-python",
   "name": "python",
   "nbconvert_exporter": "python",
   "pygments_lexer": "ipython2",
   "version": "2.7.12"
  },
  "toc": {
   "colors": {
    "hover_highlight": "#DAA520",
    "running_highlight": "#FF0000",
    "selected_highlight": "#FFD700"
   },
   "moveMenuLeft": true,
   "nav_menu": {
    "height": "142px",
    "width": "252px"
   },
   "navigate_menu": true,
   "number_sections": true,
   "sideBar": true,
   "threshold": 4,
   "toc_cell": true,
   "toc_position": {
    "height": "625px",
    "left": "0px",
    "right": "1109px",
    "top": "107px",
    "width": "211px"
   },
   "toc_section_display": "block",
   "toc_window_display": true
  }
 },
 "nbformat": 4,
 "nbformat_minor": 0
}
