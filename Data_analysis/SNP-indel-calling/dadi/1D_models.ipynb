{
 "cells": [
  {
   "cell_type": "markdown",
   "metadata": {},
   "source": [
    "## Load $\\delta$a$\\delta$i"
   ]
  },
  {
   "cell_type": "markdown",
   "metadata": {},
   "source": [
    "I have not installed dadi globally on huluvu. Instead, I left it in my Downloads directory '/home/claudius/Downloads/dadi'. In order for Python to find that module, I need to add that directory to the PYTHONPATH variable."
   ]
  },
  {
   "cell_type": "code",
   "execution_count": 2,
   "metadata": {
    "collapsed": false
   },
   "outputs": [
    {
     "data": {
      "text/plain": [
       "['',\n",
       " '/usr/local/anaconda2/lib/python27.zip',\n",
       " '/usr/local/anaconda2/lib/python2.7',\n",
       " '/usr/local/anaconda2/lib/python2.7/plat-linux2',\n",
       " '/usr/local/anaconda2/lib/python2.7/lib-tk',\n",
       " '/usr/local/anaconda2/lib/python2.7/lib-old',\n",
       " '/usr/local/anaconda2/lib/python2.7/lib-dynload',\n",
       " '/usr/local/anaconda2/lib/python2.7/site-packages/Sphinx-1.3.5-py2.7.egg',\n",
       " '/usr/local/anaconda2/lib/python2.7/site-packages/setuptools-20.3-py2.7.egg',\n",
       " '/usr/local/anaconda2/lib/python2.7/site-packages',\n",
       " '/usr/local/anaconda2/lib/python2.7/site-packages/IPython/extensions',\n",
       " '/home/claudius/.ipython']"
      ]
     },
     "execution_count": 2,
     "metadata": {},
     "output_type": "execute_result"
    }
   ],
   "source": [
    "import sys\n",
    "\n",
    "sys.path"
   ]
  },
  {
   "cell_type": "code",
   "execution_count": 3,
   "metadata": {
    "collapsed": false
   },
   "outputs": [],
   "source": [
    "sys.path.insert(0, '/home/claudius/Downloads/dadi')"
   ]
  },
  {
   "cell_type": "code",
   "execution_count": 4,
   "metadata": {
    "collapsed": false
   },
   "outputs": [
    {
     "data": {
      "text/plain": [
       "['/home/claudius/Downloads/dadi',\n",
       " '',\n",
       " '/usr/local/anaconda2/lib/python27.zip',\n",
       " '/usr/local/anaconda2/lib/python2.7',\n",
       " '/usr/local/anaconda2/lib/python2.7/plat-linux2',\n",
       " '/usr/local/anaconda2/lib/python2.7/lib-tk',\n",
       " '/usr/local/anaconda2/lib/python2.7/lib-old',\n",
       " '/usr/local/anaconda2/lib/python2.7/lib-dynload',\n",
       " '/usr/local/anaconda2/lib/python2.7/site-packages/Sphinx-1.3.5-py2.7.egg',\n",
       " '/usr/local/anaconda2/lib/python2.7/site-packages/setuptools-20.3-py2.7.egg',\n",
       " '/usr/local/anaconda2/lib/python2.7/site-packages',\n",
       " '/usr/local/anaconda2/lib/python2.7/site-packages/IPython/extensions',\n",
       " '/home/claudius/.ipython']"
      ]
     },
     "execution_count": 4,
     "metadata": {},
     "output_type": "execute_result"
    }
   ],
   "source": [
    "sys.path"
   ]
  },
  {
   "cell_type": "code",
   "execution_count": 5,
   "metadata": {
    "collapsed": true
   },
   "outputs": [],
   "source": [
    "import dadi"
   ]
  },
  {
   "cell_type": "code",
   "execution_count": 6,
   "metadata": {
    "collapsed": true
   },
   "outputs": [],
   "source": [
    "import pylab\n",
    "\n",
    "pylab.rcParams['figure.figsize'] = [12.0, 10.0]\n",
    "\n",
    "%matplotlib inline"
   ]
  },
  {
   "cell_type": "markdown",
   "metadata": {},
   "source": [
    "## Load data"
   ]
  },
  {
   "cell_type": "code",
   "execution_count": 7,
   "metadata": {
    "collapsed": false
   },
   "outputs": [
    {
     "name": "stdout",
     "output_type": "stream",
     "text": [
      "total 33676\r\n",
      "lrwxrwxrwx 1 claudius       53 Feb 17 15:37 \u001b[0m\u001b[01;36mERY.FOLDED.sfs\u001b[0m -> /data3/claudius/Big_Data/ANGSD/SFS/ERY/ERY.FOLDED.sfs\r\n",
      "-rw-rw-r-- 1 claudius      499 Mar 24 14:04 ERY.FOLDED.sfs.dadi_format\r\n",
      "-rw-rw-r-- 1 claudius      499 Mar 24 14:02 ERY.FOLDED.sfs.dadi_format~\r\n",
      "lrwxrwxrwx 1 claudius       37 Feb 18 17:46 \u001b[01;36mEryPar.unfolded.2dsfs\u001b[0m -> ../../ANGSD/FST/EryPar.unfolded.2dsfs\r\n",
      "-rw-rw-r-- 1 claudius    13051 Feb 18 19:00 EryPar.unfolded.2dsfs.dadi_format\r\n",
      "-rw-rw-r-- 1 claudius    13051 Feb 18 18:31 EryPar.unfolded.2dsfs.dadi_format~\r\n",
      "drwxrwxr-x 5 claudius     4096 Feb 17 13:45 \u001b[01;34mexamples\u001b[0m/\r\n",
      "-rw-rw-r-- 1 claudius   155251 Mar 22 12:37 example_YRI_CEU.ipynb\r\n",
      "-rw-rw-r-- 1 claudius   619518 Mar 21 11:09 First_Steps_with_dadi.ipynb\r\n",
      "-rw-rw-r-- 1 claudius     1012 Mar 16 09:54 new.bib\r\n",
      "lrwxrwxrwx 1 claudius       53 Feb 17 15:37 \u001b[01;36mPAR.FOLDED.sfs\u001b[0m -> /data3/claudius/Big_Data/ANGSD/SFS/PAR/PAR.FOLDED.sfs\r\n",
      "-rw-rw-r-- 1 claudius      486 Mar 24 20:08 PAR.FOLDED.sfs.dadi_format\r\n",
      "-rw-rw-r-- 1 claudius      450 Mar 24 20:08 PAR.FOLDED.sfs.dadi_format~\r\n",
      "-rw-rw-r-- 1 claudius       18 Mar 19 11:20 seedms\r\n",
      "-rw-rw-r-- 1 claudius 33643874 Mar 19 11:20 test.msout\r\n"
     ]
    }
   ],
   "source": [
    "% ll dadiExercises/"
   ]
  },
  {
   "cell_type": "code",
   "execution_count": 8,
   "metadata": {
    "collapsed": false
   },
   "outputs": [
    {
     "name": "stdout",
     "output_type": "stream",
     "text": [
      "# this is the ML estimate of the folded sample frequency spectrum for erythropus, estimated with realSFS of ANGSD\r\n",
      "# this is the spectrum in dadi format (see section 3.1 of the manual)\r\n",
      "37 folded\r\n",
      "1594818.222085 7833.038690 7414.699839 4109.279415 3614.717256 3095.973324 2031.460887 1584.656928 2583.652317 1142.075255 1052.346021 1765.773415 1255.138799 1072.516527 1417.916128 395.750470 1947.087637 367.072082 966.622924 \r\n",
      "1 0 0 0 0 0 0 0 0 0 0 0 0 0 0 0 0 0 0 1 1 1 1 1 1 1 1 1 1 1 1 1 1 1 1 1 1  \r\n"
     ]
    }
   ],
   "source": [
    "% cat dadiExercises/ERY.FOLDED.sfs.dadi_format"
   ]
  },
  {
   "cell_type": "markdown",
   "metadata": {},
   "source": [
    "I have turned the 1D folded SFS's from `realSFS` into $\\delta$d$\\delta$i format by hand according to the description in section 3.1 of the manual."
   ]
  },
  {
   "cell_type": "markdown",
   "metadata": {},
   "source": [
    "Note, that the last line, indicating the mask, has length 37, but the folded spectrum has length 19. Dadi wants to mask counts from invariable sites. For an unfolded spectrum, i. e. polarised with respect to an inferred ancestral allele at each site, the first and the last count classes would correspond to invariable sites. In a folded spectrum, i. e. with counts of the minor allele at each site, the last count class corresponds to SNP's with minor sample allele frequency of $n/2$ (with even sample size)."
   ]
  },
  {
   "cell_type": "code",
   "execution_count": 9,
   "metadata": {
    "collapsed": false
   },
   "outputs": [],
   "source": [
    "fs_ery = dadi.Spectrum.from_file('dadiExercises/ERY.FOLDED.sfs.dadi_format')"
   ]
  },
  {
   "cell_type": "code",
   "execution_count": 10,
   "metadata": {
    "collapsed": true
   },
   "outputs": [],
   "source": [
    "%pdoc dadi.Spectrum.from_file"
   ]
  },
  {
   "cell_type": "code",
   "execution_count": 11,
   "metadata": {
    "collapsed": false
   },
   "outputs": [
    {
     "data": {
      "text/plain": [
       "Spectrum([-- 7833.03869 7414.699839 4109.279415 3614.717256 3095.973324 2031.460887\n",
       " 1584.656928 2583.652317 1142.075255 1052.346021 1765.773415 1255.138799\n",
       " 1072.516527 1417.916128 395.75047 1947.087637 367.072082 966.622924 -- --\n",
       " -- -- -- -- -- -- -- -- -- -- -- -- -- -- -- --], folded=True, pop_ids=None)"
      ]
     },
     "execution_count": 11,
     "metadata": {},
     "output_type": "execute_result"
    }
   ],
   "source": [
    "fs_ery"
   ]
  },
  {
   "cell_type": "code",
   "execution_count": 12,
   "metadata": {
    "collapsed": false
   },
   "outputs": [
    {
     "data": {
      "text/plain": [
       "array([36])"
      ]
     },
     "execution_count": 12,
     "metadata": {},
     "output_type": "execute_result"
    }
   ],
   "source": [
    "ns = fs_ery.sample_sizes\n",
    "ns"
   ]
  },
  {
   "cell_type": "code",
   "execution_count": 13,
   "metadata": {
    "collapsed": true
   },
   "outputs": [],
   "source": [
    "fs_ery.pop_ids = ['ery'] # must be an array, otherwise leads to error later on"
   ]
  },
  {
   "cell_type": "code",
   "execution_count": 14,
   "metadata": {
    "collapsed": false
   },
   "outputs": [
    {
     "data": {
      "text/plain": [
       "43649.777914000006"
      ]
     },
     "execution_count": 14,
     "metadata": {},
     "output_type": "execute_result"
    }
   ],
   "source": [
    "# the number of segregating sites in the spectrum\n",
    "\n",
    "fs_ery.sum()"
   ]
  },
  {
   "cell_type": "markdown",
   "metadata": {},
   "source": [
    "According to the number of segregating sites, this spectrum should have good power to distinguish between alternative demographic models (see Adams2004). However, the noise in the data is extreme, as can be seen below, which might compromise this power and maybe even lead to false inferences."
   ]
  },
  {
   "cell_type": "markdown",
   "metadata": {},
   "source": [
    "## Plot the data"
   ]
  },
  {
   "cell_type": "code",
   "execution_count": 15,
   "metadata": {
    "collapsed": true
   },
   "outputs": [],
   "source": [
    "%pdoc dadi.Plotting.plot_1d_fs"
   ]
  },
  {
   "cell_type": "code",
   "execution_count": 16,
   "metadata": {
    "collapsed": false
   },
   "outputs": [
    {
     "data": {
      "image/png": "[encoded data removed]",
      "text/plain": [
       "<matplotlib.figure.Figure at 0x7f6600a57950>"
      ]
     },
     "metadata": {},
     "output_type": "display_data"
    }
   ],
   "source": [
    "pylab.rcParams['figure.figsize'] = [12.0, 10.0]\n",
    "\n",
    "dadi.Plotting.plot_1d_fs(fs_ery, show=False)"
   ]
  },
  {
   "cell_type": "markdown",
   "metadata": {
    "collapsed": true
   },
   "source": [
    "## Built-in 1D models"
   ]
  },
  {
   "cell_type": "code",
   "execution_count": 17,
   "metadata": {
    "collapsed": false
   },
   "outputs": [
    {
     "data": {
      "text/plain": [
       "['Demographics1D',\n",
       " 'Demographics2D',\n",
       " 'Godambe',\n",
       " 'Inference',\n",
       " 'Integration',\n",
       " 'Misc',\n",
       " 'Numerics',\n",
       " 'PhiManip',\n",
       " 'Plotting',\n",
       " 'Spectrum',\n",
       " 'Spectrum_mod',\n",
       " 'Triallele',\n",
       " '__builtins__',\n",
       " '__doc__',\n",
       " '__file__',\n",
       " '__name__',\n",
       " '__package__',\n",
       " '__path__',\n",
       " 'integration_c',\n",
       " 'logging',\n",
       " 'numpy',\n",
       " 'tridiag']"
      ]
     },
     "execution_count": 17,
     "metadata": {},
     "output_type": "execute_result"
    }
   ],
   "source": [
    "# show modules within dadi\n",
    "\n",
    "dir(dadi)"
   ]
  },
  {
   "cell_type": "code",
   "execution_count": 18,
   "metadata": {
    "collapsed": false
   },
   "outputs": [
    {
     "data": {
      "text/plain": [
       "['Integration',\n",
       " 'Numerics',\n",
       " 'PhiManip',\n",
       " 'Spectrum',\n",
       " '__builtins__',\n",
       " '__doc__',\n",
       " '__file__',\n",
       " '__name__',\n",
       " '__package__',\n",
       " 'bottlegrowth',\n",
       " 'growth',\n",
       " 'numpy',\n",
       " 'snm',\n",
       " 'three_epoch',\n",
       " 'two_epoch']"
      ]
     },
     "execution_count": 18,
     "metadata": {},
     "output_type": "execute_result"
    }
   ],
   "source": [
    "dir(dadi.Demographics1D)"
   ]
  },
  {
   "cell_type": "code",
   "execution_count": 19,
   "metadata": {
    "collapsed": true
   },
   "outputs": [],
   "source": [
    "# show the source of the 'Demographics1D' method\n",
    "\n",
    "%psource dadi.Demographics1D"
   ]
  },
  {
   "cell_type": "markdown",
   "metadata": {},
   "source": [
    "### standard neutral model"
   ]
  },
  {
   "cell_type": "code",
   "execution_count": 20,
   "metadata": {
    "collapsed": true
   },
   "outputs": [],
   "source": [
    "# create link to method\n",
    "\n",
    "func = dadi.Demographics1D.snm"
   ]
  },
  {
   "cell_type": "code",
   "execution_count": 21,
   "metadata": {
    "collapsed": true
   },
   "outputs": [],
   "source": [
    "# make the extrapolating version of the demographic model function\n",
    "\n",
    "func_ex = dadi.Numerics.make_extrap_log_func(func)"
   ]
  },
  {
   "cell_type": "code",
   "execution_count": 22,
   "metadata": {
    "collapsed": true
   },
   "outputs": [],
   "source": [
    "# setting the smallest grid size slightly larger than the largest population sample size\n",
    "\n",
    "pts_l = [40, 50, 60]"
   ]
  },
  {
   "cell_type": "markdown",
   "metadata": {},
   "source": [
    "The `snm` function does not take parameters to optimize. I can therefore get directly the expected model. The `snm` function does not take a `fold` argument. I am therefore going to calculated an unfolded expected spectrum and then fold."
   ]
  },
  {
   "cell_type": "code",
   "execution_count": 23,
   "metadata": {
    "collapsed": false
   },
   "outputs": [
    {
     "data": {
      "text/plain": [
       "Spectrum([-- 0.9956799394019464 0.4981564278703058 0.3321898574986928\n",
       " 0.24919667744224816 0.19939790258679638 0.1661970878062821\n",
       " 0.14248104377018878 0.1246930658790548 0.11085717946547267\n",
       " 0.09978779124736985 0.09073040723382213 0.08318202250611753\n",
       " 0.07679443263533685 0.0713189249265068 0.06657306836113545\n",
       " 0.06242002970483825 0.0587552149564719 0.055497288680948074\n",
       " 0.052582000282866075 0.04995792826310336 0.04758347287343962\n",
       " 0.04542461915254542 0.0434532518907827 0.04164592443914579\n",
       " 0.03998294873211848 0.03844767650121102 0.03702592302757683\n",
       " 0.03570552430576448 0.03447599502439583 0.03332824999581658\n",
       " 0.032254375802771754 0.031247447500913152 0.0303013796010043\n",
       " 0.029410802565291765 0.02857096039285141 --], folded=False, pop_ids=None)"
      ]
     },
     "execution_count": 23,
     "metadata": {},
     "output_type": "execute_result"
    }
   ],
   "source": [
    "# calculate unfolded AFS under standard neutral model (up to a scaling factor theta)\n",
    "\n",
    "model = func_ex(0, ns, pts_l)\n",
    "model"
   ]
  },
  {
   "cell_type": "code",
   "execution_count": 24,
   "metadata": {
    "collapsed": false
   },
   "outputs": [
    {
     "data": {
      "image/png": "[encoded data removed]",
      "text/plain": [
       "<matplotlib.figure.Figure at 0x7f6628016c10>"
      ]
     },
     "metadata": {},
     "output_type": "display_data"
    }
   ],
   "source": [
    "dadi.Plotting.plot_1d_fs(model.fold()[:19], show=False)"
   ]
  },
  {
   "cell_type": "markdown",
   "metadata": {},
   "source": [
    "What's happening in the 18th count class?"
   ]
  },
  {
   "cell_type": "code",
   "execution_count": 25,
   "metadata": {
    "collapsed": true
   },
   "outputs": [],
   "source": [
    "# get the source of the fold method, which is part of the Spectrum object\n",
    "\n",
    "%psource dadi.Spectrum.fold"
   ]
  },
  {
   "cell_type": "code",
   "execution_count": 26,
   "metadata": {
    "collapsed": false
   },
   "outputs": [],
   "source": [
    "# get the docstring of the Spectrum object\n",
    "\n",
    "%pdoc dadi.Spectrum"
   ]
  },
  {
   "cell_type": "code",
   "execution_count": 27,
   "metadata": {
    "collapsed": false
   },
   "outputs": [
    {
     "data": {
      "text/plain": [
       "array([ 2.71828183,  0.99567994,  0.49815643,  0.33218986,  0.24919668,\n",
       "        0.1993979 ,  0.16619709,  0.14248104,  0.12469307,  0.11085718,\n",
       "        0.09978779,  0.09073041,  0.08318202,  0.07679443,  0.07131892,\n",
       "        0.06657307,  0.06242003,  0.05875521,  0.05549729,  0.052582  ,\n",
       "        0.04995793,  0.04758347,  0.04542462,  0.04345325,  0.04164592,\n",
       "        0.03998295,  0.03844768,  0.03702592,  0.03570552,  0.034476  ,\n",
       "        0.03332825,  0.03225438,  0.03124745,  0.03030138,  0.0294108 ,\n",
       "        0.02857096,  2.71828183])"
      ]
     },
     "execution_count": 27,
     "metadata": {},
     "output_type": "execute_result"
    }
   ],
   "source": [
    "# retrieve the spectrum array from the Spectrum object\n",
    "\n",
    "model.data"
   ]
  },
  {
   "cell_type": "markdown",
   "metadata": {},
   "source": [
    "I am going to fold manually now."
   ]
  },
  {
   "cell_type": "code",
   "execution_count": 28,
   "metadata": {
    "collapsed": false
   },
   "outputs": [
    {
     "data": {
      "text/plain": [
       "array([ 5.43656366,  1.0242509 ,  0.52756723,  0.36249124,  0.28044412,\n",
       "        0.23165228,  0.19952534,  0.17695704,  0.16039859,  0.1478831 ,\n",
       "        0.13823547,  0.13071336,  0.12482795,  0.12024768,  0.11674354,\n",
       "        0.11415654,  0.11237796,  0.11133722,  0.11099458,  0.11133722,\n",
       "        0.11237796,  0.11415654,  0.11674354,  0.12024768,  0.12482795,\n",
       "        0.13071336,  0.13823547,  0.1478831 ,  0.16039859,  0.17695704,\n",
       "        0.19952534,  0.23165228,  0.28044412,  0.36249124,  0.52756723,\n",
       "        1.0242509 ,  5.43656366])"
      ]
     },
     "execution_count": 28,
     "metadata": {},
     "output_type": "execute_result"
    }
   ],
   "source": [
    "# reverse spectrum and add to itself\n",
    "\n",
    "model_fold = model.data + model.data[::-1]\n",
    "model_fold"
   ]
  },
  {
   "cell_type": "code",
   "execution_count": 29,
   "metadata": {
    "collapsed": false
   },
   "outputs": [
    {
     "data": {
      "text/plain": [
       "array([ 5.43656366,  1.0242509 ,  0.52756723,  0.36249124,  0.28044412,\n",
       "        0.23165228,  0.19952534,  0.17695704,  0.16039859,  0.1478831 ,\n",
       "        0.13823547,  0.13071336,  0.12482795,  0.12024768,  0.11674354,\n",
       "        0.11415654,  0.11237796,  0.11133722,  0.11099458])"
      ]
     },
     "execution_count": 29,
     "metadata": {},
     "output_type": "execute_result"
    }
   ],
   "source": [
    "# discard all count classes >n/2\n",
    "\n",
    "model_fold = model_fold[:19]\n",
    "model_fold"
   ]
  },
  {
   "cell_type": "markdown",
   "metadata": {},
   "source": [
    "When the sample size is even, then highest sample frequency class corresponds to just one unfolded class (18). This has been added to itself and those SNP's are counted twice at the moment. I need to divide this class by 2 to get the correct count for this folded class."
   ]
  },
  {
   "cell_type": "code",
   "execution_count": 30,
   "metadata": {
    "collapsed": true
   },
   "outputs": [],
   "source": [
    "# divide highest sample frequency class by 2\n",
    "\n",
    "model_fold[18] = model_fold[18]/2.0"
   ]
  },
  {
   "cell_type": "code",
   "execution_count": 31,
   "metadata": {
    "collapsed": false
   },
   "outputs": [
    {
     "data": {
      "text/plain": [
       "array([ 5.43656366,  1.0242509 ,  0.52756723,  0.36249124,  0.28044412,\n",
       "        0.23165228,  0.19952534,  0.17695704,  0.16039859,  0.1478831 ,\n",
       "        0.13823547,  0.13071336,  0.12482795,  0.12024768,  0.11674354,\n",
       "        0.11415654,  0.11237796,  0.11133722,  0.05549729])"
      ]
     },
     "execution_count": 31,
     "metadata": {},
     "output_type": "execute_result"
    }
   ],
   "source": [
    "model_fold"
   ]
  },
  {
   "cell_type": "code",
   "execution_count": 32,
   "metadata": {
    "collapsed": false
   },
   "outputs": [
    {
     "data": {
      "text/plain": [
       "Spectrum([-- 1.0242508997947979 0.5275672304355975 0.3624912370996971\n",
       " 0.2804441249431613 0.23165227838956814 0.19952533780209866\n",
       " 0.1769570387945846 0.16039859018481928 0.1478831024930495\n",
       " 0.13823546774858086 0.1307133559659406 0.12482794694526332\n",
       " 0.12024768452611956 0.11674354407905221 0.11415654123457508\n",
       " 0.11237795796794162 0.11133721523933798 0.055497288680948074], folded=False, pop_ids=None)"
      ]
     },
     "execution_count": 32,
     "metadata": {},
     "output_type": "execute_result"
    }
   ],
   "source": [
    "# create dadi Spectrum object from array, need to specify custom mask\n",
    "\n",
    "model_folded = dadi.Spectrum(data=model_fold, mask_corners=False, mask= [1] + [0]*18)\n",
    "model_folded"
   ]
  },
  {
   "cell_type": "code",
   "execution_count": 33,
   "metadata": {
    "collapsed": false
   },
   "outputs": [
    {
     "name": "stderr",
     "output_type": "stream",
     "text": [
      "/usr/local/anaconda2/lib/python2.7/site-packages/matplotlib/figure.py:397: UserWarning: matplotlib is currently using a non-GUI backend, so cannot show the figure\n",
      "  \"matplotlib is currently using a non-GUI backend, \"\n"
     ]
    },
    {
     "data": {
      "image/png": "[encoded data removed]",
      "text/plain": [
       "<matplotlib.figure.Figure at 0x7f65f91d31d0>"
      ]
     },
     "metadata": {},
     "output_type": "display_data"
    }
   ],
   "source": [
    "dadi.Plotting.plot_1d_fs(model_folded)"
   ]
  },
  {
   "cell_type": "markdown",
   "metadata": {},
   "source": [
    "The folded expected spectrum is correct. Also, see figure 4.5 in Wakeley2009."
   ]
  },
  {
   "cell_type": "markdown",
   "metadata": {},
   "source": [
    "#### How to fold an unfolded spectrum"
   ]
  },
  {
   "cell_type": "code",
   "execution_count": 34,
   "metadata": {
    "collapsed": false
   },
   "outputs": [
    {
     "data": {
      "text/plain": [
       "Spectrum([-- 1.0242508997947979 0.5275672304355975 0.3624912370996971\n",
       " 0.2804441249431613 0.23165227838956814 0.19952533780209866\n",
       " 0.1769570387945846 0.16039859018481928 0.1478831024930495\n",
       " 0.13823546774858086 0.1307133559659406 0.12482794694526332\n",
       " 0.12024768452611956 0.11674354407905221 0.11415654123457508\n",
       " 0.11237795796794162 0.11133721523933798 0.055497288680948074 -- -- -- --\n",
       " -- -- -- -- -- -- -- -- -- -- -- -- -- --], folded=True, pop_ids=['ery'])"
      ]
     },
     "execution_count": 34,
     "metadata": {},
     "output_type": "execute_result"
    }
   ],
   "source": [
    "# fold the unfolded model\n",
    "\n",
    "model_folded = model.fold()\n",
    "#model_folded = model_folded[:(ns[0]+1)]\n",
    "model_folded.pop_ids = ['ery'] # be sure to give an array, not a scalar string\n",
    "model_folded"
   ]
  },
  {
   "cell_type": "code",
   "execution_count": 35,
   "metadata": {
    "collapsed": false
   },
   "outputs": [],
   "source": [
    "ll_model_folded = dadi.Inference.ll_multinom(model_folded, fs_ery)"
   ]
  },
  {
   "cell_type": "code",
   "execution_count": 36,
   "metadata": {
    "collapsed": false
   },
   "outputs": [
    {
     "name": "stdout",
     "output_type": "stream",
     "text": [
      "The log composite likelihood of the observed ery spectrum given a standard neutral model is -2460.087.\n"
     ]
    }
   ],
   "source": [
    "print 'The log composite likelihood of the observed ery spectrum given a standard neutral model is {0:.3f}.'.format(ll_model_folded)"
   ]
  },
  {
   "cell_type": "markdown",
   "metadata": {},
   "source": [
    "### $\\theta$ and implied $N_{ref}$"
   ]
  },
  {
   "cell_type": "code",
   "execution_count": 37,
   "metadata": {
    "collapsed": true
   },
   "outputs": [],
   "source": [
    "theta = dadi.Inference.optimal_sfs_scaling(model_folded, fs_ery)"
   ]
  },
  {
   "cell_type": "code",
   "execution_count": 38,
   "metadata": {
    "collapsed": false
   },
   "outputs": [
    {
     "name": "stdout",
     "output_type": "stream",
     "text": [
      "The optimal value of theta is 10555.390.\n"
     ]
    }
   ],
   "source": [
    "print 'The optimal value of theta is {0:.3f}.'.format(theta)"
   ]
  },
  {
   "cell_type": "markdown",
   "metadata": {},
   "source": [
    "This theta estimate is a little bit higher than what I estimated with curve fitting in `Fist_Steps_with_dadi.ipynb`, which was 10198.849."
   ]
  },
  {
   "cell_type": "markdown",
   "metadata": {},
   "source": [
    "What effective ancestral population size would that imply?"
   ]
  },
  {
   "cell_type": "markdown",
   "metadata": {},
   "source": [
    "According to section 4.4 in the dadi manual:\n",
    "\n",
    "$$\n",
    "\\theta = 4 N_{ref} \\mu_{L} \\qquad \\text{L: sequence length}\n",
    "$$\n",
    "\n",
    "Let's assume the mutation rate per nucleotide site per generation is $3\\times 10^{-9}$ (see e. g. Liu2017). Then\n",
    "\n",
    "$$\n",
    "\\mu_{L} = \\mu_{site} \\times L\n",
    "$$\n",
    "\n",
    "So\n",
    "\n",
    "$$\n",
    "\\theta = 4 N_{ref} \\mu_{site} \\times L\n",
    "$$\n",
    "\n",
    "and\n",
    "\n",
    "$$\n",
    "N_{ref} = \\frac{\\theta}{4 \\mu_{site} L}\n",
    "$$"
   ]
  },
  {
   "cell_type": "code",
   "execution_count": 39,
   "metadata": {
    "collapsed": false
   },
   "outputs": [
    {
     "name": "stdout",
     "output_type": "stream",
     "text": [
      "The total sequence length is 1638468.0\n",
      "The effective ancestral population size (in number of diploid individuals) implied by this theta is: 536852.\n"
     ]
    }
   ],
   "source": [
    "mu = 3e-9\n",
    "L = fs_ery.data.sum() # this sums over all entries in the spectrum, including masked ones, i. e. also contains invariable sites\n",
    "print \"The total sequence length is \" + str(L)\n",
    "N_ref = theta/L/mu/4\n",
    "print \"The effective ancestral population size (in number of diploid individuals) implied by this theta is: {0}.\".format(int(N_ref))"
   ]
  },
  {
   "cell_type": "markdown",
   "metadata": {},
   "source": [
    "This effective population size is consistent with those reported in Lynch2016 for other insect species."
   ]
  },
  {
   "cell_type": "markdown",
   "metadata": {},
   "source": [
    "---"
   ]
  },
  {
   "cell_type": "markdown",
   "metadata": {},
   "source": [
    "Begin Digression:"
   ]
  },
  {
   "cell_type": "code",
   "execution_count": 71,
   "metadata": {
    "collapsed": false
   },
   "outputs": [
    {
     "data": {
      "text/plain": [
       "[<matplotlib.lines.Line2D at 0x7fa4b5507e90>]"
      ]
     },
     "execution_count": 71,
     "metadata": {},
     "output_type": "execute_result"
    },
    {
     "data": {
      "image/png": "[encoded data removed]",
      "text/plain": [
       "<matplotlib.figure.Figure at 0x7fa4bd965510>"
      ]
     },
     "metadata": {},
     "output_type": "display_data"
    }
   ],
   "source": [
    "x = pylab.arange(0, 100)\n",
    "y = 0.5**(x)\n",
    "pylab.plot(x, y)"
   ]
  },
  {
   "cell_type": "code",
   "execution_count": 73,
   "metadata": {
    "collapsed": false
   },
   "outputs": [
    {
     "data": {
      "text/plain": [
       "array([ 0.        ,  0.5       ,  0.5       ,  0.375     ,  0.25      ,\n",
       "        0.15625   ,  0.09375   ,  0.0546875 ,  0.03125   ,  0.01757812])"
      ]
     },
     "execution_count": 73,
     "metadata": {},
     "output_type": "execute_result"
    }
   ],
   "source": [
    "x[:10] * y[:10]"
   ]
  },
  {
   "cell_type": "code",
   "execution_count": 72,
   "metadata": {
    "collapsed": false
   },
   "outputs": [
    {
     "data": {
      "text/plain": [
       "1.9999999999999998"
      ]
     },
     "execution_count": 72,
     "metadata": {},
     "output_type": "execute_result"
    }
   ],
   "source": [
    "sum(x * y)"
   ]
  },
  {
   "cell_type": "markdown",
   "metadata": {},
   "source": [
    "End Digression"
   ]
  },
  {
   "cell_type": "markdown",
   "metadata": {},
   "source": [
    "---"
   ]
  },
  {
   "cell_type": "code",
   "execution_count": null,
   "metadata": {
    "collapsed": true
   },
   "outputs": [],
   "source": []
  },
  {
   "cell_type": "code",
   "execution_count": 37,
   "metadata": {
    "collapsed": false
   },
   "outputs": [
    {
     "data": {
      "text/plain": [
       "Spectrum([-- 10811.368057785941 5568.678050083938 3826.2365039582855\n",
       " 2960.1972085273856 2445.180222537339 2106.06782406999 1867.850618639873\n",
       " 1693.0697300685547 1560.9638721332371 1459.129321506598 1379.730495427729\n",
       " 1317.6077058788953 1269.2612481657227 1232.2736779258435 1204.966853080696\n",
       " 1186.193212441624 1175.20776669327 585.7955450750727 -- -- -- -- -- -- --\n",
       " -- -- -- -- -- -- -- -- -- -- --], folded=True, pop_ids=['ery'])"
      ]
     },
     "execution_count": 37,
     "metadata": {},
     "output_type": "execute_result"
    }
   ],
   "source": [
    "model_folded * theta"
   ]
  },
  {
   "cell_type": "code",
   "execution_count": 40,
   "metadata": {
    "collapsed": false
   },
   "outputs": [
    {
     "data": {
      "text/plain": [
       "<matplotlib.legend.Legend at 0x7f726dc58150>"
      ]
     },
     "execution_count": 40,
     "metadata": {},
     "output_type": "execute_result"
    },
    {
     "data": {
      "image/png": "[encoded data removed]",
      "text/plain": [
       "<matplotlib.figure.Figure at 0x7f72a02cbc50>"
      ]
     },
     "metadata": {},
     "output_type": "display_data"
    }
   ],
   "source": [
    "pylab.semilogy(model_folded * theta, \"bo-\", label='SNM')\n",
    "pylab.plot(fs_ery, \"ro-\", label='ery')\n",
    "pylab.legend()"
   ]
  },
  {
   "cell_type": "code",
   "execution_count": 41,
   "metadata": {
    "collapsed": true
   },
   "outputs": [],
   "source": [
    "%psource dadi.Plotting.plot_1d_comp_Poisson"
   ]
  },
  {
   "cell_type": "code",
   "execution_count": 42,
   "metadata": {
    "collapsed": false
   },
   "outputs": [
    {
     "data": {
      "image/png": "[encoded data removed]",
      "text/plain": [
       "<matplotlib.figure.Figure at 0x7f726d3e6310>"
      ]
     },
     "metadata": {},
     "output_type": "display_data"
    }
   ],
   "source": [
    "# compare model prediction and data visually with dadi function\n",
    "\n",
    "dadi.Plotting.plot_1d_comp_multinom(model_folded[:19], fs_ery[:19], residual='linear')"
   ]
  },
  {
   "cell_type": "markdown",
   "metadata": {},
   "source": [
    "The lower plot is for the scaled Poisson residuals. \n",
    "\n",
    "$$\n",
    "residuals = (model - data)/\\sqrt{model}\n",
    "$$"
   ]
  },
  {
   "cell_type": "markdown",
   "metadata": {},
   "source": [
    "The model is the expected counts in each frequency class. If these counts are Poisson distributed, then their variance is equal to their expectation. The differences between model and data are therefore scaled by the expected standard deviation of the model counts."
   ]
  },
  {
   "cell_type": "markdown",
   "metadata": {},
   "source": [
    "**The observed counts deviate by up to 30 standard deviations from the model!**"
   ]
  },
  {
   "cell_type": "markdown",
   "metadata": {},
   "source": [
    "What could be done about this? \n",
    "\n",
    "The greatest deviations are seen for the first two frequency classes, the ones that should provide the greatest amount of information (Fu1994) for theta and therefore probably also other parameters. Toni has suggested that the doubleton class is inflated due to \"miscalling\" heterozygotes as homozygotes. When they contain a singleton they will be \"called\" as homozygote and therefore contribute to the doubleton count. This is aggravated by the fact that the sequenced individuals are all male which only possess one X chromosome. The X chromosome is the fourth largest of the 9 chromosomes of these grasshoppers (8 autosomes + X) (see Gosalvez1988, fig. 2). That is, about 1/9th of the sequenced RAD loci are haploid but ANGSD assumes all loci to be diploid. The genotype likelihoods it calculates are all referring to diploid genotypes.\n",
    "\n",
    "I think one potential reason for the extreme deviations is that the genotype likelihoods are generally biased toward homozygote genotypes (i. e. also for autosomal loci) due to PCR duplicates (see eq. 1 in Nielsen2012). So, one potential improvement would be to remove PCR duplicates. \n",
    "\n",
    "Another potential improvement could be found by subsampling 8/9th to 8/10th of the contigs in the SAF files and estimating an SFS from these. Given enough subsamples, one should eventually be found that maximally excludes loci from the X chromosome. This subsample is expected to produce the least squared deviations from an expected SFS under the standard neutral model. However, one could argue that this attempt to exclude problematic loci could also inadvertently remove loci that strongly deviate from neutral expectations due to non-neutral evolution, again reducing power to detect deviations from the standard neutral model. I think one could also just apply the selection criterion of the second MAF class to be lower than the first and just save all contig subsamples and SFS's that fulfill that criterioin, since that should be true for all demographic scenarios."
   ]
  },
  {
   "cell_type": "markdown",
   "metadata": {
    "collapsed": true
   },
   "source": [
    "### Exponential growth"
   ]
  },
  {
   "cell_type": "markdown",
   "metadata": {},
   "source": [
    "#### Creating a folded spectrum exactly how dadi expects it"
   ]
  },
  {
   "cell_type": "markdown",
   "metadata": {},
   "source": [
    "As seen above in the folded model spectrum, dadi just masks out entries that are not sensical in a folded spectrum, but keeps the length of the spectrum the same as the unfolded. That way the sample size (i. e. number of chromosomes) is determined correctly. Let's create a correct folded spectrum object for ery."
   ]
  },
  {
   "cell_type": "code",
   "execution_count": 43,
   "metadata": {
    "collapsed": false
   },
   "outputs": [
    {
     "data": {
      "text/plain": [
       "Spectrum([-- 7833.03869 7414.699839 4109.279415 3614.717256 3095.973324 2031.460887\n",
       " 1584.656928 2583.652317 1142.075255 1052.346021 1765.773415 1255.138799\n",
       " 1072.516527 1417.916128 395.75047 1947.087637 367.072082 966.622924 -- --\n",
       " -- -- -- -- -- -- -- -- -- -- -- -- -- -- -- --], folded=True, pop_ids=['ery'])"
      ]
     },
     "execution_count": 43,
     "metadata": {},
     "output_type": "execute_result"
    }
   ],
   "source": [
    "fs_ery"
   ]
  },
  {
   "cell_type": "code",
   "execution_count": 44,
   "metadata": {
    "collapsed": false
   },
   "outputs": [],
   "source": [
    "# make copy of spectrum array\n",
    "data_abc = fs_ery.data.copy()"
   ]
  },
  {
   "cell_type": "code",
   "execution_count": 45,
   "metadata": {
    "collapsed": false
   },
   "outputs": [
    {
     "data": {
      "text/plain": [
       "array([  1.59481822e+006,   7.83303869e+003,   7.41469984e+003,\n",
       "         4.10927941e+003,   3.61471726e+003,   3.09597332e+003,\n",
       "         2.03146089e+003,   1.58465693e+003,   2.58365232e+003,\n",
       "         1.14207525e+003,   1.05234602e+003,   1.76577342e+003,\n",
       "         1.25513880e+003,   1.07251653e+003,   1.41791613e+003,\n",
       "         3.95750470e+002,   1.94708764e+003,   3.67072082e+002,\n",
       "         9.66622924e+002,   6.92336709e-310,   3.16202013e-322,\n",
       "         3.95252517e-322,   1.12141835e-316,   6.92335623e-310,\n",
       "         6.92335623e-310,   6.92333624e-310,   6.92332237e-310,\n",
       "         6.92335669e-310,   3.16202013e-322,   0.00000000e+000,\n",
       "         1.26480805e-321,   5.53353523e-322,   1.44957042e-316,\n",
       "         0.00000000e+000,   0.00000000e+000,   0.00000000e+000,\n",
       "         0.00000000e+000])"
      ]
     },
     "execution_count": 45,
     "metadata": {},
     "output_type": "execute_result"
    }
   ],
   "source": [
    "# resize the array to the unfolded length\n",
    "\n",
    "data_abc.resize((37,))\n",
    "data_abc"
   ]
  },
  {
   "cell_type": "code",
   "execution_count": 46,
   "metadata": {
    "collapsed": false
   },
   "outputs": [
    {
     "data": {
      "text/plain": [
       "Spectrum([-- 7833.03869 7414.699839 4109.279415 3614.717256 3095.973324 2031.460887\n",
       " 1584.656928 2583.652317 1142.075255 1052.346021 1765.773415 1255.138799\n",
       " 1072.516527 1417.916128 395.75047 1947.087637 367.072082 966.622924\n",
       " 6.92336708817315e-310 3.16e-322 3.95e-322 1.12141835e-316\n",
       " 6.9233562306889e-310 6.92335623072683e-310 6.92333624156993e-310\n",
       " 6.92332237488873e-310 6.92335669336516e-310 3.16e-322 0.0 1.265e-321\n",
       " 5.53e-322 1.4495704e-316 0.0 0.0 0.0 --], folded=False, pop_ids=None)"
      ]
     },
     "execution_count": 46,
     "metadata": {},
     "output_type": "execute_result"
    }
   ],
   "source": [
    "fs_ery_ext = dadi.Spectrum(data_abc)\n",
    "fs_ery_ext"
   ]
  },
  {
   "cell_type": "code",
   "execution_count": 47,
   "metadata": {
    "collapsed": false
   },
   "outputs": [
    {
     "data": {
      "text/plain": [
       "Spectrum([-- 7833.03869 7414.699839 4109.279415 3614.717256 3095.973324 2031.460887\n",
       " 1584.656928 2583.652317 1142.075255 1052.346021 1765.773415 1255.138799\n",
       " 1072.516527 1417.916128 395.75047 1947.087637 367.072082 966.622924 -- --\n",
       " -- -- -- -- -- -- -- -- -- -- -- -- -- -- -- --], folded=True, pop_ids=None)"
      ]
     },
     "execution_count": 47,
     "metadata": {},
     "output_type": "execute_result"
    }
   ],
   "source": [
    "fs_ery_ext.fold()"
   ]
  },
  {
   "cell_type": "code",
   "execution_count": 48,
   "metadata": {
    "collapsed": false
   },
   "outputs": [
    {
     "data": {
      "text/plain": [
       "Spectrum([-- 7833.03869 7414.699839 4109.279415 3614.717256 3095.973324 2031.460887\n",
       " 1584.656928 2583.652317 1142.075255 1052.346021 1765.773415 1255.138799\n",
       " 1072.516527 1417.916128 395.75047 1947.087637 367.072082 966.622924 -- --\n",
       " -- -- -- -- -- -- -- -- -- -- -- -- -- -- -- --], folded=True, pop_ids=['ery'])"
      ]
     },
     "execution_count": 48,
     "metadata": {},
     "output_type": "execute_result"
    }
   ],
   "source": [
    "fs_ery_ext = fs_ery_ext.fold()\n",
    "fs_ery_ext.pop_ids = ['ery']\n",
    "fs_ery_ext"
   ]
  },
  {
   "cell_type": "code",
   "execution_count": 49,
   "metadata": {
    "collapsed": false
   },
   "outputs": [
    {
     "data": {
      "text/plain": [
       "array([36])"
      ]
     },
     "execution_count": 49,
     "metadata": {},
     "output_type": "execute_result"
    }
   ],
   "source": [
    "fs_ery_ext.sample_sizes"
   ]
  },
  {
   "cell_type": "markdown",
   "metadata": {},
   "source": [
    "Now, the reported sample size is correct and we have a `Spectrum` object that dadi can handle correctly."
   ]
  },
  {
   "cell_type": "markdown",
   "metadata": {},
   "source": [
    "## To fold or not to fold by ANGSD"
   ]
  },
  {
   "cell_type": "markdown",
   "metadata": {},
   "source": [
    "Does estimating an unfolded spectrum with ANGSD and then folding yield a sensible folded SFS when the sites are not polarised with respect to an ancestral allele but with respect to the reference allele? [Matteo Fumagalli thinks that this is sensible.](https://groups.google.com/d/msg/ngstools-user/9Z4viLJ7NJA/QZ7Owf5xBAAJ)"
   ]
  },
  {
   "cell_type": "markdown",
   "metadata": {},
   "source": [
    "#### Load SFS folded by ANGSD"
   ]
  },
  {
   "cell_type": "code",
   "execution_count": 51,
   "metadata": {
    "collapsed": false
   },
   "outputs": [
    {
     "name": "stdout",
     "output_type": "stream",
     "text": [
      "# this is the ML estimate of the folded sample frequency spectrum for erythropus, estimated with realSFS of ANGSD\r\n",
      "# this is the spectrum in dadi format (see section 3.1 of the manual)\r\n",
      "37 folded\r\n",
      "1594818.222085 7833.038690 7414.699839 4109.279415 3614.717256 3095.973324 2031.460887 1584.656928 2583.652317 1142.075255 1052.346021 1765.773415 1255.138799 1072.516527 1417.916128 395.750470 1947.087637 367.072082 966.622924 \r\n",
      "1 0 0 0 0 0 0 0 0 0 0 0 0 0 0 0 0 0 0 1 1 1 1 1 1 1 1 1 1 1 1 1 1 1 1 1 1  \r\n"
     ]
    }
   ],
   "source": [
    "% cat dadiExercises/ERY.FOLDED.sfs.dadi_format"
   ]
  },
  {
   "cell_type": "code",
   "execution_count": 52,
   "metadata": {
    "collapsed": false
   },
   "outputs": [
    {
     "data": {
      "text/plain": [
       "Spectrum([-- 7833.03869 7414.699839 4109.279415 3614.717256 3095.973324 2031.460887\n",
       " 1584.656928 2583.652317 1142.075255 1052.346021 1765.773415 1255.138799\n",
       " 1072.516527 1417.916128 395.75047 1947.087637 367.072082 966.622924 -- --\n",
       " -- -- -- -- -- -- -- -- -- -- -- -- -- -- -- --], folded=True, pop_ids=None)"
      ]
     },
     "execution_count": 52,
     "metadata": {},
     "output_type": "execute_result"
    }
   ],
   "source": [
    "# load the spectrum that was created from folded SAF's\n",
    "\n",
    "fs_ery_folded_by_Angsd = dadi.Spectrum.from_file('dadiExercises/ERY.FOLDED.sfs.dadi_format')\n",
    "fs_ery_folded_by_Angsd"
   ]
  },
  {
   "cell_type": "code",
   "execution_count": 53,
   "metadata": {
    "collapsed": false
   },
   "outputs": [
    {
     "data": {
      "text/plain": [
       "Spectrum([7833.03869 7414.699839 4109.279415 3614.717256 3095.973324 2031.460887\n",
       " 1584.656928 2583.652317 1142.075255 1052.346021 1765.773415 1255.138799\n",
       " 1072.516527 1417.916128 395.75047 1947.087637 367.072082 966.622924], folded=True, pop_ids=None)"
      ]
     },
     "execution_count": 53,
     "metadata": {},
     "output_type": "execute_result"
    }
   ],
   "source": [
    "# extract unmasked entries of the SFS\n",
    "\n",
    "m = fs_ery_folded_by_Angsd.mask\n",
    "fs_ery_folded_by_Angsd[m == False]"
   ]
  },
  {
   "cell_type": "markdown",
   "metadata": {},
   "source": [
    "#### Load unfolded SFS"
   ]
  },
  {
   "cell_type": "code",
   "execution_count": 54,
   "metadata": {
    "collapsed": false
   },
   "outputs": [
    {
     "name": "stdout",
     "output_type": "stream",
     "text": [
      "total 332\r\n",
      "-rw-rw-r-- 1 claudius    229 Dec 22 18:19 ERY.FOLDED.sfs\r\n",
      "-rw-rw-r-- 1 claudius    229 Dec 22 20:28 ERY.FOLDED.sfs1\r\n",
      "-rw-rw-r-- 1 claudius    229 Dec 21 21:07 ERY.FOLDED.sfs2\r\n",
      "-rw-rw-r-- 1 claudius    228 Dec 21 21:08 ERY.FOLDED.sfs3\r\n",
      "-rw-rw-r-- 1 claudius    228 Dec 21 21:20 ERY.FOLDED.sfs4\r\n",
      "-rw-rw-r-- 1 claudius 227889 Dec 20 22:49 ERY.FOLDED.sfs.boot\r\n",
      "-rw-rw-r-- 1 claudius  45397 Dec 23 22:07 ERY.FOLDED.sfs.boot.exh\r\n",
      "-rw-rw-r-- 1 claudius  22870 Dec 22 16:26 ERY.FOLDED.sfs.ml\r\n",
      "-rw-rw-r-- 1 claudius    421 Mar 24 12:54 ERY.unfolded.sfs\r\n"
     ]
    }
   ],
   "source": [
    "% ll ../ANGSD/SFS/ERY/"
   ]
  },
  {
   "cell_type": "markdown",
   "metadata": {},
   "source": [
    "I have copied the unfolded SFS into the current directory."
   ]
  },
  {
   "cell_type": "code",
   "execution_count": 55,
   "metadata": {
    "collapsed": false
   },
   "outputs": [
    {
     "name": "stdout",
     "output_type": "stream",
     "text": [
      "total 572\r\n",
      "-rw-rw-r-- 1 claudius 482515 Apr  3 20:32 1D_models.ipynb\r\n",
      "drwxrwxr-x 4 claudius   4096 Mar 24 20:08 \u001b[0m\u001b[01;34mdadiExercises\u001b[0m/\r\n",
      "-rw-rw-r-- 1 claudius  36308 Mar 25 14:05 \u001b[01;35mery_fold_comp.png\u001b[0m\r\n",
      "-rw-rw-r-- 1 claudius   3560 Mar 25 08:40 EryPar.FOLDED.2dsfs\r\n",
      "-rw-rw-r-- 1 claudius    433 Mar 24 20:15 ERY.unfolded.sfs\r\n",
      "-rw-rw-r-- 1 claudius    421 Mar 24 20:14 ERY.unfolded.sfs~\r\n",
      "-rw-rw-r-- 1 claudius  37242 Mar 25 14:07 \u001b[01;35mpar_fold_comp.png\u001b[0m\r\n",
      "-rw-rw-r-- 1 claudius    421 Mar 24 20:16 PAR.unfolded.sfs\r\n",
      "-rw-rw-r-- 1 claudius    409 Mar 24 20:15 PAR.unfolded.sfs~\r\n"
     ]
    }
   ],
   "source": [
    "% ll"
   ]
  },
  {
   "cell_type": "code",
   "execution_count": 56,
   "metadata": {
    "collapsed": false
   },
   "outputs": [
    {
     "name": "stdout",
     "output_type": "stream",
     "text": [
      "37 unfolded\r\n",
      "1592046.636125 7148.627587 6831.828430 3473.268669 3417.591990 2249.932322 1980.824357 1011.763357 2262.489617 557.169754 1049.858226 1159.694611 768.373223 1125.393799 448.462048 544.635916 1014.348661 147.731786 975.251801 233.415985 851.137519 12.642136 803.134099 0.128476 567.179523 446.009983 158.967094 484.096759 372.705620 540.860079 95.276852 808.290844 234.084809 614.920896 625.008059 890.804592 2515.454396 \r\n"
     ]
    }
   ],
   "source": [
    "% cat ERY.unfolded.sfs"
   ]
  },
  {
   "cell_type": "code",
   "execution_count": 57,
   "metadata": {
    "collapsed": false
   },
   "outputs": [
    {
     "data": {
      "text/plain": [
       "Spectrum([-- 7148.627587 6831.82843 3473.268669 3417.59199 2249.932322 1980.824357\n",
       " 1011.763357 2262.489617 557.169754 1049.858226 1159.694611 768.373223\n",
       " 1125.393799 448.462048 544.635916 1014.348661 147.731786 975.251801\n",
       " 233.415985 851.137519 12.642136 803.134099 0.128476 567.179523 446.009983\n",
       " 158.967094 484.096759 372.70562 540.860079 95.276852 808.290844 234.084809\n",
       " 614.920896 625.008059 890.804592 --], folded=False, pop_ids=None)"
      ]
     },
     "execution_count": 57,
     "metadata": {},
     "output_type": "execute_result"
    }
   ],
   "source": [
    "# load unfolded spectrum\n",
    "\n",
    "fs_ery_unfolded_by_ANGSD = dadi.Spectrum.from_file('ERY.unfolded.sfs')\n",
    "fs_ery_unfolded_by_ANGSD"
   ]
  },
  {
   "cell_type": "code",
   "execution_count": 58,
   "metadata": {
    "collapsed": false
   },
   "outputs": [
    {
     "data": {
      "text/plain": [
       "Spectrum([-- 8039.432178999999 7456.836488999999 4088.189565 3651.676799 3058.223166\n",
       " 2076.101209 1552.623436 2635.1952370000004 1041.266513 1208.8253200000001\n",
       " 1605.7045939999998 1335.552746 1125.522275 1251.596147 557.278052\n",
       " 1865.4861799999999 381.14777100000003 975.251801 -- -- -- -- -- -- -- --\n",
       " -- -- -- -- -- -- -- -- -- --], folded=True, pop_ids=None)"
      ]
     },
     "execution_count": 58,
     "metadata": {},
     "output_type": "execute_result"
    }
   ],
   "source": [
    "# fold unfolded spectrum\n",
    "\n",
    "fs_ery_unfolded_by_Angsd_folded = fs_ery_unfolded_by_ANGSD.fold()\n",
    "fs_ery_unfolded_by_Angsd_folded"
   ]
  },
  {
   "cell_type": "code",
   "execution_count": 59,
   "metadata": {
    "collapsed": false
   },
   "outputs": [
    {
     "data": {
      "image/png": "[encoded data removed]",
      "text/plain": [
       "<matplotlib.figure.Figure at 0x7f726d0bd090>"
      ]
     },
     "metadata": {},
     "output_type": "display_data"
    }
   ],
   "source": [
    "# plot the two spectra\n",
    "\n",
    "pylab.rcParams['figure.figsize'] = [12.0, 10.0]\n",
    "\n",
    "pylab.plot(fs_ery_folded_by_Angsd, 'ro-', label='folded by ANGSD')\n",
    "pylab.plot(fs_ery_unfolded_by_Angsd_folded, 'bo-', label='folded by DADI')\n",
    "pylab.legend()\n",
    "pylab.savefig('ery_fold_comp.png')"
   ]
  },
  {
   "cell_type": "code",
   "execution_count": 59,
   "metadata": {
    "collapsed": true
   },
   "outputs": [],
   "source": [
    "%psource dadi.Plotting.plot_1d_comp_Poisson"
   ]
  },
  {
   "cell_type": "code",
   "execution_count": 60,
   "metadata": {
    "collapsed": false
   },
   "outputs": [
    {
     "data": {
      "image/png": "[encoded data removed]",
      "text/plain": [
       "<matplotlib.figure.Figure at 0x7f726d05af50>"
      ]
     },
     "metadata": {},
     "output_type": "display_data"
    }
   ],
   "source": [
    "dadi.Plotting.plot_1d_comp_Poisson(fs_ery_folded_by_Angsd[:19], fs_ery_unfolded_by_Angsd_folded[:19], \\\n",
    "                                   residual='linear')"
   ]
  },
  {
   "cell_type": "markdown",
   "metadata": {},
   "source": [
    "The sizes of the residuals (scaled by the Poisson standard deviations) indicate that the two versions of the folded SFS of ery are significantly different."
   ]
  },
  {
   "cell_type": "markdown",
   "metadata": {},
   "source": [
    "Now, what does the parallelus data say?"
   ]
  },
  {
   "cell_type": "code",
   "execution_count": 61,
   "metadata": {
    "collapsed": false
   },
   "outputs": [
    {
     "name": "stdout",
     "output_type": "stream",
     "text": [
      "total 33676\r\n",
      "lrwxrwxrwx 1 claudius       53 Feb 17 15:37 \u001b[0m\u001b[01;36mERY.FOLDED.sfs\u001b[0m -> /data3/claudius/Big_Data/ANGSD/SFS/ERY/ERY.FOLDED.sfs\r\n",
      "-rw-rw-r-- 1 claudius      499 Mar 24 14:04 ERY.FOLDED.sfs.dadi_format\r\n",
      "-rw-rw-r-- 1 claudius      499 Mar 24 14:02 ERY.FOLDED.sfs.dadi_format~\r\n",
      "lrwxrwxrwx 1 claudius       37 Feb 18 17:46 \u001b[01;36mEryPar.unfolded.2dsfs\u001b[0m -> ../../ANGSD/FST/EryPar.unfolded.2dsfs\r\n",
      "-rw-rw-r-- 1 claudius    13051 Feb 18 19:00 EryPar.unfolded.2dsfs.dadi_format\r\n",
      "-rw-rw-r-- 1 claudius    13051 Feb 18 18:31 EryPar.unfolded.2dsfs.dadi_format~\r\n",
      "drwxrwxr-x 5 claudius     4096 Feb 17 13:45 \u001b[01;34mexamples\u001b[0m/\r\n",
      "-rw-rw-r-- 1 claudius   155251 Mar 22 12:37 example_YRI_CEU.ipynb\r\n",
      "-rw-rw-r-- 1 claudius   619518 Mar 21 11:09 First_Steps_with_dadi.ipynb\r\n",
      "-rw-rw-r-- 1 claudius     1012 Mar 16 09:54 new.bib\r\n",
      "lrwxrwxrwx 1 claudius       53 Feb 17 15:37 \u001b[01;36mPAR.FOLDED.sfs\u001b[0m -> /data3/claudius/Big_Data/ANGSD/SFS/PAR/PAR.FOLDED.sfs\r\n",
      "-rw-rw-r-- 1 claudius      486 Mar 24 20:08 PAR.FOLDED.sfs.dadi_format\r\n",
      "-rw-rw-r-- 1 claudius      450 Mar 24 20:08 PAR.FOLDED.sfs.dadi_format~\r\n",
      "-rw-rw-r-- 1 claudius       18 Mar 19 11:20 seedms\r\n",
      "-rw-rw-r-- 1 claudius 33643874 Mar 19 11:20 test.msout\r\n"
     ]
    }
   ],
   "source": [
    "% ll dadiExercises/"
   ]
  },
  {
   "cell_type": "code",
   "execution_count": 62,
   "metadata": {
    "collapsed": false
   },
   "outputs": [
    {
     "name": "stdout",
     "output_type": "stream",
     "text": [
      "# this is the ML estimate of the folded sample frequency spectrum for parallelus, estimated with realSFS of ANGSD\r\n",
      "# this is the spectrum in dadi format (see section 3.1 of the manual)\r\n",
      "37 folded\r\n",
      "1171183.294811 8409.256970 12008.479728 5476.826032 3090.791731 2755.941992 1804.378260 357.199759 2552.273719 832.442184 873.647652 0.001111 2420.101426 0.010094 910.498821 0.725863 1506.959669 232.289352 523.880826 \r\n",
      "1 0 0 0 0 0 0 0 0 0 0 0 0 0 0 0 0 0 0 1 1 1 1 1 1 1 1 1 1 1 1 1 1 1 1 1 1\r\n"
     ]
    }
   ],
   "source": [
    "% cat dadiExercises/PAR.FOLDED.sfs.dadi_format"
   ]
  },
  {
   "cell_type": "code",
   "execution_count": 63,
   "metadata": {
    "collapsed": false
   },
   "outputs": [
    {
     "data": {
      "text/plain": [
       "Spectrum([-- 8409.25697 12008.479728 5476.826032 3090.791731 2755.941992 1804.37826\n",
       " 357.199759 2552.273719 832.442184 873.647652 0.001111 2420.101426 0.010094\n",
       " 910.498821 0.725863 1506.959669 232.289352 523.880826 -- -- -- -- -- -- --\n",
       " -- -- -- -- -- -- -- -- -- -- --], folded=True, pop_ids=None)"
      ]
     },
     "execution_count": 63,
     "metadata": {},
     "output_type": "execute_result"
    }
   ],
   "source": [
    "# load the spectrum folded by ANGSD\n",
    "\n",
    "fs_par_folded_by_Angsd = dadi.Spectrum.from_file('dadiExercises/PAR.FOLDED.sfs.dadi_format')\n",
    "fs_par_folded_by_Angsd"
   ]
  },
  {
   "cell_type": "code",
   "execution_count": 64,
   "metadata": {
    "collapsed": false
   },
   "outputs": [
    {
     "name": "stdout",
     "output_type": "stream",
     "text": [
      "37 unfolded\r\n",
      "1168479.553637 8087.149285 11597.805791 5078.201104 2731.611410 2396.961010 1119.052124 218.045915 2585.701112 363.773630 255.690616 605.580566 1343.351541 0.000009 420.034144 0.035997 1150.501914 0.791354 31.079364 966.640187 6.753017 244.419730 81.604358 674.760980 299.526650 0.000000 340.309236 491.216107 0.085920 264.513993 517.818215 516.871489 279.498804 328.332291 581.014402 390.905752 2489.808345 \r\n"
     ]
    }
   ],
   "source": [
    "% cat PAR.unfolded.sfs"
   ]
  },
  {
   "cell_type": "code",
   "execution_count": 65,
   "metadata": {
    "collapsed": false
   },
   "outputs": [
    {
     "data": {
      "text/plain": [
       "Spectrum([-- 8087.149285 11597.805791 5078.201104 2731.61141 2396.96101 1119.052124\n",
       " 218.045915 2585.701112 363.77363 255.690616 605.580566 1343.351541 9e-06\n",
       " 420.034144 0.035997 1150.501914 0.791354 31.079364 966.640187 6.753017\n",
       " 244.41973 81.604358 674.76098 299.52665 0.0 340.309236 491.216107 0.08592\n",
       " 264.513993 517.818215 516.871489 279.498804 328.332291 581.014402\n",
       " 390.905752 --], folded=False, pop_ids=None)"
      ]
     },
     "execution_count": 65,
     "metadata": {},
     "output_type": "execute_result"
    }
   ],
   "source": [
    "# load spectrum that has been created from unfolded SAF's\n",
    "\n",
    "fs_par_unfolded_by_Angsd = dadi.Spectrum.from_file('PAR.unfolded.sfs')\n",
    "fs_par_unfolded_by_Angsd"
   ]
  },
  {
   "cell_type": "code",
   "execution_count": 66,
   "metadata": {
    "collapsed": false
   },
   "outputs": [
    {
     "data": {
      "text/plain": [
       "Spectrum([-- 8478.055037 12178.820193000001 5406.5333949999995 3011.110214\n",
       " 2913.832499 1636.870339 482.55990800000006 2585.787032 854.9897370000001\n",
       " 595.999852 605.580566 1642.878191 674.760989 501.638502 244.455727\n",
       " 1157.254931 967.4315409999999 31.079364 -- -- -- -- -- -- -- -- -- -- --\n",
       " -- -- -- -- -- -- --], folded=True, pop_ids=None)"
      ]
     },
     "execution_count": 66,
     "metadata": {},
     "output_type": "execute_result"
    }
   ],
   "source": [
    "fs_par_unfolded_by_Angsd_folded = fs_par_unfolded_by_Angsd.fold()\n",
    "fs_par_unfolded_by_Angsd_folded"
   ]
  },
  {
   "cell_type": "code",
   "execution_count": 67,
   "metadata": {
    "collapsed": false
   },
   "outputs": [
    {
     "data": {
      "image/png": "[encoded data removed]",
      "text/plain": [
       "<matplotlib.figure.Figure at 0x7f726d10c150>"
      ]
     },
     "metadata": {},
     "output_type": "display_data"
    }
   ],
   "source": [
    "dadi.Plotting.plot_1d_comp_Poisson(fs_par_folded_by_Angsd[:19], fs_par_unfolded_by_Angsd_folded[:19], \\\n",
    "                                   residual='linear')"
   ]
  },
  {
   "cell_type": "code",
   "execution_count": 68,
   "metadata": {
    "collapsed": false
   },
   "outputs": [
    {
     "data": {
      "image/png": "[encoded data removed]",
      "text/plain": [
       "<matplotlib.figure.Figure at 0x7f726d052910>"
      ]
     },
     "metadata": {},
     "output_type": "display_data"
    }
   ],
   "source": [
    "#pylab.subplot(2,1,1)\n",
    "pylab.plot(fs_par_folded_by_Angsd[:19], 'ro-', label='folded by ANGSD')\n",
    "\n",
    "#pylab.subplot(2,1,2)\n",
    "pylab.plot(fs_par_unfolded_by_Angsd_folded, 'bo-', label='folded by DADI')\n",
    "pylab.legend()\n",
    "pylab.savefig('par_fold_comp.png')"
   ]
  },
  {
   "cell_type": "markdown",
   "metadata": {},
   "source": [
    "The unfolded spectrum folded by dadi seems to be a bit better behaved than the one folded by ANGSD. I really wonder whether folding in ANGSD is needed."
   ]
  },
  {
   "cell_type": "markdown",
   "metadata": {},
   "source": [
    "The folded 2D spectrum from ANGSD is a 19 x 19 matrix. This is not a format that dadi can understand."
   ]
  },
  {
   "cell_type": "code",
   "execution_count": 83,
   "metadata": {
    "collapsed": true
   },
   "outputs": [],
   "source": [
    "%psource dadi.Spectrum.from_data_dict"
   ]
  },
  {
   "cell_type": "markdown",
   "metadata": {},
   "source": [
    "See this [thread on the dadi forum](https://groups.google.com/forum/#!searchin/dadi-user/fold/dadi-user/9EQTeZke0Bg/HTB8NzLGBQAJ)."
   ]
  },
  {
   "cell_type": "markdown",
   "metadata": {},
   "source": [
    "---"
   ]
  },
  {
   "cell_type": "markdown",
   "metadata": {},
   "source": [
    "## Exponential growth model"
   ]
  },
  {
   "cell_type": "code",
   "execution_count": 69,
   "metadata": {
    "collapsed": true
   },
   "outputs": [],
   "source": [
    "# show the source of the 'Demographics1D' method\n",
    "\n",
    "%psource dadi.Demographics1D.growth"
   ]
  },
  {
   "cell_type": "code",
   "execution_count": 134,
   "metadata": {
    "collapsed": false
   },
   "outputs": [],
   "source": [
    "# create link to function that specifies a simple growth or decline model\n",
    "\n",
    "func = dadi.Demographics1D.growth"
   ]
  },
  {
   "cell_type": "code",
   "execution_count": 135,
   "metadata": {
    "collapsed": true
   },
   "outputs": [],
   "source": [
    "# create extrapolating version of the function\n",
    "\n",
    "func_ex = dadi.Numerics.make_extrap_log_func(func)"
   ]
  },
  {
   "cell_type": "code",
   "execution_count": 136,
   "metadata": {
    "collapsed": true
   },
   "outputs": [],
   "source": [
    "# set lower and upper bounds to nu and T\n",
    "\n",
    "upper_bound = [100, 3]\n",
    "lower_bound = [1e-2, 0]"
   ]
  },
  {
   "cell_type": "code",
   "execution_count": 137,
   "metadata": {
    "collapsed": true
   },
   "outputs": [],
   "source": [
    "# set starting value\n",
    "\n",
    "p0 = [1, 1] # corresponds to constant population size"
   ]
  },
  {
   "cell_type": "code",
   "execution_count": 218,
   "metadata": {
    "collapsed": true
   },
   "outputs": [],
   "source": [
    "%pdoc dadi.Misc.perturb_params"
   ]
  },
  {
   "cell_type": "code",
   "execution_count": 138,
   "metadata": {
    "collapsed": true
   },
   "outputs": [],
   "source": [
    "# perturb starting values by up to a factor of 2\n",
    "\n",
    "p0 = dadi.Misc.perturb_params(p0, fold=1, upper_bound=upper_bound, lower_bound=lower_bound)"
   ]
  },
  {
   "cell_type": "code",
   "execution_count": 141,
   "metadata": {
    "collapsed": false
   },
   "outputs": [
    {
     "data": {
      "text/plain": [
       "array([ 0.55710412,  0.77933981])"
      ]
     },
     "execution_count": 141,
     "metadata": {},
     "output_type": "execute_result"
    }
   ],
   "source": [
    "p0"
   ]
  },
  {
   "cell_type": "code",
   "execution_count": 1,
   "metadata": {
    "collapsed": false
   },
   "outputs": [
    {
     "name": "stdout",
     "output_type": "stream",
     "text": [
      "Object `dadi.Inference.optimize_log` not found.\n"
     ]
    }
   ],
   "source": [
    "%psource dadi.Inference.optimize_log"
   ]
  },
  {
   "cell_type": "code",
   "execution_count": 142,
   "metadata": {
    "collapsed": false
   },
   "outputs": [],
   "source": [
    "# run optimisation of paramters\n",
    "\n",
    "popt = dadi.Inference.optimize_log(p0=p0, data=fs_ery, model_func=func_ex, pts=pts_l, \\\n",
    "                                   lower_bound=lower_bound, upper_bound=upper_bound, \\\n",
    "                                   verbose=0, maxiter=100, full_output=False)"
   ]
  },
  {
   "cell_type": "code",
   "execution_count": 143,
   "metadata": {
    "collapsed": false
   },
   "outputs": [
    {
     "data": {
      "text/plain": [
       "array([ 0.14288483,  0.00833611])"
      ]
     },
     "execution_count": 143,
     "metadata": {},
     "output_type": "execute_result"
    }
   ],
   "source": [
    "popt"
   ]
  },
  {
   "cell_type": "markdown",
   "metadata": {},
   "source": [
    "## Parallelised $\\delta$a$\\delta$i"
   ]
  },
  {
   "cell_type": "markdown",
   "metadata": {},
   "source": [
    "I need to run the simulation with different starting values to check convergence."
   ]
  },
  {
   "cell_type": "markdown",
   "metadata": {},
   "source": [
    "I would like to do these runs in parallel. I have 12 cores available on huluvu."
   ]
  },
  {
   "cell_type": "code",
   "execution_count": 144,
   "metadata": {
    "collapsed": true
   },
   "outputs": [],
   "source": [
    "from ipyparallel import Client"
   ]
  },
  {
   "cell_type": "code",
   "execution_count": 145,
   "metadata": {
    "collapsed": true
   },
   "outputs": [],
   "source": [
    "cl = Client()"
   ]
  },
  {
   "cell_type": "code",
   "execution_count": 146,
   "metadata": {
    "collapsed": false
   },
   "outputs": [
    {
     "data": {
      "text/plain": [
       "[0, 1, 2, 3, 4, 5, 6, 7, 8, 9, 10]"
      ]
     },
     "execution_count": 146,
     "metadata": {},
     "output_type": "execute_result"
    }
   ],
   "source": [
    "cl.ids"
   ]
  },
  {
   "cell_type": "markdown",
   "metadata": {},
   "source": [
    "I now have connections to 11 engines. I started the engines with `ipcluster start -n 11 &` in the terminal."
   ]
  },
  {
   "cell_type": "code",
   "execution_count": 147,
   "metadata": {
    "collapsed": true
   },
   "outputs": [],
   "source": [
    "# create load balanced view of the engines\n",
    "\n",
    "lbview = cl.load_balanced_view()"
   ]
  },
  {
   "cell_type": "code",
   "execution_count": 148,
   "metadata": {
    "collapsed": false
   },
   "outputs": [
    {
     "data": {
      "text/plain": [
       "False"
      ]
     },
     "execution_count": 148,
     "metadata": {},
     "output_type": "execute_result"
    }
   ],
   "source": [
    "lbview.block"
   ]
  },
  {
   "cell_type": "code",
   "execution_count": 149,
   "metadata": {
    "collapsed": true
   },
   "outputs": [],
   "source": [
    "# create direct view of all engines\n",
    "\n",
    "dview = cl[:]"
   ]
  },
  {
   "cell_type": "markdown",
   "metadata": {},
   "source": [
    "### import variables to namespace of engines"
   ]
  },
  {
   "cell_type": "code",
   "execution_count": 150,
   "metadata": {
    "collapsed": false
   },
   "outputs": [
    {
     "data": {
      "text/plain": [
       "[[1, 1],\n",
       " [1, 1],\n",
       " [1, 1],\n",
       " [1, 1],\n",
       " [1, 1],\n",
       " [1, 1],\n",
       " [1, 1],\n",
       " [1, 1],\n",
       " [1, 1],\n",
       " [1, 1],\n",
       " [1, 1]]"
      ]
     },
     "execution_count": 150,
     "metadata": {},
     "output_type": "execute_result"
    }
   ],
   "source": [
    "# set starting value for all engines\n",
    "\n",
    "dview['p0'] = [1, 1]\n",
    "dview['p0']"
   ]
  },
  {
   "cell_type": "code",
   "execution_count": 151,
   "metadata": {
    "collapsed": true
   },
   "outputs": [],
   "source": [
    "# set lower and upper bounds to nu and T for all engines\n",
    "\n",
    "dview['upper_bound'] = [100, 3]\n",
    "dview['lower_bound'] = [1e-2, 0]"
   ]
  },
  {
   "cell_type": "code",
   "execution_count": 152,
   "metadata": {
    "collapsed": false
   },
   "outputs": [
    {
     "data": {
      "text/plain": [
       "Spectrum([-- 7833.03869 7414.699839 4109.279415 3614.717256 3095.973324 2031.460887\n",
       " 1584.656928 2583.652317 1142.075255 1052.346021 1765.773415 1255.138799\n",
       " 1072.516527 1417.916128 395.75047 1947.087637 367.072082 966.622924 -- --\n",
       " -- -- -- -- -- -- -- -- -- -- -- -- -- -- -- --], folded=True, pop_ids=['ery'])"
      ]
     },
     "execution_count": 152,
     "metadata": {},
     "output_type": "execute_result"
    }
   ],
   "source": [
    "dview['fs_ery'] = fs_ery\n",
    "cl[0]['fs_ery']"
   ]
  },
  {
   "cell_type": "code",
   "execution_count": 153,
   "metadata": {
    "collapsed": true
   },
   "outputs": [],
   "source": [
    "dview['func_ex'] = func_ex\n",
    "dview['pts_l'] = pts_l"
   ]
  },
  {
   "cell_type": "markdown",
   "metadata": {},
   "source": [
    "### import dadi on all engines"
   ]
  },
  {
   "cell_type": "code",
   "execution_count": 155,
   "metadata": {
    "collapsed": false
   },
   "outputs": [
    {
     "name": "stdout",
     "output_type": "stream",
     "text": [
      "importing sys on engine(s)\n"
     ]
    }
   ],
   "source": [
    "with dview.sync_imports():\n",
    "    import sys"
   ]
  },
  {
   "cell_type": "code",
   "execution_count": 156,
   "metadata": {
    "collapsed": false
   },
   "outputs": [
    {
     "data": {
      "text/plain": [
       "<AsyncResult: execute>"
      ]
     },
     "execution_count": 156,
     "metadata": {},
     "output_type": "execute_result"
    }
   ],
   "source": [
    "dview.execute('sys.path.insert(0, \\'/home/claudius/Downloads/dadi\\')')"
   ]
  },
  {
   "cell_type": "code",
   "execution_count": 157,
   "metadata": {
    "collapsed": false
   },
   "outputs": [
    {
     "data": {
      "text/plain": [
       "['/home/claudius/Downloads/dadi',\n",
       " '/home/claudius/Downloads/dadi',\n",
       " '',\n",
       " '',\n",
       " '',\n",
       " '/usr/local/anaconda2/lib/python27.zip',\n",
       " '/usr/local/anaconda2/lib/python2.7',\n",
       " '/usr/local/anaconda2/lib/python2.7/plat-linux2',\n",
       " '/usr/local/anaconda2/lib/python2.7/lib-tk',\n",
       " '/usr/local/anaconda2/lib/python2.7/lib-old',\n",
       " '/usr/local/anaconda2/lib/python2.7/lib-dynload',\n",
       " '/usr/local/anaconda2/lib/python2.7/site-packages/Sphinx-1.3.5-py2.7.egg',\n",
       " '/usr/local/anaconda2/lib/python2.7/site-packages/setuptools-20.3-py2.7.egg',\n",
       " '/usr/local/anaconda2/lib/python2.7/site-packages',\n",
       " '/usr/local/anaconda2/lib/python2.7/site-packages/IPython/extensions']"
      ]
     },
     "execution_count": 157,
     "metadata": {},
     "output_type": "execute_result"
    }
   ],
   "source": [
    "cl[0]['sys.path']"
   ]
  },
  {
   "cell_type": "code",
   "execution_count": 158,
   "metadata": {
    "collapsed": false
   },
   "outputs": [
    {
     "name": "stdout",
     "output_type": "stream",
     "text": [
      "importing dadi on engine(s)\n"
     ]
    }
   ],
   "source": [
    "with dview.sync_imports():\n",
    "    import dadi"
   ]
  },
  {
   "cell_type": "markdown",
   "metadata": {},
   "source": [
    "### create parallel function to run dadi"
   ]
  },
  {
   "cell_type": "code",
   "execution_count": 163,
   "metadata": {
    "collapsed": true
   },
   "outputs": [],
   "source": [
    "@lbview.parallel(block=True)\n",
    "def run_dadi(x): # for the function to be called with map, it needs to have one input variable\n",
    "    # perturb starting values by up to a factor of 2\n",
    "    p1 = dadi.Misc.perturb_params(p0, fold=1, upper_bound=upper_bound, lower_bound=lower_bound)\n",
    "    # run optimisation of paramters\n",
    "    popt = dadi.Inference.optimize_log(p0=p1, data=fs_ery, model_func=func_ex, pts=pts_l, \\\n",
    "                                   lower_bound=lower_bound, upper_bound=upper_bound, \\\n",
    "                                   verbose=0, maxiter=100, full_output=False)\n",
    "    return popt"
   ]
  },
  {
   "cell_type": "code",
   "execution_count": 164,
   "metadata": {
    "collapsed": false
   },
   "outputs": [
    {
     "data": {
      "text/plain": [
       "[array([ 0.13668736,  0.00752484]),\n",
       " array([ 0.13684148,  0.00752771]),\n",
       " array([ 0.13671433,  0.00752618]),\n",
       " array([ 0.14308558,  0.00834197]),\n",
       " array([ 0.14292083,  0.00833734]),\n",
       " array([ 0.14314298,  0.00835486]),\n",
       " array([ 0.13668235,  0.00752443]),\n",
       " array([ 0.1366822 ,  0.00752434]),\n",
       " array([ 0.14287361,  0.00833568]),\n",
       " array([ 0.13668195,  0.00752452]),\n",
       " array([ 0.62606677,  2.99324968]),\n",
       " array([ 0.13678064,  0.00752742]),\n",
       " array([ 0.13670026,  0.00752479]),\n",
       " array([ 0.13670157,  0.00752638]),\n",
       " array([ 0.27894601,  2.95644142]),\n",
       " array([ 0.13668552,  0.00752423]),\n",
       " array([ 0.14287362,  0.00833568]),\n",
       " array([ 0.14288403,  0.00833646]),\n",
       " array([ 0.1366844 ,  0.00752458]),\n",
       " array([ 0.13669382,  0.00752444])]"
      ]
     },
     "execution_count": 164,
     "metadata": {},
     "output_type": "execute_result"
    }
   ],
   "source": [
    "run_dadi.map(range(20))"
   ]
  },
  {
   "cell_type": "code",
   "execution_count": null,
   "metadata": {
    "collapsed": true
   },
   "outputs": [],
   "source": []
  },
  {
   "cell_type": "code",
   "execution_count": 78,
   "metadata": {
    "collapsed": false
   },
   "outputs": [
    {
     "data": {
      "text/plain": [
       "array([ 0.14306651,  0.0083408 ])"
      ]
     },
     "execution_count": 78,
     "metadata": {},
     "output_type": "execute_result"
    }
   ],
   "source": [
    "popt"
   ]
  },
  {
   "cell_type": "code",
   "execution_count": 60,
   "metadata": {
    "collapsed": false
   },
   "outputs": [
    {
     "data": {
      "text/plain": [
       "array([ 0.14287362,  0.00833568])"
      ]
     },
     "execution_count": 60,
     "metadata": {},
     "output_type": "execute_result"
    }
   ],
   "source": [
    "# set starting value\n",
    "p0 = [1, 1]\n",
    "\n",
    "# perturb starting values by up to a factor of 2\n",
    "p0 = dadi.Misc.perturb_params(p0, fold=1, upper_bound=upper_bound, lower_bound=lower_bound)\n",
    "\n",
    "# run optimisation of paramters\n",
    "popt = dadi.Inference.optimize_log(p0=p0, data=fs_ery_ext, model_func=func_ex, pts=pts_l, \\\n",
    "                                   lower_bound=lower_bound, upper_bound=upper_bound, \\\n",
    "                                   verbose=0, maxiter=100, full_output=False)\n",
    "popt"
   ]
  },
  {
   "cell_type": "markdown",
   "metadata": {
    "collapsed": true
   },
   "source": [
    "---"
   ]
  },
  {
   "cell_type": "code",
   "execution_count": 85,
   "metadata": {
    "collapsed": true
   },
   "outputs": [],
   "source": [
    "def exp_growth(x):\n",
    "    p0 = [1, 1]\n",
    "\n",
    "    # perturb starting values by up to a factor of 2\n",
    "    p0 = dadi.Misc.perturb_params(p0, fold=1, upper_bound=upper_bound, lower_bound=lower_bound)\n",
    "\n",
    "    # run optimisation of paramters\n",
    "    popt = dadi.Inference.optimize_log(p0=p0, data=fs_ery_ext, model_func=func_ex, pts=pts_l, \\\n",
    "                                   lower_bound=lower_bound, upper_bound=upper_bound, \\\n",
    "                                   verbose=0, maxiter=100, full_output=False)\n",
    "    return popt"
   ]
  },
  {
   "cell_type": "code",
   "execution_count": 86,
   "metadata": {
    "collapsed": false
   },
   "outputs": [],
   "source": [
    "popt = map(exp_growth, range(10))"
   ]
  },
  {
   "cell_type": "code",
   "execution_count": 87,
   "metadata": {
    "collapsed": false
   },
   "outputs": [
    {
     "data": {
      "text/plain": [
       "[array([ 0.13671959,  0.00752554]),\n",
       " array([ 0.13684998,  0.00752938]),\n",
       " array([ 0.13668344,  0.00752429]),\n",
       " array([ 0.14287553,  0.00833577]),\n",
       " array([ 0.13680842,  0.00753195]),\n",
       " array([ 0.13668147,  0.00752434]),\n",
       " array([ 0.13668161,  0.00752433]),\n",
       " array([ 0.14294667,  0.00833834]),\n",
       " array([ 0.13668163,  0.00752433]),\n",
       " array([ 0.61500613,  2.99335042])]"
      ]
     },
     "execution_count": 87,
     "metadata": {},
     "output_type": "execute_result"
    }
   ],
   "source": [
    "# this will run a few minutes\n",
    "\n",
    "# popt"
   ]
  },
  {
   "cell_type": "code",
   "execution_count": 89,
   "metadata": {
    "collapsed": false
   },
   "outputs": [],
   "source": [
    "import ipyparallel as ipp"
   ]
  },
  {
   "cell_type": "code",
   "execution_count": 90,
   "metadata": {
    "collapsed": false
   },
   "outputs": [
    {
     "data": {
      "text/plain": [
       "[0, 1, 2, 3]"
      ]
     },
     "execution_count": 90,
     "metadata": {},
     "output_type": "execute_result"
    }
   ],
   "source": [
    "c = ipp.Client()\n",
    "c.ids"
   ]
  },
  {
   "cell_type": "code",
   "execution_count": 94,
   "metadata": {
    "collapsed": false
   },
   "outputs": [
    {
     "ename": "CompositeError",
     "evalue": "one or more exceptions from call to method: exp_growth\n[0:apply]: NameError: global name 'dadi' is not defined\n[1:apply]: NameError: global name 'dadi' is not defined\n[2:apply]: NameError: global name 'dadi' is not defined\n[3:apply]: NameError: global name 'dadi' is not defined",
     "output_type": "error",
     "traceback": [
      "[0:apply]: ",
      "No traceback available",
      "",
      "[1:apply]: ",
      "No traceback available",
      "",
      "[2:apply]: ",
      "No traceback available",
      "",
      "[3:apply]: ",
      "No traceback available",
      ""
     ]
    }
   ],
   "source": [
    "%%time\n",
    "\n",
    "dview = c[:]\n",
    "\n",
    "popt = dview.map_sync(exp_growth, range(10))"
   ]
  },
  {
   "cell_type": "markdown",
   "metadata": {},
   "source": [
    "Unfortunately, parallelisation is not as straightforward as it should be."
   ]
  },
  {
   "cell_type": "code",
   "execution_count": 95,
   "metadata": {
    "collapsed": false
   },
   "outputs": [
    {
     "data": {
      "text/plain": [
       "[array([ 0.13671959,  0.00752554]),\n",
       " array([ 0.13684998,  0.00752938]),\n",
       " array([ 0.13668344,  0.00752429]),\n",
       " array([ 0.14287553,  0.00833577]),\n",
       " array([ 0.13680842,  0.00753195]),\n",
       " array([ 0.13668147,  0.00752434]),\n",
       " array([ 0.13668161,  0.00752433]),\n",
       " array([ 0.14294667,  0.00833834]),\n",
       " array([ 0.13668163,  0.00752433]),\n",
       " array([ 0.61500613,  2.99335042])]"
      ]
     },
     "execution_count": 95,
     "metadata": {},
     "output_type": "execute_result"
    }
   ],
   "source": [
    "popt"
   ]
  },
  {
   "cell_type": "markdown",
   "metadata": {},
   "source": [
    "Except for the last iteration, the two parameter estimates seem to have converged."
   ]
  },
  {
   "cell_type": "code",
   "execution_count": 102,
   "metadata": {
    "collapsed": false
   },
   "outputs": [
    {
     "data": {
      "text/plain": [
       "array([36])"
      ]
     },
     "execution_count": 102,
     "metadata": {},
     "output_type": "execute_result"
    }
   ],
   "source": [
    "ns = fs_ery_ext.sample_sizes\n",
    "ns"
   ]
  },
  {
   "cell_type": "code",
   "execution_count": 105,
   "metadata": {
    "collapsed": false
   },
   "outputs": [
    {
     "name": "stdout",
     "output_type": "stream",
     "text": [
      "[ 0.13671959  0.00752554]\n",
      "[ 0.61500613  2.99335042]\n"
     ]
    }
   ],
   "source": [
    "print popt[0]\n",
    "print popt[9]"
   ]
  },
  {
   "cell_type": "markdown",
   "metadata": {},
   "source": [
    "What is the log likelihood of the model given these two different parameter sets?"
   ]
  },
  {
   "cell_type": "code",
   "execution_count": 109,
   "metadata": {
    "collapsed": false
   },
   "outputs": [
    {
     "data": {
      "text/plain": [
       "-2078.9578383692165"
      ]
     },
     "execution_count": 109,
     "metadata": {},
     "output_type": "execute_result"
    }
   ],
   "source": [
    "model_one = func_ex(popt[0], ns, pts_l)\n",
    "ll_model_one = dadi.Inference.ll_multinom(model_one, fs_ery_ext)\n",
    "ll_model_one"
   ]
  },
  {
   "cell_type": "code",
   "execution_count": 110,
   "metadata": {
    "collapsed": false
   },
   "outputs": [
    {
     "data": {
      "text/plain": [
       "-2442.1659496042312"
      ]
     },
     "execution_count": 110,
     "metadata": {},
     "output_type": "execute_result"
    }
   ],
   "source": [
    "model_two = func_ex(popt[9], ns, pts_l)\n",
    "ll_model_two = dadi.Inference.ll_multinom(model_two, fs_ery_ext)\n",
    "ll_model_two"
   ]
  },
  {
   "cell_type": "markdown",
   "metadata": {},
   "source": [
    "The lower log-likelihood for the last set of parameters inferred indicates that the optimisation got trapped in a local minimum in the last run of the optimisation."
   ]
  },
  {
   "cell_type": "markdown",
   "metadata": {},
   "source": [
    "What the majority of the parameter sets seem to indicate is that at about time $0.007 \\times 2 N_{ref}$ generations in the past the ancestral population started to shrink exponentially, reaching a population size of about $0.14 \\times N_{ref}$ at present."
   ]
  },
  {
   "cell_type": "code",
   "execution_count": 118,
   "metadata": {
    "collapsed": false
   },
   "outputs": [
    {
     "name": "stdout",
     "output_type": "stream",
     "text": [
      "The model suggests that exponential decline in population size started 24241 generations ago.\n"
     ]
    }
   ],
   "source": [
    "print 'The model suggests that exponential decline in population size started {0:.0f} generations ago.'.format(popt[0][1] * 2 * N_ref)"
   ]
  },
  {
   "cell_type": "markdown",
   "metadata": {},
   "source": [
    "### Two epoch model"
   ]
  },
  {
   "cell_type": "code",
   "execution_count": 119,
   "metadata": {
    "collapsed": false
   },
   "outputs": [
    {
     "data": {
      "text/plain": [
       "['Integration',\n",
       " 'Numerics',\n",
       " 'PhiManip',\n",
       " 'Spectrum',\n",
       " '__builtins__',\n",
       " '__doc__',\n",
       " '__file__',\n",
       " '__name__',\n",
       " '__package__',\n",
       " 'bottlegrowth',\n",
       " 'growth',\n",
       " 'numpy',\n",
       " 'snm',\n",
       " 'three_epoch',\n",
       " 'two_epoch']"
      ]
     },
     "execution_count": 119,
     "metadata": {},
     "output_type": "execute_result"
    }
   ],
   "source": [
    "dir(dadi.Demographics1D)"
   ]
  },
  {
   "cell_type": "code",
   "execution_count": 122,
   "metadata": {
    "collapsed": true
   },
   "outputs": [],
   "source": [
    "%psource dadi.Demographics1D.two_epoch"
   ]
  },
  {
   "cell_type": "markdown",
   "metadata": {},
   "source": [
    "This model specifies a stepwise change in population size some time ago. It assumes that the population size has stayed constant since the change."
   ]
  },
  {
   "cell_type": "code",
   "execution_count": 124,
   "metadata": {
    "collapsed": true
   },
   "outputs": [],
   "source": [
    "func = dadi.Demographics1D.two_epoch\n",
    "func_ex = dadi.Numerics.make_extrap_log_func(func)"
   ]
  },
  {
   "cell_type": "code",
   "execution_count": 130,
   "metadata": {
    "collapsed": true
   },
   "outputs": [],
   "source": [
    "upper_bound = [10, 3]\n",
    "lower_bound = [1e-3, 0]\n",
    "pts_l = [40, 50, 60]"
   ]
  },
  {
   "cell_type": "code",
   "execution_count": 131,
   "metadata": {
    "collapsed": true
   },
   "outputs": [],
   "source": [
    "def stepwise_pop_change(x):\n",
    "    # set initial values\n",
    "    p0 = [1, 1]\n",
    "\n",
    "    # perturb initial parameter values randomly by up to 2 * fold\n",
    "    p0 = dadi.Misc.perturb_params(p0, fold=1.5, \\\n",
    "                                  upper_bound=upper_bound, lower_bound=lower_bound)\n",
    "    \n",
    "    # run optimisation\n",
    "    popt = dadi.Inference.optimize_log(p0, fs_ery_ext, func_ex, pts_l, \\\n",
    "                                      upper_bound=upper_bound, lower_bound=lower_bound,\n",
    "                                      verbose=0, maxiter=10)\n",
    "    \n",
    "    return popt"
   ]
  },
  {
   "cell_type": "code",
   "execution_count": 132,
   "metadata": {
    "collapsed": false
   },
   "outputs": [
    {
     "data": {
      "text/plain": [
       "array([ 0.71582479,  1.48177522])"
      ]
     },
     "execution_count": 132,
     "metadata": {},
     "output_type": "execute_result"
    }
   ],
   "source": [
    "stepwise_pop_change(1)"
   ]
  },
  {
   "cell_type": "code",
   "execution_count": 133,
   "metadata": {
    "collapsed": false
   },
   "outputs": [
    {
     "data": {
      "text/plain": [
       "array([ 0.52313273,  0.02170397])"
      ]
     },
     "execution_count": 133,
     "metadata": {},
     "output_type": "execute_result"
    }
   ],
   "source": [
    "stepwise_pop_change(1)"
   ]
  },
  {
   "cell_type": "code",
   "execution_count": 134,
   "metadata": {
    "collapsed": true
   },
   "outputs": [],
   "source": [
    "popt = map(stepwise_pop_change, range(10))"
   ]
  },
  {
   "cell_type": "code",
   "execution_count": 135,
   "metadata": {
    "collapsed": false
   },
   "outputs": [
    {
     "data": {
      "text/plain": [
       "[array([ 0.05346403,  0.00121263]),\n",
       " array([ 0.52820083,  1.52065476]),\n",
       " array([ 0.70098048,  1.49801054]),\n",
       " array([  1.23477031e-03,   2.65620732e-05]),\n",
       " array([ 0.93182588,  0.39965143]),\n",
       " array([  1.24562315e-03,   2.67845737e-05]),\n",
       " array([  2.60721008e-03,   5.69571832e-05]),\n",
       " array([  3.16956683e-03,   6.72777030e-05]),\n",
       " array([ 0.08273687,  0.00191126]),\n",
       " array([ 0.49179179,  1.48874641])]"
      ]
     },
     "execution_count": 135,
     "metadata": {},
     "output_type": "execute_result"
    }
   ],
   "source": [
    "popt"
   ]
  },
  {
   "cell_type": "markdown",
   "metadata": {},
   "source": [
    "This model does not converge on a set of parameter values. "
   ]
  },
  {
   "cell_type": "code",
   "execution_count": 137,
   "metadata": {
    "collapsed": false
   },
   "outputs": [
    {
     "data": {
      "text/plain": [
       "[0.053464033879808158,\n",
       " 0.52820083105703042,\n",
       " 0.70098048229605303,\n",
       " 0.0012347703149881697,\n",
       " 0.93182587694892949,\n",
       " 0.0012456231458644071,\n",
       " 0.002607210077695377,\n",
       " 0.0031695668332491901,\n",
       " 0.082736869674711166,\n",
       " 0.4917917939974748]"
      ]
     },
     "execution_count": 137,
     "metadata": {},
     "output_type": "execute_result"
    }
   ],
   "source": [
    "nu = [i[0] for i in popt]\n",
    "nu"
   ]
  },
  {
   "cell_type": "code",
   "execution_count": 138,
   "metadata": {
    "collapsed": false
   },
   "outputs": [
    {
     "data": {
      "text/plain": [
       "[0.0012126341297049286,\n",
       " 1.5206547612664572,\n",
       " 1.4980105443841463,\n",
       " 2.6562073197456022e-05,\n",
       " 0.39965143435895278,\n",
       " 2.6784573653534451e-05,\n",
       " 5.6957183190580561e-05,\n",
       " 6.7277702995326204e-05,\n",
       " 0.0019112612533135542,\n",
       " 1.4887464115585192]"
      ]
     },
     "execution_count": 138,
     "metadata": {},
     "output_type": "execute_result"
    }
   ],
   "source": [
    "T = [i[1] for i in popt]\n",
    "T"
   ]
  },
  {
   "cell_type": "code",
   "execution_count": 146,
   "metadata": {
    "collapsed": false
   },
   "outputs": [
    {
     "data": {
      "text/plain": [
       "<matplotlib.text.Text at 0x7f14257c9c50>"
      ]
     },
     "execution_count": 146,
     "metadata": {},
     "output_type": "execute_result"
    },
    {
     "data": {
      "image/png": "[encoded data removed]",
      "text/plain": [
       "<matplotlib.figure.Figure at 0x7f142599eb90>"
      ]
     },
     "metadata": {},
     "output_type": "display_data"
    }
   ],
   "source": [
    "pylab.rcParams['font.size'] = 14.0\n",
    "\n",
    "pylab.loglog(nu, T, 'bo')\n",
    "pylab.xlabel(r'$\\nu$')\n",
    "pylab.ylabel('T')"
   ]
  },
  {
   "cell_type": "markdown",
   "metadata": {},
   "source": [
    "Both parameters seem to be correlated. With the available data, it may not be possible to distinguish between a moderate reduction in population size a long time ago (topright in the above figure) and a drastic reduction in population size a short time ago (bottomleft in the above figure)."
   ]
  },
  {
   "cell_type": "markdown",
   "metadata": {},
   "source": [
    "### Bottleneck then exponential growth"
   ]
  },
  {
   "cell_type": "code",
   "execution_count": 91,
   "metadata": {
    "collapsed": false
   },
   "outputs": [],
   "source": [
    "%psource dadi.Demographics1D"
   ]
  },
  {
   "cell_type": "markdown",
   "metadata": {},
   "source": [
    "This model has three parameters. $\\nu_B$ is the ratio of the population size (with respect to the ancestral population size $N_{ref}$) after the first stepwise change at time T in the past. The population is then asumed to undergo exponential growth/decline to a ratio of population size $\\nu_F$ at present."
   ]
  },
  {
   "cell_type": "code",
   "execution_count": 84,
   "metadata": {
    "collapsed": true
   },
   "outputs": [],
   "source": [
    "func = dadi.Demographics1D.bottlegrowth\n",
    "func_ex = dadi.Numerics.make_extrap_log_func(func)\n",
    "\n",
    "upper_bound = [100, 100, 3]\n",
    "lower_bound = [1e-3, 1e-3, 0]\n",
    "pts_l = [40, 50, 60]"
   ]
  },
  {
   "cell_type": "code",
   "execution_count": 79,
   "metadata": {
    "collapsed": true
   },
   "outputs": [],
   "source": [
    "def bottleneck_growth(x):\n",
    "    p0 = [1, 1, 1] # corresponds to constant population size\n",
    "    \n",
    "        # perturb initial parameter values randomly by up to 2 * fold\n",
    "    p0 = dadi.Misc.perturb_params(p0, fold=1.5, \\\n",
    "                                  upper_bound=upper_bound, lower_bound=lower_bound)\n",
    "    \n",
    "    # run optimisation\n",
    "    popt = dadi.Inference.optimize_log(p0, fs_ery_ext, func_ex, pts_l, \\\n",
    "                                      upper_bound=upper_bound, lower_bound=lower_bound,\n",
    "                                      verbose=0, maxiter=10)\n",
    "    \n",
    "    return popt"
   ]
  },
  {
   "cell_type": "code",
   "execution_count": 85,
   "metadata": {
    "collapsed": false
   },
   "outputs": [],
   "source": [
    "%%time\n",
    "\n",
    "popt = map(bottleneck_growth, range(10))"
   ]
  },
  {
   "cell_type": "code",
   "execution_count": 90,
   "metadata": {
    "collapsed": false
   },
   "outputs": [
    {
     "data": {
      "text/plain": [
       "[array([ 3.32262806,  1.69146643,  2.56095916]),\n",
       " array([ 92.72772237,   0.61039715,   0.83221209]),\n",
       " array([ 40.09567759,   0.4476942 ,   0.36821649]),\n",
       " array([ 5.78225383,  1.74427897,  2.80682812]),\n",
       " array([ 36.39875643,   1.69763973,   2.89008727]),\n",
       " array([ 2.02417027,  1.27851264,  1.800669  ]),\n",
       " array([ 99.84634022,   1.22219195,   2.22506295]),\n",
       " array([ 37.78406406,   0.44611004,   0.36039046]),\n",
       " array([ 0.2564171 ,  0.23224403,  1.11415673]),\n",
       " array([ 82.35484216,   0.83001266,   1.2460676 ])]"
      ]
     },
     "execution_count": 90,
     "metadata": {},
     "output_type": "execute_result"
    }
   ],
   "source": [
    "popt"
   ]
  },
  {
   "cell_type": "markdown",
   "metadata": {},
   "source": [
    "There is no convergence of parameters estimates. The parameter combinations stand for vastly different demographic scenarios. Most seem to suggest a population increase (up to 100 times the ancestral population size), followed by exponential decrease to about the ancestral population size."
   ]
  },
  {
   "cell_type": "markdown",
   "metadata": {},
   "source": [
    "## Three epochs"
   ]
  },
  {
   "cell_type": "code",
   "execution_count": 92,
   "metadata": {
    "collapsed": true
   },
   "outputs": [],
   "source": [
    "func = dadi.Demographics1D.three_epoch\n",
    "func_ex = dadi.Numerics.make_extrap_log_func(func)"
   ]
  },
  {
   "cell_type": "code",
   "execution_count": null,
   "metadata": {
    "collapsed": true
   },
   "outputs": [],
   "source": [
    "%psource dadi.Demographics1D.three_epoch"
   ]
  },
  {
   "cell_type": "markdown",
   "metadata": {},
   "source": [
    "This model tries to estimate three parameters. The populations is expected to undergo a stepwise population size change (bottleneck) at time TF + TB. At time TF it is expected to recover immediately to the current population size."
   ]
  },
  {
   "cell_type": "code",
   "execution_count": 94,
   "metadata": {
    "collapsed": true
   },
   "outputs": [],
   "source": [
    "upper_bound = [100, 100, 3, 3]\n",
    "lower_bound = [1e-3, 1e-3, 0, 0]\n",
    "pts_l = [40, 50, 60]"
   ]
  },
  {
   "cell_type": "code",
   "execution_count": 95,
   "metadata": {
    "collapsed": true
   },
   "outputs": [],
   "source": [
    "def opt_three_epochs(x):\n",
    "    p0 = [1, 1, 1, 1] # corresponds to constant population size\n",
    "    \n",
    "        # perturb initial parameter values randomly by up to 2 * fold\n",
    "    p0 = dadi.Misc.perturb_params(p0, fold=1.5, \\\n",
    "                                  upper_bound=upper_bound, lower_bound=lower_bound)\n",
    "    \n",
    "    # run optimisation\n",
    "    popt = dadi.Inference.optimize_log(p0, fs_ery_ext, func_ex, pts_l, \\\n",
    "                                      upper_bound=upper_bound, lower_bound=lower_bound,\n",
    "                                      verbose=0, maxiter=10)\n",
    "    \n",
    "    return popt"
   ]
  },
  {
   "cell_type": "code",
   "execution_count": 96,
   "metadata": {
    "collapsed": true
   },
   "outputs": [],
   "source": [
    "%%time\n",
    "\n",
    "popt = map(opt_three_epochs, range(10))"
   ]
  },
  {
   "cell_type": "code",
   "execution_count": 97,
   "metadata": {
    "collapsed": false
   },
   "outputs": [
    {
     "data": {
      "text/plain": [
       "[array([ 2.1322592 ,  1.80939584,  2.63255719,  1.19679208]),\n",
       " array([ 1.34425884,  1.16028262,  2.91869809,  0.88787625]),\n",
       " array([ 6.70550739,  0.40809191,  0.20894836,  0.04068077]),\n",
       " array([ 0.33077323,  0.28910967,  1.87311862,  0.30714645]),\n",
       " array([ 1.22342098,  1.97405895,  2.66260518,  2.59029637]),\n",
       " array([ 2.14133553,  0.29206373,  2.39829279,  2.63917117]),\n",
       " array([ 1.51260128,  0.60796628,  2.67526041,  0.01882071]),\n",
       " array([ 4.78149625,  0.20179516,  0.30563708,  0.02241828]),\n",
       " array([ 1.36953542,  1.07880153,  0.64664582,  0.69682647]),\n",
       " array([ 1.75466502,  1.40419974,  2.39931278,  1.26228929])]"
      ]
     },
     "execution_count": 97,
     "metadata": {},
     "output_type": "execute_result"
    }
   ],
   "source": [
    "popt"
   ]
  },
  {
   "cell_type": "markdown",
   "metadata": {},
   "source": [
    "Note, that only one of the optimisations inferred a bottleneck (4th). All others either inferred a constant population size or an increase in population size. Contemporary population sizes are mostly inferred to be similar to ancestral population sizes. The two time parameters vary wildly."
   ]
  },
  {
   "cell_type": "code",
   "execution_count": null,
   "metadata": {
    "collapsed": true
   },
   "outputs": [],
   "source": []
  }
 ],
 "metadata": {
  "anaconda-cloud": {},
  "kernelspec": {
   "display_name": "Python [default]",
   "language": "python",
   "name": "python2"
  },
  "language_info": {
   "codemirror_mode": {
    "name": "ipython",
    "version": 2
   },
   "file_extension": ".py",
   "mimetype": "text/x-python",
   "name": "python",
   "nbconvert_exporter": "python",
   "pygments_lexer": "ipython2",
   "version": "2.7.12"
  },
  "toc": {
   "colors": {
    "hover_highlight": "#DAA520",
    "running_highlight": "#FF0000",
    "selected_highlight": "#FFD700"
   },
   "moveMenuLeft": true,
   "nav_menu": {
    "height": "198px",
    "width": "333px"
   },
   "navigate_menu": true,
   "number_sections": false,
   "sideBar": true,
   "threshold": 4,
   "toc_cell": false,
   "toc_section_display": "block",
   "toc_window_display": true
  }
 },
 "nbformat": 4,
 "nbformat_minor": 0
}
