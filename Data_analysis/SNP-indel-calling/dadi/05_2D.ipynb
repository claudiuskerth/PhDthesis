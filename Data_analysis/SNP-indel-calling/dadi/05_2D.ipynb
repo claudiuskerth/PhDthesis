{
 "cells": [
  {
   "cell_type": "markdown",
   "metadata": {
    "toc": "true"
   },
   "source": [
    "# Table of Contents\n",
    " <p>"
   ]
  },
  {
   "cell_type": "code",
   "execution_count": 1,
   "metadata": {
    "collapsed": false
   },
   "outputs": [
    {
     "data": {
      "text/plain": [
       "[0, 1, 2, 3, 4, 5, 6, 7, 8, 9, 10, 11, 12, 13, 14, 15, 16, 17, 18, 19]"
      ]
     },
     "execution_count": 1,
     "metadata": {},
     "output_type": "execute_result"
    }
   ],
   "source": [
    "from ipyparallel import Client\n",
    "\n",
    "cl = Client()\n",
    "\n",
    "cl.ids"
   ]
  },
  {
   "cell_type": "code",
   "execution_count": 2,
   "metadata": {
    "collapsed": true
   },
   "outputs": [],
   "source": [
    "%%px --local\n",
    "\n",
    "# run whole cell on all engines a well as in the local IPython session\n",
    "\n",
    "import numpy as np\n",
    "\n",
    "import sys\n",
    "\n",
    "sys.path.insert(0, '/home/claudius/Downloads/dadi')\n",
    "\n",
    "import dadi"
   ]
  },
  {
   "cell_type": "code",
   "execution_count": 3,
   "metadata": {
    "collapsed": false
   },
   "outputs": [
    {
     "name": "stdout",
     "output_type": "stream",
     "text": [
      "total 33676\r\n",
      "lrwxrwxrwx 1 claudius       53 Feb 17 15:37 \u001b[0m\u001b[01;36mERY.FOLDED.sfs\u001b[0m -> /data3/claudius/Big_Data/ANGSD/SFS/ERY/ERY.FOLDED.sfs\r\n",
      "-rw-rw-r-- 1 claudius      499 Mar 24 14:04 ERY.FOLDED.sfs.dadi_format\r\n",
      "-rw-rw-r-- 1 claudius      499 Mar 24 14:02 ERY.FOLDED.sfs.dadi_format~\r\n",
      "lrwxrwxrwx 1 claudius       37 Feb 18 17:46 \u001b[01;36mEryPar.unfolded.2dsfs\u001b[0m -> ../../ANGSD/FST/EryPar.unfolded.2dsfs\r\n",
      "-rw-rw-r-- 1 claudius    13051 Feb 18 19:00 EryPar.unfolded.2dsfs.dadi_format\r\n",
      "-rw-rw-r-- 1 claudius    13051 Feb 18 18:31 EryPar.unfolded.2dsfs.dadi_format~\r\n",
      "drwxrwxr-x 5 claudius     4096 Feb 17 13:45 \u001b[01;34mexamples\u001b[0m/\r\n",
      "-rw-rw-r-- 1 claudius   155251 Mar 22 12:37 example_YRI_CEU.ipynb\r\n",
      "-rw-rw-r-- 1 claudius   619699 Apr 20 10:19 First_Steps_with_dadi.ipynb\r\n",
      "-rw-rw-r-- 1 claudius     1012 Mar 16 09:54 new.bib\r\n",
      "lrwxrwxrwx 1 claudius       53 Feb 17 15:37 \u001b[01;36mPAR.FOLDED.sfs\u001b[0m -> /data3/claudius/Big_Data/ANGSD/SFS/PAR/PAR.FOLDED.sfs\r\n",
      "-rw-rw-r-- 1 claudius      486 Mar 24 20:08 PAR.FOLDED.sfs.dadi_format\r\n",
      "-rw-rw-r-- 1 claudius      450 Mar 24 20:08 PAR.FOLDED.sfs.dadi_format~\r\n",
      "-rw-rw-r-- 1 claudius       18 Mar 19 11:20 seedms\r\n",
      "-rw-rw-r-- 1 claudius 33643874 Mar 19 11:20 test.msout\r\n"
     ]
    }
   ],
   "source": [
    "%ll dadiExercises/"
   ]
  },
  {
   "cell_type": "code",
   "execution_count": 4,
   "metadata": {
    "collapsed": true
   },
   "outputs": [],
   "source": [
    "%less dadiExercises/EryPar.unfolded.2dsfs.dadi_format"
   ]
  },
  {
   "cell_type": "code",
   "execution_count": 5,
   "metadata": {
    "collapsed": true
   },
   "outputs": [],
   "source": [
    "# import 2D unfolded spectrum\n",
    "\n",
    "sfs2d_unfolded = dadi.Spectrum.from_file('dadiExercises/EryPar.unfolded.2dsfs.dadi_format')"
   ]
  },
  {
   "cell_type": "code",
   "execution_count": 23,
   "metadata": {
    "collapsed": true
   },
   "outputs": [],
   "source": [
    "%page sfs2d_unfolded"
   ]
  },
  {
   "cell_type": "code",
   "execution_count": 7,
   "metadata": {
    "collapsed": false
   },
   "outputs": [
    {
     "data": {
      "text/plain": [
       "array([36, 36])"
      ]
     },
     "execution_count": 7,
     "metadata": {},
     "output_type": "execute_result"
    }
   ],
   "source": [
    "sfs2d_unfolded.sample_sizes"
   ]
  },
  {
   "cell_type": "code",
   "execution_count": 8,
   "metadata": {
    "collapsed": false
   },
   "outputs": [],
   "source": [
    "# add population labels\n",
    "sfs2d_unfolded.pop_ids = [\"ery\", \"par\"]"
   ]
  },
  {
   "cell_type": "markdown",
   "metadata": {},
   "source": [
    "For the estimation of the 2D SFS, `realSFS` has only taken sites that had data from at least 9 individuals in *each* population (see `assembly.sh`, lines 1423 onwards)."
   ]
  },
  {
   "cell_type": "code",
   "execution_count": 9,
   "metadata": {
    "collapsed": false
   },
   "outputs": [
    {
     "data": {
      "text/plain": [
       "60573.584426000001"
      ]
     },
     "execution_count": 9,
     "metadata": {},
     "output_type": "execute_result"
    }
   ],
   "source": [
    "sfs2d_unfolded.S()"
   ]
  },
  {
   "cell_type": "markdown",
   "metadata": {},
   "source": [
    "The 2D spectrum contains counts from 60k sites that are variable in *par* or *ery* or both."
   ]
  },
  {
   "cell_type": "code",
   "execution_count": 10,
   "metadata": {
    "collapsed": true
   },
   "outputs": [],
   "source": [
    "import pylab\n",
    "\n",
    "%matplotlib inline"
   ]
  },
  {
   "cell_type": "code",
   "execution_count": 22,
   "metadata": {
    "collapsed": false
   },
   "outputs": [
    {
     "data": {
      "text/plain": [
       "<matplotlib.colorbar.Colorbar at 0x7fb92998fd50>"
      ]
     },
     "execution_count": 22,
     "metadata": {},
     "output_type": "execute_result"
    },
    {
     "data": {
      "image/png": "[encoded data removed]",
      "text/plain": [
       "<matplotlib.figure.Figure at 0x7fb929afd6d0>"
      ]
     },
     "metadata": {},
     "output_type": "display_data"
    }
   ],
   "source": [
    "# note this needs to be in the same cell as the dadi plotting function call to take effect\n",
    "pylab.rcParams['font.size'] = 14.0\n",
    "pylab.rcParams['figure.figsize'] = [12.0, 10.0]\n",
    "\n",
    "dadi.Plotting.plot_single_2d_sfs(sfs2d_unfolded, vmin=1, cmap=pylab.cm.jet)"
   ]
  },
  {
   "cell_type": "code",
   "execution_count": 24,
   "metadata": {
    "collapsed": true
   },
   "outputs": [],
   "source": [
    "%psource dadi.Plotting.plot_single_2d_sfs"
   ]
  },
  {
   "cell_type": "markdown",
   "metadata": {},
   "source": [
    "[More colormaps](http://www.scipy-lectures.org/intro/matplotlib/index.html#colormaps)"
   ]
  },
  {
   "cell_type": "code",
   "execution_count": 26,
   "metadata": {
    "collapsed": true
   },
   "outputs": [],
   "source": [
    "sfs2d_folded = sfs2d_unfolded.fold()"
   ]
  },
  {
   "cell_type": "code",
   "execution_count": 27,
   "metadata": {
    "collapsed": false
   },
   "outputs": [
    {
     "data": {
      "text/plain": [
       "<matplotlib.colorbar.Colorbar at 0x7fb9296ee9d0>"
      ]
     },
     "execution_count": 27,
     "metadata": {},
     "output_type": "execute_result"
    },
    {
     "data": {
      "image/png": "[encoded data removed]",
      "text/plain": [
       "<matplotlib.figure.Figure at 0x7fb929ce3610>"
      ]
     },
     "metadata": {},
     "output_type": "display_data"
    }
   ],
   "source": [
    "# plot the folded GLOBAL minor allele frequency spectrum\n",
    "\n",
    "dadi.Plotting.plot_single_2d_sfs(sfs2d_folded, vmin=1, cmap=pylab.cm.jet)"
   ]
  },
  {
   "cell_type": "code",
   "execution_count": 43,
   "metadata": {
    "collapsed": true
   },
   "outputs": [],
   "source": [
    "# setting the smallest grid size slightly larger than the largest population sample size (36)\n",
    "pts_l = [40, 50, 60]"
   ]
  },
  {
   "cell_type": "markdown",
   "metadata": {},
   "source": [
    "The fitting of parameters for various 1D models to the SFS's of _par_ and _ery_ has indicated the following:\n",
    "- _ery_ has undergone a population size increase by >20 fold (between about 1-2 $\\times2N_{ref}$ generations ago) and later (<1 $\\times2N_{ref}$ generations ago) a decrease to about 15% of the ancient populations size\n",
    "- _par_ has undergone only one size change to <10% of the ancient population size, this is inferred to have happened in the distant past, about 2-4 ($\\times 2N_{ref}$) generations ago\n",
    "\n",
    "I think it would be good to incorporate this information in the specification of a more complex 2D model."
   ]
  },
  {
   "cell_type": "code",
   "execution_count": 36,
   "metadata": {
    "collapsed": true
   },
   "outputs": [],
   "source": [
    "%pinfo dadi.Demographics2D.split_mig"
   ]
  },
  {
   "cell_type": "markdown",
   "metadata": {},
   "source": [
    "There are a couple of built-in models that I could use, but I think I need a custom model here that includes the information from the 1D model fitting."
   ]
  },
  {
   "cell_type": "markdown",
   "metadata": {},
   "source": [
    "I would like to write a model function that specifies an ancient split between _ery_ and _par_, then a population decline in _par_ that lasts until the present and later an exponential growth in _ery_ that is more recently followed by a population decline."
   ]
  },
  {
   "cell_type": "markdown",
   "metadata": {},
   "source": [
    "An alternative model to test would be a population decline in the ancestral population, followed by the split between, later population increase in ery which is more recently followed by a population decline."
   ]
  },
  {
   "cell_type": "code",
   "execution_count": 49,
   "metadata": {
    "collapsed": false
   },
   "outputs": [],
   "source": [
    "def split_1grow_2decline_1decline_nomig((nu1s, nu2s, nu2f, nu1b, nu1f, Ts, T2, Tb, Tf), (n1, n2), pts):\n",
    "    \"\"\"\n",
    "    model function: specifies an ancient split, followed by growth in pop1 and \n",
    "                    decline in pop2, later also decline in pop1\n",
    "    \n",
    "    nu1s: rel. size of pop1 after split\n",
    "    nu2s: rel. size of pop2 after split\n",
    "    nu2f: final rel. size for pop2\n",
    "    nu1b: rel. size of pop1 after first size change\n",
    "    nu1f: final rel. size of pop1\n",
    "    Ts: time betweem population split and size change in pop2\n",
    "    T2: time between size change in pop2 and first size change in pop1\n",
    "    Tb: time between first and second size change in pop1\n",
    "    Tf: time between second size change in pop1 and present\n",
    "    \n",
    "    The population split happend Tf+Tb+T2+Ts (x2N) generations in the past.\n",
    "    \n",
    "    n1,n2: sample sizes\n",
    "    pts: number of grid points to use in extrapolation\n",
    "    \"\"\"\n",
    "    \n",
    "    # define grid\n",
    "    xx = yy = dadi.Numerics.default_grid(pts)\n",
    "    \n",
    "    # phi for the equilibrium ancestral pop\n",
    "    phi = dadi.PhiManip.phi_1D(xx)\n",
    "    \n",
    "    # population split into pop1 and pop2\n",
    "    phi = dadi.PhiManip.phi_1D_to_2D(xx, phi)\n",
    "    \n",
    "    # stepwise change in size for pop1 and pop2 after split\n",
    "    phi = dadi.Integration.two_pops(phi, xx, Ts, nu2=nu2s, nu1=nu1s, m12=0, m21=0)\n",
    "    # stepwise change in size for pop2 only\n",
    "    phi = dadi.Integration.two_pops(phi, xx, T2, nu2=nu2f, nu1=nu1s, m12=0, m21=0)\n",
    "    # stepwise change in size for pop1 only\n",
    "    phi = dadi.Integration.two_pops(phi, xx, Tb, nu2=nu2f, nu1=nu1b, m12=0, m21=0)\n",
    "    # stepwise change in size for pop1 only\n",
    "    phi = dadi.Integration.two_pops(phi, xx, Tf, nu2=nu2f, nu1=nu1f, m12=0, m21=0)\n",
    "    \n",
    "    # calculate spectrum\n",
    "    sfs = dadi.Spectrum.from_phi(phi, (n1, n2), (xx, yy))\n",
    "    return sfs"
   ]
  },
  {
   "cell_type": "markdown",
   "metadata": {},
   "source": [
    "I wonder which population dadi assumes to be pop1. In the `sfs2d` spectrum object, _ery_ is pop1 and _par_ is pop2."
   ]
  },
  {
   "cell_type": "code",
   "execution_count": 39,
   "metadata": {
    "collapsed": true
   },
   "outputs": [],
   "source": [
    "?dadi.PhiManip.phi_1D_to_2D"
   ]
  },
  {
   "cell_type": "code",
   "execution_count": 50,
   "metadata": {
    "collapsed": true
   },
   "outputs": [],
   "source": [
    "# create link to function that specifies the model\n",
    "func = split_1grow_2decline_1decline_nomig\n",
    "\n",
    "# create extrapolating version of the model function\n",
    "func_ex = dadi.Numerics.make_extrap_log_func(func)"
   ]
  },
  {
   "cell_type": "code",
   "execution_count": 44,
   "metadata": {
    "collapsed": true
   },
   "outputs": [],
   "source": [
    "?split_1grow_2decline_1decline_nomig"
   ]
  },
  {
   "cell_type": "code",
   "execution_count": 87,
   "metadata": {
    "collapsed": true
   },
   "outputs": [],
   "source": [
    "nu1s = 0.5\n",
    "nu2s = 0.5\n",
    "nu2f = 0.05\n",
    "nu1b = 40\n",
    "nu1f = 0.15\n",
    "Ts = 0.1\n",
    "T2 = 0.1\n",
    "Tb = 0.1\n",
    "Tf = 0.1"
   ]
  },
  {
   "cell_type": "code",
   "execution_count": 45,
   "metadata": {
    "collapsed": false
   },
   "outputs": [
    {
     "data": {
      "text/plain": [
       "array([36, 36])"
      ]
     },
     "execution_count": 45,
     "metadata": {},
     "output_type": "execute_result"
    }
   ],
   "source": [
    "sfs2d_folded.sample_sizes"
   ]
  },
  {
   "cell_type": "code",
   "execution_count": 88,
   "metadata": {
    "collapsed": false
   },
   "outputs": [],
   "source": [
    "model_spectrum = func_ex((nu1s, nu2s, nu2f, nu1b, nu1f, Ts, T2, Tb, Tf), sfs2d_folded.sample_sizes, pts_l)"
   ]
  },
  {
   "cell_type": "code",
   "execution_count": 89,
   "metadata": {
    "collapsed": true
   },
   "outputs": [],
   "source": [
    "theta = dadi.Inference.optimal_sfs_scaling(model_spectrum.fold(), sfs2d_folded)"
   ]
  },
  {
   "cell_type": "code",
   "execution_count": 90,
   "metadata": {
    "collapsed": false
   },
   "outputs": [
    {
     "data": {
      "text/plain": [
       "22521.516493041683"
      ]
     },
     "execution_count": 90,
     "metadata": {},
     "output_type": "execute_result"
    }
   ],
   "source": [
    "theta"
   ]
  },
  {
   "cell_type": "code",
   "execution_count": 91,
   "metadata": {
    "collapsed": false
   },
   "outputs": [
    {
     "data": {
      "image/png": "[encoded data removed]",
      "text/plain": [
       "<matplotlib.figure.Figure at 0x7fb9296cf090>"
      ]
     },
     "metadata": {},
     "output_type": "display_data"
    }
   ],
   "source": [
    "dadi.Plotting.plot_2d_comp_multinom(model_spectrum.fold(), sfs2d_folded, vmin=1)"
   ]
  },
  {
   "cell_type": "markdown",
   "metadata": {},
   "source": [
    "I think this indicates that I need to allow the split to be more recent."
   ]
  },
  {
   "cell_type": "code",
   "execution_count": null,
   "metadata": {
    "collapsed": true
   },
   "outputs": [],
   "source": []
  }
 ],
 "metadata": {
  "anaconda-cloud": {},
  "kernelspec": {
   "display_name": "Python [default]",
   "language": "python",
   "name": "python2"
  },
  "language_info": {
   "codemirror_mode": {
    "name": "ipython",
    "version": 2
   },
   "file_extension": ".py",
   "mimetype": "text/x-python",
   "name": "python",
   "nbconvert_exporter": "python",
   "pygments_lexer": "ipython2",
   "version": "2.7.12"
  },
  "toc": {
   "colors": {
    "hover_highlight": "#DAA520",
    "running_highlight": "#FF0000",
    "selected_highlight": "#FFD700"
   },
   "moveMenuLeft": true,
   "nav_menu": {
    "height": "12px",
    "width": "252px"
   },
   "navigate_menu": true,
   "number_sections": true,
   "sideBar": true,
   "threshold": 4,
   "toc_cell": true,
   "toc_section_display": "block",
   "toc_window_display": true
  }
 },
 "nbformat": 4,
 "nbformat_minor": 0
}
