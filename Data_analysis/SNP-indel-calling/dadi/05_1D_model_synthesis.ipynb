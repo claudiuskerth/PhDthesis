{
 "cells": [
  {
   "cell_type": "markdown",
   "metadata": {
    "toc": "true"
   },
   "source": [
    "# Table of Contents\n",
    " <p><div class=\"lev1 toc-item\"><a data-toc-modified-id=\"Plot-the-data-1\" href=\"#Plot-the-data\"><span class=\"toc-item-num\">1&nbsp;&nbsp;</span>Plot the data</a></div><div class=\"lev2 toc-item\"><a data-toc-modified-id=\"To-fold-or-not-to-fold-by-ANGSD-11\" href=\"#To-fold-or-not-to-fold-by-ANGSD\"><span class=\"toc-item-num\">1.1&nbsp;&nbsp;</span>To fold or not to fold by ANGSD</a></div><div class=\"lev1 toc-item\"><a data-toc-modified-id=\"$\\theta$-and-implied-$N_{ref}$-2\" href=\"#$\\theta$-and-implied-$N_{ref}$\"><span class=\"toc-item-num\">2&nbsp;&nbsp;</span><span style=\"color: inherit;\" class=\"MathJax_Preview\"></span><span role=\"presentation\" data-mathml=\"<math xmlns=&quot;http://www.w3.org/1998/Math/MathML&quot;><mi>&amp;#x03B8;</mi></math>\" style=\"position: relative;\" tabindex=\"0\" id=\"MathJax-Element-3-Frame\" class=\"MathJax\"><nobr aria-hidden=\"true\"><span style=\"width: 0.625em; display: inline-block;\" role=\"math\" id=\"MathJax-Span-13\" class=\"math\"><span style=\"display: inline-block; position: relative; width: 0.5em; height: 0px; font-size: 123%;\"><span style=\"position: absolute; clip: rect(1.573em, 1000.5em, 2.45em, -1000em); top: -2.345em; left: 0em;\"><span id=\"MathJax-Span-14\" class=\"mrow\"><span style=\"font-family: STIXMathJax_Main; font-style: italic;\" id=\"MathJax-Span-15\" class=\"mi\">θ<span style=\"display: inline-block; overflow: hidden; height: 1px; width: 0.014em;\"></span></span></span><span style=\"display: inline-block; width: 0px; height: 2.345em;\"></span></span></span><span style=\"display: inline-block; overflow: hidden; vertical-align: -0.052em; border-left: 0px solid; width: 0px; height: 0.924em;\"></span></span></nobr><span role=\"presentation\" class=\"MJX_Assistive_MathML\"><math xmlns=\"http://www.w3.org/1998/Math/MathML\"><mi>θ</mi></math></span></span><script id=\"MathJax-Element-3\" type=\"math/tex\">\\theta</script> and implied <span style=\"color: inherit;\" class=\"MathJax_Preview\"></span><span role=\"presentation\" data-mathml=\"<math xmlns=&quot;http://www.w3.org/1998/Math/MathML&quot;><msub><mi>N</mi><mrow class=&quot;MJX-TeXAtom-ORD&quot;><mi>r</mi><mi>e</mi><mi>f</mi></mrow></msub></math>\" style=\"position: relative;\" tabindex=\"0\" id=\"MathJax-Element-4-Frame\" class=\"MathJax\"><nobr aria-hidden=\"true\"><span style=\"width: 2.048em; display: inline-block;\" role=\"math\" id=\"MathJax-Span-16\" class=\"math\"><span style=\"display: inline-block; position: relative; width: 1.657em; height: 0px; font-size: 123%;\"><span style=\"position: absolute; clip: rect(1.473em, 1001.66em, 2.61em, -1000em); top: -2.22em; left: 0em;\"><span id=\"MathJax-Span-17\" class=\"mrow\"><span id=\"MathJax-Span-18\" class=\"msubsup\"><span style=\"display: inline-block; position: relative; width: 1.647em; height: 0px;\"><span style=\"position: absolute; clip: rect(3.256em, 1000.73em, 4.111em, -1000em); top: -4.003em; left: 0em;\"><span style=\"font-family: STIXMathJax_Main; font-style: italic;\" id=\"MathJax-Span-19\" class=\"mi\">N<span style=\"display: inline-block; overflow: hidden; height: 1px; width: 0.06em;\"></span></span><span style=\"display: inline-block; width: 0px; height: 4.003em;\"></span></span><span style=\"position: absolute; top: -3.853em; left: 0.667em;\"><span id=\"MathJax-Span-20\" class=\"texatom\"><span id=\"MathJax-Span-21\" class=\"mrow\"><span style=\"font-size: 70.7%; font-family: STIXMathJax_Main; font-style: italic;\" id=\"MathJax-Span-22\" class=\"mi\">r<span style=\"display: inline-block; overflow: hidden; height: 1px; width: 0.016em;\"></span></span><span style=\"font-size: 70.7%; font-family: STIXMathJax_Main; font-style: italic;\" id=\"MathJax-Span-23\" class=\"mi\">e</span><span style=\"font-size: 70.7%; font-family: STIXMathJax_Main; font-style: italic;\" id=\"MathJax-Span-24\" class=\"mi\">f<span style=\"display: inline-block; overflow: hidden; height: 1px; width: 0.103em;\"></span></span></span></span><span style=\"display: inline-block; width: 0px; height: 4.003em;\"></span></span></span></span></span><span style=\"display: inline-block; width: 0px; height: 2.22em;\"></span></span></span><span style=\"display: inline-block; overflow: hidden; vertical-align: -0.403em; border-left: 0px solid; width: 0px; height: 1.245em;\"></span></span></nobr><span role=\"presentation\" class=\"MJX_Assistive_MathML\"><math xmlns=\"http://www.w3.org/1998/Math/MathML\"><msub><mi>N</mi><mrow class=\"MJX-TeXAtom-ORD\"><mi>r</mi><mi>e</mi><mi>f</mi></mrow></msub></math></span></span><script id=\"MathJax-Element-4\" type=\"math/tex\">N_{ref}</script></a></div><div class=\"lev2 toc-item\"><a data-toc-modified-id=\"standard-neutral-model-21\" href=\"#standard-neutral-model\"><span class=\"toc-item-num\">2.1&nbsp;&nbsp;</span>standard neutral model</a></div><div class=\"lev2 toc-item\"><a data-toc-modified-id=\"reducing-noise-and-bias-22\" href=\"#reducing-noise-and-bias\"><span class=\"toc-item-num\">2.2&nbsp;&nbsp;</span>reducing noise and bias</a></div><div class=\"lev1 toc-item\"><a data-toc-modified-id=\"exponential-growth-model-3\" href=\"#exponential-growth-model\"><span class=\"toc-item-num\">3&nbsp;&nbsp;</span>exponential growth model</a></div><div class=\"lev2 toc-item\"><a data-toc-modified-id=\"erythropus-31\" href=\"#erythropus\"><span class=\"toc-item-num\">3.1&nbsp;&nbsp;</span><em>erythropus</em></a></div><div class=\"lev2 toc-item\"><a data-toc-modified-id=\"parallelus-32\" href=\"#parallelus\"><span class=\"toc-item-num\">3.2&nbsp;&nbsp;</span><em>parallelus</em></a></div><div class=\"lev1 toc-item\"><a data-toc-modified-id=\"two-epoch-model-4\" href=\"#two-epoch-model\"><span class=\"toc-item-num\">4&nbsp;&nbsp;</span>two epoch model</a></div><div class=\"lev2 toc-item\"><a data-toc-modified-id=\"erythropus-41\" href=\"#erythropus\"><span class=\"toc-item-num\">4.1&nbsp;&nbsp;</span><em>erythropus</em></a></div><div class=\"lev2 toc-item\"><a data-toc-modified-id=\"parallelus-42\" href=\"#parallelus\"><span class=\"toc-item-num\">4.2&nbsp;&nbsp;</span><em>parallelus</em></a></div><div class=\"lev1 toc-item\"><a data-toc-modified-id=\"bottleneck-then-exponential-growth-model-5\" href=\"#bottleneck-then-exponential-growth-model\"><span class=\"toc-item-num\">5&nbsp;&nbsp;</span>bottleneck then exponential growth model</a></div><div class=\"lev2 toc-item\"><a data-toc-modified-id=\"erythropus-51\" href=\"#erythropus\"><span class=\"toc-item-num\">5.1&nbsp;&nbsp;</span><em>erythropus</em></a></div><div class=\"lev2 toc-item\"><a data-toc-modified-id=\"parallelus-52\" href=\"#parallelus\"><span class=\"toc-item-num\">5.2&nbsp;&nbsp;</span><em>parallelus</em></a></div><div class=\"lev1 toc-item\"><a data-toc-modified-id=\"three-epoch-model-6\" href=\"#three-epoch-model\"><span class=\"toc-item-num\">6&nbsp;&nbsp;</span>three epoch model</a></div><div class=\"lev2 toc-item\"><a data-toc-modified-id=\"erythropus-61\" href=\"#erythropus\"><span class=\"toc-item-num\">6.1&nbsp;&nbsp;</span><em>erythropus</em></a></div><div class=\"lev2 toc-item\"><a data-toc-modified-id=\"parallelus-62\" href=\"#parallelus\"><span class=\"toc-item-num\">6.2&nbsp;&nbsp;</span><em>parallelus</em></a></div><div class=\"lev1 toc-item\"><a data-toc-modified-id=\"exponential-growth-then-bottleneck-model-7\" href=\"#exponential-growth-then-bottleneck-model\"><span class=\"toc-item-num\">7&nbsp;&nbsp;</span>exponential growth then bottleneck model</a></div><div class=\"lev2 toc-item\"><a data-toc-modified-id=\"erythropus-71\" href=\"#erythropus\"><span class=\"toc-item-num\">7.1&nbsp;&nbsp;</span><em>erythropus</em></a></div><div class=\"lev2 toc-item\"><a data-toc-modified-id=\"parallelus-72\" href=\"#parallelus\"><span class=\"toc-item-num\">7.2&nbsp;&nbsp;</span><em>parallelus</em></a></div><div class=\"lev1 toc-item\"><a data-toc-modified-id=\"Conclusion-8\" href=\"#Conclusion\"><span class=\"toc-item-num\">8&nbsp;&nbsp;</span>Conclusion</a></div>"
   ]
  },
  {
   "cell_type": "code",
   "execution_count": 1,
   "metadata": {
    "collapsed": true
   },
   "outputs": [],
   "source": [
    "# load dadi module\n",
    "\n",
    "import sys\n",
    "\n",
    "sys.path.insert(0, '/home/claudius/Downloads/dadi')\n",
    "\n",
    "import dadi"
   ]
  },
  {
   "cell_type": "code",
   "execution_count": 2,
   "metadata": {
    "collapsed": false
   },
   "outputs": [
    {
     "name": "stdout",
     "output_type": "stream",
     "text": [
      "total 2672\r\n",
      "-rw-rw-r-- 1 claudius 671626 Apr 23 09:37 01_dadi_1D_exp_growth.ipynb\r\n",
      "-rw-rw-r-- 1 claudius 248481 Apr 22 11:27 02_dadi_1D_two_epoch.ipynb\r\n",
      "-rw-rw-r-- 1 claudius 148443 Apr 22 12:25 03_1D_bottlegrowth.ipynb\r\n",
      "-rw-rw-r-- 1 claudius  43387 Apr 24 13:15 04_1D_expGrowth_bottleneck.ipynb\r\n",
      "-rw-rw-r-- 1 claudius 236336 Apr 23 15:14 04_1D_three_epoch.ipynb\r\n",
      "-rw-rw-r-- 1 claudius 467067 Apr 25 09:38 05_1D_model_synthesis.ipynb\r\n",
      "-rw-rw-r-- 1 claudius 118564 Apr 20 16:47 05_2D.ipynb\r\n",
      "-rw-rw-r-- 1 claudius 444729 Apr 21 10:05 1D_models.ipynb\r\n",
      "-rw-rw-r-- 1 claudius  33125 Apr  8 18:15 1D_two_epoch_opt_res_ERY.dill\r\n",
      "-rw-rw-r-- 1 claudius  16613 Apr  8 19:18 1D_two_epoch_opt_res_PAR.dill\r\n",
      "drwxrwxr-x 4 claudius   4096 Apr 20 10:19 \u001b[0m\u001b[01;34mdadiExercises\u001b[0m/\r\n",
      "-rw-rw-r-- 1 claudius  36308 Apr  3 20:33 \u001b[01;35mery_fold_comp.png\u001b[0m\r\n",
      "-rw-rw-r-- 1 claudius   3560 Mar 25 08:40 EryPar.FOLDED.2dsfs\r\n",
      "-rw-rw-r-- 1 claudius    433 Mar 24 20:15 ERY.unfolded.sfs\r\n",
      "-rw-rw-r-- 1 claudius    421 Mar 24 20:14 ERY.unfolded.sfs~\r\n",
      "-rw-rw-r-- 1 claudius  13913 Apr  6 15:03 exp_growth_optim_res_ERY.pickle\r\n",
      "-rw-rw-r-- 1 claudius  13913 Apr  6 19:21 exp_growth_optim_res_PAR.pickle\r\n",
      "drwxrwxr-x 2 claudius   4096 Apr 22 11:55 \u001b[01;34mOUT_bottlegrowth\u001b[0m/\r\n",
      "drwxrwxr-x 2 claudius  12288 Apr 24 12:55 \u001b[01;34mOUT_expGrowth_bottleneck\u001b[0m/\r\n",
      "drwxrwxr-x 2 claudius  24576 Apr 21 20:19 \u001b[01;34mOUT_exp_growth_model\u001b[0m/\r\n",
      "drwxrwxr-x 2 claudius  73728 Apr 19 17:00 \u001b[01;34mOUT_run_dadi\u001b[0m/\r\n",
      "drwxrwxr-x 2 claudius   4096 Apr 23 12:23 \u001b[01;34mOUT_three_epoch\u001b[0m/\r\n",
      "drwxrwxr-x 2 claudius   4096 Apr 23 15:01 \u001b[01;34mOUT_two_epoch\u001b[0m/\r\n",
      "-rw-rw-r-- 1 claudius  37242 Apr  3 20:35 \u001b[01;35mpar_fold_comp.png\u001b[0m\r\n",
      "-rw-rw-r-- 1 claudius    421 Mar 24 20:16 PAR.unfolded.sfs\r\n",
      "-rw-rw-r-- 1 claudius    409 Mar 24 20:15 PAR.unfolded.sfs~\r\n",
      "-rw-rw-r-- 1 claudius    265 Apr 25 08:16 rsync-filters\r\n",
      "-rwxrwxr-x 1 claudius   2790 Apr 17 22:18 \u001b[01;32mrun_dadi.py\u001b[0m*\r\n",
      "-rwxrwxr-x 1 claudius   2790 Apr 17 22:05 \u001b[01;32mrun_dadi.py~\u001b[0m*\r\n",
      "-rw-rw-r-- 1 claudius  12387 Apr 19 16:57 test.ipynb\r\n"
     ]
    }
   ],
   "source": [
    "%ll"
   ]
  },
  {
   "cell_type": "code",
   "execution_count": 3,
   "metadata": {
    "collapsed": false
   },
   "outputs": [
    {
     "name": "stdout",
     "output_type": "stream",
     "text": [
      "total 33676\r\n",
      "lrwxrwxrwx 1 claudius       53 Feb 17 15:37 \u001b[0m\u001b[01;36mERY.FOLDED.sfs\u001b[0m -> /data3/claudius/Big_Data/ANGSD/SFS/ERY/ERY.FOLDED.sfs\r\n",
      "-rw-rw-r-- 1 claudius      499 Mar 24 14:04 ERY.FOLDED.sfs.dadi_format\r\n",
      "-rw-rw-r-- 1 claudius      499 Mar 24 14:02 ERY.FOLDED.sfs.dadi_format~\r\n",
      "lrwxrwxrwx 1 claudius       37 Feb 18 17:46 \u001b[01;36mEryPar.unfolded.2dsfs\u001b[0m -> ../../ANGSD/FST/EryPar.unfolded.2dsfs\r\n",
      "-rw-rw-r-- 1 claudius    13051 Feb 18 19:00 EryPar.unfolded.2dsfs.dadi_format\r\n",
      "-rw-rw-r-- 1 claudius    13051 Feb 18 18:31 EryPar.unfolded.2dsfs.dadi_format~\r\n",
      "drwxrwxr-x 5 claudius     4096 Feb 17 13:45 \u001b[01;34mexamples\u001b[0m/\r\n",
      "-rw-rw-r-- 1 claudius   155251 Mar 22 12:37 example_YRI_CEU.ipynb\r\n",
      "-rw-rw-r-- 1 claudius   619699 Apr 20 10:19 First_Steps_with_dadi.ipynb\r\n",
      "-rw-rw-r-- 1 claudius     1012 Mar 16 09:54 new.bib\r\n",
      "lrwxrwxrwx 1 claudius       53 Feb 17 15:37 \u001b[01;36mPAR.FOLDED.sfs\u001b[0m -> /data3/claudius/Big_Data/ANGSD/SFS/PAR/PAR.FOLDED.sfs\r\n",
      "-rw-rw-r-- 1 claudius      486 Mar 24 20:08 PAR.FOLDED.sfs.dadi_format\r\n",
      "-rw-rw-r-- 1 claudius      450 Mar 24 20:08 PAR.FOLDED.sfs.dadi_format~\r\n",
      "-rw-rw-r-- 1 claudius       18 Mar 19 11:20 seedms\r\n",
      "-rw-rw-r-- 1 claudius 33643874 Mar 19 11:20 test.msout\r\n"
     ]
    }
   ],
   "source": [
    "%ll dadiExercises"
   ]
  },
  {
   "cell_type": "code",
   "execution_count": 4,
   "metadata": {
    "collapsed": true
   },
   "outputs": [],
   "source": [
    "# import 1D spectrum of ery\n",
    "fs_ery = dadi.Spectrum.from_file('dadiExercises/ERY.FOLDED.sfs.dadi_format')\n",
    "\n",
    "# import 1D spectrum of ery\n",
    "fs_par = dadi.Spectrum.from_file('dadiExercises/PAR.FOLDED.sfs.dadi_format')"
   ]
  },
  {
   "cell_type": "markdown",
   "metadata": {},
   "source": [
    "# Plot the data"
   ]
  },
  {
   "cell_type": "code",
   "execution_count": 5,
   "metadata": {
    "collapsed": true
   },
   "outputs": [],
   "source": [
    "import pylab"
   ]
  },
  {
   "cell_type": "code",
   "execution_count": 6,
   "metadata": {
    "collapsed": true
   },
   "outputs": [],
   "source": [
    "%matplotlib inline"
   ]
  },
  {
   "cell_type": "code",
   "execution_count": 7,
   "metadata": {
    "collapsed": true
   },
   "outputs": [],
   "source": [
    "pylab.rcParams['figure.figsize'] = [12.0, 10.0]"
   ]
  },
  {
   "cell_type": "code",
   "execution_count": 8,
   "metadata": {
    "collapsed": false
   },
   "outputs": [
    {
     "data": {
      "text/plain": [
       "<matplotlib.legend.Legend at 0x7fb5a3985e50>"
      ]
     },
     "execution_count": 8,
     "metadata": {},
     "output_type": "execute_result"
    },
    {
     "data": {
      "image/png": "[encoded data removed]",
      "text/plain": [
       "<matplotlib.figure.Figure at 0x7fb5cc740250>"
      ]
     },
     "metadata": {},
     "output_type": "display_data"
    }
   ],
   "source": [
    "pylab.plot(fs_par, 'go-', label='par')\n",
    "pylab.plot(fs_ery, 'rs-', label='ery')\n",
    "pylab.xlabel('minor allele frequency')\n",
    "pylab.ylabel('SNP count')\n",
    "pylab.legend()"
   ]
  },
  {
   "cell_type": "markdown",
   "metadata": {},
   "source": [
    "## To fold or not to fold by ANGSD"
   ]
  },
  {
   "cell_type": "markdown",
   "metadata": {},
   "source": [
    "Does estimating an unfolded spectrum with ANGSD and then folding yield a sensible folded SFS when the sites are not polarised with respect to an ancestral allele but with respect to the reference allele? [Matteo Fumagalli thinks that this is sensible.](https://groups.google.com/d/msg/ngstools-user/9Z4viLJ7NJA/QZ7Owf5xBAAJ)"
   ]
  },
  {
   "cell_type": "code",
   "execution_count": 9,
   "metadata": {
    "collapsed": false
   },
   "outputs": [
    {
     "name": "stdout",
     "output_type": "stream",
     "text": [
      "37 unfolded\r\n",
      "1592046.636125 7148.627587 6831.828430 3473.268669 3417.591990 2249.932322 1980.824357 1011.763357 2262.489617 557.169754 1049.858226 1159.694611 768.373223 1125.393799 448.462048 544.635916 1014.348661 147.731786 975.251801 233.415985 851.137519 12.642136 803.134099 0.128476 567.179523 446.009983 158.967094 484.096759 372.705620 540.860079 95.276852 808.290844 234.084809 614.920896 625.008059 890.804592 2515.454396 \r\n"
     ]
    }
   ],
   "source": [
    "! cat ERY.unfolded.sfs"
   ]
  },
  {
   "cell_type": "code",
   "execution_count": 10,
   "metadata": {
    "collapsed": false
   },
   "outputs": [
    {
     "name": "stdout",
     "output_type": "stream",
     "text": [
      "37 unfolded\r\n",
      "1168479.553637 8087.149285 11597.805791 5078.201104 2731.611410 2396.961010 1119.052124 218.045915 2585.701112 363.773630 255.690616 605.580566 1343.351541 0.000009 420.034144 0.035997 1150.501914 0.791354 31.079364 966.640187 6.753017 244.419730 81.604358 674.760980 299.526650 0.000000 340.309236 491.216107 0.085920 264.513993 517.818215 516.871489 279.498804 328.332291 581.014402 390.905752 2489.808345 \r\n"
     ]
    }
   ],
   "source": [
    "! cat PAR.unfolded.sfs"
   ]
  },
  {
   "cell_type": "code",
   "execution_count": 11,
   "metadata": {
    "collapsed": true
   },
   "outputs": [],
   "source": [
    "# import 1D unfolded spectrum of ery\n",
    "fs_ery_unfolded = dadi.Spectrum.from_file('ERY.unfolded.sfs')\n",
    "\n",
    "# import 1D unfolded spectrum of par\n",
    "fs_par_unfolded = dadi.Spectrum.from_file('PAR.unfolded.sfs')"
   ]
  },
  {
   "cell_type": "code",
   "execution_count": 12,
   "metadata": {
    "collapsed": false
   },
   "outputs": [
    {
     "data": {
      "text/plain": [
       "<matplotlib.legend.Legend at 0x7fb5a393efd0>"
      ]
     },
     "execution_count": 12,
     "metadata": {},
     "output_type": "execute_result"
    },
    {
     "data": {
      "image/png": "[encoded data removed]",
      "text/plain": [
       "<matplotlib.figure.Figure at 0x7fb5a47ae110>"
      ]
     },
     "metadata": {},
     "output_type": "display_data"
    }
   ],
   "source": [
    "pylab.plot(fs_ery, 'ro-', label='folded by ANGSD')\n",
    "pylab.plot(fs_ery_unfolded.fold(), 'bs-', label='folded by ' + r'$\\delta$a$\\delta$i')\n",
    "pylab.xlabel('minor allele frequency')\n",
    "pylab.ylabel('SNP count')\n",
    "pylab.legend()"
   ]
  },
  {
   "cell_type": "code",
   "execution_count": 13,
   "metadata": {
    "collapsed": false
   },
   "outputs": [
    {
     "data": {
      "text/plain": [
       "<matplotlib.legend.Legend at 0x7fb59c077e90>"
      ]
     },
     "execution_count": 13,
     "metadata": {},
     "output_type": "execute_result"
    },
    {
     "data": {
      "image/png": "[encoded data removed]",
      "text/plain": [
       "<matplotlib.figure.Figure at 0x7fb5cc740550>"
      ]
     },
     "metadata": {},
     "output_type": "display_data"
    }
   ],
   "source": [
    "pylab.plot(fs_par, 'go-', label='folded by ANGSD')\n",
    "pylab.plot(fs_par_unfolded.fold(), 'bs-', label='folded by ' + r'$\\delta$a$\\delta$i')\n",
    "pylab.xlabel('minor allele frequency')\n",
    "pylab.ylabel('SNP count')\n",
    "pylab.legend()"
   ]
  },
  {
   "cell_type": "markdown",
   "metadata": {},
   "source": [
    "For _parallelus_, the spectrum folded by dadi looks better than the spectrum folded by ANGSD. I am therefore going to use spectra folded in dadi."
   ]
  },
  {
   "cell_type": "code",
   "execution_count": 14,
   "metadata": {
    "collapsed": true
   },
   "outputs": [],
   "source": [
    "fs_ery = fs_ery_unfolded.fold()\n",
    "fs_par = fs_par_unfolded.fold()"
   ]
  },
  {
   "cell_type": "markdown",
   "metadata": {},
   "source": [
    "# $\\theta$ and implied $N_{ref}$"
   ]
  },
  {
   "cell_type": "markdown",
   "metadata": {},
   "source": [
    "## standard neutral model"
   ]
  },
  {
   "cell_type": "code",
   "execution_count": 15,
   "metadata": {
    "collapsed": true
   },
   "outputs": [],
   "source": [
    "# create link to built-in model function\n",
    "\n",
    "func = dadi.Demographics1D.snm\n",
    "\n",
    "# make the extrapolating version of the demographic model function\n",
    "\n",
    "func_ex = dadi.Numerics.make_extrap_log_func(func)"
   ]
  },
  {
   "cell_type": "code",
   "execution_count": 16,
   "metadata": {
    "collapsed": false
   },
   "outputs": [
    {
     "data": {
      "text/plain": [
       "array([36])"
      ]
     },
     "execution_count": 16,
     "metadata": {},
     "output_type": "execute_result"
    }
   ],
   "source": [
    "# setting the smallest grid size slightly larger than the largest population sample size\n",
    "\n",
    "pts_l = [40, 50, 60]\n",
    "\n",
    "ns = fs_ery.sample_sizes\n",
    "ns"
   ]
  },
  {
   "cell_type": "code",
   "execution_count": 17,
   "metadata": {
    "collapsed": false
   },
   "outputs": [
    {
     "data": {
      "text/plain": [
       "Spectrum([-- 0.9956799394019464 0.4981564278703058 0.3321898574986928\n",
       " 0.24919667744224816 0.19939790258679638 0.1661970878062821\n",
       " 0.14248104377018878 0.1246930658790548 0.11085717946547267\n",
       " 0.09978779124736985 0.09073040723382213 0.08318202250611753\n",
       " 0.07679443263533685 0.0713189249265068 0.06657306836113545\n",
       " 0.06242002970483825 0.0587552149564719 0.055497288680948074\n",
       " 0.052582000282866075 0.04995792826310336 0.04758347287343962\n",
       " 0.04542461915254542 0.0434532518907827 0.04164592443914579\n",
       " 0.03998294873211848 0.03844767650121102 0.03702592302757683\n",
       " 0.03570552430576448 0.03447599502439583 0.03332824999581658\n",
       " 0.032254375802771754 0.031247447500913152 0.0303013796010043\n",
       " 0.029410802565291765 0.02857096039285141 --], folded=False, pop_ids=None)"
      ]
     },
     "execution_count": 17,
     "metadata": {},
     "output_type": "execute_result"
    }
   ],
   "source": [
    "# calculate unfolded AFS under standard neutral model (up to a scaling factor theta)\n",
    "\n",
    "neutral_model = func_ex(0, ns, pts_l)\n",
    "neutral_model"
   ]
  },
  {
   "cell_type": "code",
   "execution_count": 18,
   "metadata": {
    "collapsed": false
   },
   "outputs": [
    {
     "data": {
      "text/plain": [
       "10617.328085456724"
      ]
     },
     "execution_count": 18,
     "metadata": {},
     "output_type": "execute_result"
    }
   ],
   "source": [
    "theta_ery = dadi.Inference.optimal_sfs_scaling(neutral_model, fs_ery)\n",
    "theta_ery"
   ]
  },
  {
   "cell_type": "code",
   "execution_count": 19,
   "metadata": {
    "collapsed": false
   },
   "outputs": [
    {
     "data": {
      "text/plain": [
       "10632.738922047551"
      ]
     },
     "execution_count": 19,
     "metadata": {},
     "output_type": "execute_result"
    }
   ],
   "source": [
    "theta_par = dadi.Inference.optimal_sfs_scaling(neutral_model, fs_par)\n",
    "theta_par"
   ]
  },
  {
   "cell_type": "markdown",
   "metadata": {},
   "source": [
    "What effective ancestral population size would that imply?\n",
    "\n",
    "According to section 4.4 in the dadi manual:\n",
    "\n",
    "$$\n",
    "\\theta = 4 N_{ref} \\mu_{L} \\qquad \\text{L: sequence length}\n",
    "$$\n",
    "\n",
    "Then\n",
    "\n",
    "$$\n",
    "\\mu_{L} = \\mu_{site} \\times L\n",
    "$$\n",
    "\n",
    "So\n",
    "\n",
    "$$\n",
    "\\theta = 4 N_{ref} \\mu_{site} \\times L\n",
    "$$\n",
    "\n",
    "and\n",
    "\n",
    "$$\n",
    "N_{ref} = \\frac{\\theta}{4 \\mu_{site} L}\n",
    "$$"
   ]
  },
  {
   "cell_type": "markdown",
   "metadata": {},
   "source": [
    "Let's assume the mutation rate per nucleotide site per generation is $3\\times 10^{-9}$ (see e. g. Liu2017). "
   ]
  },
  {
   "cell_type": "code",
   "execution_count": 20,
   "metadata": {
    "collapsed": false
   },
   "outputs": [
    {
     "name": "stdout",
     "output_type": "stream",
     "text": [
      "The total sequence length for the ery spectrum is 1,638,467.\n",
      "The effective ancestral population size of ery (in number of diploid individuals) implied by this theta is: 540,002.\n"
     ]
    }
   ],
   "source": [
    "mu = 3e-9\n",
    "L = fs_ery.data.sum() # this sums over all entries in the spectrum, including masked ones, i. e. also contains invariable sites\n",
    "print \"The total sequence length for the ery spectrum is {0:,}.\".format(int(L))\n",
    "N_ref_ery = theta_ery/L/mu/4\n",
    "print \"The effective ancestral population size of ery (in number of diploid individuals) implied by this theta is: {0:,}.\".format(int(N_ref_ery))"
   ]
  },
  {
   "cell_type": "code",
   "execution_count": 21,
   "metadata": {
    "collapsed": false
   },
   "outputs": [
    {
     "name": "stdout",
     "output_type": "stream",
     "text": [
      "The total sequence length for par spectrum is 1,214,938.\n",
      "The effective ancestral population size of par (in number of diploid individuals) implied by this theta is: 729,305.\n"
     ]
    }
   ],
   "source": [
    "mu = 3e-9\n",
    "L = fs_par.data.sum() # this sums over all entries in the spectrum, including masked ones, i. e. also contains invariable sites\n",
    "print \"The total sequence length for par spectrum is {0:,}.\".format(int(L))\n",
    "N_ref_par = theta_par/L/mu/4\n",
    "print \"The effective ancestral population size of par (in number of diploid individuals) implied by this theta is: {0:,}.\".format(int(N_ref_par))"
   ]
  },
  {
   "cell_type": "markdown",
   "metadata": {},
   "source": [
    "These effective population sizes are consistent with those reported for other insect species (Lynch2016, fig. 3b)."
   ]
  },
  {
   "cell_type": "markdown",
   "metadata": {},
   "source": [
    "In dadi, times are given in units of $2N_{ref}$ generations."
   ]
  },
  {
   "cell_type": "markdown",
   "metadata": {},
   "source": [
    "## reducing noise and bias"
   ]
  },
  {
   "cell_type": "code",
   "execution_count": 22,
   "metadata": {
    "collapsed": false
   },
   "outputs": [
    {
     "data": {
      "image/png": "[encoded data removed]",
      "text/plain": [
       "<matplotlib.figure.Figure at 0x7fb59c089bd0>"
      ]
     },
     "metadata": {},
     "output_type": "display_data"
    }
   ],
   "source": [
    "# compare neutral model prediction with ery spectrum\n",
    "\n",
    "dadi.Plotting.plot_1d_comp_multinom(neutral_model.fold()[:19], fs_ery[:19], residual='linear')"
   ]
  },
  {
   "cell_type": "code",
   "execution_count": 23,
   "metadata": {
    "collapsed": false
   },
   "outputs": [
    {
     "data": {
      "image/png": "[encoded data removed]",
      "text/plain": [
       "<matplotlib.figure.Figure at 0x7fb5a38acbd0>"
      ]
     },
     "metadata": {},
     "output_type": "display_data"
    }
   ],
   "source": [
    "# compare neutral model prediction with par spectrum\n",
    "\n",
    "dadi.Plotting.plot_1d_comp_multinom(neutral_model.fold()[:19], fs_par[:19], residual='linear')"
   ]
  },
  {
   "cell_type": "markdown",
   "metadata": {},
   "source": [
    "The lower plot (green line) is for the scaled Poisson residuals. \n",
    "\n",
    "$$\n",
    "residuals = (model - data)/\\sqrt{model}\n",
    "$$"
   ]
  },
  {
   "cell_type": "markdown",
   "metadata": {},
   "source": [
    "The model is the expected counts in each frequency class. If these counts are Poisson distributed, then their variance is equal to their expectation. The differences between model and data are therefore scaled by the expected standard deviation of the model counts."
   ]
  },
  {
   "cell_type": "markdown",
   "metadata": {},
   "source": [
    "Although a standard neutral model is unrealistic for either population, **the observed counts deviate by up to 90 standard deviations from this model!**"
   ]
  },
  {
   "cell_type": "markdown",
   "metadata": {},
   "source": [
    "What could be done about this? \n",
    "\n",
    "The greatest deviations are seen for the first two frequency classes, the ones that should provide the greatest amount of information for theta (Fu1994) and therefore probably also other parameters. I think masking out just one of the first two frequency classes will lead to highly biased inferences. Masking both frequency classes will reduce a lot of the power to infer the demographic history. I therefore think that masking will most likely not lead to better estimates.\n",
    "\n",
    "Toni has suggested that the doubleton class is inflated due to \"miscalling\" heterozygotes as homozygotes. When they contain a singleton they will be \"called\" as homozygote and therefore contribute to the doubleton count. This is aggravated by the fact that the sequenced individuals are all male which only possess one X chromosome. The X chromosome is the fourth largest of the 9 chromosomes of these grasshoppers (8 autosomes + X) (see Gosalvez1988, fig. 2). That is, about 1/9th of the sequenced RAD loci are haploid but ANGSD assumes all loci to be diploid. The genotype likelihoods it calculates are all referring to diploid genotypes.\n",
    "\n",
    "I think one potential reason for the extreme deviations is that the genotype likelihoods are generally biased toward homozygote genotypes (i. e. also for autosomal loci) due to PCR duplicates (see eq. 1 in Nielsen2012). So, one potential improvement would be to remove PCR duplicates. \n",
    "\n",
    "Another potential improvement could be found by subsampling 8/9th to 8/10th of the contigs in the SAF files and estimating an SFS from these. Given enough subsamples, one should eventually be found that maximally excludes loci from the X chromosome. This subsample is expected to produce the least squared deviations from an expected SFS under the standard neutral model. However, one could argue that this attempt to exclude problematic loci could also inadvertently remove loci that strongly deviate from neutral expectations due to non-neutral evolution, again reducing power to detect deviations from the standard neutral model. I think one could also just apply the selection criterion of the second MAF class to be lower than the first and just save all contig subsamples and SFS's that fulfill that criterioin, since that should be true for all demographic scenarios. This approach, however, is compute intensive and difficult to implement.\n",
    "\n",
    "Ludovic has suggested optimising for a fraction $p$ of all SNP's that lie on the X chromosome. SNP's on the X chromosome are counted twice in the SFS. This fraction $p$ should therefore be subtracted from even frequency classes and added to the next lower frequency class. One could optimise for the minimum deviation from a neutral spectrum.\n",
    "\n",
    "Finally, it may be possible to acquire the the _Locusta_ genome contigs scaffolded or annotated by linkage group (see Wang2014). One could then blast-annotate the RAD contigs with the homologous _Locusta_ linkage group and create subsets of RAD contigs for each linkage group that exclude that linkage group. There may be a subset (presumably the one that excluded RAD contigs from the X chromosome) that has markedly reduced residuals when compared to a neutral spectrum."
   ]
  },
  {
   "cell_type": "markdown",
   "metadata": {},
   "source": [
    "# exponential growth model"
   ]
  },
  {
   "cell_type": "markdown",
   "metadata": {},
   "source": [
    "This model assumes that exponential growth (or decline) started some time $T$ in the past and the current effective population size is a multiple $\\nu$ of the ancient populations size, i. e. before exponential growth began. So this model just estimates two parameters. If $\\nu$ is estimated to be 1, this indicates that the population size hasn't changed (although see Myers2008). If it is below one, this indicates exponential population decline (how realistic is that?). If it is above 1, this indicates exponential population growth."
   ]
  },
  {
   "cell_type": "markdown",
   "metadata": {},
   "source": [
    "## _erythropus_"
   ]
  },
  {
   "cell_type": "code",
   "execution_count": 24,
   "metadata": {
    "collapsed": false
   },
   "outputs": [],
   "source": [
    "import dill\n",
    "\n",
    "# loading optimisation results from previous analysis\n",
    "\n",
    "growth_ery = dill.load(open('OUT_exp_growth_model/ERY_perturb_ar_ery.dill'))"
   ]
  },
  {
   "cell_type": "code",
   "execution_count": 25,
   "metadata": {
    "collapsed": true
   },
   "outputs": [],
   "source": [
    "def flatten(array):\n",
    "    \"\"\"\n",
    "        Returns a list of flattened elements of every inner lists (or tuples)\n",
    "        ****RECURSIVE****\n",
    "    \"\"\"\n",
    "    import numpy\n",
    "    res = []\n",
    "    for el in array:\n",
    "        if isinstance(el, (list, tuple, numpy.ndarray)):\n",
    "            res.extend(flatten(el))\n",
    "            continue\n",
    "        res.append(el)\n",
    "    return list( res )"
   ]
  },
  {
   "cell_type": "code",
   "execution_count": 26,
   "metadata": {
    "collapsed": true
   },
   "outputs": [],
   "source": [
    "import pandas as pd"
   ]
  },
  {
   "cell_type": "code",
   "execution_count": 27,
   "metadata": {
    "collapsed": false
   },
   "outputs": [
    {
     "data": {
      "text/html": [
       "<div>\n",
       "<table border=\"1\" class=\"dataframe\">\n",
       "  <thead>\n",
       "    <tr style=\"text-align: right;\">\n",
       "      <th></th>\n",
       "      <th>nu_0</th>\n",
       "      <th>T_0</th>\n",
       "      <th>nu_opt</th>\n",
       "      <th>T_opt</th>\n",
       "      <th>-logL</th>\n",
       "    </tr>\n",
       "  </thead>\n",
       "  <tbody>\n",
       "    <tr>\n",
       "      <th>17</th>\n",
       "      <td>0.780521</td>\n",
       "      <td>0.022607</td>\n",
       "      <td>0.149288</td>\n",
       "      <td>0.007689</td>\n",
       "      <td>1833.629142</td>\n",
       "    </tr>\n",
       "    <tr>\n",
       "      <th>5</th>\n",
       "      <td>0.808178</td>\n",
       "      <td>0.057064</td>\n",
       "      <td>0.149282</td>\n",
       "      <td>0.007688</td>\n",
       "      <td>1833.629142</td>\n",
       "    </tr>\n",
       "    <tr>\n",
       "      <th>14</th>\n",
       "      <td>0.071850</td>\n",
       "      <td>0.008328</td>\n",
       "      <td>0.149282</td>\n",
       "      <td>0.007689</td>\n",
       "      <td>1833.629142</td>\n",
       "    </tr>\n",
       "    <tr>\n",
       "      <th>16</th>\n",
       "      <td>0.752359</td>\n",
       "      <td>0.002897</td>\n",
       "      <td>0.149289</td>\n",
       "      <td>0.007689</td>\n",
       "      <td>1833.629142</td>\n",
       "    </tr>\n",
       "    <tr>\n",
       "      <th>15</th>\n",
       "      <td>0.406271</td>\n",
       "      <td>0.001194</td>\n",
       "      <td>0.149279</td>\n",
       "      <td>0.007688</td>\n",
       "      <td>1833.629143</td>\n",
       "    </tr>\n",
       "    <tr>\n",
       "      <th>13</th>\n",
       "      <td>0.187497</td>\n",
       "      <td>0.007036</td>\n",
       "      <td>0.149282</td>\n",
       "      <td>0.007688</td>\n",
       "      <td>1833.629143</td>\n",
       "    </tr>\n",
       "    <tr>\n",
       "      <th>7</th>\n",
       "      <td>0.340431</td>\n",
       "      <td>0.002261</td>\n",
       "      <td>0.149281</td>\n",
       "      <td>0.007688</td>\n",
       "      <td>1833.629143</td>\n",
       "    </tr>\n",
       "    <tr>\n",
       "      <th>4</th>\n",
       "      <td>0.688106</td>\n",
       "      <td>0.002398</td>\n",
       "      <td>0.149291</td>\n",
       "      <td>0.007689</td>\n",
       "      <td>1833.629143</td>\n",
       "    </tr>\n",
       "    <tr>\n",
       "      <th>11</th>\n",
       "      <td>0.206299</td>\n",
       "      <td>0.001830</td>\n",
       "      <td>0.149276</td>\n",
       "      <td>0.007688</td>\n",
       "      <td>1833.629143</td>\n",
       "    </tr>\n",
       "    <tr>\n",
       "      <th>8</th>\n",
       "      <td>0.027257</td>\n",
       "      <td>0.001609</td>\n",
       "      <td>0.000100</td>\n",
       "      <td>0.000002</td>\n",
       "      <td>1845.162845</td>\n",
       "    </tr>\n",
       "    <tr>\n",
       "      <th>19</th>\n",
       "      <td>0.031108</td>\n",
       "      <td>0.001273</td>\n",
       "      <td>0.000100</td>\n",
       "      <td>0.000002</td>\n",
       "      <td>1845.162845</td>\n",
       "    </tr>\n",
       "    <tr>\n",
       "      <th>1</th>\n",
       "      <td>0.119740</td>\n",
       "      <td>0.001195</td>\n",
       "      <td>0.000100</td>\n",
       "      <td>0.000002</td>\n",
       "      <td>1845.162846</td>\n",
       "    </tr>\n",
       "    <tr>\n",
       "      <th>6</th>\n",
       "      <td>0.020200</td>\n",
       "      <td>0.001229</td>\n",
       "      <td>0.000100</td>\n",
       "      <td>0.000002</td>\n",
       "      <td>1845.162846</td>\n",
       "    </tr>\n",
       "    <tr>\n",
       "      <th>10</th>\n",
       "      <td>0.065260</td>\n",
       "      <td>0.001312</td>\n",
       "      <td>0.000100</td>\n",
       "      <td>0.000002</td>\n",
       "      <td>1845.162846</td>\n",
       "    </tr>\n",
       "    <tr>\n",
       "      <th>18</th>\n",
       "      <td>0.052127</td>\n",
       "      <td>0.003564</td>\n",
       "      <td>0.000100</td>\n",
       "      <td>0.000002</td>\n",
       "      <td>1845.162846</td>\n",
       "    </tr>\n",
       "    <tr>\n",
       "      <th>9</th>\n",
       "      <td>0.020520</td>\n",
       "      <td>0.001354</td>\n",
       "      <td>0.000100</td>\n",
       "      <td>0.000002</td>\n",
       "      <td>1845.162846</td>\n",
       "    </tr>\n",
       "    <tr>\n",
       "      <th>12</th>\n",
       "      <td>0.030152</td>\n",
       "      <td>0.008015</td>\n",
       "      <td>0.000100</td>\n",
       "      <td>0.000002</td>\n",
       "      <td>1845.162846</td>\n",
       "    </tr>\n",
       "    <tr>\n",
       "      <th>0</th>\n",
       "      <td>0.027786</td>\n",
       "      <td>0.001974</td>\n",
       "      <td>0.000100</td>\n",
       "      <td>0.000002</td>\n",
       "      <td>1845.162846</td>\n",
       "    </tr>\n",
       "    <tr>\n",
       "      <th>3</th>\n",
       "      <td>0.070763</td>\n",
       "      <td>0.002464</td>\n",
       "      <td>0.000100</td>\n",
       "      <td>0.000002</td>\n",
       "      <td>1845.162847</td>\n",
       "    </tr>\n",
       "    <tr>\n",
       "      <th>2</th>\n",
       "      <td>0.156152</td>\n",
       "      <td>0.002152</td>\n",
       "      <td>0.000100</td>\n",
       "      <td>0.000002</td>\n",
       "      <td>1845.162981</td>\n",
       "    </tr>\n",
       "  </tbody>\n",
       "</table>\n",
       "</div>"
      ],
      "text/plain": [
       "        nu_0       T_0    nu_opt     T_opt        -logL\n",
       "17  0.780521  0.022607  0.149288  0.007689  1833.629142\n",
       "5   0.808178  0.057064  0.149282  0.007688  1833.629142\n",
       "14  0.071850  0.008328  0.149282  0.007689  1833.629142\n",
       "16  0.752359  0.002897  0.149289  0.007689  1833.629142\n",
       "15  0.406271  0.001194  0.149279  0.007688  1833.629143\n",
       "13  0.187497  0.007036  0.149282  0.007688  1833.629143\n",
       "7   0.340431  0.002261  0.149281  0.007688  1833.629143\n",
       "4   0.688106  0.002398  0.149291  0.007689  1833.629143\n",
       "11  0.206299  0.001830  0.149276  0.007688  1833.629143\n",
       "8   0.027257  0.001609  0.000100  0.000002  1845.162845\n",
       "19  0.031108  0.001273  0.000100  0.000002  1845.162845\n",
       "1   0.119740  0.001195  0.000100  0.000002  1845.162846\n",
       "6   0.020200  0.001229  0.000100  0.000002  1845.162846\n",
       "10  0.065260  0.001312  0.000100  0.000002  1845.162846\n",
       "18  0.052127  0.003564  0.000100  0.000002  1845.162846\n",
       "9   0.020520  0.001354  0.000100  0.000002  1845.162846\n",
       "12  0.030152  0.008015  0.000100  0.000002  1845.162846\n",
       "0   0.027786  0.001974  0.000100  0.000002  1845.162846\n",
       "3   0.070763  0.002464  0.000100  0.000002  1845.162847\n",
       "2   0.156152  0.002152  0.000100  0.000002  1845.162981"
      ]
     },
     "execution_count": 27,
     "metadata": {},
     "output_type": "execute_result"
    }
   ],
   "source": [
    "i = 4 # where to find flag, 6 for BFGS, 4 for Nelder-Mead\n",
    "\n",
    "successfull_popt_ery = [flatten(out)[:5] for out in growth_ery if out[1][i] == 0]\n",
    "\n",
    "df = pd.DataFrame(data=successfull_popt_ery, \\\n",
    "                  columns=['nu_0', 'T_0', 'nu_opt', 'T_opt', '-logL'])\n",
    "\n",
    "df.sort_values(by='-logL', ascending=True) # smaller is better"
   ]
  },
  {
   "cell_type": "code",
   "execution_count": 28,
   "metadata": {
    "collapsed": false
   },
   "outputs": [
    {
     "name": "stdout",
     "output_type": "stream",
     "text": [
      "The most likely parameter combination for this model suggests that the ery population size started to exponentially shrink at 8,305 generations ago to a current population size of 80,617.\n"
     ]
    }
   ],
   "source": [
    "print \"The most likely parameter combination for this model suggests that the ery population size started to exponentially shrink at {0:,} generations ago to a current population size of {1:,}.\".format(int(0.00769*2*N_ref_ery), int(0.14929*N_ref_ery))"
   ]
  },
  {
   "cell_type": "markdown",
   "metadata": {},
   "source": [
    "This optimal parameter set was difficult to find. It can only be found from parameter values that are already quite close to the optimal values. The model enforces _exponential_ population decline. This may not be very realistic. "
   ]
  },
  {
   "cell_type": "markdown",
   "metadata": {},
   "source": [
    "## _parallelus_"
   ]
  },
  {
   "cell_type": "markdown",
   "metadata": {},
   "source": [
    "A sweep through the parameter space did not lead to convergence of parameters for the _parallelus_ spectrum. Optimisations starting from up to 6-fold randomly perturbed neutral parameter values (1, 1) also did not lead to successful optimisations. The exponential growth/decline model could therefore not be fit to the _par_ spectrum."
   ]
  },
  {
   "cell_type": "markdown",
   "metadata": {},
   "source": [
    "# two epoch model"
   ]
  },
  {
   "cell_type": "markdown",
   "metadata": {},
   "source": [
    "## _erythropus_"
   ]
  },
  {
   "cell_type": "markdown",
   "metadata": {},
   "source": [
    "The built-in _two epoch_ model defines a piecewise history, where at some time $T$ in the past the ancestral population instantaneously changed in size to the contemporary population size, which has ratio of $\\nu$ to the ancestral population size."
   ]
  },
  {
   "cell_type": "markdown",
   "metadata": {},
   "source": [
    "The parameters values with the highest likelihood ($\\nu=0.0001$ and $T=0.000002$) are hitting the lower bound of parameter space that I've set. The time parameter $T$ that dadi infers with the highest likelihood corresponds to 3 generations and therefore does not make sense. The two epoch model could therefore not be fit to the _erythropus_ spectrum."
   ]
  },
  {
   "cell_type": "markdown",
   "metadata": {},
   "source": [
    "## _parallelus_"
   ]
  },
  {
   "cell_type": "code",
   "execution_count": 29,
   "metadata": {
    "collapsed": false
   },
   "outputs": [],
   "source": [
    "ar_par_te = dill.load(open(\"OUT_two_epoch/PAR_perturb_ar_par.dill\"))"
   ]
  },
  {
   "cell_type": "code",
   "execution_count": 30,
   "metadata": {
    "collapsed": false
   },
   "outputs": [
    {
     "data": {
      "text/html": [
       "<div>\n",
       "<table border=\"1\" class=\"dataframe\">\n",
       "  <thead>\n",
       "    <tr style=\"text-align: right;\">\n",
       "      <th></th>\n",
       "      <th>nu_0</th>\n",
       "      <th>T_0</th>\n",
       "      <th>nu_opt</th>\n",
       "      <th>T_opt</th>\n",
       "      <th>-logL</th>\n",
       "    </tr>\n",
       "  </thead>\n",
       "  <tbody>\n",
       "    <tr>\n",
       "      <th>7</th>\n",
       "      <td>3.809859</td>\n",
       "      <td>0.880742</td>\n",
       "      <td>7.723638</td>\n",
       "      <td>5.999997</td>\n",
       "      <td>5502.338651</td>\n",
       "    </tr>\n",
       "    <tr>\n",
       "      <th>6</th>\n",
       "      <td>3.960114</td>\n",
       "      <td>0.730363</td>\n",
       "      <td>7.723791</td>\n",
       "      <td>5.999995</td>\n",
       "      <td>5502.338651</td>\n",
       "    </tr>\n",
       "    <tr>\n",
       "      <th>3</th>\n",
       "      <td>0.946438</td>\n",
       "      <td>3.628840</td>\n",
       "      <td>7.724187</td>\n",
       "      <td>5.999994</td>\n",
       "      <td>5502.338653</td>\n",
       "    </tr>\n",
       "    <tr>\n",
       "      <th>1</th>\n",
       "      <td>1.099448</td>\n",
       "      <td>1.424327</td>\n",
       "      <td>7.723607</td>\n",
       "      <td>5.999982</td>\n",
       "      <td>5502.338675</td>\n",
       "    </tr>\n",
       "    <tr>\n",
       "      <th>8</th>\n",
       "      <td>1.268052</td>\n",
       "      <td>0.301753</td>\n",
       "      <td>7.724743</td>\n",
       "      <td>5.999970</td>\n",
       "      <td>5502.338719</td>\n",
       "    </tr>\n",
       "    <tr>\n",
       "      <th>5</th>\n",
       "      <td>0.478007</td>\n",
       "      <td>0.297796</td>\n",
       "      <td>7.731477</td>\n",
       "      <td>5.999997</td>\n",
       "      <td>5502.341217</td>\n",
       "    </tr>\n",
       "    <tr>\n",
       "      <th>2</th>\n",
       "      <td>1.163708</td>\n",
       "      <td>3.434724</td>\n",
       "      <td>7.690900</td>\n",
       "      <td>5.999987</td>\n",
       "      <td>5502.388130</td>\n",
       "    </tr>\n",
       "    <tr>\n",
       "      <th>0</th>\n",
       "      <td>0.426545</td>\n",
       "      <td>2.386989</td>\n",
       "      <td>0.146739</td>\n",
       "      <td>5.883732</td>\n",
       "      <td>6925.673757</td>\n",
       "    </tr>\n",
       "    <tr>\n",
       "      <th>4</th>\n",
       "      <td>0.291222</td>\n",
       "      <td>0.328804</td>\n",
       "      <td>0.124747</td>\n",
       "      <td>5.466190</td>\n",
       "      <td>6925.673757</td>\n",
       "    </tr>\n",
       "    <tr>\n",
       "      <th>9</th>\n",
       "      <td>0.322324</td>\n",
       "      <td>0.444581</td>\n",
       "      <td>0.046371</td>\n",
       "      <td>3.658299</td>\n",
       "      <td>6925.673757</td>\n",
       "    </tr>\n",
       "  </tbody>\n",
       "</table>\n",
       "</div>"
      ],
      "text/plain": [
       "       nu_0       T_0    nu_opt     T_opt        -logL\n",
       "7  3.809859  0.880742  7.723638  5.999997  5502.338651\n",
       "6  3.960114  0.730363  7.723791  5.999995  5502.338651\n",
       "3  0.946438  3.628840  7.724187  5.999994  5502.338653\n",
       "1  1.099448  1.424327  7.723607  5.999982  5502.338675\n",
       "8  1.268052  0.301753  7.724743  5.999970  5502.338719\n",
       "5  0.478007  0.297796  7.731477  5.999997  5502.341217\n",
       "2  1.163708  3.434724  7.690900  5.999987  5502.388130\n",
       "0  0.426545  2.386989  0.146739  5.883732  6925.673757\n",
       "4  0.291222  0.328804  0.124747  5.466190  6925.673757\n",
       "9  0.322324  0.444581  0.046371  3.658299  6925.673757"
      ]
     },
     "execution_count": 30,
     "metadata": {},
     "output_type": "execute_result"
    }
   ],
   "source": [
    "i = 4 # index of flag with NM algorithm\n",
    "\n",
    "successfull_popt = [flatten(out)[:5] for out in ar_par_te if out[1][i] == 0]\n",
    "\n",
    "df = pd.DataFrame(data=successfull_popt, \\\n",
    "                  columns=['nu_0','T_0', 'nu_opt', 'T_opt', '-logL'])\n",
    "\n",
    "df.sort_values(by='-logL', ascending=True)"
   ]
  },
  {
   "cell_type": "markdown",
   "metadata": {},
   "source": [
    "Very different population size histories have the same likelihood. The most likely parameter combinations are hitting the upper parameter bound for the time parameter (6)."
   ]
  },
  {
   "cell_type": "code",
   "execution_count": 31,
   "metadata": {
    "collapsed": false
   },
   "outputs": [
    {
     "name": "stdout",
     "output_type": "stream",
     "text": [
      "A T of 6 corresponds to 8,751,664.83425 generations.\n"
     ]
    }
   ],
   "source": [
    "print \"A T of 6 corresponds to {0:,} generations.\".format(6*2*N_ref_par)"
   ]
  },
  {
   "cell_type": "markdown",
   "metadata": {},
   "source": [
    "From the dadi manual:\n",
    "\n",
    ">If your fits often push the bounds of your parameter space (i.e., results are often at the bounds of one or more parameters), this indicates a problem. It may be that your bounds are too conservative, so try widening them. It may also be that your model is misspecified or that there are unaccounted biases in your data.\n",
    "\n",
    "Ryan Gutenkunst in a [dadi forum thread on parameters hitting the boundary](https://groups.google.com/forum/#!searchin/dadi-user/boundary%7Csort:relevance/dadi-user/3g9M2Lwc84s/5qbzVry2AQAJ):\n",
    "\n",
    ">This indicates that dadi is having trouble fitting your data. One possibility is that the history of the population includes important events that aren’t in your models. Another possibility is that your data is biased in ways that aren’t in your models. For example, maybe your missing calls for rare alleles.\n",
    "\n",
    "\n",
    "\n",
    "I am not sure whether an even higher $T$ can reasonably be assumed. The expected time to the most recent common ancestor (MRCA) in a neutral genealogy is:\n",
    "\n",
    "$$\n",
    "E\\big[T_{MRCA}\\big] = 2 \\Big(1-\\frac{1}{n}\\Big)\n",
    "$$\n",
    "\n",
    "measured in $2N_e$ generations. Note, that $T_{MRCA}$ is close to its large sample size limit of 2 already for moderate sample sizes.\n",
    "\n",
    "See figure 3.4, p. 79, in Wakeley2009 for the distribution of the $T_{MRCA}$. For $n=36$ it has a mode close to 1.2 and an expected value of 1.94. Values for $T_{MRCA}$ greater than 4 are very unlikely given a standard coalescent model, but may be more likely under models including population expansion or gene flow from another population."
   ]
  },
  {
   "cell_type": "markdown",
   "metadata": {},
   "source": [
    "I think a two epoch model cannot be fit to the _parallelus_ spectrum."
   ]
  },
  {
   "cell_type": "markdown",
   "metadata": {},
   "source": [
    "# bottleneck then exponential growth model"
   ]
  },
  {
   "cell_type": "markdown",
   "metadata": {
    "collapsed": true
   },
   "source": [
    "The built-in `bottlegrowth` model specifies an instantaneous size change $T \\times 2N_{ref}$ generations in the past immediately followed by the start of exponential growth (or decline) toward the contemporary population size. The model has three parameters: \n",
    "- ratio of population size ($\\nu_B$) after instantaneous size change with respect to the ancient population size ($N_{ref}$)\n",
    "- time of instantaneous size change ($T$) in $2N_{ref}$ generations in the past\n",
    "- ratio of contemporary to ancient population size ($\\nu_F$)"
   ]
  },
  {
   "cell_type": "markdown",
   "metadata": {
    "collapsed": true
   },
   "source": [
    "## _erythropus_"
   ]
  },
  {
   "cell_type": "code",
   "execution_count": 32,
   "metadata": {
    "collapsed": false
   },
   "outputs": [],
   "source": [
    "ar_ery = dill.load(open(\"OUT_bottlegrowth/ERY_perturb_ar_ery.dill\"))"
   ]
  },
  {
   "cell_type": "code",
   "execution_count": 33,
   "metadata": {
    "collapsed": true
   },
   "outputs": [],
   "source": [
    "successfull_popt = [flatten(out)[:7] for out in ar_ery if out[1][4] == 0]"
   ]
  },
  {
   "cell_type": "code",
   "execution_count": 34,
   "metadata": {
    "collapsed": true
   },
   "outputs": [],
   "source": [
    "df = pd.DataFrame(data=successfull_popt, columns=['nuB_0', 'nuF_0', 'T_0', 'nuB_opt', 'nuF_opt', 'T_opt', '-logL'])"
   ]
  },
  {
   "cell_type": "code",
   "execution_count": 35,
   "metadata": {
    "collapsed": false
   },
   "outputs": [
    {
     "data": {
      "text/html": [
       "<div>\n",
       "<table border=\"1\" class=\"dataframe\">\n",
       "  <thead>\n",
       "    <tr style=\"text-align: right;\">\n",
       "      <th></th>\n",
       "      <th>nuB_0</th>\n",
       "      <th>nuF_0</th>\n",
       "      <th>T_0</th>\n",
       "      <th>nuB_opt</th>\n",
       "      <th>nuF_opt</th>\n",
       "      <th>T_opt</th>\n",
       "      <th>-logL</th>\n",
       "    </tr>\n",
       "  </thead>\n",
       "  <tbody>\n",
       "    <tr>\n",
       "      <th>2</th>\n",
       "      <td>21.414656</td>\n",
       "      <td>0.210739</td>\n",
       "      <td>0.462369</td>\n",
       "      <td>39.201407</td>\n",
       "      <td>0.457600</td>\n",
       "      <td>0.367940</td>\n",
       "      <td>1649.971308</td>\n",
       "    </tr>\n",
       "    <tr>\n",
       "      <th>11</th>\n",
       "      <td>57.883309</td>\n",
       "      <td>0.529949</td>\n",
       "      <td>0.622005</td>\n",
       "      <td>39.200694</td>\n",
       "      <td>0.457599</td>\n",
       "      <td>0.367948</td>\n",
       "      <td>1649.971308</td>\n",
       "    </tr>\n",
       "    <tr>\n",
       "      <th>5</th>\n",
       "      <td>94.196807</td>\n",
       "      <td>0.468070</td>\n",
       "      <td>0.791146</td>\n",
       "      <td>39.198693</td>\n",
       "      <td>0.457602</td>\n",
       "      <td>0.367938</td>\n",
       "      <td>1649.971308</td>\n",
       "    </tr>\n",
       "    <tr>\n",
       "      <th>8</th>\n",
       "      <td>87.446500</td>\n",
       "      <td>0.433059</td>\n",
       "      <td>0.404938</td>\n",
       "      <td>39.200026</td>\n",
       "      <td>0.457600</td>\n",
       "      <td>0.367938</td>\n",
       "      <td>1649.971308</td>\n",
       "    </tr>\n",
       "    <tr>\n",
       "      <th>3</th>\n",
       "      <td>17.826734</td>\n",
       "      <td>0.392610</td>\n",
       "      <td>0.263240</td>\n",
       "      <td>39.199184</td>\n",
       "      <td>0.457598</td>\n",
       "      <td>0.367939</td>\n",
       "      <td>1649.971308</td>\n",
       "    </tr>\n",
       "    <tr>\n",
       "      <th>6</th>\n",
       "      <td>17.409909</td>\n",
       "      <td>0.205299</td>\n",
       "      <td>0.388550</td>\n",
       "      <td>39.200632</td>\n",
       "      <td>0.457606</td>\n",
       "      <td>0.367954</td>\n",
       "      <td>1649.971308</td>\n",
       "    </tr>\n",
       "    <tr>\n",
       "      <th>10</th>\n",
       "      <td>18.640592</td>\n",
       "      <td>0.431983</td>\n",
       "      <td>0.578988</td>\n",
       "      <td>39.202016</td>\n",
       "      <td>0.457603</td>\n",
       "      <td>0.367948</td>\n",
       "      <td>1649.971308</td>\n",
       "    </tr>\n",
       "    <tr>\n",
       "      <th>0</th>\n",
       "      <td>47.216687</td>\n",
       "      <td>0.187491</td>\n",
       "      <td>0.435927</td>\n",
       "      <td>39.200419</td>\n",
       "      <td>0.457606</td>\n",
       "      <td>0.367950</td>\n",
       "      <td>1649.971308</td>\n",
       "    </tr>\n",
       "    <tr>\n",
       "      <th>7</th>\n",
       "      <td>21.995217</td>\n",
       "      <td>0.219187</td>\n",
       "      <td>0.151084</td>\n",
       "      <td>39.200011</td>\n",
       "      <td>0.457600</td>\n",
       "      <td>0.367943</td>\n",
       "      <td>1649.971308</td>\n",
       "    </tr>\n",
       "    <tr>\n",
       "      <th>1</th>\n",
       "      <td>34.143955</td>\n",
       "      <td>0.349659</td>\n",
       "      <td>0.461401</td>\n",
       "      <td>39.202789</td>\n",
       "      <td>0.457604</td>\n",
       "      <td>0.367953</td>\n",
       "      <td>1649.971308</td>\n",
       "    </tr>\n",
       "    <tr>\n",
       "      <th>9</th>\n",
       "      <td>20.071761</td>\n",
       "      <td>0.202917</td>\n",
       "      <td>0.740089</td>\n",
       "      <td>39.200109</td>\n",
       "      <td>0.457601</td>\n",
       "      <td>0.367945</td>\n",
       "      <td>1649.971308</td>\n",
       "    </tr>\n",
       "    <tr>\n",
       "      <th>4</th>\n",
       "      <td>72.107587</td>\n",
       "      <td>0.413951</td>\n",
       "      <td>0.580664</td>\n",
       "      <td>39.200635</td>\n",
       "      <td>0.457605</td>\n",
       "      <td>0.367949</td>\n",
       "      <td>1649.971308</td>\n",
       "    </tr>\n",
       "    <tr>\n",
       "      <th>12</th>\n",
       "      <td>18.843908</td>\n",
       "      <td>0.240474</td>\n",
       "      <td>0.187678</td>\n",
       "      <td>39.200723</td>\n",
       "      <td>0.457602</td>\n",
       "      <td>0.367947</td>\n",
       "      <td>1649.971308</td>\n",
       "    </tr>\n",
       "  </tbody>\n",
       "</table>\n",
       "</div>"
      ],
      "text/plain": [
       "        nuB_0     nuF_0       T_0    nuB_opt   nuF_opt     T_opt        -logL\n",
       "2   21.414656  0.210739  0.462369  39.201407  0.457600  0.367940  1649.971308\n",
       "11  57.883309  0.529949  0.622005  39.200694  0.457599  0.367948  1649.971308\n",
       "5   94.196807  0.468070  0.791146  39.198693  0.457602  0.367938  1649.971308\n",
       "8   87.446500  0.433059  0.404938  39.200026  0.457600  0.367938  1649.971308\n",
       "3   17.826734  0.392610  0.263240  39.199184  0.457598  0.367939  1649.971308\n",
       "6   17.409909  0.205299  0.388550  39.200632  0.457606  0.367954  1649.971308\n",
       "10  18.640592  0.431983  0.578988  39.202016  0.457603  0.367948  1649.971308\n",
       "0   47.216687  0.187491  0.435927  39.200419  0.457606  0.367950  1649.971308\n",
       "7   21.995217  0.219187  0.151084  39.200011  0.457600  0.367943  1649.971308\n",
       "1   34.143955  0.349659  0.461401  39.202789  0.457604  0.367953  1649.971308\n",
       "9   20.071761  0.202917  0.740089  39.200109  0.457601  0.367945  1649.971308\n",
       "4   72.107587  0.413951  0.580664  39.200635  0.457605  0.367949  1649.971308\n",
       "12  18.843908  0.240474  0.187678  39.200723  0.457602  0.367947  1649.971308"
      ]
     },
     "execution_count": 35,
     "metadata": {},
     "output_type": "execute_result"
    }
   ],
   "source": [
    "df.sort_values(by='-logL', ascending=False)"
   ]
  },
  {
   "cell_type": "markdown",
   "metadata": {},
   "source": [
    "These optimal parameter values were found by a broad sweep across the parameter space (data not shown)."
   ]
  },
  {
   "cell_type": "markdown",
   "metadata": {},
   "source": [
    "The optimal parameters suggest the following:"
   ]
  },
  {
   "cell_type": "code",
   "execution_count": 36,
   "metadata": {
    "collapsed": false
   },
   "outputs": [
    {
     "name": "stdout",
     "output_type": "stream",
     "text": [
      "At time 397,377 generations ago, the ery population size instantaneously increased by almost 40-fold (to 21,168,110).\n"
     ]
    }
   ],
   "source": [
    "print \"At time {0:,} generations ago, the ery population size instantaneously increased by almost 40-fold (to {1:,}).\".format(int(0.36794*2*N_ref_ery), int(39.2*N_ref_ery))"
   ]
  },
  {
   "cell_type": "markdown",
   "metadata": {},
   "source": [
    "Can a shortterm effective population size of 21 million reasonably be assumed?"
   ]
  },
  {
   "cell_type": "code",
   "execution_count": 37,
   "metadata": {
    "collapsed": false
   },
   "outputs": [
    {
     "name": "stdout",
     "output_type": "stream",
     "text": [
      "This was followed by exponential decline towards a current population size of 247,105.\n"
     ]
    }
   ],
   "source": [
    "print \"This was followed by exponential decline towards a current population size of {0:,}.\".format(int(0.4576*N_ref_ery))"
   ]
  },
  {
   "cell_type": "markdown",
   "metadata": {},
   "source": [
    "## _parallelus_"
   ]
  },
  {
   "cell_type": "markdown",
   "metadata": {
    "collapsed": true
   },
   "source": [
    "There was no convergence on a set of optimal parameter values."
   ]
  },
  {
   "cell_type": "markdown",
   "metadata": {},
   "source": [
    "# three epoch model"
   ]
  },
  {
   "cell_type": "markdown",
   "metadata": {},
   "source": [
    "The built-in `three_epoch` model specifies a piecewise history (with only instantaneous population size changes instead of gradual changes). At time $TF+TB$ the ancient population underwent a size change, stayed at this size ($\\nu_B \\times N_{ref}$) for $TB \\times 2N_{ref}$ generations and then underwent a second size size change $TF \\times 2N_{ref}$ generations in the past to the contemporary population size ($\\nu_F \\times N_{ref}$). The model has therefore two population size parameters, $\\nu_B$ and $\\nu_F$ as well as two time parameters, $TB$ and $TF$."
   ]
  },
  {
   "cell_type": "markdown",
   "metadata": {},
   "source": [
    "With 4 parameters, this model is already so complex that a sweep through the parameter space (i. e. starting optimisations from many different positions) is prohibitively time-consuming. I have therefore started optimisations with initial parameter values that were generated by randomly perturbing a neutral parameter combination, $\\nu_B = \\nu_F = TB = TF = 1$, by up to 4-fold. I can therefore not be certain whether the optimal parameter combinations thus found correspond to the global or a just a local optimum of the likelihood function."
   ]
  },
  {
   "cell_type": "markdown",
   "metadata": {},
   "source": [
    "## _erythropus_"
   ]
  },
  {
   "cell_type": "code",
   "execution_count": 38,
   "metadata": {
    "collapsed": false
   },
   "outputs": [],
   "source": [
    "# load optimisation results from file\n",
    "\n",
    "ar_ery = []\n",
    "\n",
    "import glob\n",
    "\n",
    "for filename in glob.glob(\"OUT_three_epoch/ERY_perturb_ar_ery*.dill\"):\n",
    "    ar_ery.extend(dill.load(open(filename)))"
   ]
  },
  {
   "cell_type": "code",
   "execution_count": 39,
   "metadata": {
    "collapsed": false
   },
   "outputs": [
    {
     "data": {
      "text/html": [
       "<div>\n",
       "<table border=\"1\" class=\"dataframe\">\n",
       "  <thead>\n",
       "    <tr style=\"text-align: right;\">\n",
       "      <th></th>\n",
       "      <th>nuB_0</th>\n",
       "      <th>nuF_0</th>\n",
       "      <th>TB_0</th>\n",
       "      <th>TF_0</th>\n",
       "      <th>nuB_opt</th>\n",
       "      <th>nuF_opt</th>\n",
       "      <th>TB_opt</th>\n",
       "      <th>TF_opt</th>\n",
       "      <th>-logL</th>\n",
       "    </tr>\n",
       "  </thead>\n",
       "  <tbody>\n",
       "    <tr>\n",
       "      <th>7</th>\n",
       "      <td>18.392331</td>\n",
       "      <td>0.101597</td>\n",
       "      <td>1.702540</td>\n",
       "      <td>0.215492</td>\n",
       "      <td>17.358511</td>\n",
       "      <td>0.054665</td>\n",
       "      <td>1.751921</td>\n",
       "      <td>0.391672</td>\n",
       "      <td>2168.111862</td>\n",
       "    </tr>\n",
       "    <tr>\n",
       "      <th>21</th>\n",
       "      <td>71.979569</td>\n",
       "      <td>0.113046</td>\n",
       "      <td>0.331147</td>\n",
       "      <td>0.319804</td>\n",
       "      <td>82.969982</td>\n",
       "      <td>0.071288</td>\n",
       "      <td>0.298778</td>\n",
       "      <td>0.440360</td>\n",
       "      <td>2168.111863</td>\n",
       "    </tr>\n",
       "    <tr>\n",
       "      <th>8</th>\n",
       "      <td>15.252442</td>\n",
       "      <td>0.138945</td>\n",
       "      <td>0.363293</td>\n",
       "      <td>0.315070</td>\n",
       "      <td>17.776575</td>\n",
       "      <td>0.080865</td>\n",
       "      <td>0.317333</td>\n",
       "      <td>0.488813</td>\n",
       "      <td>2168.111863</td>\n",
       "    </tr>\n",
       "    <tr>\n",
       "      <th>10</th>\n",
       "      <td>51.352276</td>\n",
       "      <td>0.157910</td>\n",
       "      <td>0.181752</td>\n",
       "      <td>0.367491</td>\n",
       "      <td>65.505369</td>\n",
       "      <td>0.094434</td>\n",
       "      <td>0.146645</td>\n",
       "      <td>0.542281</td>\n",
       "      <td>2168.111863</td>\n",
       "    </tr>\n",
       "    <tr>\n",
       "      <th>11</th>\n",
       "      <td>11.983834</td>\n",
       "      <td>0.246236</td>\n",
       "      <td>1.010640</td>\n",
       "      <td>0.540040</td>\n",
       "      <td>14.930735</td>\n",
       "      <td>0.130152</td>\n",
       "      <td>1.010041</td>\n",
       "      <td>0.774382</td>\n",
       "      <td>2168.111863</td>\n",
       "    </tr>\n",
       "    <tr>\n",
       "      <th>12</th>\n",
       "      <td>22.335137</td>\n",
       "      <td>0.174836</td>\n",
       "      <td>0.340843</td>\n",
       "      <td>0.434766</td>\n",
       "      <td>27.042723</td>\n",
       "      <td>0.106110</td>\n",
       "      <td>0.296612</td>\n",
       "      <td>0.609153</td>\n",
       "      <td>2168.111863</td>\n",
       "    </tr>\n",
       "    <tr>\n",
       "      <th>20</th>\n",
       "      <td>15.267625</td>\n",
       "      <td>0.147428</td>\n",
       "      <td>0.620736</td>\n",
       "      <td>0.681960</td>\n",
       "      <td>13.975804</td>\n",
       "      <td>0.118970</td>\n",
       "      <td>0.608653</td>\n",
       "      <td>0.692754</td>\n",
       "      <td>2168.111863</td>\n",
       "    </tr>\n",
       "    <tr>\n",
       "      <th>13</th>\n",
       "      <td>56.452932</td>\n",
       "      <td>0.144727</td>\n",
       "      <td>0.249397</td>\n",
       "      <td>0.135380</td>\n",
       "      <td>180.518767</td>\n",
       "      <td>0.116126</td>\n",
       "      <td>0.170522</td>\n",
       "      <td>0.643191</td>\n",
       "      <td>2168.111863</td>\n",
       "    </tr>\n",
       "    <tr>\n",
       "      <th>19</th>\n",
       "      <td>121.895028</td>\n",
       "      <td>0.256218</td>\n",
       "      <td>0.553528</td>\n",
       "      <td>0.512424</td>\n",
       "      <td>186.363472</td>\n",
       "      <td>0.136292</td>\n",
       "      <td>0.505059</td>\n",
       "      <td>0.768389</td>\n",
       "      <td>2168.111863</td>\n",
       "    </tr>\n",
       "    <tr>\n",
       "      <th>9</th>\n",
       "      <td>21.193921</td>\n",
       "      <td>0.330266</td>\n",
       "      <td>1.077031</td>\n",
       "      <td>0.456888</td>\n",
       "      <td>25.926112</td>\n",
       "      <td>0.192458</td>\n",
       "      <td>1.111311</td>\n",
       "      <td>1.077319</td>\n",
       "      <td>2168.111864</td>\n",
       "    </tr>\n",
       "    <tr>\n",
       "      <th>18</th>\n",
       "      <td>14.459448</td>\n",
       "      <td>0.243839</td>\n",
       "      <td>0.890411</td>\n",
       "      <td>0.261546</td>\n",
       "      <td>34.999661</td>\n",
       "      <td>0.200264</td>\n",
       "      <td>0.845499</td>\n",
       "      <td>1.084962</td>\n",
       "      <td>2168.111864</td>\n",
       "    </tr>\n",
       "    <tr>\n",
       "      <th>15</th>\n",
       "      <td>82.102430</td>\n",
       "      <td>0.268245</td>\n",
       "      <td>0.328126</td>\n",
       "      <td>0.716259</td>\n",
       "      <td>101.661654</td>\n",
       "      <td>0.161491</td>\n",
       "      <td>0.273926</td>\n",
       "      <td>0.849436</td>\n",
       "      <td>2168.111864</td>\n",
       "    </tr>\n",
       "    <tr>\n",
       "      <th>16</th>\n",
       "      <td>36.580333</td>\n",
       "      <td>0.240737</td>\n",
       "      <td>0.852438</td>\n",
       "      <td>0.266042</td>\n",
       "      <td>116.171135</td>\n",
       "      <td>0.200126</td>\n",
       "      <td>0.792436</td>\n",
       "      <td>1.080803</td>\n",
       "      <td>2168.111864</td>\n",
       "    </tr>\n",
       "    <tr>\n",
       "      <th>0</th>\n",
       "      <td>1.555383</td>\n",
       "      <td>0.293791</td>\n",
       "      <td>1.935427</td>\n",
       "      <td>0.293656</td>\n",
       "      <td>1.856544</td>\n",
       "      <td>0.249924</td>\n",
       "      <td>2.212385</td>\n",
       "      <td>1.253689</td>\n",
       "      <td>2168.111864</td>\n",
       "    </tr>\n",
       "    <tr>\n",
       "      <th>17</th>\n",
       "      <td>10.867122</td>\n",
       "      <td>0.147365</td>\n",
       "      <td>0.946355</td>\n",
       "      <td>1.228667</td>\n",
       "      <td>15.668847</td>\n",
       "      <td>0.235957</td>\n",
       "      <td>0.942984</td>\n",
       "      <td>1.240931</td>\n",
       "      <td>2168.111864</td>\n",
       "    </tr>\n",
       "    <tr>\n",
       "      <th>5</th>\n",
       "      <td>2.361740</td>\n",
       "      <td>0.396505</td>\n",
       "      <td>0.305203</td>\n",
       "      <td>0.715585</td>\n",
       "      <td>2.410367</td>\n",
       "      <td>0.219186</td>\n",
       "      <td>0.165790</td>\n",
       "      <td>1.033617</td>\n",
       "      <td>2168.111866</td>\n",
       "    </tr>\n",
       "    <tr>\n",
       "      <th>3</th>\n",
       "      <td>0.308729</td>\n",
       "      <td>2.380386</td>\n",
       "      <td>0.499412</td>\n",
       "      <td>0.948869</td>\n",
       "      <td>0.322112</td>\n",
       "      <td>0.226230</td>\n",
       "      <td>0.154488</td>\n",
       "      <td>0.940070</td>\n",
       "      <td>2168.111867</td>\n",
       "    </tr>\n",
       "    <tr>\n",
       "      <th>14</th>\n",
       "      <td>42.524388</td>\n",
       "      <td>0.168468</td>\n",
       "      <td>0.943558</td>\n",
       "      <td>1.667497</td>\n",
       "      <td>92.763715</td>\n",
       "      <td>0.356487</td>\n",
       "      <td>0.935848</td>\n",
       "      <td>1.714824</td>\n",
       "      <td>2168.111867</td>\n",
       "    </tr>\n",
       "    <tr>\n",
       "      <th>1</th>\n",
       "      <td>1.374368</td>\n",
       "      <td>0.309479</td>\n",
       "      <td>0.322377</td>\n",
       "      <td>0.356217</td>\n",
       "      <td>1.556442</td>\n",
       "      <td>0.268827</td>\n",
       "      <td>0.184434</td>\n",
       "      <td>1.186481</td>\n",
       "      <td>2168.111868</td>\n",
       "    </tr>\n",
       "    <tr>\n",
       "      <th>4</th>\n",
       "      <td>0.973349</td>\n",
       "      <td>0.396776</td>\n",
       "      <td>0.298970</td>\n",
       "      <td>0.582019</td>\n",
       "      <td>0.956644</td>\n",
       "      <td>0.335899</td>\n",
       "      <td>0.159762</td>\n",
       "      <td>1.344350</td>\n",
       "      <td>2168.111872</td>\n",
       "    </tr>\n",
       "    <tr>\n",
       "      <th>2</th>\n",
       "      <td>0.583930</td>\n",
       "      <td>0.930936</td>\n",
       "      <td>1.184826</td>\n",
       "      <td>3.432361</td>\n",
       "      <td>5.541715</td>\n",
       "      <td>0.855880</td>\n",
       "      <td>2.142814</td>\n",
       "      <td>3.385095</td>\n",
       "      <td>2168.111883</td>\n",
       "    </tr>\n",
       "    <tr>\n",
       "      <th>6</th>\n",
       "      <td>0.259739</td>\n",
       "      <td>3.858553</td>\n",
       "      <td>3.172399</td>\n",
       "      <td>3.006089</td>\n",
       "      <td>0.033284</td>\n",
       "      <td>0.115157</td>\n",
       "      <td>3.994495</td>\n",
       "      <td>3.371261</td>\n",
       "      <td>2173.462130</td>\n",
       "    </tr>\n",
       "  </tbody>\n",
       "</table>\n",
       "</div>"
      ],
      "text/plain": [
       "         nuB_0     nuF_0      TB_0      TF_0     nuB_opt   nuF_opt    TB_opt  \\\n",
       "7    18.392331  0.101597  1.702540  0.215492   17.358511  0.054665  1.751921   \n",
       "21   71.979569  0.113046  0.331147  0.319804   82.969982  0.071288  0.298778   \n",
       "8    15.252442  0.138945  0.363293  0.315070   17.776575  0.080865  0.317333   \n",
       "10   51.352276  0.157910  0.181752  0.367491   65.505369  0.094434  0.146645   \n",
       "11   11.983834  0.246236  1.010640  0.540040   14.930735  0.130152  1.010041   \n",
       "12   22.335137  0.174836  0.340843  0.434766   27.042723  0.106110  0.296612   \n",
       "20   15.267625  0.147428  0.620736  0.681960   13.975804  0.118970  0.608653   \n",
       "13   56.452932  0.144727  0.249397  0.135380  180.518767  0.116126  0.170522   \n",
       "19  121.895028  0.256218  0.553528  0.512424  186.363472  0.136292  0.505059   \n",
       "9    21.193921  0.330266  1.077031  0.456888   25.926112  0.192458  1.111311   \n",
       "18   14.459448  0.243839  0.890411  0.261546   34.999661  0.200264  0.845499   \n",
       "15   82.102430  0.268245  0.328126  0.716259  101.661654  0.161491  0.273926   \n",
       "16   36.580333  0.240737  0.852438  0.266042  116.171135  0.200126  0.792436   \n",
       "0     1.555383  0.293791  1.935427  0.293656    1.856544  0.249924  2.212385   \n",
       "17   10.867122  0.147365  0.946355  1.228667   15.668847  0.235957  0.942984   \n",
       "5     2.361740  0.396505  0.305203  0.715585    2.410367  0.219186  0.165790   \n",
       "3     0.308729  2.380386  0.499412  0.948869    0.322112  0.226230  0.154488   \n",
       "14   42.524388  0.168468  0.943558  1.667497   92.763715  0.356487  0.935848   \n",
       "1     1.374368  0.309479  0.322377  0.356217    1.556442  0.268827  0.184434   \n",
       "4     0.973349  0.396776  0.298970  0.582019    0.956644  0.335899  0.159762   \n",
       "2     0.583930  0.930936  1.184826  3.432361    5.541715  0.855880  2.142814   \n",
       "6     0.259739  3.858553  3.172399  3.006089    0.033284  0.115157  3.994495   \n",
       "\n",
       "      TF_opt        -logL  \n",
       "7   0.391672  2168.111862  \n",
       "21  0.440360  2168.111863  \n",
       "8   0.488813  2168.111863  \n",
       "10  0.542281  2168.111863  \n",
       "11  0.774382  2168.111863  \n",
       "12  0.609153  2168.111863  \n",
       "20  0.692754  2168.111863  \n",
       "13  0.643191  2168.111863  \n",
       "19  0.768389  2168.111863  \n",
       "9   1.077319  2168.111864  \n",
       "18  1.084962  2168.111864  \n",
       "15  0.849436  2168.111864  \n",
       "16  1.080803  2168.111864  \n",
       "0   1.253689  2168.111864  \n",
       "17  1.240931  2168.111864  \n",
       "5   1.033617  2168.111866  \n",
       "3   0.940070  2168.111867  \n",
       "14  1.714824  2168.111867  \n",
       "1   1.186481  2168.111868  \n",
       "4   1.344350  2168.111872  \n",
       "2   3.385095  2168.111883  \n",
       "6   3.371261  2173.462130  "
      ]
     },
     "execution_count": 39,
     "metadata": {},
     "output_type": "execute_result"
    }
   ],
   "source": [
    "# extract successful (i. e. converged) optimisation\n",
    "successfull_popt = [flatten(out)[:9] for out in ar_ery if out[1][4] == 0]\n",
    "\n",
    "# create data frame\n",
    "df = pd.DataFrame(data=successfull_popt, \\\n",
    "                  columns=['nuB_0', 'nuF_0', 'TB_0', 'TF_0', 'nuB_opt', 'nuF_opt', 'TB_opt', 'TF_opt', '-logL'])\n",
    "\n",
    "# sort data frame by negative log likelihood\n",
    "df.sort_values(by='-logL', ascending=True) # smaller is better"
   ]
  },
  {
   "cell_type": "markdown",
   "metadata": {},
   "source": [
    "Note, all but the last parameter combination have the same likelihood. Fairly different parameter combinations have practically identical likelihood. A reduction of the contemporary population size to 1/4 of the ancient population size is quite conistently inferred ($\\nu_F$). The ancient population size change ($\\nu_B$) is not inferred consistently. It ranges from a 186-fold increase to a reduction to 1/3 of the ancient population size."
   ]
  },
  {
   "cell_type": "code",
   "execution_count": 40,
   "metadata": {
    "collapsed": true
   },
   "outputs": [],
   "source": [
    "# remove one parameter combination with slightly lower logL than the others\n",
    "\n",
    "df = df.sort_values(by='-logL').head(-1)"
   ]
  },
  {
   "cell_type": "code",
   "execution_count": 41,
   "metadata": {
    "collapsed": true
   },
   "outputs": [],
   "source": [
    "# the time of the ancient pop size change is TB+TF\n",
    "\n",
    "df['TB+TF'] = pd.Series(df['TB_opt']+df['TF_opt'])"
   ]
  },
  {
   "cell_type": "code",
   "execution_count": 42,
   "metadata": {
    "collapsed": true
   },
   "outputs": [],
   "source": [
    "# extract columns from table\n",
    "nuB = df.loc[:,'nuB_opt']\n",
    "nuF = df.loc[:, 'nuF_opt']\n",
    "Tb_Tf = df.loc[:, 'TB+TF']\n",
    "TF = df.loc[:, 'TF_opt']"
   ]
  },
  {
   "cell_type": "code",
   "execution_count": 43,
   "metadata": {
    "collapsed": true
   },
   "outputs": [],
   "source": [
    "# turn nu (a ratio) into absolute Ne and T into generations\n",
    "\n",
    "nuB_n = nuB*N_ref_ery\n",
    "nuF_n = nuF*N_ref_ery\n",
    "Tb_Tf_g = Tb_Tf*2*N_ref_ery\n",
    "TF_g = TF*2*N_ref_ery"
   ]
  },
  {
   "cell_type": "code",
   "execution_count": 44,
   "metadata": {
    "collapsed": true
   },
   "outputs": [],
   "source": [
    "anc = [N_ref_ery] * len(nuB) # ancestral pop size\n",
    "pres = [1] * len(nuB) # 1 generation in the past\n",
    "past = [max(Tb_Tf_g)+1000] * len(nuB) # furthest time point in the past"
   ]
  },
  {
   "cell_type": "code",
   "execution_count": 45,
   "metadata": {
    "collapsed": false
   },
   "outputs": [
    {
     "data": {
      "text/plain": [
       "<matplotlib.text.Text at 0x7fb59b873390>"
      ]
     },
     "execution_count": 45,
     "metadata": {},
     "output_type": "execute_result"
    },
    {
     "data": {
      "image/png": "[encoded data removed]",
      "text/plain": [
       "<matplotlib.figure.Figure at 0x7fb59b916510>"
      ]
     },
     "metadata": {},
     "output_type": "display_data"
    }
   ],
   "source": [
    "pylab.rcParams['figure.figsize'] = [12.0, 10.0]\n",
    "pylab.rcParams['font.size'] = 12.0\n",
    "\n",
    "# plot the best 21 parameter combinations\n",
    "\n",
    "for x, y in zip(zip(past, Tb_Tf_g, Tb_Tf_g, TF_g, TF_g, pres), zip(anc, anc, nuB_n, nuB_n, nuF_n, nuF_n)):\n",
    "    pylab.semilogy(x, y)\n",
    "pylab.xlabel('generations in the past')\n",
    "pylab.ylabel('effective population size')"
   ]
  },
  {
   "cell_type": "markdown",
   "metadata": {},
   "source": [
    "This plot visualises the range of stepwise population size histories that the above parameter combinations imply (all with likelihood equal to 2168.11186). Most parameter combinations infer an ancient population size increase followed by a drastic population size collapse to less than 1/3 of the ancient population size that happened more than 400,000 generations ago. "
   ]
  },
  {
   "cell_type": "markdown",
   "metadata": {},
   "source": [
    "Are the strength of population size expansion, $(\\nu_B)^{TB}$, and the strength population size reduction, $(\\frac{1}{\\nu_F})^{TF}$, correlated with each other?"
   ]
  },
  {
   "cell_type": "code",
   "execution_count": 46,
   "metadata": {
    "collapsed": false
   },
   "outputs": [
    {
     "data": {
      "text/plain": [
       "<matplotlib.text.Text at 0x7fb599b9b690>"
      ]
     },
     "execution_count": 46,
     "metadata": {},
     "output_type": "execute_result"
    },
    {
     "data": {
      "image/png": "[encoded data removed]",
      "text/plain": [
       "<matplotlib.figure.Figure at 0x7fb59b901d50>"
      ]
     },
     "metadata": {},
     "output_type": "display_data"
    }
   ],
   "source": [
    "pylab.plot(df['nuB_opt']**df['TB_opt'], (1.0/df['nuF_opt'])**df['TF_opt'], 'bo')\n",
    "pylab.xlabel('strength of first size change')\n",
    "pylab.ylabel('strength of second size change')"
   ]
  },
  {
   "cell_type": "markdown",
   "metadata": {},
   "source": [
    "If a long period of increased population size would be correlated with a long period of decreased population size, this plot should show a positive correlation. This does not seem to be the case."
   ]
  },
  {
   "cell_type": "markdown",
   "metadata": {},
   "source": [
    "## _parallelus_"
   ]
  },
  {
   "cell_type": "code",
   "execution_count": 47,
   "metadata": {
    "collapsed": true
   },
   "outputs": [],
   "source": [
    "import dill\n",
    "\n",
    "ar_par = dill.load(open(\"OUT_three_epoch/PAR_perturb_ar_par.dill\"))\n",
    "ar_par_extreme = dill.load(open(\"OUT_three_epoch/PAR_perturb_extreme_ar_par.dill\"))"
   ]
  },
  {
   "cell_type": "code",
   "execution_count": 48,
   "metadata": {
    "collapsed": false
   },
   "outputs": [
    {
     "data": {
      "text/html": [
       "<div>\n",
       "<table border=\"1\" class=\"dataframe\">\n",
       "  <thead>\n",
       "    <tr style=\"text-align: right;\">\n",
       "      <th></th>\n",
       "      <th>nuB_0</th>\n",
       "      <th>nuF_0</th>\n",
       "      <th>TB_0</th>\n",
       "      <th>TF_0</th>\n",
       "      <th>nuB_opt</th>\n",
       "      <th>nuF_opt</th>\n",
       "      <th>TB_opt</th>\n",
       "      <th>TF_opt</th>\n",
       "      <th>-logL</th>\n",
       "    </tr>\n",
       "  </thead>\n",
       "  <tbody>\n",
       "    <tr>\n",
       "      <th>23</th>\n",
       "      <td>0.010834</td>\n",
       "      <td>0.006921</td>\n",
       "      <td>0.784781</td>\n",
       "      <td>1.005371</td>\n",
       "      <td>0.010929</td>\n",
       "      <td>0.006721</td>\n",
       "      <td>0.784020</td>\n",
       "      <td>1.005448</td>\n",
       "      <td>6925.673757</td>\n",
       "    </tr>\n",
       "    <tr>\n",
       "      <th>17</th>\n",
       "      <td>0.024233</td>\n",
       "      <td>0.009914</td>\n",
       "      <td>1.835750</td>\n",
       "      <td>3.960000</td>\n",
       "      <td>0.019881</td>\n",
       "      <td>0.008062</td>\n",
       "      <td>1.856716</td>\n",
       "      <td>3.578219</td>\n",
       "      <td>6925.673757</td>\n",
       "    </tr>\n",
       "    <tr>\n",
       "      <th>13</th>\n",
       "      <td>0.021137</td>\n",
       "      <td>0.001603</td>\n",
       "      <td>0.035116</td>\n",
       "      <td>0.201532</td>\n",
       "      <td>0.021004</td>\n",
       "      <td>0.001120</td>\n",
       "      <td>0.036850</td>\n",
       "      <td>0.197136</td>\n",
       "      <td>6925.673757</td>\n",
       "    </tr>\n",
       "    <tr>\n",
       "      <th>19</th>\n",
       "      <td>0.029536</td>\n",
       "      <td>0.006689</td>\n",
       "      <td>0.029136</td>\n",
       "      <td>0.560299</td>\n",
       "      <td>0.026678</td>\n",
       "      <td>0.006358</td>\n",
       "      <td>0.028909</td>\n",
       "      <td>0.558054</td>\n",
       "      <td>6925.673757</td>\n",
       "    </tr>\n",
       "    <tr>\n",
       "      <th>7</th>\n",
       "      <td>0.034798</td>\n",
       "      <td>0.000622</td>\n",
       "      <td>0.034582</td>\n",
       "      <td>0.378960</td>\n",
       "      <td>0.032141</td>\n",
       "      <td>0.001058</td>\n",
       "      <td>0.032899</td>\n",
       "      <td>0.358150</td>\n",
       "      <td>6925.673757</td>\n",
       "    </tr>\n",
       "    <tr>\n",
       "      <th>1</th>\n",
       "      <td>2.473569</td>\n",
       "      <td>0.361162</td>\n",
       "      <td>3.960000</td>\n",
       "      <td>0.920803</td>\n",
       "      <td>0.036822</td>\n",
       "      <td>0.001763</td>\n",
       "      <td>0.021552</td>\n",
       "      <td>0.781917</td>\n",
       "      <td>6925.673757</td>\n",
       "    </tr>\n",
       "    <tr>\n",
       "      <th>5</th>\n",
       "      <td>0.204874</td>\n",
       "      <td>0.193839</td>\n",
       "      <td>0.141559</td>\n",
       "      <td>1.090908</td>\n",
       "      <td>0.039256</td>\n",
       "      <td>0.007885</td>\n",
       "      <td>2.189611</td>\n",
       "      <td>1.059457</td>\n",
       "      <td>6925.673757</td>\n",
       "    </tr>\n",
       "    <tr>\n",
       "      <th>11</th>\n",
       "      <td>0.046882</td>\n",
       "      <td>0.005830</td>\n",
       "      <td>3.960000</td>\n",
       "      <td>3.341567</td>\n",
       "      <td>0.047762</td>\n",
       "      <td>0.004537</td>\n",
       "      <td>3.913243</td>\n",
       "      <td>3.408379</td>\n",
       "      <td>6925.673757</td>\n",
       "    </tr>\n",
       "    <tr>\n",
       "      <th>12</th>\n",
       "      <td>0.166914</td>\n",
       "      <td>0.048545</td>\n",
       "      <td>1.474589</td>\n",
       "      <td>1.333131</td>\n",
       "      <td>0.157016</td>\n",
       "      <td>0.041328</td>\n",
       "      <td>1.446743</td>\n",
       "      <td>1.347389</td>\n",
       "      <td>6925.673757</td>\n",
       "    </tr>\n",
       "    <tr>\n",
       "      <th>22</th>\n",
       "      <td>0.193470</td>\n",
       "      <td>0.050057</td>\n",
       "      <td>0.224928</td>\n",
       "      <td>3.960000</td>\n",
       "      <td>0.200351</td>\n",
       "      <td>0.040437</td>\n",
       "      <td>0.227508</td>\n",
       "      <td>3.677640</td>\n",
       "      <td>6925.673757</td>\n",
       "    </tr>\n",
       "    <tr>\n",
       "      <th>18</th>\n",
       "      <td>0.307762</td>\n",
       "      <td>0.021357</td>\n",
       "      <td>1.046228</td>\n",
       "      <td>0.472231</td>\n",
       "      <td>0.302127</td>\n",
       "      <td>0.014132</td>\n",
       "      <td>1.046629</td>\n",
       "      <td>0.492002</td>\n",
       "      <td>6925.673757</td>\n",
       "    </tr>\n",
       "    <tr>\n",
       "      <th>6</th>\n",
       "      <td>0.317086</td>\n",
       "      <td>0.007937</td>\n",
       "      <td>2.038538</td>\n",
       "      <td>1.510296</td>\n",
       "      <td>0.315879</td>\n",
       "      <td>0.007967</td>\n",
       "      <td>2.043365</td>\n",
       "      <td>1.535930</td>\n",
       "      <td>6925.673757</td>\n",
       "    </tr>\n",
       "    <tr>\n",
       "      <th>0</th>\n",
       "      <td>0.638494</td>\n",
       "      <td>0.283054</td>\n",
       "      <td>3.960000</td>\n",
       "      <td>1.212381</td>\n",
       "      <td>0.473253</td>\n",
       "      <td>0.027032</td>\n",
       "      <td>0.663347</td>\n",
       "      <td>1.317327</td>\n",
       "      <td>6925.673757</td>\n",
       "    </tr>\n",
       "    <tr>\n",
       "      <th>4</th>\n",
       "      <td>2.186779</td>\n",
       "      <td>0.569927</td>\n",
       "      <td>2.567862</td>\n",
       "      <td>2.802733</td>\n",
       "      <td>0.641334</td>\n",
       "      <td>0.104038</td>\n",
       "      <td>0.190060</td>\n",
       "      <td>3.830696</td>\n",
       "      <td>6925.673757</td>\n",
       "    </tr>\n",
       "    <tr>\n",
       "      <th>16</th>\n",
       "      <td>0.769572</td>\n",
       "      <td>0.033210</td>\n",
       "      <td>0.247868</td>\n",
       "      <td>3.960000</td>\n",
       "      <td>0.764877</td>\n",
       "      <td>0.027528</td>\n",
       "      <td>0.252798</td>\n",
       "      <td>3.601468</td>\n",
       "      <td>6925.673757</td>\n",
       "    </tr>\n",
       "    <tr>\n",
       "      <th>10</th>\n",
       "      <td>1.316761</td>\n",
       "      <td>0.306616</td>\n",
       "      <td>0.135113</td>\n",
       "      <td>2.202856</td>\n",
       "      <td>1.209182</td>\n",
       "      <td>0.114317</td>\n",
       "      <td>0.179460</td>\n",
       "      <td>3.781351</td>\n",
       "      <td>6925.673757</td>\n",
       "    </tr>\n",
       "    <tr>\n",
       "      <th>9</th>\n",
       "      <td>1.329169</td>\n",
       "      <td>0.204441</td>\n",
       "      <td>0.152604</td>\n",
       "      <td>3.960000</td>\n",
       "      <td>1.245161</td>\n",
       "      <td>0.096600</td>\n",
       "      <td>0.201465</td>\n",
       "      <td>3.859701</td>\n",
       "      <td>6925.673757</td>\n",
       "    </tr>\n",
       "    <tr>\n",
       "      <th>8</th>\n",
       "      <td>1.334913</td>\n",
       "      <td>0.025802</td>\n",
       "      <td>0.809057</td>\n",
       "      <td>2.734837</td>\n",
       "      <td>1.347579</td>\n",
       "      <td>0.022027</td>\n",
       "      <td>0.803359</td>\n",
       "      <td>2.492352</td>\n",
       "      <td>6925.673757</td>\n",
       "    </tr>\n",
       "    <tr>\n",
       "      <th>14</th>\n",
       "      <td>1.649948</td>\n",
       "      <td>0.116610</td>\n",
       "      <td>3.532943</td>\n",
       "      <td>3.960000</td>\n",
       "      <td>1.671203</td>\n",
       "      <td>0.119777</td>\n",
       "      <td>3.654009</td>\n",
       "      <td>3.865415</td>\n",
       "      <td>6925.673757</td>\n",
       "    </tr>\n",
       "    <tr>\n",
       "      <th>20</th>\n",
       "      <td>1.853563</td>\n",
       "      <td>0.115368</td>\n",
       "      <td>3.325237</td>\n",
       "      <td>2.930335</td>\n",
       "      <td>1.770115</td>\n",
       "      <td>0.084648</td>\n",
       "      <td>2.855704</td>\n",
       "      <td>3.272462</td>\n",
       "      <td>6925.673757</td>\n",
       "    </tr>\n",
       "    <tr>\n",
       "      <th>2</th>\n",
       "      <td>2.433394</td>\n",
       "      <td>0.438042</td>\n",
       "      <td>0.462081</td>\n",
       "      <td>2.612107</td>\n",
       "      <td>1.907850</td>\n",
       "      <td>0.038445</td>\n",
       "      <td>1.426696</td>\n",
       "      <td>2.480729</td>\n",
       "      <td>6925.673757</td>\n",
       "    </tr>\n",
       "    <tr>\n",
       "      <th>21</th>\n",
       "      <td>2.423076</td>\n",
       "      <td>0.059729</td>\n",
       "      <td>0.419554</td>\n",
       "      <td>3.960000</td>\n",
       "      <td>2.435674</td>\n",
       "      <td>0.059927</td>\n",
       "      <td>0.417425</td>\n",
       "      <td>3.938768</td>\n",
       "      <td>6925.673757</td>\n",
       "    </tr>\n",
       "    <tr>\n",
       "      <th>3</th>\n",
       "      <td>2.548660</td>\n",
       "      <td>0.202542</td>\n",
       "      <td>0.135508</td>\n",
       "      <td>3.459914</td>\n",
       "      <td>2.507626</td>\n",
       "      <td>0.091869</td>\n",
       "      <td>0.155196</td>\n",
       "      <td>3.829503</td>\n",
       "      <td>6925.673757</td>\n",
       "    </tr>\n",
       "    <tr>\n",
       "      <th>15</th>\n",
       "      <td>3.056074</td>\n",
       "      <td>0.139525</td>\n",
       "      <td>0.083480</td>\n",
       "      <td>3.960000</td>\n",
       "      <td>3.082088</td>\n",
       "      <td>0.113243</td>\n",
       "      <td>0.073635</td>\n",
       "      <td>3.827661</td>\n",
       "      <td>6925.673757</td>\n",
       "    </tr>\n",
       "    <tr>\n",
       "      <th>25</th>\n",
       "      <td>27.733009</td>\n",
       "      <td>0.003506</td>\n",
       "      <td>3.201122</td>\n",
       "      <td>1.346019</td>\n",
       "      <td>30.203574</td>\n",
       "      <td>0.003972</td>\n",
       "      <td>3.091384</td>\n",
       "      <td>1.362643</td>\n",
       "      <td>6925.673757</td>\n",
       "    </tr>\n",
       "    <tr>\n",
       "      <th>27</th>\n",
       "      <td>38.559230</td>\n",
       "      <td>0.005461</td>\n",
       "      <td>1.235253</td>\n",
       "      <td>3.883301</td>\n",
       "      <td>41.390244</td>\n",
       "      <td>0.005079</td>\n",
       "      <td>1.240099</td>\n",
       "      <td>3.769861</td>\n",
       "      <td>6925.673757</td>\n",
       "    </tr>\n",
       "    <tr>\n",
       "      <th>24</th>\n",
       "      <td>41.386654</td>\n",
       "      <td>0.004065</td>\n",
       "      <td>1.411848</td>\n",
       "      <td>1.871907</td>\n",
       "      <td>44.738775</td>\n",
       "      <td>0.005076</td>\n",
       "      <td>1.414354</td>\n",
       "      <td>1.917174</td>\n",
       "      <td>6925.673757</td>\n",
       "    </tr>\n",
       "    <tr>\n",
       "      <th>29</th>\n",
       "      <td>48.901243</td>\n",
       "      <td>0.028192</td>\n",
       "      <td>1.874433</td>\n",
       "      <td>1.116714</td>\n",
       "      <td>56.580841</td>\n",
       "      <td>0.030822</td>\n",
       "      <td>1.919122</td>\n",
       "      <td>1.112101</td>\n",
       "      <td>6925.673757</td>\n",
       "    </tr>\n",
       "    <tr>\n",
       "      <th>30</th>\n",
       "      <td>53.472143</td>\n",
       "      <td>0.007924</td>\n",
       "      <td>3.721429</td>\n",
       "      <td>3.367482</td>\n",
       "      <td>59.768349</td>\n",
       "      <td>0.007426</td>\n",
       "      <td>3.747301</td>\n",
       "      <td>3.356914</td>\n",
       "      <td>6925.673757</td>\n",
       "    </tr>\n",
       "    <tr>\n",
       "      <th>26</th>\n",
       "      <td>67.498147</td>\n",
       "      <td>0.015576</td>\n",
       "      <td>1.088031</td>\n",
       "      <td>3.551166</td>\n",
       "      <td>63.945996</td>\n",
       "      <td>0.014691</td>\n",
       "      <td>1.088717</td>\n",
       "      <td>3.584231</td>\n",
       "      <td>6925.673757</td>\n",
       "    </tr>\n",
       "    <tr>\n",
       "      <th>33</th>\n",
       "      <td>155.267088</td>\n",
       "      <td>0.002844</td>\n",
       "      <td>1.982512</td>\n",
       "      <td>0.713019</td>\n",
       "      <td>155.438528</td>\n",
       "      <td>0.002252</td>\n",
       "      <td>1.990211</td>\n",
       "      <td>0.713649</td>\n",
       "      <td>6925.673757</td>\n",
       "    </tr>\n",
       "    <tr>\n",
       "      <th>28</th>\n",
       "      <td>268.347228</td>\n",
       "      <td>0.036617</td>\n",
       "      <td>3.495306</td>\n",
       "      <td>2.235183</td>\n",
       "      <td>225.289543</td>\n",
       "      <td>0.032213</td>\n",
       "      <td>3.451690</td>\n",
       "      <td>2.183728</td>\n",
       "      <td>6925.673757</td>\n",
       "    </tr>\n",
       "    <tr>\n",
       "      <th>32</th>\n",
       "      <td>261.612644</td>\n",
       "      <td>0.005875</td>\n",
       "      <td>0.776384</td>\n",
       "      <td>3.960000</td>\n",
       "      <td>290.395553</td>\n",
       "      <td>0.004657</td>\n",
       "      <td>0.779946</td>\n",
       "      <td>3.904082</td>\n",
       "      <td>6925.673757</td>\n",
       "    </tr>\n",
       "    <tr>\n",
       "      <th>31</th>\n",
       "      <td>316.920444</td>\n",
       "      <td>0.007079</td>\n",
       "      <td>0.612435</td>\n",
       "      <td>3.960000</td>\n",
       "      <td>315.270535</td>\n",
       "      <td>0.005561</td>\n",
       "      <td>0.615180</td>\n",
       "      <td>3.948950</td>\n",
       "      <td>6925.673757</td>\n",
       "    </tr>\n",
       "  </tbody>\n",
       "</table>\n",
       "</div>"
      ],
      "text/plain": [
       "         nuB_0     nuF_0      TB_0      TF_0     nuB_opt   nuF_opt    TB_opt  \\\n",
       "23    0.010834  0.006921  0.784781  1.005371    0.010929  0.006721  0.784020   \n",
       "17    0.024233  0.009914  1.835750  3.960000    0.019881  0.008062  1.856716   \n",
       "13    0.021137  0.001603  0.035116  0.201532    0.021004  0.001120  0.036850   \n",
       "19    0.029536  0.006689  0.029136  0.560299    0.026678  0.006358  0.028909   \n",
       "7     0.034798  0.000622  0.034582  0.378960    0.032141  0.001058  0.032899   \n",
       "1     2.473569  0.361162  3.960000  0.920803    0.036822  0.001763  0.021552   \n",
       "5     0.204874  0.193839  0.141559  1.090908    0.039256  0.007885  2.189611   \n",
       "11    0.046882  0.005830  3.960000  3.341567    0.047762  0.004537  3.913243   \n",
       "12    0.166914  0.048545  1.474589  1.333131    0.157016  0.041328  1.446743   \n",
       "22    0.193470  0.050057  0.224928  3.960000    0.200351  0.040437  0.227508   \n",
       "18    0.307762  0.021357  1.046228  0.472231    0.302127  0.014132  1.046629   \n",
       "6     0.317086  0.007937  2.038538  1.510296    0.315879  0.007967  2.043365   \n",
       "0     0.638494  0.283054  3.960000  1.212381    0.473253  0.027032  0.663347   \n",
       "4     2.186779  0.569927  2.567862  2.802733    0.641334  0.104038  0.190060   \n",
       "16    0.769572  0.033210  0.247868  3.960000    0.764877  0.027528  0.252798   \n",
       "10    1.316761  0.306616  0.135113  2.202856    1.209182  0.114317  0.179460   \n",
       "9     1.329169  0.204441  0.152604  3.960000    1.245161  0.096600  0.201465   \n",
       "8     1.334913  0.025802  0.809057  2.734837    1.347579  0.022027  0.803359   \n",
       "14    1.649948  0.116610  3.532943  3.960000    1.671203  0.119777  3.654009   \n",
       "20    1.853563  0.115368  3.325237  2.930335    1.770115  0.084648  2.855704   \n",
       "2     2.433394  0.438042  0.462081  2.612107    1.907850  0.038445  1.426696   \n",
       "21    2.423076  0.059729  0.419554  3.960000    2.435674  0.059927  0.417425   \n",
       "3     2.548660  0.202542  0.135508  3.459914    2.507626  0.091869  0.155196   \n",
       "15    3.056074  0.139525  0.083480  3.960000    3.082088  0.113243  0.073635   \n",
       "25   27.733009  0.003506  3.201122  1.346019   30.203574  0.003972  3.091384   \n",
       "27   38.559230  0.005461  1.235253  3.883301   41.390244  0.005079  1.240099   \n",
       "24   41.386654  0.004065  1.411848  1.871907   44.738775  0.005076  1.414354   \n",
       "29   48.901243  0.028192  1.874433  1.116714   56.580841  0.030822  1.919122   \n",
       "30   53.472143  0.007924  3.721429  3.367482   59.768349  0.007426  3.747301   \n",
       "26   67.498147  0.015576  1.088031  3.551166   63.945996  0.014691  1.088717   \n",
       "33  155.267088  0.002844  1.982512  0.713019  155.438528  0.002252  1.990211   \n",
       "28  268.347228  0.036617  3.495306  2.235183  225.289543  0.032213  3.451690   \n",
       "32  261.612644  0.005875  0.776384  3.960000  290.395553  0.004657  0.779946   \n",
       "31  316.920444  0.007079  0.612435  3.960000  315.270535  0.005561  0.615180   \n",
       "\n",
       "      TF_opt        -logL  \n",
       "23  1.005448  6925.673757  \n",
       "17  3.578219  6925.673757  \n",
       "13  0.197136  6925.673757  \n",
       "19  0.558054  6925.673757  \n",
       "7   0.358150  6925.673757  \n",
       "1   0.781917  6925.673757  \n",
       "5   1.059457  6925.673757  \n",
       "11  3.408379  6925.673757  \n",
       "12  1.347389  6925.673757  \n",
       "22  3.677640  6925.673757  \n",
       "18  0.492002  6925.673757  \n",
       "6   1.535930  6925.673757  \n",
       "0   1.317327  6925.673757  \n",
       "4   3.830696  6925.673757  \n",
       "16  3.601468  6925.673757  \n",
       "10  3.781351  6925.673757  \n",
       "9   3.859701  6925.673757  \n",
       "8   2.492352  6925.673757  \n",
       "14  3.865415  6925.673757  \n",
       "20  3.272462  6925.673757  \n",
       "2   2.480729  6925.673757  \n",
       "21  3.938768  6925.673757  \n",
       "3   3.829503  6925.673757  \n",
       "15  3.827661  6925.673757  \n",
       "25  1.362643  6925.673757  \n",
       "27  3.769861  6925.673757  \n",
       "24  1.917174  6925.673757  \n",
       "29  1.112101  6925.673757  \n",
       "30  3.356914  6925.673757  \n",
       "26  3.584231  6925.673757  \n",
       "33  0.713649  6925.673757  \n",
       "28  2.183728  6925.673757  \n",
       "32  3.904082  6925.673757  \n",
       "31  3.948950  6925.673757  "
      ]
     },
     "execution_count": 48,
     "metadata": {},
     "output_type": "execute_result"
    }
   ],
   "source": [
    "# add new output to previous output\n",
    "successfull_popt = [flatten(out)[:9] for out in ar_par if out[1][4] == 0]\n",
    "successfull_popt.extend([flatten(out)[:9] for out in ar_par_extreme if out[1][4] == 0])\n",
    "\n",
    "# create data frame\n",
    "df = pd.DataFrame(data=successfull_popt, \\\n",
    "                  columns=['nuB_0', 'nuF_0', 'TB_0', 'TF_0', 'nuB_opt', 'nuF_opt', 'TB_opt', 'TF_opt', '-logL'])\n",
    "\n",
    "# sort data frame by negative log likelihood\n",
    "df.sort_values(by='nuB_opt', ascending=True)"
   ]
  },
  {
   "cell_type": "markdown",
   "metadata": {
    "collapsed": true
   },
   "source": [
    "As can be seen, extremely different population size histories have the same likelihood."
   ]
  },
  {
   "cell_type": "code",
   "execution_count": 49,
   "metadata": {
    "collapsed": false
   },
   "outputs": [
    {
     "data": {
      "text/plain": [
       "<matplotlib.text.Text at 0x7fb599b5e090>"
      ]
     },
     "execution_count": 49,
     "metadata": {},
     "output_type": "execute_result"
    },
    {
     "data": {
      "image/png": "[encoded data removed]",
      "text/plain": [
       "<matplotlib.figure.Figure at 0x7fb59bea6a50>"
      ]
     },
     "metadata": {},
     "output_type": "display_data"
    }
   ],
   "source": [
    "# add time for ancient size change\n",
    "df['TB+TF'] = pd.Series(df['TB_opt']+df['TF_opt'])\n",
    "\n",
    "# extract columns from table\n",
    "nuB = df.loc[:,'nuB_opt']\n",
    "nuF = df.loc[:, 'nuF_opt']\n",
    "Tb_Tf = df.loc[:, 'TB+TF']\n",
    "TF = df.loc[:, 'TF_opt']\n",
    "\n",
    "# turn nu into absolute Ne and T into generations\n",
    "nuB_n = nuB*N_ref_par\n",
    "nuF_n = nuF*N_ref_par\n",
    "Tb_Tf_g = Tb_Tf*2*N_ref_par\n",
    "TF_g = TF*2*N_ref_par\n",
    "\n",
    "# auxilliary\n",
    "anc = [N_ref_par] * len(nuB)\n",
    "pres = [1] * len(nuB)\n",
    "past = [max(Tb_Tf_g)+1000] * len(nuB)\n",
    "\n",
    "pylab.rcParams['figure.figsize'] = [12.0, 10.0]\n",
    "pylab.rcParams['font.size'] = 12.0\n",
    "\n",
    "for x, y in zip(zip(past, Tb_Tf_g, Tb_Tf_g, TF_g, TF_g, pres), zip(anc, anc, nuB_n, nuB_n, nuF_n, nuF_n)):\n",
    "    pylab.semilogy(x, y)\n",
    "pylab.xlabel('generations in the past')\n",
    "pylab.ylabel('effective population size')"
   ]
  },
  {
   "cell_type": "markdown",
   "metadata": {
    "collapsed": true
   },
   "source": [
    "All parameter combinations consistently show a reduction in the contemporary population size with respect to the ancient population size ($\\nu_F$). The ancient population size change is much less clear and ranges from a 300-fold increase to 100-fold reduction. Also this event is inferred to have occurred quite distant in the past, generally much more than 1 million generations ago."
   ]
  },
  {
   "cell_type": "markdown",
   "metadata": {},
   "source": [
    "# exponential growth then bottleneck model"
   ]
  },
  {
   "cell_type": "markdown",
   "metadata": {},
   "source": [
    "This model specifies exponential growth/decline toward $\\nu_B \\times N_{ref}$ during a time period of $TB \\times 2N_{ref}$ generations, after which (at time $TF \\times 2N_{ref}$) the population size undergoes an instantaneous size change to the contemporary size ($\\nu_F \\times N_{ref}$). "
   ]
  },
  {
   "cell_type": "markdown",
   "metadata": {},
   "source": [
    "## _erythropus_"
   ]
  },
  {
   "cell_type": "code",
   "execution_count": 50,
   "metadata": {
    "collapsed": false
   },
   "outputs": [],
   "source": [
    "ar_ery = dill.load(open(\"OUT_expGrowth_bottleneck/ERY_perturb_ar_ery.dill\"))"
   ]
  },
  {
   "cell_type": "code",
   "execution_count": 51,
   "metadata": {
    "collapsed": false
   },
   "outputs": [
    {
     "data": {
      "text/html": [
       "<div>\n",
       "<table border=\"1\" class=\"dataframe\">\n",
       "  <thead>\n",
       "    <tr style=\"text-align: right;\">\n",
       "      <th></th>\n",
       "      <th>nuB_0</th>\n",
       "      <th>TB_0</th>\n",
       "      <th>nuF_0</th>\n",
       "      <th>TF_0</th>\n",
       "      <th>nuB_opt</th>\n",
       "      <th>TB_opt</th>\n",
       "      <th>nuF_opt</th>\n",
       "      <th>TF_opt</th>\n",
       "      <th>-logL</th>\n",
       "    </tr>\n",
       "  </thead>\n",
       "  <tbody>\n",
       "    <tr>\n",
       "      <th>9</th>\n",
       "      <td>0.007491</td>\n",
       "      <td>0.000671</td>\n",
       "      <td>0.073788</td>\n",
       "      <td>0.316113</td>\n",
       "      <td>0.005604</td>\n",
       "      <td>0.000627</td>\n",
       "      <td>0.059733</td>\n",
       "      <td>0.358750</td>\n",
       "      <td>2167.753189</td>\n",
       "    </tr>\n",
       "    <tr>\n",
       "      <th>3</th>\n",
       "      <td>1.382766</td>\n",
       "      <td>0.241601</td>\n",
       "      <td>0.077028</td>\n",
       "      <td>0.342455</td>\n",
       "      <td>1.386752</td>\n",
       "      <td>0.220245</td>\n",
       "      <td>0.063039</td>\n",
       "      <td>0.384148</td>\n",
       "      <td>2167.753189</td>\n",
       "    </tr>\n",
       "    <tr>\n",
       "      <th>0</th>\n",
       "      <td>1.059698</td>\n",
       "      <td>0.929504</td>\n",
       "      <td>0.091952</td>\n",
       "      <td>0.788598</td>\n",
       "      <td>1.063068</td>\n",
       "      <td>0.927393</td>\n",
       "      <td>0.149945</td>\n",
       "      <td>0.767699</td>\n",
       "      <td>2167.753192</td>\n",
       "    </tr>\n",
       "    <tr>\n",
       "      <th>2</th>\n",
       "      <td>0.990318</td>\n",
       "      <td>0.428491</td>\n",
       "      <td>0.242318</td>\n",
       "      <td>0.779877</td>\n",
       "      <td>0.990106</td>\n",
       "      <td>0.434801</td>\n",
       "      <td>0.161338</td>\n",
       "      <td>0.807679</td>\n",
       "      <td>2167.753193</td>\n",
       "    </tr>\n",
       "    <tr>\n",
       "      <th>6</th>\n",
       "      <td>288.897957</td>\n",
       "      <td>0.006640</td>\n",
       "      <td>0.293071</td>\n",
       "      <td>0.649314</td>\n",
       "      <td>452.463434</td>\n",
       "      <td>0.003161</td>\n",
       "      <td>0.165810</td>\n",
       "      <td>0.825642</td>\n",
       "      <td>2167.753193</td>\n",
       "    </tr>\n",
       "    <tr>\n",
       "      <th>5</th>\n",
       "      <td>33.888463</td>\n",
       "      <td>0.009623</td>\n",
       "      <td>0.053050</td>\n",
       "      <td>0.887303</td>\n",
       "      <td>49.583040</td>\n",
       "      <td>0.007919</td>\n",
       "      <td>0.176998</td>\n",
       "      <td>0.868265</td>\n",
       "      <td>2167.753193</td>\n",
       "    </tr>\n",
       "    <tr>\n",
       "      <th>7</th>\n",
       "      <td>78.930914</td>\n",
       "      <td>0.004743</td>\n",
       "      <td>0.076432</td>\n",
       "      <td>1.054879</td>\n",
       "      <td>194.383486</td>\n",
       "      <td>0.002071</td>\n",
       "      <td>0.232022</td>\n",
       "      <td>1.057746</td>\n",
       "      <td>2167.753197</td>\n",
       "    </tr>\n",
       "    <tr>\n",
       "      <th>8</th>\n",
       "      <td>0.003391</td>\n",
       "      <td>0.014814</td>\n",
       "      <td>14.217875</td>\n",
       "      <td>1.071744</td>\n",
       "      <td>0.015980</td>\n",
       "      <td>0.000869</td>\n",
       "      <td>0.260179</td>\n",
       "      <td>1.127289</td>\n",
       "      <td>2167.753199</td>\n",
       "    </tr>\n",
       "    <tr>\n",
       "      <th>4</th>\n",
       "      <td>286.169004</td>\n",
       "      <td>0.009809</td>\n",
       "      <td>0.041980</td>\n",
       "      <td>1.157481</td>\n",
       "      <td>589.244354</td>\n",
       "      <td>0.003207</td>\n",
       "      <td>0.267345</td>\n",
       "      <td>1.168653</td>\n",
       "      <td>2167.753200</td>\n",
       "    </tr>\n",
       "    <tr>\n",
       "      <th>10</th>\n",
       "      <td>0.012323</td>\n",
       "      <td>0.001271</td>\n",
       "      <td>0.084668</td>\n",
       "      <td>3.136494</td>\n",
       "      <td>0.012072</td>\n",
       "      <td>0.001157</td>\n",
       "      <td>0.085324</td>\n",
       "      <td>3.244760</td>\n",
       "      <td>2172.825525</td>\n",
       "    </tr>\n",
       "    <tr>\n",
       "      <th>1</th>\n",
       "      <td>0.563572</td>\n",
       "      <td>2.015404</td>\n",
       "      <td>0.102770</td>\n",
       "      <td>3.277319</td>\n",
       "      <td>0.565273</td>\n",
       "      <td>2.002220</td>\n",
       "      <td>0.089449</td>\n",
       "      <td>3.131931</td>\n",
       "      <td>2172.825525</td>\n",
       "    </tr>\n",
       "  </tbody>\n",
       "</table>\n",
       "</div>"
      ],
      "text/plain": [
       "         nuB_0      TB_0      nuF_0      TF_0     nuB_opt    TB_opt   nuF_opt  \\\n",
       "9     0.007491  0.000671   0.073788  0.316113    0.005604  0.000627  0.059733   \n",
       "3     1.382766  0.241601   0.077028  0.342455    1.386752  0.220245  0.063039   \n",
       "0     1.059698  0.929504   0.091952  0.788598    1.063068  0.927393  0.149945   \n",
       "2     0.990318  0.428491   0.242318  0.779877    0.990106  0.434801  0.161338   \n",
       "6   288.897957  0.006640   0.293071  0.649314  452.463434  0.003161  0.165810   \n",
       "5    33.888463  0.009623   0.053050  0.887303   49.583040  0.007919  0.176998   \n",
       "7    78.930914  0.004743   0.076432  1.054879  194.383486  0.002071  0.232022   \n",
       "8     0.003391  0.014814  14.217875  1.071744    0.015980  0.000869  0.260179   \n",
       "4   286.169004  0.009809   0.041980  1.157481  589.244354  0.003207  0.267345   \n",
       "10    0.012323  0.001271   0.084668  3.136494    0.012072  0.001157  0.085324   \n",
       "1     0.563572  2.015404   0.102770  3.277319    0.565273  2.002220  0.089449   \n",
       "\n",
       "      TF_opt        -logL  \n",
       "9   0.358750  2167.753189  \n",
       "3   0.384148  2167.753189  \n",
       "0   0.767699  2167.753192  \n",
       "2   0.807679  2167.753193  \n",
       "6   0.825642  2167.753193  \n",
       "5   0.868265  2167.753193  \n",
       "7   1.057746  2167.753197  \n",
       "8   1.127289  2167.753199  \n",
       "4   1.168653  2167.753200  \n",
       "10  3.244760  2172.825525  \n",
       "1   3.131931  2172.825525  "
      ]
     },
     "execution_count": 51,
     "metadata": {},
     "output_type": "execute_result"
    }
   ],
   "source": [
    "success = [flatten(out)[:9] for out in ar_ery if out[1][4] == 0]\n",
    "\n",
    "df = pd.DataFrame(data=success, \\\n",
    "                  columns=['nuB_0','TB_0', 'nuF_0', 'TF_0', 'nuB_opt', 'TB_opt', 'nuF_opt', 'TF_opt', '-logL'])\n",
    "\n",
    "df.sort_values(by='-logL', ascending=True)"
   ]
  },
  {
   "cell_type": "markdown",
   "metadata": {
    "collapsed": true
   },
   "source": [
    "Except for the last two, all optimal parameter combinations have the same likelihood and they do not deviate much from their respective initial values. In all successful optimisations above, $\\nu_F$, the ratio of contemporary population size to ancient population size, converges to a value below 1/3. I think an ancient size increase or decrease cannot be inferred."
   ]
  },
  {
   "cell_type": "code",
   "execution_count": 52,
   "metadata": {
    "collapsed": false
   },
   "outputs": [
    {
     "data": {
      "text/plain": [
       "<matplotlib.text.Text at 0x7fb598f98610>"
      ]
     },
     "execution_count": 52,
     "metadata": {},
     "output_type": "execute_result"
    },
    {
     "data": {
      "image/png": "[encoded data removed]",
      "text/plain": [
       "<matplotlib.figure.Figure at 0x7fb59be917d0>"
      ]
     },
     "metadata": {},
     "output_type": "display_data"
    }
   ],
   "source": [
    "F = df[df['-logL'] < 2172].loc[:,['nuF_opt', 'TF_opt']]\n",
    "\n",
    "pylab.plot(F['TF_opt']*2*N_ref_ery, F['nuF_opt']*N_ref_ery, 'bo')\n",
    "pylab.xlabel('generations')\n",
    "pylab.ylabel('contemporary pop. size')"
   ]
  },
  {
   "cell_type": "markdown",
   "metadata": {},
   "source": [
    "There is a clear linear correlation between the size of the inferred contemporary population size ($\\nu_F \\times N_{ref}$) and the time ($TF$) for which the population has been at this size."
   ]
  },
  {
   "cell_type": "markdown",
   "metadata": {},
   "source": [
    "## _parallelus_"
   ]
  },
  {
   "cell_type": "code",
   "execution_count": 155,
   "metadata": {
    "collapsed": true
   },
   "outputs": [],
   "source": [
    "ar_par = dill.load(open(\"OUT_expGrowth_bottleneck/PAR_perturb_ar_ery.dill\"))"
   ]
  },
  {
   "cell_type": "code",
   "execution_count": 156,
   "metadata": {
    "collapsed": false
   },
   "outputs": [
    {
     "data": {
      "text/html": [
       "<div>\n",
       "<table border=\"1\" class=\"dataframe\">\n",
       "  <thead>\n",
       "    <tr style=\"text-align: right;\">\n",
       "      <th></th>\n",
       "      <th>nuB_0</th>\n",
       "      <th>TB_0</th>\n",
       "      <th>nuF_0</th>\n",
       "      <th>TF_0</th>\n",
       "      <th>nuB_opt</th>\n",
       "      <th>TB_opt</th>\n",
       "      <th>nuF_opt</th>\n",
       "      <th>TF_opt</th>\n",
       "      <th>-logL</th>\n",
       "    </tr>\n",
       "  </thead>\n",
       "  <tbody>\n",
       "    <tr>\n",
       "      <th>5</th>\n",
       "      <td>0.472403</td>\n",
       "      <td>0.070881</td>\n",
       "      <td>0.011387</td>\n",
       "      <td>1.288252</td>\n",
       "      <td>0.469248</td>\n",
       "      <td>0.072113</td>\n",
       "      <td>0.008440</td>\n",
       "      <td>1.280387</td>\n",
       "      <td>6929.444306</td>\n",
       "    </tr>\n",
       "    <tr>\n",
       "      <th>8</th>\n",
       "      <td>1.768930</td>\n",
       "      <td>0.036260</td>\n",
       "      <td>0.042468</td>\n",
       "      <td>0.370434</td>\n",
       "      <td>1.776229</td>\n",
       "      <td>0.035834</td>\n",
       "      <td>0.007350</td>\n",
       "      <td>0.503654</td>\n",
       "      <td>6929.444306</td>\n",
       "    </tr>\n",
       "    <tr>\n",
       "      <th>1</th>\n",
       "      <td>3.709310</td>\n",
       "      <td>0.265380</td>\n",
       "      <td>0.289571</td>\n",
       "      <td>0.800686</td>\n",
       "      <td>0.614397</td>\n",
       "      <td>0.052903</td>\n",
       "      <td>0.018110</td>\n",
       "      <td>1.197595</td>\n",
       "      <td>6929.444306</td>\n",
       "    </tr>\n",
       "    <tr>\n",
       "      <th>2</th>\n",
       "      <td>0.218420</td>\n",
       "      <td>0.156013</td>\n",
       "      <td>0.020085</td>\n",
       "      <td>0.364053</td>\n",
       "      <td>0.229155</td>\n",
       "      <td>0.156113</td>\n",
       "      <td>0.006889</td>\n",
       "      <td>0.410683</td>\n",
       "      <td>6929.444306</td>\n",
       "    </tr>\n",
       "    <tr>\n",
       "      <th>6</th>\n",
       "      <td>1.358809</td>\n",
       "      <td>0.154517</td>\n",
       "      <td>0.008247</td>\n",
       "      <td>2.280554</td>\n",
       "      <td>1.385853</td>\n",
       "      <td>0.144384</td>\n",
       "      <td>0.011778</td>\n",
       "      <td>2.240702</td>\n",
       "      <td>6929.444306</td>\n",
       "    </tr>\n",
       "    <tr>\n",
       "      <th>9</th>\n",
       "      <td>0.732430</td>\n",
       "      <td>0.016699</td>\n",
       "      <td>0.033366</td>\n",
       "      <td>0.677204</td>\n",
       "      <td>0.728324</td>\n",
       "      <td>0.018477</td>\n",
       "      <td>0.016094</td>\n",
       "      <td>0.702511</td>\n",
       "      <td>6929.444306</td>\n",
       "    </tr>\n",
       "    <tr>\n",
       "      <th>3</th>\n",
       "      <td>0.218059</td>\n",
       "      <td>0.181408</td>\n",
       "      <td>0.026684</td>\n",
       "      <td>1.834435</td>\n",
       "      <td>0.213655</td>\n",
       "      <td>0.184490</td>\n",
       "      <td>0.022174</td>\n",
       "      <td>1.819735</td>\n",
       "      <td>6929.444306</td>\n",
       "    </tr>\n",
       "    <tr>\n",
       "      <th>4</th>\n",
       "      <td>0.459281</td>\n",
       "      <td>0.034909</td>\n",
       "      <td>0.015712</td>\n",
       "      <td>0.441546</td>\n",
       "      <td>0.479841</td>\n",
       "      <td>0.037059</td>\n",
       "      <td>0.010306</td>\n",
       "      <td>0.448867</td>\n",
       "      <td>6929.444306</td>\n",
       "    </tr>\n",
       "    <tr>\n",
       "      <th>7</th>\n",
       "      <td>1.197897</td>\n",
       "      <td>0.020329</td>\n",
       "      <td>0.023638</td>\n",
       "      <td>2.330702</td>\n",
       "      <td>1.199745</td>\n",
       "      <td>0.018330</td>\n",
       "      <td>0.018651</td>\n",
       "      <td>2.246834</td>\n",
       "      <td>6929.444306</td>\n",
       "    </tr>\n",
       "    <tr>\n",
       "      <th>11</th>\n",
       "      <td>1.903343</td>\n",
       "      <td>0.019700</td>\n",
       "      <td>0.034356</td>\n",
       "      <td>0.722134</td>\n",
       "      <td>1.901370</td>\n",
       "      <td>0.018326</td>\n",
       "      <td>0.017947</td>\n",
       "      <td>0.745342</td>\n",
       "      <td>6929.444306</td>\n",
       "    </tr>\n",
       "    <tr>\n",
       "      <th>10</th>\n",
       "      <td>1.316753</td>\n",
       "      <td>0.098304</td>\n",
       "      <td>0.017726</td>\n",
       "      <td>0.607624</td>\n",
       "      <td>1.316912</td>\n",
       "      <td>0.097550</td>\n",
       "      <td>0.014601</td>\n",
       "      <td>0.608083</td>\n",
       "      <td>6929.444306</td>\n",
       "    </tr>\n",
       "    <tr>\n",
       "      <th>0</th>\n",
       "      <td>0.830906</td>\n",
       "      <td>0.406732</td>\n",
       "      <td>0.314983</td>\n",
       "      <td>2.854260</td>\n",
       "      <td>0.844383</td>\n",
       "      <td>0.541158</td>\n",
       "      <td>0.151917</td>\n",
       "      <td>4.945685</td>\n",
       "      <td>6929.444306</td>\n",
       "    </tr>\n",
       "  </tbody>\n",
       "</table>\n",
       "</div>"
      ],
      "text/plain": [
       "       nuB_0      TB_0     nuF_0      TF_0   nuB_opt    TB_opt   nuF_opt  \\\n",
       "5   0.472403  0.070881  0.011387  1.288252  0.469248  0.072113  0.008440   \n",
       "8   1.768930  0.036260  0.042468  0.370434  1.776229  0.035834  0.007350   \n",
       "1   3.709310  0.265380  0.289571  0.800686  0.614397  0.052903  0.018110   \n",
       "2   0.218420  0.156013  0.020085  0.364053  0.229155  0.156113  0.006889   \n",
       "6   1.358809  0.154517  0.008247  2.280554  1.385853  0.144384  0.011778   \n",
       "9   0.732430  0.016699  0.033366  0.677204  0.728324  0.018477  0.016094   \n",
       "3   0.218059  0.181408  0.026684  1.834435  0.213655  0.184490  0.022174   \n",
       "4   0.459281  0.034909  0.015712  0.441546  0.479841  0.037059  0.010306   \n",
       "7   1.197897  0.020329  0.023638  2.330702  1.199745  0.018330  0.018651   \n",
       "11  1.903343  0.019700  0.034356  0.722134  1.901370  0.018326  0.017947   \n",
       "10  1.316753  0.098304  0.017726  0.607624  1.316912  0.097550  0.014601   \n",
       "0   0.830906  0.406732  0.314983  2.854260  0.844383  0.541158  0.151917   \n",
       "\n",
       "      TF_opt        -logL  \n",
       "5   1.280387  6929.444306  \n",
       "8   0.503654  6929.444306  \n",
       "1   1.197595  6929.444306  \n",
       "2   0.410683  6929.444306  \n",
       "6   2.240702  6929.444306  \n",
       "9   0.702511  6929.444306  \n",
       "3   1.819735  6929.444306  \n",
       "4   0.448867  6929.444306  \n",
       "7   2.246834  6929.444306  \n",
       "11  0.745342  6929.444306  \n",
       "10  0.608083  6929.444306  \n",
       "0   4.945685  6929.444306  "
      ]
     },
     "execution_count": 156,
     "metadata": {},
     "output_type": "execute_result"
    }
   ],
   "source": [
    "success = [flatten(out)[:9] for out in ar_par if out[1][4] == 0]\n",
    "\n",
    "df = pd.DataFrame(data=success, \\\n",
    "                  columns=['nuB_0','TB_0', 'nuF_0', 'TF_0', 'nuB_opt', 'TB_opt', 'nuF_opt', 'TF_opt', '-logL'])\n",
    "\n",
    "df.sort_values(by='-logL', ascending=True)"
   ]
  },
  {
   "cell_type": "markdown",
   "metadata": {},
   "source": [
    "Often, but not always are optimal parameter values close to their respective initial values. All optimal parameter combinations have the same likelihood. Only a recent (stepwise) population decrease is consistently inferred ($\\nu_F$)."
   ]
  },
  {
   "cell_type": "code",
   "execution_count": 161,
   "metadata": {
    "collapsed": false
   },
   "outputs": [
    {
     "data": {
      "text/plain": [
       "<matplotlib.text.Text at 0x7f5fc64df3d0>"
      ]
     },
     "execution_count": 161,
     "metadata": {},
     "output_type": "execute_result"
    },
    {
     "data": {
      "image/png": "[encoded data removed]",
      "text/plain": [
       "<matplotlib.figure.Figure at 0x7f5fc6787bd0>"
      ]
     },
     "metadata": {},
     "output_type": "display_data"
    }
   ],
   "source": [
    "F = df[df['TF_opt'] < 3].loc[:,['nuF_opt', 'TF_opt']]\n",
    "\n",
    "pylab.plot(F['TF_opt']*2*N_ref_par, F['nuF_opt']*N_ref_par, 'bo')\n",
    "pylab.xlabel('TF generations')\n",
    "pylab.ylabel('contemporary pop. size')"
   ]
  },
  {
   "cell_type": "markdown",
   "metadata": {},
   "source": [
    "There could be a linear correlation between the duration of population size reduction and the size of the reduction, but it's weaker than for _erythropus_."
   ]
  },
  {
   "cell_type": "markdown",
   "metadata": {
    "collapsed": true
   },
   "source": [
    "# Conclusion"
   ]
  },
  {
   "cell_type": "markdown",
   "metadata": {},
   "source": [
    "Not much can be inferred from the 1D spectra of both _erythropus_ and _parallelus_. However, the dadi optimisations have consistently suggested a population size reduction more than 400,000 generations ago to less than 1/3 of the ancient population size. The reduction seems to have been much stronger in _parallelus_ than in _erythropus_."
   ]
  },
  {
   "cell_type": "code",
   "execution_count": null,
   "metadata": {
    "collapsed": true
   },
   "outputs": [],
   "source": []
  }
 ],
 "metadata": {
  "anaconda-cloud": {},
  "kernelspec": {
   "display_name": "Python [default]",
   "language": "python",
   "name": "python2"
  },
  "language_info": {
   "codemirror_mode": {
    "name": "ipython",
    "version": 2
   },
   "file_extension": ".py",
   "mimetype": "text/x-python",
   "name": "python",
   "nbconvert_exporter": "python",
   "pygments_lexer": "ipython2",
   "version": "2.7.12"
  },
  "toc": {
   "colors": {
    "hover_highlight": "#DAA520",
    "running_highlight": "#FF0000",
    "selected_highlight": "#FFD700"
   },
   "moveMenuLeft": true,
   "nav_menu": {
    "height": "195px",
    "width": "252px"
   },
   "navigate_menu": true,
   "number_sections": true,
   "sideBar": true,
   "threshold": 4,
   "toc_cell": true,
   "toc_section_display": "block",
   "toc_window_display": true
  }
 },
 "nbformat": 4,
 "nbformat_minor": 0
}
