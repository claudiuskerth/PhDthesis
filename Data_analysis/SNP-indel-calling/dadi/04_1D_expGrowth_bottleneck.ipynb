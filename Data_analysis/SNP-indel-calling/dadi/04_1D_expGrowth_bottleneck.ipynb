{
 "cells": [
  {
   "cell_type": "markdown",
   "metadata": {
    "toc": "true"
   },
   "source": [
    "# Table of Contents\n",
    " <p><div class=\"lev1 toc-item\"><a data-toc-modified-id=\"define-exp.-growth,-then-bottleneck-model-function-1\" href=\"#define-exp.-growth,-then-bottleneck-model-function\"><span class=\"toc-item-num\">1&nbsp;&nbsp;</span>define exp. growth, then bottleneck model function</a></div><div class=\"lev2 toc-item\"><a data-toc-modified-id=\"parallelus-11\" href=\"#parallelus\"><span class=\"toc-item-num\">1.1&nbsp;&nbsp;</span><em>parallelus</em></a></div>"
   ]
  },
  {
   "cell_type": "code",
   "execution_count": 1,
   "metadata": {
    "collapsed": false
   },
   "outputs": [
    {
     "data": {
      "text/plain": [
       "[0, 1, 2, 3, 4, 6, 7, 8, 10, 11, 12, 13, 14, 15, 16, 17, 18, 19]"
      ]
     },
     "execution_count": 1,
     "metadata": {},
     "output_type": "execute_result"
    }
   ],
   "source": [
    "from ipyparallel import Client\n",
    "\n",
    "cl = Client()\n",
    "\n",
    "cl.ids"
   ]
  },
  {
   "cell_type": "code",
   "execution_count": 37,
   "metadata": {
    "collapsed": true
   },
   "outputs": [],
   "source": [
    "%%px --local\n",
    "\n",
    "# run whole cell on all engines a well as in the local IPython session\n",
    "\n",
    "import numpy # dadi calls numpy (not np)\n",
    "\n",
    "import sys\n",
    "\n",
    "sys.path.insert(0, '/home/claudius/Downloads/dadi')\n",
    "\n",
    "import dadi"
   ]
  },
  {
   "cell_type": "markdown",
   "metadata": {},
   "source": [
    "I am going to use unfolded spectra from ANGSD that are folded in dadi."
   ]
  },
  {
   "cell_type": "code",
   "execution_count": 3,
   "metadata": {
    "collapsed": true
   },
   "outputs": [],
   "source": [
    "%%px --local\n",
    "\n",
    "# import 1D spectrum of ery on all engines:\n",
    "fs_ery = dadi.Spectrum.from_file('ERY.unfolded.sfs').fold()\n",
    "\n",
    "# import 1D spectrum of ery on all engines:\n",
    "fs_par = dadi.Spectrum.from_file('PAR.unfolded.sfs').fold()"
   ]
  },
  {
   "cell_type": "markdown",
   "metadata": {},
   "source": [
    "# define exp. growth, then bottleneck model function"
   ]
  },
  {
   "cell_type": "code",
   "execution_count": 15,
   "metadata": {
    "collapsed": true
   },
   "outputs": [],
   "source": [
    "%psource dadi.Demographics1D.growth"
   ]
  },
  {
   "cell_type": "code",
   "execution_count": 23,
   "metadata": {
    "collapsed": true
   },
   "outputs": [],
   "source": [
    "%%px --local\n",
    "\n",
    "def expGrowth_bottleneck(params, ns, pts):\n",
    "    \"\"\"\n",
    "    exponential growth followed by instantanous size change.\n",
    "\n",
    "    params = (nuB,TB,nuF,TF)\n",
    "    ns = (n1,)\n",
    "\n",
    "    nuB: Ratio of population size after exponential growth to ancient\n",
    "         population size\n",
    "    nuF: Ratio of contemporary to ancient population size\n",
    "    TB: Time during which exponential growth happened\n",
    "       (in units of 2*Na generations) \n",
    "    TF: Time in the past at which instantanous size change happened (after exp. growth)\n",
    "    n1: Number of samples in resulting Spectrum\n",
    "    pts: Number of grid points to use in integration.\n",
    "    \"\"\"\n",
    "    nuB,TB,nuF,TF = params\n",
    "\n",
    "    xx = dadi.Numerics.default_grid(pts)\n",
    "    phi = dadi.PhiManip.phi_1D(xx)\n",
    "\n",
    "    nu_func = lambda t: numpy.exp(numpy.log(nuB) * t/TB)\n",
    "    phi = dadi.Integration.one_pop(phi, xx, TB, nu_func)\n",
    "    \n",
    "    phi = dadi.Integration.one_pop(phi, xx, TF, nuF)\n",
    "\n",
    "    fs = dadi.Spectrum.from_phi(phi, ns, (xx,))\n",
    "    return fs"
   ]
  },
  {
   "cell_type": "markdown",
   "metadata": {},
   "source": [
    "This model specifies exponential growth/decline toward $\\nu_B$ for some time $TB$, after which the population size undergoes an instantaneous size change to the contemporary size (ratio with $N_{ref}$). "
   ]
  },
  {
   "cell_type": "code",
   "execution_count": 24,
   "metadata": {
    "collapsed": false
   },
   "outputs": [],
   "source": [
    "%%px --local\n",
    "\n",
    "# create link to function that specifies the model\n",
    "func = expGrowth_bottleneck\n",
    "\n",
    "# create extrapolating version of the model function\n",
    "func_ex = dadi.Numerics.make_extrap_log_func(func)"
   ]
  },
  {
   "cell_type": "code",
   "execution_count": 33,
   "metadata": {
    "collapsed": true
   },
   "outputs": [],
   "source": [
    "%%px\n",
    "\n",
    "# set up global variables on engines required for run_dadi function call\n",
    "\n",
    "dadi_opt_func = dadi.Inference.optimize_log_fmin # uses Nelder-Mead algorithm\n",
    "sfs = fs_ery # use ERY spectrum\n",
    "perturb = True\n",
    "fold = 2 # perturb randomly up to 6-fold\n",
    "maxiter = 100 # run a maximum of 100 iterations\n",
    "verbose = 0\n",
    "full_output = True # need to have full output to get the warnflags (see below)\n",
    "outname = \"OUT_expGrowth_bottleneck/ERY_perturb\" # set file name stub for opt. result files\n",
    "\n",
    "# set lower and upper bounds to nu and T\n",
    "upper_bound = [1e4, 5, 1e4, 5]\n",
    "lower_bound = [1e-4, 0, 1e-4, 0]\n",
    "\n",
    "ns = fs_ery.sample_sizes # both populations have the same sample size\n",
    "\n",
    "fs_ery.pop_ids = ['ery']\n",
    "fs_par.pop_ids = ['par']\n",
    "\n",
    "# setting the smallest grid size slightly larger than the largest population sample size (36)\n",
    "pts_l = [40, 50, 60]"
   ]
  },
  {
   "cell_type": "code",
   "execution_count": 26,
   "metadata": {
    "collapsed": true
   },
   "outputs": [],
   "source": [
    "lbview = cl.load_balanced_view()"
   ]
  },
  {
   "cell_type": "code",
   "execution_count": 27,
   "metadata": {
    "collapsed": true
   },
   "outputs": [],
   "source": [
    "def run_dadi(p_init): # for the function to be called with map, it needs to have one input variable\n",
    "    \"\"\"\n",
    "    p_init: initial parameter values to run optimisation from\n",
    "    \"\"\"\n",
    "    if perturb == True:\n",
    "        p_init = dadi.Misc.perturb_params(p_init, fold=fold, \n",
    "                                      upper_bound=upper_bound, lower_bound=lower_bound)\n",
    "        # note upper_bound and lower_bound variables are expected to be in the namespace of each engine\n",
    "    # run optimisation of paramters\n",
    "    popt = dadi_opt_func(p0=p_init, data=sfs, model_func=func_ex, pts=pts_l, \\\n",
    "                                   lower_bound=lower_bound, upper_bound=upper_bound, \\\n",
    "                                   verbose=verbose, maxiter=maxiter, full_output=full_output)\n",
    "    # pickle to file\n",
    "    import dill\n",
    "    name = outname[:] # make copy of file name stub!\n",
    "    for p in p_init:\n",
    "        name += \"_%.4f\" % (p)\n",
    "    with open(name + \".dill\", \"w\") as fh:\n",
    "        dill.dump((p_init, popt), fh)\n",
    "    \n",
    "    return p_init, popt"
   ]
  },
  {
   "cell_type": "code",
   "execution_count": 28,
   "metadata": {
    "collapsed": true
   },
   "outputs": [],
   "source": [
    "from itertools import repeat"
   ]
  },
  {
   "cell_type": "code",
   "execution_count": 38,
   "metadata": {
    "collapsed": true
   },
   "outputs": [],
   "source": [
    "# perturb parameter neutral values\n",
    "p0 = [1, 1, 1, 1]\n",
    "\n",
    "ar_ery_1 = lbview.map(run_dadi, repeat(p0, 10), block=False, order=True)"
   ]
  },
  {
   "cell_type": "code",
   "execution_count": 40,
   "metadata": {
    "collapsed": true
   },
   "outputs": [],
   "source": [
    "def get_flag_count(out, NM=True):\n",
    "    \"\"\"\n",
    "    out: list of tuples, each containing p_init and popt + additional info, including warnflags\n",
    "    as produced by run_dadi.py\n",
    "    \"\"\"\n",
    "    from collections import defaultdict\n",
    "    \n",
    "    if NM: # if ar from Nelder-Mead\n",
    "        i = 4 # the warnflag is reported at index position 4 in the output array\n",
    "    else: # ar from BFGS optimisation\n",
    "        i = 6\n",
    "    \n",
    "    warnflag = defaultdict(int)\n",
    "\n",
    "    for res in out:\n",
    "        if res[1][i] == 1: # notice the change in indexing\n",
    "            warnflag[1] +=1\n",
    "        elif res[1][i] == 2:\n",
    "            warnflag[2] += 1\n",
    "        elif res[1][i] == 0:\n",
    "            warnflag[0] += 1\n",
    "        else:\n",
    "            warnflag[999] +=1\n",
    "    if NM:\n",
    "        print \"success\", warnflag[0]\n",
    "        print \"Maximum number of function evaluations made.\", warnflag[1]\n",
    "        print \"Maximum number of iterations reached.\", warnflag[2]\n",
    "        print \"unknown flag\", warnflag[999]\n",
    "    else:\n",
    "        print \"success\", warnflag[0]\n",
    "        print \"Maximum number of iterations exceeded.\", warnflag[1]\n",
    "        print \"Gradient and/or function calls not changing.\", warnflag[2]\n",
    "        print \"unknown flag\", warnflag[999]"
   ]
  },
  {
   "cell_type": "code",
   "execution_count": 41,
   "metadata": {
    "collapsed": false
   },
   "outputs": [
    {
     "name": "stdout",
     "output_type": "stream",
     "text": [
      "success 1\n",
      "Maximum number of function evaluations made. 0\n",
      "Maximum number of iterations reached. 9\n",
      "unknown flag 0\n"
     ]
    }
   ],
   "source": [
    "get_flag_count(ar_ery_1, NM=True)"
   ]
  },
  {
   "cell_type": "code",
   "execution_count": 42,
   "metadata": {
    "collapsed": true
   },
   "outputs": [],
   "source": [
    "def flatten(array):\n",
    "    \"\"\"\n",
    "        Returns a list of flattened elements of every inner lists (or tuples)\n",
    "        ****RECURSIVE****\n",
    "    \"\"\"\n",
    "    import numpy\n",
    "    res = []\n",
    "    for el in array:\n",
    "        if isinstance(el, (list, tuple, numpy.ndarray)):\n",
    "            res.extend(flatten(el))\n",
    "            continue\n",
    "        res.append(el)\n",
    "    return list( res )"
   ]
  },
  {
   "cell_type": "code",
   "execution_count": 51,
   "metadata": {
    "collapsed": true
   },
   "outputs": [],
   "source": [
    "success = [flatten(out)[:9] for out in ar_ery_1 if out[1][4] == 0]"
   ]
  },
  {
   "cell_type": "code",
   "execution_count": 52,
   "metadata": {
    "collapsed": true
   },
   "outputs": [],
   "source": [
    "import pandas as pd"
   ]
  },
  {
   "cell_type": "code",
   "execution_count": 53,
   "metadata": {
    "collapsed": false
   },
   "outputs": [
    {
     "data": {
      "text/html": [
       "<div>\n",
       "<table border=\"1\" class=\"dataframe\">\n",
       "  <thead>\n",
       "    <tr style=\"text-align: right;\">\n",
       "      <th></th>\n",
       "      <th>nuB_0</th>\n",
       "      <th>TB_0</th>\n",
       "      <th>nuF_0</th>\n",
       "      <th>TF_0</th>\n",
       "      <th>nuB_opt</th>\n",
       "      <th>TB_opt</th>\n",
       "      <th>nuF_opt</th>\n",
       "      <th>TF_opt</th>\n",
       "      <th>-logL</th>\n",
       "    </tr>\n",
       "  </thead>\n",
       "  <tbody>\n",
       "    <tr>\n",
       "      <th>0</th>\n",
       "      <td>1.263052</td>\n",
       "      <td>0.865659</td>\n",
       "      <td>0.340853</td>\n",
       "      <td>0.347439</td>\n",
       "      <td>1.384605</td>\n",
       "      <td>0.803309</td>\n",
       "      <td>0.289043</td>\n",
       "      <td>1.267706</td>\n",
       "      <td>2167.753201</td>\n",
       "    </tr>\n",
       "  </tbody>\n",
       "</table>\n",
       "</div>"
      ],
      "text/plain": [
       "      nuB_0      TB_0     nuF_0      TF_0   nuB_opt    TB_opt   nuF_opt  \\\n",
       "0  1.263052  0.865659  0.340853  0.347439  1.384605  0.803309  0.289043   \n",
       "\n",
       "     TF_opt        -logL  \n",
       "0  1.267706  2167.753201  "
      ]
     },
     "execution_count": 53,
     "metadata": {},
     "output_type": "execute_result"
    }
   ],
   "source": [
    "df = pd.DataFrame(data=success, \\\n",
    "                  columns=['nuB_0','TB_0', 'nuF_0', 'TF_0', 'nuB_opt', 'TB_opt', 'nuF_opt', 'TF_opt', '-logL'])\n",
    "\n",
    "df.sort_values(by='-logL', ascending=True)"
   ]
  },
  {
   "cell_type": "code",
   "execution_count": 54,
   "metadata": {
    "collapsed": false
   },
   "outputs": [
    {
     "name": "stdout",
     "output_type": "stream",
     "text": [
      "[1.3846053356142007, 0.8033093178294235, 0.28904322070927396, 1.2677064459192211]\n"
     ]
    }
   ],
   "source": [
    "print success[0][4:8]"
   ]
  },
  {
   "cell_type": "code",
   "execution_count": 55,
   "metadata": {
    "collapsed": true
   },
   "outputs": [],
   "source": [
    "# perturb previous optimal parameter combination\n",
    "p0 = success[0][4:8]\n",
    "\n",
    "ar_ery_1 = lbview.map(run_dadi, repeat(p0, 10), block=False, order=True)"
   ]
  },
  {
   "cell_type": "code",
   "execution_count": 56,
   "metadata": {
    "collapsed": false
   },
   "outputs": [
    {
     "name": "stdout",
     "output_type": "stream",
     "text": [
      "success 4\n",
      "Maximum number of function evaluations made. 0\n",
      "Maximum number of iterations reached. 6\n",
      "unknown flag 0\n"
     ]
    }
   ],
   "source": [
    "get_flag_count(ar_ery_1, NM=True)"
   ]
  },
  {
   "cell_type": "code",
   "execution_count": 57,
   "metadata": {
    "collapsed": false
   },
   "outputs": [
    {
     "data": {
      "text/html": [
       "<div>\n",
       "<table border=\"1\" class=\"dataframe\">\n",
       "  <thead>\n",
       "    <tr style=\"text-align: right;\">\n",
       "      <th></th>\n",
       "      <th>nuB_0</th>\n",
       "      <th>TB_0</th>\n",
       "      <th>nuF_0</th>\n",
       "      <th>TF_0</th>\n",
       "      <th>nuB_opt</th>\n",
       "      <th>TB_opt</th>\n",
       "      <th>nuF_opt</th>\n",
       "      <th>TF_opt</th>\n",
       "      <th>-logL</th>\n",
       "    </tr>\n",
       "  </thead>\n",
       "  <tbody>\n",
       "    <tr>\n",
       "      <th>3</th>\n",
       "      <td>1.382766</td>\n",
       "      <td>0.241601</td>\n",
       "      <td>0.077028</td>\n",
       "      <td>0.342455</td>\n",
       "      <td>1.386752</td>\n",
       "      <td>0.220245</td>\n",
       "      <td>0.063039</td>\n",
       "      <td>0.384148</td>\n",
       "      <td>2167.753189</td>\n",
       "    </tr>\n",
       "    <tr>\n",
       "      <th>0</th>\n",
       "      <td>1.059698</td>\n",
       "      <td>0.929504</td>\n",
       "      <td>0.091952</td>\n",
       "      <td>0.788598</td>\n",
       "      <td>1.063068</td>\n",
       "      <td>0.927393</td>\n",
       "      <td>0.149945</td>\n",
       "      <td>0.767699</td>\n",
       "      <td>2167.753192</td>\n",
       "    </tr>\n",
       "    <tr>\n",
       "      <th>2</th>\n",
       "      <td>0.990318</td>\n",
       "      <td>0.428491</td>\n",
       "      <td>0.242318</td>\n",
       "      <td>0.779877</td>\n",
       "      <td>0.990106</td>\n",
       "      <td>0.434801</td>\n",
       "      <td>0.161338</td>\n",
       "      <td>0.807679</td>\n",
       "      <td>2167.753193</td>\n",
       "    </tr>\n",
       "    <tr>\n",
       "      <th>1</th>\n",
       "      <td>0.563572</td>\n",
       "      <td>2.015404</td>\n",
       "      <td>0.102770</td>\n",
       "      <td>3.277319</td>\n",
       "      <td>0.565273</td>\n",
       "      <td>2.002220</td>\n",
       "      <td>0.089449</td>\n",
       "      <td>3.131931</td>\n",
       "      <td>2172.825525</td>\n",
       "    </tr>\n",
       "  </tbody>\n",
       "</table>\n",
       "</div>"
      ],
      "text/plain": [
       "      nuB_0      TB_0     nuF_0      TF_0   nuB_opt    TB_opt   nuF_opt  \\\n",
       "3  1.382766  0.241601  0.077028  0.342455  1.386752  0.220245  0.063039   \n",
       "0  1.059698  0.929504  0.091952  0.788598  1.063068  0.927393  0.149945   \n",
       "2  0.990318  0.428491  0.242318  0.779877  0.990106  0.434801  0.161338   \n",
       "1  0.563572  2.015404  0.102770  3.277319  0.565273  2.002220  0.089449   \n",
       "\n",
       "     TF_opt        -logL  \n",
       "3  0.384148  2167.753189  \n",
       "0  0.767699  2167.753192  \n",
       "2  0.807679  2167.753193  \n",
       "1  3.131931  2172.825525  "
      ]
     },
     "execution_count": 57,
     "metadata": {},
     "output_type": "execute_result"
    }
   ],
   "source": [
    "success = [flatten(out)[:9] for out in ar_ery_1 if out[1][4] == 0]\n",
    "\n",
    "df = pd.DataFrame(data=success, \\\n",
    "                  columns=['nuB_0','TB_0', 'nuF_0', 'TF_0', 'nuB_opt', 'TB_opt', 'nuF_opt', 'TF_opt', '-logL'])\n",
    "\n",
    "df.sort_values(by='-logL', ascending=True)"
   ]
  },
  {
   "cell_type": "markdown",
   "metadata": {},
   "source": [
    "The optimised parameter values do not deviate very much from the initial parameter values."
   ]
  },
  {
   "cell_type": "code",
   "execution_count": 58,
   "metadata": {
    "collapsed": true
   },
   "outputs": [],
   "source": [
    "# specify the initial parameter values, they will be randomly perturbed by up to a factor of 4\n",
    "p0 = [100, 0.01, 0.1, 1] # quick exp. growth, then long period of small size\n",
    "\n",
    "ar_ery_2 = lbview.map(run_dadi, repeat(p0, 10), block=False, order=True)"
   ]
  },
  {
   "cell_type": "code",
   "execution_count": 60,
   "metadata": {
    "collapsed": false
   },
   "outputs": [
    {
     "data": {
      "text/html": [
       "<div>\n",
       "<table border=\"1\" class=\"dataframe\">\n",
       "  <thead>\n",
       "    <tr style=\"text-align: right;\">\n",
       "      <th></th>\n",
       "      <th>nuB_0</th>\n",
       "      <th>TB_0</th>\n",
       "      <th>nuF_0</th>\n",
       "      <th>TF_0</th>\n",
       "      <th>nuB_opt</th>\n",
       "      <th>TB_opt</th>\n",
       "      <th>nuF_opt</th>\n",
       "      <th>TF_opt</th>\n",
       "      <th>-logL</th>\n",
       "    </tr>\n",
       "  </thead>\n",
       "  <tbody>\n",
       "    <tr>\n",
       "      <th>2</th>\n",
       "      <td>288.897957</td>\n",
       "      <td>0.006640</td>\n",
       "      <td>0.293071</td>\n",
       "      <td>0.649314</td>\n",
       "      <td>452.463434</td>\n",
       "      <td>0.003161</td>\n",
       "      <td>0.165810</td>\n",
       "      <td>0.825642</td>\n",
       "      <td>2167.753193</td>\n",
       "    </tr>\n",
       "    <tr>\n",
       "      <th>1</th>\n",
       "      <td>33.888463</td>\n",
       "      <td>0.009623</td>\n",
       "      <td>0.053050</td>\n",
       "      <td>0.887303</td>\n",
       "      <td>49.583040</td>\n",
       "      <td>0.007919</td>\n",
       "      <td>0.176998</td>\n",
       "      <td>0.868265</td>\n",
       "      <td>2167.753193</td>\n",
       "    </tr>\n",
       "    <tr>\n",
       "      <th>3</th>\n",
       "      <td>78.930914</td>\n",
       "      <td>0.004743</td>\n",
       "      <td>0.076432</td>\n",
       "      <td>1.054879</td>\n",
       "      <td>194.383486</td>\n",
       "      <td>0.002071</td>\n",
       "      <td>0.232022</td>\n",
       "      <td>1.057746</td>\n",
       "      <td>2167.753197</td>\n",
       "    </tr>\n",
       "    <tr>\n",
       "      <th>0</th>\n",
       "      <td>286.169004</td>\n",
       "      <td>0.009809</td>\n",
       "      <td>0.041980</td>\n",
       "      <td>1.157481</td>\n",
       "      <td>589.244354</td>\n",
       "      <td>0.003207</td>\n",
       "      <td>0.267345</td>\n",
       "      <td>1.168653</td>\n",
       "      <td>2167.753200</td>\n",
       "    </tr>\n",
       "  </tbody>\n",
       "</table>\n",
       "</div>"
      ],
      "text/plain": [
       "        nuB_0      TB_0     nuF_0      TF_0     nuB_opt    TB_opt   nuF_opt  \\\n",
       "2  288.897957  0.006640  0.293071  0.649314  452.463434  0.003161  0.165810   \n",
       "1   33.888463  0.009623  0.053050  0.887303   49.583040  0.007919  0.176998   \n",
       "3   78.930914  0.004743  0.076432  1.054879  194.383486  0.002071  0.232022   \n",
       "0  286.169004  0.009809  0.041980  1.157481  589.244354  0.003207  0.267345   \n",
       "\n",
       "     TF_opt        -logL  \n",
       "2  0.825642  2167.753193  \n",
       "1  0.868265  2167.753193  \n",
       "3  1.057746  2167.753197  \n",
       "0  1.168653  2167.753200  "
      ]
     },
     "execution_count": 60,
     "metadata": {},
     "output_type": "execute_result"
    }
   ],
   "source": [
    "success = [flatten(out)[:9] for out in ar_ery_2 if out[1][4] == 0]\n",
    "\n",
    "df = pd.DataFrame(data=success, \\\n",
    "                  columns=['nuB_0','TB_0', 'nuF_0', 'TF_0', 'nuB_opt', 'TB_opt', 'nuF_opt', 'TF_opt', '-logL'])\n",
    "\n",
    "df.sort_values(by='-logL', ascending=True)"
   ]
  },
  {
   "cell_type": "code",
   "execution_count": 61,
   "metadata": {
    "collapsed": true
   },
   "outputs": [],
   "source": [
    "# specify the initial parameter values, they will be randomly perturbed by up to a factor of 4\n",
    "p0 = [0.01, 0.01, 10, 1] # quick exp. decline, then long period of increased size\n",
    "\n",
    "ar_ery_3 = lbview.map(run_dadi, repeat(p0, 10), block=False, order=True)"
   ]
  },
  {
   "cell_type": "code",
   "execution_count": 62,
   "metadata": {
    "collapsed": false
   },
   "outputs": [
    {
     "data": {
      "text/html": [
       "<div>\n",
       "<table border=\"1\" class=\"dataframe\">\n",
       "  <thead>\n",
       "    <tr style=\"text-align: right;\">\n",
       "      <th></th>\n",
       "      <th>nuB_0</th>\n",
       "      <th>TB_0</th>\n",
       "      <th>nuF_0</th>\n",
       "      <th>TF_0</th>\n",
       "      <th>nuB_opt</th>\n",
       "      <th>TB_opt</th>\n",
       "      <th>nuF_opt</th>\n",
       "      <th>TF_opt</th>\n",
       "      <th>-logL</th>\n",
       "    </tr>\n",
       "  </thead>\n",
       "  <tbody>\n",
       "    <tr>\n",
       "      <th>0</th>\n",
       "      <td>0.003391</td>\n",
       "      <td>0.014814</td>\n",
       "      <td>14.217875</td>\n",
       "      <td>1.071744</td>\n",
       "      <td>0.01598</td>\n",
       "      <td>0.000869</td>\n",
       "      <td>0.260179</td>\n",
       "      <td>1.127289</td>\n",
       "      <td>2167.753199</td>\n",
       "    </tr>\n",
       "  </tbody>\n",
       "</table>\n",
       "</div>"
      ],
      "text/plain": [
       "      nuB_0      TB_0      nuF_0      TF_0  nuB_opt    TB_opt   nuF_opt  \\\n",
       "0  0.003391  0.014814  14.217875  1.071744  0.01598  0.000869  0.260179   \n",
       "\n",
       "     TF_opt        -logL  \n",
       "0  1.127289  2167.753199  "
      ]
     },
     "execution_count": 62,
     "metadata": {},
     "output_type": "execute_result"
    }
   ],
   "source": [
    "success = [flatten(out)[:9] for out in ar_ery_3 if out[1][4] == 0]\n",
    "\n",
    "df = pd.DataFrame(data=success, \\\n",
    "                  columns=['nuB_0','TB_0', 'nuF_0', 'TF_0', 'nuB_opt', 'TB_opt', 'nuF_opt', 'TF_opt', '-logL'])\n",
    "\n",
    "df.sort_values(by='-logL', ascending=True)"
   ]
  },
  {
   "cell_type": "markdown",
   "metadata": {},
   "source": [
    "In all successful optimisations above, $\\nu_F$, the ratio of contemporary population size to ancient population size, converges to a value below 1/3."
   ]
  },
  {
   "cell_type": "code",
   "execution_count": 63,
   "metadata": {
    "collapsed": true
   },
   "outputs": [],
   "source": [
    "# perturb previous optimal parameter combination\n",
    "p0 = success[0][4:8]\n",
    "\n",
    "ar_ery_4 = lbview.map(run_dadi, repeat(p0, 10), block=False, order=True)"
   ]
  },
  {
   "cell_type": "code",
   "execution_count": 64,
   "metadata": {
    "collapsed": false
   },
   "outputs": [
    {
     "name": "stdout",
     "output_type": "stream",
     "text": [
      "success 2\n",
      "Maximum number of function evaluations made. 0\n",
      "Maximum number of iterations reached. 8\n",
      "unknown flag 0\n"
     ]
    }
   ],
   "source": [
    "get_flag_count(ar_ery_4, NM=True)"
   ]
  },
  {
   "cell_type": "code",
   "execution_count": 65,
   "metadata": {
    "collapsed": false
   },
   "outputs": [
    {
     "data": {
      "text/html": [
       "<div>\n",
       "<table border=\"1\" class=\"dataframe\">\n",
       "  <thead>\n",
       "    <tr style=\"text-align: right;\">\n",
       "      <th></th>\n",
       "      <th>nuB_0</th>\n",
       "      <th>TB_0</th>\n",
       "      <th>nuF_0</th>\n",
       "      <th>TF_0</th>\n",
       "      <th>nuB_opt</th>\n",
       "      <th>TB_opt</th>\n",
       "      <th>nuF_opt</th>\n",
       "      <th>TF_opt</th>\n",
       "      <th>-logL</th>\n",
       "    </tr>\n",
       "  </thead>\n",
       "  <tbody>\n",
       "    <tr>\n",
       "      <th>0</th>\n",
       "      <td>0.007491</td>\n",
       "      <td>0.000671</td>\n",
       "      <td>0.073788</td>\n",
       "      <td>0.316113</td>\n",
       "      <td>0.005604</td>\n",
       "      <td>0.000627</td>\n",
       "      <td>0.059733</td>\n",
       "      <td>0.35875</td>\n",
       "      <td>2167.753189</td>\n",
       "    </tr>\n",
       "    <tr>\n",
       "      <th>1</th>\n",
       "      <td>0.012323</td>\n",
       "      <td>0.001271</td>\n",
       "      <td>0.084668</td>\n",
       "      <td>3.136494</td>\n",
       "      <td>0.012072</td>\n",
       "      <td>0.001157</td>\n",
       "      <td>0.085324</td>\n",
       "      <td>3.24476</td>\n",
       "      <td>2172.825525</td>\n",
       "    </tr>\n",
       "  </tbody>\n",
       "</table>\n",
       "</div>"
      ],
      "text/plain": [
       "      nuB_0      TB_0     nuF_0      TF_0   nuB_opt    TB_opt   nuF_opt  \\\n",
       "0  0.007491  0.000671  0.073788  0.316113  0.005604  0.000627  0.059733   \n",
       "1  0.012323  0.001271  0.084668  3.136494  0.012072  0.001157  0.085324   \n",
       "\n",
       "    TF_opt        -logL  \n",
       "0  0.35875  2167.753189  \n",
       "1  3.24476  2172.825525  "
      ]
     },
     "execution_count": 65,
     "metadata": {},
     "output_type": "execute_result"
    }
   ],
   "source": [
    "success = [flatten(out)[:9] for out in ar_ery_4 if out[1][4] == 0]\n",
    "\n",
    "df = pd.DataFrame(data=success, \\\n",
    "                  columns=['nuB_0','TB_0', 'nuF_0', 'TF_0', 'nuB_opt', 'TB_opt', 'nuF_opt', 'TF_opt', '-logL'])\n",
    "\n",
    "df.sort_values(by='-logL', ascending=True)"
   ]
  },
  {
   "cell_type": "code",
   "execution_count": 73,
   "metadata": {
    "collapsed": false
   },
   "outputs": [],
   "source": [
    "# save optimisation results to file\n",
    "\n",
    "import dill\n",
    "\n",
    "optout = []\n",
    "\n",
    "for ar_ery in (ar_ery_1, ar_ery_2, ar_ery_3, ar_ery_4):\n",
    "    optout.extend(list(ar_ery.get()))\n",
    "\n",
    "dill.dump(optout, open(\"OUT_expGrowth_bottleneck/ERY_perturb_ar_ery.dill\", \"w\"))"
   ]
  },
  {
   "cell_type": "markdown",
   "metadata": {},
   "source": [
    "## _parallelus_"
   ]
  },
  {
   "cell_type": "code",
   "execution_count": 74,
   "metadata": {
    "collapsed": true
   },
   "outputs": [],
   "source": [
    "%%px\n",
    "\n",
    "# set up global variables on engines required for run_dadi function call\n",
    "\n",
    "dadi_opt_func = dadi.Inference.optimize_log_fmin # uses Nelder-Mead algorithm\n",
    "sfs = fs_par # use PAR spectrum\n",
    "perturb = True\n",
    "fold = 2 # perturb randomly up to 6-fold\n",
    "maxiter = 100 # run a maximum of 100 iterations\n",
    "verbose = 0\n",
    "full_output = True # need to have full output to get the warnflags (see below)\n",
    "outname = \"OUT_expGrowth_bottleneck/PAR_perturb\" # set file name stub for opt. result files"
   ]
  },
  {
   "cell_type": "code",
   "execution_count": 75,
   "metadata": {
    "collapsed": true
   },
   "outputs": [],
   "source": [
    "p0 = [1, 1, 1, 1]\n",
    "\n",
    "ar_par_1 = lbview.map(run_dadi, repeat(p0, 10), block=False, order=False)"
   ]
  },
  {
   "cell_type": "code",
   "execution_count": 76,
   "metadata": {
    "collapsed": false
   },
   "outputs": [
    {
     "name": "stdout",
     "output_type": "stream",
     "text": [
      "-rw-rw-r-- 1 claudius 314 Apr 24 11:55 OUT_expGrowth_bottleneck/PAR_perturb_0.3903_0.9819_1.3026_0.2697.dill\r\n",
      "-rw-rw-r-- 1 claudius 314 Apr 24 11:41 OUT_expGrowth_bottleneck/PAR_perturb_0.4756_0.7191_0.4371_0.5403.dill\r\n",
      "-rw-rw-r-- 1 claudius 314 Apr 24 11:38 OUT_expGrowth_bottleneck/PAR_perturb_0.6027_2.3375_0.5953_1.6260.dill\r\n",
      "-rw-rw-r-- 1 claudius 314 Apr 24 11:37 OUT_expGrowth_bottleneck/PAR_perturb_0.8309_0.4067_0.3150_2.8543.dill\r\n",
      "-rw-rw-r-- 1 claudius 314 Apr 24 11:37 OUT_expGrowth_bottleneck/PAR_perturb_1.0791_0.3373_0.5508_0.9630.dill\r\n",
      "-rw-rw-r-- 1 claudius 314 Apr 24 11:37 OUT_expGrowth_bottleneck/PAR_perturb_1.2331_0.2817_1.9411_1.4572.dill\r\n",
      "-rw-rw-r-- 1 claudius 314 Apr 24 11:37 OUT_expGrowth_bottleneck/PAR_perturb_1.7138_0.7279_0.7608_0.3195.dill\r\n",
      "-rw-rw-r-- 1 claudius 314 Apr 24 11:45 OUT_expGrowth_bottleneck/PAR_perturb_2.1220_0.3901_0.5765_1.1659.dill\r\n",
      "-rw-rw-r-- 1 claudius 314 Apr 24 11:38 OUT_expGrowth_bottleneck/PAR_perturb_3.7093_0.2654_0.2896_0.8007.dill\r\n"
     ]
    }
   ],
   "source": [
    "%ll OUT_expGrowth_bottleneck/PAR*"
   ]
  },
  {
   "cell_type": "code",
   "execution_count": 77,
   "metadata": {
    "collapsed": true
   },
   "outputs": [],
   "source": [
    "ar_par_1 = []\n",
    "\n",
    "import glob\n",
    "\n",
    "for filename in glob.glob(\"OUT_expGrowth_bottleneck/PAR*\"):\n",
    "    ar_par_1.append(dill.load(open(filename)))"
   ]
  },
  {
   "cell_type": "code",
   "execution_count": 78,
   "metadata": {
    "collapsed": false
   },
   "outputs": [
    {
     "name": "stdout",
     "output_type": "stream",
     "text": [
      "success 2\n",
      "Maximum number of function evaluations made. 0\n",
      "Maximum number of iterations reached. 7\n",
      "unknown flag 0\n"
     ]
    }
   ],
   "source": [
    "get_flag_count(ar_par_1, NM=True)"
   ]
  },
  {
   "cell_type": "code",
   "execution_count": 79,
   "metadata": {
    "collapsed": false
   },
   "outputs": [
    {
     "data": {
      "text/html": [
       "<div>\n",
       "<table border=\"1\" class=\"dataframe\">\n",
       "  <thead>\n",
       "    <tr style=\"text-align: right;\">\n",
       "      <th></th>\n",
       "      <th>nuB_0</th>\n",
       "      <th>TB_0</th>\n",
       "      <th>nuF_0</th>\n",
       "      <th>TF_0</th>\n",
       "      <th>nuB_opt</th>\n",
       "      <th>TB_opt</th>\n",
       "      <th>nuF_opt</th>\n",
       "      <th>TF_opt</th>\n",
       "      <th>-logL</th>\n",
       "    </tr>\n",
       "  </thead>\n",
       "  <tbody>\n",
       "    <tr>\n",
       "      <th>1</th>\n",
       "      <td>3.709310</td>\n",
       "      <td>0.265380</td>\n",
       "      <td>0.289571</td>\n",
       "      <td>0.800686</td>\n",
       "      <td>0.614397</td>\n",
       "      <td>0.052903</td>\n",
       "      <td>0.018110</td>\n",
       "      <td>1.197595</td>\n",
       "      <td>6929.444306</td>\n",
       "    </tr>\n",
       "    <tr>\n",
       "      <th>0</th>\n",
       "      <td>0.830906</td>\n",
       "      <td>0.406732</td>\n",
       "      <td>0.314983</td>\n",
       "      <td>2.854260</td>\n",
       "      <td>0.844383</td>\n",
       "      <td>0.541158</td>\n",
       "      <td>0.151917</td>\n",
       "      <td>4.945685</td>\n",
       "      <td>6929.444306</td>\n",
       "    </tr>\n",
       "  </tbody>\n",
       "</table>\n",
       "</div>"
      ],
      "text/plain": [
       "      nuB_0      TB_0     nuF_0      TF_0   nuB_opt    TB_opt   nuF_opt  \\\n",
       "1  3.709310  0.265380  0.289571  0.800686  0.614397  0.052903  0.018110   \n",
       "0  0.830906  0.406732  0.314983  2.854260  0.844383  0.541158  0.151917   \n",
       "\n",
       "     TF_opt        -logL  \n",
       "1  1.197595  6929.444306  \n",
       "0  4.945685  6929.444306  "
      ]
     },
     "execution_count": 79,
     "metadata": {},
     "output_type": "execute_result"
    }
   ],
   "source": [
    "success = [flatten(out)[:9] for out in ar_par_1 if out[1][4] == 0]\n",
    "\n",
    "df = pd.DataFrame(data=success, \\\n",
    "                  columns=['nuB_0','TB_0', 'nuF_0', 'TF_0', 'nuB_opt', 'TB_opt', 'nuF_opt', 'TF_opt', '-logL'])\n",
    "\n",
    "df.sort_values(by='-logL', ascending=True)"
   ]
  },
  {
   "cell_type": "code",
   "execution_count": 82,
   "metadata": {
    "collapsed": false
   },
   "outputs": [
    {
     "data": {
      "text/plain": [
       "[0.61439714659107336,\n",
       " 0.052903193195409676,\n",
       " 0.018109892933906826,\n",
       " 1.197594561232507]"
      ]
     },
     "execution_count": 82,
     "metadata": {},
     "output_type": "execute_result"
    }
   ],
   "source": [
    "success[1][4:8]"
   ]
  },
  {
   "cell_type": "code",
   "execution_count": 83,
   "metadata": {
    "collapsed": true
   },
   "outputs": [],
   "source": [
    "p0 = success[1][4:8]\n",
    "\n",
    "ar_par_2 = lbview.map(run_dadi, repeat(p0, 10), block=False, order=False)"
   ]
  },
  {
   "cell_type": "code",
   "execution_count": 84,
   "metadata": {
    "collapsed": false
   },
   "outputs": [
    {
     "name": "stdout",
     "output_type": "stream",
     "text": [
      "success 10\n",
      "Maximum number of function evaluations made. 0\n",
      "Maximum number of iterations reached. 0\n",
      "unknown flag 0\n"
     ]
    }
   ],
   "source": [
    "get_flag_count(ar_par_2, NM=True)"
   ]
  },
  {
   "cell_type": "code",
   "execution_count": 85,
   "metadata": {
    "collapsed": false
   },
   "outputs": [
    {
     "data": {
      "text/html": [
       "<div>\n",
       "<table border=\"1\" class=\"dataframe\">\n",
       "  <thead>\n",
       "    <tr style=\"text-align: right;\">\n",
       "      <th></th>\n",
       "      <th>nuB_0</th>\n",
       "      <th>TB_0</th>\n",
       "      <th>nuF_0</th>\n",
       "      <th>TF_0</th>\n",
       "      <th>nuB_opt</th>\n",
       "      <th>TB_opt</th>\n",
       "      <th>nuF_opt</th>\n",
       "      <th>TF_opt</th>\n",
       "      <th>-logL</th>\n",
       "    </tr>\n",
       "  </thead>\n",
       "  <tbody>\n",
       "    <tr>\n",
       "      <th>3</th>\n",
       "      <td>0.472403</td>\n",
       "      <td>0.070881</td>\n",
       "      <td>0.011387</td>\n",
       "      <td>1.288252</td>\n",
       "      <td>0.469248</td>\n",
       "      <td>0.072113</td>\n",
       "      <td>0.008440</td>\n",
       "      <td>1.280387</td>\n",
       "      <td>6929.444306</td>\n",
       "    </tr>\n",
       "    <tr>\n",
       "      <th>6</th>\n",
       "      <td>1.768930</td>\n",
       "      <td>0.036260</td>\n",
       "      <td>0.042468</td>\n",
       "      <td>0.370434</td>\n",
       "      <td>1.776229</td>\n",
       "      <td>0.035834</td>\n",
       "      <td>0.007350</td>\n",
       "      <td>0.503654</td>\n",
       "      <td>6929.444306</td>\n",
       "    </tr>\n",
       "    <tr>\n",
       "      <th>0</th>\n",
       "      <td>0.218420</td>\n",
       "      <td>0.156013</td>\n",
       "      <td>0.020085</td>\n",
       "      <td>0.364053</td>\n",
       "      <td>0.229155</td>\n",
       "      <td>0.156113</td>\n",
       "      <td>0.006889</td>\n",
       "      <td>0.410683</td>\n",
       "      <td>6929.444306</td>\n",
       "    </tr>\n",
       "    <tr>\n",
       "      <th>4</th>\n",
       "      <td>1.358809</td>\n",
       "      <td>0.154517</td>\n",
       "      <td>0.008247</td>\n",
       "      <td>2.280554</td>\n",
       "      <td>1.385853</td>\n",
       "      <td>0.144384</td>\n",
       "      <td>0.011778</td>\n",
       "      <td>2.240702</td>\n",
       "      <td>6929.444306</td>\n",
       "    </tr>\n",
       "    <tr>\n",
       "      <th>7</th>\n",
       "      <td>0.732430</td>\n",
       "      <td>0.016699</td>\n",
       "      <td>0.033366</td>\n",
       "      <td>0.677204</td>\n",
       "      <td>0.728324</td>\n",
       "      <td>0.018477</td>\n",
       "      <td>0.016094</td>\n",
       "      <td>0.702511</td>\n",
       "      <td>6929.444306</td>\n",
       "    </tr>\n",
       "    <tr>\n",
       "      <th>1</th>\n",
       "      <td>0.218059</td>\n",
       "      <td>0.181408</td>\n",
       "      <td>0.026684</td>\n",
       "      <td>1.834435</td>\n",
       "      <td>0.213655</td>\n",
       "      <td>0.184490</td>\n",
       "      <td>0.022174</td>\n",
       "      <td>1.819735</td>\n",
       "      <td>6929.444306</td>\n",
       "    </tr>\n",
       "    <tr>\n",
       "      <th>2</th>\n",
       "      <td>0.459281</td>\n",
       "      <td>0.034909</td>\n",
       "      <td>0.015712</td>\n",
       "      <td>0.441546</td>\n",
       "      <td>0.479841</td>\n",
       "      <td>0.037059</td>\n",
       "      <td>0.010306</td>\n",
       "      <td>0.448867</td>\n",
       "      <td>6929.444306</td>\n",
       "    </tr>\n",
       "    <tr>\n",
       "      <th>5</th>\n",
       "      <td>1.197897</td>\n",
       "      <td>0.020329</td>\n",
       "      <td>0.023638</td>\n",
       "      <td>2.330702</td>\n",
       "      <td>1.199745</td>\n",
       "      <td>0.018330</td>\n",
       "      <td>0.018651</td>\n",
       "      <td>2.246834</td>\n",
       "      <td>6929.444306</td>\n",
       "    </tr>\n",
       "    <tr>\n",
       "      <th>9</th>\n",
       "      <td>1.903343</td>\n",
       "      <td>0.019700</td>\n",
       "      <td>0.034356</td>\n",
       "      <td>0.722134</td>\n",
       "      <td>1.901370</td>\n",
       "      <td>0.018326</td>\n",
       "      <td>0.017947</td>\n",
       "      <td>0.745342</td>\n",
       "      <td>6929.444306</td>\n",
       "    </tr>\n",
       "    <tr>\n",
       "      <th>8</th>\n",
       "      <td>1.316753</td>\n",
       "      <td>0.098304</td>\n",
       "      <td>0.017726</td>\n",
       "      <td>0.607624</td>\n",
       "      <td>1.316912</td>\n",
       "      <td>0.097550</td>\n",
       "      <td>0.014601</td>\n",
       "      <td>0.608083</td>\n",
       "      <td>6929.444306</td>\n",
       "    </tr>\n",
       "  </tbody>\n",
       "</table>\n",
       "</div>"
      ],
      "text/plain": [
       "      nuB_0      TB_0     nuF_0      TF_0   nuB_opt    TB_opt   nuF_opt  \\\n",
       "3  0.472403  0.070881  0.011387  1.288252  0.469248  0.072113  0.008440   \n",
       "6  1.768930  0.036260  0.042468  0.370434  1.776229  0.035834  0.007350   \n",
       "0  0.218420  0.156013  0.020085  0.364053  0.229155  0.156113  0.006889   \n",
       "4  1.358809  0.154517  0.008247  2.280554  1.385853  0.144384  0.011778   \n",
       "7  0.732430  0.016699  0.033366  0.677204  0.728324  0.018477  0.016094   \n",
       "1  0.218059  0.181408  0.026684  1.834435  0.213655  0.184490  0.022174   \n",
       "2  0.459281  0.034909  0.015712  0.441546  0.479841  0.037059  0.010306   \n",
       "5  1.197897  0.020329  0.023638  2.330702  1.199745  0.018330  0.018651   \n",
       "9  1.903343  0.019700  0.034356  0.722134  1.901370  0.018326  0.017947   \n",
       "8  1.316753  0.098304  0.017726  0.607624  1.316912  0.097550  0.014601   \n",
       "\n",
       "     TF_opt        -logL  \n",
       "3  1.280387  6929.444306  \n",
       "6  0.503654  6929.444306  \n",
       "0  0.410683  6929.444306  \n",
       "4  2.240702  6929.444306  \n",
       "7  0.702511  6929.444306  \n",
       "1  1.819735  6929.444306  \n",
       "2  0.448867  6929.444306  \n",
       "5  2.246834  6929.444306  \n",
       "9  0.745342  6929.444306  \n",
       "8  0.608083  6929.444306  "
      ]
     },
     "execution_count": 85,
     "metadata": {},
     "output_type": "execute_result"
    }
   ],
   "source": [
    "success = [flatten(out)[:9] for out in ar_par_2 if out[1][4] == 0]\n",
    "\n",
    "df = pd.DataFrame(data=success, \\\n",
    "                  columns=['nuB_0','TB_0', 'nuF_0', 'TF_0', 'nuB_opt', 'TB_opt', 'nuF_opt', 'TF_opt', '-logL'])\n",
    "\n",
    "df.sort_values(by='-logL', ascending=True)"
   ]
  },
  {
   "cell_type": "markdown",
   "metadata": {
    "collapsed": true
   },
   "source": [
    "Again, note that the inferred optimal parameter values only deviate slightly from the initial values and that all optimal parameter combinations have the same likelihood."
   ]
  },
  {
   "cell_type": "code",
   "execution_count": 86,
   "metadata": {
    "collapsed": true
   },
   "outputs": [],
   "source": [
    "p0 = [0.01, 0.01, 10, 1] # quick exp. decline, then long period of increased size\n",
    "\n",
    "ar_par_3 = lbview.map(run_dadi, repeat(p0, 10), block=False, order=False)"
   ]
  },
  {
   "cell_type": "code",
   "execution_count": 87,
   "metadata": {
    "collapsed": false
   },
   "outputs": [
    {
     "name": "stdout",
     "output_type": "stream",
     "text": [
      "success 0\n",
      "Maximum number of function evaluations made. 0\n",
      "Maximum number of iterations reached. 10\n",
      "unknown flag 0\n"
     ]
    }
   ],
   "source": [
    "get_flag_count(ar_par_3, NM=True)"
   ]
  },
  {
   "cell_type": "markdown",
   "metadata": {},
   "source": [
    "The initial parameter values specified above (and then perturbed) are too far away from an optimum."
   ]
  },
  {
   "cell_type": "code",
   "execution_count": 94,
   "metadata": {
    "collapsed": false
   },
   "outputs": [],
   "source": [
    "optout = []\n",
    "\n",
    "for ar_par in (ar_par_1, list(ar_par_2.get())):\n",
    "    optout.extend(ar_par)\n",
    "    \n",
    "dill.dump(optout, open(\"OUT_expGrowth_bottleneck/PAR_perturb_ar_ery.dill\", \"w\"))"
   ]
  },
  {
   "cell_type": "code",
   "execution_count": null,
   "metadata": {
    "collapsed": true
   },
   "outputs": [],
   "source": []
  }
 ],
 "metadata": {
  "anaconda-cloud": {},
  "kernelspec": {
   "display_name": "Python [default]",
   "language": "python",
   "name": "python2"
  },
  "language_info": {
   "codemirror_mode": {
    "name": "ipython",
    "version": 2
   },
   "file_extension": ".py",
   "mimetype": "text/x-python",
   "name": "python",
   "nbconvert_exporter": "python",
   "pygments_lexer": "ipython2",
   "version": "2.7.12"
  },
  "toc": {
   "colors": {
    "hover_highlight": "#DAA520",
    "running_highlight": "#FF0000",
    "selected_highlight": "#FFD700"
   },
   "moveMenuLeft": true,
   "nav_menu": {
    "height": "64px",
    "width": "252px"
   },
   "navigate_menu": true,
   "number_sections": true,
   "sideBar": true,
   "threshold": 4,
   "toc_cell": true,
   "toc_section_display": "block",
   "toc_window_display": true
  }
 },
 "nbformat": 4,
 "nbformat_minor": 0
}
