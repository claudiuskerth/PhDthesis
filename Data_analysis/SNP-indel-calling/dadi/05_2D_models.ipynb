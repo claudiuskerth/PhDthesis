{
 "cells": [
  {
   "cell_type": "markdown",
   "metadata": {
    "toc": "true"
   },
   "source": [
    "# Table of Contents\n",
    " <p><div class=\"lev1 toc-item\"><a data-toc-modified-id=\"simple-divergence-model-1\" href=\"#simple-divergence-model\"><span class=\"toc-item-num\">1&nbsp;&nbsp;</span>simple divergence model</a></div><div class=\"lev2 toc-item\"><a data-toc-modified-id=\"plot-11\" href=\"#plot\"><span class=\"toc-item-num\">1.1&nbsp;&nbsp;</span>plot</a></div><div class=\"lev1 toc-item\"><a data-toc-modified-id=\"divergence-with-migration-model-2\" href=\"#divergence-with-migration-model\"><span class=\"toc-item-num\">2&nbsp;&nbsp;</span>divergence with migration model</a></div><div class=\"lev2 toc-item\"><a data-toc-modified-id=\"plot-21\" href=\"#plot\"><span class=\"toc-item-num\">2.1&nbsp;&nbsp;</span>plot</a></div><div class=\"lev2 toc-item\"><a data-toc-modified-id=\"LRT-22\" href=\"#LRT\"><span class=\"toc-item-num\">2.2&nbsp;&nbsp;</span>LRT</a></div>"
   ]
  },
  {
   "cell_type": "code",
   "execution_count": 1,
   "metadata": {
    "collapsed": false
   },
   "outputs": [
    {
     "data": {
      "text/plain": [
       "[0, 1, 2, 3, 4, 5, 6, 7, 8, 9, 10, 11, 12, 13, 14, 15, 16, 17, 18, 19]"
      ]
     },
     "execution_count": 1,
     "metadata": {},
     "output_type": "execute_result"
    }
   ],
   "source": [
    "from ipyparallel import Client\n",
    "\n",
    "cl = Client()\n",
    "\n",
    "cl.ids"
   ]
  },
  {
   "cell_type": "code",
   "execution_count": 2,
   "metadata": {
    "collapsed": true
   },
   "outputs": [],
   "source": [
    "%%px --local\n",
    "\n",
    "# run whole cell on all engines a well as in the local IPython session\n",
    "\n",
    "import numpy\n",
    "\n",
    "import sys\n",
    "\n",
    "sys.path.insert(0, '/home/claudius/Downloads/dadi')\n",
    "\n",
    "import dadi"
   ]
  },
  {
   "cell_type": "code",
   "execution_count": 3,
   "metadata": {
    "collapsed": false
   },
   "outputs": [
    {
     "name": "stdout",
     "output_type": "stream",
     "text": [
      "total 33676\r\n",
      "lrwxrwxrwx 1 claudius       53 Feb 17 15:37 \u001b[0m\u001b[01;36mERY.FOLDED.sfs\u001b[0m -> /data3/claudius/Big_Data/ANGSD/SFS/ERY/ERY.FOLDED.sfs\r\n",
      "-rw-rw-r-- 1 claudius      499 Mar 24 14:04 ERY.FOLDED.sfs.dadi_format\r\n",
      "-rw-rw-r-- 1 claudius      499 Mar 24 14:02 ERY.FOLDED.sfs.dadi_format~\r\n",
      "lrwxrwxrwx 1 claudius       37 Feb 18 17:46 \u001b[01;36mEryPar.unfolded.2dsfs\u001b[0m -> ../../ANGSD/FST/EryPar.unfolded.2dsfs\r\n",
      "-rw-rw-r-- 1 claudius    13051 Feb 18 19:00 EryPar.unfolded.2dsfs.dadi_format\r\n",
      "-rw-rw-r-- 1 claudius    13051 Feb 18 18:31 EryPar.unfolded.2dsfs.dadi_format~\r\n",
      "drwxrwxr-x 5 claudius     4096 Feb 17 13:45 \u001b[01;34mexamples\u001b[0m/\r\n",
      "-rw-rw-r-- 1 claudius   155251 Mar 22 12:37 example_YRI_CEU.ipynb\r\n",
      "-rw-rw-r-- 1 claudius   619699 Apr 20 10:19 First_Steps_with_dadi.ipynb\r\n",
      "-rw-rw-r-- 1 claudius     1012 Mar 16 09:54 new.bib\r\n",
      "lrwxrwxrwx 1 claudius       53 Feb 17 15:37 \u001b[01;36mPAR.FOLDED.sfs\u001b[0m -> /data3/claudius/Big_Data/ANGSD/SFS/PAR/PAR.FOLDED.sfs\r\n",
      "-rw-rw-r-- 1 claudius      486 Mar 24 20:08 PAR.FOLDED.sfs.dadi_format\r\n",
      "-rw-rw-r-- 1 claudius      450 Mar 24 20:08 PAR.FOLDED.sfs.dadi_format~\r\n",
      "-rw-rw-r-- 1 claudius       18 Mar 19 11:20 seedms\r\n",
      "-rw-rw-r-- 1 claudius 33643874 Mar 19 11:20 test.msout\r\n"
     ]
    }
   ],
   "source": [
    "%ll dadiExercises/"
   ]
  },
  {
   "cell_type": "code",
   "execution_count": 4,
   "metadata": {
    "collapsed": true
   },
   "outputs": [],
   "source": [
    "%less dadiExercises/EryPar.unfolded.2dsfs.dadi_format"
   ]
  },
  {
   "cell_type": "code",
   "execution_count": 5,
   "metadata": {
    "collapsed": true
   },
   "outputs": [],
   "source": [
    "# import 2D unfolded spectrum\n",
    "\n",
    "sfs2d_unfolded = dadi.Spectrum.from_file('dadiExercises/EryPar.unfolded.2dsfs.dadi_format')"
   ]
  },
  {
   "cell_type": "code",
   "execution_count": 6,
   "metadata": {
    "collapsed": true
   },
   "outputs": [],
   "source": [
    "%page sfs2d_unfolded"
   ]
  },
  {
   "cell_type": "code",
   "execution_count": 7,
   "metadata": {
    "collapsed": false
   },
   "outputs": [
    {
     "data": {
      "text/plain": [
       "array([36, 36])"
      ]
     },
     "execution_count": 7,
     "metadata": {},
     "output_type": "execute_result"
    }
   ],
   "source": [
    "sfs2d_unfolded.sample_sizes"
   ]
  },
  {
   "cell_type": "code",
   "execution_count": 8,
   "metadata": {
    "collapsed": false
   },
   "outputs": [],
   "source": [
    "# add population labels\n",
    "sfs2d_unfolded.pop_ids = [\"ery\", \"par\"]"
   ]
  },
  {
   "cell_type": "markdown",
   "metadata": {},
   "source": [
    "For the estimation of the 2D SFS, `realSFS` has only taken sites that had data from at least 9 individuals in *each* population (see `assembly.sh`, lines 1423 onwards)."
   ]
  },
  {
   "cell_type": "code",
   "execution_count": 9,
   "metadata": {
    "collapsed": false
   },
   "outputs": [
    {
     "data": {
      "text/plain": [
       "60573.584426000001"
      ]
     },
     "execution_count": 9,
     "metadata": {},
     "output_type": "execute_result"
    }
   ],
   "source": [
    "# print number of segregating sites in the SFS\n",
    "\n",
    "sfs2d_unfolded.S()"
   ]
  },
  {
   "cell_type": "markdown",
   "metadata": {},
   "source": [
    "The 2D spectrum contains counts from 60k sites that are variable in *par* or *ery* or both."
   ]
  },
  {
   "cell_type": "code",
   "execution_count": 10,
   "metadata": {
    "collapsed": true
   },
   "outputs": [],
   "source": [
    "import pylab\n",
    "\n",
    "%matplotlib inline"
   ]
  },
  {
   "cell_type": "code",
   "execution_count": 11,
   "metadata": {
    "collapsed": false
   },
   "outputs": [
    {
     "data": {
      "text/plain": [
       "<matplotlib.colorbar.Colorbar at 0x7f17da177e90>"
      ]
     },
     "execution_count": 11,
     "metadata": {},
     "output_type": "execute_result"
    },
    {
     "data": {
      "image/png": "[encoded data removed]",
      "text/plain": [
       "<matplotlib.figure.Figure at 0x7f17da9efdd0>"
      ]
     },
     "metadata": {},
     "output_type": "display_data"
    }
   ],
   "source": [
    "# note this needs to be in the same cell as the dadi plotting function call to take effect\n",
    "pylab.rcParams['font.size'] = 14.0\n",
    "pylab.rcParams['figure.figsize'] = [12.0, 10.0]\n",
    "\n",
    "dadi.Plotting.plot_single_2d_sfs(sfs2d_unfolded, vmin=1, cmap=pylab.cm.jet)"
   ]
  },
  {
   "cell_type": "markdown",
   "metadata": {},
   "source": [
    "Cells with counts below 1 are masked and appear white in the upper plot."
   ]
  },
  {
   "cell_type": "code",
   "execution_count": 12,
   "metadata": {
    "collapsed": true
   },
   "outputs": [],
   "source": [
    "%psource dadi.Plotting.plot_single_2d_sfs"
   ]
  },
  {
   "cell_type": "markdown",
   "metadata": {},
   "source": [
    "[More colormaps](http://www.scipy-lectures.org/intro/matplotlib/index.html#colormaps)"
   ]
  },
  {
   "cell_type": "code",
   "execution_count": 13,
   "metadata": {
    "collapsed": true
   },
   "outputs": [],
   "source": [
    "sfs2d_folded = sfs2d_unfolded.fold()"
   ]
  },
  {
   "cell_type": "code",
   "execution_count": 14,
   "metadata": {
    "collapsed": false
   },
   "outputs": [
    {
     "data": {
      "text/plain": [
       "<matplotlib.colorbar.Colorbar at 0x7f17d146ab50>"
      ]
     },
     "execution_count": 14,
     "metadata": {},
     "output_type": "execute_result"
    },
    {
     "data": {
      "image/png": "[encoded data removed]",
      "text/plain": [
       "<matplotlib.figure.Figure at 0x7f17d8d75390>"
      ]
     },
     "metadata": {},
     "output_type": "display_data"
    }
   ],
   "source": [
    "# plot the folded GLOBAL minor allele frequency spectrum\n",
    "\n",
    "dadi.Plotting.plot_single_2d_sfs(sfs2d_folded, vmin=1, cmap=pylab.cm.jet)"
   ]
  },
  {
   "cell_type": "code",
   "execution_count": 15,
   "metadata": {
    "collapsed": true
   },
   "outputs": [],
   "source": [
    "# setting the smallest grid size slightly larger than the largest population sample size (36)\n",
    "pts_l = [40, 50, 60]"
   ]
  },
  {
   "cell_type": "code",
   "execution_count": 16,
   "metadata": {
    "collapsed": true
   },
   "outputs": [],
   "source": [
    "%pinfo dadi.Demographics2D.split_mig"
   ]
  },
  {
   "cell_type": "markdown",
   "metadata": {},
   "source": [
    "The 1D model fitting has indicated that both _erythropus_ and _parallelus_ underwent population size reduction, maybe starting a long time ago (>400,000 generations)."
   ]
  },
  {
   "cell_type": "code",
   "execution_count": 17,
   "metadata": {
    "collapsed": true
   },
   "outputs": [],
   "source": [
    "%psource dadi.Demographics2D.split_mig"
   ]
  },
  {
   "cell_type": "code",
   "execution_count": 18,
   "metadata": {
    "collapsed": true
   },
   "outputs": [],
   "source": [
    "%psource dadi.Integration.two_pops"
   ]
  },
  {
   "cell_type": "markdown",
   "metadata": {},
   "source": [
    "# simple divergence model"
   ]
  },
  {
   "cell_type": "code",
   "execution_count": 19,
   "metadata": {
    "collapsed": true
   },
   "outputs": [],
   "source": [
    "def split_nomig(params, ns, pts):\n",
    "    \"\"\"\n",
    "    params = (nu1,nu2,T)\n",
    "    ns = (n1,n2)\n",
    "\n",
    "    Split into two populations of specifed size, no migration.\n",
    "\n",
    "    nu1: Size of population 1 after split.\n",
    "    nu2: Size of population 2 after split.\n",
    "    T: Time in the past of split (in units of 2*Na generations) \n",
    "    n1,n2: Sample sizes of resulting Spectrum\n",
    "    pts: Number of grid points to use in integration.\n",
    "    \"\"\"\n",
    "    nu1,nu2,T = params\n",
    "\n",
    "    xx = dadi.Numerics.default_grid(pts)\n",
    "\n",
    "    phi = dadi.PhiManip.phi_1D(xx)\n",
    "    phi = dadi.PhiManip.phi_1D_to_2D(xx, phi)\n",
    "\n",
    "    phi = dadi.Integration.two_pops(phi, xx, T, nu1, nu2, m12=0, m21=0)\n",
    "\n",
    "    fs = dadi.Spectrum.from_phi(phi, ns, (xx,xx))\n",
    "    return fs"
   ]
  },
  {
   "cell_type": "code",
   "execution_count": 20,
   "metadata": {
    "collapsed": false
   },
   "outputs": [
    {
     "data": {
      "text/plain": [
       "<AsyncResult: _push>"
      ]
     },
     "execution_count": 20,
     "metadata": {},
     "output_type": "execute_result"
    }
   ],
   "source": [
    "cl[:].push(dict(split_nomig=split_nomig))"
   ]
  },
  {
   "cell_type": "code",
   "execution_count": 21,
   "metadata": {
    "collapsed": true
   },
   "outputs": [],
   "source": [
    "def run_dadi(p_init): # for the function to be called with map, it needs to have one input variable\n",
    "    \"\"\"\n",
    "    p_init: initial parameter values to run optimisation from\n",
    "    \"\"\"\n",
    "    if perturb == True:\n",
    "        p_init = dadi.Misc.perturb_params(p_init, fold=fold, \n",
    "                                      upper_bound=upper_bound, lower_bound=lower_bound)\n",
    "        # note upper_bound and lower_bound variables are expected to be in the namespace of each engine\n",
    "    # run optimisation of paramters\n",
    "    popt = dadi_opt_func(p0=p_init, data=sfs, model_func=func_ex, pts=pts_l, \\\n",
    "                                   lower_bound=lower_bound, upper_bound=upper_bound, \\\n",
    "                                   verbose=verbose, maxiter=maxiter, full_output=full_output)\n",
    "    # pickle to file\n",
    "    import dill\n",
    "    name = outname[:] # make copy of file name stub!\n",
    "    for p in p_init:\n",
    "        name += \"_%.4f\" % (p)\n",
    "    with open(name + \".dill\", \"w\") as fh:\n",
    "        dill.dump((p_init, popt), fh)\n",
    "    \n",
    "    return p_init, popt"
   ]
  },
  {
   "cell_type": "code",
   "execution_count": 22,
   "metadata": {
    "collapsed": true
   },
   "outputs": [],
   "source": [
    "%%px --local\n",
    "\n",
    "func = split_nomig\n",
    "\n",
    "# create extrapolating version of the model function\n",
    "func_ex = dadi.Numerics.make_extrap_log_func(func)"
   ]
  },
  {
   "cell_type": "code",
   "execution_count": 23,
   "metadata": {
    "collapsed": false
   },
   "outputs": [
    {
     "data": {
      "text/plain": [
       "<AsyncResult: _push>"
      ]
     },
     "execution_count": 23,
     "metadata": {},
     "output_type": "execute_result"
    }
   ],
   "source": [
    "# push folded spectrum to all engines\n",
    "\n",
    "cl[:].push(dict(sfs2d_folded=sfs2d_folded))"
   ]
  },
  {
   "cell_type": "code",
   "execution_count": 24,
   "metadata": {
    "collapsed": false
   },
   "outputs": [],
   "source": [
    "%%px --local\n",
    "\n",
    "# set up global variables on engines required for run_dadi function call\n",
    "\n",
    "dadi_opt_func = dadi.Inference.optimize_log_fmin # uses Nelder-Mead algorithm\n",
    "sfs = sfs2d_folded\n",
    "perturb = True\n",
    "fold = 2 # perturb randomly up to `fold` times 2-fold\n",
    "maxiter = 10 # run a maximum of 10 iterations\n",
    "verbose = 0\n",
    "full_output = True # need to have full output to get the warnflags (see below)\n",
    "outname = \"OUT_2D_models/split_nomig\" # set file name stub for opt. result files"
   ]
  },
  {
   "cell_type": "markdown",
   "metadata": {},
   "source": [
    "Ryan Gutenkunst writes on the dadi forum:\n",
    "> The parameter bounds are primarily about avoiding really slow fits. Calculation with high migration rates and times or small population sizes is much slower, and the optimizer can explore extreme values before settling down. So typically we set migrations rates to be bounded [0, 20ish], times to be [0, 5ish], population sizes to be [1e-3, 1e6ish].\n",
    "\n",
    "Maybe I should set the time parameter to something above 0. "
   ]
  },
  {
   "cell_type": "code",
   "execution_count": 25,
   "metadata": {
    "collapsed": false
   },
   "outputs": [],
   "source": [
    "%%px --local\n",
    "\n",
    "# set lower and upper bounds to nu1, nu2 and T\n",
    "upper_bound = [1e4, 1e4, 5]\n",
    "lower_bound = [1e-4, 1e-4, 0]\n",
    "\n",
    "ns = sfs2d_folded.sample_sizes # both populations have the same sample size\n",
    "\n",
    "# setting the smallest grid size slightly larger than the largest population sample size (36)\n",
    "pts_l = [40, 50, 60]"
   ]
  },
  {
   "cell_type": "markdown",
   "metadata": {},
   "source": [
    "Run locally:"
   ]
  },
  {
   "cell_type": "code",
   "execution_count": 26,
   "metadata": {
    "collapsed": false
   },
   "outputs": [],
   "source": [
    "# perturb parameter neutral values\n",
    "p0 = [0.5, 0.5, 0.5] # split into equal proportions at >200,000 generations ago\n",
    "\n",
    "#run_dadi(p0)"
   ]
  },
  {
   "cell_type": "markdown",
   "metadata": {},
   "source": [
    "It works."
   ]
  },
  {
   "cell_type": "code",
   "execution_count": 29,
   "metadata": {
    "collapsed": true
   },
   "outputs": [],
   "source": [
    "lbview = cl.load_balanced_view()"
   ]
  },
  {
   "cell_type": "code",
   "execution_count": 30,
   "metadata": {
    "collapsed": true
   },
   "outputs": [],
   "source": [
    "from itertools import repeat"
   ]
  },
  {
   "cell_type": "code",
   "execution_count": 31,
   "metadata": {
    "collapsed": true
   },
   "outputs": [],
   "source": [
    "# perturb parameter neutral values\n",
    "p0 = [0.5, 0.5, 0.5] # split into equal proportions at >200,000 generations ago\n",
    "\n",
    "ar_split_nomig_1 = lbview.map(run_dadi, repeat(p0, 10), block=False, order=True)"
   ]
  },
  {
   "cell_type": "code",
   "execution_count": 32,
   "metadata": {
    "collapsed": true
   },
   "outputs": [],
   "source": [
    "def get_flag_count(out, NM=True):\n",
    "    \"\"\"\n",
    "    out: list of tuples, each containing p_init and popt + additional info, including warnflags\n",
    "    as produced by run_dadi.py\n",
    "    \"\"\"\n",
    "    from collections import defaultdict\n",
    "    \n",
    "    if NM: # if ar from Nelder-Mead\n",
    "        i = 4 # the warnflag is reported at index position 4 in the output array\n",
    "    else: # ar from BFGS optimisation\n",
    "        i = 6\n",
    "    \n",
    "    warnflag = defaultdict(int)\n",
    "\n",
    "    for res in out:\n",
    "        if res[1][i] == 1: # notice the change in indexing\n",
    "            warnflag[1] +=1\n",
    "        elif res[1][i] == 2:\n",
    "            warnflag[2] += 1\n",
    "        elif res[1][i] == 0:\n",
    "            warnflag[0] += 1\n",
    "        else:\n",
    "            warnflag[999] +=1\n",
    "    if NM:\n",
    "        print \"success\", warnflag[0]\n",
    "        print \"Maximum number of function evaluations made.\", warnflag[1]\n",
    "        print \"Maximum number of iterations reached.\", warnflag[2]\n",
    "        print \"unknown flag\", warnflag[999]\n",
    "    else:\n",
    "        print \"success\", warnflag[0]\n",
    "        print \"Maximum number of iterations exceeded.\", warnflag[1]\n",
    "        print \"Gradient and/or function calls not changing.\", warnflag[2]\n",
    "        print \"unknown flag\", warnflag[999]"
   ]
  },
  {
   "cell_type": "code",
   "execution_count": 34,
   "metadata": {
    "collapsed": false
   },
   "outputs": [
    {
     "name": "stdout",
     "output_type": "stream",
     "text": [
      "success 0\n",
      "Maximum number of function evaluations made. 0\n",
      "Maximum number of iterations reached. 10\n",
      "unknown flag 0\n"
     ]
    }
   ],
   "source": [
    "get_flag_count(ar_split_nomig_1, NM=True)"
   ]
  },
  {
   "cell_type": "code",
   "execution_count": 35,
   "metadata": {
    "collapsed": true
   },
   "outputs": [],
   "source": [
    "# perturb parameter neutral values\n",
    "p0 = [0.5, 0.5, 0.1] # split into equal proportions at >200,000 generations ago\n",
    "\n",
    "ar_split_nomig_1 = lbview.map(run_dadi, repeat(p0, 10), block=False, order=True)"
   ]
  },
  {
   "cell_type": "code",
   "execution_count": 36,
   "metadata": {
    "collapsed": false
   },
   "outputs": [
    {
     "name": "stdout",
     "output_type": "stream",
     "text": [
      "success 0\n",
      "Maximum number of function evaluations made. 0\n",
      "Maximum number of iterations reached. 10\n",
      "unknown flag 0\n"
     ]
    }
   ],
   "source": [
    "get_flag_count(ar_split_nomig_1, NM=True)"
   ]
  },
  {
   "cell_type": "code",
   "execution_count": 37,
   "metadata": {
    "collapsed": true
   },
   "outputs": [],
   "source": [
    "%%px\n",
    "\n",
    "maxiter = 100"
   ]
  },
  {
   "cell_type": "code",
   "execution_count": 38,
   "metadata": {
    "collapsed": true
   },
   "outputs": [],
   "source": [
    "# perturb parameter neutral values\n",
    "p0 = [0.5, 0.5, 0.1] # split into equal proportions at >200,000 generations ago\n",
    "\n",
    "ar_split_nomig_1 = lbview.map(run_dadi, repeat(p0, 10), block=False, order=True)"
   ]
  },
  {
   "cell_type": "code",
   "execution_count": 48,
   "metadata": {
    "collapsed": false
   },
   "outputs": [
    {
     "data": {
      "text/plain": [
       "40.304026"
      ]
     },
     "execution_count": 48,
     "metadata": {},
     "output_type": "execute_result"
    }
   ],
   "source": [
    "ar_split_nomig_1.wall_time"
   ]
  },
  {
   "cell_type": "code",
   "execution_count": 39,
   "metadata": {
    "collapsed": false
   },
   "outputs": [
    {
     "name": "stdout",
     "output_type": "stream",
     "text": [
      "success 6\n",
      "Maximum number of function evaluations made. 0\n",
      "Maximum number of iterations reached. 4\n",
      "unknown flag 0\n"
     ]
    }
   ],
   "source": [
    "get_flag_count(ar_split_nomig_1, NM=True)"
   ]
  },
  {
   "cell_type": "code",
   "execution_count": 41,
   "metadata": {
    "collapsed": true
   },
   "outputs": [],
   "source": [
    "def flatten(array):\n",
    "    \"\"\"\n",
    "        Returns a list of flattened elements of every inner lists (or tuples)\n",
    "        ****RECURSIVE****\n",
    "    \"\"\"\n",
    "    import numpy\n",
    "    res = []\n",
    "    for el in array:\n",
    "        if isinstance(el, (list, tuple, numpy.ndarray)):\n",
    "            res.extend(flatten(el))\n",
    "            continue\n",
    "        res.append(el)\n",
    "    return list( res )"
   ]
  },
  {
   "cell_type": "code",
   "execution_count": 42,
   "metadata": {
    "collapsed": true
   },
   "outputs": [],
   "source": [
    "import pandas as pd"
   ]
  },
  {
   "cell_type": "code",
   "execution_count": 43,
   "metadata": {
    "collapsed": false
   },
   "outputs": [
    {
     "data": {
      "text/html": [
       "<div>\n",
       "<table border=\"1\" class=\"dataframe\">\n",
       "  <thead>\n",
       "    <tr style=\"text-align: right;\">\n",
       "      <th></th>\n",
       "      <th>nu1_0</th>\n",
       "      <th>nu2_0</th>\n",
       "      <th>T_0</th>\n",
       "      <th>nu1_opt</th>\n",
       "      <th>nu2_opt</th>\n",
       "      <th>T_opt</th>\n",
       "      <th>-logL</th>\n",
       "    </tr>\n",
       "  </thead>\n",
       "  <tbody>\n",
       "    <tr>\n",
       "      <th>3</th>\n",
       "      <td>0.146030</td>\n",
       "      <td>1.659384</td>\n",
       "      <td>0.282181</td>\n",
       "      <td>0.637644</td>\n",
       "      <td>1.229881</td>\n",
       "      <td>0.290447</td>\n",
       "      <td>20387.435816</td>\n",
       "    </tr>\n",
       "    <tr>\n",
       "      <th>2</th>\n",
       "      <td>0.201540</td>\n",
       "      <td>0.651162</td>\n",
       "      <td>0.031593</td>\n",
       "      <td>0.637639</td>\n",
       "      <td>1.229858</td>\n",
       "      <td>0.290441</td>\n",
       "      <td>20387.435817</td>\n",
       "    </tr>\n",
       "    <tr>\n",
       "      <th>0</th>\n",
       "      <td>0.533901</td>\n",
       "      <td>0.839080</td>\n",
       "      <td>0.139849</td>\n",
       "      <td>0.637653</td>\n",
       "      <td>1.229835</td>\n",
       "      <td>0.290444</td>\n",
       "      <td>20387.435818</td>\n",
       "    </tr>\n",
       "    <tr>\n",
       "      <th>4</th>\n",
       "      <td>0.218471</td>\n",
       "      <td>1.740969</td>\n",
       "      <td>0.295402</td>\n",
       "      <td>0.637657</td>\n",
       "      <td>1.229890</td>\n",
       "      <td>0.290440</td>\n",
       "      <td>20387.435819</td>\n",
       "    </tr>\n",
       "    <tr>\n",
       "      <th>1</th>\n",
       "      <td>0.147376</td>\n",
       "      <td>0.642951</td>\n",
       "      <td>0.091625</td>\n",
       "      <td>0.637672</td>\n",
       "      <td>1.229838</td>\n",
       "      <td>0.290449</td>\n",
       "      <td>20387.435820</td>\n",
       "    </tr>\n",
       "    <tr>\n",
       "      <th>5</th>\n",
       "      <td>0.277689</td>\n",
       "      <td>1.509007</td>\n",
       "      <td>0.044130</td>\n",
       "      <td>0.637684</td>\n",
       "      <td>1.229796</td>\n",
       "      <td>0.290440</td>\n",
       "      <td>20387.435837</td>\n",
       "    </tr>\n",
       "  </tbody>\n",
       "</table>\n",
       "</div>"
      ],
      "text/plain": [
       "      nu1_0     nu2_0       T_0   nu1_opt   nu2_opt     T_opt         -logL\n",
       "3  0.146030  1.659384  0.282181  0.637644  1.229881  0.290447  20387.435816\n",
       "2  0.201540  0.651162  0.031593  0.637639  1.229858  0.290441  20387.435817\n",
       "0  0.533901  0.839080  0.139849  0.637653  1.229835  0.290444  20387.435818\n",
       "4  0.218471  1.740969  0.295402  0.637657  1.229890  0.290440  20387.435819\n",
       "1  0.147376  0.642951  0.091625  0.637672  1.229838  0.290449  20387.435820\n",
       "5  0.277689  1.509007  0.044130  0.637684  1.229796  0.290440  20387.435837"
      ]
     },
     "execution_count": 43,
     "metadata": {},
     "output_type": "execute_result"
    }
   ],
   "source": [
    "success = [flatten(out)[:7] for out in ar_split_nomig_1 if out[1][4] == 0]\n",
    "\n",
    "df = pd.DataFrame(data=success, \\\n",
    "                  columns=['nu1_0','nu2_0', 'T_0', 'nu1_opt', 'nu2_opt', 'T_opt', '-logL'])\n",
    "\n",
    "df.sort_values(by='-logL', ascending=True)"
   ]
  },
  {
   "cell_type": "code",
   "execution_count": 49,
   "metadata": {
    "collapsed": true
   },
   "outputs": [],
   "source": [
    "%%px\n",
    "\n",
    "fold = 3 # increase perturbation factor"
   ]
  },
  {
   "cell_type": "code",
   "execution_count": 50,
   "metadata": {
    "collapsed": true
   },
   "outputs": [],
   "source": [
    "# perturb parameter neutral values\n",
    "p0 = [0.637644, 1.229881, 0.29] # use previous optimal parameter values\n",
    "\n",
    "#ar_split_nomig_1 = lbview.map(run_dadi, repeat(p0, 10), block=False, order=True)"
   ]
  },
  {
   "cell_type": "code",
   "execution_count": 51,
   "metadata": {
    "collapsed": false
   },
   "outputs": [
    {
     "name": "stdout",
     "output_type": "stream",
     "text": [
      "success 6\n",
      "Maximum number of function evaluations made. 0\n",
      "Maximum number of iterations reached. 4\n",
      "unknown flag 0\n"
     ]
    }
   ],
   "source": [
    "get_flag_count(ar_split_nomig_1, NM=True)"
   ]
  },
  {
   "cell_type": "code",
   "execution_count": 52,
   "metadata": {
    "collapsed": false
   },
   "outputs": [
    {
     "data": {
      "text/html": [
       "<div>\n",
       "<table border=\"1\" class=\"dataframe\">\n",
       "  <thead>\n",
       "    <tr style=\"text-align: right;\">\n",
       "      <th></th>\n",
       "      <th>nu1_0</th>\n",
       "      <th>nu2_0</th>\n",
       "      <th>T_0</th>\n",
       "      <th>nu1_opt</th>\n",
       "      <th>nu2_opt</th>\n",
       "      <th>T_opt</th>\n",
       "      <th>-logL</th>\n",
       "    </tr>\n",
       "  </thead>\n",
       "  <tbody>\n",
       "    <tr>\n",
       "      <th>4</th>\n",
       "      <td>0.877109</td>\n",
       "      <td>0.741007</td>\n",
       "      <td>0.360840</td>\n",
       "      <td>0.636945</td>\n",
       "      <td>1.229606</td>\n",
       "      <td>0.290465</td>\n",
       "      <td>20387.227270</td>\n",
       "    </tr>\n",
       "    <tr>\n",
       "      <th>1</th>\n",
       "      <td>0.136711</td>\n",
       "      <td>7.063745</td>\n",
       "      <td>0.075557</td>\n",
       "      <td>0.637653</td>\n",
       "      <td>1.229853</td>\n",
       "      <td>0.290442</td>\n",
       "      <td>20387.435815</td>\n",
       "    </tr>\n",
       "    <tr>\n",
       "      <th>2</th>\n",
       "      <td>1.461323</td>\n",
       "      <td>4.088909</td>\n",
       "      <td>2.236886</td>\n",
       "      <td>0.637660</td>\n",
       "      <td>1.229850</td>\n",
       "      <td>0.290445</td>\n",
       "      <td>20387.435815</td>\n",
       "    </tr>\n",
       "    <tr>\n",
       "      <th>3</th>\n",
       "      <td>0.854249</td>\n",
       "      <td>1.682438</td>\n",
       "      <td>0.240684</td>\n",
       "      <td>0.637655</td>\n",
       "      <td>1.229849</td>\n",
       "      <td>0.290445</td>\n",
       "      <td>20387.435815</td>\n",
       "    </tr>\n",
       "    <tr>\n",
       "      <th>5</th>\n",
       "      <td>0.324028</td>\n",
       "      <td>1.847701</td>\n",
       "      <td>0.160416</td>\n",
       "      <td>0.637682</td>\n",
       "      <td>1.229931</td>\n",
       "      <td>0.290459</td>\n",
       "      <td>20387.435816</td>\n",
       "    </tr>\n",
       "    <tr>\n",
       "      <th>0</th>\n",
       "      <td>0.248861</td>\n",
       "      <td>4.984686</td>\n",
       "      <td>0.085569</td>\n",
       "      <td>0.637683</td>\n",
       "      <td>1.229911</td>\n",
       "      <td>0.290450</td>\n",
       "      <td>20387.435817</td>\n",
       "    </tr>\n",
       "  </tbody>\n",
       "</table>\n",
       "</div>"
      ],
      "text/plain": [
       "      nu1_0     nu2_0       T_0   nu1_opt   nu2_opt     T_opt         -logL\n",
       "4  0.877109  0.741007  0.360840  0.636945  1.229606  0.290465  20387.227270\n",
       "1  0.136711  7.063745  0.075557  0.637653  1.229853  0.290442  20387.435815\n",
       "2  1.461323  4.088909  2.236886  0.637660  1.229850  0.290445  20387.435815\n",
       "3  0.854249  1.682438  0.240684  0.637655  1.229849  0.290445  20387.435815\n",
       "5  0.324028  1.847701  0.160416  0.637682  1.229931  0.290459  20387.435816\n",
       "0  0.248861  4.984686  0.085569  0.637683  1.229911  0.290450  20387.435817"
      ]
     },
     "execution_count": 52,
     "metadata": {},
     "output_type": "execute_result"
    }
   ],
   "source": [
    "success = [flatten(out)[:7] for out in ar_split_nomig_1 if out[1][4] == 0]\n",
    "\n",
    "df = pd.DataFrame(data=success, \\\n",
    "                  columns=['nu1_0','nu2_0', 'T_0', 'nu1_opt', 'nu2_opt', 'T_opt', '-logL'])\n",
    "\n",
    "df.sort_values(by='-logL', ascending=True)"
   ]
  },
  {
   "cell_type": "markdown",
   "metadata": {},
   "source": [
    "The optimal parameter values look very robust: very different starting values converge to almost identical optimal parameter values."
   ]
  },
  {
   "cell_type": "code",
   "execution_count": 55,
   "metadata": {
    "collapsed": true
   },
   "outputs": [],
   "source": [
    "# calculate best-fit model spectrum\n",
    "\n",
    "model_spectrum = func_ex((0.636945, 1.229606, 0.290465), ns, pts_l)"
   ]
  },
  {
   "cell_type": "code",
   "execution_count": 56,
   "metadata": {
    "collapsed": true
   },
   "outputs": [],
   "source": [
    "# log likelihood of the observed 2D spectrum given the model\n",
    "\n",
    "ll_model = dadi.Inference.ll_multinom(model_spectrum, sfs2d_folded)"
   ]
  },
  {
   "cell_type": "code",
   "execution_count": 57,
   "metadata": {
    "collapsed": false
   },
   "outputs": [
    {
     "data": {
      "text/plain": [
       "-20387.227246474409"
      ]
     },
     "execution_count": 57,
     "metadata": {},
     "output_type": "execute_result"
    }
   ],
   "source": [
    "ll_model"
   ]
  },
  {
   "cell_type": "markdown",
   "metadata": {},
   "source": [
    "The negative log likelihood of the data given the model is also returned by the full output of the optimisation function (as used above)."
   ]
  },
  {
   "cell_type": "code",
   "execution_count": 58,
   "metadata": {
    "collapsed": true
   },
   "outputs": [],
   "source": [
    "theta = dadi.Inference.optimal_sfs_scaling(model_spectrum, sfs2d_folded)"
   ]
  },
  {
   "cell_type": "code",
   "execution_count": 65,
   "metadata": {
    "collapsed": false
   },
   "outputs": [
    {
     "name": "stdout",
     "output_type": "stream",
     "text": [
      "The optimal value of theta is 9347.\n"
     ]
    }
   ],
   "source": [
    "print \"The optimal value of theta for the ancestral population is {0:4d}.\".format(int(theta))"
   ]
  },
  {
   "cell_type": "code",
   "execution_count": 66,
   "metadata": {
    "collapsed": false
   },
   "outputs": [
    {
     "name": "stdout",
     "output_type": "stream",
     "text": [
      "The total sequence length for the 2D spectrum is 1,130,775.\n",
      "The effective size of the ancestral population of ery and par (in number of diploid individuals) implied by this theta is: 688,875.\n"
     ]
    }
   ],
   "source": [
    "mu = 3e-9\n",
    "L = sfs2d_folded.data.sum() # this sums over all entries in the spectrum, including masked ones, i. e. also contains invariable sites\n",
    "print \"The total sequence length for the 2D spectrum is {0:,}.\".format(int(L))\n",
    "N_ref = theta/L/mu/4\n",
    "print \"The effective size of the ancestral population of ery and par (in number of diploid individuals) implied by this theta is: {0:,}.\".format(int(N_ref))"
   ]
  },
  {
   "cell_type": "code",
   "execution_count": 72,
   "metadata": {
    "collapsed": false
   },
   "outputs": [
    {
     "data": {
      "text/plain": [
       "['ery', 'par']"
      ]
     },
     "execution_count": 72,
     "metadata": {},
     "output_type": "execute_result"
    }
   ],
   "source": [
    "sfs2d_folded.pop_ids"
   ]
  },
  {
   "cell_type": "markdown",
   "metadata": {},
   "source": [
    "I am assuming that $\\nu_1$ refers to _ery_ and $\\nu_2$ refers to _par_. The `split_nomig` model with its optimal parameter values suggests the following:"
   ]
  },
  {
   "cell_type": "code",
   "execution_count": 77,
   "metadata": {
    "collapsed": false
   },
   "outputs": [
    {
     "name": "stdout",
     "output_type": "stream",
     "text": [
      "The ancestral population of ery and par split apart 400,188 generations ago. Since then until present the ery population had a size of 438,776 and the par population of 847,045.\n"
     ]
    }
   ],
   "source": [
    "print \"The ancestral population of ery and par split apart {2:,} generations ago. Since then until present the ery population had a size of {0:,} and the par population of {1:,}.\".format(int(0.636945*N_ref), int(1.229606*N_ref)\n",
    ", int(0.290465*2*N_ref))"
   ]
  },
  {
   "cell_type": "markdown",
   "metadata": {
    "collapsed": true
   },
   "source": [
    "Note, that the fitting of 1D models to the spectra of each population had indicated a population size reduction for both populations and more so for _parallelus_, which seems to contradict what this 2D model says about the two populations."
   ]
  },
  {
   "cell_type": "markdown",
   "metadata": {},
   "source": [
    "## plot"
   ]
  },
  {
   "cell_type": "code",
   "execution_count": 79,
   "metadata": {
    "collapsed": false
   },
   "outputs": [
    {
     "data": {
      "image/png": "[encoded data removed]",
      "text/plain": [
       "<matplotlib.figure.Figure at 0x7f17cebbdfd0>"
      ]
     },
     "metadata": {},
     "output_type": "display_data"
    }
   ],
   "source": [
    "import pylab\n",
    "\n",
    "pylab.rcParams['figure.figsize'] = [14.0, 12.0]\n",
    "pylab.rcParams['font.size'] = 14.0\n",
    "\n",
    "dadi.Plotting.plot_2d_comp_multinom(model_spectrum, sfs2d_folded, vmin=1)"
   ]
  },
  {
   "cell_type": "markdown",
   "metadata": {},
   "source": [
    "A good computer screen is required to see the heatmap of the residuals in full detail."
   ]
  },
  {
   "cell_type": "markdown",
   "metadata": {},
   "source": [
    "The residuals show that the best-fit model has a deficit of fixed divergent SNP's as well as of low frequency shared SNP's."
   ]
  },
  {
   "cell_type": "markdown",
   "metadata": {},
   "source": [
    "Maybe the fit can be improved by introducing gene flow."
   ]
  },
  {
   "cell_type": "markdown",
   "metadata": {},
   "source": [
    "# divergence with migration model"
   ]
  },
  {
   "cell_type": "code",
   "execution_count": 156,
   "metadata": {
    "collapsed": true
   },
   "outputs": [],
   "source": [
    "?dadi.Demographics2D.split_mig"
   ]
  },
  {
   "cell_type": "code",
   "execution_count": 81,
   "metadata": {
    "collapsed": true
   },
   "outputs": [],
   "source": [
    "%%px --local\n",
    "\n",
    "func = dadi.Demographics2D.split_mig\n",
    "\n",
    "func_ex = dadi.Numerics.make_extrap_log_func(func)"
   ]
  },
  {
   "cell_type": "code",
   "execution_count": 82,
   "metadata": {
    "collapsed": true
   },
   "outputs": [],
   "source": [
    "%%px --local\n",
    "\n",
    "# set up global variables on engines required for run_dadi function call\n",
    "\n",
    "dadi_opt_func = dadi.Inference.optimize_log_fmin # uses Nelder-Mead algorithm\n",
    "sfs = sfs2d_folded\n",
    "perturb = True\n",
    "fold = 2 # perturb randomly up to `fold` times 2-fold\n",
    "maxiter = 10 # run a maximum of 10 iterations\n",
    "verbose = 0\n",
    "full_output = True # need to have full output to get the warnflags (see below)\n",
    "outname = \"OUT_2D_models/split_mig\" # set file name stub for opt. result files"
   ]
  },
  {
   "cell_type": "code",
   "execution_count": 83,
   "metadata": {
    "collapsed": true
   },
   "outputs": [],
   "source": [
    "%%px --local\n",
    "\n",
    "# set lower and upper bounds to nu1, nu2, T, m\n",
    "upper_bound = [1e4, 1e4, 2, 10]\n",
    "lower_bound = [1e-4, 1e-4, 0, 0]"
   ]
  },
  {
   "cell_type": "code",
   "execution_count": 84,
   "metadata": {
    "collapsed": true
   },
   "outputs": [],
   "source": [
    "# perturb these parameter values\n",
    "# nu1, nu2, T, m\n",
    "p0 = [0.5, 0.5, 0.1, 0.1] \n",
    "# split into equal proportions at >200,000 generations ago with 1 migrant individual per 10 generations\n",
    "\n",
    "ar_split_mig_1 = lbview.map(run_dadi, repeat(p0, 10), block=False, order=True)"
   ]
  },
  {
   "cell_type": "code",
   "execution_count": 85,
   "metadata": {
    "collapsed": false
   },
   "outputs": [
    {
     "name": "stdout",
     "output_type": "stream",
     "text": [
      "success 0\n",
      "Maximum number of function evaluations made. 0\n",
      "Maximum number of iterations reached. 10\n",
      "unknown flag 0\n"
     ]
    }
   ],
   "source": [
    "get_flag_count(ar_split_mig_1, NM=True)"
   ]
  },
  {
   "cell_type": "code",
   "execution_count": 86,
   "metadata": {
    "collapsed": true
   },
   "outputs": [],
   "source": [
    "%%px\n",
    "\n",
    "fold = 3 # perturb randomly up to `fold` times 2-fold\n",
    "maxiter = 100 # run a maximum of 10 iterations"
   ]
  },
  {
   "cell_type": "code",
   "execution_count": 87,
   "metadata": {
    "collapsed": true
   },
   "outputs": [],
   "source": [
    "# perturb these parameter values\n",
    "p0 = [0.5, 0.5, 0.1, 0.1] \n",
    "# split into equal proportions at >200,000 generations ago with migrant one individual per 10 generations\n",
    "\n",
    "ar_split_mig_1 = lbview.map(run_dadi, repeat(p0, 10), block=False, order=True)"
   ]
  },
  {
   "cell_type": "code",
   "execution_count": 88,
   "metadata": {
    "collapsed": false
   },
   "outputs": [
    {
     "name": "stdout",
     "output_type": "stream",
     "text": [
      "success 0\n",
      "Maximum number of function evaluations made. 0\n",
      "Maximum number of iterations reached. 10\n",
      "unknown flag 0\n"
     ]
    }
   ],
   "source": [
    "get_flag_count(ar_split_mig_1, NM=True)"
   ]
  },
  {
   "cell_type": "code",
   "execution_count": 91,
   "metadata": {
    "collapsed": true
   },
   "outputs": [],
   "source": [
    "# perturb these parameter values\n",
    "p0 = [0.5, 0.5, 0.1, 0.01] \n",
    "# split into equal proportions at >200,000 generations ago with one migrant individual per 100 generations\n",
    "\n",
    "ar_split_mig_1 = lbview.map(run_dadi, repeat(p0, 10), block=False, order=True)"
   ]
  },
  {
   "cell_type": "code",
   "execution_count": 92,
   "metadata": {
    "collapsed": false
   },
   "outputs": [
    {
     "name": "stdout",
     "output_type": "stream",
     "text": [
      "success 0\n",
      "Maximum number of function evaluations made. 0\n",
      "Maximum number of iterations reached. 10\n",
      "unknown flag 0\n"
     ]
    }
   ],
   "source": [
    "get_flag_count(ar_split_mig_1, NM=True)"
   ]
  },
  {
   "cell_type": "code",
   "execution_count": 93,
   "metadata": {
    "collapsed": true
   },
   "outputs": [],
   "source": [
    "# optimal parameters for nomig model: (0.636945, 1.229606, 0.290465)\n",
    "\n",
    "# perturb parameter neutral values\n",
    "p0 = [0.636945, 1.229606, 0.290465, 0.01] \n",
    "# split into equal proportions at >200,000 generations ago with migrant individual per 100 generations\n",
    "\n",
    "ar_split_mig_1 = lbview.map(run_dadi, repeat(p0, 10), block=False, order=True)"
   ]
  },
  {
   "cell_type": "code",
   "execution_count": 94,
   "metadata": {
    "collapsed": false
   },
   "outputs": [
    {
     "name": "stdout",
     "output_type": "stream",
     "text": [
      "success 0\n",
      "Maximum number of function evaluations made. 0\n",
      "Maximum number of iterations reached. 10\n",
      "unknown flag 0\n"
     ]
    }
   ],
   "source": [
    "get_flag_count(ar_split_mig_1, NM=True)"
   ]
  },
  {
   "cell_type": "code",
   "execution_count": 95,
   "metadata": {
    "collapsed": true
   },
   "outputs": [],
   "source": [
    "import numpy as np"
   ]
  },
  {
   "cell_type": "code",
   "execution_count": 97,
   "metadata": {
    "collapsed": false
   },
   "outputs": [
    {
     "data": {
      "text/plain": [
       "array([  1.00000000e-03,   1.56560656e-03,   2.45112389e-03,\n",
       "         3.83749564e-03,   6.00800835e-03,   9.40617727e-03,\n",
       "         1.47263728e-02,   2.30557058e-02,   3.60961643e-02,\n",
       "         5.65123915e-02,   8.84761707e-02,   1.38518873e-01,\n",
       "         2.16866056e-01,   3.39526920e-01,   5.31565572e-01,\n",
       "         8.32222546e-01,   1.30293308e+00,   2.03988057e+00,\n",
       "         3.19365039e+00,   5.00000000e+00])"
      ]
     },
     "execution_count": 97,
     "metadata": {},
     "output_type": "execute_result"
    }
   ],
   "source": [
    "m0 = np.logspace(-3, np.log10(5), base=10, num=20)\n",
    "m0"
   ]
  },
  {
   "cell_type": "code",
   "execution_count": 98,
   "metadata": {
    "collapsed": true
   },
   "outputs": [],
   "source": [
    "from itertools import product"
   ]
  },
  {
   "cell_type": "code",
   "execution_count": 109,
   "metadata": {
    "collapsed": false
   },
   "outputs": [],
   "source": [
    "p0 = [0.636945, 1.229606, 0.290465]\n",
    "\n",
    "# do parameter sweep for migration rate\n",
    "ar_split_mig_1 = lbview.map(run_dadi, [p0 + [m] for m in m0], block=False, order=False)"
   ]
  },
  {
   "cell_type": "code",
   "execution_count": 112,
   "metadata": {
    "collapsed": false
   },
   "outputs": [
    {
     "data": {
      "text/plain": [
       "19"
      ]
     },
     "execution_count": 112,
     "metadata": {},
     "output_type": "execute_result"
    }
   ],
   "source": [
    "ar_split_mig_1.progress"
   ]
  },
  {
   "cell_type": "code",
   "execution_count": 113,
   "metadata": {
    "collapsed": false
   },
   "outputs": [
    {
     "name": "stdout",
     "output_type": "stream",
     "text": [
      "success 0\n",
      "Maximum number of function evaluations made. 0\n",
      "Maximum number of iterations reached. 20\n",
      "unknown flag 0\n"
     ]
    }
   ],
   "source": [
    "get_flag_count(ar_split_mig_1, NM=True)"
   ]
  },
  {
   "cell_type": "code",
   "execution_count": 116,
   "metadata": {
    "collapsed": true
   },
   "outputs": [],
   "source": [
    "p0 = [0.636945, 1.229606, 0.290465, 1e-6]\n",
    "\n",
    "ar_split_mig_1 = lbview.map(run_dadi, [p0], block=False, order=False)"
   ]
  },
  {
   "cell_type": "code",
   "execution_count": 117,
   "metadata": {
    "collapsed": false
   },
   "outputs": [
    {
     "name": "stdout",
     "output_type": "stream",
     "text": [
      "success 0\n",
      "Maximum number of function evaluations made. 0\n",
      "Maximum number of iterations reached. 1\n",
      "unknown flag 0\n"
     ]
    }
   ],
   "source": [
    "get_flag_count(ar_split_mig_1, NM=True)"
   ]
  },
  {
   "cell_type": "code",
   "execution_count": 118,
   "metadata": {
    "collapsed": false
   },
   "outputs": [
    {
     "data": {
      "text/plain": [
       "[(array([  5.67647408e-01,   8.28132232e+00,   2.79617129e-01,\n",
       "           7.13792423e-06]),\n",
       "  (array([  6.37632787e-01,   1.22989019e+00,   2.90446980e-01,\n",
       "            5.49800562e-07]), 20387.430473918725, 100, 178, 2))]"
      ]
     },
     "execution_count": 118,
     "metadata": {},
     "output_type": "execute_result"
    }
   ],
   "source": [
    "ar_split_mig_1.get()"
   ]
  },
  {
   "cell_type": "code",
   "execution_count": 119,
   "metadata": {
    "collapsed": true
   },
   "outputs": [],
   "source": [
    "p0 = [0.636945, 1.229606, 0.290465, 1e-8]\n",
    "\n",
    "ar_split_mig_1 = lbview.map(run_dadi, [p0], block=False, order=False)"
   ]
  },
  {
   "cell_type": "code",
   "execution_count": 120,
   "metadata": {
    "collapsed": false
   },
   "outputs": [
    {
     "data": {
      "text/plain": [
       "[(array([  4.69103735e+00,   6.98005316e+00,   2.34055747e-01,\n",
       "           4.71573909e-09]),\n",
       "  (array([  6.36962650e-01,   1.22844256e+00,   2.89937795e-01,\n",
       "            9.28295473e-21]), 20387.445239922406, 100, 169, 2))]"
      ]
     },
     "execution_count": 120,
     "metadata": {},
     "output_type": "execute_result"
    }
   ],
   "source": [
    "ar_split_mig_1.get()"
   ]
  },
  {
   "cell_type": "code",
   "execution_count": 122,
   "metadata": {
    "collapsed": true
   },
   "outputs": [],
   "source": [
    "%%px\n",
    "\n",
    "maxiter = 500"
   ]
  },
  {
   "cell_type": "code",
   "execution_count": 123,
   "metadata": {
    "collapsed": true
   },
   "outputs": [],
   "source": [
    "# nu1, nu2, T, m:\n",
    "p0 = [0.5, 0.5, 0.1, 1e-4]\n",
    "\n",
    "ar_split_mig_1 = lbview.map(run_dadi, repeat(p0, 20), block=False, order=False)"
   ]
  },
  {
   "cell_type": "code",
   "execution_count": 124,
   "metadata": {
    "collapsed": false
   },
   "outputs": [
    {
     "name": "stdout",
     "output_type": "stream",
     "text": [
      "success 18\n",
      "Maximum number of function evaluations made. 2\n",
      "Maximum number of iterations reached. 0\n",
      "unknown flag 0\n"
     ]
    }
   ],
   "source": [
    "get_flag_count(ar_split_mig_1, NM=True)"
   ]
  },
  {
   "cell_type": "markdown",
   "metadata": {},
   "source": [
    "Apparently, convergence of optimisation requires many more than 100 iterations."
   ]
  },
  {
   "cell_type": "code",
   "execution_count": 125,
   "metadata": {
    "collapsed": false
   },
   "outputs": [
    {
     "data": {
      "text/html": [
       "<div>\n",
       "<table border=\"1\" class=\"dataframe\">\n",
       "  <thead>\n",
       "    <tr style=\"text-align: right;\">\n",
       "      <th></th>\n",
       "      <th>nu1_0</th>\n",
       "      <th>nu2_0</th>\n",
       "      <th>T_0</th>\n",
       "      <th>m_0</th>\n",
       "      <th>nu1_opt</th>\n",
       "      <th>nu2_opt</th>\n",
       "      <th>T_opt</th>\n",
       "      <th>m_opt</th>\n",
       "      <th>-logL</th>\n",
       "    </tr>\n",
       "  </thead>\n",
       "  <tbody>\n",
       "    <tr>\n",
       "      <th>3</th>\n",
       "      <td>0.837500</td>\n",
       "      <td>2.063526</td>\n",
       "      <td>0.058201</td>\n",
       "      <td>0.000110</td>\n",
       "      <td>0.996572</td>\n",
       "      <td>1.771058</td>\n",
       "      <td>0.928727</td>\n",
       "      <td>2.508888e-01</td>\n",
       "      <td>18574.138486</td>\n",
       "    </tr>\n",
       "    <tr>\n",
       "      <th>15</th>\n",
       "      <td>0.208178</td>\n",
       "      <td>2.525835</td>\n",
       "      <td>0.609693</td>\n",
       "      <td>0.000767</td>\n",
       "      <td>0.997653</td>\n",
       "      <td>1.771560</td>\n",
       "      <td>0.931469</td>\n",
       "      <td>2.510613e-01</td>\n",
       "      <td>18574.373801</td>\n",
       "    </tr>\n",
       "    <tr>\n",
       "      <th>14</th>\n",
       "      <td>1.009844</td>\n",
       "      <td>1.115355</td>\n",
       "      <td>0.012909</td>\n",
       "      <td>0.000309</td>\n",
       "      <td>0.992355</td>\n",
       "      <td>1.760054</td>\n",
       "      <td>0.901086</td>\n",
       "      <td>2.470464e-01</td>\n",
       "      <td>18574.974381</td>\n",
       "    </tr>\n",
       "    <tr>\n",
       "      <th>7</th>\n",
       "      <td>0.409099</td>\n",
       "      <td>0.405881</td>\n",
       "      <td>0.168447</td>\n",
       "      <td>0.000052</td>\n",
       "      <td>0.637198</td>\n",
       "      <td>1.230384</td>\n",
       "      <td>0.290581</td>\n",
       "      <td>6.497219e-08</td>\n",
       "      <td>20387.225419</td>\n",
       "    </tr>\n",
       "    <tr>\n",
       "      <th>11</th>\n",
       "      <td>2.175460</td>\n",
       "      <td>0.556770</td>\n",
       "      <td>0.086338</td>\n",
       "      <td>0.000014</td>\n",
       "      <td>0.637198</td>\n",
       "      <td>1.230385</td>\n",
       "      <td>0.290581</td>\n",
       "      <td>1.748376e-20</td>\n",
       "      <td>20387.226053</td>\n",
       "    </tr>\n",
       "    <tr>\n",
       "      <th>5</th>\n",
       "      <td>0.265271</td>\n",
       "      <td>0.129476</td>\n",
       "      <td>0.157514</td>\n",
       "      <td>0.000045</td>\n",
       "      <td>0.637196</td>\n",
       "      <td>1.230384</td>\n",
       "      <td>0.290580</td>\n",
       "      <td>2.583554e-12</td>\n",
       "      <td>20387.226053</td>\n",
       "    </tr>\n",
       "    <tr>\n",
       "      <th>6</th>\n",
       "      <td>0.085281</td>\n",
       "      <td>0.402881</td>\n",
       "      <td>0.364705</td>\n",
       "      <td>0.000042</td>\n",
       "      <td>0.637198</td>\n",
       "      <td>1.230385</td>\n",
       "      <td>0.290581</td>\n",
       "      <td>3.044384e-18</td>\n",
       "      <td>20387.226053</td>\n",
       "    </tr>\n",
       "    <tr>\n",
       "      <th>9</th>\n",
       "      <td>0.115098</td>\n",
       "      <td>0.103779</td>\n",
       "      <td>0.172020</td>\n",
       "      <td>0.000113</td>\n",
       "      <td>0.637162</td>\n",
       "      <td>1.230734</td>\n",
       "      <td>0.290565</td>\n",
       "      <td>4.850122e-15</td>\n",
       "      <td>20387.226666</td>\n",
       "    </tr>\n",
       "    <tr>\n",
       "      <th>17</th>\n",
       "      <td>3.731189</td>\n",
       "      <td>0.119188</td>\n",
       "      <td>0.015205</td>\n",
       "      <td>0.000017</td>\n",
       "      <td>0.637549</td>\n",
       "      <td>1.230015</td>\n",
       "      <td>0.290740</td>\n",
       "      <td>9.454649e-15</td>\n",
       "      <td>20387.229881</td>\n",
       "    </tr>\n",
       "    <tr>\n",
       "      <th>13</th>\n",
       "      <td>1.308999</td>\n",
       "      <td>0.089865</td>\n",
       "      <td>0.482895</td>\n",
       "      <td>0.000052</td>\n",
       "      <td>0.636599</td>\n",
       "      <td>1.228599</td>\n",
       "      <td>0.290307</td>\n",
       "      <td>4.483462e-10</td>\n",
       "      <td>20387.232239</td>\n",
       "    </tr>\n",
       "    <tr>\n",
       "      <th>4</th>\n",
       "      <td>2.699647</td>\n",
       "      <td>0.315091</td>\n",
       "      <td>0.058909</td>\n",
       "      <td>0.000035</td>\n",
       "      <td>0.636512</td>\n",
       "      <td>1.227689</td>\n",
       "      <td>0.290267</td>\n",
       "      <td>8.437228e-12</td>\n",
       "      <td>20387.240897</td>\n",
       "    </tr>\n",
       "    <tr>\n",
       "      <th>2</th>\n",
       "      <td>0.063430</td>\n",
       "      <td>0.646475</td>\n",
       "      <td>0.030202</td>\n",
       "      <td>0.000377</td>\n",
       "      <td>0.640787</td>\n",
       "      <td>1.227274</td>\n",
       "      <td>0.289655</td>\n",
       "      <td>3.001320e-06</td>\n",
       "      <td>20387.309598</td>\n",
       "    </tr>\n",
       "    <tr>\n",
       "      <th>1</th>\n",
       "      <td>0.109039</td>\n",
       "      <td>1.752206</td>\n",
       "      <td>0.068154</td>\n",
       "      <td>0.000323</td>\n",
       "      <td>0.637666</td>\n",
       "      <td>1.229887</td>\n",
       "      <td>0.290450</td>\n",
       "      <td>1.278566e-07</td>\n",
       "      <td>20387.434569</td>\n",
       "    </tr>\n",
       "    <tr>\n",
       "      <th>0</th>\n",
       "      <td>0.355181</td>\n",
       "      <td>0.212621</td>\n",
       "      <td>0.029912</td>\n",
       "      <td>0.000157</td>\n",
       "      <td>0.637670</td>\n",
       "      <td>1.229889</td>\n",
       "      <td>0.290449</td>\n",
       "      <td>2.826076e-08</td>\n",
       "      <td>20387.435537</td>\n",
       "    </tr>\n",
       "    <tr>\n",
       "      <th>8</th>\n",
       "      <td>0.199078</td>\n",
       "      <td>0.146460</td>\n",
       "      <td>0.338920</td>\n",
       "      <td>0.000173</td>\n",
       "      <td>0.637674</td>\n",
       "      <td>1.229910</td>\n",
       "      <td>0.290452</td>\n",
       "      <td>2.509801e-08</td>\n",
       "      <td>20387.435569</td>\n",
       "    </tr>\n",
       "    <tr>\n",
       "      <th>16</th>\n",
       "      <td>0.450847</td>\n",
       "      <td>0.463437</td>\n",
       "      <td>0.108087</td>\n",
       "      <td>0.000060</td>\n",
       "      <td>0.637667</td>\n",
       "      <td>1.229892</td>\n",
       "      <td>0.290450</td>\n",
       "      <td>1.971549e-08</td>\n",
       "      <td>20387.435620</td>\n",
       "    </tr>\n",
       "    <tr>\n",
       "      <th>10</th>\n",
       "      <td>0.318447</td>\n",
       "      <td>0.199418</td>\n",
       "      <td>0.790081</td>\n",
       "      <td>0.000020</td>\n",
       "      <td>0.637670</td>\n",
       "      <td>1.229881</td>\n",
       "      <td>0.290451</td>\n",
       "      <td>3.715424e-09</td>\n",
       "      <td>20387.435776</td>\n",
       "    </tr>\n",
       "    <tr>\n",
       "      <th>12</th>\n",
       "      <td>0.211271</td>\n",
       "      <td>0.683610</td>\n",
       "      <td>0.135427</td>\n",
       "      <td>0.000021</td>\n",
       "      <td>0.637667</td>\n",
       "      <td>1.229884</td>\n",
       "      <td>0.290449</td>\n",
       "      <td>3.917260e-13</td>\n",
       "      <td>20387.435812</td>\n",
       "    </tr>\n",
       "  </tbody>\n",
       "</table>\n",
       "</div>"
      ],
      "text/plain": [
       "       nu1_0     nu2_0       T_0       m_0   nu1_opt   nu2_opt     T_opt  \\\n",
       "3   0.837500  2.063526  0.058201  0.000110  0.996572  1.771058  0.928727   \n",
       "15  0.208178  2.525835  0.609693  0.000767  0.997653  1.771560  0.931469   \n",
       "14  1.009844  1.115355  0.012909  0.000309  0.992355  1.760054  0.901086   \n",
       "7   0.409099  0.405881  0.168447  0.000052  0.637198  1.230384  0.290581   \n",
       "11  2.175460  0.556770  0.086338  0.000014  0.637198  1.230385  0.290581   \n",
       "5   0.265271  0.129476  0.157514  0.000045  0.637196  1.230384  0.290580   \n",
       "6   0.085281  0.402881  0.364705  0.000042  0.637198  1.230385  0.290581   \n",
       "9   0.115098  0.103779  0.172020  0.000113  0.637162  1.230734  0.290565   \n",
       "17  3.731189  0.119188  0.015205  0.000017  0.637549  1.230015  0.290740   \n",
       "13  1.308999  0.089865  0.482895  0.000052  0.636599  1.228599  0.290307   \n",
       "4   2.699647  0.315091  0.058909  0.000035  0.636512  1.227689  0.290267   \n",
       "2   0.063430  0.646475  0.030202  0.000377  0.640787  1.227274  0.289655   \n",
       "1   0.109039  1.752206  0.068154  0.000323  0.637666  1.229887  0.290450   \n",
       "0   0.355181  0.212621  0.029912  0.000157  0.637670  1.229889  0.290449   \n",
       "8   0.199078  0.146460  0.338920  0.000173  0.637674  1.229910  0.290452   \n",
       "16  0.450847  0.463437  0.108087  0.000060  0.637667  1.229892  0.290450   \n",
       "10  0.318447  0.199418  0.790081  0.000020  0.637670  1.229881  0.290451   \n",
       "12  0.211271  0.683610  0.135427  0.000021  0.637667  1.229884  0.290449   \n",
       "\n",
       "           m_opt         -logL  \n",
       "3   2.508888e-01  18574.138486  \n",
       "15  2.510613e-01  18574.373801  \n",
       "14  2.470464e-01  18574.974381  \n",
       "7   6.497219e-08  20387.225419  \n",
       "11  1.748376e-20  20387.226053  \n",
       "5   2.583554e-12  20387.226053  \n",
       "6   3.044384e-18  20387.226053  \n",
       "9   4.850122e-15  20387.226666  \n",
       "17  9.454649e-15  20387.229881  \n",
       "13  4.483462e-10  20387.232239  \n",
       "4   8.437228e-12  20387.240897  \n",
       "2   3.001320e-06  20387.309598  \n",
       "1   1.278566e-07  20387.434569  \n",
       "0   2.826076e-08  20387.435537  \n",
       "8   2.509801e-08  20387.435569  \n",
       "16  1.971549e-08  20387.435620  \n",
       "10  3.715424e-09  20387.435776  \n",
       "12  3.917260e-13  20387.435812  "
      ]
     },
     "execution_count": 125,
     "metadata": {},
     "output_type": "execute_result"
    }
   ],
   "source": [
    "success = [flatten(out)[:9] for out in ar_split_mig_1 if out[1][4] == 0]\n",
    "\n",
    "df = pd.DataFrame(data=success, \\\n",
    "                  columns=['nu1_0','nu2_0', 'T_0', 'm_0', 'nu1_opt', 'nu2_opt', 'T_opt', 'm_opt', '-logL'])\n",
    "\n",
    "df.sort_values(by='-logL', ascending=True)"
   ]
  },
  {
   "cell_type": "markdown",
   "metadata": {},
   "source": [
    "The first three parameter combinations are much more likely than the remaining ones."
   ]
  },
  {
   "cell_type": "code",
   "execution_count": 126,
   "metadata": {
    "collapsed": false
   },
   "outputs": [
    {
     "data": {
      "text/plain": [
       "nu1_opt    0.996572\n",
       "nu2_opt    1.771058\n",
       "T_opt      0.928727\n",
       "m_opt      0.250889\n",
       "Name: 3, dtype: float64"
      ]
     },
     "execution_count": 126,
     "metadata": {},
     "output_type": "execute_result"
    }
   ],
   "source": [
    "# extract optimal parameter combination\n",
    "\n",
    "df.sort_values(by='-logL', ascending=True).iloc[0, 4:8]"
   ]
  },
  {
   "cell_type": "code",
   "execution_count": 128,
   "metadata": {
    "collapsed": false
   },
   "outputs": [],
   "source": [
    "p0 = np.array(df.sort_values(by='-logL', ascending=True).iloc[0, 4:8])\n",
    "\n",
    "ar_split_mig_2 = lbview.map(run_dadi, repeat(p0, 20), block=False, order=False)"
   ]
  },
  {
   "cell_type": "code",
   "execution_count": 129,
   "metadata": {
    "collapsed": false
   },
   "outputs": [
    {
     "data": {
      "text/plain": [
       "19"
      ]
     },
     "execution_count": 129,
     "metadata": {},
     "output_type": "execute_result"
    }
   ],
   "source": [
    "ar_split_mig_2.progress"
   ]
  },
  {
   "cell_type": "code",
   "execution_count": 132,
   "metadata": {
    "collapsed": false
   },
   "outputs": [
    {
     "data": {
      "text/plain": [
       "25.53058113333333"
      ]
     },
     "execution_count": 132,
     "metadata": {},
     "output_type": "execute_result"
    }
   ],
   "source": [
    "ar_split_mig_2.elapsed/60"
   ]
  },
  {
   "cell_type": "code",
   "execution_count": 134,
   "metadata": {
    "collapsed": false
   },
   "outputs": [],
   "source": [
    "import dill, glob\n",
    "\n",
    "ar_split_mig_2 = []\n",
    "\n",
    "for filename in glob.glob(\"OUT_2D_models/split_mig*dill\"):\n",
    "    ar_split_mig_2.append(dill.load(open(filename)))"
   ]
  },
  {
   "cell_type": "code",
   "execution_count": 137,
   "metadata": {
    "collapsed": false
   },
   "outputs": [
    {
     "data": {
      "text/html": [
       "<div>\n",
       "<table border=\"1\" class=\"dataframe\">\n",
       "  <thead>\n",
       "    <tr style=\"text-align: right;\">\n",
       "      <th></th>\n",
       "      <th>nu1_0</th>\n",
       "      <th>nu2_0</th>\n",
       "      <th>T_0</th>\n",
       "      <th>m_0</th>\n",
       "      <th>nu1_opt</th>\n",
       "      <th>nu2_opt</th>\n",
       "      <th>T_opt</th>\n",
       "      <th>m_opt</th>\n",
       "      <th>-logL</th>\n",
       "    </tr>\n",
       "  </thead>\n",
       "  <tbody>\n",
       "    <tr>\n",
       "      <th>8</th>\n",
       "      <td>2.059032</td>\n",
       "      <td>0.360002</td>\n",
       "      <td>0.682463</td>\n",
       "      <td>0.192790</td>\n",
       "      <td>0.994185</td>\n",
       "      <td>1.766127</td>\n",
       "      <td>0.922632</td>\n",
       "      <td>2.506880e-01</td>\n",
       "      <td>18574.119915</td>\n",
       "    </tr>\n",
       "    <tr>\n",
       "      <th>31</th>\n",
       "      <td>0.620927</td>\n",
       "      <td>0.849787</td>\n",
       "      <td>1.980000</td>\n",
       "      <td>1.827165</td>\n",
       "      <td>0.994247</td>\n",
       "      <td>1.766242</td>\n",
       "      <td>0.922690</td>\n",
       "      <td>2.507990e-01</td>\n",
       "      <td>18574.120405</td>\n",
       "    </tr>\n",
       "    <tr>\n",
       "      <th>2</th>\n",
       "      <td>2.894370</td>\n",
       "      <td>11.363772</td>\n",
       "      <td>1.980000</td>\n",
       "      <td>0.272765</td>\n",
       "      <td>0.993365</td>\n",
       "      <td>1.764405</td>\n",
       "      <td>0.921871</td>\n",
       "      <td>2.509119e-01</td>\n",
       "      <td>18574.121486</td>\n",
       "    </tr>\n",
       "    <tr>\n",
       "      <th>28</th>\n",
       "      <td>0.631049</td>\n",
       "      <td>2.924698</td>\n",
       "      <td>0.247732</td>\n",
       "      <td>0.205392</td>\n",
       "      <td>0.993307</td>\n",
       "      <td>1.765318</td>\n",
       "      <td>0.921817</td>\n",
       "      <td>2.509740e-01</td>\n",
       "      <td>18574.122241</td>\n",
       "    </tr>\n",
       "    <tr>\n",
       "      <th>17</th>\n",
       "      <td>0.837500</td>\n",
       "      <td>2.063526</td>\n",
       "      <td>0.058201</td>\n",
       "      <td>0.000110</td>\n",
       "      <td>0.996572</td>\n",
       "      <td>1.771058</td>\n",
       "      <td>0.928727</td>\n",
       "      <td>2.508888e-01</td>\n",
       "      <td>18574.138486</td>\n",
       "    </tr>\n",
       "    <tr>\n",
       "      <th>18</th>\n",
       "      <td>5.535163</td>\n",
       "      <td>3.398472</td>\n",
       "      <td>0.309525</td>\n",
       "      <td>0.169667</td>\n",
       "      <td>0.993863</td>\n",
       "      <td>1.767477</td>\n",
       "      <td>0.925657</td>\n",
       "      <td>2.517209e-01</td>\n",
       "      <td>18574.159471</td>\n",
       "    </tr>\n",
       "    <tr>\n",
       "      <th>15</th>\n",
       "      <td>0.318463</td>\n",
       "      <td>0.315764</td>\n",
       "      <td>0.587406</td>\n",
       "      <td>1.138654</td>\n",
       "      <td>0.989922</td>\n",
       "      <td>1.761280</td>\n",
       "      <td>0.914716</td>\n",
       "      <td>2.507331e-01</td>\n",
       "      <td>18574.164848</td>\n",
       "    </tr>\n",
       "    <tr>\n",
       "      <th>1</th>\n",
       "      <td>0.277233</td>\n",
       "      <td>8.221059</td>\n",
       "      <td>0.976626</td>\n",
       "      <td>0.051974</td>\n",
       "      <td>1.001148</td>\n",
       "      <td>1.776879</td>\n",
       "      <td>0.937823</td>\n",
       "      <td>2.505879e-01</td>\n",
       "      <td>18574.226541</td>\n",
       "    </tr>\n",
       "    <tr>\n",
       "      <th>0</th>\n",
       "      <td>5.653430</td>\n",
       "      <td>3.362330</td>\n",
       "      <td>1.980000</td>\n",
       "      <td>0.101259</td>\n",
       "      <td>0.995994</td>\n",
       "      <td>1.769480</td>\n",
       "      <td>0.927834</td>\n",
       "      <td>2.507786e-01</td>\n",
       "      <td>18574.341908</td>\n",
       "    </tr>\n",
       "    <tr>\n",
       "      <th>33</th>\n",
       "      <td>0.208178</td>\n",
       "      <td>2.525835</td>\n",
       "      <td>0.609693</td>\n",
       "      <td>0.000767</td>\n",
       "      <td>0.997653</td>\n",
       "      <td>1.771560</td>\n",
       "      <td>0.931469</td>\n",
       "      <td>2.510613e-01</td>\n",
       "      <td>18574.373801</td>\n",
       "    </tr>\n",
       "    <tr>\n",
       "      <th>34</th>\n",
       "      <td>0.683625</td>\n",
       "      <td>3.770899</td>\n",
       "      <td>0.327624</td>\n",
       "      <td>0.960373</td>\n",
       "      <td>0.986428</td>\n",
       "      <td>1.750484</td>\n",
       "      <td>0.899651</td>\n",
       "      <td>2.503218e-01</td>\n",
       "      <td>18574.507709</td>\n",
       "    </tr>\n",
       "    <tr>\n",
       "      <th>7</th>\n",
       "      <td>1.009844</td>\n",
       "      <td>1.115355</td>\n",
       "      <td>0.012909</td>\n",
       "      <td>0.000309</td>\n",
       "      <td>0.992355</td>\n",
       "      <td>1.760054</td>\n",
       "      <td>0.901086</td>\n",
       "      <td>2.470464e-01</td>\n",
       "      <td>18574.974381</td>\n",
       "    </tr>\n",
       "    <tr>\n",
       "      <th>5</th>\n",
       "      <td>2.556454</td>\n",
       "      <td>1.352414</td>\n",
       "      <td>1.569898</td>\n",
       "      <td>0.135823</td>\n",
       "      <td>1.194640</td>\n",
       "      <td>2.112713</td>\n",
       "      <td>1.324262</td>\n",
       "      <td>2.303226e-01</td>\n",
       "      <td>18613.113722</td>\n",
       "    </tr>\n",
       "    <tr>\n",
       "      <th>26</th>\n",
       "      <td>0.156669</td>\n",
       "      <td>0.773484</td>\n",
       "      <td>1.980000</td>\n",
       "      <td>0.217233</td>\n",
       "      <td>1.412143</td>\n",
       "      <td>2.455870</td>\n",
       "      <td>1.850644</td>\n",
       "      <td>2.074998e-01</td>\n",
       "      <td>18670.013487</td>\n",
       "    </tr>\n",
       "    <tr>\n",
       "      <th>9</th>\n",
       "      <td>6.348379</td>\n",
       "      <td>0.230012</td>\n",
       "      <td>1.457648</td>\n",
       "      <td>0.117155</td>\n",
       "      <td>1.464282</td>\n",
       "      <td>2.548749</td>\n",
       "      <td>1.990301</td>\n",
       "      <td>2.024862e-01</td>\n",
       "      <td>18681.403063</td>\n",
       "    </tr>\n",
       "    <tr>\n",
       "      <th>24</th>\n",
       "      <td>0.409099</td>\n",
       "      <td>0.405881</td>\n",
       "      <td>0.168447</td>\n",
       "      <td>0.000052</td>\n",
       "      <td>0.637198</td>\n",
       "      <td>1.230384</td>\n",
       "      <td>0.290581</td>\n",
       "      <td>6.497219e-08</td>\n",
       "      <td>20387.225419</td>\n",
       "    </tr>\n",
       "    <tr>\n",
       "      <th>23</th>\n",
       "      <td>2.175460</td>\n",
       "      <td>0.556770</td>\n",
       "      <td>0.086338</td>\n",
       "      <td>0.000014</td>\n",
       "      <td>0.637198</td>\n",
       "      <td>1.230385</td>\n",
       "      <td>0.290581</td>\n",
       "      <td>1.748376e-20</td>\n",
       "      <td>20387.226053</td>\n",
       "    </tr>\n",
       "    <tr>\n",
       "      <th>12</th>\n",
       "      <td>0.265271</td>\n",
       "      <td>0.129476</td>\n",
       "      <td>0.157514</td>\n",
       "      <td>0.000045</td>\n",
       "      <td>0.637196</td>\n",
       "      <td>1.230384</td>\n",
       "      <td>0.290580</td>\n",
       "      <td>2.583554e-12</td>\n",
       "      <td>20387.226053</td>\n",
       "    </tr>\n",
       "    <tr>\n",
       "      <th>25</th>\n",
       "      <td>0.085281</td>\n",
       "      <td>0.402881</td>\n",
       "      <td>0.364705</td>\n",
       "      <td>0.000042</td>\n",
       "      <td>0.637198</td>\n",
       "      <td>1.230385</td>\n",
       "      <td>0.290581</td>\n",
       "      <td>3.044384e-18</td>\n",
       "      <td>20387.226053</td>\n",
       "    </tr>\n",
       "    <tr>\n",
       "      <th>16</th>\n",
       "      <td>0.115098</td>\n",
       "      <td>0.103779</td>\n",
       "      <td>0.172020</td>\n",
       "      <td>0.000113</td>\n",
       "      <td>0.637162</td>\n",
       "      <td>1.230734</td>\n",
       "      <td>0.290565</td>\n",
       "      <td>4.850122e-15</td>\n",
       "      <td>20387.226666</td>\n",
       "    </tr>\n",
       "    <tr>\n",
       "      <th>27</th>\n",
       "      <td>3.731189</td>\n",
       "      <td>0.119188</td>\n",
       "      <td>0.015205</td>\n",
       "      <td>0.000017</td>\n",
       "      <td>0.637549</td>\n",
       "      <td>1.230015</td>\n",
       "      <td>0.290740</td>\n",
       "      <td>9.454649e-15</td>\n",
       "      <td>20387.229881</td>\n",
       "    </tr>\n",
       "    <tr>\n",
       "      <th>19</th>\n",
       "      <td>1.308999</td>\n",
       "      <td>0.089865</td>\n",
       "      <td>0.482895</td>\n",
       "      <td>0.000052</td>\n",
       "      <td>0.636599</td>\n",
       "      <td>1.228599</td>\n",
       "      <td>0.290307</td>\n",
       "      <td>4.483462e-10</td>\n",
       "      <td>20387.232239</td>\n",
       "    </tr>\n",
       "    <tr>\n",
       "      <th>32</th>\n",
       "      <td>2.699647</td>\n",
       "      <td>0.315091</td>\n",
       "      <td>0.058909</td>\n",
       "      <td>0.000035</td>\n",
       "      <td>0.636512</td>\n",
       "      <td>1.227689</td>\n",
       "      <td>0.290267</td>\n",
       "      <td>8.437228e-12</td>\n",
       "      <td>20387.240897</td>\n",
       "    </tr>\n",
       "    <tr>\n",
       "      <th>20</th>\n",
       "      <td>0.063430</td>\n",
       "      <td>0.646475</td>\n",
       "      <td>0.030202</td>\n",
       "      <td>0.000377</td>\n",
       "      <td>0.640787</td>\n",
       "      <td>1.227274</td>\n",
       "      <td>0.289655</td>\n",
       "      <td>3.001320e-06</td>\n",
       "      <td>20387.309598</td>\n",
       "    </tr>\n",
       "    <tr>\n",
       "      <th>14</th>\n",
       "      <td>0.109039</td>\n",
       "      <td>1.752206</td>\n",
       "      <td>0.068154</td>\n",
       "      <td>0.000323</td>\n",
       "      <td>0.637666</td>\n",
       "      <td>1.229887</td>\n",
       "      <td>0.290450</td>\n",
       "      <td>1.278566e-07</td>\n",
       "      <td>20387.434569</td>\n",
       "    </tr>\n",
       "    <tr>\n",
       "      <th>11</th>\n",
       "      <td>0.355181</td>\n",
       "      <td>0.212621</td>\n",
       "      <td>0.029912</td>\n",
       "      <td>0.000157</td>\n",
       "      <td>0.637670</td>\n",
       "      <td>1.229889</td>\n",
       "      <td>0.290449</td>\n",
       "      <td>2.826076e-08</td>\n",
       "      <td>20387.435537</td>\n",
       "    </tr>\n",
       "    <tr>\n",
       "      <th>21</th>\n",
       "      <td>0.199078</td>\n",
       "      <td>0.146460</td>\n",
       "      <td>0.338920</td>\n",
       "      <td>0.000173</td>\n",
       "      <td>0.637674</td>\n",
       "      <td>1.229910</td>\n",
       "      <td>0.290452</td>\n",
       "      <td>2.509801e-08</td>\n",
       "      <td>20387.435569</td>\n",
       "    </tr>\n",
       "    <tr>\n",
       "      <th>30</th>\n",
       "      <td>0.450847</td>\n",
       "      <td>0.463437</td>\n",
       "      <td>0.108087</td>\n",
       "      <td>0.000060</td>\n",
       "      <td>0.637667</td>\n",
       "      <td>1.229892</td>\n",
       "      <td>0.290450</td>\n",
       "      <td>1.971549e-08</td>\n",
       "      <td>20387.435620</td>\n",
       "    </tr>\n",
       "    <tr>\n",
       "      <th>13</th>\n",
       "      <td>0.318447</td>\n",
       "      <td>0.199418</td>\n",
       "      <td>0.790081</td>\n",
       "      <td>0.000020</td>\n",
       "      <td>0.637670</td>\n",
       "      <td>1.229881</td>\n",
       "      <td>0.290451</td>\n",
       "      <td>3.715424e-09</td>\n",
       "      <td>20387.435776</td>\n",
       "    </tr>\n",
       "    <tr>\n",
       "      <th>6</th>\n",
       "      <td>0.211271</td>\n",
       "      <td>0.683610</td>\n",
       "      <td>0.135427</td>\n",
       "      <td>0.000021</td>\n",
       "      <td>0.637667</td>\n",
       "      <td>1.229884</td>\n",
       "      <td>0.290449</td>\n",
       "      <td>3.917260e-13</td>\n",
       "      <td>20387.435812</td>\n",
       "    </tr>\n",
       "    <tr>\n",
       "      <th>4</th>\n",
       "      <td>0.670075</td>\n",
       "      <td>0.343239</td>\n",
       "      <td>1.980000</td>\n",
       "      <td>0.080259</td>\n",
       "      <td>0.632513</td>\n",
       "      <td>1.349728</td>\n",
       "      <td>2.000000</td>\n",
       "      <td>4.635045e-01</td>\n",
       "      <td>21059.797882</td>\n",
       "    </tr>\n",
       "    <tr>\n",
       "      <th>29</th>\n",
       "      <td>0.239562</td>\n",
       "      <td>0.556576</td>\n",
       "      <td>1.980000</td>\n",
       "      <td>0.031463</td>\n",
       "      <td>0.329749</td>\n",
       "      <td>0.596793</td>\n",
       "      <td>2.000000</td>\n",
       "      <td>1.044005e+00</td>\n",
       "      <td>23734.741735</td>\n",
       "    </tr>\n",
       "    <tr>\n",
       "      <th>10</th>\n",
       "      <td>5.874411</td>\n",
       "      <td>4.471090</td>\n",
       "      <td>1.980000</td>\n",
       "      <td>1.041556</td>\n",
       "      <td>6.145361</td>\n",
       "      <td>3.497838</td>\n",
       "      <td>1.999943</td>\n",
       "      <td>1.044327e+00</td>\n",
       "      <td>68992.522571</td>\n",
       "    </tr>\n",
       "    <tr>\n",
       "      <th>22</th>\n",
       "      <td>6.807827</td>\n",
       "      <td>3.585435</td>\n",
       "      <td>0.328641</td>\n",
       "      <td>1.217099</td>\n",
       "      <td>9.899311</td>\n",
       "      <td>1.285312</td>\n",
       "      <td>0.766758</td>\n",
       "      <td>1.552602e+00</td>\n",
       "      <td>71150.567474</td>\n",
       "    </tr>\n",
       "    <tr>\n",
       "      <th>3</th>\n",
       "      <td>2.157397</td>\n",
       "      <td>13.379040</td>\n",
       "      <td>1.980000</td>\n",
       "      <td>1.878685</td>\n",
       "      <td>1.662449</td>\n",
       "      <td>13.064076</td>\n",
       "      <td>1.999990</td>\n",
       "      <td>2.253679e+00</td>\n",
       "      <td>79308.735709</td>\n",
       "    </tr>\n",
       "  </tbody>\n",
       "</table>\n",
       "</div>"
      ],
      "text/plain": [
       "       nu1_0      nu2_0       T_0       m_0   nu1_opt    nu2_opt     T_opt  \\\n",
       "8   2.059032   0.360002  0.682463  0.192790  0.994185   1.766127  0.922632   \n",
       "31  0.620927   0.849787  1.980000  1.827165  0.994247   1.766242  0.922690   \n",
       "2   2.894370  11.363772  1.980000  0.272765  0.993365   1.764405  0.921871   \n",
       "28  0.631049   2.924698  0.247732  0.205392  0.993307   1.765318  0.921817   \n",
       "17  0.837500   2.063526  0.058201  0.000110  0.996572   1.771058  0.928727   \n",
       "18  5.535163   3.398472  0.309525  0.169667  0.993863   1.767477  0.925657   \n",
       "15  0.318463   0.315764  0.587406  1.138654  0.989922   1.761280  0.914716   \n",
       "1   0.277233   8.221059  0.976626  0.051974  1.001148   1.776879  0.937823   \n",
       "0   5.653430   3.362330  1.980000  0.101259  0.995994   1.769480  0.927834   \n",
       "33  0.208178   2.525835  0.609693  0.000767  0.997653   1.771560  0.931469   \n",
       "34  0.683625   3.770899  0.327624  0.960373  0.986428   1.750484  0.899651   \n",
       "7   1.009844   1.115355  0.012909  0.000309  0.992355   1.760054  0.901086   \n",
       "5   2.556454   1.352414  1.569898  0.135823  1.194640   2.112713  1.324262   \n",
       "26  0.156669   0.773484  1.980000  0.217233  1.412143   2.455870  1.850644   \n",
       "9   6.348379   0.230012  1.457648  0.117155  1.464282   2.548749  1.990301   \n",
       "24  0.409099   0.405881  0.168447  0.000052  0.637198   1.230384  0.290581   \n",
       "23  2.175460   0.556770  0.086338  0.000014  0.637198   1.230385  0.290581   \n",
       "12  0.265271   0.129476  0.157514  0.000045  0.637196   1.230384  0.290580   \n",
       "25  0.085281   0.402881  0.364705  0.000042  0.637198   1.230385  0.290581   \n",
       "16  0.115098   0.103779  0.172020  0.000113  0.637162   1.230734  0.290565   \n",
       "27  3.731189   0.119188  0.015205  0.000017  0.637549   1.230015  0.290740   \n",
       "19  1.308999   0.089865  0.482895  0.000052  0.636599   1.228599  0.290307   \n",
       "32  2.699647   0.315091  0.058909  0.000035  0.636512   1.227689  0.290267   \n",
       "20  0.063430   0.646475  0.030202  0.000377  0.640787   1.227274  0.289655   \n",
       "14  0.109039   1.752206  0.068154  0.000323  0.637666   1.229887  0.290450   \n",
       "11  0.355181   0.212621  0.029912  0.000157  0.637670   1.229889  0.290449   \n",
       "21  0.199078   0.146460  0.338920  0.000173  0.637674   1.229910  0.290452   \n",
       "30  0.450847   0.463437  0.108087  0.000060  0.637667   1.229892  0.290450   \n",
       "13  0.318447   0.199418  0.790081  0.000020  0.637670   1.229881  0.290451   \n",
       "6   0.211271   0.683610  0.135427  0.000021  0.637667   1.229884  0.290449   \n",
       "4   0.670075   0.343239  1.980000  0.080259  0.632513   1.349728  2.000000   \n",
       "29  0.239562   0.556576  1.980000  0.031463  0.329749   0.596793  2.000000   \n",
       "10  5.874411   4.471090  1.980000  1.041556  6.145361   3.497838  1.999943   \n",
       "22  6.807827   3.585435  0.328641  1.217099  9.899311   1.285312  0.766758   \n",
       "3   2.157397  13.379040  1.980000  1.878685  1.662449  13.064076  1.999990   \n",
       "\n",
       "           m_opt         -logL  \n",
       "8   2.506880e-01  18574.119915  \n",
       "31  2.507990e-01  18574.120405  \n",
       "2   2.509119e-01  18574.121486  \n",
       "28  2.509740e-01  18574.122241  \n",
       "17  2.508888e-01  18574.138486  \n",
       "18  2.517209e-01  18574.159471  \n",
       "15  2.507331e-01  18574.164848  \n",
       "1   2.505879e-01  18574.226541  \n",
       "0   2.507786e-01  18574.341908  \n",
       "33  2.510613e-01  18574.373801  \n",
       "34  2.503218e-01  18574.507709  \n",
       "7   2.470464e-01  18574.974381  \n",
       "5   2.303226e-01  18613.113722  \n",
       "26  2.074998e-01  18670.013487  \n",
       "9   2.024862e-01  18681.403063  \n",
       "24  6.497219e-08  20387.225419  \n",
       "23  1.748376e-20  20387.226053  \n",
       "12  2.583554e-12  20387.226053  \n",
       "25  3.044384e-18  20387.226053  \n",
       "16  4.850122e-15  20387.226666  \n",
       "27  9.454649e-15  20387.229881  \n",
       "19  4.483462e-10  20387.232239  \n",
       "32  8.437228e-12  20387.240897  \n",
       "20  3.001320e-06  20387.309598  \n",
       "14  1.278566e-07  20387.434569  \n",
       "11  2.826076e-08  20387.435537  \n",
       "21  2.509801e-08  20387.435569  \n",
       "30  1.971549e-08  20387.435620  \n",
       "13  3.715424e-09  20387.435776  \n",
       "6   3.917260e-13  20387.435812  \n",
       "4   4.635045e-01  21059.797882  \n",
       "29  1.044005e+00  23734.741735  \n",
       "10  1.044327e+00  68992.522571  \n",
       "22  1.552602e+00  71150.567474  \n",
       "3   2.253679e+00  79308.735709  "
      ]
     },
     "execution_count": 137,
     "metadata": {},
     "output_type": "execute_result"
    }
   ],
   "source": [
    "success = [flatten(out)[:9] for out in ar_split_mig_2 if out[1][4] == 0]\n",
    "\n",
    "df = pd.DataFrame(data=success, \\\n",
    "                  columns=['nu1_0','nu2_0', 'T_0', 'm_0', 'nu1_opt', 'nu2_opt', 'T_opt', 'm_opt', '-logL'])\n",
    "\n",
    "df.sort_values(by='-logL', ascending=True)"
   ]
  },
  {
   "cell_type": "markdown",
   "metadata": {},
   "source": [
    "Parameter combinations with neg. log likelihood of 20387 are almost identical to the `split-no-migration` from above. Adding some gene flow improves the likelihood of the model."
   ]
  },
  {
   "cell_type": "code",
   "execution_count": 138,
   "metadata": {
    "collapsed": false
   },
   "outputs": [
    {
     "data": {
      "text/plain": [
       "nu1_opt    0.994185\n",
       "nu2_opt    1.766127\n",
       "T_opt      0.922632\n",
       "m_opt      0.250688\n",
       "Name: 8, dtype: float64"
      ]
     },
     "execution_count": 138,
     "metadata": {},
     "output_type": "execute_result"
    }
   ],
   "source": [
    "df.sort_values(by='-logL', ascending=True).iloc[0, 4:8]"
   ]
  },
  {
   "cell_type": "code",
   "execution_count": 139,
   "metadata": {
    "collapsed": true
   },
   "outputs": [],
   "source": [
    "popt = np.array(df.sort_values(by='-logL', ascending=True).iloc[0, 4:8])"
   ]
  },
  {
   "cell_type": "code",
   "execution_count": 142,
   "metadata": {
    "collapsed": true
   },
   "outputs": [],
   "source": [
    "# calculate best-fit model spectrum\n",
    "\n",
    "model_spectrum = func_ex(popt, ns, pts_l)"
   ]
  },
  {
   "cell_type": "code",
   "execution_count": 143,
   "metadata": {
    "collapsed": true
   },
   "outputs": [],
   "source": [
    "# log likelihood of the observed 2D spectrum given the model\n",
    "\n",
    "ll_model = dadi.Inference.ll_multinom(model_spectrum, sfs2d_folded)"
   ]
  },
  {
   "cell_type": "code",
   "execution_count": 144,
   "metadata": {
    "collapsed": false
   },
   "outputs": [
    {
     "data": {
      "text/plain": [
       "-18574.119915473293"
      ]
     },
     "execution_count": 144,
     "metadata": {},
     "output_type": "execute_result"
    }
   ],
   "source": [
    "ll_model"
   ]
  },
  {
   "cell_type": "markdown",
   "metadata": {},
   "source": [
    "## plot"
   ]
  },
  {
   "cell_type": "code",
   "execution_count": 145,
   "metadata": {
    "collapsed": false
   },
   "outputs": [
    {
     "data": {
      "image/png": "[encoded data removed]",
      "text/plain": [
       "<matplotlib.figure.Figure at 0x7f17c8f2da50>"
      ]
     },
     "metadata": {},
     "output_type": "display_data"
    }
   ],
   "source": [
    "dadi.Plotting.plot_2d_comp_multinom(model_spectrum, sfs2d_folded, vmin=1)"
   ]
  },
  {
   "cell_type": "markdown",
   "metadata": {},
   "source": [
    "This has reduced the residuals for low frequency shared polymorphisms, but the model still cannot fit divergently fixed SNP's well."
   ]
  },
  {
   "cell_type": "markdown",
   "metadata": {
    "collapsed": true
   },
   "source": [
    "What does this model fit say in plain English:"
   ]
  },
  {
   "cell_type": "code",
   "execution_count": 165,
   "metadata": {
    "collapsed": false
   },
   "outputs": [
    {
     "name": "stdout",
     "output_type": "stream",
     "text": [
      "The ancestral population split apart 1,271,157 generation ago. Since then, ery and par had a constant population size of 684,870 and 1,216,642, respectively. The two diverging populations were exchanging one migrant in each direction every 3.99 genertions.\n"
     ]
    }
   ],
   "source": [
    "print \"The ancestral population split apart {2:,} generation ago. Since then, ery and par had a constant population size of {0:,} and {1:,}, respectively. The two diverging populations were exchanging one migrant in each direction every {3:.2f} genertions.\".format(int(popt[0]*N_ref), int(popt[1]*N_ref), int(popt[2]*2*N_ref), 1.0/popt[3])"
   ]
  },
  {
   "cell_type": "markdown",
   "metadata": {},
   "source": [
    "The dadi manual says about the migration rate parameter (on page 11):\n",
    "\n",
    ">The migration parameter m12 specifies the rate of migration from pop 2 into pop 1. It is equal to the fraction of individuals each generation in pop 1 that are new migrants from pop 2, times the 2Nref.\n",
    "\n",
    "So the migration rate has units of number of diploid immigrant individuals per generation."
   ]
  },
  {
   "cell_type": "markdown",
   "metadata": {},
   "source": [
    "## LRT"
   ]
  },
  {
   "cell_type": "markdown",
   "metadata": {},
   "source": [
    "Is the model *with* migration significantly better than the model *without* migration?"
   ]
  },
  {
   "cell_type": "markdown",
   "metadata": {},
   "source": [
    "From the dadi manual:\n",
    "\n",
    ">The full likelihood ratio test statistic is equal to $D = 2(ll_c - ll_s)$ where $ll_c$ and $ll_s$ are the likelihoods of the complex and simple model, respectively.\n",
    "\n",
    "$D$ should be $\\chi^2$ distributed\n",
    "\n",
    ">with degrees of freedom equal to the difference in number of parameters between the simple and complex model."
   ]
  },
  {
   "cell_type": "markdown",
   "metadata": {},
   "source": [
    "Not all SNP's in the spectrum will be unlinked with each other. Therefore, the *likelihoods* calculated are *composite likelihoods*. Dadi can calculate an adjustment factor for $D$ that corrects for linkage. However, this requires bootstrapped data sets, which I haven't created yet. In the following calculation I am assuming that all SNP's can be assumed independent data points."
   ]
  },
  {
   "cell_type": "code",
   "execution_count": 169,
   "metadata": {
    "collapsed": true
   },
   "outputs": [],
   "source": [
    "ll_c = dadi.Inference.ll_multinom(model_spectrum, sfs2d_folded)"
   ]
  },
  {
   "cell_type": "code",
   "execution_count": 170,
   "metadata": {
    "collapsed": true
   },
   "outputs": [],
   "source": [
    "func = split_nomig\n",
    "\n",
    "# create extrapolating version of the model function\n",
    "func_ex = dadi.Numerics.make_extrap_log_func(func)\n",
    "\n",
    "# calculate best-fit model spectrum with optimal parameter values\n",
    "model_spectrum = func_ex((0.636945, 1.229606, 0.290465), ns, pts_l)\n",
    "\n",
    "ll_s = dadi.Inference.ll_multinom(model_spectrum, sfs2d_folded)"
   ]
  },
  {
   "cell_type": "code",
   "execution_count": 173,
   "metadata": {
    "collapsed": false
   },
   "outputs": [
    {
     "data": {
      "text/plain": [
       "3626.2146620022322"
      ]
     },
     "execution_count": 173,
     "metadata": {},
     "output_type": "execute_result"
    }
   ],
   "source": [
    "D = 2*(ll_c - ll_s)\n",
    "D"
   ]
  },
  {
   "cell_type": "code",
   "execution_count": 177,
   "metadata": {
    "collapsed": false
   },
   "outputs": [
    {
     "data": {
      "text/plain": [
       "0.0"
      ]
     },
     "execution_count": 177,
     "metadata": {},
     "output_type": "execute_result"
    }
   ],
   "source": [
    "# calculate p-value for Chi-square dist. with 1 degree of freedom\n",
    "p = dadi.Godambe.sum_chi2_ppf(D)\n",
    "p"
   ]
  },
  {
   "cell_type": "markdown",
   "metadata": {},
   "source": [
    "Gene flow significantly improves the fit to the observed spectrum. I doubt that there could be enough linkage in the data to compromise this result."
   ]
  }
 ],
 "metadata": {
  "anaconda-cloud": {},
  "kernelspec": {
   "display_name": "Python [default]",
   "language": "python",
   "name": "python2"
  },
  "language_info": {
   "codemirror_mode": {
    "name": "ipython",
    "version": 2
   },
   "file_extension": ".py",
   "mimetype": "text/x-python",
   "name": "python",
   "nbconvert_exporter": "python",
   "pygments_lexer": "ipython2",
   "version": "2.7.12"
  },
  "toc": {
   "colors": {
    "hover_highlight": "#DAA520",
    "running_highlight": "#FF0000",
    "selected_highlight": "#FFD700"
   },
   "moveMenuLeft": true,
   "nav_menu": {
    "height": "12px",
    "width": "252px"
   },
   "navigate_menu": true,
   "number_sections": true,
   "sideBar": true,
   "threshold": 4,
   "toc_cell": true,
   "toc_section_display": "block",
   "toc_window_display": true
  }
 },
 "nbformat": 4,
 "nbformat_minor": 0
}
