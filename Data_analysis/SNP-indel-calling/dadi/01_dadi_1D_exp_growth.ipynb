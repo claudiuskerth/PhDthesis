{
 "cells": [
  {
   "cell_type": "markdown",
   "metadata": {
    "toc": "true"
   },
   "source": [
    "# Table of Contents\n",
    " <p><div class=\"lev2 toc-item\"><a data-toc-modified-id=\"Import-dadi-on-all-engines-01\" href=\"#Import-dadi-on-all-engines\"><span class=\"toc-item-num\">0.1&nbsp;&nbsp;</span>Import dadi on all engines</a></div><div class=\"lev2 toc-item\"><a data-toc-modified-id=\"Load-1D-SFS-02\" href=\"#Load-1D-SFS\"><span class=\"toc-item-num\">0.2&nbsp;&nbsp;</span>Load 1D SFS</a></div><div class=\"lev2 toc-item\"><a data-toc-modified-id=\"Exponential-growth-model-03\" href=\"#Exponential-growth-model\"><span class=\"toc-item-num\">0.3&nbsp;&nbsp;</span>Exponential growth model</a></div><div class=\"lev3 toc-item\"><a data-toc-modified-id=\"create-combinations-of-starting-values-for-optimisation-031\" href=\"#create-combinations-of-starting-values-for-optimisation\"><span class=\"toc-item-num\">0.3.1&nbsp;&nbsp;</span>create combinations of starting values for optimisation</a></div><div class=\"lev3 toc-item\"><a data-toc-modified-id=\"ery-032\" href=\"#ery\"><span class=\"toc-item-num\">0.3.2&nbsp;&nbsp;</span><em>ery</em></a></div><div class=\"lev4 toc-item\"><a data-toc-modified-id=\"run-optimisation-on-1D-SFS-of-0321\" href=\"#run-optimisation-on-1D-SFS-of\"><span class=\"toc-item-num\">0.3.2.1&nbsp;&nbsp;</span>run optimisation on 1D SFS of</a></div><div class=\"lev4 toc-item\"><a data-toc-modified-id=\"calculate-log-likelihood-of-each-set-of-optimised-parameters-0322\" href=\"#calculate-log-likelihood-of-each-set-of-optimised-parameters\"><span class=\"toc-item-num\">0.3.2.2&nbsp;&nbsp;</span>calculate log likelihood of each set of optimised parameters</a></div><div class=\"lev4 toc-item\"><a data-toc-modified-id=\"residual-plots-0323\" href=\"#residual-plots\"><span class=\"toc-item-num\">0.3.2.3&nbsp;&nbsp;</span>residual plots</a></div><div class=\"lev4 toc-item\"><a data-toc-modified-id=\"different-optimisation-algorithms-0324\" href=\"#different-optimisation-algorithms\"><span class=\"toc-item-num\">0.3.2.4&nbsp;&nbsp;</span>different optimisation algorithms</a></div><div class=\"lev3 toc-item\"><a data-toc-modified-id=\"par-033\" href=\"#par\"><span class=\"toc-item-num\">0.3.3&nbsp;&nbsp;</span><em>par</em></a></div><div class=\"lev4 toc-item\"><a data-toc-modified-id=\"run-optimisation-on-1D-SFS-of-par-0331\" href=\"#run-optimisation-on-1D-SFS-of-par\"><span class=\"toc-item-num\">0.3.3.1&nbsp;&nbsp;</span>run optimisation on 1D SFS of par</a></div><div class=\"lev1 toc-item\"><a data-toc-modified-id=\"Recommended-parameter-boundaries-1\" href=\"#Recommended-parameter-boundaries\"><span class=\"toc-item-num\">1&nbsp;&nbsp;</span>Recommended parameter boundaries</a></div><div class=\"lev1 toc-item\"><a data-toc-modified-id=\"Restart-analysis-2\" href=\"#Restart-analysis\"><span class=\"toc-item-num\">2&nbsp;&nbsp;</span>Restart analysis</a></div><div class=\"lev2 toc-item\"><a data-toc-modified-id=\"Ery-21\" href=\"#Ery\"><span class=\"toc-item-num\">2.1&nbsp;&nbsp;</span>Ery</a></div><div class=\"lev2 toc-item\"><a data-toc-modified-id=\"Par-22\" href=\"#Par\"><span class=\"toc-item-num\">2.2&nbsp;&nbsp;</span>Par</a></div><div class=\"lev3 toc-item\"><a data-toc-modified-id=\"restart-221\" href=\"#restart\"><span class=\"toc-item-num\">2.2.1&nbsp;&nbsp;</span>restart</a></div>"
   ]
  },
  {
   "cell_type": "markdown",
   "metadata": {},
   "source": [
    "## Import dadi on all engines"
   ]
  },
  {
   "cell_type": "markdown",
   "metadata": {},
   "source": [
    "The magic commands become automaticaly available when you create a client:"
   ]
  },
  {
   "cell_type": "code",
   "execution_count": 1,
   "metadata": {
    "collapsed": false
   },
   "outputs": [
    {
     "data": {
      "text/plain": [
       "[0, 1, 2, 3, 4, 5, 6, 7, 8, 9, 10]"
      ]
     },
     "execution_count": 1,
     "metadata": {},
     "output_type": "execute_result"
    }
   ],
   "source": [
    "from ipyparallel import Client\n",
    "\n",
    "cl = Client()\n",
    "\n",
    "cl.ids"
   ]
  },
  {
   "cell_type": "code",
   "execution_count": 2,
   "metadata": {
    "collapsed": false
   },
   "outputs": [
    {
     "data": {
      "text/plain": [
       "[0, 1, 2, 3, 4, 5, 6, 7, 8, 9, 10]"
      ]
     },
     "execution_count": 2,
     "metadata": {},
     "output_type": "execute_result"
    }
   ],
   "source": [
    "cl[:].targets"
   ]
  },
  {
   "cell_type": "code",
   "execution_count": 3,
   "metadata": {
    "collapsed": false
   },
   "outputs": [
    {
     "data": {
      "text/plain": [
       "<AsyncResult: execute>"
      ]
     },
     "execution_count": 3,
     "metadata": {},
     "output_type": "execute_result"
    }
   ],
   "source": [
    "%%px --noblock\n",
    "# run a whole cell in non-blocking mode, by default on all engines\n",
    "# note: the magic has to be at the top of the cell\n",
    "\n",
    "import time\n",
    "time.sleep(1)\n",
    "time.time()"
   ]
  },
  {
   "cell_type": "code",
   "execution_count": 4,
   "metadata": {
    "collapsed": false
   },
   "outputs": [
    {
     "data": {
      "text/plain": [
       "\u001b[0;31mOut[0:1]: \u001b[0m1491481734.835568"
      ]
     },
     "metadata": {},
     "output_type": "display_data"
    },
    {
     "data": {
      "text/plain": [
       "\u001b[0;31mOut[1:1]: \u001b[0m1491481734.836249"
      ]
     },
     "metadata": {},
     "output_type": "display_data"
    },
    {
     "data": {
      "text/plain": [
       "\u001b[0;31mOut[2:1]: \u001b[0m1491481734.838302"
      ]
     },
     "metadata": {},
     "output_type": "display_data"
    },
    {
     "data": {
      "text/plain": [
       "\u001b[0;31mOut[3:1]: \u001b[0m1491481734.840656"
      ]
     },
     "metadata": {},
     "output_type": "display_data"
    },
    {
     "data": {
      "text/plain": [
       "\u001b[0;31mOut[4:1]: \u001b[0m1491481734.842219"
      ]
     },
     "metadata": {},
     "output_type": "display_data"
    },
    {
     "data": {
      "text/plain": [
       "\u001b[0;31mOut[5:1]: \u001b[0m1491481734.842989"
      ]
     },
     "metadata": {},
     "output_type": "display_data"
    },
    {
     "data": {
      "text/plain": [
       "\u001b[0;31mOut[6:1]: \u001b[0m1491481734.841713"
      ]
     },
     "metadata": {},
     "output_type": "display_data"
    },
    {
     "data": {
      "text/plain": [
       "\u001b[0;31mOut[7:1]: \u001b[0m1491481734.842441"
      ]
     },
     "metadata": {},
     "output_type": "display_data"
    },
    {
     "data": {
      "text/plain": [
       "\u001b[0;31mOut[8:1]: \u001b[0m1491481734.844283"
      ]
     },
     "metadata": {},
     "output_type": "display_data"
    },
    {
     "data": {
      "text/plain": [
       "\u001b[0;31mOut[9:1]: \u001b[0m1491481734.843678"
      ]
     },
     "metadata": {},
     "output_type": "display_data"
    },
    {
     "data": {
      "text/plain": [
       "\u001b[0;31mOut[10:1]: \u001b[0m1491481734.845353"
      ]
     },
     "metadata": {},
     "output_type": "display_data"
    }
   ],
   "source": [
    "%pxresult\n",
    "\n",
    "# get the result from the AsyncResult object"
   ]
  },
  {
   "cell_type": "code",
   "execution_count": 5,
   "metadata": {
    "collapsed": false
   },
   "outputs": [
    {
     "data": {
      "text/plain": [
       "'/home/claudius/Downloads/dadi'"
      ]
     },
     "execution_count": 5,
     "metadata": {},
     "output_type": "execute_result"
    },
    {
     "data": {
      "text/plain": [
       "\u001b[0;31mOut[0:2]: \u001b[0m'/home/claudius/Downloads/dadi'"
      ]
     },
     "metadata": {},
     "output_type": "display_data"
    },
    {
     "data": {
      "text/plain": [
       "\u001b[0;31mOut[1:2]: \u001b[0m'/home/claudius/Downloads/dadi'"
      ]
     },
     "metadata": {},
     "output_type": "display_data"
    },
    {
     "data": {
      "text/plain": [
       "\u001b[0;31mOut[2:2]: \u001b[0m'/home/claudius/Downloads/dadi'"
      ]
     },
     "metadata": {},
     "output_type": "display_data"
    },
    {
     "data": {
      "text/plain": [
       "\u001b[0;31mOut[3:2]: \u001b[0m'/home/claudius/Downloads/dadi'"
      ]
     },
     "metadata": {},
     "output_type": "display_data"
    },
    {
     "data": {
      "text/plain": [
       "\u001b[0;31mOut[4:2]: \u001b[0m'/home/claudius/Downloads/dadi'"
      ]
     },
     "metadata": {},
     "output_type": "display_data"
    },
    {
     "data": {
      "text/plain": [
       "\u001b[0;31mOut[5:2]: \u001b[0m'/home/claudius/Downloads/dadi'"
      ]
     },
     "metadata": {},
     "output_type": "display_data"
    },
    {
     "data": {
      "text/plain": [
       "\u001b[0;31mOut[6:2]: \u001b[0m'/home/claudius/Downloads/dadi'"
      ]
     },
     "metadata": {},
     "output_type": "display_data"
    },
    {
     "data": {
      "text/plain": [
       "\u001b[0;31mOut[7:2]: \u001b[0m'/home/claudius/Downloads/dadi'"
      ]
     },
     "metadata": {},
     "output_type": "display_data"
    },
    {
     "data": {
      "text/plain": [
       "\u001b[0;31mOut[8:2]: \u001b[0m'/home/claudius/Downloads/dadi'"
      ]
     },
     "metadata": {},
     "output_type": "display_data"
    },
    {
     "data": {
      "text/plain": [
       "\u001b[0;31mOut[9:2]: \u001b[0m'/home/claudius/Downloads/dadi'"
      ]
     },
     "metadata": {},
     "output_type": "display_data"
    },
    {
     "data": {
      "text/plain": [
       "\u001b[0;31mOut[10:2]: \u001b[0m'/home/claudius/Downloads/dadi'"
      ]
     },
     "metadata": {},
     "output_type": "display_data"
    }
   ],
   "source": [
    "%%px --local\n",
    "\n",
    "# run whole cell on all engines a well as in the local IPython session\n",
    "\n",
    "import sys\n",
    "sys.path.insert(0, '/home/claudius/Downloads/dadi')\n",
    "sys.path[0]"
   ]
  },
  {
   "cell_type": "code",
   "execution_count": 6,
   "metadata": {
    "collapsed": true
   },
   "outputs": [],
   "source": [
    "%%px --local\n",
    "\n",
    "import dadi"
   ]
  },
  {
   "cell_type": "markdown",
   "metadata": {},
   "source": [
    "Dadi should now be imported on all remote engines as well as locally."
   ]
  },
  {
   "cell_type": "code",
   "execution_count": 7,
   "metadata": {
    "collapsed": false
   },
   "outputs": [
    {
     "name": "stdout",
     "output_type": "stream",
     "text": [
      "Variable   Type             Data/Info\n",
      "-------------------------------------\n",
      "Client     MetaHasTraits    <class 'ipyparallel.client.client.Client'>\n",
      "cl         Client           <ipyparallel.client.clien<...>object at 0x7f90dd08d550>\n",
      "dadi       module           <module 'dadi' from '/hom<...>/dadi/dadi/__init__.pyc'>\n",
      "sys        module           <module 'sys' (built-in)>\n"
     ]
    }
   ],
   "source": [
    "%whos"
   ]
  },
  {
   "cell_type": "markdown",
   "metadata": {},
   "source": [
    "The remote namespace can be checked with:"
   ]
  },
  {
   "cell_type": "code",
   "execution_count": 8,
   "metadata": {
    "collapsed": false
   },
   "outputs": [
    {
     "name": "stdout",
     "output_type": "stream",
     "text": [
      "[stdout:0] dadi\t sys\t time\t \n",
      "[stdout:1] dadi\t sys\t time\t \n",
      "[stdout:2] dadi\t sys\t time\t \n",
      "[stdout:3] dadi\t sys\t time\t \n",
      "[stdout:4] dadi\t sys\t time\t \n",
      "[stdout:5] dadi\t sys\t time\t \n",
      "[stdout:6] dadi\t sys\t time\t \n",
      "[stdout:7] dadi\t sys\t time\t \n",
      "[stdout:8] dadi\t sys\t time\t \n",
      "[stdout:9] dadi\t sys\t time\t \n",
      "[stdout:10] dadi\t sys\t time\t \n"
     ]
    }
   ],
   "source": [
    "%px %who"
   ]
  },
  {
   "cell_type": "markdown",
   "metadata": {},
   "source": [
    "As can be seen, dadi is imported on all engines."
   ]
  },
  {
   "cell_type": "markdown",
   "metadata": {},
   "source": [
    "## Load 1D SFS"
   ]
  },
  {
   "cell_type": "markdown",
   "metadata": {},
   "source": [
    "Like the dadi module, I would like to load the 1D folded SFS's of par and ery into the namespaces of the local IPython session as well as on all engines."
   ]
  },
  {
   "cell_type": "code",
   "execution_count": 9,
   "metadata": {
    "collapsed": false
   },
   "outputs": [
    {
     "name": "stdout",
     "output_type": "stream",
     "text": [
      "total 716\r\n",
      "-rw-rw-r-- 1 claudius 164043 Apr  6 09:26 01_dadi_in_parallel-magic_commands.ipynb\r\n",
      "-rw-rw-r-- 1 claudius 434843 Apr  5 11:07 1D_models.ipynb\r\n",
      "drwxrwxr-x 4 claudius   4096 Mar 24 20:08 \u001b[0m\u001b[01;34mdadiExercises\u001b[0m/\r\n",
      "-rw-rw-r-- 1 claudius  36308 Apr  3 20:33 \u001b[01;35mery_fold_comp.png\u001b[0m\r\n",
      "-rw-rw-r-- 1 claudius   3560 Mar 25 08:40 EryPar.FOLDED.2dsfs\r\n",
      "-rw-rw-r-- 1 claudius    433 Mar 24 20:15 ERY.unfolded.sfs\r\n",
      "-rw-rw-r-- 1 claudius    421 Mar 24 20:14 ERY.unfolded.sfs~\r\n",
      "-rw-rw-r-- 1 claudius  23924 Apr  6 09:25 exp_growth_optim_res.pickle\r\n",
      "-rw-rw-r-- 1 claudius  37242 Apr  3 20:35 \u001b[01;35mpar_fold_comp.png\u001b[0m\r\n",
      "-rw-rw-r-- 1 claudius    421 Mar 24 20:16 PAR.unfolded.sfs\r\n",
      "-rw-rw-r-- 1 claudius    409 Mar 24 20:15 PAR.unfolded.sfs~\r\n"
     ]
    }
   ],
   "source": [
    "%ll"
   ]
  },
  {
   "cell_type": "code",
   "execution_count": 10,
   "metadata": {
    "collapsed": false
   },
   "outputs": [
    {
     "name": "stdout",
     "output_type": "stream",
     "text": [
      "total 33676\r\n",
      "lrwxrwxrwx 1 claudius       53 Feb 17 15:37 \u001b[0m\u001b[01;36mERY.FOLDED.sfs\u001b[0m -> /data3/claudius/Big_Data/ANGSD/SFS/ERY/ERY.FOLDED.sfs\r\n",
      "-rw-rw-r-- 1 claudius      499 Mar 24 14:04 ERY.FOLDED.sfs.dadi_format\r\n",
      "-rw-rw-r-- 1 claudius      499 Mar 24 14:02 ERY.FOLDED.sfs.dadi_format~\r\n",
      "lrwxrwxrwx 1 claudius       37 Feb 18 17:46 \u001b[01;36mEryPar.unfolded.2dsfs\u001b[0m -> ../../ANGSD/FST/EryPar.unfolded.2dsfs\r\n",
      "-rw-rw-r-- 1 claudius    13051 Feb 18 19:00 EryPar.unfolded.2dsfs.dadi_format\r\n",
      "-rw-rw-r-- 1 claudius    13051 Feb 18 18:31 EryPar.unfolded.2dsfs.dadi_format~\r\n",
      "drwxrwxr-x 5 claudius     4096 Feb 17 13:45 \u001b[01;34mexamples\u001b[0m/\r\n",
      "-rw-rw-r-- 1 claudius   155251 Mar 22 12:37 example_YRI_CEU.ipynb\r\n",
      "-rw-rw-r-- 1 claudius   619518 Mar 21 11:09 First_Steps_with_dadi.ipynb\r\n",
      "-rw-rw-r-- 1 claudius     1012 Mar 16 09:54 new.bib\r\n",
      "lrwxrwxrwx 1 claudius       53 Feb 17 15:37 \u001b[01;36mPAR.FOLDED.sfs\u001b[0m -> /data3/claudius/Big_Data/ANGSD/SFS/PAR/PAR.FOLDED.sfs\r\n",
      "-rw-rw-r-- 1 claudius      486 Mar 24 20:08 PAR.FOLDED.sfs.dadi_format\r\n",
      "-rw-rw-r-- 1 claudius      450 Mar 24 20:08 PAR.FOLDED.sfs.dadi_format~\r\n",
      "-rw-rw-r-- 1 claudius       18 Mar 19 11:20 seedms\r\n",
      "-rw-rw-r-- 1 claudius 33643874 Mar 19 11:20 test.msout\r\n"
     ]
    }
   ],
   "source": [
    "% ll dadiExercises/"
   ]
  },
  {
   "cell_type": "code",
   "execution_count": 11,
   "metadata": {
    "collapsed": false
   },
   "outputs": [
    {
     "name": "stdout",
     "output_type": "stream",
     "text": [
      "# this is the ML estimate of the folded sample frequency spectrum for erythropus, estimated with realSFS of ANGSD\r\n",
      "# this is the spectrum in dadi format (see section 3.1 of the manual)\r\n",
      "37 folded\r\n",
      "1594818.222085 7833.038690 7414.699839 4109.279415 3614.717256 3095.973324 2031.460887 1584.656928 2583.652317 1142.075255 1052.346021 1765.773415 1255.138799 1072.516527 1417.916128 395.750470 1947.087637 367.072082 966.622924 \r\n",
      "1 0 0 0 0 0 0 0 0 0 0 0 0 0 0 0 0 0 0 1 1 1 1 1 1 1 1 1 1 1 1 1 1 1 1 1 1  \r\n"
     ]
    }
   ],
   "source": [
    "! cat dadiExercises/ERY.FOLDED.sfs.dadi_format"
   ]
  },
  {
   "cell_type": "code",
   "execution_count": 12,
   "metadata": {
    "collapsed": false
   },
   "outputs": [
    {
     "name": "stdout",
     "output_type": "stream",
     "text": [
      "# this is the ML estimate of the folded sample frequency spectrum for parallelus, estimated with realSFS of ANGSD\r\n",
      "# this is the spectrum in dadi format (see section 3.1 of the manual)\r\n",
      "37 folded\r\n",
      "1171183.294811 8409.256970 12008.479728 5476.826032 3090.791731 2755.941992 1804.378260 357.199759 2552.273719 832.442184 873.647652 0.001111 2420.101426 0.010094 910.498821 0.725863 1506.959669 232.289352 523.880826 \r\n",
      "1 0 0 0 0 0 0 0 0 0 0 0 0 0 0 0 0 0 0 1 1 1 1 1 1 1 1 1 1 1 1 1 1 1 1 1 1\r\n"
     ]
    }
   ],
   "source": [
    "! cat dadiExercises/PAR.FOLDED.sfs.dadi_format"
   ]
  },
  {
   "cell_type": "code",
   "execution_count": 13,
   "metadata": {
    "collapsed": true
   },
   "outputs": [],
   "source": [
    "%%px --local\n",
    "\n",
    "# import 1D spectrum of ery on all engines:\n",
    "fs_ery = dadi.Spectrum.from_file('dadiExercises/ERY.FOLDED.sfs.dadi_format')\n",
    "\n",
    "# import 1D spectrum of ery on all engines:\n",
    "fs_par = dadi.Spectrum.from_file('dadiExercises/PAR.FOLDED.sfs.dadi_format')"
   ]
  },
  {
   "cell_type": "code",
   "execution_count": 14,
   "metadata": {
    "collapsed": false
   },
   "outputs": [
    {
     "name": "stdout",
     "output_type": "stream",
     "text": [
      "[stdout:0] dadi\t fs_ery\t fs_par\t sys\t time\t \n",
      "[stdout:1] dadi\t fs_ery\t fs_par\t sys\t time\t \n",
      "[stdout:2] dadi\t fs_ery\t fs_par\t sys\t time\t \n",
      "[stdout:3] dadi\t fs_ery\t fs_par\t sys\t time\t \n",
      "[stdout:4] dadi\t fs_ery\t fs_par\t sys\t time\t \n",
      "[stdout:5] dadi\t fs_ery\t fs_par\t sys\t time\t \n",
      "[stdout:6] dadi\t fs_ery\t fs_par\t sys\t time\t \n",
      "[stdout:7] dadi\t fs_ery\t fs_par\t sys\t time\t \n",
      "[stdout:8] dadi\t fs_ery\t fs_par\t sys\t time\t \n",
      "[stdout:9] dadi\t fs_ery\t fs_par\t sys\t time\t \n",
      "[stdout:10] dadi\t fs_ery\t fs_par\t sys\t time\t \n"
     ]
    }
   ],
   "source": [
    "%px %who"
   ]
  },
  {
   "cell_type": "code",
   "execution_count": 15,
   "metadata": {
    "collapsed": false
   },
   "outputs": [
    {
     "name": "stdout",
     "output_type": "stream",
     "text": [
      "Client\t cl\t dadi\t fs_ery\t fs_par\t sys\t \n"
     ]
    }
   ],
   "source": [
    "%who"
   ]
  },
  {
   "cell_type": "code",
   "execution_count": 16,
   "metadata": {
    "collapsed": false
   },
   "outputs": [],
   "source": [
    "%%px --local\n",
    "\n",
    "ns = fs_ery.sample_sizes # both populations have the same sample size\n",
    "\n",
    "fs_ery.pop_ids = ['ery']\n",
    "fs_par.pop_ids = ['par']\n",
    "\n",
    "# setting the smallest grid size slightly larger than the largest population sample size (36)\n",
    "pts_l = [50, 60, 70]"
   ]
  },
  {
   "cell_type": "markdown",
   "metadata": {},
   "source": [
    "---"
   ]
  },
  {
   "cell_type": "markdown",
   "metadata": {},
   "source": [
    "## Exponential growth model"
   ]
  },
  {
   "cell_type": "code",
   "execution_count": 10,
   "metadata": {
    "collapsed": true
   },
   "outputs": [],
   "source": [
    "%psource dadi.Demographics1D.growth"
   ]
  },
  {
   "cell_type": "markdown",
   "metadata": {},
   "source": [
    "This model assumes that exponential growth (or decline) started some time $T$ in the past and the current effective population size is a multiple $\\nu$ of the ancient populations size, i. e. before exponential growth began. So this model just estimates two parameters. If $\\nu$ is estimated to be 1, this indicates that the population size hasn't changed (although see Myers2008). If it is below one, this indicates exponential population decline (how realistic is that?). If it is above 1, this indicates exponential population growth."
   ]
  },
  {
   "cell_type": "code",
   "execution_count": 17,
   "metadata": {
    "collapsed": true
   },
   "outputs": [],
   "source": [
    "%%px --local\n",
    "\n",
    "# create link to function that specifies a simple growth or decline model\n",
    "func = dadi.Demographics1D.growth\n",
    "\n",
    "# create extrapolating version of the function\n",
    "func_ex = dadi.Numerics.make_extrap_log_func(func)\n",
    "\n",
    "# set lower and upper bounds to nu and T\n",
    "upper_bound = [100, 5]\n",
    "lower_bound = [1e-3, 0]"
   ]
  },
  {
   "cell_type": "code",
   "execution_count": 18,
   "metadata": {
    "collapsed": false,
    "scrolled": true
   },
   "outputs": [
    {
     "name": "stdout",
     "output_type": "stream",
     "text": [
      "[stdout:0] \n",
      "dadi\t fs_ery\t fs_par\t func\t func_ex\t lower_bound\t ns\t pts_l\t sys\t \n",
      "time\t upper_bound\t \n",
      "[stdout:1] \n",
      "dadi\t fs_ery\t fs_par\t func\t func_ex\t lower_bound\t ns\t pts_l\t sys\t \n",
      "time\t upper_bound\t \n",
      "[stdout:2] \n",
      "dadi\t fs_ery\t fs_par\t func\t func_ex\t lower_bound\t ns\t pts_l\t sys\t \n",
      "time\t upper_bound\t \n",
      "[stdout:3] \n",
      "dadi\t fs_ery\t fs_par\t func\t func_ex\t lower_bound\t ns\t pts_l\t sys\t \n",
      "time\t upper_bound\t \n",
      "[stdout:4] \n",
      "dadi\t fs_ery\t fs_par\t func\t func_ex\t lower_bound\t ns\t pts_l\t sys\t \n",
      "time\t upper_bound\t \n",
      "[stdout:5] \n",
      "dadi\t fs_ery\t fs_par\t func\t func_ex\t lower_bound\t ns\t pts_l\t sys\t \n",
      "time\t upper_bound\t \n",
      "[stdout:6] \n",
      "dadi\t fs_ery\t fs_par\t func\t func_ex\t lower_bound\t ns\t pts_l\t sys\t \n",
      "time\t upper_bound\t \n",
      "[stdout:7] \n",
      "dadi\t fs_ery\t fs_par\t func\t func_ex\t lower_bound\t ns\t pts_l\t sys\t \n",
      "time\t upper_bound\t \n",
      "[stdout:8] \n",
      "dadi\t fs_ery\t fs_par\t func\t func_ex\t lower_bound\t ns\t pts_l\t sys\t \n",
      "time\t upper_bound\t \n",
      "[stdout:9] \n",
      "dadi\t fs_ery\t fs_par\t func\t func_ex\t lower_bound\t ns\t pts_l\t sys\t \n",
      "time\t upper_bound\t \n",
      "[stdout:10] \n",
      "dadi\t fs_ery\t fs_par\t func\t func_ex\t lower_bound\t ns\t pts_l\t sys\t \n",
      "time\t upper_bound\t \n"
     ]
    }
   ],
   "source": [
    "%px %who"
   ]
  },
  {
   "cell_type": "markdown",
   "metadata": {},
   "source": [
    "### create combinations of starting values for optimisation"
   ]
  },
  {
   "cell_type": "code",
   "execution_count": 22,
   "metadata": {
    "collapsed": false
   },
   "outputs": [
    {
     "name": "stdout",
     "output_type": "stream",
     "text": [
      "1 (0.001, 0.001)\n",
      "2 (0.001, 0.0023269181687763617)\n",
      "3 (0.001, 0.0054145481641815433)\n",
      "4 (0.001, 0.012599210498948734)\n",
      "5 (0.001, 0.029317331822241718)\n",
      "6 (0.001, 0.068219032077219688)\n",
      "7 (0.001, 0.15874010519682002)\n",
      "8 (0.001, 0.36937523489595186)\n",
      "9 (0.001, 0.85950594517542678)\n",
      "10 (0.001, 2.0)\n",
      "11 (0.0033274211919892436, 0.001)\n",
      "12 (0.0033274211919892436, 0.0023269181687763617)\n",
      "13 (0.0033274211919892436, 0.0054145481641815433)\n",
      "14 (0.0033274211919892436, 0.012599210498948734)\n",
      "15 (0.0033274211919892436, 0.029317331822241718)\n",
      "16 (0.0033274211919892436, 0.068219032077219688)\n",
      "17 (0.0033274211919892436, 0.15874010519682002)\n",
      "18 (0.0033274211919892436, 0.36937523489595186)\n",
      "19 (0.0033274211919892436, 0.85950594517542678)\n",
      "20 (0.0033274211919892436, 2.0)\n",
      "81 (15.026651907000801, 0.001)\n",
      "82 (15.026651907000801, 0.0023269181687763617)\n",
      "83 (15.026651907000801, 0.0054145481641815433)\n",
      "84 (15.026651907000801, 0.012599210498948734)\n",
      "85 (15.026651907000801, 0.029317331822241718)\n",
      "86 (15.026651907000801, 0.068219032077219688)\n",
      "87 (15.026651907000801, 0.15874010519682002)\n",
      "88 (15.026651907000801, 0.36937523489595186)\n",
      "89 (15.026651907000801, 0.85950594517542678)\n",
      "90 (15.026651907000801, 2.0)\n",
      "91 (49.999999999999993, 0.001)\n",
      "92 (49.999999999999993, 0.0023269181687763617)\n",
      "93 (49.999999999999993, 0.0054145481641815433)\n",
      "94 (49.999999999999993, 0.012599210498948734)\n",
      "95 (49.999999999999993, 0.029317331822241718)\n",
      "96 (49.999999999999993, 0.068219032077219688)\n",
      "97 (49.999999999999993, 0.15874010519682002)\n",
      "98 (49.999999999999993, 0.36937523489595186)\n",
      "99 (49.999999999999993, 0.85950594517542678)\n",
      "100 (49.999999999999993, 2.0)\n",
      "The total number of parameter combinations is  100\n"
     ]
    }
   ],
   "source": [
    "from itertools import product\n",
    "import numpy as np\n",
    "from __future__ import print_function\n",
    "\n",
    "# create range of starting values for nu and T, evenly distributed in log space\n",
    "p0_nu = np.logspace(-3, np.log10(50), base=10.0, num=10)\n",
    "p0_T = np.logspace(-3, np.log10(2), base=10, num=10)\n",
    "\n",
    "# create all possible pairwise combinations of nu and T\n",
    "i = 0\n",
    "num_comb = len(p0_nu)*len(p0_T)\n",
    "for p0 in product(p0_nu, p0_T):\n",
    "    i+=1\n",
    "    if i>20 and i<=(num_comb-20): \n",
    "        continue # continue with the next iteration of the loop\n",
    "    print( i , p0 )\n",
    "print(\"The total number of parameter combinations is \", i)"
   ]
  },
  {
   "cell_type": "markdown",
   "metadata": {},
   "source": [
    "These starting values cover a very wide range of possible parameter combinations. This should be better than merely randomly perturbing a single parameter combination a certain number of times (and running the optimisation from those perturbed starting values)."
   ]
  },
  {
   "cell_type": "markdown",
   "metadata": {},
   "source": [
    "### _ery_"
   ]
  },
  {
   "cell_type": "markdown",
   "metadata": {},
   "source": [
    "#### run optimisation on 1D SFS of"
   ]
  },
  {
   "cell_type": "code",
   "execution_count": 23,
   "metadata": {
    "collapsed": true
   },
   "outputs": [],
   "source": [
    "# create load balanced view of engines\n",
    "\n",
    "lbview = cl.load_balanced_view()"
   ]
  },
  {
   "cell_type": "code",
   "execution_count": 47,
   "metadata": {
    "collapsed": true
   },
   "outputs": [],
   "source": [
    "%pdoc dadi.Inference.optimize_log"
   ]
  },
  {
   "cell_type": "markdown",
   "metadata": {},
   "source": [
    "dadi also offers other otimisation algorithms: `optimize_log_fmin` and `optimize_grid`."
   ]
  },
  {
   "cell_type": "code",
   "execution_count": 25,
   "metadata": {
    "collapsed": false
   },
   "outputs": [],
   "source": [
    "# create parallel function for ery spectrum\n",
    "\n",
    "@lbview.parallel(block=False)\n",
    "def run_dadi_on_ery(p_init): # for the function to be called with map, it needs to have one input variable\n",
    "    \"\"\"\n",
    "    p_init: initial parameter values to run optimisation from\n",
    "    \"\"\"\n",
    "    # run optimisation of paramters\n",
    "    popt = dadi.Inference.optimize_log(p0=p_init, data=fs_ery, model_func=func_ex, pts=pts_l, \\\n",
    "                                   lower_bound=lower_bound, upper_bound=upper_bound, \\\n",
    "                                   verbose=0, maxiter=100, full_output=False)\n",
    "    return (p_init, popt) # returns a tuple with starting values and optimal nu and T"
   ]
  },
  {
   "cell_type": "code",
   "execution_count": 26,
   "metadata": {
    "collapsed": false
   },
   "outputs": [],
   "source": [
    "# run dadi in parallel on all combinations of starting values\n",
    "ar = run_dadi_on_ery( product(p0_nu, p0_T) )\n",
    "# wait for results to come in and print progress report\n",
    "#ar.wait_interactive()"
   ]
  },
  {
   "cell_type": "code",
   "execution_count": 31,
   "metadata": {
    "collapsed": false
   },
   "outputs": [
    {
     "data": {
      "text/plain": [
       "100"
      ]
     },
     "execution_count": 31,
     "metadata": {},
     "output_type": "execute_result"
    }
   ],
   "source": [
    "ar.progress"
   ]
  },
  {
   "cell_type": "code",
   "execution_count": 32,
   "metadata": {
    "collapsed": false
   },
   "outputs": [
    {
     "data": {
      "text/plain": [
       "7.776617983333334"
      ]
     },
     "execution_count": 32,
     "metadata": {},
     "output_type": "execute_result"
    }
   ],
   "source": [
    "# run after optimisations have finished\n",
    "ar.wall_time/60"
   ]
  },
  {
   "cell_type": "markdown",
   "metadata": {},
   "source": [
    "It took 7 minutes to run these 100 optimisations."
   ]
  },
  {
   "cell_type": "code",
   "execution_count": 40,
   "metadata": {
    "collapsed": false
   },
   "outputs": [],
   "source": [
    "# save optimsation results to file\n",
    "# can be loaded back into another IPython session with: ar = pickle.load(filehandle)\n",
    "# unfortunately, I cannot save the AsyncResult object with pickle (dill can save it, but emits a \n",
    "# \"maximum recursion depth exceeded\" error when I try to load the object from file again).\n",
    "# I need to save the result as a plain list\n",
    "\n",
    "import dill\n",
    "\n",
    "with open(\"exp_growth_optim_res_ERY.pickle\", \"w\") as fhandle:\n",
    "    dill.dump(list(ar.get()), fhandle)"
   ]
  },
  {
   "cell_type": "code",
   "execution_count": 41,
   "metadata": {
    "collapsed": false
   },
   "outputs": [],
   "source": [
    "# this can now be loaded back from file into memory:\n",
    "with open(\"exp_growth_optim_res_ERY.pickle\", \"r\") as fhandle:\n",
    "    ra = dill.load(fhandle)"
   ]
  },
  {
   "cell_type": "code",
   "execution_count": 39,
   "metadata": {
    "collapsed": false
   },
   "outputs": [],
   "source": [
    "?pickle"
   ]
  },
  {
   "cell_type": "code",
   "execution_count": 51,
   "metadata": {
    "collapsed": false
   },
   "outputs": [
    {
     "data": {
      "text/plain": [
       "[[(0.01, 0.0)],\n",
       " array([ 0.01,  0.  ]),\n",
       " [(0.01, 0.22222222222222221)],\n",
       " array([ 0.02974472,  4.91552703]),\n",
       " [(0.01, 0.44444444444444442)],\n",
       " array([ 0.00100318,  0.09823147]),\n",
       " [(0.01, 0.66666666666666663)],\n",
       " array([ 0.00998765,  0.66740589]),\n",
       " [(0.01, 0.88888888888888884)],\n",
       " array([ 0.01101978,  0.7197859 ])]"
      ]
     },
     "execution_count": 51,
     "metadata": {},
     "output_type": "execute_result"
    }
   ],
   "source": [
    "ar.get()[:10]"
   ]
  },
  {
   "cell_type": "markdown",
   "metadata": {},
   "source": [
    "The tuples returned from my parallel function have been flattened into one array. That's not nice."
   ]
  },
  {
   "cell_type": "code",
   "execution_count": 46,
   "metadata": {
    "collapsed": true
   },
   "outputs": [],
   "source": [
    "?print # print_function from __future__"
   ]
  },
  {
   "cell_type": "code",
   "execution_count": 42,
   "metadata": {
    "collapsed": false
   },
   "outputs": [
    {
     "name": "stdout",
     "output_type": "stream",
     "text": [
      "starting values: nu = 0.0010, T = 0.001000 ==> optim. values: nu = 0.0011, T = 0.000000\n",
      "starting values: nu = 0.0010, T = 0.002327 ==> optim. values: nu = 0.0011, T = 0.000023\n",
      "starting values: nu = 0.0010, T = 0.005415 ==> optim. values: nu = 0.1280, T = 0.000005\n",
      "starting values: nu = 0.0010, T = 0.012599 ==> optim. values: nu = 0.0010, T = 0.012599\n",
      "starting values: nu = 0.0010, T = 0.029317 ==> optim. values: nu = 0.0010, T = 0.029317\n",
      "starting values: nu = 0.0010, T = 0.068219 ==> optim. values: nu = 0.0010, T = 0.068219\n",
      "starting values: nu = 0.0010, T = 0.158740 ==> optim. values: nu = 0.0012, T = 0.119777\n",
      "starting values: nu = 0.0010, T = 0.369375 ==> optim. values: nu = 0.0019, T = 0.172487\n",
      "starting values: nu = 0.0010, T = 0.859506 ==> optim. values: nu = 0.0010, T = 0.000023\n",
      "starting values: nu = 0.0010, T = 2.000000 ==> optim. values: nu = 0.0043, T = 0.341027\n",
      "starting values: nu = 0.0033, T = 0.001000 ==> optim. values: nu = 0.0014, T = 0.000107\n",
      "starting values: nu = 0.0033, T = 0.002327 ==> optim. values: nu = 0.0079, T = 0.000000\n",
      "starting values: nu = 0.0033, T = 0.005415 ==> optim. values: nu = 0.0951, T = 0.000000\n",
      "starting values: nu = 0.0033, T = 0.012599 ==> optim. values: nu = 0.0012, T = 0.000000\n",
      "starting values: nu = 0.0033, T = 0.029317 ==> optim. values: nu = 0.1033, T = 3.391452\n",
      "starting values: nu = 0.0033, T = 0.068219 ==> optim. values: nu = 0.1054, T = 4.956883\n",
      "starting values: nu = 0.0033, T = 0.158740 ==> optim. values: nu = 0.0259, T = 4.823805\n",
      "starting values: nu = 0.0033, T = 0.369375 ==> optim. values: nu = 0.0038, T = 0.306992\n",
      "starting values: nu = 0.0033, T = 0.859506 ==> optim. values: nu = 0.0056, T = 0.423967\n",
      "starting values: nu = 0.0033, T = 2.000000 ==> optim. values: nu = 0.1426, T = 0.008331\n",
      "starting values: nu = 0.0111, T = 0.001000 ==> optim. values: nu = 0.0172, T = 0.000002\n",
      "starting values: nu = 0.0111, T = 0.002327 ==> optim. values: nu = 0.0132, T = 0.001970\n",
      "starting values: nu = 0.0111, T = 0.005415 ==> optim. values: nu = 0.1427, T = 0.008332\n",
      "starting values: nu = 0.0111, T = 0.012599 ==> optim. values: nu = 0.1364, T = 0.007519\n",
      "starting values: nu = 0.0111, T = 0.029317 ==> optim. values: nu = 0.1674, T = 0.000050\n",
      "starting values: nu = 0.0111, T = 0.068219 ==> optim. values: nu = 0.0258, T = 1.367343\n",
      "starting values: nu = 0.0111, T = 0.158740 ==> optim. values: nu = 0.0031, T = 2.347230\n",
      "starting values: nu = 0.0111, T = 0.369375 ==> optim. values: nu = 0.0158, T = 0.953483\n",
      "starting values: nu = 0.0111, T = 0.859506 ==> optim. values: nu = 0.0114, T = 0.740404\n",
      "starting values: nu = 0.0111, T = 2.000000 ==> optim. values: nu = 0.0172, T = 1.013082\n",
      "starting values: nu = 0.0368, T = 0.001000 ==> optim. values: nu = 0.0013, T = 0.000028\n",
      "starting values: nu = 0.0368, T = 0.002327 ==> optim. values: nu = 0.0011, T = 0.000024\n",
      "starting values: nu = 0.0368, T = 0.005415 ==> optim. values: nu = 0.1426, T = 0.008335\n",
      "starting values: nu = 0.0368, T = 0.012599 ==> optim. values: nu = 0.1364, T = 0.007521\n",
      "starting values: nu = 0.0368, T = 0.029317 ==> optim. values: nu = 0.1364, T = 0.007524\n",
      "starting values: nu = 0.0368, T = 0.068219 ==> optim. values: nu = 0.1066, T = 0.000000\n",
      "starting values: nu = 0.0368, T = 0.158740 ==> optim. values: nu = 0.1354, T = 3.914982\n",
      "starting values: nu = 0.0368, T = 0.369375 ==> optim. values: nu = 0.0161, T = 0.962440\n",
      "starting values: nu = 0.0368, T = 0.859506 ==> optim. values: nu = 0.0035, T = 0.287120\n",
      "starting values: nu = 0.0368, T = 2.000000 ==> optim. values: nu = 0.0375, T = 1.778844\n",
      "starting values: nu = 0.1226, T = 0.001000 ==> optim. values: nu = 0.0012, T = 0.000027\n",
      "starting values: nu = 0.1226, T = 0.002327 ==> optim. values: nu = 0.0012, T = 0.000027\n",
      "starting values: nu = 0.1226, T = 0.005415 ==> optim. values: nu = 0.1364, T = 0.007520\n",
      "starting values: nu = 0.1226, T = 0.012599 ==> optim. values: nu = 0.1364, T = 0.007519\n",
      "starting values: nu = 0.1226, T = 0.029317 ==> optim. values: nu = 0.0075, T = 0.000000\n",
      "starting values: nu = 0.1226, T = 0.068219 ==> optim. values: nu = 0.1426, T = 0.008329\n",
      "starting values: nu = 0.1226, T = 0.158740 ==> optim. values: nu = 96.9027, T = 0.000016\n",
      "starting values: nu = 0.1226, T = 0.369375 ==> optim. values: nu = 0.1139, T = 3.577928\n",
      "starting values: nu = 0.1226, T = 0.859506 ==> optim. values: nu = 0.0939, T = 3.213499\n",
      "starting values: nu = 0.1226, T = 2.000000 ==> optim. values: nu = 0.0197, T = 1.121229\n",
      "starting values: nu = 0.4079, T = 0.001000 ==> optim. values: nu = 0.0012, T = 0.000027\n",
      "starting values: nu = 0.4079, T = 0.002327 ==> optim. values: nu = 0.0013, T = 0.000028\n",
      "starting values: nu = 0.4079, T = 0.005415 ==> optim. values: nu = 0.1365, T = 0.007525\n",
      "starting values: nu = 0.4079, T = 0.012599 ==> optim. values: nu = 0.1426, T = 0.008329\n",
      "starting values: nu = 0.4079, T = 0.029317 ==> optim. values: nu = 0.1365, T = 0.007520\n",
      "starting values: nu = 0.4079, T = 0.068219 ==> optim. values: nu = 0.1426, T = 0.008329\n",
      "starting values: nu = 0.4079, T = 0.158740 ==> optim. values: nu = 0.1427, T = 0.008343\n",
      "starting values: nu = 0.4079, T = 0.369375 ==> optim. values: nu = 0.1364, T = 0.007520\n",
      "starting values: nu = 0.4079, T = 0.859506 ==> optim. values: nu = 0.1364, T = 0.007520\n",
      "starting values: nu = 0.4079, T = 2.000000 ==> optim. values: nu = 0.1364, T = 0.007519\n",
      "starting values: nu = 1.3572, T = 0.001000 ==> optim. values: nu = 0.0013, T = 0.000029\n",
      "starting values: nu = 1.3572, T = 0.002327 ==> optim. values: nu = 0.0011, T = 0.000024\n",
      "starting values: nu = 1.3572, T = 0.005415 ==> optim. values: nu = 0.1364, T = 0.007519\n",
      "starting values: nu = 1.3572, T = 0.012599 ==> optim. values: nu = 0.1426, T = 0.008329\n",
      "starting values: nu = 1.3572, T = 0.029317 ==> optim. values: nu = 0.1364, T = 0.007527\n",
      "starting values: nu = 1.3572, T = 0.068219 ==> optim. values: nu = 0.1366, T = 0.007528\n",
      "starting values: nu = 1.3572, T = 0.158740 ==> optim. values: nu = 0.1365, T = 0.007525\n",
      "starting values: nu = 1.3572, T = 0.369375 ==> optim. values: nu = 0.0011, T = 0.000025\n",
      "starting values: nu = 1.3572, T = 0.859506 ==> optim. values: nu = 0.0011, T = 0.000024\n",
      "starting values: nu = 1.3572, T = 2.000000 ==> optim. values: nu = 0.4803, T = 4.993029\n",
      "starting values: nu = 4.5160, T = 0.001000 ==> optim. values: nu = 0.0012, T = 0.000026\n",
      "starting values: nu = 4.5160, T = 0.002327 ==> optim. values: nu = 0.0011, T = 0.000023\n",
      "starting values: nu = 4.5160, T = 0.005415 ==> optim. values: nu = 93.5069, T = 0.000149\n",
      "starting values: nu = 4.5160, T = 0.012599 ==> optim. values: nu = 0.1426, T = 0.008331\n",
      "starting values: nu = 4.5160, T = 0.029317 ==> optim. values: nu = 0.0044, T = 0.344384\n",
      "starting values: nu = 4.5160, T = 0.068219 ==> optim. values: nu = 0.0011, T = 0.000025\n",
      "starting values: nu = 4.5160, T = 0.158740 ==> optim. values: nu = 0.0662, T = 2.600671\n",
      "starting values: nu = 4.5160, T = 0.369375 ==> optim. values: nu = 0.1364, T = 0.007520\n",
      "starting values: nu = 4.5160, T = 0.859506 ==> optim. values: nu = 1.9176, T = 4.940351\n",
      "starting values: nu = 4.5160, T = 2.000000 ==> optim. values: nu = 3.3021, T = 2.247401\n",
      "starting values: nu = 15.0267, T = 0.001000 ==> optim. values: nu = 0.1136, T = 0.000000\n",
      "starting values: nu = 15.0267, T = 0.002327 ==> optim. values: nu = 79.5301, T = 0.000309\n",
      "starting values: nu = 15.0267, T = 0.005415 ==> optim. values: nu = 12.9061, T = 0.002186\n",
      "starting values: nu = 15.0267, T = 0.012599 ==> optim. values: nu = 0.1426, T = 0.008329\n",
      "starting values: nu = 15.0267, T = 0.029317 ==> optim. values: nu = 83.2640, T = 0.000346\n",
      "starting values: nu = 15.0267, T = 0.068219 ==> optim. values: nu = 0.0010, T = 0.000023\n",
      "starting values: nu = 15.0267, T = 0.158740 ==> optim. values: nu = 0.1364, T = 0.007519\n",
      "starting values: nu = 15.0267, T = 0.369375 ==> optim. values: nu = 0.0012, T = 0.000027\n",
      "starting values: nu = 15.0267, T = 0.859506 ==> optim. values: nu = 1.1087, T = 4.985863\n",
      "starting values: nu = 15.0267, T = 2.000000 ==> optim. values: nu = 0.1307, T = 3.845000\n",
      "starting values: nu = 50.0000, T = 0.001000 ==> optim. values: nu = 37.9099, T = 0.000000\n",
      "starting values: nu = 50.0000, T = 0.002327 ==> optim. values: nu = 1.0519, T = 0.000000\n",
      "starting values: nu = 50.0000, T = 0.005415 ==> optim. values: nu = 47.3023, T = 0.002462\n",
      "starting values: nu = 50.0000, T = 0.012599 ==> optim. values: nu = 47.6782, T = 0.007283\n",
      "starting values: nu = 50.0000, T = 0.029317 ==> optim. values: nu = 27.0331, T = 0.000722\n",
      "starting values: nu = 50.0000, T = 0.068219 ==> optim. values: nu = 0.0014, T = 0.000000\n",
      "starting values: nu = 50.0000, T = 0.158740 ==> optim. values: nu = 98.2241, T = 0.017184\n",
      "starting values: nu = 50.0000, T = 0.369375 ==> optim. values: nu = 0.1426, T = 0.008329\n",
      "starting values: nu = 50.0000, T = 0.859506 ==> optim. values: nu = 0.1426, T = 0.008330\n",
      "starting values: nu = 50.0000, T = 2.000000 ==> optim. values: nu = 0.0624, T = 2.505202\n"
     ]
    }
   ],
   "source": [
    "# print result of optimisations\n",
    "for i, p in enumerate(ar):\n",
    "    if (i+1) % 2:\n",
    "        #print(i, p)\n",
    "        print(\"starting values: nu = %.4f, T = %.6f\" % (p[0][0], p[0][1]), end=\" ==> \")\n",
    "    else:\n",
    "        #print(i, p)\n",
    "        print(\"optim. values: nu = %.4f, T = %.6f\" % (p[0], p[1]))    "
   ]
  },
  {
   "cell_type": "markdown",
   "metadata": {},
   "source": [
    "Clearly, different starting parameter values lead to different optimised parameter values. There is a great variance in the returned optimised parameters. Maybe the maximum number of iterations (`maxiter`) is not enough?"
   ]
  },
  {
   "cell_type": "markdown",
   "metadata": {},
   "source": [
    "I don't understand the the `maxiter` option to the optimisation function. Could it be that 100 iterations are not enough to allow some optimisations with starting values far away from the optimal values to find the optimum?"
   ]
  },
  {
   "cell_type": "markdown",
   "metadata": {},
   "source": [
    "#### calculate log likelihood of each set of optimised parameters"
   ]
  },
  {
   "cell_type": "code",
   "execution_count": 43,
   "metadata": {
    "collapsed": false
   },
   "outputs": [
    {
     "name": "stdout",
     "output_type": "stream",
     "text": [
      "[array([  1.08088567e-03,   7.61934589e-09]), array([  1.05858846e-03,   2.34070493e-05]), array([  1.27985228e-01,   4.88702008e-06]), array([ 0.001     ,  0.01259921]), array([ 0.001     ,  0.02931733]), array([ 0.001     ,  0.06821903]), array([ 0.00121302,  0.11977725]), array([ 0.00187624,  0.17248746]), array([  1.04914501e-03,   2.32547645e-05]), array([ 0.00429699,  0.34102705])]\n"
     ]
    },
    {
     "data": {
      "text/plain": [
       "100"
      ]
     },
     "execution_count": 43,
     "metadata": {},
     "output_type": "execute_result"
    }
   ],
   "source": [
    "# get the optimized parameter values\n",
    "popt = [p for i, p in enumerate(ar) if not (i+1) % 2]\n",
    "print( popt[:10] )\n",
    "len(popt)"
   ]
  },
  {
   "cell_type": "code",
   "execution_count": 44,
   "metadata": {
    "collapsed": false
   },
   "outputs": [
    {
     "data": {
      "text/plain": [
       "[[(0.001, 0.001)],\n",
       " [(0.001, 0.0023269181687763617)],\n",
       " [(0.001, 0.0054145481641815433)],\n",
       " [(0.001, 0.012599210498948734)],\n",
       " [(0.001, 0.029317331822241718)],\n",
       " [(0.001, 0.068219032077219688)],\n",
       " [(0.001, 0.15874010519682002)],\n",
       " [(0.001, 0.36937523489595186)],\n",
       " [(0.001, 0.85950594517542678)],\n",
       " [(0.001, 2.0)]]"
      ]
     },
     "execution_count": 44,
     "metadata": {},
     "output_type": "execute_result"
    }
   ],
   "source": [
    "# get the starting values\n",
    "pstart = [p for i, p in enumerate(ar) if (i+1) % 2]\n",
    "pstart[:10]"
   ]
  },
  {
   "cell_type": "code",
   "execution_count": 45,
   "metadata": {
    "collapsed": false
   },
   "outputs": [],
   "source": [
    "# get log likelihood values for parameter combinations\n",
    "\n",
    "@lbview.parallel(block=True)\n",
    "def get_ll(p):\n",
    "    # calculate the best-fit model SFS given paramter combination\n",
    "    expected_sfs = func_ex(p, ns, pts_l)\n",
    "    # calculate the log likelihood of the expected SFS given the observed SFS\n",
    "    return dadi.Inference.ll_multinom(expected_sfs, fs_ery)\n",
    "\n",
    "# run get_ll on all sets of parameters in parallel\n",
    "ll = get_ll.map(popt)"
   ]
  },
  {
   "cell_type": "code",
   "execution_count": 46,
   "metadata": {
    "collapsed": false
   },
   "outputs": [
    {
     "data": {
      "text/plain": [
       "[-2078.067320428625,\n",
       " -2078.0673797709842,\n",
       " -2078.067419962621,\n",
       " -2078.0674972130191,\n",
       " -2078.0675491517241,\n",
       " -2078.0675814255692,\n",
       " -2078.0676023954334,\n",
       " -2078.067658031533,\n",
       " -2078.0676641426016,\n",
       " -2078.0676647990363,\n",
       " -2078.0676678036625,\n",
       " -2078.0676690729706,\n",
       " -2078.0676714431856,\n",
       " -2078.0676726788706,\n",
       " -2078.0676728199205,\n",
       " -2078.0676728218023,\n",
       " -2078.2887117673326,\n",
       " -2078.2888528594422,\n",
       " -2078.2888922078519,\n",
       " -2078.2889462689072]"
      ]
     },
     "execution_count": 46,
     "metadata": {},
     "output_type": "execute_result"
    }
   ],
   "source": [
    "sorted(ll, reverse=True)[:20]"
   ]
  },
  {
   "cell_type": "code",
   "execution_count": 47,
   "metadata": {
    "collapsed": false
   },
   "outputs": [],
   "source": [
    "# get arrays of individual parameters from each optimisation run\n",
    "nu = [p_set[0] for p_set in popt]\n",
    "T = [p_set[1] for p_set in popt]\n",
    "nu_start = [p_set[0][0] for p_set in pstart]\n",
    "T_start = [p_set[0][1] for p_set in pstart]"
   ]
  },
  {
   "cell_type": "code",
   "execution_count": 48,
   "metadata": {
    "collapsed": false
   },
   "outputs": [
    {
     "name": "stdout",
     "output_type": "stream",
     "text": [
      "100 100 100 100 100\n"
     ]
    }
   ],
   "source": [
    "print(len(ll), len(nu), len(T), len(nu_start), len(T_start))"
   ]
  },
  {
   "cell_type": "markdown",
   "metadata": {},
   "source": [
    "I would like to create a data frame with `pandas` with these arrays and then sort the table by `ll`."
   ]
  },
  {
   "cell_type": "code",
   "execution_count": 50,
   "metadata": {
    "collapsed": true
   },
   "outputs": [],
   "source": [
    "import pandas as pd"
   ]
  },
  {
   "cell_type": "code",
   "execution_count": 51,
   "metadata": {
    "collapsed": false
   },
   "outputs": [
    {
     "data": {
      "text/html": [
       "<div>\n",
       "<table border=\"1\" class=\"dataframe\">\n",
       "  <thead>\n",
       "    <tr style=\"text-align: right;\">\n",
       "      <th></th>\n",
       "      <th>a_nu_start</th>\n",
       "      <th>b_T_start</th>\n",
       "      <th>c_nu</th>\n",
       "      <th>d_T</th>\n",
       "      <th>e_log ll</th>\n",
       "    </tr>\n",
       "  </thead>\n",
       "  <tbody>\n",
       "    <tr>\n",
       "      <th>0</th>\n",
       "      <td>0.001</td>\n",
       "      <td>0.001000</td>\n",
       "      <td>0.001081</td>\n",
       "      <td>7.619346e-09</td>\n",
       "      <td>-2460.468082</td>\n",
       "    </tr>\n",
       "    <tr>\n",
       "      <th>1</th>\n",
       "      <td>0.001</td>\n",
       "      <td>0.002327</td>\n",
       "      <td>0.001059</td>\n",
       "      <td>2.340705e-05</td>\n",
       "      <td>-2093.711892</td>\n",
       "    </tr>\n",
       "    <tr>\n",
       "      <th>2</th>\n",
       "      <td>0.001</td>\n",
       "      <td>0.005415</td>\n",
       "      <td>0.127985</td>\n",
       "      <td>4.887020e-06</td>\n",
       "      <td>-2459.022190</td>\n",
       "    </tr>\n",
       "    <tr>\n",
       "      <th>3</th>\n",
       "      <td>0.001</td>\n",
       "      <td>0.012599</td>\n",
       "      <td>0.001000</td>\n",
       "      <td>1.259921e-02</td>\n",
       "      <td>-12702.278947</td>\n",
       "    </tr>\n",
       "    <tr>\n",
       "      <th>4</th>\n",
       "      <td>0.001</td>\n",
       "      <td>0.029317</td>\n",
       "      <td>0.001000</td>\n",
       "      <td>2.931733e-02</td>\n",
       "      <td>-10530.896299</td>\n",
       "    </tr>\n",
       "  </tbody>\n",
       "</table>\n",
       "</div>"
      ],
      "text/plain": [
       "   a_nu_start  b_T_start      c_nu           d_T      e_log ll\n",
       "0       0.001   0.001000  0.001081  7.619346e-09  -2460.468082\n",
       "1       0.001   0.002327  0.001059  2.340705e-05  -2093.711892\n",
       "2       0.001   0.005415  0.127985  4.887020e-06  -2459.022190\n",
       "3       0.001   0.012599  0.001000  1.259921e-02 -12702.278947\n",
       "4       0.001   0.029317  0.001000  2.931733e-02 -10530.896299"
      ]
     },
     "execution_count": 51,
     "metadata": {},
     "output_type": "execute_result"
    }
   ],
   "source": [
    "# create pandas data frame\n",
    "df = pd.DataFrame({\n",
    "        'a_nu_start' : nu_start,\n",
    "        'b_T_start' : T_start,\n",
    "        'c_nu' : nu,\n",
    "        'd_T' : T,\n",
    "        'e_log ll' : ll\n",
    "    })\n",
    "df.head()"
   ]
  },
  {
   "cell_type": "code",
   "execution_count": 52,
   "metadata": {
    "collapsed": false
   },
   "outputs": [
    {
     "data": {
      "text/plain": [
       "a_nu_start    float64\n",
       "b_T_start     float64\n",
       "c_nu          float64\n",
       "d_T           float64\n",
       "e_log ll      float64\n",
       "dtype: object"
      ]
     },
     "execution_count": 52,
     "metadata": {},
     "output_type": "execute_result"
    }
   ],
   "source": [
    "df.dtypes"
   ]
  },
  {
   "cell_type": "code",
   "execution_count": 53,
   "metadata": {
    "collapsed": false
   },
   "outputs": [
    {
     "data": {
      "text/html": [
       "<div>\n",
       "<table border=\"1\" class=\"dataframe\">\n",
       "  <thead>\n",
       "    <tr style=\"text-align: right;\">\n",
       "      <th></th>\n",
       "      <th>a_nu_start</th>\n",
       "      <th>b_T_start</th>\n",
       "      <th>c_nu</th>\n",
       "      <th>d_T</th>\n",
       "      <th>e_log ll</th>\n",
       "    </tr>\n",
       "  </thead>\n",
       "  <tbody>\n",
       "    <tr>\n",
       "      <th>count</th>\n",
       "      <td>100.000000</td>\n",
       "      <td>100.000000</td>\n",
       "      <td>100.000000</td>\n",
       "      <td>1.000000e+02</td>\n",
       "      <td>100.000000</td>\n",
       "    </tr>\n",
       "    <tr>\n",
       "      <th>mean</th>\n",
       "      <td>7.148257</td>\n",
       "      <td>0.350650</td>\n",
       "      <td>6.377048</td>\n",
       "      <td>6.263955e-01</td>\n",
       "      <td>-2517.026761</td>\n",
       "    </tr>\n",
       "    <tr>\n",
       "      <th>std</th>\n",
       "      <td>15.032771</td>\n",
       "      <td>0.609400</td>\n",
       "      <td>21.042525</td>\n",
       "      <td>1.353947e+00</td>\n",
       "      <td>1354.943495</td>\n",
       "    </tr>\n",
       "    <tr>\n",
       "      <th>min</th>\n",
       "      <td>0.001000</td>\n",
       "      <td>0.001000</td>\n",
       "      <td>0.001000</td>\n",
       "      <td>9.092324e-61</td>\n",
       "      <td>-12702.278947</td>\n",
       "    </tr>\n",
       "    <tr>\n",
       "      <th>25%</th>\n",
       "      <td>0.011072</td>\n",
       "      <td>0.005415</td>\n",
       "      <td>0.001765</td>\n",
       "      <td>2.686284e-05</td>\n",
       "      <td>-2460.550229</td>\n",
       "    </tr>\n",
       "    <tr>\n",
       "      <th>50%</th>\n",
       "      <td>0.265235</td>\n",
       "      <td>0.048768</td>\n",
       "      <td>0.105968</td>\n",
       "      <td>7.520691e-03</td>\n",
       "      <td>-2438.508839</td>\n",
       "    </tr>\n",
       "    <tr>\n",
       "      <th>75%</th>\n",
       "      <td>4.516005</td>\n",
       "      <td>0.369375</td>\n",
       "      <td>0.142563</td>\n",
       "      <td>2.920877e-01</td>\n",
       "      <td>-2078.289051</td>\n",
       "    </tr>\n",
       "    <tr>\n",
       "      <th>max</th>\n",
       "      <td>50.000000</td>\n",
       "      <td>2.000000</td>\n",
       "      <td>98.224094</td>\n",
       "      <td>4.993029e+00</td>\n",
       "      <td>-2078.067320</td>\n",
       "    </tr>\n",
       "  </tbody>\n",
       "</table>\n",
       "</div>"
      ],
      "text/plain": [
       "       a_nu_start   b_T_start        c_nu           d_T      e_log ll\n",
       "count  100.000000  100.000000  100.000000  1.000000e+02    100.000000\n",
       "mean     7.148257    0.350650    6.377048  6.263955e-01  -2517.026761\n",
       "std     15.032771    0.609400   21.042525  1.353947e+00   1354.943495\n",
       "min      0.001000    0.001000    0.001000  9.092324e-61 -12702.278947\n",
       "25%      0.011072    0.005415    0.001765  2.686284e-05  -2460.550229\n",
       "50%      0.265235    0.048768    0.105968  7.520691e-03  -2438.508839\n",
       "75%      4.516005    0.369375    0.142563  2.920877e-01  -2078.289051\n",
       "max     50.000000    2.000000   98.224094  4.993029e+00  -2078.067320"
      ]
     },
     "execution_count": 53,
     "metadata": {},
     "output_type": "execute_result"
    }
   ],
   "source": [
    "# get statistics for each column\n",
    "\n",
    "df.describe()"
   ]
  },
  {
   "cell_type": "code",
   "execution_count": 54,
   "metadata": {
    "collapsed": false
   },
   "outputs": [
    {
     "data": {
      "text/html": [
       "<div>\n",
       "<table border=\"1\" class=\"dataframe\">\n",
       "  <thead>\n",
       "    <tr style=\"text-align: right;\">\n",
       "      <th></th>\n",
       "      <th>a_nu_start</th>\n",
       "      <th>b_T_start</th>\n",
       "      <th>c_nu</th>\n",
       "      <th>d_T</th>\n",
       "      <th>e_log ll</th>\n",
       "    </tr>\n",
       "  </thead>\n",
       "  <tbody>\n",
       "    <tr>\n",
       "      <th>65</th>\n",
       "      <td>1.357209</td>\n",
       "      <td>0.068219</td>\n",
       "      <td>0.136618</td>\n",
       "      <td>0.007528</td>\n",
       "      <td>-2078.067320</td>\n",
       "    </tr>\n",
       "    <tr>\n",
       "      <th>66</th>\n",
       "      <td>1.357209</td>\n",
       "      <td>0.158740</td>\n",
       "      <td>0.136539</td>\n",
       "      <td>0.007525</td>\n",
       "      <td>-2078.067380</td>\n",
       "    </tr>\n",
       "    <tr>\n",
       "      <th>52</th>\n",
       "      <td>0.407886</td>\n",
       "      <td>0.005415</td>\n",
       "      <td>0.136484</td>\n",
       "      <td>0.007525</td>\n",
       "      <td>-2078.067420</td>\n",
       "    </tr>\n",
       "    <tr>\n",
       "      <th>64</th>\n",
       "      <td>1.357209</td>\n",
       "      <td>0.029317</td>\n",
       "      <td>0.136449</td>\n",
       "      <td>0.007527</td>\n",
       "      <td>-2078.067497</td>\n",
       "    </tr>\n",
       "    <tr>\n",
       "      <th>34</th>\n",
       "      <td>0.036840</td>\n",
       "      <td>0.029317</td>\n",
       "      <td>0.136426</td>\n",
       "      <td>0.007524</td>\n",
       "      <td>-2078.067549</td>\n",
       "    </tr>\n",
       "    <tr>\n",
       "      <th>54</th>\n",
       "      <td>0.407886</td>\n",
       "      <td>0.029317</td>\n",
       "      <td>0.136495</td>\n",
       "      <td>0.007520</td>\n",
       "      <td>-2078.067581</td>\n",
       "    </tr>\n",
       "    <tr>\n",
       "      <th>33</th>\n",
       "      <td>0.036840</td>\n",
       "      <td>0.012599</td>\n",
       "      <td>0.136415</td>\n",
       "      <td>0.007521</td>\n",
       "      <td>-2078.067602</td>\n",
       "    </tr>\n",
       "    <tr>\n",
       "      <th>58</th>\n",
       "      <td>0.407886</td>\n",
       "      <td>0.859506</td>\n",
       "      <td>0.136407</td>\n",
       "      <td>0.007520</td>\n",
       "      <td>-2078.067658</td>\n",
       "    </tr>\n",
       "    <tr>\n",
       "      <th>77</th>\n",
       "      <td>4.516005</td>\n",
       "      <td>0.369375</td>\n",
       "      <td>0.136406</td>\n",
       "      <td>0.007520</td>\n",
       "      <td>-2078.067664</td>\n",
       "    </tr>\n",
       "    <tr>\n",
       "      <th>57</th>\n",
       "      <td>0.407886</td>\n",
       "      <td>0.369375</td>\n",
       "      <td>0.136406</td>\n",
       "      <td>0.007520</td>\n",
       "      <td>-2078.067665</td>\n",
       "    </tr>\n",
       "    <tr>\n",
       "      <th>42</th>\n",
       "      <td>0.122583</td>\n",
       "      <td>0.005415</td>\n",
       "      <td>0.136405</td>\n",
       "      <td>0.007520</td>\n",
       "      <td>-2078.067668</td>\n",
       "    </tr>\n",
       "    <tr>\n",
       "      <th>59</th>\n",
       "      <td>0.407886</td>\n",
       "      <td>2.000000</td>\n",
       "      <td>0.136404</td>\n",
       "      <td>0.007519</td>\n",
       "      <td>-2078.067669</td>\n",
       "    </tr>\n",
       "    <tr>\n",
       "      <th>23</th>\n",
       "      <td>0.011072</td>\n",
       "      <td>0.012599</td>\n",
       "      <td>0.136404</td>\n",
       "      <td>0.007519</td>\n",
       "      <td>-2078.067671</td>\n",
       "    </tr>\n",
       "    <tr>\n",
       "      <th>43</th>\n",
       "      <td>0.122583</td>\n",
       "      <td>0.012599</td>\n",
       "      <td>0.136404</td>\n",
       "      <td>0.007519</td>\n",
       "      <td>-2078.067673</td>\n",
       "    </tr>\n",
       "    <tr>\n",
       "      <th>62</th>\n",
       "      <td>1.357209</td>\n",
       "      <td>0.005415</td>\n",
       "      <td>0.136404</td>\n",
       "      <td>0.007519</td>\n",
       "      <td>-2078.067673</td>\n",
       "    </tr>\n",
       "    <tr>\n",
       "      <th>86</th>\n",
       "      <td>15.026652</td>\n",
       "      <td>0.158740</td>\n",
       "      <td>0.136404</td>\n",
       "      <td>0.007519</td>\n",
       "      <td>-2078.067673</td>\n",
       "    </tr>\n",
       "    <tr>\n",
       "      <th>56</th>\n",
       "      <td>0.407886</td>\n",
       "      <td>0.158740</td>\n",
       "      <td>0.142702</td>\n",
       "      <td>0.008343</td>\n",
       "      <td>-2078.288712</td>\n",
       "    </tr>\n",
       "    <tr>\n",
       "      <th>22</th>\n",
       "      <td>0.011072</td>\n",
       "      <td>0.005415</td>\n",
       "      <td>0.142715</td>\n",
       "      <td>0.008332</td>\n",
       "      <td>-2078.288853</td>\n",
       "    </tr>\n",
       "    <tr>\n",
       "      <th>73</th>\n",
       "      <td>4.516005</td>\n",
       "      <td>0.012599</td>\n",
       "      <td>0.142648</td>\n",
       "      <td>0.008331</td>\n",
       "      <td>-2078.288892</td>\n",
       "    </tr>\n",
       "    <tr>\n",
       "      <th>32</th>\n",
       "      <td>0.036840</td>\n",
       "      <td>0.005415</td>\n",
       "      <td>0.142579</td>\n",
       "      <td>0.008335</td>\n",
       "      <td>-2078.288946</td>\n",
       "    </tr>\n",
       "    <tr>\n",
       "      <th>19</th>\n",
       "      <td>0.003327</td>\n",
       "      <td>2.000000</td>\n",
       "      <td>0.142581</td>\n",
       "      <td>0.008331</td>\n",
       "      <td>-2078.288968</td>\n",
       "    </tr>\n",
       "    <tr>\n",
       "      <th>98</th>\n",
       "      <td>50.000000</td>\n",
       "      <td>0.859506</td>\n",
       "      <td>0.142571</td>\n",
       "      <td>0.008330</td>\n",
       "      <td>-2078.289005</td>\n",
       "    </tr>\n",
       "    <tr>\n",
       "      <th>83</th>\n",
       "      <td>15.026652</td>\n",
       "      <td>0.012599</td>\n",
       "      <td>0.142566</td>\n",
       "      <td>0.008329</td>\n",
       "      <td>-2078.289033</td>\n",
       "    </tr>\n",
       "    <tr>\n",
       "      <th>63</th>\n",
       "      <td>1.357209</td>\n",
       "      <td>0.012599</td>\n",
       "      <td>0.142563</td>\n",
       "      <td>0.008329</td>\n",
       "      <td>-2078.289041</td>\n",
       "    </tr>\n",
       "    <tr>\n",
       "      <th>55</th>\n",
       "      <td>0.407886</td>\n",
       "      <td>0.068219</td>\n",
       "      <td>0.142564</td>\n",
       "      <td>0.008329</td>\n",
       "      <td>-2078.289049</td>\n",
       "    </tr>\n",
       "    <tr>\n",
       "      <th>53</th>\n",
       "      <td>0.407886</td>\n",
       "      <td>0.012599</td>\n",
       "      <td>0.142562</td>\n",
       "      <td>0.008329</td>\n",
       "      <td>-2078.289051</td>\n",
       "    </tr>\n",
       "    <tr>\n",
       "      <th>45</th>\n",
       "      <td>0.122583</td>\n",
       "      <td>0.068219</td>\n",
       "      <td>0.142562</td>\n",
       "      <td>0.008329</td>\n",
       "      <td>-2078.289051</td>\n",
       "    </tr>\n",
       "    <tr>\n",
       "      <th>97</th>\n",
       "      <td>50.000000</td>\n",
       "      <td>0.369375</td>\n",
       "      <td>0.142562</td>\n",
       "      <td>0.008329</td>\n",
       "      <td>-2078.289051</td>\n",
       "    </tr>\n",
       "    <tr>\n",
       "      <th>8</th>\n",
       "      <td>0.001000</td>\n",
       "      <td>0.859506</td>\n",
       "      <td>0.001049</td>\n",
       "      <td>0.000023</td>\n",
       "      <td>-2093.706398</td>\n",
       "    </tr>\n",
       "    <tr>\n",
       "      <th>71</th>\n",
       "      <td>4.516005</td>\n",
       "      <td>0.002327</td>\n",
       "      <td>0.001052</td>\n",
       "      <td>0.000023</td>\n",
       "      <td>-2093.706770</td>\n",
       "    </tr>\n",
       "    <tr>\n",
       "      <th>1</th>\n",
       "      <td>0.001000</td>\n",
       "      <td>0.002327</td>\n",
       "      <td>0.001059</td>\n",
       "      <td>0.000023</td>\n",
       "      <td>-2093.711892</td>\n",
       "    </tr>\n",
       "    <tr>\n",
       "      <th>61</th>\n",
       "      <td>1.357209</td>\n",
       "      <td>0.002327</td>\n",
       "      <td>0.001078</td>\n",
       "      <td>0.000024</td>\n",
       "      <td>-2093.713637</td>\n",
       "    </tr>\n",
       "    <tr>\n",
       "      <th>31</th>\n",
       "      <td>0.036840</td>\n",
       "      <td>0.002327</td>\n",
       "      <td>0.001075</td>\n",
       "      <td>0.000024</td>\n",
       "      <td>-2093.716120</td>\n",
       "    </tr>\n",
       "    <tr>\n",
       "      <th>70</th>\n",
       "      <td>4.516005</td>\n",
       "      <td>0.001000</td>\n",
       "      <td>0.001189</td>\n",
       "      <td>0.000026</td>\n",
       "      <td>-2093.729531</td>\n",
       "    </tr>\n",
       "    <tr>\n",
       "      <th>50</th>\n",
       "      <td>0.407886</td>\n",
       "      <td>0.001000</td>\n",
       "      <td>0.001205</td>\n",
       "      <td>0.000027</td>\n",
       "      <td>-2093.730835</td>\n",
       "    </tr>\n",
       "    <tr>\n",
       "      <th>41</th>\n",
       "      <td>0.122583</td>\n",
       "      <td>0.002327</td>\n",
       "      <td>0.001213</td>\n",
       "      <td>0.000027</td>\n",
       "      <td>-2093.731665</td>\n",
       "    </tr>\n",
       "    <tr>\n",
       "      <th>40</th>\n",
       "      <td>0.122583</td>\n",
       "      <td>0.001000</td>\n",
       "      <td>0.001198</td>\n",
       "      <td>0.000027</td>\n",
       "      <td>-2093.731861</td>\n",
       "    </tr>\n",
       "    <tr>\n",
       "      <th>75</th>\n",
       "      <td>4.516005</td>\n",
       "      <td>0.068219</td>\n",
       "      <td>0.001120</td>\n",
       "      <td>0.000025</td>\n",
       "      <td>-2093.732856</td>\n",
       "    </tr>\n",
       "    <tr>\n",
       "      <th>67</th>\n",
       "      <td>1.357209</td>\n",
       "      <td>0.369375</td>\n",
       "      <td>0.001138</td>\n",
       "      <td>0.000025</td>\n",
       "      <td>-2093.733511</td>\n",
       "    </tr>\n",
       "    <tr>\n",
       "      <th>87</th>\n",
       "      <td>15.026652</td>\n",
       "      <td>0.369375</td>\n",
       "      <td>0.001232</td>\n",
       "      <td>0.000027</td>\n",
       "      <td>-2093.735313</td>\n",
       "    </tr>\n",
       "    <tr>\n",
       "      <th>85</th>\n",
       "      <td>15.026652</td>\n",
       "      <td>0.068219</td>\n",
       "      <td>0.001038</td>\n",
       "      <td>0.000023</td>\n",
       "      <td>-2093.741987</td>\n",
       "    </tr>\n",
       "    <tr>\n",
       "      <th>51</th>\n",
       "      <td>0.407886</td>\n",
       "      <td>0.002327</td>\n",
       "      <td>0.001280</td>\n",
       "      <td>0.000028</td>\n",
       "      <td>-2093.742730</td>\n",
       "    </tr>\n",
       "    <tr>\n",
       "      <th>60</th>\n",
       "      <td>1.357209</td>\n",
       "      <td>0.001000</td>\n",
       "      <td>0.001318</td>\n",
       "      <td>0.000029</td>\n",
       "      <td>-2093.750357</td>\n",
       "    </tr>\n",
       "    <tr>\n",
       "      <th>68</th>\n",
       "      <td>1.357209</td>\n",
       "      <td>0.859506</td>\n",
       "      <td>0.001072</td>\n",
       "      <td>0.000024</td>\n",
       "      <td>-2093.758576</td>\n",
       "    </tr>\n",
       "    <tr>\n",
       "      <th>30</th>\n",
       "      <td>0.036840</td>\n",
       "      <td>0.001000</td>\n",
       "      <td>0.001257</td>\n",
       "      <td>0.000028</td>\n",
       "      <td>-2093.767468</td>\n",
       "    </tr>\n",
       "    <tr>\n",
       "      <th>69</th>\n",
       "      <td>1.357209</td>\n",
       "      <td>2.000000</td>\n",
       "      <td>0.480286</td>\n",
       "      <td>4.993029</td>\n",
       "      <td>-2438.471252</td>\n",
       "    </tr>\n",
       "    <tr>\n",
       "      <th>36</th>\n",
       "      <td>0.036840</td>\n",
       "      <td>0.158740</td>\n",
       "      <td>0.135444</td>\n",
       "      <td>3.914982</td>\n",
       "      <td>-2438.507638</td>\n",
       "    </tr>\n",
       "    <tr>\n",
       "      <th>89</th>\n",
       "      <td>15.026652</td>\n",
       "      <td>2.000000</td>\n",
       "      <td>0.130698</td>\n",
       "      <td>3.845000</td>\n",
       "      <td>-2438.507787</td>\n",
       "    </tr>\n",
       "    <tr>\n",
       "      <th>47</th>\n",
       "      <td>0.122583</td>\n",
       "      <td>0.369375</td>\n",
       "      <td>0.113940</td>\n",
       "      <td>3.577928</td>\n",
       "      <td>-2438.508324</td>\n",
       "    </tr>\n",
       "    <tr>\n",
       "      <th>14</th>\n",
       "      <td>0.003327</td>\n",
       "      <td>0.029317</td>\n",
       "      <td>0.103277</td>\n",
       "      <td>3.391452</td>\n",
       "      <td>-2438.508676</td>\n",
       "    </tr>\n",
       "  </tbody>\n",
       "</table>\n",
       "</div>"
      ],
      "text/plain": [
       "    a_nu_start  b_T_start      c_nu       d_T     e_log ll\n",
       "65    1.357209   0.068219  0.136618  0.007528 -2078.067320\n",
       "66    1.357209   0.158740  0.136539  0.007525 -2078.067380\n",
       "52    0.407886   0.005415  0.136484  0.007525 -2078.067420\n",
       "64    1.357209   0.029317  0.136449  0.007527 -2078.067497\n",
       "34    0.036840   0.029317  0.136426  0.007524 -2078.067549\n",
       "54    0.407886   0.029317  0.136495  0.007520 -2078.067581\n",
       "33    0.036840   0.012599  0.136415  0.007521 -2078.067602\n",
       "58    0.407886   0.859506  0.136407  0.007520 -2078.067658\n",
       "77    4.516005   0.369375  0.136406  0.007520 -2078.067664\n",
       "57    0.407886   0.369375  0.136406  0.007520 -2078.067665\n",
       "42    0.122583   0.005415  0.136405  0.007520 -2078.067668\n",
       "59    0.407886   2.000000  0.136404  0.007519 -2078.067669\n",
       "23    0.011072   0.012599  0.136404  0.007519 -2078.067671\n",
       "43    0.122583   0.012599  0.136404  0.007519 -2078.067673\n",
       "62    1.357209   0.005415  0.136404  0.007519 -2078.067673\n",
       "86   15.026652   0.158740  0.136404  0.007519 -2078.067673\n",
       "56    0.407886   0.158740  0.142702  0.008343 -2078.288712\n",
       "22    0.011072   0.005415  0.142715  0.008332 -2078.288853\n",
       "73    4.516005   0.012599  0.142648  0.008331 -2078.288892\n",
       "32    0.036840   0.005415  0.142579  0.008335 -2078.288946\n",
       "19    0.003327   2.000000  0.142581  0.008331 -2078.288968\n",
       "98   50.000000   0.859506  0.142571  0.008330 -2078.289005\n",
       "83   15.026652   0.012599  0.142566  0.008329 -2078.289033\n",
       "63    1.357209   0.012599  0.142563  0.008329 -2078.289041\n",
       "55    0.407886   0.068219  0.142564  0.008329 -2078.289049\n",
       "53    0.407886   0.012599  0.142562  0.008329 -2078.289051\n",
       "45    0.122583   0.068219  0.142562  0.008329 -2078.289051\n",
       "97   50.000000   0.369375  0.142562  0.008329 -2078.289051\n",
       "8     0.001000   0.859506  0.001049  0.000023 -2093.706398\n",
       "71    4.516005   0.002327  0.001052  0.000023 -2093.706770\n",
       "1     0.001000   0.002327  0.001059  0.000023 -2093.711892\n",
       "61    1.357209   0.002327  0.001078  0.000024 -2093.713637\n",
       "31    0.036840   0.002327  0.001075  0.000024 -2093.716120\n",
       "70    4.516005   0.001000  0.001189  0.000026 -2093.729531\n",
       "50    0.407886   0.001000  0.001205  0.000027 -2093.730835\n",
       "41    0.122583   0.002327  0.001213  0.000027 -2093.731665\n",
       "40    0.122583   0.001000  0.001198  0.000027 -2093.731861\n",
       "75    4.516005   0.068219  0.001120  0.000025 -2093.732856\n",
       "67    1.357209   0.369375  0.001138  0.000025 -2093.733511\n",
       "87   15.026652   0.369375  0.001232  0.000027 -2093.735313\n",
       "85   15.026652   0.068219  0.001038  0.000023 -2093.741987\n",
       "51    0.407886   0.002327  0.001280  0.000028 -2093.742730\n",
       "60    1.357209   0.001000  0.001318  0.000029 -2093.750357\n",
       "68    1.357209   0.859506  0.001072  0.000024 -2093.758576\n",
       "30    0.036840   0.001000  0.001257  0.000028 -2093.767468\n",
       "69    1.357209   2.000000  0.480286  4.993029 -2438.471252\n",
       "36    0.036840   0.158740  0.135444  3.914982 -2438.507638\n",
       "89   15.026652   2.000000  0.130698  3.845000 -2438.507787\n",
       "47    0.122583   0.369375  0.113940  3.577928 -2438.508324\n",
       "14    0.003327   0.029317  0.103277  3.391452 -2438.508676"
      ]
     },
     "execution_count": 54,
     "metadata": {},
     "output_type": "execute_result"
    }
   ],
   "source": [
    "df.sort_values(by='e_log ll', ascending=False).head(50)"
   ]
  },
  {
   "cell_type": "markdown",
   "metadata": {
    "collapsed": false
   },
   "source": [
    "Given the range of starting values that result in almost exactly the same optimal parameter values, I am fairly convinced that the optimal parameters for this model are close to $\\nu = 0.136$ and $T = 0.0075$. Given the model, the optimal parameters indicate that the ancestral populations to the _erythropus_ sample started to decline _exponentially_ (how realistic is that?) $0.0075 \\times 2N_a$ generations ago to a contemporary population size of about 14% of the ancient effective population size ($N_a$)."
   ]
  },
  {
   "cell_type": "code",
   "execution_count": 55,
   "metadata": {
    "collapsed": false
   },
   "outputs": [],
   "source": [
    "%matplotlib inline"
   ]
  },
  {
   "cell_type": "code",
   "execution_count": 56,
   "metadata": {
    "collapsed": false
   },
   "outputs": [],
   "source": [
    "import matplotlib.pyplot as plt"
   ]
  },
  {
   "cell_type": "code",
   "execution_count": 58,
   "metadata": {
    "collapsed": false
   },
   "outputs": [
    {
     "data": {
      "text/plain": [
       "<matplotlib.colorbar.Colorbar at 0x7f90b1a156d0>"
      ]
     },
     "execution_count": 58,
     "metadata": {},
     "output_type": "execute_result"
    },
    {
     "data": {
      "image/png": "[encoded data removed]",
      "text/plain": [
       "<matplotlib.figure.Figure at 0x7f90aa1fdcd0>"
      ]
     },
     "metadata": {},
     "output_type": "display_data"
    }
   ],
   "source": [
    "plt.rcParams['font.size'] = 20.0\n",
    "plt.figure(figsize=[12.0, 10.0])\n",
    "plt.scatter(np.log(nu), np.log(T), c=ll, s=75, alpha=0.5)\n",
    "plt.xlabel(r'log $\\nu$')\n",
    "plt.ylabel(\"log T\")\n",
    "plt.title(\"log likelihoods for parameter combinations\")\n",
    "plt.grid()\n",
    "plt.colorbar()"
   ]
  },
  {
   "cell_type": "markdown",
   "metadata": {},
   "source": [
    "The parameter combination $\\nu = 0.001049$ and $T = 0.000023$ has only slightly smaller log likelihood. This parameter combination corresponds to a much more recent and much more drastic population reduction. I think a likelihood ratio test would be required to see whether the data can distinguish between these two scenarios."
   ]
  },
  {
   "cell_type": "markdown",
   "metadata": {},
   "source": [
    "Maybe I should do a longer run, starting from the best-fit parameter sets found here and setting `maxiter` to something ridiculously high, so that it is guaranteed that the ML values will be found within `gtol` deviation."
   ]
  },
  {
   "cell_type": "code",
   "execution_count": 59,
   "metadata": {
    "collapsed": false
   },
   "outputs": [
    {
     "data": {
      "text/plain": [
       "array([ 0.13661805,  0.00752751])"
      ]
     },
     "execution_count": 59,
     "metadata": {},
     "output_type": "execute_result"
    }
   ],
   "source": [
    "p0 = df.sort_values(by='e_log ll', ascending=False).iloc[0, 2:4]\n",
    "p_init = np.array(p0)\n",
    "p_init"
   ]
  },
  {
   "cell_type": "code",
   "execution_count": 60,
   "metadata": {
    "collapsed": true
   },
   "outputs": [],
   "source": [
    "# create direct view of engines\n",
    "dview = cl[:]\n",
    "\n",
    "# define function to run dadi with perturbed starting values\n",
    "# note the high maxiter\n",
    "def run_dadi_on_ery(p_init): # for the function to be called with map, it needs to have one input variable\n",
    "    \"\"\"\n",
    "    p_init: initial parameter values to run optimisation from\n",
    "    \"\"\"\n",
    "    # perturb starting values by up to a factor of 2 times 'fold'\n",
    "    p0 = dadi.Misc.perturb_params(p_init, fold=2, upper_bound=upper_bound, lower_bound=lower_bound)\n",
    "    # run optimisation of paramters\n",
    "    popt = dadi.Inference.optimize_log(p0=p0, data=fs_ery, model_func=func_ex, pts=pts_l, \\\n",
    "                                   lower_bound=lower_bound, upper_bound=upper_bound, \\\n",
    "                                   verbose=0, maxiter=1e9, full_output=False)\n",
    "    return popt # returns a tuple with starting values and optimal nu and T"
   ]
  },
  {
   "cell_type": "code",
   "execution_count": 89,
   "metadata": {
    "collapsed": true
   },
   "outputs": [],
   "source": [
    "%pdoc run_dadi_on_ery"
   ]
  },
  {
   "cell_type": "code",
   "execution_count": 61,
   "metadata": {
    "collapsed": false
   },
   "outputs": [],
   "source": [
    "# run optimisation with perturbed initial values on all 11 engines\n",
    "fine_opt_res = dview.apply_async( run_dadi_on_ery, p_init )"
   ]
  },
  {
   "cell_type": "code",
   "execution_count": 63,
   "metadata": {
    "collapsed": false
   },
   "outputs": [
    {
     "data": {
      "text/plain": [
       "6.558749"
      ]
     },
     "execution_count": 63,
     "metadata": {},
     "output_type": "execute_result"
    }
   ],
   "source": [
    "# get running time\n",
    "fine_opt_res.wall_time"
   ]
  },
  {
   "cell_type": "markdown",
   "metadata": {},
   "source": [
    "This toke only 6 seconds to compute on 11 engines."
   ]
  },
  {
   "cell_type": "code",
   "execution_count": 64,
   "metadata": {
    "collapsed": false
   },
   "outputs": [
    {
     "data": {
      "text/plain": [
       "[array([ 0.14256237,  0.00832862]),\n",
       " array([ 0.13640355,  0.00751942]),\n",
       " array([ 0.13640355,  0.00751942]),\n",
       " array([ 0.13640362,  0.00751942]),\n",
       " array([ 0.13641597,  0.00751976]),\n",
       " array([ 0.13650859,  0.00753115]),\n",
       " array([  1.24217027e-03,   2.75412765e-05]),\n",
       " array([ 0.14256748,  0.00832893]),\n",
       " array([ 0.13640355,  0.00751943]),\n",
       " array([ 0.13666684,  0.00753417]),\n",
       " array([ 0.13640454,  0.00751943])]"
      ]
     },
     "execution_count": 64,
     "metadata": {},
     "output_type": "execute_result"
    }
   ],
   "source": [
    "# get optimised parameters\n",
    "fine_opt_res.get()"
   ]
  },
  {
   "cell_type": "code",
   "execution_count": 65,
   "metadata": {
    "collapsed": false
   },
   "outputs": [
    {
     "data": {
      "text/plain": [
       "[-2078.2890514635992,\n",
       " -2078.0676728228846,\n",
       " -2078.0676728230906,\n",
       " -2078.0676726287252,\n",
       " -2078.0676410509236,\n",
       " -2078.0674112379847,\n",
       " -2093.7365024972123,\n",
       " -2078.2890336421278,\n",
       " -2078.0676723880715,\n",
       " -2078.0672265318244,\n",
       " -2078.0676708505089]"
      ]
     },
     "execution_count": 65,
     "metadata": {},
     "output_type": "execute_result"
    }
   ],
   "source": [
    "# run get_ll on all sets of parameters in parallel\n",
    "ll = get_ll.map(fine_opt_res.get())\n",
    "ll"
   ]
  },
  {
   "cell_type": "code",
   "execution_count": 77,
   "metadata": {
    "collapsed": false
   },
   "outputs": [
    {
     "data": {
      "text/html": [
       "<div>\n",
       "<table border=\"1\" class=\"dataframe\">\n",
       "  <thead>\n",
       "    <tr style=\"text-align: right;\">\n",
       "      <th></th>\n",
       "      <th>a_nu</th>\n",
       "      <th>b_T</th>\n",
       "      <th>c_ll</th>\n",
       "    </tr>\n",
       "  </thead>\n",
       "  <tbody>\n",
       "    <tr>\n",
       "      <th>0</th>\n",
       "      <td>0.142562</td>\n",
       "      <td>0.008329</td>\n",
       "      <td>-2078.289051</td>\n",
       "    </tr>\n",
       "    <tr>\n",
       "      <th>1</th>\n",
       "      <td>0.136404</td>\n",
       "      <td>0.007519</td>\n",
       "      <td>-2078.067673</td>\n",
       "    </tr>\n",
       "    <tr>\n",
       "      <th>2</th>\n",
       "      <td>0.136404</td>\n",
       "      <td>0.007519</td>\n",
       "      <td>-2078.067673</td>\n",
       "    </tr>\n",
       "    <tr>\n",
       "      <th>3</th>\n",
       "      <td>0.136404</td>\n",
       "      <td>0.007519</td>\n",
       "      <td>-2078.067673</td>\n",
       "    </tr>\n",
       "    <tr>\n",
       "      <th>4</th>\n",
       "      <td>0.136416</td>\n",
       "      <td>0.007520</td>\n",
       "      <td>-2078.067641</td>\n",
       "    </tr>\n",
       "    <tr>\n",
       "      <th>5</th>\n",
       "      <td>0.136509</td>\n",
       "      <td>0.007531</td>\n",
       "      <td>-2078.067411</td>\n",
       "    </tr>\n",
       "    <tr>\n",
       "      <th>6</th>\n",
       "      <td>0.001242</td>\n",
       "      <td>0.000028</td>\n",
       "      <td>-2093.736502</td>\n",
       "    </tr>\n",
       "    <tr>\n",
       "      <th>7</th>\n",
       "      <td>0.142567</td>\n",
       "      <td>0.008329</td>\n",
       "      <td>-2078.289034</td>\n",
       "    </tr>\n",
       "    <tr>\n",
       "      <th>8</th>\n",
       "      <td>0.136404</td>\n",
       "      <td>0.007519</td>\n",
       "      <td>-2078.067672</td>\n",
       "    </tr>\n",
       "    <tr>\n",
       "      <th>9</th>\n",
       "      <td>0.136667</td>\n",
       "      <td>0.007534</td>\n",
       "      <td>-2078.067227</td>\n",
       "    </tr>\n",
       "    <tr>\n",
       "      <th>10</th>\n",
       "      <td>0.136405</td>\n",
       "      <td>0.007519</td>\n",
       "      <td>-2078.067671</td>\n",
       "    </tr>\n",
       "  </tbody>\n",
       "</table>\n",
       "</div>"
      ],
      "text/plain": [
       "        a_nu       b_T         c_ll\n",
       "0   0.142562  0.008329 -2078.289051\n",
       "1   0.136404  0.007519 -2078.067673\n",
       "2   0.136404  0.007519 -2078.067673\n",
       "3   0.136404  0.007519 -2078.067673\n",
       "4   0.136416  0.007520 -2078.067641\n",
       "5   0.136509  0.007531 -2078.067411\n",
       "6   0.001242  0.000028 -2093.736502\n",
       "7   0.142567  0.008329 -2078.289034\n",
       "8   0.136404  0.007519 -2078.067672\n",
       "9   0.136667  0.007534 -2078.067227\n",
       "10  0.136405  0.007519 -2078.067671"
      ]
     },
     "execution_count": 77,
     "metadata": {},
     "output_type": "execute_result"
    }
   ],
   "source": [
    "nu_opt = [p[0] for p in fine_opt_res.get()]\n",
    "T_opt = [p[1] for p in fine_opt_res.get()]\n",
    "\n",
    "df = pd.DataFrame({\n",
    "        'a_nu' : nu_opt,\n",
    "        'b_T' : T_opt,\n",
    "        'c_ll' : ll\n",
    "    })\n",
    "df"
   ]
  },
  {
   "cell_type": "markdown",
   "metadata": {},
   "source": [
    "There are still three outlier results. Maybe I need to use a different optimsiation function."
   ]
  },
  {
   "cell_type": "markdown",
   "metadata": {},
   "source": [
    "#### residual plots"
   ]
  },
  {
   "cell_type": "markdown",
   "metadata": {
    "collapsed": true
   },
   "source": [
    "I would like to comparisons between model predicted and observed SFS for a couple of optimisation results."
   ]
  },
  {
   "cell_type": "code",
   "execution_count": 78,
   "metadata": {
    "collapsed": false
   },
   "outputs": [
    {
     "data": {
      "text/plain": [
       "array([ 0.13661805,  0.00752751])"
      ]
     },
     "execution_count": 78,
     "metadata": {},
     "output_type": "execute_result"
    }
   ],
   "source": [
    "p_init"
   ]
  },
  {
   "cell_type": "code",
   "execution_count": 85,
   "metadata": {
    "collapsed": false
   },
   "outputs": [
    {
     "data": {
      "text/plain": [
       "Spectrum([-- 0.7645601249967013 0.482793721656987 0.3514866265438067\n",
       " 0.27731775125481994 0.2307336013956708 0.19929111074338884\n",
       " 0.17694468856295759 0.1604562975077982 0.14795888897391113\n",
       " 0.13831155314505694 0.13078418733374658 0.12489242853509464\n",
       " 0.12030629224851823 0.11679724936415377 0.11420645592333835\n",
       " 0.1124252214342582 0.1113829309381588 0.055519893550236996 -- -- -- -- --\n",
       " -- -- -- -- -- -- -- -- -- -- -- -- --], folded=True, pop_ids=None)"
      ]
     },
     "execution_count": 85,
     "metadata": {},
     "output_type": "execute_result"
    }
   ],
   "source": [
    "# calculate the best-fit model SFS given the paramter combination with the highest likelihood\n",
    "expected_sfs = func_ex(p_init, ns, pts_l)\n",
    "expected_sfs.fold()"
   ]
  },
  {
   "cell_type": "code",
   "execution_count": 86,
   "metadata": {
    "collapsed": false
   },
   "outputs": [
    {
     "name": "stdout",
     "output_type": "stream",
     "text": [
      "[ 0.13661805  0.00752751]\n"
     ]
    },
    {
     "data": {
      "image/png": "[encoded data removed]",
      "text/plain": [
       "<matplotlib.figure.Figure at 0x7f90a08c1ed0>"
      ]
     },
     "metadata": {},
     "output_type": "display_data"
    }
   ],
   "source": [
    "plt.rcParams['figure.figsize'] = [12.0, 10.0]\n",
    "print(p_init)\n",
    "dadi.Plotting.plot_1d_comp_multinom(expected_sfs.fold()[:19], fs_ery[:19], residual='linear')"
   ]
  },
  {
   "cell_type": "markdown",
   "metadata": {},
   "source": [
    "Compared to the standard neutral model prediction, it seems that only the first frequency class has a markedly reduced residual with this model (about 20 standard deviations)."
   ]
  },
  {
   "cell_type": "code",
   "execution_count": 84,
   "metadata": {
    "collapsed": false
   },
   "outputs": [
    {
     "name": "stdout",
     "output_type": "stream",
     "text": [
      "[ 0.14256237  0.00832862]\n"
     ]
    },
    {
     "data": {
      "image/png": "[encoded data removed]",
      "text/plain": [
       "<matplotlib.figure.Figure at 0x7f90b2d6c950>"
      ]
     },
     "metadata": {},
     "output_type": "display_data"
    }
   ],
   "source": [
    "p = np.array(df.iloc[0, 0:2])\n",
    "print(p)\n",
    "expected_sfs = func_ex(p_init, ns, pts_l)\n",
    "dadi.Plotting.plot_1d_comp_multinom(expected_sfs.fold()[:19], fs_ery[:19], residual='linear')"
   ]
  },
  {
   "cell_type": "markdown",
   "metadata": {},
   "source": [
    "I cannot make out a clear difference between these this and the previous parameter set."
   ]
  },
  {
   "cell_type": "code",
   "execution_count": 87,
   "metadata": {
    "collapsed": false
   },
   "outputs": [
    {
     "data": {
      "text/html": [
       "<div>\n",
       "<table border=\"1\" class=\"dataframe\">\n",
       "  <thead>\n",
       "    <tr style=\"text-align: right;\">\n",
       "      <th></th>\n",
       "      <th>a_nu</th>\n",
       "      <th>b_T</th>\n",
       "      <th>c_ll</th>\n",
       "    </tr>\n",
       "  </thead>\n",
       "  <tbody>\n",
       "    <tr>\n",
       "      <th>0</th>\n",
       "      <td>0.142562</td>\n",
       "      <td>0.008329</td>\n",
       "      <td>-2078.289051</td>\n",
       "    </tr>\n",
       "    <tr>\n",
       "      <th>1</th>\n",
       "      <td>0.136404</td>\n",
       "      <td>0.007519</td>\n",
       "      <td>-2078.067673</td>\n",
       "    </tr>\n",
       "    <tr>\n",
       "      <th>2</th>\n",
       "      <td>0.136404</td>\n",
       "      <td>0.007519</td>\n",
       "      <td>-2078.067673</td>\n",
       "    </tr>\n",
       "    <tr>\n",
       "      <th>3</th>\n",
       "      <td>0.136404</td>\n",
       "      <td>0.007519</td>\n",
       "      <td>-2078.067673</td>\n",
       "    </tr>\n",
       "    <tr>\n",
       "      <th>4</th>\n",
       "      <td>0.136416</td>\n",
       "      <td>0.007520</td>\n",
       "      <td>-2078.067641</td>\n",
       "    </tr>\n",
       "    <tr>\n",
       "      <th>5</th>\n",
       "      <td>0.136509</td>\n",
       "      <td>0.007531</td>\n",
       "      <td>-2078.067411</td>\n",
       "    </tr>\n",
       "    <tr>\n",
       "      <th>6</th>\n",
       "      <td>0.001242</td>\n",
       "      <td>0.000028</td>\n",
       "      <td>-2093.736502</td>\n",
       "    </tr>\n",
       "    <tr>\n",
       "      <th>7</th>\n",
       "      <td>0.142567</td>\n",
       "      <td>0.008329</td>\n",
       "      <td>-2078.289034</td>\n",
       "    </tr>\n",
       "    <tr>\n",
       "      <th>8</th>\n",
       "      <td>0.136404</td>\n",
       "      <td>0.007519</td>\n",
       "      <td>-2078.067672</td>\n",
       "    </tr>\n",
       "    <tr>\n",
       "      <th>9</th>\n",
       "      <td>0.136667</td>\n",
       "      <td>0.007534</td>\n",
       "      <td>-2078.067227</td>\n",
       "    </tr>\n",
       "    <tr>\n",
       "      <th>10</th>\n",
       "      <td>0.136405</td>\n",
       "      <td>0.007519</td>\n",
       "      <td>-2078.067671</td>\n",
       "    </tr>\n",
       "  </tbody>\n",
       "</table>\n",
       "</div>"
      ],
      "text/plain": [
       "        a_nu       b_T         c_ll\n",
       "0   0.142562  0.008329 -2078.289051\n",
       "1   0.136404  0.007519 -2078.067673\n",
       "2   0.136404  0.007519 -2078.067673\n",
       "3   0.136404  0.007519 -2078.067673\n",
       "4   0.136416  0.007520 -2078.067641\n",
       "5   0.136509  0.007531 -2078.067411\n",
       "6   0.001242  0.000028 -2093.736502\n",
       "7   0.142567  0.008329 -2078.289034\n",
       "8   0.136404  0.007519 -2078.067672\n",
       "9   0.136667  0.007534 -2078.067227\n",
       "10  0.136405  0.007519 -2078.067671"
      ]
     },
     "execution_count": 87,
     "metadata": {},
     "output_type": "execute_result"
    }
   ],
   "source": [
    "df"
   ]
  },
  {
   "cell_type": "code",
   "execution_count": 88,
   "metadata": {
    "collapsed": false
   },
   "outputs": [
    {
     "name": "stdout",
     "output_type": "stream",
     "text": [
      "[  1.24217027e-03   2.75412765e-05]\n"
     ]
    },
    {
     "data": {
      "image/png": "[encoded data removed]",
      "text/plain": [
       "<matplotlib.figure.Figure at 0x7f90a0955a90>"
      ]
     },
     "metadata": {},
     "output_type": "display_data"
    }
   ],
   "source": [
    "p = np.array(df.iloc[6, 0:2])\n",
    "print(p)\n",
    "expected_sfs = func_ex(p_init, ns, pts_l)\n",
    "dadi.Plotting.plot_1d_comp_multinom(expected_sfs.fold()[:19], fs_ery[:19], residual='linear')"
   ]
  },
  {
   "cell_type": "markdown",
   "metadata": {},
   "source": [
    "Again, even this very different parameter set seems to produce a very similar SFS to the ones produced by the two more likely parameter sets."
   ]
  },
  {
   "cell_type": "markdown",
   "metadata": {},
   "source": [
    "#### different optimisation algorithms"
   ]
  },
  {
   "cell_type": "code",
   "execution_count": 91,
   "metadata": {
    "collapsed": true
   },
   "outputs": [],
   "source": [
    "# define function to run dadi with perturbed starting values\n",
    "\n",
    "def run_dadi_on_ery(p_init, dadi_opt_func, maxiter=100): # for the function to be called with map, it needs to have one input variable\n",
    "    \"\"\"\n",
    "    p_init: initial parameter values to perturb and then run optimisation from\n",
    "    dadi_opt_func:\n",
    "        + optimize_log (BFGS based)\n",
    "        + optimize_log_fmin (Nelder-Mead)\n",
    "    maxiter: maximum number of iterations\n",
    "    \"\"\"\n",
    "    # perturb starting values by up to a factor of 2 times 'fold'\n",
    "    p0 = dadi.Misc.perturb_params(p_init, fold=2, upper_bound=upper_bound, lower_bound=lower_bound)\n",
    "    # run optimisation of paramters\n",
    "    popt = dadi_opt_func(p0=p0, data=fs_ery, model_func=func_ex, pts=pts_l, \\\n",
    "                                   lower_bound=lower_bound, upper_bound=upper_bound, \\\n",
    "                                   verbose=0, maxiter=maxiter, full_output=False)\n",
    "    return popt # returns a tuple with starting values and optimal nu and T"
   ]
  },
  {
   "cell_type": "code",
   "execution_count": 92,
   "metadata": {
    "collapsed": true
   },
   "outputs": [],
   "source": [
    "%pdoc run_dadi_on_ery"
   ]
  },
  {
   "cell_type": "markdown",
   "metadata": {},
   "source": [
    "Now run dadi optimisation with Nelder-Mead algorithm."
   ]
  },
  {
   "cell_type": "code",
   "execution_count": 93,
   "metadata": {
    "collapsed": true
   },
   "outputs": [],
   "source": [
    "# run optimisation with perturbed initial values on all 11 engines\n",
    "fine_opt_res = dview.apply_async( run_dadi_on_ery, p_init, dadi.Inference.optimize_log_fmin, maxiter=1e9 )"
   ]
  },
  {
   "cell_type": "code",
   "execution_count": 94,
   "metadata": {
    "collapsed": false
   },
   "outputs": [
    {
     "data": {
      "text/plain": [
       "2.980569"
      ]
     },
     "execution_count": 94,
     "metadata": {},
     "output_type": "execute_result"
    }
   ],
   "source": [
    "fine_opt_res.wall_time"
   ]
  },
  {
   "cell_type": "code",
   "execution_count": 96,
   "metadata": {
    "collapsed": false
   },
   "outputs": [],
   "source": [
    "ll = get_ll.map( fine_opt_res.get() )"
   ]
  },
  {
   "cell_type": "code",
   "execution_count": 97,
   "metadata": {
    "collapsed": false
   },
   "outputs": [
    {
     "data": {
      "text/html": [
       "<div>\n",
       "<table border=\"1\" class=\"dataframe\">\n",
       "  <thead>\n",
       "    <tr style=\"text-align: right;\">\n",
       "      <th></th>\n",
       "      <th>a_nu</th>\n",
       "      <th>b_T</th>\n",
       "      <th>c_ll</th>\n",
       "    </tr>\n",
       "  </thead>\n",
       "  <tbody>\n",
       "    <tr>\n",
       "      <th>0</th>\n",
       "      <td>0.142884</td>\n",
       "      <td>0.008348</td>\n",
       "      <td>-2078.288482</td>\n",
       "    </tr>\n",
       "    <tr>\n",
       "      <th>1</th>\n",
       "      <td>0.136665</td>\n",
       "      <td>0.007534</td>\n",
       "      <td>-2078.067227</td>\n",
       "    </tr>\n",
       "    <tr>\n",
       "      <th>2</th>\n",
       "      <td>0.136659</td>\n",
       "      <td>0.007534</td>\n",
       "      <td>-2078.067226</td>\n",
       "    </tr>\n",
       "    <tr>\n",
       "      <th>3</th>\n",
       "      <td>0.136655</td>\n",
       "      <td>0.007534</td>\n",
       "      <td>-2078.067226</td>\n",
       "    </tr>\n",
       "    <tr>\n",
       "      <th>4</th>\n",
       "      <td>0.136667</td>\n",
       "      <td>0.007534</td>\n",
       "      <td>-2078.067227</td>\n",
       "    </tr>\n",
       "    <tr>\n",
       "      <th>5</th>\n",
       "      <td>0.001000</td>\n",
       "      <td>0.000022</td>\n",
       "      <td>-2093.696646</td>\n",
       "    </tr>\n",
       "    <tr>\n",
       "      <th>6</th>\n",
       "      <td>0.001000</td>\n",
       "      <td>0.000022</td>\n",
       "      <td>-2093.696646</td>\n",
       "    </tr>\n",
       "    <tr>\n",
       "      <th>7</th>\n",
       "      <td>0.136659</td>\n",
       "      <td>0.007534</td>\n",
       "      <td>-2078.067226</td>\n",
       "    </tr>\n",
       "    <tr>\n",
       "      <th>8</th>\n",
       "      <td>0.001000</td>\n",
       "      <td>0.000022</td>\n",
       "      <td>-2093.696646</td>\n",
       "    </tr>\n",
       "    <tr>\n",
       "      <th>9</th>\n",
       "      <td>0.001000</td>\n",
       "      <td>0.000022</td>\n",
       "      <td>-2093.696644</td>\n",
       "    </tr>\n",
       "    <tr>\n",
       "      <th>10</th>\n",
       "      <td>0.001000</td>\n",
       "      <td>0.000022</td>\n",
       "      <td>-2093.696645</td>\n",
       "    </tr>\n",
       "  </tbody>\n",
       "</table>\n",
       "</div>"
      ],
      "text/plain": [
       "        a_nu       b_T         c_ll\n",
       "0   0.142884  0.008348 -2078.288482\n",
       "1   0.136665  0.007534 -2078.067227\n",
       "2   0.136659  0.007534 -2078.067226\n",
       "3   0.136655  0.007534 -2078.067226\n",
       "4   0.136667  0.007534 -2078.067227\n",
       "5   0.001000  0.000022 -2093.696646\n",
       "6   0.001000  0.000022 -2093.696646\n",
       "7   0.136659  0.007534 -2078.067226\n",
       "8   0.001000  0.000022 -2093.696646\n",
       "9   0.001000  0.000022 -2093.696644\n",
       "10  0.001000  0.000022 -2093.696645"
      ]
     },
     "execution_count": 97,
     "metadata": {},
     "output_type": "execute_result"
    }
   ],
   "source": [
    "nu = [p[0] for p in fine_opt_res.get()]\n",
    "T = [p[1] for p in fine_opt_res.get()]\n",
    "\n",
    "df = pd.DataFrame({\n",
    "        'a_nu' : nu,\n",
    "        'b_T' : T,\n",
    "        'c_ll' : ll\n",
    "    })\n",
    "df"
   ]
  },
  {
   "cell_type": "markdown",
   "metadata": {},
   "source": [
    "Half of the optimisations result in a combination of parameters that do not have the highest likelihood. So it does seem as though Nelder-Mead is more robust than BFGS (but note the random perturbation of starting values)."
   ]
  },
  {
   "cell_type": "markdown",
   "metadata": {},
   "source": [
    "### _par_"
   ]
  },
  {
   "cell_type": "markdown",
   "metadata": {
    "collapsed": true
   },
   "source": [
    "#### run optimisation on 1D SFS of par"
   ]
  },
  {
   "cell_type": "code",
   "execution_count": 101,
   "metadata": {
    "collapsed": true
   },
   "outputs": [],
   "source": [
    "# create parallel function for par spectrum\n",
    "\n",
    "@lbview.parallel(block=False)\n",
    "def run_dadi_on_par(p_init): # for the function to be called with map, it needs to have one input variable\n",
    "    \"\"\"\n",
    "    p_init: initial parameter values to run optimisation from\n",
    "    \"\"\"\n",
    "    # run optimisation of paramters\n",
    "    popt = dadi.Inference.optimize_log(p0=p_init, data=fs_par, model_func=func_ex, pts=pts_l, \\\n",
    "                                   lower_bound=lower_bound, upper_bound=upper_bound, \\\n",
    "                                   verbose=0, maxiter=100, full_output=False)\n",
    "    return (p_init, popt) # returns a tuple with starting values and optimal nu and T"
   ]
  },
  {
   "cell_type": "code",
   "execution_count": null,
   "metadata": {
    "collapsed": false
   },
   "outputs": [
    {
     "name": "stdout",
     "output_type": "stream",
     "text": [
      "  99/100 tasks finished after 3056 s"
     ]
    }
   ],
   "source": [
    "# run dadi in parallel on all combinations of starting values\n",
    "#ar = run_dadi_on_par( product(p0_nu, p0_T) )\n",
    "# wait for results to come in and print progress report\n",
    "#ar.wait_interactive()"
   ]
  },
  {
   "cell_type": "code",
   "execution_count": 108,
   "metadata": {
    "collapsed": false
   },
   "outputs": [
    {
     "data": {
      "text/plain": [
       "54.12214933333333"
      ]
     },
     "execution_count": 108,
     "metadata": {},
     "output_type": "execute_result"
    }
   ],
   "source": [
    "ar.wall_time/60"
   ]
  },
  {
   "cell_type": "markdown",
   "metadata": {},
   "source": [
    "**This runs definitely too long!** `run_dadi_on_par` spends most of its time on the last three tasks. A `maxiter` of 100, therefore, does not seem to be limiting the search. Set to lower `maxiter` next time. Maybe 50."
   ]
  },
  {
   "cell_type": "markdown",
   "metadata": {},
   "source": [
    "# Recommended parameter boundaries"
   ]
  },
  {
   "cell_type": "markdown",
   "metadata": {},
   "source": [
    "Ryan Gutenkunst writes on the dadi forum:\n",
    "> The parameter bounds are primarily about avoiding really slow fits. Calculation with high migration rates and times or small population sizes is much slower, and the optimizer can explore extreme values before settling down. So typically we set migrations rates to be bounded [0, 20ish], times to be [0, 5ish], population sizes to be [1e-3, 1e6ish].\n",
    "\n",
    "Maybe I should set the time parameter to something above 0. "
   ]
  },
  {
   "cell_type": "code",
   "execution_count": 107,
   "metadata": {
    "collapsed": true
   },
   "outputs": [],
   "source": [
    "%psource dadi.Inference.optimize_log"
   ]
  },
  {
   "cell_type": "code",
   "execution_count": 109,
   "metadata": {
    "collapsed": true
   },
   "outputs": [],
   "source": [
    "# save optimsation results to file\n",
    "# can be loaded back into another IPython session with: ar = pickle.load(filehandle)\n",
    "# unfortunately, I cannot save the AsyncResult object with pickle (dill can save it, but emits a \n",
    "# \"maximum recursion depth exceeded\" error when I try to load the object from file again).\n",
    "# I need to save the result as a plain list\n",
    "\n",
    "import dill\n",
    "\n",
    "with open(\"exp_growth_optim_res_PAR.pickle\", \"w\") as fhandle:\n",
    "    dill.dump(list(ar.get()), fhandle)"
   ]
  },
  {
   "cell_type": "code",
   "execution_count": 110,
   "metadata": {
    "collapsed": true
   },
   "outputs": [],
   "source": [
    "# get the optimized parameter values\n",
    "popt = [p for i, p in enumerate(ar) if not (i+1) % 2]\n",
    "\n",
    "# get the starting values\n",
    "pstart = [p for i, p in enumerate(ar) if (i+1) % 2]"
   ]
  },
  {
   "cell_type": "code",
   "execution_count": 111,
   "metadata": {
    "collapsed": true
   },
   "outputs": [],
   "source": [
    "# get arrays of individual parameters from each optimisation run\n",
    "nu = [p_set[0] for p_set in popt]\n",
    "T = [p_set[1] for p_set in popt]\n",
    "nu_start = [p_set[0][0] for p_set in pstart]\n",
    "T_start = [p_set[0][1] for p_set in pstart]"
   ]
  },
  {
   "cell_type": "code",
   "execution_count": 112,
   "metadata": {
    "collapsed": true
   },
   "outputs": [],
   "source": [
    "# run get_ll on all sets of parameters in parallel\n",
    "ll = get_ll.map(popt)"
   ]
  },
  {
   "cell_type": "code",
   "execution_count": 113,
   "metadata": {
    "collapsed": false
   },
   "outputs": [
    {
     "data": {
      "text/html": [
       "<div>\n",
       "<table border=\"1\" class=\"dataframe\">\n",
       "  <thead>\n",
       "    <tr style=\"text-align: right;\">\n",
       "      <th></th>\n",
       "      <th>a_nu_start</th>\n",
       "      <th>b_T_start</th>\n",
       "      <th>c_nu</th>\n",
       "      <th>d_T</th>\n",
       "      <th>e_log ll</th>\n",
       "    </tr>\n",
       "  </thead>\n",
       "  <tbody>\n",
       "    <tr>\n",
       "      <th>0</th>\n",
       "      <td>0.001</td>\n",
       "      <td>0.001000</td>\n",
       "      <td>1.391894</td>\n",
       "      <td>2.646385e-10</td>\n",
       "      <td>-2460.844590</td>\n",
       "    </tr>\n",
       "    <tr>\n",
       "      <th>1</th>\n",
       "      <td>0.001</td>\n",
       "      <td>0.002327</td>\n",
       "      <td>0.006427</td>\n",
       "      <td>1.449609e-09</td>\n",
       "      <td>-2460.832849</td>\n",
       "    </tr>\n",
       "    <tr>\n",
       "      <th>2</th>\n",
       "      <td>0.001</td>\n",
       "      <td>0.005415</td>\n",
       "      <td>0.379270</td>\n",
       "      <td>2.584976e-07</td>\n",
       "      <td>-2460.822388</td>\n",
       "    </tr>\n",
       "    <tr>\n",
       "      <th>3</th>\n",
       "      <td>0.001</td>\n",
       "      <td>0.012599</td>\n",
       "      <td>0.001000</td>\n",
       "      <td>1.259921e-02</td>\n",
       "      <td>-12702.278947</td>\n",
       "    </tr>\n",
       "    <tr>\n",
       "      <th>4</th>\n",
       "      <td>0.001</td>\n",
       "      <td>0.029317</td>\n",
       "      <td>0.001000</td>\n",
       "      <td>2.931733e-02</td>\n",
       "      <td>-10530.896299</td>\n",
       "    </tr>\n",
       "  </tbody>\n",
       "</table>\n",
       "</div>"
      ],
      "text/plain": [
       "   a_nu_start  b_T_start      c_nu           d_T      e_log ll\n",
       "0       0.001   0.001000  1.391894  2.646385e-10  -2460.844590\n",
       "1       0.001   0.002327  0.006427  1.449609e-09  -2460.832849\n",
       "2       0.001   0.005415  0.379270  2.584976e-07  -2460.822388\n",
       "3       0.001   0.012599  0.001000  1.259921e-02 -12702.278947\n",
       "4       0.001   0.029317  0.001000  2.931733e-02 -10530.896299"
      ]
     },
     "execution_count": 113,
     "metadata": {},
     "output_type": "execute_result"
    }
   ],
   "source": [
    "# create pandas data frame\n",
    "df = pd.DataFrame({\n",
    "        'a_nu_start' : nu_start,\n",
    "        'b_T_start' : T_start,\n",
    "        'c_nu' : nu,\n",
    "        'd_T' : T,\n",
    "        'e_log ll' : ll\n",
    "    })\n",
    "df.head()"
   ]
  },
  {
   "cell_type": "code",
   "execution_count": 114,
   "metadata": {
    "collapsed": false
   },
   "outputs": [
    {
     "data": {
      "text/html": [
       "<div>\n",
       "<table border=\"1\" class=\"dataframe\">\n",
       "  <thead>\n",
       "    <tr style=\"text-align: right;\">\n",
       "      <th></th>\n",
       "      <th>a_nu_start</th>\n",
       "      <th>b_T_start</th>\n",
       "      <th>c_nu</th>\n",
       "      <th>d_T</th>\n",
       "      <th>e_log ll</th>\n",
       "    </tr>\n",
       "  </thead>\n",
       "  <tbody>\n",
       "    <tr>\n",
       "      <th>21</th>\n",
       "      <td>0.011072</td>\n",
       "      <td>0.002327</td>\n",
       "      <td>0.001008</td>\n",
       "      <td>0.000023</td>\n",
       "      <td>-2094.065037</td>\n",
       "    </tr>\n",
       "    <tr>\n",
       "      <th>31</th>\n",
       "      <td>0.036840</td>\n",
       "      <td>0.002327</td>\n",
       "      <td>0.001028</td>\n",
       "      <td>0.000019</td>\n",
       "      <td>-2099.494980</td>\n",
       "    </tr>\n",
       "    <tr>\n",
       "      <th>10</th>\n",
       "      <td>0.003327</td>\n",
       "      <td>0.001000</td>\n",
       "      <td>0.001650</td>\n",
       "      <td>0.000045</td>\n",
       "      <td>-2102.686355</td>\n",
       "    </tr>\n",
       "    <tr>\n",
       "      <th>20</th>\n",
       "      <td>0.011072</td>\n",
       "      <td>0.001000</td>\n",
       "      <td>0.001303</td>\n",
       "      <td>0.000016</td>\n",
       "      <td>-2137.540934</td>\n",
       "    </tr>\n",
       "    <tr>\n",
       "      <th>12</th>\n",
       "      <td>0.003327</td>\n",
       "      <td>0.005415</td>\n",
       "      <td>0.001126</td>\n",
       "      <td>0.000007</td>\n",
       "      <td>-2243.103711</td>\n",
       "    </tr>\n",
       "    <tr>\n",
       "      <th>51</th>\n",
       "      <td>0.407886</td>\n",
       "      <td>0.002327</td>\n",
       "      <td>0.001011</td>\n",
       "      <td>0.000006</td>\n",
       "      <td>-2246.938502</td>\n",
       "    </tr>\n",
       "    <tr>\n",
       "      <th>50</th>\n",
       "      <td>0.407886</td>\n",
       "      <td>0.001000</td>\n",
       "      <td>0.001099</td>\n",
       "      <td>0.000007</td>\n",
       "      <td>-2247.017555</td>\n",
       "    </tr>\n",
       "    <tr>\n",
       "      <th>72</th>\n",
       "      <td>4.516005</td>\n",
       "      <td>0.005415</td>\n",
       "      <td>0.001299</td>\n",
       "      <td>0.000008</td>\n",
       "      <td>-2247.608208</td>\n",
       "    </tr>\n",
       "    <tr>\n",
       "      <th>40</th>\n",
       "      <td>0.122583</td>\n",
       "      <td>0.001000</td>\n",
       "      <td>0.001185</td>\n",
       "      <td>0.000007</td>\n",
       "      <td>-2247.656707</td>\n",
       "    </tr>\n",
       "    <tr>\n",
       "      <th>61</th>\n",
       "      <td>1.357209</td>\n",
       "      <td>0.002327</td>\n",
       "      <td>0.001071</td>\n",
       "      <td>0.000006</td>\n",
       "      <td>-2247.819429</td>\n",
       "    </tr>\n",
       "    <tr>\n",
       "      <th>75</th>\n",
       "      <td>4.516005</td>\n",
       "      <td>0.068219</td>\n",
       "      <td>0.001033</td>\n",
       "      <td>0.000006</td>\n",
       "      <td>-2248.149964</td>\n",
       "    </tr>\n",
       "    <tr>\n",
       "      <th>54</th>\n",
       "      <td>0.407886</td>\n",
       "      <td>0.029317</td>\n",
       "      <td>0.001043</td>\n",
       "      <td>0.000006</td>\n",
       "      <td>-2248.154344</td>\n",
       "    </tr>\n",
       "    <tr>\n",
       "      <th>35</th>\n",
       "      <td>0.036840</td>\n",
       "      <td>0.068219</td>\n",
       "      <td>0.001091</td>\n",
       "      <td>0.000006</td>\n",
       "      <td>-2248.170472</td>\n",
       "    </tr>\n",
       "    <tr>\n",
       "      <th>71</th>\n",
       "      <td>4.516005</td>\n",
       "      <td>0.002327</td>\n",
       "      <td>0.001178</td>\n",
       "      <td>0.000007</td>\n",
       "      <td>-2248.223524</td>\n",
       "    </tr>\n",
       "    <tr>\n",
       "      <th>70</th>\n",
       "      <td>4.516005</td>\n",
       "      <td>0.001000</td>\n",
       "      <td>0.001220</td>\n",
       "      <td>0.000007</td>\n",
       "      <td>-2248.228059</td>\n",
       "    </tr>\n",
       "    <tr>\n",
       "      <th>60</th>\n",
       "      <td>1.357209</td>\n",
       "      <td>0.001000</td>\n",
       "      <td>0.001304</td>\n",
       "      <td>0.000008</td>\n",
       "      <td>-2248.245354</td>\n",
       "    </tr>\n",
       "    <tr>\n",
       "      <th>41</th>\n",
       "      <td>0.122583</td>\n",
       "      <td>0.002327</td>\n",
       "      <td>0.001039</td>\n",
       "      <td>0.000006</td>\n",
       "      <td>-2250.908476</td>\n",
       "    </tr>\n",
       "    <tr>\n",
       "      <th>84</th>\n",
       "      <td>15.026652</td>\n",
       "      <td>0.029317</td>\n",
       "      <td>0.415037</td>\n",
       "      <td>0.007015</td>\n",
       "      <td>-2255.165175</td>\n",
       "    </tr>\n",
       "    <tr>\n",
       "      <th>22</th>\n",
       "      <td>0.011072</td>\n",
       "      <td>0.005415</td>\n",
       "      <td>0.415064</td>\n",
       "      <td>0.007016</td>\n",
       "      <td>-2255.178081</td>\n",
       "    </tr>\n",
       "    <tr>\n",
       "      <th>24</th>\n",
       "      <td>0.011072</td>\n",
       "      <td>0.029317</td>\n",
       "      <td>0.415038</td>\n",
       "      <td>0.007014</td>\n",
       "      <td>-2255.179901</td>\n",
       "    </tr>\n",
       "    <tr>\n",
       "      <th>46</th>\n",
       "      <td>0.122583</td>\n",
       "      <td>0.158740</td>\n",
       "      <td>0.415030</td>\n",
       "      <td>0.007013</td>\n",
       "      <td>-2255.183956</td>\n",
       "    </tr>\n",
       "    <tr>\n",
       "      <th>73</th>\n",
       "      <td>4.516005</td>\n",
       "      <td>0.012599</td>\n",
       "      <td>0.415029</td>\n",
       "      <td>0.007013</td>\n",
       "      <td>-2255.184230</td>\n",
       "    </tr>\n",
       "    <tr>\n",
       "      <th>83</th>\n",
       "      <td>15.026652</td>\n",
       "      <td>0.012599</td>\n",
       "      <td>0.415076</td>\n",
       "      <td>0.007014</td>\n",
       "      <td>-2255.198829</td>\n",
       "    </tr>\n",
       "    <tr>\n",
       "      <th>42</th>\n",
       "      <td>0.122583</td>\n",
       "      <td>0.005415</td>\n",
       "      <td>0.415343</td>\n",
       "      <td>0.007016</td>\n",
       "      <td>-2255.331284</td>\n",
       "    </tr>\n",
       "    <tr>\n",
       "      <th>52</th>\n",
       "      <td>0.407886</td>\n",
       "      <td>0.005415</td>\n",
       "      <td>0.403890</td>\n",
       "      <td>0.005459</td>\n",
       "      <td>-2267.218699</td>\n",
       "    </tr>\n",
       "    <tr>\n",
       "      <th>53</th>\n",
       "      <td>0.407886</td>\n",
       "      <td>0.012599</td>\n",
       "      <td>0.403867</td>\n",
       "      <td>0.005457</td>\n",
       "      <td>-2267.230161</td>\n",
       "    </tr>\n",
       "    <tr>\n",
       "      <th>64</th>\n",
       "      <td>1.357209</td>\n",
       "      <td>0.029317</td>\n",
       "      <td>0.403879</td>\n",
       "      <td>0.005456</td>\n",
       "      <td>-2267.244463</td>\n",
       "    </tr>\n",
       "    <tr>\n",
       "      <th>62</th>\n",
       "      <td>1.357209</td>\n",
       "      <td>0.005415</td>\n",
       "      <td>0.403890</td>\n",
       "      <td>0.005456</td>\n",
       "      <td>-2267.254846</td>\n",
       "    </tr>\n",
       "    <tr>\n",
       "      <th>93</th>\n",
       "      <td>50.000000</td>\n",
       "      <td>0.012599</td>\n",
       "      <td>0.403891</td>\n",
       "      <td>0.005456</td>\n",
       "      <td>-2267.255354</td>\n",
       "    </tr>\n",
       "    <tr>\n",
       "      <th>45</th>\n",
       "      <td>0.122583</td>\n",
       "      <td>0.068219</td>\n",
       "      <td>0.403892</td>\n",
       "      <td>0.005456</td>\n",
       "      <td>-2267.256393</td>\n",
       "    </tr>\n",
       "  </tbody>\n",
       "</table>\n",
       "</div>"
      ],
      "text/plain": [
       "    a_nu_start  b_T_start      c_nu       d_T     e_log ll\n",
       "21    0.011072   0.002327  0.001008  0.000023 -2094.065037\n",
       "31    0.036840   0.002327  0.001028  0.000019 -2099.494980\n",
       "10    0.003327   0.001000  0.001650  0.000045 -2102.686355\n",
       "20    0.011072   0.001000  0.001303  0.000016 -2137.540934\n",
       "12    0.003327   0.005415  0.001126  0.000007 -2243.103711\n",
       "51    0.407886   0.002327  0.001011  0.000006 -2246.938502\n",
       "50    0.407886   0.001000  0.001099  0.000007 -2247.017555\n",
       "72    4.516005   0.005415  0.001299  0.000008 -2247.608208\n",
       "40    0.122583   0.001000  0.001185  0.000007 -2247.656707\n",
       "61    1.357209   0.002327  0.001071  0.000006 -2247.819429\n",
       "75    4.516005   0.068219  0.001033  0.000006 -2248.149964\n",
       "54    0.407886   0.029317  0.001043  0.000006 -2248.154344\n",
       "35    0.036840   0.068219  0.001091  0.000006 -2248.170472\n",
       "71    4.516005   0.002327  0.001178  0.000007 -2248.223524\n",
       "70    4.516005   0.001000  0.001220  0.000007 -2248.228059\n",
       "60    1.357209   0.001000  0.001304  0.000008 -2248.245354\n",
       "41    0.122583   0.002327  0.001039  0.000006 -2250.908476\n",
       "84   15.026652   0.029317  0.415037  0.007015 -2255.165175\n",
       "22    0.011072   0.005415  0.415064  0.007016 -2255.178081\n",
       "24    0.011072   0.029317  0.415038  0.007014 -2255.179901\n",
       "46    0.122583   0.158740  0.415030  0.007013 -2255.183956\n",
       "73    4.516005   0.012599  0.415029  0.007013 -2255.184230\n",
       "83   15.026652   0.012599  0.415076  0.007014 -2255.198829\n",
       "42    0.122583   0.005415  0.415343  0.007016 -2255.331284\n",
       "52    0.407886   0.005415  0.403890  0.005459 -2267.218699\n",
       "53    0.407886   0.012599  0.403867  0.005457 -2267.230161\n",
       "64    1.357209   0.029317  0.403879  0.005456 -2267.244463\n",
       "62    1.357209   0.005415  0.403890  0.005456 -2267.254846\n",
       "93   50.000000   0.012599  0.403891  0.005456 -2267.255354\n",
       "45    0.122583   0.068219  0.403892  0.005456 -2267.256393"
      ]
     },
     "execution_count": 114,
     "metadata": {},
     "output_type": "execute_result"
    }
   ],
   "source": [
    "df.sort_values(by='e_log ll', ascending=False).head(30)"
   ]
  },
  {
   "cell_type": "markdown",
   "metadata": {},
   "source": [
    "The parameter combination with the highest likelihood is not found several times from different starting values. This does _not_ give me much confidence in the maximum likelihood parameter set."
   ]
  },
  {
   "cell_type": "code",
   "execution_count": 115,
   "metadata": {
    "collapsed": false
   },
   "outputs": [
    {
     "data": {
      "text/plain": [
       "<matplotlib.colorbar.Colorbar at 0x7f90a5437ad0>"
      ]
     },
     "execution_count": 115,
     "metadata": {},
     "output_type": "execute_result"
    },
    {
     "data": {
      "image/png": "[encoded data removed]",
      "text/plain": [
       "<matplotlib.figure.Figure at 0x7f90a52a7c90>"
      ]
     },
     "metadata": {},
     "output_type": "display_data"
    }
   ],
   "source": [
    "plt.rcParams['font.size'] = 20.0\n",
    "plt.figure(figsize=[12.0, 10.0])\n",
    "plt.scatter(np.log(nu), np.log(T), c=ll, s=75, alpha=0.5)\n",
    "plt.xlabel(r'log $\\nu$')\n",
    "plt.ylabel(\"log T\")\n",
    "plt.title(\"log likelihoods for parameter combinations\")\n",
    "plt.grid()\n",
    "plt.colorbar()"
   ]
  },
  {
   "cell_type": "code",
   "execution_count": 123,
   "metadata": {
    "collapsed": true
   },
   "outputs": [],
   "source": [
    "# define function to run dadi with perturbed starting values\n",
    "# note the high maxiter\n",
    "def run_dadi_on_par(p_init): # for the function to be called with map, it needs to have one input variable\n",
    "    \"\"\"\n",
    "    p_init: initial parameter values to run optimisation from\n",
    "    \"\"\"\n",
    "    # perturb starting values by up to a factor of 2 times 'fold'\n",
    "    p0 = dadi.Misc.perturb_params(p_init, fold=2, upper_bound=upper_bound, lower_bound=lower_bound)\n",
    "    # run optimisation of paramters\n",
    "    popt = dadi.Inference.optimize_log(p0=p0, data=fs_par, model_func=func_ex, pts=pts_l, \\\n",
    "                                   lower_bound=lower_bound, upper_bound=upper_bound, \\\n",
    "                                   verbose=0, maxiter=1e9, full_output=False)\n",
    "    return popt # returns optimal nu and T"
   ]
  },
  {
   "cell_type": "code",
   "execution_count": 136,
   "metadata": {
    "collapsed": false
   },
   "outputs": [
    {
     "data": {
      "text/plain": [
       "array([  1.00793170e-03,   2.34449299e-05])"
      ]
     },
     "execution_count": 136,
     "metadata": {},
     "output_type": "execute_result"
    }
   ],
   "source": [
    "p_init"
   ]
  },
  {
   "cell_type": "code",
   "execution_count": 124,
   "metadata": {
    "collapsed": true
   },
   "outputs": [],
   "source": [
    "# get parameter combination with highest likelihood as starting values\n",
    "p_init = np.array( df.sort_values(by='e_log ll', ascending=False).head().iloc[0, 2:4] )\n",
    "\n",
    "# run optimisation with perturbed initial values on all 11 engines\n",
    "fine_opt_res = dview.apply_async( run_dadi_on_par, p_init )"
   ]
  },
  {
   "cell_type": "code",
   "execution_count": 126,
   "metadata": {
    "collapsed": false
   },
   "outputs": [
    {
     "data": {
      "text/plain": [
       "4.348291"
      ]
     },
     "execution_count": 126,
     "metadata": {},
     "output_type": "execute_result"
    }
   ],
   "source": [
    "fine_opt_res.wall_time"
   ]
  },
  {
   "cell_type": "code",
   "execution_count": 127,
   "metadata": {
    "collapsed": true
   },
   "outputs": [],
   "source": [
    "ll = get_ll.map(fine_opt_res.get())"
   ]
  },
  {
   "cell_type": "code",
   "execution_count": 128,
   "metadata": {
    "collapsed": false
   },
   "outputs": [
    {
     "data": {
      "text/html": [
       "<div>\n",
       "<table border=\"1\" class=\"dataframe\">\n",
       "  <thead>\n",
       "    <tr style=\"text-align: right;\">\n",
       "      <th></th>\n",
       "      <th>a_nu</th>\n",
       "      <th>b_T</th>\n",
       "      <th>c_ll</th>\n",
       "    </tr>\n",
       "  </thead>\n",
       "  <tbody>\n",
       "    <tr>\n",
       "      <th>0</th>\n",
       "      <td>0.001162</td>\n",
       "      <td>0.000007</td>\n",
       "      <td>-2246.163519</td>\n",
       "    </tr>\n",
       "    <tr>\n",
       "      <th>1</th>\n",
       "      <td>0.001007</td>\n",
       "      <td>0.000006</td>\n",
       "      <td>-2246.462816</td>\n",
       "    </tr>\n",
       "    <tr>\n",
       "      <th>2</th>\n",
       "      <td>0.001052</td>\n",
       "      <td>0.000006</td>\n",
       "      <td>-2247.938397</td>\n",
       "    </tr>\n",
       "    <tr>\n",
       "      <th>3</th>\n",
       "      <td>0.001011</td>\n",
       "      <td>0.000006</td>\n",
       "      <td>-2250.287178</td>\n",
       "    </tr>\n",
       "    <tr>\n",
       "      <th>4</th>\n",
       "      <td>0.001135</td>\n",
       "      <td>0.000007</td>\n",
       "      <td>-2249.651380</td>\n",
       "    </tr>\n",
       "    <tr>\n",
       "      <th>5</th>\n",
       "      <td>0.001042</td>\n",
       "      <td>0.000006</td>\n",
       "      <td>-2248.674700</td>\n",
       "    </tr>\n",
       "    <tr>\n",
       "      <th>6</th>\n",
       "      <td>0.001018</td>\n",
       "      <td>0.000005</td>\n",
       "      <td>-2266.009571</td>\n",
       "    </tr>\n",
       "    <tr>\n",
       "      <th>7</th>\n",
       "      <td>0.001251</td>\n",
       "      <td>0.000007</td>\n",
       "      <td>-2250.637184</td>\n",
       "    </tr>\n",
       "    <tr>\n",
       "      <th>8</th>\n",
       "      <td>0.001076</td>\n",
       "      <td>0.000006</td>\n",
       "      <td>-2251.004846</td>\n",
       "    </tr>\n",
       "    <tr>\n",
       "      <th>9</th>\n",
       "      <td>0.001024</td>\n",
       "      <td>0.000006</td>\n",
       "      <td>-2245.780317</td>\n",
       "    </tr>\n",
       "    <tr>\n",
       "      <th>10</th>\n",
       "      <td>0.001030</td>\n",
       "      <td>0.000006</td>\n",
       "      <td>-2249.555263</td>\n",
       "    </tr>\n",
       "  </tbody>\n",
       "</table>\n",
       "</div>"
      ],
      "text/plain": [
       "        a_nu       b_T         c_ll\n",
       "0   0.001162  0.000007 -2246.163519\n",
       "1   0.001007  0.000006 -2246.462816\n",
       "2   0.001052  0.000006 -2247.938397\n",
       "3   0.001011  0.000006 -2250.287178\n",
       "4   0.001135  0.000007 -2249.651380\n",
       "5   0.001042  0.000006 -2248.674700\n",
       "6   0.001018  0.000005 -2266.009571\n",
       "7   0.001251  0.000007 -2250.637184\n",
       "8   0.001076  0.000006 -2251.004846\n",
       "9   0.001024  0.000006 -2245.780317\n",
       "10  0.001030  0.000006 -2249.555263"
      ]
     },
     "execution_count": 128,
     "metadata": {},
     "output_type": "execute_result"
    }
   ],
   "source": [
    "nu_opt = [p[0] for p in fine_opt_res.get()]\n",
    "T_opt = [p[1] for p in fine_opt_res.get()]\n",
    "\n",
    "df = pd.DataFrame({\n",
    "        'a_nu' : nu_opt,\n",
    "        'b_T' : T_opt,\n",
    "        'c_ll' : ll\n",
    "    })\n",
    "df"
   ]
  },
  {
   "cell_type": "markdown",
   "metadata": {},
   "source": [
    "None of these parameter combinations is the most likely determined above! I can therefore not be very confident that I have found the most likely parameter combination."
   ]
  },
  {
   "cell_type": "markdown",
   "metadata": {},
   "source": [
    "Maybe another optimisation algorithm is better at finding the global maximum."
   ]
  },
  {
   "cell_type": "code",
   "execution_count": 129,
   "metadata": {
    "collapsed": true
   },
   "outputs": [],
   "source": [
    "# define function to run dadi with perturbed starting values\n",
    "\n",
    "def run_dadi_optimisation(p_init, dadi_opt_func, sfs, maxiter=100): # for the function to be called with map, it needs to have one input variable\n",
    "    \"\"\"\n",
    "    p_init: initial parameter values to perturb and then run optimisation from\n",
    "    dadi_opt_func:\n",
    "        + optimize_log (BFGS based)\n",
    "        + optimize_log_fmin (Nelder-Mead)\n",
    "    sfs: ipyparallel Reference to dadi Spectrum object (previously imported into all engines)\n",
    "    maxiter: maximum number of iterations\n",
    "    \"\"\"\n",
    "    # perturb starting values by up to a factor of 2 times 'fold'\n",
    "    p0 = dadi.Misc.perturb_params(p_init, fold=2, upper_bound=upper_bound, lower_bound=lower_bound)\n",
    "    # run optimisation of paramters\n",
    "    popt = dadi_opt_func(p0=p0, data=sfs, model_func=func_ex, pts=pts_l, \\\n",
    "                                   lower_bound=lower_bound, upper_bound=upper_bound, \\\n",
    "                                   verbose=0, maxiter=maxiter, full_output=False)\n",
    "    return popt # returns a tuple with starting values and optimal nu and T"
   ]
  },
  {
   "cell_type": "code",
   "execution_count": 130,
   "metadata": {
    "collapsed": true
   },
   "outputs": [],
   "source": [
    "from ipyparallel import Reference"
   ]
  },
  {
   "cell_type": "code",
   "execution_count": 131,
   "metadata": {
    "collapsed": true
   },
   "outputs": [],
   "source": [
    "sfs = Reference('fs_par')"
   ]
  },
  {
   "cell_type": "code",
   "execution_count": 132,
   "metadata": {
    "collapsed": true
   },
   "outputs": [],
   "source": [
    "# run optimisation with perturbed initial values on all 11 engines\n",
    "# use Nelder-Mead algorithm this time\n",
    "fine_opt_res = dview.apply_async( run_dadi_optimisation, \\\n",
    "                                 p_init, dadi.Inference.optimize_log_fmin, sfs, maxiter=100 )"
   ]
  },
  {
   "cell_type": "code",
   "execution_count": 134,
   "metadata": {
    "collapsed": false
   },
   "outputs": [
    {
     "data": {
      "text/plain": [
       "2.188965"
      ]
     },
     "execution_count": 134,
     "metadata": {},
     "output_type": "execute_result"
    }
   ],
   "source": [
    "fine_opt_res.wall_time"
   ]
  },
  {
   "cell_type": "code",
   "execution_count": 135,
   "metadata": {
    "collapsed": false
   },
   "outputs": [
    {
     "data": {
      "text/html": [
       "<div>\n",
       "<table border=\"1\" class=\"dataframe\">\n",
       "  <thead>\n",
       "    <tr style=\"text-align: right;\">\n",
       "      <th></th>\n",
       "      <th>a_nu</th>\n",
       "      <th>b_T</th>\n",
       "      <th>c_ll</th>\n",
       "    </tr>\n",
       "  </thead>\n",
       "  <tbody>\n",
       "    <tr>\n",
       "      <th>0</th>\n",
       "      <td>0.001</td>\n",
       "      <td>0.000006</td>\n",
       "      <td>-2248.013768</td>\n",
       "    </tr>\n",
       "    <tr>\n",
       "      <th>1</th>\n",
       "      <td>0.001</td>\n",
       "      <td>0.000006</td>\n",
       "      <td>-2247.995102</td>\n",
       "    </tr>\n",
       "    <tr>\n",
       "      <th>2</th>\n",
       "      <td>0.001</td>\n",
       "      <td>0.000006</td>\n",
       "      <td>-2247.979663</td>\n",
       "    </tr>\n",
       "    <tr>\n",
       "      <th>3</th>\n",
       "      <td>0.001</td>\n",
       "      <td>0.000006</td>\n",
       "      <td>-2247.979720</td>\n",
       "    </tr>\n",
       "    <tr>\n",
       "      <th>4</th>\n",
       "      <td>0.001</td>\n",
       "      <td>0.000006</td>\n",
       "      <td>-2248.007100</td>\n",
       "    </tr>\n",
       "    <tr>\n",
       "      <th>5</th>\n",
       "      <td>0.001</td>\n",
       "      <td>0.000006</td>\n",
       "      <td>-2248.001680</td>\n",
       "    </tr>\n",
       "    <tr>\n",
       "      <th>6</th>\n",
       "      <td>0.001</td>\n",
       "      <td>0.000006</td>\n",
       "      <td>-2247.962174</td>\n",
       "    </tr>\n",
       "    <tr>\n",
       "      <th>7</th>\n",
       "      <td>0.001</td>\n",
       "      <td>0.000006</td>\n",
       "      <td>-2247.994312</td>\n",
       "    </tr>\n",
       "    <tr>\n",
       "      <th>8</th>\n",
       "      <td>0.001</td>\n",
       "      <td>0.000006</td>\n",
       "      <td>-2248.002968</td>\n",
       "    </tr>\n",
       "    <tr>\n",
       "      <th>9</th>\n",
       "      <td>0.001</td>\n",
       "      <td>0.000006</td>\n",
       "      <td>-2247.998602</td>\n",
       "    </tr>\n",
       "    <tr>\n",
       "      <th>10</th>\n",
       "      <td>0.001</td>\n",
       "      <td>0.000006</td>\n",
       "      <td>-2247.993594</td>\n",
       "    </tr>\n",
       "  </tbody>\n",
       "</table>\n",
       "</div>"
      ],
      "text/plain": [
       "     a_nu       b_T         c_ll\n",
       "0   0.001  0.000006 -2248.013768\n",
       "1   0.001  0.000006 -2247.995102\n",
       "2   0.001  0.000006 -2247.979663\n",
       "3   0.001  0.000006 -2247.979720\n",
       "4   0.001  0.000006 -2248.007100\n",
       "5   0.001  0.000006 -2248.001680\n",
       "6   0.001  0.000006 -2247.962174\n",
       "7   0.001  0.000006 -2247.994312\n",
       "8   0.001  0.000006 -2248.002968\n",
       "9   0.001  0.000006 -2247.998602\n",
       "10  0.001  0.000006 -2247.993594"
      ]
     },
     "execution_count": 135,
     "metadata": {},
     "output_type": "execute_result"
    }
   ],
   "source": [
    "ll = get_ll.map(fine_opt_res.get())\n",
    "\n",
    "nu_opt = [p[0] for p in fine_opt_res.get()]\n",
    "T_opt = [p[1] for p in fine_opt_res.get()]\n",
    "\n",
    "df = pd.DataFrame({\n",
    "        'a_nu' : nu_opt,\n",
    "        'b_T' : T_opt,\n",
    "        'c_ll' : ll\n",
    "    })\n",
    "df"
   ]
  },
  {
   "cell_type": "markdown",
   "metadata": {},
   "source": [
    "Again, none of these parameter combinations is close to the most likely ones determined above."
   ]
  },
  {
   "cell_type": "markdown",
   "metadata": {},
   "source": [
    "Let's see how the best-fitting model and data compare to each other."
   ]
  },
  {
   "cell_type": "code",
   "execution_count": 140,
   "metadata": {
    "collapsed": false
   },
   "outputs": [
    {
     "name": "stdout",
     "output_type": "stream",
     "text": [
      "[  1.00793170e-03   2.34449299e-05]\n"
     ]
    },
    {
     "data": {
      "image/png": "[encoded data removed]",
      "text/plain": [
       "<matplotlib.figure.Figure at 0x7f90a0af6890>"
      ]
     },
     "metadata": {},
     "output_type": "display_data"
    }
   ],
   "source": [
    "# calculate the best-fit model SFS given the paramter combination with the highest likelihood\n",
    "expected_sfs = func_ex(p_init, ns, pts_l)\n",
    "\n",
    "print(p_init)\n",
    "\n",
    "dadi.Plotting.plot_1d_comp_multinom(expected_sfs.fold()[:19], fs_par[:19], residual='linear')"
   ]
  },
  {
   "cell_type": "markdown",
   "metadata": {},
   "source": [
    "These logarithmic plots are not very helpfull."
   ]
  },
  {
   "cell_type": "code",
   "execution_count": 145,
   "metadata": {
    "collapsed": false
   },
   "outputs": [
    {
     "name": "stdout",
     "output_type": "stream",
     "text": [
      "[  1.00793170e-03   2.34449299e-05]\n"
     ]
    },
    {
     "data": {
      "text/plain": [
       "<matplotlib.text.Text at 0x7f90a0648350>"
      ]
     },
     "execution_count": 145,
     "metadata": {},
     "output_type": "execute_result"
    },
    {
     "data": {
      "image/png": "[encoded data removed]",
      "text/plain": [
       "<matplotlib.figure.Figure at 0x7f90b2d6c4d0>"
      ]
     },
     "metadata": {},
     "output_type": "display_data"
    }
   ],
   "source": [
    "# get optimally scaled (by theta) expected SFS for given data\n",
    "model = dadi.Inference.optimally_scaled_sfs(expected_sfs.fold(), fs_par)\n",
    "\n",
    "print(p_init)\n",
    "\n",
    "plt.plot(model, 'ro-', label=\"model\")\n",
    "plt.plot(fs_par[:19], 'bo-', label=\"data\")\n",
    "plt.legend()\n",
    "plt.xlabel('minor allele frequency')\n",
    "plt.ylabel('SNP count')"
   ]
  },
  {
   "cell_type": "markdown",
   "metadata": {},
   "source": [
    "So, if I could believe the optimal parameter combination found here to be the global maximum, it would imply that the ancestral populations of the _parallelus_ sample have undergone an exponential decline to about 1/1000th of the ancient population size, $N_{ref}$ (i. e. very strong bottleneck) and this happend in the very recent past, i. e. only $2.3 \\times 10^{-5} \\times 2N_{ref}$ generations ago."
   ]
  },
  {
   "cell_type": "code",
   "execution_count": null,
   "metadata": {
    "collapsed": true
   },
   "outputs": [],
   "source": []
  },
  {
   "cell_type": "code",
   "execution_count": null,
   "metadata": {
    "collapsed": true
   },
   "outputs": [],
   "source": []
  },
  {
   "cell_type": "markdown",
   "metadata": {},
   "source": [
    "---"
   ]
  },
  {
   "cell_type": "code",
   "execution_count": 42,
   "metadata": {
    "collapsed": false
   },
   "outputs": [
    {
     "name": "stdout",
     "output_type": "stream",
     "text": [
      "CPU times: user 78.3 ms, sys: 8.21 ms, total: 86.5 ms\n",
      "Wall time: 2min 37s\n"
     ]
    },
    {
     "data": {
      "text/plain": [
       "[array([ 0.04339213,  1.99168768]),\n",
       " array([ 0.14287453,  0.00833576]),\n",
       " array([ 0.1429923 ,  0.00833941]),\n",
       " array([ 0.1429303 ,  0.00833822]),\n",
       " array([ 0.13670957,  0.00752881]),\n",
       " array([ 0.13683729,  0.00753701]),\n",
       " array([ 0.14288664,  0.00833647]),\n",
       " array([ 0.13668728,  0.00752456]),\n",
       " array([ 0.66766902,  2.9846531 ]),\n",
       " array([ 0.14316723,  0.00835405]),\n",
       " array([ 0.14317739,  0.00835066]),\n",
       " array([ 0.14300519,  0.00834586]),\n",
       " array([ 0.13668148,  0.00752433]),\n",
       " array([ 0.13670402,  0.00752515]),\n",
       " array([ 0.13671334,  0.00752638]),\n",
       " array([ 0.13670086,  0.00752544]),\n",
       " array([ 0.14287374,  0.00833569]),\n",
       " array([ 0.13668495,  0.00752436]),\n",
       " array([ 0.13675139,  0.00752856]),\n",
       " array([ 0.14309811,  0.008352  ])]"
      ]
     },
     "execution_count": 42,
     "metadata": {},
     "output_type": "execute_result"
    }
   ],
   "source": [
    "%time run_dadi.map(range(20))"
   ]
  },
  {
   "cell_type": "markdown",
   "metadata": {},
   "source": [
    "Most of the time this just runs on a single core! I don't know why. Note the difference between the wall time and the total time."
   ]
  },
  {
   "cell_type": "markdown",
   "metadata": {},
   "source": [
    "Running the simulation locally on a single core:"
   ]
  },
  {
   "cell_type": "code",
   "execution_count": 44,
   "metadata": {
    "collapsed": false
   },
   "outputs": [
    {
     "name": "stdout",
     "output_type": "stream",
     "text": [
      "CPU times: user 3 µs, sys: 0 ns, total: 3 µs\n",
      "Wall time: 9.06 µs\n"
     ]
    },
    {
     "data": {
      "text/plain": [
       "array([ 0.14288006,  0.00833607])"
      ]
     },
     "execution_count": 44,
     "metadata": {},
     "output_type": "execute_result"
    }
   ],
   "source": [
    "%time\n",
    "\n",
    "# import 1D spectrum of ery on all engines:\n",
    "fs_ery = dadi.Spectrum.from_file('dadiExercises/ERY.FOLDED.sfs.dadi_format')\n",
    "\n",
    "fs_ery.pop_ids = ['ery']\n",
    "\n",
    "ns = fs_ery.sample_sizes\n",
    "\n",
    "# create link to function that specifies a simple growth or decline model\n",
    "func = dadi.Demographics1D.growth\n",
    "\n",
    "# create extrapolating version of the function\n",
    "func_ex = dadi.Numerics.make_extrap_log_func(func)\n",
    "\n",
    "# set lower and upper bounds to nu and T\n",
    "upper_bound = [100, 3]\n",
    "lower_bound = [1e-2, 0]\n",
    "\n",
    "# set starting value\n",
    "p0 = [1, 1] # corresponds to constant population size\n",
    "\n",
    "# setting the smallest grid size slightly larger than the largest population sample size (36)\n",
    "pts_l = [40, 50, 60]\n",
    "\n",
    "# perturb starting values by up to a factor of 2 times fold:\n",
    "p1 = dadi.Misc.perturb_params(p0, fold=1.5, upper_bound=upper_bound, lower_bound=lower_bound)\n",
    "# run optimisation of paramters\n",
    "popt = dadi.Inference.optimize_log(p0=p1, data=fs_ery, model_func=func_ex, pts=pts_l, \\\n",
    "                               lower_bound=lower_bound, upper_bound=upper_bound, \\\n",
    "                               verbose=0, maxiter=100, full_output=False)\n",
    "popt"
   ]
  },
  {
   "cell_type": "code",
   "execution_count": 45,
   "metadata": {
    "collapsed": false
   },
   "outputs": [
    {
     "name": "stdout",
     "output_type": "stream",
     "text": [
      "CPU times: user 4 µs, sys: 1 µs, total: 5 µs\n",
      "Wall time: 8.82 µs\n"
     ]
    },
    {
     "data": {
      "text/plain": [
       "array([ 0.13668664,  0.00752466])"
      ]
     },
     "execution_count": 45,
     "metadata": {},
     "output_type": "execute_result"
    }
   ],
   "source": [
    "%time\n",
    "\n",
    "# perturb starting values by up to a factor of 2 times fold:\n",
    "p1 = dadi.Misc.perturb_params(p0, fold=1.5, upper_bound=upper_bound, lower_bound=lower_bound)\n",
    "# run optimisation of paramters\n",
    "popt = dadi.Inference.optimize_log(p0=p1, data=fs_ery, model_func=func_ex, pts=pts_l, \\\n",
    "                               lower_bound=lower_bound, upper_bound=upper_bound, \\\n",
    "                               verbose=0, maxiter=100, full_output=False)\n",
    "popt"
   ]
  },
  {
   "cell_type": "markdown",
   "metadata": {},
   "source": [
    "It really shouldn't take 2 minutes to run this 20 times with different starting values."
   ]
  },
  {
   "cell_type": "code",
   "execution_count": 46,
   "metadata": {
    "collapsed": false
   },
   "outputs": [
    {
     "name": "stdout",
     "output_type": "stream",
     "text": [
      "[stdout:0] \n",
      "dadi\t fs_ery\t func\t func_ex\t lower_bound\t ns\t p0\t pts_l\t time\t \n",
      "upper_bound\t \n",
      "[stdout:1] \n",
      "dadi\t fs_ery\t func\t func_ex\t lower_bound\t ns\t p0\t pts_l\t time\t \n",
      "upper_bound\t \n",
      "[stdout:2] \n",
      "dadi\t fs_ery\t func\t func_ex\t lower_bound\t ns\t p0\t pts_l\t time\t \n",
      "upper_bound\t \n",
      "[stdout:3] \n",
      "dadi\t fs_ery\t func\t func_ex\t lower_bound\t ns\t p0\t pts_l\t time\t \n",
      "upper_bound\t \n",
      "[stdout:4] \n",
      "dadi\t fs_ery\t func\t func_ex\t lower_bound\t ns\t p0\t pts_l\t time\t \n",
      "upper_bound\t \n",
      "[stdout:5] \n",
      "dadi\t fs_ery\t func\t func_ex\t lower_bound\t ns\t p0\t pts_l\t time\t \n",
      "upper_bound\t \n",
      "[stdout:6] \n",
      "dadi\t fs_ery\t func\t func_ex\t lower_bound\t ns\t p0\t pts_l\t time\t \n",
      "upper_bound\t \n",
      "[stdout:7] \n",
      "dadi\t fs_ery\t func\t func_ex\t lower_bound\t ns\t p0\t pts_l\t time\t \n",
      "upper_bound\t \n",
      "[stdout:8] \n",
      "dadi\t fs_ery\t func\t func_ex\t lower_bound\t ns\t p0\t pts_l\t time\t \n",
      "upper_bound\t \n",
      "[stdout:9] \n",
      "dadi\t fs_ery\t func\t func_ex\t lower_bound\t ns\t p0\t pts_l\t time\t \n",
      "upper_bound\t \n",
      "[stdout:10] \n",
      "dadi\t fs_ery\t func\t func_ex\t lower_bound\t ns\t p0\t pts_l\t time\t \n",
      "upper_bound\t \n"
     ]
    }
   ],
   "source": [
    "%px %who"
   ]
  },
  {
   "cell_type": "markdown",
   "metadata": {},
   "source": [
    "Note, that `p1` and `popt` are not in the namespace of the remote engines. They apparently have been cleared automatically."
   ]
  },
  {
   "cell_type": "code",
   "execution_count": 47,
   "metadata": {
    "collapsed": true
   },
   "outputs": [],
   "source": [
    "?run_dadi.map"
   ]
  },
  {
   "cell_type": "code",
   "execution_count": 48,
   "metadata": {
    "collapsed": false
   },
   "outputs": [
    {
     "data": {
      "text/plain": [
       "False"
      ]
     },
     "execution_count": 48,
     "metadata": {},
     "output_type": "execute_result"
    }
   ],
   "source": [
    "lbview.block"
   ]
  },
  {
   "cell_type": "markdown",
   "metadata": {},
   "source": [
    "Jobs submitted to the load balanced view run asynchonously in non-blocking mode."
   ]
  },
  {
   "cell_type": "code",
   "execution_count": 52,
   "metadata": {
    "collapsed": false
   },
   "outputs": [
    {
     "data": {
      "text/plain": [
       "defaultdict(ipyparallel.client.client.Metadata, {})"
      ]
     },
     "execution_count": 52,
     "metadata": {},
     "output_type": "execute_result"
    }
   ],
   "source": [
    "cl.metadata"
   ]
  },
  {
   "cell_type": "code",
   "execution_count": 53,
   "metadata": {
    "collapsed": true
   },
   "outputs": [],
   "source": [
    "# create serial function\n",
    "\n",
    "def serial_run_dadi(x): # for the function to be called with map, it needs to have one input variable\n",
    "    # perturb starting values by up to a factor of 2 times fold:\n",
    "    p1 = dadi.Misc.perturb_params(p0, fold=1.5, upper_bound=upper_bound, lower_bound=lower_bound)\n",
    "    # run optimisation of paramters\n",
    "    popt = dadi.Inference.optimize_log(p0=p1, data=fs_ery, model_func=func_ex, pts=pts_l, \\\n",
    "                                   lower_bound=lower_bound, upper_bound=upper_bound, \\\n",
    "                                   verbose=0, maxiter=100, full_output=False)\n",
    "    return popt # returns a numpy array of optimal nu and T"
   ]
  },
  {
   "cell_type": "code",
   "execution_count": 55,
   "metadata": {
    "collapsed": false
   },
   "outputs": [
    {
     "name": "stdout",
     "output_type": "stream",
     "text": [
      "  20/20 tasks finished after   79 s\n",
      "done\n"
     ]
    }
   ],
   "source": [
    "# run dadi optimisation in non blocking mode\n",
    "\n",
    "ar = lbview.map(serial_run_dadi, range(20))\n",
    "ar.wait_interactive()"
   ]
  },
  {
   "cell_type": "code",
   "execution_count": 59,
   "metadata": {
    "collapsed": false
   },
   "outputs": [
    {
     "data": {
      "text/plain": [
       "202.514501"
      ]
     },
     "execution_count": 59,
     "metadata": {},
     "output_type": "execute_result"
    }
   ],
   "source": [
    "# the sum of the computation time of all of the tasks:\n",
    "\n",
    "ar.serial_time"
   ]
  },
  {
   "cell_type": "code",
   "execution_count": 61,
   "metadata": {
    "collapsed": false
   },
   "outputs": [
    {
     "data": {
      "text/plain": [
       "79.079548"
      ]
     },
     "execution_count": 61,
     "metadata": {},
     "output_type": "execute_result"
    }
   ],
   "source": [
    "# the time between the first task submitted and last result received. \n",
    "# This is the actual cost of computation, including IPython overhead\n",
    "\n",
    "ar.wall_time"
   ]
  },
  {
   "cell_type": "code",
   "execution_count": 62,
   "metadata": {
    "collapsed": false
   },
   "outputs": [
    {
     "data": {
      "text/plain": [
       "2.560896035976331"
      ]
     },
     "execution_count": 62,
     "metadata": {},
     "output_type": "execute_result"
    }
   ],
   "source": [
    "parallel_speedup = ar.serial_time / ar.wall_time\n",
    "parallel_speedup"
   ]
  },
  {
   "cell_type": "code",
   "execution_count": 56,
   "metadata": {
    "collapsed": false
   },
   "outputs": [
    {
     "data": {
      "text/plain": [
       "[array([ 0.14293278,  0.00833862]),\n",
       " array([ 0.13671848,  0.00752544]),\n",
       " array([ 0.14287156,  0.00833625]),\n",
       " array([ 0.13668198,  0.00752433]),\n",
       " array([ 0.01062642,  0.00023616]),\n",
       " array([ 0.14292392,  0.00834058]),\n",
       " array([ 0.13668133,  0.00752432]),\n",
       " array([ 0.14292099,  0.0083377 ]),\n",
       " array([ 0.13669129,  0.00752606]),\n",
       " array([ 0.13668609,  0.00752453]),\n",
       " array([ 0.14294766,  0.00833841]),\n",
       " array([ 0.13668154,  0.00752433]),\n",
       " array([ 0.13670863,  0.00752475]),\n",
       " array([ 0.1429535,  0.0083409]),\n",
       " array([ 0.14303484,  0.00834612]),\n",
       " array([ 0.1429156 ,  0.00834362]),\n",
       " array([ 0.14287413,  0.00833566]),\n",
       " array([ 0.12464263,  2.98996961]),\n",
       " array([ 0.13675166,  0.00752829]),\n",
       " array([ 0.13669101,  0.00752456])]"
      ]
     },
     "execution_count": 56,
     "metadata": {},
     "output_type": "execute_result"
    }
   ],
   "source": [
    "ar.get()"
   ]
  },
  {
   "cell_type": "code",
   "execution_count": 63,
   "metadata": {
    "collapsed": false
   },
   "outputs": [
    {
     "name": "stdout",
     "output_type": "stream",
     "text": [
      "Optimsation number 0: 0.143 (nu), 0.008 (T)\n",
      "Optimsation number 1: 0.137 (nu), 0.008 (T)\n",
      "Optimsation number 2: 0.143 (nu), 0.008 (T)\n",
      "Optimsation number 3: 0.137 (nu), 0.008 (T)\n",
      "Optimsation number 4: 0.011 (nu), 0.000 (T)\n",
      "Optimsation number 5: 0.143 (nu), 0.008 (T)\n",
      "Optimsation number 6: 0.137 (nu), 0.008 (T)\n",
      "Optimsation number 7: 0.143 (nu), 0.008 (T)\n",
      "Optimsation number 8: 0.137 (nu), 0.008 (T)\n",
      "Optimsation number 9: 0.137 (nu), 0.008 (T)\n",
      "Optimsation number 10: 0.143 (nu), 0.008 (T)\n",
      "Optimsation number 11: 0.137 (nu), 0.008 (T)\n",
      "Optimsation number 12: 0.137 (nu), 0.008 (T)\n",
      "Optimsation number 13: 0.143 (nu), 0.008 (T)\n",
      "Optimsation number 14: 0.143 (nu), 0.008 (T)\n",
      "Optimsation number 15: 0.143 (nu), 0.008 (T)\n",
      "Optimsation number 16: 0.143 (nu), 0.008 (T)\n",
      "Optimsation number 17: 0.125 (nu), 2.990 (T)\n",
      "Optimsation number 18: 0.137 (nu), 0.008 (T)\n",
      "Optimsation number 19: 0.137 (nu), 0.008 (T)\n"
     ]
    }
   ],
   "source": [
    "for i, r in enumerate(ar):\n",
    "    print \"Optimsation number %i: %.3f (nu), %.3f (T)\" % (i, r[0], r[1])"
   ]
  },
  {
   "cell_type": "code",
   "execution_count": 78,
   "metadata": {
    "collapsed": true
   },
   "outputs": [],
   "source": [
    "# create serial function\n",
    "\n",
    "def serial_run_dadi_on_data(sfs):\n",
    "    \"\"\"\n",
    "    sfs: Spectrum object, provided to 'data' option of dadi.Inference.optimize_log\n",
    "    \"\"\"\n",
    "    # perturb starting values by up to a factor of 2 times fold:\n",
    "    p1 = dadi.Misc.perturb_params(p0, fold=1.5, upper_bound=upper_bound, lower_bound=lower_bound)\n",
    "    # run optimisation of paramters\n",
    "    popt = dadi.Inference.optimize_log(p0=p1, data=sfs, model_func=func_ex, pts=pts_l, \\\n",
    "                                   lower_bound=lower_bound, upper_bound=upper_bound, \\\n",
    "                                   verbose=0, maxiter=100, full_output=False)\n",
    "    return popt # returns a numpy array of optimal nu and T"
   ]
  },
  {
   "cell_type": "code",
   "execution_count": 65,
   "metadata": {
    "collapsed": true
   },
   "outputs": [],
   "source": [
    "from ipyparallel import Reference"
   ]
  },
  {
   "cell_type": "code",
   "execution_count": 66,
   "metadata": {
    "collapsed": true
   },
   "outputs": [],
   "source": [
    "# create a Reference to `fs_ery` on the engines.\n",
    "data = Reference('fs_ery')"
   ]
  },
  {
   "cell_type": "code",
   "execution_count": 69,
   "metadata": {
    "collapsed": false
   },
   "outputs": [],
   "source": [
    "ar = lbview.map(serial_run_dadi_on_data, [data] * 20)"
   ]
  },
  {
   "cell_type": "code",
   "execution_count": 70,
   "metadata": {
    "collapsed": false
   },
   "outputs": [
    {
     "name": "stdout",
     "output_type": "stream",
     "text": [
      "Optimsation number 0: 0.137 (nu), 0.008 (T)\n",
      "Optimsation number 1: 0.143 (nu), 0.008 (T)\n",
      "Optimsation number 2: 0.143 (nu), 0.008 (T)\n",
      "Optimsation number 3: 0.143 (nu), 0.008 (T)\n",
      "Optimsation number 4: 0.056 (nu), 0.000 (T)\n",
      "Optimsation number 5: 0.143 (nu), 0.008 (T)\n",
      "Optimsation number 6: 0.143 (nu), 0.008 (T)\n",
      "Optimsation number 7: 0.137 (nu), 0.008 (T)\n",
      "Optimsation number 8: 0.137 (nu), 0.008 (T)\n",
      "Optimsation number 9: 0.137 (nu), 0.008 (T)\n",
      "Optimsation number 10: 0.143 (nu), 0.008 (T)\n",
      "Optimsation number 11: 0.015 (nu), 0.000 (T)\n",
      "Optimsation number 12: 0.137 (nu), 0.008 (T)\n",
      "Optimsation number 13: 0.137 (nu), 0.008 (T)\n",
      "Optimsation number 14: 0.143 (nu), 0.008 (T)\n",
      "Optimsation number 15: 0.137 (nu), 0.008 (T)\n",
      "Optimsation number 16: 0.137 (nu), 0.008 (T)\n",
      "Optimsation number 17: 0.703 (nu), 2.981 (T)\n",
      "Optimsation number 18: 0.011 (nu), 0.000 (T)\n",
      "Optimsation number 19: 0.137 (nu), 0.008 (T)\n"
     ]
    }
   ],
   "source": [
    "for i, r in enumerate(ar):\n",
    "    print \"Optimsation number %i: %.3f (nu), %.3f (T)\" % (i, r[0], r[1])"
   ]
  },
  {
   "cell_type": "code",
   "execution_count": 79,
   "metadata": {
    "collapsed": false
   },
   "outputs": [
    {
     "name": "stdout",
     "output_type": "stream",
     "text": [
      "Optimsation number 0: 3.005 (nu), 2.896 (T)\n",
      "Optimsation number 1: 2.861 (nu), 2.959 (T)\n",
      "Optimsation number 2: 2.880 (nu), 2.912 (T)\n",
      "Optimsation number 3: 2.896 (nu), 2.895 (T)\n",
      "Optimsation number 4: 2.873 (nu), 2.972 (T)\n",
      "Optimsation number 5: 2.896 (nu), 2.947 (T)\n",
      "Optimsation number 6: 3.008 (nu), 2.995 (T)\n",
      "Optimsation number 7: 2.923 (nu), 2.987 (T)\n",
      "Optimsation number 8: 2.863 (nu), 2.996 (T)\n",
      "Optimsation number 9: 0.415 (nu), 2.890 (T)\n",
      "Optimsation number 10: 2.947 (nu), 2.974 (T)\n",
      "Optimsation number 11: 2.966 (nu), 2.988 (T)\n",
      "Optimsation number 12: 1.242 (nu), 0.000 (T)\n",
      "Optimsation number 13: 2.828 (nu), 2.957 (T)\n",
      "Optimsation number 14: 2.907 (nu), 2.886 (T)\n",
      "Optimsation number 15: 2.980 (nu), 2.956 (T)\n",
      "Optimsation number 16: 3.088 (nu), 2.972 (T)\n",
      "Optimsation number 17: 2.034 (nu), 0.000 (T)\n",
      "Optimsation number 18: 2.829 (nu), 2.921 (T)\n",
      "Optimsation number 19: 2.999 (nu), 2.997 (T)\n"
     ]
    }
   ],
   "source": [
    "# run parallel optimisation on 1D SFS of par\n",
    "ar = lbview.map(serial_run_dadi_on_data, [data] * 20)\n",
    "\n",
    "# print result\n",
    "for i, r in enumerate(ar):\n",
    "    print \"Optimsation number %i: %.3f (nu), %.3f (T)\" % (i, r[0], r[1])"
   ]
  },
  {
   "cell_type": "code",
   "execution_count": 80,
   "metadata": {
    "collapsed": false
   },
   "outputs": [
    {
     "name": "stdout",
     "output_type": "stream",
     "text": [
      "Optimsation number 0: 3.009 (nu), 2.892 (T)\n",
      "Optimsation number 1: 2.971 (nu), 2.867 (T)\n",
      "Optimsation number 2: 2.829 (nu), 2.912 (T)\n",
      "Optimsation number 3: 0.777 (nu), 2.828 (T)\n",
      "Optimsation number 4: 1.428 (nu), 0.000 (T)\n",
      "Optimsation number 5: 2.966 (nu), 2.996 (T)\n",
      "Optimsation number 6: 2.940 (nu), 2.995 (T)\n",
      "Optimsation number 7: 2.810 (nu), 2.900 (T)\n",
      "Optimsation number 8: 3.185 (nu), 2.967 (T)\n",
      "Optimsation number 9: 0.620 (nu), 2.820 (T)\n",
      "Optimsation number 10: 0.819 (nu), 2.794 (T)\n",
      "Optimsation number 11: 2.923 (nu), 2.951 (T)\n",
      "Optimsation number 12: 2.960 (nu), 2.984 (T)\n",
      "Optimsation number 13: 2.894 (nu), 2.872 (T)\n",
      "Optimsation number 14: 3.003 (nu), 2.995 (T)\n",
      "Optimsation number 15: 2.941 (nu), 2.970 (T)\n",
      "Optimsation number 16: 2.854 (nu), 2.996 (T)\n",
      "Optimsation number 17: 2.978 (nu), 2.992 (T)\n",
      "Optimsation number 18: 2.879 (nu), 2.881 (T)\n",
      "Optimsation number 19: 2.984 (nu), 2.973 (T)\n",
      "Optimsation number 20: 2.957 (nu), 2.971 (T)\n",
      "Optimsation number 21: 2.795 (nu), 2.946 (T)\n",
      "Optimsation number 22: 2.930 (nu), 2.994 (T)\n",
      "Optimsation number 23: 2.741 (nu), 2.922 (T)\n",
      "Optimsation number 24: 2.931 (nu), 2.977 (T)\n",
      "Optimsation number 25: 2.791 (nu), 2.987 (T)\n",
      "Optimsation number 26: 3.013 (nu), 2.934 (T)\n",
      "Optimsation number 27: 2.889 (nu), 2.919 (T)\n",
      "Optimsation number 28: 2.964 (nu), 2.947 (T)\n",
      "Optimsation number 29: 2.977 (nu), 2.987 (T)\n",
      "Optimsation number 30: 3.000 (nu), 2.977 (T)\n",
      "Optimsation number 31: 2.860 (nu), 2.879 (T)\n",
      "Optimsation number 32: 3.041 (nu), 2.875 (T)\n",
      "Optimsation number 33: 2.935 (nu), 2.965 (T)\n",
      "Optimsation number 34: 2.925 (nu), 2.904 (T)\n",
      "Optimsation number 35: 1.253 (nu), 0.000 (T)\n",
      "Optimsation number 36: 3.039 (nu), 2.878 (T)\n",
      "Optimsation number 37: 2.965 (nu), 2.901 (T)\n",
      "Optimsation number 38: 2.859 (nu), 2.946 (T)\n",
      "Optimsation number 39: 2.921 (nu), 2.945 (T)\n",
      "Optimsation number 40: 3.044 (nu), 2.980 (T)\n",
      "Optimsation number 41: 2.709 (nu), 2.993 (T)\n",
      "Optimsation number 42: 2.825 (nu), 2.940 (T)\n",
      "Optimsation number 43: 2.934 (nu), 2.948 (T)\n",
      "Optimsation number 44: 2.941 (nu), 2.963 (T)\n",
      "Optimsation number 45: 2.932 (nu), 2.945 (T)\n",
      "Optimsation number 46: 0.436 (nu), 2.646 (T)\n",
      "Optimsation number 47: 2.985 (nu), 2.996 (T)\n",
      "Optimsation number 48: 3.033 (nu), 2.961 (T)\n",
      "Optimsation number 49: 2.977 (nu), 2.918 (T)\n"
     ]
    }
   ],
   "source": [
    "# run parallel optimisation on 1D SFS of par\n",
    "# return results as they become ready (unordered)\n",
    "# 3 calls of the function per task (chunksize)\n",
    "ar = lbview.map(serial_run_dadi_on_data, [data] * 50, ordered=False, chunksize=3)\n",
    "\n",
    "# print result\n",
    "for i, r in enumerate(ar):\n",
    "    print \"Optimsation number %i: %.3f (nu), %.3f (T)\" % (i, r[0], r[1])"
   ]
  },
  {
   "cell_type": "markdown",
   "metadata": {},
   "source": [
    "I think it should be a good idea to use load balanced views of the engines, since I think some optimisations take longer than others."
   ]
  },
  {
   "cell_type": "code",
   "execution_count": 81,
   "metadata": {
    "collapsed": false
   },
   "outputs": [
    {
     "data": {
      "text/plain": [
       "2.8799245308674681"
      ]
     },
     "execution_count": 81,
     "metadata": {},
     "output_type": "execute_result"
    }
   ],
   "source": [
    "numpy.mean(ar[0])"
   ]
  },
  {
   "cell_type": "markdown",
   "metadata": {},
   "source": [
    "Look at `max_iter` from `dadi.Inference.optimize_log`."
   ]
  },
  {
   "cell_type": "markdown",
   "metadata": {
    "collapsed": true
   },
   "source": [
    "# Restart analysis"
   ]
  },
  {
   "cell_type": "markdown",
   "metadata": {},
   "source": [
    "Restart the kernel from the menu to clear the namespace!"
   ]
  },
  {
   "cell_type": "code",
   "execution_count": 1,
   "metadata": {
    "collapsed": false
   },
   "outputs": [
    {
     "name": "stdout",
     "output_type": "stream",
     "text": [
      "Interactive namespace is empty.\n"
     ]
    }
   ],
   "source": [
    "%who"
   ]
  },
  {
   "cell_type": "code",
   "execution_count": 145,
   "metadata": {
    "collapsed": false
   },
   "outputs": [
    {
     "data": {
      "text/plain": [
       "[0, 1, 2, 3, 4, 5, 6, 7, 8, 9, 10, 11, 12, 13, 14, 15, 16, 17, 18, 19]"
      ]
     },
     "execution_count": 145,
     "metadata": {},
     "output_type": "execute_result"
    }
   ],
   "source": [
    "from ipyparallel import Client\n",
    "\n",
    "cl = Client()\n",
    "\n",
    "cl.ids"
   ]
  },
  {
   "cell_type": "code",
   "execution_count": 146,
   "metadata": {
    "collapsed": true
   },
   "outputs": [],
   "source": [
    "%%px --local\n",
    "\n",
    "# run whole cell on all engines a well as in the local IPython session\n",
    "\n",
    "import numpy as np\n",
    "\n",
    "import sys\n",
    "\n",
    "sys.path.insert(0, '/home/claudius/Downloads/dadi')\n",
    "\n",
    "import dadi"
   ]
  },
  {
   "cell_type": "markdown",
   "metadata": {},
   "source": [
    "Use unfolded ANGSD spectra and fold with dadi:"
   ]
  },
  {
   "cell_type": "code",
   "execution_count": 147,
   "metadata": {
    "collapsed": true
   },
   "outputs": [],
   "source": [
    "%%px --local\n",
    "\n",
    "# import 1D spectrum of ery on all engines:\n",
    "fs_ery = dadi.Spectrum.from_file('ERY.unfolded.sfs').fold()\n",
    "\n",
    "# import 1D spectrum of ery on all engines:\n",
    "fs_par = dadi.Spectrum.from_file('PAR.unfolded.sfs').fold()"
   ]
  },
  {
   "cell_type": "code",
   "execution_count": 148,
   "metadata": {
    "collapsed": false
   },
   "outputs": [
    {
     "data": {
      "text/plain": [
       "Spectrum([-- 8039.432178999999 7456.836488999999 4088.189565 3651.676799 3058.223166\n",
       " 2076.101209 1552.623436 2635.1952370000004 1041.266513 1208.8253200000001\n",
       " 1605.7045939999998 1335.552746 1125.522275 1251.596147 557.278052\n",
       " 1865.4861799999999 381.14777100000003 975.251801 -- -- -- -- -- -- -- --\n",
       " -- -- -- -- -- -- -- -- -- --], folded=True, pop_ids=None)"
      ]
     },
     "execution_count": 148,
     "metadata": {},
     "output_type": "execute_result"
    }
   ],
   "source": [
    "cl[0]['fs_ery']"
   ]
  },
  {
   "cell_type": "code",
   "execution_count": 149,
   "metadata": {
    "collapsed": false
   },
   "outputs": [],
   "source": [
    "%%px --local\n",
    "\n",
    "ns = fs_ery.sample_sizes # both populations have the same sample size\n",
    "\n",
    "fs_ery.pop_ids = ['ery']\n",
    "fs_par.pop_ids = ['par']\n",
    "\n",
    "# setting the smallest grid size slightly larger than the largest population sample size (36)\n",
    "pts_l = [40, 50, 60]"
   ]
  },
  {
   "cell_type": "code",
   "execution_count": 150,
   "metadata": {
    "collapsed": true
   },
   "outputs": [],
   "source": [
    "%%px --local\n",
    "\n",
    "# create link to function that specifies the model\n",
    "func = dadi.Demographics1D.growth\n",
    "\n",
    "# create extrapolating version of the model function\n",
    "func_ex = dadi.Numerics.make_extrap_log_func(func)"
   ]
  },
  {
   "cell_type": "code",
   "execution_count": 10,
   "metadata": {
    "collapsed": true
   },
   "outputs": [],
   "source": [
    "%pdoc dadi.Demographics1D.growth"
   ]
  },
  {
   "cell_type": "code",
   "execution_count": 151,
   "metadata": {
    "collapsed": true
   },
   "outputs": [],
   "source": [
    "# create load balanced view of engines\n",
    "\n",
    "lbview = cl.load_balanced_view()"
   ]
  },
  {
   "cell_type": "code",
   "execution_count": 13,
   "metadata": {
    "collapsed": true
   },
   "outputs": [],
   "source": [
    "def run_dadi(p_init): # for the function to be called with map, it needs to have one input variable\n",
    "    \"\"\"\n",
    "    p_init: initial parameter values to run optimisation from\n",
    "    \"\"\"\n",
    "    if perturb == True:\n",
    "        p_init = dadi.Misc.perturb_params(p_init, fold=fold, \n",
    "                                      upper_bound=upper_bound, lower_bound=lower_bound)\n",
    "        # note upper_bound and lower_bound variables are expected to be in the namespace of each engine\n",
    "    # run optimisation of paramters\n",
    "    popt = dadi_opt_func(p0=p_init, data=sfs, model_func=func_ex, pts=pts_l, \\\n",
    "                                   lower_bound=lower_bound, upper_bound=upper_bound, \\\n",
    "                                   verbose=verbose, maxiter=maxiter, full_output=full_output)\n",
    "    return p_init, popt"
   ]
  },
  {
   "cell_type": "markdown",
   "metadata": {},
   "source": [
    "## Ery"
   ]
  },
  {
   "cell_type": "markdown",
   "metadata": {},
   "source": [
    "The following sets global variables on the remote engines that are called by `run_dadi`:"
   ]
  },
  {
   "cell_type": "code",
   "execution_count": 13,
   "metadata": {
    "collapsed": true
   },
   "outputs": [],
   "source": [
    "%%px\n",
    "\n",
    "# set up global variables on engines required for run_dadi function call\n",
    "\n",
    "dadi_opt_func = dadi.Inference.optimize_log # uses BFGS algorithm\n",
    "sfs = fs_ery # use ERY spectrum\n",
    "perturb = False\n",
    "fold = 1\n",
    "maxiter = 10 # run a maximum of 20 iterations\n",
    "verbose = 0\n",
    "full_output = True # need to have full output to get the warnflags (see below)"
   ]
  },
  {
   "cell_type": "markdown",
   "metadata": {},
   "source": [
    "This lets the optimisations run with the faster BFGS algorithm and stop after a maximum of 10 iterations. This is intended for a broad sweep across the parameter space. Also note that this sets the optimisations to fit the ery spectrum. "
   ]
  },
  {
   "cell_type": "code",
   "execution_count": 14,
   "metadata": {
    "collapsed": true
   },
   "outputs": [],
   "source": [
    "%%px\n",
    "\n",
    "# set lower and upper bounds to nu and T\n",
    "upper_bound = [1e4, 4]\n",
    "lower_bound = [1e-4, 0]"
   ]
  },
  {
   "cell_type": "code",
   "execution_count": 15,
   "metadata": {
    "collapsed": true
   },
   "outputs": [],
   "source": [
    "p0_nu = np.logspace(-3, 3, base=10.0, num=15)\n",
    "p0_T = np.logspace(-3, np.log10(3), base=10, num=15)"
   ]
  },
  {
   "cell_type": "code",
   "execution_count": 16,
   "metadata": {
    "collapsed": true
   },
   "outputs": [],
   "source": [
    "from itertools import product"
   ]
  },
  {
   "cell_type": "code",
   "execution_count": 18,
   "metadata": {
    "collapsed": false
   },
   "outputs": [],
   "source": [
    "# DO NOT RUN\n",
    "#ar_ery = lbview.map(run_dadi, product(p0_nu, p0_T), block=False, order=True)"
   ]
  },
  {
   "cell_type": "code",
   "execution_count": 29,
   "metadata": {
    "collapsed": false
   },
   "outputs": [
    {
     "data": {
      "text/plain": [
       "224"
      ]
     },
     "execution_count": 29,
     "metadata": {},
     "output_type": "execute_result"
    }
   ],
   "source": [
    "ar_ery.progress"
   ]
  },
  {
   "cell_type": "code",
   "execution_count": 30,
   "metadata": {
    "collapsed": false
   },
   "outputs": [
    {
     "ename": "CompositeError",
     "evalue": "one or more exceptions from call to method: run_dadi\n[Engine Exception]EngineError: Engine 'e2deff1f-c877-4369-ba2f-7228e2063b28' died while running task u'77098a31-33dd-47ff-81d4-cafe4d0a7778'",
     "output_type": "error",
     "traceback": [
      "[Engine Exception]",
      "Traceback (most recent call last):",
      "  File \"/usr/local/anaconda2/lib/python2.7/site-packages/ipyparallel/controller/scheduler.py\", line 347, in handle_stranded_tasks",
      "    raise error.EngineError(\"Engine %r died while running task %r\"%(engine, msg_id))",
      "EngineError: Engine 'e2deff1f-c877-4369-ba2f-7228e2063b28' died while running task u'77098a31-33dd-47ff-81d4-cafe4d0a7778'",
      ""
     ]
    }
   ],
   "source": [
    "ar_ery.get()[0]"
   ]
  },
  {
   "cell_type": "markdown",
   "metadata": {},
   "source": [
    "I needed to kill a single very long lasting optimisation job from the terminal (because it is not possible to do that with ipyparallel). Unfortunately that also means that the results from all 224 completed (or terminated) optimisation runs are lost as well. This is the major shortcoming of ipyparallel at the moment."
   ]
  },
  {
   "cell_type": "markdown",
   "metadata": {},
   "source": [
    "Couldn't I make ipyparallel pickle the results of the optimisations to file?"
   ]
  },
  {
   "cell_type": "code",
   "execution_count": 17,
   "metadata": {
    "collapsed": true
   },
   "outputs": [],
   "source": [
    "%%px --local\n",
    "\n",
    "import dill # better version of pickle"
   ]
  },
  {
   "cell_type": "code",
   "execution_count": 24,
   "metadata": {
    "collapsed": true
   },
   "outputs": [],
   "source": [
    "%%px --local\n",
    "\n",
    "# set outname stub on all engines\n",
    "outname = \"OUT_exp_growth_model/ERY\""
   ]
  },
  {
   "cell_type": "code",
   "execution_count": 25,
   "metadata": {
    "collapsed": false
   },
   "outputs": [
    {
     "name": "stdout",
     "output_type": "stream",
     "text": [
      "OUT_exp_growth_model/ERY\n"
     ]
    }
   ],
   "source": [
    "print outname"
   ]
  },
  {
   "cell_type": "code",
   "execution_count": 28,
   "metadata": {
    "collapsed": false
   },
   "outputs": [
    {
     "name": "stdout",
     "output_type": "stream",
     "text": [
      "OUT_exp_growth_model/ERY_0.0010_0.0010\n",
      "OUT_exp_growth_model/ERY_0.0010_0.0018\n",
      "OUT_exp_growth_model/ERY_0.0010_0.0031\n"
     ]
    }
   ],
   "source": [
    "i=0\n",
    "for p_init in product(p0_nu, p0_T):\n",
    "    i+=1\n",
    "    if i > 3: break\n",
    "    name = outname[:]\n",
    "    for p in p_init:\n",
    "        if p < 1:\n",
    "            name += \"_%.4f\" % (p)\n",
    "        else:\n",
    "            name += \"_%4d\" % (p)\n",
    "    print name"
   ]
  },
  {
   "cell_type": "markdown",
   "metadata": {},
   "source": [
    "Now, define a new `run_dadi` function that pickles output to file:"
   ]
  },
  {
   "cell_type": "code",
   "execution_count": 84,
   "metadata": {
    "collapsed": false
   },
   "outputs": [],
   "source": [
    "def run_dadi(p_init): # for the function to be called with map, it needs to have one input variable\n",
    "    \"\"\"\n",
    "    p_init: initial parameter values to run optimisation from\n",
    "    \"\"\"\n",
    "    if perturb == True:\n",
    "        p_init = dadi.Misc.perturb_params(p_init, fold=fold, \n",
    "                                      upper_bound=upper_bound, lower_bound=lower_bound)\n",
    "        # note upper_bound and lower_bound variables are expected to be in the namespace of each engine\n",
    "    # run optimisation of paramters\n",
    "    popt = dadi_opt_func(p0=p_init, data=sfs, model_func=func_ex, pts=pts_l, \\\n",
    "                                   lower_bound=lower_bound, upper_bound=upper_bound, \\\n",
    "                                   verbose=verbose, maxiter=maxiter, full_output=full_output)\n",
    "    # pickle to file\n",
    "    import dill\n",
    "    name = outname[:] # make copy of file name stub!\n",
    "    for p in p_init:\n",
    "        name += \"_%.4f\" % (p)\n",
    "    with open(name + \".dill\", \"w\") as fh:\n",
    "        dill.dump((p_init, popt), fh)\n",
    "    \n",
    "    return p_init, popt"
   ]
  },
  {
   "cell_type": "code",
   "execution_count": 31,
   "metadata": {
    "collapsed": false
   },
   "outputs": [
    {
     "name": "stdout",
     "output_type": "stream",
     "text": [
      "total 2216\r\n",
      "-rw-rw-r-- 1 claudius 610985 Apr 21 13:27 01_dadi_1D_exp_growth.ipynb\r\n",
      "-rw-rw-r-- 1 claudius 247149 Apr 19 21:23 02_dadi_1D_two_epoch.ipynb\r\n",
      "-rw-rw-r-- 1 claudius 171168 Apr 20 09:25 03_1D_bottlegrowth.ipynb\r\n",
      "-rw-rw-r-- 1 claudius  97558 Apr 21 12:13 04_1D_three_epoch.ipynb\r\n",
      "-rw-rw-r-- 1 claudius 271615 Apr 21 11:39 05_1D_model_synthesis.ipynb\r\n",
      "-rw-rw-r-- 1 claudius 118564 Apr 20 16:47 05_2D.ipynb\r\n",
      "-rw-rw-r-- 1 claudius 444729 Apr 21 10:05 1D_models.ipynb\r\n",
      "-rw-rw-r-- 1 claudius  33125 Apr  8 18:15 1D_two_epoch_opt_res_ERY.dill\r\n",
      "-rw-rw-r-- 1 claudius  16613 Apr  8 19:18 1D_two_epoch_opt_res_PAR.dill\r\n",
      "drwxrwxr-x 4 claudius   4096 Apr 20 10:19 \u001b[0m\u001b[01;34mdadiExercises\u001b[0m/\r\n",
      "-rw-rw-r-- 1 claudius  36308 Apr  3 20:33 \u001b[01;35mery_fold_comp.png\u001b[0m\r\n",
      "-rw-rw-r-- 1 claudius   3560 Mar 25 08:40 EryPar.FOLDED.2dsfs\r\n",
      "-rw-rw-r-- 1 claudius    433 Mar 24 20:15 ERY.unfolded.sfs\r\n",
      "-rw-rw-r-- 1 claudius    421 Mar 24 20:14 ERY.unfolded.sfs~\r\n",
      "-rw-rw-r-- 1 claudius  13913 Apr  6 15:03 exp_growth_optim_res_ERY.pickle\r\n",
      "-rw-rw-r-- 1 claudius  13913 Apr  6 19:21 exp_growth_optim_res_PAR.pickle\r\n",
      "drwxrwxr-x 2 claudius   4096 Apr 21 12:42 \u001b[01;34mOUT_exp_growth_model\u001b[0m/\r\n",
      "drwxrwxr-x 2 claudius  73728 Apr 19 17:00 \u001b[01;34mOUT_run_dadi\u001b[0m/\r\n",
      "-rw-rw-r-- 1 claudius  37242 Apr  3 20:35 \u001b[01;35mpar_fold_comp.png\u001b[0m\r\n",
      "-rw-rw-r-- 1 claudius    421 Mar 24 20:16 PAR.unfolded.sfs\r\n",
      "-rw-rw-r-- 1 claudius    409 Mar 24 20:15 PAR.unfolded.sfs~\r\n",
      "-rwxrwxr-x 1 claudius   2790 Apr 17 22:18 \u001b[01;32mrun_dadi.py\u001b[0m*\r\n",
      "-rwxrwxr-x 1 claudius   2790 Apr 17 22:05 \u001b[01;32mrun_dadi.py~\u001b[0m*\r\n",
      "-rw-rw-r-- 1 claudius  12387 Apr 19 16:57 test.ipynb\r\n"
     ]
    }
   ],
   "source": [
    "%ll"
   ]
  },
  {
   "cell_type": "code",
   "execution_count": 32,
   "metadata": {
    "collapsed": true
   },
   "outputs": [],
   "source": [
    "ar_ery = lbview.map(run_dadi, product(p0_nu, p0_T), block=False, order=True)"
   ]
  },
  {
   "cell_type": "code",
   "execution_count": 41,
   "metadata": {
    "collapsed": false
   },
   "outputs": [
    {
     "data": {
      "text/plain": [
       "224"
      ]
     },
     "execution_count": 41,
     "metadata": {},
     "output_type": "execute_result"
    }
   ],
   "source": [
    "ar_ery.progress"
   ]
  },
  {
   "cell_type": "markdown",
   "metadata": {},
   "source": [
    "I killed the last optimisation."
   ]
  },
  {
   "cell_type": "markdown",
   "metadata": {},
   "source": [
    "Load pickled output:"
   ]
  },
  {
   "cell_type": "code",
   "execution_count": 42,
   "metadata": {
    "collapsed": true
   },
   "outputs": [],
   "source": [
    "import glob"
   ]
  },
  {
   "cell_type": "code",
   "execution_count": 46,
   "metadata": {
    "collapsed": false
   },
   "outputs": [
    {
     "data": {
      "text/plain": [
       "224"
      ]
     },
     "execution_count": 46,
     "metadata": {},
     "output_type": "execute_result"
    }
   ],
   "source": [
    "len( glob.glob('OUT_exp_growth_model/*dill') )"
   ]
  },
  {
   "cell_type": "code",
   "execution_count": 43,
   "metadata": {
    "collapsed": false
   },
   "outputs": [],
   "source": [
    "ar_ery = []\n",
    "\n",
    "for filename in glob.glob('OUT_exp_growth_model/*dill'):\n",
    "    ar_ery.append( dill.load(open(filename)) )"
   ]
  },
  {
   "cell_type": "code",
   "execution_count": 48,
   "metadata": {
    "collapsed": false
   },
   "outputs": [
    {
     "data": {
      "text/plain": [
       "((0.0071968567300115215, 0.95584978521729114),\n",
       " (array([ 0.00871299,  0.73813652]),\n",
       "  2158.9454223189614,\n",
       "  array([ 0.00295155,  0.02789772]),\n",
       "  array([[ 0.62144134,  0.49035061],\n",
       "         [ 0.49035061,  0.41692734]]),\n",
       "  117,\n",
       "  27,\n",
       "  2))"
      ]
     },
     "execution_count": 48,
     "metadata": {},
     "output_type": "execute_result"
    }
   ],
   "source": [
    "ar_ery[1]"
   ]
  },
  {
   "cell_type": "markdown",
   "metadata": {},
   "source": [
    "Get flag count from optimisations:"
   ]
  },
  {
   "cell_type": "code",
   "execution_count": 49,
   "metadata": {
    "collapsed": true
   },
   "outputs": [],
   "source": [
    "def get_flag_count(out, NM=True):\n",
    "    \"\"\"\n",
    "    out: list of tuples, each containing p_init and popt + additional info, including warnflags\n",
    "    as produced by run_dadi.py\n",
    "    \"\"\"\n",
    "    from collections import defaultdict\n",
    "    \n",
    "    if NM: # if ar from Nelder-Mead\n",
    "        i = 4 # the warnflag is reported at index position 4 in the output array\n",
    "    else: # ar from BFGS optimisation\n",
    "        i = 6\n",
    "    \n",
    "    warnflag = defaultdict(int)\n",
    "\n",
    "    for res in out:\n",
    "        if res[1][i] == 1: # notice the change in indexing\n",
    "            warnflag[1] +=1\n",
    "        elif res[1][i] == 2:\n",
    "            warnflag[2] += 1\n",
    "        elif res[1][i] == 0:\n",
    "            warnflag[0] += 1\n",
    "        else:\n",
    "            warnflag[999] +=1\n",
    "    if NM:\n",
    "        print \"success\", warnflag[0]\n",
    "        print \"Maximum number of function evaluations made.\", warnflag[1]\n",
    "        print \"Maximum number of iterations reached.\", warnflag[2]\n",
    "        print \"unknown flag\", warnflag[999]\n",
    "    else:\n",
    "        print \"success\", warnflag[0]\n",
    "        print \"Maximum number of iterations exceeded.\", warnflag[1]\n",
    "        print \"Gradient and/or function calls not changing.\", warnflag[2]\n",
    "        print \"unknown flag\", warnflag[999]"
   ]
  },
  {
   "cell_type": "code",
   "execution_count": 50,
   "metadata": {
    "collapsed": false
   },
   "outputs": [
    {
     "name": "stdout",
     "output_type": "stream",
     "text": [
      "success 39\n",
      "Maximum number of iterations exceeded. 75\n",
      "Gradient and/or function calls not changing. 110\n",
      "unknown flag 0\n"
     ]
    }
   ],
   "source": [
    "get_flag_count(ar_ery, NM=False)"
   ]
  },
  {
   "cell_type": "markdown",
   "metadata": {
    "collapsed": true
   },
   "source": [
    "There were 39 successfull optimisations."
   ]
  },
  {
   "cell_type": "markdown",
   "metadata": {},
   "source": [
    "Create table of results from successful optimisations:"
   ]
  },
  {
   "cell_type": "code",
   "execution_count": 53,
   "metadata": {
    "collapsed": true
   },
   "outputs": [],
   "source": [
    "def flatten(array):\n",
    "    \"\"\"\n",
    "        Returns a list of flattened elements of every inner lists (or tuples)\n",
    "        ****RECURSIVE****\n",
    "    \"\"\"\n",
    "    import numpy\n",
    "    res = []\n",
    "    for el in array:\n",
    "        if isinstance(el, (list, tuple, numpy.ndarray)):\n",
    "            res.extend(flatten(el))\n",
    "            continue\n",
    "        res.append(el)\n",
    "    return list( res )"
   ]
  },
  {
   "cell_type": "code",
   "execution_count": 54,
   "metadata": {
    "collapsed": true
   },
   "outputs": [],
   "source": [
    "import pandas as pd"
   ]
  },
  {
   "cell_type": "code",
   "execution_count": 59,
   "metadata": {
    "collapsed": false
   },
   "outputs": [
    {
     "data": {
      "text/html": [
       "<div>\n",
       "<table border=\"1\" class=\"dataframe\">\n",
       "  <thead>\n",
       "    <tr style=\"text-align: right;\">\n",
       "      <th></th>\n",
       "      <th>nu_0</th>\n",
       "      <th>T_0</th>\n",
       "      <th>nu_opt</th>\n",
       "      <th>T_opt</th>\n",
       "      <th>-logL</th>\n",
       "    </tr>\n",
       "  </thead>\n",
       "  <tbody>\n",
       "    <tr>\n",
       "      <th>8</th>\n",
       "      <td>19.306977</td>\n",
       "      <td>0.054772</td>\n",
       "      <td>0.128256</td>\n",
       "      <td>1.696268e-11</td>\n",
       "      <td>2172.825508</td>\n",
       "    </tr>\n",
       "    <tr>\n",
       "      <th>0</th>\n",
       "      <td>0.019307</td>\n",
       "      <td>0.054772</td>\n",
       "      <td>0.000414</td>\n",
       "      <td>1.836592e-14</td>\n",
       "      <td>2172.825511</td>\n",
       "    </tr>\n",
       "    <tr>\n",
       "      <th>9</th>\n",
       "      <td>0.002683</td>\n",
       "      <td>0.017451</td>\n",
       "      <td>0.251436</td>\n",
       "      <td>2.171300e-16</td>\n",
       "      <td>2172.825513</td>\n",
       "    </tr>\n",
       "    <tr>\n",
       "      <th>29</th>\n",
       "      <td>372.759372</td>\n",
       "      <td>0.001000</td>\n",
       "      <td>464.458004</td>\n",
       "      <td>2.495609e-26</td>\n",
       "      <td>2172.825513</td>\n",
       "    </tr>\n",
       "    <tr>\n",
       "      <th>15</th>\n",
       "      <td>372.759372</td>\n",
       "      <td>0.009851</td>\n",
       "      <td>0.173623</td>\n",
       "      <td>7.235922e-250</td>\n",
       "      <td>2172.825513</td>\n",
       "    </tr>\n",
       "    <tr>\n",
       "      <th>11</th>\n",
       "      <td>372.759372</td>\n",
       "      <td>0.054772</td>\n",
       "      <td>5.502193</td>\n",
       "      <td>1.729435e-42</td>\n",
       "      <td>2172.825513</td>\n",
       "    </tr>\n",
       "    <tr>\n",
       "      <th>19</th>\n",
       "      <td>51.794747</td>\n",
       "      <td>0.001000</td>\n",
       "      <td>44.557660</td>\n",
       "      <td>8.848950e-27</td>\n",
       "      <td>2172.825513</td>\n",
       "    </tr>\n",
       "    <tr>\n",
       "      <th>12</th>\n",
       "      <td>372.759372</td>\n",
       "      <td>0.001772</td>\n",
       "      <td>800.293504</td>\n",
       "      <td>7.899710e-45</td>\n",
       "      <td>2172.825513</td>\n",
       "    </tr>\n",
       "    <tr>\n",
       "      <th>27</th>\n",
       "      <td>1000.000000</td>\n",
       "      <td>0.097035</td>\n",
       "      <td>0.000208</td>\n",
       "      <td>2.578939e-167</td>\n",
       "      <td>2172.825513</td>\n",
       "    </tr>\n",
       "    <tr>\n",
       "      <th>2</th>\n",
       "      <td>372.759372</td>\n",
       "      <td>0.304550</td>\n",
       "      <td>0.011101</td>\n",
       "      <td>4.140565e-90</td>\n",
       "      <td>2172.825513</td>\n",
       "    </tr>\n",
       "    <tr>\n",
       "      <th>24</th>\n",
       "      <td>138.949549</td>\n",
       "      <td>0.003139</td>\n",
       "      <td>587.518594</td>\n",
       "      <td>2.816298e-81</td>\n",
       "      <td>2172.825513</td>\n",
       "    </tr>\n",
       "    <tr>\n",
       "      <th>20</th>\n",
       "      <td>1000.000000</td>\n",
       "      <td>0.005560</td>\n",
       "      <td>4166.700031</td>\n",
       "      <td>5.716341e-147</td>\n",
       "      <td>2172.825513</td>\n",
       "    </tr>\n",
       "    <tr>\n",
       "      <th>6</th>\n",
       "      <td>1000.000000</td>\n",
       "      <td>0.304550</td>\n",
       "      <td>5.288652</td>\n",
       "      <td>5.221123e-22</td>\n",
       "      <td>2172.825513</td>\n",
       "    </tr>\n",
       "    <tr>\n",
       "      <th>28</th>\n",
       "      <td>138.949549</td>\n",
       "      <td>0.054772</td>\n",
       "      <td>1.317160</td>\n",
       "      <td>3.153463e-23</td>\n",
       "      <td>2172.825513</td>\n",
       "    </tr>\n",
       "    <tr>\n",
       "      <th>26</th>\n",
       "      <td>51.794747</td>\n",
       "      <td>0.001772</td>\n",
       "      <td>16.394429</td>\n",
       "      <td>3.144920e-45</td>\n",
       "      <td>2172.825513</td>\n",
       "    </tr>\n",
       "    <tr>\n",
       "      <th>32</th>\n",
       "      <td>51.794747</td>\n",
       "      <td>0.003139</td>\n",
       "      <td>0.201023</td>\n",
       "      <td>1.671976e-78</td>\n",
       "      <td>2172.825513</td>\n",
       "    </tr>\n",
       "    <tr>\n",
       "      <th>3</th>\n",
       "      <td>1000.000000</td>\n",
       "      <td>0.001000</td>\n",
       "      <td>1101.456338</td>\n",
       "      <td>3.597574e-26</td>\n",
       "      <td>2172.825513</td>\n",
       "    </tr>\n",
       "    <tr>\n",
       "      <th>37</th>\n",
       "      <td>372.759372</td>\n",
       "      <td>0.005560</td>\n",
       "      <td>10.982719</td>\n",
       "      <td>1.598722e-134</td>\n",
       "      <td>2172.825513</td>\n",
       "    </tr>\n",
       "    <tr>\n",
       "      <th>14</th>\n",
       "      <td>51.794747</td>\n",
       "      <td>0.054772</td>\n",
       "      <td>0.258152</td>\n",
       "      <td>5.591688e-23</td>\n",
       "      <td>2172.825513</td>\n",
       "    </tr>\n",
       "    <tr>\n",
       "      <th>35</th>\n",
       "      <td>1000.000000</td>\n",
       "      <td>0.001772</td>\n",
       "      <td>1434.169287</td>\n",
       "      <td>2.452102e-44</td>\n",
       "      <td>2172.825513</td>\n",
       "    </tr>\n",
       "    <tr>\n",
       "      <th>21</th>\n",
       "      <td>1000.000000</td>\n",
       "      <td>0.009851</td>\n",
       "      <td>2.239396</td>\n",
       "      <td>2.730864e-247</td>\n",
       "      <td>2172.825513</td>\n",
       "    </tr>\n",
       "    <tr>\n",
       "      <th>23</th>\n",
       "      <td>7.196857</td>\n",
       "      <td>0.001000</td>\n",
       "      <td>0.000903</td>\n",
       "      <td>1.756598e-22</td>\n",
       "      <td>2172.825513</td>\n",
       "    </tr>\n",
       "    <tr>\n",
       "      <th>7</th>\n",
       "      <td>19.306977</td>\n",
       "      <td>0.001000</td>\n",
       "      <td>0.890039</td>\n",
       "      <td>1.126474e-25</td>\n",
       "      <td>2172.825513</td>\n",
       "    </tr>\n",
       "    <tr>\n",
       "      <th>17</th>\n",
       "      <td>1000.000000</td>\n",
       "      <td>0.054772</td>\n",
       "      <td>185.724066</td>\n",
       "      <td>4.748122e-48</td>\n",
       "      <td>2172.825513</td>\n",
       "    </tr>\n",
       "    <tr>\n",
       "      <th>31</th>\n",
       "      <td>2.682696</td>\n",
       "      <td>0.539540</td>\n",
       "      <td>0.818371</td>\n",
       "      <td>1.800095e-16</td>\n",
       "      <td>2172.825513</td>\n",
       "    </tr>\n",
       "    <tr>\n",
       "      <th>4</th>\n",
       "      <td>138.949549</td>\n",
       "      <td>0.005560</td>\n",
       "      <td>0.002930</td>\n",
       "      <td>6.616154e-123</td>\n",
       "      <td>2172.825513</td>\n",
       "    </tr>\n",
       "    <tr>\n",
       "      <th>16</th>\n",
       "      <td>372.759372</td>\n",
       "      <td>0.003139</td>\n",
       "      <td>3298.404694</td>\n",
       "      <td>2.987510e-80</td>\n",
       "      <td>2172.825513</td>\n",
       "    </tr>\n",
       "    <tr>\n",
       "      <th>33</th>\n",
       "      <td>1000.000000</td>\n",
       "      <td>0.003139</td>\n",
       "      <td>3287.727797</td>\n",
       "      <td>6.593761e-79</td>\n",
       "      <td>2172.825513</td>\n",
       "    </tr>\n",
       "    <tr>\n",
       "      <th>10</th>\n",
       "      <td>19.306977</td>\n",
       "      <td>0.001772</td>\n",
       "      <td>0.010550</td>\n",
       "      <td>5.523412e-42</td>\n",
       "      <td>2172.825513</td>\n",
       "    </tr>\n",
       "    <tr>\n",
       "      <th>1</th>\n",
       "      <td>1000.000000</td>\n",
       "      <td>0.017451</td>\n",
       "      <td>2270.811280</td>\n",
       "      <td>0.000000e+00</td>\n",
       "      <td>2172.825513</td>\n",
       "    </tr>\n",
       "    <tr>\n",
       "      <th>30</th>\n",
       "      <td>372.759372</td>\n",
       "      <td>0.017451</td>\n",
       "      <td>0.000130</td>\n",
       "      <td>0.000000e+00</td>\n",
       "      <td>2172.825513</td>\n",
       "    </tr>\n",
       "    <tr>\n",
       "      <th>36</th>\n",
       "      <td>138.949549</td>\n",
       "      <td>0.001000</td>\n",
       "      <td>197.675819</td>\n",
       "      <td>1.274404e-26</td>\n",
       "      <td>2172.825513</td>\n",
       "    </tr>\n",
       "    <tr>\n",
       "      <th>34</th>\n",
       "      <td>372.759372</td>\n",
       "      <td>0.955850</td>\n",
       "      <td>31.562279</td>\n",
       "      <td>3.981640e-18</td>\n",
       "      <td>2172.825513</td>\n",
       "    </tr>\n",
       "    <tr>\n",
       "      <th>18</th>\n",
       "      <td>138.949549</td>\n",
       "      <td>0.001772</td>\n",
       "      <td>364.301247</td>\n",
       "      <td>1.589003e-45</td>\n",
       "      <td>2172.825513</td>\n",
       "    </tr>\n",
       "    <tr>\n",
       "      <th>5</th>\n",
       "      <td>1000.000000</td>\n",
       "      <td>0.539540</td>\n",
       "      <td>467.824162</td>\n",
       "      <td>6.088343e-12</td>\n",
       "      <td>2172.825514</td>\n",
       "    </tr>\n",
       "    <tr>\n",
       "      <th>25</th>\n",
       "      <td>0.007197</td>\n",
       "      <td>0.001000</td>\n",
       "      <td>5.185180</td>\n",
       "      <td>1.161605e-10</td>\n",
       "      <td>2172.825518</td>\n",
       "    </tr>\n",
       "    <tr>\n",
       "      <th>13</th>\n",
       "      <td>0.001000</td>\n",
       "      <td>0.001000</td>\n",
       "      <td>25.319054</td>\n",
       "      <td>1.925494e-10</td>\n",
       "      <td>2172.825523</td>\n",
       "    </tr>\n",
       "    <tr>\n",
       "      <th>22</th>\n",
       "      <td>0.002683</td>\n",
       "      <td>0.001000</td>\n",
       "      <td>623.416783</td>\n",
       "      <td>1.973160e-10</td>\n",
       "      <td>2172.825523</td>\n",
       "    </tr>\n",
       "    <tr>\n",
       "      <th>38</th>\n",
       "      <td>0.007197</td>\n",
       "      <td>0.003139</td>\n",
       "      <td>97.762645</td>\n",
       "      <td>2.027253e-10</td>\n",
       "      <td>2172.825523</td>\n",
       "    </tr>\n",
       "  </tbody>\n",
       "</table>\n",
       "</div>"
      ],
      "text/plain": [
       "           nu_0       T_0       nu_opt          T_opt        -logL\n",
       "8     19.306977  0.054772     0.128256   1.696268e-11  2172.825508\n",
       "0      0.019307  0.054772     0.000414   1.836592e-14  2172.825511\n",
       "9      0.002683  0.017451     0.251436   2.171300e-16  2172.825513\n",
       "29   372.759372  0.001000   464.458004   2.495609e-26  2172.825513\n",
       "15   372.759372  0.009851     0.173623  7.235922e-250  2172.825513\n",
       "11   372.759372  0.054772     5.502193   1.729435e-42  2172.825513\n",
       "19    51.794747  0.001000    44.557660   8.848950e-27  2172.825513\n",
       "12   372.759372  0.001772   800.293504   7.899710e-45  2172.825513\n",
       "27  1000.000000  0.097035     0.000208  2.578939e-167  2172.825513\n",
       "2    372.759372  0.304550     0.011101   4.140565e-90  2172.825513\n",
       "24   138.949549  0.003139   587.518594   2.816298e-81  2172.825513\n",
       "20  1000.000000  0.005560  4166.700031  5.716341e-147  2172.825513\n",
       "6   1000.000000  0.304550     5.288652   5.221123e-22  2172.825513\n",
       "28   138.949549  0.054772     1.317160   3.153463e-23  2172.825513\n",
       "26    51.794747  0.001772    16.394429   3.144920e-45  2172.825513\n",
       "32    51.794747  0.003139     0.201023   1.671976e-78  2172.825513\n",
       "3   1000.000000  0.001000  1101.456338   3.597574e-26  2172.825513\n",
       "37   372.759372  0.005560    10.982719  1.598722e-134  2172.825513\n",
       "14    51.794747  0.054772     0.258152   5.591688e-23  2172.825513\n",
       "35  1000.000000  0.001772  1434.169287   2.452102e-44  2172.825513\n",
       "21  1000.000000  0.009851     2.239396  2.730864e-247  2172.825513\n",
       "23     7.196857  0.001000     0.000903   1.756598e-22  2172.825513\n",
       "7     19.306977  0.001000     0.890039   1.126474e-25  2172.825513\n",
       "17  1000.000000  0.054772   185.724066   4.748122e-48  2172.825513\n",
       "31     2.682696  0.539540     0.818371   1.800095e-16  2172.825513\n",
       "4    138.949549  0.005560     0.002930  6.616154e-123  2172.825513\n",
       "16   372.759372  0.003139  3298.404694   2.987510e-80  2172.825513\n",
       "33  1000.000000  0.003139  3287.727797   6.593761e-79  2172.825513\n",
       "10    19.306977  0.001772     0.010550   5.523412e-42  2172.825513\n",
       "1   1000.000000  0.017451  2270.811280   0.000000e+00  2172.825513\n",
       "30   372.759372  0.017451     0.000130   0.000000e+00  2172.825513\n",
       "36   138.949549  0.001000   197.675819   1.274404e-26  2172.825513\n",
       "34   372.759372  0.955850    31.562279   3.981640e-18  2172.825513\n",
       "18   138.949549  0.001772   364.301247   1.589003e-45  2172.825513\n",
       "5   1000.000000  0.539540   467.824162   6.088343e-12  2172.825514\n",
       "25     0.007197  0.001000     5.185180   1.161605e-10  2172.825518\n",
       "13     0.001000  0.001000    25.319054   1.925494e-10  2172.825523\n",
       "22     0.002683  0.001000   623.416783   1.973160e-10  2172.825523\n",
       "38     0.007197  0.003139    97.762645   2.027253e-10  2172.825523"
      ]
     },
     "execution_count": 59,
     "metadata": {},
     "output_type": "execute_result"
    }
   ],
   "source": [
    "i = 6 # where to find flag, 6 for BFGS, 4 for Nelder-Mead\n",
    "\n",
    "successfull_popt_ery = [flatten(out)[:5] for out in ar_ery if out[1][i] == 0]\n",
    "\n",
    "df = pd.DataFrame(data=successfull_popt_ery, \\\n",
    "                  columns=['nu_0', 'T_0', 'nu_opt', 'T_opt', '-logL'])\n",
    "\n",
    "df.sort_values(by='-logL', ascending=True) # smaller is better"
   ]
  },
  {
   "cell_type": "markdown",
   "metadata": {},
   "source": [
    "These results are completely inconclusive. I think it would make sense to limit the search space for $T$ to something well above 0 and start a few optimisations from parameter values close to a neutral model."
   ]
  },
  {
   "cell_type": "code",
   "execution_count": 61,
   "metadata": {
    "collapsed": true
   },
   "outputs": [],
   "source": [
    "%%px\n",
    "\n",
    "lower_bound = [1e-4, 1e-6]"
   ]
  },
  {
   "cell_type": "code",
   "execution_count": 63,
   "metadata": {
    "collapsed": false
   },
   "outputs": [
    {
     "data": {
      "text/plain": [
       "[0.0001, 1e-06]"
      ]
     },
     "execution_count": 63,
     "metadata": {},
     "output_type": "execute_result"
    }
   ],
   "source": [
    "cl[0]['lower_bound']"
   ]
  },
  {
   "cell_type": "code",
   "execution_count": 65,
   "metadata": {
    "collapsed": true
   },
   "outputs": [],
   "source": [
    "%%px\n",
    "\n",
    "# set up global variables on engines required for run_dadi function call\n",
    "\n",
    "dadi_opt_func = dadi.Inference.optimize_log # uses BFGS algorithm\n",
    "sfs = fs_ery # use ERY spectrum\n",
    "perturb = True\n",
    "fold = 1\n",
    "maxiter = 10 # run a maximum of 20 iterations\n",
    "verbose = 0\n",
    "full_output = True # need to have full output to get the warnflags (see below)\n",
    "outname = \"OUT_exp_growth_model/ERY_perturb\""
   ]
  },
  {
   "cell_type": "code",
   "execution_count": 66,
   "metadata": {
    "collapsed": true
   },
   "outputs": [],
   "source": [
    "p_init = [1, 1] # this should a neutral model, i. e. constant population size"
   ]
  },
  {
   "cell_type": "code",
   "execution_count": 67,
   "metadata": {
    "collapsed": true
   },
   "outputs": [],
   "source": [
    "from itertools import repeat\n",
    "\n",
    "ar_ery = lbview.map(run_dadi, repeat(p_init, 20), block=False, order=True)"
   ]
  },
  {
   "cell_type": "code",
   "execution_count": 69,
   "metadata": {
    "collapsed": false
   },
   "outputs": [
    {
     "data": {
      "text/plain": [
       "20"
      ]
     },
     "execution_count": 69,
     "metadata": {},
     "output_type": "execute_result"
    }
   ],
   "source": [
    "ar_ery.progress"
   ]
  },
  {
   "cell_type": "code",
   "execution_count": 70,
   "metadata": {
    "collapsed": false
   },
   "outputs": [
    {
     "name": "stdout",
     "output_type": "stream",
     "text": [
      "success 0\n",
      "Maximum number of iterations exceeded. 17\n",
      "Gradient and/or function calls not changing. 3\n",
      "unknown flag 0\n"
     ]
    }
   ],
   "source": [
    "get_flag_count(ar_ery, NM=False)"
   ]
  },
  {
   "cell_type": "markdown",
   "metadata": {},
   "source": [
    "None of these optimisations was able to converge on optimal parameter values."
   ]
  },
  {
   "cell_type": "code",
   "execution_count": 71,
   "metadata": {
    "collapsed": false
   },
   "outputs": [
    {
     "name": "stdout",
     "output_type": "stream",
     "text": [
      "-rw-rw-r-- 1 claudius 361 Apr 21 14:17 OUT_exp_growth_model/ERY_perturb_0.5108_0.5106.dill\r\n",
      "-rw-rw-r-- 1 claudius 361 Apr 21 14:17 OUT_exp_growth_model/ERY_perturb_0.5199_0.8991.dill\r\n",
      "-rw-rw-r-- 1 claudius 361 Apr 21 14:17 OUT_exp_growth_model/ERY_perturb_0.5283_1.dill\r\n",
      "-rw-rw-r-- 1 claudius 361 Apr 21 14:17 OUT_exp_growth_model/ERY_perturb_0.5481_0.5022.dill\r\n",
      "-rw-rw-r-- 1 claudius 361 Apr 21 14:17 OUT_exp_growth_model/ERY_perturb_0.5896_0.8951.dill\r\n",
      "-rw-rw-r-- 1 claudius 361 Apr 21 14:17 OUT_exp_growth_model/ERY_perturb_0.6680_0.8415.dill\r\n",
      "-rw-rw-r-- 1 claudius 361 Apr 21 14:17 OUT_exp_growth_model/ERY_perturb_0.7435_1.dill\r\n",
      "-rw-rw-r-- 1 claudius 361 Apr 21 14:17 OUT_exp_growth_model/ERY_perturb_0.7694_0.7215.dill\r\n",
      "-rw-rw-r-- 1 claudius 361 Apr 21 14:17 OUT_exp_growth_model/ERY_perturb_0.7983_0.6621.dill\r\n",
      "-rw-rw-r-- 1 claudius 361 Apr 21 14:17 OUT_exp_growth_model/ERY_perturb_0.9173_0.7006.dill\r\n",
      "-rw-rw-r-- 1 claudius 361 Apr 21 14:17 OUT_exp_growth_model/ERY_perturb_1_0.5042.dill\r\n",
      "-rw-rw-r-- 1 claudius 361 Apr 21 14:17 OUT_exp_growth_model/ERY_perturb_1_0.5347.dill\r\n",
      "-rw-rw-r-- 1 claudius 361 Apr 21 14:17 OUT_exp_growth_model/ERY_perturb_1_0.6220.dill\r\n",
      "-rw-rw-r-- 1 claudius 361 Apr 21 14:17 OUT_exp_growth_model/ERY_perturb_1_0.7615.dill\r\n",
      "-rw-rw-r-- 1 claudius 361 Apr 21 14:19 OUT_exp_growth_model/ERY_perturb_1_0.7701.dill\r\n",
      "-rw-rw-r-- 1 claudius 361 Apr 21 14:17 OUT_exp_growth_model/ERY_perturb_1_0.8507.dill\r\n",
      "-rw-rw-r-- 1 claudius 361 Apr 21 14:17 OUT_exp_growth_model/ERY_perturb_1_0.8604.dill\r\n",
      "-rw-rw-r-- 1 claudius 361 Apr 21 14:17 OUT_exp_growth_model/ERY_perturb_1_0.8653.dill\r\n",
      "-rw-rw-r-- 1 claudius 361 Apr 21 14:17 OUT_exp_growth_model/ERY_perturb_1_1.dill\r\n"
     ]
    }
   ],
   "source": [
    "%ll OUT_exp_growth_model/ERY_perturb*"
   ]
  },
  {
   "cell_type": "markdown",
   "metadata": {},
   "source": [
    "The perturbation has not been very effective."
   ]
  },
  {
   "cell_type": "code",
   "execution_count": 73,
   "metadata": {
    "collapsed": false
   },
   "outputs": [
    {
     "name": "stdout",
     "output_type": "stream",
     "text": [
      "19\r\n"
     ]
    }
   ],
   "source": [
    "! ls -l OUT_exp_growth_model/ERY_perturb* | wc -l"
   ]
  },
  {
   "cell_type": "markdown",
   "metadata": {},
   "source": [
    "Why are there only 19 output files? There should be 20! Two output filenames happened to be identical."
   ]
  },
  {
   "cell_type": "code",
   "execution_count": 72,
   "metadata": {
    "collapsed": true
   },
   "outputs": [],
   "source": [
    "%%px\n",
    "\n",
    "# use Nelder-Mead algorithm\n",
    "dadi_opt_func = dadi.Inference.optimize_log_fmin "
   ]
  },
  {
   "cell_type": "code",
   "execution_count": 74,
   "metadata": {
    "collapsed": true
   },
   "outputs": [],
   "source": [
    "! rm -f OUT_exp_growth_model/ERY_perturb*"
   ]
  },
  {
   "cell_type": "code",
   "execution_count": 75,
   "metadata": {
    "collapsed": false
   },
   "outputs": [
    {
     "name": "stdout",
     "output_type": "stream",
     "text": [
      "ls: cannot access OUT_exp_growth_model/ERY_perturb*: No such file or directory\r\n",
      "0\r\n"
     ]
    }
   ],
   "source": [
    "! ls -l OUT_exp_growth_model/ERY_perturb* | wc -l"
   ]
  },
  {
   "cell_type": "code",
   "execution_count": 76,
   "metadata": {
    "collapsed": true
   },
   "outputs": [],
   "source": [
    "ar_ery = lbview.map(run_dadi, repeat(p_init, 20), block=False, order=False)"
   ]
  },
  {
   "cell_type": "code",
   "execution_count": 78,
   "metadata": {
    "collapsed": false
   },
   "outputs": [
    {
     "data": {
      "text/plain": [
       "4.140403"
      ]
     },
     "execution_count": 78,
     "metadata": {},
     "output_type": "execute_result"
    }
   ],
   "source": [
    "ar_ery.elapsed"
   ]
  },
  {
   "cell_type": "code",
   "execution_count": 79,
   "metadata": {
    "collapsed": false
   },
   "outputs": [
    {
     "name": "stdout",
     "output_type": "stream",
     "text": [
      "success 0\n",
      "Maximum number of function evaluations made. 0\n",
      "Maximum number of iterations reached. 20\n",
      "unknown flag 0\n"
     ]
    }
   ],
   "source": [
    "get_flag_count(ar_ery, NM=True)"
   ]
  },
  {
   "cell_type": "code",
   "execution_count": 80,
   "metadata": {
    "collapsed": true
   },
   "outputs": [],
   "source": [
    "%%px\n",
    "\n",
    "# increase perturbation\n",
    "fold = 3"
   ]
  },
  {
   "cell_type": "code",
   "execution_count": 81,
   "metadata": {
    "collapsed": true
   },
   "outputs": [],
   "source": [
    "ar_ery = lbview.map(run_dadi, repeat(p_init, 20), block=False, order=False)"
   ]
  },
  {
   "cell_type": "code",
   "execution_count": 82,
   "metadata": {
    "collapsed": false
   },
   "outputs": [
    {
     "data": {
      "text/plain": [
       "20"
      ]
     },
     "execution_count": 82,
     "metadata": {},
     "output_type": "execute_result"
    }
   ],
   "source": [
    "ar_ery.progress"
   ]
  },
  {
   "cell_type": "code",
   "execution_count": 88,
   "metadata": {
    "collapsed": false
   },
   "outputs": [
    {
     "data": {
      "text/plain": [
       "12.570772"
      ]
     },
     "execution_count": 88,
     "metadata": {},
     "output_type": "execute_result"
    }
   ],
   "source": [
    "ar_ery.elapsed"
   ]
  },
  {
   "cell_type": "code",
   "execution_count": 83,
   "metadata": {
    "collapsed": false
   },
   "outputs": [
    {
     "name": "stdout",
     "output_type": "stream",
     "text": [
      "success 0\n",
      "Maximum number of function evaluations made. 0\n",
      "Maximum number of iterations reached. 20\n",
      "unknown flag 0\n"
     ]
    }
   ],
   "source": [
    "get_flag_count(ar_ery, NM=True)"
   ]
  },
  {
   "cell_type": "code",
   "execution_count": 85,
   "metadata": {
    "collapsed": true
   },
   "outputs": [],
   "source": [
    "! rm -f OUT_exp_growth_model/ERY_perturb*"
   ]
  },
  {
   "cell_type": "code",
   "execution_count": 87,
   "metadata": {
    "collapsed": true
   },
   "outputs": [],
   "source": [
    "%%px\n",
    "\n",
    "maxiter = 50"
   ]
  },
  {
   "cell_type": "code",
   "execution_count": 89,
   "metadata": {
    "collapsed": true
   },
   "outputs": [],
   "source": [
    "ar_ery = lbview.map(run_dadi, repeat(p_init, 20), block=False, order=False)"
   ]
  },
  {
   "cell_type": "code",
   "execution_count": 90,
   "metadata": {
    "collapsed": false
   },
   "outputs": [
    {
     "data": {
      "text/plain": [
       "19"
      ]
     },
     "execution_count": 90,
     "metadata": {},
     "output_type": "execute_result"
    }
   ],
   "source": [
    "ar_ery.progress"
   ]
  },
  {
   "cell_type": "code",
   "execution_count": 91,
   "metadata": {
    "collapsed": false
   },
   "outputs": [
    {
     "data": {
      "text/plain": [
       "68.315382"
      ]
     },
     "execution_count": 91,
     "metadata": {},
     "output_type": "execute_result"
    }
   ],
   "source": [
    "ar_ery.elapsed"
   ]
  },
  {
   "cell_type": "code",
   "execution_count": 92,
   "metadata": {
    "collapsed": false
   },
   "outputs": [
    {
     "name": "stdout",
     "output_type": "stream",
     "text": [
      "success 3\n",
      "Maximum number of function evaluations made. 0\n",
      "Maximum number of iterations reached. 17\n",
      "unknown flag 0\n"
     ]
    }
   ],
   "source": [
    "get_flag_count(ar_ery, NM=True)"
   ]
  },
  {
   "cell_type": "markdown",
   "metadata": {},
   "source": [
    "OK. Three successful optimisations."
   ]
  },
  {
   "cell_type": "code",
   "execution_count": 93,
   "metadata": {
    "collapsed": false
   },
   "outputs": [
    {
     "data": {
      "text/html": [
       "<div>\n",
       "<table border=\"1\" class=\"dataframe\">\n",
       "  <thead>\n",
       "    <tr style=\"text-align: right;\">\n",
       "      <th></th>\n",
       "      <th>nu_0</th>\n",
       "      <th>T_0</th>\n",
       "      <th>nu_opt</th>\n",
       "      <th>T_opt</th>\n",
       "      <th>-logL</th>\n",
       "    </tr>\n",
       "  </thead>\n",
       "  <tbody>\n",
       "    <tr>\n",
       "      <th>1</th>\n",
       "      <td>0.335609</td>\n",
       "      <td>0.129051</td>\n",
       "      <td>0.149290</td>\n",
       "      <td>0.007689</td>\n",
       "      <td>1833.629142</td>\n",
       "    </tr>\n",
       "    <tr>\n",
       "      <th>0</th>\n",
       "      <td>2.746970</td>\n",
       "      <td>0.232068</td>\n",
       "      <td>0.149292</td>\n",
       "      <td>0.007689</td>\n",
       "      <td>1833.629143</td>\n",
       "    </tr>\n",
       "    <tr>\n",
       "      <th>2</th>\n",
       "      <td>0.215795</td>\n",
       "      <td>3.681028</td>\n",
       "      <td>0.087589</td>\n",
       "      <td>3.807723</td>\n",
       "      <td>2158.944948</td>\n",
       "    </tr>\n",
       "  </tbody>\n",
       "</table>\n",
       "</div>"
      ],
      "text/plain": [
       "       nu_0       T_0    nu_opt     T_opt        -logL\n",
       "1  0.335609  0.129051  0.149290  0.007689  1833.629142\n",
       "0  2.746970  0.232068  0.149292  0.007689  1833.629143\n",
       "2  0.215795  3.681028  0.087589  3.807723  2158.944948"
      ]
     },
     "execution_count": 93,
     "metadata": {},
     "output_type": "execute_result"
    }
   ],
   "source": [
    "i = 4 # where to find flag, 6 for BFGS, 4 for Nelder-Mead\n",
    "\n",
    "successfull_popt_ery = [flatten(out)[:5] for out in ar_ery if out[1][i] == 0]\n",
    "\n",
    "df = pd.DataFrame(data=successfull_popt_ery, \\\n",
    "                  columns=['nu_0', 'T_0', 'nu_opt', 'T_opt', '-logL'])\n",
    "\n",
    "df.sort_values(by='-logL', ascending=True) # smaller is better"
   ]
  },
  {
   "cell_type": "markdown",
   "metadata": {},
   "source": [
    "OK, that looks promising. Two quite different parameter combinations have lead to the same optimal parameter combination."
   ]
  },
  {
   "cell_type": "code",
   "execution_count": 98,
   "metadata": {
    "collapsed": false
   },
   "outputs": [
    {
     "data": {
      "text/plain": [
       "array([ 0.14928979,  0.00768873])"
      ]
     },
     "execution_count": 98,
     "metadata": {},
     "output_type": "execute_result"
    }
   ],
   "source": [
    "p_init = np.array( df.sort_values(by='-logL').iloc[0, 2:4] )\n",
    "p_init"
   ]
  },
  {
   "cell_type": "code",
   "execution_count": 99,
   "metadata": {
    "collapsed": true
   },
   "outputs": [],
   "source": [
    "ar_ery = lbview.map(run_dadi, repeat(p_init, 20), block=False, order=False)"
   ]
  },
  {
   "cell_type": "code",
   "execution_count": 100,
   "metadata": {
    "collapsed": false
   },
   "outputs": [
    {
     "data": {
      "text/plain": [
       "3.86468"
      ]
     },
     "execution_count": 100,
     "metadata": {},
     "output_type": "execute_result"
    }
   ],
   "source": [
    "ar_ery.elapsed"
   ]
  },
  {
   "cell_type": "code",
   "execution_count": 101,
   "metadata": {
    "collapsed": false
   },
   "outputs": [
    {
     "name": "stdout",
     "output_type": "stream",
     "text": [
      "success 7\n",
      "Maximum number of function evaluations made. 0\n",
      "Maximum number of iterations reached. 13\n",
      "unknown flag 0\n"
     ]
    }
   ],
   "source": [
    "get_flag_count(ar_ery, NM=True)"
   ]
  },
  {
   "cell_type": "code",
   "execution_count": 102,
   "metadata": {
    "collapsed": false
   },
   "outputs": [
    {
     "data": {
      "text/html": [
       "<div>\n",
       "<table border=\"1\" class=\"dataframe\">\n",
       "  <thead>\n",
       "    <tr style=\"text-align: right;\">\n",
       "      <th></th>\n",
       "      <th>nu_0</th>\n",
       "      <th>T_0</th>\n",
       "      <th>nu_opt</th>\n",
       "      <th>T_opt</th>\n",
       "      <th>-logL</th>\n",
       "    </tr>\n",
       "  </thead>\n",
       "  <tbody>\n",
       "    <tr>\n",
       "      <th>2</th>\n",
       "      <td>0.188054</td>\n",
       "      <td>0.014369</td>\n",
       "      <td>0.149288</td>\n",
       "      <td>0.007689</td>\n",
       "      <td>1833.629142</td>\n",
       "    </tr>\n",
       "    <tr>\n",
       "      <th>5</th>\n",
       "      <td>0.425439</td>\n",
       "      <td>0.001858</td>\n",
       "      <td>0.149284</td>\n",
       "      <td>0.007688</td>\n",
       "      <td>1833.629142</td>\n",
       "    </tr>\n",
       "    <tr>\n",
       "      <th>3</th>\n",
       "      <td>0.156933</td>\n",
       "      <td>0.051248</td>\n",
       "      <td>0.149285</td>\n",
       "      <td>0.007689</td>\n",
       "      <td>1833.629142</td>\n",
       "    </tr>\n",
       "    <tr>\n",
       "      <th>0</th>\n",
       "      <td>0.050689</td>\n",
       "      <td>0.044124</td>\n",
       "      <td>0.149288</td>\n",
       "      <td>0.007689</td>\n",
       "      <td>1833.629142</td>\n",
       "    </tr>\n",
       "    <tr>\n",
       "      <th>4</th>\n",
       "      <td>0.429060</td>\n",
       "      <td>0.018280</td>\n",
       "      <td>0.149281</td>\n",
       "      <td>0.007689</td>\n",
       "      <td>1833.629142</td>\n",
       "    </tr>\n",
       "    <tr>\n",
       "      <th>1</th>\n",
       "      <td>0.744235</td>\n",
       "      <td>0.059513</td>\n",
       "      <td>0.149285</td>\n",
       "      <td>0.007688</td>\n",
       "      <td>1833.629143</td>\n",
       "    </tr>\n",
       "    <tr>\n",
       "      <th>6</th>\n",
       "      <td>0.287111</td>\n",
       "      <td>0.008040</td>\n",
       "      <td>0.149281</td>\n",
       "      <td>0.007688</td>\n",
       "      <td>1833.629143</td>\n",
       "    </tr>\n",
       "  </tbody>\n",
       "</table>\n",
       "</div>"
      ],
      "text/plain": [
       "       nu_0       T_0    nu_opt     T_opt        -logL\n",
       "2  0.188054  0.014369  0.149288  0.007689  1833.629142\n",
       "5  0.425439  0.001858  0.149284  0.007688  1833.629142\n",
       "3  0.156933  0.051248  0.149285  0.007689  1833.629142\n",
       "0  0.050689  0.044124  0.149288  0.007689  1833.629142\n",
       "4  0.429060  0.018280  0.149281  0.007689  1833.629142\n",
       "1  0.744235  0.059513  0.149285  0.007688  1833.629143\n",
       "6  0.287111  0.008040  0.149281  0.007688  1833.629143"
      ]
     },
     "execution_count": 102,
     "metadata": {},
     "output_type": "execute_result"
    }
   ],
   "source": [
    "i = 4 # where to find flag, 6 for BFGS, 4 for Nelder-Mead\n",
    "\n",
    "successfull_popt_ery = [flatten(out)[:5] for out in ar_ery if out[1][i] == 0]\n",
    "\n",
    "df = pd.DataFrame(data=successfull_popt_ery, \\\n",
    "                  columns=['nu_0', 'T_0', 'nu_opt', 'T_opt', '-logL'])\n",
    "\n",
    "df.sort_values(by='-logL', ascending=True) # smaller is better"
   ]
  },
  {
   "cell_type": "markdown",
   "metadata": {},
   "source": [
    "This looks like convergence."
   ]
  },
  {
   "cell_type": "code",
   "execution_count": 104,
   "metadata": {
    "collapsed": true
   },
   "outputs": [],
   "source": [
    "%%px\n",
    "\n",
    "maxiter = 100"
   ]
  },
  {
   "cell_type": "code",
   "execution_count": 105,
   "metadata": {
    "collapsed": true
   },
   "outputs": [],
   "source": [
    "ar_ery = lbview.map(run_dadi, repeat(p_init, 20), block=False, order=False)"
   ]
  },
  {
   "cell_type": "code",
   "execution_count": 107,
   "metadata": {
    "collapsed": false
   },
   "outputs": [
    {
     "data": {
      "text/plain": [
       "4.274642"
      ]
     },
     "execution_count": 107,
     "metadata": {},
     "output_type": "execute_result"
    }
   ],
   "source": [
    "ar_ery.elapsed"
   ]
  },
  {
   "cell_type": "markdown",
   "metadata": {},
   "source": [
    "This is still extremely fast!"
   ]
  },
  {
   "cell_type": "code",
   "execution_count": 106,
   "metadata": {
    "collapsed": false
   },
   "outputs": [
    {
     "name": "stdout",
     "output_type": "stream",
     "text": [
      "success 20\n",
      "Maximum number of function evaluations made. 0\n",
      "Maximum number of iterations reached. 0\n",
      "unknown flag 0\n"
     ]
    }
   ],
   "source": [
    "get_flag_count(ar_ery, NM=True)"
   ]
  },
  {
   "cell_type": "code",
   "execution_count": 108,
   "metadata": {
    "collapsed": false
   },
   "outputs": [
    {
     "data": {
      "text/html": [
       "<div>\n",
       "<table border=\"1\" class=\"dataframe\">\n",
       "  <thead>\n",
       "    <tr style=\"text-align: right;\">\n",
       "      <th></th>\n",
       "      <th>nu_0</th>\n",
       "      <th>T_0</th>\n",
       "      <th>nu_opt</th>\n",
       "      <th>T_opt</th>\n",
       "      <th>-logL</th>\n",
       "    </tr>\n",
       "  </thead>\n",
       "  <tbody>\n",
       "    <tr>\n",
       "      <th>17</th>\n",
       "      <td>0.780521</td>\n",
       "      <td>0.022607</td>\n",
       "      <td>0.149288</td>\n",
       "      <td>0.007689</td>\n",
       "      <td>1833.629142</td>\n",
       "    </tr>\n",
       "    <tr>\n",
       "      <th>5</th>\n",
       "      <td>0.808178</td>\n",
       "      <td>0.057064</td>\n",
       "      <td>0.149282</td>\n",
       "      <td>0.007688</td>\n",
       "      <td>1833.629142</td>\n",
       "    </tr>\n",
       "    <tr>\n",
       "      <th>14</th>\n",
       "      <td>0.071850</td>\n",
       "      <td>0.008328</td>\n",
       "      <td>0.149282</td>\n",
       "      <td>0.007689</td>\n",
       "      <td>1833.629142</td>\n",
       "    </tr>\n",
       "    <tr>\n",
       "      <th>16</th>\n",
       "      <td>0.752359</td>\n",
       "      <td>0.002897</td>\n",
       "      <td>0.149289</td>\n",
       "      <td>0.007689</td>\n",
       "      <td>1833.629142</td>\n",
       "    </tr>\n",
       "    <tr>\n",
       "      <th>15</th>\n",
       "      <td>0.406271</td>\n",
       "      <td>0.001194</td>\n",
       "      <td>0.149279</td>\n",
       "      <td>0.007688</td>\n",
       "      <td>1833.629143</td>\n",
       "    </tr>\n",
       "    <tr>\n",
       "      <th>13</th>\n",
       "      <td>0.187497</td>\n",
       "      <td>0.007036</td>\n",
       "      <td>0.149282</td>\n",
       "      <td>0.007688</td>\n",
       "      <td>1833.629143</td>\n",
       "    </tr>\n",
       "    <tr>\n",
       "      <th>7</th>\n",
       "      <td>0.340431</td>\n",
       "      <td>0.002261</td>\n",
       "      <td>0.149281</td>\n",
       "      <td>0.007688</td>\n",
       "      <td>1833.629143</td>\n",
       "    </tr>\n",
       "    <tr>\n",
       "      <th>4</th>\n",
       "      <td>0.688106</td>\n",
       "      <td>0.002398</td>\n",
       "      <td>0.149291</td>\n",
       "      <td>0.007689</td>\n",
       "      <td>1833.629143</td>\n",
       "    </tr>\n",
       "    <tr>\n",
       "      <th>11</th>\n",
       "      <td>0.206299</td>\n",
       "      <td>0.001830</td>\n",
       "      <td>0.149276</td>\n",
       "      <td>0.007688</td>\n",
       "      <td>1833.629143</td>\n",
       "    </tr>\n",
       "    <tr>\n",
       "      <th>8</th>\n",
       "      <td>0.027257</td>\n",
       "      <td>0.001609</td>\n",
       "      <td>0.000100</td>\n",
       "      <td>0.000002</td>\n",
       "      <td>1845.162845</td>\n",
       "    </tr>\n",
       "    <tr>\n",
       "      <th>19</th>\n",
       "      <td>0.031108</td>\n",
       "      <td>0.001273</td>\n",
       "      <td>0.000100</td>\n",
       "      <td>0.000002</td>\n",
       "      <td>1845.162845</td>\n",
       "    </tr>\n",
       "    <tr>\n",
       "      <th>1</th>\n",
       "      <td>0.119740</td>\n",
       "      <td>0.001195</td>\n",
       "      <td>0.000100</td>\n",
       "      <td>0.000002</td>\n",
       "      <td>1845.162846</td>\n",
       "    </tr>\n",
       "    <tr>\n",
       "      <th>6</th>\n",
       "      <td>0.020200</td>\n",
       "      <td>0.001229</td>\n",
       "      <td>0.000100</td>\n",
       "      <td>0.000002</td>\n",
       "      <td>1845.162846</td>\n",
       "    </tr>\n",
       "    <tr>\n",
       "      <th>10</th>\n",
       "      <td>0.065260</td>\n",
       "      <td>0.001312</td>\n",
       "      <td>0.000100</td>\n",
       "      <td>0.000002</td>\n",
       "      <td>1845.162846</td>\n",
       "    </tr>\n",
       "    <tr>\n",
       "      <th>18</th>\n",
       "      <td>0.052127</td>\n",
       "      <td>0.003564</td>\n",
       "      <td>0.000100</td>\n",
       "      <td>0.000002</td>\n",
       "      <td>1845.162846</td>\n",
       "    </tr>\n",
       "    <tr>\n",
       "      <th>9</th>\n",
       "      <td>0.020520</td>\n",
       "      <td>0.001354</td>\n",
       "      <td>0.000100</td>\n",
       "      <td>0.000002</td>\n",
       "      <td>1845.162846</td>\n",
       "    </tr>\n",
       "    <tr>\n",
       "      <th>12</th>\n",
       "      <td>0.030152</td>\n",
       "      <td>0.008015</td>\n",
       "      <td>0.000100</td>\n",
       "      <td>0.000002</td>\n",
       "      <td>1845.162846</td>\n",
       "    </tr>\n",
       "    <tr>\n",
       "      <th>0</th>\n",
       "      <td>0.027786</td>\n",
       "      <td>0.001974</td>\n",
       "      <td>0.000100</td>\n",
       "      <td>0.000002</td>\n",
       "      <td>1845.162846</td>\n",
       "    </tr>\n",
       "    <tr>\n",
       "      <th>3</th>\n",
       "      <td>0.070763</td>\n",
       "      <td>0.002464</td>\n",
       "      <td>0.000100</td>\n",
       "      <td>0.000002</td>\n",
       "      <td>1845.162847</td>\n",
       "    </tr>\n",
       "    <tr>\n",
       "      <th>2</th>\n",
       "      <td>0.156152</td>\n",
       "      <td>0.002152</td>\n",
       "      <td>0.000100</td>\n",
       "      <td>0.000002</td>\n",
       "      <td>1845.162981</td>\n",
       "    </tr>\n",
       "  </tbody>\n",
       "</table>\n",
       "</div>"
      ],
      "text/plain": [
       "        nu_0       T_0    nu_opt     T_opt        -logL\n",
       "17  0.780521  0.022607  0.149288  0.007689  1833.629142\n",
       "5   0.808178  0.057064  0.149282  0.007688  1833.629142\n",
       "14  0.071850  0.008328  0.149282  0.007689  1833.629142\n",
       "16  0.752359  0.002897  0.149289  0.007689  1833.629142\n",
       "15  0.406271  0.001194  0.149279  0.007688  1833.629143\n",
       "13  0.187497  0.007036  0.149282  0.007688  1833.629143\n",
       "7   0.340431  0.002261  0.149281  0.007688  1833.629143\n",
       "4   0.688106  0.002398  0.149291  0.007689  1833.629143\n",
       "11  0.206299  0.001830  0.149276  0.007688  1833.629143\n",
       "8   0.027257  0.001609  0.000100  0.000002  1845.162845\n",
       "19  0.031108  0.001273  0.000100  0.000002  1845.162845\n",
       "1   0.119740  0.001195  0.000100  0.000002  1845.162846\n",
       "6   0.020200  0.001229  0.000100  0.000002  1845.162846\n",
       "10  0.065260  0.001312  0.000100  0.000002  1845.162846\n",
       "18  0.052127  0.003564  0.000100  0.000002  1845.162846\n",
       "9   0.020520  0.001354  0.000100  0.000002  1845.162846\n",
       "12  0.030152  0.008015  0.000100  0.000002  1845.162846\n",
       "0   0.027786  0.001974  0.000100  0.000002  1845.162846\n",
       "3   0.070763  0.002464  0.000100  0.000002  1845.162847\n",
       "2   0.156152  0.002152  0.000100  0.000002  1845.162981"
      ]
     },
     "execution_count": 108,
     "metadata": {},
     "output_type": "execute_result"
    }
   ],
   "source": [
    "i = 4 # where to find flag, 6 for BFGS, 4 for Nelder-Mead\n",
    "\n",
    "successfull_popt_ery = [flatten(out)[:5] for out in ar_ery if out[1][i] == 0]\n",
    "\n",
    "df = pd.DataFrame(data=successfull_popt_ery, \\\n",
    "                  columns=['nu_0', 'T_0', 'nu_opt', 'T_opt', '-logL'])\n",
    "\n",
    "df.sort_values(by='-logL', ascending=True) # smaller is better"
   ]
  },
  {
   "cell_type": "code",
   "execution_count": 111,
   "metadata": {
    "collapsed": true
   },
   "outputs": [],
   "source": [
    "# safe optimisation result to file\n",
    "# dill can dump but not load an AsyncResult object\n",
    "\n",
    "dill.dump(list(ar_ery.get()), open(\"OUT_exp_growth_model/ERY_perturb_ar_ery.dill\", \"w\"))"
   ]
  },
  {
   "cell_type": "code",
   "execution_count": 114,
   "metadata": {
    "collapsed": false
   },
   "outputs": [
    {
     "name": "stdout",
     "output_type": "stream",
     "text": [
      "success 20\n",
      "Maximum number of function evaluations made. 0\n",
      "Maximum number of iterations reached. 0\n",
      "unknown flag 0\n"
     ]
    }
   ],
   "source": [
    "test = dill.load(open(\"OUT_exp_growth_model/ERY_perturb_ar_ery.dill\"))\n",
    "get_flag_count(test, NM=True)"
   ]
  },
  {
   "cell_type": "markdown",
   "metadata": {},
   "source": [
    "## Par"
   ]
  },
  {
   "cell_type": "markdown",
   "metadata": {},
   "source": [
    "Since starting optimisations from a broad range of initial values did not lead to useful results with the _ery_ spectrum, I am going to use the same strategy that led to a successful optimisation with _ery_: creating initial parameter values from a perturbation of parameters for a neutral model."
   ]
  },
  {
   "cell_type": "code",
   "execution_count": 117,
   "metadata": {
    "collapsed": true
   },
   "outputs": [],
   "source": [
    "%%px\n",
    "\n",
    "# set up global variables on engines required for run_dadi function call\n",
    "\n",
    "dadi_opt_func = dadi.Inference.optimize_log_fmin # uses Nelder-Mead algorithm\n",
    "sfs = fs_par # use PAR spectrum\n",
    "perturb = True\n",
    "fold = 3\n",
    "maxiter = 50 # run a maximum of 50 iterations\n",
    "verbose = 0\n",
    "full_output = True # need to have full output to get the warnflags (see below)\n",
    "outname = \"OUT_exp_growth_model/PAR_perturb\""
   ]
  },
  {
   "cell_type": "code",
   "execution_count": 118,
   "metadata": {
    "collapsed": true
   },
   "outputs": [],
   "source": [
    "p_init = [1, 1]"
   ]
  },
  {
   "cell_type": "code",
   "execution_count": 119,
   "metadata": {
    "collapsed": true
   },
   "outputs": [],
   "source": [
    "ar_par = lbview.map(run_dadi, repeat(p_init, 20), block=False, order=False)"
   ]
  },
  {
   "cell_type": "code",
   "execution_count": 126,
   "metadata": {
    "collapsed": false
   },
   "outputs": [
    {
     "data": {
      "text/plain": [
       "16.555042066666665"
      ]
     },
     "execution_count": 126,
     "metadata": {},
     "output_type": "execute_result"
    }
   ],
   "source": [
    "ar_par.elapsed/60"
   ]
  },
  {
   "cell_type": "code",
   "execution_count": 127,
   "metadata": {
    "collapsed": false
   },
   "outputs": [
    {
     "data": {
      "text/plain": [
       "18"
      ]
     },
     "execution_count": 127,
     "metadata": {},
     "output_type": "execute_result"
    }
   ],
   "source": [
    "ar_par.progress"
   ]
  },
  {
   "cell_type": "markdown",
   "metadata": {},
   "source": [
    "I needed to kill the last two processes in the terminal because they ran more than 15 minutes. I cannot use the AsyncResult object because of that and unstead need to load the pickled output from file."
   ]
  },
  {
   "cell_type": "code",
   "execution_count": 130,
   "metadata": {
    "collapsed": false
   },
   "outputs": [],
   "source": [
    "ar_par = []\n",
    "\n",
    "for filename in glob.glob('OUT_exp_growth_model/PAR_perturb*'):\n",
    "    ar_par.append( dill.load(open(filename)) )"
   ]
  },
  {
   "cell_type": "code",
   "execution_count": 131,
   "metadata": {
    "collapsed": false
   },
   "outputs": [
    {
     "name": "stdout",
     "output_type": "stream",
     "text": [
      "success 1\n",
      "Maximum number of function evaluations made. 0\n",
      "Maximum number of iterations reached. 17\n",
      "unknown flag 0\n"
     ]
    }
   ],
   "source": [
    "get_flag_count(ar_par, NM=True)"
   ]
  },
  {
   "cell_type": "markdown",
   "metadata": {},
   "source": [
    "Only 1 successful optimisation."
   ]
  },
  {
   "cell_type": "code",
   "execution_count": 132,
   "metadata": {
    "collapsed": false
   },
   "outputs": [
    {
     "data": {
      "text/html": [
       "<div>\n",
       "<table border=\"1\" class=\"dataframe\">\n",
       "  <thead>\n",
       "    <tr style=\"text-align: right;\">\n",
       "      <th></th>\n",
       "      <th>nu_0</th>\n",
       "      <th>T_0</th>\n",
       "      <th>nu_opt</th>\n",
       "      <th>T_opt</th>\n",
       "      <th>-logL</th>\n",
       "    </tr>\n",
       "  </thead>\n",
       "  <tbody>\n",
       "    <tr>\n",
       "      <th>0</th>\n",
       "      <td>3.082673</td>\n",
       "      <td>3.96</td>\n",
       "      <td>3.610206</td>\n",
       "      <td>3.999997</td>\n",
       "      <td>5829.879056</td>\n",
       "    </tr>\n",
       "  </tbody>\n",
       "</table>\n",
       "</div>"
      ],
      "text/plain": [
       "       nu_0   T_0    nu_opt     T_opt        -logL\n",
       "0  3.082673  3.96  3.610206  3.999997  5829.879056"
      ]
     },
     "execution_count": 132,
     "metadata": {},
     "output_type": "execute_result"
    }
   ],
   "source": [
    "i = 4 # where to find flag, 6 for BFGS, 4 for Nelder-Mead\n",
    "\n",
    "successfull_popt_par = [flatten(out)[:5] for out in ar_par if out[1][i] == 0]\n",
    "\n",
    "df = pd.DataFrame(data=successfull_popt_par, \\\n",
    "                  columns=['nu_0', 'T_0', 'nu_opt', 'T_opt', '-logL'])\n",
    "\n",
    "df.sort_values(by='-logL', ascending=True) # smaller is better"
   ]
  },
  {
   "cell_type": "markdown",
   "metadata": {},
   "source": [
    "That is hitting the upper limit for the time parameter."
   ]
  },
  {
   "cell_type": "markdown",
   "metadata": {},
   "source": [
    "Maybe a sweep through the parameter space could help to find an optimum."
   ]
  },
  {
   "cell_type": "code",
   "execution_count": 157,
   "metadata": {
    "collapsed": true
   },
   "outputs": [],
   "source": [
    "%%px\n",
    "\n",
    "# set up global variables on engines required for run_dadi function call\n",
    "\n",
    "dadi_opt_func = dadi.Inference.optimize_log # uses BFGS algorithm\n",
    "sfs = fs_par # use PAR spectrum\n",
    "perturb = False\n",
    "fold = 3\n",
    "maxiter = 10 # run a maximum of 10 iterations\n",
    "verbose = 0\n",
    "full_output = True # need to have full output to get the warnflags (see below)\n",
    "outname = \"OUT_exp_growth_model/PAR\""
   ]
  },
  {
   "cell_type": "code",
   "execution_count": 135,
   "metadata": {
    "collapsed": true
   },
   "outputs": [],
   "source": [
    "ar_par = lbview.map(run_dadi, product(p0_nu, p0_T), block=False, order=False)"
   ]
  },
  {
   "cell_type": "code",
   "execution_count": 143,
   "metadata": {
    "collapsed": false
   },
   "outputs": [
    {
     "data": {
      "text/plain": [
       "42"
      ]
     },
     "execution_count": 143,
     "metadata": {},
     "output_type": "execute_result"
    }
   ],
   "source": [
    "ar_par.progress"
   ]
  },
  {
   "cell_type": "code",
   "execution_count": 144,
   "metadata": {
    "collapsed": false
   },
   "outputs": [
    {
     "data": {
      "text/plain": [
       "39.3244306"
      ]
     },
     "execution_count": 144,
     "metadata": {},
     "output_type": "execute_result"
    }
   ],
   "source": [
    "ar_par.elapsed/60"
   ]
  },
  {
   "cell_type": "markdown",
   "metadata": {},
   "source": [
    "Unfortunately, this is too slow. I need to abort this by stopping the cluster of engines."
   ]
  },
  {
   "cell_type": "code",
   "execution_count": 19,
   "metadata": {
    "collapsed": true
   },
   "outputs": [],
   "source": [
    "import glob, dill"
   ]
  },
  {
   "cell_type": "code",
   "execution_count": 25,
   "metadata": {
    "collapsed": false
   },
   "outputs": [],
   "source": [
    "ar_par = []\n",
    "\n",
    "for filename in glob.glob('OUT_exp_growth_model/PAR_[0123456789]*'):\n",
    "    try:\n",
    "        ar_par.append( dill.load( open(filename) ) )\n",
    "    except:\n",
    "        pass"
   ]
  },
  {
   "cell_type": "code",
   "execution_count": 26,
   "metadata": {
    "collapsed": false
   },
   "outputs": [
    {
     "name": "stdout",
     "output_type": "stream",
     "text": [
      "success 0\n",
      "Maximum number of iterations exceeded. 6\n",
      "Gradient and/or function calls not changing. 36\n",
      "unknown flag 0\n"
     ]
    }
   ],
   "source": [
    "get_flag_count(ar_par, NM=False)"
   ]
  },
  {
   "cell_type": "markdown",
   "metadata": {},
   "source": [
    "After restarting the cluster, it is important to be EXTREMELY careful to load all required variables and modules on all engines again."
   ]
  },
  {
   "cell_type": "markdown",
   "metadata": {},
   "source": [
    "### restart"
   ]
  },
  {
   "cell_type": "code",
   "execution_count": 2,
   "metadata": {
    "collapsed": false
   },
   "outputs": [
    {
     "name": "stdout",
     "output_type": "stream",
     "text": [
      "Interactive namespace is empty.\n"
     ]
    }
   ],
   "source": [
    "%who"
   ]
  },
  {
   "cell_type": "code",
   "execution_count": 27,
   "metadata": {
    "collapsed": true
   },
   "outputs": [],
   "source": [
    "! rm -f OUT_exp_growth_model/PAR_[0123456789]*"
   ]
  },
  {
   "cell_type": "code",
   "execution_count": 28,
   "metadata": {
    "collapsed": false
   },
   "outputs": [
    {
     "data": {
      "text/plain": [
       "[2, 4, 5, 6, 7, 8, 9, 11, 12, 13, 14, 15, 16, 17, 18, 19]"
      ]
     },
     "execution_count": 28,
     "metadata": {},
     "output_type": "execute_result"
    }
   ],
   "source": [
    "from ipyparallel import Client\n",
    "\n",
    "cl = Client()\n",
    "\n",
    "cl.ids"
   ]
  },
  {
   "cell_type": "code",
   "execution_count": 29,
   "metadata": {
    "collapsed": true
   },
   "outputs": [],
   "source": [
    "%%px --local\n",
    "\n",
    "# run whole cell on all engines a well as in the local IPython session\n",
    "\n",
    "import numpy as np\n",
    "\n",
    "import sys\n",
    "\n",
    "sys.path.insert(0, '/home/claudius/Downloads/dadi')\n",
    "\n",
    "import dadi"
   ]
  },
  {
   "cell_type": "code",
   "execution_count": 30,
   "metadata": {
    "collapsed": true
   },
   "outputs": [],
   "source": [
    "%%px --local\n",
    "\n",
    "# import 1D spectrum of ery on all engines:\n",
    "fs_ery = dadi.Spectrum.from_file('ERY.unfolded.sfs').fold()\n",
    "\n",
    "# import 1D spectrum of ery on all engines:\n",
    "fs_par = dadi.Spectrum.from_file('PAR.unfolded.sfs').fold()"
   ]
  },
  {
   "cell_type": "code",
   "execution_count": 31,
   "metadata": {
    "collapsed": true
   },
   "outputs": [],
   "source": [
    "%%px --local\n",
    "\n",
    "ns = fs_ery.sample_sizes # both populations have the same sample size\n",
    "\n",
    "fs_ery.pop_ids = ['ery']\n",
    "fs_par.pop_ids = ['par']\n",
    "\n",
    "# setting the smallest grid size slightly larger than the largest population sample size (36)\n",
    "pts_l = [40, 50, 60]"
   ]
  },
  {
   "cell_type": "code",
   "execution_count": 32,
   "metadata": {
    "collapsed": true
   },
   "outputs": [],
   "source": [
    "%%px --local\n",
    "\n",
    "# create link to function that specifies the model\n",
    "func = dadi.Demographics1D.growth\n",
    "\n",
    "# create extrapolating version of the model function\n",
    "func_ex = dadi.Numerics.make_extrap_log_func(func)"
   ]
  },
  {
   "cell_type": "code",
   "execution_count": 33,
   "metadata": {
    "collapsed": true
   },
   "outputs": [],
   "source": [
    "# create load balanced view of engines\n",
    "\n",
    "lbview = cl.load_balanced_view()"
   ]
  },
  {
   "cell_type": "code",
   "execution_count": 34,
   "metadata": {
    "collapsed": true
   },
   "outputs": [],
   "source": [
    "%%px --local\n",
    "\n",
    "import dill # better version of pickle"
   ]
  },
  {
   "cell_type": "code",
   "execution_count": 35,
   "metadata": {
    "collapsed": true
   },
   "outputs": [],
   "source": [
    "from itertools import product"
   ]
  },
  {
   "cell_type": "code",
   "execution_count": 36,
   "metadata": {
    "collapsed": true
   },
   "outputs": [],
   "source": [
    "def run_dadi(p_init): # for the function to be called with map, it needs to have one input variable\n",
    "    \"\"\"\n",
    "    p_init: initial parameter values to run optimisation from\n",
    "    \"\"\"\n",
    "    if perturb == True:\n",
    "        p_init = dadi.Misc.perturb_params(p_init, fold=fold, \n",
    "                                      upper_bound=upper_bound, lower_bound=lower_bound)\n",
    "        # note upper_bound and lower_bound variables are expected to be in the namespace of each engine\n",
    "    # run optimisation of paramters\n",
    "    popt = dadi_opt_func(p0=p_init, data=sfs, model_func=func_ex, pts=pts_l, \\\n",
    "                                   lower_bound=lower_bound, upper_bound=upper_bound, \\\n",
    "                                   verbose=verbose, maxiter=maxiter, full_output=full_output)\n",
    "    import dill\n",
    "    # pickle to file\n",
    "    name = outname[:] # make copy of file name stub!\n",
    "    for p in p_init:\n",
    "        name += \"_%.4f\" % (p)\n",
    "    with open(name + \".dill\", \"w\") as fh:\n",
    "        dill.dump((p_init, popt), fh)\n",
    "    \n",
    "    return p_init, popt"
   ]
  },
  {
   "cell_type": "code",
   "execution_count": 37,
   "metadata": {
    "collapsed": true
   },
   "outputs": [],
   "source": [
    "%%px\n",
    "\n",
    "# set lower and upper bounds to nu and T\n",
    "upper_bound = [1e4, 4]\n",
    "lower_bound = [1e-4, 1e-6]"
   ]
  },
  {
   "cell_type": "markdown",
   "metadata": {},
   "source": [
    "I am trying to reduce the initial parameter sweep."
   ]
  },
  {
   "cell_type": "code",
   "execution_count": 38,
   "metadata": {
    "collapsed": true
   },
   "outputs": [],
   "source": [
    "p0_nu = np.logspace(-2, 2, base=10.0, num=10)\n",
    "p0_T = np.logspace(-2, np.log10(2), base=10, num=10)"
   ]
  },
  {
   "cell_type": "code",
   "execution_count": 40,
   "metadata": {
    "collapsed": true
   },
   "outputs": [],
   "source": [
    "%%px\n",
    "\n",
    "# set up global variables on engines required for run_dadi function call\n",
    "\n",
    "dadi_opt_func = dadi.Inference.optimize_log # uses BFGS algorithm\n",
    "sfs = fs_par # use PAR spectrum\n",
    "perturb = False\n",
    "fold = 3\n",
    "maxiter = 10 # run a maximum of 10 iterations\n",
    "verbose = 0\n",
    "full_output = True # need to have full output to get the warnflags (see below)\n",
    "outname = \"OUT_exp_growth_model/PAR\""
   ]
  },
  {
   "cell_type": "code",
   "execution_count": 41,
   "metadata": {
    "collapsed": true
   },
   "outputs": [],
   "source": [
    "ar_par = lbview.map(run_dadi, product(p0_nu, p0_T), block=False, order=False)"
   ]
  },
  {
   "cell_type": "code",
   "execution_count": 51,
   "metadata": {
    "collapsed": true
   },
   "outputs": [],
   "source": [
    "def get_flag_count(out, NM=True):\n",
    "    \"\"\"\n",
    "    out: list of tuples, each containing p_init and popt + additional info, including warnflags\n",
    "    as produced by run_dadi.py\n",
    "    \"\"\"\n",
    "    from collections import defaultdict\n",
    "    \n",
    "    if NM: # if ar from Nelder-Mead\n",
    "        i = 4 # the warnflag is reported at index position 4 in the output array\n",
    "    else: # ar from BFGS optimisation\n",
    "        i = 6\n",
    "    \n",
    "    warnflag = defaultdict(int)\n",
    "\n",
    "    for res in out:\n",
    "        if res[1][i] == 1: # notice the change in indexing\n",
    "            warnflag[1] +=1\n",
    "        elif res[1][i] == 2:\n",
    "            warnflag[2] += 1\n",
    "        elif res[1][i] == 0:\n",
    "            warnflag[0] += 1\n",
    "        else:\n",
    "            warnflag[999] +=1\n",
    "    if NM:\n",
    "        print \"success\", warnflag[0]\n",
    "        print \"Maximum number of function evaluations made.\", warnflag[1]\n",
    "        print \"Maximum number of iterations reached.\", warnflag[2]\n",
    "        print \"unknown flag\", warnflag[999]\n",
    "    else:\n",
    "        print \"success\", warnflag[0]\n",
    "        print \"Maximum number of iterations exceeded.\", warnflag[1]\n",
    "        print \"Gradient and/or function calls not changing.\", warnflag[2]\n",
    "        print \"unknown flag\", warnflag[999]"
   ]
  },
  {
   "cell_type": "code",
   "execution_count": 67,
   "metadata": {
    "collapsed": true
   },
   "outputs": [],
   "source": [
    "ar_par = []\n",
    "\n",
    "for filename in glob.glob('OUT_exp_growth_model/PAR_[0123456789]*'):\n",
    "    try:\n",
    "        ar_par.append( dill.load( open(filename) ) )\n",
    "    except:\n",
    "        pass"
   ]
  },
  {
   "cell_type": "code",
   "execution_count": 68,
   "metadata": {
    "collapsed": false
   },
   "outputs": [
    {
     "name": "stdout",
     "output_type": "stream",
     "text": [
      "success 0\n",
      "Maximum number of iterations exceeded. 27\n",
      "Gradient and/or function calls not changing. 73\n",
      "unknown flag 0\n"
     ]
    }
   ],
   "source": [
    "get_flag_count(ar_par, NM=False)"
   ]
  },
  {
   "cell_type": "markdown",
   "metadata": {},
   "source": [
    "Ok, the reduced sweep through the parameter space was not successful for the _parallelus_ spectrum. The exponential growth/decline model could not be fit to the _par_ spectrum."
   ]
  },
  {
   "cell_type": "code",
   "execution_count": null,
   "metadata": {
    "collapsed": true
   },
   "outputs": [],
   "source": []
  }
 ],
 "metadata": {
  "anaconda-cloud": {},
  "kernelspec": {
   "display_name": "Python [default]",
   "language": "python",
   "name": "python2"
  },
  "language_info": {
   "codemirror_mode": {
    "name": "ipython",
    "version": 2
   },
   "file_extension": ".py",
   "mimetype": "text/x-python",
   "name": "python",
   "nbconvert_exporter": "python",
   "pygments_lexer": "ipython2",
   "version": "2.7.12"
  },
  "toc": {
   "colors": {
    "hover_highlight": "#DAA520",
    "running_highlight": "#FF0000",
    "selected_highlight": "#FFD700"
   },
   "moveMenuLeft": true,
   "nav_menu": {
    "height": "49px",
    "width": "252px"
   },
   "navigate_menu": true,
   "number_sections": false,
   "sideBar": true,
   "threshold": 4,
   "toc_cell": true,
   "toc_position": {
    "height": "625px",
    "left": "0px",
    "right": "1065px",
    "top": "107px",
    "width": "255px"
   },
   "toc_section_display": "block",
   "toc_window_display": true
  }
 },
 "nbformat": 4,
 "nbformat_minor": 0
}
